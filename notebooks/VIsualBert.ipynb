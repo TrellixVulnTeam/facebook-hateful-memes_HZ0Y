{
 "cells": [
  {
   "cell_type": "markdown",
   "metadata": {},
   "source": [
    "# Imports"
   ]
  },
  {
   "cell_type": "code",
   "execution_count": null,
   "metadata": {
    "ExecuteTime": {
     "end_time": "2020-07-10T13:32:23.405262Z",
     "start_time": "2020-07-10T13:32:20.239784Z"
    }
   },
   "outputs": [],
   "source": [
    "\n",
    "\n",
    "\n",
    "import pandas as pd\n",
    "import numpy as np\n",
    "import jsonlines\n",
    "import seaborn as sns\n",
    "%matplotlib inline\n",
    "%config InlineBackend.figure_format = 'retina'\n",
    "import torch.nn as nn\n",
    "import torch\n",
    "import torch.nn.functional as F\n",
    "from torch.utils.data import Dataset, DataLoader\n",
    "from torchvision import transforms, utils\n",
    "import torch_optimizer as optim\n",
    "\n",
    "\n",
    "from IPython.core.interactiveshell import InteractiveShell\n",
    "InteractiveShell.ast_node_interactivity = \"all\"\n",
    "from importlib import reload\n",
    "pd.set_option('display.max_rows', 500)\n",
    "pd.set_option('display.float_format', '{:0.3f}'.format)\n",
    "pd.set_option('display.max_columns', 500)\n",
    "pd.set_option('display.width', 1000)\n",
    "pd.options.display.width = 0\n",
    "import warnings\n",
    "import torchvision\n",
    "warnings.filterwarnings('ignore')\n",
    "\n",
    "from facebook_hateful_memes_detector.utils.globals import set_global, get_global\n",
    "set_global(\"cache_dir\", \"/home/ahemf/cache/cache\")\n",
    "set_global(\"dataloader_workers\", 4)\n",
    "\n",
    "from facebook_hateful_memes_detector.utils import read_json_lines_into_df, in_notebook, set_device\n",
    "get_global(\"cache_dir\")\n",
    "from facebook_hateful_memes_detector.models import Fasttext1DCNNModel, MultiImageMultiTextAttentionEarlyFusionModel\n",
    "from facebook_hateful_memes_detector.preprocessing import TextImageDataset, my_collate, get_datasets, get_image2torchvision_transforms, TextAugment\n",
    "from facebook_hateful_memes_detector.preprocessing import DefinedRotation, QuadrantCut, ImageAugment, DefinedAffine, DefinedColorJitter, DefinedRandomPerspective\n",
    "from facebook_hateful_memes_detector.training import *\n",
    "import facebook_hateful_memes_detector\n",
    "reload(facebook_hateful_memes_detector)\n",
    "\n",
    "device = torch.device(\"cuda\" if torch.cuda.is_available() else \"cpu\")\n",
    "set_device(device)\n"
   ]
  },
  {
   "cell_type": "code",
   "execution_count": null,
   "metadata": {
    "ExecuteTime": {
     "end_time": "2020-07-10T13:32:30.990262Z",
     "start_time": "2020-07-10T13:32:30.864916Z"
    }
   },
   "outputs": [],
   "source": [
    "\n",
    "\n",
    "choice_probas = {\"keyboard\": 0.1, \"char_substitute\": 0.0, \"char_insert\": 0.1, \"char_swap\": 0.0, \"ocr\": 0.0, \"char_delete\": 0.1,\n",
    "                 \"fasttext\": 0.0, \"glove_twitter\": 0.0, \"glove_wiki\": 0.0, \"word2vec\": 0.0, \"split\": 0.1,\n",
    "                 \"stopword_insert\": 0.3, \"word_join\": 0.1, \"word_cutout\": 0.8,\n",
    "                 \"text_rotate\": 0.5, \"sentence_shuffle\": 0.5, \"one_third_cut\": 0.4, \"half_cut\":0.1}\n",
    "preprocess_text = TextAugment([0.0, 0.1, 0.05, 0.35, 0.3, 0.2], choice_probas, fasttext_file=\"wiki-news-300d-1M-subword.bin\")\n",
    "\n",
    "im_transform = ImageAugment(count_proba=[0.1, 0.9], \n",
    "                            augs_dict=dict(grayscale=transforms.Grayscale(num_output_channels=3), \n",
    "                                           hflip=transforms.RandomHorizontalFlip(p=1.0),\n",
    "                                           rc2=transforms.Compose([transforms.Resize(480), transforms.CenterCrop(400)]),\n",
    "                                           rotate=DefinedRotation(15), \n",
    "                                           # qcut=QuadrantCut(),\n",
    "                                           affine=DefinedAffine(0, scale=(0.6, 0.6)),\n",
    "                                          ),\n",
    "                            choice_probas=\"uniform\"\n",
    "                           )\n",
    "\n",
    "\n",
    "# im_transform = ImageAugment(count_proba=[0.2, 0.8], \n",
    "#                             augs_dict=dict(grayscale=transforms.Grayscale(num_output_channels=3), \n",
    "#                                            hflip=transforms.RandomHorizontalFlip(p=1.0),\n",
    "#                                            rc1=transforms.Compose([transforms.Resize(256), transforms.CenterCrop(224)]),\n",
    "#                                            rc2=transforms.Compose([transforms.Resize(480), transforms.CenterCrop(400)]),\n",
    "#                                            rotate=DefinedRotation(15), \n",
    "#                                            qcut=QuadrantCut(),\n",
    "#                                            affine=DefinedAffine(0, translate=(0.2, 0.2), scale=(0.6, 0.8), shear=(10, 10)),\n",
    "#                                            jitter=DefinedColorJitter(brightness=0.1, contrast=0.1, saturation=0.1, hue=0.1),\n",
    "#                                            perspective=DefinedRandomPerspective(0.2)\n",
    "#                                           ),\n",
    "#                             choice_probas=\"uniform\"\n",
    "#                            )\n",
    "\n",
    "# im_transform = transforms.RandomChoice([transforms.Grayscale(num_output_channels=3), \n",
    "#                                         transforms.RandomHorizontalFlip(p=1.0),\n",
    "#                                         lambda x: x,\n",
    "#                                         transforms.Compose([transforms.Resize(256), transforms.CenterCrop(224)]),\n",
    "#                                         transforms.Compose([transforms.Resize(480), transforms.CenterCrop(400)]),\n",
    "#                                         transforms.Compose([transforms.Resize(640), transforms.CenterCrop(520)]),\n",
    "#                                         DefinedRotation(15), QuadrantCut(), \n",
    "#                                         DefinedAffine(0, translate=(0.2, 0.2), scale=(0.6, 0.8), shear=(5, 5)),\n",
    "#                                         DefinedColorJitter(brightness=0.1, contrast=0.1, saturation=0.1, hue=0.1),\n",
    "#                                         DefinedRandomPerspective(0.2)])\n",
    "\n",
    "data = get_datasets(data_dir=\"../data/\", train_text_transform=preprocess_text, train_image_transform=im_transform, \n",
    "                    test_text_transform=None, test_image_transform=None, \n",
    "                    cache_images = True, use_images = True, dev=False, \n",
    "                    keep_original_text=False, keep_original_image=False, \n",
    "                    keep_processed_image=True, keep_torchvision_image=False,)\n",
    "\n",
    "# ImageAugment([0.2, 0.5, 0.3])\n"
   ]
  },
  {
   "cell_type": "code",
   "execution_count": null,
   "metadata": {
    "ExecuteTime": {
     "end_time": "2020-07-10T13:32:31.694610Z",
     "start_time": "2020-07-10T13:32:31.684854Z"
    }
   },
   "outputs": [],
   "source": [
    "sgd = torch.optim.SGD\n",
    "sgd_params = dict(lr=2e-2,\n",
    "                  momentum=0.9,\n",
    "                  dampening=0,\n",
    "                  weight_decay=0,\n",
    "                  nesterov=False)\n",
    "\n",
    "rangerQH = optim.RangerQH\n",
    "rangerQHparams = dict(\n",
    "    lr=1e-3,\n",
    "    betas=(0.9, 0.999),\n",
    "    nus=(.7, 1.0),\n",
    "    weight_decay=0.0,\n",
    "    k=6,\n",
    "    alpha=.5,\n",
    "    decouple_weight_decay=True,\n",
    "    eps=1e-8,\n",
    ")\n",
    "\n",
    "adam = torch.optim.Adam\n",
    "adam_params = params = dict(lr=1e-3, weight_decay=1e-7)\n",
    "\n",
    "adamw = torch.optim.AdamW\n",
    "adamw_params = dict(lr=1e-4, betas=(0.9, 0.999), eps=1e-08, weight_decay=1e-2)\n",
    "\n",
    "novograd = optim.NovoGrad\n",
    "novograd_params = dict(\n",
    "    lr=1e-3,\n",
    "    betas=(0.9, 0.999),\n",
    "    eps=1e-8,\n",
    "    weight_decay=0,\n",
    "    grad_averaging=False,\n",
    "    amsgrad=False,\n",
    ")\n",
    "\n",
    "qhadam = optim.QHAdam\n",
    "qhadam_params = dict(\n",
    "    lr=1e-3,\n",
    "    betas=(0.9, 0.999),\n",
    "    nus=(1.0, 1.0),\n",
    "    weight_decay=0,\n",
    "    decouple_weight_decay=False,\n",
    "    eps=1e-8,\n",
    ")\n",
    "\n",
    "radam = optim.RAdam\n",
    "radam_params = dict(\n",
    "    lr=1e-3,\n",
    "    betas=(0.9, 0.999),\n",
    "    eps=1e-8,\n",
    "    weight_decay=0,\n",
    ")\n",
    "\n",
    "yogi = optim.Yogi\n",
    "yogi_params = dict(lr=1e-2,\n",
    "                   betas=(0.9, 0.999),\n",
    "                   eps=1e-3,\n",
    "                   initial_accumulator=1e-6,\n",
    "                   weight_decay=0)"
   ]
  },
  {
   "cell_type": "code",
   "execution_count": null,
   "metadata": {
    "ExecuteTime": {
     "end_time": "2020-07-10T13:32:35.739070Z",
     "start_time": "2020-07-10T13:32:35.734983Z"
    }
   },
   "outputs": [],
   "source": [
    "batch_size=96\n",
    "epochs = 10\n",
    "optimizer = adam\n",
    "optimizer_params = adam_params\n",
    "\n",
    "scheduler_init_fn = get_multistep_lr([5, 7, 10, 17], gamma=0.1) # get_cosine_schedule_with_warmup # get_cosine_with_hard_restarts_schedule_with_warmup\n",
    "scheduler_init_fn = get_cosine_schedule_with_warmup()\n",
    "reg_sched = get_regularizer_scheduler()\n",
    "\n",
    "\n"
   ]
  },
  {
   "cell_type": "markdown",
   "metadata": {},
   "source": [
    "# Single Models"
   ]
  },
  {
   "cell_type": "markdown",
   "metadata": {},
   "source": [
    "## LXMERT"
   ]
  },
  {
   "cell_type": "code",
   "execution_count": null,
   "metadata": {
    "ExecuteTime": {
     "end_time": "2020-07-11T11:30:30.105928Z",
     "start_time": "2020-07-11T11:30:30.101372Z"
    }
   },
   "outputs": [],
   "source": [
    "lr_strategy = {\n",
    "    \"lxmert\": {\n",
    "        \"model\": {\n",
    "            \"bert\": {\n",
    "                \"encoder\": {\n",
    "                    \"x_layers\": {\n",
    "                        \"lr\": optimizer_params[\"lr\"] / 1e1,\n",
    "                        \"finetune\": True\n",
    "                    },\n",
    "                    \"lr\": optimizer_params[\"lr\"] / 1e2,\n",
    "                    \"finetune\": False\n",
    "                },\n",
    "                \"pooler\": {\n",
    "                    \"lr\": optimizer_params[\"lr\"] / 1e1,\n",
    "                    \"finetune\": True\n",
    "                },\n",
    "            },\n",
    "            \"finetune\": False\n",
    "        }\n",
    "    }\n",
    "}"
   ]
  },
  {
   "cell_type": "code",
   "execution_count": null,
   "metadata": {
    "ExecuteTime": {
     "end_time": "2020-07-11T18:34:55.054608Z",
     "start_time": "2020-07-11T18:34:55.049232Z"
    }
   },
   "outputs": [],
   "source": [
    "from facebook_hateful_memes_detector.models.MultiModal.VilBertVisualBert import VilBertVisualBertModel\n",
    "\n",
    "model_fn = model_builder(VilBertVisualBertModel,\n",
    "                         dict(model_name={\"lxmert\": dict(dropout=0.15, gaussian_noise=0.15)},\n",
    "                              num_classes=2,\n",
    "                              gaussian_noise=2.0,\n",
    "                              dropout=0.15,\n",
    "                              word_masking_proba=0.15,\n",
    "                              featurizer=\"transformer\",\n",
    "                              final_layer_builder=fb_1d_loss_builder,\n",
    "                              internal_dims=512,\n",
    "                              classifier_dims=256,\n",
    "                              n_tokens_in=96,\n",
    "                              n_tokens_out=16,\n",
    "                              n_layers=2,\n",
    "                              loss=\"focal\",\n",
    "                              dice_loss_coef=0.0,\n",
    "                              auc_loss_coef=0.0,\n",
    "                              finetune=False),\n",
    "                         per_param_opts_fn=lr_strategy,\n",
    "                         optimiser_class=optimizer,\n",
    "                         optimiser_params=optimizer_params)\n"
   ]
  },
  {
   "cell_type": "code",
   "execution_count": null,
   "metadata": {
    "ExecuteTime": {
     "end_time": "2020-07-11T18:52:26.889203Z",
     "start_time": "2020-07-11T18:34:55.569560Z"
    },
    "scrolled": false
   },
   "outputs": [],
   "source": [
    "batch_size=128\n",
    "epochs = 5\n",
    "\n",
    "multi_eval = False\n",
    "kfold = False\n",
    "results, prfs = train_validate_ntimes(\n",
    "    model_fn,\n",
    "    data,\n",
    "    batch_size,\n",
    "    epochs,\n",
    "    augmentation_weights=augmentation_weights,\n",
    "    kfold=kfold,\n",
    "    multi_eval=multi_eval,\n",
    "    scheduler_init_fn=scheduler_init_fn,\n",
    "    model_call_back=reg_sched,\n",
    "    validation_epochs=[2, 7, 9, 11, 14, 17, 19],\n",
    "    show_model_stats=False,\n",
    "    sampling_policy=\"without_replacement\",\n",
    "    accumulation_steps=2,\n",
    ")\n",
    "r1, p1 = results, prfs\n",
    "results\n",
    "prfs\n"
   ]
  },
  {
   "cell_type": "markdown",
   "metadata": {},
   "source": [
    "## Visual BERT / VilBert/MMBT Region"
   ]
  },
  {
   "cell_type": "code",
   "execution_count": null,
   "metadata": {
    "ExecuteTime": {
     "end_time": "2020-07-05T17:59:15.048737Z",
     "start_time": "2020-07-05T17:54:40.279209Z"
    }
   },
   "outputs": [],
   "source": [
    "from facebook_hateful_memes_detector.models.MultiModal.VilBertVisualBert import VilBertVisualBertModel\n",
    "lr_strategy = {\n",
    "    \"mmbt_region\": {\n",
    "        \"model\": {\n",
    "            \"bert\": {\n",
    "                \"mmbt\": {\n",
    "                    \"transformer\": {\n",
    "                        \"pooler\": {\n",
    "                            \"lr\": optimizer_params[\"lr\"] / 1e1,\n",
    "                            \"finetune\": True\n",
    "                        }\n",
    "                    }\n",
    "                }\n",
    "            }\n",
    "        },\n",
    "        \"finetune\": False\n",
    "    }\n",
    "}\n",
    "epochs = 1\n",
    "batch_size = 80\n",
    "model_fn = model_builder(VilBertVisualBertModel,\n",
    "                         dict(\n",
    "                             model_name={\"mmbt_region\": dict(gaussian_noise=0.0, dropout=0.0)},\n",
    "                             num_classes=2,\n",
    "                             gaussian_noise=0.0,\n",
    "                             dropout=0.0,\n",
    "                             featurizer=\"pass\",\n",
    "                             final_layer_builder=fb_1d_loss_builder,\n",
    "                             internal_dims=256,\n",
    "                             classifier_dims=768,\n",
    "                             n_tokens_in=96,\n",
    "                             n_tokens_out=16,\n",
    "                             n_layers=2,\n",
    "                             loss=\"focal\",\n",
    "                             dice_loss_coef=0.0,\n",
    "                             auc_loss_coef=0.0,\n",
    "                         ),\n",
    "                         per_param_opts_fn=None,\n",
    "                         optimiser_class=optimizer,\n",
    "                         optimiser_params=optimizer_params)\n",
    "\n",
    "\n",
    "kfold = False\n",
    "results, prfs = train_validate_ntimes(\n",
    "    model_fn,\n",
    "    data,\n",
    "    batch_size,\n",
    "    epochs,\n",
    "    kfold=kfold,\n",
    "    scheduler_init_fn=scheduler_init_fn,\n",
    "    validation_epochs=[4, 7, 9, 11, 14, 17, 19])\n",
    "r1, p1 = results, prfs\n",
    "results\n",
    "prfs\n",
    "\n",
    "# 1h 45m\n",
    "# 4m 49s"
   ]
  },
  {
   "cell_type": "markdown",
   "metadata": {
    "heading_collapsed": true
   },
   "source": [
    "# Triple Bert Pooled"
   ]
  },
  {
   "cell_type": "code",
   "execution_count": null,
   "metadata": {
    "ExecuteTime": {
     "end_time": "2020-07-04T19:18:53.420557Z",
     "start_time": "2020-07-04T19:18:53.414049Z"
    },
    "code_folding": [],
    "hidden": true
   },
   "outputs": [],
   "source": [
    "batch_size = 32\n",
    "epochs = 10\n",
    "lr_strategy = {\n",
    "    \"lxmert\": {\n",
    "        \"lr\": optimizer_params[\"lr\"] / 100\n",
    "    },\n",
    "}\n",
    "\n",
    "from facebook_hateful_memes_detector.models.MultiModal.VilBertVisualBert import VilBertVisualBertModel\n",
    "\n",
    "model_fn = model_builder(VilBertVisualBertModel,\n",
    "                         dict(\n",
    "                             model_name=[\"vilbert\", \"lxmert\", \"visual_bert\"],\n",
    "                             num_classes=2,\n",
    "                             gaussian_noise=0.1,\n",
    "                             dropout=0.35,\n",
    "                             featurizer=\"pass\",\n",
    "                             final_layer_builder=fb_1d_loss_builder,\n",
    "                             internal_dims=None,\n",
    "                             classifier_dims=768,\n",
    "                             n_tokens_out=96 + 100 + 96 + 36 + 96 + 100,\n",
    "                             n_tokens_in=96,\n",
    "                             n_layers=2,\n",
    "                             task=\"classification\",\n",
    "                             finetune_vilbert=False,\n",
    "                             finetune_lxmert=True,\n",
    "                             finetune_visual_bert=False,\n",
    "                         ),\n",
    "                         per_param_opts_fn=None,\n",
    "                         optimiser_class=optimizer,\n",
    "                         optimiser_params=optimizer_params)\n",
    "\n",
    "# 1h 45m"
   ]
  },
  {
   "cell_type": "code",
   "execution_count": null,
   "metadata": {
    "ExecuteTime": {
     "end_time": "2020-07-03T03:57:46.677913Z",
     "start_time": "2020-07-03T03:52:48.496418Z"
    },
    "hidden": true
   },
   "outputs": [],
   "source": [
    "\n",
    "multi_eval = False\n",
    "kfold = False\n",
    "results, prfs = train_validate_ntimes(\n",
    "    model_fn,\n",
    "    data,\n",
    "    batch_size,\n",
    "    epochs,\n",
    "    augmentation_weights=augmentation_weights,\n",
    "    kfold=kfold,\n",
    "    multi_eval=multi_eval,\n",
    "    scheduler_init_fn=scheduler_init_fn,\n",
    "    validation_epochs=[1, 4, 7, 9, 11, 14, 17, 19], \n",
    "    show_model_stats=True)\n",
    "r1, p1 = results, prfs\n",
    "results\n",
    "prfs\n"
   ]
  },
  {
   "cell_type": "markdown",
   "metadata": {
    "heading_collapsed": true
   },
   "source": [
    "# Triple Bert Transformer"
   ]
  },
  {
   "cell_type": "code",
   "execution_count": null,
   "metadata": {
    "ExecuteTime": {
     "end_time": "2020-06-30T18:07:52.973636Z",
     "start_time": "2020-06-30T18:05:39.609920Z"
    },
    "hidden": true
   },
   "outputs": [],
   "source": [
    "batch_size=32\n",
    "from facebook_hateful_memes_detector.models.MultiModal.VilBertVisualBert import VilBertVisualBertModel\n",
    "\n",
    "model_fn = model_builder(VilBertVisualBertModel, \n",
    "                         dict(model_name=[\"vilbert\", \"lxmert\", \"visual_bert\"], num_classes=2,\n",
    "                 gaussian_noise=0.25, dropout=0.15,\n",
    "                              featurizer=\"transformer\",final_layer_builder=fb_1d_loss_builder,\n",
    "                 internal_dims=256, classifier_dims=256, n_tokens_in=96,\n",
    "                 n_tokens_out=32, n_layers=2,task=\"classification\", finetune=True),\n",
    "                         per_param_opts_fn=None,\n",
    "                         optimiser_class=optimizer, optimiser_params=optimizer_params)\n",
    "\n",
    "\n",
    "\n",
    "\n",
    "n_tests = 1\n",
    "multi_eval=False\n",
    "kfold=False\n",
    "results, prfs = train_validate_ntimes(model_fn, data, batch_size, epochs, \n",
    "                                      augmentation_weights=augmentation_weights, \n",
    "                                      kfold=kfold, multi_eval=multi_eval,\n",
    "                                      scheduler_init_fn=scheduler_init_fn, \n",
    "                                      validation_epochs=[1, 4, 7, 9, 11, 14, 17, 19])\n",
    "r1, p1 = results, prfs\n",
    "results\n",
    "prfs\n",
    "\n",
    "\n",
    "# 1h 45m\n",
    "\n"
   ]
  },
  {
   "cell_type": "markdown",
   "metadata": {},
   "source": [
    "# Predict"
   ]
  },
  {
   "cell_type": "code",
   "execution_count": null,
   "metadata": {
    "ExecuteTime": {
     "end_time": "2020-07-05T09:51:37.616682Z",
     "start_time": "2020-07-04T19:18:57.416510Z"
    }
   },
   "outputs": [],
   "source": [
    "lr_strategy = {\n",
    "    \"lxmert\": {\n",
    "        \"model\": {\n",
    "            \"bert\": {\n",
    "                \"encoder\": {\n",
    "                    \"x_layers\": {\n",
    "                        \"lr\": optimizer_params[\"lr\"] / 1e1,\n",
    "                        \"finetune\": True\n",
    "                    },\n",
    "                    \"finetune\": False\n",
    "                },\n",
    "                \"pooler\": {\n",
    "                    \"lr\": optimizer_params[\"lr\"] / 1e1,\n",
    "                    \"finetune\": True\n",
    "                },\n",
    "            },\n",
    "            \"finetune\": False\n",
    "        }\n",
    "    },\n",
    "    \"vilbert\": {\n",
    "        \"lr\": optimizer_params[\"lr\"] / 10000,\n",
    "        \"model\": {\n",
    "            \"bert\": {\n",
    "                \"t_pooler\": {\n",
    "                    \"lr\": optimizer_params[\"lr\"] / 1e1,\n",
    "                    \"finetune\": True\n",
    "                },\n",
    "                \"v_pooler\": {\n",
    "                    \"lr\": optimizer_params[\"lr\"] / 1e1,\n",
    "                    \"finetune\": True\n",
    "                }\n",
    "            }\n",
    "        },\n",
    "        \"finetune\": False\n",
    "    },\n",
    "    \"visual_bert\": {\n",
    "        \"model\": {\n",
    "            \"bert\": {\n",
    "                \"pooler\": {\n",
    "                    \"lr\": optimizer_params[\"lr\"] / 1e1,\n",
    "                    \"finetune\": True\n",
    "                }\n",
    "            }\n",
    "        },\n",
    "        \"finetune\": False\n",
    "    },\n",
    "    \"mmbt_region\": {\n",
    "        \"model\": {\n",
    "            \"bert\": {\n",
    "                \"mmbt\": {\n",
    "                    \"transformer\": {\n",
    "                        \"pooler\": {\n",
    "                            \"lr\": optimizer_params[\"lr\"] / 1e1,\n",
    "                            \"finetune\": True\n",
    "                        }\n",
    "                    }\n",
    "                }\n",
    "            }\n",
    "        },\n",
    "        \"finetune\": False\n",
    "    }\n",
    "}\n",
    "\n",
    "model_fn = model_builder(VilBertVisualBertModel,\n",
    "                         dict(model_name={\n",
    "                             \"lxmert\":\n",
    "                             dict(finetune=True,\n",
    "                                  dropout=0.0,\n",
    "                                  gaussian_noise=0.0),\n",
    "                             \"visual_bert\":\n",
    "                             dict(finetune=False,\n",
    "                                  dropout=0.0,\n",
    "                                  gaussian_noise=0.0),\n",
    "                             \"vilbert\":\n",
    "                             dict(finetune=False,\n",
    "                                  dropout=0.0,\n",
    "                                  gaussian_noise=0.0),\n",
    "                             \"mmbt_region\":\n",
    "                             dict(finetune=True,\n",
    "                                  dropout=0.0,\n",
    "                                  gaussian_noise=0.0),\n",
    "                         },\n",
    "                              num_classes=2,\n",
    "                              gaussian_noise=0.0,\n",
    "                              dropout=0.0,\n",
    "                              featurizer=\"pass\",\n",
    "                              final_layer_builder=fb_1d_loss_builder,\n",
    "                              internal_dims=768,\n",
    "                              classifier_dims=768,\n",
    "                              n_tokens_in=96,\n",
    "                              n_tokens_out=96,\n",
    "                              n_layers=2,\n",
    "                              task=\"classification\",\n",
    "                              word_masking_proba=0.15),\n",
    "                         per_param_opts_fn=lr_strategy,\n",
    "                         optimiser_class=optimizer,\n",
    "                         optimiser_params=optimizer_params)\n",
    "\n",
    "# model, opt = model_fn()\n",
    "# model\n",
    "\n",
    "##\n",
    "## MMBT Region, Per module regularization, word_masking_proba, reg_scheduling\n",
    "\n",
    "## Next accumulation_steps"
   ]
  },
  {
   "cell_type": "code",
   "execution_count": null,
   "metadata": {},
   "outputs": [],
   "source": [
    "\n",
    "\n",
    "batch_size = 32\n",
    "epochs = 2\n",
    "\n",
    "submission, text_model = train_and_predict(\n",
    "    model_fn,\n",
    "    data,\n",
    "    batch_size,\n",
    "    epochs,\n",
    "    augmentation_weights,\n",
    "    scheduler_init_fn=scheduler_init_fn,\n",
    "    accumulation_steps=1,\n",
    "    model_call_back=reg_sched,\n",
    "    sampling_policy=None) # \"without_replacement\"\n",
    "\n",
    "submission.to_csv(\"submission.csv\", index=False)\n",
    "submission.sample(3)\n"
   ]
  },
  {
   "cell_type": "code",
   "execution_count": null,
   "metadata": {
    "ExecuteTime": {
     "end_time": "2020-07-03T03:45:27.874475Z",
     "start_time": "2020-07-03T03:45:27.866117Z"
    }
   },
   "outputs": [],
   "source": [
    "submission.head()"
   ]
  }
 ],
 "metadata": {
  "kernelspec": {
   "display_name": "Python 3",
   "language": "python",
   "name": "python3"
  },
  "language_info": {
   "codemirror_mode": {
    "name": "ipython",
    "version": 3
   },
   "file_extension": ".py",
   "mimetype": "text/x-python",
   "name": "python",
   "nbconvert_exporter": "python",
   "pygments_lexer": "ipython3",
   "version": "3.7.6"
  },
  "toc": {
   "base_numbering": 1,
   "nav_menu": {},
   "number_sections": true,
   "sideBar": true,
   "skip_h1_title": false,
   "title_cell": "Table of Contents",
   "title_sidebar": "Contents",
   "toc_cell": false,
   "toc_position": {},
   "toc_section_display": true,
   "toc_window_display": true
  }
 },
 "nbformat": 4,
 "nbformat_minor": 4
}
