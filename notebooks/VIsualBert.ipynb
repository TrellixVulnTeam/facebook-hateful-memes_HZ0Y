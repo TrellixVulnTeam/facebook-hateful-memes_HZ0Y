{
 "cells": [
  {
   "cell_type": "markdown",
   "metadata": {},
   "source": [
    "# Imports"
   ]
  },
  {
   "cell_type": "code",
   "execution_count": 1,
   "metadata": {
    "ExecuteTime": {
     "end_time": "2020-07-17T06:54:43.161480Z",
     "start_time": "2020-07-17T06:54:40.134909Z"
    }
   },
   "outputs": [],
   "source": [
    "\n",
    "\n",
    "\n",
    "import pandas as pd\n",
    "import numpy as np\n",
    "import jsonlines\n",
    "import seaborn as sns\n",
    "%matplotlib inline\n",
    "%config InlineBackend.figure_format = 'retina'\n",
    "import torch.nn as nn\n",
    "import torch\n",
    "import torch.nn.functional as F\n",
    "from torch.utils.data import Dataset, DataLoader\n",
    "from torchvision import transforms, utils\n",
    "import torch_optimizer as optim\n",
    "\n",
    "\n",
    "from IPython.core.interactiveshell import InteractiveShell\n",
    "InteractiveShell.ast_node_interactivity = \"all\"\n",
    "from importlib import reload\n",
    "pd.set_option('display.max_rows', 500)\n",
    "pd.set_option('display.float_format', '{:0.3f}'.format)\n",
    "pd.set_option('display.max_columns', 500)\n",
    "pd.set_option('display.width', 1000)\n",
    "pd.options.display.width = 0\n",
    "import warnings\n",
    "import torchvision\n",
    "warnings.filterwarnings('ignore')\n",
    "\n",
    "from facebook_hateful_memes_detector.utils.globals import set_global, get_global\n",
    "set_global(\"cache_dir\", \"/home/ahemf/cache/cache\")\n",
    "set_global(\"dataloader_workers\", 4)\n",
    "\n",
    "from facebook_hateful_memes_detector.utils import read_json_lines_into_df, in_notebook, set_device, print_code\n",
    "get_global(\"cache_dir\")\n",
    "from facebook_hateful_memes_detector.models import Fasttext1DCNNModel, MultiImageMultiTextAttentionEarlyFusionModel, VilBertVisualBertModel\n",
    "from facebook_hateful_memes_detector.preprocessing import TextImageDataset, my_collate, get_datasets, get_image2torchvision_transforms, TextAugment\n",
    "from facebook_hateful_memes_detector.preprocessing import DefinedRotation, QuadrantCut, ImageAugment, DefinedAffine, DefinedColorJitter, DefinedRandomPerspective\n",
    "from facebook_hateful_memes_detector.training import *\n",
    "import facebook_hateful_memes_detector\n",
    "reload(facebook_hateful_memes_detector)\n",
    "\n",
    "device = torch.device(\"cuda\" if torch.cuda.is_available() else \"cpu\")\n",
    "set_device(device)\n"
   ]
  },
  {
   "cell_type": "code",
   "execution_count": 2,
   "metadata": {
    "ExecuteTime": {
     "end_time": "2020-07-17T06:54:43.279063Z",
     "start_time": "2020-07-17T06:54:43.163145Z"
    }
   },
   "outputs": [],
   "source": [
    "\n",
    "\n",
    "choice_probas = {\"keyboard\": 0.1, \"char_substitute\": 0.0, \"char_insert\": 0.1, \"char_swap\": 0.0, \"ocr\": 0.0, \"char_delete\": 0.1,\n",
    "                 \"fasttext\": 0.0, \"glove_twitter\": 0.0, \"glove_wiki\": 0.0, \"word2vec\": 0.0, \"split\": 0.1,\n",
    "                 \"stopword_insert\": 0.3, \"word_join\": 0.1, \"word_cutout\": 0.8,\n",
    "                 \"text_rotate\": 0.5, \"sentence_shuffle\": 0.5, \"one_third_cut\": 0.4, \"half_cut\":0.1}\n",
    "preprocess_text = TextAugment([0.0, 0.1, 0.05, 0.35, 0.3, 0.2], choice_probas, fasttext_file=\"wiki-news-300d-1M-subword.bin\")\n",
    "\n",
    "im_transform = ImageAugment(count_proba=[0.1, 0.9], \n",
    "                            augs_dict=dict(grayscale=transforms.Grayscale(num_output_channels=3), \n",
    "                                           hflip=transforms.RandomHorizontalFlip(p=1.0),\n",
    "                                           rc2=transforms.Compose([transforms.Resize(480), transforms.CenterCrop(400)]),\n",
    "                                           rotate=DefinedRotation(15), \n",
    "                                           # qcut=QuadrantCut(),\n",
    "                                           affine=DefinedAffine(0, scale=(0.6, 0.6)),\n",
    "                                          ),\n",
    "                            choice_probas=\"uniform\"\n",
    "                           )\n",
    "\n",
    "\n",
    "# im_transform = ImageAugment(count_proba=[0.2, 0.8], \n",
    "#                             augs_dict=dict(grayscale=transforms.Grayscale(num_output_channels=3), \n",
    "#                                            hflip=transforms.RandomHorizontalFlip(p=1.0),\n",
    "#                                            rc1=transforms.Compose([transforms.Resize(256), transforms.CenterCrop(224)]),\n",
    "#                                            rc2=transforms.Compose([transforms.Resize(480), transforms.CenterCrop(400)]),\n",
    "#                                            rotate=DefinedRotation(15), \n",
    "#                                            qcut=QuadrantCut(),\n",
    "#                                            affine=DefinedAffine(0, translate=(0.2, 0.2), scale=(0.6, 0.8), shear=(10, 10)),\n",
    "#                                            jitter=DefinedColorJitter(brightness=0.1, contrast=0.1, saturation=0.1, hue=0.1),\n",
    "#                                            perspective=DefinedRandomPerspective(0.2)\n",
    "#                                           ),\n",
    "#                             choice_probas=\"uniform\"\n",
    "#                            )\n",
    "\n",
    "# im_transform = transforms.RandomChoice([transforms.Grayscale(num_output_channels=3), \n",
    "#                                         transforms.RandomHorizontalFlip(p=1.0),\n",
    "#                                         lambda x: x,\n",
    "#                                         transforms.Compose([transforms.Resize(256), transforms.CenterCrop(224)]),\n",
    "#                                         transforms.Compose([transforms.Resize(480), transforms.CenterCrop(400)]),\n",
    "#                                         transforms.Compose([transforms.Resize(640), transforms.CenterCrop(520)]),\n",
    "#                                         DefinedRotation(15), QuadrantCut(), \n",
    "#                                         DefinedAffine(0, translate=(0.2, 0.2), scale=(0.6, 0.8), shear=(5, 5)),\n",
    "#                                         DefinedColorJitter(brightness=0.1, contrast=0.1, saturation=0.1, hue=0.1),\n",
    "#                                         DefinedRandomPerspective(0.2)])\n",
    "\n",
    "data = get_datasets(data_dir=\"../data/\", train_text_transform=preprocess_text, train_image_transform=im_transform, \n",
    "                    test_text_transform=None, test_image_transform=None, \n",
    "                    cache_images = True, use_images = True, dev=False, \n",
    "                    keep_original_text=False, keep_original_image=False, \n",
    "                    keep_processed_image=True, keep_torchvision_image=False,)\n",
    "\n",
    "# ImageAugment([0.2, 0.5, 0.3])\n"
   ]
  },
  {
   "cell_type": "code",
   "execution_count": 3,
   "metadata": {
    "ExecuteTime": {
     "end_time": "2020-07-17T06:54:43.290484Z",
     "start_time": "2020-07-17T06:54:43.281058Z"
    }
   },
   "outputs": [],
   "source": [
    "sgd = torch.optim.SGD\n",
    "sgd_params = dict(lr=2e-2,\n",
    "                  momentum=0.9,\n",
    "                  dampening=0,\n",
    "                  weight_decay=0,\n",
    "                  nesterov=False)\n",
    "\n",
    "rangerQH = optim.RangerQH\n",
    "rangerQHparams = dict(\n",
    "    lr=1e-3,\n",
    "    betas=(0.9, 0.999),\n",
    "    nus=(.7, 1.0),\n",
    "    weight_decay=0.0,\n",
    "    k=6,\n",
    "    alpha=.5,\n",
    "    decouple_weight_decay=True,\n",
    "    eps=1e-8,\n",
    ")\n",
    "\n",
    "adam = torch.optim.Adam\n",
    "adam_params = params = dict(lr=1e-3, weight_decay=1e-7)\n",
    "\n",
    "adamw = torch.optim.AdamW\n",
    "adamw_params = dict(lr=1e-4, betas=(0.9, 0.999), eps=1e-08, weight_decay=1e-2)\n",
    "\n",
    "novograd = optim.NovoGrad\n",
    "novograd_params = dict(\n",
    "    lr=1e-3,\n",
    "    betas=(0.9, 0.999),\n",
    "    eps=1e-8,\n",
    "    weight_decay=0,\n",
    "    grad_averaging=False,\n",
    "    amsgrad=False,\n",
    ")\n",
    "\n",
    "qhadam = optim.QHAdam\n",
    "qhadam_params = dict(\n",
    "    lr=1e-3,\n",
    "    betas=(0.9, 0.999),\n",
    "    nus=(1.0, 1.0),\n",
    "    weight_decay=0,\n",
    "    decouple_weight_decay=False,\n",
    "    eps=1e-8,\n",
    ")\n",
    "\n",
    "radam = optim.RAdam\n",
    "radam_params = dict(\n",
    "    lr=1e-3,\n",
    "    betas=(0.9, 0.999),\n",
    "    eps=1e-8,\n",
    "    weight_decay=0,\n",
    ")\n",
    "\n",
    "yogi = optim.Yogi\n",
    "yogi_params = dict(lr=1e-2,\n",
    "                   betas=(0.9, 0.999),\n",
    "                   eps=1e-3,\n",
    "                   initial_accumulator=1e-6,\n",
    "                   weight_decay=0)"
   ]
  },
  {
   "cell_type": "code",
   "execution_count": 4,
   "metadata": {
    "ExecuteTime": {
     "end_time": "2020-07-17T06:54:43.296106Z",
     "start_time": "2020-07-17T06:54:43.292122Z"
    }
   },
   "outputs": [],
   "source": [
    "batch_size=96\n",
    "epochs = 10\n",
    "optimizer = adam\n",
    "optimizer_params = adam_params\n",
    "\n",
    "\n",
    "scheduler_init_fn = get_cosine_schedule_with_warmup()\n",
    "reg_sched = get_regularizer_scheduler()\n",
    "\n",
    "\n"
   ]
  },
  {
   "cell_type": "markdown",
   "metadata": {},
   "source": [
    "# Single Models"
   ]
  },
  {
   "cell_type": "code",
   "execution_count": 5,
   "metadata": {
    "ExecuteTime": {
     "end_time": "2020-07-17T06:55:19.843773Z",
     "start_time": "2020-07-17T06:54:43.297523Z"
    }
   },
   "outputs": [
    {
     "name": "stdout",
     "output_type": "stream",
     "text": [
      "Overriding option config to projects/hateful_memes/configs/visual_bert/from_coco.yaml\n",
      "Overriding option model to visual_bert\n",
      "Overriding option datasets to hateful_memes\n",
      "Overriding option run_type to val\n",
      "Overriding option checkpoint.resume_zoo to visual_bert.finetuned.hateful_memes.from_coco\n",
      "Overriding option evaluation.predict to true\n"
     ]
    },
    {
     "name": "stderr",
     "output_type": "stream",
     "text": [
      "Some weights of VisualBERTBase were not initialized from the model checkpoint at bert-base-uncased and are newly initialized: ['bert.embeddings.token_type_embeddings_visual.weight', 'bert.embeddings.position_embeddings_visual.weight', 'bert.embeddings.projection.weight', 'bert.embeddings.projection.bias']\n",
      "You should probably TRAIN this model on a down-stream task to be able to use it for predictions and inference.\n",
      "Config '/local/home/ahemf/mygit/facebook-hateful-memes/facebook_hateful_memes_detector/utils/faster_rcnn_R_101_C4_attr_caffemaxpool.yaml' has no VERSION. Assuming it to be compatible with latest v2.\n"
     ]
    },
    {
     "name": "stdout",
     "output_type": "stream",
     "text": [
      "N tokens Out =  196\n",
      "[WARNING]: Perform finetuning on model since num classes = 2 and featurizer_type = `pass`\n",
      "      id  proba  label\n",
      "0   8291  0.612      1\n",
      "1  46971  0.597      1\n",
      "2   3745  0.618      1\n",
      "3  83745  0.619      1\n",
      "4  80243  0.537      1\n",
      "scores =  {'map': '0.4533', 'acc': '0.4260', 'auc': '0.3988'}\n"
     ]
    }
   ],
   "source": [
    "lr_strategy = {\n",
    "    \"vilbert\": {\n",
    "        \"lr\": optimizer_params[\"lr\"] / 10,\n",
    "        \"model\": {\n",
    "            \"bert\": {\n",
    "                \"t_pooler\": {\n",
    "                    \"lr\": optimizer_params[\"lr\"],\n",
    "                    \"finetune\": True\n",
    "                },\n",
    "                \"v_pooler\": {\n",
    "                    \"lr\": optimizer_params[\"lr\"],\n",
    "                    \"finetune\": True\n",
    "                }\n",
    "            },\n",
    "            \"classifier\": {\n",
    "                \"lr\": optimizer_params[\"lr\"],\n",
    "                \"finetune\": True\n",
    "            }\n",
    "        },\n",
    "        \"finetune\": True\n",
    "    }\n",
    "}\n",
    "\n",
    "lr_strategy = {\n",
    "    \"visual_bert\": {\n",
    "        \"model\": {\n",
    "            \"bert\": {\n",
    "                \"pooler\": {\n",
    "                    \"lr\": optimizer_params[\"lr\"] / 1e1,\n",
    "                    \"finetune\": True\n",
    "                }\n",
    "            }\n",
    "        },\n",
    "        \"finetune\": False\n",
    "    },\n",
    "}\n",
    "epochs = 0\n",
    "batch_size = 64\n",
    "model_fn = model_builder(\n",
    "    VilBertVisualBertModel,\n",
    "    dict(\n",
    "        model_name={\"visual_bert\": dict(gaussian_noise=0.0, dropout=0.0)},\n",
    "        num_classes=2,\n",
    "        gaussian_noise=0.0,\n",
    "        dropout=0.0,\n",
    "        word_masking_proba=0.0,\n",
    "        featurizer=\"pass\",\n",
    "        final_layer_builder=fb_1d_loss_builder,\n",
    "        internal_dims=256,\n",
    "        classifier_dims=768,\n",
    "        n_tokens_in=96,\n",
    "        n_tokens_out=16,\n",
    "        n_layers=2,\n",
    "        loss=\"classification\",\n",
    "        dice_loss_coef=0.0,\n",
    "        auc_loss_coef=0.0,\n",
    "    ),\n",
    "    per_param_opts_fn=lr_strategy,\n",
    "    optimiser_class=optimizer,\n",
    "    optimiser_params=optimizer_params)\n",
    "\n",
    "\n",
    "data[\"test\"] = data[\"dev\"]\n",
    "model, _ = model_fn()\n",
    "sf, _ = predict(model, data, batch_size)\n",
    "\n",
    "print(sf.head())\n",
    "\n",
    "from sklearn.metrics import roc_auc_score, average_precision_score, classification_report\n",
    "from sklearn.metrics import precision_recall_fscore_support, accuracy_score\n",
    "\n",
    "labels_list = data[\"test\"].label\n",
    "proba_list = sf.proba\n",
    "predictions_list = sf.label\n",
    "\n",
    "auc = roc_auc_score(labels_list, proba_list)\n",
    "# p_micro, r_micro, f1_micro, _ = precision_recall_fscore_support(labels_list, predictions_list, average=\"micro\")\n",
    "prfs = precision_recall_fscore_support(labels_list, predictions_list, average=None, labels=[0, 1])\n",
    "map = average_precision_score(labels_list, proba_list)\n",
    "acc = accuracy_score(labels_list, predictions_list)\n",
    "validation_scores = [map, acc, auc]\n",
    "print(\"scores = \", dict(zip([\"map\", \"acc\", \"auc\"], [\"%.4f\" % v for v in validation_scores])))\n"
   ]
  },
  {
   "cell_type": "markdown",
   "metadata": {
    "heading_collapsed": true
   },
   "source": [
    "## LXMERT"
   ]
  },
  {
   "cell_type": "code",
   "execution_count": null,
   "metadata": {
    "ExecuteTime": {
     "end_time": "2020-07-11T11:30:30.105928Z",
     "start_time": "2020-07-11T11:30:30.101372Z"
    },
    "hidden": true
   },
   "outputs": [],
   "source": [
    "lr_strategy = {\n",
    "    \"lxmert\": {\n",
    "        \"model\": {\n",
    "            \"bert\": {\n",
    "                \"encoder\": {\n",
    "                    \"x_layers\": {\n",
    "                        \"lr\": optimizer_params[\"lr\"] / 1e1,\n",
    "                        \"finetune\": True\n",
    "                    },\n",
    "                    \"lr\": optimizer_params[\"lr\"] / 1e2,\n",
    "                    \"finetune\": False\n",
    "                },\n",
    "                \"pooler\": {\n",
    "                    \"lr\": optimizer_params[\"lr\"] / 1e1,\n",
    "                    \"finetune\": True\n",
    "                },\n",
    "            },\n",
    "            \"finetune\": False\n",
    "        }\n",
    "    }\n",
    "}"
   ]
  },
  {
   "cell_type": "code",
   "execution_count": null,
   "metadata": {
    "ExecuteTime": {
     "end_time": "2020-07-11T18:34:55.054608Z",
     "start_time": "2020-07-11T18:34:55.049232Z"
    },
    "hidden": true
   },
   "outputs": [],
   "source": [
    "from facebook_hateful_memes_detector.models.MultiModal.VilBertVisualBert import VilBertVisualBertModel\n",
    "\n",
    "model_fn = model_builder(VilBertVisualBertModel,\n",
    "                         dict(model_name={\"lxmert\": dict(dropout=0.15, gaussian_noise=0.15)},\n",
    "                              num_classes=2,\n",
    "                              gaussian_noise=2.0,\n",
    "                              dropout=0.15,\n",
    "                              word_masking_proba=0.15,\n",
    "                              featurizer=\"transformer\",\n",
    "                              final_layer_builder=fb_1d_loss_builder,\n",
    "                              internal_dims=512,\n",
    "                              classifier_dims=256,\n",
    "                              n_tokens_in=96,\n",
    "                              n_tokens_out=16,\n",
    "                              n_layers=2,\n",
    "                              loss=\"focal\",\n",
    "                              dice_loss_coef=0.0,\n",
    "                              auc_loss_coef=0.0,\n",
    "                              finetune=False),\n",
    "                         per_param_opts_fn=lr_strategy,\n",
    "                         optimiser_class=optimizer,\n",
    "                         optimiser_params=optimizer_params)\n"
   ]
  },
  {
   "cell_type": "code",
   "execution_count": null,
   "metadata": {
    "ExecuteTime": {
     "end_time": "2020-07-11T18:52:26.889203Z",
     "start_time": "2020-07-11T18:34:55.569560Z"
    },
    "hidden": true,
    "scrolled": false
   },
   "outputs": [],
   "source": [
    "batch_size=128\n",
    "epochs = 5\n",
    "\n",
    "multi_eval = False\n",
    "kfold = False\n",
    "results, prfs = train_validate_ntimes(\n",
    "    model_fn,\n",
    "    data,\n",
    "    batch_size,\n",
    "    epochs,\n",
    "    augmentation_weights=augmentation_weights,\n",
    "    kfold=kfold,\n",
    "    multi_eval=multi_eval,\n",
    "    scheduler_init_fn=scheduler_init_fn,\n",
    "    model_call_back=reg_sched,\n",
    "    validation_epochs=[2, 7, 9, 11, 14, 17, 19],\n",
    "    show_model_stats=False,\n",
    "    sampling_policy=\"without_replacement\",\n",
    "    accumulation_steps=2,\n",
    ")\n",
    "r1, p1 = results, prfs\n",
    "results\n",
    "prfs\n"
   ]
  },
  {
   "cell_type": "markdown",
   "metadata": {},
   "source": [
    "## Visual BERT / VilBert/MMBT Region"
   ]
  },
  {
   "cell_type": "markdown",
   "metadata": {
    "heading_collapsed": true
   },
   "source": [
    "### MMBT"
   ]
  },
  {
   "cell_type": "code",
   "execution_count": null,
   "metadata": {
    "ExecuteTime": {
     "end_time": "2020-07-16T07:47:17.280674Z",
     "start_time": "2020-07-16T07:47:11.162497Z"
    },
    "hidden": true
   },
   "outputs": [],
   "source": [
    "from facebook_hateful_memes_detector.models.MultiModal.VilBertVisualBert import VilBertVisualBertModel\n",
    "lr_strategy = {\n",
    "    \"mmbt_region\": {\n",
    "        \"model\": {\n",
    "            \"bert\": {\n",
    "                \"mmbt\": {\n",
    "                    \"transformer\": {\n",
    "                        \"pooler\": {\n",
    "                            \"lr\": optimizer_params[\"lr\"] / 1e1,\n",
    "                            \"finetune\": True\n",
    "                        }\n",
    "                    }\n",
    "                }\n",
    "            }\n",
    "        },\n",
    "        \"finetune\": False\n",
    "    }\n",
    "}\n",
    "epochs = 3\n",
    "batch_size = 80\n",
    "model_fn = model_builder(VilBertVisualBertModel,\n",
    "                         dict(\n",
    "                             model_name={\"mmbt_region\": dict(gaussian_noise=0.0, dropout=0.0)},\n",
    "                             num_classes=2,\n",
    "                             gaussian_noise=0.0,\n",
    "                             dropout=0.0,\n",
    "                             word_masking_proba=0.0,\n",
    "                             featurizer=\"pass\",\n",
    "                             final_layer_builder=fb_1d_loss_builder,\n",
    "                             internal_dims=256,\n",
    "                             classifier_dims=768,\n",
    "                             n_tokens_in=96,\n",
    "                             n_tokens_out=16,\n",
    "                             n_layers=2,\n",
    "                             loss=\"focal\",\n",
    "                             dice_loss_coef=0.0,\n",
    "                             auc_loss_coef=0.0,\n",
    "                         ),\n",
    "                         per_param_opts_fn=lr_strategy,\n",
    "                         optimiser_class=optimizer,\n",
    "                         optimiser_params=optimizer_params)\n",
    "\n",
    "\n",
    "kfold = False\n",
    "results, prfs = train_validate_ntimes(\n",
    "    model_fn,\n",
    "    data,\n",
    "    batch_size,\n",
    "    epochs,\n",
    "    kfold=kfold,\n",
    "    scheduler_init_fn=scheduler_init_fn,\n",
    "    validation_epochs=[4, 7, 9, 11, 14, 17, 19])\n",
    "r1, p1 = results, prfs\n",
    "results\n",
    "prfs\n",
    "\n",
    "# 1h 45m\n",
    "# 4m 49s"
   ]
  },
  {
   "cell_type": "code",
   "execution_count": 5,
   "metadata": {
    "ExecuteTime": {
     "end_time": "2020-07-16T15:42:11.582831Z",
     "start_time": "2020-07-16T15:31:08.545748Z"
    },
    "hidden": true
   },
   "outputs": [
    {
     "name": "stdout",
     "output_type": "stream",
     "text": [
      "Overriding option config to projects/hateful_memes/configs/vilbert/from_cc.yaml\n",
      "Overriding option model to vilbert\n",
      "Overriding option datasets to hateful_memes\n",
      "Overriding option run_type to val\n",
      "Overriding option checkpoint.resume_zoo to vilbert.finetuned.hateful_memes.from_cc_original\n",
      "Overriding option evaluation.predict to true\n"
     ]
    },
    {
     "name": "stderr",
     "output_type": "stream",
     "text": [
      "Some weights of the model checkpoint at bert-base-uncased were not used when initializing ViLBERTBase: ['bert.pooler.dense.weight', 'bert.pooler.dense.bias']\n",
      "- This IS expected if you are initializing ViLBERTBase from the checkpoint of a model trained on another task or with another architecture (e.g. initializing a BertForSequenceClassification model from a BertForPretraining model).\n",
      "- This IS NOT expected if you are initializing ViLBERTBase from the checkpoint of a model that you expect to be exactly identical (initializing a BertForSequenceClassification model from a BertForSequenceClassification model).\n",
      "Some weights of ViLBERTBase were not initialized from the model checkpoint at bert-base-uncased and are newly initialized: ['bert.v_embeddings.image_embeddings.weight', 'bert.v_embeddings.image_embeddings.bias', 'bert.v_embeddings.image_location_embeddings.weight', 'bert.v_embeddings.image_location_embeddings.bias', 'bert.v_embeddings.LayerNorm.weight', 'bert.v_embeddings.LayerNorm.bias', 'bert.encoder.v_layer.0.attention.self.query.weight', 'bert.encoder.v_layer.0.attention.self.query.bias', 'bert.encoder.v_layer.0.attention.self.key.weight', 'bert.encoder.v_layer.0.attention.self.key.bias', 'bert.encoder.v_layer.0.attention.self.value.weight', 'bert.encoder.v_layer.0.attention.self.value.bias', 'bert.encoder.v_layer.0.attention.output.dense.weight', 'bert.encoder.v_layer.0.attention.output.dense.bias', 'bert.encoder.v_layer.0.attention.output.LayerNorm.weight', 'bert.encoder.v_layer.0.attention.output.LayerNorm.bias', 'bert.encoder.v_layer.0.intermediate.dense.weight', 'bert.encoder.v_layer.0.intermediate.dense.bias', 'bert.encoder.v_layer.0.output.dense.weight', 'bert.encoder.v_layer.0.output.dense.bias', 'bert.encoder.v_layer.0.output.LayerNorm.weight', 'bert.encoder.v_layer.0.output.LayerNorm.bias', 'bert.encoder.v_layer.1.attention.self.query.weight', 'bert.encoder.v_layer.1.attention.self.query.bias', 'bert.encoder.v_layer.1.attention.self.key.weight', 'bert.encoder.v_layer.1.attention.self.key.bias', 'bert.encoder.v_layer.1.attention.self.value.weight', 'bert.encoder.v_layer.1.attention.self.value.bias', 'bert.encoder.v_layer.1.attention.output.dense.weight', 'bert.encoder.v_layer.1.attention.output.dense.bias', 'bert.encoder.v_layer.1.attention.output.LayerNorm.weight', 'bert.encoder.v_layer.1.attention.output.LayerNorm.bias', 'bert.encoder.v_layer.1.intermediate.dense.weight', 'bert.encoder.v_layer.1.intermediate.dense.bias', 'bert.encoder.v_layer.1.output.dense.weight', 'bert.encoder.v_layer.1.output.dense.bias', 'bert.encoder.v_layer.1.output.LayerNorm.weight', 'bert.encoder.v_layer.1.output.LayerNorm.bias', 'bert.encoder.v_layer.2.attention.self.query.weight', 'bert.encoder.v_layer.2.attention.self.query.bias', 'bert.encoder.v_layer.2.attention.self.key.weight', 'bert.encoder.v_layer.2.attention.self.key.bias', 'bert.encoder.v_layer.2.attention.self.value.weight', 'bert.encoder.v_layer.2.attention.self.value.bias', 'bert.encoder.v_layer.2.attention.output.dense.weight', 'bert.encoder.v_layer.2.attention.output.dense.bias', 'bert.encoder.v_layer.2.attention.output.LayerNorm.weight', 'bert.encoder.v_layer.2.attention.output.LayerNorm.bias', 'bert.encoder.v_layer.2.intermediate.dense.weight', 'bert.encoder.v_layer.2.intermediate.dense.bias', 'bert.encoder.v_layer.2.output.dense.weight', 'bert.encoder.v_layer.2.output.dense.bias', 'bert.encoder.v_layer.2.output.LayerNorm.weight', 'bert.encoder.v_layer.2.output.LayerNorm.bias', 'bert.encoder.v_layer.3.attention.self.query.weight', 'bert.encoder.v_layer.3.attention.self.query.bias', 'bert.encoder.v_layer.3.attention.self.key.weight', 'bert.encoder.v_layer.3.attention.self.key.bias', 'bert.encoder.v_layer.3.attention.self.value.weight', 'bert.encoder.v_layer.3.attention.self.value.bias', 'bert.encoder.v_layer.3.attention.output.dense.weight', 'bert.encoder.v_layer.3.attention.output.dense.bias', 'bert.encoder.v_layer.3.attention.output.LayerNorm.weight', 'bert.encoder.v_layer.3.attention.output.LayerNorm.bias', 'bert.encoder.v_layer.3.intermediate.dense.weight', 'bert.encoder.v_layer.3.intermediate.dense.bias', 'bert.encoder.v_layer.3.output.dense.weight', 'bert.encoder.v_layer.3.output.dense.bias', 'bert.encoder.v_layer.3.output.LayerNorm.weight', 'bert.encoder.v_layer.3.output.LayerNorm.bias', 'bert.encoder.v_layer.4.attention.self.query.weight', 'bert.encoder.v_layer.4.attention.self.query.bias', 'bert.encoder.v_layer.4.attention.self.key.weight', 'bert.encoder.v_layer.4.attention.self.key.bias', 'bert.encoder.v_layer.4.attention.self.value.weight', 'bert.encoder.v_layer.4.attention.self.value.bias', 'bert.encoder.v_layer.4.attention.output.dense.weight', 'bert.encoder.v_layer.4.attention.output.dense.bias', 'bert.encoder.v_layer.4.attention.output.LayerNorm.weight', 'bert.encoder.v_layer.4.attention.output.LayerNorm.bias', 'bert.encoder.v_layer.4.intermediate.dense.weight', 'bert.encoder.v_layer.4.intermediate.dense.bias', 'bert.encoder.v_layer.4.output.dense.weight', 'bert.encoder.v_layer.4.output.dense.bias', 'bert.encoder.v_layer.4.output.LayerNorm.weight', 'bert.encoder.v_layer.4.output.LayerNorm.bias', 'bert.encoder.v_layer.5.attention.self.query.weight', 'bert.encoder.v_layer.5.attention.self.query.bias', 'bert.encoder.v_layer.5.attention.self.key.weight', 'bert.encoder.v_layer.5.attention.self.key.bias', 'bert.encoder.v_layer.5.attention.self.value.weight', 'bert.encoder.v_layer.5.attention.self.value.bias', 'bert.encoder.v_layer.5.attention.output.dense.weight', 'bert.encoder.v_layer.5.attention.output.dense.bias', 'bert.encoder.v_layer.5.attention.output.LayerNorm.weight', 'bert.encoder.v_layer.5.attention.output.LayerNorm.bias', 'bert.encoder.v_layer.5.intermediate.dense.weight', 'bert.encoder.v_layer.5.intermediate.dense.bias', 'bert.encoder.v_layer.5.output.dense.weight', 'bert.encoder.v_layer.5.output.dense.bias', 'bert.encoder.v_layer.5.output.LayerNorm.weight', 'bert.encoder.v_layer.5.output.LayerNorm.bias', 'bert.encoder.c_layer.0.biattention.query1.weight', 'bert.encoder.c_layer.0.biattention.query1.bias', 'bert.encoder.c_layer.0.biattention.key1.weight', 'bert.encoder.c_layer.0.biattention.key1.bias', 'bert.encoder.c_layer.0.biattention.value1.weight', 'bert.encoder.c_layer.0.biattention.value1.bias', 'bert.encoder.c_layer.0.biattention.query2.weight', 'bert.encoder.c_layer.0.biattention.query2.bias', 'bert.encoder.c_layer.0.biattention.key2.weight', 'bert.encoder.c_layer.0.biattention.key2.bias', 'bert.encoder.c_layer.0.biattention.value2.weight', 'bert.encoder.c_layer.0.biattention.value2.bias', 'bert.encoder.c_layer.0.biOutput.dense1.weight', 'bert.encoder.c_layer.0.biOutput.dense1.bias', 'bert.encoder.c_layer.0.biOutput.LayerNorm1.weight', 'bert.encoder.c_layer.0.biOutput.LayerNorm1.bias', 'bert.encoder.c_layer.0.biOutput.q_dense1.weight', 'bert.encoder.c_layer.0.biOutput.q_dense1.bias', 'bert.encoder.c_layer.0.biOutput.dense2.weight', 'bert.encoder.c_layer.0.biOutput.dense2.bias', 'bert.encoder.c_layer.0.biOutput.LayerNorm2.weight', 'bert.encoder.c_layer.0.biOutput.LayerNorm2.bias', 'bert.encoder.c_layer.0.biOutput.q_dense2.weight', 'bert.encoder.c_layer.0.biOutput.q_dense2.bias', 'bert.encoder.c_layer.0.v_intermediate.dense.weight', 'bert.encoder.c_layer.0.v_intermediate.dense.bias', 'bert.encoder.c_layer.0.v_output.dense.weight', 'bert.encoder.c_layer.0.v_output.dense.bias', 'bert.encoder.c_layer.0.v_output.LayerNorm.weight', 'bert.encoder.c_layer.0.v_output.LayerNorm.bias', 'bert.encoder.c_layer.0.t_intermediate.dense.weight', 'bert.encoder.c_layer.0.t_intermediate.dense.bias', 'bert.encoder.c_layer.0.t_output.dense.weight', 'bert.encoder.c_layer.0.t_output.dense.bias', 'bert.encoder.c_layer.0.t_output.LayerNorm.weight', 'bert.encoder.c_layer.0.t_output.LayerNorm.bias', 'bert.encoder.c_layer.1.biattention.query1.weight', 'bert.encoder.c_layer.1.biattention.query1.bias', 'bert.encoder.c_layer.1.biattention.key1.weight', 'bert.encoder.c_layer.1.biattention.key1.bias', 'bert.encoder.c_layer.1.biattention.value1.weight', 'bert.encoder.c_layer.1.biattention.value1.bias', 'bert.encoder.c_layer.1.biattention.query2.weight', 'bert.encoder.c_layer.1.biattention.query2.bias', 'bert.encoder.c_layer.1.biattention.key2.weight', 'bert.encoder.c_layer.1.biattention.key2.bias', 'bert.encoder.c_layer.1.biattention.value2.weight', 'bert.encoder.c_layer.1.biattention.value2.bias', 'bert.encoder.c_layer.1.biOutput.dense1.weight', 'bert.encoder.c_layer.1.biOutput.dense1.bias', 'bert.encoder.c_layer.1.biOutput.LayerNorm1.weight', 'bert.encoder.c_layer.1.biOutput.LayerNorm1.bias', 'bert.encoder.c_layer.1.biOutput.q_dense1.weight', 'bert.encoder.c_layer.1.biOutput.q_dense1.bias', 'bert.encoder.c_layer.1.biOutput.dense2.weight', 'bert.encoder.c_layer.1.biOutput.dense2.bias', 'bert.encoder.c_layer.1.biOutput.LayerNorm2.weight', 'bert.encoder.c_layer.1.biOutput.LayerNorm2.bias', 'bert.encoder.c_layer.1.biOutput.q_dense2.weight', 'bert.encoder.c_layer.1.biOutput.q_dense2.bias', 'bert.encoder.c_layer.1.v_intermediate.dense.weight', 'bert.encoder.c_layer.1.v_intermediate.dense.bias', 'bert.encoder.c_layer.1.v_output.dense.weight', 'bert.encoder.c_layer.1.v_output.dense.bias', 'bert.encoder.c_layer.1.v_output.LayerNorm.weight', 'bert.encoder.c_layer.1.v_output.LayerNorm.bias', 'bert.encoder.c_layer.1.t_intermediate.dense.weight', 'bert.encoder.c_layer.1.t_intermediate.dense.bias', 'bert.encoder.c_layer.1.t_output.dense.weight', 'bert.encoder.c_layer.1.t_output.dense.bias', 'bert.encoder.c_layer.1.t_output.LayerNorm.weight', 'bert.encoder.c_layer.1.t_output.LayerNorm.bias', 'bert.encoder.c_layer.2.biattention.query1.weight', 'bert.encoder.c_layer.2.biattention.query1.bias', 'bert.encoder.c_layer.2.biattention.key1.weight', 'bert.encoder.c_layer.2.biattention.key1.bias', 'bert.encoder.c_layer.2.biattention.value1.weight', 'bert.encoder.c_layer.2.biattention.value1.bias', 'bert.encoder.c_layer.2.biattention.query2.weight', 'bert.encoder.c_layer.2.biattention.query2.bias', 'bert.encoder.c_layer.2.biattention.key2.weight', 'bert.encoder.c_layer.2.biattention.key2.bias', 'bert.encoder.c_layer.2.biattention.value2.weight', 'bert.encoder.c_layer.2.biattention.value2.bias', 'bert.encoder.c_layer.2.biOutput.dense1.weight', 'bert.encoder.c_layer.2.biOutput.dense1.bias', 'bert.encoder.c_layer.2.biOutput.LayerNorm1.weight', 'bert.encoder.c_layer.2.biOutput.LayerNorm1.bias', 'bert.encoder.c_layer.2.biOutput.q_dense1.weight', 'bert.encoder.c_layer.2.biOutput.q_dense1.bias', 'bert.encoder.c_layer.2.biOutput.dense2.weight', 'bert.encoder.c_layer.2.biOutput.dense2.bias', 'bert.encoder.c_layer.2.biOutput.LayerNorm2.weight', 'bert.encoder.c_layer.2.biOutput.LayerNorm2.bias', 'bert.encoder.c_layer.2.biOutput.q_dense2.weight', 'bert.encoder.c_layer.2.biOutput.q_dense2.bias', 'bert.encoder.c_layer.2.v_intermediate.dense.weight', 'bert.encoder.c_layer.2.v_intermediate.dense.bias', 'bert.encoder.c_layer.2.v_output.dense.weight', 'bert.encoder.c_layer.2.v_output.dense.bias', 'bert.encoder.c_layer.2.v_output.LayerNorm.weight', 'bert.encoder.c_layer.2.v_output.LayerNorm.bias', 'bert.encoder.c_layer.2.t_intermediate.dense.weight', 'bert.encoder.c_layer.2.t_intermediate.dense.bias', 'bert.encoder.c_layer.2.t_output.dense.weight', 'bert.encoder.c_layer.2.t_output.dense.bias', 'bert.encoder.c_layer.2.t_output.LayerNorm.weight', 'bert.encoder.c_layer.2.t_output.LayerNorm.bias', 'bert.encoder.c_layer.3.biattention.query1.weight', 'bert.encoder.c_layer.3.biattention.query1.bias', 'bert.encoder.c_layer.3.biattention.key1.weight', 'bert.encoder.c_layer.3.biattention.key1.bias', 'bert.encoder.c_layer.3.biattention.value1.weight', 'bert.encoder.c_layer.3.biattention.value1.bias', 'bert.encoder.c_layer.3.biattention.query2.weight', 'bert.encoder.c_layer.3.biattention.query2.bias', 'bert.encoder.c_layer.3.biattention.key2.weight', 'bert.encoder.c_layer.3.biattention.key2.bias', 'bert.encoder.c_layer.3.biattention.value2.weight', 'bert.encoder.c_layer.3.biattention.value2.bias', 'bert.encoder.c_layer.3.biOutput.dense1.weight', 'bert.encoder.c_layer.3.biOutput.dense1.bias', 'bert.encoder.c_layer.3.biOutput.LayerNorm1.weight', 'bert.encoder.c_layer.3.biOutput.LayerNorm1.bias', 'bert.encoder.c_layer.3.biOutput.q_dense1.weight', 'bert.encoder.c_layer.3.biOutput.q_dense1.bias', 'bert.encoder.c_layer.3.biOutput.dense2.weight', 'bert.encoder.c_layer.3.biOutput.dense2.bias', 'bert.encoder.c_layer.3.biOutput.LayerNorm2.weight', 'bert.encoder.c_layer.3.biOutput.LayerNorm2.bias', 'bert.encoder.c_layer.3.biOutput.q_dense2.weight', 'bert.encoder.c_layer.3.biOutput.q_dense2.bias', 'bert.encoder.c_layer.3.v_intermediate.dense.weight', 'bert.encoder.c_layer.3.v_intermediate.dense.bias', 'bert.encoder.c_layer.3.v_output.dense.weight', 'bert.encoder.c_layer.3.v_output.dense.bias', 'bert.encoder.c_layer.3.v_output.LayerNorm.weight', 'bert.encoder.c_layer.3.v_output.LayerNorm.bias', 'bert.encoder.c_layer.3.t_intermediate.dense.weight', 'bert.encoder.c_layer.3.t_intermediate.dense.bias', 'bert.encoder.c_layer.3.t_output.dense.weight', 'bert.encoder.c_layer.3.t_output.dense.bias', 'bert.encoder.c_layer.3.t_output.LayerNorm.weight', 'bert.encoder.c_layer.3.t_output.LayerNorm.bias', 'bert.encoder.c_layer.4.biattention.query1.weight', 'bert.encoder.c_layer.4.biattention.query1.bias', 'bert.encoder.c_layer.4.biattention.key1.weight', 'bert.encoder.c_layer.4.biattention.key1.bias', 'bert.encoder.c_layer.4.biattention.value1.weight', 'bert.encoder.c_layer.4.biattention.value1.bias', 'bert.encoder.c_layer.4.biattention.query2.weight', 'bert.encoder.c_layer.4.biattention.query2.bias', 'bert.encoder.c_layer.4.biattention.key2.weight', 'bert.encoder.c_layer.4.biattention.key2.bias', 'bert.encoder.c_layer.4.biattention.value2.weight', 'bert.encoder.c_layer.4.biattention.value2.bias', 'bert.encoder.c_layer.4.biOutput.dense1.weight', 'bert.encoder.c_layer.4.biOutput.dense1.bias', 'bert.encoder.c_layer.4.biOutput.LayerNorm1.weight', 'bert.encoder.c_layer.4.biOutput.LayerNorm1.bias', 'bert.encoder.c_layer.4.biOutput.q_dense1.weight', 'bert.encoder.c_layer.4.biOutput.q_dense1.bias', 'bert.encoder.c_layer.4.biOutput.dense2.weight', 'bert.encoder.c_layer.4.biOutput.dense2.bias', 'bert.encoder.c_layer.4.biOutput.LayerNorm2.weight', 'bert.encoder.c_layer.4.biOutput.LayerNorm2.bias', 'bert.encoder.c_layer.4.biOutput.q_dense2.weight', 'bert.encoder.c_layer.4.biOutput.q_dense2.bias', 'bert.encoder.c_layer.4.v_intermediate.dense.weight', 'bert.encoder.c_layer.4.v_intermediate.dense.bias', 'bert.encoder.c_layer.4.v_output.dense.weight', 'bert.encoder.c_layer.4.v_output.dense.bias', 'bert.encoder.c_layer.4.v_output.LayerNorm.weight', 'bert.encoder.c_layer.4.v_output.LayerNorm.bias', 'bert.encoder.c_layer.4.t_intermediate.dense.weight', 'bert.encoder.c_layer.4.t_intermediate.dense.bias', 'bert.encoder.c_layer.4.t_output.dense.weight', 'bert.encoder.c_layer.4.t_output.dense.bias', 'bert.encoder.c_layer.4.t_output.LayerNorm.weight', 'bert.encoder.c_layer.4.t_output.LayerNorm.bias', 'bert.encoder.c_layer.5.biattention.query1.weight', 'bert.encoder.c_layer.5.biattention.query1.bias', 'bert.encoder.c_layer.5.biattention.key1.weight', 'bert.encoder.c_layer.5.biattention.key1.bias', 'bert.encoder.c_layer.5.biattention.value1.weight', 'bert.encoder.c_layer.5.biattention.value1.bias', 'bert.encoder.c_layer.5.biattention.query2.weight', 'bert.encoder.c_layer.5.biattention.query2.bias', 'bert.encoder.c_layer.5.biattention.key2.weight', 'bert.encoder.c_layer.5.biattention.key2.bias', 'bert.encoder.c_layer.5.biattention.value2.weight', 'bert.encoder.c_layer.5.biattention.value2.bias', 'bert.encoder.c_layer.5.biOutput.dense1.weight', 'bert.encoder.c_layer.5.biOutput.dense1.bias', 'bert.encoder.c_layer.5.biOutput.LayerNorm1.weight', 'bert.encoder.c_layer.5.biOutput.LayerNorm1.bias', 'bert.encoder.c_layer.5.biOutput.q_dense1.weight', 'bert.encoder.c_layer.5.biOutput.q_dense1.bias', 'bert.encoder.c_layer.5.biOutput.dense2.weight', 'bert.encoder.c_layer.5.biOutput.dense2.bias', 'bert.encoder.c_layer.5.biOutput.LayerNorm2.weight', 'bert.encoder.c_layer.5.biOutput.LayerNorm2.bias', 'bert.encoder.c_layer.5.biOutput.q_dense2.weight', 'bert.encoder.c_layer.5.biOutput.q_dense2.bias', 'bert.encoder.c_layer.5.v_intermediate.dense.weight', 'bert.encoder.c_layer.5.v_intermediate.dense.bias', 'bert.encoder.c_layer.5.v_output.dense.weight', 'bert.encoder.c_layer.5.v_output.dense.bias', 'bert.encoder.c_layer.5.v_output.LayerNorm.weight', 'bert.encoder.c_layer.5.v_output.LayerNorm.bias', 'bert.encoder.c_layer.5.t_intermediate.dense.weight', 'bert.encoder.c_layer.5.t_intermediate.dense.bias', 'bert.encoder.c_layer.5.t_output.dense.weight', 'bert.encoder.c_layer.5.t_output.dense.bias', 'bert.encoder.c_layer.5.t_output.LayerNorm.weight', 'bert.encoder.c_layer.5.t_output.LayerNorm.bias', 'bert.t_pooler.dense.weight', 'bert.t_pooler.dense.bias', 'bert.v_pooler.dense.weight', 'bert.v_pooler.dense.bias']\n",
      "You should probably TRAIN this model on a down-stream task to be able to use it for predictions and inference.\n"
     ]
    },
    {
     "name": "stderr",
     "output_type": "stream",
     "text": [
      "Config '/local/home/ahemf/mygit/facebook-hateful-memes/facebook_hateful_memes_detector/utils/faster_rcnn_R_101_C4_attr_caffemaxpool.yaml' has no VERSION. Assuming it to be compatible with latest v2.\n"
     ]
    },
    {
     "name": "stdout",
     "output_type": "stream",
     "text": [
      "N tokens Out =  196\n",
      "[WARNING]: Perform finetuning on model since num classes = 2 and featurizer_type = `pass`\n",
      "Autocast =  True Epochs =  0 Divisor = 1 Examples = 7200 Batch Size =  64\n",
      "Training Samples =  7200 Weighted Sampling =  False Num Batches =  113 Accumulation steps =  1\n"
     ]
    },
    {
     "data": {
      "application/vnd.jupyter.widget-view+json": {
       "model_id": "7a80a86ba4cc445ea8374ca886471a0e",
       "version_major": 2,
       "version_minor": 0
      },
      "text/plain": [
       "HBox(children=(FloatProgress(value=1.0, bar_style='info', max=1.0), HTML(value='')))"
      ]
     },
     "metadata": {},
     "output_type": "display_data"
    },
    {
     "name": "stdout",
     "output_type": "stream",
     "text": [
      "\n"
     ]
    },
    {
     "data": {
      "image/png": "[encoded data removed]",
      "text/plain": [
       "<Figure size 576x576 with 2 Axes>"
      ]
     },
     "metadata": {
      "image/png": {
       "height": 567,
       "width": 568
      },
      "needs_background": "light"
     },
     "output_type": "display_data"
    },
    {
     "data": {
      "text/html": [
       "<div>\n",
       "<style scoped>\n",
       "    .dataframe tbody tr th:only-of-type {\n",
       "        vertical-align: middle;\n",
       "    }\n",
       "\n",
       "    .dataframe tbody tr th {\n",
       "        vertical-align: top;\n",
       "    }\n",
       "\n",
       "    .dataframe thead tr th {\n",
       "        text-align: left;\n",
       "    }\n",
       "\n",
       "    .dataframe thead tr:last-of-type th {\n",
       "        text-align: right;\n",
       "    }\n",
       "</style>\n",
       "<table border=\"1\" class=\"dataframe\">\n",
       "  <thead>\n",
       "    <tr>\n",
       "      <th></th>\n",
       "      <th colspan=\"4\" halign=\"left\">Proba</th>\n",
       "      <th colspan=\"4\" halign=\"left\">Preds</th>\n",
       "    </tr>\n",
       "    <tr>\n",
       "      <th></th>\n",
       "      <th>mean</th>\n",
       "      <th>median</th>\n",
       "      <th>min</th>\n",
       "      <th>max</th>\n",
       "      <th>mean</th>\n",
       "      <th>median</th>\n",
       "      <th>min</th>\n",
       "      <th>max</th>\n",
       "    </tr>\n",
       "    <tr>\n",
       "      <th>Labels</th>\n",
       "      <th></th>\n",
       "      <th></th>\n",
       "      <th></th>\n",
       "      <th></th>\n",
       "      <th></th>\n",
       "      <th></th>\n",
       "      <th></th>\n",
       "      <th></th>\n",
       "    </tr>\n",
       "  </thead>\n",
       "  <tbody>\n",
       "    <tr>\n",
       "      <th>0.000</th>\n",
       "      <td>0.517</td>\n",
       "      <td>0.520</td>\n",
       "      <td>0.333</td>\n",
       "      <td>0.693</td>\n",
       "      <td>0.583</td>\n",
       "      <td>1.000</td>\n",
       "      <td>0.000</td>\n",
       "      <td>1.000</td>\n",
       "    </tr>\n",
       "    <tr>\n",
       "      <th>1.000</th>\n",
       "      <td>0.510</td>\n",
       "      <td>0.506</td>\n",
       "      <td>0.342</td>\n",
       "      <td>0.690</td>\n",
       "      <td>0.544</td>\n",
       "      <td>1.000</td>\n",
       "      <td>0.000</td>\n",
       "      <td>1.000</td>\n",
       "    </tr>\n",
       "  </tbody>\n",
       "</table>\n",
       "</div>"
      ],
      "text/plain": [
       "       Proba                    Preds                   \n",
       "        mean median   min   max  mean median   min   max\n",
       "Labels                                                  \n",
       "0.000  0.517  0.520 0.333 0.693 0.583  1.000 0.000 1.000\n",
       "1.000  0.510  0.506 0.342 0.690 0.544  1.000 0.000 1.000"
      ]
     },
     "metadata": {},
     "output_type": "display_data"
    },
    {
     "data": {
      "text/html": [
       "<div>\n",
       "<style scoped>\n",
       "    .dataframe tbody tr th:only-of-type {\n",
       "        vertical-align: middle;\n",
       "    }\n",
       "\n",
       "    .dataframe tbody tr th {\n",
       "        vertical-align: top;\n",
       "    }\n",
       "\n",
       "    .dataframe thead th {\n",
       "        text-align: right;\n",
       "    }\n",
       "</style>\n",
       "<table border=\"1\" class=\"dataframe\">\n",
       "  <thead>\n",
       "    <tr style=\"text-align: right;\">\n",
       "      <th></th>\n",
       "      <th>index</th>\n",
       "      <th>Proba</th>\n",
       "      <th>Preds</th>\n",
       "      <th>Labels</th>\n",
       "      <th>index</th>\n",
       "      <th>Proba</th>\n",
       "      <th>Preds</th>\n",
       "      <th>Labels</th>\n",
       "      <th>index</th>\n",
       "      <th>Proba</th>\n",
       "      <th>Preds</th>\n",
       "      <th>Labels</th>\n",
       "    </tr>\n",
       "  </thead>\n",
       "  <tbody>\n",
       "    <tr>\n",
       "      <th>0</th>\n",
       "      <td>1100</td>\n",
       "      <td>0.504</td>\n",
       "      <td>1.000</td>\n",
       "      <td>0.000</td>\n",
       "      <td>545</td>\n",
       "      <td>0.618</td>\n",
       "      <td>1.000</td>\n",
       "      <td>0.000</td>\n",
       "      <td>272</td>\n",
       "      <td>0.571</td>\n",
       "      <td>1.000</td>\n",
       "      <td>0.000</td>\n",
       "    </tr>\n",
       "    <tr>\n",
       "      <th>1</th>\n",
       "      <td>757</td>\n",
       "      <td>0.382</td>\n",
       "      <td>0.000</td>\n",
       "      <td>0.000</td>\n",
       "      <td>67</td>\n",
       "      <td>0.534</td>\n",
       "      <td>1.000</td>\n",
       "      <td>0.000</td>\n",
       "      <td>373</td>\n",
       "      <td>0.569</td>\n",
       "      <td>1.000</td>\n",
       "      <td>1.000</td>\n",
       "    </tr>\n",
       "    <tr>\n",
       "      <th>2</th>\n",
       "      <td>1590</td>\n",
       "      <td>0.399</td>\n",
       "      <td>0.000</td>\n",
       "      <td>1.000</td>\n",
       "      <td>519</td>\n",
       "      <td>0.524</td>\n",
       "      <td>1.000</td>\n",
       "      <td>0.000</td>\n",
       "      <td>1361</td>\n",
       "      <td>0.574</td>\n",
       "      <td>1.000</td>\n",
       "      <td>0.000</td>\n",
       "    </tr>\n",
       "    <tr>\n",
       "      <th>3</th>\n",
       "      <td>1178</td>\n",
       "      <td>0.561</td>\n",
       "      <td>1.000</td>\n",
       "      <td>1.000</td>\n",
       "      <td>816</td>\n",
       "      <td>0.518</td>\n",
       "      <td>1.000</td>\n",
       "      <td>0.000</td>\n",
       "      <td>1464</td>\n",
       "      <td>0.487</td>\n",
       "      <td>0.000</td>\n",
       "      <td>0.000</td>\n",
       "    </tr>\n",
       "  </tbody>\n",
       "</table>\n",
       "</div>"
      ],
      "text/plain": [
       "   index  Proba  Preds  Labels  index  Proba  Preds  Labels  index  Proba  \\\n",
       "0   1100  0.504  1.000   0.000    545  0.618  1.000   0.000    272  0.571   \n",
       "1    757  0.382  0.000   0.000     67  0.534  1.000   0.000    373  0.569   \n",
       "2   1590  0.399  0.000   1.000    519  0.524  1.000   0.000   1361  0.574   \n",
       "3   1178  0.561  1.000   1.000    816  0.518  1.000   0.000   1464  0.487   \n",
       "\n",
       "   Preds  Labels  \n",
       "0  1.000   0.000  \n",
       "1  1.000   1.000  \n",
       "2  1.000   0.000  \n",
       "3  0.000   0.000  "
      ]
     },
     "metadata": {},
     "output_type": "display_data"
    },
    {
     "name": "stdout",
     "output_type": "stream",
     "text": [
      "scores =  {'map': '0.3459', 'acc': '0.4633', 'auc': '0.4710'}\n"
     ]
    },
    {
     "data": {
      "text/html": [
       "<div>\n",
       "<style scoped>\n",
       "    .dataframe tbody tr th:only-of-type {\n",
       "        vertical-align: middle;\n",
       "    }\n",
       "\n",
       "    .dataframe tbody tr th {\n",
       "        vertical-align: top;\n",
       "    }\n",
       "\n",
       "    .dataframe thead th {\n",
       "        text-align: right;\n",
       "    }\n",
       "</style>\n",
       "<table border=\"1\" class=\"dataframe\">\n",
       "  <thead>\n",
       "    <tr style=\"text-align: right;\">\n",
       "      <th></th>\n",
       "      <th></th>\n",
       "      <th>train</th>\n",
       "      <th>val</th>\n",
       "    </tr>\n",
       "    <tr>\n",
       "      <th>mean_or_std</th>\n",
       "      <th>metric</th>\n",
       "      <th></th>\n",
       "      <th></th>\n",
       "    </tr>\n",
       "  </thead>\n",
       "  <tbody>\n",
       "    <tr>\n",
       "      <th rowspan=\"3\" valign=\"top\">mean</th>\n",
       "      <th>map</th>\n",
       "      <td>0.357</td>\n",
       "      <td>0.346</td>\n",
       "    </tr>\n",
       "    <tr>\n",
       "      <th>accuracy</th>\n",
       "      <td>0.461</td>\n",
       "      <td>0.463</td>\n",
       "    </tr>\n",
       "    <tr>\n",
       "      <th>auc</th>\n",
       "      <td>0.482</td>\n",
       "      <td>0.471</td>\n",
       "    </tr>\n",
       "    <tr>\n",
       "      <th rowspan=\"3\" valign=\"top\">std</th>\n",
       "      <th>map</th>\n",
       "      <td>0.000</td>\n",
       "      <td>0.000</td>\n",
       "    </tr>\n",
       "    <tr>\n",
       "      <th>accuracy</th>\n",
       "      <td>0.000</td>\n",
       "      <td>0.000</td>\n",
       "    </tr>\n",
       "    <tr>\n",
       "      <th>auc</th>\n",
       "      <td>0.000</td>\n",
       "      <td>0.000</td>\n",
       "    </tr>\n",
       "  </tbody>\n",
       "</table>\n",
       "</div>"
      ],
      "text/plain": [
       "                      train   val\n",
       "mean_or_std metric               \n",
       "mean        map       0.357 0.346\n",
       "            accuracy  0.461 0.463\n",
       "            auc       0.482 0.471\n",
       "std         map       0.000 0.000\n",
       "            accuracy  0.000 0.000\n",
       "            auc       0.000 0.000"
      ]
     },
     "execution_count": 5,
     "metadata": {},
     "output_type": "execute_result"
    },
    {
     "data": {
      "text/html": [
       "<div>\n",
       "<style scoped>\n",
       "    .dataframe tbody tr th:only-of-type {\n",
       "        vertical-align: middle;\n",
       "    }\n",
       "\n",
       "    .dataframe tbody tr th {\n",
       "        vertical-align: top;\n",
       "    }\n",
       "\n",
       "    .dataframe thead tr th {\n",
       "        text-align: left;\n",
       "    }\n",
       "</style>\n",
       "<table border=\"1\" class=\"dataframe\">\n",
       "  <thead>\n",
       "    <tr>\n",
       "      <th></th>\n",
       "      <th colspan=\"4\" halign=\"left\">train</th>\n",
       "      <th colspan=\"4\" halign=\"left\">val</th>\n",
       "    </tr>\n",
       "    <tr>\n",
       "      <th></th>\n",
       "      <th>precision</th>\n",
       "      <th>recall</th>\n",
       "      <th>f1</th>\n",
       "      <th>supoort</th>\n",
       "      <th>precision</th>\n",
       "      <th>recall</th>\n",
       "      <th>f1</th>\n",
       "      <th>supoort</th>\n",
       "    </tr>\n",
       "  </thead>\n",
       "  <tbody>\n",
       "    <tr>\n",
       "      <th>neg</th>\n",
       "      <td>0.615</td>\n",
       "      <td>0.400</td>\n",
       "      <td>0.485</td>\n",
       "      <td>4560.000</td>\n",
       "      <td>0.612</td>\n",
       "      <td>0.417</td>\n",
       "      <td>0.496</td>\n",
       "      <td>1140.000</td>\n",
       "    </tr>\n",
       "    <tr>\n",
       "      <th>pos</th>\n",
       "      <td>0.354</td>\n",
       "      <td>0.567</td>\n",
       "      <td>0.436</td>\n",
       "      <td>2640.000</td>\n",
       "      <td>0.351</td>\n",
       "      <td>0.544</td>\n",
       "      <td>0.426</td>\n",
       "      <td>660.000</td>\n",
       "    </tr>\n",
       "  </tbody>\n",
       "</table>\n",
       "</div>"
      ],
      "text/plain": [
       "        train                             val                      \n",
       "    precision recall    f1  supoort precision recall    f1  supoort\n",
       "neg     0.615  0.400 0.485 4560.000     0.612  0.417 0.496 1140.000\n",
       "pos     0.354  0.567 0.436 2640.000     0.351  0.544 0.426  660.000"
      ]
     },
     "execution_count": 5,
     "metadata": {},
     "output_type": "execute_result"
    }
   ],
   "source": [
    "adam = torch.optim.Adam\n",
    "adam_params = params = dict(lr=1e-4, weight_decay=1e-3)\n",
    "optimizer = adam\n",
    "optimizer_params = adam_params\n",
    "\n",
    "from facebook_hateful_memes_detector.models.MultiModal.VilBertVisualBert import VilBertVisualBertModel\n",
    "lr_strategy = {\n",
    "    \"vilbert\": {\n",
    "        \"lr\": optimizer_params[\"lr\"] / 10,\n",
    "        \"model\": {\n",
    "            \"bert\": {\n",
    "                \"t_pooler\": {\n",
    "                    \"lr\": optimizer_params[\"lr\"],\n",
    "                    \"finetune\": True\n",
    "                },\n",
    "                \"v_pooler\": {\n",
    "                    \"lr\": optimizer_params[\"lr\"],\n",
    "                    \"finetune\": True\n",
    "                }\n",
    "            },\n",
    "            \"classifier\": {\n",
    "                \"lr\": optimizer_params[\"lr\"],\n",
    "                \"finetune\": True\n",
    "            }\n",
    "        },\n",
    "        \"finetune\": True\n",
    "    }\n",
    "}\n",
    "epochs = 0\n",
    "batch_size = 64\n",
    "model_fn = model_builder(\n",
    "    VilBertVisualBertModel,\n",
    "    dict(\n",
    "        model_name={\"vilbert\": dict(gaussian_noise=0.0, dropout=0.0)},\n",
    "        num_classes=2,\n",
    "        gaussian_noise=0.0,\n",
    "        dropout=0.0,\n",
    "        word_masking_proba=0.0,\n",
    "        featurizer=\"pass\",\n",
    "        final_layer_builder=fb_1d_loss_builder,\n",
    "        internal_dims=256,\n",
    "        classifier_dims=768,\n",
    "        n_tokens_in=96,\n",
    "        n_tokens_out=16,\n",
    "        n_layers=2,\n",
    "        loss=\"classification\",\n",
    "        dice_loss_coef=0.0,\n",
    "        auc_loss_coef=0.0,\n",
    "    ),\n",
    "    per_param_opts_fn=lr_strategy,\n",
    "    optimiser_class=optimizer,\n",
    "    optimiser_params=optimizer_params)\n",
    "\n",
    "kfold = False\n",
    "results, prfs = train_validate_ntimes(\n",
    "    model_fn,\n",
    "    data,\n",
    "    batch_size,\n",
    "    epochs,\n",
    "    kfold=kfold,\n",
    "    scheduler_init_fn=scheduler_init_fn,\n",
    "    show_model_stats=False,\n",
    "    validation_epochs=[4, 7, 9, 11, 14, 17, 19])\n",
    "r1, p1 = results, prfs\n",
    "results\n",
    "prfs\n",
    "\n",
    "# 1h 45m\n",
    "# 4m 49s"
   ]
  },
  {
   "cell_type": "markdown",
   "metadata": {
    "heading_collapsed": true
   },
   "source": [
    "# Triple Bert Pooled"
   ]
  },
  {
   "cell_type": "code",
   "execution_count": null,
   "metadata": {
    "ExecuteTime": {
     "end_time": "2020-07-04T19:18:53.420557Z",
     "start_time": "2020-07-04T19:18:53.414049Z"
    },
    "code_folding": [],
    "hidden": true
   },
   "outputs": [],
   "source": [
    "batch_size = 32\n",
    "epochs = 10\n",
    "lr_strategy = {\n",
    "    \"lxmert\": {\n",
    "        \"lr\": optimizer_params[\"lr\"] / 100\n",
    "    },\n",
    "}\n",
    "\n",
    "from facebook_hateful_memes_detector.models.MultiModal.VilBertVisualBert import VilBertVisualBertModel\n",
    "\n",
    "model_fn = model_builder(VilBertVisualBertModel,\n",
    "                         dict(\n",
    "                             model_name=[\"vilbert\", \"lxmert\", \"visual_bert\"],\n",
    "                             num_classes=2,\n",
    "                             gaussian_noise=0.1,\n",
    "                             dropout=0.35,\n",
    "                             featurizer=\"pass\",\n",
    "                             final_layer_builder=fb_1d_loss_builder,\n",
    "                             internal_dims=None,\n",
    "                             classifier_dims=768,\n",
    "                             n_tokens_out=96 + 100 + 96 + 36 + 96 + 100,\n",
    "                             n_tokens_in=96,\n",
    "                             n_layers=2,\n",
    "                             task=\"classification\",\n",
    "                             finetune_vilbert=False,\n",
    "                             finetune_lxmert=True,\n",
    "                             finetune_visual_bert=False,\n",
    "                         ),\n",
    "                         per_param_opts_fn=None,\n",
    "                         optimiser_class=optimizer,\n",
    "                         optimiser_params=optimizer_params)\n",
    "\n",
    "# 1h 45m"
   ]
  },
  {
   "cell_type": "code",
   "execution_count": null,
   "metadata": {
    "ExecuteTime": {
     "end_time": "2020-07-03T03:57:46.677913Z",
     "start_time": "2020-07-03T03:52:48.496418Z"
    },
    "hidden": true
   },
   "outputs": [],
   "source": [
    "\n",
    "multi_eval = False\n",
    "kfold = False\n",
    "results, prfs = train_validate_ntimes(\n",
    "    model_fn,\n",
    "    data,\n",
    "    batch_size,\n",
    "    epochs,\n",
    "    augmentation_weights=augmentation_weights,\n",
    "    kfold=kfold,\n",
    "    multi_eval=multi_eval,\n",
    "    scheduler_init_fn=scheduler_init_fn,\n",
    "    validation_epochs=[1, 4, 7, 9, 11, 14, 17, 19], \n",
    "    show_model_stats=True)\n",
    "r1, p1 = results, prfs\n",
    "results\n",
    "prfs\n"
   ]
  },
  {
   "cell_type": "markdown",
   "metadata": {
    "heading_collapsed": true
   },
   "source": [
    "# Triple Bert Transformer"
   ]
  },
  {
   "cell_type": "code",
   "execution_count": null,
   "metadata": {
    "ExecuteTime": {
     "end_time": "2020-06-30T18:07:52.973636Z",
     "start_time": "2020-06-30T18:05:39.609920Z"
    },
    "hidden": true
   },
   "outputs": [],
   "source": [
    "batch_size=32\n",
    "from facebook_hateful_memes_detector.models.MultiModal.VilBertVisualBert import VilBertVisualBertModel\n",
    "\n",
    "model_fn = model_builder(VilBertVisualBertModel, \n",
    "                         dict(model_name=[\"vilbert\", \"lxmert\", \"visual_bert\"], num_classes=2,\n",
    "                 gaussian_noise=0.25, dropout=0.15,\n",
    "                              featurizer=\"transformer\",final_layer_builder=fb_1d_loss_builder,\n",
    "                 internal_dims=256, classifier_dims=256, n_tokens_in=96,\n",
    "                 n_tokens_out=32, n_layers=2,task=\"classification\", finetune=True),\n",
    "                         per_param_opts_fn=None,\n",
    "                         optimiser_class=optimizer, optimiser_params=optimizer_params)\n",
    "\n",
    "\n",
    "\n",
    "\n",
    "n_tests = 1\n",
    "multi_eval=False\n",
    "kfold=False\n",
    "results, prfs = train_validate_ntimes(model_fn, data, batch_size, epochs, \n",
    "                                      augmentation_weights=augmentation_weights, \n",
    "                                      kfold=kfold, multi_eval=multi_eval,\n",
    "                                      scheduler_init_fn=scheduler_init_fn, \n",
    "                                      validation_epochs=[1, 4, 7, 9, 11, 14, 17, 19])\n",
    "r1, p1 = results, prfs\n",
    "results\n",
    "prfs\n",
    "\n",
    "\n",
    "# 1h 45m\n",
    "\n"
   ]
  },
  {
   "cell_type": "markdown",
   "metadata": {},
   "source": [
    "# Predict"
   ]
  },
  {
   "cell_type": "code",
   "execution_count": 5,
   "metadata": {
    "ExecuteTime": {
     "end_time": "2020-07-15T20:46:44.592833Z",
     "start_time": "2020-07-15T20:46:44.580837Z"
    }
   },
   "outputs": [],
   "source": [
    "lr_strategy = {\n",
    "    \"lxmert\": {\n",
    "        \"model\": {\n",
    "            \"bert\": {\n",
    "                \"encoder\": {\n",
    "                    \"x_layers\": {\n",
    "                        \"lr\": optimizer_params[\"lr\"] / 1e1,\n",
    "                        \"finetune\": True\n",
    "                    },\n",
    "                    \"finetune\": False\n",
    "                },\n",
    "                \"pooler\": {\n",
    "                    \"lr\": optimizer_params[\"lr\"] / 1e1,\n",
    "                    \"finetune\": True\n",
    "                },\n",
    "            },\n",
    "            \"finetune\": False\n",
    "        }\n",
    "    },\n",
    "    \"vilbert\": {\n",
    "        \"lr\": optimizer_params[\"lr\"] / 10000,\n",
    "        \"model\": {\n",
    "            \"bert\": {\n",
    "                \"t_pooler\": {\n",
    "                    \"lr\": optimizer_params[\"lr\"] / 1e1,\n",
    "                    \"finetune\": True\n",
    "                },\n",
    "                \"v_pooler\": {\n",
    "                    \"lr\": optimizer_params[\"lr\"] / 1e1,\n",
    "                    \"finetune\": True\n",
    "                }\n",
    "            }\n",
    "        },\n",
    "        \"finetune\": False\n",
    "    },\n",
    "    \"visual_bert\": {\n",
    "        \"model\": {\n",
    "            \"bert\": {\n",
    "                \"pooler\": {\n",
    "                    \"lr\": optimizer_params[\"lr\"] / 1e1,\n",
    "                    \"finetune\": True\n",
    "                }\n",
    "            }\n",
    "        },\n",
    "        \"finetune\": False\n",
    "    },\n",
    "    \"mmbt_region\": {\n",
    "        \"model\": {\n",
    "            \"bert\": {\n",
    "                \"mmbt\": {\n",
    "                    \"transformer\": {\n",
    "                        \"pooler\": {\n",
    "                            \"lr\": optimizer_params[\"lr\"] / 1e1,\n",
    "                            \"finetune\": True\n",
    "                        }\n",
    "                    }\n",
    "                }\n",
    "            }\n",
    "        },\n",
    "        \"finetune\": False\n",
    "    }\n",
    "}\n",
    "\n",
    "model_fn = model_builder(VilBertVisualBertModel,\n",
    "                         dict(model_name={\n",
    "                             \"lxmert\":\n",
    "                             dict(finetune=True,\n",
    "                                  dropout=0.0,\n",
    "                                  gaussian_noise=0.0),\n",
    "                             \"visual_bert\":\n",
    "                             dict(finetune=False,\n",
    "                                  dropout=0.0,\n",
    "                                  gaussian_noise=0.0),\n",
    "                             \"vilbert\":\n",
    "                             dict(finetune=False,\n",
    "                                  dropout=0.0,\n",
    "                                  gaussian_noise=0.0),\n",
    "                             \"mmbt_region\":\n",
    "                             dict(finetune=True,\n",
    "                                  dropout=0.0,\n",
    "                                  gaussian_noise=0.0),\n",
    "                         },\n",
    "                              num_classes=2,\n",
    "                              gaussian_noise=0.0,\n",
    "                              dropout=0.1,\n",
    "                              featurizer=\"pass\",\n",
    "                              final_layer_builder=fb_1d_loss_builder,\n",
    "                              internal_dims=768,\n",
    "                              classifier_dims=768,\n",
    "                              n_tokens_in=96,\n",
    "                              n_tokens_out=96,\n",
    "                              n_layers=2,\n",
    "                              loss=\"focal\",\n",
    "                              dice_loss_coef=0.0,\n",
    "                              auc_loss_coef=0.0,\n",
    "                              word_masking_proba=0.15),\n",
    "                         per_param_opts_fn=lr_strategy,\n",
    "                         optimiser_class=optimizer,\n",
    "                         optimiser_params=optimizer_params)\n",
    "\n",
    "# model, opt = model_fn()\n",
    "# model\n",
    "\n",
    "##\n",
    "## MMBT Region, Per module regularization, word_masking_proba, reg_scheduling\n",
    "\n",
    "## Next accumulation_steps"
   ]
  },
  {
   "cell_type": "code",
   "execution_count": 6,
   "metadata": {
    "ExecuteTime": {
     "end_time": "2020-07-15T21:42:08.823478Z",
     "start_time": "2020-07-15T20:46:45.353707Z"
    }
   },
   "outputs": [
    {
     "name": "stdout",
     "output_type": "stream",
     "text": [
      "Overriding option config to projects/hateful_memes/configs/vilbert/from_cc.yaml\n",
      "Overriding option model to vilbert\n",
      "Overriding option datasets to hateful_memes\n",
      "Overriding option run_type to val\n",
      "Overriding option checkpoint.resume_zoo to vilbert.finetuned.hateful_memes.from_cc_original\n",
      "Overriding option evaluation.predict to true\n",
      "Overriding option config to projects/hateful_memes/configs/visual_bert/from_coco.yaml\n",
      "Overriding option model to visual_bert\n",
      "Overriding option datasets to hateful_memes\n",
      "Overriding option run_type to val\n",
      "Overriding option checkpoint.resume_zoo to visual_bert.finetuned.hateful_memes.from_coco\n",
      "Overriding option evaluation.predict to true\n",
      "LXRT encoder with 9 l_layers, 5 x_layers, and 5 r_layers.\n",
      "Load LXMERT pre-trained model from /home/ahemf/.pytorch_pretrained_bert/acfabf2c6d3708e226675d880fed09a14878ef2aee577eeefa8e27a6a22d5b3e.5392626539fa4619737ae314ee55e15de3097750e782865c604a83312ea77251\n",
      "\n",
      "Weights in loaded but not in model:\n",
      "answer_head.logit_fc.0.bias\n",
      "answer_head.logit_fc.0.weight\n",
      "answer_head.logit_fc.2.bias\n",
      "answer_head.logit_fc.2.weight\n",
      "answer_head.logit_fc.3.bias\n",
      "answer_head.logit_fc.3.weight\n",
      "cls.predictions.bias\n",
      "cls.predictions.decoder.weight\n",
      "cls.predictions.transform.LayerNorm.bias\n",
      "cls.predictions.transform.LayerNorm.weight\n",
      "cls.predictions.transform.dense.bias\n",
      "cls.predictions.transform.dense.weight\n",
      "cls.seq_relationship.bias\n",
      "cls.seq_relationship.weight\n",
      "obj_predict_head.decoder_dict.attr.bias\n",
      "obj_predict_head.decoder_dict.attr.weight\n",
      "obj_predict_head.decoder_dict.feat.bias\n",
      "obj_predict_head.decoder_dict.feat.weight\n",
      "obj_predict_head.decoder_dict.obj.bias\n",
      "obj_predict_head.decoder_dict.obj.weight\n",
      "obj_predict_head.transform.LayerNorm.bias\n",
      "obj_predict_head.transform.LayerNorm.weight\n",
      "obj_predict_head.transform.dense.bias\n",
      "obj_predict_head.transform.dense.weight\n",
      "\n",
      "Weights in model but not in loaded:\n",
      "\n",
      "Overriding option config to projects/hateful_memes/configs/mmbt/with_features.yaml\n",
      "Overriding option model to mmbt\n",
      "Overriding option datasets to hateful_memes\n",
      "Overriding option run_type to val\n",
      "Overriding option checkpoint.resume_zoo to mmbt.hateful_memes.features\n",
      "Overriding option evaluation.predict to true\n"
     ]
    },
    {
     "name": "stderr",
     "output_type": "stream",
     "text": [
      "Config '/local/home/ahemf/mygit/facebook-hateful-memes/facebook_hateful_memes_detector/utils/faster_rcnn_R_101_C4_attr_caffemaxpool.yaml' has no VERSION. Assuming it to be compatible with latest v2.\n",
      "Config '/local/home/ahemf/mygit/facebook-hateful-memes/facebook_hateful_memes_detector/utils/faster_rcnn_R_101_C4_attr_caffemaxpool.yaml' has no VERSION. Assuming it to be compatible with latest v2.\n"
     ]
    },
    {
     "name": "stdout",
     "output_type": "stream",
     "text": [
      "N tokens Out =  722\n",
      "Autocast =  True Epochs =  2 Divisor = 1 Examples = 9000 Batch Size =  32\n",
      "Training Samples =  9000 Weighted Sampling =  False Num Batches =  282 Accumulation steps =  1\n"
     ]
    },
    {
     "data": {
      "application/vnd.jupyter.widget-view+json": {
       "model_id": "acdd82ad043346b5a2a003603a72550c",
       "version_major": 2,
       "version_minor": 0
      },
      "text/plain": [
       "HBox(children=(FloatProgress(value=0.0, max=2.0), HTML(value='')))"
      ]
     },
     "metadata": {},
     "output_type": "display_data"
    },
    {
     "data": {
      "application/vnd.jupyter.widget-view+json": {
       "model_id": "7778287618c148e8b259f72d21b5816a",
       "version_major": 2,
       "version_minor": 0
      },
      "text/plain": [
       "HBox(children=(FloatProgress(value=0.0, max=282.0), HTML(value='')))"
      ]
     },
     "metadata": {},
     "output_type": "display_data"
    },
    {
     "name": "stdout",
     "output_type": "stream",
     "text": [
      "\n",
      "Epoch =  1 Loss = 0.324990 LR = 0.00008113\n"
     ]
    },
    {
     "data": {
      "application/vnd.jupyter.widget-view+json": {
       "model_id": "cc166c08c7ff4b5c9321ec57c8e6559d",
       "version_major": 2,
       "version_minor": 0
      },
      "text/plain": [
       "HBox(children=(FloatProgress(value=0.0, max=282.0), HTML(value='')))"
      ]
     },
     "metadata": {},
     "output_type": "display_data"
    },
    {
     "name": "stdout",
     "output_type": "stream",
     "text": [
      "\n",
      "Epoch =  2 Loss = 0.167811 LR = 0.00000000\n",
      "\n"
     ]
    },
    {
     "data": {
      "image/png": "[encoded data removed]",
      "text/plain": [
       "<Figure size 576x576 with 2 Axes>"
      ]
     },
     "metadata": {
      "image/png": {
       "height": 567,
       "width": 568
      },
      "needs_background": "light"
     },
     "output_type": "display_data"
    },
    {
     "data": {
      "text/html": [
       "<div>\n",
       "<style scoped>\n",
       "    .dataframe tbody tr th:only-of-type {\n",
       "        vertical-align: middle;\n",
       "    }\n",
       "\n",
       "    .dataframe tbody tr th {\n",
       "        vertical-align: top;\n",
       "    }\n",
       "\n",
       "    .dataframe thead th {\n",
       "        text-align: right;\n",
       "    }\n",
       "</style>\n",
       "<table border=\"1\" class=\"dataframe\">\n",
       "  <thead>\n",
       "    <tr style=\"text-align: right;\">\n",
       "      <th></th>\n",
       "      <th>id</th>\n",
       "      <th>proba</th>\n",
       "      <th>label</th>\n",
       "    </tr>\n",
       "  </thead>\n",
       "  <tbody>\n",
       "    <tr>\n",
       "      <th>372</th>\n",
       "      <td>78936</td>\n",
       "      <td>0.454</td>\n",
       "      <td>0</td>\n",
       "    </tr>\n",
       "    <tr>\n",
       "      <th>994</th>\n",
       "      <td>79405</td>\n",
       "      <td>0.387</td>\n",
       "      <td>0</td>\n",
       "    </tr>\n",
       "    <tr>\n",
       "      <th>920</th>\n",
       "      <td>72415</td>\n",
       "      <td>0.507</td>\n",
       "      <td>1</td>\n",
       "    </tr>\n",
       "  </tbody>\n",
       "</table>\n",
       "</div>"
      ],
      "text/plain": [
       "        id  proba  label\n",
       "372  78936  0.454      0\n",
       "994  79405  0.387      0\n",
       "920  72415  0.507      1"
      ]
     },
     "execution_count": 6,
     "metadata": {},
     "output_type": "execute_result"
    }
   ],
   "source": [
    "\n",
    "\n",
    "batch_size = 32\n",
    "epochs = 2\n",
    "\n",
    "submission, text_model = train_and_predict(\n",
    "    model_fn,\n",
    "    data,\n",
    "    batch_size,\n",
    "    epochs,\n",
    "    scheduler_init_fn=scheduler_init_fn,\n",
    "    accumulation_steps=1,\n",
    "    model_call_back=reg_sched,\n",
    "    sampling_policy=None) # \"without_replacement\"\n",
    "\n",
    "submission.to_csv(\"submission.csv\", index=False)\n",
    "submission.sample(3)\n"
   ]
  },
  {
   "cell_type": "code",
   "execution_count": 14,
   "metadata": {
    "ExecuteTime": {
     "end_time": "2020-07-16T04:58:54.696058Z",
     "start_time": "2020-07-16T04:58:54.683020Z"
    }
   },
   "outputs": [
    {
     "data": {
      "text/html": [
       "<div>\n",
       "<style scoped>\n",
       "    .dataframe tbody tr th:only-of-type {\n",
       "        vertical-align: middle;\n",
       "    }\n",
       "\n",
       "    .dataframe tbody tr th {\n",
       "        vertical-align: top;\n",
       "    }\n",
       "\n",
       "    .dataframe thead th {\n",
       "        text-align: right;\n",
       "    }\n",
       "</style>\n",
       "<table border=\"1\" class=\"dataframe\">\n",
       "  <thead>\n",
       "    <tr style=\"text-align: right;\">\n",
       "      <th></th>\n",
       "      <th>id</th>\n",
       "      <th>proba</th>\n",
       "      <th>label</th>\n",
       "    </tr>\n",
       "  </thead>\n",
       "  <tbody>\n",
       "    <tr>\n",
       "      <th>31</th>\n",
       "      <td>89432</td>\n",
       "      <td>0.428</td>\n",
       "      <td>0</td>\n",
       "    </tr>\n",
       "    <tr>\n",
       "      <th>555</th>\n",
       "      <td>37145</td>\n",
       "      <td>0.365</td>\n",
       "      <td>0</td>\n",
       "    </tr>\n",
       "    <tr>\n",
       "      <th>468</th>\n",
       "      <td>87924</td>\n",
       "      <td>0.515</td>\n",
       "      <td>1</td>\n",
       "    </tr>\n",
       "    <tr>\n",
       "      <th>829</th>\n",
       "      <td>97456</td>\n",
       "      <td>0.457</td>\n",
       "      <td>0</td>\n",
       "    </tr>\n",
       "    <tr>\n",
       "      <th>158</th>\n",
       "      <td>3146</td>\n",
       "      <td>0.481</td>\n",
       "      <td>0</td>\n",
       "    </tr>\n",
       "    <tr>\n",
       "      <th>202</th>\n",
       "      <td>27496</td>\n",
       "      <td>0.387</td>\n",
       "      <td>0</td>\n",
       "    </tr>\n",
       "    <tr>\n",
       "      <th>45</th>\n",
       "      <td>57932</td>\n",
       "      <td>0.542</td>\n",
       "      <td>1</td>\n",
       "    </tr>\n",
       "    <tr>\n",
       "      <th>587</th>\n",
       "      <td>71649</td>\n",
       "      <td>0.381</td>\n",
       "      <td>0</td>\n",
       "    </tr>\n",
       "    <tr>\n",
       "      <th>53</th>\n",
       "      <td>60345</td>\n",
       "      <td>0.392</td>\n",
       "      <td>0</td>\n",
       "    </tr>\n",
       "    <tr>\n",
       "      <th>903</th>\n",
       "      <td>51890</td>\n",
       "      <td>0.428</td>\n",
       "      <td>0</td>\n",
       "    </tr>\n",
       "  </tbody>\n",
       "</table>\n",
       "</div>"
      ],
      "text/plain": [
       "        id  proba  label\n",
       "31   89432  0.428      0\n",
       "555  37145  0.365      0\n",
       "468  87924  0.515      1\n",
       "829  97456  0.457      0\n",
       "158   3146  0.481      0\n",
       "202  27496  0.387      0\n",
       "45   57932  0.542      1\n",
       "587  71649  0.381      0\n",
       "53   60345  0.392      0\n",
       "903  51890  0.428      0"
      ]
     },
     "execution_count": 14,
     "metadata": {},
     "output_type": "execute_result"
    },
    {
     "data": {
      "text/plain": [
       "0    805\n",
       "1    195\n",
       "Name: label, dtype: int64"
      ]
     },
     "execution_count": 14,
     "metadata": {},
     "output_type": "execute_result"
    }
   ],
   "source": [
    "submission.sample(10)\n",
    "submission.label.value_counts()"
   ]
  },
  {
   "cell_type": "code",
   "execution_count": 8,
   "metadata": {
    "ExecuteTime": {
     "end_time": "2020-07-16T01:18:47.528516Z",
     "start_time": "2020-07-15T21:42:09.784956Z"
    }
   },
   "outputs": [
    {
     "name": "stdout",
     "output_type": "stream",
     "text": [
      "Overriding option config to projects/hateful_memes/configs/vilbert/from_cc.yaml\n",
      "Overriding option model to vilbert\n",
      "Overriding option datasets to hateful_memes\n",
      "Overriding option run_type to val\n",
      "Overriding option checkpoint.resume_zoo to vilbert.finetuned.hateful_memes.from_cc_original\n",
      "Overriding option evaluation.predict to true\n",
      "Overriding option config to projects/hateful_memes/configs/visual_bert/from_coco.yaml\n",
      "Overriding option model to visual_bert\n",
      "Overriding option datasets to hateful_memes\n",
      "Overriding option run_type to val\n",
      "Overriding option checkpoint.resume_zoo to visual_bert.finetuned.hateful_memes.from_coco\n",
      "Overriding option evaluation.predict to true\n",
      "LXRT encoder with 9 l_layers, 5 x_layers, and 5 r_layers.\n",
      "Load LXMERT pre-trained model from /home/ahemf/.pytorch_pretrained_bert/acfabf2c6d3708e226675d880fed09a14878ef2aee577eeefa8e27a6a22d5b3e.5392626539fa4619737ae314ee55e15de3097750e782865c604a83312ea77251\n",
      "\n",
      "Weights in loaded but not in model:\n",
      "answer_head.logit_fc.0.bias\n",
      "answer_head.logit_fc.0.weight\n",
      "answer_head.logit_fc.2.bias\n",
      "answer_head.logit_fc.2.weight\n",
      "answer_head.logit_fc.3.bias\n",
      "answer_head.logit_fc.3.weight\n",
      "cls.predictions.bias\n",
      "cls.predictions.decoder.weight\n",
      "cls.predictions.transform.LayerNorm.bias\n",
      "cls.predictions.transform.LayerNorm.weight\n",
      "cls.predictions.transform.dense.bias\n",
      "cls.predictions.transform.dense.weight\n",
      "cls.seq_relationship.bias\n",
      "cls.seq_relationship.weight\n",
      "obj_predict_head.decoder_dict.attr.bias\n",
      "obj_predict_head.decoder_dict.attr.weight\n",
      "obj_predict_head.decoder_dict.feat.bias\n",
      "obj_predict_head.decoder_dict.feat.weight\n",
      "obj_predict_head.decoder_dict.obj.bias\n",
      "obj_predict_head.decoder_dict.obj.weight\n",
      "obj_predict_head.transform.LayerNorm.bias\n",
      "obj_predict_head.transform.LayerNorm.weight\n",
      "obj_predict_head.transform.dense.bias\n",
      "obj_predict_head.transform.dense.weight\n",
      "\n",
      "Weights in model but not in loaded:\n",
      "\n",
      "Overriding option config to projects/hateful_memes/configs/mmbt/with_features.yaml\n",
      "Overriding option model to mmbt\n",
      "Overriding option datasets to hateful_memes\n",
      "Overriding option run_type to val\n",
      "Overriding option checkpoint.resume_zoo to mmbt.hateful_memes.features\n",
      "Overriding option evaluation.predict to true\n"
     ]
    },
    {
     "name": "stderr",
     "output_type": "stream",
     "text": [
      "Config '/local/home/ahemf/mygit/facebook-hateful-memes/facebook_hateful_memes_detector/utils/faster_rcnn_R_101_C4_attr_caffemaxpool.yaml' has no VERSION. Assuming it to be compatible with latest v2.\n",
      "Config '/local/home/ahemf/mygit/facebook-hateful-memes/facebook_hateful_memes_detector/utils/faster_rcnn_R_101_C4_attr_caffemaxpool.yaml' has no VERSION. Assuming it to be compatible with latest v2.\n"
     ]
    },
    {
     "name": "stdout",
     "output_type": "stream",
     "text": [
      "N tokens Out =  722\n",
      "Autocast =  True Epochs =  7 Divisor = 1 Examples = 9000 Batch Size =  32\n",
      "Training Samples =  9000 Weighted Sampling =  False Num Batches =  282 Accumulation steps =  1\n"
     ]
    },
    {
     "data": {
      "application/vnd.jupyter.widget-view+json": {
       "model_id": "ca354715b3f14b2ead679a2afa58c045",
       "version_major": 2,
       "version_minor": 0
      },
      "text/plain": [
       "HBox(children=(FloatProgress(value=0.0, max=7.0), HTML(value='')))"
      ]
     },
     "metadata": {},
     "output_type": "display_data"
    },
    {
     "data": {
      "application/vnd.jupyter.widget-view+json": {
       "model_id": "6a87f1533e5f42acaec0389eecd25f6b",
       "version_major": 2,
       "version_minor": 0
      },
      "text/plain": [
       "HBox(children=(FloatProgress(value=0.0, max=282.0), HTML(value='')))"
      ]
     },
     "metadata": {},
     "output_type": "display_data"
    },
    {
     "name": "stdout",
     "output_type": "stream",
     "text": [
      "\n",
      "Epoch =  1 Loss = 0.332660 LR = 0.00004764\n"
     ]
    },
    {
     "data": {
      "application/vnd.jupyter.widget-view+json": {
       "model_id": "6d607076fba0467fa218b65b58d969f2",
       "version_major": 2,
       "version_minor": 0
      },
      "text/plain": [
       "HBox(children=(FloatProgress(value=0.0, max=282.0), HTML(value='')))"
      ]
     },
     "metadata": {},
     "output_type": "display_data"
    },
    {
     "name": "stdout",
     "output_type": "stream",
     "text": [
      "\n",
      "Epoch =  2 Loss = 0.177797 LR = 0.00009527\n"
     ]
    },
    {
     "data": {
      "application/vnd.jupyter.widget-view+json": {
       "model_id": "d7be0d8f0ce145bbb1c8c3024a5057c4",
       "version_major": 2,
       "version_minor": 0
      },
      "text/plain": [
       "HBox(children=(FloatProgress(value=0.0, max=282.0), HTML(value='')))"
      ]
     },
     "metadata": {},
     "output_type": "display_data"
    },
    {
     "name": "stdout",
     "output_type": "stream",
     "text": [
      "\n",
      "Epoch =  3 Loss = 0.166469 LR = 0.00009189\n"
     ]
    },
    {
     "data": {
      "application/vnd.jupyter.widget-view+json": {
       "model_id": "760ec793a16d4251bb9c7164ae9c631c",
       "version_major": 2,
       "version_minor": 0
      },
      "text/plain": [
       "HBox(children=(FloatProgress(value=0.0, max=282.0), HTML(value='')))"
      ]
     },
     "metadata": {},
     "output_type": "display_data"
    },
    {
     "name": "stdout",
     "output_type": "stream",
     "text": [
      "\n",
      "Epoch =  4 Loss = 0.161901 LR = 0.00006726\n"
     ]
    },
    {
     "data": {
      "application/vnd.jupyter.widget-view+json": {
       "model_id": "d4be88362e114d74b2e310271334f91a",
       "version_major": 2,
       "version_minor": 0
      },
      "text/plain": [
       "HBox(children=(FloatProgress(value=0.0, max=282.0), HTML(value='')))"
      ]
     },
     "metadata": {},
     "output_type": "display_data"
    },
    {
     "name": "stderr",
     "output_type": "stream",
     "text": [
      "IOPub message rate exceeded.\n",
      "The notebook server will temporarily stop sending output\n",
      "to the client in order to avoid crashing it.\n",
      "To change this limit, set the config variable\n",
      "`--NotebookApp.iopub_msg_rate_limit`.\n",
      "\n",
      "Current values:\n",
      "NotebookApp.iopub_msg_rate_limit=1000.0 (msgs/sec)\n",
      "NotebookApp.rate_limit_window=3.0 (secs)\n",
      "\n"
     ]
    }
   ],
   "source": [
    "\n",
    "\n",
    "batch_size = 32\n",
    "epochs = 7\n",
    "\n",
    "submission, text_model = train_and_predict(\n",
    "    model_fn,\n",
    "    data,\n",
    "    batch_size,\n",
    "    epochs,\n",
    "    scheduler_init_fn=scheduler_init_fn,\n",
    "    accumulation_steps=1,\n",
    "    model_call_back=reg_sched,\n",
    "    sampling_policy=None) # \"without_replacement\"\n",
    "\n",
    "submission.to_csv(\"submission2.csv\", index=False)\n",
    "submission.sample(3)\n"
   ]
  },
  {
   "cell_type": "code",
   "execution_count": null,
   "metadata": {},
   "outputs": [],
   "source": []
  }
 ],
 "metadata": {
  "kernelspec": {
   "display_name": "Python 3",
   "language": "python",
   "name": "python3"
  },
  "language_info": {
   "codemirror_mode": {
    "name": "ipython",
    "version": 3
   },
   "file_extension": ".py",
   "mimetype": "text/x-python",
   "name": "python",
   "nbconvert_exporter": "python",
   "pygments_lexer": "ipython3",
   "version": "3.8.1"
  },
  "toc": {
   "base_numbering": 1,
   "nav_menu": {},
   "number_sections": true,
   "sideBar": true,
   "skip_h1_title": false,
   "title_cell": "Table of Contents",
   "title_sidebar": "Contents",
   "toc_cell": false,
   "toc_position": {},
   "toc_section_display": true,
   "toc_window_display": true
  }
 },
 "nbformat": 4,
 "nbformat_minor": 4
}
