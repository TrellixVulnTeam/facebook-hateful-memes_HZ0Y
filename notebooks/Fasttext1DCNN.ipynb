{
 "cells": [
  {
   "cell_type": "code",
   "execution_count": null,
   "metadata": {
    "ExecuteTime": {
     "end_time": "2020-07-10T10:47:36.786930Z",
     "start_time": "2020-07-10T10:47:33.726727Z"
    }
   },
   "outputs": [],
   "source": [
    "\n",
    "\n",
    "\n",
    "import pandas as pd\n",
    "import numpy as np\n",
    "import jsonlines\n",
    "import seaborn as sns\n",
    "%matplotlib inline\n",
    "%config InlineBackend.figure_format = 'retina'\n",
    "import torch.nn as nn\n",
    "import torch\n",
    "import torch.nn.functional as F\n",
    "from torch.utils.data import Dataset, DataLoader\n",
    "from torchvision import transforms, utils\n",
    "import torch_optimizer as optim\n",
    "\n",
    "\n",
    "from IPython.core.interactiveshell import InteractiveShell\n",
    "InteractiveShell.ast_node_interactivity = \"all\"\n",
    "from importlib import reload\n",
    "pd.set_option('display.max_rows', 500)\n",
    "pd.set_option('display.float_format', '{:0.3f}'.format)\n",
    "pd.set_option('display.max_columns', 500)\n",
    "pd.set_option('display.width', 1000)\n",
    "pd.options.display.width = 0\n",
    "import warnings\n",
    "import torchvision\n",
    "warnings.filterwarnings('ignore')\n",
    "\n",
    "from facebook_hateful_memes_detector.utils.globals import set_global, get_global\n",
    "set_global(\"cache_dir\", \"/home/ahemf/cache/cache\")\n",
    "set_global(\"dataloader_workers\", 4)\n",
    "\n",
    "from facebook_hateful_memes_detector.utils import read_json_lines_into_df, in_notebook, set_device\n",
    "get_global(\"cache_dir\")\n",
    "from facebook_hateful_memes_detector.models import Fasttext1DCNNModel, MultiImageMultiTextAttentionEarlyFusionModel, LangFeaturesModel, AlbertClassifer\n",
    "from facebook_hateful_memes_detector.preprocessing import TextImageDataset, my_collate, get_datasets, get_image2torchvision_transforms, TextAugment\n",
    "from facebook_hateful_memes_detector.preprocessing import DefinedRotation, QuadrantCut, ImageAugment\n",
    "from facebook_hateful_memes_detector.training import *\n",
    "import facebook_hateful_memes_detector\n",
    "reload(facebook_hateful_memes_detector)\n",
    "\n",
    "device = torch.device(\"cuda\" if torch.cuda.is_available() else \"cpu\")\n",
    "set_device(device)\n"
   ]
  },
  {
   "cell_type": "code",
   "execution_count": null,
   "metadata": {
    "ExecuteTime": {
     "end_time": "2020-07-10T10:47:36.802909Z",
     "start_time": "2020-07-10T10:47:36.792651Z"
    }
   },
   "outputs": [],
   "source": [
    "device = torch.device(\"cuda\" if torch.cuda.is_available() else \"cpu\")\n",
    "set_device(device)\n",
    "device\n"
   ]
  },
  {
   "cell_type": "code",
   "execution_count": null,
   "metadata": {
    "ExecuteTime": {
     "end_time": "2020-07-10T10:47:36.809070Z",
     "start_time": "2020-07-10T10:47:36.804521Z"
    }
   },
   "outputs": [],
   "source": [
    "aug_speeds = {\"keyboard\": 117, \"char_substitute\": 109, \"char_insert\": 109, \"char_swap\": 114,\n",
    "              \"ocr\": 114, \"char_delete\": 108,\n",
    "              \"word_insert\": 0.0, \"word_substitute\": 0.0, \"text_rotate\": 32,\n",
    "              \"stopword_insert\": 34, \"word_join\": 32, \"word_cutout\": 36,\n",
    "              \"w2v_insert\": 0.0, \"w2v_substitute\": 0.0, \n",
    "              \"fasttext\": 137, \"glove_twitter\": 88, \"glove_wiki\": 82, \"word2vec\": 137,\n",
    "              \"synonym\": 522, \"split\": 110, \"sentence_shuffle\": 67, \"one_third_cut\": 0.0, \"half_cut\":0.0}\n"
   ]
  },
  {
   "cell_type": "markdown",
   "metadata": {},
   "source": [
    "- What Augs are useful\n",
    "- What Text models perform best"
   ]
  },
  {
   "cell_type": "code",
   "execution_count": null,
   "metadata": {
    "ExecuteTime": {
     "end_time": "2020-07-10T10:47:36.926683Z",
     "start_time": "2020-07-10T10:47:36.810496Z"
    }
   },
   "outputs": [],
   "source": [
    "\n",
    "\n",
    "choice_probas = {\"keyboard\": 0.1, \"char_substitute\": 0.0, \"char_insert\": 0.1, \"char_swap\": 0.1, \"ocr\": 0.0, \"char_delete\": 0.1,\n",
    "                 \"fasttext\": 0.0, \"glove_twitter\": 0.0, \"glove_wiki\": 0.0, \"word2vec\": 0.0, \"split\": 0.1,\n",
    "                 \"stopword_insert\": 0.3, \"word_join\": 0.1, \"word_cutout\": 0.8,\n",
    "                 \"text_rotate\": 0.5, \"sentence_shuffle\": 0.5, \"one_third_cut\": 0.3, \"half_cut\":0.1}\n",
    "preprocess_text = TextAugment([0.05, 0.05, 0.05, 0.35, 0.3, 0.2], choice_probas, fasttext_file=\"wiki-news-300d-1M-subword.bin\")\n",
    "\n",
    "\n",
    "data = get_datasets(data_dir=\"../data/\", train_text_transform=preprocess_text, train_image_transform=None, \n",
    "                    test_text_transform=None, test_image_transform=None, \n",
    "                    cache_images = True, use_images = False, dev=False, \n",
    "                    keep_original_text=False, keep_original_image=False, \n",
    "                    keep_processed_image=True, keep_torchvision_image=False,)\n",
    "\n",
    "# ImageAugment([0.2, 0.5, 0.3])\n"
   ]
  },
  {
   "cell_type": "markdown",
   "metadata": {},
   "source": [
    "https://discuss.pytorch.org/t/how-to-implement-torch-optim-lr-scheduler-cosineannealinglr/28797/11"
   ]
  },
  {
   "cell_type": "markdown",
   "metadata": {},
   "source": [
    "# Params"
   ]
  },
  {
   "cell_type": "code",
   "execution_count": null,
   "metadata": {
    "ExecuteTime": {
     "end_time": "2020-07-10T10:47:36.937585Z",
     "start_time": "2020-07-10T10:47:36.928358Z"
    }
   },
   "outputs": [],
   "source": [
    "sgd = torch.optim.SGD\n",
    "sgd_params = dict(lr=2e-2, momentum=0.9, dampening=0, weight_decay=0, nesterov=False)\n",
    "\n",
    "rangerQH = optim.RangerQH\n",
    "rangerQHparams = dict(lr=1e-3, betas=(0.9, 0.999), nus=(.7, 1.0),\n",
    "    weight_decay=0.0,\n",
    "    k=6,\n",
    "    alpha=.5,\n",
    "    decouple_weight_decay=True,\n",
    "    eps=1e-8,)\n",
    "\n",
    "adam = torch.optim.Adam\n",
    "adam_params = params=dict(lr=1e-3, weight_decay=1e-7)\n",
    "\n",
    "adamw = torch.optim.AdamW\n",
    "adamw_params = dict(lr=0.001, betas=(0.9, 0.999), eps=1e-08, weight_decay=1e-2)\n",
    "\n",
    "novograd = optim.NovoGrad\n",
    "novograd_params = dict(lr= 1e-3,\n",
    "    betas=(0.9, 0.999),\n",
    "    eps=1e-8,\n",
    "    weight_decay=0,\n",
    "    grad_averaging=False,\n",
    "    amsgrad=False,)\n",
    "\n",
    "qhadam = optim.QHAdam\n",
    "qhadam_params = dict(lr= 1e-3,\n",
    "    betas=(0.9, 0.999),\n",
    "    nus=(1.0, 1.0),\n",
    "    weight_decay=0,\n",
    "    decouple_weight_decay=False,\n",
    "    eps=1e-8,)\n",
    "\n",
    "radam = optim.RAdam\n",
    "radam_params = dict(lr= 1e-3,\n",
    "    betas=(0.9, 0.999),\n",
    "    eps=1e-8,\n",
    "    weight_decay=0,)\n",
    "\n",
    "yogi = optim.Yogi\n",
    "yogi_params = dict(lr= 1e-2,\n",
    "    betas=(0.9, 0.999),\n",
    "    eps=1e-3,\n",
    "    initial_accumulator=1e-6,\n",
    "    weight_decay=0)\n",
    "\n",
    "\n"
   ]
  },
  {
   "cell_type": "code",
   "execution_count": null,
   "metadata": {
    "ExecuteTime": {
     "end_time": "2020-07-10T10:47:36.944180Z",
     "start_time": "2020-07-10T10:47:36.939883Z"
    }
   },
   "outputs": [],
   "source": [
    "batch_size=256\n",
    "epochs = 10\n",
    "optimizer = adam\n",
    "optimizer_params = adam_params\n",
    "\n",
    "scheduler_init_fn = get_multistep_lr([11, 13], gamma=0.25) # get_cosine_schedule_with_warmup # get_cosine_with_hard_restarts_schedule_with_warmup\n",
    "scheduler_init_fn = get_cosine_schedule_with_warmup()\n",
    "reg_sched = get_regularizer_scheduler()\n",
    "augmentation_weights = {\"None\": 1.0}\n",
    "\n"
   ]
  },
  {
   "cell_type": "markdown",
   "metadata": {
    "ExecuteTime": {
     "end_time": "2020-05-25T11:44:54.095758Z",
     "start_time": "2020-05-25T11:27:36.177Z"
    },
    "heading_collapsed": true
   },
   "source": [
    "# Fasttext 1D CNN"
   ]
  },
  {
   "cell_type": "markdown",
   "metadata": {
    "heading_collapsed": true,
    "hidden": true
   },
   "source": [
    "## 512 DIMS"
   ]
  },
  {
   "cell_type": "code",
   "execution_count": null,
   "metadata": {
    "ExecuteTime": {
     "end_time": "2020-07-04T18:51:29.871327Z",
     "start_time": "2020-07-04T18:39:16.755048Z"
    },
    "hidden": true,
    "scrolled": false
   },
   "outputs": [],
   "source": [
    "epochs = 15\n",
    "model_fn = model_builder(Fasttext1DCNNModel, \n",
    "                         dict(classifier_dims=256, num_classes=2, \n",
    "                              n_layers=2, final_layer_builder=fb_1d_loss_builder,\n",
    "                              gaussian_noise=0.15, dropout=0.2, embedding_dims=256, internal_dims=512,\n",
    "                             fasttext_file=\"crawl-300d-2M-subword.bin\", featurizer=\"transformer\",),\n",
    "                         optimiser_class=optimizer, optimiser_params=optimizer_params)\n",
    "\n",
    "\n",
    "\n",
    "\n",
    "\n",
    "multi_eval=False \n",
    "kfold=False\n",
    "results, prfs = train_validate_ntimes(model_fn, data, batch_size, epochs, \n",
    "                                      augmentation_weights=augmentation_weights, \n",
    "                                      kfold=kfold, multi_eval=multi_eval,\n",
    "                                      scheduler_init_fn=scheduler_init_fn, \n",
    "                                      validation_epochs=[4, 7, 9, 11, 14, 17, 19])\n",
    "r1, p1 = results, prfs\n",
    "results\n",
    "prfs\n",
    "\n",
    "# 0.738\t0.734\n",
    "# 0.730\t0.715\n",
    "# 0.730\t0.715\n",
    "# 0.734\t0.731\n",
    "# 0.746\t0.712\n"
   ]
  },
  {
   "cell_type": "markdown",
   "metadata": {
    "heading_collapsed": true
   },
   "source": [
    "# Lang Features Model"
   ]
  },
  {
   "cell_type": "code",
   "execution_count": null,
   "metadata": {
    "ExecuteTime": {
     "end_time": "2020-07-04T20:42:41.236616Z",
     "start_time": "2020-07-04T19:14:10.100177Z"
    },
    "hidden": true
   },
   "outputs": [],
   "source": [
    "epochs = 15\n",
    "batch_size=256\n",
    "# fasttext_crawl 1.9s\n",
    "# spacy 1.8s\n",
    "# full_view 1.4s 0.659\t0.651\n",
    "# gensim 7.5s # 0.718\t0.737\n",
    "# nltk 3s 0.609\t0.585\n",
    "# \"spacy\", \"key_phrases\" 4.2s 0.688\t0.670\n",
    "# \"fasttext_crawl\", \"spacy\", \"key_phrases\", \"gensim\" 20s 0.763\t0.729 2h 49m\n",
    "# \"fasttext_crawl\", \"gensim\" 11s 0.749\t0.733 1h 47m\n",
    "# gensim 8s 0.751\t0.733 1h 20m\n",
    "\n",
    "all_caps = [\"fasttext_crawl\", \"spacy\", \"full_view\", \"key_phrases\", \"nltk\", \"gensim\"] # \"snlp\", \"ibm_max\", \"tmoji\", \"key_phrases\", \"full_view\", \"spacy\", \"nltk\", \"fasttext_crawl\"\n",
    "all_caps = [\"full_view\",]\n",
    "all_caps = [\"fasttext_crawl\", \"spacy\", \"key_phrases\", \"nltk\"]\n",
    "all_caps = [\"fasttext_crawl\", \"gensim\"]\n",
    "model_fn = model_builder(LangFeaturesModel, \n",
    "                         dict(classifier_dims=256, num_classes=2, \n",
    "                              gaussian_noise=0.2, dropout=0.2, embedding_dims=256, internal_dims=512,\n",
    "                              capabilities=all_caps, featurizer=\"transformer\", n_layers=2, \n",
    "                              final_layer_builder=fb_1d_loss_builder),\n",
    "                         optimiser_class=optimizer, optimiser_params=optimizer_params)\n",
    "\n",
    "\n",
    "\n",
    "multi_eval=False\n",
    "kfold=False\n",
    "results, prfs = train_validate_ntimes(model_fn, data, batch_size, epochs, \n",
    "                                      augmentation_weights=augmentation_weights, \n",
    "                                      kfold=kfold, multi_eval=multi_eval,\n",
    "                                      scheduler_init_fn=scheduler_init_fn, \n",
    "                                      validation_epochs=[1, 4, 7, 9, 11, 14, 17, 19])\n",
    "r1, p1 = results, prfs\n",
    "results\n",
    "prfs\n"
   ]
  },
  {
   "cell_type": "code",
   "execution_count": null,
   "metadata": {
    "hidden": true
   },
   "outputs": [],
   "source": []
  },
  {
   "cell_type": "markdown",
   "metadata": {},
   "source": [
    "# BERT Models"
   ]
  },
  {
   "cell_type": "code",
   "execution_count": null,
   "metadata": {
    "ExecuteTime": {
     "start_time": "2020-07-10T18:41:39.791Z"
    }
   },
   "outputs": [
    {
     "name": "stdout",
     "output_type": "stream",
     "text": [
      "Autocast =  True Epochs =  48 Divisor = 2 Examples = 3600 Batch Size =  256\n",
      "Training Samples =  7200 Weighted Sampling =  True Num Batches =  15 Accumulation steps =  1\n"
     ]
    },
    {
     "data": {
      "application/vnd.jupyter.widget-view+json": {
       "model_id": "413830e743d8493d88f018f9029cd469",
       "version_major": 2,
       "version_minor": 0
      },
      "text/plain": [
       "HBox(children=(FloatProgress(value=0.0, max=48.0), HTML(value='')))"
      ]
     },
     "metadata": {},
     "output_type": "display_data"
    },
    {
     "data": {
      "application/vnd.jupyter.widget-view+json": {
       "model_id": "95e65aecf1f944789001f0509d3987dd",
       "version_major": 2,
       "version_minor": 0
      },
      "text/plain": [
       "HBox(children=(FloatProgress(value=0.0, max=15.0), HTML(value='')))"
      ]
     },
     "metadata": {},
     "output_type": "display_data"
    },
    {
     "name": "stdout",
     "output_type": "stream",
     "text": [
      "\n",
      "Epoch =  1 Loss = 0.412176 LR = 0.00000007\n"
     ]
    },
    {
     "data": {
      "application/vnd.jupyter.widget-view+json": {
       "model_id": "79d079e5880740edb4e7b9656132ee3a",
       "version_major": 2,
       "version_minor": 0
      },
      "text/plain": [
       "HBox(children=(FloatProgress(value=0.0, max=15.0), HTML(value='')))"
      ]
     },
     "metadata": {},
     "output_type": "display_data"
    },
    {
     "name": "stdout",
     "output_type": "stream",
     "text": [
      "\n",
      "Epoch =  2 Loss = 0.387718 LR = 0.00000014\n"
     ]
    },
    {
     "data": {
      "application/vnd.jupyter.widget-view+json": {
       "model_id": "ae4fc44d2c454837b954ad6b135904f8",
       "version_major": 2,
       "version_minor": 0
      },
      "text/plain": [
       "HBox(children=(FloatProgress(value=0.0, max=15.0), HTML(value='')))"
      ]
     },
     "metadata": {},
     "output_type": "display_data"
    },
    {
     "name": "stdout",
     "output_type": "stream",
     "text": [
      "\n",
      "Epoch =  3 Loss = 0.346743 LR = 0.00000021\n"
     ]
    },
    {
     "data": {
      "application/vnd.jupyter.widget-view+json": {
       "model_id": "e1ae9554155d4543bd451167164e78b1",
       "version_major": 2,
       "version_minor": 0
      },
      "text/plain": [
       "HBox(children=(FloatProgress(value=0.0, max=15.0), HTML(value='')))"
      ]
     },
     "metadata": {},
     "output_type": "display_data"
    },
    {
     "name": "stdout",
     "output_type": "stream",
     "text": [
      "\n",
      "Epoch =  4 Loss = 0.325914 LR = 0.00000028\n",
      "Epoch =  4 Train = 0.605461 Val = 0.632107\n"
     ]
    },
    {
     "data": {
      "application/vnd.jupyter.widget-view+json": {
       "model_id": "1185959bb3fa4cc1aa7c4e976cff2216",
       "version_major": 2,
       "version_minor": 0
      },
      "text/plain": [
       "HBox(children=(FloatProgress(value=0.0, max=15.0), HTML(value='')))"
      ]
     },
     "metadata": {},
     "output_type": "display_data"
    },
    {
     "name": "stdout",
     "output_type": "stream",
     "text": [
      "\n",
      "Epoch =  5 Loss = 0.304071 LR = 0.00000035\n"
     ]
    },
    {
     "data": {
      "application/vnd.jupyter.widget-view+json": {
       "model_id": "c1ab16f397664d5e80d29bd3ad21919a",
       "version_major": 2,
       "version_minor": 0
      },
      "text/plain": [
       "HBox(children=(FloatProgress(value=0.0, max=15.0), HTML(value='')))"
      ]
     },
     "metadata": {},
     "output_type": "display_data"
    },
    {
     "name": "stdout",
     "output_type": "stream",
     "text": [
      "\n",
      "Epoch =  6 Loss = 0.307510 LR = 0.00000042\n"
     ]
    },
    {
     "data": {
      "application/vnd.jupyter.widget-view+json": {
       "model_id": "8fbe0da52ee04001ba567ea3023f94f7",
       "version_major": 2,
       "version_minor": 0
      },
      "text/plain": [
       "HBox(children=(FloatProgress(value=0.0, max=15.0), HTML(value='')))"
      ]
     },
     "metadata": {},
     "output_type": "display_data"
    },
    {
     "name": "stdout",
     "output_type": "stream",
     "text": [
      "\n",
      "Epoch =  7 Loss = 0.275214 LR = 0.00000049\n"
     ]
    }
   ],
   "source": [
    "epochs = 24\n",
    "batch_size = 256\n",
    "lr_strategy = {\n",
    "    \"model\": {\n",
    "        \"lr\": optimizer_params[\"lr\"] / 1000,\n",
    "        \"finetune\": False,\n",
    "        \"encoder\": {\n",
    "            \"layer\": {\n",
    "                \"3\": {\n",
    "                    \"lr\": optimizer_params[\"lr\"] / 1e3,\n",
    "                    \"finetune\": True\n",
    "                },\n",
    "                \"4\": {\n",
    "                    \"lr\": optimizer_params[\"lr\"] / 1e2,\n",
    "                    \"finetune\": True\n",
    "                },\n",
    "                \"5\": {\n",
    "                    \"lr\": optimizer_params[\"lr\"] / 1e2,\n",
    "                    \"finetune\": True\n",
    "                }\n",
    "            }\n",
    "        },\n",
    "    }\n",
    "}\n",
    "model_fn = model_builder(AlbertClassifer,\n",
    "                         dict(classifier_dims=256,\n",
    "                              num_classes=2,\n",
    "                              embedding_dims=768,\n",
    "                              gaussian_noise=4.5,\n",
    "                              dropout=0.15,\n",
    "                              internal_dims=512,\n",
    "                              final_layer_builder=fb_1d_loss_builder,\n",
    "                              n_layers=2,\n",
    "                              n_encoders=2,\n",
    "                              n_decoders=2,\n",
    "                              n_tokens_in=96,\n",
    "                              n_tokens_out=16,\n",
    "                              featurizer=\"transformer\",\n",
    "                              model='distilroberta-base',\n",
    "                              finetune=False),\n",
    "                         per_param_opts_fn=lr_strategy,\n",
    "                         optimiser_class=optimizer,\n",
    "                         optimiser_params=optimizer_params)\n",
    "\n",
    "multi_eval = False\n",
    "kfold = False\n",
    "results, prfs = train_validate_ntimes(\n",
    "    model_fn,\n",
    "    data,\n",
    "    batch_size,\n",
    "    epochs,\n",
    "    augmentation_weights=augmentation_weights,\n",
    "    kfold=kfold,\n",
    "    multi_eval=multi_eval,\n",
    "    scheduler_init_fn=scheduler_init_fn,\n",
    "    model_call_back=reg_sched,\n",
    "    validation_epochs=[4, 7, 9, 11, 14, 17, 19, 23, 27, 31, 34, 37, 41, 44, 47, 51, 54],\n",
    "    show_model_stats=False,\n",
    "    sampling_policy=\"without_replacement\")\n",
    "r2, p2 = results, prfs\n",
    "results\n",
    "prfs\n",
    "\n",
    "# 0.759\t0.752 (0.717\t0.716)\n",
    "\n",
    "# 0.0.760\t0.745 (725\t0.721) # 15m 41s\n"
   ]
  },
  {
   "cell_type": "markdown",
   "metadata": {},
   "source": [
    "# Predict"
   ]
  },
  {
   "cell_type": "code",
   "execution_count": null,
   "metadata": {
    "ExecuteTime": {
     "end_time": "2020-06-11T16:18:51.481091Z",
     "start_time": "2020-06-11T16:18:51.478221Z"
    }
   },
   "outputs": [],
   "source": [
    "model_fn = model_builder(AlbertClassifer,\n",
    "                         dict(classifier_dims=256,\n",
    "                              num_classes=2,\n",
    "                              embedding_dims=768,\n",
    "                              gaussian_noise=0.35,\n",
    "                              dropout=0.35,\n",
    "                              internal_dims=512,\n",
    "                              final_layer_builder=fb_1d_loss_builder,\n",
    "                              n_layers=2,\n",
    "                              n_encoders=2,\n",
    "                              n_decoders=2,\n",
    "                              n_tokens_in=96,\n",
    "                              n_tokens_out=16,\n",
    "                              featurizer=\"transformer\",\n",
    "                              model='distilroberta-base',\n",
    "                              finetune=False),\n",
    "                         per_param_opts_fn=lr_strategy,\n",
    "                         optimiser_class=optimizer,\n",
    "                         optimiser_params=optimizer_params)\n"
   ]
  },
  {
   "cell_type": "code",
   "execution_count": null,
   "metadata": {
    "ExecuteTime": {
     "end_time": "2020-06-11T16:20:18.520223Z",
     "start_time": "2020-06-11T16:18:51.952856Z"
    }
   },
   "outputs": [],
   "source": [
    "epochs = 24\n",
    "batch_size = 256\n",
    "\n",
    "submission, text_model = train_and_predict(model_fn, data, batch_size, epochs, augmentation_weights, \n",
    "                                           scheduler_init_fn=scheduler_init_fn, \n",
    "                                           sampling_policy=\"without_replacement\")\n",
    "submission.to_csv(\"submission.csv\",index=False)\n",
    "submission.sample(3)\n"
   ]
  },
  {
   "cell_type": "code",
   "execution_count": null,
   "metadata": {
    "ExecuteTime": {
     "end_time": "2020-06-11T15:27:03.995069Z",
     "start_time": "2020-06-11T15:27:03.988742Z"
    }
   },
   "outputs": [],
   "source": [
    "submission.sample(10)"
   ]
  }
 ],
 "metadata": {
  "kernelspec": {
   "display_name": "Python 3",
   "language": "python",
   "name": "python3"
  },
  "toc": {
   "base_numbering": 1,
   "nav_menu": {},
   "number_sections": true,
   "sideBar": true,
   "skip_h1_title": false,
   "title_cell": "Table of Contents",
   "title_sidebar": "Contents",
   "toc_cell": false,
   "toc_position": {
    "height": "822px",
    "left": "0px",
    "top": "111.133px",
    "width": "165px"
   },
   "toc_section_display": true,
   "toc_window_display": true
  }
 },
 "nbformat": 4,
 "nbformat_minor": 4
}
