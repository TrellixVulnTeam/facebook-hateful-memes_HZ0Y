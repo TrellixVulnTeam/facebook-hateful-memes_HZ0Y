{
 "cells": [
  {
   "cell_type": "code",
   "execution_count": 1,
   "metadata": {
    "ExecuteTime": {
     "end_time": "2020-06-19T11:12:16.750689Z",
     "start_time": "2020-06-19T11:12:14.168977Z"
    }
   },
   "outputs": [
    {
     "name": "stdout",
     "output_type": "stream",
     "text": [
      "Better speed can be achieved with apex installed from https://www.github.com/nvidia/apex.\n"
     ]
    }
   ],
   "source": [
    "\n",
    "\n",
    "\n",
    "import pandas as pd\n",
    "import numpy as np\n",
    "import jsonlines\n",
    "import seaborn as sns\n",
    "%matplotlib inline\n",
    "%config InlineBackend.figure_format = 'retina'\n",
    "import torch.nn as nn\n",
    "import torch\n",
    "import torch.nn.functional as F\n",
    "from torch.utils.data import Dataset, DataLoader\n",
    "from torchvision import transforms, utils\n",
    "import torch_optimizer as optim\n",
    "\n",
    "\n",
    "from IPython.core.interactiveshell import InteractiveShell\n",
    "InteractiveShell.ast_node_interactivity = \"all\"\n",
    "from importlib import reload\n",
    "pd.set_option('display.max_rows', 500)\n",
    "pd.set_option('display.float_format', '{:0.3f}'.format)\n",
    "pd.set_option('display.max_columns', 500)\n",
    "pd.set_option('display.width', 1000)\n",
    "pd.options.display.width = 0\n",
    "import warnings\n",
    "warnings.filterwarnings('ignore')\n",
    "import facebook_hateful_memes_detector\n",
    "reload(facebook_hateful_memes_detector)\n",
    "\n",
    "from facebook_hateful_memes_detector.utils import read_json_lines_into_df, in_notebook, set_device, get_device\n",
    "from facebook_hateful_memes_detector.models import Fasttext1DCNNModel, ImageFullTextConvMidFusionModel\n",
    "from facebook_hateful_memes_detector.preprocessing import TextImageDataset, my_collate, get_datasets, get_image2torchvision_transforms, TextAugment\n",
    "from facebook_hateful_memes_detector.training import *\n",
    "\n"
   ]
  },
  {
   "cell_type": "code",
   "execution_count": 2,
   "metadata": {
    "ExecuteTime": {
     "end_time": "2020-06-19T11:12:16.757890Z",
     "start_time": "2020-06-19T11:12:16.752723Z"
    }
   },
   "outputs": [],
   "source": [
    "device = torch.device(\"cuda\" if torch.cuda.is_available() else \"cpu\")\n",
    "set_device(device)\n"
   ]
  },
  {
   "cell_type": "code",
   "execution_count": 3,
   "metadata": {
    "ExecuteTime": {
     "end_time": "2020-06-19T11:12:16.777327Z",
     "start_time": "2020-06-19T11:12:16.759251Z"
    }
   },
   "outputs": [],
   "source": [
    "preprocess = get_image2torchvision_transforms()\n",
    "aug_speeds = {\"keyboard\": 117, \"char_substitute\": 109, \"char_insert\": 109, \"char_swap\": 114,\n",
    "              \"ocr\": 114, \"char_delete\": 108,\n",
    "              \"word_insert\": 0.0, \"word_substitute\": 0.0, \"text_rotate\": 32,\n",
    "              \"stopword_insert\": 34, \"word_join\": 32, \"word_cutout\": 36,\n",
    "              \"w2v_insert\": 0.0, \"w2v_substitute\": 0.0, \n",
    "              \"fasttext\": 137, \"glove_twitter\": 88, \"glove_wiki\": 82, \"word2vec\": 137,\n",
    "              \"synonym\": 522, \"split\": 110, \"sentence_shuffle\": 67, \"one_third_cut\": 0.0, \"half_cut\":0.0}\n",
    "\n",
    "choice_probas = {\"keyboard\": 0.1, \"char_substitute\": 0.0, \"char_insert\": 0.2, \"char_swap\": 0.1, \"ocr\": 0.0, \"char_delete\": 0.1,\n",
    "                 \"fasttext\": 0.0, \"glove_twitter\": 0.0, \"glove_wiki\": 0.0, \"word2vec\": 0.0, \"split\": 0.2,\n",
    "                 \"stopword_insert\": 0.2, \"word_join\": 0.1, \"word_cutout\": 0.8,\n",
    "                 \"text_rotate\": 0.6, \"sentence_shuffle\": 0.6, \"one_third_cut\": 0.25, \"half_cut\":0.25,\n",
    "                 \"synonym\": 0.0,}\n",
    "preprocess_text = TextAugment([0.55, 0.15, 0.1, 0.2,], choice_probas, fasttext_file=\"wiki-news-300d-1M-subword.bin\")\n"
   ]
  },
  {
   "cell_type": "code",
   "execution_count": 4,
   "metadata": {
    "ExecuteTime": {
     "end_time": "2020-06-19T11:12:16.845922Z",
     "start_time": "2020-06-19T11:12:16.778855Z"
    }
   },
   "outputs": [],
   "source": [
    "data = get_datasets(data_dir=\"../data/\", train_text_transform=None, train_image_transform=None, \n",
    "                 test_text_transform=None, test_image_transform=None, \n",
    "                 cache_images = True, use_images = False, dev=False)\n"
   ]
  },
  {
   "cell_type": "markdown",
   "metadata": {},
   "source": [
    "https://discuss.pytorch.org/t/how-to-implement-torch-optim-lr-scheduler-cosineannealinglr/28797/11"
   ]
  },
  {
   "cell_type": "markdown",
   "metadata": {},
   "source": [
    "# Params"
   ]
  },
  {
   "cell_type": "code",
   "execution_count": 5,
   "metadata": {
    "ExecuteTime": {
     "end_time": "2020-06-19T11:12:16.854443Z",
     "start_time": "2020-06-19T11:12:16.847455Z"
    }
   },
   "outputs": [],
   "source": [
    "sgd = torch.optim.SGD\n",
    "sgd_params = dict(lr=2e-2, momentum=0.9, dampening=0, weight_decay=0, nesterov=False)\n",
    "\n",
    "rangerQH = optim.RangerQH\n",
    "rangerQHparams = dict(lr=1e-3, betas=(0.9, 0.999), nus=(.7, 1.0),\n",
    "    weight_decay=0.0,\n",
    "    k=6,\n",
    "    alpha=.5,\n",
    "    decouple_weight_decay=True,\n",
    "    eps=1e-8,)\n",
    "\n",
    "adam = torch.optim.Adam\n",
    "adam_params = params=dict(lr=1e-3, weight_decay=1e-6)\n",
    "\n",
    "adamw = torch.optim.AdamW\n",
    "adamw_params = dict(lr=0.001, betas=(0.9, 0.999), eps=1e-08, weight_decay=1e-2)\n",
    "\n",
    "novograd = optim.NovoGrad\n",
    "novograd_params = dict(lr= 1e-3,\n",
    "    betas=(0.9, 0.999),\n",
    "    eps=1e-8,\n",
    "    weight_decay=0,\n",
    "    grad_averaging=False,\n",
    "    amsgrad=False,)\n",
    "\n",
    "qhadam = optim.QHAdam\n",
    "qhadam_params = dict(lr= 1e-3,\n",
    "    betas=(0.9, 0.999),\n",
    "    nus=(1.0, 1.0),\n",
    "    weight_decay=0,\n",
    "    decouple_weight_decay=False,\n",
    "    eps=1e-8,)\n",
    "\n",
    "radam = optim.RAdam\n",
    "radam_params = dict(lr= 1e-3,\n",
    "    betas=(0.9, 0.999),\n",
    "    eps=1e-8,\n",
    "    weight_decay=0,)\n",
    "\n",
    "yogi = optim.Yogi\n",
    "yogi_params = dict(lr= 1e-2,\n",
    "    betas=(0.9, 0.999),\n",
    "    eps=1e-3,\n",
    "    initial_accumulator=1e-6,\n",
    "    weight_decay=0)\n",
    "\n",
    "\n"
   ]
  },
  {
   "cell_type": "code",
   "execution_count": 6,
   "metadata": {
    "ExecuteTime": {
     "end_time": "2020-06-19T11:12:16.860383Z",
     "start_time": "2020-06-19T11:12:16.855547Z"
    }
   },
   "outputs": [],
   "source": [
    "batch_size=512\n",
    "epochs = 5\n",
    "optimizer = adam\n",
    "optimizer_params = adam_params\n",
    "\n",
    "scheduler_init_fn = get_multistep_lr([11, 13], gamma=0.25) # get_cosine_schedule_with_warmup # get_cosine_with_hard_restarts_schedule_with_warmup\n",
    "scheduler_init_fn = get_cosine_schedule_with_warmup()\n",
    "augmentation_weights = {\"None\": 1.0}\n",
    "\n"
   ]
  },
  {
   "cell_type": "markdown",
   "metadata": {
    "ExecuteTime": {
     "end_time": "2020-05-25T11:44:54.095758Z",
     "start_time": "2020-05-25T11:27:36.177Z"
    }
   },
   "source": [
    "# Fasttext 1D CNN"
   ]
  },
  {
   "cell_type": "markdown",
   "metadata": {},
   "source": [
    "## 512 DIMS"
   ]
  },
  {
   "cell_type": "code",
   "execution_count": 10,
   "metadata": {
    "ExecuteTime": {
     "end_time": "2020-06-19T11:33:38.729423Z",
     "start_time": "2020-06-19T11:28:39.796644Z"
    },
    "scrolled": false
   },
   "outputs": [
    {
     "name": "stderr",
     "output_type": "stream",
     "text": [
      "\n"
     ]
    },
    {
     "name": "stdout",
     "output_type": "stream",
     "text": [
      "Model Params = 1932288 \n",
      " Fasttext1DCNNModel(\n",
      "  (crawl_nn): ExpandContract(\n",
      "    (nn): Sequential(\n",
      "      (0): Transpose()\n",
      "      (1): Dropout(p=0.1, inplace=False)\n",
      "      (2): Conv1d(600, 256, kernel_size=(1,), stride=(1,), groups=8, bias=False)\n",
      "      (3): LeakyReLU(negative_slope=0.01)\n",
      "      (4): Dropout(p=0.1, inplace=False)\n",
      "      (5): Conv1d(256, 128, kernel_size=(1,), stride=(1,), groups=4, bias=False)\n",
      "      (6): Transpose()\n",
      "      (7): LayerNorm((128,), eps=1e-05, elementwise_affine=True)\n",
      "    )\n",
      "  )\n",
      "  (featurizer): CNN1DFeaturizer(\n",
      "    (featurizer): Sequential(\n",
      "      (0): Dropout(p=0.1, inplace=False)\n",
      "      (1): Conv1d(128, 128, kernel_size=(5,), stride=(1,), padding=(2,), groups=4, bias=False)\n",
      "      (2): LeakyReLU(negative_slope=0.01)\n",
      "      (3): GaussianNoise()\n",
      "      (4): Conv1d(128, 256, kernel_size=(3,), stride=(1,), padding=(1,), groups=4, bias=False)\n",
      "      (5): Dropout(p=0.1, inplace=False)\n",
      "      (6): LeakyReLU(negative_slope=0.01)\n",
      "      (7): Conv1d(256, 128, kernel_size=(1,), stride=(1,), bias=False)\n",
      "      (8): GaussianNoise()\n",
      "      (9): Residual1DConv(\n",
      "        (r1): Sequential(\n",
      "          (0): Dropout(p=0.1, inplace=False)\n",
      "          (1): Conv1d(128, 256, kernel_size=(3,), stride=(1,), padding=(1,), groups=4, bias=False)\n",
      "          (2): LeakyReLU(negative_slope=0.01)\n",
      "          (3): GaussianNoise()\n",
      "        )\n",
      "        (r2): Conv1d(256, 128, kernel_size=(3,), stride=(1,), padding=(1,), groups=4, bias=False)\n",
      "        (channel_sizer): Sequential(\n",
      "          (0): Dropout(p=0.1, inplace=False)\n",
      "          (1): Conv1d(128, 512, kernel_size=(1,), stride=(1,), bias=False)\n",
      "        )\n",
      "        (pooling): MaxPool1d(kernel_size=2, stride=2, padding=0, dilation=1, ceil_mode=False)\n",
      "      )\n",
      "      (10): Residual1DConv(\n",
      "        (r1): Sequential(\n",
      "          (0): Dropout(p=0.1, inplace=False)\n",
      "          (1): Conv1d(512, 1024, kernel_size=(3,), stride=(1,), padding=(1,), groups=4, bias=False)\n",
      "          (2): LeakyReLU(negative_slope=0.01)\n",
      "          (3): GaussianNoise()\n",
      "        )\n",
      "        (r2): Conv1d(1024, 512, kernel_size=(3,), stride=(1,), padding=(1,), groups=4, bias=False)\n",
      "        (pooling): MaxPool1d(kernel_size=2, stride=2, padding=0, dilation=1, ceil_mode=False)\n",
      "      )\n",
      "      (11): Residual1DConv(\n",
      "        (r1): Sequential(\n",
      "          (0): Dropout(p=0.1, inplace=False)\n",
      "          (1): Conv1d(512, 1024, kernel_size=(3,), stride=(1,), padding=(1,), groups=4, bias=False)\n",
      "          (2): LeakyReLU(negative_slope=0.01)\n",
      "          (3): GaussianNoise()\n",
      "        )\n",
      "        (r2): Conv1d(1024, 512, kernel_size=(3,), stride=(1,), padding=(1,), groups=4, bias=False)\n",
      "        (channel_sizer): Sequential(\n",
      "          (0): Dropout(p=0.1, inplace=False)\n",
      "          (1): Conv1d(512, 256, kernel_size=(1,), stride=(1,), bias=False)\n",
      "        )\n",
      "        (pooling): MaxPool1d(kernel_size=2, stride=2, padding=0, dilation=1, ceil_mode=False)\n",
      "      )\n",
      "    )\n",
      "  )\n",
      "  (final_layer): MultiTaskForward(\n",
      "    (heads): ModuleList(\n",
      "      (0): CNNHead(\n",
      "        (loss): CrossEntropyLoss()\n",
      "        (classifier): Sequential(\n",
      "          (0): Dropout(p=0.1, inplace=False)\n",
      "          (1): Transpose()\n",
      "          (2): Conv1d(256, 2, kernel_size=(16,), stride=(1,), bias=False)\n",
      "          (3): AdaptiveAvgPool1d(output_size=1)\n",
      "        )\n",
      "      )\n",
      "    )\n",
      "  )\n",
      ")\n"
     ]
    },
    {
     "data": {
      "application/vnd.jupyter.widget-view+json": {
       "model_id": "7b559027fe4b4339a66852eb9903ed30",
       "version_major": 2,
       "version_minor": 0
      },
      "text/plain": [
       "HBox(children=(FloatProgress(value=0.0, max=5.0), HTML(value='')))"
      ]
     },
     "metadata": {},
     "output_type": "display_data"
    },
    {
     "data": {
      "application/vnd.jupyter.widget-view+json": {
       "model_id": "974cedf11ef2457b8dcc23f9eca5f9d3",
       "version_major": 2,
       "version_minor": 0
      },
      "text/plain": [
       "HBox(children=(FloatProgress(value=0.0, max=15.0), HTML(value='')))"
      ]
     },
     "metadata": {},
     "output_type": "display_data"
    },
    {
     "name": "stdout",
     "output_type": "stream",
     "text": [
      "\n",
      "Epoch =  1 Loss = 0.705790 LR = 0.00068182\n",
      "Epoch =  1 Train = 0.596851 Val = 0.565791\n"
     ]
    },
    {
     "data": {
      "application/vnd.jupyter.widget-view+json": {
       "model_id": "1953a7fc398f4ff090453965c762654d",
       "version_major": 2,
       "version_minor": 0
      },
      "text/plain": [
       "HBox(children=(FloatProgress(value=0.0, max=15.0), HTML(value='')))"
      ]
     },
     "metadata": {},
     "output_type": "display_data"
    },
    {
     "name": "stdout",
     "output_type": "stream",
     "text": [
      "\n",
      "Epoch =  2 Loss = 0.694761 LR = 0.00094483\n"
     ]
    },
    {
     "data": {
      "application/vnd.jupyter.widget-view+json": {
       "model_id": "81092959dc2e49feb099ad394044043f",
       "version_major": 2,
       "version_minor": 0
      },
      "text/plain": [
       "HBox(children=(FloatProgress(value=0.0, max=15.0), HTML(value='')))"
      ]
     },
     "metadata": {},
     "output_type": "display_data"
    },
    {
     "name": "stdout",
     "output_type": "stream",
     "text": [
      "\n",
      "Epoch =  3 Loss = 0.686860 LR = 0.00060299\n"
     ]
    },
    {
     "data": {
      "application/vnd.jupyter.widget-view+json": {
       "model_id": "6261045b452e4b8297659a74865da48b",
       "version_major": 2,
       "version_minor": 0
      },
      "text/plain": [
       "HBox(children=(FloatProgress(value=0.0, max=15.0), HTML(value='')))"
      ]
     },
     "metadata": {},
     "output_type": "display_data"
    },
    {
     "name": "stdout",
     "output_type": "stream",
     "text": [
      "\n",
      "Epoch =  4 Loss = 0.670227 LR = 0.00018496\n",
      "Epoch =  4 Train = 0.677038 Val = 0.604065\n"
     ]
    },
    {
     "data": {
      "application/vnd.jupyter.widget-view+json": {
       "model_id": "98c81193f62643b5a8e434bb70e83026",
       "version_major": 2,
       "version_minor": 0
      },
      "text/plain": [
       "HBox(children=(FloatProgress(value=0.0, max=15.0), HTML(value='')))"
      ]
     },
     "metadata": {},
     "output_type": "display_data"
    },
    {
     "name": "stdout",
     "output_type": "stream",
     "text": [
      "\n",
      "Epoch =  5 Loss = 0.662737 LR = 0.00000000\n",
      "\n"
     ]
    },
    {
     "data": {
      "text/html": [
       "<div>\n",
       "<style scoped>\n",
       "    .dataframe tbody tr th:only-of-type {\n",
       "        vertical-align: middle;\n",
       "    }\n",
       "\n",
       "    .dataframe tbody tr th {\n",
       "        vertical-align: top;\n",
       "    }\n",
       "\n",
       "    .dataframe thead th {\n",
       "        text-align: right;\n",
       "    }\n",
       "</style>\n",
       "<table border=\"1\" class=\"dataframe\">\n",
       "  <thead>\n",
       "    <tr style=\"text-align: right;\">\n",
       "      <th></th>\n",
       "      <th></th>\n",
       "      <th>train</th>\n",
       "      <th>val</th>\n",
       "    </tr>\n",
       "    <tr>\n",
       "      <th>mean_or_std</th>\n",
       "      <th>metric</th>\n",
       "      <th></th>\n",
       "      <th></th>\n",
       "    </tr>\n",
       "  </thead>\n",
       "  <tbody>\n",
       "    <tr>\n",
       "      <th rowspan=\"3\" valign=\"top\">mean</th>\n",
       "      <th>map</th>\n",
       "      <td>0.548</td>\n",
       "      <td>0.463</td>\n",
       "    </tr>\n",
       "    <tr>\n",
       "      <th>accuracy</th>\n",
       "      <td>0.594</td>\n",
       "      <td>0.556</td>\n",
       "    </tr>\n",
       "    <tr>\n",
       "      <th>auc</th>\n",
       "      <td>0.678</td>\n",
       "      <td>0.607</td>\n",
       "    </tr>\n",
       "    <tr>\n",
       "      <th rowspan=\"3\" valign=\"top\">std</th>\n",
       "      <th>map</th>\n",
       "      <td>0.000</td>\n",
       "      <td>0.000</td>\n",
       "    </tr>\n",
       "    <tr>\n",
       "      <th>accuracy</th>\n",
       "      <td>0.000</td>\n",
       "      <td>0.000</td>\n",
       "    </tr>\n",
       "    <tr>\n",
       "      <th>auc</th>\n",
       "      <td>0.000</td>\n",
       "      <td>0.000</td>\n",
       "    </tr>\n",
       "  </tbody>\n",
       "</table>\n",
       "</div>"
      ],
      "text/plain": [
       "                      train   val\n",
       "mean_or_std metric               \n",
       "mean        map       0.548 0.463\n",
       "            accuracy  0.594 0.556\n",
       "            auc       0.678 0.607\n",
       "std         map       0.000 0.000\n",
       "            accuracy  0.000 0.000\n",
       "            auc       0.000 0.000"
      ]
     },
     "execution_count": 10,
     "metadata": {},
     "output_type": "execute_result"
    },
    {
     "data": {
      "text/html": [
       "<div>\n",
       "<style scoped>\n",
       "    .dataframe tbody tr th:only-of-type {\n",
       "        vertical-align: middle;\n",
       "    }\n",
       "\n",
       "    .dataframe tbody tr th {\n",
       "        vertical-align: top;\n",
       "    }\n",
       "\n",
       "    .dataframe thead tr th {\n",
       "        text-align: left;\n",
       "    }\n",
       "</style>\n",
       "<table border=\"1\" class=\"dataframe\">\n",
       "  <thead>\n",
       "    <tr>\n",
       "      <th></th>\n",
       "      <th colspan=\"4\" halign=\"left\">train</th>\n",
       "      <th colspan=\"4\" halign=\"left\">val</th>\n",
       "    </tr>\n",
       "    <tr>\n",
       "      <th></th>\n",
       "      <th>precision</th>\n",
       "      <th>recall</th>\n",
       "      <th>f1</th>\n",
       "      <th>supoort</th>\n",
       "      <th>precision</th>\n",
       "      <th>recall</th>\n",
       "      <th>f1</th>\n",
       "      <th>supoort</th>\n",
       "    </tr>\n",
       "  </thead>\n",
       "  <tbody>\n",
       "    <tr>\n",
       "      <th>neg</th>\n",
       "      <td>0.774</td>\n",
       "      <td>0.506</td>\n",
       "      <td>0.612</td>\n",
       "      <td>4560.000</td>\n",
       "      <td>0.726</td>\n",
       "      <td>0.479</td>\n",
       "      <td>0.577</td>\n",
       "      <td>1140.000</td>\n",
       "    </tr>\n",
       "    <tr>\n",
       "      <th>pos</th>\n",
       "      <td>0.466</td>\n",
       "      <td>0.745</td>\n",
       "      <td>0.574</td>\n",
       "      <td>2640.000</td>\n",
       "      <td>0.433</td>\n",
       "      <td>0.688</td>\n",
       "      <td>0.532</td>\n",
       "      <td>660.000</td>\n",
       "    </tr>\n",
       "  </tbody>\n",
       "</table>\n",
       "</div>"
      ],
      "text/plain": [
       "        train                             val                      \n",
       "    precision recall    f1  supoort precision recall    f1  supoort\n",
       "neg     0.774  0.506 0.612 4560.000     0.726  0.479 0.577 1140.000\n",
       "pos     0.466  0.745 0.574 2640.000     0.433  0.688 0.532  660.000"
      ]
     },
     "execution_count": 10,
     "metadata": {},
     "output_type": "execute_result"
    }
   ],
   "source": [
    "model_fn = model_builder(Fasttext1DCNNModel, \n",
    "                         dict(classifier_dims=256, num_classes=2, \n",
    "                              n_layers=2, final_layer_builder=fb_1d_loss_builder,\n",
    "                              gaussian_noise=0.5, dropout=0.1, embedding_dims=128, internal_dims=512,\n",
    "                             fasttext_file=\"crawl-300d-2M-subword.bin\", featurizer=\"cnn\",),\n",
    "                         optimiser_class=optimizer, optimiser_params=optimizer_params)\n",
    "\n",
    "\n",
    "\n",
    "\n",
    "\n",
    "n_tests = 1\n",
    "multi_eval=False \n",
    "kfold=False\n",
    "results, prfs = train_validate_ntimes(model_fn, data, batch_size, epochs, \n",
    "                                      augmentation_weights=augmentation_weights, \n",
    "                                      kfold=kfold, multi_eval=multi_eval,\n",
    "                                      scheduler_init_fn=scheduler_init_fn, \n",
    "                                      validation_epochs=[1, 4, 7, 9, 11, 14, 17, 19])\n",
    "r1, p1 = results, prfs\n",
    "results\n",
    "prfs\n",
    " \n",
    "# Defualt\n",
    "# 0.749 \t0.717, gaussian_noise=0.2, dropout=0.0, weight_decay=1e-5\n",
    "# 0.735 \t0.703, gaussian_noise=0.3, dropout=0.0, weight_decay=1e-5\n",
    "# 0.750 \t0.715, gaussian_noise=0.3, dropout=0.0, weight_decay=1e-7\n",
    "# 0.722 \t0.701, gaussian_noise=0.2, dropout=0.0, weight_decay=1e-4\n",
    "# 0.722 \t0.701, gaussian_noise=0.05, dropout=0.0, weight_decay=1e-4\n",
    "# 0.725 \t0.704, gaussian_noise=0.0, dropout=0.0, weight_decay=1e-4\n",
    "# 0.731 \t0.699, gaussian_noise=0.0, dropout=0.0, weight_decay=5e-5\n",
    "\n",
    "# 5 size cnn\n",
    "# 0.743 \t0.707, gaussian_noise=0.2, dropout=0.0, weight_decay=1e-5\n",
    "# 0.742 \t0.709, gaussian_noise=0.3, dropout=0.0, weight_decay=1e-5\n",
    "# 0.739 \t0.710, gaussian_noise=0.5, dropout=0.0, weight_decay=1e-5\n",
    "# 0.733 \t0.705, gaussian_noise=0.8, dropout=0.0, weight_decay=1e-5\n",
    "\n",
    "# Simple CNN\n",
    "# 0.616 \t0.607, gaussian_noise=0.8, dropout=0.0, weight_decay=1e-5\n",
    "# 0.694 \t0.685, gaussian_noise=0.0, dropout=0.0, weight_decay=1e-7\n",
    "\n",
    "# Relu only  \n",
    "# 0.744 \t0.712, gaussian_noise=0.2, dropout=0.0, weight_decay=1e-5\n",
    "# 0.740 \t0.704, gaussian_noise=0.3, dropout=0.0, weight_decay=1e-5\n",
    "# 0.744 \t0.710, gaussian_noise=0.4, dropout=0.0, weight_decay=1e-5\n",
    "# 0.741 \t0.711, gaussian_noise=0.5, dropout=0.0, weight_decay=1e-5\n",
    "# 0.734 \t0.704, gaussian_noise=0.4, dropout=0.0, weight_decay=1e-9\n",
    "\n",
    "# Gelu\n",
    "# 0.738 \t0.711, gaussian_noise=0.5, dropout=0.0, weight_decay=1e-6\n",
    "# 0.731 \t0.707,gaussian_noise=0.3, dropout=0.0, weight_decay=1e-5 \n",
    "\n",
    "# GRU \n",
    "# 0.728 \t0.708, gaussian_noise=0.3, dropout=0.0, weight_decay=1e-5\n",
    "# 0.724 \t0.704, gaussian_noise=0.0, dropout=0.0, weight_decay=1e-5\n",
    "\n",
    "# 0.777 \t0.729 No layer norm or unit norm\n",
    "# 0.761 \t0.730, 0.013, with layer norm\n",
    "# 0.769 \t0.725\n",
    "\n",
    "# 0.800 \t0.715 8m 10s\n",
    "# 0.771 \t0.725 7m 25s\n",
    "\n",
    "# 0.753 \t0.716 7m 60s 7826736\n",
    "\n",
    "# 0.729 \t0.707 7m 16s 6417712\n",
    "\n",
    "# 0.793 \t0.717 6m 31s 5532976\n",
    "\n",
    "# 0.750 \t0.713 6m 21s 5532976\n",
    "\n",
    "\n",
    "# GRU\n",
    "# 17m 14s 0.906 \t0.650 10316576\n",
    "\n",
    "# 15m 24s 0.907 \t0.635 8743712\n",
    "\n",
    "# 11m 41s 0.925 \t0.627 2904864\n"
   ]
  },
  {
   "cell_type": "markdown",
   "metadata": {},
   "source": [
    "# Predict"
   ]
  },
  {
   "cell_type": "code",
   "execution_count": null,
   "metadata": {
    "ExecuteTime": {
     "end_time": "2020-06-11T16:18:51.481091Z",
     "start_time": "2020-06-11T16:18:51.478221Z"
    }
   },
   "outputs": [],
   "source": [
    "model_fn = model_builder(Fasttext1DCNNModel, \n",
    "                         dict(classifer_dims=256, num_classes=2, \n",
    "                              gaussian_noise=0.3, dropout=0.2, embedding_dims=512, internal_dims=256,\n",
    "                             fasttext_file=\"crawl-300d-2M-subword.bin\", classifier=\"transformer\",),\n",
    "                         optimiser_class=optimizer, optimiser_params=optimizer_params)\n"
   ]
  },
  {
   "cell_type": "code",
   "execution_count": null,
   "metadata": {
    "ExecuteTime": {
     "end_time": "2020-06-11T16:20:18.520223Z",
     "start_time": "2020-06-11T16:18:51.952856Z"
    }
   },
   "outputs": [],
   "source": [
    "batch_size=512\n",
    "epochs = 1\n",
    "\n",
    "submission, text_model = train_and_predict(model_fn, data, batch_size, epochs, augmentation_weights, scheduler_init_fn=scheduler_init_fn)\n",
    "submission.to_csv(\"submission.csv\",index=False)\n",
    "submission.sample(3)\n"
   ]
  },
  {
   "cell_type": "code",
   "execution_count": null,
   "metadata": {
    "ExecuteTime": {
     "end_time": "2020-06-11T15:27:03.995069Z",
     "start_time": "2020-06-11T15:27:03.988742Z"
    }
   },
   "outputs": [],
   "source": [
    "submission.sample(10)"
   ]
  }
 ],
 "metadata": {
  "kernelspec": {
   "display_name": "Python 3",
   "language": "python",
   "name": "python3"
  },
  "language_info": {
   "codemirror_mode": {
    "name": "ipython",
    "version": 3
   },
   "file_extension": ".py",
   "mimetype": "text/x-python",
   "name": "python",
   "nbconvert_exporter": "python",
   "pygments_lexer": "ipython3",
   "version": "3.7.6"
  },
  "toc": {
   "base_numbering": 1,
   "nav_menu": {},
   "number_sections": true,
   "sideBar": true,
   "skip_h1_title": false,
   "title_cell": "Table of Contents",
   "title_sidebar": "Contents",
   "toc_cell": false,
   "toc_position": {
    "height": "822px",
    "left": "0px",
    "top": "111.133px",
    "width": "165px"
   },
   "toc_section_display": true,
   "toc_window_display": true
  }
 },
 "nbformat": 4,
 "nbformat_minor": 4
}
