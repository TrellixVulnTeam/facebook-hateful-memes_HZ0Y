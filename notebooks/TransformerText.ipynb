{
 "cells": [
  {
   "cell_type": "markdown",
   "metadata": {},
   "source": [
    "# Data and Imports"
   ]
  },
  {
   "cell_type": "code",
   "execution_count": 1,
   "metadata": {
    "ExecuteTime": {
     "end_time": "2020-07-31T18:50:18.195727Z",
     "start_time": "2020-07-31T18:50:15.312047Z"
    }
   },
   "outputs": [],
   "source": [
    "\n",
    "\n",
    "\n",
    "import pandas as pd\n",
    "import numpy as np\n",
    "import jsonlines\n",
    "import seaborn as sns\n",
    "%matplotlib inline\n",
    "%config InlineBackend.figure_format = 'retina'\n",
    "import torch.nn as nn\n",
    "import torch\n",
    "import torch.nn.functional as F\n",
    "from torch.utils.data import Dataset, DataLoader\n",
    "from torchvision import transforms, utils\n",
    "import torch_optimizer as optim\n",
    "\n",
    "\n",
    "from IPython.core.interactiveshell import InteractiveShell\n",
    "InteractiveShell.ast_node_interactivity = \"all\"\n",
    "from importlib import reload\n",
    "pd.set_option('display.max_rows', 500)\n",
    "pd.set_option('display.float_format', '{:0.3f}'.format)\n",
    "pd.set_option('display.max_columns', 500)\n",
    "pd.set_option('display.width', 1000)\n",
    "pd.options.display.width = 0\n",
    "import warnings\n",
    "import torchvision\n",
    "warnings.filterwarnings('ignore')\n",
    "\n",
    "from facebook_hateful_memes_detector.utils.globals import set_global, get_global\n",
    "set_global(\"cache_dir\", \"/home/ahemf/cache/cache\")\n",
    "set_global(\"dataloader_workers\", 4)\n",
    "set_global(\"use_autocast\", True)\n",
    "set_global(\"models_dir\", \"/home/ahemf/cache/\")\n",
    "\n",
    "from facebook_hateful_memes_detector.utils import read_json_lines_into_df, in_notebook, set_device, my_collate\n",
    "get_global(\"cache_dir\")\n",
    "from facebook_hateful_memes_detector.models import Fasttext1DCNNModel, MultiImageMultiTextAttentionEarlyFusionModel, LangFeaturesModel, AlbertClassifer\n",
    "from facebook_hateful_memes_detector.preprocessing import TextImageDataset, get_datasets, get_image2torchvision_transforms, TextAugment\n",
    "from facebook_hateful_memes_detector.preprocessing import DefinedRotation, QuadrantCut, ImageAugment\n",
    "from facebook_hateful_memes_detector.training import *\n",
    "import facebook_hateful_memes_detector\n",
    "reload(facebook_hateful_memes_detector)\n",
    "\n",
    "device = torch.device(\"cuda\" if torch.cuda.is_available() else \"cpu\")\n",
    "set_device(device)\n"
   ]
  },
  {
   "cell_type": "code",
   "execution_count": 2,
   "metadata": {
    "ExecuteTime": {
     "end_time": "2020-07-31T18:50:18.211893Z",
     "start_time": "2020-07-31T18:50:18.206807Z"
    }
   },
   "outputs": [
    {
     "data": {
      "text/plain": [
       "device(type='cuda')"
      ]
     },
     "execution_count": 2,
     "metadata": {},
     "output_type": "execute_result"
    }
   ],
   "source": [
    "device = torch.device(\"cuda\" if torch.cuda.is_available() else \"cpu\")\n",
    "set_device(device)\n",
    "device\n"
   ]
  },
  {
   "cell_type": "markdown",
   "metadata": {},
   "source": [
    "- What Augs are useful\n",
    "- What Text models perform best"
   ]
  },
  {
   "cell_type": "code",
   "execution_count": 17,
   "metadata": {
    "ExecuteTime": {
     "end_time": "2020-08-01T05:27:55.519257Z",
     "start_time": "2020-08-01T05:27:55.421980Z"
    }
   },
   "outputs": [],
   "source": [
    "\n",
    "def get_preprocess_text():\n",
    "    char_level = {\"keyboard\": 0.1, \"char_substitute\": 0.4, \"char_insert\": 0.2, \"char_swap\": 0.2, \n",
    "                  \"ocr\": 0.0, \"char_delete\": 0.1}\n",
    "    char_level = TextAugment([0.1, 0.65, 0.25], char_level)\n",
    "    word_level = {\"fasttext\": 0.0, \"glove_twitter\": 0.0, \"glove_wiki\": 0.0, \"word2vec\": 0.0, \"split\": 0.2,\n",
    "                 \"stopword_insert\": 0.5, \"word_join\": 0.2, \"word_cutout\": 0.8, \"gibberish_insert\": 0.0}\n",
    "    word_level = TextAugment([0.1, 0.65, 0.25], word_level)\n",
    "    sentence_level = {\"text_rotate\": 0.0, \"sentence_shuffle\": 0.0, \n",
    "                      \"one_third_cut\": 0.3, \"half_cut\":0.0, \"part_select\": 0.75}\n",
    "    sentence_level = TextAugment([0.55, 0.45], sentence_level)\n",
    "    def process(text):\n",
    "        text = sentence_level(text)\n",
    "        text = word_level(text)\n",
    "        text = char_level(text)\n",
    "        return text\n",
    "    return process\n",
    "\n",
    "\n",
    "# choice_probas = {\"keyboard\": 0.1, \"char_substitute\": 0.0, \"char_insert\": 0.1, \"char_swap\": 0.1, \"ocr\": 0.0, \"char_delete\": 0.1,\n",
    "#                  \"fasttext\": 0.0, \"glove_twitter\": 0.0, \"glove_wiki\": 0.0, \"word2vec\": 0.0, \"split\": 0.1,\n",
    "#                  \"stopword_insert\": 0.3, \"word_join\": 0.2, \"word_cutout\": 0.8,\n",
    "#                  \"text_rotate\": 0.0, \"sentence_shuffle\": 0.0, \n",
    "#                  \"one_third_cut\": 0.3, \"half_cut\":0.0, \"part_select\": 0.5}\n",
    "# preprocess_text = TextAugment([0.05, 0.2, 0.2, 0.3, 0.25], choice_probas, fasttext_file=\"wiki-news-300d-1M-subword.bin\")\n",
    "\n",
    "# choice_probas_test = {\"keyboard\": 0.1, \"char_substitute\": 0.0, \"char_insert\": 0.1, \"char_swap\": 0.0, \"char_delete\": 0.2,\n",
    "#                  \"fasttext\": 0.0, \"glove_twitter\": 0.0, \"glove_wiki\": 0.0, \"word2vec\": 0.0, \"split\": 0.1,\n",
    "#                  \"stopword_insert\": 0.3, \"word_join\": 0.2, \"word_cutout\": 0.8,\n",
    "#                  \"text_rotate\": 0.0, \"sentence_shuffle\": 0.0, \n",
    "#                       \"one_third_cut\": 0.3, \"half_cut\":0.0, \"part_select\": 0.5}\n",
    "\n",
    "# preprocess_text_test = TextAugment([0.1, 0.9], choice_probas_test, fasttext_file=\"wiki-news-300d-1M-subword.bin\")\n",
    "\n",
    "preprocess_text = get_preprocess_text()\n",
    "preprocess_text_test = get_preprocess_text()\n",
    "\n",
    "data = get_datasets(data_dir=\"../data/\", train_text_transform=preprocess_text, train_image_transform=None, \n",
    "                    test_text_transform=None, test_image_transform=None, \n",
    "                    cache_images = True, use_images = False, dev=False, test_dev=True,\n",
    "                    keep_original_text=False, keep_original_image=False, \n",
    "                    keep_processed_image=True, keep_torchvision_image=False,)\n",
    "\n",
    "\n",
    "# Clean text\n"
   ]
  },
  {
   "cell_type": "code",
   "execution_count": 4,
   "metadata": {
    "ExecuteTime": {
     "end_time": "2020-07-31T14:58:49.529966Z",
     "start_time": "2020-07-31T14:58:49.527515Z"
    }
   },
   "outputs": [],
   "source": [
    "# data[\"train\"].label.value_counts()\n",
    "# train = data[\"train\"]\n",
    "\n",
    "# ones = train[train[\"label\"] == 1]\n",
    "# zeros = train[train[\"label\"] == 0].sample(n=len(ones), replace=False)\n",
    "# data[\"train\"] = pd.concat((ones, zeros)).sample(frac=1.0)\n",
    "# data[\"train\"].label.value_counts()\n",
    "\n",
    "# len(set(data[\"train\"][\"id\"])) == data[\"train\"].shape[0]\n"
   ]
  },
  {
   "cell_type": "markdown",
   "metadata": {},
   "source": [
    "https://discuss.pytorch.org/t/how-to-implement-torch-optim-lr-scheduler-cosineannealinglr/28797/11"
   ]
  },
  {
   "cell_type": "code",
   "execution_count": 18,
   "metadata": {
    "ExecuteTime": {
     "end_time": "2020-08-01T05:27:59.248791Z",
     "start_time": "2020-08-01T05:27:59.245727Z"
    }
   },
   "outputs": [],
   "source": [
    "\n",
    "\n",
    "scheduler_init_fn = get_multistep_lr([11, 13], gamma=0.25) # get_cosine_schedule_with_warmup # get_cosine_with_hard_restarts_schedule_with_warmup\n",
    "scheduler_init_fn = get_cosine_schedule_with_warmup()\n",
    "reg_sched = get_regularizer_scheduler()\n",
    "\n"
   ]
  },
  {
   "cell_type": "markdown",
   "metadata": {
    "heading_collapsed": true
   },
   "source": [
    "# Params"
   ]
  },
  {
   "cell_type": "code",
   "execution_count": null,
   "metadata": {
    "ExecuteTime": {
     "end_time": "2020-07-29T19:00:48.022523Z",
     "start_time": "2020-07-29T19:00:48.013043Z"
    },
    "hidden": true
   },
   "outputs": [],
   "source": [
    "sgd = torch.optim.SGD\n",
    "sgd_params = dict(lr=2e-2, momentum=0.9, dampening=0, weight_decay=0, nesterov=False)\n",
    "\n",
    "rangerQH = optim.RangerQH\n",
    "rangerQHparams = dict(lr=1e-3, betas=(0.9, 0.999), nus=(.7, 1.0),\n",
    "    weight_decay=0.0,\n",
    "    k=6,\n",
    "    alpha=.5,\n",
    "    decouple_weight_decay=True,\n",
    "    eps=1e-8,)\n",
    "\n",
    "adam = torch.optim.Adam\n",
    "adam_params = params=dict(lr=1e-3, weight_decay=1e-7)\n",
    "\n",
    "adamw = torch.optim.AdamW\n",
    "adamw_params = dict(lr=0.001, betas=(0.9, 0.999), eps=1e-08, weight_decay=1e-2)\n",
    "\n",
    "novograd = optim.NovoGrad\n",
    "novograd_params = dict(lr= 1e-3,\n",
    "    betas=(0.9, 0.999),\n",
    "    eps=1e-8,\n",
    "    weight_decay=0,\n",
    "    grad_averaging=False,\n",
    "    amsgrad=False,)\n",
    "\n",
    "qhadam = optim.QHAdam\n",
    "qhadam_params = dict(lr= 1e-3,\n",
    "    betas=(0.9, 0.999),\n",
    "    nus=(1.0, 1.0),\n",
    "    weight_decay=0,\n",
    "    decouple_weight_decay=False,\n",
    "    eps=1e-8,)\n",
    "\n",
    "radam = optim.RAdam\n",
    "radam_params = dict(lr= 1e-3,\n",
    "    betas=(0.9, 0.999),\n",
    "    eps=1e-8,\n",
    "    weight_decay=0,)\n",
    "\n",
    "yogi = optim.Yogi\n",
    "yogi_params = dict(lr= 1e-2,\n",
    "    betas=(0.9, 0.999),\n",
    "    eps=1e-3,\n",
    "    initial_accumulator=1e-6,\n",
    "    weight_decay=0)\n",
    "\n",
    "\n"
   ]
  },
  {
   "cell_type": "markdown",
   "metadata": {},
   "source": [
    "# BERT Models"
   ]
  },
  {
   "cell_type": "markdown",
   "metadata": {
    "heading_collapsed": true
   },
   "source": [
    "## Non Ensemble"
   ]
  },
  {
   "cell_type": "code",
   "execution_count": null,
   "metadata": {
    "ExecuteTime": {
     "end_time": "2020-07-29T12:47:48.405330Z",
     "start_time": "2020-07-29T12:31:41.935915Z"
    },
    "hidden": true,
    "scrolled": true
   },
   "outputs": [],
   "source": [
    "adamw = torch.optim.AdamW\n",
    "adamw_params = dict(lr=5e-5, betas=(0.9, 0.98), eps=1e-08, weight_decay=1e-3)\n",
    "optimizer = adamw\n",
    "optimizer_params = adamw_params\n",
    "\n",
    "lr_strategy = {\n",
    "    \"model\": {\n",
    "        \"lr\": optimizer_params[\"lr\"] / 1000,\n",
    "        \"finetune\": False,\n",
    "        \"encoder\": {\n",
    "            \"layer\": {\n",
    "                \"2\": {\n",
    "                    \"lr\": optimizer_params[\"lr\"],\n",
    "                    \"finetune\": False\n",
    "                },\n",
    "                \"3\": {\n",
    "                    \"lr\": optimizer_params[\"lr\"],\n",
    "                    \"finetune\": True\n",
    "                },\n",
    "                \"4\": {\n",
    "                    \"lr\": optimizer_params[\"lr\"],\n",
    "                    \"finetune\": True\n",
    "                },\n",
    "                \"5\": {\n",
    "                    \"lr\": optimizer_params[\"lr\"],\n",
    "                    \"finetune\": True\n",
    "                }\n",
    "            }\n",
    "        },\n",
    "    }\n",
    "}\n",
    "\n",
    "epochs = 24\n",
    "batch_size = 256\n",
    "model_fn = model_builder(AlbertClassifer,\n",
    "                         dict(classifier_dims=768,\n",
    "                              num_classes=2,\n",
    "                              gaussian_noise=0.05,\n",
    "                              dropout=0.05,\n",
    "                              word_masking_proba=0.1,\n",
    "                              internal_dims=768,\n",
    "                              final_layer_builder=fb_1d_loss_builder,\n",
    "                              n_layers=2,\n",
    "                              n_encoders=0,\n",
    "                              n_decoders=1,\n",
    "                              n_tokens_in=96,\n",
    "                              n_tokens_out=16,\n",
    "                              featurizer=\"transformer\",\n",
    "                              model='distilbert-nsp',\n",
    "                              loss=\"focal\",\n",
    "                              classification_head=\"cnn1d\", # head_ensemble\n",
    "                              dice_loss_coef=0.0,\n",
    "                              auc_loss_coef=0.5, # 0.1\n",
    "                              attention_drop_proba=0.0,\n",
    "                              finetune=False),\n",
    "                         per_param_opts_fn=lr_strategy,\n",
    "                         optimiser_class=optimizer,\n",
    "                         optimiser_params=optimizer_params)\n",
    "\n",
    "kfold = False\n",
    "results, prfs = train_validate_ntimes(\n",
    "    model_fn,\n",
    "    data,\n",
    "    batch_size,\n",
    "    epochs,\n",
    "    kfold=kfold,\n",
    "    scheduler_init_fn=scheduler_init_fn,\n",
    "    model_call_back=reg_sched, # reg_sched\n",
    "    validation_epochs=[1, 4, 7, 9, 11, 14, 17, 19, 23, 27, 31, 34, 37, 41, 44, 47, 51, 54],\n",
    "    show_model_stats=False,\n",
    "    sampling_policy=\"without_replacement\")\n",
    "r2, p2 = results, prfs\n",
    "results\n",
    "prfs\n",
    "\n",
    "# 0.851\t0.666\n"
   ]
  },
  {
   "cell_type": "code",
   "execution_count": null,
   "metadata": {
    "ExecuteTime": {
     "end_time": "2020-07-30T05:40:53.859654Z",
     "start_time": "2020-07-30T05:30:28.121678Z"
    },
    "hidden": true
   },
   "outputs": [],
   "source": [
    "adamw = torch.optim.AdamW\n",
    "adamw_params = dict(lr=5e-5, betas=(0.9, 0.98), eps=1e-08, weight_decay=1e-3)\n",
    "optimizer = adamw\n",
    "optimizer_params = adamw_params\n",
    "\n",
    "lr_strategy = {\n",
    "    \"model\": {\n",
    "        \"lr\": optimizer_params[\"lr\"] / 1000,\n",
    "        \"finetune\": False,\n",
    "        \"encoder\": {\n",
    "            \"layer\": {\n",
    "                \"2\": {\n",
    "                    \"lr\": optimizer_params[\"lr\"],\n",
    "                    \"finetune\": False\n",
    "                },\n",
    "                \"3\": {\n",
    "                    \"lr\": optimizer_params[\"lr\"],\n",
    "                    \"finetune\": True\n",
    "                },\n",
    "                \"4\": {\n",
    "                    \"lr\": optimizer_params[\"lr\"],\n",
    "                    \"finetune\": True\n",
    "                },\n",
    "                \"5\": {\n",
    "                    \"lr\": optimizer_params[\"lr\"],\n",
    "                    \"finetune\": True\n",
    "                }\n",
    "            }\n",
    "        },\n",
    "    }\n",
    "}\n",
    "\n",
    "epochs = 24\n",
    "batch_size = 256\n",
    "model_fn = model_builder(AlbertClassifer,\n",
    "                         dict(classifier_dims=768,\n",
    "                              num_classes=2,\n",
    "                              gaussian_noise=0.05,\n",
    "                              dropout=0.05,\n",
    "                              word_masking_proba=0.1,\n",
    "                              internal_dims=768,\n",
    "                              final_layer_builder=fb_1d_loss_builder,\n",
    "                              n_layers=2,\n",
    "                              n_encoders=0,\n",
    "                              n_decoders=1,\n",
    "                              n_tokens_in=96,\n",
    "                              n_tokens_out=16,\n",
    "                              featurizer=\"transformer\",\n",
    "                              model='distilbert-nsp',\n",
    "                              loss=\"focal\",\n",
    "                              classification_head=\"cnn1d\", # head_ensemble\n",
    "                              dice_loss_coef=0.0,\n",
    "                              auc_loss_coef=0.5, # 0.1\n",
    "                              attention_drop_proba=0.05,\n",
    "                              finetune=False),\n",
    "                         per_param_opts_fn=lr_strategy,\n",
    "                         optimiser_class=optimizer,\n",
    "                         optimiser_params=optimizer_params)\n",
    "\n",
    "kfold = False\n",
    "results, prfs = train_validate_ntimes(\n",
    "    model_fn,\n",
    "    data,\n",
    "    batch_size,\n",
    "    epochs,\n",
    "    kfold=kfold,\n",
    "    scheduler_init_fn=scheduler_init_fn,\n",
    "    model_call_back=reg_sched, # reg_sched\n",
    "    validation_epochs=[1, 4, 7, 9, 11, 14, 17, 19, 23, 27, 31, 34, 37, 41, 44, 47, 51, 54],\n",
    "    show_model_stats=False,\n",
    "    sampling_policy=\"without_replacement\")\n",
    "r2, p2 = results, prfs\n",
    "results\n",
    "prfs\n",
    "\n",
    "\n"
   ]
  },
  {
   "cell_type": "markdown",
   "metadata": {
    "heading_collapsed": true
   },
   "source": [
    "## Head Ensemble"
   ]
  },
  {
   "cell_type": "code",
   "execution_count": null,
   "metadata": {
    "ExecuteTime": {
     "end_time": "2020-07-29T11:38:32.613871Z",
     "start_time": "2020-07-29T11:25:14.832562Z"
    },
    "hidden": true,
    "scrolled": true
   },
   "outputs": [],
   "source": [
    "adamw = torch.optim.AdamW\n",
    "adamw_params = dict(lr=5e-5, betas=(0.9, 0.98), eps=1e-08, weight_decay=1e-3)\n",
    "optimizer = adamw\n",
    "optimizer_params = adamw_params\n",
    "\n",
    "lr_strategy = {\n",
    "    \"model\": {\n",
    "        \"lr\": optimizer_params[\"lr\"] / 1000,\n",
    "        \"finetune\": False,\n",
    "        \"encoder\": {\n",
    "            \"layer\": {\n",
    "                \"2\": {\n",
    "                    \"lr\": optimizer_params[\"lr\"],\n",
    "                    \"finetune\": False\n",
    "                },\n",
    "                \"3\": {\n",
    "                    \"lr\": optimizer_params[\"lr\"],\n",
    "                    \"finetune\": True\n",
    "                },\n",
    "                \"4\": {\n",
    "                    \"lr\": optimizer_params[\"lr\"],\n",
    "                    \"finetune\": True\n",
    "                },\n",
    "                \"5\": {\n",
    "                    \"lr\": optimizer_params[\"lr\"],\n",
    "                    \"finetune\": True\n",
    "                }\n",
    "            }\n",
    "        },\n",
    "    }\n",
    "}\n",
    "\n",
    "epochs = 24\n",
    "batch_size = 256\n",
    "model_fn = model_builder(AlbertClassifer,\n",
    "                         dict(classifier_dims=768,\n",
    "                              num_classes=2,\n",
    "                              gaussian_noise=0.0,\n",
    "                              dropout=0.05,\n",
    "                              word_masking_proba=0.1, # 0.1\n",
    "                              internal_dims=768,\n",
    "                              final_layer_builder=fb_1d_loss_builder,\n",
    "                              n_layers=2,\n",
    "                              n_encoders=0,\n",
    "                              n_decoders=1,\n",
    "                              n_tokens_in=96,\n",
    "                              n_tokens_out=16,\n",
    "                              featurizer=\"transformer\",\n",
    "                              model='distilbert-nsp',\n",
    "                              loss=\"focal\",\n",
    "                              classification_head=\"head_ensemble\", # head_ensemble\n",
    "                              dice_loss_coef=0.0,\n",
    "                              auc_loss_coef=0.5, # 0.1\n",
    "                              attention_drop_proba=0.05,\n",
    "                              finetune=False),\n",
    "                         per_param_opts_fn=lr_strategy,\n",
    "                         optimiser_class=optimizer,\n",
    "                         optimiser_params=optimizer_params)\n",
    "\n",
    "kfold = False\n",
    "results, prfs = train_validate_ntimes(\n",
    "    model_fn,\n",
    "    data,\n",
    "    batch_size,\n",
    "    epochs,\n",
    "    kfold=kfold,\n",
    "    scheduler_init_fn=scheduler_init_fn,\n",
    "    model_call_back=reg_sched, # reg_sched\n",
    "    validation_epochs=[17, 27, 32, 37, 41, 44, 54],\n",
    "    show_model_stats=False,\n",
    "    sampling_policy=\"without_replacement\",\n",
    "    prediction_iters=1, evaluate_in_train_mode=False\n",
    ")\n",
    "r2, p2 = results, prfs\n",
    "results\n",
    "prfs\n",
    "\n"
   ]
  },
  {
   "cell_type": "markdown",
   "metadata": {
    "heading_collapsed": true
   },
   "source": [
    "## Multi-eval Head Ensemble\n"
   ]
  },
  {
   "cell_type": "code",
   "execution_count": null,
   "metadata": {
    "ExecuteTime": {
     "end_time": "2020-07-28T19:16:20.346007Z",
     "start_time": "2020-07-28T19:16:20.009Z"
    },
    "hidden": true
   },
   "outputs": [],
   "source": [
    "adamw = torch.optim.AdamW\n",
    "adamw_params = dict(lr=5e-5, betas=(0.9, 0.98), eps=1e-08, weight_decay=1e-3)\n",
    "optimizer = adamw\n",
    "optimizer_params = adamw_params\n",
    "\n",
    "lr_strategy = {\n",
    "    \"model\": {\n",
    "        \"lr\": optimizer_params[\"lr\"] / 1000,\n",
    "        \"finetune\": False,\n",
    "        \"encoder\": {\n",
    "            \"layer\": {\n",
    "                \"2\": {\n",
    "                    \"lr\": optimizer_params[\"lr\"],\n",
    "                    \"finetune\": False\n",
    "                },\n",
    "                \"3\": {\n",
    "                    \"lr\": optimizer_params[\"lr\"],\n",
    "                    \"finetune\": True\n",
    "                },\n",
    "                \"4\": {\n",
    "                    \"lr\": optimizer_params[\"lr\"],\n",
    "                    \"finetune\": True\n",
    "                },\n",
    "                \"5\": {\n",
    "                    \"lr\": optimizer_params[\"lr\"],\n",
    "                    \"finetune\": True\n",
    "                }\n",
    "            }\n",
    "        },\n",
    "    }\n",
    "}\n",
    "\n",
    "epochs = 20\n",
    "batch_size = 256\n",
    "model_fn = model_builder(AlbertClassifer,\n",
    "                         dict(classifier_dims=768,\n",
    "                              num_classes=2,\n",
    "                              gaussian_noise=0.0,\n",
    "                              dropout=0.1,\n",
    "                              word_masking_proba=0.1, # 0.1\n",
    "                              internal_dims=768,\n",
    "                              final_layer_builder=fb_1d_loss_builder,\n",
    "                              n_layers=2,\n",
    "                              n_encoders=0,\n",
    "                              n_decoders=1,\n",
    "                              n_tokens_in=96,\n",
    "                              n_tokens_out=16,\n",
    "                              featurizer=\"transformer\",\n",
    "                              model='distilbert-nsp',\n",
    "                              loss=\"focal\",\n",
    "                              classification_head=\"head_ensemble\", # head_ensemble\n",
    "                              dice_loss_coef=0.0,\n",
    "                              auc_loss_coef=0.5, # 0.1\n",
    "                              attention_drop_proba=0.0,\n",
    "                              finetune=False),\n",
    "                         per_param_opts_fn=lr_strategy,\n",
    "                         optimiser_class=optimizer,\n",
    "                         optimiser_params=optimizer_params)\n",
    "\n",
    "kfold = False\n",
    "results, prfs = train_validate_ntimes(\n",
    "    model_fn,\n",
    "    data,\n",
    "    batch_size,\n",
    "    epochs,\n",
    "    kfold=kfold,\n",
    "    scheduler_init_fn=scheduler_init_fn,\n",
    "    model_call_back=reg_sched, # reg_sched\n",
    "    validation_epochs=[17, 27, 32, 37, 41, 44, 54],\n",
    "    show_model_stats=False,\n",
    "    sampling_policy=\"without_replacement\",\n",
    "    prediction_iters=5, evaluate_in_train_mode=True\n",
    ")\n",
    "r2, p2 = results, prfs\n",
    "results\n",
    "prfs\n",
    "\n",
    "# 0.799\t0.657 gaussian_noise=0.0, dropout=0.05, word_masking_proba=0.1,\n",
    "# 0.780\t0.634 gaussian_noise=0.0, dropout=0.05, word_masking_proba=0.15, \n",
    "# 0.806\t0.648 gaussian_noise=0.0, dropout=0.02, word_masking_proba=0.1\n",
    "# 0.803\t0.655 gaussian_noise=0.0, dropout=0.1, word_masking_proba=0.1, (0.807\t0.657) 0.803\t0.653\n"
   ]
  },
  {
   "cell_type": "markdown",
   "metadata": {},
   "source": [
    "## Decoder Ensemble"
   ]
  },
  {
   "cell_type": "markdown",
   "metadata": {},
   "source": [
    "### Train All Params"
   ]
  },
  {
   "cell_type": "code",
   "execution_count": 20,
   "metadata": {
    "ExecuteTime": {
     "end_time": "2020-08-01T06:20:32.008428Z",
     "start_time": "2020-08-01T06:02:06.615023Z"
    }
   },
   "outputs": [
    {
     "name": "stdout",
     "output_type": "stream",
     "text": [
      "Pick stored Model /home/ahemf/cache/distilbert-nsp Model Class =  <class 'transformers.modeling_roberta.RobertaModel'> Tokenizer Class =  <class 'transformers.tokenization_roberta.RobertaTokenizer'>\n",
      "Autocast =  True Epochs =  48 Divisor = 2 Examples = 4250 Batch Size =  256\n",
      "Training Samples =  8500 Weighted Sampling =  True Num Batches =  17 Accumulation steps =  1\n"
     ]
    },
    {
     "data": {
      "application/vnd.jupyter.widget-view+json": {
       "model_id": "5a07e867504a486d80091875510c0ac2",
       "version_major": 2,
       "version_minor": 0
      },
      "text/plain": [
       "HBox(children=(FloatProgress(value=0.0, max=48.0), HTML(value='')))"
      ]
     },
     "metadata": {},
     "output_type": "display_data"
    },
    {
     "data": {
      "application/vnd.jupyter.widget-view+json": {
       "model_id": "516e5d22d2034f5d9d4c8aa43d01cffd",
       "version_major": 2,
       "version_minor": 0
      },
      "text/plain": [
       "HBox(children=(FloatProgress(value=0.0, description='Batches', max=17.0, style=ProgressStyle(description_width…"
      ]
     },
     "metadata": {},
     "output_type": "display_data"
    },
    {
     "name": "stdout",
     "output_type": "stream",
     "text": [
      "\n",
      "Epoch =  1 Loss = 0.777641 LR = 0.00000348\n"
     ]
    },
    {
     "data": {
      "application/vnd.jupyter.widget-view+json": {
       "model_id": "c3b86de9f31042df97aa53222c9ed57d",
       "version_major": 2,
       "version_minor": 0
      },
      "text/plain": [
       "HBox(children=(FloatProgress(value=0.0, description='Batches', max=17.0, style=ProgressStyle(description_width…"
      ]
     },
     "metadata": {},
     "output_type": "display_data"
    },
    {
     "name": "stdout",
     "output_type": "stream",
     "text": [
      "\n",
      "Epoch =  2 Loss = 0.578854 LR = 0.00000697\n"
     ]
    },
    {
     "data": {
      "application/vnd.jupyter.widget-view+json": {
       "model_id": "9710aff208594406820c2f4f80849dc2",
       "version_major": 2,
       "version_minor": 0
      },
      "text/plain": [
       "HBox(children=(FloatProgress(value=0.0, description='Batches', max=17.0, style=ProgressStyle(description_width…"
      ]
     },
     "metadata": {},
     "output_type": "display_data"
    },
    {
     "name": "stdout",
     "output_type": "stream",
     "text": [
      "\n",
      "Epoch =  3 Loss = 0.529556 LR = 0.00001045\n"
     ]
    },
    {
     "data": {
      "application/vnd.jupyter.widget-view+json": {
       "model_id": "8184a39607b34173862aa7516818c054",
       "version_major": 2,
       "version_minor": 0
      },
      "text/plain": [
       "HBox(children=(FloatProgress(value=0.0, description='Batches', max=17.0, style=ProgressStyle(description_width…"
      ]
     },
     "metadata": {},
     "output_type": "display_data"
    },
    {
     "name": "stdout",
     "output_type": "stream",
     "text": [
      "\n",
      "Epoch =  4 Loss = 0.520151 LR = 0.00001393\n"
     ]
    },
    {
     "data": {
      "application/vnd.jupyter.widget-view+json": {
       "model_id": "664a8e5b2bb448168e5eec2f96e92f2b",
       "version_major": 2,
       "version_minor": 0
      },
      "text/plain": [
       "HBox(children=(FloatProgress(value=0.0, description='Batches', max=17.0, style=ProgressStyle(description_width…"
      ]
     },
     "metadata": {},
     "output_type": "display_data"
    },
    {
     "name": "stdout",
     "output_type": "stream",
     "text": [
      "\n",
      "Epoch =  5 Loss = 0.503112 LR = 0.00001742\n"
     ]
    },
    {
     "data": {
      "application/vnd.jupyter.widget-view+json": {
       "model_id": "b3eb39640876499bbb38e87f4b54a70a",
       "version_major": 2,
       "version_minor": 0
      },
      "text/plain": [
       "HBox(children=(FloatProgress(value=0.0, description='Batches', max=17.0, style=ProgressStyle(description_width…"
      ]
     },
     "metadata": {},
     "output_type": "display_data"
    },
    {
     "name": "stdout",
     "output_type": "stream",
     "text": [
      "\n",
      "Epoch =  6 Loss = 0.495399 LR = 0.00002090\n"
     ]
    },
    {
     "data": {
      "application/vnd.jupyter.widget-view+json": {
       "model_id": "6e07c668f7a9424ab4d409f9bd530a47",
       "version_major": 2,
       "version_minor": 0
      },
      "text/plain": [
       "HBox(children=(FloatProgress(value=0.0, description='Batches', max=17.0, style=ProgressStyle(description_width…"
      ]
     },
     "metadata": {},
     "output_type": "display_data"
    },
    {
     "name": "stdout",
     "output_type": "stream",
     "text": [
      "Exception for:  keyboard | ? | ['keyboard'] argument of type 'NoneType' is not iterable\n",
      "\n",
      "Epoch =  7 Loss = 0.483370 LR = 0.00002439\n"
     ]
    },
    {
     "data": {
      "application/vnd.jupyter.widget-view+json": {
       "model_id": "945023072d2a4c6bb4746188f3ebddad",
       "version_major": 2,
       "version_minor": 0
      },
      "text/plain": [
       "HBox(children=(FloatProgress(value=0.0, description='Batches', max=17.0, style=ProgressStyle(description_width…"
      ]
     },
     "metadata": {},
     "output_type": "display_data"
    },
    {
     "name": "stdout",
     "output_type": "stream",
     "text": [
      "\n",
      "Epoch =  8 Loss = 0.473451 LR = 0.00002787\n"
     ]
    },
    {
     "data": {
      "application/vnd.jupyter.widget-view+json": {
       "model_id": "872b196ea417468da407f2be96c66e88",
       "version_major": 2,
       "version_minor": 0
      },
      "text/plain": [
       "HBox(children=(FloatProgress(value=0.0, description='Batches', max=17.0, style=ProgressStyle(description_width…"
      ]
     },
     "metadata": {},
     "output_type": "display_data"
    },
    {
     "name": "stdout",
     "output_type": "stream",
     "text": [
      "\n",
      "Epoch =  9 Loss = 0.465952 LR = 0.00003135\n"
     ]
    },
    {
     "data": {
      "application/vnd.jupyter.widget-view+json": {
       "model_id": "f2ce24b582754dca88b6e67d5b63a46e",
       "version_major": 2,
       "version_minor": 0
      },
      "text/plain": [
       "HBox(children=(FloatProgress(value=0.0, description='Batches', max=17.0, style=ProgressStyle(description_width…"
      ]
     },
     "metadata": {},
     "output_type": "display_data"
    },
    {
     "name": "stdout",
     "output_type": "stream",
     "text": [
      "\n",
      "Epoch =  10 Loss = 0.451970 LR = 0.00003484\n"
     ]
    },
    {
     "data": {
      "application/vnd.jupyter.widget-view+json": {
       "model_id": "afb7ab6c522e4f068c45d5bc60406b50",
       "version_major": 2,
       "version_minor": 0
      },
      "text/plain": [
       "HBox(children=(FloatProgress(value=0.0, description='Batches', max=17.0, style=ProgressStyle(description_width…"
      ]
     },
     "metadata": {},
     "output_type": "display_data"
    },
    {
     "name": "stdout",
     "output_type": "stream",
     "text": [
      "\n",
      "Epoch =  11 Loss = 0.434056 LR = 0.00003832\n"
     ]
    },
    {
     "data": {
      "application/vnd.jupyter.widget-view+json": {
       "model_id": "bf31fae3ffd0491f9147b33d047ed045",
       "version_major": 2,
       "version_minor": 0
      },
      "text/plain": [
       "HBox(children=(FloatProgress(value=0.0, description='Batches', max=17.0, style=ProgressStyle(description_width…"
      ]
     },
     "metadata": {},
     "output_type": "display_data"
    },
    {
     "name": "stdout",
     "output_type": "stream",
     "text": [
      "\n",
      "Epoch =  12 Loss = 0.431827 LR = 0.00004180\n"
     ]
    },
    {
     "data": {
      "application/vnd.jupyter.widget-view+json": {
       "model_id": "e56747fca1dc444b8ae86a320faafbc4",
       "version_major": 2,
       "version_minor": 0
      },
      "text/plain": [
       "HBox(children=(FloatProgress(value=0.0, description='Batches', max=17.0, style=ProgressStyle(description_width…"
      ]
     },
     "metadata": {},
     "output_type": "display_data"
    },
    {
     "name": "stdout",
     "output_type": "stream",
     "text": [
      "\n",
      "Epoch =  13 Loss = 0.428283 LR = 0.00004529\n"
     ]
    },
    {
     "data": {
      "application/vnd.jupyter.widget-view+json": {
       "model_id": "be871b3f59d04af4a0358fbc3c3728e7",
       "version_major": 2,
       "version_minor": 0
      },
      "text/plain": [
       "HBox(children=(FloatProgress(value=0.0, description='Batches', max=17.0, style=ProgressStyle(description_width…"
      ]
     },
     "metadata": {},
     "output_type": "display_data"
    },
    {
     "name": "stdout",
     "output_type": "stream",
     "text": [
      "\n",
      "Epoch =  14 Loss = 0.412771 LR = 0.00004877\n"
     ]
    },
    {
     "data": {
      "application/vnd.jupyter.widget-view+json": {
       "model_id": "14eeee4220b241fe80d1fa264a2957fa",
       "version_major": 2,
       "version_minor": 0
      },
      "text/plain": [
       "HBox(children=(FloatProgress(value=0.0, description='Batches', max=17.0, style=ProgressStyle(description_width…"
      ]
     },
     "metadata": {},
     "output_type": "display_data"
    },
    {
     "name": "stdout",
     "output_type": "stream",
     "text": [
      "\n",
      "Epoch =  15 Loss = 0.402353 LR = 0.00004995\n"
     ]
    },
    {
     "data": {
      "application/vnd.jupyter.widget-view+json": {
       "model_id": "9a3837824b614b0b800a29cf7dec91d2",
       "version_major": 2,
       "version_minor": 0
      },
      "text/plain": [
       "HBox(children=(FloatProgress(value=0.0, description='Batches', max=17.0, style=ProgressStyle(description_width…"
      ]
     },
     "metadata": {},
     "output_type": "display_data"
    },
    {
     "name": "stdout",
     "output_type": "stream",
     "text": [
      "\n",
      "Epoch =  16 Loss = 0.396476 LR = 0.00004970\n"
     ]
    },
    {
     "data": {
      "application/vnd.jupyter.widget-view+json": {
       "model_id": "cab27cd3086840bd89e133e3cfcb2a25",
       "version_major": 2,
       "version_minor": 0
      },
      "text/plain": [
       "HBox(children=(FloatProgress(value=0.0, description='Batches', max=17.0, style=ProgressStyle(description_width…"
      ]
     },
     "metadata": {},
     "output_type": "display_data"
    },
    {
     "name": "stdout",
     "output_type": "stream",
     "text": [
      "\n",
      "Epoch =  17 Loss = 0.393229 LR = 0.00004924\n"
     ]
    },
    {
     "data": {
      "application/vnd.jupyter.widget-view+json": {
       "model_id": "aec6b2f7e61c4fa693874784221f646a",
       "version_major": 2,
       "version_minor": 0
      },
      "text/plain": [
       "HBox(children=(FloatProgress(value=0.0, description='Generate Predictions', max=34.0, style=ProgressStyle(desc…"
      ]
     },
     "metadata": {},
     "output_type": "display_data"
    },
    {
     "name": "stdout",
     "output_type": "stream",
     "text": [
      "\n"
     ]
    },
    {
     "data": {
      "application/vnd.jupyter.widget-view+json": {
       "model_id": "4441240ef6414769ae9cf838abee5b53",
       "version_major": 2,
       "version_minor": 0
      },
      "text/plain": [
       "HBox(children=(FloatProgress(value=0.0, description='Generate Predictions', max=2.0, style=ProgressStyle(descr…"
      ]
     },
     "metadata": {},
     "output_type": "display_data"
    },
    {
     "name": "stdout",
     "output_type": "stream",
     "text": [
      "\n"
     ]
    },
    {
     "data": {
      "text/html": [
       "<div>\n",
       "<style scoped>\n",
       "    .dataframe tbody tr th:only-of-type {\n",
       "        vertical-align: middle;\n",
       "    }\n",
       "\n",
       "    .dataframe tbody tr th {\n",
       "        vertical-align: top;\n",
       "    }\n",
       "\n",
       "    .dataframe thead tr th {\n",
       "        text-align: left;\n",
       "    }\n",
       "\n",
       "    .dataframe thead tr:last-of-type th {\n",
       "        text-align: right;\n",
       "    }\n",
       "</style>\n",
       "<table border=\"1\" class=\"dataframe\">\n",
       "  <thead>\n",
       "    <tr>\n",
       "      <th></th>\n",
       "      <th colspan=\"2\" halign=\"left\">Proba</th>\n",
       "      <th colspan=\"2\" halign=\"left\">Preds</th>\n",
       "    </tr>\n",
       "    <tr>\n",
       "      <th></th>\n",
       "      <th>min</th>\n",
       "      <th>max</th>\n",
       "      <th>min</th>\n",
       "      <th>max</th>\n",
       "    </tr>\n",
       "    <tr>\n",
       "      <th>Labels</th>\n",
       "      <th></th>\n",
       "      <th></th>\n",
       "      <th></th>\n",
       "      <th></th>\n",
       "    </tr>\n",
       "  </thead>\n",
       "  <tbody>\n",
       "    <tr>\n",
       "      <th>0</th>\n",
       "      <td>0.155</td>\n",
       "      <td>0.790</td>\n",
       "      <td>0</td>\n",
       "      <td>1</td>\n",
       "    </tr>\n",
       "    <tr>\n",
       "      <th>1</th>\n",
       "      <td>0.249</td>\n",
       "      <td>0.813</td>\n",
       "      <td>0</td>\n",
       "      <td>1</td>\n",
       "    </tr>\n",
       "  </tbody>\n",
       "</table>\n",
       "</div>"
      ],
      "text/plain": [
       "       Proba       Preds    \n",
       "         min   max   min max\n",
       "Labels                      \n",
       "0      0.155 0.790     0   1\n",
       "1      0.249 0.813     0   1"
      ]
     },
     "metadata": {},
     "output_type": "display_data"
    },
    {
     "data": {
      "text/html": [
       "<div>\n",
       "<style scoped>\n",
       "    .dataframe tbody tr th:only-of-type {\n",
       "        vertical-align: middle;\n",
       "    }\n",
       "\n",
       "    .dataframe tbody tr th {\n",
       "        vertical-align: top;\n",
       "    }\n",
       "\n",
       "    .dataframe thead th {\n",
       "        text-align: right;\n",
       "    }\n",
       "</style>\n",
       "<table border=\"1\" class=\"dataframe\">\n",
       "  <thead>\n",
       "    <tr style=\"text-align: right;\">\n",
       "      <th></th>\n",
       "      <th>Proba</th>\n",
       "      <th>Probas</th>\n",
       "      <th>Preds</th>\n",
       "      <th>Labels</th>\n",
       "      <th>Proba</th>\n",
       "      <th>Probas</th>\n",
       "      <th>Preds</th>\n",
       "      <th>Labels</th>\n",
       "      <th>Proba</th>\n",
       "      <th>Probas</th>\n",
       "      <th>Preds</th>\n",
       "      <th>Labels</th>\n",
       "    </tr>\n",
       "  </thead>\n",
       "  <tbody>\n",
       "    <tr>\n",
       "      <th>0</th>\n",
       "      <td>0.420</td>\n",
       "      <td>[0.5802046060562134, 0.41979536414146423]</td>\n",
       "      <td>0</td>\n",
       "      <td>1</td>\n",
       "      <td>0.340</td>\n",
       "      <td>[0.6603199243545532, 0.3396800458431244]</td>\n",
       "      <td>0</td>\n",
       "      <td>1</td>\n",
       "      <td>0.699</td>\n",
       "      <td>[0.3008427023887634, 0.6991572976112366]</td>\n",
       "      <td>1</td>\n",
       "      <td>0</td>\n",
       "    </tr>\n",
       "    <tr>\n",
       "      <th>1</th>\n",
       "      <td>0.301</td>\n",
       "      <td>[0.6989096403121948, 0.3010903596878052]</td>\n",
       "      <td>0</td>\n",
       "      <td>0</td>\n",
       "      <td>0.464</td>\n",
       "      <td>[0.5364676713943481, 0.46353232860565186]</td>\n",
       "      <td>0</td>\n",
       "      <td>0</td>\n",
       "      <td>0.196</td>\n",
       "      <td>[0.804210901260376, 0.19578902423381805]</td>\n",
       "      <td>0</td>\n",
       "      <td>0</td>\n",
       "    </tr>\n",
       "    <tr>\n",
       "      <th>2</th>\n",
       "      <td>0.562</td>\n",
       "      <td>[0.4381260275840759, 0.5618739128112793]</td>\n",
       "      <td>1</td>\n",
       "      <td>1</td>\n",
       "      <td>0.410</td>\n",
       "      <td>[0.589600682258606, 0.41039925813674927]</td>\n",
       "      <td>0</td>\n",
       "      <td>0</td>\n",
       "      <td>0.243</td>\n",
       "      <td>[0.7573655247688293, 0.24263447523117065]</td>\n",
       "      <td>0</td>\n",
       "      <td>0</td>\n",
       "    </tr>\n",
       "    <tr>\n",
       "      <th>3</th>\n",
       "      <td>0.483</td>\n",
       "      <td>[0.5171117782592773, 0.48288822174072266]</td>\n",
       "      <td>0</td>\n",
       "      <td>0</td>\n",
       "      <td>0.436</td>\n",
       "      <td>[0.5639806985855103, 0.43601930141448975]</td>\n",
       "      <td>0</td>\n",
       "      <td>0</td>\n",
       "      <td>0.686</td>\n",
       "      <td>[0.31354260444641113, 0.6864573955535889]</td>\n",
       "      <td>1</td>\n",
       "      <td>1</td>\n",
       "    </tr>\n",
       "    <tr>\n",
       "      <th>4</th>\n",
       "      <td>0.578</td>\n",
       "      <td>[0.4216134250164032, 0.5783866047859192]</td>\n",
       "      <td>1</td>\n",
       "      <td>0</td>\n",
       "      <td>0.344</td>\n",
       "      <td>[0.6557693481445312, 0.344230592250824]</td>\n",
       "      <td>0</td>\n",
       "      <td>1</td>\n",
       "      <td>0.653</td>\n",
       "      <td>[0.34686926007270813, 0.6531307101249695]</td>\n",
       "      <td>1</td>\n",
       "      <td>0</td>\n",
       "    </tr>\n",
       "  </tbody>\n",
       "</table>\n",
       "</div>"
      ],
      "text/plain": [
       "  Proba                                     Probas Preds Labels Proba  \\\n",
       "0 0.420  [0.5802046060562134, 0.41979536414146423]     0      1 0.340   \n",
       "1 0.301   [0.6989096403121948, 0.3010903596878052]     0      0 0.464   \n",
       "2 0.562   [0.4381260275840759, 0.5618739128112793]     1      1 0.410   \n",
       "3 0.483  [0.5171117782592773, 0.48288822174072266]     0      0 0.436   \n",
       "4 0.578   [0.4216134250164032, 0.5783866047859192]     1      0 0.344   \n",
       "\n",
       "                                      Probas Preds Labels Proba  \\\n",
       "0   [0.6603199243545532, 0.3396800458431244]     0      1 0.699   \n",
       "1  [0.5364676713943481, 0.46353232860565186]     0      0 0.196   \n",
       "2   [0.589600682258606, 0.41039925813674927]     0      0 0.243   \n",
       "3  [0.5639806985855103, 0.43601930141448975]     0      0 0.686   \n",
       "4    [0.6557693481445312, 0.344230592250824]     0      1 0.653   \n",
       "\n",
       "                                      Probas Preds Labels  \n",
       "0   [0.3008427023887634, 0.6991572976112366]     1      0  \n",
       "1   [0.804210901260376, 0.19578902423381805]     0      0  \n",
       "2  [0.7573655247688293, 0.24263447523117065]     0      0  \n",
       "3  [0.31354260444641113, 0.6864573955535889]     1      1  \n",
       "4  [0.34686926007270813, 0.6531307101249695]     1      0  "
      ]
     },
     "metadata": {},
     "output_type": "display_data"
    },
    {
     "name": "stdout",
     "output_type": "stream",
     "text": [
      "scores =  {'map': '0.6048', 'acc': '0.5720', 'auc': '0.6317'}\n",
      "Epoch =  17 Train = 0.796888 Val = 0.631744\n"
     ]
    },
    {
     "data": {
      "application/vnd.jupyter.widget-view+json": {
       "model_id": "2aaf95d3e9b940228811396e53240ef3",
       "version_major": 2,
       "version_minor": 0
      },
      "text/plain": [
       "HBox(children=(FloatProgress(value=0.0, description='Batches', max=17.0, style=ProgressStyle(description_width…"
      ]
     },
     "metadata": {},
     "output_type": "display_data"
    },
    {
     "name": "stdout",
     "output_type": "stream",
     "text": [
      "\n",
      "Epoch =  18 Loss = 0.382859 LR = 0.00004856\n"
     ]
    },
    {
     "data": {
      "application/vnd.jupyter.widget-view+json": {
       "model_id": "a3db354ff3d348ad990d66543ccdb4b1",
       "version_major": 2,
       "version_minor": 0
      },
      "text/plain": [
       "HBox(children=(FloatProgress(value=0.0, description='Batches', max=17.0, style=ProgressStyle(description_width…"
      ]
     },
     "metadata": {},
     "output_type": "display_data"
    },
    {
     "name": "stdout",
     "output_type": "stream",
     "text": [
      "\n",
      "Epoch =  19 Loss = 0.389576 LR = 0.00004768\n"
     ]
    },
    {
     "data": {
      "application/vnd.jupyter.widget-view+json": {
       "model_id": "af827979c8d946a088bbc8b319beeb37",
       "version_major": 2,
       "version_minor": 0
      },
      "text/plain": [
       "HBox(children=(FloatProgress(value=0.0, description='Batches', max=17.0, style=ProgressStyle(description_width…"
      ]
     },
     "metadata": {},
     "output_type": "display_data"
    },
    {
     "name": "stdout",
     "output_type": "stream",
     "text": [
      "\n",
      "Epoch =  20 Loss = 0.377419 LR = 0.00004660\n"
     ]
    },
    {
     "data": {
      "application/vnd.jupyter.widget-view+json": {
       "model_id": "5fddc83971ba4d24889b86a30c024392",
       "version_major": 2,
       "version_minor": 0
      },
      "text/plain": [
       "HBox(children=(FloatProgress(value=0.0, description='Batches', max=17.0, style=ProgressStyle(description_width…"
      ]
     },
     "metadata": {},
     "output_type": "display_data"
    },
    {
     "name": "stdout",
     "output_type": "stream",
     "text": [
      "\n",
      "Epoch =  21 Loss = 0.378094 LR = 0.00004534\n"
     ]
    },
    {
     "data": {
      "application/vnd.jupyter.widget-view+json": {
       "model_id": "c4b821d9c51a4e01bd9bb8ac42ca580a",
       "version_major": 2,
       "version_minor": 0
      },
      "text/plain": [
       "HBox(children=(FloatProgress(value=0.0, description='Batches', max=17.0, style=ProgressStyle(description_width…"
      ]
     },
     "metadata": {},
     "output_type": "display_data"
    },
    {
     "name": "stdout",
     "output_type": "stream",
     "text": [
      "\n",
      "Epoch =  22 Loss = 0.370643 LR = 0.00004389\n"
     ]
    },
    {
     "data": {
      "application/vnd.jupyter.widget-view+json": {
       "model_id": "e72c988bebbe4053849c49db91ca36a8",
       "version_major": 2,
       "version_minor": 0
      },
      "text/plain": [
       "HBox(children=(FloatProgress(value=0.0, description='Batches', max=17.0, style=ProgressStyle(description_width…"
      ]
     },
     "metadata": {},
     "output_type": "display_data"
    },
    {
     "name": "stdout",
     "output_type": "stream",
     "text": [
      "\n",
      "Epoch =  23 Loss = 0.367987 LR = 0.00004229\n"
     ]
    },
    {
     "data": {
      "application/vnd.jupyter.widget-view+json": {
       "model_id": "fe5c3e2e68b7492993b94831d5f63a96",
       "version_major": 2,
       "version_minor": 0
      },
      "text/plain": [
       "HBox(children=(FloatProgress(value=0.0, description='Batches', max=17.0, style=ProgressStyle(description_width…"
      ]
     },
     "metadata": {},
     "output_type": "display_data"
    },
    {
     "name": "stdout",
     "output_type": "stream",
     "text": [
      "\n",
      "Epoch =  24 Loss = 0.370163 LR = 0.00004053\n"
     ]
    },
    {
     "data": {
      "application/vnd.jupyter.widget-view+json": {
       "model_id": "58f6e013312143779552dc6c0136c3a8",
       "version_major": 2,
       "version_minor": 0
      },
      "text/plain": [
       "HBox(children=(FloatProgress(value=0.0, description='Batches', max=17.0, style=ProgressStyle(description_width…"
      ]
     },
     "metadata": {},
     "output_type": "display_data"
    },
    {
     "name": "stdout",
     "output_type": "stream",
     "text": [
      "\n",
      "Epoch =  25 Loss = 0.374142 LR = 0.00003863\n"
     ]
    },
    {
     "data": {
      "application/vnd.jupyter.widget-view+json": {
       "model_id": "026a9cd408a24af5889c7b0683e0a734",
       "version_major": 2,
       "version_minor": 0
      },
      "text/plain": [
       "HBox(children=(FloatProgress(value=0.0, description='Batches', max=17.0, style=ProgressStyle(description_width…"
      ]
     },
     "metadata": {},
     "output_type": "display_data"
    },
    {
     "name": "stdout",
     "output_type": "stream",
     "text": [
      "\n",
      "Epoch =  26 Loss = 0.367097 LR = 0.00003662\n"
     ]
    },
    {
     "data": {
      "application/vnd.jupyter.widget-view+json": {
       "model_id": "46964d7c5d1f40efb460fad91afc342c",
       "version_major": 2,
       "version_minor": 0
      },
      "text/plain": [
       "HBox(children=(FloatProgress(value=0.0, description='Batches', max=17.0, style=ProgressStyle(description_width…"
      ]
     },
     "metadata": {},
     "output_type": "display_data"
    },
    {
     "name": "stdout",
     "output_type": "stream",
     "text": [
      "\n",
      "Epoch =  27 Loss = 0.361346 LR = 0.00003450\n"
     ]
    },
    {
     "data": {
      "application/vnd.jupyter.widget-view+json": {
       "model_id": "495a7de7f0594d28876fe789a17b4238",
       "version_major": 2,
       "version_minor": 0
      },
      "text/plain": [
       "HBox(children=(FloatProgress(value=0.0, description='Generate Predictions', max=34.0, style=ProgressStyle(desc…"
      ]
     },
     "metadata": {},
     "output_type": "display_data"
    },
    {
     "name": "stdout",
     "output_type": "stream",
     "text": [
      "\n"
     ]
    },
    {
     "data": {
      "application/vnd.jupyter.widget-view+json": {
       "model_id": "4f39f66afec2412eb9e63db3df4983d3",
       "version_major": 2,
       "version_minor": 0
      },
      "text/plain": [
       "HBox(children=(FloatProgress(value=0.0, description='Generate Predictions', max=2.0, style=ProgressStyle(descr…"
      ]
     },
     "metadata": {},
     "output_type": "display_data"
    },
    {
     "name": "stdout",
     "output_type": "stream",
     "text": [
      "\n"
     ]
    },
    {
     "data": {
      "text/html": [
       "<div>\n",
       "<style scoped>\n",
       "    .dataframe tbody tr th:only-of-type {\n",
       "        vertical-align: middle;\n",
       "    }\n",
       "\n",
       "    .dataframe tbody tr th {\n",
       "        vertical-align: top;\n",
       "    }\n",
       "\n",
       "    .dataframe thead tr th {\n",
       "        text-align: left;\n",
       "    }\n",
       "\n",
       "    .dataframe thead tr:last-of-type th {\n",
       "        text-align: right;\n",
       "    }\n",
       "</style>\n",
       "<table border=\"1\" class=\"dataframe\">\n",
       "  <thead>\n",
       "    <tr>\n",
       "      <th></th>\n",
       "      <th colspan=\"2\" halign=\"left\">Proba</th>\n",
       "      <th colspan=\"2\" halign=\"left\">Preds</th>\n",
       "    </tr>\n",
       "    <tr>\n",
       "      <th></th>\n",
       "      <th>min</th>\n",
       "      <th>max</th>\n",
       "      <th>min</th>\n",
       "      <th>max</th>\n",
       "    </tr>\n",
       "    <tr>\n",
       "      <th>Labels</th>\n",
       "      <th></th>\n",
       "      <th></th>\n",
       "      <th></th>\n",
       "      <th></th>\n",
       "    </tr>\n",
       "  </thead>\n",
       "  <tbody>\n",
       "    <tr>\n",
       "      <th>0</th>\n",
       "      <td>0.083</td>\n",
       "      <td>0.759</td>\n",
       "      <td>0</td>\n",
       "      <td>1</td>\n",
       "    </tr>\n",
       "    <tr>\n",
       "      <th>1</th>\n",
       "      <td>0.144</td>\n",
       "      <td>0.777</td>\n",
       "      <td>0</td>\n",
       "      <td>1</td>\n",
       "    </tr>\n",
       "  </tbody>\n",
       "</table>\n",
       "</div>"
      ],
      "text/plain": [
       "       Proba       Preds    \n",
       "         min   max   min max\n",
       "Labels                      \n",
       "0      0.083 0.759     0   1\n",
       "1      0.144 0.777     0   1"
      ]
     },
     "metadata": {},
     "output_type": "display_data"
    },
    {
     "data": {
      "text/html": [
       "<div>\n",
       "<style scoped>\n",
       "    .dataframe tbody tr th:only-of-type {\n",
       "        vertical-align: middle;\n",
       "    }\n",
       "\n",
       "    .dataframe tbody tr th {\n",
       "        vertical-align: top;\n",
       "    }\n",
       "\n",
       "    .dataframe thead th {\n",
       "        text-align: right;\n",
       "    }\n",
       "</style>\n",
       "<table border=\"1\" class=\"dataframe\">\n",
       "  <thead>\n",
       "    <tr style=\"text-align: right;\">\n",
       "      <th></th>\n",
       "      <th>Proba</th>\n",
       "      <th>Probas</th>\n",
       "      <th>Preds</th>\n",
       "      <th>Labels</th>\n",
       "      <th>Proba</th>\n",
       "      <th>Probas</th>\n",
       "      <th>Preds</th>\n",
       "      <th>Labels</th>\n",
       "      <th>Proba</th>\n",
       "      <th>Probas</th>\n",
       "      <th>Preds</th>\n",
       "      <th>Labels</th>\n",
       "    </tr>\n",
       "  </thead>\n",
       "  <tbody>\n",
       "    <tr>\n",
       "      <th>0</th>\n",
       "      <td>0.312</td>\n",
       "      <td>[0.6877358555793762, 0.3122641146183014]</td>\n",
       "      <td>0</td>\n",
       "      <td>0</td>\n",
       "      <td>0.312</td>\n",
       "      <td>[0.6881874203681946, 0.3118125796318054]</td>\n",
       "      <td>0</td>\n",
       "      <td>0</td>\n",
       "      <td>0.450</td>\n",
       "      <td>[0.5498976707458496, 0.4501023292541504]</td>\n",
       "      <td>0</td>\n",
       "      <td>0</td>\n",
       "    </tr>\n",
       "    <tr>\n",
       "      <th>1</th>\n",
       "      <td>0.506</td>\n",
       "      <td>[0.4943680465221405, 0.5056319236755371]</td>\n",
       "      <td>1</td>\n",
       "      <td>1</td>\n",
       "      <td>0.321</td>\n",
       "      <td>[0.6794285774230957, 0.3205714225769043]</td>\n",
       "      <td>0</td>\n",
       "      <td>0</td>\n",
       "      <td>0.659</td>\n",
       "      <td>[0.3414795994758606, 0.6585204005241394]</td>\n",
       "      <td>1</td>\n",
       "      <td>1</td>\n",
       "    </tr>\n",
       "    <tr>\n",
       "      <th>2</th>\n",
       "      <td>0.403</td>\n",
       "      <td>[0.5973710417747498, 0.40262889862060547]</td>\n",
       "      <td>0</td>\n",
       "      <td>1</td>\n",
       "      <td>0.351</td>\n",
       "      <td>[0.6490638256072998, 0.3509362041950226]</td>\n",
       "      <td>0</td>\n",
       "      <td>0</td>\n",
       "      <td>0.178</td>\n",
       "      <td>[0.8217768669128418, 0.17822307348251343]</td>\n",
       "      <td>0</td>\n",
       "      <td>1</td>\n",
       "    </tr>\n",
       "    <tr>\n",
       "      <th>3</th>\n",
       "      <td>0.312</td>\n",
       "      <td>[0.6881874203681946, 0.3118125796318054]</td>\n",
       "      <td>0</td>\n",
       "      <td>0</td>\n",
       "      <td>0.183</td>\n",
       "      <td>[0.8167650699615479, 0.1832348108291626]</td>\n",
       "      <td>0</td>\n",
       "      <td>1</td>\n",
       "      <td>0.436</td>\n",
       "      <td>[0.5644673109054565, 0.4355326294898987]</td>\n",
       "      <td>0</td>\n",
       "      <td>1</td>\n",
       "    </tr>\n",
       "    <tr>\n",
       "      <th>4</th>\n",
       "      <td>0.326</td>\n",
       "      <td>[0.6740934252738953, 0.32590651512145996]</td>\n",
       "      <td>0</td>\n",
       "      <td>0</td>\n",
       "      <td>0.203</td>\n",
       "      <td>[0.7967795133590698, 0.2032204568386078]</td>\n",
       "      <td>0</td>\n",
       "      <td>0</td>\n",
       "      <td>0.465</td>\n",
       "      <td>[0.5347002744674683, 0.46529972553253174]</td>\n",
       "      <td>0</td>\n",
       "      <td>0</td>\n",
       "    </tr>\n",
       "  </tbody>\n",
       "</table>\n",
       "</div>"
      ],
      "text/plain": [
       "  Proba                                     Probas Preds Labels Proba  \\\n",
       "0 0.312   [0.6877358555793762, 0.3122641146183014]     0      0 0.312   \n",
       "1 0.506   [0.4943680465221405, 0.5056319236755371]     1      1 0.321   \n",
       "2 0.403  [0.5973710417747498, 0.40262889862060547]     0      1 0.351   \n",
       "3 0.312   [0.6881874203681946, 0.3118125796318054]     0      0 0.183   \n",
       "4 0.326  [0.6740934252738953, 0.32590651512145996]     0      0 0.203   \n",
       "\n",
       "                                     Probas Preds Labels Proba  \\\n",
       "0  [0.6881874203681946, 0.3118125796318054]     0      0 0.450   \n",
       "1  [0.6794285774230957, 0.3205714225769043]     0      0 0.659   \n",
       "2  [0.6490638256072998, 0.3509362041950226]     0      0 0.178   \n",
       "3  [0.8167650699615479, 0.1832348108291626]     0      1 0.436   \n",
       "4  [0.7967795133590698, 0.2032204568386078]     0      0 0.465   \n",
       "\n",
       "                                      Probas Preds Labels  \n",
       "0   [0.5498976707458496, 0.4501023292541504]     0      0  \n",
       "1   [0.3414795994758606, 0.6585204005241394]     1      1  \n",
       "2  [0.8217768669128418, 0.17822307348251343]     0      1  \n",
       "3   [0.5644673109054565, 0.4355326294898987]     0      1  \n",
       "4  [0.5347002744674683, 0.46529972553253174]     0      0  "
      ]
     },
     "metadata": {},
     "output_type": "display_data"
    },
    {
     "name": "stdout",
     "output_type": "stream",
     "text": [
      "scores =  {'map': '0.6219', 'acc': '0.5560', 'auc': '0.6459'}\n",
      "Epoch =  27 Train = 0.832779 Val = 0.645872\n"
     ]
    },
    {
     "data": {
      "application/vnd.jupyter.widget-view+json": {
       "model_id": "17a02a3708194ac890f217379f5028d2",
       "version_major": 2,
       "version_minor": 0
      },
      "text/plain": [
       "HBox(children=(FloatProgress(value=0.0, description='Batches', max=17.0, style=ProgressStyle(description_width…"
      ]
     },
     "metadata": {},
     "output_type": "display_data"
    },
    {
     "name": "stdout",
     "output_type": "stream",
     "text": [
      "\n",
      "Epoch =  28 Loss = 0.357158 LR = 0.00003231\n"
     ]
    },
    {
     "data": {
      "application/vnd.jupyter.widget-view+json": {
       "model_id": "622e246f64a5457da1a061b3b8f2430b",
       "version_major": 2,
       "version_minor": 0
      },
      "text/plain": [
       "HBox(children=(FloatProgress(value=0.0, description='Batches', max=17.0, style=ProgressStyle(description_width…"
      ]
     },
     "metadata": {},
     "output_type": "display_data"
    },
    {
     "name": "stdout",
     "output_type": "stream",
     "text": [
      "\n",
      "Epoch =  29 Loss = 0.360448 LR = 0.00003005\n"
     ]
    },
    {
     "data": {
      "application/vnd.jupyter.widget-view+json": {
       "model_id": "1c39a12eb2f244ab8afd248f1be17f0e",
       "version_major": 2,
       "version_minor": 0
      },
      "text/plain": [
       "HBox(children=(FloatProgress(value=0.0, description='Batches', max=17.0, style=ProgressStyle(description_width…"
      ]
     },
     "metadata": {},
     "output_type": "display_data"
    },
    {
     "name": "stdout",
     "output_type": "stream",
     "text": [
      "\n",
      "Epoch =  30 Loss = 0.350638 LR = 0.00002774\n"
     ]
    },
    {
     "data": {
      "application/vnd.jupyter.widget-view+json": {
       "model_id": "62bdd47140cf4055a1efb6eebde25ee7",
       "version_major": 2,
       "version_minor": 0
      },
      "text/plain": [
       "HBox(children=(FloatProgress(value=0.0, description='Batches', max=17.0, style=ProgressStyle(description_width…"
      ]
     },
     "metadata": {},
     "output_type": "display_data"
    },
    {
     "name": "stdout",
     "output_type": "stream",
     "text": [
      "\n",
      "Epoch =  31 Loss = 0.358873 LR = 0.00002541\n"
     ]
    },
    {
     "data": {
      "application/vnd.jupyter.widget-view+json": {
       "model_id": "f16f820ed6b5440fafb24bccb220b6a9",
       "version_major": 2,
       "version_minor": 0
      },
      "text/plain": [
       "HBox(children=(FloatProgress(value=0.0, description='Batches', max=17.0, style=ProgressStyle(description_width…"
      ]
     },
     "metadata": {},
     "output_type": "display_data"
    },
    {
     "name": "stdout",
     "output_type": "stream",
     "text": [
      "\n",
      "Epoch =  32 Loss = 0.357645 LR = 0.00002308\n"
     ]
    },
    {
     "data": {
      "application/vnd.jupyter.widget-view+json": {
       "model_id": "0b4a1831231543a9835dcd002146fe2f",
       "version_major": 2,
       "version_minor": 0
      },
      "text/plain": [
       "HBox(children=(FloatProgress(value=0.0, description='Batches', max=17.0, style=ProgressStyle(description_width…"
      ]
     },
     "metadata": {},
     "output_type": "display_data"
    },
    {
     "name": "stdout",
     "output_type": "stream",
     "text": [
      "\n",
      "Epoch =  33 Loss = 0.369241 LR = 0.00002076\n"
     ]
    },
    {
     "data": {
      "application/vnd.jupyter.widget-view+json": {
       "model_id": "f51f471362d0487bae22cd0fb5fdce57",
       "version_major": 2,
       "version_minor": 0
      },
      "text/plain": [
       "HBox(children=(FloatProgress(value=0.0, description='Batches', max=17.0, style=ProgressStyle(description_width…"
      ]
     },
     "metadata": {},
     "output_type": "display_data"
    },
    {
     "name": "stdout",
     "output_type": "stream",
     "text": [
      "\n",
      "Epoch =  34 Loss = 0.356606 LR = 0.00001849\n"
     ]
    },
    {
     "data": {
      "application/vnd.jupyter.widget-view+json": {
       "model_id": "36160f047dc64878b14d0e9ecff7b2ec",
       "version_major": 2,
       "version_minor": 0
      },
      "text/plain": [
       "HBox(children=(FloatProgress(value=0.0, description='Generate Predictions', max=34.0, style=ProgressStyle(desc…"
      ]
     },
     "metadata": {},
     "output_type": "display_data"
    },
    {
     "name": "stdout",
     "output_type": "stream",
     "text": [
      "\n"
     ]
    },
    {
     "data": {
      "application/vnd.jupyter.widget-view+json": {
       "model_id": "e4c1246372874bf0ba67c474fd947137",
       "version_major": 2,
       "version_minor": 0
      },
      "text/plain": [
       "HBox(children=(FloatProgress(value=0.0, description='Generate Predictions', max=2.0, style=ProgressStyle(descr…"
      ]
     },
     "metadata": {},
     "output_type": "display_data"
    },
    {
     "name": "stdout",
     "output_type": "stream",
     "text": [
      "\n"
     ]
    },
    {
     "data": {
      "text/html": [
       "<div>\n",
       "<style scoped>\n",
       "    .dataframe tbody tr th:only-of-type {\n",
       "        vertical-align: middle;\n",
       "    }\n",
       "\n",
       "    .dataframe tbody tr th {\n",
       "        vertical-align: top;\n",
       "    }\n",
       "\n",
       "    .dataframe thead tr th {\n",
       "        text-align: left;\n",
       "    }\n",
       "\n",
       "    .dataframe thead tr:last-of-type th {\n",
       "        text-align: right;\n",
       "    }\n",
       "</style>\n",
       "<table border=\"1\" class=\"dataframe\">\n",
       "  <thead>\n",
       "    <tr>\n",
       "      <th></th>\n",
       "      <th colspan=\"2\" halign=\"left\">Proba</th>\n",
       "      <th colspan=\"2\" halign=\"left\">Preds</th>\n",
       "    </tr>\n",
       "    <tr>\n",
       "      <th></th>\n",
       "      <th>min</th>\n",
       "      <th>max</th>\n",
       "      <th>min</th>\n",
       "      <th>max</th>\n",
       "    </tr>\n",
       "    <tr>\n",
       "      <th>Labels</th>\n",
       "      <th></th>\n",
       "      <th></th>\n",
       "      <th></th>\n",
       "      <th></th>\n",
       "    </tr>\n",
       "  </thead>\n",
       "  <tbody>\n",
       "    <tr>\n",
       "      <th>0</th>\n",
       "      <td>0.068</td>\n",
       "      <td>0.793</td>\n",
       "      <td>0</td>\n",
       "      <td>1</td>\n",
       "    </tr>\n",
       "    <tr>\n",
       "      <th>1</th>\n",
       "      <td>0.128</td>\n",
       "      <td>0.782</td>\n",
       "      <td>0</td>\n",
       "      <td>1</td>\n",
       "    </tr>\n",
       "  </tbody>\n",
       "</table>\n",
       "</div>"
      ],
      "text/plain": [
       "       Proba       Preds    \n",
       "         min   max   min max\n",
       "Labels                      \n",
       "0      0.068 0.793     0   1\n",
       "1      0.128 0.782     0   1"
      ]
     },
     "metadata": {},
     "output_type": "display_data"
    },
    {
     "data": {
      "text/html": [
       "<div>\n",
       "<style scoped>\n",
       "    .dataframe tbody tr th:only-of-type {\n",
       "        vertical-align: middle;\n",
       "    }\n",
       "\n",
       "    .dataframe tbody tr th {\n",
       "        vertical-align: top;\n",
       "    }\n",
       "\n",
       "    .dataframe thead th {\n",
       "        text-align: right;\n",
       "    }\n",
       "</style>\n",
       "<table border=\"1\" class=\"dataframe\">\n",
       "  <thead>\n",
       "    <tr style=\"text-align: right;\">\n",
       "      <th></th>\n",
       "      <th>Proba</th>\n",
       "      <th>Probas</th>\n",
       "      <th>Preds</th>\n",
       "      <th>Labels</th>\n",
       "      <th>Proba</th>\n",
       "      <th>Probas</th>\n",
       "      <th>Preds</th>\n",
       "      <th>Labels</th>\n",
       "      <th>Proba</th>\n",
       "      <th>Probas</th>\n",
       "      <th>Preds</th>\n",
       "      <th>Labels</th>\n",
       "    </tr>\n",
       "  </thead>\n",
       "  <tbody>\n",
       "    <tr>\n",
       "      <th>0</th>\n",
       "      <td>0.166</td>\n",
       "      <td>[0.8338524103164673, 0.16614755988121033]</td>\n",
       "      <td>0</td>\n",
       "      <td>0</td>\n",
       "      <td>0.254</td>\n",
       "      <td>[0.7461442947387695, 0.2538556754589081]</td>\n",
       "      <td>0</td>\n",
       "      <td>0</td>\n",
       "      <td>0.380</td>\n",
       "      <td>[0.6201559901237488, 0.37984395027160645]</td>\n",
       "      <td>0</td>\n",
       "      <td>0</td>\n",
       "    </tr>\n",
       "    <tr>\n",
       "      <th>1</th>\n",
       "      <td>0.465</td>\n",
       "      <td>[0.5347908735275269, 0.46520909667015076]</td>\n",
       "      <td>0</td>\n",
       "      <td>1</td>\n",
       "      <td>0.213</td>\n",
       "      <td>[0.7868270874023438, 0.21317291259765625]</td>\n",
       "      <td>0</td>\n",
       "      <td>0</td>\n",
       "      <td>0.201</td>\n",
       "      <td>[0.7986447215080261, 0.20135527849197388]</td>\n",
       "      <td>0</td>\n",
       "      <td>1</td>\n",
       "    </tr>\n",
       "    <tr>\n",
       "      <th>2</th>\n",
       "      <td>0.390</td>\n",
       "      <td>[0.6097683310508728, 0.3902316689491272]</td>\n",
       "      <td>0</td>\n",
       "      <td>1</td>\n",
       "      <td>0.345</td>\n",
       "      <td>[0.6545583009719849, 0.34544169902801514]</td>\n",
       "      <td>0</td>\n",
       "      <td>0</td>\n",
       "      <td>0.407</td>\n",
       "      <td>[0.5927660465240479, 0.40723395347595215]</td>\n",
       "      <td>0</td>\n",
       "      <td>1</td>\n",
       "    </tr>\n",
       "    <tr>\n",
       "      <th>3</th>\n",
       "      <td>0.518</td>\n",
       "      <td>[0.48201680183410645, 0.5179831981658936]</td>\n",
       "      <td>1</td>\n",
       "      <td>0</td>\n",
       "      <td>0.189</td>\n",
       "      <td>[0.8111183643341064, 0.18888160586357117]</td>\n",
       "      <td>0</td>\n",
       "      <td>0</td>\n",
       "      <td>0.514</td>\n",
       "      <td>[0.48570752143859863, 0.5142924785614014]</td>\n",
       "      <td>1</td>\n",
       "      <td>0</td>\n",
       "    </tr>\n",
       "    <tr>\n",
       "      <th>4</th>\n",
       "      <td>0.273</td>\n",
       "      <td>[0.7267172336578369, 0.2732827365398407]</td>\n",
       "      <td>0</td>\n",
       "      <td>1</td>\n",
       "      <td>0.490</td>\n",
       "      <td>[0.5097873210906982, 0.49021270871162415]</td>\n",
       "      <td>0</td>\n",
       "      <td>1</td>\n",
       "      <td>0.490</td>\n",
       "      <td>[0.5097873210906982, 0.49021270871162415]</td>\n",
       "      <td>0</td>\n",
       "      <td>1</td>\n",
       "    </tr>\n",
       "  </tbody>\n",
       "</table>\n",
       "</div>"
      ],
      "text/plain": [
       "  Proba                                     Probas Preds Labels Proba  \\\n",
       "0 0.166  [0.8338524103164673, 0.16614755988121033]     0      0 0.254   \n",
       "1 0.465  [0.5347908735275269, 0.46520909667015076]     0      1 0.213   \n",
       "2 0.390   [0.6097683310508728, 0.3902316689491272]     0      1 0.345   \n",
       "3 0.518  [0.48201680183410645, 0.5179831981658936]     1      0 0.189   \n",
       "4 0.273   [0.7267172336578369, 0.2732827365398407]     0      1 0.490   \n",
       "\n",
       "                                      Probas Preds Labels Proba  \\\n",
       "0   [0.7461442947387695, 0.2538556754589081]     0      0 0.380   \n",
       "1  [0.7868270874023438, 0.21317291259765625]     0      0 0.201   \n",
       "2  [0.6545583009719849, 0.34544169902801514]     0      0 0.407   \n",
       "3  [0.8111183643341064, 0.18888160586357117]     0      0 0.514   \n",
       "4  [0.5097873210906982, 0.49021270871162415]     0      1 0.490   \n",
       "\n",
       "                                      Probas Preds Labels  \n",
       "0  [0.6201559901237488, 0.37984395027160645]     0      0  \n",
       "1  [0.7986447215080261, 0.20135527849197388]     0      1  \n",
       "2  [0.5927660465240479, 0.40723395347595215]     0      1  \n",
       "3  [0.48570752143859863, 0.5142924785614014]     1      0  \n",
       "4  [0.5097873210906982, 0.49021270871162415]     0      1  "
      ]
     },
     "metadata": {},
     "output_type": "display_data"
    },
    {
     "name": "stdout",
     "output_type": "stream",
     "text": [
      "scores =  {'map': '0.6169', 'acc': '0.5540', 'auc': '0.6518'}\n",
      "Epoch =  34 Train = 0.847492 Val = 0.651760\n"
     ]
    },
    {
     "data": {
      "application/vnd.jupyter.widget-view+json": {
       "model_id": "13796e1c971c45488713147e7a0160c9",
       "version_major": 2,
       "version_minor": 0
      },
      "text/plain": [
       "HBox(children=(FloatProgress(value=0.0, description='Batches', max=17.0, style=ProgressStyle(description_width…"
      ]
     },
     "metadata": {},
     "output_type": "display_data"
    },
    {
     "name": "stdout",
     "output_type": "stream",
     "text": [
      "\n",
      "Epoch =  35 Loss = 0.354668 LR = 0.00001626\n"
     ]
    },
    {
     "data": {
      "application/vnd.jupyter.widget-view+json": {
       "model_id": "f45547915da6431e9ffd3e4b1b21b08d",
       "version_major": 2,
       "version_minor": 0
      },
      "text/plain": [
       "HBox(children=(FloatProgress(value=0.0, description='Batches', max=17.0, style=ProgressStyle(description_width…"
      ]
     },
     "metadata": {},
     "output_type": "display_data"
    },
    {
     "name": "stdout",
     "output_type": "stream",
     "text": [
      "\n",
      "Epoch =  36 Loss = 0.348434 LR = 0.00001412\n"
     ]
    },
    {
     "data": {
      "application/vnd.jupyter.widget-view+json": {
       "model_id": "ebb62762a67a4d9893896c3484f22307",
       "version_major": 2,
       "version_minor": 0
      },
      "text/plain": [
       "HBox(children=(FloatProgress(value=0.0, description='Batches', max=17.0, style=ProgressStyle(description_width…"
      ]
     },
     "metadata": {},
     "output_type": "display_data"
    },
    {
     "name": "stdout",
     "output_type": "stream",
     "text": [
      "\n",
      "Epoch =  37 Loss = 0.345452 LR = 0.00001207\n"
     ]
    },
    {
     "data": {
      "application/vnd.jupyter.widget-view+json": {
       "model_id": "c961b891ae5a4189901ccb56341e303a",
       "version_major": 2,
       "version_minor": 0
      },
      "text/plain": [
       "HBox(children=(FloatProgress(value=0.0, description='Batches', max=17.0, style=ProgressStyle(description_width…"
      ]
     },
     "metadata": {},
     "output_type": "display_data"
    },
    {
     "name": "stdout",
     "output_type": "stream",
     "text": [
      "\n",
      "Epoch =  38 Loss = 0.344463 LR = 0.00001013\n"
     ]
    },
    {
     "data": {
      "application/vnd.jupyter.widget-view+json": {
       "model_id": "10623c29df48434fb89671c2fb7844b1",
       "version_major": 2,
       "version_minor": 0
      },
      "text/plain": [
       "HBox(children=(FloatProgress(value=0.0, description='Batches', max=17.0, style=ProgressStyle(description_width…"
      ]
     },
     "metadata": {},
     "output_type": "display_data"
    },
    {
     "name": "stdout",
     "output_type": "stream",
     "text": [
      "\n",
      "Epoch =  39 Loss = 0.342505 LR = 0.00000832\n"
     ]
    },
    {
     "data": {
      "application/vnd.jupyter.widget-view+json": {
       "model_id": "bf3f07fb011345d780a1b77cf56f4cc3",
       "version_major": 2,
       "version_minor": 0
      },
      "text/plain": [
       "HBox(children=(FloatProgress(value=0.0, description='Batches', max=17.0, style=ProgressStyle(description_width…"
      ]
     },
     "metadata": {},
     "output_type": "display_data"
    },
    {
     "name": "stdout",
     "output_type": "stream",
     "text": [
      "\n",
      "Epoch =  40 Loss = 0.346918 LR = 0.00000666\n"
     ]
    },
    {
     "data": {
      "application/vnd.jupyter.widget-view+json": {
       "model_id": "ef07f446e0f14f33987afb8cdec7d7fc",
       "version_major": 2,
       "version_minor": 0
      },
      "text/plain": [
       "HBox(children=(FloatProgress(value=0.0, description='Batches', max=17.0, style=ProgressStyle(description_width…"
      ]
     },
     "metadata": {},
     "output_type": "display_data"
    },
    {
     "name": "stdout",
     "output_type": "stream",
     "text": [
      "\n",
      "Epoch =  41 Loss = 0.342189 LR = 0.00000515\n"
     ]
    },
    {
     "data": {
      "application/vnd.jupyter.widget-view+json": {
       "model_id": "3b96878f63b04cc4b9f78d4c670f690f",
       "version_major": 2,
       "version_minor": 0
      },
      "text/plain": [
       "HBox(children=(FloatProgress(value=0.0, description='Generate Predictions', max=34.0, style=ProgressStyle(desc…"
      ]
     },
     "metadata": {},
     "output_type": "display_data"
    },
    {
     "name": "stdout",
     "output_type": "stream",
     "text": [
      "\n"
     ]
    },
    {
     "data": {
      "application/vnd.jupyter.widget-view+json": {
       "model_id": "77d65849455f449abcb97074d5ba81a5",
       "version_major": 2,
       "version_minor": 0
      },
      "text/plain": [
       "HBox(children=(FloatProgress(value=0.0, description='Generate Predictions', max=2.0, style=ProgressStyle(descr…"
      ]
     },
     "metadata": {},
     "output_type": "display_data"
    },
    {
     "name": "stdout",
     "output_type": "stream",
     "text": [
      "\n"
     ]
    },
    {
     "data": {
      "text/html": [
       "<div>\n",
       "<style scoped>\n",
       "    .dataframe tbody tr th:only-of-type {\n",
       "        vertical-align: middle;\n",
       "    }\n",
       "\n",
       "    .dataframe tbody tr th {\n",
       "        vertical-align: top;\n",
       "    }\n",
       "\n",
       "    .dataframe thead tr th {\n",
       "        text-align: left;\n",
       "    }\n",
       "\n",
       "    .dataframe thead tr:last-of-type th {\n",
       "        text-align: right;\n",
       "    }\n",
       "</style>\n",
       "<table border=\"1\" class=\"dataframe\">\n",
       "  <thead>\n",
       "    <tr>\n",
       "      <th></th>\n",
       "      <th colspan=\"2\" halign=\"left\">Proba</th>\n",
       "      <th colspan=\"2\" halign=\"left\">Preds</th>\n",
       "    </tr>\n",
       "    <tr>\n",
       "      <th></th>\n",
       "      <th>min</th>\n",
       "      <th>max</th>\n",
       "      <th>min</th>\n",
       "      <th>max</th>\n",
       "    </tr>\n",
       "    <tr>\n",
       "      <th>Labels</th>\n",
       "      <th></th>\n",
       "      <th></th>\n",
       "      <th></th>\n",
       "      <th></th>\n",
       "    </tr>\n",
       "  </thead>\n",
       "  <tbody>\n",
       "    <tr>\n",
       "      <th>0</th>\n",
       "      <td>0.059</td>\n",
       "      <td>0.837</td>\n",
       "      <td>0</td>\n",
       "      <td>1</td>\n",
       "    </tr>\n",
       "    <tr>\n",
       "      <th>1</th>\n",
       "      <td>0.136</td>\n",
       "      <td>0.821</td>\n",
       "      <td>0</td>\n",
       "      <td>1</td>\n",
       "    </tr>\n",
       "  </tbody>\n",
       "</table>\n",
       "</div>"
      ],
      "text/plain": [
       "       Proba       Preds    \n",
       "         min   max   min max\n",
       "Labels                      \n",
       "0      0.059 0.837     0   1\n",
       "1      0.136 0.821     0   1"
      ]
     },
     "metadata": {},
     "output_type": "display_data"
    },
    {
     "data": {
      "text/html": [
       "<div>\n",
       "<style scoped>\n",
       "    .dataframe tbody tr th:only-of-type {\n",
       "        vertical-align: middle;\n",
       "    }\n",
       "\n",
       "    .dataframe tbody tr th {\n",
       "        vertical-align: top;\n",
       "    }\n",
       "\n",
       "    .dataframe thead th {\n",
       "        text-align: right;\n",
       "    }\n",
       "</style>\n",
       "<table border=\"1\" class=\"dataframe\">\n",
       "  <thead>\n",
       "    <tr style=\"text-align: right;\">\n",
       "      <th></th>\n",
       "      <th>Proba</th>\n",
       "      <th>Probas</th>\n",
       "      <th>Preds</th>\n",
       "      <th>Labels</th>\n",
       "      <th>Proba</th>\n",
       "      <th>Probas</th>\n",
       "      <th>Preds</th>\n",
       "      <th>Labels</th>\n",
       "      <th>Proba</th>\n",
       "      <th>Probas</th>\n",
       "      <th>Preds</th>\n",
       "      <th>Labels</th>\n",
       "    </tr>\n",
       "  </thead>\n",
       "  <tbody>\n",
       "    <tr>\n",
       "      <th>0</th>\n",
       "      <td>0.403</td>\n",
       "      <td>[0.5968992114067078, 0.40310072898864746]</td>\n",
       "      <td>0</td>\n",
       "      <td>0</td>\n",
       "      <td>0.403</td>\n",
       "      <td>[0.5967355966567993, 0.40326428413391113]</td>\n",
       "      <td>0</td>\n",
       "      <td>0</td>\n",
       "      <td>0.351</td>\n",
       "      <td>[0.6488826274871826, 0.351117342710495]</td>\n",
       "      <td>0</td>\n",
       "      <td>1</td>\n",
       "    </tr>\n",
       "    <tr>\n",
       "      <th>1</th>\n",
       "      <td>0.332</td>\n",
       "      <td>[0.6684798002243042, 0.3315201699733734]</td>\n",
       "      <td>0</td>\n",
       "      <td>0</td>\n",
       "      <td>0.695</td>\n",
       "      <td>[0.30527055263519287, 0.6947293281555176]</td>\n",
       "      <td>1</td>\n",
       "      <td>1</td>\n",
       "      <td>0.591</td>\n",
       "      <td>[0.40876108407974243, 0.5912389159202576]</td>\n",
       "      <td>1</td>\n",
       "      <td>1</td>\n",
       "    </tr>\n",
       "    <tr>\n",
       "      <th>2</th>\n",
       "      <td>0.410</td>\n",
       "      <td>[0.589508593082428, 0.41049137711524963]</td>\n",
       "      <td>0</td>\n",
       "      <td>1</td>\n",
       "      <td>0.313</td>\n",
       "      <td>[0.6869787573814392, 0.313021183013916]</td>\n",
       "      <td>0</td>\n",
       "      <td>1</td>\n",
       "      <td>0.398</td>\n",
       "      <td>[0.6016467213630676, 0.3983532786369324]</td>\n",
       "      <td>0</td>\n",
       "      <td>0</td>\n",
       "    </tr>\n",
       "    <tr>\n",
       "      <th>3</th>\n",
       "      <td>0.325</td>\n",
       "      <td>[0.6747432351112366, 0.32525670528411865]</td>\n",
       "      <td>0</td>\n",
       "      <td>1</td>\n",
       "      <td>0.466</td>\n",
       "      <td>[0.533827006816864, 0.4661729633808136]</td>\n",
       "      <td>0</td>\n",
       "      <td>0</td>\n",
       "      <td>0.523</td>\n",
       "      <td>[0.4773174226284027, 0.5226825475692749]</td>\n",
       "      <td>1</td>\n",
       "      <td>0</td>\n",
       "    </tr>\n",
       "    <tr>\n",
       "      <th>4</th>\n",
       "      <td>0.415</td>\n",
       "      <td>[0.5847862362861633, 0.4152137041091919]</td>\n",
       "      <td>0</td>\n",
       "      <td>0</td>\n",
       "      <td>0.406</td>\n",
       "      <td>[0.5936998128890991, 0.4063001871109009]</td>\n",
       "      <td>0</td>\n",
       "      <td>1</td>\n",
       "      <td>0.763</td>\n",
       "      <td>[0.2367832064628601, 0.7632168531417847]</td>\n",
       "      <td>1</td>\n",
       "      <td>1</td>\n",
       "    </tr>\n",
       "  </tbody>\n",
       "</table>\n",
       "</div>"
      ],
      "text/plain": [
       "  Proba                                     Probas Preds Labels Proba  \\\n",
       "0 0.403  [0.5968992114067078, 0.40310072898864746]     0      0 0.403   \n",
       "1 0.332   [0.6684798002243042, 0.3315201699733734]     0      0 0.695   \n",
       "2 0.410   [0.589508593082428, 0.41049137711524963]     0      1 0.313   \n",
       "3 0.325  [0.6747432351112366, 0.32525670528411865]     0      1 0.466   \n",
       "4 0.415   [0.5847862362861633, 0.4152137041091919]     0      0 0.406   \n",
       "\n",
       "                                      Probas Preds Labels Proba  \\\n",
       "0  [0.5967355966567993, 0.40326428413391113]     0      0 0.351   \n",
       "1  [0.30527055263519287, 0.6947293281555176]     1      1 0.591   \n",
       "2    [0.6869787573814392, 0.313021183013916]     0      1 0.398   \n",
       "3    [0.533827006816864, 0.4661729633808136]     0      0 0.523   \n",
       "4   [0.5936998128890991, 0.4063001871109009]     0      1 0.763   \n",
       "\n",
       "                                      Probas Preds Labels  \n",
       "0    [0.6488826274871826, 0.351117342710495]     0      1  \n",
       "1  [0.40876108407974243, 0.5912389159202576]     1      1  \n",
       "2   [0.6016467213630676, 0.3983532786369324]     0      0  \n",
       "3   [0.4773174226284027, 0.5226825475692749]     1      0  \n",
       "4   [0.2367832064628601, 0.7632168531417847]     1      1  "
      ]
     },
     "metadata": {},
     "output_type": "display_data"
    },
    {
     "name": "stdout",
     "output_type": "stream",
     "text": [
      "scores =  {'map': '0.6222', 'acc': '0.5520', 'auc': '0.6543'}\n",
      "Epoch =  41 Train = 0.853456 Val = 0.654304\n"
     ]
    },
    {
     "data": {
      "application/vnd.jupyter.widget-view+json": {
       "model_id": "0a81c291115a4f2f8a938640ed4b6e11",
       "version_major": 2,
       "version_minor": 0
      },
      "text/plain": [
       "HBox(children=(FloatProgress(value=0.0, description='Batches', max=17.0, style=ProgressStyle(description_width…"
      ]
     },
     "metadata": {},
     "output_type": "display_data"
    },
    {
     "name": "stdout",
     "output_type": "stream",
     "text": [
      "\n",
      "Epoch =  42 Loss = 0.348581 LR = 0.00000382\n"
     ]
    },
    {
     "data": {
      "application/vnd.jupyter.widget-view+json": {
       "model_id": "3f6bd556934c4b5e9bb82dfafa9518e4",
       "version_major": 2,
       "version_minor": 0
      },
      "text/plain": [
       "HBox(children=(FloatProgress(value=0.0, description='Batches', max=17.0, style=ProgressStyle(description_width…"
      ]
     },
     "metadata": {},
     "output_type": "display_data"
    },
    {
     "name": "stdout",
     "output_type": "stream",
     "text": [
      "\n",
      "Epoch =  43 Loss = 0.346235 LR = 0.00000268\n"
     ]
    },
    {
     "data": {
      "application/vnd.jupyter.widget-view+json": {
       "model_id": "7a7debc220e14dfe9a5637eb1fb5df3b",
       "version_major": 2,
       "version_minor": 0
      },
      "text/plain": [
       "HBox(children=(FloatProgress(value=0.0, description='Batches', max=17.0, style=ProgressStyle(description_width…"
      ]
     },
     "metadata": {},
     "output_type": "display_data"
    },
    {
     "name": "stdout",
     "output_type": "stream",
     "text": [
      "\n",
      "Epoch =  44 Loss = 0.346875 LR = 0.00000172\n"
     ]
    },
    {
     "data": {
      "application/vnd.jupyter.widget-view+json": {
       "model_id": "29e88860d9e04ea58b09f630fd9819f9",
       "version_major": 2,
       "version_minor": 0
      },
      "text/plain": [
       "HBox(children=(FloatProgress(value=0.0, description='Batches', max=17.0, style=ProgressStyle(description_width…"
      ]
     },
     "metadata": {},
     "output_type": "display_data"
    },
    {
     "name": "stdout",
     "output_type": "stream",
     "text": [
      "\n",
      "Epoch =  45 Loss = 0.345971 LR = 0.00000097\n"
     ]
    },
    {
     "data": {
      "application/vnd.jupyter.widget-view+json": {
       "model_id": "cb3a207af4ac487298a6d81e67e1b8fc",
       "version_major": 2,
       "version_minor": 0
      },
      "text/plain": [
       "HBox(children=(FloatProgress(value=0.0, description='Batches', max=17.0, style=ProgressStyle(description_width…"
      ]
     },
     "metadata": {},
     "output_type": "display_data"
    },
    {
     "name": "stdout",
     "output_type": "stream",
     "text": [
      "\n",
      "Epoch =  46 Loss = 0.344134 LR = 0.00000043\n"
     ]
    },
    {
     "data": {
      "application/vnd.jupyter.widget-view+json": {
       "model_id": "d5d05ccff6104dcbbe7e12bafdb2d6e1",
       "version_major": 2,
       "version_minor": 0
      },
      "text/plain": [
       "HBox(children=(FloatProgress(value=0.0, description='Batches', max=17.0, style=ProgressStyle(description_width…"
      ]
     },
     "metadata": {},
     "output_type": "display_data"
    },
    {
     "name": "stdout",
     "output_type": "stream",
     "text": [
      "\n",
      "Epoch =  47 Loss = 0.347860 LR = 0.00000011\n"
     ]
    },
    {
     "data": {
      "application/vnd.jupyter.widget-view+json": {
       "model_id": "4f2c19cbb3384670a0bd3703c95caa6d",
       "version_major": 2,
       "version_minor": 0
      },
      "text/plain": [
       "HBox(children=(FloatProgress(value=0.0, description='Generate Predictions', max=34.0, style=ProgressStyle(desc…"
      ]
     },
     "metadata": {},
     "output_type": "display_data"
    },
    {
     "name": "stdout",
     "output_type": "stream",
     "text": [
      "\n"
     ]
    },
    {
     "data": {
      "application/vnd.jupyter.widget-view+json": {
       "model_id": "26ae0bb4113e4d8dbbae7d956cf4ede4",
       "version_major": 2,
       "version_minor": 0
      },
      "text/plain": [
       "HBox(children=(FloatProgress(value=0.0, description='Generate Predictions', max=2.0, style=ProgressStyle(descr…"
      ]
     },
     "metadata": {},
     "output_type": "display_data"
    },
    {
     "name": "stdout",
     "output_type": "stream",
     "text": [
      "\n"
     ]
    },
    {
     "data": {
      "text/html": [
       "<div>\n",
       "<style scoped>\n",
       "    .dataframe tbody tr th:only-of-type {\n",
       "        vertical-align: middle;\n",
       "    }\n",
       "\n",
       "    .dataframe tbody tr th {\n",
       "        vertical-align: top;\n",
       "    }\n",
       "\n",
       "    .dataframe thead tr th {\n",
       "        text-align: left;\n",
       "    }\n",
       "\n",
       "    .dataframe thead tr:last-of-type th {\n",
       "        text-align: right;\n",
       "    }\n",
       "</style>\n",
       "<table border=\"1\" class=\"dataframe\">\n",
       "  <thead>\n",
       "    <tr>\n",
       "      <th></th>\n",
       "      <th colspan=\"2\" halign=\"left\">Proba</th>\n",
       "      <th colspan=\"2\" halign=\"left\">Preds</th>\n",
       "    </tr>\n",
       "    <tr>\n",
       "      <th></th>\n",
       "      <th>min</th>\n",
       "      <th>max</th>\n",
       "      <th>min</th>\n",
       "      <th>max</th>\n",
       "    </tr>\n",
       "    <tr>\n",
       "      <th>Labels</th>\n",
       "      <th></th>\n",
       "      <th></th>\n",
       "      <th></th>\n",
       "      <th></th>\n",
       "    </tr>\n",
       "  </thead>\n",
       "  <tbody>\n",
       "    <tr>\n",
       "      <th>0</th>\n",
       "      <td>0.061</td>\n",
       "      <td>0.836</td>\n",
       "      <td>0</td>\n",
       "      <td>1</td>\n",
       "    </tr>\n",
       "    <tr>\n",
       "      <th>1</th>\n",
       "      <td>0.144</td>\n",
       "      <td>0.817</td>\n",
       "      <td>0</td>\n",
       "      <td>1</td>\n",
       "    </tr>\n",
       "  </tbody>\n",
       "</table>\n",
       "</div>"
      ],
      "text/plain": [
       "       Proba       Preds    \n",
       "         min   max   min max\n",
       "Labels                      \n",
       "0      0.061 0.836     0   1\n",
       "1      0.144 0.817     0   1"
      ]
     },
     "metadata": {},
     "output_type": "display_data"
    },
    {
     "data": {
      "text/html": [
       "<div>\n",
       "<style scoped>\n",
       "    .dataframe tbody tr th:only-of-type {\n",
       "        vertical-align: middle;\n",
       "    }\n",
       "\n",
       "    .dataframe tbody tr th {\n",
       "        vertical-align: top;\n",
       "    }\n",
       "\n",
       "    .dataframe thead th {\n",
       "        text-align: right;\n",
       "    }\n",
       "</style>\n",
       "<table border=\"1\" class=\"dataframe\">\n",
       "  <thead>\n",
       "    <tr style=\"text-align: right;\">\n",
       "      <th></th>\n",
       "      <th>Proba</th>\n",
       "      <th>Probas</th>\n",
       "      <th>Preds</th>\n",
       "      <th>Labels</th>\n",
       "      <th>Proba</th>\n",
       "      <th>Probas</th>\n",
       "      <th>Preds</th>\n",
       "      <th>Labels</th>\n",
       "      <th>Proba</th>\n",
       "      <th>Probas</th>\n",
       "      <th>Preds</th>\n",
       "      <th>Labels</th>\n",
       "    </tr>\n",
       "  </thead>\n",
       "  <tbody>\n",
       "    <tr>\n",
       "      <th>0</th>\n",
       "      <td>0.410</td>\n",
       "      <td>[0.590177059173584, 0.4098230004310608]</td>\n",
       "      <td>0</td>\n",
       "      <td>1</td>\n",
       "      <td>0.362</td>\n",
       "      <td>[0.6382161378860474, 0.361783891916275]</td>\n",
       "      <td>0</td>\n",
       "      <td>0</td>\n",
       "      <td>0.369</td>\n",
       "      <td>[0.6311348676681519, 0.36886507272720337]</td>\n",
       "      <td>0</td>\n",
       "      <td>1</td>\n",
       "    </tr>\n",
       "    <tr>\n",
       "      <th>1</th>\n",
       "      <td>0.613</td>\n",
       "      <td>[0.386920690536499, 0.613079309463501]</td>\n",
       "      <td>1</td>\n",
       "      <td>1</td>\n",
       "      <td>0.635</td>\n",
       "      <td>[0.36535435914993286, 0.6346455812454224]</td>\n",
       "      <td>1</td>\n",
       "      <td>0</td>\n",
       "      <td>0.294</td>\n",
       "      <td>[0.7060950994491577, 0.2939049005508423]</td>\n",
       "      <td>0</td>\n",
       "      <td>0</td>\n",
       "    </tr>\n",
       "    <tr>\n",
       "      <th>2</th>\n",
       "      <td>0.713</td>\n",
       "      <td>[0.2870092988014221, 0.7129906415939331]</td>\n",
       "      <td>1</td>\n",
       "      <td>1</td>\n",
       "      <td>0.508</td>\n",
       "      <td>[0.4922616481781006, 0.5077382922172546]</td>\n",
       "      <td>1</td>\n",
       "      <td>1</td>\n",
       "      <td>0.452</td>\n",
       "      <td>[0.5480505228042603, 0.45194941759109497]</td>\n",
       "      <td>0</td>\n",
       "      <td>1</td>\n",
       "    </tr>\n",
       "    <tr>\n",
       "      <th>3</th>\n",
       "      <td>0.267</td>\n",
       "      <td>[0.7331888675689697, 0.2668111026287079]</td>\n",
       "      <td>0</td>\n",
       "      <td>1</td>\n",
       "      <td>0.343</td>\n",
       "      <td>[0.656724750995636, 0.343275249004364]</td>\n",
       "      <td>0</td>\n",
       "      <td>0</td>\n",
       "      <td>0.499</td>\n",
       "      <td>[0.5007538199424744, 0.49924612045288086]</td>\n",
       "      <td>0</td>\n",
       "      <td>1</td>\n",
       "    </tr>\n",
       "    <tr>\n",
       "      <th>4</th>\n",
       "      <td>0.119</td>\n",
       "      <td>[0.8806231021881104, 0.11937685310840607]</td>\n",
       "      <td>0</td>\n",
       "      <td>0</td>\n",
       "      <td>0.334</td>\n",
       "      <td>[0.6655368208885193, 0.3344631791114807]</td>\n",
       "      <td>0</td>\n",
       "      <td>1</td>\n",
       "      <td>0.241</td>\n",
       "      <td>[0.7591359615325928, 0.24086403846740723]</td>\n",
       "      <td>0</td>\n",
       "      <td>0</td>\n",
       "    </tr>\n",
       "  </tbody>\n",
       "</table>\n",
       "</div>"
      ],
      "text/plain": [
       "  Proba                                     Probas Preds Labels Proba  \\\n",
       "0 0.410    [0.590177059173584, 0.4098230004310608]     0      1 0.362   \n",
       "1 0.613     [0.386920690536499, 0.613079309463501]     1      1 0.635   \n",
       "2 0.713   [0.2870092988014221, 0.7129906415939331]     1      1 0.508   \n",
       "3 0.267   [0.7331888675689697, 0.2668111026287079]     0      1 0.343   \n",
       "4 0.119  [0.8806231021881104, 0.11937685310840607]     0      0 0.334   \n",
       "\n",
       "                                      Probas Preds Labels Proba  \\\n",
       "0    [0.6382161378860474, 0.361783891916275]     0      0 0.369   \n",
       "1  [0.36535435914993286, 0.6346455812454224]     1      0 0.294   \n",
       "2   [0.4922616481781006, 0.5077382922172546]     1      1 0.452   \n",
       "3     [0.656724750995636, 0.343275249004364]     0      0 0.499   \n",
       "4   [0.6655368208885193, 0.3344631791114807]     0      1 0.241   \n",
       "\n",
       "                                      Probas Preds Labels  \n",
       "0  [0.6311348676681519, 0.36886507272720337]     0      1  \n",
       "1   [0.7060950994491577, 0.2939049005508423]     0      0  \n",
       "2  [0.5480505228042603, 0.45194941759109497]     0      1  \n",
       "3  [0.5007538199424744, 0.49924612045288086]     0      1  \n",
       "4  [0.7591359615325928, 0.24086403846740723]     0      0  "
      ]
     },
     "metadata": {},
     "output_type": "display_data"
    },
    {
     "name": "stdout",
     "output_type": "stream",
     "text": [
      "scores =  {'map': '0.6206', 'acc': '0.5700', 'auc': '0.6537'}\n",
      "Epoch =  47 Train = 0.854302 Val = 0.653680\n"
     ]
    },
    {
     "data": {
      "application/vnd.jupyter.widget-view+json": {
       "model_id": "1925e757e1144dada2a05032f73cf3b4",
       "version_major": 2,
       "version_minor": 0
      },
      "text/plain": [
       "HBox(children=(FloatProgress(value=0.0, description='Batches', max=17.0, style=ProgressStyle(description_width…"
      ]
     },
     "metadata": {},
     "output_type": "display_data"
    },
    {
     "name": "stdout",
     "output_type": "stream",
     "text": [
      "Exception for:  keyboard | '' '' | ['keyboard' 'char_swap'] argument of type 'NoneType' is not iterable\n",
      "\n",
      "Epoch =  48 Loss = 0.346706 LR = 0.00000000\n",
      "\n"
     ]
    },
    {
     "data": {
      "image/png": "[encoded data removed]",
      "text/plain": [
       "<Figure size 576x576 with 2 Axes>"
      ]
     },
     "metadata": {
      "image/png": {
       "height": 567,
       "width": 568
      },
      "needs_background": "light"
     },
     "output_type": "display_data"
    },
    {
     "data": {
      "application/vnd.jupyter.widget-view+json": {
       "model_id": "233942ffe82a481f9740d0894bfdc31c",
       "version_major": 2,
       "version_minor": 0
      },
      "text/plain": [
       "HBox(children=(FloatProgress(value=0.0, description='Generate Predictions', max=2.0, style=ProgressStyle(descr…"
      ]
     },
     "metadata": {},
     "output_type": "display_data"
    },
    {
     "name": "stdout",
     "output_type": "stream",
     "text": [
      "\n"
     ]
    },
    {
     "data": {
      "text/html": [
       "<div>\n",
       "<style scoped>\n",
       "    .dataframe tbody tr th:only-of-type {\n",
       "        vertical-align: middle;\n",
       "    }\n",
       "\n",
       "    .dataframe tbody tr th {\n",
       "        vertical-align: top;\n",
       "    }\n",
       "\n",
       "    .dataframe thead tr th {\n",
       "        text-align: left;\n",
       "    }\n",
       "\n",
       "    .dataframe thead tr:last-of-type th {\n",
       "        text-align: right;\n",
       "    }\n",
       "</style>\n",
       "<table border=\"1\" class=\"dataframe\">\n",
       "  <thead>\n",
       "    <tr>\n",
       "      <th></th>\n",
       "      <th colspan=\"2\" halign=\"left\">Proba</th>\n",
       "      <th colspan=\"2\" halign=\"left\">Preds</th>\n",
       "    </tr>\n",
       "    <tr>\n",
       "      <th></th>\n",
       "      <th>min</th>\n",
       "      <th>max</th>\n",
       "      <th>min</th>\n",
       "      <th>max</th>\n",
       "    </tr>\n",
       "    <tr>\n",
       "      <th>Labels</th>\n",
       "      <th></th>\n",
       "      <th></th>\n",
       "      <th></th>\n",
       "      <th></th>\n",
       "    </tr>\n",
       "  </thead>\n",
       "  <tbody>\n",
       "    <tr>\n",
       "      <th>0</th>\n",
       "      <td>0.061</td>\n",
       "      <td>0.836</td>\n",
       "      <td>0</td>\n",
       "      <td>1</td>\n",
       "    </tr>\n",
       "    <tr>\n",
       "      <th>1</th>\n",
       "      <td>0.144</td>\n",
       "      <td>0.817</td>\n",
       "      <td>0</td>\n",
       "      <td>1</td>\n",
       "    </tr>\n",
       "  </tbody>\n",
       "</table>\n",
       "</div>"
      ],
      "text/plain": [
       "       Proba       Preds    \n",
       "         min   max   min max\n",
       "Labels                      \n",
       "0      0.061 0.836     0   1\n",
       "1      0.144 0.817     0   1"
      ]
     },
     "metadata": {},
     "output_type": "display_data"
    },
    {
     "data": {
      "text/html": [
       "<div>\n",
       "<style scoped>\n",
       "    .dataframe tbody tr th:only-of-type {\n",
       "        vertical-align: middle;\n",
       "    }\n",
       "\n",
       "    .dataframe tbody tr th {\n",
       "        vertical-align: top;\n",
       "    }\n",
       "\n",
       "    .dataframe thead th {\n",
       "        text-align: right;\n",
       "    }\n",
       "</style>\n",
       "<table border=\"1\" class=\"dataframe\">\n",
       "  <thead>\n",
       "    <tr style=\"text-align: right;\">\n",
       "      <th></th>\n",
       "      <th>Proba</th>\n",
       "      <th>Probas</th>\n",
       "      <th>Preds</th>\n",
       "      <th>Labels</th>\n",
       "      <th>Proba</th>\n",
       "      <th>Probas</th>\n",
       "      <th>Preds</th>\n",
       "      <th>Labels</th>\n",
       "      <th>Proba</th>\n",
       "      <th>Probas</th>\n",
       "      <th>Preds</th>\n",
       "      <th>Labels</th>\n",
       "    </tr>\n",
       "  </thead>\n",
       "  <tbody>\n",
       "    <tr>\n",
       "      <th>0</th>\n",
       "      <td>0.452</td>\n",
       "      <td>[0.547665536403656, 0.452334463596344]</td>\n",
       "      <td>0</td>\n",
       "      <td>0</td>\n",
       "      <td>0.241</td>\n",
       "      <td>[0.7590835094451904, 0.240916445851326]</td>\n",
       "      <td>0</td>\n",
       "      <td>0</td>\n",
       "      <td>0.621</td>\n",
       "      <td>[0.3785116374492645, 0.6214883327484131]</td>\n",
       "      <td>1</td>\n",
       "      <td>1</td>\n",
       "    </tr>\n",
       "    <tr>\n",
       "      <th>1</th>\n",
       "      <td>0.453</td>\n",
       "      <td>[0.5468462109565735, 0.4531537890434265]</td>\n",
       "      <td>0</td>\n",
       "      <td>1</td>\n",
       "      <td>0.728</td>\n",
       "      <td>[0.27241846919059753, 0.7275815010070801]</td>\n",
       "      <td>1</td>\n",
       "      <td>1</td>\n",
       "      <td>0.377</td>\n",
       "      <td>[0.6228605508804321, 0.37713944911956787]</td>\n",
       "      <td>0</td>\n",
       "      <td>1</td>\n",
       "    </tr>\n",
       "    <tr>\n",
       "      <th>2</th>\n",
       "      <td>0.206</td>\n",
       "      <td>[0.794008195400238, 0.20599175989627838]</td>\n",
       "      <td>0</td>\n",
       "      <td>1</td>\n",
       "      <td>0.755</td>\n",
       "      <td>[0.24530857801437378, 0.7546914219856262]</td>\n",
       "      <td>1</td>\n",
       "      <td>1</td>\n",
       "      <td>0.253</td>\n",
       "      <td>[0.7469903826713562, 0.2530095875263214]</td>\n",
       "      <td>0</td>\n",
       "      <td>1</td>\n",
       "    </tr>\n",
       "    <tr>\n",
       "      <th>3</th>\n",
       "      <td>0.435</td>\n",
       "      <td>[0.5653978586196899, 0.4346020817756653]</td>\n",
       "      <td>0</td>\n",
       "      <td>0</td>\n",
       "      <td>0.652</td>\n",
       "      <td>[0.3483525514602661, 0.6516474485397339]</td>\n",
       "      <td>1</td>\n",
       "      <td>1</td>\n",
       "      <td>0.613</td>\n",
       "      <td>[0.3871273398399353, 0.6128726005554199]</td>\n",
       "      <td>1</td>\n",
       "      <td>1</td>\n",
       "    </tr>\n",
       "    <tr>\n",
       "      <th>4</th>\n",
       "      <td>0.608</td>\n",
       "      <td>[0.3916504979133606, 0.6083495020866394]</td>\n",
       "      <td>1</td>\n",
       "      <td>1</td>\n",
       "      <td>0.481</td>\n",
       "      <td>[0.5187690854072571, 0.4812309145927429]</td>\n",
       "      <td>0</td>\n",
       "      <td>0</td>\n",
       "      <td>0.607</td>\n",
       "      <td>[0.3928397297859192, 0.607160210609436]</td>\n",
       "      <td>1</td>\n",
       "      <td>0</td>\n",
       "    </tr>\n",
       "  </tbody>\n",
       "</table>\n",
       "</div>"
      ],
      "text/plain": [
       "  Proba                                    Probas Preds Labels Proba  \\\n",
       "0 0.452    [0.547665536403656, 0.452334463596344]     0      0 0.241   \n",
       "1 0.453  [0.5468462109565735, 0.4531537890434265]     0      1 0.728   \n",
       "2 0.206  [0.794008195400238, 0.20599175989627838]     0      1 0.755   \n",
       "3 0.435  [0.5653978586196899, 0.4346020817756653]     0      0 0.652   \n",
       "4 0.608  [0.3916504979133606, 0.6083495020866394]     1      1 0.481   \n",
       "\n",
       "                                      Probas Preds Labels Proba  \\\n",
       "0    [0.7590835094451904, 0.240916445851326]     0      0 0.621   \n",
       "1  [0.27241846919059753, 0.7275815010070801]     1      1 0.377   \n",
       "2  [0.24530857801437378, 0.7546914219856262]     1      1 0.253   \n",
       "3   [0.3483525514602661, 0.6516474485397339]     1      1 0.613   \n",
       "4   [0.5187690854072571, 0.4812309145927429]     0      0 0.607   \n",
       "\n",
       "                                      Probas Preds Labels  \n",
       "0   [0.3785116374492645, 0.6214883327484131]     1      1  \n",
       "1  [0.6228605508804321, 0.37713944911956787]     0      1  \n",
       "2   [0.7469903826713562, 0.2530095875263214]     0      1  \n",
       "3   [0.3871273398399353, 0.6128726005554199]     1      1  \n",
       "4    [0.3928397297859192, 0.607160210609436]     1      0  "
      ]
     },
     "metadata": {},
     "output_type": "display_data"
    },
    {
     "name": "stdout",
     "output_type": "stream",
     "text": [
      "scores =  {'map': '0.6205', 'acc': '0.5680', 'auc': '0.6536'}\n"
     ]
    },
    {
     "data": {
      "application/vnd.jupyter.widget-view+json": {
       "model_id": "cd9a25b3e766421da5c474317d4931f7",
       "version_major": 2,
       "version_minor": 0
      },
      "text/plain": [
       "HBox(children=(FloatProgress(value=0.0, description='Generate Predictions', max=34.0, style=ProgressStyle(desc…"
      ]
     },
     "metadata": {},
     "output_type": "display_data"
    },
    {
     "name": "stdout",
     "output_type": "stream",
     "text": [
      "\n"
     ]
    },
    {
     "data": {
      "text/html": [
       "<div>\n",
       "<style scoped>\n",
       "    .dataframe tbody tr th:only-of-type {\n",
       "        vertical-align: middle;\n",
       "    }\n",
       "\n",
       "    .dataframe tbody tr th {\n",
       "        vertical-align: top;\n",
       "    }\n",
       "\n",
       "    .dataframe thead th {\n",
       "        text-align: right;\n",
       "    }\n",
       "</style>\n",
       "<table border=\"1\" class=\"dataframe\">\n",
       "  <thead>\n",
       "    <tr style=\"text-align: right;\">\n",
       "      <th></th>\n",
       "      <th></th>\n",
       "      <th>train</th>\n",
       "      <th>val</th>\n",
       "    </tr>\n",
       "    <tr>\n",
       "      <th>mean_or_std</th>\n",
       "      <th>metric</th>\n",
       "      <th></th>\n",
       "      <th></th>\n",
       "    </tr>\n",
       "  </thead>\n",
       "  <tbody>\n",
       "    <tr>\n",
       "      <th rowspan=\"3\" valign=\"top\">mean</th>\n",
       "      <th>map</th>\n",
       "      <td>0.783</td>\n",
       "      <td>0.620</td>\n",
       "    </tr>\n",
       "    <tr>\n",
       "      <th>accuracy</th>\n",
       "      <td>0.770</td>\n",
       "      <td>0.568</td>\n",
       "    </tr>\n",
       "    <tr>\n",
       "      <th>auc</th>\n",
       "      <td>0.854</td>\n",
       "      <td>0.654</td>\n",
       "    </tr>\n",
       "    <tr>\n",
       "      <th rowspan=\"3\" valign=\"top\">std</th>\n",
       "      <th>map</th>\n",
       "      <td>0.000</td>\n",
       "      <td>0.000</td>\n",
       "    </tr>\n",
       "    <tr>\n",
       "      <th>accuracy</th>\n",
       "      <td>0.000</td>\n",
       "      <td>0.000</td>\n",
       "    </tr>\n",
       "    <tr>\n",
       "      <th>auc</th>\n",
       "      <td>0.000</td>\n",
       "      <td>0.000</td>\n",
       "    </tr>\n",
       "  </tbody>\n",
       "</table>\n",
       "</div>"
      ],
      "text/plain": [
       "                      train   val\n",
       "mean_or_std metric               \n",
       "mean        map       0.783 0.620\n",
       "            accuracy  0.770 0.568\n",
       "            auc       0.854 0.654\n",
       "std         map       0.000 0.000\n",
       "            accuracy  0.000 0.000\n",
       "            auc       0.000 0.000"
      ]
     },
     "execution_count": 20,
     "metadata": {},
     "output_type": "execute_result"
    },
    {
     "data": {
      "text/html": [
       "<div>\n",
       "<style scoped>\n",
       "    .dataframe tbody tr th:only-of-type {\n",
       "        vertical-align: middle;\n",
       "    }\n",
       "\n",
       "    .dataframe tbody tr th {\n",
       "        vertical-align: top;\n",
       "    }\n",
       "\n",
       "    .dataframe thead tr th {\n",
       "        text-align: left;\n",
       "    }\n",
       "</style>\n",
       "<table border=\"1\" class=\"dataframe\">\n",
       "  <thead>\n",
       "    <tr>\n",
       "      <th></th>\n",
       "      <th colspan=\"4\" halign=\"left\">train</th>\n",
       "      <th colspan=\"4\" halign=\"left\">val</th>\n",
       "    </tr>\n",
       "    <tr>\n",
       "      <th></th>\n",
       "      <th>precision</th>\n",
       "      <th>recall</th>\n",
       "      <th>f1</th>\n",
       "      <th>supoort</th>\n",
       "      <th>precision</th>\n",
       "      <th>recall</th>\n",
       "      <th>f1</th>\n",
       "      <th>supoort</th>\n",
       "    </tr>\n",
       "  </thead>\n",
       "  <tbody>\n",
       "    <tr>\n",
       "      <th>neg</th>\n",
       "      <td>0.842</td>\n",
       "      <td>0.790</td>\n",
       "      <td>0.815</td>\n",
       "      <td>5450.000</td>\n",
       "      <td>0.553</td>\n",
       "      <td>0.712</td>\n",
       "      <td>0.622</td>\n",
       "      <td>250.000</td>\n",
       "    </tr>\n",
       "    <tr>\n",
       "      <th>pos</th>\n",
       "      <td>0.662</td>\n",
       "      <td>0.734</td>\n",
       "      <td>0.697</td>\n",
       "      <td>3050.000</td>\n",
       "      <td>0.596</td>\n",
       "      <td>0.424</td>\n",
       "      <td>0.495</td>\n",
       "      <td>250.000</td>\n",
       "    </tr>\n",
       "  </tbody>\n",
       "</table>\n",
       "</div>"
      ],
      "text/plain": [
       "        train                             val                     \n",
       "    precision recall    f1  supoort precision recall    f1 supoort\n",
       "neg     0.842  0.790 0.815 5450.000     0.553  0.712 0.622 250.000\n",
       "pos     0.662  0.734 0.697 3050.000     0.596  0.424 0.495 250.000"
      ]
     },
     "execution_count": 20,
     "metadata": {},
     "output_type": "execute_result"
    }
   ],
   "source": [
    "adamw = torch.optim.AdamW\n",
    "adamw_params = dict(lr=5e-5, betas=(0.9, 0.98), eps=1e-08, weight_decay=1e-3)\n",
    "optimizer = adamw\n",
    "optimizer_params = adamw_params\n",
    "\n",
    "lr_strategy = {\n",
    "    \"model\": {\n",
    "        \"lr\": optimizer_params[\"lr\"] / 1000,\n",
    "        \"finetune\": False,\n",
    "        \"encoder\": {\n",
    "            \"layer\": {\n",
    "                \"2\": {\n",
    "                    \"lr\": optimizer_params[\"lr\"],\n",
    "                    \"finetune\": False\n",
    "                },\n",
    "                \"3\": {\n",
    "                    \"lr\": optimizer_params[\"lr\"],\n",
    "                    \"finetune\": True\n",
    "                },\n",
    "                \"4\": {\n",
    "                    \"lr\": optimizer_params[\"lr\"],\n",
    "                    \"finetune\": True\n",
    "                },\n",
    "                \"5\": {\n",
    "                    \"lr\": optimizer_params[\"lr\"],\n",
    "                    \"finetune\": True\n",
    "                }\n",
    "            }\n",
    "        },\n",
    "    }\n",
    "}\n",
    "\n",
    "epochs = 24\n",
    "batch_size = 256\n",
    "model_fn = model_builder(AlbertClassifer,\n",
    "                         dict(classifier_dims=768,\n",
    "                              num_classes=2,\n",
    "                              gaussian_noise=0.01,\n",
    "                              dropout=0.05,\n",
    "                              word_masking_proba=0.1,\n",
    "                              internal_dims=768,\n",
    "                              final_layer_builder=fb_1d_loss_builder,\n",
    "                              n_layers=2,\n",
    "                              n_encoders=0,\n",
    "                              n_decoders=0,\n",
    "                              n_tokens_in=96,\n",
    "                              n_tokens_out=48,\n",
    "                              featurizer=\"transformer\",\n",
    "                              model='distilbert-nsp',\n",
    "                              loss=\"focal\",\n",
    "                              classification_head=\"decoder_ensemble\", # head_ensemble\n",
    "                              dice_loss_coef=0.0,\n",
    "                              auc_loss_coef=0.5, # 0.1\n",
    "                              attention_drop_proba=0.0,\n",
    "                              finetune=False,\n",
    "                              n_classifier_layers=1,\n",
    "                              n_classifier_decoders=16, # 4\n",
    "                             ),\n",
    "                         per_param_opts_fn=lr_strategy,\n",
    "                         optimiser_class=optimizer,\n",
    "                         optimiser_params=optimizer_params)\n",
    "\n",
    "kfold = False\n",
    "results, prfs = train_validate_ntimes(\n",
    "    model_fn,\n",
    "    data,\n",
    "    batch_size,\n",
    "    epochs,\n",
    "    kfold=kfold,\n",
    "    scheduler_init_fn=scheduler_init_fn,\n",
    "    model_call_back=reg_sched, # reg_sched\n",
    "    validation_epochs=[17, 27, 34, 41, 47, 51, 54],\n",
    "    show_model_stats=False,\n",
    "    sampling_policy=\"without_replacement\",\n",
    "    prediction_iters=1, evaluate_in_train_mode=False\n",
    ")\n",
    "r2, p2 = results, prfs\n",
    "results\n",
    "prfs\n",
    "\n",
    "# 0.854\t0.654 x2\n"
   ]
  },
  {
   "cell_type": "code",
   "execution_count": null,
   "metadata": {
    "ExecuteTime": {
     "start_time": "2020-08-01T06:24:29.267Z"
    }
   },
   "outputs": [
    {
     "name": "stdout",
     "output_type": "stream",
     "text": [
      "Pick stored Model /home/ahemf/cache/distilbert-nsp Model Class =  <class 'transformers.modeling_roberta.RobertaModel'> Tokenizer Class =  <class 'transformers.tokenization_roberta.RobertaTokenizer'>\n",
      "Autocast =  True Epochs =  48 Divisor = 2 Examples = 4250 Batch Size =  256\n",
      "Training Samples =  8500 Weighted Sampling =  True Num Batches =  17 Accumulation steps =  1\n"
     ]
    },
    {
     "data": {
      "application/vnd.jupyter.widget-view+json": {
       "model_id": "d8cf2f400cf24b018b631ed65cd3984a",
       "version_major": 2,
       "version_minor": 0
      },
      "text/plain": [
       "HBox(children=(FloatProgress(value=0.0, max=48.0), HTML(value='')))"
      ]
     },
     "metadata": {},
     "output_type": "display_data"
    },
    {
     "data": {
      "application/vnd.jupyter.widget-view+json": {
       "model_id": "fbda0d7d0b8a47bdac31807b9a8d08b4",
       "version_major": 2,
       "version_minor": 0
      },
      "text/plain": [
       "HBox(children=(FloatProgress(value=0.0, description='Batches', max=17.0, style=ProgressStyle(description_width…"
      ]
     },
     "metadata": {},
     "output_type": "display_data"
    },
    {
     "name": "stdout",
     "output_type": "stream",
     "text": [
      "\n",
      "Epoch =  1 Loss = 0.695816 LR = 0.00000279\n"
     ]
    },
    {
     "data": {
      "application/vnd.jupyter.widget-view+json": {
       "model_id": "75431c7dba0346af97cc0d9dce162f83",
       "version_major": 2,
       "version_minor": 0
      },
      "text/plain": [
       "HBox(children=(FloatProgress(value=0.0, description='Batches', max=17.0, style=ProgressStyle(description_width…"
      ]
     },
     "metadata": {},
     "output_type": "display_data"
    },
    {
     "name": "stdout",
     "output_type": "stream",
     "text": [
      "\n",
      "Epoch =  2 Loss = 0.565480 LR = 0.00000557\n"
     ]
    },
    {
     "data": {
      "application/vnd.jupyter.widget-view+json": {
       "model_id": "ac998338902e4ecbbf118cdcfb5205e5",
       "version_major": 2,
       "version_minor": 0
      },
      "text/plain": [
       "HBox(children=(FloatProgress(value=0.0, description='Batches', max=17.0, style=ProgressStyle(description_width…"
      ]
     },
     "metadata": {},
     "output_type": "display_data"
    },
    {
     "name": "stdout",
     "output_type": "stream",
     "text": [
      "\n",
      "Epoch =  3 Loss = 0.524718 LR = 0.00000836\n"
     ]
    },
    {
     "data": {
      "application/vnd.jupyter.widget-view+json": {
       "model_id": "c8e1e5b20dd249aa9f94acbe7bef6bb0",
       "version_major": 2,
       "version_minor": 0
      },
      "text/plain": [
       "HBox(children=(FloatProgress(value=0.0, description='Batches', max=17.0, style=ProgressStyle(description_width…"
      ]
     },
     "metadata": {},
     "output_type": "display_data"
    }
   ],
   "source": [
    "adamw = torch.optim.AdamW\n",
    "adamw_params = dict(lr=8e-5, betas=(0.9, 0.98), eps=1e-08, weight_decay=1e-3)\n",
    "optimizer = adamw\n",
    "optimizer_params = adamw_params\n",
    "\n",
    "lr_strategy = {\n",
    "    \"model\": {\n",
    "        \"lr\": optimizer_params[\"lr\"] / 1000,\n",
    "        \"finetune\": False,\n",
    "        \"encoder\": {\n",
    "            \"layer\": {\n",
    "                \"2\": {\n",
    "                    \"lr\": optimizer_params[\"lr\"],\n",
    "                    \"finetune\": False\n",
    "                },\n",
    "                \"3\": {\n",
    "                    \"lr\": optimizer_params[\"lr\"]/2,\n",
    "                    \"finetune\": True\n",
    "                },\n",
    "                \"4\": {\n",
    "                    \"lr\": optimizer_params[\"lr\"]/2,\n",
    "                    \"finetune\": True\n",
    "                },\n",
    "                \"5\": {\n",
    "                    \"lr\": optimizer_params[\"lr\"]/2,\n",
    "                    \"finetune\": True\n",
    "                }\n",
    "            }\n",
    "        },\n",
    "    }\n",
    "}\n",
    "\n",
    "epochs = 24\n",
    "batch_size = 256\n",
    "model_fn = model_builder(AlbertClassifer,\n",
    "                         dict(classifier_dims=768,\n",
    "                              num_classes=2,\n",
    "                              gaussian_noise=0.01,\n",
    "                              dropout=0.05,\n",
    "                              word_masking_proba=0.1,\n",
    "                              internal_dims=768,\n",
    "                              final_layer_builder=fb_1d_loss_builder,\n",
    "                              n_layers=2,\n",
    "                              n_encoders=0,\n",
    "                              n_decoders=0,\n",
    "                              n_tokens_in=96,\n",
    "                              n_tokens_out=48,\n",
    "                              featurizer=\"transformer\",\n",
    "                              model='distilbert-nsp',\n",
    "                              loss=\"focal\",\n",
    "                              classification_head=\"decoder_ensemble\", # head_ensemble\n",
    "                              dice_loss_coef=0.0,\n",
    "                              auc_loss_coef=0.5, # 0.1\n",
    "                              attention_drop_proba=0.0,\n",
    "                              finetune=False,\n",
    "                              n_classifier_layers=1,\n",
    "                              n_classifier_decoders=16, # 4\n",
    "                             ),\n",
    "                         per_param_opts_fn=lr_strategy,\n",
    "                         optimiser_class=optimizer,\n",
    "                         optimiser_params=optimizer_params)\n",
    "\n",
    "kfold = False\n",
    "results, prfs = train_validate_ntimes(\n",
    "    model_fn,\n",
    "    data,\n",
    "    batch_size,\n",
    "    epochs,\n",
    "    kfold=kfold,\n",
    "    scheduler_init_fn=scheduler_init_fn,\n",
    "    model_call_back=reg_sched, # reg_sched\n",
    "    validation_epochs=[17, 27, 34, 41, 47, 51, 54],\n",
    "    show_model_stats=False,\n",
    "    sampling_policy=\"without_replacement\",\n",
    "    prediction_iters=1, evaluate_in_train_mode=False\n",
    ")\n",
    "r2, p2 = results, prfs\n",
    "results\n",
    "prfs\n",
    "\n",
    "\n"
   ]
  },
  {
   "cell_type": "markdown",
   "metadata": {},
   "source": [
    "### Train Head First"
   ]
  },
  {
   "cell_type": "code",
   "execution_count": null,
   "metadata": {},
   "outputs": [],
   "source": [
    "adamw = torch.optim.AdamW\n",
    "adamw_params = dict(lr=1e-4, betas=(0.9, 0.98), eps=1e-08, weight_decay=1e-3)\n",
    "optimizer_class = adamw\n",
    "optimizer_params = adamw_params\n",
    "\n",
    "lr_strategy = {\n",
    "    \"model\": {\n",
    "        \"finetune\": False,\n",
    "    }\n",
    "}\n",
    "\n",
    "epochs = 8\n",
    "batch_size = 256\n",
    "model_fn = model_builder(AlbertClassifer,\n",
    "                         dict(classifier_dims=768,\n",
    "                              num_classes=2,\n",
    "                              gaussian_noise=0.01,\n",
    "                              dropout=0.05,\n",
    "                              word_masking_proba=0.1,\n",
    "                              internal_dims=768,\n",
    "                              final_layer_builder=fb_1d_loss_builder,\n",
    "                              n_layers=2,\n",
    "                              n_encoders=0,\n",
    "                              n_decoders=0,\n",
    "                              n_tokens_in=96,\n",
    "                              n_tokens_out=48,\n",
    "                              featurizer=\"transformer\",\n",
    "                              model='distilbert-nsp',\n",
    "                              loss=\"focal\",\n",
    "                              classification_head=\"decoder_ensemble\", # head_ensemble\n",
    "                              dice_loss_coef=0.0,\n",
    "                              auc_loss_coef=0.5, # 0.1\n",
    "                              attention_drop_proba=0.0,\n",
    "                              finetune=False,\n",
    "                              n_classifier_layers=1,\n",
    "                              n_classifier_decoders=16, # 4\n",
    "                             ),\n",
    "                         per_param_opts_fn=lr_strategy,\n",
    "                         optimiser_class=optimizer_class,\n",
    "                         optimiser_params=optimizer_params)\n",
    "\n",
    "\n",
    "model, optimizer = model_fn()\n",
    "kfold = False\n",
    "results, prfs = train_validate_ntimes(\n",
    "    (model, optimizer),\n",
    "    data,\n",
    "    batch_size,\n",
    "    epochs,\n",
    "    kfold=kfold,\n",
    "    scheduler_init_fn=scheduler_init_fn,\n",
    "    model_call_back=reg_sched, # reg_sched\n",
    "    validation_epochs=[15, 27, 34, 41, 47, 51, 54],\n",
    "    show_model_stats=False,\n",
    "    sampling_policy=\"without_replacement\",\n",
    "    prediction_iters=1, evaluate_in_train_mode=False\n",
    ")\n",
    "r2, p2 = results, prfs\n",
    "results\n",
    "prfs\n",
    "\n",
    "adamw_params = dict(lr=5e-5, betas=(0.9, 0.98), eps=1e-08, weight_decay=1e-3)\n",
    "optimizer_params = adamw_params\n",
    "lr_strategy = {\n",
    "    \"model\": {\n",
    "        \"lr\": optimizer_params[\"lr\"] / 1000,\n",
    "        \"finetune\": False,\n",
    "        \"encoder\": {\n",
    "            \"layer\": {\n",
    "                \"2\": {\n",
    "                    \"lr\": optimizer_params[\"lr\"],\n",
    "                    \"finetune\": False\n",
    "                },\n",
    "                \"3\": {\n",
    "                    \"lr\": optimizer_params[\"lr\"],\n",
    "                    \"finetune\": True\n",
    "                },\n",
    "                \"4\": {\n",
    "                    \"lr\": optimizer_params[\"lr\"],\n",
    "                    \"finetune\": True\n",
    "                },\n",
    "                \"5\": {\n",
    "                    \"lr\": optimizer_params[\"lr\"],\n",
    "                    \"finetune\": True\n",
    "                }\n",
    "            }\n",
    "        },\n",
    "    }\n",
    "}\n",
    "\n",
    "_ = group_wise_finetune(model, lr_strategy)\n",
    "params_conf, _ = group_wise_lr(model, lr_strategy)\n",
    "optimizer = optimizer_class(params_conf, **optimizer_params)\n",
    "\n",
    "\n",
    "epochs = 24\n",
    "kfold = False\n",
    "results, prfs = train_validate_ntimes(\n",
    "    (model, optimizer),\n",
    "    data,\n",
    "    batch_size,\n",
    "    epochs,\n",
    "    kfold=kfold,\n",
    "    scheduler_init_fn=scheduler_init_fn,\n",
    "    model_call_back=reg_sched, # reg_sched\n",
    "    validation_epochs=[15, 21, 27, 31, 34, 41, 47, 51, 54],\n",
    "    show_model_stats=False,\n",
    "    sampling_policy=\"without_replacement\",\n",
    "    prediction_iters=1, evaluate_in_train_mode=False\n",
    ")\n",
    "r2, p2 = results, prfs\n",
    "results\n",
    "prfs\n",
    "\n"
   ]
  },
  {
   "cell_type": "markdown",
   "metadata": {
    "heading_collapsed": true
   },
   "source": [
    "## Multi-eval decoder ensemble"
   ]
  },
  {
   "cell_type": "code",
   "execution_count": null,
   "metadata": {
    "ExecuteTime": {
     "end_time": "2020-07-30T12:38:17.523006Z",
     "start_time": "2020-07-30T12:18:45.516386Z"
    },
    "hidden": true
   },
   "outputs": [],
   "source": [
    "adamw = torch.optim.AdamW\n",
    "adamw_params = dict(lr=1e-4, betas=(0.9, 0.98), eps=1e-08, weight_decay=1e-3)\n",
    "optimizer = adamw\n",
    "optimizer_params = adamw_params\n",
    "\n",
    "\n",
    "data = get_datasets(data_dir=\"../data/\", train_text_transform=preprocess_text, train_image_transform=None, \n",
    "                    test_text_transform=preprocess_text_test, test_image_transform=None, \n",
    "                    cache_images = True, use_images = False, dev=False, test_dev=True,\n",
    "                    keep_original_text=False, keep_original_image=False, \n",
    "                    keep_processed_image=True, keep_torchvision_image=False,)\n",
    "\n",
    "\n",
    "lr_strategy = {\n",
    "    \"model\": {\n",
    "        \"lr\": optimizer_params[\"lr\"] / 1000,\n",
    "        \"finetune\": False,\n",
    "        \"encoder\": {\n",
    "            \"layer\": {\n",
    "                \"2\": {\n",
    "                    \"lr\": optimizer_params[\"lr\"],\n",
    "                    \"finetune\": False\n",
    "                },\n",
    "                \"3\": {\n",
    "                    \"lr\": optimizer_params[\"lr\"]/10,\n",
    "                    \"finetune\": True\n",
    "                },\n",
    "                \"4\": {\n",
    "                    \"lr\": optimizer_params[\"lr\"]/10,\n",
    "                    \"finetune\": True\n",
    "                },\n",
    "                \"5\": {\n",
    "                    \"lr\": optimizer_params[\"lr\"]/10,\n",
    "                    \"finetune\": True\n",
    "                }\n",
    "            }\n",
    "        },\n",
    "    },\n",
    "    \"final_layer\": {\n",
    "        \"lr\": optimizer_params[\"lr\"]\n",
    "    }\n",
    "}\n",
    "\n",
    "epochs = 24\n",
    "batch_size = 256\n",
    "model_fn = model_builder(AlbertClassifer,\n",
    "                         dict(classifier_dims=768,\n",
    "                              num_classes=2,\n",
    "                              gaussian_noise=0.02,\n",
    "                              dropout=0.1,\n",
    "                              word_masking_proba=0.1,\n",
    "                              internal_dims=768,\n",
    "                              final_layer_builder=fb_1d_loss_builder,\n",
    "                              n_layers=2,\n",
    "                              n_encoders=0,\n",
    "                              n_decoders=0,\n",
    "                              n_tokens_in=96,\n",
    "                              n_tokens_out=64,\n",
    "                              featurizer=\"transformer\",\n",
    "                              model='distilbert-nsp',\n",
    "                              loss=\"focal\",\n",
    "                              classification_head=\"decoder_ensemble\", # head_ensemble\n",
    "                              dice_loss_coef=0.0,\n",
    "                              auc_loss_coef=0.5, # 0.1\n",
    "                              attention_drop_proba=0.01,\n",
    "                              finetune=False,\n",
    "                              n_classifier_layers=1,\n",
    "                              n_classifier_decoders=16, # 4\n",
    "                             ),\n",
    "                         per_param_opts_fn=lr_strategy,\n",
    "                         optimiser_class=optimizer,\n",
    "                         optimiser_params=optimizer_params)\n",
    "\n",
    "kfold = False\n",
    "results, prfs = train_validate_ntimes(\n",
    "    model_fn,\n",
    "    data,\n",
    "    batch_size,\n",
    "    epochs,\n",
    "    kfold=kfold,\n",
    "    scheduler_init_fn=scheduler_init_fn,\n",
    "    model_call_back=reg_sched, # reg_sched\n",
    "    validation_epochs=[19, 27, 37, 41, 46, 51, 54],\n",
    "    show_model_stats=False,\n",
    "    sampling_policy=\"without_replacement\",\n",
    "    prediction_iters=10, evaluate_in_train_mode=True\n",
    ")\n",
    "r2, p2 = results, prfs\n",
    "results\n",
    "prfs\n"
   ]
  },
  {
   "cell_type": "markdown",
   "metadata": {
    "heading_collapsed": true
   },
   "source": [
    "# Predict"
   ]
  },
  {
   "cell_type": "code",
   "execution_count": 7,
   "metadata": {
    "ExecuteTime": {
     "end_time": "2020-07-31T18:51:33.333243Z",
     "start_time": "2020-07-31T18:51:33.324554Z"
    },
    "hidden": true
   },
   "outputs": [],
   "source": [
    "adamw = torch.optim.AdamW\n",
    "adamw_params = dict(lr=5e-5, betas=(0.9, 0.98), eps=1e-08, weight_decay=1e-3)\n",
    "optimizer = adamw\n",
    "optimizer_params = adamw_params\n",
    "\n",
    "lr_strategy = {\n",
    "    \"model\": {\n",
    "        \"lr\": optimizer_params[\"lr\"] / 1000,\n",
    "        \"finetune\": False,\n",
    "        \"encoder\": {\n",
    "            \"layer\": {\n",
    "                \"2\": {\n",
    "                    \"lr\": optimizer_params[\"lr\"],\n",
    "                    \"finetune\": False\n",
    "                },\n",
    "                \"3\": {\n",
    "                    \"lr\": optimizer_params[\"lr\"],\n",
    "                    \"finetune\": True\n",
    "                },\n",
    "                \"4\": {\n",
    "                    \"lr\": optimizer_params[\"lr\"],\n",
    "                    \"finetune\": True\n",
    "                },\n",
    "                \"5\": {\n",
    "                    \"lr\": optimizer_params[\"lr\"],\n",
    "                    \"finetune\": True\n",
    "                }\n",
    "            }\n",
    "        },\n",
    "    }\n",
    "}\n",
    "\n",
    "epochs = 24\n",
    "batch_size = 256\n",
    "model_fn = model_builder(AlbertClassifer,\n",
    "                         dict(classifier_dims=768,\n",
    "                              num_classes=2,\n",
    "                              gaussian_noise=0.01,\n",
    "                              dropout=0.05,\n",
    "                              word_masking_proba=0.1,\n",
    "                              internal_dims=768,\n",
    "                              final_layer_builder=fb_1d_loss_builder,\n",
    "                              n_layers=2,\n",
    "                              n_encoders=0,\n",
    "                              n_decoders=0,\n",
    "                              n_tokens_in=96,\n",
    "                              n_tokens_out=48,\n",
    "                              featurizer=\"transformer\",\n",
    "                              model='distilbert-nsp',\n",
    "                              loss=\"focal\",\n",
    "                              classification_head=\"decoder_ensemble\", # head_ensemble\n",
    "                              dice_loss_coef=0.0,\n",
    "                              auc_loss_coef=0.5, # 0.1\n",
    "                              attention_drop_proba=0.0,\n",
    "                              finetune=False,\n",
    "                              n_classifier_layers=1,\n",
    "                              n_classifier_decoders=16, # 4\n",
    "                             ),\n",
    "                         per_param_opts_fn=lr_strategy,\n",
    "                         optimiser_class=optimizer,\n",
    "                         optimiser_params=optimizer_params)\n"
   ]
  },
  {
   "cell_type": "code",
   "execution_count": 8,
   "metadata": {
    "ExecuteTime": {
     "end_time": "2020-07-31T19:07:10.391372Z",
     "start_time": "2020-07-31T18:51:34.376622Z"
    },
    "hidden": true,
    "scrolled": true
   },
   "outputs": [
    {
     "name": "stdout",
     "output_type": "stream",
     "text": [
      "Pick stored Model /home/ahemf/cache/distilbert-nsp Model Class =  <class 'transformers.modeling_roberta.RobertaModel'> Tokenizer Class =  <class 'transformers.tokenization_roberta.RobertaTokenizer'>\n",
      "Autocast =  True Epochs =  48 Divisor = 2 Examples = 4250 Batch Size =  256\n",
      "Training Samples =  8500 Weighted Sampling =  True Num Batches =  17 Accumulation steps =  1\n"
     ]
    },
    {
     "data": {
      "application/vnd.jupyter.widget-view+json": {
       "model_id": "0c0e74a5d61749518f608e54acbfcbc7",
       "version_major": 2,
       "version_minor": 0
      },
      "text/plain": [
       "HBox(children=(FloatProgress(value=0.0, max=48.0), HTML(value='')))"
      ]
     },
     "metadata": {},
     "output_type": "display_data"
    },
    {
     "data": {
      "application/vnd.jupyter.widget-view+json": {
       "model_id": "7c216ab419324bf6ba788d83f7e56f6a",
       "version_major": 2,
       "version_minor": 0
      },
      "text/plain": [
       "HBox(children=(FloatProgress(value=0.0, description='Batches', max=17.0, style=ProgressStyle(description_width…"
      ]
     },
     "metadata": {},
     "output_type": "display_data"
    },
    {
     "name": "stdout",
     "output_type": "stream",
     "text": [
      "\n",
      "Epoch =  1 Loss = 0.784492 LR = 0.00000348\n"
     ]
    },
    {
     "data": {
      "application/vnd.jupyter.widget-view+json": {
       "model_id": "082cc369e06b4c548c258be4ccc7db18",
       "version_major": 2,
       "version_minor": 0
      },
      "text/plain": [
       "HBox(children=(FloatProgress(value=0.0, description='Batches', max=17.0, style=ProgressStyle(description_width…"
      ]
     },
     "metadata": {},
     "output_type": "display_data"
    },
    {
     "name": "stdout",
     "output_type": "stream",
     "text": [
      "\n",
      "Epoch =  2 Loss = 0.578230 LR = 0.00000697\n"
     ]
    },
    {
     "data": {
      "application/vnd.jupyter.widget-view+json": {
       "model_id": "3435afc78462461bb102ae78e2095193",
       "version_major": 2,
       "version_minor": 0
      },
      "text/plain": [
       "HBox(children=(FloatProgress(value=0.0, description='Batches', max=17.0, style=ProgressStyle(description_width…"
      ]
     },
     "metadata": {},
     "output_type": "display_data"
    },
    {
     "name": "stdout",
     "output_type": "stream",
     "text": [
      "Exception for:  keyboard | '' '' | ['keyboard' 'char_swap'] argument of type 'NoneType' is not iterable\n",
      "\n",
      "Epoch =  3 Loss = 0.528281 LR = 0.00001045\n"
     ]
    },
    {
     "data": {
      "application/vnd.jupyter.widget-view+json": {
       "model_id": "6c15c650c0ed4af8a104ecd6d9dead45",
       "version_major": 2,
       "version_minor": 0
      },
      "text/plain": [
       "HBox(children=(FloatProgress(value=0.0, description='Batches', max=17.0, style=ProgressStyle(description_width…"
      ]
     },
     "metadata": {},
     "output_type": "display_data"
    },
    {
     "name": "stdout",
     "output_type": "stream",
     "text": [
      "\n",
      "Epoch =  4 Loss = 0.512003 LR = 0.00001393\n"
     ]
    },
    {
     "data": {
      "application/vnd.jupyter.widget-view+json": {
       "model_id": "3fbcc7634a8a420db87b662b91df1181",
       "version_major": 2,
       "version_minor": 0
      },
      "text/plain": [
       "HBox(children=(FloatProgress(value=0.0, description='Batches', max=17.0, style=ProgressStyle(description_width…"
      ]
     },
     "metadata": {},
     "output_type": "display_data"
    },
    {
     "name": "stdout",
     "output_type": "stream",
     "text": [
      "\n",
      "Epoch =  5 Loss = 0.506022 LR = 0.00001742\n"
     ]
    },
    {
     "data": {
      "application/vnd.jupyter.widget-view+json": {
       "model_id": "bb7d174f94a34e7793dc6e4b0f37646a",
       "version_major": 2,
       "version_minor": 0
      },
      "text/plain": [
       "HBox(children=(FloatProgress(value=0.0, description='Batches', max=17.0, style=ProgressStyle(description_width…"
      ]
     },
     "metadata": {},
     "output_type": "display_data"
    },
    {
     "name": "stdout",
     "output_type": "stream",
     "text": [
      "\n",
      "Epoch =  6 Loss = 0.497311 LR = 0.00002090\n"
     ]
    },
    {
     "data": {
      "application/vnd.jupyter.widget-view+json": {
       "model_id": "8491a4268a454f68aa69ee305a4328de",
       "version_major": 2,
       "version_minor": 0
      },
      "text/plain": [
       "HBox(children=(FloatProgress(value=0.0, description='Batches', max=17.0, style=ProgressStyle(description_width…"
      ]
     },
     "metadata": {},
     "output_type": "display_data"
    },
    {
     "name": "stdout",
     "output_type": "stream",
     "text": [
      "\n",
      "Epoch =  7 Loss = 0.488509 LR = 0.00002439\n"
     ]
    },
    {
     "data": {
      "application/vnd.jupyter.widget-view+json": {
       "model_id": "eb885ea6715a4b14a0d2c34f5433c1f6",
       "version_major": 2,
       "version_minor": 0
      },
      "text/plain": [
       "HBox(children=(FloatProgress(value=0.0, description='Batches', max=17.0, style=ProgressStyle(description_width…"
      ]
     },
     "metadata": {},
     "output_type": "display_data"
    },
    {
     "name": "stdout",
     "output_type": "stream",
     "text": [
      "\n",
      "Epoch =  8 Loss = 0.483169 LR = 0.00002787\n"
     ]
    },
    {
     "data": {
      "application/vnd.jupyter.widget-view+json": {
       "model_id": "4dd1f2edf30c43a393016351992b5904",
       "version_major": 2,
       "version_minor": 0
      },
      "text/plain": [
       "HBox(children=(FloatProgress(value=0.0, description='Batches', max=17.0, style=ProgressStyle(description_width…"
      ]
     },
     "metadata": {},
     "output_type": "display_data"
    },
    {
     "name": "stdout",
     "output_type": "stream",
     "text": [
      "\n",
      "Epoch =  9 Loss = 0.468048 LR = 0.00003135\n"
     ]
    },
    {
     "data": {
      "application/vnd.jupyter.widget-view+json": {
       "model_id": "daf90fbb444941bba39091021e503de3",
       "version_major": 2,
       "version_minor": 0
      },
      "text/plain": [
       "HBox(children=(FloatProgress(value=0.0, description='Batches', max=17.0, style=ProgressStyle(description_width…"
      ]
     },
     "metadata": {},
     "output_type": "display_data"
    },
    {
     "name": "stdout",
     "output_type": "stream",
     "text": [
      "\n",
      "Epoch =  10 Loss = 0.453963 LR = 0.00003484\n"
     ]
    },
    {
     "data": {
      "application/vnd.jupyter.widget-view+json": {
       "model_id": "29c539f86dee465a954e7426cdc13a63",
       "version_major": 2,
       "version_minor": 0
      },
      "text/plain": [
       "HBox(children=(FloatProgress(value=0.0, description='Batches', max=17.0, style=ProgressStyle(description_width…"
      ]
     },
     "metadata": {},
     "output_type": "display_data"
    },
    {
     "name": "stdout",
     "output_type": "stream",
     "text": [
      "\n",
      "Epoch =  11 Loss = 0.440564 LR = 0.00003832\n"
     ]
    },
    {
     "data": {
      "application/vnd.jupyter.widget-view+json": {
       "model_id": "220b995aa1b44d078c74f4290ab7949f",
       "version_major": 2,
       "version_minor": 0
      },
      "text/plain": [
       "HBox(children=(FloatProgress(value=0.0, description='Batches', max=17.0, style=ProgressStyle(description_width…"
      ]
     },
     "metadata": {},
     "output_type": "display_data"
    },
    {
     "name": "stdout",
     "output_type": "stream",
     "text": [
      "\n",
      "Epoch =  12 Loss = 0.438991 LR = 0.00004180\n"
     ]
    },
    {
     "data": {
      "application/vnd.jupyter.widget-view+json": {
       "model_id": "0fe1e09e476f4f37bd27eaae96949558",
       "version_major": 2,
       "version_minor": 0
      },
      "text/plain": [
       "HBox(children=(FloatProgress(value=0.0, description='Batches', max=17.0, style=ProgressStyle(description_width…"
      ]
     },
     "metadata": {},
     "output_type": "display_data"
    },
    {
     "name": "stdout",
     "output_type": "stream",
     "text": [
      "\n",
      "Epoch =  13 Loss = 0.424856 LR = 0.00004529\n"
     ]
    },
    {
     "data": {
      "application/vnd.jupyter.widget-view+json": {
       "model_id": "f4a06aaf8ef24bf8bbc944ba8e99a622",
       "version_major": 2,
       "version_minor": 0
      },
      "text/plain": [
       "HBox(children=(FloatProgress(value=0.0, description='Batches', max=17.0, style=ProgressStyle(description_width…"
      ]
     },
     "metadata": {},
     "output_type": "display_data"
    },
    {
     "name": "stdout",
     "output_type": "stream",
     "text": [
      "\n",
      "Epoch =  14 Loss = 0.432670 LR = 0.00004877\n"
     ]
    },
    {
     "data": {
      "application/vnd.jupyter.widget-view+json": {
       "model_id": "fe050189072d457791ff469875736a03",
       "version_major": 2,
       "version_minor": 0
      },
      "text/plain": [
       "HBox(children=(FloatProgress(value=0.0, description='Batches', max=17.0, style=ProgressStyle(description_width…"
      ]
     },
     "metadata": {},
     "output_type": "display_data"
    },
    {
     "name": "stdout",
     "output_type": "stream",
     "text": [
      "\n",
      "Epoch =  15 Loss = 0.419983 LR = 0.00004995\n"
     ]
    },
    {
     "data": {
      "application/vnd.jupyter.widget-view+json": {
       "model_id": "e4d29345771e47cdb83375c3eaacab8b",
       "version_major": 2,
       "version_minor": 0
      },
      "text/plain": [
       "HBox(children=(FloatProgress(value=0.0, description='Generate Predictions', max=34.0, style=ProgressStyle(desc…"
      ]
     },
     "metadata": {},
     "output_type": "display_data"
    },
    {
     "name": "stdout",
     "output_type": "stream",
     "text": [
      "\n"
     ]
    },
    {
     "data": {
      "application/vnd.jupyter.widget-view+json": {
       "model_id": "c93fbb10cb55420dae6aaae3a95bdc31",
       "version_major": 2,
       "version_minor": 0
      },
      "text/plain": [
       "HBox(children=(FloatProgress(value=0.0, description='Generate Predictions', max=2.0, style=ProgressStyle(descr…"
      ]
     },
     "metadata": {},
     "output_type": "display_data"
    },
    {
     "name": "stdout",
     "output_type": "stream",
     "text": [
      "\n"
     ]
    },
    {
     "data": {
      "text/html": [
       "<div>\n",
       "<style scoped>\n",
       "    .dataframe tbody tr th:only-of-type {\n",
       "        vertical-align: middle;\n",
       "    }\n",
       "\n",
       "    .dataframe tbody tr th {\n",
       "        vertical-align: top;\n",
       "    }\n",
       "\n",
       "    .dataframe thead tr th {\n",
       "        text-align: left;\n",
       "    }\n",
       "\n",
       "    .dataframe thead tr:last-of-type th {\n",
       "        text-align: right;\n",
       "    }\n",
       "</style>\n",
       "<table border=\"1\" class=\"dataframe\">\n",
       "  <thead>\n",
       "    <tr>\n",
       "      <th></th>\n",
       "      <th colspan=\"2\" halign=\"left\">Proba</th>\n",
       "      <th colspan=\"2\" halign=\"left\">Preds</th>\n",
       "    </tr>\n",
       "    <tr>\n",
       "      <th></th>\n",
       "      <th>min</th>\n",
       "      <th>max</th>\n",
       "      <th>min</th>\n",
       "      <th>max</th>\n",
       "    </tr>\n",
       "    <tr>\n",
       "      <th>Labels</th>\n",
       "      <th></th>\n",
       "      <th></th>\n",
       "      <th></th>\n",
       "      <th></th>\n",
       "    </tr>\n",
       "  </thead>\n",
       "  <tbody>\n",
       "    <tr>\n",
       "      <th>0</th>\n",
       "      <td>0.300</td>\n",
       "      <td>0.764</td>\n",
       "      <td>0</td>\n",
       "      <td>1</td>\n",
       "    </tr>\n",
       "    <tr>\n",
       "      <th>1</th>\n",
       "      <td>0.348</td>\n",
       "      <td>0.760</td>\n",
       "      <td>0</td>\n",
       "      <td>1</td>\n",
       "    </tr>\n",
       "  </tbody>\n",
       "</table>\n",
       "</div>"
      ],
      "text/plain": [
       "       Proba       Preds    \n",
       "         min   max   min max\n",
       "Labels                      \n",
       "0      0.300 0.764     0   1\n",
       "1      0.348 0.760     0   1"
      ]
     },
     "metadata": {},
     "output_type": "display_data"
    },
    {
     "data": {
      "text/html": [
       "<div>\n",
       "<style scoped>\n",
       "    .dataframe tbody tr th:only-of-type {\n",
       "        vertical-align: middle;\n",
       "    }\n",
       "\n",
       "    .dataframe tbody tr th {\n",
       "        vertical-align: top;\n",
       "    }\n",
       "\n",
       "    .dataframe thead th {\n",
       "        text-align: right;\n",
       "    }\n",
       "</style>\n",
       "<table border=\"1\" class=\"dataframe\">\n",
       "  <thead>\n",
       "    <tr style=\"text-align: right;\">\n",
       "      <th></th>\n",
       "      <th>Proba</th>\n",
       "      <th>Probas</th>\n",
       "      <th>Preds</th>\n",
       "      <th>Labels</th>\n",
       "      <th>Proba</th>\n",
       "      <th>Probas</th>\n",
       "      <th>Preds</th>\n",
       "      <th>Labels</th>\n",
       "      <th>Proba</th>\n",
       "      <th>Probas</th>\n",
       "      <th>Preds</th>\n",
       "      <th>Labels</th>\n",
       "    </tr>\n",
       "  </thead>\n",
       "  <tbody>\n",
       "    <tr>\n",
       "      <th>0</th>\n",
       "      <td>0.488</td>\n",
       "      <td>[0.5115839242935181, 0.48841601610183716]</td>\n",
       "      <td>0</td>\n",
       "      <td>0</td>\n",
       "      <td>0.455</td>\n",
       "      <td>[0.5448110699653625, 0.45518893003463745]</td>\n",
       "      <td>0</td>\n",
       "      <td>1</td>\n",
       "      <td>0.407</td>\n",
       "      <td>[0.592654287815094, 0.4073456823825836]</td>\n",
       "      <td>0</td>\n",
       "      <td>1</td>\n",
       "    </tr>\n",
       "    <tr>\n",
       "      <th>1</th>\n",
       "      <td>0.533</td>\n",
       "      <td>[0.46651238203048706, 0.5334875583648682]</td>\n",
       "      <td>1</td>\n",
       "      <td>1</td>\n",
       "      <td>0.485</td>\n",
       "      <td>[0.5147520303726196, 0.48524796962738037]</td>\n",
       "      <td>0</td>\n",
       "      <td>1</td>\n",
       "      <td>0.526</td>\n",
       "      <td>[0.47350165247917175, 0.5264983177185059]</td>\n",
       "      <td>1</td>\n",
       "      <td>1</td>\n",
       "    </tr>\n",
       "    <tr>\n",
       "      <th>2</th>\n",
       "      <td>0.648</td>\n",
       "      <td>[0.3515700399875641, 0.6484299302101135]</td>\n",
       "      <td>1</td>\n",
       "      <td>0</td>\n",
       "      <td>0.428</td>\n",
       "      <td>[0.5720463991165161, 0.4279536306858063]</td>\n",
       "      <td>0</td>\n",
       "      <td>0</td>\n",
       "      <td>0.508</td>\n",
       "      <td>[0.4922139644622803, 0.5077860355377197]</td>\n",
       "      <td>1</td>\n",
       "      <td>1</td>\n",
       "    </tr>\n",
       "    <tr>\n",
       "      <th>3</th>\n",
       "      <td>0.426</td>\n",
       "      <td>[0.5744873285293579, 0.4255126714706421]</td>\n",
       "      <td>0</td>\n",
       "      <td>1</td>\n",
       "      <td>0.431</td>\n",
       "      <td>[0.5686672925949097, 0.43133264780044556]</td>\n",
       "      <td>0</td>\n",
       "      <td>0</td>\n",
       "      <td>0.465</td>\n",
       "      <td>[0.5348242521286011, 0.4651757478713989]</td>\n",
       "      <td>0</td>\n",
       "      <td>0</td>\n",
       "    </tr>\n",
       "    <tr>\n",
       "      <th>4</th>\n",
       "      <td>0.572</td>\n",
       "      <td>[0.42794233560562134, 0.5720576643943787]</td>\n",
       "      <td>1</td>\n",
       "      <td>0</td>\n",
       "      <td>0.518</td>\n",
       "      <td>[0.4822366237640381, 0.5177633762359619]</td>\n",
       "      <td>1</td>\n",
       "      <td>0</td>\n",
       "      <td>0.446</td>\n",
       "      <td>[0.5539174675941467, 0.44608253240585327]</td>\n",
       "      <td>0</td>\n",
       "      <td>0</td>\n",
       "    </tr>\n",
       "  </tbody>\n",
       "</table>\n",
       "</div>"
      ],
      "text/plain": [
       "  Proba                                     Probas Preds Labels Proba  \\\n",
       "0 0.488  [0.5115839242935181, 0.48841601610183716]     0      0 0.455   \n",
       "1 0.533  [0.46651238203048706, 0.5334875583648682]     1      1 0.485   \n",
       "2 0.648   [0.3515700399875641, 0.6484299302101135]     1      0 0.428   \n",
       "3 0.426   [0.5744873285293579, 0.4255126714706421]     0      1 0.431   \n",
       "4 0.572  [0.42794233560562134, 0.5720576643943787]     1      0 0.518   \n",
       "\n",
       "                                      Probas Preds Labels Proba  \\\n",
       "0  [0.5448110699653625, 0.45518893003463745]     0      1 0.407   \n",
       "1  [0.5147520303726196, 0.48524796962738037]     0      1 0.526   \n",
       "2   [0.5720463991165161, 0.4279536306858063]     0      0 0.508   \n",
       "3  [0.5686672925949097, 0.43133264780044556]     0      0 0.465   \n",
       "4   [0.4822366237640381, 0.5177633762359619]     1      0 0.446   \n",
       "\n",
       "                                      Probas Preds Labels  \n",
       "0    [0.592654287815094, 0.4073456823825836]     0      1  \n",
       "1  [0.47350165247917175, 0.5264983177185059]     1      1  \n",
       "2   [0.4922139644622803, 0.5077860355377197]     1      1  \n",
       "3   [0.5348242521286011, 0.4651757478713989]     0      0  \n",
       "4  [0.5539174675941467, 0.44608253240585327]     0      0  "
      ]
     },
     "metadata": {},
     "output_type": "display_data"
    },
    {
     "name": "stdout",
     "output_type": "stream",
     "text": [
      "scores =  {'map': '0.5823', 'acc': '0.5800', 'auc': '0.5831'}\n",
      "Epoch =  15 Train = 0.709907 Val = 0.583136\n"
     ]
    },
    {
     "data": {
      "application/vnd.jupyter.widget-view+json": {
       "model_id": "17b7e5b453274ab9ab3706c704020336",
       "version_major": 2,
       "version_minor": 0
      },
      "text/plain": [
       "HBox(children=(FloatProgress(value=0.0, description='Batches', max=17.0, style=ProgressStyle(description_width…"
      ]
     },
     "metadata": {},
     "output_type": "display_data"
    },
    {
     "name": "stdout",
     "output_type": "stream",
     "text": [
      "\n",
      "Epoch =  16 Loss = 0.402333 LR = 0.00004970\n"
     ]
    },
    {
     "data": {
      "application/vnd.jupyter.widget-view+json": {
       "model_id": "afdf16a15ce8432d9956b4f6dba822e2",
       "version_major": 2,
       "version_minor": 0
      },
      "text/plain": [
       "HBox(children=(FloatProgress(value=0.0, description='Batches', max=17.0, style=ProgressStyle(description_width…"
      ]
     },
     "metadata": {},
     "output_type": "display_data"
    },
    {
     "name": "stdout",
     "output_type": "stream",
     "text": [
      "\n",
      "Epoch =  17 Loss = 0.402363 LR = 0.00004924\n"
     ]
    },
    {
     "data": {
      "application/vnd.jupyter.widget-view+json": {
       "model_id": "d98d06bc63a64a5e935f5a670f60f8c1",
       "version_major": 2,
       "version_minor": 0
      },
      "text/plain": [
       "HBox(children=(FloatProgress(value=0.0, description='Batches', max=17.0, style=ProgressStyle(description_width…"
      ]
     },
     "metadata": {},
     "output_type": "display_data"
    },
    {
     "name": "stdout",
     "output_type": "stream",
     "text": [
      "\n",
      "Epoch =  18 Loss = 0.389431 LR = 0.00004856\n"
     ]
    },
    {
     "data": {
      "application/vnd.jupyter.widget-view+json": {
       "model_id": "f6e6424ffc394d5baac432d5358620f6",
       "version_major": 2,
       "version_minor": 0
      },
      "text/plain": [
       "HBox(children=(FloatProgress(value=0.0, description='Batches', max=17.0, style=ProgressStyle(description_width…"
      ]
     },
     "metadata": {},
     "output_type": "display_data"
    },
    {
     "name": "stdout",
     "output_type": "stream",
     "text": [
      "\n",
      "Epoch =  19 Loss = 0.385181 LR = 0.00004768\n"
     ]
    },
    {
     "data": {
      "application/vnd.jupyter.widget-view+json": {
       "model_id": "dae2ef600d6a4a1eae583be708837726",
       "version_major": 2,
       "version_minor": 0
      },
      "text/plain": [
       "HBox(children=(FloatProgress(value=0.0, description='Batches', max=17.0, style=ProgressStyle(description_width…"
      ]
     },
     "metadata": {},
     "output_type": "display_data"
    },
    {
     "name": "stdout",
     "output_type": "stream",
     "text": [
      "\n",
      "Epoch =  20 Loss = 0.396081 LR = 0.00004660\n"
     ]
    },
    {
     "data": {
      "application/vnd.jupyter.widget-view+json": {
       "model_id": "1783aa3ac2a64bcf824b96e396b5aeef",
       "version_major": 2,
       "version_minor": 0
      },
      "text/plain": [
       "HBox(children=(FloatProgress(value=0.0, description='Batches', max=17.0, style=ProgressStyle(description_width…"
      ]
     },
     "metadata": {},
     "output_type": "display_data"
    },
    {
     "name": "stdout",
     "output_type": "stream",
     "text": [
      "\n",
      "Epoch =  21 Loss = 0.382487 LR = 0.00004534\n"
     ]
    },
    {
     "data": {
      "application/vnd.jupyter.widget-view+json": {
       "model_id": "385b6b17817b414eb521d58f7b774e72",
       "version_major": 2,
       "version_minor": 0
      },
      "text/plain": [
       "HBox(children=(FloatProgress(value=0.0, description='Batches', max=17.0, style=ProgressStyle(description_width…"
      ]
     },
     "metadata": {},
     "output_type": "display_data"
    },
    {
     "name": "stdout",
     "output_type": "stream",
     "text": [
      "\n",
      "Epoch =  22 Loss = 0.389811 LR = 0.00004389\n"
     ]
    },
    {
     "data": {
      "application/vnd.jupyter.widget-view+json": {
       "model_id": "36ba4cd4f4c94be3a0ca74927f070b2f",
       "version_major": 2,
       "version_minor": 0
      },
      "text/plain": [
       "HBox(children=(FloatProgress(value=0.0, description='Batches', max=17.0, style=ProgressStyle(description_width…"
      ]
     },
     "metadata": {},
     "output_type": "display_data"
    },
    {
     "name": "stdout",
     "output_type": "stream",
     "text": [
      "\n",
      "Epoch =  23 Loss = 0.387746 LR = 0.00004229\n"
     ]
    },
    {
     "data": {
      "application/vnd.jupyter.widget-view+json": {
       "model_id": "7019f4efbf614cc0a7045f41c460e1b6",
       "version_major": 2,
       "version_minor": 0
      },
      "text/plain": [
       "HBox(children=(FloatProgress(value=0.0, description='Batches', max=17.0, style=ProgressStyle(description_width…"
      ]
     },
     "metadata": {},
     "output_type": "display_data"
    },
    {
     "name": "stdout",
     "output_type": "stream",
     "text": [
      "\n",
      "Epoch =  24 Loss = 0.378375 LR = 0.00004053\n"
     ]
    },
    {
     "data": {
      "application/vnd.jupyter.widget-view+json": {
       "model_id": "b07dcc6ba484428ca86a6b3f37d381a6",
       "version_major": 2,
       "version_minor": 0
      },
      "text/plain": [
       "HBox(children=(FloatProgress(value=0.0, description='Batches', max=17.0, style=ProgressStyle(description_width…"
      ]
     },
     "metadata": {},
     "output_type": "display_data"
    },
    {
     "name": "stdout",
     "output_type": "stream",
     "text": [
      "\n",
      "Epoch =  25 Loss = 0.372108 LR = 0.00003863\n"
     ]
    },
    {
     "data": {
      "application/vnd.jupyter.widget-view+json": {
       "model_id": "8e5f29dc76e84320a6f5824039f58a05",
       "version_major": 2,
       "version_minor": 0
      },
      "text/plain": [
       "HBox(children=(FloatProgress(value=0.0, description='Batches', max=17.0, style=ProgressStyle(description_width…"
      ]
     },
     "metadata": {},
     "output_type": "display_data"
    },
    {
     "name": "stdout",
     "output_type": "stream",
     "text": [
      "\n",
      "Epoch =  26 Loss = 0.375873 LR = 0.00003662\n"
     ]
    },
    {
     "data": {
      "application/vnd.jupyter.widget-view+json": {
       "model_id": "99ba8fc27e594d8f99fd48ae67ef46ad",
       "version_major": 2,
       "version_minor": 0
      },
      "text/plain": [
       "HBox(children=(FloatProgress(value=0.0, description='Batches', max=17.0, style=ProgressStyle(description_width…"
      ]
     },
     "metadata": {},
     "output_type": "display_data"
    },
    {
     "name": "stdout",
     "output_type": "stream",
     "text": [
      "\n",
      "Epoch =  27 Loss = 0.387211 LR = 0.00003450\n"
     ]
    },
    {
     "data": {
      "application/vnd.jupyter.widget-view+json": {
       "model_id": "0cd505dc3eef46d7bea90e85cf2d4821",
       "version_major": 2,
       "version_minor": 0
      },
      "text/plain": [
       "HBox(children=(FloatProgress(value=0.0, description='Batches', max=17.0, style=ProgressStyle(description_width…"
      ]
     },
     "metadata": {},
     "output_type": "display_data"
    },
    {
     "name": "stdout",
     "output_type": "stream",
     "text": [
      "\n",
      "Epoch =  28 Loss = 0.364837 LR = 0.00003231\n"
     ]
    },
    {
     "data": {
      "application/vnd.jupyter.widget-view+json": {
       "model_id": "9404286f3b934d4990d76a269850ea4c",
       "version_major": 2,
       "version_minor": 0
      },
      "text/plain": [
       "HBox(children=(FloatProgress(value=0.0, description='Batches', max=17.0, style=ProgressStyle(description_width…"
      ]
     },
     "metadata": {},
     "output_type": "display_data"
    },
    {
     "name": "stdout",
     "output_type": "stream",
     "text": [
      "\n",
      "Epoch =  29 Loss = 0.370296 LR = 0.00003005\n"
     ]
    },
    {
     "data": {
      "application/vnd.jupyter.widget-view+json": {
       "model_id": "0fb1e9db03654dfc8a6b1d65d46e5ada",
       "version_major": 2,
       "version_minor": 0
      },
      "text/plain": [
       "HBox(children=(FloatProgress(value=0.0, description='Batches', max=17.0, style=ProgressStyle(description_width…"
      ]
     },
     "metadata": {},
     "output_type": "display_data"
    },
    {
     "name": "stdout",
     "output_type": "stream",
     "text": [
      "\n",
      "Epoch =  30 Loss = 0.365642 LR = 0.00002774\n"
     ]
    },
    {
     "data": {
      "application/vnd.jupyter.widget-view+json": {
       "model_id": "85bf0363d7d6437cbac78552784472fb",
       "version_major": 2,
       "version_minor": 0
      },
      "text/plain": [
       "HBox(children=(FloatProgress(value=0.0, description='Batches', max=17.0, style=ProgressStyle(description_width…"
      ]
     },
     "metadata": {},
     "output_type": "display_data"
    },
    {
     "name": "stdout",
     "output_type": "stream",
     "text": [
      "\n",
      "Epoch =  31 Loss = 0.359036 LR = 0.00002541\n"
     ]
    },
    {
     "data": {
      "application/vnd.jupyter.widget-view+json": {
       "model_id": "767332adc51a4ba09af8d0a70cb3405a",
       "version_major": 2,
       "version_minor": 0
      },
      "text/plain": [
       "HBox(children=(FloatProgress(value=0.0, description='Batches', max=17.0, style=ProgressStyle(description_width…"
      ]
     },
     "metadata": {},
     "output_type": "display_data"
    },
    {
     "name": "stdout",
     "output_type": "stream",
     "text": [
      "\n",
      "Epoch =  32 Loss = 0.363438 LR = 0.00002308\n"
     ]
    },
    {
     "data": {
      "application/vnd.jupyter.widget-view+json": {
       "model_id": "5061a5836afa48fda99aa12834c76ed1",
       "version_major": 2,
       "version_minor": 0
      },
      "text/plain": [
       "HBox(children=(FloatProgress(value=0.0, description='Batches', max=17.0, style=ProgressStyle(description_width…"
      ]
     },
     "metadata": {},
     "output_type": "display_data"
    },
    {
     "name": "stdout",
     "output_type": "stream",
     "text": [
      "Exception for:  keyboard | '' '' | ['keyboard'] argument of type 'NoneType' is not iterable\n",
      "\n",
      "Epoch =  33 Loss = 0.361333 LR = 0.00002076\n"
     ]
    },
    {
     "data": {
      "application/vnd.jupyter.widget-view+json": {
       "model_id": "c00eed0ab1934bbdb88fb52eaa46145e",
       "version_major": 2,
       "version_minor": 0
      },
      "text/plain": [
       "HBox(children=(FloatProgress(value=0.0, description='Batches', max=17.0, style=ProgressStyle(description_width…"
      ]
     },
     "metadata": {},
     "output_type": "display_data"
    },
    {
     "name": "stdout",
     "output_type": "stream",
     "text": [
      "\n",
      "Epoch =  34 Loss = 0.373662 LR = 0.00001849\n"
     ]
    },
    {
     "data": {
      "application/vnd.jupyter.widget-view+json": {
       "model_id": "73118a41178c4d1585dbafd259523742",
       "version_major": 2,
       "version_minor": 0
      },
      "text/plain": [
       "HBox(children=(FloatProgress(value=0.0, description='Generate Predictions', max=34.0, style=ProgressStyle(desc…"
      ]
     },
     "metadata": {},
     "output_type": "display_data"
    },
    {
     "name": "stdout",
     "output_type": "stream",
     "text": [
      "\n"
     ]
    },
    {
     "data": {
      "application/vnd.jupyter.widget-view+json": {
       "model_id": "b861ebd60b2c4fd2be5116496843661c",
       "version_major": 2,
       "version_minor": 0
      },
      "text/plain": [
       "HBox(children=(FloatProgress(value=0.0, description='Generate Predictions', max=2.0, style=ProgressStyle(descr…"
      ]
     },
     "metadata": {},
     "output_type": "display_data"
    },
    {
     "name": "stdout",
     "output_type": "stream",
     "text": [
      "\n"
     ]
    },
    {
     "data": {
      "text/html": [
       "<div>\n",
       "<style scoped>\n",
       "    .dataframe tbody tr th:only-of-type {\n",
       "        vertical-align: middle;\n",
       "    }\n",
       "\n",
       "    .dataframe tbody tr th {\n",
       "        vertical-align: top;\n",
       "    }\n",
       "\n",
       "    .dataframe thead tr th {\n",
       "        text-align: left;\n",
       "    }\n",
       "\n",
       "    .dataframe thead tr:last-of-type th {\n",
       "        text-align: right;\n",
       "    }\n",
       "</style>\n",
       "<table border=\"1\" class=\"dataframe\">\n",
       "  <thead>\n",
       "    <tr>\n",
       "      <th></th>\n",
       "      <th colspan=\"2\" halign=\"left\">Proba</th>\n",
       "      <th colspan=\"2\" halign=\"left\">Preds</th>\n",
       "    </tr>\n",
       "    <tr>\n",
       "      <th></th>\n",
       "      <th>min</th>\n",
       "      <th>max</th>\n",
       "      <th>min</th>\n",
       "      <th>max</th>\n",
       "    </tr>\n",
       "    <tr>\n",
       "      <th>Labels</th>\n",
       "      <th></th>\n",
       "      <th></th>\n",
       "      <th></th>\n",
       "      <th></th>\n",
       "    </tr>\n",
       "  </thead>\n",
       "  <tbody>\n",
       "    <tr>\n",
       "      <th>0</th>\n",
       "      <td>0.080</td>\n",
       "      <td>0.718</td>\n",
       "      <td>0</td>\n",
       "      <td>1</td>\n",
       "    </tr>\n",
       "    <tr>\n",
       "      <th>1</th>\n",
       "      <td>0.118</td>\n",
       "      <td>0.725</td>\n",
       "      <td>0</td>\n",
       "      <td>1</td>\n",
       "    </tr>\n",
       "  </tbody>\n",
       "</table>\n",
       "</div>"
      ],
      "text/plain": [
       "       Proba       Preds    \n",
       "         min   max   min max\n",
       "Labels                      \n",
       "0      0.080 0.718     0   1\n",
       "1      0.118 0.725     0   1"
      ]
     },
     "metadata": {},
     "output_type": "display_data"
    },
    {
     "data": {
      "text/html": [
       "<div>\n",
       "<style scoped>\n",
       "    .dataframe tbody tr th:only-of-type {\n",
       "        vertical-align: middle;\n",
       "    }\n",
       "\n",
       "    .dataframe tbody tr th {\n",
       "        vertical-align: top;\n",
       "    }\n",
       "\n",
       "    .dataframe thead th {\n",
       "        text-align: right;\n",
       "    }\n",
       "</style>\n",
       "<table border=\"1\" class=\"dataframe\">\n",
       "  <thead>\n",
       "    <tr style=\"text-align: right;\">\n",
       "      <th></th>\n",
       "      <th>Proba</th>\n",
       "      <th>Probas</th>\n",
       "      <th>Preds</th>\n",
       "      <th>Labels</th>\n",
       "      <th>Proba</th>\n",
       "      <th>Probas</th>\n",
       "      <th>Preds</th>\n",
       "      <th>Labels</th>\n",
       "      <th>Proba</th>\n",
       "      <th>Probas</th>\n",
       "      <th>Preds</th>\n",
       "      <th>Labels</th>\n",
       "    </tr>\n",
       "  </thead>\n",
       "  <tbody>\n",
       "    <tr>\n",
       "      <th>0</th>\n",
       "      <td>0.341</td>\n",
       "      <td>[0.6593551635742188, 0.34064480662345886]</td>\n",
       "      <td>0</td>\n",
       "      <td>1</td>\n",
       "      <td>0.308</td>\n",
       "      <td>[0.6915073990821838, 0.30849260091781616]</td>\n",
       "      <td>0</td>\n",
       "      <td>1</td>\n",
       "      <td>0.223</td>\n",
       "      <td>[0.7771186828613281, 0.22288130223751068]</td>\n",
       "      <td>0</td>\n",
       "      <td>0</td>\n",
       "    </tr>\n",
       "    <tr>\n",
       "      <th>1</th>\n",
       "      <td>0.290</td>\n",
       "      <td>[0.7097020149230957, 0.2902980148792267]</td>\n",
       "      <td>0</td>\n",
       "      <td>1</td>\n",
       "      <td>0.399</td>\n",
       "      <td>[0.6014572381973267, 0.3985428214073181]</td>\n",
       "      <td>0</td>\n",
       "      <td>1</td>\n",
       "      <td>0.725</td>\n",
       "      <td>[0.2745033800601959, 0.7254965901374817]</td>\n",
       "      <td>1</td>\n",
       "      <td>1</td>\n",
       "    </tr>\n",
       "    <tr>\n",
       "      <th>2</th>\n",
       "      <td>0.489</td>\n",
       "      <td>[0.5106979608535767, 0.48930200934410095]</td>\n",
       "      <td>0</td>\n",
       "      <td>0</td>\n",
       "      <td>0.345</td>\n",
       "      <td>[0.6547924280166626, 0.345207542181015]</td>\n",
       "      <td>0</td>\n",
       "      <td>1</td>\n",
       "      <td>0.288</td>\n",
       "      <td>[0.711603045463562, 0.288396954536438]</td>\n",
       "      <td>0</td>\n",
       "      <td>0</td>\n",
       "    </tr>\n",
       "    <tr>\n",
       "      <th>3</th>\n",
       "      <td>0.519</td>\n",
       "      <td>[0.4814039468765259, 0.5185960531234741]</td>\n",
       "      <td>1</td>\n",
       "      <td>1</td>\n",
       "      <td>0.325</td>\n",
       "      <td>[0.6745779514312744, 0.3254220485687256]</td>\n",
       "      <td>0</td>\n",
       "      <td>0</td>\n",
       "      <td>0.439</td>\n",
       "      <td>[0.5608513355255127, 0.4391486644744873]</td>\n",
       "      <td>0</td>\n",
       "      <td>1</td>\n",
       "    </tr>\n",
       "    <tr>\n",
       "      <th>4</th>\n",
       "      <td>0.232</td>\n",
       "      <td>[0.7677463293075562, 0.23225365579128265]</td>\n",
       "      <td>0</td>\n",
       "      <td>0</td>\n",
       "      <td>0.314</td>\n",
       "      <td>[0.685692548751831, 0.31430739164352417]</td>\n",
       "      <td>0</td>\n",
       "      <td>1</td>\n",
       "      <td>0.408</td>\n",
       "      <td>[0.5922837257385254, 0.40771618485450745]</td>\n",
       "      <td>0</td>\n",
       "      <td>1</td>\n",
       "    </tr>\n",
       "  </tbody>\n",
       "</table>\n",
       "</div>"
      ],
      "text/plain": [
       "  Proba                                     Probas Preds Labels Proba  \\\n",
       "0 0.341  [0.6593551635742188, 0.34064480662345886]     0      1 0.308   \n",
       "1 0.290   [0.7097020149230957, 0.2902980148792267]     0      1 0.399   \n",
       "2 0.489  [0.5106979608535767, 0.48930200934410095]     0      0 0.345   \n",
       "3 0.519   [0.4814039468765259, 0.5185960531234741]     1      1 0.325   \n",
       "4 0.232  [0.7677463293075562, 0.23225365579128265]     0      0 0.314   \n",
       "\n",
       "                                      Probas Preds Labels Proba  \\\n",
       "0  [0.6915073990821838, 0.30849260091781616]     0      1 0.223   \n",
       "1   [0.6014572381973267, 0.3985428214073181]     0      1 0.725   \n",
       "2    [0.6547924280166626, 0.345207542181015]     0      1 0.288   \n",
       "3   [0.6745779514312744, 0.3254220485687256]     0      0 0.439   \n",
       "4   [0.685692548751831, 0.31430739164352417]     0      1 0.408   \n",
       "\n",
       "                                      Probas Preds Labels  \n",
       "0  [0.7771186828613281, 0.22288130223751068]     0      0  \n",
       "1   [0.2745033800601959, 0.7254965901374817]     1      1  \n",
       "2     [0.711603045463562, 0.288396954536438]     0      0  \n",
       "3   [0.5608513355255127, 0.4391486644744873]     0      1  \n",
       "4  [0.5922837257385254, 0.40771618485450745]     0      1  "
      ]
     },
     "metadata": {},
     "output_type": "display_data"
    },
    {
     "name": "stdout",
     "output_type": "stream",
     "text": [
      "scores =  {'map': '0.5987', 'acc': '0.5300', 'auc': '0.6180'}\n",
      "Epoch =  34 Train = 0.758743 Val = 0.618008\n"
     ]
    },
    {
     "data": {
      "application/vnd.jupyter.widget-view+json": {
       "model_id": "4646d74d79264b8894b263a2ccdc7819",
       "version_major": 2,
       "version_minor": 0
      },
      "text/plain": [
       "HBox(children=(FloatProgress(value=0.0, description='Batches', max=17.0, style=ProgressStyle(description_width…"
      ]
     },
     "metadata": {},
     "output_type": "display_data"
    },
    {
     "name": "stdout",
     "output_type": "stream",
     "text": [
      "\n",
      "Epoch =  35 Loss = 0.364738 LR = 0.00001626\n"
     ]
    },
    {
     "data": {
      "application/vnd.jupyter.widget-view+json": {
       "model_id": "517b33ecb3904ff6a5b9dd017ab578ba",
       "version_major": 2,
       "version_minor": 0
      },
      "text/plain": [
       "HBox(children=(FloatProgress(value=0.0, description='Batches', max=17.0, style=ProgressStyle(description_width…"
      ]
     },
     "metadata": {},
     "output_type": "display_data"
    },
    {
     "name": "stdout",
     "output_type": "stream",
     "text": [
      "Exception for:  keyboard | ' ' | ['char_delete' 'keyboard'] argument of type 'NoneType' is not iterable\n",
      "\n",
      "Epoch =  36 Loss = 0.358344 LR = 0.00001412\n"
     ]
    },
    {
     "data": {
      "application/vnd.jupyter.widget-view+json": {
       "model_id": "67336074cc1e4a03993b0209d9e58588",
       "version_major": 2,
       "version_minor": 0
      },
      "text/plain": [
       "HBox(children=(FloatProgress(value=0.0, description='Batches', max=17.0, style=ProgressStyle(description_width…"
      ]
     },
     "metadata": {},
     "output_type": "display_data"
    },
    {
     "name": "stdout",
     "output_type": "stream",
     "text": [
      "\n",
      "Epoch =  37 Loss = 0.364073 LR = 0.00001207\n"
     ]
    },
    {
     "data": {
      "application/vnd.jupyter.widget-view+json": {
       "model_id": "4acd6ef2b1184eaf93fa287e6e179d2d",
       "version_major": 2,
       "version_minor": 0
      },
      "text/plain": [
       "HBox(children=(FloatProgress(value=0.0, description='Batches', max=17.0, style=ProgressStyle(description_width…"
      ]
     },
     "metadata": {},
     "output_type": "display_data"
    },
    {
     "name": "stdout",
     "output_type": "stream",
     "text": [
      "Exception for:  keyboard | '' '' | ['keyboard'] argument of type 'NoneType' is not iterable\n",
      "\n",
      "Epoch =  38 Loss = 0.350621 LR = 0.00001013\n"
     ]
    },
    {
     "data": {
      "application/vnd.jupyter.widget-view+json": {
       "model_id": "808a731b0c9e4b408f32c7ef622be80f",
       "version_major": 2,
       "version_minor": 0
      },
      "text/plain": [
       "HBox(children=(FloatProgress(value=0.0, description='Batches', max=17.0, style=ProgressStyle(description_width…"
      ]
     },
     "metadata": {},
     "output_type": "display_data"
    },
    {
     "name": "stdout",
     "output_type": "stream",
     "text": [
      "\n",
      "Epoch =  39 Loss = 0.355293 LR = 0.00000832\n"
     ]
    },
    {
     "data": {
      "application/vnd.jupyter.widget-view+json": {
       "model_id": "7aaec41e51d546ddaf801f95e3eaba84",
       "version_major": 2,
       "version_minor": 0
      },
      "text/plain": [
       "HBox(children=(FloatProgress(value=0.0, description='Batches', max=17.0, style=ProgressStyle(description_width…"
      ]
     },
     "metadata": {},
     "output_type": "display_data"
    },
    {
     "name": "stdout",
     "output_type": "stream",
     "text": [
      "\n",
      "Epoch =  40 Loss = 0.354560 LR = 0.00000666\n"
     ]
    },
    {
     "data": {
      "application/vnd.jupyter.widget-view+json": {
       "model_id": "8b0e427d50b14949b0c6de8f2e63a40f",
       "version_major": 2,
       "version_minor": 0
      },
      "text/plain": [
       "HBox(children=(FloatProgress(value=0.0, description='Batches', max=17.0, style=ProgressStyle(description_width…"
      ]
     },
     "metadata": {},
     "output_type": "display_data"
    },
    {
     "name": "stdout",
     "output_type": "stream",
     "text": [
      "\n",
      "Epoch =  41 Loss = 0.355734 LR = 0.00000515\n"
     ]
    },
    {
     "data": {
      "application/vnd.jupyter.widget-view+json": {
       "model_id": "07409a90d03d4a46ad4d578d94660ccc",
       "version_major": 2,
       "version_minor": 0
      },
      "text/plain": [
       "HBox(children=(FloatProgress(value=0.0, description='Batches', max=17.0, style=ProgressStyle(description_width…"
      ]
     },
     "metadata": {},
     "output_type": "display_data"
    },
    {
     "name": "stdout",
     "output_type": "stream",
     "text": [
      "\n",
      "Epoch =  42 Loss = 0.354164 LR = 0.00000382\n"
     ]
    },
    {
     "data": {
      "application/vnd.jupyter.widget-view+json": {
       "model_id": "980b3c1ca29144c9ab868d12a2d24376",
       "version_major": 2,
       "version_minor": 0
      },
      "text/plain": [
       "HBox(children=(FloatProgress(value=0.0, description='Generate Predictions', max=34.0, style=ProgressStyle(desc…"
      ]
     },
     "metadata": {},
     "output_type": "display_data"
    },
    {
     "name": "stdout",
     "output_type": "stream",
     "text": [
      "\n"
     ]
    },
    {
     "data": {
      "application/vnd.jupyter.widget-view+json": {
       "model_id": "a89b2beb386d448aaa730e723cd1d9df",
       "version_major": 2,
       "version_minor": 0
      },
      "text/plain": [
       "HBox(children=(FloatProgress(value=0.0, description='Generate Predictions', max=2.0, style=ProgressStyle(descr…"
      ]
     },
     "metadata": {},
     "output_type": "display_data"
    },
    {
     "name": "stdout",
     "output_type": "stream",
     "text": [
      "\n"
     ]
    },
    {
     "data": {
      "text/html": [
       "<div>\n",
       "<style scoped>\n",
       "    .dataframe tbody tr th:only-of-type {\n",
       "        vertical-align: middle;\n",
       "    }\n",
       "\n",
       "    .dataframe tbody tr th {\n",
       "        vertical-align: top;\n",
       "    }\n",
       "\n",
       "    .dataframe thead tr th {\n",
       "        text-align: left;\n",
       "    }\n",
       "\n",
       "    .dataframe thead tr:last-of-type th {\n",
       "        text-align: right;\n",
       "    }\n",
       "</style>\n",
       "<table border=\"1\" class=\"dataframe\">\n",
       "  <thead>\n",
       "    <tr>\n",
       "      <th></th>\n",
       "      <th colspan=\"2\" halign=\"left\">Proba</th>\n",
       "      <th colspan=\"2\" halign=\"left\">Preds</th>\n",
       "    </tr>\n",
       "    <tr>\n",
       "      <th></th>\n",
       "      <th>min</th>\n",
       "      <th>max</th>\n",
       "      <th>min</th>\n",
       "      <th>max</th>\n",
       "    </tr>\n",
       "    <tr>\n",
       "      <th>Labels</th>\n",
       "      <th></th>\n",
       "      <th></th>\n",
       "      <th></th>\n",
       "      <th></th>\n",
       "    </tr>\n",
       "  </thead>\n",
       "  <tbody>\n",
       "    <tr>\n",
       "      <th>0</th>\n",
       "      <td>0.042</td>\n",
       "      <td>0.715</td>\n",
       "      <td>0</td>\n",
       "      <td>1</td>\n",
       "    </tr>\n",
       "    <tr>\n",
       "      <th>1</th>\n",
       "      <td>0.146</td>\n",
       "      <td>0.784</td>\n",
       "      <td>0</td>\n",
       "      <td>1</td>\n",
       "    </tr>\n",
       "  </tbody>\n",
       "</table>\n",
       "</div>"
      ],
      "text/plain": [
       "       Proba       Preds    \n",
       "         min   max   min max\n",
       "Labels                      \n",
       "0      0.042 0.715     0   1\n",
       "1      0.146 0.784     0   1"
      ]
     },
     "metadata": {},
     "output_type": "display_data"
    },
    {
     "data": {
      "text/html": [
       "<div>\n",
       "<style scoped>\n",
       "    .dataframe tbody tr th:only-of-type {\n",
       "        vertical-align: middle;\n",
       "    }\n",
       "\n",
       "    .dataframe tbody tr th {\n",
       "        vertical-align: top;\n",
       "    }\n",
       "\n",
       "    .dataframe thead th {\n",
       "        text-align: right;\n",
       "    }\n",
       "</style>\n",
       "<table border=\"1\" class=\"dataframe\">\n",
       "  <thead>\n",
       "    <tr style=\"text-align: right;\">\n",
       "      <th></th>\n",
       "      <th>Proba</th>\n",
       "      <th>Probas</th>\n",
       "      <th>Preds</th>\n",
       "      <th>Labels</th>\n",
       "      <th>Proba</th>\n",
       "      <th>Probas</th>\n",
       "      <th>Preds</th>\n",
       "      <th>Labels</th>\n",
       "      <th>Proba</th>\n",
       "      <th>Probas</th>\n",
       "      <th>Preds</th>\n",
       "      <th>Labels</th>\n",
       "    </tr>\n",
       "  </thead>\n",
       "  <tbody>\n",
       "    <tr>\n",
       "      <th>0</th>\n",
       "      <td>0.380</td>\n",
       "      <td>[0.619806170463562, 0.3801937997341156]</td>\n",
       "      <td>0</td>\n",
       "      <td>1</td>\n",
       "      <td>0.345</td>\n",
       "      <td>[0.6554756164550781, 0.3445243239402771]</td>\n",
       "      <td>0</td>\n",
       "      <td>0</td>\n",
       "      <td>0.402</td>\n",
       "      <td>[0.5977364778518677, 0.40226346254348755]</td>\n",
       "      <td>0</td>\n",
       "      <td>1</td>\n",
       "    </tr>\n",
       "    <tr>\n",
       "      <th>1</th>\n",
       "      <td>0.492</td>\n",
       "      <td>[0.5084603428840637, 0.4915396273136139]</td>\n",
       "      <td>0</td>\n",
       "      <td>1</td>\n",
       "      <td>0.278</td>\n",
       "      <td>[0.7224445343017578, 0.2775554060935974]</td>\n",
       "      <td>0</td>\n",
       "      <td>1</td>\n",
       "      <td>0.323</td>\n",
       "      <td>[0.6769064664840698, 0.3230935335159302]</td>\n",
       "      <td>0</td>\n",
       "      <td>1</td>\n",
       "    </tr>\n",
       "    <tr>\n",
       "      <th>2</th>\n",
       "      <td>0.696</td>\n",
       "      <td>[0.3040061295032501, 0.6959939002990723]</td>\n",
       "      <td>1</td>\n",
       "      <td>1</td>\n",
       "      <td>0.505</td>\n",
       "      <td>[0.49497321248054504, 0.5050268173217773]</td>\n",
       "      <td>1</td>\n",
       "      <td>0</td>\n",
       "      <td>0.483</td>\n",
       "      <td>[0.5171675086021423, 0.48283255100250244]</td>\n",
       "      <td>0</td>\n",
       "      <td>1</td>\n",
       "    </tr>\n",
       "    <tr>\n",
       "      <th>3</th>\n",
       "      <td>0.337</td>\n",
       "      <td>[0.6630046367645264, 0.33699530363082886]</td>\n",
       "      <td>0</td>\n",
       "      <td>0</td>\n",
       "      <td>0.377</td>\n",
       "      <td>[0.6226129531860352, 0.37738707661628723]</td>\n",
       "      <td>0</td>\n",
       "      <td>0</td>\n",
       "      <td>0.501</td>\n",
       "      <td>[0.49857863783836365, 0.501421332359314]</td>\n",
       "      <td>1</td>\n",
       "      <td>1</td>\n",
       "    </tr>\n",
       "    <tr>\n",
       "      <th>4</th>\n",
       "      <td>0.349</td>\n",
       "      <td>[0.6512951850891113, 0.3487047851085663]</td>\n",
       "      <td>0</td>\n",
       "      <td>0</td>\n",
       "      <td>0.349</td>\n",
       "      <td>[0.6513786911964417, 0.34862130880355835]</td>\n",
       "      <td>0</td>\n",
       "      <td>1</td>\n",
       "      <td>0.484</td>\n",
       "      <td>[0.5162875652313232, 0.48371243476867676]</td>\n",
       "      <td>0</td>\n",
       "      <td>0</td>\n",
       "    </tr>\n",
       "  </tbody>\n",
       "</table>\n",
       "</div>"
      ],
      "text/plain": [
       "  Proba                                     Probas Preds Labels Proba  \\\n",
       "0 0.380    [0.619806170463562, 0.3801937997341156]     0      1 0.345   \n",
       "1 0.492   [0.5084603428840637, 0.4915396273136139]     0      1 0.278   \n",
       "2 0.696   [0.3040061295032501, 0.6959939002990723]     1      1 0.505   \n",
       "3 0.337  [0.6630046367645264, 0.33699530363082886]     0      0 0.377   \n",
       "4 0.349   [0.6512951850891113, 0.3487047851085663]     0      0 0.349   \n",
       "\n",
       "                                      Probas Preds Labels Proba  \\\n",
       "0   [0.6554756164550781, 0.3445243239402771]     0      0 0.402   \n",
       "1   [0.7224445343017578, 0.2775554060935974]     0      1 0.323   \n",
       "2  [0.49497321248054504, 0.5050268173217773]     1      0 0.483   \n",
       "3  [0.6226129531860352, 0.37738707661628723]     0      0 0.501   \n",
       "4  [0.6513786911964417, 0.34862130880355835]     0      1 0.484   \n",
       "\n",
       "                                      Probas Preds Labels  \n",
       "0  [0.5977364778518677, 0.40226346254348755]     0      1  \n",
       "1   [0.6769064664840698, 0.3230935335159302]     0      1  \n",
       "2  [0.5171675086021423, 0.48283255100250244]     0      1  \n",
       "3   [0.49857863783836365, 0.501421332359314]     1      1  \n",
       "4  [0.5162875652313232, 0.48371243476867676]     0      0  "
      ]
     },
     "metadata": {},
     "output_type": "display_data"
    },
    {
     "name": "stdout",
     "output_type": "stream",
     "text": [
      "scores =  {'map': '0.6239', 'acc': '0.5800', 'auc': '0.6227'}\n",
      "Epoch =  42 Train = 0.751594 Val = 0.622656\n"
     ]
    },
    {
     "data": {
      "application/vnd.jupyter.widget-view+json": {
       "model_id": "ea43e9db90e440dc8a4e4d9df7921b1c",
       "version_major": 2,
       "version_minor": 0
      },
      "text/plain": [
       "HBox(children=(FloatProgress(value=0.0, description='Batches', max=17.0, style=ProgressStyle(description_width…"
      ]
     },
     "metadata": {},
     "output_type": "display_data"
    },
    {
     "name": "stdout",
     "output_type": "stream",
     "text": [
      "\n",
      "Epoch =  43 Loss = 0.353245 LR = 0.00000268\n"
     ]
    },
    {
     "data": {
      "application/vnd.jupyter.widget-view+json": {
       "model_id": "8c263fdbf61c4a2d9450e132dbc722ae",
       "version_major": 2,
       "version_minor": 0
      },
      "text/plain": [
       "HBox(children=(FloatProgress(value=0.0, description='Batches', max=17.0, style=ProgressStyle(description_width…"
      ]
     },
     "metadata": {},
     "output_type": "display_data"
    },
    {
     "name": "stdout",
     "output_type": "stream",
     "text": [
      "\n",
      "Epoch =  44 Loss = 0.361072 LR = 0.00000172\n"
     ]
    },
    {
     "data": {
      "application/vnd.jupyter.widget-view+json": {
       "model_id": "b1b4f757fb484d589d0de850c52e6f40",
       "version_major": 2,
       "version_minor": 0
      },
      "text/plain": [
       "HBox(children=(FloatProgress(value=0.0, description='Batches', max=17.0, style=ProgressStyle(description_width…"
      ]
     },
     "metadata": {},
     "output_type": "display_data"
    },
    {
     "name": "stdout",
     "output_type": "stream",
     "text": [
      "\n",
      "Epoch =  45 Loss = 0.355963 LR = 0.00000097\n"
     ]
    },
    {
     "data": {
      "application/vnd.jupyter.widget-view+json": {
       "model_id": "7d20d103a1294f76939453bce0b31b17",
       "version_major": 2,
       "version_minor": 0
      },
      "text/plain": [
       "HBox(children=(FloatProgress(value=0.0, description='Batches', max=17.0, style=ProgressStyle(description_width…"
      ]
     },
     "metadata": {},
     "output_type": "display_data"
    },
    {
     "name": "stdout",
     "output_type": "stream",
     "text": [
      "\n",
      "Epoch =  46 Loss = 0.356084 LR = 0.00000043\n"
     ]
    },
    {
     "data": {
      "application/vnd.jupyter.widget-view+json": {
       "model_id": "76b7962642714386b7de83104e0209a1",
       "version_major": 2,
       "version_minor": 0
      },
      "text/plain": [
       "HBox(children=(FloatProgress(value=0.0, description='Generate Predictions', max=34.0, style=ProgressStyle(desc…"
      ]
     },
     "metadata": {},
     "output_type": "display_data"
    },
    {
     "name": "stdout",
     "output_type": "stream",
     "text": [
      "\n"
     ]
    },
    {
     "data": {
      "application/vnd.jupyter.widget-view+json": {
       "model_id": "4846e7423e6d4b4cbaf103856eadbed5",
       "version_major": 2,
       "version_minor": 0
      },
      "text/plain": [
       "HBox(children=(FloatProgress(value=0.0, description='Generate Predictions', max=2.0, style=ProgressStyle(descr…"
      ]
     },
     "metadata": {},
     "output_type": "display_data"
    },
    {
     "name": "stdout",
     "output_type": "stream",
     "text": [
      "\n"
     ]
    },
    {
     "data": {
      "text/html": [
       "<div>\n",
       "<style scoped>\n",
       "    .dataframe tbody tr th:only-of-type {\n",
       "        vertical-align: middle;\n",
       "    }\n",
       "\n",
       "    .dataframe tbody tr th {\n",
       "        vertical-align: top;\n",
       "    }\n",
       "\n",
       "    .dataframe thead tr th {\n",
       "        text-align: left;\n",
       "    }\n",
       "\n",
       "    .dataframe thead tr:last-of-type th {\n",
       "        text-align: right;\n",
       "    }\n",
       "</style>\n",
       "<table border=\"1\" class=\"dataframe\">\n",
       "  <thead>\n",
       "    <tr>\n",
       "      <th></th>\n",
       "      <th colspan=\"2\" halign=\"left\">Proba</th>\n",
       "      <th colspan=\"2\" halign=\"left\">Preds</th>\n",
       "    </tr>\n",
       "    <tr>\n",
       "      <th></th>\n",
       "      <th>min</th>\n",
       "      <th>max</th>\n",
       "      <th>min</th>\n",
       "      <th>max</th>\n",
       "    </tr>\n",
       "    <tr>\n",
       "      <th>Labels</th>\n",
       "      <th></th>\n",
       "      <th></th>\n",
       "      <th></th>\n",
       "      <th></th>\n",
       "    </tr>\n",
       "  </thead>\n",
       "  <tbody>\n",
       "    <tr>\n",
       "      <th>0</th>\n",
       "      <td>0.122</td>\n",
       "      <td>0.813</td>\n",
       "      <td>0</td>\n",
       "      <td>1</td>\n",
       "    </tr>\n",
       "    <tr>\n",
       "      <th>1</th>\n",
       "      <td>0.128</td>\n",
       "      <td>0.782</td>\n",
       "      <td>0</td>\n",
       "      <td>1</td>\n",
       "    </tr>\n",
       "  </tbody>\n",
       "</table>\n",
       "</div>"
      ],
      "text/plain": [
       "       Proba       Preds    \n",
       "         min   max   min max\n",
       "Labels                      \n",
       "0      0.122 0.813     0   1\n",
       "1      0.128 0.782     0   1"
      ]
     },
     "metadata": {},
     "output_type": "display_data"
    },
    {
     "data": {
      "text/html": [
       "<div>\n",
       "<style scoped>\n",
       "    .dataframe tbody tr th:only-of-type {\n",
       "        vertical-align: middle;\n",
       "    }\n",
       "\n",
       "    .dataframe tbody tr th {\n",
       "        vertical-align: top;\n",
       "    }\n",
       "\n",
       "    .dataframe thead th {\n",
       "        text-align: right;\n",
       "    }\n",
       "</style>\n",
       "<table border=\"1\" class=\"dataframe\">\n",
       "  <thead>\n",
       "    <tr style=\"text-align: right;\">\n",
       "      <th></th>\n",
       "      <th>Proba</th>\n",
       "      <th>Probas</th>\n",
       "      <th>Preds</th>\n",
       "      <th>Labels</th>\n",
       "      <th>Proba</th>\n",
       "      <th>Probas</th>\n",
       "      <th>Preds</th>\n",
       "      <th>Labels</th>\n",
       "      <th>Proba</th>\n",
       "      <th>Probas</th>\n",
       "      <th>Preds</th>\n",
       "      <th>Labels</th>\n",
       "    </tr>\n",
       "  </thead>\n",
       "  <tbody>\n",
       "    <tr>\n",
       "      <th>0</th>\n",
       "      <td>0.527</td>\n",
       "      <td>[0.47347012162208557, 0.5265299081802368]</td>\n",
       "      <td>1</td>\n",
       "      <td>0</td>\n",
       "      <td>0.421</td>\n",
       "      <td>[0.5789355039596558, 0.42106449604034424]</td>\n",
       "      <td>0</td>\n",
       "      <td>1</td>\n",
       "      <td>0.419</td>\n",
       "      <td>[0.580538809299469, 0.4194611608982086]</td>\n",
       "      <td>0</td>\n",
       "      <td>1</td>\n",
       "    </tr>\n",
       "    <tr>\n",
       "      <th>1</th>\n",
       "      <td>0.517</td>\n",
       "      <td>[0.48288002610206604, 0.5171200037002563]</td>\n",
       "      <td>1</td>\n",
       "      <td>1</td>\n",
       "      <td>0.526</td>\n",
       "      <td>[0.47366130352020264, 0.5263386964797974]</td>\n",
       "      <td>1</td>\n",
       "      <td>0</td>\n",
       "      <td>0.731</td>\n",
       "      <td>[0.26869407296180725, 0.7313058972358704]</td>\n",
       "      <td>1</td>\n",
       "      <td>0</td>\n",
       "    </tr>\n",
       "    <tr>\n",
       "      <th>2</th>\n",
       "      <td>0.391</td>\n",
       "      <td>[0.6089872121810913, 0.39101269841194153]</td>\n",
       "      <td>0</td>\n",
       "      <td>0</td>\n",
       "      <td>0.335</td>\n",
       "      <td>[0.665068507194519, 0.3349315822124481]</td>\n",
       "      <td>0</td>\n",
       "      <td>0</td>\n",
       "      <td>0.382</td>\n",
       "      <td>[0.61826491355896, 0.38173508644104004]</td>\n",
       "      <td>0</td>\n",
       "      <td>1</td>\n",
       "    </tr>\n",
       "    <tr>\n",
       "      <th>3</th>\n",
       "      <td>0.216</td>\n",
       "      <td>[0.783623993396759, 0.21637600660324097]</td>\n",
       "      <td>0</td>\n",
       "      <td>1</td>\n",
       "      <td>0.483</td>\n",
       "      <td>[0.516800045967102, 0.48319992423057556]</td>\n",
       "      <td>0</td>\n",
       "      <td>0</td>\n",
       "      <td>0.416</td>\n",
       "      <td>[0.5839285254478455, 0.41607147455215454]</td>\n",
       "      <td>0</td>\n",
       "      <td>1</td>\n",
       "    </tr>\n",
       "    <tr>\n",
       "      <th>4</th>\n",
       "      <td>0.573</td>\n",
       "      <td>[0.4270639419555664, 0.5729360580444336]</td>\n",
       "      <td>1</td>\n",
       "      <td>0</td>\n",
       "      <td>0.412</td>\n",
       "      <td>[0.5882579684257507, 0.41174203157424927]</td>\n",
       "      <td>0</td>\n",
       "      <td>1</td>\n",
       "      <td>0.306</td>\n",
       "      <td>[0.693713903427124, 0.3062860369682312]</td>\n",
       "      <td>0</td>\n",
       "      <td>0</td>\n",
       "    </tr>\n",
       "  </tbody>\n",
       "</table>\n",
       "</div>"
      ],
      "text/plain": [
       "  Proba                                     Probas Preds Labels Proba  \\\n",
       "0 0.527  [0.47347012162208557, 0.5265299081802368]     1      0 0.421   \n",
       "1 0.517  [0.48288002610206604, 0.5171200037002563]     1      1 0.526   \n",
       "2 0.391  [0.6089872121810913, 0.39101269841194153]     0      0 0.335   \n",
       "3 0.216   [0.783623993396759, 0.21637600660324097]     0      1 0.483   \n",
       "4 0.573   [0.4270639419555664, 0.5729360580444336]     1      0 0.412   \n",
       "\n",
       "                                      Probas Preds Labels Proba  \\\n",
       "0  [0.5789355039596558, 0.42106449604034424]     0      1 0.419   \n",
       "1  [0.47366130352020264, 0.5263386964797974]     1      0 0.731   \n",
       "2    [0.665068507194519, 0.3349315822124481]     0      0 0.382   \n",
       "3   [0.516800045967102, 0.48319992423057556]     0      0 0.416   \n",
       "4  [0.5882579684257507, 0.41174203157424927]     0      1 0.306   \n",
       "\n",
       "                                      Probas Preds Labels  \n",
       "0    [0.580538809299469, 0.4194611608982086]     0      1  \n",
       "1  [0.26869407296180725, 0.7313058972358704]     1      0  \n",
       "2    [0.61826491355896, 0.38173508644104004]     0      1  \n",
       "3  [0.5839285254478455, 0.41607147455215454]     0      1  \n",
       "4    [0.693713903427124, 0.3062860369682312]     0      0  "
      ]
     },
     "metadata": {},
     "output_type": "display_data"
    },
    {
     "name": "stdout",
     "output_type": "stream",
     "text": [
      "scores =  {'map': '0.6024', 'acc': '0.5700', 'auc': '0.6247'}\n",
      "Epoch =  46 Train = 0.758121 Val = 0.624736\n"
     ]
    },
    {
     "data": {
      "application/vnd.jupyter.widget-view+json": {
       "model_id": "3a4fc6f0add84c1f932fb63bb652bc40",
       "version_major": 2,
       "version_minor": 0
      },
      "text/plain": [
       "HBox(children=(FloatProgress(value=0.0, description='Batches', max=17.0, style=ProgressStyle(description_width…"
      ]
     },
     "metadata": {},
     "output_type": "display_data"
    },
    {
     "name": "stdout",
     "output_type": "stream",
     "text": [
      "\n",
      "Epoch =  47 Loss = 0.352400 LR = 0.00000011\n"
     ]
    },
    {
     "data": {
      "application/vnd.jupyter.widget-view+json": {
       "model_id": "5eb61182fe3a4d5fb00cef7f9a6a5504",
       "version_major": 2,
       "version_minor": 0
      },
      "text/plain": [
       "HBox(children=(FloatProgress(value=0.0, description='Batches', max=17.0, style=ProgressStyle(description_width…"
      ]
     },
     "metadata": {},
     "output_type": "display_data"
    },
    {
     "name": "stdout",
     "output_type": "stream",
     "text": [
      "\n",
      "Epoch =  48 Loss = 0.350302 LR = 0.00000000\n",
      "\n"
     ]
    },
    {
     "data": {
      "image/png": "[encoded data removed]",
      "text/plain": [
       "<Figure size 576x576 with 2 Axes>"
      ]
     },
     "metadata": {
      "image/png": {
       "height": 567,
       "width": 568
      },
      "needs_background": "light"
     },
     "output_type": "display_data"
    },
    {
     "data": {
      "application/vnd.jupyter.widget-view+json": {
       "model_id": "95a98e96753944109e5afb2838c12826",
       "version_major": 2,
       "version_minor": 0
      },
      "text/plain": [
       "HBox(children=(FloatProgress(value=0.0, description='Generate Predictions', max=4.0, style=ProgressStyle(descr…"
      ]
     },
     "metadata": {},
     "output_type": "display_data"
    },
    {
     "name": "stdout",
     "output_type": "stream",
     "text": [
      "\n"
     ]
    },
    {
     "data": {
      "text/html": [
       "<div>\n",
       "<style scoped>\n",
       "    .dataframe tbody tr th:only-of-type {\n",
       "        vertical-align: middle;\n",
       "    }\n",
       "\n",
       "    .dataframe tbody tr th {\n",
       "        vertical-align: top;\n",
       "    }\n",
       "\n",
       "    .dataframe thead th {\n",
       "        text-align: right;\n",
       "    }\n",
       "</style>\n",
       "<table border=\"1\" class=\"dataframe\">\n",
       "  <thead>\n",
       "    <tr style=\"text-align: right;\">\n",
       "      <th></th>\n",
       "      <th>id</th>\n",
       "      <th>proba</th>\n",
       "      <th>label</th>\n",
       "    </tr>\n",
       "  </thead>\n",
       "  <tbody>\n",
       "    <tr>\n",
       "      <th>776</th>\n",
       "      <td>63097</td>\n",
       "      <td>0.299</td>\n",
       "      <td>0</td>\n",
       "    </tr>\n",
       "    <tr>\n",
       "      <th>992</th>\n",
       "      <td>31405</td>\n",
       "      <td>0.611</td>\n",
       "      <td>1</td>\n",
       "    </tr>\n",
       "    <tr>\n",
       "      <th>307</th>\n",
       "      <td>4239</td>\n",
       "      <td>0.281</td>\n",
       "      <td>0</td>\n",
       "    </tr>\n",
       "    <tr>\n",
       "      <th>946</th>\n",
       "      <td>59401</td>\n",
       "      <td>0.484</td>\n",
       "      <td>0</td>\n",
       "    </tr>\n",
       "    <tr>\n",
       "      <th>501</th>\n",
       "      <td>21659</td>\n",
       "      <td>0.434</td>\n",
       "      <td>0</td>\n",
       "    </tr>\n",
       "  </tbody>\n",
       "</table>\n",
       "</div>"
      ],
      "text/plain": [
       "        id  proba  label\n",
       "776  63097  0.299      0\n",
       "992  31405  0.611      1\n",
       "307   4239  0.281      0\n",
       "946  59401  0.484      0\n",
       "501  21659  0.434      0"
      ]
     },
     "execution_count": 8,
     "metadata": {},
     "output_type": "execute_result"
    }
   ],
   "source": [
    "submission, text_model = train_and_predict(model_fn, data, batch_size, epochs, \n",
    "                                           scheduler_init_fn=scheduler_init_fn, \n",
    "                                           model_call_back=reg_sched,\n",
    "                                           sampling_policy=\"without_replacement\",\n",
    "                                           validation_epochs=[15, 34, 42, 46],\n",
    "                                          )\n",
    "submission.to_csv(\"submission.csv\",index=False)\n",
    "submission.sample(5)\n"
   ]
  },
  {
   "cell_type": "code",
   "execution_count": null,
   "metadata": {
    "hidden": true
   },
   "outputs": [],
   "source": []
  }
 ],
 "metadata": {
  "kernelspec": {
   "display_name": "Python 3",
   "language": "python",
   "name": "python3"
  },
  "language_info": {
   "codemirror_mode": {
    "name": "ipython",
    "version": 3
   },
   "file_extension": ".py",
   "mimetype": "text/x-python",
   "name": "python",
   "nbconvert_exporter": "python",
   "pygments_lexer": "ipython3",
   "version": "3.7.6"
  },
  "toc": {
   "base_numbering": 1,
   "nav_menu": {},
   "number_sections": true,
   "sideBar": true,
   "skip_h1_title": false,
   "title_cell": "Table of Contents",
   "title_sidebar": "Contents",
   "toc_cell": false,
   "toc_position": {
    "height": "822px",
    "left": "0px",
    "top": "111.133px",
    "width": "165px"
   },
   "toc_section_display": true,
   "toc_window_display": true
  }
 },
 "nbformat": 4,
 "nbformat_minor": 4
}
