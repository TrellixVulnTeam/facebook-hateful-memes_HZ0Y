{
 "cells": [
  {
   "cell_type": "markdown",
   "metadata": {},
   "source": [
    "# Data and Imports"
   ]
  },
  {
   "cell_type": "code",
   "execution_count": 1,
   "metadata": {
    "ExecuteTime": {
     "end_time": "2020-07-27T19:10:32.403002Z",
     "start_time": "2020-07-27T19:10:29.502485Z"
    }
   },
   "outputs": [],
   "source": [
    "\n",
    "\n",
    "\n",
    "import pandas as pd\n",
    "import numpy as np\n",
    "import jsonlines\n",
    "import seaborn as sns\n",
    "%matplotlib inline\n",
    "%config InlineBackend.figure_format = 'retina'\n",
    "import torch.nn as nn\n",
    "import torch\n",
    "import torch.nn.functional as F\n",
    "from torch.utils.data import Dataset, DataLoader\n",
    "from torchvision import transforms, utils\n",
    "import torch_optimizer as optim\n",
    "\n",
    "\n",
    "from IPython.core.interactiveshell import InteractiveShell\n",
    "InteractiveShell.ast_node_interactivity = \"all\"\n",
    "from importlib import reload\n",
    "pd.set_option('display.max_rows', 500)\n",
    "pd.set_option('display.float_format', '{:0.3f}'.format)\n",
    "pd.set_option('display.max_columns', 500)\n",
    "pd.set_option('display.width', 1000)\n",
    "pd.options.display.width = 0\n",
    "import warnings\n",
    "import torchvision\n",
    "warnings.filterwarnings('ignore')\n",
    "\n",
    "from facebook_hateful_memes_detector.utils.globals import set_global, get_global\n",
    "set_global(\"cache_dir\", \"/home/ahemf/cache/cache\")\n",
    "set_global(\"dataloader_workers\", 4)\n",
    "set_global(\"use_autocast\", True)\n",
    "set_global(\"models_dir\", \"/home/ahemf/cache/\")\n",
    "\n",
    "from facebook_hateful_memes_detector.utils import read_json_lines_into_df, in_notebook, set_device\n",
    "get_global(\"cache_dir\")\n",
    "from facebook_hateful_memes_detector.models import Fasttext1DCNNModel, MultiImageMultiTextAttentionEarlyFusionModel, LangFeaturesModel, AlbertClassifer\n",
    "from facebook_hateful_memes_detector.preprocessing import TextImageDataset, my_collate, get_datasets, get_image2torchvision_transforms, TextAugment\n",
    "from facebook_hateful_memes_detector.preprocessing import DefinedRotation, QuadrantCut, ImageAugment\n",
    "from facebook_hateful_memes_detector.training import *\n",
    "import facebook_hateful_memes_detector\n",
    "reload(facebook_hateful_memes_detector)\n",
    "\n",
    "device = torch.device(\"cuda\" if torch.cuda.is_available() else \"cpu\")\n",
    "set_device(device)\n"
   ]
  },
  {
   "cell_type": "code",
   "execution_count": 2,
   "metadata": {
    "ExecuteTime": {
     "end_time": "2020-07-27T19:10:32.413420Z",
     "start_time": "2020-07-27T19:10:32.404671Z"
    }
   },
   "outputs": [
    {
     "data": {
      "text/plain": [
       "device(type='cuda')"
      ]
     },
     "execution_count": 2,
     "metadata": {},
     "output_type": "execute_result"
    }
   ],
   "source": [
    "device = torch.device(\"cuda\" if torch.cuda.is_available() else \"cpu\")\n",
    "set_device(device)\n",
    "device\n"
   ]
  },
  {
   "cell_type": "markdown",
   "metadata": {},
   "source": [
    "- What Augs are useful\n",
    "- What Text models perform best"
   ]
  },
  {
   "cell_type": "code",
   "execution_count": 27,
   "metadata": {
    "ExecuteTime": {
     "end_time": "2020-07-28T06:50:21.179549Z",
     "start_time": "2020-07-28T06:50:21.083191Z"
    }
   },
   "outputs": [],
   "source": [
    "\n",
    "\n",
    "choice_probas = {\"keyboard\": 0.1, \"char_substitute\": 0.0, \"char_insert\": 0.1, \"char_swap\": 0.1, \"ocr\": 0.0, \"char_delete\": 0.1,\n",
    "                 \"fasttext\": 0.0, \"glove_twitter\": 0.0, \"glove_wiki\": 0.0, \"word2vec\": 0.0, \"split\": 0.1,\n",
    "                 \"stopword_insert\": 0.3, \"word_join\": 0.1, \"word_cutout\": 0.8,\n",
    "                 \"text_rotate\": 0.0, \"sentence_shuffle\": 0.5, \"one_third_cut\": 0.3, \"half_cut\":0.0}\n",
    "preprocess_text = TextAugment([0.05, 0.05, 0.05, 0.35, 0.3, 0.2], choice_probas, fasttext_file=\"wiki-news-300d-1M-subword.bin\")\n",
    "\n",
    "\n",
    "data = get_datasets(data_dir=\"../data/\", train_text_transform=preprocess_text, train_image_transform=None, \n",
    "                    test_text_transform=None, test_image_transform=None, \n",
    "                    cache_images = True, use_images = False, dev=False, test_dev=True,\n",
    "                    keep_original_text=False, keep_original_image=False, \n",
    "                    keep_processed_image=True, keep_torchvision_image=False,)\n",
    "\n",
    "# images = list(data[\"train\"].img) + list(data[\"test\"].img)\n",
    "# pd.DataFrame({\"img\":images}).to_csv(\"image.csv\", header=None, index=None)\n",
    "\n",
    "# ImageAugment([0.2, 0.5, 0.3])\n"
   ]
  },
  {
   "cell_type": "code",
   "execution_count": 28,
   "metadata": {
    "ExecuteTime": {
     "end_time": "2020-07-28T06:50:22.105353Z",
     "start_time": "2020-07-28T06:50:22.103067Z"
    }
   },
   "outputs": [],
   "source": [
    "# data[\"train\"].label.value_counts()\n",
    "# train = data[\"train\"]\n",
    "\n",
    "# ones = train[train[\"label\"] == 1]\n",
    "# zeros = train[train[\"label\"] == 0].sample(n=len(ones), replace=False)\n",
    "# data[\"train\"] = pd.concat((ones, zeros)).sample(frac=1.0)\n",
    "# data[\"train\"].label.value_counts()\n",
    "\n",
    "# len(set(data[\"train\"][\"id\"])) == data[\"train\"].shape[0]\n"
   ]
  },
  {
   "cell_type": "code",
   "execution_count": null,
   "metadata": {},
   "outputs": [],
   "source": []
  },
  {
   "cell_type": "markdown",
   "metadata": {},
   "source": [
    "https://discuss.pytorch.org/t/how-to-implement-torch-optim-lr-scheduler-cosineannealinglr/28797/11"
   ]
  },
  {
   "cell_type": "markdown",
   "metadata": {},
   "source": [
    "# Params"
   ]
  },
  {
   "cell_type": "code",
   "execution_count": 29,
   "metadata": {
    "ExecuteTime": {
     "end_time": "2020-07-28T06:50:23.855616Z",
     "start_time": "2020-07-28T06:50:23.846228Z"
    }
   },
   "outputs": [],
   "source": [
    "sgd = torch.optim.SGD\n",
    "sgd_params = dict(lr=2e-2, momentum=0.9, dampening=0, weight_decay=0, nesterov=False)\n",
    "\n",
    "rangerQH = optim.RangerQH\n",
    "rangerQHparams = dict(lr=1e-3, betas=(0.9, 0.999), nus=(.7, 1.0),\n",
    "    weight_decay=0.0,\n",
    "    k=6,\n",
    "    alpha=.5,\n",
    "    decouple_weight_decay=True,\n",
    "    eps=1e-8,)\n",
    "\n",
    "adam = torch.optim.Adam\n",
    "adam_params = params=dict(lr=1e-3, weight_decay=1e-7)\n",
    "\n",
    "adamw = torch.optim.AdamW\n",
    "adamw_params = dict(lr=0.001, betas=(0.9, 0.999), eps=1e-08, weight_decay=1e-2)\n",
    "\n",
    "novograd = optim.NovoGrad\n",
    "novograd_params = dict(lr= 1e-3,\n",
    "    betas=(0.9, 0.999),\n",
    "    eps=1e-8,\n",
    "    weight_decay=0,\n",
    "    grad_averaging=False,\n",
    "    amsgrad=False,)\n",
    "\n",
    "qhadam = optim.QHAdam\n",
    "qhadam_params = dict(lr= 1e-3,\n",
    "    betas=(0.9, 0.999),\n",
    "    nus=(1.0, 1.0),\n",
    "    weight_decay=0,\n",
    "    decouple_weight_decay=False,\n",
    "    eps=1e-8,)\n",
    "\n",
    "radam = optim.RAdam\n",
    "radam_params = dict(lr= 1e-3,\n",
    "    betas=(0.9, 0.999),\n",
    "    eps=1e-8,\n",
    "    weight_decay=0,)\n",
    "\n",
    "yogi = optim.Yogi\n",
    "yogi_params = dict(lr= 1e-2,\n",
    "    betas=(0.9, 0.999),\n",
    "    eps=1e-3,\n",
    "    initial_accumulator=1e-6,\n",
    "    weight_decay=0)\n",
    "\n",
    "\n"
   ]
  },
  {
   "cell_type": "code",
   "execution_count": 30,
   "metadata": {
    "ExecuteTime": {
     "end_time": "2020-07-28T06:50:24.048855Z",
     "start_time": "2020-07-28T06:50:24.045303Z"
    }
   },
   "outputs": [],
   "source": [
    "batch_size=256\n",
    "epochs = 10\n",
    "optimizer = adam\n",
    "optimizer_params = adam_params\n",
    "\n",
    "scheduler_init_fn = get_multistep_lr([11, 13], gamma=0.25) # get_cosine_schedule_with_warmup # get_cosine_with_hard_restarts_schedule_with_warmup\n",
    "scheduler_init_fn = get_cosine_schedule_with_warmup()\n",
    "reg_sched = get_regularizer_scheduler()\n",
    "\n"
   ]
  },
  {
   "cell_type": "markdown",
   "metadata": {},
   "source": [
    "# BERT Models"
   ]
  },
  {
   "cell_type": "code",
   "execution_count": null,
   "metadata": {
    "ExecuteTime": {
     "start_time": "2020-07-28T07:09:36.921Z"
    }
   },
   "outputs": [
    {
     "name": "stdout",
     "output_type": "stream",
     "text": [
      "Pick stored Model /home/ahemf/cache/distilbert-nsp Model Class =  <class 'transformers.modeling_roberta.RobertaModel'> Tokenizer Class =  <class 'transformers.tokenization_roberta.RobertaTokenizer'>\n",
      "Autocast =  True Epochs =  48 Divisor = 2 Examples = 4250 Batch Size =  256\n",
      "Training Samples =  8500 Weighted Sampling =  True Num Batches =  17 Accumulation steps =  1\n"
     ]
    },
    {
     "data": {
      "application/vnd.jupyter.widget-view+json": {
       "model_id": "3d6070c3b0c3478692f62475421ed815",
       "version_major": 2,
       "version_minor": 0
      },
      "text/plain": [
       "HBox(children=(FloatProgress(value=0.0, max=48.0), HTML(value='')))"
      ]
     },
     "metadata": {},
     "output_type": "display_data"
    },
    {
     "data": {
      "application/vnd.jupyter.widget-view+json": {
       "model_id": "04e2b0c21a5342d889d21c7d592ba93f",
       "version_major": 2,
       "version_minor": 0
      },
      "text/plain": [
       "HBox(children=(FloatProgress(value=0.0, description='Batches', max=17.0, style=ProgressStyle(description_width…"
      ]
     },
     "metadata": {},
     "output_type": "display_data"
    },
    {
     "name": "stdout",
     "output_type": "stream",
     "text": [
      "\n",
      "Epoch =  1 Loss = 0.493583 LR = 0.00000348\n"
     ]
    },
    {
     "data": {
      "application/vnd.jupyter.widget-view+json": {
       "model_id": "2e2ad51de88d4fdbb5f9080adb9cd76a",
       "version_major": 2,
       "version_minor": 0
      },
      "text/plain": [
       "HBox(children=(FloatProgress(value=0.0, description='Generate Predictions', max=34.0, style=ProgressStyle(desc…"
      ]
     },
     "metadata": {},
     "output_type": "display_data"
    },
    {
     "name": "stdout",
     "output_type": "stream",
     "text": [
      "\n"
     ]
    },
    {
     "data": {
      "application/vnd.jupyter.widget-view+json": {
       "model_id": "f84df48cb4f84c0e85a84e554018ffdf",
       "version_major": 2,
       "version_minor": 0
      },
      "text/plain": [
       "HBox(children=(FloatProgress(value=0.0, description='Generate Predictions', max=2.0, style=ProgressStyle(descr…"
      ]
     },
     "metadata": {},
     "output_type": "display_data"
    },
    {
     "name": "stdout",
     "output_type": "stream",
     "text": [
      "\n"
     ]
    },
    {
     "data": {
      "text/html": [
       "<div>\n",
       "<style scoped>\n",
       "    .dataframe tbody tr th:only-of-type {\n",
       "        vertical-align: middle;\n",
       "    }\n",
       "\n",
       "    .dataframe tbody tr th {\n",
       "        vertical-align: top;\n",
       "    }\n",
       "\n",
       "    .dataframe thead tr th {\n",
       "        text-align: left;\n",
       "    }\n",
       "\n",
       "    .dataframe thead tr:last-of-type th {\n",
       "        text-align: right;\n",
       "    }\n",
       "</style>\n",
       "<table border=\"1\" class=\"dataframe\">\n",
       "  <thead>\n",
       "    <tr>\n",
       "      <th></th>\n",
       "      <th colspan=\"2\" halign=\"left\">Proba</th>\n",
       "      <th colspan=\"2\" halign=\"left\">Preds</th>\n",
       "    </tr>\n",
       "    <tr>\n",
       "      <th></th>\n",
       "      <th>min</th>\n",
       "      <th>max</th>\n",
       "      <th>min</th>\n",
       "      <th>max</th>\n",
       "    </tr>\n",
       "    <tr>\n",
       "      <th>Labels</th>\n",
       "      <th></th>\n",
       "      <th></th>\n",
       "      <th></th>\n",
       "      <th></th>\n",
       "    </tr>\n",
       "  </thead>\n",
       "  <tbody>\n",
       "    <tr>\n",
       "      <th>0</th>\n",
       "      <td>0.198</td>\n",
       "      <td>0.546</td>\n",
       "      <td>0</td>\n",
       "      <td>1</td>\n",
       "    </tr>\n",
       "    <tr>\n",
       "      <th>1</th>\n",
       "      <td>0.230</td>\n",
       "      <td>0.561</td>\n",
       "      <td>0</td>\n",
       "      <td>1</td>\n",
       "    </tr>\n",
       "  </tbody>\n",
       "</table>\n",
       "</div>"
      ],
      "text/plain": [
       "       Proba       Preds    \n",
       "         min   max   min max\n",
       "Labels                      \n",
       "0      0.198 0.546     0   1\n",
       "1      0.230 0.561     0   1"
      ]
     },
     "metadata": {},
     "output_type": "display_data"
    },
    {
     "data": {
      "text/html": [
       "<div>\n",
       "<style scoped>\n",
       "    .dataframe tbody tr th:only-of-type {\n",
       "        vertical-align: middle;\n",
       "    }\n",
       "\n",
       "    .dataframe tbody tr th {\n",
       "        vertical-align: top;\n",
       "    }\n",
       "\n",
       "    .dataframe thead th {\n",
       "        text-align: right;\n",
       "    }\n",
       "</style>\n",
       "<table border=\"1\" class=\"dataframe\">\n",
       "  <thead>\n",
       "    <tr style=\"text-align: right;\">\n",
       "      <th></th>\n",
       "      <th>Proba</th>\n",
       "      <th>Probas</th>\n",
       "      <th>Preds</th>\n",
       "      <th>Labels</th>\n",
       "      <th>Proba</th>\n",
       "      <th>Probas</th>\n",
       "      <th>Preds</th>\n",
       "      <th>Labels</th>\n",
       "      <th>Proba</th>\n",
       "      <th>Probas</th>\n",
       "      <th>Preds</th>\n",
       "      <th>Labels</th>\n",
       "    </tr>\n",
       "  </thead>\n",
       "  <tbody>\n",
       "    <tr>\n",
       "      <th>0</th>\n",
       "      <td>0.290</td>\n",
       "      <td>[0.7100254893302917, 0.28997451066970825]</td>\n",
       "      <td>0</td>\n",
       "      <td>0</td>\n",
       "      <td>0.366</td>\n",
       "      <td>[0.6343168616294861, 0.3656831979751587]</td>\n",
       "      <td>0</td>\n",
       "      <td>0</td>\n",
       "      <td>0.361</td>\n",
       "      <td>[0.6392858028411865, 0.3607141971588135]</td>\n",
       "      <td>0</td>\n",
       "      <td>1</td>\n",
       "    </tr>\n",
       "    <tr>\n",
       "      <th>1</th>\n",
       "      <td>0.415</td>\n",
       "      <td>[0.5851011276245117, 0.4148988127708435]</td>\n",
       "      <td>0</td>\n",
       "      <td>0</td>\n",
       "      <td>0.433</td>\n",
       "      <td>[0.5669777989387512, 0.433022141456604]</td>\n",
       "      <td>0</td>\n",
       "      <td>0</td>\n",
       "      <td>0.367</td>\n",
       "      <td>[0.6325027346611023, 0.3674972355365753]</td>\n",
       "      <td>0</td>\n",
       "      <td>1</td>\n",
       "    </tr>\n",
       "    <tr>\n",
       "      <th>2</th>\n",
       "      <td>0.473</td>\n",
       "      <td>[0.526829719543457, 0.47317034006118774]</td>\n",
       "      <td>0</td>\n",
       "      <td>1</td>\n",
       "      <td>0.429</td>\n",
       "      <td>[0.5712883472442627, 0.4287116527557373]</td>\n",
       "      <td>0</td>\n",
       "      <td>0</td>\n",
       "      <td>0.391</td>\n",
       "      <td>[0.60905921459198, 0.39094078540802]</td>\n",
       "      <td>0</td>\n",
       "      <td>0</td>\n",
       "    </tr>\n",
       "    <tr>\n",
       "      <th>3</th>\n",
       "      <td>0.389</td>\n",
       "      <td>[0.6109178066253662, 0.3890821635723114]</td>\n",
       "      <td>0</td>\n",
       "      <td>1</td>\n",
       "      <td>0.352</td>\n",
       "      <td>[0.6480209827423096, 0.35197898745536804]</td>\n",
       "      <td>0</td>\n",
       "      <td>0</td>\n",
       "      <td>0.399</td>\n",
       "      <td>[0.6006569266319275, 0.3993430435657501]</td>\n",
       "      <td>0</td>\n",
       "      <td>0</td>\n",
       "    </tr>\n",
       "    <tr>\n",
       "      <th>4</th>\n",
       "      <td>0.320</td>\n",
       "      <td>[0.6804540753364563, 0.3195459246635437]</td>\n",
       "      <td>0</td>\n",
       "      <td>0</td>\n",
       "      <td>0.393</td>\n",
       "      <td>[0.6071974039077759, 0.39280256628990173]</td>\n",
       "      <td>0</td>\n",
       "      <td>1</td>\n",
       "      <td>0.336</td>\n",
       "      <td>[0.6641048192977905, 0.33589524030685425]</td>\n",
       "      <td>0</td>\n",
       "      <td>0</td>\n",
       "    </tr>\n",
       "  </tbody>\n",
       "</table>\n",
       "</div>"
      ],
      "text/plain": [
       "  Proba                                     Probas Preds Labels Proba  \\\n",
       "0 0.290  [0.7100254893302917, 0.28997451066970825]     0      0 0.366   \n",
       "1 0.415   [0.5851011276245117, 0.4148988127708435]     0      0 0.433   \n",
       "2 0.473   [0.526829719543457, 0.47317034006118774]     0      1 0.429   \n",
       "3 0.389   [0.6109178066253662, 0.3890821635723114]     0      1 0.352   \n",
       "4 0.320   [0.6804540753364563, 0.3195459246635437]     0      0 0.393   \n",
       "\n",
       "                                      Probas Preds Labels Proba  \\\n",
       "0   [0.6343168616294861, 0.3656831979751587]     0      0 0.361   \n",
       "1    [0.5669777989387512, 0.433022141456604]     0      0 0.367   \n",
       "2   [0.5712883472442627, 0.4287116527557373]     0      0 0.391   \n",
       "3  [0.6480209827423096, 0.35197898745536804]     0      0 0.399   \n",
       "4  [0.6071974039077759, 0.39280256628990173]     0      1 0.336   \n",
       "\n",
       "                                      Probas Preds Labels  \n",
       "0   [0.6392858028411865, 0.3607141971588135]     0      1  \n",
       "1   [0.6325027346611023, 0.3674972355365753]     0      1  \n",
       "2       [0.60905921459198, 0.39094078540802]     0      0  \n",
       "3   [0.6006569266319275, 0.3993430435657501]     0      0  \n",
       "4  [0.6641048192977905, 0.33589524030685425]     0      0  "
      ]
     },
     "metadata": {},
     "output_type": "display_data"
    },
    {
     "name": "stdout",
     "output_type": "stream",
     "text": [
      "scores =  {'map': '0.5094', 'acc': '0.4980', 'auc': '0.5197'}\n",
      "Epoch =  1 Train = 0.571651 Val = 0.519744\n"
     ]
    },
    {
     "data": {
      "application/vnd.jupyter.widget-view+json": {
       "model_id": "0b0e9de4798b4f99a403487c759554ef",
       "version_major": 2,
       "version_minor": 0
      },
      "text/plain": [
       "HBox(children=(FloatProgress(value=0.0, description='Batches', max=17.0, style=ProgressStyle(description_width…"
      ]
     },
     "metadata": {},
     "output_type": "display_data"
    },
    {
     "name": "stdout",
     "output_type": "stream",
     "text": [
      "\n",
      "Epoch =  2 Loss = 0.471826 LR = 0.00000697\n"
     ]
    },
    {
     "data": {
      "application/vnd.jupyter.widget-view+json": {
       "model_id": "d12046fa09d242da8df669273658dc79",
       "version_major": 2,
       "version_minor": 0
      },
      "text/plain": [
       "HBox(children=(FloatProgress(value=0.0, description='Batches', max=17.0, style=ProgressStyle(description_width…"
      ]
     },
     "metadata": {},
     "output_type": "display_data"
    },
    {
     "name": "stdout",
     "output_type": "stream",
     "text": [
      "\n",
      "Epoch =  3 Loss = 0.460851 LR = 0.00001045\n"
     ]
    },
    {
     "data": {
      "application/vnd.jupyter.widget-view+json": {
       "model_id": "d948a80e952c4c29a1ea637897cae719",
       "version_major": 2,
       "version_minor": 0
      },
      "text/plain": [
       "HBox(children=(FloatProgress(value=0.0, description='Batches', max=17.0, style=ProgressStyle(description_width…"
      ]
     },
     "metadata": {},
     "output_type": "display_data"
    },
    {
     "name": "stdout",
     "output_type": "stream",
     "text": [
      "\n",
      "Epoch =  4 Loss = 0.451567 LR = 0.00001393\n"
     ]
    },
    {
     "data": {
      "application/vnd.jupyter.widget-view+json": {
       "model_id": "793f2e955686475f8fd9967fc8e719a6",
       "version_major": 2,
       "version_minor": 0
      },
      "text/plain": [
       "HBox(children=(FloatProgress(value=0.0, description='Generate Predictions', max=34.0, style=ProgressStyle(desc…"
      ]
     },
     "metadata": {},
     "output_type": "display_data"
    },
    {
     "name": "stdout",
     "output_type": "stream",
     "text": [
      "\n"
     ]
    },
    {
     "data": {
      "application/vnd.jupyter.widget-view+json": {
       "model_id": "5df52478329e4be5889fe10c90bba33a",
       "version_major": 2,
       "version_minor": 0
      },
      "text/plain": [
       "HBox(children=(FloatProgress(value=0.0, description='Generate Predictions', max=2.0, style=ProgressStyle(descr…"
      ]
     },
     "metadata": {},
     "output_type": "display_data"
    },
    {
     "name": "stdout",
     "output_type": "stream",
     "text": [
      "\n"
     ]
    },
    {
     "data": {
      "text/html": [
       "<div>\n",
       "<style scoped>\n",
       "    .dataframe tbody tr th:only-of-type {\n",
       "        vertical-align: middle;\n",
       "    }\n",
       "\n",
       "    .dataframe tbody tr th {\n",
       "        vertical-align: top;\n",
       "    }\n",
       "\n",
       "    .dataframe thead tr th {\n",
       "        text-align: left;\n",
       "    }\n",
       "\n",
       "    .dataframe thead tr:last-of-type th {\n",
       "        text-align: right;\n",
       "    }\n",
       "</style>\n",
       "<table border=\"1\" class=\"dataframe\">\n",
       "  <thead>\n",
       "    <tr>\n",
       "      <th></th>\n",
       "      <th colspan=\"2\" halign=\"left\">Proba</th>\n",
       "      <th colspan=\"2\" halign=\"left\">Preds</th>\n",
       "    </tr>\n",
       "    <tr>\n",
       "      <th></th>\n",
       "      <th>min</th>\n",
       "      <th>max</th>\n",
       "      <th>min</th>\n",
       "      <th>max</th>\n",
       "    </tr>\n",
       "    <tr>\n",
       "      <th>Labels</th>\n",
       "      <th></th>\n",
       "      <th></th>\n",
       "      <th></th>\n",
       "      <th></th>\n",
       "    </tr>\n",
       "  </thead>\n",
       "  <tbody>\n",
       "    <tr>\n",
       "      <th>0</th>\n",
       "      <td>0.189</td>\n",
       "      <td>0.515</td>\n",
       "      <td>0</td>\n",
       "      <td>1</td>\n",
       "    </tr>\n",
       "    <tr>\n",
       "      <th>1</th>\n",
       "      <td>0.236</td>\n",
       "      <td>0.528</td>\n",
       "      <td>0</td>\n",
       "      <td>1</td>\n",
       "    </tr>\n",
       "  </tbody>\n",
       "</table>\n",
       "</div>"
      ],
      "text/plain": [
       "       Proba       Preds    \n",
       "         min   max   min max\n",
       "Labels                      \n",
       "0      0.189 0.515     0   1\n",
       "1      0.236 0.528     0   1"
      ]
     },
     "metadata": {},
     "output_type": "display_data"
    },
    {
     "data": {
      "text/html": [
       "<div>\n",
       "<style scoped>\n",
       "    .dataframe tbody tr th:only-of-type {\n",
       "        vertical-align: middle;\n",
       "    }\n",
       "\n",
       "    .dataframe tbody tr th {\n",
       "        vertical-align: top;\n",
       "    }\n",
       "\n",
       "    .dataframe thead th {\n",
       "        text-align: right;\n",
       "    }\n",
       "</style>\n",
       "<table border=\"1\" class=\"dataframe\">\n",
       "  <thead>\n",
       "    <tr style=\"text-align: right;\">\n",
       "      <th></th>\n",
       "      <th>Proba</th>\n",
       "      <th>Probas</th>\n",
       "      <th>Preds</th>\n",
       "      <th>Labels</th>\n",
       "      <th>Proba</th>\n",
       "      <th>Probas</th>\n",
       "      <th>Preds</th>\n",
       "      <th>Labels</th>\n",
       "      <th>Proba</th>\n",
       "      <th>Probas</th>\n",
       "      <th>Preds</th>\n",
       "      <th>Labels</th>\n",
       "    </tr>\n",
       "  </thead>\n",
       "  <tbody>\n",
       "    <tr>\n",
       "      <th>0</th>\n",
       "      <td>0.354</td>\n",
       "      <td>[0.6460136771202087, 0.35398629307746887]</td>\n",
       "      <td>0</td>\n",
       "      <td>1</td>\n",
       "      <td>0.348</td>\n",
       "      <td>[0.6517983078956604, 0.348201721906662]</td>\n",
       "      <td>0</td>\n",
       "      <td>1</td>\n",
       "      <td>0.288</td>\n",
       "      <td>[0.7122321724891663, 0.28776782751083374]</td>\n",
       "      <td>0</td>\n",
       "      <td>1</td>\n",
       "    </tr>\n",
       "    <tr>\n",
       "      <th>1</th>\n",
       "      <td>0.368</td>\n",
       "      <td>[0.6315943002700806, 0.36840566992759705]</td>\n",
       "      <td>0</td>\n",
       "      <td>0</td>\n",
       "      <td>0.334</td>\n",
       "      <td>[0.666279673576355, 0.33372029662132263]</td>\n",
       "      <td>0</td>\n",
       "      <td>1</td>\n",
       "      <td>0.349</td>\n",
       "      <td>[0.6513549089431763, 0.3486451208591461]</td>\n",
       "      <td>0</td>\n",
       "      <td>0</td>\n",
       "    </tr>\n",
       "    <tr>\n",
       "      <th>2</th>\n",
       "      <td>0.267</td>\n",
       "      <td>[0.7329742908477783, 0.26702573895454407]</td>\n",
       "      <td>0</td>\n",
       "      <td>0</td>\n",
       "      <td>0.341</td>\n",
       "      <td>[0.6592954993247986, 0.34070447087287903]</td>\n",
       "      <td>0</td>\n",
       "      <td>0</td>\n",
       "      <td>0.366</td>\n",
       "      <td>[0.633863627910614, 0.3661363422870636]</td>\n",
       "      <td>0</td>\n",
       "      <td>0</td>\n",
       "    </tr>\n",
       "    <tr>\n",
       "      <th>3</th>\n",
       "      <td>0.292</td>\n",
       "      <td>[0.7082125544548035, 0.29178741574287415]</td>\n",
       "      <td>0</td>\n",
       "      <td>0</td>\n",
       "      <td>0.491</td>\n",
       "      <td>[0.509276270866394, 0.49072372913360596]</td>\n",
       "      <td>0</td>\n",
       "      <td>1</td>\n",
       "      <td>0.292</td>\n",
       "      <td>[0.7082125544548035, 0.29178741574287415]</td>\n",
       "      <td>0</td>\n",
       "      <td>0</td>\n",
       "    </tr>\n",
       "    <tr>\n",
       "      <th>4</th>\n",
       "      <td>0.345</td>\n",
       "      <td>[0.6548947095870972, 0.34510523080825806]</td>\n",
       "      <td>0</td>\n",
       "      <td>1</td>\n",
       "      <td>0.350</td>\n",
       "      <td>[0.6500230431556702, 0.34997695684432983]</td>\n",
       "      <td>0</td>\n",
       "      <td>0</td>\n",
       "      <td>0.373</td>\n",
       "      <td>[0.6270381808280945, 0.3729618787765503]</td>\n",
       "      <td>0</td>\n",
       "      <td>1</td>\n",
       "    </tr>\n",
       "  </tbody>\n",
       "</table>\n",
       "</div>"
      ],
      "text/plain": [
       "  Proba                                     Probas Preds Labels Proba  \\\n",
       "0 0.354  [0.6460136771202087, 0.35398629307746887]     0      1 0.348   \n",
       "1 0.368  [0.6315943002700806, 0.36840566992759705]     0      0 0.334   \n",
       "2 0.267  [0.7329742908477783, 0.26702573895454407]     0      0 0.341   \n",
       "3 0.292  [0.7082125544548035, 0.29178741574287415]     0      0 0.491   \n",
       "4 0.345  [0.6548947095870972, 0.34510523080825806]     0      1 0.350   \n",
       "\n",
       "                                      Probas Preds Labels Proba  \\\n",
       "0    [0.6517983078956604, 0.348201721906662]     0      1 0.288   \n",
       "1   [0.666279673576355, 0.33372029662132263]     0      1 0.349   \n",
       "2  [0.6592954993247986, 0.34070447087287903]     0      0 0.366   \n",
       "3   [0.509276270866394, 0.49072372913360596]     0      1 0.292   \n",
       "4  [0.6500230431556702, 0.34997695684432983]     0      0 0.373   \n",
       "\n",
       "                                      Probas Preds Labels  \n",
       "0  [0.7122321724891663, 0.28776782751083374]     0      1  \n",
       "1   [0.6513549089431763, 0.3486451208591461]     0      0  \n",
       "2    [0.633863627910614, 0.3661363422870636]     0      0  \n",
       "3  [0.7082125544548035, 0.29178741574287415]     0      0  \n",
       "4   [0.6270381808280945, 0.3729618787765503]     0      1  "
      ]
     },
     "metadata": {},
     "output_type": "display_data"
    },
    {
     "name": "stdout",
     "output_type": "stream",
     "text": [
      "scores =  {'map': '0.5565', 'acc': '0.5020', 'auc': '0.5672'}\n",
      "Epoch =  4 Train = 0.662591 Val = 0.567208\n"
     ]
    },
    {
     "data": {
      "application/vnd.jupyter.widget-view+json": {
       "model_id": "33da715bab2e4d548880203e111f5137",
       "version_major": 2,
       "version_minor": 0
      },
      "text/plain": [
       "HBox(children=(FloatProgress(value=0.0, description='Batches', max=17.0, style=ProgressStyle(description_width…"
      ]
     },
     "metadata": {},
     "output_type": "display_data"
    },
    {
     "name": "stdout",
     "output_type": "stream",
     "text": [
      "\n",
      "Epoch =  5 Loss = 0.458404 LR = 0.00001742\n"
     ]
    },
    {
     "data": {
      "application/vnd.jupyter.widget-view+json": {
       "model_id": "d4678f8c1ea64a7583b4849acb9c373d",
       "version_major": 2,
       "version_minor": 0
      },
      "text/plain": [
       "HBox(children=(FloatProgress(value=0.0, description='Batches', max=17.0, style=ProgressStyle(description_width…"
      ]
     },
     "metadata": {},
     "output_type": "display_data"
    },
    {
     "name": "stdout",
     "output_type": "stream",
     "text": [
      "\n",
      "Epoch =  6 Loss = 0.433595 LR = 0.00002090\n"
     ]
    },
    {
     "data": {
      "application/vnd.jupyter.widget-view+json": {
       "model_id": "70cab1d5fd204c809759b864189f2bb1",
       "version_major": 2,
       "version_minor": 0
      },
      "text/plain": [
       "HBox(children=(FloatProgress(value=0.0, description='Batches', max=17.0, style=ProgressStyle(description_width…"
      ]
     },
     "metadata": {},
     "output_type": "display_data"
    },
    {
     "name": "stdout",
     "output_type": "stream",
     "text": [
      "\n",
      "Epoch =  7 Loss = 0.424410 LR = 0.00002439\n"
     ]
    },
    {
     "data": {
      "application/vnd.jupyter.widget-view+json": {
       "model_id": "8e85c1d3537849a9912343dd17b7bb8a",
       "version_major": 2,
       "version_minor": 0
      },
      "text/plain": [
       "HBox(children=(FloatProgress(value=0.0, description='Generate Predictions', max=34.0, style=ProgressStyle(desc…"
      ]
     },
     "metadata": {},
     "output_type": "display_data"
    },
    {
     "name": "stdout",
     "output_type": "stream",
     "text": [
      "\n"
     ]
    },
    {
     "data": {
      "application/vnd.jupyter.widget-view+json": {
       "model_id": "a4e5ef0634c94937819f8b4e5b48d8c7",
       "version_major": 2,
       "version_minor": 0
      },
      "text/plain": [
       "HBox(children=(FloatProgress(value=0.0, description='Generate Predictions', max=2.0, style=ProgressStyle(descr…"
      ]
     },
     "metadata": {},
     "output_type": "display_data"
    },
    {
     "name": "stdout",
     "output_type": "stream",
     "text": [
      "\n"
     ]
    },
    {
     "data": {
      "text/html": [
       "<div>\n",
       "<style scoped>\n",
       "    .dataframe tbody tr th:only-of-type {\n",
       "        vertical-align: middle;\n",
       "    }\n",
       "\n",
       "    .dataframe tbody tr th {\n",
       "        vertical-align: top;\n",
       "    }\n",
       "\n",
       "    .dataframe thead tr th {\n",
       "        text-align: left;\n",
       "    }\n",
       "\n",
       "    .dataframe thead tr:last-of-type th {\n",
       "        text-align: right;\n",
       "    }\n",
       "</style>\n",
       "<table border=\"1\" class=\"dataframe\">\n",
       "  <thead>\n",
       "    <tr>\n",
       "      <th></th>\n",
       "      <th colspan=\"2\" halign=\"left\">Proba</th>\n",
       "      <th colspan=\"2\" halign=\"left\">Preds</th>\n",
       "    </tr>\n",
       "    <tr>\n",
       "      <th></th>\n",
       "      <th>min</th>\n",
       "      <th>max</th>\n",
       "      <th>min</th>\n",
       "      <th>max</th>\n",
       "    </tr>\n",
       "    <tr>\n",
       "      <th>Labels</th>\n",
       "      <th></th>\n",
       "      <th></th>\n",
       "      <th></th>\n",
       "      <th></th>\n",
       "    </tr>\n",
       "  </thead>\n",
       "  <tbody>\n",
       "    <tr>\n",
       "      <th>0</th>\n",
       "      <td>0.130</td>\n",
       "      <td>0.677</td>\n",
       "      <td>0</td>\n",
       "      <td>1</td>\n",
       "    </tr>\n",
       "    <tr>\n",
       "      <th>1</th>\n",
       "      <td>0.219</td>\n",
       "      <td>0.677</td>\n",
       "      <td>0</td>\n",
       "      <td>1</td>\n",
       "    </tr>\n",
       "  </tbody>\n",
       "</table>\n",
       "</div>"
      ],
      "text/plain": [
       "       Proba       Preds    \n",
       "         min   max   min max\n",
       "Labels                      \n",
       "0      0.130 0.677     0   1\n",
       "1      0.219 0.677     0   1"
      ]
     },
     "metadata": {},
     "output_type": "display_data"
    },
    {
     "data": {
      "text/html": [
       "<div>\n",
       "<style scoped>\n",
       "    .dataframe tbody tr th:only-of-type {\n",
       "        vertical-align: middle;\n",
       "    }\n",
       "\n",
       "    .dataframe tbody tr th {\n",
       "        vertical-align: top;\n",
       "    }\n",
       "\n",
       "    .dataframe thead th {\n",
       "        text-align: right;\n",
       "    }\n",
       "</style>\n",
       "<table border=\"1\" class=\"dataframe\">\n",
       "  <thead>\n",
       "    <tr style=\"text-align: right;\">\n",
       "      <th></th>\n",
       "      <th>Proba</th>\n",
       "      <th>Probas</th>\n",
       "      <th>Preds</th>\n",
       "      <th>Labels</th>\n",
       "      <th>Proba</th>\n",
       "      <th>Probas</th>\n",
       "      <th>Preds</th>\n",
       "      <th>Labels</th>\n",
       "      <th>Proba</th>\n",
       "      <th>Probas</th>\n",
       "      <th>Preds</th>\n",
       "      <th>Labels</th>\n",
       "    </tr>\n",
       "  </thead>\n",
       "  <tbody>\n",
       "    <tr>\n",
       "      <th>0</th>\n",
       "      <td>0.546</td>\n",
       "      <td>[0.45423004031181335, 0.5457699298858643]</td>\n",
       "      <td>1</td>\n",
       "      <td>0</td>\n",
       "      <td>0.417</td>\n",
       "      <td>[0.5827285051345825, 0.4172714948654175]</td>\n",
       "      <td>0</td>\n",
       "      <td>1</td>\n",
       "      <td>0.279</td>\n",
       "      <td>[0.7213507890701294, 0.2786491811275482]</td>\n",
       "      <td>0</td>\n",
       "      <td>0</td>\n",
       "    </tr>\n",
       "    <tr>\n",
       "      <th>1</th>\n",
       "      <td>0.450</td>\n",
       "      <td>[0.5496405959129333, 0.45035937428474426]</td>\n",
       "      <td>0</td>\n",
       "      <td>0</td>\n",
       "      <td>0.518</td>\n",
       "      <td>[0.48194143176078796, 0.5180585384368896]</td>\n",
       "      <td>1</td>\n",
       "      <td>1</td>\n",
       "      <td>0.387</td>\n",
       "      <td>[0.6127732396125793, 0.38722679018974304]</td>\n",
       "      <td>0</td>\n",
       "      <td>0</td>\n",
       "    </tr>\n",
       "    <tr>\n",
       "      <th>2</th>\n",
       "      <td>0.421</td>\n",
       "      <td>[0.5789243578910828, 0.42107561230659485]</td>\n",
       "      <td>0</td>\n",
       "      <td>0</td>\n",
       "      <td>0.264</td>\n",
       "      <td>[0.7364006042480469, 0.2635993957519531]</td>\n",
       "      <td>0</td>\n",
       "      <td>0</td>\n",
       "      <td>0.448</td>\n",
       "      <td>[0.5515737533569336, 0.4484262764453888]</td>\n",
       "      <td>0</td>\n",
       "      <td>0</td>\n",
       "    </tr>\n",
       "    <tr>\n",
       "      <th>3</th>\n",
       "      <td>0.389</td>\n",
       "      <td>[0.6109178066253662, 0.3890821635723114]</td>\n",
       "      <td>0</td>\n",
       "      <td>0</td>\n",
       "      <td>0.442</td>\n",
       "      <td>[0.5583269596099854, 0.44167301058769226]</td>\n",
       "      <td>0</td>\n",
       "      <td>1</td>\n",
       "      <td>0.332</td>\n",
       "      <td>[0.6675812602043152, 0.3324187397956848]</td>\n",
       "      <td>0</td>\n",
       "      <td>0</td>\n",
       "    </tr>\n",
       "    <tr>\n",
       "      <th>4</th>\n",
       "      <td>0.374</td>\n",
       "      <td>[0.6261242032051086, 0.37387582659721375]</td>\n",
       "      <td>0</td>\n",
       "      <td>0</td>\n",
       "      <td>0.508</td>\n",
       "      <td>[0.4916999638080597, 0.5083000063896179]</td>\n",
       "      <td>1</td>\n",
       "      <td>1</td>\n",
       "      <td>0.542</td>\n",
       "      <td>[0.45762142539024353, 0.5423785448074341]</td>\n",
       "      <td>1</td>\n",
       "      <td>0</td>\n",
       "    </tr>\n",
       "  </tbody>\n",
       "</table>\n",
       "</div>"
      ],
      "text/plain": [
       "  Proba                                     Probas Preds Labels Proba  \\\n",
       "0 0.546  [0.45423004031181335, 0.5457699298858643]     1      0 0.417   \n",
       "1 0.450  [0.5496405959129333, 0.45035937428474426]     0      0 0.518   \n",
       "2 0.421  [0.5789243578910828, 0.42107561230659485]     0      0 0.264   \n",
       "3 0.389   [0.6109178066253662, 0.3890821635723114]     0      0 0.442   \n",
       "4 0.374  [0.6261242032051086, 0.37387582659721375]     0      0 0.508   \n",
       "\n",
       "                                      Probas Preds Labels Proba  \\\n",
       "0   [0.5827285051345825, 0.4172714948654175]     0      1 0.279   \n",
       "1  [0.48194143176078796, 0.5180585384368896]     1      1 0.387   \n",
       "2   [0.7364006042480469, 0.2635993957519531]     0      0 0.448   \n",
       "3  [0.5583269596099854, 0.44167301058769226]     0      1 0.332   \n",
       "4   [0.4916999638080597, 0.5083000063896179]     1      1 0.542   \n",
       "\n",
       "                                      Probas Preds Labels  \n",
       "0   [0.7213507890701294, 0.2786491811275482]     0      0  \n",
       "1  [0.6127732396125793, 0.38722679018974304]     0      0  \n",
       "2   [0.5515737533569336, 0.4484262764453888]     0      0  \n",
       "3   [0.6675812602043152, 0.3324187397956848]     0      0  \n",
       "4  [0.45762142539024353, 0.5423785448074341]     1      0  "
      ]
     },
     "metadata": {},
     "output_type": "display_data"
    },
    {
     "name": "stdout",
     "output_type": "stream",
     "text": [
      "scores =  {'map': '0.5983', 'acc': '0.5440', 'auc': '0.6135'}\n",
      "Epoch =  7 Train = 0.733403 Val = 0.613496\n"
     ]
    },
    {
     "data": {
      "application/vnd.jupyter.widget-view+json": {
       "model_id": "5fc424e941a94a18b5e78df3dd4e45dc",
       "version_major": 2,
       "version_minor": 0
      },
      "text/plain": [
       "HBox(children=(FloatProgress(value=0.0, description='Batches', max=17.0, style=ProgressStyle(description_width…"
      ]
     },
     "metadata": {},
     "output_type": "display_data"
    },
    {
     "name": "stdout",
     "output_type": "stream",
     "text": [
      "\n",
      "Epoch =  8 Loss = 0.429194 LR = 0.00002787\n"
     ]
    },
    {
     "data": {
      "application/vnd.jupyter.widget-view+json": {
       "model_id": "9f0aa1c403134c40bec48ac98234781f",
       "version_major": 2,
       "version_minor": 0
      },
      "text/plain": [
       "HBox(children=(FloatProgress(value=0.0, description='Batches', max=17.0, style=ProgressStyle(description_width…"
      ]
     },
     "metadata": {},
     "output_type": "display_data"
    },
    {
     "name": "stdout",
     "output_type": "stream",
     "text": [
      "\n",
      "Epoch =  9 Loss = 0.424447 LR = 0.00003135\n"
     ]
    },
    {
     "data": {
      "application/vnd.jupyter.widget-view+json": {
       "model_id": "51251a97ce7c4c75aa9052890fb85709",
       "version_major": 2,
       "version_minor": 0
      },
      "text/plain": [
       "HBox(children=(FloatProgress(value=0.0, description='Generate Predictions', max=34.0, style=ProgressStyle(desc…"
      ]
     },
     "metadata": {},
     "output_type": "display_data"
    },
    {
     "name": "stdout",
     "output_type": "stream",
     "text": [
      "\n"
     ]
    },
    {
     "data": {
      "application/vnd.jupyter.widget-view+json": {
       "model_id": "4a076b5920c24ac5830015f5fe2c6d3b",
       "version_major": 2,
       "version_minor": 0
      },
      "text/plain": [
       "HBox(children=(FloatProgress(value=0.0, description='Generate Predictions', max=2.0, style=ProgressStyle(descr…"
      ]
     },
     "metadata": {},
     "output_type": "display_data"
    },
    {
     "name": "stdout",
     "output_type": "stream",
     "text": [
      "\n"
     ]
    },
    {
     "data": {
      "text/html": [
       "<div>\n",
       "<style scoped>\n",
       "    .dataframe tbody tr th:only-of-type {\n",
       "        vertical-align: middle;\n",
       "    }\n",
       "\n",
       "    .dataframe tbody tr th {\n",
       "        vertical-align: top;\n",
       "    }\n",
       "\n",
       "    .dataframe thead tr th {\n",
       "        text-align: left;\n",
       "    }\n",
       "\n",
       "    .dataframe thead tr:last-of-type th {\n",
       "        text-align: right;\n",
       "    }\n",
       "</style>\n",
       "<table border=\"1\" class=\"dataframe\">\n",
       "  <thead>\n",
       "    <tr>\n",
       "      <th></th>\n",
       "      <th colspan=\"2\" halign=\"left\">Proba</th>\n",
       "      <th colspan=\"2\" halign=\"left\">Preds</th>\n",
       "    </tr>\n",
       "    <tr>\n",
       "      <th></th>\n",
       "      <th>min</th>\n",
       "      <th>max</th>\n",
       "      <th>min</th>\n",
       "      <th>max</th>\n",
       "    </tr>\n",
       "    <tr>\n",
       "      <th>Labels</th>\n",
       "      <th></th>\n",
       "      <th></th>\n",
       "      <th></th>\n",
       "      <th></th>\n",
       "    </tr>\n",
       "  </thead>\n",
       "  <tbody>\n",
       "    <tr>\n",
       "      <th>0</th>\n",
       "      <td>0.078</td>\n",
       "      <td>0.690</td>\n",
       "      <td>0</td>\n",
       "      <td>1</td>\n",
       "    </tr>\n",
       "    <tr>\n",
       "      <th>1</th>\n",
       "      <td>0.155</td>\n",
       "      <td>0.690</td>\n",
       "      <td>0</td>\n",
       "      <td>1</td>\n",
       "    </tr>\n",
       "  </tbody>\n",
       "</table>\n",
       "</div>"
      ],
      "text/plain": [
       "       Proba       Preds    \n",
       "         min   max   min max\n",
       "Labels                      \n",
       "0      0.078 0.690     0   1\n",
       "1      0.155 0.690     0   1"
      ]
     },
     "metadata": {},
     "output_type": "display_data"
    },
    {
     "data": {
      "text/html": [
       "<div>\n",
       "<style scoped>\n",
       "    .dataframe tbody tr th:only-of-type {\n",
       "        vertical-align: middle;\n",
       "    }\n",
       "\n",
       "    .dataframe tbody tr th {\n",
       "        vertical-align: top;\n",
       "    }\n",
       "\n",
       "    .dataframe thead th {\n",
       "        text-align: right;\n",
       "    }\n",
       "</style>\n",
       "<table border=\"1\" class=\"dataframe\">\n",
       "  <thead>\n",
       "    <tr style=\"text-align: right;\">\n",
       "      <th></th>\n",
       "      <th>Proba</th>\n",
       "      <th>Probas</th>\n",
       "      <th>Preds</th>\n",
       "      <th>Labels</th>\n",
       "      <th>Proba</th>\n",
       "      <th>Probas</th>\n",
       "      <th>Preds</th>\n",
       "      <th>Labels</th>\n",
       "      <th>Proba</th>\n",
       "      <th>Probas</th>\n",
       "      <th>Preds</th>\n",
       "      <th>Labels</th>\n",
       "    </tr>\n",
       "  </thead>\n",
       "  <tbody>\n",
       "    <tr>\n",
       "      <th>0</th>\n",
       "      <td>0.269</td>\n",
       "      <td>[0.7310585975646973, 0.2689414322376251]</td>\n",
       "      <td>0</td>\n",
       "      <td>0</td>\n",
       "      <td>0.421</td>\n",
       "      <td>[0.5794004201889038, 0.4205995798110962]</td>\n",
       "      <td>0</td>\n",
       "      <td>1</td>\n",
       "      <td>0.378</td>\n",
       "      <td>[0.621540904045105, 0.37845906615257263]</td>\n",
       "      <td>0</td>\n",
       "      <td>1</td>\n",
       "    </tr>\n",
       "    <tr>\n",
       "      <th>1</th>\n",
       "      <td>0.406</td>\n",
       "      <td>[0.5940803289413452, 0.4059196412563324]</td>\n",
       "      <td>0</td>\n",
       "      <td>1</td>\n",
       "      <td>0.276</td>\n",
       "      <td>[0.723700225353241, 0.2762998044490814]</td>\n",
       "      <td>0</td>\n",
       "      <td>0</td>\n",
       "      <td>0.366</td>\n",
       "      <td>[0.633863627910614, 0.3661363422870636]</td>\n",
       "      <td>0</td>\n",
       "      <td>0</td>\n",
       "    </tr>\n",
       "    <tr>\n",
       "      <th>2</th>\n",
       "      <td>0.425</td>\n",
       "      <td>[0.5751108527183533, 0.4248892068862915]</td>\n",
       "      <td>0</td>\n",
       "      <td>0</td>\n",
       "      <td>0.506</td>\n",
       "      <td>[0.49365267157554626, 0.5063472986221313]</td>\n",
       "      <td>1</td>\n",
       "      <td>1</td>\n",
       "      <td>0.354</td>\n",
       "      <td>[0.646460235118866, 0.3535397946834564]</td>\n",
       "      <td>0</td>\n",
       "      <td>0</td>\n",
       "    </tr>\n",
       "    <tr>\n",
       "      <th>3</th>\n",
       "      <td>0.277</td>\n",
       "      <td>[0.722527027130127, 0.27747297286987305]</td>\n",
       "      <td>0</td>\n",
       "      <td>0</td>\n",
       "      <td>0.456</td>\n",
       "      <td>[0.5443170070648193, 0.45568299293518066]</td>\n",
       "      <td>0</td>\n",
       "      <td>0</td>\n",
       "      <td>0.346</td>\n",
       "      <td>[0.6540113687515259, 0.3459886312484741]</td>\n",
       "      <td>0</td>\n",
       "      <td>0</td>\n",
       "    </tr>\n",
       "    <tr>\n",
       "      <th>4</th>\n",
       "      <td>0.308</td>\n",
       "      <td>[0.6918097138404846, 0.3081902265548706]</td>\n",
       "      <td>0</td>\n",
       "      <td>0</td>\n",
       "      <td>0.341</td>\n",
       "      <td>[0.6588566899299622, 0.3411433696746826]</td>\n",
       "      <td>0</td>\n",
       "      <td>0</td>\n",
       "      <td>0.288</td>\n",
       "      <td>[0.7122321724891663, 0.28776782751083374]</td>\n",
       "      <td>0</td>\n",
       "      <td>1</td>\n",
       "    </tr>\n",
       "  </tbody>\n",
       "</table>\n",
       "</div>"
      ],
      "text/plain": [
       "  Proba                                    Probas Preds Labels Proba  \\\n",
       "0 0.269  [0.7310585975646973, 0.2689414322376251]     0      0 0.421   \n",
       "1 0.406  [0.5940803289413452, 0.4059196412563324]     0      1 0.276   \n",
       "2 0.425  [0.5751108527183533, 0.4248892068862915]     0      0 0.506   \n",
       "3 0.277  [0.722527027130127, 0.27747297286987305]     0      0 0.456   \n",
       "4 0.308  [0.6918097138404846, 0.3081902265548706]     0      0 0.341   \n",
       "\n",
       "                                      Probas Preds Labels Proba  \\\n",
       "0   [0.5794004201889038, 0.4205995798110962]     0      1 0.378   \n",
       "1    [0.723700225353241, 0.2762998044490814]     0      0 0.366   \n",
       "2  [0.49365267157554626, 0.5063472986221313]     1      1 0.354   \n",
       "3  [0.5443170070648193, 0.45568299293518066]     0      0 0.346   \n",
       "4   [0.6588566899299622, 0.3411433696746826]     0      0 0.288   \n",
       "\n",
       "                                      Probas Preds Labels  \n",
       "0   [0.621540904045105, 0.37845906615257263]     0      1  \n",
       "1    [0.633863627910614, 0.3661363422870636]     0      0  \n",
       "2    [0.646460235118866, 0.3535397946834564]     0      0  \n",
       "3   [0.6540113687515259, 0.3459886312484741]     0      0  \n",
       "4  [0.7122321724891663, 0.28776782751083374]     0      1  "
      ]
     },
     "metadata": {},
     "output_type": "display_data"
    },
    {
     "name": "stdout",
     "output_type": "stream",
     "text": [
      "scores =  {'map': '0.6055', 'acc': '0.5360', 'auc': '0.6188'}\n",
      "Epoch =  9 Train = 0.754105 Val = 0.618816\n"
     ]
    },
    {
     "data": {
      "application/vnd.jupyter.widget-view+json": {
       "model_id": "3878e4ff802949aa8e2a14363b0a07bd",
       "version_major": 2,
       "version_minor": 0
      },
      "text/plain": [
       "HBox(children=(FloatProgress(value=0.0, description='Batches', max=17.0, style=ProgressStyle(description_width…"
      ]
     },
     "metadata": {},
     "output_type": "display_data"
    },
    {
     "name": "stdout",
     "output_type": "stream",
     "text": [
      "\n",
      "Epoch =  10 Loss = 0.422208 LR = 0.00003484\n"
     ]
    },
    {
     "data": {
      "application/vnd.jupyter.widget-view+json": {
       "model_id": "06fb683f7cc2461f8eb2afa9228e479e",
       "version_major": 2,
       "version_minor": 0
      },
      "text/plain": [
       "HBox(children=(FloatProgress(value=0.0, description='Batches', max=17.0, style=ProgressStyle(description_width…"
      ]
     },
     "metadata": {},
     "output_type": "display_data"
    },
    {
     "name": "stdout",
     "output_type": "stream",
     "text": [
      "\n",
      "Epoch =  11 Loss = 0.411855 LR = 0.00003832\n"
     ]
    },
    {
     "data": {
      "application/vnd.jupyter.widget-view+json": {
       "model_id": "7ed1bd037b08438f813f87dfa996ed99",
       "version_major": 2,
       "version_minor": 0
      },
      "text/plain": [
       "HBox(children=(FloatProgress(value=0.0, description='Generate Predictions', max=34.0, style=ProgressStyle(desc…"
      ]
     },
     "metadata": {},
     "output_type": "display_data"
    },
    {
     "name": "stdout",
     "output_type": "stream",
     "text": [
      "\n"
     ]
    },
    {
     "data": {
      "application/vnd.jupyter.widget-view+json": {
       "model_id": "3cb9ff8983b8489e89c2a8b0fc3f177b",
       "version_major": 2,
       "version_minor": 0
      },
      "text/plain": [
       "HBox(children=(FloatProgress(value=0.0, description='Generate Predictions', max=2.0, style=ProgressStyle(descr…"
      ]
     },
     "metadata": {},
     "output_type": "display_data"
    },
    {
     "name": "stdout",
     "output_type": "stream",
     "text": [
      "\n"
     ]
    },
    {
     "data": {
      "text/html": [
       "<div>\n",
       "<style scoped>\n",
       "    .dataframe tbody tr th:only-of-type {\n",
       "        vertical-align: middle;\n",
       "    }\n",
       "\n",
       "    .dataframe tbody tr th {\n",
       "        vertical-align: top;\n",
       "    }\n",
       "\n",
       "    .dataframe thead tr th {\n",
       "        text-align: left;\n",
       "    }\n",
       "\n",
       "    .dataframe thead tr:last-of-type th {\n",
       "        text-align: right;\n",
       "    }\n",
       "</style>\n",
       "<table border=\"1\" class=\"dataframe\">\n",
       "  <thead>\n",
       "    <tr>\n",
       "      <th></th>\n",
       "      <th colspan=\"2\" halign=\"left\">Proba</th>\n",
       "      <th colspan=\"2\" halign=\"left\">Preds</th>\n",
       "    </tr>\n",
       "    <tr>\n",
       "      <th></th>\n",
       "      <th>min</th>\n",
       "      <th>max</th>\n",
       "      <th>min</th>\n",
       "      <th>max</th>\n",
       "    </tr>\n",
       "    <tr>\n",
       "      <th>Labels</th>\n",
       "      <th></th>\n",
       "      <th></th>\n",
       "      <th></th>\n",
       "      <th></th>\n",
       "    </tr>\n",
       "  </thead>\n",
       "  <tbody>\n",
       "    <tr>\n",
       "      <th>0</th>\n",
       "      <td>0.156</td>\n",
       "      <td>0.817</td>\n",
       "      <td>0</td>\n",
       "      <td>1</td>\n",
       "    </tr>\n",
       "    <tr>\n",
       "      <th>1</th>\n",
       "      <td>0.294</td>\n",
       "      <td>0.818</td>\n",
       "      <td>0</td>\n",
       "      <td>1</td>\n",
       "    </tr>\n",
       "  </tbody>\n",
       "</table>\n",
       "</div>"
      ],
      "text/plain": [
       "       Proba       Preds    \n",
       "         min   max   min max\n",
       "Labels                      \n",
       "0      0.156 0.817     0   1\n",
       "1      0.294 0.818     0   1"
      ]
     },
     "metadata": {},
     "output_type": "display_data"
    },
    {
     "data": {
      "text/html": [
       "<div>\n",
       "<style scoped>\n",
       "    .dataframe tbody tr th:only-of-type {\n",
       "        vertical-align: middle;\n",
       "    }\n",
       "\n",
       "    .dataframe tbody tr th {\n",
       "        vertical-align: top;\n",
       "    }\n",
       "\n",
       "    .dataframe thead th {\n",
       "        text-align: right;\n",
       "    }\n",
       "</style>\n",
       "<table border=\"1\" class=\"dataframe\">\n",
       "  <thead>\n",
       "    <tr style=\"text-align: right;\">\n",
       "      <th></th>\n",
       "      <th>Proba</th>\n",
       "      <th>Probas</th>\n",
       "      <th>Preds</th>\n",
       "      <th>Labels</th>\n",
       "      <th>Proba</th>\n",
       "      <th>Probas</th>\n",
       "      <th>Preds</th>\n",
       "      <th>Labels</th>\n",
       "      <th>Proba</th>\n",
       "      <th>Probas</th>\n",
       "      <th>Preds</th>\n",
       "      <th>Labels</th>\n",
       "    </tr>\n",
       "  </thead>\n",
       "  <tbody>\n",
       "    <tr>\n",
       "      <th>0</th>\n",
       "      <td>0.597</td>\n",
       "      <td>[0.4030968248844147, 0.5969031453132629]</td>\n",
       "      <td>1</td>\n",
       "      <td>0</td>\n",
       "      <td>0.475</td>\n",
       "      <td>[0.5253688097000122, 0.4746311604976654]</td>\n",
       "      <td>0</td>\n",
       "      <td>1</td>\n",
       "      <td>0.418</td>\n",
       "      <td>[0.5817784070968628, 0.418221652507782]</td>\n",
       "      <td>0</td>\n",
       "      <td>0</td>\n",
       "    </tr>\n",
       "    <tr>\n",
       "      <th>1</th>\n",
       "      <td>0.463</td>\n",
       "      <td>[0.5365557670593262, 0.4634442627429962]</td>\n",
       "      <td>0</td>\n",
       "      <td>0</td>\n",
       "      <td>0.455</td>\n",
       "      <td>[0.545285701751709, 0.454714298248291]</td>\n",
       "      <td>0</td>\n",
       "      <td>1</td>\n",
       "      <td>0.559</td>\n",
       "      <td>[0.4407099485397339, 0.5592900514602661]</td>\n",
       "      <td>1</td>\n",
       "      <td>1</td>\n",
       "    </tr>\n",
       "    <tr>\n",
       "      <th>2</th>\n",
       "      <td>0.566</td>\n",
       "      <td>[0.4344612956047058, 0.5655386447906494]</td>\n",
       "      <td>1</td>\n",
       "      <td>0</td>\n",
       "      <td>0.456</td>\n",
       "      <td>[0.5443170070648193, 0.45568299293518066]</td>\n",
       "      <td>0</td>\n",
       "      <td>1</td>\n",
       "      <td>0.653</td>\n",
       "      <td>[0.34687307476997375, 0.6531268954277039]</td>\n",
       "      <td>1</td>\n",
       "      <td>0</td>\n",
       "    </tr>\n",
       "    <tr>\n",
       "      <th>3</th>\n",
       "      <td>0.421</td>\n",
       "      <td>[0.5789243578910828, 0.42107561230659485]</td>\n",
       "      <td>0</td>\n",
       "      <td>1</td>\n",
       "      <td>0.560</td>\n",
       "      <td>[0.43974730372428894, 0.5602526664733887]</td>\n",
       "      <td>1</td>\n",
       "      <td>1</td>\n",
       "      <td>0.817</td>\n",
       "      <td>[0.1830088496208191, 0.8169911503791809]</td>\n",
       "      <td>1</td>\n",
       "      <td>1</td>\n",
       "    </tr>\n",
       "    <tr>\n",
       "      <th>4</th>\n",
       "      <td>0.587</td>\n",
       "      <td>[0.4125301241874695, 0.5874698758125305]</td>\n",
       "      <td>1</td>\n",
       "      <td>0</td>\n",
       "      <td>0.646</td>\n",
       "      <td>[0.3535397946834564, 0.646460235118866]</td>\n",
       "      <td>1</td>\n",
       "      <td>0</td>\n",
       "      <td>0.711</td>\n",
       "      <td>[0.2885690927505493, 0.7114308476448059]</td>\n",
       "      <td>1</td>\n",
       "      <td>1</td>\n",
       "    </tr>\n",
       "  </tbody>\n",
       "</table>\n",
       "</div>"
      ],
      "text/plain": [
       "  Proba                                     Probas Preds Labels Proba  \\\n",
       "0 0.597   [0.4030968248844147, 0.5969031453132629]     1      0 0.475   \n",
       "1 0.463   [0.5365557670593262, 0.4634442627429962]     0      0 0.455   \n",
       "2 0.566   [0.4344612956047058, 0.5655386447906494]     1      0 0.456   \n",
       "3 0.421  [0.5789243578910828, 0.42107561230659485]     0      1 0.560   \n",
       "4 0.587   [0.4125301241874695, 0.5874698758125305]     1      0 0.646   \n",
       "\n",
       "                                      Probas Preds Labels Proba  \\\n",
       "0   [0.5253688097000122, 0.4746311604976654]     0      1 0.418   \n",
       "1     [0.545285701751709, 0.454714298248291]     0      1 0.559   \n",
       "2  [0.5443170070648193, 0.45568299293518066]     0      1 0.653   \n",
       "3  [0.43974730372428894, 0.5602526664733887]     1      1 0.817   \n",
       "4    [0.3535397946834564, 0.646460235118866]     1      0 0.711   \n",
       "\n",
       "                                      Probas Preds Labels  \n",
       "0    [0.5817784070968628, 0.418221652507782]     0      0  \n",
       "1   [0.4407099485397339, 0.5592900514602661]     1      1  \n",
       "2  [0.34687307476997375, 0.6531268954277039]     1      0  \n",
       "3   [0.1830088496208191, 0.8169911503791809]     1      1  \n",
       "4   [0.2885690927505493, 0.7114308476448059]     1      1  "
      ]
     },
     "metadata": {},
     "output_type": "display_data"
    },
    {
     "name": "stdout",
     "output_type": "stream",
     "text": [
      "scores =  {'map': '0.6148', 'acc': '0.5780', 'auc': '0.6285'}\n",
      "Epoch =  11 Train = 0.764919 Val = 0.628520\n"
     ]
    },
    {
     "data": {
      "application/vnd.jupyter.widget-view+json": {
       "model_id": "8a41bbad8cd745a0b0319afaa74c10db",
       "version_major": 2,
       "version_minor": 0
      },
      "text/plain": [
       "HBox(children=(FloatProgress(value=0.0, description='Batches', max=17.0, style=ProgressStyle(description_width…"
      ]
     },
     "metadata": {},
     "output_type": "display_data"
    },
    {
     "name": "stdout",
     "output_type": "stream",
     "text": [
      "\n",
      "Epoch =  12 Loss = 0.418798 LR = 0.00004180\n"
     ]
    },
    {
     "data": {
      "application/vnd.jupyter.widget-view+json": {
       "model_id": "b5ccf69e1e7549adae3dc587d53db51b",
       "version_major": 2,
       "version_minor": 0
      },
      "text/plain": [
       "HBox(children=(FloatProgress(value=0.0, description='Batches', max=17.0, style=ProgressStyle(description_width…"
      ]
     },
     "metadata": {},
     "output_type": "display_data"
    },
    {
     "name": "stdout",
     "output_type": "stream",
     "text": [
      "\n",
      "Epoch =  13 Loss = 0.417926 LR = 0.00004529\n"
     ]
    },
    {
     "data": {
      "application/vnd.jupyter.widget-view+json": {
       "model_id": "91f07adce3fd45f1b542bb33347e4f02",
       "version_major": 2,
       "version_minor": 0
      },
      "text/plain": [
       "HBox(children=(FloatProgress(value=0.0, description='Batches', max=17.0, style=ProgressStyle(description_width…"
      ]
     },
     "metadata": {},
     "output_type": "display_data"
    },
    {
     "name": "stdout",
     "output_type": "stream",
     "text": [
      "\n",
      "Epoch =  14 Loss = 0.400045 LR = 0.00004877\n"
     ]
    },
    {
     "data": {
      "application/vnd.jupyter.widget-view+json": {
       "model_id": "e7c0659e6c254bfd8b85d1b99fd97d92",
       "version_major": 2,
       "version_minor": 0
      },
      "text/plain": [
       "HBox(children=(FloatProgress(value=0.0, description='Generate Predictions', max=34.0, style=ProgressStyle(desc…"
      ]
     },
     "metadata": {},
     "output_type": "display_data"
    },
    {
     "name": "stdout",
     "output_type": "stream",
     "text": [
      "\n"
     ]
    },
    {
     "data": {
      "application/vnd.jupyter.widget-view+json": {
       "model_id": "14a7849d217040d9a5cc3cc9dd4206dd",
       "version_major": 2,
       "version_minor": 0
      },
      "text/plain": [
       "HBox(children=(FloatProgress(value=0.0, description='Generate Predictions', max=2.0, style=ProgressStyle(descr…"
      ]
     },
     "metadata": {},
     "output_type": "display_data"
    },
    {
     "name": "stdout",
     "output_type": "stream",
     "text": [
      "\n"
     ]
    },
    {
     "data": {
      "text/html": [
       "<div>\n",
       "<style scoped>\n",
       "    .dataframe tbody tr th:only-of-type {\n",
       "        vertical-align: middle;\n",
       "    }\n",
       "\n",
       "    .dataframe tbody tr th {\n",
       "        vertical-align: top;\n",
       "    }\n",
       "\n",
       "    .dataframe thead tr th {\n",
       "        text-align: left;\n",
       "    }\n",
       "\n",
       "    .dataframe thead tr:last-of-type th {\n",
       "        text-align: right;\n",
       "    }\n",
       "</style>\n",
       "<table border=\"1\" class=\"dataframe\">\n",
       "  <thead>\n",
       "    <tr>\n",
       "      <th></th>\n",
       "      <th colspan=\"2\" halign=\"left\">Proba</th>\n",
       "      <th colspan=\"2\" halign=\"left\">Preds</th>\n",
       "    </tr>\n",
       "    <tr>\n",
       "      <th></th>\n",
       "      <th>min</th>\n",
       "      <th>max</th>\n",
       "      <th>min</th>\n",
       "      <th>max</th>\n",
       "    </tr>\n",
       "    <tr>\n",
       "      <th>Labels</th>\n",
       "      <th></th>\n",
       "      <th></th>\n",
       "      <th></th>\n",
       "      <th></th>\n",
       "    </tr>\n",
       "  </thead>\n",
       "  <tbody>\n",
       "    <tr>\n",
       "      <th>0</th>\n",
       "      <td>0.084</td>\n",
       "      <td>0.715</td>\n",
       "      <td>0</td>\n",
       "      <td>1</td>\n",
       "    </tr>\n",
       "    <tr>\n",
       "      <th>1</th>\n",
       "      <td>0.194</td>\n",
       "      <td>0.715</td>\n",
       "      <td>0</td>\n",
       "      <td>1</td>\n",
       "    </tr>\n",
       "  </tbody>\n",
       "</table>\n",
       "</div>"
      ],
      "text/plain": [
       "       Proba       Preds    \n",
       "         min   max   min max\n",
       "Labels                      \n",
       "0      0.084 0.715     0   1\n",
       "1      0.194 0.715     0   1"
      ]
     },
     "metadata": {},
     "output_type": "display_data"
    },
    {
     "data": {
      "text/html": [
       "<div>\n",
       "<style scoped>\n",
       "    .dataframe tbody tr th:only-of-type {\n",
       "        vertical-align: middle;\n",
       "    }\n",
       "\n",
       "    .dataframe tbody tr th {\n",
       "        vertical-align: top;\n",
       "    }\n",
       "\n",
       "    .dataframe thead th {\n",
       "        text-align: right;\n",
       "    }\n",
       "</style>\n",
       "<table border=\"1\" class=\"dataframe\">\n",
       "  <thead>\n",
       "    <tr style=\"text-align: right;\">\n",
       "      <th></th>\n",
       "      <th>Proba</th>\n",
       "      <th>Probas</th>\n",
       "      <th>Preds</th>\n",
       "      <th>Labels</th>\n",
       "      <th>Proba</th>\n",
       "      <th>Probas</th>\n",
       "      <th>Preds</th>\n",
       "      <th>Labels</th>\n",
       "      <th>Proba</th>\n",
       "      <th>Probas</th>\n",
       "      <th>Preds</th>\n",
       "      <th>Labels</th>\n",
       "    </tr>\n",
       "  </thead>\n",
       "  <tbody>\n",
       "    <tr>\n",
       "      <th>0</th>\n",
       "      <td>0.603</td>\n",
       "      <td>[0.3970029056072235, 0.6029970645904541]</td>\n",
       "      <td>1</td>\n",
       "      <td>0</td>\n",
       "      <td>0.569</td>\n",
       "      <td>[0.4311051368713379, 0.5688949227333069]</td>\n",
       "      <td>1</td>\n",
       "      <td>0</td>\n",
       "      <td>0.237</td>\n",
       "      <td>[0.7631309032440186, 0.23686911165714264]</td>\n",
       "      <td>0</td>\n",
       "      <td>0</td>\n",
       "    </tr>\n",
       "    <tr>\n",
       "      <th>1</th>\n",
       "      <td>0.554</td>\n",
       "      <td>[0.4455295205116272, 0.5544704794883728]</td>\n",
       "      <td>1</td>\n",
       "      <td>0</td>\n",
       "      <td>0.244</td>\n",
       "      <td>[0.7563575506210327, 0.2436424344778061]</td>\n",
       "      <td>0</td>\n",
       "      <td>1</td>\n",
       "      <td>0.629</td>\n",
       "      <td>[0.3711366057395935, 0.6288633942604065]</td>\n",
       "      <td>1</td>\n",
       "      <td>1</td>\n",
       "    </tr>\n",
       "    <tr>\n",
       "      <th>2</th>\n",
       "      <td>0.264</td>\n",
       "      <td>[0.7364006042480469, 0.2635993957519531]</td>\n",
       "      <td>0</td>\n",
       "      <td>1</td>\n",
       "      <td>0.503</td>\n",
       "      <td>[0.4965820908546448, 0.5034179091453552]</td>\n",
       "      <td>1</td>\n",
       "      <td>1</td>\n",
       "      <td>0.308</td>\n",
       "      <td>[0.6918097138404846, 0.3081902265548706]</td>\n",
       "      <td>0</td>\n",
       "      <td>1</td>\n",
       "    </tr>\n",
       "    <tr>\n",
       "      <th>3</th>\n",
       "      <td>0.643</td>\n",
       "      <td>[0.35667070746421814, 0.6433293223381042]</td>\n",
       "      <td>1</td>\n",
       "      <td>1</td>\n",
       "      <td>0.232</td>\n",
       "      <td>[0.7676898241043091, 0.23231014609336853]</td>\n",
       "      <td>0</td>\n",
       "      <td>0</td>\n",
       "      <td>0.531</td>\n",
       "      <td>[0.4687906503677368, 0.531209409236908]</td>\n",
       "      <td>1</td>\n",
       "      <td>0</td>\n",
       "    </tr>\n",
       "    <tr>\n",
       "      <th>4</th>\n",
       "      <td>0.371</td>\n",
       "      <td>[0.6293190717697144, 0.37068089842796326]</td>\n",
       "      <td>0</td>\n",
       "      <td>1</td>\n",
       "      <td>0.364</td>\n",
       "      <td>[0.6356748938560486, 0.3643251061439514]</td>\n",
       "      <td>0</td>\n",
       "      <td>1</td>\n",
       "      <td>0.474</td>\n",
       "      <td>[0.5258558392524719, 0.4741441607475281]</td>\n",
       "      <td>0</td>\n",
       "      <td>1</td>\n",
       "    </tr>\n",
       "  </tbody>\n",
       "</table>\n",
       "</div>"
      ],
      "text/plain": [
       "  Proba                                     Probas Preds Labels Proba  \\\n",
       "0 0.603   [0.3970029056072235, 0.6029970645904541]     1      0 0.569   \n",
       "1 0.554   [0.4455295205116272, 0.5544704794883728]     1      0 0.244   \n",
       "2 0.264   [0.7364006042480469, 0.2635993957519531]     0      1 0.503   \n",
       "3 0.643  [0.35667070746421814, 0.6433293223381042]     1      1 0.232   \n",
       "4 0.371  [0.6293190717697144, 0.37068089842796326]     0      1 0.364   \n",
       "\n",
       "                                      Probas Preds Labels Proba  \\\n",
       "0   [0.4311051368713379, 0.5688949227333069]     1      0 0.237   \n",
       "1   [0.7563575506210327, 0.2436424344778061]     0      1 0.629   \n",
       "2   [0.4965820908546448, 0.5034179091453552]     1      1 0.308   \n",
       "3  [0.7676898241043091, 0.23231014609336853]     0      0 0.531   \n",
       "4   [0.6356748938560486, 0.3643251061439514]     0      1 0.474   \n",
       "\n",
       "                                      Probas Preds Labels  \n",
       "0  [0.7631309032440186, 0.23686911165714264]     0      0  \n",
       "1   [0.3711366057395935, 0.6288633942604065]     1      1  \n",
       "2   [0.6918097138404846, 0.3081902265548706]     0      1  \n",
       "3    [0.4687906503677368, 0.531209409236908]     1      0  \n",
       "4   [0.5258558392524719, 0.4741441607475281]     0      1  "
      ]
     },
     "metadata": {},
     "output_type": "display_data"
    },
    {
     "name": "stdout",
     "output_type": "stream",
     "text": [
      "scores =  {'map': '0.6033', 'acc': '0.5620', 'auc': '0.6284'}\n",
      "Epoch =  14 Train = 0.782101 Val = 0.628408\n"
     ]
    },
    {
     "data": {
      "application/vnd.jupyter.widget-view+json": {
       "model_id": "1ee3d706890449b6a16c918b0702173a",
       "version_major": 2,
       "version_minor": 0
      },
      "text/plain": [
       "HBox(children=(FloatProgress(value=0.0, description='Batches', max=17.0, style=ProgressStyle(description_width…"
      ]
     },
     "metadata": {},
     "output_type": "display_data"
    },
    {
     "name": "stdout",
     "output_type": "stream",
     "text": [
      "\n",
      "Epoch =  15 Loss = 0.405846 LR = 0.00004995\n"
     ]
    },
    {
     "data": {
      "application/vnd.jupyter.widget-view+json": {
       "model_id": "970f8808924944099fdac1040f7c016f",
       "version_major": 2,
       "version_minor": 0
      },
      "text/plain": [
       "HBox(children=(FloatProgress(value=0.0, description='Batches', max=17.0, style=ProgressStyle(description_width…"
      ]
     },
     "metadata": {},
     "output_type": "display_data"
    },
    {
     "name": "stdout",
     "output_type": "stream",
     "text": [
      "\n",
      "Epoch =  16 Loss = 0.425031 LR = 0.00004970\n"
     ]
    },
    {
     "data": {
      "application/vnd.jupyter.widget-view+json": {
       "model_id": "0163a5f40a334e9bade83c1a735384bf",
       "version_major": 2,
       "version_minor": 0
      },
      "text/plain": [
       "HBox(children=(FloatProgress(value=0.0, description='Batches', max=17.0, style=ProgressStyle(description_width…"
      ]
     },
     "metadata": {},
     "output_type": "display_data"
    },
    {
     "name": "stdout",
     "output_type": "stream",
     "text": [
      "\n",
      "Epoch =  17 Loss = 0.389905 LR = 0.00004924\n"
     ]
    },
    {
     "data": {
      "application/vnd.jupyter.widget-view+json": {
       "model_id": "b1b17ba49c514e37b09d7d44f3c27dd7",
       "version_major": 2,
       "version_minor": 0
      },
      "text/plain": [
       "HBox(children=(FloatProgress(value=0.0, description='Generate Predictions', max=34.0, style=ProgressStyle(desc…"
      ]
     },
     "metadata": {},
     "output_type": "display_data"
    },
    {
     "name": "stdout",
     "output_type": "stream",
     "text": [
      "\n"
     ]
    },
    {
     "data": {
      "application/vnd.jupyter.widget-view+json": {
       "model_id": "129d8223f7b84fb2aab53577bd5f4f7c",
       "version_major": 2,
       "version_minor": 0
      },
      "text/plain": [
       "HBox(children=(FloatProgress(value=0.0, description='Generate Predictions', max=2.0, style=ProgressStyle(descr…"
      ]
     },
     "metadata": {},
     "output_type": "display_data"
    },
    {
     "name": "stdout",
     "output_type": "stream",
     "text": [
      "\n"
     ]
    },
    {
     "data": {
      "text/html": [
       "<div>\n",
       "<style scoped>\n",
       "    .dataframe tbody tr th:only-of-type {\n",
       "        vertical-align: middle;\n",
       "    }\n",
       "\n",
       "    .dataframe tbody tr th {\n",
       "        vertical-align: top;\n",
       "    }\n",
       "\n",
       "    .dataframe thead tr th {\n",
       "        text-align: left;\n",
       "    }\n",
       "\n",
       "    .dataframe thead tr:last-of-type th {\n",
       "        text-align: right;\n",
       "    }\n",
       "</style>\n",
       "<table border=\"1\" class=\"dataframe\">\n",
       "  <thead>\n",
       "    <tr>\n",
       "      <th></th>\n",
       "      <th colspan=\"2\" halign=\"left\">Proba</th>\n",
       "      <th colspan=\"2\" halign=\"left\">Preds</th>\n",
       "    </tr>\n",
       "    <tr>\n",
       "      <th></th>\n",
       "      <th>min</th>\n",
       "      <th>max</th>\n",
       "      <th>min</th>\n",
       "      <th>max</th>\n",
       "    </tr>\n",
       "    <tr>\n",
       "      <th>Labels</th>\n",
       "      <th></th>\n",
       "      <th></th>\n",
       "      <th></th>\n",
       "      <th></th>\n",
       "    </tr>\n",
       "  </thead>\n",
       "  <tbody>\n",
       "    <tr>\n",
       "      <th>0</th>\n",
       "      <td>0.090</td>\n",
       "      <td>0.678</td>\n",
       "      <td>0</td>\n",
       "      <td>1</td>\n",
       "    </tr>\n",
       "    <tr>\n",
       "      <th>1</th>\n",
       "      <td>0.173</td>\n",
       "      <td>0.680</td>\n",
       "      <td>0</td>\n",
       "      <td>1</td>\n",
       "    </tr>\n",
       "  </tbody>\n",
       "</table>\n",
       "</div>"
      ],
      "text/plain": [
       "       Proba       Preds    \n",
       "         min   max   min max\n",
       "Labels                      \n",
       "0      0.090 0.678     0   1\n",
       "1      0.173 0.680     0   1"
      ]
     },
     "metadata": {},
     "output_type": "display_data"
    },
    {
     "data": {
      "text/html": [
       "<div>\n",
       "<style scoped>\n",
       "    .dataframe tbody tr th:only-of-type {\n",
       "        vertical-align: middle;\n",
       "    }\n",
       "\n",
       "    .dataframe tbody tr th {\n",
       "        vertical-align: top;\n",
       "    }\n",
       "\n",
       "    .dataframe thead th {\n",
       "        text-align: right;\n",
       "    }\n",
       "</style>\n",
       "<table border=\"1\" class=\"dataframe\">\n",
       "  <thead>\n",
       "    <tr style=\"text-align: right;\">\n",
       "      <th></th>\n",
       "      <th>Proba</th>\n",
       "      <th>Probas</th>\n",
       "      <th>Preds</th>\n",
       "      <th>Labels</th>\n",
       "      <th>Proba</th>\n",
       "      <th>Probas</th>\n",
       "      <th>Preds</th>\n",
       "      <th>Labels</th>\n",
       "      <th>Proba</th>\n",
       "      <th>Probas</th>\n",
       "      <th>Preds</th>\n",
       "      <th>Labels</th>\n",
       "    </tr>\n",
       "  </thead>\n",
       "  <tbody>\n",
       "    <tr>\n",
       "      <th>0</th>\n",
       "      <td>0.294</td>\n",
       "      <td>[0.7057850360870361, 0.29421496391296387]</td>\n",
       "      <td>0</td>\n",
       "      <td>1</td>\n",
       "      <td>0.288</td>\n",
       "      <td>[0.7118317484855652, 0.2881683111190796]</td>\n",
       "      <td>0</td>\n",
       "      <td>0</td>\n",
       "      <td>0.345</td>\n",
       "      <td>[0.6553360223770142, 0.3446640074253082]</td>\n",
       "      <td>0</td>\n",
       "      <td>0</td>\n",
       "    </tr>\n",
       "    <tr>\n",
       "      <th>1</th>\n",
       "      <td>0.489</td>\n",
       "      <td>[0.5107405185699463, 0.4892594516277313]</td>\n",
       "      <td>0</td>\n",
       "      <td>1</td>\n",
       "      <td>0.493</td>\n",
       "      <td>[0.5068355202674866, 0.4931644797325134]</td>\n",
       "      <td>0</td>\n",
       "      <td>1</td>\n",
       "      <td>0.444</td>\n",
       "      <td>[0.5563995838165283, 0.4436004161834717]</td>\n",
       "      <td>0</td>\n",
       "      <td>0</td>\n",
       "    </tr>\n",
       "    <tr>\n",
       "      <th>2</th>\n",
       "      <td>0.633</td>\n",
       "      <td>[0.3670433759689331, 0.6329566240310669]</td>\n",
       "      <td>1</td>\n",
       "      <td>0</td>\n",
       "      <td>0.174</td>\n",
       "      <td>[0.8255897164344788, 0.17441026866436005]</td>\n",
       "      <td>0</td>\n",
       "      <td>0</td>\n",
       "      <td>0.379</td>\n",
       "      <td>[0.6210813522338867, 0.3789186179637909]</td>\n",
       "      <td>0</td>\n",
       "      <td>0</td>\n",
       "    </tr>\n",
       "    <tr>\n",
       "      <th>3</th>\n",
       "      <td>0.440</td>\n",
       "      <td>[0.5597714185714722, 0.44022858142852783]</td>\n",
       "      <td>0</td>\n",
       "      <td>0</td>\n",
       "      <td>0.538</td>\n",
       "      <td>[0.46198752522468567, 0.5380124449729919]</td>\n",
       "      <td>1</td>\n",
       "      <td>1</td>\n",
       "      <td>0.303</td>\n",
       "      <td>[0.696784257888794, 0.30321574211120605]</td>\n",
       "      <td>0</td>\n",
       "      <td>0</td>\n",
       "    </tr>\n",
       "    <tr>\n",
       "      <th>4</th>\n",
       "      <td>0.395</td>\n",
       "      <td>[0.6053325533866882, 0.39466747641563416]</td>\n",
       "      <td>0</td>\n",
       "      <td>1</td>\n",
       "      <td>0.359</td>\n",
       "      <td>[0.6410853862762451, 0.3589146137237549]</td>\n",
       "      <td>0</td>\n",
       "      <td>0</td>\n",
       "      <td>0.538</td>\n",
       "      <td>[0.46198752522468567, 0.5380124449729919]</td>\n",
       "      <td>1</td>\n",
       "      <td>1</td>\n",
       "    </tr>\n",
       "  </tbody>\n",
       "</table>\n",
       "</div>"
      ],
      "text/plain": [
       "  Proba                                     Probas Preds Labels Proba  \\\n",
       "0 0.294  [0.7057850360870361, 0.29421496391296387]     0      1 0.288   \n",
       "1 0.489   [0.5107405185699463, 0.4892594516277313]     0      1 0.493   \n",
       "2 0.633   [0.3670433759689331, 0.6329566240310669]     1      0 0.174   \n",
       "3 0.440  [0.5597714185714722, 0.44022858142852783]     0      0 0.538   \n",
       "4 0.395  [0.6053325533866882, 0.39466747641563416]     0      1 0.359   \n",
       "\n",
       "                                      Probas Preds Labels Proba  \\\n",
       "0   [0.7118317484855652, 0.2881683111190796]     0      0 0.345   \n",
       "1   [0.5068355202674866, 0.4931644797325134]     0      1 0.444   \n",
       "2  [0.8255897164344788, 0.17441026866436005]     0      0 0.379   \n",
       "3  [0.46198752522468567, 0.5380124449729919]     1      1 0.303   \n",
       "4   [0.6410853862762451, 0.3589146137237549]     0      0 0.538   \n",
       "\n",
       "                                      Probas Preds Labels  \n",
       "0   [0.6553360223770142, 0.3446640074253082]     0      0  \n",
       "1   [0.5563995838165283, 0.4436004161834717]     0      0  \n",
       "2   [0.6210813522338867, 0.3789186179637909]     0      0  \n",
       "3   [0.696784257888794, 0.30321574211120605]     0      0  \n",
       "4  [0.46198752522468567, 0.5380124449729919]     1      1  "
      ]
     },
     "metadata": {},
     "output_type": "display_data"
    },
    {
     "name": "stdout",
     "output_type": "stream",
     "text": [
      "scores =  {'map': '0.6057', 'acc': '0.5360', 'auc': '0.6358'}\n",
      "Epoch =  17 Train = 0.791478 Val = 0.635800\n"
     ]
    },
    {
     "data": {
      "application/vnd.jupyter.widget-view+json": {
       "model_id": "c3e554d384d54ad686ecab99f08af357",
       "version_major": 2,
       "version_minor": 0
      },
      "text/plain": [
       "HBox(children=(FloatProgress(value=0.0, description='Batches', max=17.0, style=ProgressStyle(description_width…"
      ]
     },
     "metadata": {},
     "output_type": "display_data"
    },
    {
     "name": "stdout",
     "output_type": "stream",
     "text": [
      "\n",
      "Epoch =  18 Loss = 0.394683 LR = 0.00004856\n"
     ]
    },
    {
     "data": {
      "application/vnd.jupyter.widget-view+json": {
       "model_id": "edf00cf6f33e4e75bf78fbfdcc6df5e2",
       "version_major": 2,
       "version_minor": 0
      },
      "text/plain": [
       "HBox(children=(FloatProgress(value=0.0, description='Batches', max=17.0, style=ProgressStyle(description_width…"
      ]
     },
     "metadata": {},
     "output_type": "display_data"
    },
    {
     "name": "stdout",
     "output_type": "stream",
     "text": [
      "\n",
      "Epoch =  19 Loss = 0.392908 LR = 0.00004768\n"
     ]
    },
    {
     "data": {
      "application/vnd.jupyter.widget-view+json": {
       "model_id": "1d529b574fdb4c1cb9784a043997aef8",
       "version_major": 2,
       "version_minor": 0
      },
      "text/plain": [
       "HBox(children=(FloatProgress(value=0.0, description='Generate Predictions', max=34.0, style=ProgressStyle(desc…"
      ]
     },
     "metadata": {},
     "output_type": "display_data"
    },
    {
     "name": "stdout",
     "output_type": "stream",
     "text": [
      "\n"
     ]
    },
    {
     "data": {
      "application/vnd.jupyter.widget-view+json": {
       "model_id": "51956757f0c84ca4a539e8922860f6f4",
       "version_major": 2,
       "version_minor": 0
      },
      "text/plain": [
       "HBox(children=(FloatProgress(value=0.0, description='Generate Predictions', max=2.0, style=ProgressStyle(descr…"
      ]
     },
     "metadata": {},
     "output_type": "display_data"
    },
    {
     "name": "stdout",
     "output_type": "stream",
     "text": [
      "\n"
     ]
    },
    {
     "data": {
      "text/html": [
       "<div>\n",
       "<style scoped>\n",
       "    .dataframe tbody tr th:only-of-type {\n",
       "        vertical-align: middle;\n",
       "    }\n",
       "\n",
       "    .dataframe tbody tr th {\n",
       "        vertical-align: top;\n",
       "    }\n",
       "\n",
       "    .dataframe thead tr th {\n",
       "        text-align: left;\n",
       "    }\n",
       "\n",
       "    .dataframe thead tr:last-of-type th {\n",
       "        text-align: right;\n",
       "    }\n",
       "</style>\n",
       "<table border=\"1\" class=\"dataframe\">\n",
       "  <thead>\n",
       "    <tr>\n",
       "      <th></th>\n",
       "      <th colspan=\"2\" halign=\"left\">Proba</th>\n",
       "      <th colspan=\"2\" halign=\"left\">Preds</th>\n",
       "    </tr>\n",
       "    <tr>\n",
       "      <th></th>\n",
       "      <th>min</th>\n",
       "      <th>max</th>\n",
       "      <th>min</th>\n",
       "      <th>max</th>\n",
       "    </tr>\n",
       "    <tr>\n",
       "      <th>Labels</th>\n",
       "      <th></th>\n",
       "      <th></th>\n",
       "      <th></th>\n",
       "      <th></th>\n",
       "    </tr>\n",
       "  </thead>\n",
       "  <tbody>\n",
       "    <tr>\n",
       "      <th>0</th>\n",
       "      <td>0.107</td>\n",
       "      <td>0.792</td>\n",
       "      <td>0</td>\n",
       "      <td>1</td>\n",
       "    </tr>\n",
       "    <tr>\n",
       "      <th>1</th>\n",
       "      <td>0.201</td>\n",
       "      <td>0.792</td>\n",
       "      <td>0</td>\n",
       "      <td>1</td>\n",
       "    </tr>\n",
       "  </tbody>\n",
       "</table>\n",
       "</div>"
      ],
      "text/plain": [
       "       Proba       Preds    \n",
       "         min   max   min max\n",
       "Labels                      \n",
       "0      0.107 0.792     0   1\n",
       "1      0.201 0.792     0   1"
      ]
     },
     "metadata": {},
     "output_type": "display_data"
    },
    {
     "data": {
      "text/html": [
       "<div>\n",
       "<style scoped>\n",
       "    .dataframe tbody tr th:only-of-type {\n",
       "        vertical-align: middle;\n",
       "    }\n",
       "\n",
       "    .dataframe tbody tr th {\n",
       "        vertical-align: top;\n",
       "    }\n",
       "\n",
       "    .dataframe thead th {\n",
       "        text-align: right;\n",
       "    }\n",
       "</style>\n",
       "<table border=\"1\" class=\"dataframe\">\n",
       "  <thead>\n",
       "    <tr style=\"text-align: right;\">\n",
       "      <th></th>\n",
       "      <th>Proba</th>\n",
       "      <th>Probas</th>\n",
       "      <th>Preds</th>\n",
       "      <th>Labels</th>\n",
       "      <th>Proba</th>\n",
       "      <th>Probas</th>\n",
       "      <th>Preds</th>\n",
       "      <th>Labels</th>\n",
       "      <th>Proba</th>\n",
       "      <th>Probas</th>\n",
       "      <th>Preds</th>\n",
       "      <th>Labels</th>\n",
       "    </tr>\n",
       "  </thead>\n",
       "  <tbody>\n",
       "    <tr>\n",
       "      <th>0</th>\n",
       "      <td>0.491</td>\n",
       "      <td>[0.509276270866394, 0.49072372913360596]</td>\n",
       "      <td>0</td>\n",
       "      <td>0</td>\n",
       "      <td>0.230</td>\n",
       "      <td>[0.7701191902160645, 0.22988080978393555]</td>\n",
       "      <td>0</td>\n",
       "      <td>0</td>\n",
       "      <td>0.404</td>\n",
       "      <td>[0.596433162689209, 0.403566837310791]</td>\n",
       "      <td>0</td>\n",
       "      <td>0</td>\n",
       "    </tr>\n",
       "    <tr>\n",
       "      <th>1</th>\n",
       "      <td>0.582</td>\n",
       "      <td>[0.41774648427963257, 0.5822535157203674]</td>\n",
       "      <td>1</td>\n",
       "      <td>1</td>\n",
       "      <td>0.776</td>\n",
       "      <td>[0.22371606528759003, 0.7762839198112488]</td>\n",
       "      <td>1</td>\n",
       "      <td>1</td>\n",
       "      <td>0.552</td>\n",
       "      <td>[0.44794324040412903, 0.5520567893981934]</td>\n",
       "      <td>1</td>\n",
       "      <td>1</td>\n",
       "    </tr>\n",
       "    <tr>\n",
       "      <th>2</th>\n",
       "      <td>0.353</td>\n",
       "      <td>[0.6473524570465088, 0.3526475131511688]</td>\n",
       "      <td>0</td>\n",
       "      <td>0</td>\n",
       "      <td>0.461</td>\n",
       "      <td>[0.5389832258224487, 0.46101677417755127]</td>\n",
       "      <td>0</td>\n",
       "      <td>1</td>\n",
       "      <td>0.578</td>\n",
       "      <td>[0.422028124332428, 0.5779718160629272]</td>\n",
       "      <td>1</td>\n",
       "      <td>1</td>\n",
       "    </tr>\n",
       "    <tr>\n",
       "      <th>3</th>\n",
       "      <td>0.249</td>\n",
       "      <td>[0.7509182095527649, 0.24908174574375153]</td>\n",
       "      <td>0</td>\n",
       "      <td>0</td>\n",
       "      <td>0.574</td>\n",
       "      <td>[0.4263215959072113, 0.5736784338951111]</td>\n",
       "      <td>1</td>\n",
       "      <td>0</td>\n",
       "      <td>0.353</td>\n",
       "      <td>[0.6473524570465088, 0.3526475131511688]</td>\n",
       "      <td>0</td>\n",
       "      <td>1</td>\n",
       "    </tr>\n",
       "    <tr>\n",
       "      <th>4</th>\n",
       "      <td>0.377</td>\n",
       "      <td>[0.6229182481765747, 0.3770817816257477]</td>\n",
       "      <td>0</td>\n",
       "      <td>1</td>\n",
       "      <td>0.704</td>\n",
       "      <td>[0.29624688625335693, 0.7037531733512878]</td>\n",
       "      <td>1</td>\n",
       "      <td>1</td>\n",
       "      <td>0.444</td>\n",
       "      <td>[0.555917501449585, 0.4440825581550598]</td>\n",
       "      <td>0</td>\n",
       "      <td>1</td>\n",
       "    </tr>\n",
       "  </tbody>\n",
       "</table>\n",
       "</div>"
      ],
      "text/plain": [
       "  Proba                                     Probas Preds Labels Proba  \\\n",
       "0 0.491   [0.509276270866394, 0.49072372913360596]     0      0 0.230   \n",
       "1 0.582  [0.41774648427963257, 0.5822535157203674]     1      1 0.776   \n",
       "2 0.353   [0.6473524570465088, 0.3526475131511688]     0      0 0.461   \n",
       "3 0.249  [0.7509182095527649, 0.24908174574375153]     0      0 0.574   \n",
       "4 0.377   [0.6229182481765747, 0.3770817816257477]     0      1 0.704   \n",
       "\n",
       "                                      Probas Preds Labels Proba  \\\n",
       "0  [0.7701191902160645, 0.22988080978393555]     0      0 0.404   \n",
       "1  [0.22371606528759003, 0.7762839198112488]     1      1 0.552   \n",
       "2  [0.5389832258224487, 0.46101677417755127]     0      1 0.578   \n",
       "3   [0.4263215959072113, 0.5736784338951111]     1      0 0.353   \n",
       "4  [0.29624688625335693, 0.7037531733512878]     1      1 0.444   \n",
       "\n",
       "                                      Probas Preds Labels  \n",
       "0     [0.596433162689209, 0.403566837310791]     0      0  \n",
       "1  [0.44794324040412903, 0.5520567893981934]     1      1  \n",
       "2    [0.422028124332428, 0.5779718160629272]     1      1  \n",
       "3   [0.6473524570465088, 0.3526475131511688]     0      1  \n",
       "4    [0.555917501449585, 0.4440825581550598]     0      1  "
      ]
     },
     "metadata": {},
     "output_type": "display_data"
    },
    {
     "name": "stdout",
     "output_type": "stream",
     "text": [
      "scores =  {'map': '0.6111', 'acc': '0.5660', 'auc': '0.6451'}\n",
      "Epoch =  19 Train = 0.799256 Val = 0.645064\n"
     ]
    },
    {
     "data": {
      "application/vnd.jupyter.widget-view+json": {
       "model_id": "ed3a2f4b5e0c40218fdb5338ec46e2d9",
       "version_major": 2,
       "version_minor": 0
      },
      "text/plain": [
       "HBox(children=(FloatProgress(value=0.0, description='Batches', max=17.0, style=ProgressStyle(description_width…"
      ]
     },
     "metadata": {},
     "output_type": "display_data"
    },
    {
     "name": "stdout",
     "output_type": "stream",
     "text": [
      "\n",
      "Epoch =  20 Loss = 0.381273 LR = 0.00004660\n"
     ]
    },
    {
     "data": {
      "application/vnd.jupyter.widget-view+json": {
       "model_id": "8952c81858dd4a19a6fcab603d9e4b8b",
       "version_major": 2,
       "version_minor": 0
      },
      "text/plain": [
       "HBox(children=(FloatProgress(value=0.0, description='Batches', max=17.0, style=ProgressStyle(description_width…"
      ]
     },
     "metadata": {},
     "output_type": "display_data"
    },
    {
     "name": "stdout",
     "output_type": "stream",
     "text": [
      "\n",
      "Epoch =  21 Loss = 0.378346 LR = 0.00004534\n"
     ]
    },
    {
     "data": {
      "application/vnd.jupyter.widget-view+json": {
       "model_id": "c2ba5c55e28a45219c7ad86eb097c12c",
       "version_major": 2,
       "version_minor": 0
      },
      "text/plain": [
       "HBox(children=(FloatProgress(value=0.0, description='Batches', max=17.0, style=ProgressStyle(description_width…"
      ]
     },
     "metadata": {},
     "output_type": "display_data"
    },
    {
     "name": "stdout",
     "output_type": "stream",
     "text": [
      "\n",
      "Epoch =  22 Loss = 0.380359 LR = 0.00004389\n"
     ]
    },
    {
     "data": {
      "application/vnd.jupyter.widget-view+json": {
       "model_id": "e1e0a68928a9463ab93a11e891c29f70",
       "version_major": 2,
       "version_minor": 0
      },
      "text/plain": [
       "HBox(children=(FloatProgress(value=0.0, description='Batches', max=17.0, style=ProgressStyle(description_width…"
      ]
     },
     "metadata": {},
     "output_type": "display_data"
    },
    {
     "name": "stdout",
     "output_type": "stream",
     "text": [
      "\n",
      "Epoch =  23 Loss = 0.377112 LR = 0.00004229\n"
     ]
    },
    {
     "data": {
      "application/vnd.jupyter.widget-view+json": {
       "model_id": "1722b34ee79b4b7fbd7b2cb4c17f7e43",
       "version_major": 2,
       "version_minor": 0
      },
      "text/plain": [
       "HBox(children=(FloatProgress(value=0.0, description='Generate Predictions', max=34.0, style=ProgressStyle(desc…"
      ]
     },
     "metadata": {},
     "output_type": "display_data"
    },
    {
     "name": "stdout",
     "output_type": "stream",
     "text": [
      "\n"
     ]
    },
    {
     "data": {
      "application/vnd.jupyter.widget-view+json": {
       "model_id": "3848b80ad2de47b7a45118c0dded1119",
       "version_major": 2,
       "version_minor": 0
      },
      "text/plain": [
       "HBox(children=(FloatProgress(value=0.0, description='Generate Predictions', max=2.0, style=ProgressStyle(descr…"
      ]
     },
     "metadata": {},
     "output_type": "display_data"
    },
    {
     "name": "stdout",
     "output_type": "stream",
     "text": [
      "\n"
     ]
    },
    {
     "data": {
      "text/html": [
       "<div>\n",
       "<style scoped>\n",
       "    .dataframe tbody tr th:only-of-type {\n",
       "        vertical-align: middle;\n",
       "    }\n",
       "\n",
       "    .dataframe tbody tr th {\n",
       "        vertical-align: top;\n",
       "    }\n",
       "\n",
       "    .dataframe thead tr th {\n",
       "        text-align: left;\n",
       "    }\n",
       "\n",
       "    .dataframe thead tr:last-of-type th {\n",
       "        text-align: right;\n",
       "    }\n",
       "</style>\n",
       "<table border=\"1\" class=\"dataframe\">\n",
       "  <thead>\n",
       "    <tr>\n",
       "      <th></th>\n",
       "      <th colspan=\"2\" halign=\"left\">Proba</th>\n",
       "      <th colspan=\"2\" halign=\"left\">Preds</th>\n",
       "    </tr>\n",
       "    <tr>\n",
       "      <th></th>\n",
       "      <th>min</th>\n",
       "      <th>max</th>\n",
       "      <th>min</th>\n",
       "      <th>max</th>\n",
       "    </tr>\n",
       "    <tr>\n",
       "      <th>Labels</th>\n",
       "      <th></th>\n",
       "      <th></th>\n",
       "      <th></th>\n",
       "      <th></th>\n",
       "    </tr>\n",
       "  </thead>\n",
       "  <tbody>\n",
       "    <tr>\n",
       "      <th>0</th>\n",
       "      <td>0.101</td>\n",
       "      <td>0.810</td>\n",
       "      <td>0</td>\n",
       "      <td>1</td>\n",
       "    </tr>\n",
       "    <tr>\n",
       "      <th>1</th>\n",
       "      <td>0.229</td>\n",
       "      <td>0.848</td>\n",
       "      <td>0</td>\n",
       "      <td>1</td>\n",
       "    </tr>\n",
       "  </tbody>\n",
       "</table>\n",
       "</div>"
      ],
      "text/plain": [
       "       Proba       Preds    \n",
       "         min   max   min max\n",
       "Labels                      \n",
       "0      0.101 0.810     0   1\n",
       "1      0.229 0.848     0   1"
      ]
     },
     "metadata": {},
     "output_type": "display_data"
    },
    {
     "data": {
      "text/html": [
       "<div>\n",
       "<style scoped>\n",
       "    .dataframe tbody tr th:only-of-type {\n",
       "        vertical-align: middle;\n",
       "    }\n",
       "\n",
       "    .dataframe tbody tr th {\n",
       "        vertical-align: top;\n",
       "    }\n",
       "\n",
       "    .dataframe thead th {\n",
       "        text-align: right;\n",
       "    }\n",
       "</style>\n",
       "<table border=\"1\" class=\"dataframe\">\n",
       "  <thead>\n",
       "    <tr style=\"text-align: right;\">\n",
       "      <th></th>\n",
       "      <th>Proba</th>\n",
       "      <th>Probas</th>\n",
       "      <th>Preds</th>\n",
       "      <th>Labels</th>\n",
       "      <th>Proba</th>\n",
       "      <th>Probas</th>\n",
       "      <th>Preds</th>\n",
       "      <th>Labels</th>\n",
       "      <th>Proba</th>\n",
       "      <th>Probas</th>\n",
       "      <th>Preds</th>\n",
       "      <th>Labels</th>\n",
       "    </tr>\n",
       "  </thead>\n",
       "  <tbody>\n",
       "    <tr>\n",
       "      <th>0</th>\n",
       "      <td>0.751</td>\n",
       "      <td>[0.24908174574375153, 0.7509182095527649]</td>\n",
       "      <td>1</td>\n",
       "      <td>1</td>\n",
       "      <td>0.497</td>\n",
       "      <td>[0.5029296278953552, 0.4970703423023224]</td>\n",
       "      <td>0</td>\n",
       "      <td>0</td>\n",
       "      <td>0.668</td>\n",
       "      <td>[0.3319854438304901, 0.6680145263671875]</td>\n",
       "      <td>1</td>\n",
       "      <td>0</td>\n",
       "    </tr>\n",
       "    <tr>\n",
       "      <th>1</th>\n",
       "      <td>0.641</td>\n",
       "      <td>[0.3589146137237549, 0.6410853862762451]</td>\n",
       "      <td>1</td>\n",
       "      <td>1</td>\n",
       "      <td>0.473</td>\n",
       "      <td>[0.526829719543457, 0.47317034006118774]</td>\n",
       "      <td>0</td>\n",
       "      <td>0</td>\n",
       "      <td>0.431</td>\n",
       "      <td>[0.5693738460540771, 0.43062615394592285]</td>\n",
       "      <td>0</td>\n",
       "      <td>0</td>\n",
       "    </tr>\n",
       "    <tr>\n",
       "      <th>2</th>\n",
       "      <td>0.353</td>\n",
       "      <td>[0.6469064354896545, 0.35309356451034546]</td>\n",
       "      <td>0</td>\n",
       "      <td>0</td>\n",
       "      <td>0.642</td>\n",
       "      <td>[0.3580162823200226, 0.641983687877655]</td>\n",
       "      <td>1</td>\n",
       "      <td>1</td>\n",
       "      <td>0.542</td>\n",
       "      <td>[0.45762142539024353, 0.5423785448074341]</td>\n",
       "      <td>1</td>\n",
       "      <td>1</td>\n",
       "    </tr>\n",
       "    <tr>\n",
       "      <th>3</th>\n",
       "      <td>0.384</td>\n",
       "      <td>[0.61555016040802, 0.3844498097896576]</td>\n",
       "      <td>0</td>\n",
       "      <td>0</td>\n",
       "      <td>0.335</td>\n",
       "      <td>[0.665410578250885, 0.3345894515514374]</td>\n",
       "      <td>0</td>\n",
       "      <td>1</td>\n",
       "      <td>0.435</td>\n",
       "      <td>[0.5650587677955627, 0.43494123220443726]</td>\n",
       "      <td>0</td>\n",
       "      <td>1</td>\n",
       "    </tr>\n",
       "    <tr>\n",
       "      <th>4</th>\n",
       "      <td>0.363</td>\n",
       "      <td>[0.6374822854995728, 0.36251774430274963]</td>\n",
       "      <td>0</td>\n",
       "      <td>1</td>\n",
       "      <td>0.370</td>\n",
       "      <td>[0.6302298903465271, 0.3697701096534729]</td>\n",
       "      <td>0</td>\n",
       "      <td>0</td>\n",
       "      <td>0.272</td>\n",
       "      <td>[0.7279754281044006, 0.272024542093277]</td>\n",
       "      <td>0</td>\n",
       "      <td>1</td>\n",
       "    </tr>\n",
       "  </tbody>\n",
       "</table>\n",
       "</div>"
      ],
      "text/plain": [
       "  Proba                                     Probas Preds Labels Proba  \\\n",
       "0 0.751  [0.24908174574375153, 0.7509182095527649]     1      1 0.497   \n",
       "1 0.641   [0.3589146137237549, 0.6410853862762451]     1      1 0.473   \n",
       "2 0.353  [0.6469064354896545, 0.35309356451034546]     0      0 0.642   \n",
       "3 0.384     [0.61555016040802, 0.3844498097896576]     0      0 0.335   \n",
       "4 0.363  [0.6374822854995728, 0.36251774430274963]     0      1 0.370   \n",
       "\n",
       "                                     Probas Preds Labels Proba  \\\n",
       "0  [0.5029296278953552, 0.4970703423023224]     0      0 0.668   \n",
       "1  [0.526829719543457, 0.47317034006118774]     0      0 0.431   \n",
       "2   [0.3580162823200226, 0.641983687877655]     1      1 0.542   \n",
       "3   [0.665410578250885, 0.3345894515514374]     0      1 0.435   \n",
       "4  [0.6302298903465271, 0.3697701096534729]     0      0 0.272   \n",
       "\n",
       "                                      Probas Preds Labels  \n",
       "0   [0.3319854438304901, 0.6680145263671875]     1      0  \n",
       "1  [0.5693738460540771, 0.43062615394592285]     0      0  \n",
       "2  [0.45762142539024353, 0.5423785448074341]     1      1  \n",
       "3  [0.5650587677955627, 0.43494123220443726]     0      1  \n",
       "4    [0.7279754281044006, 0.272024542093277]     0      1  "
      ]
     },
     "metadata": {},
     "output_type": "display_data"
    },
    {
     "name": "stdout",
     "output_type": "stream",
     "text": [
      "scores =  {'map': '0.6175', 'acc': '0.5920', 'auc': '0.6457'}\n",
      "Epoch =  23 Train = 0.816061 Val = 0.645728\n"
     ]
    },
    {
     "data": {
      "application/vnd.jupyter.widget-view+json": {
       "model_id": "e4fd20e7057246888a5f9dc14ff97e2e",
       "version_major": 2,
       "version_minor": 0
      },
      "text/plain": [
       "HBox(children=(FloatProgress(value=0.0, description='Batches', max=17.0, style=ProgressStyle(description_width…"
      ]
     },
     "metadata": {},
     "output_type": "display_data"
    },
    {
     "name": "stdout",
     "output_type": "stream",
     "text": [
      "\n",
      "Epoch =  24 Loss = 0.366535 LR = 0.00004053\n"
     ]
    },
    {
     "data": {
      "application/vnd.jupyter.widget-view+json": {
       "model_id": "bb49161c1bf8410b989049e975f16be9",
       "version_major": 2,
       "version_minor": 0
      },
      "text/plain": [
       "HBox(children=(FloatProgress(value=0.0, description='Batches', max=17.0, style=ProgressStyle(description_width…"
      ]
     },
     "metadata": {},
     "output_type": "display_data"
    },
    {
     "name": "stdout",
     "output_type": "stream",
     "text": [
      "\n",
      "Epoch =  25 Loss = 0.371490 LR = 0.00003863\n"
     ]
    },
    {
     "data": {
      "application/vnd.jupyter.widget-view+json": {
       "model_id": "ad33226ae5b44b1bae4dc1ebb1963fd0",
       "version_major": 2,
       "version_minor": 0
      },
      "text/plain": [
       "HBox(children=(FloatProgress(value=0.0, description='Batches', max=17.0, style=ProgressStyle(description_width…"
      ]
     },
     "metadata": {},
     "output_type": "display_data"
    },
    {
     "name": "stdout",
     "output_type": "stream",
     "text": [
      "\n",
      "Epoch =  26 Loss = 0.364250 LR = 0.00003662\n"
     ]
    },
    {
     "data": {
      "application/vnd.jupyter.widget-view+json": {
       "model_id": "ae1670e0d8e24176a0cb9f827f72f71b",
       "version_major": 2,
       "version_minor": 0
      },
      "text/plain": [
       "HBox(children=(FloatProgress(value=0.0, description='Batches', max=17.0, style=ProgressStyle(description_width…"
      ]
     },
     "metadata": {},
     "output_type": "display_data"
    },
    {
     "name": "stdout",
     "output_type": "stream",
     "text": [
      "\n",
      "Epoch =  27 Loss = 0.366483 LR = 0.00003450\n"
     ]
    },
    {
     "data": {
      "application/vnd.jupyter.widget-view+json": {
       "model_id": "e5f3008614544c48aa578bdef77e3969",
       "version_major": 2,
       "version_minor": 0
      },
      "text/plain": [
       "HBox(children=(FloatProgress(value=0.0, description='Generate Predictions', max=34.0, style=ProgressStyle(desc…"
      ]
     },
     "metadata": {},
     "output_type": "display_data"
    },
    {
     "name": "stdout",
     "output_type": "stream",
     "text": [
      "\n"
     ]
    },
    {
     "data": {
      "application/vnd.jupyter.widget-view+json": {
       "model_id": "925aea91b9b54a5392759b3601f48b94",
       "version_major": 2,
       "version_minor": 0
      },
      "text/plain": [
       "HBox(children=(FloatProgress(value=0.0, description='Generate Predictions', max=2.0, style=ProgressStyle(descr…"
      ]
     },
     "metadata": {},
     "output_type": "display_data"
    },
    {
     "name": "stdout",
     "output_type": "stream",
     "text": [
      "\n"
     ]
    },
    {
     "data": {
      "text/html": [
       "<div>\n",
       "<style scoped>\n",
       "    .dataframe tbody tr th:only-of-type {\n",
       "        vertical-align: middle;\n",
       "    }\n",
       "\n",
       "    .dataframe tbody tr th {\n",
       "        vertical-align: top;\n",
       "    }\n",
       "\n",
       "    .dataframe thead tr th {\n",
       "        text-align: left;\n",
       "    }\n",
       "\n",
       "    .dataframe thead tr:last-of-type th {\n",
       "        text-align: right;\n",
       "    }\n",
       "</style>\n",
       "<table border=\"1\" class=\"dataframe\">\n",
       "  <thead>\n",
       "    <tr>\n",
       "      <th></th>\n",
       "      <th colspan=\"2\" halign=\"left\">Proba</th>\n",
       "      <th colspan=\"2\" halign=\"left\">Preds</th>\n",
       "    </tr>\n",
       "    <tr>\n",
       "      <th></th>\n",
       "      <th>min</th>\n",
       "      <th>max</th>\n",
       "      <th>min</th>\n",
       "      <th>max</th>\n",
       "    </tr>\n",
       "    <tr>\n",
       "      <th>Labels</th>\n",
       "      <th></th>\n",
       "      <th></th>\n",
       "      <th></th>\n",
       "      <th></th>\n",
       "    </tr>\n",
       "  </thead>\n",
       "  <tbody>\n",
       "    <tr>\n",
       "      <th>0</th>\n",
       "      <td>0.084</td>\n",
       "      <td>0.773</td>\n",
       "      <td>0</td>\n",
       "      <td>1</td>\n",
       "    </tr>\n",
       "    <tr>\n",
       "      <th>1</th>\n",
       "      <td>0.186</td>\n",
       "      <td>0.798</td>\n",
       "      <td>0</td>\n",
       "      <td>1</td>\n",
       "    </tr>\n",
       "  </tbody>\n",
       "</table>\n",
       "</div>"
      ],
      "text/plain": [
       "       Proba       Preds    \n",
       "         min   max   min max\n",
       "Labels                      \n",
       "0      0.084 0.773     0   1\n",
       "1      0.186 0.798     0   1"
      ]
     },
     "metadata": {},
     "output_type": "display_data"
    },
    {
     "data": {
      "text/html": [
       "<div>\n",
       "<style scoped>\n",
       "    .dataframe tbody tr th:only-of-type {\n",
       "        vertical-align: middle;\n",
       "    }\n",
       "\n",
       "    .dataframe tbody tr th {\n",
       "        vertical-align: top;\n",
       "    }\n",
       "\n",
       "    .dataframe thead th {\n",
       "        text-align: right;\n",
       "    }\n",
       "</style>\n",
       "<table border=\"1\" class=\"dataframe\">\n",
       "  <thead>\n",
       "    <tr style=\"text-align: right;\">\n",
       "      <th></th>\n",
       "      <th>Proba</th>\n",
       "      <th>Probas</th>\n",
       "      <th>Preds</th>\n",
       "      <th>Labels</th>\n",
       "      <th>Proba</th>\n",
       "      <th>Probas</th>\n",
       "      <th>Preds</th>\n",
       "      <th>Labels</th>\n",
       "      <th>Proba</th>\n",
       "      <th>Probas</th>\n",
       "      <th>Preds</th>\n",
       "      <th>Labels</th>\n",
       "    </tr>\n",
       "  </thead>\n",
       "  <tbody>\n",
       "    <tr>\n",
       "      <th>0</th>\n",
       "      <td>0.266</td>\n",
       "      <td>[0.7341195344924927, 0.2658804655075073]</td>\n",
       "      <td>0</td>\n",
       "      <td>1</td>\n",
       "      <td>0.597</td>\n",
       "      <td>[0.40262696146965027, 0.5973730087280273]</td>\n",
       "      <td>1</td>\n",
       "      <td>1</td>\n",
       "      <td>0.665</td>\n",
       "      <td>[0.3354596793651581, 0.6645402908325195]</td>\n",
       "      <td>1</td>\n",
       "      <td>0</td>\n",
       "    </tr>\n",
       "    <tr>\n",
       "      <th>1</th>\n",
       "      <td>0.369</td>\n",
       "      <td>[0.6306849718093872, 0.36931508779525757]</td>\n",
       "      <td>0</td>\n",
       "      <td>1</td>\n",
       "      <td>0.274</td>\n",
       "      <td>[0.7260372638702393, 0.27396270632743835]</td>\n",
       "      <td>0</td>\n",
       "      <td>0</td>\n",
       "      <td>0.415</td>\n",
       "      <td>[0.5851011276245117, 0.4148988127708435]</td>\n",
       "      <td>0</td>\n",
       "      <td>1</td>\n",
       "    </tr>\n",
       "    <tr>\n",
       "      <th>2</th>\n",
       "      <td>0.594</td>\n",
       "      <td>[0.4063907265663147, 0.5936092734336853]</td>\n",
       "      <td>1</td>\n",
       "      <td>0</td>\n",
       "      <td>0.201</td>\n",
       "      <td>[0.7988152503967285, 0.2011847198009491]</td>\n",
       "      <td>0</td>\n",
       "      <td>0</td>\n",
       "      <td>0.544</td>\n",
       "      <td>[0.45568299293518066, 0.5443170070648193]</td>\n",
       "      <td>1</td>\n",
       "      <td>1</td>\n",
       "    </tr>\n",
       "    <tr>\n",
       "      <th>3</th>\n",
       "      <td>0.283</td>\n",
       "      <td>[0.7174080014228821, 0.28259196877479553]</td>\n",
       "      <td>0</td>\n",
       "      <td>1</td>\n",
       "      <td>0.370</td>\n",
       "      <td>[0.6297746300697327, 0.37022536993026733]</td>\n",
       "      <td>0</td>\n",
       "      <td>0</td>\n",
       "      <td>0.480</td>\n",
       "      <td>[0.5195213556289673, 0.4804786741733551]</td>\n",
       "      <td>0</td>\n",
       "      <td>1</td>\n",
       "    </tr>\n",
       "    <tr>\n",
       "      <th>4</th>\n",
       "      <td>0.447</td>\n",
       "      <td>[0.553022563457489, 0.4469774663448334]</td>\n",
       "      <td>0</td>\n",
       "      <td>0</td>\n",
       "      <td>0.402</td>\n",
       "      <td>[0.5978426933288574, 0.4021572768688202]</td>\n",
       "      <td>0</td>\n",
       "      <td>0</td>\n",
       "      <td>0.650</td>\n",
       "      <td>[0.35042139887809753, 0.6495786309242249]</td>\n",
       "      <td>1</td>\n",
       "      <td>0</td>\n",
       "    </tr>\n",
       "  </tbody>\n",
       "</table>\n",
       "</div>"
      ],
      "text/plain": [
       "  Proba                                     Probas Preds Labels Proba  \\\n",
       "0 0.266   [0.7341195344924927, 0.2658804655075073]     0      1 0.597   \n",
       "1 0.369  [0.6306849718093872, 0.36931508779525757]     0      1 0.274   \n",
       "2 0.594   [0.4063907265663147, 0.5936092734336853]     1      0 0.201   \n",
       "3 0.283  [0.7174080014228821, 0.28259196877479553]     0      1 0.370   \n",
       "4 0.447    [0.553022563457489, 0.4469774663448334]     0      0 0.402   \n",
       "\n",
       "                                      Probas Preds Labels Proba  \\\n",
       "0  [0.40262696146965027, 0.5973730087280273]     1      1 0.665   \n",
       "1  [0.7260372638702393, 0.27396270632743835]     0      0 0.415   \n",
       "2   [0.7988152503967285, 0.2011847198009491]     0      0 0.544   \n",
       "3  [0.6297746300697327, 0.37022536993026733]     0      0 0.480   \n",
       "4   [0.5978426933288574, 0.4021572768688202]     0      0 0.650   \n",
       "\n",
       "                                      Probas Preds Labels  \n",
       "0   [0.3354596793651581, 0.6645402908325195]     1      0  \n",
       "1   [0.5851011276245117, 0.4148988127708435]     0      1  \n",
       "2  [0.45568299293518066, 0.5443170070648193]     1      1  \n",
       "3   [0.5195213556289673, 0.4804786741733551]     0      1  \n",
       "4  [0.35042139887809753, 0.6495786309242249]     1      0  "
      ]
     },
     "metadata": {},
     "output_type": "display_data"
    },
    {
     "name": "stdout",
     "output_type": "stream",
     "text": [
      "scores =  {'map': '0.6111', 'acc': '0.5560', 'auc': '0.6463'}\n",
      "Epoch =  27 Train = 0.830443 Val = 0.646272\n"
     ]
    },
    {
     "data": {
      "application/vnd.jupyter.widget-view+json": {
       "model_id": "1d3ca684b7fb41c691116868e388b7bd",
       "version_major": 2,
       "version_minor": 0
      },
      "text/plain": [
       "HBox(children=(FloatProgress(value=0.0, description='Batches', max=17.0, style=ProgressStyle(description_width…"
      ]
     },
     "metadata": {},
     "output_type": "display_data"
    },
    {
     "name": "stdout",
     "output_type": "stream",
     "text": [
      "\n",
      "Epoch =  28 Loss = 0.365121 LR = 0.00003231\n"
     ]
    },
    {
     "data": {
      "application/vnd.jupyter.widget-view+json": {
       "model_id": "33857012c67e4e2eb850aad2c8b28559",
       "version_major": 2,
       "version_minor": 0
      },
      "text/plain": [
       "HBox(children=(FloatProgress(value=0.0, description='Batches', max=17.0, style=ProgressStyle(description_width…"
      ]
     },
     "metadata": {},
     "output_type": "display_data"
    }
   ],
   "source": [
    "adamw = torch.optim.AdamW\n",
    "adamw_params = dict(lr=5e-5, betas=(0.9, 0.98), eps=1e-08, weight_decay=1e-3)\n",
    "optimizer = adamw\n",
    "optimizer_params = adamw_params\n",
    "\n",
    "lr_strategy = {\n",
    "    \"model\": {\n",
    "        \"lr\": optimizer_params[\"lr\"] / 1000,\n",
    "        \"finetune\": False,\n",
    "        \"encoder\": {\n",
    "            \"layer\": {\n",
    "                \"2\": {\n",
    "                    \"lr\": optimizer_params[\"lr\"],\n",
    "                    \"finetune\": False\n",
    "                },\n",
    "                \"3\": {\n",
    "                    \"lr\": optimizer_params[\"lr\"],\n",
    "                    \"finetune\": True\n",
    "                },\n",
    "                \"4\": {\n",
    "                    \"lr\": optimizer_params[\"lr\"],\n",
    "                    \"finetune\": True\n",
    "                },\n",
    "                \"5\": {\n",
    "                    \"lr\": optimizer_params[\"lr\"],\n",
    "                    \"finetune\": True\n",
    "                }\n",
    "            }\n",
    "        },\n",
    "    }\n",
    "}\n",
    "\n",
    "epochs = 24\n",
    "batch_size = 256\n",
    "model_fn = model_builder(AlbertClassifer,\n",
    "                         dict(classifier_dims=768,\n",
    "                              num_classes=2,\n",
    "                              gaussian_noise=0.05,\n",
    "                              dropout=0.05,\n",
    "                              word_masking_proba=0.15,\n",
    "                              internal_dims=768,\n",
    "                              final_layer_builder=fb_1d_loss_builder,\n",
    "                              n_layers=2,\n",
    "                              n_encoders=0,\n",
    "                              n_decoders=1,\n",
    "                              n_tokens_in=96,\n",
    "                              n_tokens_out=16,\n",
    "                              featurizer=\"transformer\",\n",
    "                              model='distilbert-nsp',\n",
    "                              loss=\"focal\",\n",
    "                              classification_head=\"cnn1d\", # head_ensemble\n",
    "                              dice_loss_coef=0.0,\n",
    "                              auc_loss_coef=0.5, # 0.1\n",
    "                              attention_drop_proba=0.0,\n",
    "                              finetune=False),\n",
    "                         per_param_opts_fn=lr_strategy,\n",
    "                         optimiser_class=optimizer,\n",
    "                         optimiser_params=optimizer_params)\n",
    "\n",
    "kfold = False\n",
    "results, prfs = train_validate_ntimes(\n",
    "    model_fn,\n",
    "    data,\n",
    "    batch_size,\n",
    "    epochs,\n",
    "    kfold=kfold,\n",
    "    scheduler_init_fn=scheduler_init_fn,\n",
    "    model_call_back=reg_sched, # reg_sched\n",
    "    validation_epochs=[1, 4, 7, 9, 11, 14, 17, 19, 23, 27, 31, 34, 37, 41, 44, 47, 51, 54],\n",
    "    show_model_stats=False,\n",
    "    sampling_policy=\"without_replacement\")\n",
    "r2, p2 = results, prfs\n",
    "results\n",
    "prfs\n"
   ]
  },
  {
   "cell_type": "markdown",
   "metadata": {},
   "source": [
    "## Head Ensemble"
   ]
  },
  {
   "cell_type": "code",
   "execution_count": 26,
   "metadata": {
    "ExecuteTime": {
     "end_time": "2020-07-28T06:49:12.833210Z",
     "start_time": "2020-07-28T06:35:17.651628Z"
    }
   },
   "outputs": [
    {
     "name": "stdout",
     "output_type": "stream",
     "text": [
      "Pick stored Model /home/ahemf/cache/distilbert-nsp Model Class =  <class 'transformers.modeling_roberta.RobertaModel'> Tokenizer Class =  <class 'transformers.tokenization_roberta.RobertaTokenizer'>\n",
      "Autocast =  True Epochs =  48 Divisor = 2 Examples = 4250 Batch Size =  256\n",
      "Training Samples =  8500 Weighted Sampling =  True Num Batches =  17 Accumulation steps =  1\n"
     ]
    },
    {
     "data": {
      "application/vnd.jupyter.widget-view+json": {
       "model_id": "40530df497f1450fafd223535c36639d",
       "version_major": 2,
       "version_minor": 0
      },
      "text/plain": [
       "HBox(children=(FloatProgress(value=0.0, max=48.0), HTML(value='')))"
      ]
     },
     "metadata": {},
     "output_type": "display_data"
    },
    {
     "data": {
      "application/vnd.jupyter.widget-view+json": {
       "model_id": "c913c6d25a1d4c95bd0201d169c35c36",
       "version_major": 2,
       "version_minor": 0
      },
      "text/plain": [
       "HBox(children=(FloatProgress(value=0.0, description='Batches', max=17.0, style=ProgressStyle(description_width…"
      ]
     },
     "metadata": {},
     "output_type": "display_data"
    },
    {
     "name": "stdout",
     "output_type": "stream",
     "text": [
      "\n",
      "Epoch =  1 Loss = 0.368842 LR = 0.00000348\n"
     ]
    },
    {
     "data": {
      "application/vnd.jupyter.widget-view+json": {
       "model_id": "f207f1c060604b8d85d26fb5621d5fbb",
       "version_major": 2,
       "version_minor": 0
      },
      "text/plain": [
       "HBox(children=(FloatProgress(value=0.0, description='Batches', max=17.0, style=ProgressStyle(description_width…"
      ]
     },
     "metadata": {},
     "output_type": "display_data"
    },
    {
     "name": "stdout",
     "output_type": "stream",
     "text": [
      "\n",
      "Epoch =  2 Loss = 0.353746 LR = 0.00000697\n"
     ]
    },
    {
     "data": {
      "application/vnd.jupyter.widget-view+json": {
       "model_id": "fc493298af154096a8fc812cf3b2c2df",
       "version_major": 2,
       "version_minor": 0
      },
      "text/plain": [
       "HBox(children=(FloatProgress(value=0.0, description='Batches', max=17.0, style=ProgressStyle(description_width…"
      ]
     },
     "metadata": {},
     "output_type": "display_data"
    },
    {
     "name": "stdout",
     "output_type": "stream",
     "text": [
      "\n",
      "Epoch =  3 Loss = 0.353066 LR = 0.00001045\n"
     ]
    },
    {
     "data": {
      "application/vnd.jupyter.widget-view+json": {
       "model_id": "a94d2fc45a7543a5bd844d4130f058ea",
       "version_major": 2,
       "version_minor": 0
      },
      "text/plain": [
       "HBox(children=(FloatProgress(value=0.0, description='Batches', max=17.0, style=ProgressStyle(description_width…"
      ]
     },
     "metadata": {},
     "output_type": "display_data"
    },
    {
     "name": "stdout",
     "output_type": "stream",
     "text": [
      "Exception for:  keyboard | ' ' | ['char_delete' 'text_rotate' 'half_cut' 'word_cutout' 'keyboard'] argument of type 'NoneType' is not iterable\n",
      "\n",
      "Epoch =  4 Loss = 0.349172 LR = 0.00001393\n"
     ]
    },
    {
     "data": {
      "application/vnd.jupyter.widget-view+json": {
       "model_id": "db8c189f745843ec805e804e10b448c1",
       "version_major": 2,
       "version_minor": 0
      },
      "text/plain": [
       "HBox(children=(FloatProgress(value=0.0, description='Batches', max=17.0, style=ProgressStyle(description_width…"
      ]
     },
     "metadata": {},
     "output_type": "display_data"
    },
    {
     "name": "stdout",
     "output_type": "stream",
     "text": [
      "\n",
      "Epoch =  5 Loss = 0.353853 LR = 0.00001742\n"
     ]
    },
    {
     "data": {
      "application/vnd.jupyter.widget-view+json": {
       "model_id": "91797441e6f4499b9c801782c3538535",
       "version_major": 2,
       "version_minor": 0
      },
      "text/plain": [
       "HBox(children=(FloatProgress(value=0.0, description='Batches', max=17.0, style=ProgressStyle(description_width…"
      ]
     },
     "metadata": {},
     "output_type": "display_data"
    },
    {
     "name": "stdout",
     "output_type": "stream",
     "text": [
      "\n",
      "Epoch =  6 Loss = 0.348918 LR = 0.00002090\n"
     ]
    },
    {
     "data": {
      "application/vnd.jupyter.widget-view+json": {
       "model_id": "2143b86e2c0d4f9bac70d89f20b14ecb",
       "version_major": 2,
       "version_minor": 0
      },
      "text/plain": [
       "HBox(children=(FloatProgress(value=0.0, description='Batches', max=17.0, style=ProgressStyle(description_width…"
      ]
     },
     "metadata": {},
     "output_type": "display_data"
    },
    {
     "name": "stdout",
     "output_type": "stream",
     "text": [
      "\n",
      "Epoch =  7 Loss = 0.349889 LR = 0.00002439\n"
     ]
    },
    {
     "data": {
      "application/vnd.jupyter.widget-view+json": {
       "model_id": "3b23255d400f48418d0db930a53e63a9",
       "version_major": 2,
       "version_minor": 0
      },
      "text/plain": [
       "HBox(children=(FloatProgress(value=0.0, description='Batches', max=17.0, style=ProgressStyle(description_width…"
      ]
     },
     "metadata": {},
     "output_type": "display_data"
    },
    {
     "name": "stdout",
     "output_type": "stream",
     "text": [
      "\n",
      "Epoch =  8 Loss = 0.346268 LR = 0.00002787\n"
     ]
    },
    {
     "data": {
      "application/vnd.jupyter.widget-view+json": {
       "model_id": "38a07b15ce6d4da5a84791924f37d847",
       "version_major": 2,
       "version_minor": 0
      },
      "text/plain": [
       "HBox(children=(FloatProgress(value=0.0, description='Batches', max=17.0, style=ProgressStyle(description_width…"
      ]
     },
     "metadata": {},
     "output_type": "display_data"
    },
    {
     "name": "stdout",
     "output_type": "stream",
     "text": [
      "\n",
      "Epoch =  9 Loss = 0.339067 LR = 0.00003135\n"
     ]
    },
    {
     "data": {
      "application/vnd.jupyter.widget-view+json": {
       "model_id": "3d3e43a38e3e4345b37fa0c42fbe8761",
       "version_major": 2,
       "version_minor": 0
      },
      "text/plain": [
       "HBox(children=(FloatProgress(value=0.0, description='Generate Predictions', max=34.0, style=ProgressStyle(desc…"
      ]
     },
     "metadata": {},
     "output_type": "display_data"
    },
    {
     "name": "stdout",
     "output_type": "stream",
     "text": [
      "\n"
     ]
    },
    {
     "data": {
      "application/vnd.jupyter.widget-view+json": {
       "model_id": "d8f0195b4f5946139152f7d5348599db",
       "version_major": 2,
       "version_minor": 0
      },
      "text/plain": [
       "HBox(children=(FloatProgress(value=0.0, description='Generate Predictions', max=2.0, style=ProgressStyle(descr…"
      ]
     },
     "metadata": {},
     "output_type": "display_data"
    },
    {
     "name": "stdout",
     "output_type": "stream",
     "text": [
      "\n"
     ]
    },
    {
     "data": {
      "application/vnd.jupyter.widget-view+json": {
       "model_id": "74d5b34059ca47d89eb6358b589dad49",
       "version_major": 2,
       "version_minor": 0
      },
      "text/plain": [
       "HBox(children=(FloatProgress(value=0.0, description='Generate Predictions', max=2.0, style=ProgressStyle(descr…"
      ]
     },
     "metadata": {},
     "output_type": "display_data"
    },
    {
     "name": "stdout",
     "output_type": "stream",
     "text": [
      "\n"
     ]
    },
    {
     "data": {
      "application/vnd.jupyter.widget-view+json": {
       "model_id": "6c9653095b464f9485f2a6888fccb72f",
       "version_major": 2,
       "version_minor": 0
      },
      "text/plain": [
       "HBox(children=(FloatProgress(value=0.0, description='Generate Predictions', max=2.0, style=ProgressStyle(descr…"
      ]
     },
     "metadata": {},
     "output_type": "display_data"
    },
    {
     "name": "stdout",
     "output_type": "stream",
     "text": [
      "\n"
     ]
    },
    {
     "data": {
      "application/vnd.jupyter.widget-view+json": {
       "model_id": "5fe0d74bd9c44b41a76b099b053039bd",
       "version_major": 2,
       "version_minor": 0
      },
      "text/plain": [
       "HBox(children=(FloatProgress(value=0.0, description='Generate Predictions', max=2.0, style=ProgressStyle(descr…"
      ]
     },
     "metadata": {},
     "output_type": "display_data"
    },
    {
     "name": "stdout",
     "output_type": "stream",
     "text": [
      "\n"
     ]
    },
    {
     "data": {
      "application/vnd.jupyter.widget-view+json": {
       "model_id": "ed478488b58846019645fa7f4111ae58",
       "version_major": 2,
       "version_minor": 0
      },
      "text/plain": [
       "HBox(children=(FloatProgress(value=0.0, description='Generate Predictions', max=2.0, style=ProgressStyle(descr…"
      ]
     },
     "metadata": {},
     "output_type": "display_data"
    },
    {
     "name": "stdout",
     "output_type": "stream",
     "text": [
      "\n"
     ]
    },
    {
     "data": {
      "text/html": [
       "<div>\n",
       "<style scoped>\n",
       "    .dataframe tbody tr th:only-of-type {\n",
       "        vertical-align: middle;\n",
       "    }\n",
       "\n",
       "    .dataframe tbody tr th {\n",
       "        vertical-align: top;\n",
       "    }\n",
       "\n",
       "    .dataframe thead tr th {\n",
       "        text-align: left;\n",
       "    }\n",
       "\n",
       "    .dataframe thead tr:last-of-type th {\n",
       "        text-align: right;\n",
       "    }\n",
       "</style>\n",
       "<table border=\"1\" class=\"dataframe\">\n",
       "  <thead>\n",
       "    <tr>\n",
       "      <th></th>\n",
       "      <th colspan=\"2\" halign=\"left\">Proba</th>\n",
       "      <th colspan=\"2\" halign=\"left\">Preds</th>\n",
       "    </tr>\n",
       "    <tr>\n",
       "      <th></th>\n",
       "      <th>min</th>\n",
       "      <th>max</th>\n",
       "      <th>min</th>\n",
       "      <th>max</th>\n",
       "    </tr>\n",
       "    <tr>\n",
       "      <th>Labels</th>\n",
       "      <th></th>\n",
       "      <th></th>\n",
       "      <th></th>\n",
       "      <th></th>\n",
       "    </tr>\n",
       "  </thead>\n",
       "  <tbody>\n",
       "    <tr>\n",
       "      <th>0</th>\n",
       "      <td>0.367</td>\n",
       "      <td>0.587</td>\n",
       "      <td>0</td>\n",
       "      <td>1</td>\n",
       "    </tr>\n",
       "    <tr>\n",
       "      <th>1</th>\n",
       "      <td>0.402</td>\n",
       "      <td>0.579</td>\n",
       "      <td>0</td>\n",
       "      <td>1</td>\n",
       "    </tr>\n",
       "  </tbody>\n",
       "</table>\n",
       "</div>"
      ],
      "text/plain": [
       "       Proba       Preds    \n",
       "         min   max   min max\n",
       "Labels                      \n",
       "0      0.367 0.587     0   1\n",
       "1      0.402 0.579     0   1"
      ]
     },
     "metadata": {},
     "output_type": "display_data"
    },
    {
     "data": {
      "text/html": [
       "<div>\n",
       "<style scoped>\n",
       "    .dataframe tbody tr th:only-of-type {\n",
       "        vertical-align: middle;\n",
       "    }\n",
       "\n",
       "    .dataframe tbody tr th {\n",
       "        vertical-align: top;\n",
       "    }\n",
       "\n",
       "    .dataframe thead th {\n",
       "        text-align: right;\n",
       "    }\n",
       "</style>\n",
       "<table border=\"1\" class=\"dataframe\">\n",
       "  <thead>\n",
       "    <tr style=\"text-align: right;\">\n",
       "      <th></th>\n",
       "      <th>Proba</th>\n",
       "      <th>Probas</th>\n",
       "      <th>Preds</th>\n",
       "      <th>Labels</th>\n",
       "      <th>Proba</th>\n",
       "      <th>Probas</th>\n",
       "      <th>Preds</th>\n",
       "      <th>Labels</th>\n",
       "      <th>Proba</th>\n",
       "      <th>Probas</th>\n",
       "      <th>Preds</th>\n",
       "      <th>Labels</th>\n",
       "    </tr>\n",
       "  </thead>\n",
       "  <tbody>\n",
       "    <tr>\n",
       "      <th>0</th>\n",
       "      <td>0.454</td>\n",
       "      <td>[0.5461951494216919, 0.4538048207759857]</td>\n",
       "      <td>0</td>\n",
       "      <td>1</td>\n",
       "      <td>0.474</td>\n",
       "      <td>[0.5258879661560059, 0.47411203384399414]</td>\n",
       "      <td>0</td>\n",
       "      <td>1</td>\n",
       "      <td>0.487</td>\n",
       "      <td>[0.5129178762435913, 0.4870821535587311]</td>\n",
       "      <td>0</td>\n",
       "      <td>0</td>\n",
       "    </tr>\n",
       "    <tr>\n",
       "      <th>1</th>\n",
       "      <td>0.459</td>\n",
       "      <td>[0.5412931442260742, 0.4587068557739258]</td>\n",
       "      <td>0</td>\n",
       "      <td>0</td>\n",
       "      <td>0.527</td>\n",
       "      <td>[0.47287696599960327, 0.5271230936050415]</td>\n",
       "      <td>1</td>\n",
       "      <td>0</td>\n",
       "      <td>0.536</td>\n",
       "      <td>[0.4644666612148285, 0.5355333089828491]</td>\n",
       "      <td>1</td>\n",
       "      <td>1</td>\n",
       "    </tr>\n",
       "    <tr>\n",
       "      <th>2</th>\n",
       "      <td>0.432</td>\n",
       "      <td>[0.5680192708969116, 0.43198075890541077]</td>\n",
       "      <td>0</td>\n",
       "      <td>0</td>\n",
       "      <td>0.443</td>\n",
       "      <td>[0.5566564798355103, 0.44334354996681213]</td>\n",
       "      <td>0</td>\n",
       "      <td>0</td>\n",
       "      <td>0.453</td>\n",
       "      <td>[0.5471662282943726, 0.45283374190330505]</td>\n",
       "      <td>0</td>\n",
       "      <td>0</td>\n",
       "    </tr>\n",
       "    <tr>\n",
       "      <th>3</th>\n",
       "      <td>0.443</td>\n",
       "      <td>[0.5568709373474121, 0.4431290626525879]</td>\n",
       "      <td>0</td>\n",
       "      <td>0</td>\n",
       "      <td>0.433</td>\n",
       "      <td>[0.5669381022453308, 0.4330618977546692]</td>\n",
       "      <td>0</td>\n",
       "      <td>0</td>\n",
       "      <td>0.501</td>\n",
       "      <td>[0.4994123876094818, 0.5005875825881958]</td>\n",
       "      <td>1</td>\n",
       "      <td>1</td>\n",
       "    </tr>\n",
       "    <tr>\n",
       "      <th>4</th>\n",
       "      <td>0.512</td>\n",
       "      <td>[0.4878673553466797, 0.5121326446533203]</td>\n",
       "      <td>1</td>\n",
       "      <td>1</td>\n",
       "      <td>0.489</td>\n",
       "      <td>[0.5108590722084045, 0.48914092779159546]</td>\n",
       "      <td>0</td>\n",
       "      <td>0</td>\n",
       "      <td>0.476</td>\n",
       "      <td>[0.5241680145263672, 0.4758319854736328]</td>\n",
       "      <td>0</td>\n",
       "      <td>1</td>\n",
       "    </tr>\n",
       "  </tbody>\n",
       "</table>\n",
       "</div>"
      ],
      "text/plain": [
       "  Proba                                     Probas Preds Labels Proba  \\\n",
       "0 0.454   [0.5461951494216919, 0.4538048207759857]     0      1 0.474   \n",
       "1 0.459   [0.5412931442260742, 0.4587068557739258]     0      0 0.527   \n",
       "2 0.432  [0.5680192708969116, 0.43198075890541077]     0      0 0.443   \n",
       "3 0.443   [0.5568709373474121, 0.4431290626525879]     0      0 0.433   \n",
       "4 0.512   [0.4878673553466797, 0.5121326446533203]     1      1 0.489   \n",
       "\n",
       "                                      Probas Preds Labels Proba  \\\n",
       "0  [0.5258879661560059, 0.47411203384399414]     0      1 0.487   \n",
       "1  [0.47287696599960327, 0.5271230936050415]     1      0 0.536   \n",
       "2  [0.5566564798355103, 0.44334354996681213]     0      0 0.453   \n",
       "3   [0.5669381022453308, 0.4330618977546692]     0      0 0.501   \n",
       "4  [0.5108590722084045, 0.48914092779159546]     0      0 0.476   \n",
       "\n",
       "                                      Probas Preds Labels  \n",
       "0   [0.5129178762435913, 0.4870821535587311]     0      0  \n",
       "1   [0.4644666612148285, 0.5355333089828491]     1      1  \n",
       "2  [0.5471662282943726, 0.45283374190330505]     0      0  \n",
       "3   [0.4994123876094818, 0.5005875825881958]     1      1  \n",
       "4   [0.5241680145263672, 0.4758319854736328]     0      1  "
      ]
     },
     "metadata": {},
     "output_type": "display_data"
    },
    {
     "name": "stdout",
     "output_type": "stream",
     "text": [
      "scores =  {'map': '0.6234', 'acc': '0.5680', 'auc': '0.6261'}\n",
      "Epoch =  9 Train = 0.760344 Val = 0.626144\n"
     ]
    },
    {
     "data": {
      "application/vnd.jupyter.widget-view+json": {
       "model_id": "c63c46a3bc6d4b40a4654f29c00eeef9",
       "version_major": 2,
       "version_minor": 0
      },
      "text/plain": [
       "HBox(children=(FloatProgress(value=0.0, description='Batches', max=17.0, style=ProgressStyle(description_width…"
      ]
     },
     "metadata": {},
     "output_type": "display_data"
    },
    {
     "name": "stdout",
     "output_type": "stream",
     "text": [
      "\n",
      "Epoch =  10 Loss = 0.338137 LR = 0.00003484\n"
     ]
    },
    {
     "data": {
      "application/vnd.jupyter.widget-view+json": {
       "model_id": "4aca825fa40c4baf999c7f6797c82c33",
       "version_major": 2,
       "version_minor": 0
      },
      "text/plain": [
       "HBox(children=(FloatProgress(value=0.0, description='Batches', max=17.0, style=ProgressStyle(description_width…"
      ]
     },
     "metadata": {},
     "output_type": "display_data"
    },
    {
     "name": "stdout",
     "output_type": "stream",
     "text": [
      "\n",
      "Epoch =  11 Loss = 0.338920 LR = 0.00003832\n"
     ]
    },
    {
     "data": {
      "application/vnd.jupyter.widget-view+json": {
       "model_id": "4dc314702a164fe49b592d395e8e55a2",
       "version_major": 2,
       "version_minor": 0
      },
      "text/plain": [
       "HBox(children=(FloatProgress(value=0.0, description='Batches', max=17.0, style=ProgressStyle(description_width…"
      ]
     },
     "metadata": {},
     "output_type": "display_data"
    },
    {
     "name": "stdout",
     "output_type": "stream",
     "text": [
      "\n",
      "Epoch =  12 Loss = 0.351550 LR = 0.00004180\n"
     ]
    },
    {
     "data": {
      "application/vnd.jupyter.widget-view+json": {
       "model_id": "90467079e2e14b6390d4c0a1aeaf55a2",
       "version_major": 2,
       "version_minor": 0
      },
      "text/plain": [
       "HBox(children=(FloatProgress(value=0.0, description='Batches', max=17.0, style=ProgressStyle(description_width…"
      ]
     },
     "metadata": {},
     "output_type": "display_data"
    },
    {
     "name": "stdout",
     "output_type": "stream",
     "text": [
      "\n",
      "Epoch =  13 Loss = 0.350464 LR = 0.00004529\n"
     ]
    },
    {
     "data": {
      "application/vnd.jupyter.widget-view+json": {
       "model_id": "7ea2d2d1b4974c05af27aef87ade9312",
       "version_major": 2,
       "version_minor": 0
      },
      "text/plain": [
       "HBox(children=(FloatProgress(value=0.0, description='Batches', max=17.0, style=ProgressStyle(description_width…"
      ]
     },
     "metadata": {},
     "output_type": "display_data"
    },
    {
     "name": "stdout",
     "output_type": "stream",
     "text": [
      "\n",
      "Epoch =  14 Loss = 0.335366 LR = 0.00004877\n"
     ]
    },
    {
     "data": {
      "application/vnd.jupyter.widget-view+json": {
       "model_id": "75595cdf45ae4224877fd4321b18f70f",
       "version_major": 2,
       "version_minor": 0
      },
      "text/plain": [
       "HBox(children=(FloatProgress(value=0.0, description='Batches', max=17.0, style=ProgressStyle(description_width…"
      ]
     },
     "metadata": {},
     "output_type": "display_data"
    },
    {
     "name": "stdout",
     "output_type": "stream",
     "text": [
      "\n",
      "Epoch =  15 Loss = 0.350375 LR = 0.00004995\n"
     ]
    },
    {
     "data": {
      "application/vnd.jupyter.widget-view+json": {
       "model_id": "af06141a65894b56b5eae083e3a133d5",
       "version_major": 2,
       "version_minor": 0
      },
      "text/plain": [
       "HBox(children=(FloatProgress(value=0.0, description='Batches', max=17.0, style=ProgressStyle(description_width…"
      ]
     },
     "metadata": {},
     "output_type": "display_data"
    },
    {
     "name": "stdout",
     "output_type": "stream",
     "text": [
      "\n",
      "Epoch =  16 Loss = 0.341997 LR = 0.00004970\n"
     ]
    },
    {
     "data": {
      "application/vnd.jupyter.widget-view+json": {
       "model_id": "16a5d93ce1cb4e109491589bc26687e3",
       "version_major": 2,
       "version_minor": 0
      },
      "text/plain": [
       "HBox(children=(FloatProgress(value=0.0, description='Batches', max=17.0, style=ProgressStyle(description_width…"
      ]
     },
     "metadata": {},
     "output_type": "display_data"
    },
    {
     "name": "stdout",
     "output_type": "stream",
     "text": [
      "\n",
      "Epoch =  17 Loss = 0.352550 LR = 0.00004924\n"
     ]
    },
    {
     "data": {
      "application/vnd.jupyter.widget-view+json": {
       "model_id": "993640d8301d402893d670720a0ef822",
       "version_major": 2,
       "version_minor": 0
      },
      "text/plain": [
       "HBox(children=(FloatProgress(value=0.0, description='Generate Predictions', max=34.0, style=ProgressStyle(desc…"
      ]
     },
     "metadata": {},
     "output_type": "display_data"
    },
    {
     "name": "stdout",
     "output_type": "stream",
     "text": [
      "\n"
     ]
    },
    {
     "data": {
      "application/vnd.jupyter.widget-view+json": {
       "model_id": "c61e431df19f4cbe86626039a8bd340a",
       "version_major": 2,
       "version_minor": 0
      },
      "text/plain": [
       "HBox(children=(FloatProgress(value=0.0, description='Generate Predictions', max=2.0, style=ProgressStyle(descr…"
      ]
     },
     "metadata": {},
     "output_type": "display_data"
    },
    {
     "name": "stdout",
     "output_type": "stream",
     "text": [
      "\n"
     ]
    },
    {
     "data": {
      "application/vnd.jupyter.widget-view+json": {
       "model_id": "28dab93a594a4602a378e507a9b5e358",
       "version_major": 2,
       "version_minor": 0
      },
      "text/plain": [
       "HBox(children=(FloatProgress(value=0.0, description='Generate Predictions', max=2.0, style=ProgressStyle(descr…"
      ]
     },
     "metadata": {},
     "output_type": "display_data"
    },
    {
     "name": "stdout",
     "output_type": "stream",
     "text": [
      "\n"
     ]
    },
    {
     "data": {
      "application/vnd.jupyter.widget-view+json": {
       "model_id": "8988d5b5c03b48319fbd5c306557b126",
       "version_major": 2,
       "version_minor": 0
      },
      "text/plain": [
       "HBox(children=(FloatProgress(value=0.0, description='Generate Predictions', max=2.0, style=ProgressStyle(descr…"
      ]
     },
     "metadata": {},
     "output_type": "display_data"
    },
    {
     "name": "stdout",
     "output_type": "stream",
     "text": [
      "\n"
     ]
    },
    {
     "data": {
      "application/vnd.jupyter.widget-view+json": {
       "model_id": "a3aeb92d7ef743f696aeb7660db4cfaa",
       "version_major": 2,
       "version_minor": 0
      },
      "text/plain": [
       "HBox(children=(FloatProgress(value=0.0, description='Generate Predictions', max=2.0, style=ProgressStyle(descr…"
      ]
     },
     "metadata": {},
     "output_type": "display_data"
    },
    {
     "name": "stdout",
     "output_type": "stream",
     "text": [
      "\n"
     ]
    },
    {
     "data": {
      "application/vnd.jupyter.widget-view+json": {
       "model_id": "5959b809e0834d7f9d27b6b5ed724a66",
       "version_major": 2,
       "version_minor": 0
      },
      "text/plain": [
       "HBox(children=(FloatProgress(value=0.0, description='Generate Predictions', max=2.0, style=ProgressStyle(descr…"
      ]
     },
     "metadata": {},
     "output_type": "display_data"
    },
    {
     "name": "stdout",
     "output_type": "stream",
     "text": [
      "\n"
     ]
    },
    {
     "data": {
      "text/html": [
       "<div>\n",
       "<style scoped>\n",
       "    .dataframe tbody tr th:only-of-type {\n",
       "        vertical-align: middle;\n",
       "    }\n",
       "\n",
       "    .dataframe tbody tr th {\n",
       "        vertical-align: top;\n",
       "    }\n",
       "\n",
       "    .dataframe thead tr th {\n",
       "        text-align: left;\n",
       "    }\n",
       "\n",
       "    .dataframe thead tr:last-of-type th {\n",
       "        text-align: right;\n",
       "    }\n",
       "</style>\n",
       "<table border=\"1\" class=\"dataframe\">\n",
       "  <thead>\n",
       "    <tr>\n",
       "      <th></th>\n",
       "      <th colspan=\"2\" halign=\"left\">Proba</th>\n",
       "      <th colspan=\"2\" halign=\"left\">Preds</th>\n",
       "    </tr>\n",
       "    <tr>\n",
       "      <th></th>\n",
       "      <th>min</th>\n",
       "      <th>max</th>\n",
       "      <th>min</th>\n",
       "      <th>max</th>\n",
       "    </tr>\n",
       "    <tr>\n",
       "      <th>Labels</th>\n",
       "      <th></th>\n",
       "      <th></th>\n",
       "      <th></th>\n",
       "      <th></th>\n",
       "    </tr>\n",
       "  </thead>\n",
       "  <tbody>\n",
       "    <tr>\n",
       "      <th>0</th>\n",
       "      <td>0.366</td>\n",
       "      <td>0.613</td>\n",
       "      <td>0</td>\n",
       "      <td>1</td>\n",
       "    </tr>\n",
       "    <tr>\n",
       "      <th>1</th>\n",
       "      <td>0.420</td>\n",
       "      <td>0.622</td>\n",
       "      <td>0</td>\n",
       "      <td>1</td>\n",
       "    </tr>\n",
       "  </tbody>\n",
       "</table>\n",
       "</div>"
      ],
      "text/plain": [
       "       Proba       Preds    \n",
       "         min   max   min max\n",
       "Labels                      \n",
       "0      0.366 0.613     0   1\n",
       "1      0.420 0.622     0   1"
      ]
     },
     "metadata": {},
     "output_type": "display_data"
    },
    {
     "data": {
      "text/html": [
       "<div>\n",
       "<style scoped>\n",
       "    .dataframe tbody tr th:only-of-type {\n",
       "        vertical-align: middle;\n",
       "    }\n",
       "\n",
       "    .dataframe tbody tr th {\n",
       "        vertical-align: top;\n",
       "    }\n",
       "\n",
       "    .dataframe thead th {\n",
       "        text-align: right;\n",
       "    }\n",
       "</style>\n",
       "<table border=\"1\" class=\"dataframe\">\n",
       "  <thead>\n",
       "    <tr style=\"text-align: right;\">\n",
       "      <th></th>\n",
       "      <th>Proba</th>\n",
       "      <th>Probas</th>\n",
       "      <th>Preds</th>\n",
       "      <th>Labels</th>\n",
       "      <th>Proba</th>\n",
       "      <th>Probas</th>\n",
       "      <th>Preds</th>\n",
       "      <th>Labels</th>\n",
       "      <th>Proba</th>\n",
       "      <th>Probas</th>\n",
       "      <th>Preds</th>\n",
       "      <th>Labels</th>\n",
       "    </tr>\n",
       "  </thead>\n",
       "  <tbody>\n",
       "    <tr>\n",
       "      <th>0</th>\n",
       "      <td>0.428</td>\n",
       "      <td>[0.5717482566833496, 0.4282516837120056]</td>\n",
       "      <td>0</td>\n",
       "      <td>0</td>\n",
       "      <td>0.452</td>\n",
       "      <td>[0.5476690530776978, 0.4523310661315918]</td>\n",
       "      <td>0</td>\n",
       "      <td>0</td>\n",
       "      <td>0.551</td>\n",
       "      <td>[0.4492163062095642, 0.5507837533950806]</td>\n",
       "      <td>1</td>\n",
       "      <td>0</td>\n",
       "    </tr>\n",
       "    <tr>\n",
       "      <th>1</th>\n",
       "      <td>0.535</td>\n",
       "      <td>[0.4645455777645111, 0.5354543924331665]</td>\n",
       "      <td>1</td>\n",
       "      <td>1</td>\n",
       "      <td>0.465</td>\n",
       "      <td>[0.5352886319160461, 0.46471136808395386]</td>\n",
       "      <td>0</td>\n",
       "      <td>0</td>\n",
       "      <td>0.420</td>\n",
       "      <td>[0.5798352956771851, 0.42016464471817017]</td>\n",
       "      <td>0</td>\n",
       "      <td>1</td>\n",
       "    </tr>\n",
       "    <tr>\n",
       "      <th>2</th>\n",
       "      <td>0.523</td>\n",
       "      <td>[0.4769271910190582, 0.5230727791786194]</td>\n",
       "      <td>1</td>\n",
       "      <td>1</td>\n",
       "      <td>0.543</td>\n",
       "      <td>[0.45709604024887085, 0.5429039597511292]</td>\n",
       "      <td>1</td>\n",
       "      <td>1</td>\n",
       "      <td>0.463</td>\n",
       "      <td>[0.537342369556427, 0.46265754103660583]</td>\n",
       "      <td>0</td>\n",
       "      <td>0</td>\n",
       "    </tr>\n",
       "    <tr>\n",
       "      <th>3</th>\n",
       "      <td>0.457</td>\n",
       "      <td>[0.5429266095161438, 0.4570733904838562]</td>\n",
       "      <td>0</td>\n",
       "      <td>0</td>\n",
       "      <td>0.511</td>\n",
       "      <td>[0.48901915550231934, 0.5109808444976807]</td>\n",
       "      <td>1</td>\n",
       "      <td>1</td>\n",
       "      <td>0.558</td>\n",
       "      <td>[0.4423629641532898, 0.5576370358467102]</td>\n",
       "      <td>1</td>\n",
       "      <td>1</td>\n",
       "    </tr>\n",
       "    <tr>\n",
       "      <th>4</th>\n",
       "      <td>0.556</td>\n",
       "      <td>[0.44366511702537537, 0.5563348531723022]</td>\n",
       "      <td>1</td>\n",
       "      <td>1</td>\n",
       "      <td>0.416</td>\n",
       "      <td>[0.5844878554344177, 0.4155121445655823]</td>\n",
       "      <td>0</td>\n",
       "      <td>0</td>\n",
       "      <td>0.466</td>\n",
       "      <td>[0.5342543125152588, 0.4657456874847412]</td>\n",
       "      <td>0</td>\n",
       "      <td>1</td>\n",
       "    </tr>\n",
       "  </tbody>\n",
       "</table>\n",
       "</div>"
      ],
      "text/plain": [
       "  Proba                                     Probas Preds Labels Proba  \\\n",
       "0 0.428   [0.5717482566833496, 0.4282516837120056]     0      0 0.452   \n",
       "1 0.535   [0.4645455777645111, 0.5354543924331665]     1      1 0.465   \n",
       "2 0.523   [0.4769271910190582, 0.5230727791786194]     1      1 0.543   \n",
       "3 0.457   [0.5429266095161438, 0.4570733904838562]     0      0 0.511   \n",
       "4 0.556  [0.44366511702537537, 0.5563348531723022]     1      1 0.416   \n",
       "\n",
       "                                      Probas Preds Labels Proba  \\\n",
       "0   [0.5476690530776978, 0.4523310661315918]     0      0 0.551   \n",
       "1  [0.5352886319160461, 0.46471136808395386]     0      0 0.420   \n",
       "2  [0.45709604024887085, 0.5429039597511292]     1      1 0.463   \n",
       "3  [0.48901915550231934, 0.5109808444976807]     1      1 0.558   \n",
       "4   [0.5844878554344177, 0.4155121445655823]     0      0 0.466   \n",
       "\n",
       "                                      Probas Preds Labels  \n",
       "0   [0.4492163062095642, 0.5507837533950806]     1      0  \n",
       "1  [0.5798352956771851, 0.42016464471817017]     0      1  \n",
       "2   [0.537342369556427, 0.46265754103660583]     0      0  \n",
       "3   [0.4423629641532898, 0.5576370358467102]     1      1  \n",
       "4   [0.5342543125152588, 0.4657456874847412]     0      1  "
      ]
     },
     "metadata": {},
     "output_type": "display_data"
    },
    {
     "name": "stdout",
     "output_type": "stream",
     "text": [
      "scores =  {'map': '0.6022', 'acc': '0.5840', 'auc': '0.6301'}\n",
      "Epoch =  17 Train = 0.796182 Val = 0.630112\n"
     ]
    },
    {
     "data": {
      "application/vnd.jupyter.widget-view+json": {
       "model_id": "4d632c0f306b4adf83dde3a1fe60c21a",
       "version_major": 2,
       "version_minor": 0
      },
      "text/plain": [
       "HBox(children=(FloatProgress(value=0.0, description='Batches', max=17.0, style=ProgressStyle(description_width…"
      ]
     },
     "metadata": {},
     "output_type": "display_data"
    },
    {
     "name": "stdout",
     "output_type": "stream",
     "text": [
      "\n",
      "Epoch =  18 Loss = 0.334498 LR = 0.00004856\n"
     ]
    },
    {
     "data": {
      "application/vnd.jupyter.widget-view+json": {
       "model_id": "b95f7d2318844f4e9b2c0e241850c252",
       "version_major": 2,
       "version_minor": 0
      },
      "text/plain": [
       "HBox(children=(FloatProgress(value=0.0, description='Batches', max=17.0, style=ProgressStyle(description_width…"
      ]
     },
     "metadata": {},
     "output_type": "display_data"
    },
    {
     "name": "stdout",
     "output_type": "stream",
     "text": [
      "Exception for:  keyboard | ' ' | ['char_swap' 'half_cut' 'keyboard' 'word_join'] argument of type 'NoneType' is not iterable\n",
      "\n",
      "Epoch =  19 Loss = 0.327698 LR = 0.00004768\n"
     ]
    },
    {
     "data": {
      "application/vnd.jupyter.widget-view+json": {
       "model_id": "0eb147f78c2148c5895646ab0c9caade",
       "version_major": 2,
       "version_minor": 0
      },
      "text/plain": [
       "HBox(children=(FloatProgress(value=0.0, description='Batches', max=17.0, style=ProgressStyle(description_width…"
      ]
     },
     "metadata": {},
     "output_type": "display_data"
    },
    {
     "name": "stdout",
     "output_type": "stream",
     "text": [
      "\n",
      "Epoch =  20 Loss = 0.316424 LR = 0.00004660\n"
     ]
    },
    {
     "data": {
      "application/vnd.jupyter.widget-view+json": {
       "model_id": "807157d1b75e430cb512a6bf915261a4",
       "version_major": 2,
       "version_minor": 0
      },
      "text/plain": [
       "HBox(children=(FloatProgress(value=0.0, description='Batches', max=17.0, style=ProgressStyle(description_width…"
      ]
     },
     "metadata": {},
     "output_type": "display_data"
    },
    {
     "name": "stdout",
     "output_type": "stream",
     "text": [
      "\n",
      "Epoch =  21 Loss = 0.326792 LR = 0.00004534\n"
     ]
    },
    {
     "data": {
      "application/vnd.jupyter.widget-view+json": {
       "model_id": "8e1d86cb58ec48efb2869357e9d349d3",
       "version_major": 2,
       "version_minor": 0
      },
      "text/plain": [
       "HBox(children=(FloatProgress(value=0.0, description='Batches', max=17.0, style=ProgressStyle(description_width…"
      ]
     },
     "metadata": {},
     "output_type": "display_data"
    },
    {
     "name": "stdout",
     "output_type": "stream",
     "text": [
      "\n",
      "Epoch =  22 Loss = 0.335794 LR = 0.00004389\n"
     ]
    },
    {
     "data": {
      "application/vnd.jupyter.widget-view+json": {
       "model_id": "f193f37fa5bf417f99133b8a26422486",
       "version_major": 2,
       "version_minor": 0
      },
      "text/plain": [
       "HBox(children=(FloatProgress(value=0.0, description='Batches', max=17.0, style=ProgressStyle(description_width…"
      ]
     },
     "metadata": {},
     "output_type": "display_data"
    },
    {
     "name": "stdout",
     "output_type": "stream",
     "text": [
      "\n",
      "Epoch =  23 Loss = 0.320905 LR = 0.00004229\n"
     ]
    },
    {
     "data": {
      "application/vnd.jupyter.widget-view+json": {
       "model_id": "324b16b0be1d4d61bd7d97464f3036b4",
       "version_major": 2,
       "version_minor": 0
      },
      "text/plain": [
       "HBox(children=(FloatProgress(value=0.0, description='Batches', max=17.0, style=ProgressStyle(description_width…"
      ]
     },
     "metadata": {},
     "output_type": "display_data"
    },
    {
     "name": "stdout",
     "output_type": "stream",
     "text": [
      "\n",
      "Epoch =  24 Loss = 0.327341 LR = 0.00004053\n"
     ]
    },
    {
     "data": {
      "application/vnd.jupyter.widget-view+json": {
       "model_id": "9aca282c4c164ad691887b3796f6488b",
       "version_major": 2,
       "version_minor": 0
      },
      "text/plain": [
       "HBox(children=(FloatProgress(value=0.0, description='Batches', max=17.0, style=ProgressStyle(description_width…"
      ]
     },
     "metadata": {},
     "output_type": "display_data"
    },
    {
     "name": "stdout",
     "output_type": "stream",
     "text": [
      "\n",
      "Epoch =  25 Loss = 0.322356 LR = 0.00003863\n"
     ]
    },
    {
     "data": {
      "application/vnd.jupyter.widget-view+json": {
       "model_id": "87b76ac8b43b47039761c4d2da70c819",
       "version_major": 2,
       "version_minor": 0
      },
      "text/plain": [
       "HBox(children=(FloatProgress(value=0.0, description='Batches', max=17.0, style=ProgressStyle(description_width…"
      ]
     },
     "metadata": {},
     "output_type": "display_data"
    },
    {
     "name": "stdout",
     "output_type": "stream",
     "text": [
      "\n",
      "Epoch =  26 Loss = 0.324079 LR = 0.00003662\n"
     ]
    },
    {
     "data": {
      "application/vnd.jupyter.widget-view+json": {
       "model_id": "4f0d670cea67425d9b3c607785aae5f0",
       "version_major": 2,
       "version_minor": 0
      },
      "text/plain": [
       "HBox(children=(FloatProgress(value=0.0, description='Batches', max=17.0, style=ProgressStyle(description_width…"
      ]
     },
     "metadata": {},
     "output_type": "display_data"
    },
    {
     "name": "stdout",
     "output_type": "stream",
     "text": [
      "\n",
      "Epoch =  27 Loss = 0.325928 LR = 0.00003450\n"
     ]
    },
    {
     "data": {
      "application/vnd.jupyter.widget-view+json": {
       "model_id": "6c27a0cafe85428a88aa392c6659b131",
       "version_major": 2,
       "version_minor": 0
      },
      "text/plain": [
       "HBox(children=(FloatProgress(value=0.0, description='Generate Predictions', max=34.0, style=ProgressStyle(desc…"
      ]
     },
     "metadata": {},
     "output_type": "display_data"
    },
    {
     "name": "stdout",
     "output_type": "stream",
     "text": [
      "\n"
     ]
    },
    {
     "data": {
      "application/vnd.jupyter.widget-view+json": {
       "model_id": "f67e8c68d53c40f5bc8e8ea4914c413e",
       "version_major": 2,
       "version_minor": 0
      },
      "text/plain": [
       "HBox(children=(FloatProgress(value=0.0, description='Generate Predictions', max=2.0, style=ProgressStyle(descr…"
      ]
     },
     "metadata": {},
     "output_type": "display_data"
    },
    {
     "name": "stdout",
     "output_type": "stream",
     "text": [
      "\n"
     ]
    },
    {
     "data": {
      "application/vnd.jupyter.widget-view+json": {
       "model_id": "8c53a2746bb14a5591e0c62d991d7495",
       "version_major": 2,
       "version_minor": 0
      },
      "text/plain": [
       "HBox(children=(FloatProgress(value=0.0, description='Generate Predictions', max=2.0, style=ProgressStyle(descr…"
      ]
     },
     "metadata": {},
     "output_type": "display_data"
    },
    {
     "name": "stdout",
     "output_type": "stream",
     "text": [
      "\n"
     ]
    },
    {
     "data": {
      "application/vnd.jupyter.widget-view+json": {
       "model_id": "1405634e6afa48759b47493df1ab90df",
       "version_major": 2,
       "version_minor": 0
      },
      "text/plain": [
       "HBox(children=(FloatProgress(value=0.0, description='Generate Predictions', max=2.0, style=ProgressStyle(descr…"
      ]
     },
     "metadata": {},
     "output_type": "display_data"
    },
    {
     "name": "stdout",
     "output_type": "stream",
     "text": [
      "\n"
     ]
    },
    {
     "data": {
      "application/vnd.jupyter.widget-view+json": {
       "model_id": "879666238e2e475390fe1f14398d5af9",
       "version_major": 2,
       "version_minor": 0
      },
      "text/plain": [
       "HBox(children=(FloatProgress(value=0.0, description='Generate Predictions', max=2.0, style=ProgressStyle(descr…"
      ]
     },
     "metadata": {},
     "output_type": "display_data"
    },
    {
     "name": "stdout",
     "output_type": "stream",
     "text": [
      "\n"
     ]
    },
    {
     "data": {
      "application/vnd.jupyter.widget-view+json": {
       "model_id": "669993339d454b5da3e33ea2ff2a7c98",
       "version_major": 2,
       "version_minor": 0
      },
      "text/plain": [
       "HBox(children=(FloatProgress(value=0.0, description='Generate Predictions', max=2.0, style=ProgressStyle(descr…"
      ]
     },
     "metadata": {},
     "output_type": "display_data"
    },
    {
     "name": "stdout",
     "output_type": "stream",
     "text": [
      "\n"
     ]
    },
    {
     "data": {
      "text/html": [
       "<div>\n",
       "<style scoped>\n",
       "    .dataframe tbody tr th:only-of-type {\n",
       "        vertical-align: middle;\n",
       "    }\n",
       "\n",
       "    .dataframe tbody tr th {\n",
       "        vertical-align: top;\n",
       "    }\n",
       "\n",
       "    .dataframe thead tr th {\n",
       "        text-align: left;\n",
       "    }\n",
       "\n",
       "    .dataframe thead tr:last-of-type th {\n",
       "        text-align: right;\n",
       "    }\n",
       "</style>\n",
       "<table border=\"1\" class=\"dataframe\">\n",
       "  <thead>\n",
       "    <tr>\n",
       "      <th></th>\n",
       "      <th colspan=\"2\" halign=\"left\">Proba</th>\n",
       "      <th colspan=\"2\" halign=\"left\">Preds</th>\n",
       "    </tr>\n",
       "    <tr>\n",
       "      <th></th>\n",
       "      <th>min</th>\n",
       "      <th>max</th>\n",
       "      <th>min</th>\n",
       "      <th>max</th>\n",
       "    </tr>\n",
       "    <tr>\n",
       "      <th>Labels</th>\n",
       "      <th></th>\n",
       "      <th></th>\n",
       "      <th></th>\n",
       "      <th></th>\n",
       "    </tr>\n",
       "  </thead>\n",
       "  <tbody>\n",
       "    <tr>\n",
       "      <th>0</th>\n",
       "      <td>0.355</td>\n",
       "      <td>0.607</td>\n",
       "      <td>0</td>\n",
       "      <td>1</td>\n",
       "    </tr>\n",
       "    <tr>\n",
       "      <th>1</th>\n",
       "      <td>0.387</td>\n",
       "      <td>0.607</td>\n",
       "      <td>0</td>\n",
       "      <td>1</td>\n",
       "    </tr>\n",
       "  </tbody>\n",
       "</table>\n",
       "</div>"
      ],
      "text/plain": [
       "       Proba       Preds    \n",
       "         min   max   min max\n",
       "Labels                      \n",
       "0      0.355 0.607     0   1\n",
       "1      0.387 0.607     0   1"
      ]
     },
     "metadata": {},
     "output_type": "display_data"
    },
    {
     "data": {
      "text/html": [
       "<div>\n",
       "<style scoped>\n",
       "    .dataframe tbody tr th:only-of-type {\n",
       "        vertical-align: middle;\n",
       "    }\n",
       "\n",
       "    .dataframe tbody tr th {\n",
       "        vertical-align: top;\n",
       "    }\n",
       "\n",
       "    .dataframe thead th {\n",
       "        text-align: right;\n",
       "    }\n",
       "</style>\n",
       "<table border=\"1\" class=\"dataframe\">\n",
       "  <thead>\n",
       "    <tr style=\"text-align: right;\">\n",
       "      <th></th>\n",
       "      <th>Proba</th>\n",
       "      <th>Probas</th>\n",
       "      <th>Preds</th>\n",
       "      <th>Labels</th>\n",
       "      <th>Proba</th>\n",
       "      <th>Probas</th>\n",
       "      <th>Preds</th>\n",
       "      <th>Labels</th>\n",
       "      <th>Proba</th>\n",
       "      <th>Probas</th>\n",
       "      <th>Preds</th>\n",
       "      <th>Labels</th>\n",
       "    </tr>\n",
       "  </thead>\n",
       "  <tbody>\n",
       "    <tr>\n",
       "      <th>0</th>\n",
       "      <td>0.479</td>\n",
       "      <td>[0.5214918255805969, 0.4785081744194031]</td>\n",
       "      <td>0</td>\n",
       "      <td>0</td>\n",
       "      <td>0.416</td>\n",
       "      <td>[0.5838222503662109, 0.4161776900291443]</td>\n",
       "      <td>0</td>\n",
       "      <td>1</td>\n",
       "      <td>0.417</td>\n",
       "      <td>[0.5834705233573914, 0.41652947664260864]</td>\n",
       "      <td>0</td>\n",
       "      <td>0</td>\n",
       "    </tr>\n",
       "    <tr>\n",
       "      <th>1</th>\n",
       "      <td>0.477</td>\n",
       "      <td>[0.523257315158844, 0.4767426550388336]</td>\n",
       "      <td>0</td>\n",
       "      <td>1</td>\n",
       "      <td>0.418</td>\n",
       "      <td>[0.5819379687309265, 0.4180620312690735]</td>\n",
       "      <td>0</td>\n",
       "      <td>0</td>\n",
       "      <td>0.472</td>\n",
       "      <td>[0.5275000333786011, 0.47249993681907654]</td>\n",
       "      <td>0</td>\n",
       "      <td>1</td>\n",
       "    </tr>\n",
       "    <tr>\n",
       "      <th>2</th>\n",
       "      <td>0.516</td>\n",
       "      <td>[0.4844039976596832, 0.5155960321426392]</td>\n",
       "      <td>1</td>\n",
       "      <td>0</td>\n",
       "      <td>0.410</td>\n",
       "      <td>[0.5901849865913391, 0.4098149836063385]</td>\n",
       "      <td>0</td>\n",
       "      <td>0</td>\n",
       "      <td>0.445</td>\n",
       "      <td>[0.5547682642936707, 0.44523173570632935]</td>\n",
       "      <td>0</td>\n",
       "      <td>0</td>\n",
       "    </tr>\n",
       "    <tr>\n",
       "      <th>3</th>\n",
       "      <td>0.422</td>\n",
       "      <td>[0.5776253938674927, 0.4223746359348297]</td>\n",
       "      <td>0</td>\n",
       "      <td>0</td>\n",
       "      <td>0.498</td>\n",
       "      <td>[0.5023391246795654, 0.49766087532043457]</td>\n",
       "      <td>0</td>\n",
       "      <td>1</td>\n",
       "      <td>0.494</td>\n",
       "      <td>[0.5058598518371582, 0.4941402077674866]</td>\n",
       "      <td>0</td>\n",
       "      <td>0</td>\n",
       "    </tr>\n",
       "    <tr>\n",
       "      <th>4</th>\n",
       "      <td>0.551</td>\n",
       "      <td>[0.44860702753067017, 0.5513930320739746]</td>\n",
       "      <td>1</td>\n",
       "      <td>1</td>\n",
       "      <td>0.492</td>\n",
       "      <td>[0.5078873634338379, 0.4921126365661621]</td>\n",
       "      <td>0</td>\n",
       "      <td>1</td>\n",
       "      <td>0.472</td>\n",
       "      <td>[0.5280017256736755, 0.47199827432632446]</td>\n",
       "      <td>0</td>\n",
       "      <td>0</td>\n",
       "    </tr>\n",
       "  </tbody>\n",
       "</table>\n",
       "</div>"
      ],
      "text/plain": [
       "  Proba                                     Probas Preds Labels Proba  \\\n",
       "0 0.479   [0.5214918255805969, 0.4785081744194031]     0      0 0.416   \n",
       "1 0.477    [0.523257315158844, 0.4767426550388336]     0      1 0.418   \n",
       "2 0.516   [0.4844039976596832, 0.5155960321426392]     1      0 0.410   \n",
       "3 0.422   [0.5776253938674927, 0.4223746359348297]     0      0 0.498   \n",
       "4 0.551  [0.44860702753067017, 0.5513930320739746]     1      1 0.492   \n",
       "\n",
       "                                      Probas Preds Labels Proba  \\\n",
       "0   [0.5838222503662109, 0.4161776900291443]     0      1 0.417   \n",
       "1   [0.5819379687309265, 0.4180620312690735]     0      0 0.472   \n",
       "2   [0.5901849865913391, 0.4098149836063385]     0      0 0.445   \n",
       "3  [0.5023391246795654, 0.49766087532043457]     0      1 0.494   \n",
       "4   [0.5078873634338379, 0.4921126365661621]     0      1 0.472   \n",
       "\n",
       "                                      Probas Preds Labels  \n",
       "0  [0.5834705233573914, 0.41652947664260864]     0      0  \n",
       "1  [0.5275000333786011, 0.47249993681907654]     0      1  \n",
       "2  [0.5547682642936707, 0.44523173570632935]     0      0  \n",
       "3   [0.5058598518371582, 0.4941402077674866]     0      0  \n",
       "4  [0.5280017256736755, 0.47199827432632446]     0      0  "
      ]
     },
     "metadata": {},
     "output_type": "display_data"
    },
    {
     "name": "stdout",
     "output_type": "stream",
     "text": [
      "scores =  {'map': '0.6011', 'acc': '0.5800', 'auc': '0.6369'}\n",
      "Epoch =  27 Train = 0.833991 Val = 0.636864\n"
     ]
    },
    {
     "data": {
      "application/vnd.jupyter.widget-view+json": {
       "model_id": "b607b31d7813421a9f01a4647cda8654",
       "version_major": 2,
       "version_minor": 0
      },
      "text/plain": [
       "HBox(children=(FloatProgress(value=0.0, description='Batches', max=17.0, style=ProgressStyle(description_width…"
      ]
     },
     "metadata": {},
     "output_type": "display_data"
    },
    {
     "name": "stdout",
     "output_type": "stream",
     "text": [
      "\n",
      "Epoch =  28 Loss = 0.326339 LR = 0.00003231\n"
     ]
    },
    {
     "data": {
      "application/vnd.jupyter.widget-view+json": {
       "model_id": "2c461c40a3094f87a1fbf05341dfeae4",
       "version_major": 2,
       "version_minor": 0
      },
      "text/plain": [
       "HBox(children=(FloatProgress(value=0.0, description='Batches', max=17.0, style=ProgressStyle(description_width…"
      ]
     },
     "metadata": {},
     "output_type": "display_data"
    },
    {
     "name": "stdout",
     "output_type": "stream",
     "text": [
      "\n",
      "Epoch =  29 Loss = 0.310831 LR = 0.00003005\n"
     ]
    },
    {
     "data": {
      "application/vnd.jupyter.widget-view+json": {
       "model_id": "15c2e4baf56048359444b39b7e7c21b3",
       "version_major": 2,
       "version_minor": 0
      },
      "text/plain": [
       "HBox(children=(FloatProgress(value=0.0, description='Batches', max=17.0, style=ProgressStyle(description_width…"
      ]
     },
     "metadata": {},
     "output_type": "display_data"
    },
    {
     "name": "stdout",
     "output_type": "stream",
     "text": [
      "\n",
      "Epoch =  30 Loss = 0.328665 LR = 0.00002774\n"
     ]
    },
    {
     "data": {
      "application/vnd.jupyter.widget-view+json": {
       "model_id": "3a8c5bb8a83949d2bd1ebd3edcdf959f",
       "version_major": 2,
       "version_minor": 0
      },
      "text/plain": [
       "HBox(children=(FloatProgress(value=0.0, description='Batches', max=17.0, style=ProgressStyle(description_width…"
      ]
     },
     "metadata": {},
     "output_type": "display_data"
    },
    {
     "name": "stdout",
     "output_type": "stream",
     "text": [
      "\n",
      "Epoch =  31 Loss = 0.320991 LR = 0.00002541\n"
     ]
    },
    {
     "data": {
      "application/vnd.jupyter.widget-view+json": {
       "model_id": "5c70a96cc5de4256ae604c27fea1e0c4",
       "version_major": 2,
       "version_minor": 0
      },
      "text/plain": [
       "HBox(children=(FloatProgress(value=0.0, description='Batches', max=17.0, style=ProgressStyle(description_width…"
      ]
     },
     "metadata": {},
     "output_type": "display_data"
    },
    {
     "name": "stdout",
     "output_type": "stream",
     "text": [
      "\n",
      "Epoch =  32 Loss = 0.313911 LR = 0.00002308\n"
     ]
    },
    {
     "data": {
      "application/vnd.jupyter.widget-view+json": {
       "model_id": "a770866a8f344bb0a6a57f9cb8e5c80e",
       "version_major": 2,
       "version_minor": 0
      },
      "text/plain": [
       "HBox(children=(FloatProgress(value=0.0, description='Batches', max=17.0, style=ProgressStyle(description_width…"
      ]
     },
     "metadata": {},
     "output_type": "display_data"
    },
    {
     "name": "stdout",
     "output_type": "stream",
     "text": [
      "\n",
      "Epoch =  33 Loss = 0.315995 LR = 0.00002076\n"
     ]
    },
    {
     "data": {
      "application/vnd.jupyter.widget-view+json": {
       "model_id": "2cd75797423349bbb26ff0e4adb48cf7",
       "version_major": 2,
       "version_minor": 0
      },
      "text/plain": [
       "HBox(children=(FloatProgress(value=0.0, description='Batches', max=17.0, style=ProgressStyle(description_width…"
      ]
     },
     "metadata": {},
     "output_type": "display_data"
    },
    {
     "name": "stdout",
     "output_type": "stream",
     "text": [
      "\n",
      "Epoch =  34 Loss = 0.314267 LR = 0.00001849\n"
     ]
    },
    {
     "data": {
      "application/vnd.jupyter.widget-view+json": {
       "model_id": "96162c598c5b4537aa1e50bd96fa1ed1",
       "version_major": 2,
       "version_minor": 0
      },
      "text/plain": [
       "HBox(children=(FloatProgress(value=0.0, description='Batches', max=17.0, style=ProgressStyle(description_width…"
      ]
     },
     "metadata": {},
     "output_type": "display_data"
    },
    {
     "name": "stdout",
     "output_type": "stream",
     "text": [
      "\n",
      "Epoch =  35 Loss = 0.314917 LR = 0.00001626\n"
     ]
    },
    {
     "data": {
      "application/vnd.jupyter.widget-view+json": {
       "model_id": "e9c9b58c52a54b6dacbd933dc0a3fdfa",
       "version_major": 2,
       "version_minor": 0
      },
      "text/plain": [
       "HBox(children=(FloatProgress(value=0.0, description='Batches', max=17.0, style=ProgressStyle(description_width…"
      ]
     },
     "metadata": {},
     "output_type": "display_data"
    },
    {
     "name": "stdout",
     "output_type": "stream",
     "text": [
      "\n",
      "Epoch =  36 Loss = 0.314640 LR = 0.00001412\n"
     ]
    },
    {
     "data": {
      "application/vnd.jupyter.widget-view+json": {
       "model_id": "77af061a0a1641d2bee2d005263f225d",
       "version_major": 2,
       "version_minor": 0
      },
      "text/plain": [
       "HBox(children=(FloatProgress(value=0.0, description='Batches', max=17.0, style=ProgressStyle(description_width…"
      ]
     },
     "metadata": {},
     "output_type": "display_data"
    },
    {
     "name": "stdout",
     "output_type": "stream",
     "text": [
      "\n",
      "Epoch =  37 Loss = 0.316100 LR = 0.00001207\n"
     ]
    },
    {
     "data": {
      "application/vnd.jupyter.widget-view+json": {
       "model_id": "8fa53830a41b40808735e23d54c58be3",
       "version_major": 2,
       "version_minor": 0
      },
      "text/plain": [
       "HBox(children=(FloatProgress(value=0.0, description='Generate Predictions', max=34.0, style=ProgressStyle(desc…"
      ]
     },
     "metadata": {},
     "output_type": "display_data"
    },
    {
     "name": "stdout",
     "output_type": "stream",
     "text": [
      "\n"
     ]
    },
    {
     "data": {
      "application/vnd.jupyter.widget-view+json": {
       "model_id": "59307a037c6b46c688838d8fba349078",
       "version_major": 2,
       "version_minor": 0
      },
      "text/plain": [
       "HBox(children=(FloatProgress(value=0.0, description='Generate Predictions', max=2.0, style=ProgressStyle(descr…"
      ]
     },
     "metadata": {},
     "output_type": "display_data"
    },
    {
     "name": "stdout",
     "output_type": "stream",
     "text": [
      "\n"
     ]
    },
    {
     "data": {
      "application/vnd.jupyter.widget-view+json": {
       "model_id": "1a2a115e65d5444e86a49e6d37ac8358",
       "version_major": 2,
       "version_minor": 0
      },
      "text/plain": [
       "HBox(children=(FloatProgress(value=0.0, description='Generate Predictions', max=2.0, style=ProgressStyle(descr…"
      ]
     },
     "metadata": {},
     "output_type": "display_data"
    },
    {
     "name": "stdout",
     "output_type": "stream",
     "text": [
      "\n"
     ]
    },
    {
     "data": {
      "application/vnd.jupyter.widget-view+json": {
       "model_id": "84361a09925e48bb8af92665d85f0bcd",
       "version_major": 2,
       "version_minor": 0
      },
      "text/plain": [
       "HBox(children=(FloatProgress(value=0.0, description='Generate Predictions', max=2.0, style=ProgressStyle(descr…"
      ]
     },
     "metadata": {},
     "output_type": "display_data"
    },
    {
     "name": "stdout",
     "output_type": "stream",
     "text": [
      "\n"
     ]
    },
    {
     "data": {
      "application/vnd.jupyter.widget-view+json": {
       "model_id": "a514677674b04e32aa16230cd18d6c21",
       "version_major": 2,
       "version_minor": 0
      },
      "text/plain": [
       "HBox(children=(FloatProgress(value=0.0, description='Generate Predictions', max=2.0, style=ProgressStyle(descr…"
      ]
     },
     "metadata": {},
     "output_type": "display_data"
    },
    {
     "name": "stdout",
     "output_type": "stream",
     "text": [
      "\n"
     ]
    },
    {
     "data": {
      "application/vnd.jupyter.widget-view+json": {
       "model_id": "678651d9814a4ccf964b6af66b8f3390",
       "version_major": 2,
       "version_minor": 0
      },
      "text/plain": [
       "HBox(children=(FloatProgress(value=0.0, description='Generate Predictions', max=2.0, style=ProgressStyle(descr…"
      ]
     },
     "metadata": {},
     "output_type": "display_data"
    },
    {
     "name": "stdout",
     "output_type": "stream",
     "text": [
      "\n"
     ]
    },
    {
     "data": {
      "text/html": [
       "<div>\n",
       "<style scoped>\n",
       "    .dataframe tbody tr th:only-of-type {\n",
       "        vertical-align: middle;\n",
       "    }\n",
       "\n",
       "    .dataframe tbody tr th {\n",
       "        vertical-align: top;\n",
       "    }\n",
       "\n",
       "    .dataframe thead tr th {\n",
       "        text-align: left;\n",
       "    }\n",
       "\n",
       "    .dataframe thead tr:last-of-type th {\n",
       "        text-align: right;\n",
       "    }\n",
       "</style>\n",
       "<table border=\"1\" class=\"dataframe\">\n",
       "  <thead>\n",
       "    <tr>\n",
       "      <th></th>\n",
       "      <th colspan=\"2\" halign=\"left\">Proba</th>\n",
       "      <th colspan=\"2\" halign=\"left\">Preds</th>\n",
       "    </tr>\n",
       "    <tr>\n",
       "      <th></th>\n",
       "      <th>min</th>\n",
       "      <th>max</th>\n",
       "      <th>min</th>\n",
       "      <th>max</th>\n",
       "    </tr>\n",
       "    <tr>\n",
       "      <th>Labels</th>\n",
       "      <th></th>\n",
       "      <th></th>\n",
       "      <th></th>\n",
       "      <th></th>\n",
       "    </tr>\n",
       "  </thead>\n",
       "  <tbody>\n",
       "    <tr>\n",
       "      <th>0</th>\n",
       "      <td>0.339</td>\n",
       "      <td>0.629</td>\n",
       "      <td>0</td>\n",
       "      <td>1</td>\n",
       "    </tr>\n",
       "    <tr>\n",
       "      <th>1</th>\n",
       "      <td>0.369</td>\n",
       "      <td>0.629</td>\n",
       "      <td>0</td>\n",
       "      <td>1</td>\n",
       "    </tr>\n",
       "  </tbody>\n",
       "</table>\n",
       "</div>"
      ],
      "text/plain": [
       "       Proba       Preds    \n",
       "         min   max   min max\n",
       "Labels                      \n",
       "0      0.339 0.629     0   1\n",
       "1      0.369 0.629     0   1"
      ]
     },
     "metadata": {},
     "output_type": "display_data"
    },
    {
     "data": {
      "text/html": [
       "<div>\n",
       "<style scoped>\n",
       "    .dataframe tbody tr th:only-of-type {\n",
       "        vertical-align: middle;\n",
       "    }\n",
       "\n",
       "    .dataframe tbody tr th {\n",
       "        vertical-align: top;\n",
       "    }\n",
       "\n",
       "    .dataframe thead th {\n",
       "        text-align: right;\n",
       "    }\n",
       "</style>\n",
       "<table border=\"1\" class=\"dataframe\">\n",
       "  <thead>\n",
       "    <tr style=\"text-align: right;\">\n",
       "      <th></th>\n",
       "      <th>Proba</th>\n",
       "      <th>Probas</th>\n",
       "      <th>Preds</th>\n",
       "      <th>Labels</th>\n",
       "      <th>Proba</th>\n",
       "      <th>Probas</th>\n",
       "      <th>Preds</th>\n",
       "      <th>Labels</th>\n",
       "      <th>Proba</th>\n",
       "      <th>Probas</th>\n",
       "      <th>Preds</th>\n",
       "      <th>Labels</th>\n",
       "    </tr>\n",
       "  </thead>\n",
       "  <tbody>\n",
       "    <tr>\n",
       "      <th>0</th>\n",
       "      <td>0.447</td>\n",
       "      <td>[0.5533768534660339, 0.44662314653396606]</td>\n",
       "      <td>0</td>\n",
       "      <td>0</td>\n",
       "      <td>0.549</td>\n",
       "      <td>[0.45116814970970154, 0.5488318204879761]</td>\n",
       "      <td>1</td>\n",
       "      <td>0</td>\n",
       "      <td>0.463</td>\n",
       "      <td>[0.5371177792549133, 0.46288222074508667]</td>\n",
       "      <td>0</td>\n",
       "      <td>0</td>\n",
       "    </tr>\n",
       "    <tr>\n",
       "      <th>1</th>\n",
       "      <td>0.431</td>\n",
       "      <td>[0.5687257051467896, 0.43127432465553284]</td>\n",
       "      <td>0</td>\n",
       "      <td>0</td>\n",
       "      <td>0.502</td>\n",
       "      <td>[0.4982524514198303, 0.5017474889755249]</td>\n",
       "      <td>1</td>\n",
       "      <td>1</td>\n",
       "      <td>0.508</td>\n",
       "      <td>[0.4918553829193115, 0.5081445574760437]</td>\n",
       "      <td>1</td>\n",
       "      <td>1</td>\n",
       "    </tr>\n",
       "    <tr>\n",
       "      <th>2</th>\n",
       "      <td>0.511</td>\n",
       "      <td>[0.4887832701206207, 0.5112167596817017]</td>\n",
       "      <td>1</td>\n",
       "      <td>0</td>\n",
       "      <td>0.483</td>\n",
       "      <td>[0.5168110132217407, 0.4831889569759369]</td>\n",
       "      <td>0</td>\n",
       "      <td>0</td>\n",
       "      <td>0.464</td>\n",
       "      <td>[0.5356171131134033, 0.4643828868865967]</td>\n",
       "      <td>0</td>\n",
       "      <td>1</td>\n",
       "    </tr>\n",
       "    <tr>\n",
       "      <th>3</th>\n",
       "      <td>0.410</td>\n",
       "      <td>[0.5895408391952515, 0.4104592204093933]</td>\n",
       "      <td>0</td>\n",
       "      <td>0</td>\n",
       "      <td>0.536</td>\n",
       "      <td>[0.46353834867477417, 0.5364617109298706]</td>\n",
       "      <td>1</td>\n",
       "      <td>0</td>\n",
       "      <td>0.579</td>\n",
       "      <td>[0.4212687015533447, 0.5787312388420105]</td>\n",
       "      <td>1</td>\n",
       "      <td>1</td>\n",
       "    </tr>\n",
       "    <tr>\n",
       "      <th>4</th>\n",
       "      <td>0.521</td>\n",
       "      <td>[0.4791174829006195, 0.5208824872970581]</td>\n",
       "      <td>1</td>\n",
       "      <td>0</td>\n",
       "      <td>0.388</td>\n",
       "      <td>[0.6124906539916992, 0.38750940561294556]</td>\n",
       "      <td>0</td>\n",
       "      <td>0</td>\n",
       "      <td>0.478</td>\n",
       "      <td>[0.5222523808479309, 0.47774767875671387]</td>\n",
       "      <td>0</td>\n",
       "      <td>0</td>\n",
       "    </tr>\n",
       "  </tbody>\n",
       "</table>\n",
       "</div>"
      ],
      "text/plain": [
       "  Proba                                     Probas Preds Labels Proba  \\\n",
       "0 0.447  [0.5533768534660339, 0.44662314653396606]     0      0 0.549   \n",
       "1 0.431  [0.5687257051467896, 0.43127432465553284]     0      0 0.502   \n",
       "2 0.511   [0.4887832701206207, 0.5112167596817017]     1      0 0.483   \n",
       "3 0.410   [0.5895408391952515, 0.4104592204093933]     0      0 0.536   \n",
       "4 0.521   [0.4791174829006195, 0.5208824872970581]     1      0 0.388   \n",
       "\n",
       "                                      Probas Preds Labels Proba  \\\n",
       "0  [0.45116814970970154, 0.5488318204879761]     1      0 0.463   \n",
       "1   [0.4982524514198303, 0.5017474889755249]     1      1 0.508   \n",
       "2   [0.5168110132217407, 0.4831889569759369]     0      0 0.464   \n",
       "3  [0.46353834867477417, 0.5364617109298706]     1      0 0.579   \n",
       "4  [0.6124906539916992, 0.38750940561294556]     0      0 0.478   \n",
       "\n",
       "                                      Probas Preds Labels  \n",
       "0  [0.5371177792549133, 0.46288222074508667]     0      0  \n",
       "1   [0.4918553829193115, 0.5081445574760437]     1      1  \n",
       "2   [0.5356171131134033, 0.4643828868865967]     0      1  \n",
       "3   [0.4212687015533447, 0.5787312388420105]     1      1  \n",
       "4  [0.5222523808479309, 0.47774767875671387]     0      0  "
      ]
     },
     "metadata": {},
     "output_type": "display_data"
    },
    {
     "name": "stdout",
     "output_type": "stream",
     "text": [
      "scores =  {'map': '0.6133', 'acc': '0.5660', 'auc': '0.6432'}\n",
      "Epoch =  37 Train = 0.853067 Val = 0.643200\n"
     ]
    },
    {
     "data": {
      "application/vnd.jupyter.widget-view+json": {
       "model_id": "7e16ff6034d44d308de9fe83c1404705",
       "version_major": 2,
       "version_minor": 0
      },
      "text/plain": [
       "HBox(children=(FloatProgress(value=0.0, description='Batches', max=17.0, style=ProgressStyle(description_width…"
      ]
     },
     "metadata": {},
     "output_type": "display_data"
    },
    {
     "name": "stdout",
     "output_type": "stream",
     "text": [
      "\n",
      "Epoch =  38 Loss = 0.311375 LR = 0.00001013\n"
     ]
    },
    {
     "data": {
      "application/vnd.jupyter.widget-view+json": {
       "model_id": "449fa666b9ea4af19fd406a1f922e7eb",
       "version_major": 2,
       "version_minor": 0
      },
      "text/plain": [
       "HBox(children=(FloatProgress(value=0.0, description='Batches', max=17.0, style=ProgressStyle(description_width…"
      ]
     },
     "metadata": {},
     "output_type": "display_data"
    },
    {
     "name": "stdout",
     "output_type": "stream",
     "text": [
      "\n",
      "Epoch =  39 Loss = 0.309835 LR = 0.00000832\n"
     ]
    },
    {
     "data": {
      "application/vnd.jupyter.widget-view+json": {
       "model_id": "32afffaa07b84324ac44fb2761d3d237",
       "version_major": 2,
       "version_minor": 0
      },
      "text/plain": [
       "HBox(children=(FloatProgress(value=0.0, description='Batches', max=17.0, style=ProgressStyle(description_width…"
      ]
     },
     "metadata": {},
     "output_type": "display_data"
    },
    {
     "name": "stdout",
     "output_type": "stream",
     "text": [
      "\n",
      "Epoch =  40 Loss = 0.316437 LR = 0.00000666\n"
     ]
    },
    {
     "data": {
      "application/vnd.jupyter.widget-view+json": {
       "model_id": "3a53bbd94db044d9b6bd73f521b18410",
       "version_major": 2,
       "version_minor": 0
      },
      "text/plain": [
       "HBox(children=(FloatProgress(value=0.0, description='Batches', max=17.0, style=ProgressStyle(description_width…"
      ]
     },
     "metadata": {},
     "output_type": "display_data"
    },
    {
     "name": "stdout",
     "output_type": "stream",
     "text": [
      "\n",
      "Epoch =  41 Loss = 0.317655 LR = 0.00000515\n"
     ]
    },
    {
     "data": {
      "application/vnd.jupyter.widget-view+json": {
       "model_id": "071eeaf0ffb1427d9a636adb17042406",
       "version_major": 2,
       "version_minor": 0
      },
      "text/plain": [
       "HBox(children=(FloatProgress(value=0.0, description='Batches', max=17.0, style=ProgressStyle(description_width…"
      ]
     },
     "metadata": {},
     "output_type": "display_data"
    },
    {
     "name": "stdout",
     "output_type": "stream",
     "text": [
      "\n",
      "Epoch =  42 Loss = 0.306665 LR = 0.00000382\n"
     ]
    },
    {
     "data": {
      "application/vnd.jupyter.widget-view+json": {
       "model_id": "58c06451b03e4c4dafe55a12a794f163",
       "version_major": 2,
       "version_minor": 0
      },
      "text/plain": [
       "HBox(children=(FloatProgress(value=0.0, description='Batches', max=17.0, style=ProgressStyle(description_width…"
      ]
     },
     "metadata": {},
     "output_type": "display_data"
    },
    {
     "name": "stdout",
     "output_type": "stream",
     "text": [
      "\n",
      "Epoch =  43 Loss = 0.309805 LR = 0.00000268\n"
     ]
    },
    {
     "data": {
      "application/vnd.jupyter.widget-view+json": {
       "model_id": "af255cd90aaf418fa800a619d8b4e862",
       "version_major": 2,
       "version_minor": 0
      },
      "text/plain": [
       "HBox(children=(FloatProgress(value=0.0, description='Batches', max=17.0, style=ProgressStyle(description_width…"
      ]
     },
     "metadata": {},
     "output_type": "display_data"
    },
    {
     "name": "stdout",
     "output_type": "stream",
     "text": [
      "\n",
      "Epoch =  44 Loss = 0.314519 LR = 0.00000172\n"
     ]
    },
    {
     "data": {
      "application/vnd.jupyter.widget-view+json": {
       "model_id": "e7c46168f2f84638abf594b31e7f4141",
       "version_major": 2,
       "version_minor": 0
      },
      "text/plain": [
       "HBox(children=(FloatProgress(value=0.0, description='Generate Predictions', max=34.0, style=ProgressStyle(desc…"
      ]
     },
     "metadata": {},
     "output_type": "display_data"
    },
    {
     "name": "stdout",
     "output_type": "stream",
     "text": [
      "\n"
     ]
    },
    {
     "data": {
      "application/vnd.jupyter.widget-view+json": {
       "model_id": "e78ef20f00f6429c9a5e4c0179c81518",
       "version_major": 2,
       "version_minor": 0
      },
      "text/plain": [
       "HBox(children=(FloatProgress(value=0.0, description='Generate Predictions', max=2.0, style=ProgressStyle(descr…"
      ]
     },
     "metadata": {},
     "output_type": "display_data"
    },
    {
     "name": "stdout",
     "output_type": "stream",
     "text": [
      "\n"
     ]
    },
    {
     "data": {
      "application/vnd.jupyter.widget-view+json": {
       "model_id": "5ef95fd5f7f84581bc0e30c5ee2061a6",
       "version_major": 2,
       "version_minor": 0
      },
      "text/plain": [
       "HBox(children=(FloatProgress(value=0.0, description='Generate Predictions', max=2.0, style=ProgressStyle(descr…"
      ]
     },
     "metadata": {},
     "output_type": "display_data"
    },
    {
     "name": "stdout",
     "output_type": "stream",
     "text": [
      "\n"
     ]
    },
    {
     "data": {
      "application/vnd.jupyter.widget-view+json": {
       "model_id": "f0b411984d2545629cb57d44fbf9a87f",
       "version_major": 2,
       "version_minor": 0
      },
      "text/plain": [
       "HBox(children=(FloatProgress(value=0.0, description='Generate Predictions', max=2.0, style=ProgressStyle(descr…"
      ]
     },
     "metadata": {},
     "output_type": "display_data"
    },
    {
     "name": "stdout",
     "output_type": "stream",
     "text": [
      "\n"
     ]
    },
    {
     "data": {
      "application/vnd.jupyter.widget-view+json": {
       "model_id": "9960c48da6b54997800cb4825a3418eb",
       "version_major": 2,
       "version_minor": 0
      },
      "text/plain": [
       "HBox(children=(FloatProgress(value=0.0, description='Generate Predictions', max=2.0, style=ProgressStyle(descr…"
      ]
     },
     "metadata": {},
     "output_type": "display_data"
    },
    {
     "name": "stdout",
     "output_type": "stream",
     "text": [
      "\n"
     ]
    },
    {
     "data": {
      "application/vnd.jupyter.widget-view+json": {
       "model_id": "0af0166b32374146896b772dc6055a53",
       "version_major": 2,
       "version_minor": 0
      },
      "text/plain": [
       "HBox(children=(FloatProgress(value=0.0, description='Generate Predictions', max=2.0, style=ProgressStyle(descr…"
      ]
     },
     "metadata": {},
     "output_type": "display_data"
    },
    {
     "name": "stdout",
     "output_type": "stream",
     "text": [
      "\n"
     ]
    },
    {
     "data": {
      "text/html": [
       "<div>\n",
       "<style scoped>\n",
       "    .dataframe tbody tr th:only-of-type {\n",
       "        vertical-align: middle;\n",
       "    }\n",
       "\n",
       "    .dataframe tbody tr th {\n",
       "        vertical-align: top;\n",
       "    }\n",
       "\n",
       "    .dataframe thead tr th {\n",
       "        text-align: left;\n",
       "    }\n",
       "\n",
       "    .dataframe thead tr:last-of-type th {\n",
       "        text-align: right;\n",
       "    }\n",
       "</style>\n",
       "<table border=\"1\" class=\"dataframe\">\n",
       "  <thead>\n",
       "    <tr>\n",
       "      <th></th>\n",
       "      <th colspan=\"2\" halign=\"left\">Proba</th>\n",
       "      <th colspan=\"2\" halign=\"left\">Preds</th>\n",
       "    </tr>\n",
       "    <tr>\n",
       "      <th></th>\n",
       "      <th>min</th>\n",
       "      <th>max</th>\n",
       "      <th>min</th>\n",
       "      <th>max</th>\n",
       "    </tr>\n",
       "    <tr>\n",
       "      <th>Labels</th>\n",
       "      <th></th>\n",
       "      <th></th>\n",
       "      <th></th>\n",
       "      <th></th>\n",
       "    </tr>\n",
       "  </thead>\n",
       "  <tbody>\n",
       "    <tr>\n",
       "      <th>0</th>\n",
       "      <td>0.322</td>\n",
       "      <td>0.610</td>\n",
       "      <td>0</td>\n",
       "      <td>1</td>\n",
       "    </tr>\n",
       "    <tr>\n",
       "      <th>1</th>\n",
       "      <td>0.368</td>\n",
       "      <td>0.613</td>\n",
       "      <td>0</td>\n",
       "      <td>1</td>\n",
       "    </tr>\n",
       "  </tbody>\n",
       "</table>\n",
       "</div>"
      ],
      "text/plain": [
       "       Proba       Preds    \n",
       "         min   max   min max\n",
       "Labels                      \n",
       "0      0.322 0.610     0   1\n",
       "1      0.368 0.613     0   1"
      ]
     },
     "metadata": {},
     "output_type": "display_data"
    },
    {
     "data": {
      "text/html": [
       "<div>\n",
       "<style scoped>\n",
       "    .dataframe tbody tr th:only-of-type {\n",
       "        vertical-align: middle;\n",
       "    }\n",
       "\n",
       "    .dataframe tbody tr th {\n",
       "        vertical-align: top;\n",
       "    }\n",
       "\n",
       "    .dataframe thead th {\n",
       "        text-align: right;\n",
       "    }\n",
       "</style>\n",
       "<table border=\"1\" class=\"dataframe\">\n",
       "  <thead>\n",
       "    <tr style=\"text-align: right;\">\n",
       "      <th></th>\n",
       "      <th>Proba</th>\n",
       "      <th>Probas</th>\n",
       "      <th>Preds</th>\n",
       "      <th>Labels</th>\n",
       "      <th>Proba</th>\n",
       "      <th>Probas</th>\n",
       "      <th>Preds</th>\n",
       "      <th>Labels</th>\n",
       "      <th>Proba</th>\n",
       "      <th>Probas</th>\n",
       "      <th>Preds</th>\n",
       "      <th>Labels</th>\n",
       "    </tr>\n",
       "  </thead>\n",
       "  <tbody>\n",
       "    <tr>\n",
       "      <th>0</th>\n",
       "      <td>0.483</td>\n",
       "      <td>[0.516534686088562, 0.4834653437137604]</td>\n",
       "      <td>0</td>\n",
       "      <td>0</td>\n",
       "      <td>0.504</td>\n",
       "      <td>[0.49564141035079956, 0.5043585896492004]</td>\n",
       "      <td>1</td>\n",
       "      <td>0</td>\n",
       "      <td>0.420</td>\n",
       "      <td>[0.5797622799873352, 0.4202377200126648]</td>\n",
       "      <td>0</td>\n",
       "      <td>0</td>\n",
       "    </tr>\n",
       "    <tr>\n",
       "      <th>1</th>\n",
       "      <td>0.456</td>\n",
       "      <td>[0.5442709922790527, 0.45572900772094727]</td>\n",
       "      <td>0</td>\n",
       "      <td>1</td>\n",
       "      <td>0.463</td>\n",
       "      <td>[0.5372805595397949, 0.4627194404602051]</td>\n",
       "      <td>0</td>\n",
       "      <td>0</td>\n",
       "      <td>0.462</td>\n",
       "      <td>[0.537955641746521, 0.4620443880558014]</td>\n",
       "      <td>0</td>\n",
       "      <td>1</td>\n",
       "    </tr>\n",
       "    <tr>\n",
       "      <th>2</th>\n",
       "      <td>0.549</td>\n",
       "      <td>[0.4512125551700592, 0.5487874746322632]</td>\n",
       "      <td>1</td>\n",
       "      <td>0</td>\n",
       "      <td>0.400</td>\n",
       "      <td>[0.6000968217849731, 0.39990320801734924]</td>\n",
       "      <td>0</td>\n",
       "      <td>0</td>\n",
       "      <td>0.441</td>\n",
       "      <td>[0.5588882565498352, 0.44111180305480957]</td>\n",
       "      <td>0</td>\n",
       "      <td>1</td>\n",
       "    </tr>\n",
       "    <tr>\n",
       "      <th>3</th>\n",
       "      <td>0.516</td>\n",
       "      <td>[0.4840453267097473, 0.5159546136856079]</td>\n",
       "      <td>1</td>\n",
       "      <td>1</td>\n",
       "      <td>0.547</td>\n",
       "      <td>[0.4526357650756836, 0.5473641157150269]</td>\n",
       "      <td>1</td>\n",
       "      <td>1</td>\n",
       "      <td>0.456</td>\n",
       "      <td>[0.5443207621574402, 0.4556792378425598]</td>\n",
       "      <td>0</td>\n",
       "      <td>1</td>\n",
       "    </tr>\n",
       "    <tr>\n",
       "      <th>4</th>\n",
       "      <td>0.471</td>\n",
       "      <td>[0.5292559862136841, 0.47074398398399353]</td>\n",
       "      <td>0</td>\n",
       "      <td>1</td>\n",
       "      <td>0.508</td>\n",
       "      <td>[0.49194544553756714, 0.5080545544624329]</td>\n",
       "      <td>1</td>\n",
       "      <td>1</td>\n",
       "      <td>0.440</td>\n",
       "      <td>[0.5600100159645081, 0.43998998403549194]</td>\n",
       "      <td>0</td>\n",
       "      <td>1</td>\n",
       "    </tr>\n",
       "  </tbody>\n",
       "</table>\n",
       "</div>"
      ],
      "text/plain": [
       "  Proba                                     Probas Preds Labels Proba  \\\n",
       "0 0.483    [0.516534686088562, 0.4834653437137604]     0      0 0.504   \n",
       "1 0.456  [0.5442709922790527, 0.45572900772094727]     0      1 0.463   \n",
       "2 0.549   [0.4512125551700592, 0.5487874746322632]     1      0 0.400   \n",
       "3 0.516   [0.4840453267097473, 0.5159546136856079]     1      1 0.547   \n",
       "4 0.471  [0.5292559862136841, 0.47074398398399353]     0      1 0.508   \n",
       "\n",
       "                                      Probas Preds Labels Proba  \\\n",
       "0  [0.49564141035079956, 0.5043585896492004]     1      0 0.420   \n",
       "1   [0.5372805595397949, 0.4627194404602051]     0      0 0.462   \n",
       "2  [0.6000968217849731, 0.39990320801734924]     0      0 0.441   \n",
       "3   [0.4526357650756836, 0.5473641157150269]     1      1 0.456   \n",
       "4  [0.49194544553756714, 0.5080545544624329]     1      1 0.440   \n",
       "\n",
       "                                      Probas Preds Labels  \n",
       "0   [0.5797622799873352, 0.4202377200126648]     0      0  \n",
       "1    [0.537955641746521, 0.4620443880558014]     0      1  \n",
       "2  [0.5588882565498352, 0.44111180305480957]     0      1  \n",
       "3   [0.5443207621574402, 0.4556792378425598]     0      1  \n",
       "4  [0.5600100159645081, 0.43998998403549194]     0      1  "
      ]
     },
     "metadata": {},
     "output_type": "display_data"
    },
    {
     "name": "stdout",
     "output_type": "stream",
     "text": [
      "scores =  {'map': '0.6069', 'acc': '0.5620', 'auc': '0.6372'}\n",
      "Epoch =  44 Train = 0.857594 Val = 0.637232\n"
     ]
    },
    {
     "data": {
      "application/vnd.jupyter.widget-view+json": {
       "model_id": "4adff42ad4ff43fc9f66fbc3168c69ab",
       "version_major": 2,
       "version_minor": 0
      },
      "text/plain": [
       "HBox(children=(FloatProgress(value=0.0, description='Batches', max=17.0, style=ProgressStyle(description_width…"
      ]
     },
     "metadata": {},
     "output_type": "display_data"
    },
    {
     "name": "stdout",
     "output_type": "stream",
     "text": [
      "Exception for:  keyboard | ' ' ' ' ' ' | ['half_cut' 'word_cutout' 'one_third_cut' 'char_swap' 'keyboard'] argument of type 'NoneType' is not iterable\n",
      "\n",
      "Epoch =  45 Loss = 0.305343 LR = 0.00000097\n"
     ]
    },
    {
     "data": {
      "application/vnd.jupyter.widget-view+json": {
       "model_id": "131175c14e7042ce8ba1aa82bd8deb55",
       "version_major": 2,
       "version_minor": 0
      },
      "text/plain": [
       "HBox(children=(FloatProgress(value=0.0, description='Batches', max=17.0, style=ProgressStyle(description_width…"
      ]
     },
     "metadata": {},
     "output_type": "display_data"
    },
    {
     "name": "stdout",
     "output_type": "stream",
     "text": [
      "\n",
      "Epoch =  46 Loss = 0.309721 LR = 0.00000043\n"
     ]
    },
    {
     "data": {
      "application/vnd.jupyter.widget-view+json": {
       "model_id": "3ea1d6b2ef504fad94e4c6f6d6585ecd",
       "version_major": 2,
       "version_minor": 0
      },
      "text/plain": [
       "HBox(children=(FloatProgress(value=0.0, description='Batches', max=17.0, style=ProgressStyle(description_width…"
      ]
     },
     "metadata": {},
     "output_type": "display_data"
    },
    {
     "name": "stdout",
     "output_type": "stream",
     "text": [
      "\n",
      "Epoch =  47 Loss = 0.309294 LR = 0.00000011\n"
     ]
    },
    {
     "data": {
      "application/vnd.jupyter.widget-view+json": {
       "model_id": "83dd78874b5849edb018d9a6d96ef10f",
       "version_major": 2,
       "version_minor": 0
      },
      "text/plain": [
       "HBox(children=(FloatProgress(value=0.0, description='Batches', max=17.0, style=ProgressStyle(description_width…"
      ]
     },
     "metadata": {},
     "output_type": "display_data"
    },
    {
     "name": "stdout",
     "output_type": "stream",
     "text": [
      "\n",
      "Epoch =  48 Loss = 0.305411 LR = 0.00000000\n",
      "\n"
     ]
    },
    {
     "data": {
      "image/png": "[encoded data removed]",
      "text/plain": [
       "<Figure size 576x576 with 2 Axes>"
      ]
     },
     "metadata": {
      "image/png": {
       "height": 567,
       "width": 568
      },
      "needs_background": "light"
     },
     "output_type": "display_data"
    },
    {
     "data": {
      "application/vnd.jupyter.widget-view+json": {
       "model_id": "d40d2f46b51b45609d532f7a8970e784",
       "version_major": 2,
       "version_minor": 0
      },
      "text/plain": [
       "HBox(children=(FloatProgress(value=0.0, description='Generate Predictions', max=2.0, style=ProgressStyle(descr…"
      ]
     },
     "metadata": {},
     "output_type": "display_data"
    },
    {
     "name": "stdout",
     "output_type": "stream",
     "text": [
      "\n"
     ]
    },
    {
     "data": {
      "text/html": [
       "<div>\n",
       "<style scoped>\n",
       "    .dataframe tbody tr th:only-of-type {\n",
       "        vertical-align: middle;\n",
       "    }\n",
       "\n",
       "    .dataframe tbody tr th {\n",
       "        vertical-align: top;\n",
       "    }\n",
       "\n",
       "    .dataframe thead tr th {\n",
       "        text-align: left;\n",
       "    }\n",
       "\n",
       "    .dataframe thead tr:last-of-type th {\n",
       "        text-align: right;\n",
       "    }\n",
       "</style>\n",
       "<table border=\"1\" class=\"dataframe\">\n",
       "  <thead>\n",
       "    <tr>\n",
       "      <th></th>\n",
       "      <th colspan=\"2\" halign=\"left\">Proba</th>\n",
       "      <th colspan=\"2\" halign=\"left\">Preds</th>\n",
       "    </tr>\n",
       "    <tr>\n",
       "      <th></th>\n",
       "      <th>min</th>\n",
       "      <th>max</th>\n",
       "      <th>min</th>\n",
       "      <th>max</th>\n",
       "    </tr>\n",
       "    <tr>\n",
       "      <th>Labels</th>\n",
       "      <th></th>\n",
       "      <th></th>\n",
       "      <th></th>\n",
       "      <th></th>\n",
       "    </tr>\n",
       "  </thead>\n",
       "  <tbody>\n",
       "    <tr>\n",
       "      <th>0</th>\n",
       "      <td>0.065</td>\n",
       "      <td>0.782</td>\n",
       "      <td>0</td>\n",
       "      <td>1</td>\n",
       "    </tr>\n",
       "    <tr>\n",
       "      <th>1</th>\n",
       "      <td>0.202</td>\n",
       "      <td>0.782</td>\n",
       "      <td>0</td>\n",
       "      <td>1</td>\n",
       "    </tr>\n",
       "  </tbody>\n",
       "</table>\n",
       "</div>"
      ],
      "text/plain": [
       "       Proba       Preds    \n",
       "         min   max   min max\n",
       "Labels                      \n",
       "0      0.065 0.782     0   1\n",
       "1      0.202 0.782     0   1"
      ]
     },
     "metadata": {},
     "output_type": "display_data"
    },
    {
     "data": {
      "text/html": [
       "<div>\n",
       "<style scoped>\n",
       "    .dataframe tbody tr th:only-of-type {\n",
       "        vertical-align: middle;\n",
       "    }\n",
       "\n",
       "    .dataframe tbody tr th {\n",
       "        vertical-align: top;\n",
       "    }\n",
       "\n",
       "    .dataframe thead th {\n",
       "        text-align: right;\n",
       "    }\n",
       "</style>\n",
       "<table border=\"1\" class=\"dataframe\">\n",
       "  <thead>\n",
       "    <tr style=\"text-align: right;\">\n",
       "      <th></th>\n",
       "      <th>Proba</th>\n",
       "      <th>Probas</th>\n",
       "      <th>Preds</th>\n",
       "      <th>Labels</th>\n",
       "      <th>Proba</th>\n",
       "      <th>Probas</th>\n",
       "      <th>Preds</th>\n",
       "      <th>Labels</th>\n",
       "      <th>Proba</th>\n",
       "      <th>Probas</th>\n",
       "      <th>Preds</th>\n",
       "      <th>Labels</th>\n",
       "    </tr>\n",
       "  </thead>\n",
       "  <tbody>\n",
       "    <tr>\n",
       "      <th>0</th>\n",
       "      <td>0.434</td>\n",
       "      <td>[0.5658804774284363, 0.4341195225715637]</td>\n",
       "      <td>0</td>\n",
       "      <td>1</td>\n",
       "      <td>0.464</td>\n",
       "      <td>[0.5359491109848022, 0.46405094861984253]</td>\n",
       "      <td>0</td>\n",
       "      <td>1</td>\n",
       "      <td>0.485</td>\n",
       "      <td>[0.5145135521888733, 0.4854864478111267]</td>\n",
       "      <td>0</td>\n",
       "      <td>1</td>\n",
       "    </tr>\n",
       "    <tr>\n",
       "      <th>1</th>\n",
       "      <td>0.371</td>\n",
       "      <td>[0.6294471025466919, 0.3705528974533081]</td>\n",
       "      <td>0</td>\n",
       "      <td>0</td>\n",
       "      <td>0.549</td>\n",
       "      <td>[0.45109665393829346, 0.5489033460617065]</td>\n",
       "      <td>1</td>\n",
       "      <td>1</td>\n",
       "      <td>0.382</td>\n",
       "      <td>[0.6176016926765442, 0.3823983073234558]</td>\n",
       "      <td>0</td>\n",
       "      <td>1</td>\n",
       "    </tr>\n",
       "    <tr>\n",
       "      <th>2</th>\n",
       "      <td>0.203</td>\n",
       "      <td>[0.7966785430908203, 0.20332147181034088]</td>\n",
       "      <td>0</td>\n",
       "      <td>1</td>\n",
       "      <td>0.413</td>\n",
       "      <td>[0.5868078470230103, 0.41319209337234497]</td>\n",
       "      <td>0</td>\n",
       "      <td>1</td>\n",
       "      <td>0.570</td>\n",
       "      <td>[0.42993733286857605, 0.5700626373291016]</td>\n",
       "      <td>1</td>\n",
       "      <td>0</td>\n",
       "    </tr>\n",
       "    <tr>\n",
       "      <th>3</th>\n",
       "      <td>0.458</td>\n",
       "      <td>[0.5415877103805542, 0.4584122598171234]</td>\n",
       "      <td>0</td>\n",
       "      <td>0</td>\n",
       "      <td>0.653</td>\n",
       "      <td>[0.34689730405807495, 0.653102695941925]</td>\n",
       "      <td>1</td>\n",
       "      <td>0</td>\n",
       "      <td>0.362</td>\n",
       "      <td>[0.6383525729179382, 0.3616473972797394]</td>\n",
       "      <td>0</td>\n",
       "      <td>1</td>\n",
       "    </tr>\n",
       "    <tr>\n",
       "      <th>4</th>\n",
       "      <td>0.565</td>\n",
       "      <td>[0.4351670742034912, 0.5648329257965088]</td>\n",
       "      <td>1</td>\n",
       "      <td>1</td>\n",
       "      <td>0.458</td>\n",
       "      <td>[0.5415877103805542, 0.4584122598171234]</td>\n",
       "      <td>0</td>\n",
       "      <td>0</td>\n",
       "      <td>0.664</td>\n",
       "      <td>[0.33559268712997437, 0.6644073724746704]</td>\n",
       "      <td>1</td>\n",
       "      <td>0</td>\n",
       "    </tr>\n",
       "  </tbody>\n",
       "</table>\n",
       "</div>"
      ],
      "text/plain": [
       "  Proba                                     Probas Preds Labels Proba  \\\n",
       "0 0.434   [0.5658804774284363, 0.4341195225715637]     0      1 0.464   \n",
       "1 0.371   [0.6294471025466919, 0.3705528974533081]     0      0 0.549   \n",
       "2 0.203  [0.7966785430908203, 0.20332147181034088]     0      1 0.413   \n",
       "3 0.458   [0.5415877103805542, 0.4584122598171234]     0      0 0.653   \n",
       "4 0.565   [0.4351670742034912, 0.5648329257965088]     1      1 0.458   \n",
       "\n",
       "                                      Probas Preds Labels Proba  \\\n",
       "0  [0.5359491109848022, 0.46405094861984253]     0      1 0.485   \n",
       "1  [0.45109665393829346, 0.5489033460617065]     1      1 0.382   \n",
       "2  [0.5868078470230103, 0.41319209337234497]     0      1 0.570   \n",
       "3   [0.34689730405807495, 0.653102695941925]     1      0 0.362   \n",
       "4   [0.5415877103805542, 0.4584122598171234]     0      0 0.664   \n",
       "\n",
       "                                      Probas Preds Labels  \n",
       "0   [0.5145135521888733, 0.4854864478111267]     0      1  \n",
       "1   [0.6176016926765442, 0.3823983073234558]     0      1  \n",
       "2  [0.42993733286857605, 0.5700626373291016]     1      0  \n",
       "3   [0.6383525729179382, 0.3616473972797394]     0      1  \n",
       "4  [0.33559268712997437, 0.6644073724746704]     1      0  "
      ]
     },
     "metadata": {},
     "output_type": "display_data"
    },
    {
     "name": "stdout",
     "output_type": "stream",
     "text": [
      "scores =  {'map': '0.6097', 'acc': '0.5880', 'auc': '0.6440'}\n"
     ]
    },
    {
     "data": {
      "application/vnd.jupyter.widget-view+json": {
       "model_id": "a124e67fcd5246a18ad0a234f7ba388e",
       "version_major": 2,
       "version_minor": 0
      },
      "text/plain": [
       "HBox(children=(FloatProgress(value=0.0, description='Generate Predictions', max=34.0, style=ProgressStyle(desc…"
      ]
     },
     "metadata": {},
     "output_type": "display_data"
    },
    {
     "name": "stdout",
     "output_type": "stream",
     "text": [
      "\n"
     ]
    },
    {
     "data": {
      "application/vnd.jupyter.widget-view+json": {
       "model_id": "086851ac7b6249a692ed319ade64eb17",
       "version_major": 2,
       "version_minor": 0
      },
      "text/plain": [
       "HBox(children=(FloatProgress(value=0.0, description='Generate Predictions', max=34.0, style=ProgressStyle(desc…"
      ]
     },
     "metadata": {},
     "output_type": "display_data"
    },
    {
     "name": "stdout",
     "output_type": "stream",
     "text": [
      "\n"
     ]
    },
    {
     "data": {
      "application/vnd.jupyter.widget-view+json": {
       "model_id": "e3bd99624c6b4e4189e67cd0d57ed8df",
       "version_major": 2,
       "version_minor": 0
      },
      "text/plain": [
       "HBox(children=(FloatProgress(value=0.0, description='Generate Predictions', max=34.0, style=ProgressStyle(desc…"
      ]
     },
     "metadata": {},
     "output_type": "display_data"
    },
    {
     "name": "stdout",
     "output_type": "stream",
     "text": [
      "\n"
     ]
    },
    {
     "data": {
      "application/vnd.jupyter.widget-view+json": {
       "model_id": "6e6f1fb4a07a44a385778b67295f0316",
       "version_major": 2,
       "version_minor": 0
      },
      "text/plain": [
       "HBox(children=(FloatProgress(value=0.0, description='Generate Predictions', max=34.0, style=ProgressStyle(desc…"
      ]
     },
     "metadata": {},
     "output_type": "display_data"
    },
    {
     "name": "stdout",
     "output_type": "stream",
     "text": [
      "\n"
     ]
    },
    {
     "data": {
      "application/vnd.jupyter.widget-view+json": {
       "model_id": "6e2ad3ccc4834fce983a96beeba0e8ce",
       "version_major": 2,
       "version_minor": 0
      },
      "text/plain": [
       "HBox(children=(FloatProgress(value=0.0, description='Generate Predictions', max=34.0, style=ProgressStyle(desc…"
      ]
     },
     "metadata": {},
     "output_type": "display_data"
    },
    {
     "name": "stdout",
     "output_type": "stream",
     "text": [
      "\n"
     ]
    },
    {
     "data": {
      "text/html": [
       "<div>\n",
       "<style scoped>\n",
       "    .dataframe tbody tr th:only-of-type {\n",
       "        vertical-align: middle;\n",
       "    }\n",
       "\n",
       "    .dataframe tbody tr th {\n",
       "        vertical-align: top;\n",
       "    }\n",
       "\n",
       "    .dataframe thead th {\n",
       "        text-align: right;\n",
       "    }\n",
       "</style>\n",
       "<table border=\"1\" class=\"dataframe\">\n",
       "  <thead>\n",
       "    <tr style=\"text-align: right;\">\n",
       "      <th></th>\n",
       "      <th></th>\n",
       "      <th>train</th>\n",
       "      <th>val</th>\n",
       "    </tr>\n",
       "    <tr>\n",
       "      <th>mean_or_std</th>\n",
       "      <th>metric</th>\n",
       "      <th></th>\n",
       "      <th></th>\n",
       "    </tr>\n",
       "  </thead>\n",
       "  <tbody>\n",
       "    <tr>\n",
       "      <th rowspan=\"3\" valign=\"top\">mean</th>\n",
       "      <th>map</th>\n",
       "      <td>0.769</td>\n",
       "      <td>0.610</td>\n",
       "    </tr>\n",
       "    <tr>\n",
       "      <th>accuracy</th>\n",
       "      <td>0.768</td>\n",
       "      <td>0.588</td>\n",
       "    </tr>\n",
       "    <tr>\n",
       "      <th>auc</th>\n",
       "      <td>0.848</td>\n",
       "      <td>0.644</td>\n",
       "    </tr>\n",
       "    <tr>\n",
       "      <th rowspan=\"3\" valign=\"top\">std</th>\n",
       "      <th>map</th>\n",
       "      <td>0.000</td>\n",
       "      <td>0.000</td>\n",
       "    </tr>\n",
       "    <tr>\n",
       "      <th>accuracy</th>\n",
       "      <td>0.000</td>\n",
       "      <td>0.000</td>\n",
       "    </tr>\n",
       "    <tr>\n",
       "      <th>auc</th>\n",
       "      <td>0.000</td>\n",
       "      <td>0.000</td>\n",
       "    </tr>\n",
       "  </tbody>\n",
       "</table>\n",
       "</div>"
      ],
      "text/plain": [
       "                      train   val\n",
       "mean_or_std metric               \n",
       "mean        map       0.769 0.610\n",
       "            accuracy  0.768 0.588\n",
       "            auc       0.848 0.644\n",
       "std         map       0.000 0.000\n",
       "            accuracy  0.000 0.000\n",
       "            auc       0.000 0.000"
      ]
     },
     "execution_count": 26,
     "metadata": {},
     "output_type": "execute_result"
    },
    {
     "data": {
      "text/html": [
       "<div>\n",
       "<style scoped>\n",
       "    .dataframe tbody tr th:only-of-type {\n",
       "        vertical-align: middle;\n",
       "    }\n",
       "\n",
       "    .dataframe tbody tr th {\n",
       "        vertical-align: top;\n",
       "    }\n",
       "\n",
       "    .dataframe thead tr th {\n",
       "        text-align: left;\n",
       "    }\n",
       "</style>\n",
       "<table border=\"1\" class=\"dataframe\">\n",
       "  <thead>\n",
       "    <tr>\n",
       "      <th></th>\n",
       "      <th colspan=\"4\" halign=\"left\">train</th>\n",
       "      <th colspan=\"4\" halign=\"left\">val</th>\n",
       "    </tr>\n",
       "    <tr>\n",
       "      <th></th>\n",
       "      <th>precision</th>\n",
       "      <th>recall</th>\n",
       "      <th>f1</th>\n",
       "      <th>supoort</th>\n",
       "      <th>precision</th>\n",
       "      <th>recall</th>\n",
       "      <th>f1</th>\n",
       "      <th>supoort</th>\n",
       "    </tr>\n",
       "  </thead>\n",
       "  <tbody>\n",
       "    <tr>\n",
       "      <th>neg</th>\n",
       "      <td>0.841</td>\n",
       "      <td>0.788</td>\n",
       "      <td>0.813</td>\n",
       "      <td>5450.000</td>\n",
       "      <td>0.571</td>\n",
       "      <td>0.708</td>\n",
       "      <td>0.632</td>\n",
       "      <td>250.000</td>\n",
       "    </tr>\n",
       "    <tr>\n",
       "      <th>pos</th>\n",
       "      <td>0.659</td>\n",
       "      <td>0.733</td>\n",
       "      <td>0.694</td>\n",
       "      <td>3050.000</td>\n",
       "      <td>0.616</td>\n",
       "      <td>0.468</td>\n",
       "      <td>0.532</td>\n",
       "      <td>250.000</td>\n",
       "    </tr>\n",
       "  </tbody>\n",
       "</table>\n",
       "</div>"
      ],
      "text/plain": [
       "        train                             val                     \n",
       "    precision recall    f1  supoort precision recall    f1 supoort\n",
       "neg     0.841  0.788 0.813 5450.000     0.571  0.708 0.632 250.000\n",
       "pos     0.659  0.733 0.694 3050.000     0.616  0.468 0.532 250.000"
      ]
     },
     "execution_count": 26,
     "metadata": {},
     "output_type": "execute_result"
    }
   ],
   "source": [
    "adamw = torch.optim.AdamW\n",
    "adamw_params = dict(lr=5e-5, betas=(0.9, 0.98), eps=1e-08, weight_decay=1e-3)\n",
    "optimizer = adamw\n",
    "optimizer_params = adamw_params\n",
    "\n",
    "lr_strategy = {\n",
    "    \"model\": {\n",
    "        \"lr\": optimizer_params[\"lr\"] / 1000,\n",
    "        \"finetune\": False,\n",
    "        \"encoder\": {\n",
    "            \"layer\": {\n",
    "                \"2\": {\n",
    "                    \"lr\": optimizer_params[\"lr\"],\n",
    "                    \"finetune\": False\n",
    "                },\n",
    "                \"3\": {\n",
    "                    \"lr\": optimizer_params[\"lr\"],\n",
    "                    \"finetune\": True\n",
    "                },\n",
    "                \"4\": {\n",
    "                    \"lr\": optimizer_params[\"lr\"],\n",
    "                    \"finetune\": True\n",
    "                },\n",
    "                \"5\": {\n",
    "                    \"lr\": optimizer_params[\"lr\"],\n",
    "                    \"finetune\": True\n",
    "                }\n",
    "            }\n",
    "        },\n",
    "    }\n",
    "}\n",
    "\n",
    "epochs = 24\n",
    "batch_size = 256\n",
    "model_fn = model_builder(AlbertClassifer,\n",
    "                         dict(classifier_dims=768,\n",
    "                              num_classes=2,\n",
    "                              gaussian_noise=0.025,\n",
    "                              dropout=0.025,\n",
    "                              word_masking_proba=0.15, # 0.1\n",
    "                              internal_dims=768,\n",
    "                              final_layer_builder=fb_1d_loss_builder,\n",
    "                              n_layers=2,\n",
    "                              n_encoders=0,\n",
    "                              n_decoders=1,\n",
    "                              n_tokens_in=96,\n",
    "                              n_tokens_out=16,\n",
    "                              featurizer=\"transformer\",\n",
    "                              model='distilbert-nsp',\n",
    "                              loss=\"focal\",\n",
    "                              classification_head=\"head_ensemble\", # head_ensemble\n",
    "                              dice_loss_coef=0.0,\n",
    "                              auc_loss_coef=0.5, # 0.1\n",
    "                              attention_drop_proba=0.0,\n",
    "                              finetune=False),\n",
    "                         per_param_opts_fn=lr_strategy,\n",
    "                         optimiser_class=optimizer,\n",
    "                         optimiser_params=optimizer_params)\n",
    "\n",
    "kfold = False\n",
    "results, prfs = train_validate_ntimes(\n",
    "    model_fn,\n",
    "    data,\n",
    "    batch_size,\n",
    "    epochs,\n",
    "    kfold=kfold,\n",
    "    scheduler_init_fn=scheduler_init_fn,\n",
    "    model_call_back=reg_sched, # reg_sched\n",
    "    validation_epochs=[9, 17, 27, 37, 44, 54],\n",
    "    show_model_stats=False,\n",
    "    sampling_policy=\"without_replacement\",\n",
    "    prediction_iters=5, evaluate_in_train_mode=True\n",
    ")\n",
    "r2, p2 = results, prfs\n",
    "results\n",
    "prfs\n"
   ]
  },
  {
   "cell_type": "code",
   "execution_count": 17,
   "metadata": {
    "ExecuteTime": {
     "end_time": "2020-07-26T09:03:15.242944Z",
     "start_time": "2020-07-26T09:03:15.239172Z"
    }
   },
   "outputs": [
    {
     "data": {
      "text/plain": [
       "2"
      ]
     },
     "execution_count": 17,
     "metadata": {},
     "output_type": "execute_result"
    }
   ],
   "source": [
    "# reg_scheduling and multi-eval won't work together\n",
    "# All regularization bound by if self.training"
   ]
  },
  {
   "cell_type": "markdown",
   "metadata": {
    "heading_collapsed": true
   },
   "source": [
    "## Decoder Ensemble"
   ]
  },
  {
   "cell_type": "code",
   "execution_count": 21,
   "metadata": {
    "ExecuteTime": {
     "end_time": "2020-07-25T09:48:49.982646Z",
     "start_time": "2020-07-25T09:21:01.071717Z"
    },
    "hidden": true
   },
   "outputs": [
    {
     "name": "stdout",
     "output_type": "stream",
     "text": [
      "Pick stored Model ./distilbert-nsp Model Class =  <class 'transformers.modeling_roberta.RobertaModel'> Tokenizer Class =  <class 'transformers.tokenization_roberta.RobertaTokenizer'>\n",
      "Autocast =  True Epochs =  48 Divisor = 2 Examples = 4250 Batch Size =  256\n",
      "Training Samples =  8500 Weighted Sampling =  True Num Batches =  17 Accumulation steps =  1\n"
     ]
    },
    {
     "data": {
      "application/vnd.jupyter.widget-view+json": {
       "model_id": "3848d3d4749f46adba453e2ea4a0597a",
       "version_major": 2,
       "version_minor": 0
      },
      "text/plain": [
       "HBox(children=(FloatProgress(value=0.0, max=48.0), HTML(value='')))"
      ]
     },
     "metadata": {},
     "output_type": "display_data"
    },
    {
     "data": {
      "application/vnd.jupyter.widget-view+json": {
       "model_id": "9bbc761931f04cb1b45208fd3ca30f75",
       "version_major": 2,
       "version_minor": 0
      },
      "text/plain": [
       "HBox(children=(FloatProgress(value=0.0, description='Batches', max=17.0, style=ProgressStyle(description_width…"
      ]
     },
     "metadata": {},
     "output_type": "display_data"
    },
    {
     "name": "stdout",
     "output_type": "stream",
     "text": [
      "\n",
      "Epoch =  1 Loss = 0.825098 LR = 0.00000697\n"
     ]
    },
    {
     "data": {
      "application/vnd.jupyter.widget-view+json": {
       "model_id": "5a406771bf3a43dc86f852bf84b123a1",
       "version_major": 2,
       "version_minor": 0
      },
      "text/plain": [
       "HBox(children=(FloatProgress(value=0.0, description='Batches', max=17.0, style=ProgressStyle(description_width…"
      ]
     },
     "metadata": {},
     "output_type": "display_data"
    },
    {
     "name": "stdout",
     "output_type": "stream",
     "text": [
      "\n",
      "Epoch =  2 Loss = 0.645896 LR = 0.00001393\n"
     ]
    },
    {
     "data": {
      "application/vnd.jupyter.widget-view+json": {
       "model_id": "db8c90b36f094bf98fa5f3337f14e578",
       "version_major": 2,
       "version_minor": 0
      },
      "text/plain": [
       "HBox(children=(FloatProgress(value=0.0, description='Batches', max=17.0, style=ProgressStyle(description_width…"
      ]
     },
     "metadata": {},
     "output_type": "display_data"
    },
    {
     "name": "stdout",
     "output_type": "stream",
     "text": [
      "\n",
      "Epoch =  3 Loss = 0.574671 LR = 0.00002090\n"
     ]
    },
    {
     "data": {
      "application/vnd.jupyter.widget-view+json": {
       "model_id": "aa48b250fabe42ed82931cd51833037b",
       "version_major": 2,
       "version_minor": 0
      },
      "text/plain": [
       "HBox(children=(FloatProgress(value=0.0, description='Batches', max=17.0, style=ProgressStyle(description_width…"
      ]
     },
     "metadata": {},
     "output_type": "display_data"
    },
    {
     "name": "stdout",
     "output_type": "stream",
     "text": [
      "\n",
      "Epoch =  4 Loss = 0.543297 LR = 0.00002787\n"
     ]
    },
    {
     "data": {
      "application/vnd.jupyter.widget-view+json": {
       "model_id": "5ef7259c943a42e69345964579c2dd11",
       "version_major": 2,
       "version_minor": 0
      },
      "text/plain": [
       "HBox(children=(FloatProgress(value=0.0, description='Generate Predictions', max=34.0, style=ProgressStyle(desc…"
      ]
     },
     "metadata": {},
     "output_type": "display_data"
    },
    {
     "name": "stdout",
     "output_type": "stream",
     "text": [
      "\n"
     ]
    },
    {
     "data": {
      "application/vnd.jupyter.widget-view+json": {
       "model_id": "8364b42c3d364733824d06ddff746e3e",
       "version_major": 2,
       "version_minor": 0
      },
      "text/plain": [
       "HBox(children=(FloatProgress(value=0.0, description='Generate Predictions', max=2.0, style=ProgressStyle(descr…"
      ]
     },
     "metadata": {},
     "output_type": "display_data"
    },
    {
     "name": "stdout",
     "output_type": "stream",
     "text": [
      "\n"
     ]
    },
    {
     "data": {
      "text/html": [
       "<div>\n",
       "<style scoped>\n",
       "    .dataframe tbody tr th:only-of-type {\n",
       "        vertical-align: middle;\n",
       "    }\n",
       "\n",
       "    .dataframe tbody tr th {\n",
       "        vertical-align: top;\n",
       "    }\n",
       "\n",
       "    .dataframe thead tr th {\n",
       "        text-align: left;\n",
       "    }\n",
       "\n",
       "    .dataframe thead tr:last-of-type th {\n",
       "        text-align: right;\n",
       "    }\n",
       "</style>\n",
       "<table border=\"1\" class=\"dataframe\">\n",
       "  <thead>\n",
       "    <tr>\n",
       "      <th></th>\n",
       "      <th colspan=\"2\" halign=\"left\">Proba</th>\n",
       "      <th colspan=\"2\" halign=\"left\">Preds</th>\n",
       "    </tr>\n",
       "    <tr>\n",
       "      <th></th>\n",
       "      <th>min</th>\n",
       "      <th>max</th>\n",
       "      <th>min</th>\n",
       "      <th>max</th>\n",
       "    </tr>\n",
       "    <tr>\n",
       "      <th>Labels</th>\n",
       "      <th></th>\n",
       "      <th></th>\n",
       "      <th></th>\n",
       "      <th></th>\n",
       "    </tr>\n",
       "  </thead>\n",
       "  <tbody>\n",
       "    <tr>\n",
       "      <th>0</th>\n",
       "      <td>0.367</td>\n",
       "      <td>0.473</td>\n",
       "      <td>0</td>\n",
       "      <td>0</td>\n",
       "    </tr>\n",
       "    <tr>\n",
       "      <th>1</th>\n",
       "      <td>0.368</td>\n",
       "      <td>0.473</td>\n",
       "      <td>0</td>\n",
       "      <td>0</td>\n",
       "    </tr>\n",
       "  </tbody>\n",
       "</table>\n",
       "</div>"
      ],
      "text/plain": [
       "       Proba       Preds    \n",
       "         min   max   min max\n",
       "Labels                      \n",
       "0      0.367 0.473     0   0\n",
       "1      0.368 0.473     0   0"
      ]
     },
     "metadata": {},
     "output_type": "display_data"
    },
    {
     "data": {
      "text/html": [
       "<div>\n",
       "<style scoped>\n",
       "    .dataframe tbody tr th:only-of-type {\n",
       "        vertical-align: middle;\n",
       "    }\n",
       "\n",
       "    .dataframe tbody tr th {\n",
       "        vertical-align: top;\n",
       "    }\n",
       "\n",
       "    .dataframe thead th {\n",
       "        text-align: right;\n",
       "    }\n",
       "</style>\n",
       "<table border=\"1\" class=\"dataframe\">\n",
       "  <thead>\n",
       "    <tr style=\"text-align: right;\">\n",
       "      <th></th>\n",
       "      <th>Proba</th>\n",
       "      <th>Probas</th>\n",
       "      <th>Preds</th>\n",
       "      <th>Labels</th>\n",
       "      <th>Proba</th>\n",
       "      <th>Probas</th>\n",
       "      <th>Preds</th>\n",
       "      <th>Labels</th>\n",
       "      <th>Proba</th>\n",
       "      <th>Probas</th>\n",
       "      <th>Preds</th>\n",
       "      <th>Labels</th>\n",
       "    </tr>\n",
       "  </thead>\n",
       "  <tbody>\n",
       "    <tr>\n",
       "      <th>0</th>\n",
       "      <td>0.400</td>\n",
       "      <td>[0.6000945568084717, 0.39990541338920593]</td>\n",
       "      <td>0</td>\n",
       "      <td>0</td>\n",
       "      <td>0.385</td>\n",
       "      <td>[0.6153837442398071, 0.38461625576019287]</td>\n",
       "      <td>0</td>\n",
       "      <td>0</td>\n",
       "      <td>0.417</td>\n",
       "      <td>[0.5828951597213745, 0.4171048700809479]</td>\n",
       "      <td>0</td>\n",
       "      <td>1</td>\n",
       "    </tr>\n",
       "    <tr>\n",
       "      <th>1</th>\n",
       "      <td>0.402</td>\n",
       "      <td>[0.5981106758117676, 0.4018893241882324]</td>\n",
       "      <td>0</td>\n",
       "      <td>1</td>\n",
       "      <td>0.402</td>\n",
       "      <td>[0.5980411767959595, 0.40195876359939575]</td>\n",
       "      <td>0</td>\n",
       "      <td>1</td>\n",
       "      <td>0.441</td>\n",
       "      <td>[0.5585863590240479, 0.44141364097595215]</td>\n",
       "      <td>0</td>\n",
       "      <td>1</td>\n",
       "    </tr>\n",
       "    <tr>\n",
       "      <th>2</th>\n",
       "      <td>0.406</td>\n",
       "      <td>[0.5943883657455444, 0.40561163425445557]</td>\n",
       "      <td>0</td>\n",
       "      <td>0</td>\n",
       "      <td>0.381</td>\n",
       "      <td>[0.6185457706451416, 0.381454199552536]</td>\n",
       "      <td>0</td>\n",
       "      <td>0</td>\n",
       "      <td>0.426</td>\n",
       "      <td>[0.5735257863998413, 0.4264742136001587]</td>\n",
       "      <td>0</td>\n",
       "      <td>1</td>\n",
       "    </tr>\n",
       "    <tr>\n",
       "      <th>3</th>\n",
       "      <td>0.405</td>\n",
       "      <td>[0.5945001244544983, 0.4054998457431793]</td>\n",
       "      <td>0</td>\n",
       "      <td>1</td>\n",
       "      <td>0.418</td>\n",
       "      <td>[0.5816152691841125, 0.41838473081588745]</td>\n",
       "      <td>0</td>\n",
       "      <td>1</td>\n",
       "      <td>0.407</td>\n",
       "      <td>[0.5931220650672913, 0.40687787532806396]</td>\n",
       "      <td>0</td>\n",
       "      <td>0</td>\n",
       "    </tr>\n",
       "    <tr>\n",
       "      <th>4</th>\n",
       "      <td>0.426</td>\n",
       "      <td>[0.5740940570831299, 0.4259059727191925]</td>\n",
       "      <td>0</td>\n",
       "      <td>0</td>\n",
       "      <td>0.420</td>\n",
       "      <td>[0.5800891518592834, 0.41991090774536133]</td>\n",
       "      <td>0</td>\n",
       "      <td>1</td>\n",
       "      <td>0.406</td>\n",
       "      <td>[0.5943644046783447, 0.4056355953216553]</td>\n",
       "      <td>0</td>\n",
       "      <td>1</td>\n",
       "    </tr>\n",
       "  </tbody>\n",
       "</table>\n",
       "</div>"
      ],
      "text/plain": [
       "  Proba                                     Probas Preds Labels Proba  \\\n",
       "0 0.400  [0.6000945568084717, 0.39990541338920593]     0      0 0.385   \n",
       "1 0.402   [0.5981106758117676, 0.4018893241882324]     0      1 0.402   \n",
       "2 0.406  [0.5943883657455444, 0.40561163425445557]     0      0 0.381   \n",
       "3 0.405   [0.5945001244544983, 0.4054998457431793]     0      1 0.418   \n",
       "4 0.426   [0.5740940570831299, 0.4259059727191925]     0      0 0.420   \n",
       "\n",
       "                                      Probas Preds Labels Proba  \\\n",
       "0  [0.6153837442398071, 0.38461625576019287]     0      0 0.417   \n",
       "1  [0.5980411767959595, 0.40195876359939575]     0      1 0.441   \n",
       "2    [0.6185457706451416, 0.381454199552536]     0      0 0.426   \n",
       "3  [0.5816152691841125, 0.41838473081588745]     0      1 0.407   \n",
       "4  [0.5800891518592834, 0.41991090774536133]     0      1 0.406   \n",
       "\n",
       "                                      Probas Preds Labels  \n",
       "0   [0.5828951597213745, 0.4171048700809479]     0      1  \n",
       "1  [0.5585863590240479, 0.44141364097595215]     0      1  \n",
       "2   [0.5735257863998413, 0.4264742136001587]     0      1  \n",
       "3  [0.5931220650672913, 0.40687787532806396]     0      0  \n",
       "4   [0.5943644046783447, 0.4056355953216553]     0      1  "
      ]
     },
     "metadata": {},
     "output_type": "display_data"
    },
    {
     "name": "stdout",
     "output_type": "stream",
     "text": [
      "scores =  {'map': '0.5457', 'acc': '0.5000', 'auc': '0.5529'}\n",
      "Epoch =  4 Train = 0.642595 Val = 0.552904\n"
     ]
    },
    {
     "data": {
      "application/vnd.jupyter.widget-view+json": {
       "model_id": "dfd3228de9dd448e8f7cf883a291b408",
       "version_major": 2,
       "version_minor": 0
      },
      "text/plain": [
       "HBox(children=(FloatProgress(value=0.0, description='Batches', max=17.0, style=ProgressStyle(description_width…"
      ]
     },
     "metadata": {},
     "output_type": "display_data"
    },
    {
     "name": "stdout",
     "output_type": "stream",
     "text": [
      "\n",
      "Epoch =  5 Loss = 0.528677 LR = 0.00003484\n"
     ]
    },
    {
     "data": {
      "application/vnd.jupyter.widget-view+json": {
       "model_id": "1a4792769689488eb8708faaec28e7bb",
       "version_major": 2,
       "version_minor": 0
      },
      "text/plain": [
       "HBox(children=(FloatProgress(value=0.0, description='Batches', max=17.0, style=ProgressStyle(description_width…"
      ]
     },
     "metadata": {},
     "output_type": "display_data"
    },
    {
     "name": "stdout",
     "output_type": "stream",
     "text": [
      "\n",
      "Epoch =  6 Loss = 0.518939 LR = 0.00004180\n"
     ]
    },
    {
     "data": {
      "application/vnd.jupyter.widget-view+json": {
       "model_id": "089bebd32ef04d8d9ff8db9252b7c0bc",
       "version_major": 2,
       "version_minor": 0
      },
      "text/plain": [
       "HBox(children=(FloatProgress(value=0.0, description='Batches', max=17.0, style=ProgressStyle(description_width…"
      ]
     },
     "metadata": {},
     "output_type": "display_data"
    },
    {
     "name": "stdout",
     "output_type": "stream",
     "text": [
      "\n",
      "Epoch =  7 Loss = 0.514026 LR = 0.00004877\n"
     ]
    },
    {
     "data": {
      "application/vnd.jupyter.widget-view+json": {
       "model_id": "bedb42b5698a433cb14b77827d3700a3",
       "version_major": 2,
       "version_minor": 0
      },
      "text/plain": [
       "HBox(children=(FloatProgress(value=0.0, description='Generate Predictions', max=34.0, style=ProgressStyle(desc…"
      ]
     },
     "metadata": {},
     "output_type": "display_data"
    },
    {
     "name": "stdout",
     "output_type": "stream",
     "text": [
      "\n"
     ]
    },
    {
     "data": {
      "application/vnd.jupyter.widget-view+json": {
       "model_id": "7a3da819858243d6a7e79bba8e7ad4fe",
       "version_major": 2,
       "version_minor": 0
      },
      "text/plain": [
       "HBox(children=(FloatProgress(value=0.0, description='Generate Predictions', max=2.0, style=ProgressStyle(descr…"
      ]
     },
     "metadata": {},
     "output_type": "display_data"
    },
    {
     "name": "stdout",
     "output_type": "stream",
     "text": [
      "\n"
     ]
    },
    {
     "data": {
      "text/html": [
       "<div>\n",
       "<style scoped>\n",
       "    .dataframe tbody tr th:only-of-type {\n",
       "        vertical-align: middle;\n",
       "    }\n",
       "\n",
       "    .dataframe tbody tr th {\n",
       "        vertical-align: top;\n",
       "    }\n",
       "\n",
       "    .dataframe thead tr th {\n",
       "        text-align: left;\n",
       "    }\n",
       "\n",
       "    .dataframe thead tr:last-of-type th {\n",
       "        text-align: right;\n",
       "    }\n",
       "</style>\n",
       "<table border=\"1\" class=\"dataframe\">\n",
       "  <thead>\n",
       "    <tr>\n",
       "      <th></th>\n",
       "      <th colspan=\"2\" halign=\"left\">Proba</th>\n",
       "      <th colspan=\"2\" halign=\"left\">Preds</th>\n",
       "    </tr>\n",
       "    <tr>\n",
       "      <th></th>\n",
       "      <th>min</th>\n",
       "      <th>max</th>\n",
       "      <th>min</th>\n",
       "      <th>max</th>\n",
       "    </tr>\n",
       "    <tr>\n",
       "      <th>Labels</th>\n",
       "      <th></th>\n",
       "      <th></th>\n",
       "      <th></th>\n",
       "      <th></th>\n",
       "    </tr>\n",
       "  </thead>\n",
       "  <tbody>\n",
       "    <tr>\n",
       "      <th>0</th>\n",
       "      <td>0.298</td>\n",
       "      <td>0.526</td>\n",
       "      <td>0</td>\n",
       "      <td>1</td>\n",
       "    </tr>\n",
       "    <tr>\n",
       "      <th>1</th>\n",
       "      <td>0.342</td>\n",
       "      <td>0.532</td>\n",
       "      <td>0</td>\n",
       "      <td>1</td>\n",
       "    </tr>\n",
       "  </tbody>\n",
       "</table>\n",
       "</div>"
      ],
      "text/plain": [
       "       Proba       Preds    \n",
       "         min   max   min max\n",
       "Labels                      \n",
       "0      0.298 0.526     0   1\n",
       "1      0.342 0.532     0   1"
      ]
     },
     "metadata": {},
     "output_type": "display_data"
    },
    {
     "data": {
      "text/html": [
       "<div>\n",
       "<style scoped>\n",
       "    .dataframe tbody tr th:only-of-type {\n",
       "        vertical-align: middle;\n",
       "    }\n",
       "\n",
       "    .dataframe tbody tr th {\n",
       "        vertical-align: top;\n",
       "    }\n",
       "\n",
       "    .dataframe thead th {\n",
       "        text-align: right;\n",
       "    }\n",
       "</style>\n",
       "<table border=\"1\" class=\"dataframe\">\n",
       "  <thead>\n",
       "    <tr style=\"text-align: right;\">\n",
       "      <th></th>\n",
       "      <th>Proba</th>\n",
       "      <th>Probas</th>\n",
       "      <th>Preds</th>\n",
       "      <th>Labels</th>\n",
       "      <th>Proba</th>\n",
       "      <th>Probas</th>\n",
       "      <th>Preds</th>\n",
       "      <th>Labels</th>\n",
       "      <th>Proba</th>\n",
       "      <th>Probas</th>\n",
       "      <th>Preds</th>\n",
       "      <th>Labels</th>\n",
       "    </tr>\n",
       "  </thead>\n",
       "  <tbody>\n",
       "    <tr>\n",
       "      <th>0</th>\n",
       "      <td>0.420</td>\n",
       "      <td>[0.5802394151687622, 0.4197605550289154]</td>\n",
       "      <td>0</td>\n",
       "      <td>1</td>\n",
       "      <td>0.496</td>\n",
       "      <td>[0.5043643712997437, 0.49563562870025635]</td>\n",
       "      <td>0</td>\n",
       "      <td>1</td>\n",
       "      <td>0.485</td>\n",
       "      <td>[0.5147221088409424, 0.4852779507637024]</td>\n",
       "      <td>0</td>\n",
       "      <td>0</td>\n",
       "    </tr>\n",
       "    <tr>\n",
       "      <th>1</th>\n",
       "      <td>0.375</td>\n",
       "      <td>[0.6249499320983887, 0.37505006790161133]</td>\n",
       "      <td>0</td>\n",
       "      <td>0</td>\n",
       "      <td>0.420</td>\n",
       "      <td>[0.5800890326499939, 0.4199109375476837]</td>\n",
       "      <td>0</td>\n",
       "      <td>0</td>\n",
       "      <td>0.427</td>\n",
       "      <td>[0.5728524327278137, 0.4271475672721863]</td>\n",
       "      <td>0</td>\n",
       "      <td>1</td>\n",
       "    </tr>\n",
       "    <tr>\n",
       "      <th>2</th>\n",
       "      <td>0.412</td>\n",
       "      <td>[0.5878139734268188, 0.41218602657318115]</td>\n",
       "      <td>0</td>\n",
       "      <td>0</td>\n",
       "      <td>0.414</td>\n",
       "      <td>[0.5859416723251343, 0.4140583276748657]</td>\n",
       "      <td>0</td>\n",
       "      <td>0</td>\n",
       "      <td>0.429</td>\n",
       "      <td>[0.5714441537857056, 0.4285558760166168]</td>\n",
       "      <td>0</td>\n",
       "      <td>1</td>\n",
       "    </tr>\n",
       "    <tr>\n",
       "      <th>3</th>\n",
       "      <td>0.421</td>\n",
       "      <td>[0.5787840485572815, 0.4212159514427185]</td>\n",
       "      <td>0</td>\n",
       "      <td>0</td>\n",
       "      <td>0.478</td>\n",
       "      <td>[0.5221962332725525, 0.4778037667274475]</td>\n",
       "      <td>0</td>\n",
       "      <td>1</td>\n",
       "      <td>0.400</td>\n",
       "      <td>[0.6000701189041138, 0.39992988109588623]</td>\n",
       "      <td>0</td>\n",
       "      <td>1</td>\n",
       "    </tr>\n",
       "    <tr>\n",
       "      <th>4</th>\n",
       "      <td>0.442</td>\n",
       "      <td>[0.5578620433807373, 0.4421379566192627]</td>\n",
       "      <td>0</td>\n",
       "      <td>0</td>\n",
       "      <td>0.476</td>\n",
       "      <td>[0.5237613916397095, 0.47623854875564575]</td>\n",
       "      <td>0</td>\n",
       "      <td>0</td>\n",
       "      <td>0.435</td>\n",
       "      <td>[0.564543604850769, 0.43545636534690857]</td>\n",
       "      <td>0</td>\n",
       "      <td>1</td>\n",
       "    </tr>\n",
       "  </tbody>\n",
       "</table>\n",
       "</div>"
      ],
      "text/plain": [
       "  Proba                                     Probas Preds Labels Proba  \\\n",
       "0 0.420   [0.5802394151687622, 0.4197605550289154]     0      1 0.496   \n",
       "1 0.375  [0.6249499320983887, 0.37505006790161133]     0      0 0.420   \n",
       "2 0.412  [0.5878139734268188, 0.41218602657318115]     0      0 0.414   \n",
       "3 0.421   [0.5787840485572815, 0.4212159514427185]     0      0 0.478   \n",
       "4 0.442   [0.5578620433807373, 0.4421379566192627]     0      0 0.476   \n",
       "\n",
       "                                      Probas Preds Labels Proba  \\\n",
       "0  [0.5043643712997437, 0.49563562870025635]     0      1 0.485   \n",
       "1   [0.5800890326499939, 0.4199109375476837]     0      0 0.427   \n",
       "2   [0.5859416723251343, 0.4140583276748657]     0      0 0.429   \n",
       "3   [0.5221962332725525, 0.4778037667274475]     0      1 0.400   \n",
       "4  [0.5237613916397095, 0.47623854875564575]     0      0 0.435   \n",
       "\n",
       "                                      Probas Preds Labels  \n",
       "0   [0.5147221088409424, 0.4852779507637024]     0      0  \n",
       "1   [0.5728524327278137, 0.4271475672721863]     0      1  \n",
       "2   [0.5714441537857056, 0.4285558760166168]     0      1  \n",
       "3  [0.6000701189041138, 0.39992988109588623]     0      1  \n",
       "4   [0.564543604850769, 0.43545636534690857]     0      1  "
      ]
     },
     "metadata": {},
     "output_type": "display_data"
    },
    {
     "name": "stdout",
     "output_type": "stream",
     "text": [
      "scores =  {'map': '0.5839', 'acc': '0.5100', 'auc': '0.6045'}\n",
      "Epoch =  7 Train = 0.713388 Val = 0.604456\n"
     ]
    },
    {
     "data": {
      "application/vnd.jupyter.widget-view+json": {
       "model_id": "1ebe370fd05c488fae007b8b4b5b7371",
       "version_major": 2,
       "version_minor": 0
      },
      "text/plain": [
       "HBox(children=(FloatProgress(value=0.0, description='Batches', max=17.0, style=ProgressStyle(description_width…"
      ]
     },
     "metadata": {},
     "output_type": "display_data"
    },
    {
     "name": "stdout",
     "output_type": "stream",
     "text": [
      "\n",
      "Epoch =  8 Loss = 0.502605 LR = 0.00005574\n"
     ]
    },
    {
     "data": {
      "application/vnd.jupyter.widget-view+json": {
       "model_id": "636dddeab1d34e18b5c59cb9b6b9e1d2",
       "version_major": 2,
       "version_minor": 0
      },
      "text/plain": [
       "HBox(children=(FloatProgress(value=0.0, description='Batches', max=17.0, style=ProgressStyle(description_width…"
      ]
     },
     "metadata": {},
     "output_type": "display_data"
    },
    {
     "name": "stdout",
     "output_type": "stream",
     "text": [
      "\n",
      "Epoch =  9 Loss = 0.495395 LR = 0.00006270\n"
     ]
    },
    {
     "data": {
      "application/vnd.jupyter.widget-view+json": {
       "model_id": "237d5dfd298a44b48decb43448d5cadc",
       "version_major": 2,
       "version_minor": 0
      },
      "text/plain": [
       "HBox(children=(FloatProgress(value=0.0, description='Generate Predictions', max=34.0, style=ProgressStyle(desc…"
      ]
     },
     "metadata": {},
     "output_type": "display_data"
    },
    {
     "name": "stdout",
     "output_type": "stream",
     "text": [
      "\n"
     ]
    },
    {
     "data": {
      "application/vnd.jupyter.widget-view+json": {
       "model_id": "fba79bbbe46e48aa97ab2a29109a70fe",
       "version_major": 2,
       "version_minor": 0
      },
      "text/plain": [
       "HBox(children=(FloatProgress(value=0.0, description='Generate Predictions', max=2.0, style=ProgressStyle(descr…"
      ]
     },
     "metadata": {},
     "output_type": "display_data"
    },
    {
     "name": "stdout",
     "output_type": "stream",
     "text": [
      "\n"
     ]
    },
    {
     "data": {
      "text/html": [
       "<div>\n",
       "<style scoped>\n",
       "    .dataframe tbody tr th:only-of-type {\n",
       "        vertical-align: middle;\n",
       "    }\n",
       "\n",
       "    .dataframe tbody tr th {\n",
       "        vertical-align: top;\n",
       "    }\n",
       "\n",
       "    .dataframe thead tr th {\n",
       "        text-align: left;\n",
       "    }\n",
       "\n",
       "    .dataframe thead tr:last-of-type th {\n",
       "        text-align: right;\n",
       "    }\n",
       "</style>\n",
       "<table border=\"1\" class=\"dataframe\">\n",
       "  <thead>\n",
       "    <tr>\n",
       "      <th></th>\n",
       "      <th colspan=\"2\" halign=\"left\">Proba</th>\n",
       "      <th colspan=\"2\" halign=\"left\">Preds</th>\n",
       "    </tr>\n",
       "    <tr>\n",
       "      <th></th>\n",
       "      <th>min</th>\n",
       "      <th>max</th>\n",
       "      <th>min</th>\n",
       "      <th>max</th>\n",
       "    </tr>\n",
       "    <tr>\n",
       "      <th>Labels</th>\n",
       "      <th></th>\n",
       "      <th></th>\n",
       "      <th></th>\n",
       "      <th></th>\n",
       "    </tr>\n",
       "  </thead>\n",
       "  <tbody>\n",
       "    <tr>\n",
       "      <th>0</th>\n",
       "      <td>0.299</td>\n",
       "      <td>0.536</td>\n",
       "      <td>0</td>\n",
       "      <td>1</td>\n",
       "    </tr>\n",
       "    <tr>\n",
       "      <th>1</th>\n",
       "      <td>0.365</td>\n",
       "      <td>0.536</td>\n",
       "      <td>0</td>\n",
       "      <td>1</td>\n",
       "    </tr>\n",
       "  </tbody>\n",
       "</table>\n",
       "</div>"
      ],
      "text/plain": [
       "       Proba       Preds    \n",
       "         min   max   min max\n",
       "Labels                      \n",
       "0      0.299 0.536     0   1\n",
       "1      0.365 0.536     0   1"
      ]
     },
     "metadata": {},
     "output_type": "display_data"
    },
    {
     "data": {
      "text/html": [
       "<div>\n",
       "<style scoped>\n",
       "    .dataframe tbody tr th:only-of-type {\n",
       "        vertical-align: middle;\n",
       "    }\n",
       "\n",
       "    .dataframe tbody tr th {\n",
       "        vertical-align: top;\n",
       "    }\n",
       "\n",
       "    .dataframe thead th {\n",
       "        text-align: right;\n",
       "    }\n",
       "</style>\n",
       "<table border=\"1\" class=\"dataframe\">\n",
       "  <thead>\n",
       "    <tr style=\"text-align: right;\">\n",
       "      <th></th>\n",
       "      <th>Proba</th>\n",
       "      <th>Probas</th>\n",
       "      <th>Preds</th>\n",
       "      <th>Labels</th>\n",
       "      <th>Proba</th>\n",
       "      <th>Probas</th>\n",
       "      <th>Preds</th>\n",
       "      <th>Labels</th>\n",
       "      <th>Proba</th>\n",
       "      <th>Probas</th>\n",
       "      <th>Preds</th>\n",
       "      <th>Labels</th>\n",
       "    </tr>\n",
       "  </thead>\n",
       "  <tbody>\n",
       "    <tr>\n",
       "      <th>0</th>\n",
       "      <td>0.407</td>\n",
       "      <td>[0.592573881149292, 0.407426118850708]</td>\n",
       "      <td>0</td>\n",
       "      <td>0</td>\n",
       "      <td>0.429</td>\n",
       "      <td>[0.5705748796463013, 0.42942512035369873]</td>\n",
       "      <td>0</td>\n",
       "      <td>1</td>\n",
       "      <td>0.513</td>\n",
       "      <td>[0.48718690872192383, 0.5128130912780762]</td>\n",
       "      <td>1</td>\n",
       "      <td>0</td>\n",
       "    </tr>\n",
       "    <tr>\n",
       "      <th>1</th>\n",
       "      <td>0.412</td>\n",
       "      <td>[0.5884096026420593, 0.4115903973579407]</td>\n",
       "      <td>0</td>\n",
       "      <td>0</td>\n",
       "      <td>0.450</td>\n",
       "      <td>[0.549726665019989, 0.450273334980011]</td>\n",
       "      <td>0</td>\n",
       "      <td>0</td>\n",
       "      <td>0.368</td>\n",
       "      <td>[0.6315464973449707, 0.3684535622596741]</td>\n",
       "      <td>0</td>\n",
       "      <td>0</td>\n",
       "    </tr>\n",
       "    <tr>\n",
       "      <th>2</th>\n",
       "      <td>0.452</td>\n",
       "      <td>[0.5483077764511108, 0.45169225335121155]</td>\n",
       "      <td>0</td>\n",
       "      <td>1</td>\n",
       "      <td>0.463</td>\n",
       "      <td>[0.5365434885025024, 0.46345657110214233]</td>\n",
       "      <td>0</td>\n",
       "      <td>1</td>\n",
       "      <td>0.461</td>\n",
       "      <td>[0.5393917560577393, 0.46060821413993835]</td>\n",
       "      <td>0</td>\n",
       "      <td>0</td>\n",
       "    </tr>\n",
       "    <tr>\n",
       "      <th>3</th>\n",
       "      <td>0.442</td>\n",
       "      <td>[0.557719886302948, 0.442280113697052]</td>\n",
       "      <td>0</td>\n",
       "      <td>1</td>\n",
       "      <td>0.422</td>\n",
       "      <td>[0.5783543586730957, 0.4216456413269043]</td>\n",
       "      <td>0</td>\n",
       "      <td>0</td>\n",
       "      <td>0.423</td>\n",
       "      <td>[0.5769619941711426, 0.4230380058288574]</td>\n",
       "      <td>0</td>\n",
       "      <td>0</td>\n",
       "    </tr>\n",
       "    <tr>\n",
       "      <th>4</th>\n",
       "      <td>0.501</td>\n",
       "      <td>[0.4986051917076111, 0.5013948082923889]</td>\n",
       "      <td>1</td>\n",
       "      <td>0</td>\n",
       "      <td>0.408</td>\n",
       "      <td>[0.591607391834259, 0.40839260816574097]</td>\n",
       "      <td>0</td>\n",
       "      <td>1</td>\n",
       "      <td>0.432</td>\n",
       "      <td>[0.5678102374076843, 0.4321897625923157]</td>\n",
       "      <td>0</td>\n",
       "      <td>0</td>\n",
       "    </tr>\n",
       "  </tbody>\n",
       "</table>\n",
       "</div>"
      ],
      "text/plain": [
       "  Proba                                     Probas Preds Labels Proba  \\\n",
       "0 0.407     [0.592573881149292, 0.407426118850708]     0      0 0.429   \n",
       "1 0.412   [0.5884096026420593, 0.4115903973579407]     0      0 0.450   \n",
       "2 0.452  [0.5483077764511108, 0.45169225335121155]     0      1 0.463   \n",
       "3 0.442     [0.557719886302948, 0.442280113697052]     0      1 0.422   \n",
       "4 0.501   [0.4986051917076111, 0.5013948082923889]     1      0 0.408   \n",
       "\n",
       "                                      Probas Preds Labels Proba  \\\n",
       "0  [0.5705748796463013, 0.42942512035369873]     0      1 0.513   \n",
       "1     [0.549726665019989, 0.450273334980011]     0      0 0.368   \n",
       "2  [0.5365434885025024, 0.46345657110214233]     0      1 0.461   \n",
       "3   [0.5783543586730957, 0.4216456413269043]     0      0 0.423   \n",
       "4   [0.591607391834259, 0.40839260816574097]     0      1 0.432   \n",
       "\n",
       "                                      Probas Preds Labels  \n",
       "0  [0.48718690872192383, 0.5128130912780762]     1      0  \n",
       "1   [0.6315464973449707, 0.3684535622596741]     0      0  \n",
       "2  [0.5393917560577393, 0.46060821413993835]     0      0  \n",
       "3   [0.5769619941711426, 0.4230380058288574]     0      0  \n",
       "4   [0.5678102374076843, 0.4321897625923157]     0      0  "
      ]
     },
     "metadata": {},
     "output_type": "display_data"
    },
    {
     "name": "stdout",
     "output_type": "stream",
     "text": [
      "scores =  {'map': '0.5948', 'acc': '0.5080', 'auc': '0.6160'}\n",
      "Epoch =  9 Train = 0.739943 Val = 0.615976\n"
     ]
    },
    {
     "data": {
      "application/vnd.jupyter.widget-view+json": {
       "model_id": "50b20235226e40a59280deab409e0755",
       "version_major": 2,
       "version_minor": 0
      },
      "text/plain": [
       "HBox(children=(FloatProgress(value=0.0, description='Batches', max=17.0, style=ProgressStyle(description_width…"
      ]
     },
     "metadata": {},
     "output_type": "display_data"
    },
    {
     "name": "stdout",
     "output_type": "stream",
     "text": [
      "\n",
      "Epoch =  10 Loss = 0.496655 LR = 0.00006967\n"
     ]
    },
    {
     "data": {
      "application/vnd.jupyter.widget-view+json": {
       "model_id": "1834e1c266414bc3bf49fe31df301ff0",
       "version_major": 2,
       "version_minor": 0
      },
      "text/plain": [
       "HBox(children=(FloatProgress(value=0.0, description='Batches', max=17.0, style=ProgressStyle(description_width…"
      ]
     },
     "metadata": {},
     "output_type": "display_data"
    },
    {
     "name": "stdout",
     "output_type": "stream",
     "text": [
      "\n",
      "Epoch =  11 Loss = 0.487136 LR = 0.00007664\n"
     ]
    },
    {
     "data": {
      "application/vnd.jupyter.widget-view+json": {
       "model_id": "fc3acf6a13614a49bd9b6b4c49f4786f",
       "version_major": 2,
       "version_minor": 0
      },
      "text/plain": [
       "HBox(children=(FloatProgress(value=0.0, description='Generate Predictions', max=34.0, style=ProgressStyle(desc…"
      ]
     },
     "metadata": {},
     "output_type": "display_data"
    },
    {
     "name": "stdout",
     "output_type": "stream",
     "text": [
      "\n"
     ]
    },
    {
     "data": {
      "application/vnd.jupyter.widget-view+json": {
       "model_id": "904c449b174f4696a8268689e89933b0",
       "version_major": 2,
       "version_minor": 0
      },
      "text/plain": [
       "HBox(children=(FloatProgress(value=0.0, description='Generate Predictions', max=2.0, style=ProgressStyle(descr…"
      ]
     },
     "metadata": {},
     "output_type": "display_data"
    },
    {
     "name": "stdout",
     "output_type": "stream",
     "text": [
      "\n"
     ]
    },
    {
     "data": {
      "text/html": [
       "<div>\n",
       "<style scoped>\n",
       "    .dataframe tbody tr th:only-of-type {\n",
       "        vertical-align: middle;\n",
       "    }\n",
       "\n",
       "    .dataframe tbody tr th {\n",
       "        vertical-align: top;\n",
       "    }\n",
       "\n",
       "    .dataframe thead tr th {\n",
       "        text-align: left;\n",
       "    }\n",
       "\n",
       "    .dataframe thead tr:last-of-type th {\n",
       "        text-align: right;\n",
       "    }\n",
       "</style>\n",
       "<table border=\"1\" class=\"dataframe\">\n",
       "  <thead>\n",
       "    <tr>\n",
       "      <th></th>\n",
       "      <th colspan=\"2\" halign=\"left\">Proba</th>\n",
       "      <th colspan=\"2\" halign=\"left\">Preds</th>\n",
       "    </tr>\n",
       "    <tr>\n",
       "      <th></th>\n",
       "      <th>min</th>\n",
       "      <th>max</th>\n",
       "      <th>min</th>\n",
       "      <th>max</th>\n",
       "    </tr>\n",
       "    <tr>\n",
       "      <th>Labels</th>\n",
       "      <th></th>\n",
       "      <th></th>\n",
       "      <th></th>\n",
       "      <th></th>\n",
       "    </tr>\n",
       "  </thead>\n",
       "  <tbody>\n",
       "    <tr>\n",
       "      <th>0</th>\n",
       "      <td>0.280</td>\n",
       "      <td>0.470</td>\n",
       "      <td>0</td>\n",
       "      <td>0</td>\n",
       "    </tr>\n",
       "    <tr>\n",
       "      <th>1</th>\n",
       "      <td>0.330</td>\n",
       "      <td>0.476</td>\n",
       "      <td>0</td>\n",
       "      <td>0</td>\n",
       "    </tr>\n",
       "  </tbody>\n",
       "</table>\n",
       "</div>"
      ],
      "text/plain": [
       "       Proba       Preds    \n",
       "         min   max   min max\n",
       "Labels                      \n",
       "0      0.280 0.470     0   0\n",
       "1      0.330 0.476     0   0"
      ]
     },
     "metadata": {},
     "output_type": "display_data"
    },
    {
     "data": {
      "text/html": [
       "<div>\n",
       "<style scoped>\n",
       "    .dataframe tbody tr th:only-of-type {\n",
       "        vertical-align: middle;\n",
       "    }\n",
       "\n",
       "    .dataframe tbody tr th {\n",
       "        vertical-align: top;\n",
       "    }\n",
       "\n",
       "    .dataframe thead th {\n",
       "        text-align: right;\n",
       "    }\n",
       "</style>\n",
       "<table border=\"1\" class=\"dataframe\">\n",
       "  <thead>\n",
       "    <tr style=\"text-align: right;\">\n",
       "      <th></th>\n",
       "      <th>Proba</th>\n",
       "      <th>Probas</th>\n",
       "      <th>Preds</th>\n",
       "      <th>Labels</th>\n",
       "      <th>Proba</th>\n",
       "      <th>Probas</th>\n",
       "      <th>Preds</th>\n",
       "      <th>Labels</th>\n",
       "      <th>Proba</th>\n",
       "      <th>Probas</th>\n",
       "      <th>Preds</th>\n",
       "      <th>Labels</th>\n",
       "    </tr>\n",
       "  </thead>\n",
       "  <tbody>\n",
       "    <tr>\n",
       "      <th>0</th>\n",
       "      <td>0.390</td>\n",
       "      <td>[0.6095772981643677, 0.3904227018356323]</td>\n",
       "      <td>0</td>\n",
       "      <td>1</td>\n",
       "      <td>0.416</td>\n",
       "      <td>[0.5835922360420227, 0.4164077341556549]</td>\n",
       "      <td>0</td>\n",
       "      <td>0</td>\n",
       "      <td>0.369</td>\n",
       "      <td>[0.6305584907531738, 0.36944150924682617]</td>\n",
       "      <td>0</td>\n",
       "      <td>0</td>\n",
       "    </tr>\n",
       "    <tr>\n",
       "      <th>1</th>\n",
       "      <td>0.395</td>\n",
       "      <td>[0.6054102182388306, 0.39458978176116943]</td>\n",
       "      <td>0</td>\n",
       "      <td>0</td>\n",
       "      <td>0.410</td>\n",
       "      <td>[0.5897958874702454, 0.41020408272743225]</td>\n",
       "      <td>0</td>\n",
       "      <td>1</td>\n",
       "      <td>0.454</td>\n",
       "      <td>[0.545806348323822, 0.454193651676178]</td>\n",
       "      <td>0</td>\n",
       "      <td>0</td>\n",
       "    </tr>\n",
       "    <tr>\n",
       "      <th>2</th>\n",
       "      <td>0.430</td>\n",
       "      <td>[0.5702168941497803, 0.4297831058502197]</td>\n",
       "      <td>0</td>\n",
       "      <td>1</td>\n",
       "      <td>0.404</td>\n",
       "      <td>[0.5958451628684998, 0.40415483713150024]</td>\n",
       "      <td>0</td>\n",
       "      <td>0</td>\n",
       "      <td>0.372</td>\n",
       "      <td>[0.6282511353492737, 0.3717488944530487]</td>\n",
       "      <td>0</td>\n",
       "      <td>0</td>\n",
       "    </tr>\n",
       "    <tr>\n",
       "      <th>3</th>\n",
       "      <td>0.373</td>\n",
       "      <td>[0.6265984773635864, 0.3734014630317688]</td>\n",
       "      <td>0</td>\n",
       "      <td>0</td>\n",
       "      <td>0.390</td>\n",
       "      <td>[0.6101253032684326, 0.3898746967315674]</td>\n",
       "      <td>0</td>\n",
       "      <td>1</td>\n",
       "      <td>0.357</td>\n",
       "      <td>[0.6430834531784058, 0.35691654682159424]</td>\n",
       "      <td>0</td>\n",
       "      <td>0</td>\n",
       "    </tr>\n",
       "    <tr>\n",
       "      <th>4</th>\n",
       "      <td>0.435</td>\n",
       "      <td>[0.564774751663208, 0.4352252185344696]</td>\n",
       "      <td>0</td>\n",
       "      <td>0</td>\n",
       "      <td>0.439</td>\n",
       "      <td>[0.5608832836151123, 0.4391167163848877]</td>\n",
       "      <td>0</td>\n",
       "      <td>1</td>\n",
       "      <td>0.351</td>\n",
       "      <td>[0.6488631963729858, 0.35113683342933655]</td>\n",
       "      <td>0</td>\n",
       "      <td>0</td>\n",
       "    </tr>\n",
       "  </tbody>\n",
       "</table>\n",
       "</div>"
      ],
      "text/plain": [
       "  Proba                                     Probas Preds Labels Proba  \\\n",
       "0 0.390   [0.6095772981643677, 0.3904227018356323]     0      1 0.416   \n",
       "1 0.395  [0.6054102182388306, 0.39458978176116943]     0      0 0.410   \n",
       "2 0.430   [0.5702168941497803, 0.4297831058502197]     0      1 0.404   \n",
       "3 0.373   [0.6265984773635864, 0.3734014630317688]     0      0 0.390   \n",
       "4 0.435    [0.564774751663208, 0.4352252185344696]     0      0 0.439   \n",
       "\n",
       "                                      Probas Preds Labels Proba  \\\n",
       "0   [0.5835922360420227, 0.4164077341556549]     0      0 0.369   \n",
       "1  [0.5897958874702454, 0.41020408272743225]     0      1 0.454   \n",
       "2  [0.5958451628684998, 0.40415483713150024]     0      0 0.372   \n",
       "3   [0.6101253032684326, 0.3898746967315674]     0      1 0.357   \n",
       "4   [0.5608832836151123, 0.4391167163848877]     0      1 0.351   \n",
       "\n",
       "                                      Probas Preds Labels  \n",
       "0  [0.6305584907531738, 0.36944150924682617]     0      0  \n",
       "1     [0.545806348323822, 0.454193651676178]     0      0  \n",
       "2   [0.6282511353492737, 0.3717488944530487]     0      0  \n",
       "3  [0.6430834531784058, 0.35691654682159424]     0      0  \n",
       "4  [0.6488631963729858, 0.35113683342933655]     0      0  "
      ]
     },
     "metadata": {},
     "output_type": "display_data"
    },
    {
     "name": "stdout",
     "output_type": "stream",
     "text": [
      "scores =  {'map': '0.5973', 'acc': '0.5000', 'auc': '0.6106'}\n",
      "Epoch =  11 Train = 0.752349 Val = 0.610568\n"
     ]
    },
    {
     "data": {
      "application/vnd.jupyter.widget-view+json": {
       "model_id": "ec164104c984465faa2a11aea90c9530",
       "version_major": 2,
       "version_minor": 0
      },
      "text/plain": [
       "HBox(children=(FloatProgress(value=0.0, description='Batches', max=17.0, style=ProgressStyle(description_width…"
      ]
     },
     "metadata": {},
     "output_type": "display_data"
    },
    {
     "name": "stdout",
     "output_type": "stream",
     "text": [
      "\n",
      "Epoch =  12 Loss = 0.483497 LR = 0.00008361\n"
     ]
    },
    {
     "data": {
      "application/vnd.jupyter.widget-view+json": {
       "model_id": "9771c9414cc14acb8f8ccbdcea4954ea",
       "version_major": 2,
       "version_minor": 0
      },
      "text/plain": [
       "HBox(children=(FloatProgress(value=0.0, description='Batches', max=17.0, style=ProgressStyle(description_width…"
      ]
     },
     "metadata": {},
     "output_type": "display_data"
    },
    {
     "name": "stdout",
     "output_type": "stream",
     "text": [
      "\n",
      "Epoch =  13 Loss = 0.486319 LR = 0.00009057\n"
     ]
    },
    {
     "data": {
      "application/vnd.jupyter.widget-view+json": {
       "model_id": "7d61f3dbeb9643f1b51788e02bd74925",
       "version_major": 2,
       "version_minor": 0
      },
      "text/plain": [
       "HBox(children=(FloatProgress(value=0.0, description='Batches', max=17.0, style=ProgressStyle(description_width…"
      ]
     },
     "metadata": {},
     "output_type": "display_data"
    },
    {
     "name": "stdout",
     "output_type": "stream",
     "text": [
      "\n",
      "Epoch =  14 Loss = 0.492862 LR = 0.00009754\n"
     ]
    },
    {
     "data": {
      "application/vnd.jupyter.widget-view+json": {
       "model_id": "453dcd6330254fe3b20f1fffaefbde5d",
       "version_major": 2,
       "version_minor": 0
      },
      "text/plain": [
       "HBox(children=(FloatProgress(value=0.0, description='Generate Predictions', max=34.0, style=ProgressStyle(desc…"
      ]
     },
     "metadata": {},
     "output_type": "display_data"
    },
    {
     "name": "stdout",
     "output_type": "stream",
     "text": [
      "\n"
     ]
    },
    {
     "data": {
      "application/vnd.jupyter.widget-view+json": {
       "model_id": "dc15753f1de4439b8e957bc93755ce88",
       "version_major": 2,
       "version_minor": 0
      },
      "text/plain": [
       "HBox(children=(FloatProgress(value=0.0, description='Generate Predictions', max=2.0, style=ProgressStyle(descr…"
      ]
     },
     "metadata": {},
     "output_type": "display_data"
    },
    {
     "name": "stdout",
     "output_type": "stream",
     "text": [
      "\n"
     ]
    },
    {
     "data": {
      "text/html": [
       "<div>\n",
       "<style scoped>\n",
       "    .dataframe tbody tr th:only-of-type {\n",
       "        vertical-align: middle;\n",
       "    }\n",
       "\n",
       "    .dataframe tbody tr th {\n",
       "        vertical-align: top;\n",
       "    }\n",
       "\n",
       "    .dataframe thead tr th {\n",
       "        text-align: left;\n",
       "    }\n",
       "\n",
       "    .dataframe thead tr:last-of-type th {\n",
       "        text-align: right;\n",
       "    }\n",
       "</style>\n",
       "<table border=\"1\" class=\"dataframe\">\n",
       "  <thead>\n",
       "    <tr>\n",
       "      <th></th>\n",
       "      <th colspan=\"2\" halign=\"left\">Proba</th>\n",
       "      <th colspan=\"2\" halign=\"left\">Preds</th>\n",
       "    </tr>\n",
       "    <tr>\n",
       "      <th></th>\n",
       "      <th>min</th>\n",
       "      <th>max</th>\n",
       "      <th>min</th>\n",
       "      <th>max</th>\n",
       "    </tr>\n",
       "    <tr>\n",
       "      <th>Labels</th>\n",
       "      <th></th>\n",
       "      <th></th>\n",
       "      <th></th>\n",
       "      <th></th>\n",
       "    </tr>\n",
       "  </thead>\n",
       "  <tbody>\n",
       "    <tr>\n",
       "      <th>0</th>\n",
       "      <td>0.254</td>\n",
       "      <td>0.474</td>\n",
       "      <td>0</td>\n",
       "      <td>0</td>\n",
       "    </tr>\n",
       "    <tr>\n",
       "      <th>1</th>\n",
       "      <td>0.321</td>\n",
       "      <td>0.496</td>\n",
       "      <td>0</td>\n",
       "      <td>0</td>\n",
       "    </tr>\n",
       "  </tbody>\n",
       "</table>\n",
       "</div>"
      ],
      "text/plain": [
       "       Proba       Preds    \n",
       "         min   max   min max\n",
       "Labels                      \n",
       "0      0.254 0.474     0   0\n",
       "1      0.321 0.496     0   0"
      ]
     },
     "metadata": {},
     "output_type": "display_data"
    },
    {
     "data": {
      "text/html": [
       "<div>\n",
       "<style scoped>\n",
       "    .dataframe tbody tr th:only-of-type {\n",
       "        vertical-align: middle;\n",
       "    }\n",
       "\n",
       "    .dataframe tbody tr th {\n",
       "        vertical-align: top;\n",
       "    }\n",
       "\n",
       "    .dataframe thead th {\n",
       "        text-align: right;\n",
       "    }\n",
       "</style>\n",
       "<table border=\"1\" class=\"dataframe\">\n",
       "  <thead>\n",
       "    <tr style=\"text-align: right;\">\n",
       "      <th></th>\n",
       "      <th>Proba</th>\n",
       "      <th>Probas</th>\n",
       "      <th>Preds</th>\n",
       "      <th>Labels</th>\n",
       "      <th>Proba</th>\n",
       "      <th>Probas</th>\n",
       "      <th>Preds</th>\n",
       "      <th>Labels</th>\n",
       "      <th>Proba</th>\n",
       "      <th>Probas</th>\n",
       "      <th>Preds</th>\n",
       "      <th>Labels</th>\n",
       "    </tr>\n",
       "  </thead>\n",
       "  <tbody>\n",
       "    <tr>\n",
       "      <th>0</th>\n",
       "      <td>0.421</td>\n",
       "      <td>[0.5793059468269348, 0.4206939935684204]</td>\n",
       "      <td>0</td>\n",
       "      <td>1</td>\n",
       "      <td>0.439</td>\n",
       "      <td>[0.5614545345306396, 0.4385455250740051]</td>\n",
       "      <td>0</td>\n",
       "      <td>1</td>\n",
       "      <td>0.345</td>\n",
       "      <td>[0.6551902294158936, 0.34480977058410645]</td>\n",
       "      <td>0</td>\n",
       "      <td>0</td>\n",
       "    </tr>\n",
       "    <tr>\n",
       "      <th>1</th>\n",
       "      <td>0.403</td>\n",
       "      <td>[0.5974583625793457, 0.4025416374206543]</td>\n",
       "      <td>0</td>\n",
       "      <td>1</td>\n",
       "      <td>0.410</td>\n",
       "      <td>[0.5900934934616089, 0.4099065065383911]</td>\n",
       "      <td>0</td>\n",
       "      <td>0</td>\n",
       "      <td>0.385</td>\n",
       "      <td>[0.6152442693710327, 0.3847557008266449]</td>\n",
       "      <td>0</td>\n",
       "      <td>1</td>\n",
       "    </tr>\n",
       "    <tr>\n",
       "      <th>2</th>\n",
       "      <td>0.408</td>\n",
       "      <td>[0.5921034812927246, 0.407896488904953]</td>\n",
       "      <td>0</td>\n",
       "      <td>0</td>\n",
       "      <td>0.379</td>\n",
       "      <td>[0.6210393905639648, 0.37896063923835754]</td>\n",
       "      <td>0</td>\n",
       "      <td>1</td>\n",
       "      <td>0.448</td>\n",
       "      <td>[0.5520352125167847, 0.44796478748321533]</td>\n",
       "      <td>0</td>\n",
       "      <td>1</td>\n",
       "    </tr>\n",
       "    <tr>\n",
       "      <th>3</th>\n",
       "      <td>0.391</td>\n",
       "      <td>[0.6093196868896484, 0.39068037271499634]</td>\n",
       "      <td>0</td>\n",
       "      <td>0</td>\n",
       "      <td>0.391</td>\n",
       "      <td>[0.608833909034729, 0.3911661207675934]</td>\n",
       "      <td>0</td>\n",
       "      <td>1</td>\n",
       "      <td>0.369</td>\n",
       "      <td>[0.6308984756469727, 0.36910155415534973]</td>\n",
       "      <td>0</td>\n",
       "      <td>1</td>\n",
       "    </tr>\n",
       "    <tr>\n",
       "      <th>4</th>\n",
       "      <td>0.400</td>\n",
       "      <td>[0.6000285148620605, 0.39997148513793945]</td>\n",
       "      <td>0</td>\n",
       "      <td>1</td>\n",
       "      <td>0.402</td>\n",
       "      <td>[0.5980679988861084, 0.401932030916214]</td>\n",
       "      <td>0</td>\n",
       "      <td>0</td>\n",
       "      <td>0.423</td>\n",
       "      <td>[0.5772815942764282, 0.4227184057235718]</td>\n",
       "      <td>0</td>\n",
       "      <td>1</td>\n",
       "    </tr>\n",
       "  </tbody>\n",
       "</table>\n",
       "</div>"
      ],
      "text/plain": [
       "  Proba                                     Probas Preds Labels Proba  \\\n",
       "0 0.421   [0.5793059468269348, 0.4206939935684204]     0      1 0.439   \n",
       "1 0.403   [0.5974583625793457, 0.4025416374206543]     0      1 0.410   \n",
       "2 0.408    [0.5921034812927246, 0.407896488904953]     0      0 0.379   \n",
       "3 0.391  [0.6093196868896484, 0.39068037271499634]     0      0 0.391   \n",
       "4 0.400  [0.6000285148620605, 0.39997148513793945]     0      1 0.402   \n",
       "\n",
       "                                      Probas Preds Labels Proba  \\\n",
       "0   [0.5614545345306396, 0.4385455250740051]     0      1 0.345   \n",
       "1   [0.5900934934616089, 0.4099065065383911]     0      0 0.385   \n",
       "2  [0.6210393905639648, 0.37896063923835754]     0      1 0.448   \n",
       "3    [0.608833909034729, 0.3911661207675934]     0      1 0.369   \n",
       "4    [0.5980679988861084, 0.401932030916214]     0      0 0.423   \n",
       "\n",
       "                                      Probas Preds Labels  \n",
       "0  [0.6551902294158936, 0.34480977058410645]     0      0  \n",
       "1   [0.6152442693710327, 0.3847557008266449]     0      1  \n",
       "2  [0.5520352125167847, 0.44796478748321533]     0      1  \n",
       "3  [0.6308984756469727, 0.36910155415534973]     0      1  \n",
       "4   [0.5772815942764282, 0.4227184057235718]     0      1  "
      ]
     },
     "metadata": {},
     "output_type": "display_data"
    },
    {
     "name": "stdout",
     "output_type": "stream",
     "text": [
      "scores =  {'map': '0.5819', 'acc': '0.5000', 'auc': '0.6109'}\n",
      "Epoch =  14 Train = 0.752583 Val = 0.610904\n"
     ]
    },
    {
     "data": {
      "application/vnd.jupyter.widget-view+json": {
       "model_id": "e43300e8076c41f9a871789205424535",
       "version_major": 2,
       "version_minor": 0
      },
      "text/plain": [
       "HBox(children=(FloatProgress(value=0.0, description='Batches', max=17.0, style=ProgressStyle(description_width…"
      ]
     },
     "metadata": {},
     "output_type": "display_data"
    },
    {
     "name": "stdout",
     "output_type": "stream",
     "text": [
      "\n",
      "Epoch =  15 Loss = 0.478658 LR = 0.00009991\n"
     ]
    },
    {
     "data": {
      "application/vnd.jupyter.widget-view+json": {
       "model_id": "51729cad5c5344ca8805b8254f02c719",
       "version_major": 2,
       "version_minor": 0
      },
      "text/plain": [
       "HBox(children=(FloatProgress(value=0.0, description='Batches', max=17.0, style=ProgressStyle(description_width…"
      ]
     },
     "metadata": {},
     "output_type": "display_data"
    },
    {
     "name": "stdout",
     "output_type": "stream",
     "text": [
      "\n",
      "Epoch =  16 Loss = 0.483169 LR = 0.00009941\n"
     ]
    },
    {
     "data": {
      "application/vnd.jupyter.widget-view+json": {
       "model_id": "9d2301e05c2f48668b15b5f77c168ab5",
       "version_major": 2,
       "version_minor": 0
      },
      "text/plain": [
       "HBox(children=(FloatProgress(value=0.0, description='Batches', max=17.0, style=ProgressStyle(description_width…"
      ]
     },
     "metadata": {},
     "output_type": "display_data"
    },
    {
     "name": "stdout",
     "output_type": "stream",
     "text": [
      "\n",
      "Epoch =  17 Loss = 0.481298 LR = 0.00009848\n"
     ]
    },
    {
     "data": {
      "application/vnd.jupyter.widget-view+json": {
       "model_id": "51a52233033f4dcc9d1ae34f06bef0ae",
       "version_major": 2,
       "version_minor": 0
      },
      "text/plain": [
       "HBox(children=(FloatProgress(value=0.0, description='Generate Predictions', max=34.0, style=ProgressStyle(desc…"
      ]
     },
     "metadata": {},
     "output_type": "display_data"
    },
    {
     "name": "stdout",
     "output_type": "stream",
     "text": [
      "\n"
     ]
    },
    {
     "data": {
      "application/vnd.jupyter.widget-view+json": {
       "model_id": "83e655dd91c64f5886094f7f1cc3bb03",
       "version_major": 2,
       "version_minor": 0
      },
      "text/plain": [
       "HBox(children=(FloatProgress(value=0.0, description='Generate Predictions', max=2.0, style=ProgressStyle(descr…"
      ]
     },
     "metadata": {},
     "output_type": "display_data"
    },
    {
     "name": "stdout",
     "output_type": "stream",
     "text": [
      "\n"
     ]
    },
    {
     "data": {
      "text/html": [
       "<div>\n",
       "<style scoped>\n",
       "    .dataframe tbody tr th:only-of-type {\n",
       "        vertical-align: middle;\n",
       "    }\n",
       "\n",
       "    .dataframe tbody tr th {\n",
       "        vertical-align: top;\n",
       "    }\n",
       "\n",
       "    .dataframe thead tr th {\n",
       "        text-align: left;\n",
       "    }\n",
       "\n",
       "    .dataframe thead tr:last-of-type th {\n",
       "        text-align: right;\n",
       "    }\n",
       "</style>\n",
       "<table border=\"1\" class=\"dataframe\">\n",
       "  <thead>\n",
       "    <tr>\n",
       "      <th></th>\n",
       "      <th colspan=\"2\" halign=\"left\">Proba</th>\n",
       "      <th colspan=\"2\" halign=\"left\">Preds</th>\n",
       "    </tr>\n",
       "    <tr>\n",
       "      <th></th>\n",
       "      <th>min</th>\n",
       "      <th>max</th>\n",
       "      <th>min</th>\n",
       "      <th>max</th>\n",
       "    </tr>\n",
       "    <tr>\n",
       "      <th>Labels</th>\n",
       "      <th></th>\n",
       "      <th></th>\n",
       "      <th></th>\n",
       "      <th></th>\n",
       "    </tr>\n",
       "  </thead>\n",
       "  <tbody>\n",
       "    <tr>\n",
       "      <th>0</th>\n",
       "      <td>0.242</td>\n",
       "      <td>0.534</td>\n",
       "      <td>0</td>\n",
       "      <td>1</td>\n",
       "    </tr>\n",
       "    <tr>\n",
       "      <th>1</th>\n",
       "      <td>0.310</td>\n",
       "      <td>0.534</td>\n",
       "      <td>0</td>\n",
       "      <td>1</td>\n",
       "    </tr>\n",
       "  </tbody>\n",
       "</table>\n",
       "</div>"
      ],
      "text/plain": [
       "       Proba       Preds    \n",
       "         min   max   min max\n",
       "Labels                      \n",
       "0      0.242 0.534     0   1\n",
       "1      0.310 0.534     0   1"
      ]
     },
     "metadata": {},
     "output_type": "display_data"
    },
    {
     "data": {
      "text/html": [
       "<div>\n",
       "<style scoped>\n",
       "    .dataframe tbody tr th:only-of-type {\n",
       "        vertical-align: middle;\n",
       "    }\n",
       "\n",
       "    .dataframe tbody tr th {\n",
       "        vertical-align: top;\n",
       "    }\n",
       "\n",
       "    .dataframe thead th {\n",
       "        text-align: right;\n",
       "    }\n",
       "</style>\n",
       "<table border=\"1\" class=\"dataframe\">\n",
       "  <thead>\n",
       "    <tr style=\"text-align: right;\">\n",
       "      <th></th>\n",
       "      <th>Proba</th>\n",
       "      <th>Probas</th>\n",
       "      <th>Preds</th>\n",
       "      <th>Labels</th>\n",
       "      <th>Proba</th>\n",
       "      <th>Probas</th>\n",
       "      <th>Preds</th>\n",
       "      <th>Labels</th>\n",
       "      <th>Proba</th>\n",
       "      <th>Probas</th>\n",
       "      <th>Preds</th>\n",
       "      <th>Labels</th>\n",
       "    </tr>\n",
       "  </thead>\n",
       "  <tbody>\n",
       "    <tr>\n",
       "      <th>0</th>\n",
       "      <td>0.426</td>\n",
       "      <td>[0.5744381546974182, 0.4255618453025818]</td>\n",
       "      <td>0</td>\n",
       "      <td>1</td>\n",
       "      <td>0.470</td>\n",
       "      <td>[0.5300424098968506, 0.4699576199054718]</td>\n",
       "      <td>0</td>\n",
       "      <td>1</td>\n",
       "      <td>0.511</td>\n",
       "      <td>[0.4886360168457031, 0.5113639831542969]</td>\n",
       "      <td>1</td>\n",
       "      <td>1</td>\n",
       "    </tr>\n",
       "    <tr>\n",
       "      <th>1</th>\n",
       "      <td>0.438</td>\n",
       "      <td>[0.5620801448822021, 0.43791982531547546]</td>\n",
       "      <td>0</td>\n",
       "      <td>0</td>\n",
       "      <td>0.468</td>\n",
       "      <td>[0.5324897170066833, 0.4675102233886719]</td>\n",
       "      <td>0</td>\n",
       "      <td>1</td>\n",
       "      <td>0.436</td>\n",
       "      <td>[0.5637885928153992, 0.43621140718460083]</td>\n",
       "      <td>0</td>\n",
       "      <td>0</td>\n",
       "    </tr>\n",
       "    <tr>\n",
       "      <th>2</th>\n",
       "      <td>0.426</td>\n",
       "      <td>[0.5736509561538696, 0.42634907364845276]</td>\n",
       "      <td>0</td>\n",
       "      <td>1</td>\n",
       "      <td>0.409</td>\n",
       "      <td>[0.5909866690635681, 0.4090133309364319]</td>\n",
       "      <td>0</td>\n",
       "      <td>0</td>\n",
       "      <td>0.529</td>\n",
       "      <td>[0.47058194875717163, 0.5294180512428284]</td>\n",
       "      <td>1</td>\n",
       "      <td>0</td>\n",
       "    </tr>\n",
       "    <tr>\n",
       "      <th>3</th>\n",
       "      <td>0.416</td>\n",
       "      <td>[0.5841505527496338, 0.415849506855011]</td>\n",
       "      <td>0</td>\n",
       "      <td>1</td>\n",
       "      <td>0.440</td>\n",
       "      <td>[0.5595637559890747, 0.4404362440109253]</td>\n",
       "      <td>0</td>\n",
       "      <td>0</td>\n",
       "      <td>0.528</td>\n",
       "      <td>[0.47241348028182983, 0.5275865197181702]</td>\n",
       "      <td>1</td>\n",
       "      <td>0</td>\n",
       "    </tr>\n",
       "    <tr>\n",
       "      <th>4</th>\n",
       "      <td>0.469</td>\n",
       "      <td>[0.5309200882911682, 0.4690799117088318]</td>\n",
       "      <td>0</td>\n",
       "      <td>1</td>\n",
       "      <td>0.418</td>\n",
       "      <td>[0.5821515321731567, 0.41784852743148804]</td>\n",
       "      <td>0</td>\n",
       "      <td>0</td>\n",
       "      <td>0.452</td>\n",
       "      <td>[0.5479861497879028, 0.4520138204097748]</td>\n",
       "      <td>0</td>\n",
       "      <td>1</td>\n",
       "    </tr>\n",
       "  </tbody>\n",
       "</table>\n",
       "</div>"
      ],
      "text/plain": [
       "  Proba                                     Probas Preds Labels Proba  \\\n",
       "0 0.426   [0.5744381546974182, 0.4255618453025818]     0      1 0.470   \n",
       "1 0.438  [0.5620801448822021, 0.43791982531547546]     0      0 0.468   \n",
       "2 0.426  [0.5736509561538696, 0.42634907364845276]     0      1 0.409   \n",
       "3 0.416    [0.5841505527496338, 0.415849506855011]     0      1 0.440   \n",
       "4 0.469   [0.5309200882911682, 0.4690799117088318]     0      1 0.418   \n",
       "\n",
       "                                      Probas Preds Labels Proba  \\\n",
       "0   [0.5300424098968506, 0.4699576199054718]     0      1 0.511   \n",
       "1   [0.5324897170066833, 0.4675102233886719]     0      1 0.436   \n",
       "2   [0.5909866690635681, 0.4090133309364319]     0      0 0.529   \n",
       "3   [0.5595637559890747, 0.4404362440109253]     0      0 0.528   \n",
       "4  [0.5821515321731567, 0.41784852743148804]     0      0 0.452   \n",
       "\n",
       "                                      Probas Preds Labels  \n",
       "0   [0.4886360168457031, 0.5113639831542969]     1      1  \n",
       "1  [0.5637885928153992, 0.43621140718460083]     0      0  \n",
       "2  [0.47058194875717163, 0.5294180512428284]     1      0  \n",
       "3  [0.47241348028182983, 0.5275865197181702]     1      0  \n",
       "4   [0.5479861497879028, 0.4520138204097748]     0      1  "
      ]
     },
     "metadata": {},
     "output_type": "display_data"
    },
    {
     "name": "stdout",
     "output_type": "stream",
     "text": [
      "scores =  {'map': '0.5987', 'acc': '0.5320', 'auc': '0.6340'}\n",
      "Epoch =  17 Train = 0.782744 Val = 0.633992\n"
     ]
    },
    {
     "data": {
      "application/vnd.jupyter.widget-view+json": {
       "model_id": "c0e5c9b472ab4294bdf3b68d53ee3121",
       "version_major": 2,
       "version_minor": 0
      },
      "text/plain": [
       "HBox(children=(FloatProgress(value=0.0, description='Batches', max=17.0, style=ProgressStyle(description_width…"
      ]
     },
     "metadata": {},
     "output_type": "display_data"
    },
    {
     "name": "stdout",
     "output_type": "stream",
     "text": [
      "\n",
      "Epoch =  18 Loss = 0.472745 LR = 0.00009713\n"
     ]
    },
    {
     "data": {
      "application/vnd.jupyter.widget-view+json": {
       "model_id": "44c0cfd3ab0a48668ed81a954a53316c",
       "version_major": 2,
       "version_minor": 0
      },
      "text/plain": [
       "HBox(children=(FloatProgress(value=0.0, description='Batches', max=17.0, style=ProgressStyle(description_width…"
      ]
     },
     "metadata": {},
     "output_type": "display_data"
    },
    {
     "name": "stdout",
     "output_type": "stream",
     "text": [
      "\n",
      "Epoch =  19 Loss = 0.467528 LR = 0.00009537\n"
     ]
    },
    {
     "data": {
      "application/vnd.jupyter.widget-view+json": {
       "model_id": "ab44c1e7f82d4941acf868fca7c3963d",
       "version_major": 2,
       "version_minor": 0
      },
      "text/plain": [
       "HBox(children=(FloatProgress(value=0.0, description='Generate Predictions', max=34.0, style=ProgressStyle(desc…"
      ]
     },
     "metadata": {},
     "output_type": "display_data"
    },
    {
     "name": "stdout",
     "output_type": "stream",
     "text": [
      "\n"
     ]
    },
    {
     "data": {
      "application/vnd.jupyter.widget-view+json": {
       "model_id": "d0e902ad8410426c97928b47307bc8b1",
       "version_major": 2,
       "version_minor": 0
      },
      "text/plain": [
       "HBox(children=(FloatProgress(value=0.0, description='Generate Predictions', max=2.0, style=ProgressStyle(descr…"
      ]
     },
     "metadata": {},
     "output_type": "display_data"
    },
    {
     "name": "stdout",
     "output_type": "stream",
     "text": [
      "\n"
     ]
    },
    {
     "data": {
      "text/html": [
       "<div>\n",
       "<style scoped>\n",
       "    .dataframe tbody tr th:only-of-type {\n",
       "        vertical-align: middle;\n",
       "    }\n",
       "\n",
       "    .dataframe tbody tr th {\n",
       "        vertical-align: top;\n",
       "    }\n",
       "\n",
       "    .dataframe thead tr th {\n",
       "        text-align: left;\n",
       "    }\n",
       "\n",
       "    .dataframe thead tr:last-of-type th {\n",
       "        text-align: right;\n",
       "    }\n",
       "</style>\n",
       "<table border=\"1\" class=\"dataframe\">\n",
       "  <thead>\n",
       "    <tr>\n",
       "      <th></th>\n",
       "      <th colspan=\"2\" halign=\"left\">Proba</th>\n",
       "      <th colspan=\"2\" halign=\"left\">Preds</th>\n",
       "    </tr>\n",
       "    <tr>\n",
       "      <th></th>\n",
       "      <th>min</th>\n",
       "      <th>max</th>\n",
       "      <th>min</th>\n",
       "      <th>max</th>\n",
       "    </tr>\n",
       "    <tr>\n",
       "      <th>Labels</th>\n",
       "      <th></th>\n",
       "      <th></th>\n",
       "      <th></th>\n",
       "      <th></th>\n",
       "    </tr>\n",
       "  </thead>\n",
       "  <tbody>\n",
       "    <tr>\n",
       "      <th>0</th>\n",
       "      <td>0.112</td>\n",
       "      <td>0.552</td>\n",
       "      <td>0</td>\n",
       "      <td>1</td>\n",
       "    </tr>\n",
       "    <tr>\n",
       "      <th>1</th>\n",
       "      <td>0.205</td>\n",
       "      <td>0.552</td>\n",
       "      <td>0</td>\n",
       "      <td>1</td>\n",
       "    </tr>\n",
       "  </tbody>\n",
       "</table>\n",
       "</div>"
      ],
      "text/plain": [
       "       Proba       Preds    \n",
       "         min   max   min max\n",
       "Labels                      \n",
       "0      0.112 0.552     0   1\n",
       "1      0.205 0.552     0   1"
      ]
     },
     "metadata": {},
     "output_type": "display_data"
    },
    {
     "data": {
      "text/html": [
       "<div>\n",
       "<style scoped>\n",
       "    .dataframe tbody tr th:only-of-type {\n",
       "        vertical-align: middle;\n",
       "    }\n",
       "\n",
       "    .dataframe tbody tr th {\n",
       "        vertical-align: top;\n",
       "    }\n",
       "\n",
       "    .dataframe thead th {\n",
       "        text-align: right;\n",
       "    }\n",
       "</style>\n",
       "<table border=\"1\" class=\"dataframe\">\n",
       "  <thead>\n",
       "    <tr style=\"text-align: right;\">\n",
       "      <th></th>\n",
       "      <th>Proba</th>\n",
       "      <th>Probas</th>\n",
       "      <th>Preds</th>\n",
       "      <th>Labels</th>\n",
       "      <th>Proba</th>\n",
       "      <th>Probas</th>\n",
       "      <th>Preds</th>\n",
       "      <th>Labels</th>\n",
       "      <th>Proba</th>\n",
       "      <th>Probas</th>\n",
       "      <th>Preds</th>\n",
       "      <th>Labels</th>\n",
       "    </tr>\n",
       "  </thead>\n",
       "  <tbody>\n",
       "    <tr>\n",
       "      <th>0</th>\n",
       "      <td>0.386</td>\n",
       "      <td>[0.6144185066223145, 0.38558149337768555]</td>\n",
       "      <td>0</td>\n",
       "      <td>0</td>\n",
       "      <td>0.444</td>\n",
       "      <td>[0.5562803149223328, 0.44371968507766724]</td>\n",
       "      <td>0</td>\n",
       "      <td>0</td>\n",
       "      <td>0.390</td>\n",
       "      <td>[0.610306441783905, 0.3896934986114502]</td>\n",
       "      <td>0</td>\n",
       "      <td>0</td>\n",
       "    </tr>\n",
       "    <tr>\n",
       "      <th>1</th>\n",
       "      <td>0.422</td>\n",
       "      <td>[0.57750403881073, 0.42249593138694763]</td>\n",
       "      <td>0</td>\n",
       "      <td>1</td>\n",
       "      <td>0.371</td>\n",
       "      <td>[0.6285915374755859, 0.37140846252441406]</td>\n",
       "      <td>0</td>\n",
       "      <td>1</td>\n",
       "      <td>0.374</td>\n",
       "      <td>[0.6262048482894897, 0.37379521131515503]</td>\n",
       "      <td>0</td>\n",
       "      <td>0</td>\n",
       "    </tr>\n",
       "    <tr>\n",
       "      <th>2</th>\n",
       "      <td>0.479</td>\n",
       "      <td>[0.5207474231719971, 0.47925254702568054]</td>\n",
       "      <td>0</td>\n",
       "      <td>1</td>\n",
       "      <td>0.479</td>\n",
       "      <td>[0.5206669569015503, 0.4793330430984497]</td>\n",
       "      <td>0</td>\n",
       "      <td>1</td>\n",
       "      <td>0.445</td>\n",
       "      <td>[0.5545477867126465, 0.4454522132873535]</td>\n",
       "      <td>0</td>\n",
       "      <td>1</td>\n",
       "    </tr>\n",
       "    <tr>\n",
       "      <th>3</th>\n",
       "      <td>0.444</td>\n",
       "      <td>[0.5564906001091003, 0.44350939989089966]</td>\n",
       "      <td>0</td>\n",
       "      <td>0</td>\n",
       "      <td>0.505</td>\n",
       "      <td>[0.49465054273605347, 0.5053494572639465]</td>\n",
       "      <td>1</td>\n",
       "      <td>0</td>\n",
       "      <td>0.443</td>\n",
       "      <td>[0.5571738481521606, 0.44282615184783936]</td>\n",
       "      <td>0</td>\n",
       "      <td>1</td>\n",
       "    </tr>\n",
       "    <tr>\n",
       "      <th>4</th>\n",
       "      <td>0.453</td>\n",
       "      <td>[0.5473753213882446, 0.45262467861175537]</td>\n",
       "      <td>0</td>\n",
       "      <td>1</td>\n",
       "      <td>0.368</td>\n",
       "      <td>[0.6317079663276672, 0.36829203367233276]</td>\n",
       "      <td>0</td>\n",
       "      <td>1</td>\n",
       "      <td>0.474</td>\n",
       "      <td>[0.5263757705688477, 0.47362422943115234]</td>\n",
       "      <td>0</td>\n",
       "      <td>1</td>\n",
       "    </tr>\n",
       "  </tbody>\n",
       "</table>\n",
       "</div>"
      ],
      "text/plain": [
       "  Proba                                     Probas Preds Labels Proba  \\\n",
       "0 0.386  [0.6144185066223145, 0.38558149337768555]     0      0 0.444   \n",
       "1 0.422    [0.57750403881073, 0.42249593138694763]     0      1 0.371   \n",
       "2 0.479  [0.5207474231719971, 0.47925254702568054]     0      1 0.479   \n",
       "3 0.444  [0.5564906001091003, 0.44350939989089966]     0      0 0.505   \n",
       "4 0.453  [0.5473753213882446, 0.45262467861175537]     0      1 0.368   \n",
       "\n",
       "                                      Probas Preds Labels Proba  \\\n",
       "0  [0.5562803149223328, 0.44371968507766724]     0      0 0.390   \n",
       "1  [0.6285915374755859, 0.37140846252441406]     0      1 0.374   \n",
       "2   [0.5206669569015503, 0.4793330430984497]     0      1 0.445   \n",
       "3  [0.49465054273605347, 0.5053494572639465]     1      0 0.443   \n",
       "4  [0.6317079663276672, 0.36829203367233276]     0      1 0.474   \n",
       "\n",
       "                                      Probas Preds Labels  \n",
       "0    [0.610306441783905, 0.3896934986114502]     0      0  \n",
       "1  [0.6262048482894897, 0.37379521131515503]     0      0  \n",
       "2   [0.5545477867126465, 0.4454522132873535]     0      1  \n",
       "3  [0.5571738481521606, 0.44282615184783936]     0      1  \n",
       "4  [0.5263757705688477, 0.47362422943115234]     0      1  "
      ]
     },
     "metadata": {},
     "output_type": "display_data"
    },
    {
     "name": "stdout",
     "output_type": "stream",
     "text": [
      "scores =  {'map': '0.5810', 'acc': '0.5100', 'auc': '0.6228'}\n",
      "Epoch =  19 Train = 0.793977 Val = 0.622792\n"
     ]
    },
    {
     "data": {
      "application/vnd.jupyter.widget-view+json": {
       "model_id": "baf39d3fad464a3ab4af8fe97c9a5433",
       "version_major": 2,
       "version_minor": 0
      },
      "text/plain": [
       "HBox(children=(FloatProgress(value=0.0, description='Batches', max=17.0, style=ProgressStyle(description_width…"
      ]
     },
     "metadata": {},
     "output_type": "display_data"
    },
    {
     "name": "stdout",
     "output_type": "stream",
     "text": [
      "\n",
      "Epoch =  20 Loss = 0.469692 LR = 0.00009321\n"
     ]
    },
    {
     "data": {
      "application/vnd.jupyter.widget-view+json": {
       "model_id": "99ec835d55d24ab9a6466124b0d36bd8",
       "version_major": 2,
       "version_minor": 0
      },
      "text/plain": [
       "HBox(children=(FloatProgress(value=0.0, description='Batches', max=17.0, style=ProgressStyle(description_width…"
      ]
     },
     "metadata": {},
     "output_type": "display_data"
    },
    {
     "name": "stdout",
     "output_type": "stream",
     "text": [
      "\n",
      "Epoch =  21 Loss = 0.470404 LR = 0.00009068\n"
     ]
    },
    {
     "data": {
      "application/vnd.jupyter.widget-view+json": {
       "model_id": "b2069aaba50e4fe69192063ab1cb8917",
       "version_major": 2,
       "version_minor": 0
      },
      "text/plain": [
       "HBox(children=(FloatProgress(value=0.0, description='Batches', max=17.0, style=ProgressStyle(description_width…"
      ]
     },
     "metadata": {},
     "output_type": "display_data"
    },
    {
     "name": "stdout",
     "output_type": "stream",
     "text": [
      "\n",
      "Epoch =  22 Loss = 0.467867 LR = 0.00008779\n"
     ]
    },
    {
     "data": {
      "application/vnd.jupyter.widget-view+json": {
       "model_id": "b075923edbec431fb5772a4b9da3b762",
       "version_major": 2,
       "version_minor": 0
      },
      "text/plain": [
       "HBox(children=(FloatProgress(value=0.0, description='Batches', max=17.0, style=ProgressStyle(description_width…"
      ]
     },
     "metadata": {},
     "output_type": "display_data"
    },
    {
     "name": "stdout",
     "output_type": "stream",
     "text": [
      "\n",
      "Epoch =  23 Loss = 0.470881 LR = 0.00008457\n"
     ]
    },
    {
     "data": {
      "application/vnd.jupyter.widget-view+json": {
       "model_id": "4c01ae9343834dce88b4e65ce82db94e",
       "version_major": 2,
       "version_minor": 0
      },
      "text/plain": [
       "HBox(children=(FloatProgress(value=0.0, description='Generate Predictions', max=34.0, style=ProgressStyle(desc…"
      ]
     },
     "metadata": {},
     "output_type": "display_data"
    },
    {
     "name": "stdout",
     "output_type": "stream",
     "text": [
      "\n"
     ]
    },
    {
     "data": {
      "application/vnd.jupyter.widget-view+json": {
       "model_id": "45e96be3dc194c6b9b21540a3b394d46",
       "version_major": 2,
       "version_minor": 0
      },
      "text/plain": [
       "HBox(children=(FloatProgress(value=0.0, description='Generate Predictions', max=2.0, style=ProgressStyle(descr…"
      ]
     },
     "metadata": {},
     "output_type": "display_data"
    },
    {
     "name": "stdout",
     "output_type": "stream",
     "text": [
      "\n"
     ]
    },
    {
     "data": {
      "text/html": [
       "<div>\n",
       "<style scoped>\n",
       "    .dataframe tbody tr th:only-of-type {\n",
       "        vertical-align: middle;\n",
       "    }\n",
       "\n",
       "    .dataframe tbody tr th {\n",
       "        vertical-align: top;\n",
       "    }\n",
       "\n",
       "    .dataframe thead tr th {\n",
       "        text-align: left;\n",
       "    }\n",
       "\n",
       "    .dataframe thead tr:last-of-type th {\n",
       "        text-align: right;\n",
       "    }\n",
       "</style>\n",
       "<table border=\"1\" class=\"dataframe\">\n",
       "  <thead>\n",
       "    <tr>\n",
       "      <th></th>\n",
       "      <th colspan=\"2\" halign=\"left\">Proba</th>\n",
       "      <th colspan=\"2\" halign=\"left\">Preds</th>\n",
       "    </tr>\n",
       "    <tr>\n",
       "      <th></th>\n",
       "      <th>min</th>\n",
       "      <th>max</th>\n",
       "      <th>min</th>\n",
       "      <th>max</th>\n",
       "    </tr>\n",
       "    <tr>\n",
       "      <th>Labels</th>\n",
       "      <th></th>\n",
       "      <th></th>\n",
       "      <th></th>\n",
       "      <th></th>\n",
       "    </tr>\n",
       "  </thead>\n",
       "  <tbody>\n",
       "    <tr>\n",
       "      <th>0</th>\n",
       "      <td>0.190</td>\n",
       "      <td>0.456</td>\n",
       "      <td>0</td>\n",
       "      <td>0</td>\n",
       "    </tr>\n",
       "    <tr>\n",
       "      <th>1</th>\n",
       "      <td>0.239</td>\n",
       "      <td>0.457</td>\n",
       "      <td>0</td>\n",
       "      <td>0</td>\n",
       "    </tr>\n",
       "  </tbody>\n",
       "</table>\n",
       "</div>"
      ],
      "text/plain": [
       "       Proba       Preds    \n",
       "         min   max   min max\n",
       "Labels                      \n",
       "0      0.190 0.456     0   0\n",
       "1      0.239 0.457     0   0"
      ]
     },
     "metadata": {},
     "output_type": "display_data"
    },
    {
     "data": {
      "text/html": [
       "<div>\n",
       "<style scoped>\n",
       "    .dataframe tbody tr th:only-of-type {\n",
       "        vertical-align: middle;\n",
       "    }\n",
       "\n",
       "    .dataframe tbody tr th {\n",
       "        vertical-align: top;\n",
       "    }\n",
       "\n",
       "    .dataframe thead th {\n",
       "        text-align: right;\n",
       "    }\n",
       "</style>\n",
       "<table border=\"1\" class=\"dataframe\">\n",
       "  <thead>\n",
       "    <tr style=\"text-align: right;\">\n",
       "      <th></th>\n",
       "      <th>Proba</th>\n",
       "      <th>Probas</th>\n",
       "      <th>Preds</th>\n",
       "      <th>Labels</th>\n",
       "      <th>Proba</th>\n",
       "      <th>Probas</th>\n",
       "      <th>Preds</th>\n",
       "      <th>Labels</th>\n",
       "      <th>Proba</th>\n",
       "      <th>Probas</th>\n",
       "      <th>Preds</th>\n",
       "      <th>Labels</th>\n",
       "    </tr>\n",
       "  </thead>\n",
       "  <tbody>\n",
       "    <tr>\n",
       "      <th>0</th>\n",
       "      <td>0.379</td>\n",
       "      <td>[0.6212131977081299, 0.3787868022918701]</td>\n",
       "      <td>0</td>\n",
       "      <td>0</td>\n",
       "      <td>0.415</td>\n",
       "      <td>[0.5851757526397705, 0.4148242473602295]</td>\n",
       "      <td>0</td>\n",
       "      <td>1</td>\n",
       "      <td>0.409</td>\n",
       "      <td>[0.5910695195198059, 0.4089304506778717]</td>\n",
       "      <td>0</td>\n",
       "      <td>1</td>\n",
       "    </tr>\n",
       "    <tr>\n",
       "      <th>1</th>\n",
       "      <td>0.401</td>\n",
       "      <td>[0.5989573001861572, 0.4010426998138428]</td>\n",
       "      <td>0</td>\n",
       "      <td>1</td>\n",
       "      <td>0.390</td>\n",
       "      <td>[0.6100329160690308, 0.3899671137332916]</td>\n",
       "      <td>0</td>\n",
       "      <td>0</td>\n",
       "      <td>0.391</td>\n",
       "      <td>[0.6089495420455933, 0.39105042815208435]</td>\n",
       "      <td>0</td>\n",
       "      <td>0</td>\n",
       "    </tr>\n",
       "    <tr>\n",
       "      <th>2</th>\n",
       "      <td>0.407</td>\n",
       "      <td>[0.592668890953064, 0.40733104944229126]</td>\n",
       "      <td>0</td>\n",
       "      <td>0</td>\n",
       "      <td>0.411</td>\n",
       "      <td>[0.5889946222305298, 0.4110053479671478]</td>\n",
       "      <td>0</td>\n",
       "      <td>1</td>\n",
       "      <td>0.403</td>\n",
       "      <td>[0.5965722799301147, 0.40342772006988525]</td>\n",
       "      <td>0</td>\n",
       "      <td>0</td>\n",
       "    </tr>\n",
       "    <tr>\n",
       "      <th>3</th>\n",
       "      <td>0.420</td>\n",
       "      <td>[0.5795732140541077, 0.42042678594589233]</td>\n",
       "      <td>0</td>\n",
       "      <td>1</td>\n",
       "      <td>0.435</td>\n",
       "      <td>[0.5651326179504395, 0.43486741185188293]</td>\n",
       "      <td>0</td>\n",
       "      <td>0</td>\n",
       "      <td>0.415</td>\n",
       "      <td>[0.5851686000823975, 0.41483134031295776]</td>\n",
       "      <td>0</td>\n",
       "      <td>1</td>\n",
       "    </tr>\n",
       "    <tr>\n",
       "      <th>4</th>\n",
       "      <td>0.334</td>\n",
       "      <td>[0.6659610867500305, 0.3340389132499695]</td>\n",
       "      <td>0</td>\n",
       "      <td>0</td>\n",
       "      <td>0.444</td>\n",
       "      <td>[0.5562049746513367, 0.4437950551509857]</td>\n",
       "      <td>0</td>\n",
       "      <td>0</td>\n",
       "      <td>0.396</td>\n",
       "      <td>[0.6043424606323242, 0.3956575095653534]</td>\n",
       "      <td>0</td>\n",
       "      <td>1</td>\n",
       "    </tr>\n",
       "  </tbody>\n",
       "</table>\n",
       "</div>"
      ],
      "text/plain": [
       "  Proba                                     Probas Preds Labels Proba  \\\n",
       "0 0.379   [0.6212131977081299, 0.3787868022918701]     0      0 0.415   \n",
       "1 0.401   [0.5989573001861572, 0.4010426998138428]     0      1 0.390   \n",
       "2 0.407   [0.592668890953064, 0.40733104944229126]     0      0 0.411   \n",
       "3 0.420  [0.5795732140541077, 0.42042678594589233]     0      1 0.435   \n",
       "4 0.334   [0.6659610867500305, 0.3340389132499695]     0      0 0.444   \n",
       "\n",
       "                                      Probas Preds Labels Proba  \\\n",
       "0   [0.5851757526397705, 0.4148242473602295]     0      1 0.409   \n",
       "1   [0.6100329160690308, 0.3899671137332916]     0      0 0.391   \n",
       "2   [0.5889946222305298, 0.4110053479671478]     0      1 0.403   \n",
       "3  [0.5651326179504395, 0.43486741185188293]     0      0 0.415   \n",
       "4   [0.5562049746513367, 0.4437950551509857]     0      0 0.396   \n",
       "\n",
       "                                      Probas Preds Labels  \n",
       "0   [0.5910695195198059, 0.4089304506778717]     0      1  \n",
       "1  [0.6089495420455933, 0.39105042815208435]     0      0  \n",
       "2  [0.5965722799301147, 0.40342772006988525]     0      0  \n",
       "3  [0.5851686000823975, 0.41483134031295776]     0      1  \n",
       "4   [0.6043424606323242, 0.3956575095653534]     0      1  "
      ]
     },
     "metadata": {},
     "output_type": "display_data"
    },
    {
     "name": "stdout",
     "output_type": "stream",
     "text": [
      "scores =  {'map': '0.6066', 'acc': '0.5000', 'auc': '0.6370'}\n",
      "Epoch =  23 Train = 0.807510 Val = 0.637048\n"
     ]
    },
    {
     "data": {
      "application/vnd.jupyter.widget-view+json": {
       "model_id": "fcbec9247456404ba4e4c035ca5d9236",
       "version_major": 2,
       "version_minor": 0
      },
      "text/plain": [
       "HBox(children=(FloatProgress(value=0.0, description='Batches', max=17.0, style=ProgressStyle(description_width…"
      ]
     },
     "metadata": {},
     "output_type": "display_data"
    },
    {
     "name": "stdout",
     "output_type": "stream",
     "text": [
      "\n",
      "Epoch =  24 Loss = 0.462486 LR = 0.00008105\n"
     ]
    },
    {
     "data": {
      "application/vnd.jupyter.widget-view+json": {
       "model_id": "e313c66765d54b9b884e19de1c1d6973",
       "version_major": 2,
       "version_minor": 0
      },
      "text/plain": [
       "HBox(children=(FloatProgress(value=0.0, description='Batches', max=17.0, style=ProgressStyle(description_width…"
      ]
     },
     "metadata": {},
     "output_type": "display_data"
    },
    {
     "name": "stdout",
     "output_type": "stream",
     "text": [
      "\n",
      "Epoch =  25 Loss = 0.463121 LR = 0.00007726\n"
     ]
    },
    {
     "data": {
      "application/vnd.jupyter.widget-view+json": {
       "model_id": "ee699c57413b493b98ad8fc8908997a7",
       "version_major": 2,
       "version_minor": 0
      },
      "text/plain": [
       "HBox(children=(FloatProgress(value=0.0, description='Batches', max=17.0, style=ProgressStyle(description_width…"
      ]
     },
     "metadata": {},
     "output_type": "display_data"
    },
    {
     "name": "stdout",
     "output_type": "stream",
     "text": [
      "\n",
      "Epoch =  26 Loss = 0.463304 LR = 0.00007324\n"
     ]
    },
    {
     "data": {
      "application/vnd.jupyter.widget-view+json": {
       "model_id": "c19b87899bb14c228163c417fdaaa9e5",
       "version_major": 2,
       "version_minor": 0
      },
      "text/plain": [
       "HBox(children=(FloatProgress(value=0.0, description='Batches', max=17.0, style=ProgressStyle(description_width…"
      ]
     },
     "metadata": {},
     "output_type": "display_data"
    },
    {
     "name": "stdout",
     "output_type": "stream",
     "text": [
      "\n",
      "Epoch =  27 Loss = 0.461171 LR = 0.00006901\n"
     ]
    },
    {
     "data": {
      "application/vnd.jupyter.widget-view+json": {
       "model_id": "fbf22358839940ce85e8b22fe23f37b5",
       "version_major": 2,
       "version_minor": 0
      },
      "text/plain": [
       "HBox(children=(FloatProgress(value=0.0, description='Generate Predictions', max=34.0, style=ProgressStyle(desc…"
      ]
     },
     "metadata": {},
     "output_type": "display_data"
    },
    {
     "name": "stdout",
     "output_type": "stream",
     "text": [
      "\n"
     ]
    },
    {
     "data": {
      "application/vnd.jupyter.widget-view+json": {
       "model_id": "bd54d22e7cf3441ea5a7d20de5a3decd",
       "version_major": 2,
       "version_minor": 0
      },
      "text/plain": [
       "HBox(children=(FloatProgress(value=0.0, description='Generate Predictions', max=2.0, style=ProgressStyle(descr…"
      ]
     },
     "metadata": {},
     "output_type": "display_data"
    },
    {
     "name": "stdout",
     "output_type": "stream",
     "text": [
      "\n"
     ]
    },
    {
     "data": {
      "text/html": [
       "<div>\n",
       "<style scoped>\n",
       "    .dataframe tbody tr th:only-of-type {\n",
       "        vertical-align: middle;\n",
       "    }\n",
       "\n",
       "    .dataframe tbody tr th {\n",
       "        vertical-align: top;\n",
       "    }\n",
       "\n",
       "    .dataframe thead tr th {\n",
       "        text-align: left;\n",
       "    }\n",
       "\n",
       "    .dataframe thead tr:last-of-type th {\n",
       "        text-align: right;\n",
       "    }\n",
       "</style>\n",
       "<table border=\"1\" class=\"dataframe\">\n",
       "  <thead>\n",
       "    <tr>\n",
       "      <th></th>\n",
       "      <th colspan=\"2\" halign=\"left\">Proba</th>\n",
       "      <th colspan=\"2\" halign=\"left\">Preds</th>\n",
       "    </tr>\n",
       "    <tr>\n",
       "      <th></th>\n",
       "      <th>min</th>\n",
       "      <th>max</th>\n",
       "      <th>min</th>\n",
       "      <th>max</th>\n",
       "    </tr>\n",
       "    <tr>\n",
       "      <th>Labels</th>\n",
       "      <th></th>\n",
       "      <th></th>\n",
       "      <th></th>\n",
       "      <th></th>\n",
       "    </tr>\n",
       "  </thead>\n",
       "  <tbody>\n",
       "    <tr>\n",
       "      <th>0</th>\n",
       "      <td>0.090</td>\n",
       "      <td>0.448</td>\n",
       "      <td>0</td>\n",
       "      <td>0</td>\n",
       "    </tr>\n",
       "    <tr>\n",
       "      <th>1</th>\n",
       "      <td>0.129</td>\n",
       "      <td>0.449</td>\n",
       "      <td>0</td>\n",
       "      <td>0</td>\n",
       "    </tr>\n",
       "  </tbody>\n",
       "</table>\n",
       "</div>"
      ],
      "text/plain": [
       "       Proba       Preds    \n",
       "         min   max   min max\n",
       "Labels                      \n",
       "0      0.090 0.448     0   0\n",
       "1      0.129 0.449     0   0"
      ]
     },
     "metadata": {},
     "output_type": "display_data"
    },
    {
     "data": {
      "text/html": [
       "<div>\n",
       "<style scoped>\n",
       "    .dataframe tbody tr th:only-of-type {\n",
       "        vertical-align: middle;\n",
       "    }\n",
       "\n",
       "    .dataframe tbody tr th {\n",
       "        vertical-align: top;\n",
       "    }\n",
       "\n",
       "    .dataframe thead th {\n",
       "        text-align: right;\n",
       "    }\n",
       "</style>\n",
       "<table border=\"1\" class=\"dataframe\">\n",
       "  <thead>\n",
       "    <tr style=\"text-align: right;\">\n",
       "      <th></th>\n",
       "      <th>Proba</th>\n",
       "      <th>Probas</th>\n",
       "      <th>Preds</th>\n",
       "      <th>Labels</th>\n",
       "      <th>Proba</th>\n",
       "      <th>Probas</th>\n",
       "      <th>Preds</th>\n",
       "      <th>Labels</th>\n",
       "      <th>Proba</th>\n",
       "      <th>Probas</th>\n",
       "      <th>Preds</th>\n",
       "      <th>Labels</th>\n",
       "    </tr>\n",
       "  </thead>\n",
       "  <tbody>\n",
       "    <tr>\n",
       "      <th>0</th>\n",
       "      <td>0.394</td>\n",
       "      <td>[0.6063394546508789, 0.3936605453491211]</td>\n",
       "      <td>0</td>\n",
       "      <td>1</td>\n",
       "      <td>0.415</td>\n",
       "      <td>[0.5848050713539124, 0.41519492864608765]</td>\n",
       "      <td>0</td>\n",
       "      <td>1</td>\n",
       "      <td>0.174</td>\n",
       "      <td>[0.8259727954864502, 0.1740272045135498]</td>\n",
       "      <td>0</td>\n",
       "      <td>0</td>\n",
       "    </tr>\n",
       "    <tr>\n",
       "      <th>1</th>\n",
       "      <td>0.355</td>\n",
       "      <td>[0.6451596021652222, 0.35484039783477783]</td>\n",
       "      <td>0</td>\n",
       "      <td>0</td>\n",
       "      <td>0.407</td>\n",
       "      <td>[0.5927472710609436, 0.4072527587413788]</td>\n",
       "      <td>0</td>\n",
       "      <td>0</td>\n",
       "      <td>0.237</td>\n",
       "      <td>[0.7629009485244751, 0.2370990663766861]</td>\n",
       "      <td>0</td>\n",
       "      <td>0</td>\n",
       "    </tr>\n",
       "    <tr>\n",
       "      <th>2</th>\n",
       "      <td>0.328</td>\n",
       "      <td>[0.672205924987793, 0.32779404520988464]</td>\n",
       "      <td>0</td>\n",
       "      <td>0</td>\n",
       "      <td>0.285</td>\n",
       "      <td>[0.7150153517723083, 0.28498464822769165]</td>\n",
       "      <td>0</td>\n",
       "      <td>1</td>\n",
       "      <td>0.397</td>\n",
       "      <td>[0.6028529405593872, 0.3971470296382904]</td>\n",
       "      <td>0</td>\n",
       "      <td>1</td>\n",
       "    </tr>\n",
       "    <tr>\n",
       "      <th>3</th>\n",
       "      <td>0.390</td>\n",
       "      <td>[0.6099593043327332, 0.39004066586494446]</td>\n",
       "      <td>0</td>\n",
       "      <td>0</td>\n",
       "      <td>0.363</td>\n",
       "      <td>[0.6372870206832886, 0.3627130091190338]</td>\n",
       "      <td>0</td>\n",
       "      <td>1</td>\n",
       "      <td>0.327</td>\n",
       "      <td>[0.6728334426879883, 0.32716652750968933]</td>\n",
       "      <td>0</td>\n",
       "      <td>0</td>\n",
       "    </tr>\n",
       "    <tr>\n",
       "      <th>4</th>\n",
       "      <td>0.332</td>\n",
       "      <td>[0.6680387854576111, 0.3319612145423889]</td>\n",
       "      <td>0</td>\n",
       "      <td>0</td>\n",
       "      <td>0.425</td>\n",
       "      <td>[0.5745916366577148, 0.42540833353996277]</td>\n",
       "      <td>0</td>\n",
       "      <td>1</td>\n",
       "      <td>0.408</td>\n",
       "      <td>[0.5922638773918152, 0.4077360928058624]</td>\n",
       "      <td>0</td>\n",
       "      <td>1</td>\n",
       "    </tr>\n",
       "  </tbody>\n",
       "</table>\n",
       "</div>"
      ],
      "text/plain": [
       "  Proba                                     Probas Preds Labels Proba  \\\n",
       "0 0.394   [0.6063394546508789, 0.3936605453491211]     0      1 0.415   \n",
       "1 0.355  [0.6451596021652222, 0.35484039783477783]     0      0 0.407   \n",
       "2 0.328   [0.672205924987793, 0.32779404520988464]     0      0 0.285   \n",
       "3 0.390  [0.6099593043327332, 0.39004066586494446]     0      0 0.363   \n",
       "4 0.332   [0.6680387854576111, 0.3319612145423889]     0      0 0.425   \n",
       "\n",
       "                                      Probas Preds Labels Proba  \\\n",
       "0  [0.5848050713539124, 0.41519492864608765]     0      1 0.174   \n",
       "1   [0.5927472710609436, 0.4072527587413788]     0      0 0.237   \n",
       "2  [0.7150153517723083, 0.28498464822769165]     0      1 0.397   \n",
       "3   [0.6372870206832886, 0.3627130091190338]     0      1 0.327   \n",
       "4  [0.5745916366577148, 0.42540833353996277]     0      1 0.408   \n",
       "\n",
       "                                      Probas Preds Labels  \n",
       "0   [0.8259727954864502, 0.1740272045135498]     0      0  \n",
       "1   [0.7629009485244751, 0.2370990663766861]     0      0  \n",
       "2   [0.6028529405593872, 0.3971470296382904]     0      1  \n",
       "3  [0.6728334426879883, 0.32716652750968933]     0      0  \n",
       "4   [0.5922638773918152, 0.4077360928058624]     0      1  "
      ]
     },
     "metadata": {},
     "output_type": "display_data"
    },
    {
     "name": "stdout",
     "output_type": "stream",
     "text": [
      "scores =  {'map': '0.6037', 'acc': '0.5000', 'auc': '0.6393'}\n",
      "Epoch =  27 Train = 0.824353 Val = 0.639304\n"
     ]
    },
    {
     "data": {
      "application/vnd.jupyter.widget-view+json": {
       "model_id": "59140824a139458faa20922e4572c995",
       "version_major": 2,
       "version_minor": 0
      },
      "text/plain": [
       "HBox(children=(FloatProgress(value=0.0, description='Batches', max=17.0, style=ProgressStyle(description_width…"
      ]
     },
     "metadata": {},
     "output_type": "display_data"
    },
    {
     "name": "stdout",
     "output_type": "stream",
     "text": [
      "\n",
      "Epoch =  28 Loss = 0.467099 LR = 0.00006461\n"
     ]
    },
    {
     "data": {
      "application/vnd.jupyter.widget-view+json": {
       "model_id": "25e92cbe3c784f7baac42ee3b2f5d43c",
       "version_major": 2,
       "version_minor": 0
      },
      "text/plain": [
       "HBox(children=(FloatProgress(value=0.0, description='Batches', max=17.0, style=ProgressStyle(description_width…"
      ]
     },
     "metadata": {},
     "output_type": "display_data"
    },
    {
     "name": "stdout",
     "output_type": "stream",
     "text": [
      "\n",
      "Epoch =  29 Loss = 0.459498 LR = 0.00006009\n"
     ]
    },
    {
     "data": {
      "application/vnd.jupyter.widget-view+json": {
       "model_id": "d249c25b38244952b32c33b29e0a8f12",
       "version_major": 2,
       "version_minor": 0
      },
      "text/plain": [
       "HBox(children=(FloatProgress(value=0.0, description='Batches', max=17.0, style=ProgressStyle(description_width…"
      ]
     },
     "metadata": {},
     "output_type": "display_data"
    },
    {
     "name": "stdout",
     "output_type": "stream",
     "text": [
      "\n",
      "Epoch =  30 Loss = 0.458401 LR = 0.00005548\n"
     ]
    },
    {
     "data": {
      "application/vnd.jupyter.widget-view+json": {
       "model_id": "2d8bdc4b81ab40499bb5f0635eb45bd2",
       "version_major": 2,
       "version_minor": 0
      },
      "text/plain": [
       "HBox(children=(FloatProgress(value=0.0, description='Batches', max=17.0, style=ProgressStyle(description_width…"
      ]
     },
     "metadata": {},
     "output_type": "display_data"
    },
    {
     "name": "stdout",
     "output_type": "stream",
     "text": [
      "\n",
      "Epoch =  31 Loss = 0.458091 LR = 0.00005082\n"
     ]
    },
    {
     "data": {
      "application/vnd.jupyter.widget-view+json": {
       "model_id": "19ca39d1775e4e6f853d50d294a6df97",
       "version_major": 2,
       "version_minor": 0
      },
      "text/plain": [
       "HBox(children=(FloatProgress(value=0.0, description='Generate Predictions', max=34.0, style=ProgressStyle(desc…"
      ]
     },
     "metadata": {},
     "output_type": "display_data"
    },
    {
     "name": "stdout",
     "output_type": "stream",
     "text": [
      "\n"
     ]
    },
    {
     "data": {
      "application/vnd.jupyter.widget-view+json": {
       "model_id": "6d919ade5bf94e679330bfb0455fab2a",
       "version_major": 2,
       "version_minor": 0
      },
      "text/plain": [
       "HBox(children=(FloatProgress(value=0.0, description='Generate Predictions', max=2.0, style=ProgressStyle(descr…"
      ]
     },
     "metadata": {},
     "output_type": "display_data"
    },
    {
     "name": "stdout",
     "output_type": "stream",
     "text": [
      "\n"
     ]
    },
    {
     "data": {
      "text/html": [
       "<div>\n",
       "<style scoped>\n",
       "    .dataframe tbody tr th:only-of-type {\n",
       "        vertical-align: middle;\n",
       "    }\n",
       "\n",
       "    .dataframe tbody tr th {\n",
       "        vertical-align: top;\n",
       "    }\n",
       "\n",
       "    .dataframe thead tr th {\n",
       "        text-align: left;\n",
       "    }\n",
       "\n",
       "    .dataframe thead tr:last-of-type th {\n",
       "        text-align: right;\n",
       "    }\n",
       "</style>\n",
       "<table border=\"1\" class=\"dataframe\">\n",
       "  <thead>\n",
       "    <tr>\n",
       "      <th></th>\n",
       "      <th colspan=\"2\" halign=\"left\">Proba</th>\n",
       "      <th colspan=\"2\" halign=\"left\">Preds</th>\n",
       "    </tr>\n",
       "    <tr>\n",
       "      <th></th>\n",
       "      <th>min</th>\n",
       "      <th>max</th>\n",
       "      <th>min</th>\n",
       "      <th>max</th>\n",
       "    </tr>\n",
       "    <tr>\n",
       "      <th>Labels</th>\n",
       "      <th></th>\n",
       "      <th></th>\n",
       "      <th></th>\n",
       "      <th></th>\n",
       "    </tr>\n",
       "  </thead>\n",
       "  <tbody>\n",
       "    <tr>\n",
       "      <th>0</th>\n",
       "      <td>0.037</td>\n",
       "      <td>0.509</td>\n",
       "      <td>0</td>\n",
       "      <td>1</td>\n",
       "    </tr>\n",
       "    <tr>\n",
       "      <th>1</th>\n",
       "      <td>0.062</td>\n",
       "      <td>0.500</td>\n",
       "      <td>0</td>\n",
       "      <td>1</td>\n",
       "    </tr>\n",
       "  </tbody>\n",
       "</table>\n",
       "</div>"
      ],
      "text/plain": [
       "       Proba       Preds    \n",
       "         min   max   min max\n",
       "Labels                      \n",
       "0      0.037 0.509     0   1\n",
       "1      0.062 0.500     0   1"
      ]
     },
     "metadata": {},
     "output_type": "display_data"
    },
    {
     "data": {
      "text/html": [
       "<div>\n",
       "<style scoped>\n",
       "    .dataframe tbody tr th:only-of-type {\n",
       "        vertical-align: middle;\n",
       "    }\n",
       "\n",
       "    .dataframe tbody tr th {\n",
       "        vertical-align: top;\n",
       "    }\n",
       "\n",
       "    .dataframe thead th {\n",
       "        text-align: right;\n",
       "    }\n",
       "</style>\n",
       "<table border=\"1\" class=\"dataframe\">\n",
       "  <thead>\n",
       "    <tr style=\"text-align: right;\">\n",
       "      <th></th>\n",
       "      <th>Proba</th>\n",
       "      <th>Probas</th>\n",
       "      <th>Preds</th>\n",
       "      <th>Labels</th>\n",
       "      <th>Proba</th>\n",
       "      <th>Probas</th>\n",
       "      <th>Preds</th>\n",
       "      <th>Labels</th>\n",
       "      <th>Proba</th>\n",
       "      <th>Probas</th>\n",
       "      <th>Preds</th>\n",
       "      <th>Labels</th>\n",
       "    </tr>\n",
       "  </thead>\n",
       "  <tbody>\n",
       "    <tr>\n",
       "      <th>0</th>\n",
       "      <td>0.168</td>\n",
       "      <td>[0.8319038152694702, 0.16809618473052979]</td>\n",
       "      <td>0</td>\n",
       "      <td>0</td>\n",
       "      <td>0.225</td>\n",
       "      <td>[0.7746517658233643, 0.22534820437431335]</td>\n",
       "      <td>0</td>\n",
       "      <td>1</td>\n",
       "      <td>0.455</td>\n",
       "      <td>[0.5448140501976013, 0.45518597960472107]</td>\n",
       "      <td>0</td>\n",
       "      <td>1</td>\n",
       "    </tr>\n",
       "    <tr>\n",
       "      <th>1</th>\n",
       "      <td>0.457</td>\n",
       "      <td>[0.5434167385101318, 0.4565832316875458]</td>\n",
       "      <td>0</td>\n",
       "      <td>1</td>\n",
       "      <td>0.466</td>\n",
       "      <td>[0.5336859822273254, 0.46631401777267456]</td>\n",
       "      <td>0</td>\n",
       "      <td>0</td>\n",
       "      <td>0.398</td>\n",
       "      <td>[0.6023819446563721, 0.3976180851459503]</td>\n",
       "      <td>0</td>\n",
       "      <td>0</td>\n",
       "    </tr>\n",
       "    <tr>\n",
       "      <th>2</th>\n",
       "      <td>0.449</td>\n",
       "      <td>[0.5509703159332275, 0.44902971386909485]</td>\n",
       "      <td>0</td>\n",
       "      <td>0</td>\n",
       "      <td>0.439</td>\n",
       "      <td>[0.5614856481552124, 0.4385143518447876]</td>\n",
       "      <td>0</td>\n",
       "      <td>1</td>\n",
       "      <td>0.352</td>\n",
       "      <td>[0.6478704810142517, 0.3521295189857483]</td>\n",
       "      <td>0</td>\n",
       "      <td>0</td>\n",
       "    </tr>\n",
       "    <tr>\n",
       "      <th>3</th>\n",
       "      <td>0.461</td>\n",
       "      <td>[0.538793683052063, 0.46120622754096985]</td>\n",
       "      <td>0</td>\n",
       "      <td>0</td>\n",
       "      <td>0.251</td>\n",
       "      <td>[0.7494940757751465, 0.2505059242248535]</td>\n",
       "      <td>0</td>\n",
       "      <td>0</td>\n",
       "      <td>0.451</td>\n",
       "      <td>[0.5492171049118042, 0.4507828652858734]</td>\n",
       "      <td>0</td>\n",
       "      <td>0</td>\n",
       "    </tr>\n",
       "    <tr>\n",
       "      <th>4</th>\n",
       "      <td>0.453</td>\n",
       "      <td>[0.5470227003097534, 0.4529772996902466]</td>\n",
       "      <td>0</td>\n",
       "      <td>1</td>\n",
       "      <td>0.432</td>\n",
       "      <td>[0.5678631067276001, 0.4321368932723999]</td>\n",
       "      <td>0</td>\n",
       "      <td>1</td>\n",
       "      <td>0.433</td>\n",
       "      <td>[0.567065954208374, 0.432934045791626]</td>\n",
       "      <td>0</td>\n",
       "      <td>0</td>\n",
       "    </tr>\n",
       "  </tbody>\n",
       "</table>\n",
       "</div>"
      ],
      "text/plain": [
       "  Proba                                     Probas Preds Labels Proba  \\\n",
       "0 0.168  [0.8319038152694702, 0.16809618473052979]     0      0 0.225   \n",
       "1 0.457   [0.5434167385101318, 0.4565832316875458]     0      1 0.466   \n",
       "2 0.449  [0.5509703159332275, 0.44902971386909485]     0      0 0.439   \n",
       "3 0.461   [0.538793683052063, 0.46120622754096985]     0      0 0.251   \n",
       "4 0.453   [0.5470227003097534, 0.4529772996902466]     0      1 0.432   \n",
       "\n",
       "                                      Probas Preds Labels Proba  \\\n",
       "0  [0.7746517658233643, 0.22534820437431335]     0      1 0.455   \n",
       "1  [0.5336859822273254, 0.46631401777267456]     0      0 0.398   \n",
       "2   [0.5614856481552124, 0.4385143518447876]     0      1 0.352   \n",
       "3   [0.7494940757751465, 0.2505059242248535]     0      0 0.451   \n",
       "4   [0.5678631067276001, 0.4321368932723999]     0      1 0.433   \n",
       "\n",
       "                                      Probas Preds Labels  \n",
       "0  [0.5448140501976013, 0.45518597960472107]     0      1  \n",
       "1   [0.6023819446563721, 0.3976180851459503]     0      0  \n",
       "2   [0.6478704810142517, 0.3521295189857483]     0      0  \n",
       "3   [0.5492171049118042, 0.4507828652858734]     0      0  \n",
       "4     [0.567065954208374, 0.432934045791626]     0      0  "
      ]
     },
     "metadata": {},
     "output_type": "display_data"
    },
    {
     "name": "stdout",
     "output_type": "stream",
     "text": [
      "scores =  {'map': '0.5878', 'acc': '0.5000', 'auc': '0.6369'}\n",
      "Epoch =  31 Train = 0.834604 Val = 0.636936\n"
     ]
    },
    {
     "data": {
      "application/vnd.jupyter.widget-view+json": {
       "model_id": "5df2952eb0ba47039330b5b26e031122",
       "version_major": 2,
       "version_minor": 0
      },
      "text/plain": [
       "HBox(children=(FloatProgress(value=0.0, description='Batches', max=17.0, style=ProgressStyle(description_width…"
      ]
     },
     "metadata": {},
     "output_type": "display_data"
    },
    {
     "name": "stdout",
     "output_type": "stream",
     "text": [
      "\n",
      "Epoch =  32 Loss = 0.454717 LR = 0.00004616\n"
     ]
    },
    {
     "data": {
      "application/vnd.jupyter.widget-view+json": {
       "model_id": "e65ceed3c29548aaa5019a32d559d7e5",
       "version_major": 2,
       "version_minor": 0
      },
      "text/plain": [
       "HBox(children=(FloatProgress(value=0.0, description='Batches', max=17.0, style=ProgressStyle(description_width…"
      ]
     },
     "metadata": {},
     "output_type": "display_data"
    },
    {
     "name": "stdout",
     "output_type": "stream",
     "text": [
      "\n",
      "Epoch =  33 Loss = 0.457907 LR = 0.00004153\n"
     ]
    },
    {
     "data": {
      "application/vnd.jupyter.widget-view+json": {
       "model_id": "0ca8b14bfa34437daa557ce66d373ab4",
       "version_major": 2,
       "version_minor": 0
      },
      "text/plain": [
       "HBox(children=(FloatProgress(value=0.0, description='Batches', max=17.0, style=ProgressStyle(description_width…"
      ]
     },
     "metadata": {},
     "output_type": "display_data"
    },
    {
     "name": "stdout",
     "output_type": "stream",
     "text": [
      "\n",
      "Epoch =  34 Loss = 0.455820 LR = 0.00003697\n"
     ]
    },
    {
     "data": {
      "application/vnd.jupyter.widget-view+json": {
       "model_id": "4eae67cb330b4327b2b8fd6321844d40",
       "version_major": 2,
       "version_minor": 0
      },
      "text/plain": [
       "HBox(children=(FloatProgress(value=0.0, description='Generate Predictions', max=34.0, style=ProgressStyle(desc…"
      ]
     },
     "metadata": {},
     "output_type": "display_data"
    },
    {
     "name": "stdout",
     "output_type": "stream",
     "text": [
      "\n"
     ]
    },
    {
     "data": {
      "application/vnd.jupyter.widget-view+json": {
       "model_id": "260f1e86b3964962971dbf826b64d46b",
       "version_major": 2,
       "version_minor": 0
      },
      "text/plain": [
       "HBox(children=(FloatProgress(value=0.0, description='Generate Predictions', max=2.0, style=ProgressStyle(descr…"
      ]
     },
     "metadata": {},
     "output_type": "display_data"
    },
    {
     "name": "stdout",
     "output_type": "stream",
     "text": [
      "\n"
     ]
    },
    {
     "data": {
      "text/html": [
       "<div>\n",
       "<style scoped>\n",
       "    .dataframe tbody tr th:only-of-type {\n",
       "        vertical-align: middle;\n",
       "    }\n",
       "\n",
       "    .dataframe tbody tr th {\n",
       "        vertical-align: top;\n",
       "    }\n",
       "\n",
       "    .dataframe thead tr th {\n",
       "        text-align: left;\n",
       "    }\n",
       "\n",
       "    .dataframe thead tr:last-of-type th {\n",
       "        text-align: right;\n",
       "    }\n",
       "</style>\n",
       "<table border=\"1\" class=\"dataframe\">\n",
       "  <thead>\n",
       "    <tr>\n",
       "      <th></th>\n",
       "      <th colspan=\"2\" halign=\"left\">Proba</th>\n",
       "      <th colspan=\"2\" halign=\"left\">Preds</th>\n",
       "    </tr>\n",
       "    <tr>\n",
       "      <th></th>\n",
       "      <th>min</th>\n",
       "      <th>max</th>\n",
       "      <th>min</th>\n",
       "      <th>max</th>\n",
       "    </tr>\n",
       "    <tr>\n",
       "      <th>Labels</th>\n",
       "      <th></th>\n",
       "      <th></th>\n",
       "      <th></th>\n",
       "      <th></th>\n",
       "    </tr>\n",
       "  </thead>\n",
       "  <tbody>\n",
       "    <tr>\n",
       "      <th>0</th>\n",
       "      <td>0.149</td>\n",
       "      <td>0.531</td>\n",
       "      <td>0</td>\n",
       "      <td>1</td>\n",
       "    </tr>\n",
       "    <tr>\n",
       "      <th>1</th>\n",
       "      <td>0.181</td>\n",
       "      <td>0.552</td>\n",
       "      <td>0</td>\n",
       "      <td>1</td>\n",
       "    </tr>\n",
       "  </tbody>\n",
       "</table>\n",
       "</div>"
      ],
      "text/plain": [
       "       Proba       Preds    \n",
       "         min   max   min max\n",
       "Labels                      \n",
       "0      0.149 0.531     0   1\n",
       "1      0.181 0.552     0   1"
      ]
     },
     "metadata": {},
     "output_type": "display_data"
    },
    {
     "data": {
      "text/html": [
       "<div>\n",
       "<style scoped>\n",
       "    .dataframe tbody tr th:only-of-type {\n",
       "        vertical-align: middle;\n",
       "    }\n",
       "\n",
       "    .dataframe tbody tr th {\n",
       "        vertical-align: top;\n",
       "    }\n",
       "\n",
       "    .dataframe thead th {\n",
       "        text-align: right;\n",
       "    }\n",
       "</style>\n",
       "<table border=\"1\" class=\"dataframe\">\n",
       "  <thead>\n",
       "    <tr style=\"text-align: right;\">\n",
       "      <th></th>\n",
       "      <th>Proba</th>\n",
       "      <th>Probas</th>\n",
       "      <th>Preds</th>\n",
       "      <th>Labels</th>\n",
       "      <th>Proba</th>\n",
       "      <th>Probas</th>\n",
       "      <th>Preds</th>\n",
       "      <th>Labels</th>\n",
       "      <th>Proba</th>\n",
       "      <th>Probas</th>\n",
       "      <th>Preds</th>\n",
       "      <th>Labels</th>\n",
       "    </tr>\n",
       "  </thead>\n",
       "  <tbody>\n",
       "    <tr>\n",
       "      <th>0</th>\n",
       "      <td>0.466</td>\n",
       "      <td>[0.5344077348709106, 0.46559229493141174]</td>\n",
       "      <td>0</td>\n",
       "      <td>0</td>\n",
       "      <td>0.446</td>\n",
       "      <td>[0.553673267364502, 0.44632673263549805]</td>\n",
       "      <td>0</td>\n",
       "      <td>1</td>\n",
       "      <td>0.449</td>\n",
       "      <td>[0.5513861179351807, 0.44861382246017456]</td>\n",
       "      <td>0</td>\n",
       "      <td>0</td>\n",
       "    </tr>\n",
       "    <tr>\n",
       "      <th>1</th>\n",
       "      <td>0.267</td>\n",
       "      <td>[0.7327166199684143, 0.2672833800315857]</td>\n",
       "      <td>0</td>\n",
       "      <td>0</td>\n",
       "      <td>0.396</td>\n",
       "      <td>[0.6042191982269287, 0.3957808315753937]</td>\n",
       "      <td>0</td>\n",
       "      <td>1</td>\n",
       "      <td>0.503</td>\n",
       "      <td>[0.49652907252311707, 0.5034708976745605]</td>\n",
       "      <td>1</td>\n",
       "      <td>0</td>\n",
       "    </tr>\n",
       "    <tr>\n",
       "      <th>2</th>\n",
       "      <td>0.433</td>\n",
       "      <td>[0.567278265953064, 0.4327217936515808]</td>\n",
       "      <td>0</td>\n",
       "      <td>0</td>\n",
       "      <td>0.334</td>\n",
       "      <td>[0.6660118103027344, 0.3339881896972656]</td>\n",
       "      <td>0</td>\n",
       "      <td>1</td>\n",
       "      <td>0.295</td>\n",
       "      <td>[0.7045407891273499, 0.29545921087265015]</td>\n",
       "      <td>0</td>\n",
       "      <td>0</td>\n",
       "    </tr>\n",
       "    <tr>\n",
       "      <th>3</th>\n",
       "      <td>0.460</td>\n",
       "      <td>[0.540385365486145, 0.45961466431617737]</td>\n",
       "      <td>0</td>\n",
       "      <td>1</td>\n",
       "      <td>0.488</td>\n",
       "      <td>[0.512367308139801, 0.487632691860199]</td>\n",
       "      <td>0</td>\n",
       "      <td>0</td>\n",
       "      <td>0.315</td>\n",
       "      <td>[0.6845744848251343, 0.3154255151748657]</td>\n",
       "      <td>0</td>\n",
       "      <td>1</td>\n",
       "    </tr>\n",
       "    <tr>\n",
       "      <th>4</th>\n",
       "      <td>0.473</td>\n",
       "      <td>[0.5272260904312134, 0.47277384996414185]</td>\n",
       "      <td>0</td>\n",
       "      <td>1</td>\n",
       "      <td>0.516</td>\n",
       "      <td>[0.4836903512477875, 0.5163096785545349]</td>\n",
       "      <td>1</td>\n",
       "      <td>0</td>\n",
       "      <td>0.311</td>\n",
       "      <td>[0.6891961097717285, 0.31080394983291626]</td>\n",
       "      <td>0</td>\n",
       "      <td>1</td>\n",
       "    </tr>\n",
       "  </tbody>\n",
       "</table>\n",
       "</div>"
      ],
      "text/plain": [
       "  Proba                                     Probas Preds Labels Proba  \\\n",
       "0 0.466  [0.5344077348709106, 0.46559229493141174]     0      0 0.446   \n",
       "1 0.267   [0.7327166199684143, 0.2672833800315857]     0      0 0.396   \n",
       "2 0.433    [0.567278265953064, 0.4327217936515808]     0      0 0.334   \n",
       "3 0.460   [0.540385365486145, 0.45961466431617737]     0      1 0.488   \n",
       "4 0.473  [0.5272260904312134, 0.47277384996414185]     0      1 0.516   \n",
       "\n",
       "                                     Probas Preds Labels Proba  \\\n",
       "0  [0.553673267364502, 0.44632673263549805]     0      1 0.449   \n",
       "1  [0.6042191982269287, 0.3957808315753937]     0      1 0.503   \n",
       "2  [0.6660118103027344, 0.3339881896972656]     0      1 0.295   \n",
       "3    [0.512367308139801, 0.487632691860199]     0      0 0.315   \n",
       "4  [0.4836903512477875, 0.5163096785545349]     1      0 0.311   \n",
       "\n",
       "                                      Probas Preds Labels  \n",
       "0  [0.5513861179351807, 0.44861382246017456]     0      0  \n",
       "1  [0.49652907252311707, 0.5034708976745605]     1      0  \n",
       "2  [0.7045407891273499, 0.29545921087265015]     0      0  \n",
       "3   [0.6845744848251343, 0.3154255151748657]     0      1  \n",
       "4  [0.6891961097717285, 0.31080394983291626]     0      1  "
      ]
     },
     "metadata": {},
     "output_type": "display_data"
    },
    {
     "name": "stdout",
     "output_type": "stream",
     "text": [
      "scores =  {'map': '0.6021', 'acc': '0.5320', 'auc': '0.6435'}\n",
      "Epoch =  34 Train = 0.840172 Val = 0.643544\n"
     ]
    },
    {
     "data": {
      "application/vnd.jupyter.widget-view+json": {
       "model_id": "9ae6dfba939e4150be7aaa9eeca82cec",
       "version_major": 2,
       "version_minor": 0
      },
      "text/plain": [
       "HBox(children=(FloatProgress(value=0.0, description='Batches', max=17.0, style=ProgressStyle(description_width…"
      ]
     },
     "metadata": {},
     "output_type": "display_data"
    },
    {
     "name": "stdout",
     "output_type": "stream",
     "text": [
      "\n",
      "Epoch =  35 Loss = 0.448771 LR = 0.00003253\n"
     ]
    },
    {
     "data": {
      "application/vnd.jupyter.widget-view+json": {
       "model_id": "25956bc6c91a4d4e88374a627cdaa064",
       "version_major": 2,
       "version_minor": 0
      },
      "text/plain": [
       "HBox(children=(FloatProgress(value=0.0, description='Batches', max=17.0, style=ProgressStyle(description_width…"
      ]
     },
     "metadata": {},
     "output_type": "display_data"
    },
    {
     "name": "stdout",
     "output_type": "stream",
     "text": [
      "\n",
      "Epoch =  36 Loss = 0.451330 LR = 0.00002824\n"
     ]
    },
    {
     "data": {
      "application/vnd.jupyter.widget-view+json": {
       "model_id": "786c3930d75c4d028c4734144b5ae29b",
       "version_major": 2,
       "version_minor": 0
      },
      "text/plain": [
       "HBox(children=(FloatProgress(value=0.0, description='Batches', max=17.0, style=ProgressStyle(description_width…"
      ]
     },
     "metadata": {},
     "output_type": "display_data"
    },
    {
     "name": "stdout",
     "output_type": "stream",
     "text": [
      "\n",
      "Epoch =  37 Loss = 0.448327 LR = 0.00002413\n"
     ]
    },
    {
     "data": {
      "application/vnd.jupyter.widget-view+json": {
       "model_id": "ee0547a2aacd4ce1acab5dfbb42dda3a",
       "version_major": 2,
       "version_minor": 0
      },
      "text/plain": [
       "HBox(children=(FloatProgress(value=0.0, description='Generate Predictions', max=34.0, style=ProgressStyle(desc…"
      ]
     },
     "metadata": {},
     "output_type": "display_data"
    },
    {
     "name": "stdout",
     "output_type": "stream",
     "text": [
      "\n"
     ]
    },
    {
     "data": {
      "application/vnd.jupyter.widget-view+json": {
       "model_id": "321520bb82844a369e77e6e9cadf0503",
       "version_major": 2,
       "version_minor": 0
      },
      "text/plain": [
       "HBox(children=(FloatProgress(value=0.0, description='Generate Predictions', max=2.0, style=ProgressStyle(descr…"
      ]
     },
     "metadata": {},
     "output_type": "display_data"
    },
    {
     "name": "stdout",
     "output_type": "stream",
     "text": [
      "\n"
     ]
    },
    {
     "data": {
      "text/html": [
       "<div>\n",
       "<style scoped>\n",
       "    .dataframe tbody tr th:only-of-type {\n",
       "        vertical-align: middle;\n",
       "    }\n",
       "\n",
       "    .dataframe tbody tr th {\n",
       "        vertical-align: top;\n",
       "    }\n",
       "\n",
       "    .dataframe thead tr th {\n",
       "        text-align: left;\n",
       "    }\n",
       "\n",
       "    .dataframe thead tr:last-of-type th {\n",
       "        text-align: right;\n",
       "    }\n",
       "</style>\n",
       "<table border=\"1\" class=\"dataframe\">\n",
       "  <thead>\n",
       "    <tr>\n",
       "      <th></th>\n",
       "      <th colspan=\"2\" halign=\"left\">Proba</th>\n",
       "      <th colspan=\"2\" halign=\"left\">Preds</th>\n",
       "    </tr>\n",
       "    <tr>\n",
       "      <th></th>\n",
       "      <th>min</th>\n",
       "      <th>max</th>\n",
       "      <th>min</th>\n",
       "      <th>max</th>\n",
       "    </tr>\n",
       "    <tr>\n",
       "      <th>Labels</th>\n",
       "      <th></th>\n",
       "      <th></th>\n",
       "      <th></th>\n",
       "      <th></th>\n",
       "    </tr>\n",
       "  </thead>\n",
       "  <tbody>\n",
       "    <tr>\n",
       "      <th>0</th>\n",
       "      <td>0.033</td>\n",
       "      <td>0.492</td>\n",
       "      <td>0</td>\n",
       "      <td>0</td>\n",
       "    </tr>\n",
       "    <tr>\n",
       "      <th>1</th>\n",
       "      <td>0.042</td>\n",
       "      <td>0.494</td>\n",
       "      <td>0</td>\n",
       "      <td>0</td>\n",
       "    </tr>\n",
       "  </tbody>\n",
       "</table>\n",
       "</div>"
      ],
      "text/plain": [
       "       Proba       Preds    \n",
       "         min   max   min max\n",
       "Labels                      \n",
       "0      0.033 0.492     0   0\n",
       "1      0.042 0.494     0   0"
      ]
     },
     "metadata": {},
     "output_type": "display_data"
    },
    {
     "data": {
      "text/html": [
       "<div>\n",
       "<style scoped>\n",
       "    .dataframe tbody tr th:only-of-type {\n",
       "        vertical-align: middle;\n",
       "    }\n",
       "\n",
       "    .dataframe tbody tr th {\n",
       "        vertical-align: top;\n",
       "    }\n",
       "\n",
       "    .dataframe thead th {\n",
       "        text-align: right;\n",
       "    }\n",
       "</style>\n",
       "<table border=\"1\" class=\"dataframe\">\n",
       "  <thead>\n",
       "    <tr style=\"text-align: right;\">\n",
       "      <th></th>\n",
       "      <th>Proba</th>\n",
       "      <th>Probas</th>\n",
       "      <th>Preds</th>\n",
       "      <th>Labels</th>\n",
       "      <th>Proba</th>\n",
       "      <th>Probas</th>\n",
       "      <th>Preds</th>\n",
       "      <th>Labels</th>\n",
       "      <th>Proba</th>\n",
       "      <th>Probas</th>\n",
       "      <th>Preds</th>\n",
       "      <th>Labels</th>\n",
       "    </tr>\n",
       "  </thead>\n",
       "  <tbody>\n",
       "    <tr>\n",
       "      <th>0</th>\n",
       "      <td>0.141</td>\n",
       "      <td>[0.8594110012054443, 0.1405889391899109]</td>\n",
       "      <td>0</td>\n",
       "      <td>0</td>\n",
       "      <td>0.369</td>\n",
       "      <td>[0.6314874887466431, 0.3685125410556793]</td>\n",
       "      <td>0</td>\n",
       "      <td>0</td>\n",
       "      <td>0.248</td>\n",
       "      <td>[0.751669704914093, 0.24833029508590698]</td>\n",
       "      <td>0</td>\n",
       "      <td>0</td>\n",
       "    </tr>\n",
       "    <tr>\n",
       "      <th>1</th>\n",
       "      <td>0.414</td>\n",
       "      <td>[0.5857557654380798, 0.41424426436424255]</td>\n",
       "      <td>0</td>\n",
       "      <td>1</td>\n",
       "      <td>0.471</td>\n",
       "      <td>[0.5292710065841675, 0.4707289934158325]</td>\n",
       "      <td>0</td>\n",
       "      <td>1</td>\n",
       "      <td>0.448</td>\n",
       "      <td>[0.5518244504928589, 0.44817548990249634]</td>\n",
       "      <td>0</td>\n",
       "      <td>1</td>\n",
       "    </tr>\n",
       "    <tr>\n",
       "      <th>2</th>\n",
       "      <td>0.424</td>\n",
       "      <td>[0.5755685567855835, 0.4244315028190613]</td>\n",
       "      <td>0</td>\n",
       "      <td>0</td>\n",
       "      <td>0.458</td>\n",
       "      <td>[0.5415646433830261, 0.4584353566169739]</td>\n",
       "      <td>0</td>\n",
       "      <td>1</td>\n",
       "      <td>0.390</td>\n",
       "      <td>[0.609891414642334, 0.390108585357666]</td>\n",
       "      <td>0</td>\n",
       "      <td>1</td>\n",
       "    </tr>\n",
       "    <tr>\n",
       "      <th>3</th>\n",
       "      <td>0.413</td>\n",
       "      <td>[0.5866910219192505, 0.4133089482784271]</td>\n",
       "      <td>0</td>\n",
       "      <td>1</td>\n",
       "      <td>0.330</td>\n",
       "      <td>[0.6695516109466553, 0.3304484188556671]</td>\n",
       "      <td>0</td>\n",
       "      <td>0</td>\n",
       "      <td>0.428</td>\n",
       "      <td>[0.5723395347595215, 0.4276605248451233]</td>\n",
       "      <td>0</td>\n",
       "      <td>1</td>\n",
       "    </tr>\n",
       "    <tr>\n",
       "      <th>4</th>\n",
       "      <td>0.269</td>\n",
       "      <td>[0.7305426597595215, 0.2694573700428009]</td>\n",
       "      <td>0</td>\n",
       "      <td>0</td>\n",
       "      <td>0.351</td>\n",
       "      <td>[0.6490057706832886, 0.3509942293167114]</td>\n",
       "      <td>0</td>\n",
       "      <td>1</td>\n",
       "      <td>0.471</td>\n",
       "      <td>[0.5292710065841675, 0.4707289934158325]</td>\n",
       "      <td>0</td>\n",
       "      <td>1</td>\n",
       "    </tr>\n",
       "  </tbody>\n",
       "</table>\n",
       "</div>"
      ],
      "text/plain": [
       "  Proba                                     Probas Preds Labels Proba  \\\n",
       "0 0.141   [0.8594110012054443, 0.1405889391899109]     0      0 0.369   \n",
       "1 0.414  [0.5857557654380798, 0.41424426436424255]     0      1 0.471   \n",
       "2 0.424   [0.5755685567855835, 0.4244315028190613]     0      0 0.458   \n",
       "3 0.413   [0.5866910219192505, 0.4133089482784271]     0      1 0.330   \n",
       "4 0.269   [0.7305426597595215, 0.2694573700428009]     0      0 0.351   \n",
       "\n",
       "                                     Probas Preds Labels Proba  \\\n",
       "0  [0.6314874887466431, 0.3685125410556793]     0      0 0.248   \n",
       "1  [0.5292710065841675, 0.4707289934158325]     0      1 0.448   \n",
       "2  [0.5415646433830261, 0.4584353566169739]     0      1 0.390   \n",
       "3  [0.6695516109466553, 0.3304484188556671]     0      0 0.428   \n",
       "4  [0.6490057706832886, 0.3509942293167114]     0      1 0.471   \n",
       "\n",
       "                                      Probas Preds Labels  \n",
       "0   [0.751669704914093, 0.24833029508590698]     0      0  \n",
       "1  [0.5518244504928589, 0.44817548990249634]     0      1  \n",
       "2     [0.609891414642334, 0.390108585357666]     0      1  \n",
       "3   [0.5723395347595215, 0.4276605248451233]     0      1  \n",
       "4   [0.5292710065841675, 0.4707289934158325]     0      1  "
      ]
     },
     "metadata": {},
     "output_type": "display_data"
    },
    {
     "name": "stdout",
     "output_type": "stream",
     "text": [
      "scores =  {'map': '0.6072', 'acc': '0.5000', 'auc': '0.6489'}\n",
      "Epoch =  37 Train = 0.846040 Val = 0.648888\n"
     ]
    },
    {
     "data": {
      "application/vnd.jupyter.widget-view+json": {
       "model_id": "1ed1fec90e874c1cbb11b93f91e77e43",
       "version_major": 2,
       "version_minor": 0
      },
      "text/plain": [
       "HBox(children=(FloatProgress(value=0.0, description='Batches', max=17.0, style=ProgressStyle(description_width…"
      ]
     },
     "metadata": {},
     "output_type": "display_data"
    },
    {
     "name": "stdout",
     "output_type": "stream",
     "text": [
      "\n",
      "Epoch =  38 Loss = 0.452470 LR = 0.00002026\n"
     ]
    },
    {
     "data": {
      "application/vnd.jupyter.widget-view+json": {
       "model_id": "51525400a0124385bf30bcb736f423b9",
       "version_major": 2,
       "version_minor": 0
      },
      "text/plain": [
       "HBox(children=(FloatProgress(value=0.0, description='Batches', max=17.0, style=ProgressStyle(description_width…"
      ]
     },
     "metadata": {},
     "output_type": "display_data"
    },
    {
     "name": "stdout",
     "output_type": "stream",
     "text": [
      "\n",
      "Epoch =  39 Loss = 0.450696 LR = 0.00001664\n"
     ]
    },
    {
     "data": {
      "application/vnd.jupyter.widget-view+json": {
       "model_id": "cd1fe1efd9ce4e84848b77a4b007c983",
       "version_major": 2,
       "version_minor": 0
      },
      "text/plain": [
       "HBox(children=(FloatProgress(value=0.0, description='Batches', max=17.0, style=ProgressStyle(description_width…"
      ]
     },
     "metadata": {},
     "output_type": "display_data"
    },
    {
     "name": "stdout",
     "output_type": "stream",
     "text": [
      "\n",
      "Epoch =  40 Loss = 0.450273 LR = 0.00001331\n"
     ]
    },
    {
     "data": {
      "application/vnd.jupyter.widget-view+json": {
       "model_id": "a902c503dd34475ca3b777fe3b77aaaf",
       "version_major": 2,
       "version_minor": 0
      },
      "text/plain": [
       "HBox(children=(FloatProgress(value=0.0, description='Batches', max=17.0, style=ProgressStyle(description_width…"
      ]
     },
     "metadata": {},
     "output_type": "display_data"
    },
    {
     "name": "stdout",
     "output_type": "stream",
     "text": [
      "\n",
      "Epoch =  41 Loss = 0.449442 LR = 0.00001030\n"
     ]
    },
    {
     "data": {
      "application/vnd.jupyter.widget-view+json": {
       "model_id": "978ef0814a0c4de28258c275cc75d85a",
       "version_major": 2,
       "version_minor": 0
      },
      "text/plain": [
       "HBox(children=(FloatProgress(value=0.0, description='Generate Predictions', max=34.0, style=ProgressStyle(desc…"
      ]
     },
     "metadata": {},
     "output_type": "display_data"
    },
    {
     "name": "stdout",
     "output_type": "stream",
     "text": [
      "\n"
     ]
    },
    {
     "data": {
      "application/vnd.jupyter.widget-view+json": {
       "model_id": "74d8e003068543298ce76cf8405a49d3",
       "version_major": 2,
       "version_minor": 0
      },
      "text/plain": [
       "HBox(children=(FloatProgress(value=0.0, description='Generate Predictions', max=2.0, style=ProgressStyle(descr…"
      ]
     },
     "metadata": {},
     "output_type": "display_data"
    },
    {
     "name": "stdout",
     "output_type": "stream",
     "text": [
      "\n"
     ]
    },
    {
     "data": {
      "text/html": [
       "<div>\n",
       "<style scoped>\n",
       "    .dataframe tbody tr th:only-of-type {\n",
       "        vertical-align: middle;\n",
       "    }\n",
       "\n",
       "    .dataframe tbody tr th {\n",
       "        vertical-align: top;\n",
       "    }\n",
       "\n",
       "    .dataframe thead tr th {\n",
       "        text-align: left;\n",
       "    }\n",
       "\n",
       "    .dataframe thead tr:last-of-type th {\n",
       "        text-align: right;\n",
       "    }\n",
       "</style>\n",
       "<table border=\"1\" class=\"dataframe\">\n",
       "  <thead>\n",
       "    <tr>\n",
       "      <th></th>\n",
       "      <th colspan=\"2\" halign=\"left\">Proba</th>\n",
       "      <th colspan=\"2\" halign=\"left\">Preds</th>\n",
       "    </tr>\n",
       "    <tr>\n",
       "      <th></th>\n",
       "      <th>min</th>\n",
       "      <th>max</th>\n",
       "      <th>min</th>\n",
       "      <th>max</th>\n",
       "    </tr>\n",
       "    <tr>\n",
       "      <th>Labels</th>\n",
       "      <th></th>\n",
       "      <th></th>\n",
       "      <th></th>\n",
       "      <th></th>\n",
       "    </tr>\n",
       "  </thead>\n",
       "  <tbody>\n",
       "    <tr>\n",
       "      <th>0</th>\n",
       "      <td>0.007</td>\n",
       "      <td>0.536</td>\n",
       "      <td>0</td>\n",
       "      <td>1</td>\n",
       "    </tr>\n",
       "    <tr>\n",
       "      <th>1</th>\n",
       "      <td>0.008</td>\n",
       "      <td>0.538</td>\n",
       "      <td>0</td>\n",
       "      <td>1</td>\n",
       "    </tr>\n",
       "  </tbody>\n",
       "</table>\n",
       "</div>"
      ],
      "text/plain": [
       "       Proba       Preds    \n",
       "         min   max   min max\n",
       "Labels                      \n",
       "0      0.007 0.536     0   1\n",
       "1      0.008 0.538     0   1"
      ]
     },
     "metadata": {},
     "output_type": "display_data"
    },
    {
     "data": {
      "text/html": [
       "<div>\n",
       "<style scoped>\n",
       "    .dataframe tbody tr th:only-of-type {\n",
       "        vertical-align: middle;\n",
       "    }\n",
       "\n",
       "    .dataframe tbody tr th {\n",
       "        vertical-align: top;\n",
       "    }\n",
       "\n",
       "    .dataframe thead th {\n",
       "        text-align: right;\n",
       "    }\n",
       "</style>\n",
       "<table border=\"1\" class=\"dataframe\">\n",
       "  <thead>\n",
       "    <tr style=\"text-align: right;\">\n",
       "      <th></th>\n",
       "      <th>Proba</th>\n",
       "      <th>Probas</th>\n",
       "      <th>Preds</th>\n",
       "      <th>Labels</th>\n",
       "      <th>Proba</th>\n",
       "      <th>Probas</th>\n",
       "      <th>Preds</th>\n",
       "      <th>Labels</th>\n",
       "      <th>Proba</th>\n",
       "      <th>Probas</th>\n",
       "      <th>Preds</th>\n",
       "      <th>Labels</th>\n",
       "    </tr>\n",
       "  </thead>\n",
       "  <tbody>\n",
       "    <tr>\n",
       "      <th>0</th>\n",
       "      <td>0.516</td>\n",
       "      <td>[0.48431938886642456, 0.5156805515289307]</td>\n",
       "      <td>1</td>\n",
       "      <td>0</td>\n",
       "      <td>0.447</td>\n",
       "      <td>[0.5534967184066772, 0.44650328159332275]</td>\n",
       "      <td>0</td>\n",
       "      <td>1</td>\n",
       "      <td>0.476</td>\n",
       "      <td>[0.5240148901939392, 0.4759851098060608]</td>\n",
       "      <td>0</td>\n",
       "      <td>1</td>\n",
       "    </tr>\n",
       "    <tr>\n",
       "      <th>1</th>\n",
       "      <td>0.473</td>\n",
       "      <td>[0.5267197489738464, 0.4732802212238312]</td>\n",
       "      <td>0</td>\n",
       "      <td>1</td>\n",
       "      <td>0.421</td>\n",
       "      <td>[0.5787713527679443, 0.42122864723205566]</td>\n",
       "      <td>0</td>\n",
       "      <td>1</td>\n",
       "      <td>0.220</td>\n",
       "      <td>[0.7799796462059021, 0.2200203686952591]</td>\n",
       "      <td>0</td>\n",
       "      <td>0</td>\n",
       "    </tr>\n",
       "    <tr>\n",
       "      <th>2</th>\n",
       "      <td>0.351</td>\n",
       "      <td>[0.6487204432487488, 0.3512795865535736]</td>\n",
       "      <td>0</td>\n",
       "      <td>0</td>\n",
       "      <td>0.039</td>\n",
       "      <td>[0.961204469203949, 0.03879553824663162]</td>\n",
       "      <td>0</td>\n",
       "      <td>0</td>\n",
       "      <td>0.507</td>\n",
       "      <td>[0.49277347326278687, 0.5072265267372131]</td>\n",
       "      <td>1</td>\n",
       "      <td>1</td>\n",
       "    </tr>\n",
       "    <tr>\n",
       "      <th>3</th>\n",
       "      <td>0.215</td>\n",
       "      <td>[0.7851301431655884, 0.21486985683441162]</td>\n",
       "      <td>0</td>\n",
       "      <td>0</td>\n",
       "      <td>0.352</td>\n",
       "      <td>[0.6479186415672302, 0.3520813584327698]</td>\n",
       "      <td>0</td>\n",
       "      <td>1</td>\n",
       "      <td>0.261</td>\n",
       "      <td>[0.7386264801025391, 0.2613735795021057]</td>\n",
       "      <td>0</td>\n",
       "      <td>0</td>\n",
       "    </tr>\n",
       "    <tr>\n",
       "      <th>4</th>\n",
       "      <td>0.305</td>\n",
       "      <td>[0.6951888799667358, 0.30481114983558655]</td>\n",
       "      <td>0</td>\n",
       "      <td>0</td>\n",
       "      <td>0.493</td>\n",
       "      <td>[0.5070685148239136, 0.4929314851760864]</td>\n",
       "      <td>0</td>\n",
       "      <td>0</td>\n",
       "      <td>0.508</td>\n",
       "      <td>[0.49165356159210205, 0.508346438407898]</td>\n",
       "      <td>1</td>\n",
       "      <td>0</td>\n",
       "    </tr>\n",
       "  </tbody>\n",
       "</table>\n",
       "</div>"
      ],
      "text/plain": [
       "  Proba                                     Probas Preds Labels Proba  \\\n",
       "0 0.516  [0.48431938886642456, 0.5156805515289307]     1      0 0.447   \n",
       "1 0.473   [0.5267197489738464, 0.4732802212238312]     0      1 0.421   \n",
       "2 0.351   [0.6487204432487488, 0.3512795865535736]     0      0 0.039   \n",
       "3 0.215  [0.7851301431655884, 0.21486985683441162]     0      0 0.352   \n",
       "4 0.305  [0.6951888799667358, 0.30481114983558655]     0      0 0.493   \n",
       "\n",
       "                                      Probas Preds Labels Proba  \\\n",
       "0  [0.5534967184066772, 0.44650328159332275]     0      1 0.476   \n",
       "1  [0.5787713527679443, 0.42122864723205566]     0      1 0.220   \n",
       "2   [0.961204469203949, 0.03879553824663162]     0      0 0.507   \n",
       "3   [0.6479186415672302, 0.3520813584327698]     0      1 0.261   \n",
       "4   [0.5070685148239136, 0.4929314851760864]     0      0 0.508   \n",
       "\n",
       "                                      Probas Preds Labels  \n",
       "0   [0.5240148901939392, 0.4759851098060608]     0      1  \n",
       "1   [0.7799796462059021, 0.2200203686952591]     0      0  \n",
       "2  [0.49277347326278687, 0.5072265267372131]     1      1  \n",
       "3   [0.7386264801025391, 0.2613735795021057]     0      0  \n",
       "4   [0.49165356159210205, 0.508346438407898]     1      0  "
      ]
     },
     "metadata": {},
     "output_type": "display_data"
    },
    {
     "name": "stdout",
     "output_type": "stream",
     "text": [
      "scores =  {'map': '0.6055', 'acc': '0.5220', 'auc': '0.6468'}\n",
      "Epoch =  41 Train = 0.852030 Val = 0.646776\n"
     ]
    },
    {
     "data": {
      "application/vnd.jupyter.widget-view+json": {
       "model_id": "2fb58bba44104d19b1f1a4fabe5e8af6",
       "version_major": 2,
       "version_minor": 0
      },
      "text/plain": [
       "HBox(children=(FloatProgress(value=0.0, description='Batches', max=17.0, style=ProgressStyle(description_width…"
      ]
     },
     "metadata": {},
     "output_type": "display_data"
    },
    {
     "name": "stdout",
     "output_type": "stream",
     "text": [
      "\n",
      "Epoch =  42 Loss = 0.442624 LR = 0.00000764\n"
     ]
    },
    {
     "data": {
      "application/vnd.jupyter.widget-view+json": {
       "model_id": "b3a9847cf7954f709aacd867e9d7e2b6",
       "version_major": 2,
       "version_minor": 0
      },
      "text/plain": [
       "HBox(children=(FloatProgress(value=0.0, description='Batches', max=17.0, style=ProgressStyle(description_width…"
      ]
     },
     "metadata": {},
     "output_type": "display_data"
    },
    {
     "name": "stdout",
     "output_type": "stream",
     "text": [
      "\n",
      "Epoch =  43 Loss = 0.449945 LR = 0.00000535\n"
     ]
    },
    {
     "data": {
      "application/vnd.jupyter.widget-view+json": {
       "model_id": "058a205ef9bd418eb3b79a9b5cfe7df8",
       "version_major": 2,
       "version_minor": 0
      },
      "text/plain": [
       "HBox(children=(FloatProgress(value=0.0, description='Batches', max=17.0, style=ProgressStyle(description_width…"
      ]
     },
     "metadata": {},
     "output_type": "display_data"
    },
    {
     "name": "stdout",
     "output_type": "stream",
     "text": [
      "\n",
      "Epoch =  44 Loss = 0.444062 LR = 0.00000345\n"
     ]
    },
    {
     "data": {
      "application/vnd.jupyter.widget-view+json": {
       "model_id": "944ada60b3b042e183754480b21e4ba3",
       "version_major": 2,
       "version_minor": 0
      },
      "text/plain": [
       "HBox(children=(FloatProgress(value=0.0, description='Generate Predictions', max=34.0, style=ProgressStyle(desc…"
      ]
     },
     "metadata": {},
     "output_type": "display_data"
    },
    {
     "name": "stdout",
     "output_type": "stream",
     "text": [
      "\n"
     ]
    },
    {
     "data": {
      "application/vnd.jupyter.widget-view+json": {
       "model_id": "ac3015a13b334f31ae1de3a07cc68106",
       "version_major": 2,
       "version_minor": 0
      },
      "text/plain": [
       "HBox(children=(FloatProgress(value=0.0, description='Generate Predictions', max=2.0, style=ProgressStyle(descr…"
      ]
     },
     "metadata": {},
     "output_type": "display_data"
    },
    {
     "name": "stdout",
     "output_type": "stream",
     "text": [
      "\n"
     ]
    },
    {
     "data": {
      "text/html": [
       "<div>\n",
       "<style scoped>\n",
       "    .dataframe tbody tr th:only-of-type {\n",
       "        vertical-align: middle;\n",
       "    }\n",
       "\n",
       "    .dataframe tbody tr th {\n",
       "        vertical-align: top;\n",
       "    }\n",
       "\n",
       "    .dataframe thead tr th {\n",
       "        text-align: left;\n",
       "    }\n",
       "\n",
       "    .dataframe thead tr:last-of-type th {\n",
       "        text-align: right;\n",
       "    }\n",
       "</style>\n",
       "<table border=\"1\" class=\"dataframe\">\n",
       "  <thead>\n",
       "    <tr>\n",
       "      <th></th>\n",
       "      <th colspan=\"2\" halign=\"left\">Proba</th>\n",
       "      <th colspan=\"2\" halign=\"left\">Preds</th>\n",
       "    </tr>\n",
       "    <tr>\n",
       "      <th></th>\n",
       "      <th>min</th>\n",
       "      <th>max</th>\n",
       "      <th>min</th>\n",
       "      <th>max</th>\n",
       "    </tr>\n",
       "    <tr>\n",
       "      <th>Labels</th>\n",
       "      <th></th>\n",
       "      <th></th>\n",
       "      <th></th>\n",
       "      <th></th>\n",
       "    </tr>\n",
       "  </thead>\n",
       "  <tbody>\n",
       "    <tr>\n",
       "      <th>0</th>\n",
       "      <td>0.005</td>\n",
       "      <td>0.544</td>\n",
       "      <td>0</td>\n",
       "      <td>1</td>\n",
       "    </tr>\n",
       "    <tr>\n",
       "      <th>1</th>\n",
       "      <td>0.005</td>\n",
       "      <td>0.546</td>\n",
       "      <td>0</td>\n",
       "      <td>1</td>\n",
       "    </tr>\n",
       "  </tbody>\n",
       "</table>\n",
       "</div>"
      ],
      "text/plain": [
       "       Proba       Preds    \n",
       "         min   max   min max\n",
       "Labels                      \n",
       "0      0.005 0.544     0   1\n",
       "1      0.005 0.546     0   1"
      ]
     },
     "metadata": {},
     "output_type": "display_data"
    },
    {
     "data": {
      "text/html": [
       "<div>\n",
       "<style scoped>\n",
       "    .dataframe tbody tr th:only-of-type {\n",
       "        vertical-align: middle;\n",
       "    }\n",
       "\n",
       "    .dataframe tbody tr th {\n",
       "        vertical-align: top;\n",
       "    }\n",
       "\n",
       "    .dataframe thead th {\n",
       "        text-align: right;\n",
       "    }\n",
       "</style>\n",
       "<table border=\"1\" class=\"dataframe\">\n",
       "  <thead>\n",
       "    <tr style=\"text-align: right;\">\n",
       "      <th></th>\n",
       "      <th>Proba</th>\n",
       "      <th>Probas</th>\n",
       "      <th>Preds</th>\n",
       "      <th>Labels</th>\n",
       "      <th>Proba</th>\n",
       "      <th>Probas</th>\n",
       "      <th>Preds</th>\n",
       "      <th>Labels</th>\n",
       "      <th>Proba</th>\n",
       "      <th>Probas</th>\n",
       "      <th>Preds</th>\n",
       "      <th>Labels</th>\n",
       "    </tr>\n",
       "  </thead>\n",
       "  <tbody>\n",
       "    <tr>\n",
       "      <th>0</th>\n",
       "      <td>0.467</td>\n",
       "      <td>[0.5332367420196533, 0.4667632579803467]</td>\n",
       "      <td>0</td>\n",
       "      <td>0</td>\n",
       "      <td>0.473</td>\n",
       "      <td>[0.527170717716217, 0.47282928228378296]</td>\n",
       "      <td>0</td>\n",
       "      <td>0</td>\n",
       "      <td>0.499</td>\n",
       "      <td>[0.5009151697158813, 0.49908480048179626]</td>\n",
       "      <td>0</td>\n",
       "      <td>0</td>\n",
       "    </tr>\n",
       "    <tr>\n",
       "      <th>1</th>\n",
       "      <td>0.488</td>\n",
       "      <td>[0.5117480158805847, 0.4882519543170929]</td>\n",
       "      <td>0</td>\n",
       "      <td>1</td>\n",
       "      <td>0.498</td>\n",
       "      <td>[0.5023871660232544, 0.4976128339767456]</td>\n",
       "      <td>0</td>\n",
       "      <td>1</td>\n",
       "      <td>0.507</td>\n",
       "      <td>[0.49266737699508667, 0.5073326230049133]</td>\n",
       "      <td>1</td>\n",
       "      <td>0</td>\n",
       "    </tr>\n",
       "    <tr>\n",
       "      <th>2</th>\n",
       "      <td>0.458</td>\n",
       "      <td>[0.5424860715866089, 0.4575139582157135]</td>\n",
       "      <td>0</td>\n",
       "      <td>0</td>\n",
       "      <td>0.494</td>\n",
       "      <td>[0.5059670209884644, 0.49403297901153564]</td>\n",
       "      <td>0</td>\n",
       "      <td>1</td>\n",
       "      <td>0.525</td>\n",
       "      <td>[0.4754680097103119, 0.5245320200920105]</td>\n",
       "      <td>1</td>\n",
       "      <td>0</td>\n",
       "    </tr>\n",
       "    <tr>\n",
       "      <th>3</th>\n",
       "      <td>0.475</td>\n",
       "      <td>[0.5253366231918335, 0.4746634364128113]</td>\n",
       "      <td>0</td>\n",
       "      <td>1</td>\n",
       "      <td>0.529</td>\n",
       "      <td>[0.4709714651107788, 0.5290285348892212]</td>\n",
       "      <td>1</td>\n",
       "      <td>1</td>\n",
       "      <td>0.198</td>\n",
       "      <td>[0.8019843101501465, 0.19801566004753113]</td>\n",
       "      <td>0</td>\n",
       "      <td>0</td>\n",
       "    </tr>\n",
       "    <tr>\n",
       "      <th>4</th>\n",
       "      <td>0.505</td>\n",
       "      <td>[0.4950425326824188, 0.5049574375152588]</td>\n",
       "      <td>1</td>\n",
       "      <td>1</td>\n",
       "      <td>0.376</td>\n",
       "      <td>[0.6236120462417603, 0.37638789415359497]</td>\n",
       "      <td>0</td>\n",
       "      <td>0</td>\n",
       "      <td>0.493</td>\n",
       "      <td>[0.506958544254303, 0.493041455745697]</td>\n",
       "      <td>0</td>\n",
       "      <td>1</td>\n",
       "    </tr>\n",
       "  </tbody>\n",
       "</table>\n",
       "</div>"
      ],
      "text/plain": [
       "  Proba                                    Probas Preds Labels Proba  \\\n",
       "0 0.467  [0.5332367420196533, 0.4667632579803467]     0      0 0.473   \n",
       "1 0.488  [0.5117480158805847, 0.4882519543170929]     0      1 0.498   \n",
       "2 0.458  [0.5424860715866089, 0.4575139582157135]     0      0 0.494   \n",
       "3 0.475  [0.5253366231918335, 0.4746634364128113]     0      1 0.529   \n",
       "4 0.505  [0.4950425326824188, 0.5049574375152588]     1      1 0.376   \n",
       "\n",
       "                                      Probas Preds Labels Proba  \\\n",
       "0   [0.527170717716217, 0.47282928228378296]     0      0 0.499   \n",
       "1   [0.5023871660232544, 0.4976128339767456]     0      1 0.507   \n",
       "2  [0.5059670209884644, 0.49403297901153564]     0      1 0.525   \n",
       "3   [0.4709714651107788, 0.5290285348892212]     1      1 0.198   \n",
       "4  [0.6236120462417603, 0.37638789415359497]     0      0 0.493   \n",
       "\n",
       "                                      Probas Preds Labels  \n",
       "0  [0.5009151697158813, 0.49908480048179626]     0      0  \n",
       "1  [0.49266737699508667, 0.5073326230049133]     1      0  \n",
       "2   [0.4754680097103119, 0.5245320200920105]     1      0  \n",
       "3  [0.8019843101501465, 0.19801566004753113]     0      0  \n",
       "4     [0.506958544254303, 0.493041455745697]     0      1  "
      ]
     },
     "metadata": {},
     "output_type": "display_data"
    },
    {
     "name": "stdout",
     "output_type": "stream",
     "text": [
      "scores =  {'map': '0.6056', 'acc': '0.5520', 'auc': '0.6470'}\n",
      "Epoch =  44 Train = 0.853793 Val = 0.647048\n"
     ]
    },
    {
     "data": {
      "application/vnd.jupyter.widget-view+json": {
       "model_id": "713ab7bb2e254dbc85260259a7c2f282",
       "version_major": 2,
       "version_minor": 0
      },
      "text/plain": [
       "HBox(children=(FloatProgress(value=0.0, description='Batches', max=17.0, style=ProgressStyle(description_width…"
      ]
     },
     "metadata": {},
     "output_type": "display_data"
    },
    {
     "name": "stdout",
     "output_type": "stream",
     "text": [
      "\n",
      "Epoch =  45 Loss = 0.444019 LR = 0.00000195\n"
     ]
    },
    {
     "data": {
      "application/vnd.jupyter.widget-view+json": {
       "model_id": "9497bce55d534ba1b5dbb6e421a2fd10",
       "version_major": 2,
       "version_minor": 0
      },
      "text/plain": [
       "HBox(children=(FloatProgress(value=0.0, description='Batches', max=17.0, style=ProgressStyle(description_width…"
      ]
     },
     "metadata": {},
     "output_type": "display_data"
    },
    {
     "name": "stdout",
     "output_type": "stream",
     "text": [
      "\n",
      "Epoch =  46 Loss = 0.446247 LR = 0.00000087\n"
     ]
    },
    {
     "data": {
      "application/vnd.jupyter.widget-view+json": {
       "model_id": "5659412a47a34a8b911d090ebf76ea1f",
       "version_major": 2,
       "version_minor": 0
      },
      "text/plain": [
       "HBox(children=(FloatProgress(value=0.0, description='Batches', max=17.0, style=ProgressStyle(description_width…"
      ]
     },
     "metadata": {},
     "output_type": "display_data"
    },
    {
     "name": "stdout",
     "output_type": "stream",
     "text": [
      "\n",
      "Epoch =  47 Loss = 0.446875 LR = 0.00000022\n"
     ]
    },
    {
     "data": {
      "application/vnd.jupyter.widget-view+json": {
       "model_id": "63f78588952745be814d46111531e1d2",
       "version_major": 2,
       "version_minor": 0
      },
      "text/plain": [
       "HBox(children=(FloatProgress(value=0.0, description='Generate Predictions', max=34.0, style=ProgressStyle(desc…"
      ]
     },
     "metadata": {},
     "output_type": "display_data"
    },
    {
     "name": "stdout",
     "output_type": "stream",
     "text": [
      "\n"
     ]
    },
    {
     "data": {
      "application/vnd.jupyter.widget-view+json": {
       "model_id": "20297f7e4e8c42e6bd84b6fea3408425",
       "version_major": 2,
       "version_minor": 0
      },
      "text/plain": [
       "HBox(children=(FloatProgress(value=0.0, description='Generate Predictions', max=2.0, style=ProgressStyle(descr…"
      ]
     },
     "metadata": {},
     "output_type": "display_data"
    },
    {
     "name": "stdout",
     "output_type": "stream",
     "text": [
      "\n"
     ]
    },
    {
     "data": {
      "text/html": [
       "<div>\n",
       "<style scoped>\n",
       "    .dataframe tbody tr th:only-of-type {\n",
       "        vertical-align: middle;\n",
       "    }\n",
       "\n",
       "    .dataframe tbody tr th {\n",
       "        vertical-align: top;\n",
       "    }\n",
       "\n",
       "    .dataframe thead tr th {\n",
       "        text-align: left;\n",
       "    }\n",
       "\n",
       "    .dataframe thead tr:last-of-type th {\n",
       "        text-align: right;\n",
       "    }\n",
       "</style>\n",
       "<table border=\"1\" class=\"dataframe\">\n",
       "  <thead>\n",
       "    <tr>\n",
       "      <th></th>\n",
       "      <th colspan=\"2\" halign=\"left\">Proba</th>\n",
       "      <th colspan=\"2\" halign=\"left\">Preds</th>\n",
       "    </tr>\n",
       "    <tr>\n",
       "      <th></th>\n",
       "      <th>min</th>\n",
       "      <th>max</th>\n",
       "      <th>min</th>\n",
       "      <th>max</th>\n",
       "    </tr>\n",
       "    <tr>\n",
       "      <th>Labels</th>\n",
       "      <th></th>\n",
       "      <th></th>\n",
       "      <th></th>\n",
       "      <th></th>\n",
       "    </tr>\n",
       "  </thead>\n",
       "  <tbody>\n",
       "    <tr>\n",
       "      <th>0</th>\n",
       "      <td>0.005</td>\n",
       "      <td>0.544</td>\n",
       "      <td>0</td>\n",
       "      <td>1</td>\n",
       "    </tr>\n",
       "    <tr>\n",
       "      <th>1</th>\n",
       "      <td>0.005</td>\n",
       "      <td>0.546</td>\n",
       "      <td>0</td>\n",
       "      <td>1</td>\n",
       "    </tr>\n",
       "  </tbody>\n",
       "</table>\n",
       "</div>"
      ],
      "text/plain": [
       "       Proba       Preds    \n",
       "         min   max   min max\n",
       "Labels                      \n",
       "0      0.005 0.544     0   1\n",
       "1      0.005 0.546     0   1"
      ]
     },
     "metadata": {},
     "output_type": "display_data"
    },
    {
     "data": {
      "text/html": [
       "<div>\n",
       "<style scoped>\n",
       "    .dataframe tbody tr th:only-of-type {\n",
       "        vertical-align: middle;\n",
       "    }\n",
       "\n",
       "    .dataframe tbody tr th {\n",
       "        vertical-align: top;\n",
       "    }\n",
       "\n",
       "    .dataframe thead th {\n",
       "        text-align: right;\n",
       "    }\n",
       "</style>\n",
       "<table border=\"1\" class=\"dataframe\">\n",
       "  <thead>\n",
       "    <tr style=\"text-align: right;\">\n",
       "      <th></th>\n",
       "      <th>Proba</th>\n",
       "      <th>Probas</th>\n",
       "      <th>Preds</th>\n",
       "      <th>Labels</th>\n",
       "      <th>Proba</th>\n",
       "      <th>Probas</th>\n",
       "      <th>Preds</th>\n",
       "      <th>Labels</th>\n",
       "      <th>Proba</th>\n",
       "      <th>Probas</th>\n",
       "      <th>Preds</th>\n",
       "      <th>Labels</th>\n",
       "    </tr>\n",
       "  </thead>\n",
       "  <tbody>\n",
       "    <tr>\n",
       "      <th>0</th>\n",
       "      <td>0.063</td>\n",
       "      <td>[0.9371981024742126, 0.06280190497636795]</td>\n",
       "      <td>0</td>\n",
       "      <td>0</td>\n",
       "      <td>0.192</td>\n",
       "      <td>[0.8081372380256653, 0.19186276197433472]</td>\n",
       "      <td>0</td>\n",
       "      <td>0</td>\n",
       "      <td>0.229</td>\n",
       "      <td>[0.7705118656158447, 0.22948819398880005]</td>\n",
       "      <td>0</td>\n",
       "      <td>0</td>\n",
       "    </tr>\n",
       "    <tr>\n",
       "      <th>1</th>\n",
       "      <td>0.410</td>\n",
       "      <td>[0.5902296304702759, 0.4097703695297241]</td>\n",
       "      <td>0</td>\n",
       "      <td>0</td>\n",
       "      <td>0.127</td>\n",
       "      <td>[0.873375415802002, 0.12662461400032043]</td>\n",
       "      <td>0</td>\n",
       "      <td>0</td>\n",
       "      <td>0.125</td>\n",
       "      <td>[0.8751279711723328, 0.12487202137708664]</td>\n",
       "      <td>0</td>\n",
       "      <td>0</td>\n",
       "    </tr>\n",
       "    <tr>\n",
       "      <th>2</th>\n",
       "      <td>0.345</td>\n",
       "      <td>[0.6551599502563477, 0.34484007954597473]</td>\n",
       "      <td>0</td>\n",
       "      <td>0</td>\n",
       "      <td>0.494</td>\n",
       "      <td>[0.506129264831543, 0.49387067556381226]</td>\n",
       "      <td>0</td>\n",
       "      <td>0</td>\n",
       "      <td>0.463</td>\n",
       "      <td>[0.5374051928520203, 0.46259480714797974]</td>\n",
       "      <td>0</td>\n",
       "      <td>1</td>\n",
       "    </tr>\n",
       "    <tr>\n",
       "      <th>3</th>\n",
       "      <td>0.491</td>\n",
       "      <td>[0.5086734294891357, 0.49132657051086426]</td>\n",
       "      <td>0</td>\n",
       "      <td>0</td>\n",
       "      <td>0.414</td>\n",
       "      <td>[0.5861639976501465, 0.4138360023498535]</td>\n",
       "      <td>0</td>\n",
       "      <td>0</td>\n",
       "      <td>0.457</td>\n",
       "      <td>[0.5432940125465393, 0.4567059874534607]</td>\n",
       "      <td>0</td>\n",
       "      <td>1</td>\n",
       "    </tr>\n",
       "    <tr>\n",
       "      <th>4</th>\n",
       "      <td>0.517</td>\n",
       "      <td>[0.4828543961048126, 0.5171456336975098]</td>\n",
       "      <td>1</td>\n",
       "      <td>1</td>\n",
       "      <td>0.507</td>\n",
       "      <td>[0.49255114793777466, 0.5074488520622253]</td>\n",
       "      <td>1</td>\n",
       "      <td>1</td>\n",
       "      <td>0.418</td>\n",
       "      <td>[0.5823034048080444, 0.41769659519195557]</td>\n",
       "      <td>0</td>\n",
       "      <td>1</td>\n",
       "    </tr>\n",
       "  </tbody>\n",
       "</table>\n",
       "</div>"
      ],
      "text/plain": [
       "  Proba                                     Probas Preds Labels Proba  \\\n",
       "0 0.063  [0.9371981024742126, 0.06280190497636795]     0      0 0.192   \n",
       "1 0.410   [0.5902296304702759, 0.4097703695297241]     0      0 0.127   \n",
       "2 0.345  [0.6551599502563477, 0.34484007954597473]     0      0 0.494   \n",
       "3 0.491  [0.5086734294891357, 0.49132657051086426]     0      0 0.414   \n",
       "4 0.517   [0.4828543961048126, 0.5171456336975098]     1      1 0.507   \n",
       "\n",
       "                                      Probas Preds Labels Proba  \\\n",
       "0  [0.8081372380256653, 0.19186276197433472]     0      0 0.229   \n",
       "1   [0.873375415802002, 0.12662461400032043]     0      0 0.125   \n",
       "2   [0.506129264831543, 0.49387067556381226]     0      0 0.463   \n",
       "3   [0.5861639976501465, 0.4138360023498535]     0      0 0.457   \n",
       "4  [0.49255114793777466, 0.5074488520622253]     1      1 0.418   \n",
       "\n",
       "                                      Probas Preds Labels  \n",
       "0  [0.7705118656158447, 0.22948819398880005]     0      0  \n",
       "1  [0.8751279711723328, 0.12487202137708664]     0      0  \n",
       "2  [0.5374051928520203, 0.46259480714797974]     0      1  \n",
       "3   [0.5432940125465393, 0.4567059874534607]     0      1  \n",
       "4  [0.5823034048080444, 0.41769659519195557]     0      1  "
      ]
     },
     "metadata": {},
     "output_type": "display_data"
    },
    {
     "name": "stdout",
     "output_type": "stream",
     "text": [
      "scores =  {'map': '0.6050', 'acc': '0.5340', 'auc': '0.6464'}\n",
      "Epoch =  47 Train = 0.854135 Val = 0.646408\n"
     ]
    },
    {
     "data": {
      "application/vnd.jupyter.widget-view+json": {
       "model_id": "2eee47ce3f5c434596b3b1bce6fc1754",
       "version_major": 2,
       "version_minor": 0
      },
      "text/plain": [
       "HBox(children=(FloatProgress(value=0.0, description='Batches', max=17.0, style=ProgressStyle(description_width…"
      ]
     },
     "metadata": {},
     "output_type": "display_data"
    },
    {
     "name": "stdout",
     "output_type": "stream",
     "text": [
      "\n",
      "Epoch =  48 Loss = 0.449241 LR = 0.00000000\n",
      "\n"
     ]
    },
    {
     "data": {
      "image/png": "[encoded data removed]",
      "text/plain": [
       "<Figure size 576x576 with 2 Axes>"
      ]
     },
     "metadata": {
      "image/png": {
       "height": 567,
       "width": 568
      },
      "needs_background": "light"
     },
     "output_type": "display_data"
    },
    {
     "data": {
      "application/vnd.jupyter.widget-view+json": {
       "model_id": "aae9b0be2734457c916b5506483cac2a",
       "version_major": 2,
       "version_minor": 0
      },
      "text/plain": [
       "HBox(children=(FloatProgress(value=0.0, description='Generate Predictions', max=2.0, style=ProgressStyle(descr…"
      ]
     },
     "metadata": {},
     "output_type": "display_data"
    },
    {
     "name": "stdout",
     "output_type": "stream",
     "text": [
      "\n"
     ]
    },
    {
     "data": {
      "text/html": [
       "<div>\n",
       "<style scoped>\n",
       "    .dataframe tbody tr th:only-of-type {\n",
       "        vertical-align: middle;\n",
       "    }\n",
       "\n",
       "    .dataframe tbody tr th {\n",
       "        vertical-align: top;\n",
       "    }\n",
       "\n",
       "    .dataframe thead tr th {\n",
       "        text-align: left;\n",
       "    }\n",
       "\n",
       "    .dataframe thead tr:last-of-type th {\n",
       "        text-align: right;\n",
       "    }\n",
       "</style>\n",
       "<table border=\"1\" class=\"dataframe\">\n",
       "  <thead>\n",
       "    <tr>\n",
       "      <th></th>\n",
       "      <th colspan=\"2\" halign=\"left\">Proba</th>\n",
       "      <th colspan=\"2\" halign=\"left\">Preds</th>\n",
       "    </tr>\n",
       "    <tr>\n",
       "      <th></th>\n",
       "      <th>min</th>\n",
       "      <th>max</th>\n",
       "      <th>min</th>\n",
       "      <th>max</th>\n",
       "    </tr>\n",
       "    <tr>\n",
       "      <th>Labels</th>\n",
       "      <th></th>\n",
       "      <th></th>\n",
       "      <th></th>\n",
       "      <th></th>\n",
       "    </tr>\n",
       "  </thead>\n",
       "  <tbody>\n",
       "    <tr>\n",
       "      <th>0</th>\n",
       "      <td>0.005</td>\n",
       "      <td>0.544</td>\n",
       "      <td>0</td>\n",
       "      <td>1</td>\n",
       "    </tr>\n",
       "    <tr>\n",
       "      <th>1</th>\n",
       "      <td>0.005</td>\n",
       "      <td>0.546</td>\n",
       "      <td>0</td>\n",
       "      <td>1</td>\n",
       "    </tr>\n",
       "  </tbody>\n",
       "</table>\n",
       "</div>"
      ],
      "text/plain": [
       "       Proba       Preds    \n",
       "         min   max   min max\n",
       "Labels                      \n",
       "0      0.005 0.544     0   1\n",
       "1      0.005 0.546     0   1"
      ]
     },
     "metadata": {},
     "output_type": "display_data"
    },
    {
     "data": {
      "text/html": [
       "<div>\n",
       "<style scoped>\n",
       "    .dataframe tbody tr th:only-of-type {\n",
       "        vertical-align: middle;\n",
       "    }\n",
       "\n",
       "    .dataframe tbody tr th {\n",
       "        vertical-align: top;\n",
       "    }\n",
       "\n",
       "    .dataframe thead th {\n",
       "        text-align: right;\n",
       "    }\n",
       "</style>\n",
       "<table border=\"1\" class=\"dataframe\">\n",
       "  <thead>\n",
       "    <tr style=\"text-align: right;\">\n",
       "      <th></th>\n",
       "      <th>Proba</th>\n",
       "      <th>Probas</th>\n",
       "      <th>Preds</th>\n",
       "      <th>Labels</th>\n",
       "      <th>Proba</th>\n",
       "      <th>Probas</th>\n",
       "      <th>Preds</th>\n",
       "      <th>Labels</th>\n",
       "      <th>Proba</th>\n",
       "      <th>Probas</th>\n",
       "      <th>Preds</th>\n",
       "      <th>Labels</th>\n",
       "    </tr>\n",
       "  </thead>\n",
       "  <tbody>\n",
       "    <tr>\n",
       "      <th>0</th>\n",
       "      <td>0.495</td>\n",
       "      <td>[0.5046037435531616, 0.49539628624916077]</td>\n",
       "      <td>0</td>\n",
       "      <td>1</td>\n",
       "      <td>0.463</td>\n",
       "      <td>[0.5367630124092102, 0.4632369875907898]</td>\n",
       "      <td>0</td>\n",
       "      <td>0</td>\n",
       "      <td>0.484</td>\n",
       "      <td>[0.5156912207603455, 0.48430877923965454]</td>\n",
       "      <td>0</td>\n",
       "      <td>0</td>\n",
       "    </tr>\n",
       "    <tr>\n",
       "      <th>1</th>\n",
       "      <td>0.467</td>\n",
       "      <td>[0.5331155061721802, 0.4668845236301422]</td>\n",
       "      <td>0</td>\n",
       "      <td>1</td>\n",
       "      <td>0.058</td>\n",
       "      <td>[0.9424941539764404, 0.05750580132007599]</td>\n",
       "      <td>0</td>\n",
       "      <td>0</td>\n",
       "      <td>0.479</td>\n",
       "      <td>[0.5214051008224487, 0.47859495878219604]</td>\n",
       "      <td>0</td>\n",
       "      <td>1</td>\n",
       "    </tr>\n",
       "    <tr>\n",
       "      <th>2</th>\n",
       "      <td>0.478</td>\n",
       "      <td>[0.5215041041374207, 0.47849589586257935]</td>\n",
       "      <td>0</td>\n",
       "      <td>1</td>\n",
       "      <td>0.464</td>\n",
       "      <td>[0.5359055995941162, 0.4640944004058838]</td>\n",
       "      <td>0</td>\n",
       "      <td>1</td>\n",
       "      <td>0.498</td>\n",
       "      <td>[0.501842200756073, 0.498157799243927]</td>\n",
       "      <td>0</td>\n",
       "      <td>1</td>\n",
       "    </tr>\n",
       "    <tr>\n",
       "      <th>3</th>\n",
       "      <td>0.504</td>\n",
       "      <td>[0.49577391147613525, 0.5042260885238647]</td>\n",
       "      <td>1</td>\n",
       "      <td>0</td>\n",
       "      <td>0.478</td>\n",
       "      <td>[0.5221670269966125, 0.47783297300338745]</td>\n",
       "      <td>0</td>\n",
       "      <td>0</td>\n",
       "      <td>0.462</td>\n",
       "      <td>[0.5375398993492126, 0.46246013045310974]</td>\n",
       "      <td>0</td>\n",
       "      <td>1</td>\n",
       "    </tr>\n",
       "    <tr>\n",
       "      <th>4</th>\n",
       "      <td>0.449</td>\n",
       "      <td>[0.5512950420379639, 0.4487049877643585]</td>\n",
       "      <td>0</td>\n",
       "      <td>0</td>\n",
       "      <td>0.436</td>\n",
       "      <td>[0.5644972324371338, 0.4355027675628662]</td>\n",
       "      <td>0</td>\n",
       "      <td>0</td>\n",
       "      <td>0.203</td>\n",
       "      <td>[0.7974177598953247, 0.20258229970932007]</td>\n",
       "      <td>0</td>\n",
       "      <td>0</td>\n",
       "    </tr>\n",
       "  </tbody>\n",
       "</table>\n",
       "</div>"
      ],
      "text/plain": [
       "  Proba                                     Probas Preds Labels Proba  \\\n",
       "0 0.495  [0.5046037435531616, 0.49539628624916077]     0      1 0.463   \n",
       "1 0.467   [0.5331155061721802, 0.4668845236301422]     0      1 0.058   \n",
       "2 0.478  [0.5215041041374207, 0.47849589586257935]     0      1 0.464   \n",
       "3 0.504  [0.49577391147613525, 0.5042260885238647]     1      0 0.478   \n",
       "4 0.449   [0.5512950420379639, 0.4487049877643585]     0      0 0.436   \n",
       "\n",
       "                                      Probas Preds Labels Proba  \\\n",
       "0   [0.5367630124092102, 0.4632369875907898]     0      0 0.484   \n",
       "1  [0.9424941539764404, 0.05750580132007599]     0      0 0.479   \n",
       "2   [0.5359055995941162, 0.4640944004058838]     0      1 0.498   \n",
       "3  [0.5221670269966125, 0.47783297300338745]     0      0 0.462   \n",
       "4   [0.5644972324371338, 0.4355027675628662]     0      0 0.203   \n",
       "\n",
       "                                      Probas Preds Labels  \n",
       "0  [0.5156912207603455, 0.48430877923965454]     0      0  \n",
       "1  [0.5214051008224487, 0.47859495878219604]     0      1  \n",
       "2     [0.501842200756073, 0.498157799243927]     0      1  \n",
       "3  [0.5375398993492126, 0.46246013045310974]     0      1  \n",
       "4  [0.7974177598953247, 0.20258229970932007]     0      0  "
      ]
     },
     "metadata": {},
     "output_type": "display_data"
    },
    {
     "name": "stdout",
     "output_type": "stream",
     "text": [
      "scores =  {'map': '0.6052', 'acc': '0.5340', 'auc': '0.6466'}\n"
     ]
    },
    {
     "data": {
      "application/vnd.jupyter.widget-view+json": {
       "model_id": "fa81156aeb1a4767b6ad9fd47a898a2f",
       "version_major": 2,
       "version_minor": 0
      },
      "text/plain": [
       "HBox(children=(FloatProgress(value=0.0, description='Generate Predictions', max=34.0, style=ProgressStyle(desc…"
      ]
     },
     "metadata": {},
     "output_type": "display_data"
    },
    {
     "name": "stdout",
     "output_type": "stream",
     "text": [
      "\n"
     ]
    },
    {
     "data": {
      "text/html": [
       "<div>\n",
       "<style scoped>\n",
       "    .dataframe tbody tr th:only-of-type {\n",
       "        vertical-align: middle;\n",
       "    }\n",
       "\n",
       "    .dataframe tbody tr th {\n",
       "        vertical-align: top;\n",
       "    }\n",
       "\n",
       "    .dataframe thead th {\n",
       "        text-align: right;\n",
       "    }\n",
       "</style>\n",
       "<table border=\"1\" class=\"dataframe\">\n",
       "  <thead>\n",
       "    <tr style=\"text-align: right;\">\n",
       "      <th></th>\n",
       "      <th></th>\n",
       "      <th>train</th>\n",
       "      <th>val</th>\n",
       "    </tr>\n",
       "    <tr>\n",
       "      <th>mean_or_std</th>\n",
       "      <th>metric</th>\n",
       "      <th></th>\n",
       "      <th></th>\n",
       "    </tr>\n",
       "  </thead>\n",
       "  <tbody>\n",
       "    <tr>\n",
       "      <th rowspan=\"3\" valign=\"top\">mean</th>\n",
       "      <th>map</th>\n",
       "      <td>0.764</td>\n",
       "      <td>0.605</td>\n",
       "    </tr>\n",
       "    <tr>\n",
       "      <th>accuracy</th>\n",
       "      <td>0.772</td>\n",
       "      <td>0.534</td>\n",
       "    </tr>\n",
       "    <tr>\n",
       "      <th>auc</th>\n",
       "      <td>0.854</td>\n",
       "      <td>0.647</td>\n",
       "    </tr>\n",
       "    <tr>\n",
       "      <th rowspan=\"3\" valign=\"top\">std</th>\n",
       "      <th>map</th>\n",
       "      <td>0.000</td>\n",
       "      <td>0.000</td>\n",
       "    </tr>\n",
       "    <tr>\n",
       "      <th>accuracy</th>\n",
       "      <td>0.000</td>\n",
       "      <td>0.000</td>\n",
       "    </tr>\n",
       "    <tr>\n",
       "      <th>auc</th>\n",
       "      <td>0.000</td>\n",
       "      <td>0.000</td>\n",
       "    </tr>\n",
       "  </tbody>\n",
       "</table>\n",
       "</div>"
      ],
      "text/plain": [
       "                      train   val\n",
       "mean_or_std metric               \n",
       "mean        map       0.764 0.605\n",
       "            accuracy  0.772 0.534\n",
       "            auc       0.854 0.647\n",
       "std         map       0.000 0.000\n",
       "            accuracy  0.000 0.000\n",
       "            auc       0.000 0.000"
      ]
     },
     "execution_count": 21,
     "metadata": {},
     "output_type": "execute_result"
    },
    {
     "data": {
      "text/html": [
       "<div>\n",
       "<style scoped>\n",
       "    .dataframe tbody tr th:only-of-type {\n",
       "        vertical-align: middle;\n",
       "    }\n",
       "\n",
       "    .dataframe tbody tr th {\n",
       "        vertical-align: top;\n",
       "    }\n",
       "\n",
       "    .dataframe thead tr th {\n",
       "        text-align: left;\n",
       "    }\n",
       "</style>\n",
       "<table border=\"1\" class=\"dataframe\">\n",
       "  <thead>\n",
       "    <tr>\n",
       "      <th></th>\n",
       "      <th colspan=\"4\" halign=\"left\">train</th>\n",
       "      <th colspan=\"4\" halign=\"left\">val</th>\n",
       "    </tr>\n",
       "    <tr>\n",
       "      <th></th>\n",
       "      <th>precision</th>\n",
       "      <th>recall</th>\n",
       "      <th>f1</th>\n",
       "      <th>supoort</th>\n",
       "      <th>precision</th>\n",
       "      <th>recall</th>\n",
       "      <th>f1</th>\n",
       "      <th>supoort</th>\n",
       "    </tr>\n",
       "  </thead>\n",
       "  <tbody>\n",
       "    <tr>\n",
       "      <th>neg</th>\n",
       "      <td>0.773</td>\n",
       "      <td>0.912</td>\n",
       "      <td>0.837</td>\n",
       "      <td>5450.000</td>\n",
       "      <td>0.520</td>\n",
       "      <td>0.884</td>\n",
       "      <td>0.655</td>\n",
       "      <td>250.000</td>\n",
       "    </tr>\n",
       "    <tr>\n",
       "      <th>pos</th>\n",
       "      <td>0.769</td>\n",
       "      <td>0.520</td>\n",
       "      <td>0.620</td>\n",
       "      <td>3050.000</td>\n",
       "      <td>0.613</td>\n",
       "      <td>0.184</td>\n",
       "      <td>0.283</td>\n",
       "      <td>250.000</td>\n",
       "    </tr>\n",
       "  </tbody>\n",
       "</table>\n",
       "</div>"
      ],
      "text/plain": [
       "        train                             val                     \n",
       "    precision recall    f1  supoort precision recall    f1 supoort\n",
       "neg     0.773  0.912 0.837 5450.000     0.520  0.884 0.655 250.000\n",
       "pos     0.769  0.520 0.620 3050.000     0.613  0.184 0.283 250.000"
      ]
     },
     "execution_count": 21,
     "metadata": {},
     "output_type": "execute_result"
    }
   ],
   "source": [
    "adamw = torch.optim.AdamW\n",
    "adamw_params = dict(lr=5e-5, betas=(0.9, 0.98), eps=1e-08, weight_decay=1e-3)\n",
    "optimizer = adamw\n",
    "optimizer_params = adamw_params\n",
    "\n",
    "lr_strategy = {\n",
    "    \"model\": {\n",
    "        \"lr\": optimizer_params[\"lr\"] / 1000,\n",
    "        \"finetune\": False,\n",
    "        \"encoder\": {\n",
    "            \"layer\": {\n",
    "                \"2\": {\n",
    "                    \"lr\": optimizer_params[\"lr\"],\n",
    "                    \"finetune\": False\n",
    "                },\n",
    "                \"3\": {\n",
    "                    \"lr\": optimizer_params[\"lr\"],\n",
    "                    \"finetune\": True\n",
    "                },\n",
    "                \"4\": {\n",
    "                    \"lr\": optimizer_params[\"lr\"],\n",
    "                    \"finetune\": True\n",
    "                },\n",
    "                \"5\": {\n",
    "                    \"lr\": optimizer_params[\"lr\"],\n",
    "                    \"finetune\": True\n",
    "                }\n",
    "            }\n",
    "        },\n",
    "    }\n",
    "}\n",
    "\n",
    "epochs = 24\n",
    "batch_size = 256\n",
    "model_fn = model_builder(AlbertClassifer,\n",
    "                         dict(classifier_dims=768,\n",
    "                              num_classes=2,\n",
    "                              gaussian_noise=0.1,\n",
    "                              dropout=0.15,\n",
    "                              word_masking_proba=0.2,\n",
    "                              internal_dims=768,\n",
    "                              final_layer_builder=fb_1d_loss_builder,\n",
    "                              n_layers=2,\n",
    "                              n_encoders=0,\n",
    "                              n_decoders=0,\n",
    "                              n_tokens_in=96,\n",
    "                              n_tokens_out=16,\n",
    "                              featurizer=\"transformer\",\n",
    "                              model='distilbert-nsp',\n",
    "                              loss=\"focal\",\n",
    "                              classification_head=\"decoder_ensemble\", # head_ensemble\n",
    "                              dice_loss_coef=0.0,\n",
    "                              auc_loss_coef=0.5, # 0.1\n",
    "                              attention_drop_proba=0.0,\n",
    "                              finetune=False,\n",
    "                              n_classifier_layers=1,\n",
    "                              n_classifier_decoders=4,\n",
    "                             ),\n",
    "                         per_param_opts_fn=lr_strategy,\n",
    "                         optimiser_class=optimizer,\n",
    "                         optimiser_params=optimizer_params)\n",
    "\n",
    "kfold = False\n",
    "results, prfs = train_validate_ntimes(\n",
    "    model_fn,\n",
    "    data,\n",
    "    batch_size,\n",
    "    epochs,\n",
    "    kfold=kfold,\n",
    "    scheduler_init_fn=scheduler_init_fn,\n",
    "    model_call_back=reg_sched, # reg_sched\n",
    "    validation_epochs=[1, 4, 7, 9, 11, 14, 17, 19, 23, 27, 31, 34, 37, 41, 44, 47, 51, 54],\n",
    "    show_model_stats=True,\n",
    "    sampling_policy=\"without_replacement\",\n",
    "    prediction_iters=1, evaluate_in_train_mode=False\n",
    ")\n",
    "r2, p2 = results, prfs\n",
    "results\n",
    "prfs\n"
   ]
  },
  {
   "cell_type": "code",
   "execution_count": null,
   "metadata": {
    "hidden": true
   },
   "outputs": [],
   "source": [
    "adamw = torch.optim.AdamW\n",
    "adamw_params = dict(lr=1e-4, betas=(0.9, 0.98), eps=1e-08, weight_decay=1e-2)\n",
    "optimizer = adamw\n",
    "optimizer_params = adamw_params\n",
    "\n",
    "lr_strategy = {\n",
    "    \"model\": {\n",
    "        \"lr\": optimizer_params[\"lr\"] / 1000,\n",
    "        \"finetune\": False,\n",
    "        \"encoder\": {\n",
    "            \"layer\": {\n",
    "                \"2\": {\n",
    "                    \"lr\": optimizer_params[\"lr\"] / 1e3,\n",
    "                    \"finetune\": False\n",
    "                },\n",
    "                \"3\": {\n",
    "                    \"lr\": optimizer_params[\"lr\"],\n",
    "                    \"finetune\": True\n",
    "                },\n",
    "                \"4\": {\n",
    "                    \"lr\": optimizer_params[\"lr\"],\n",
    "                    \"finetune\": True\n",
    "                },\n",
    "                \"5\": {\n",
    "                    \"lr\": optimizer_params[\"lr\"],\n",
    "                    \"finetune\": True\n",
    "                }\n",
    "            }\n",
    "        },\n",
    "    }\n",
    "}\n",
    "\n",
    "epochs = 24\n",
    "batch_size = 256\n",
    "model_fn = model_builder(AlbertClassifer,\n",
    "                         dict(classifier_dims=256,\n",
    "                              num_classes=2,\n",
    "                              gaussian_noise=0.1,\n",
    "                              dropout=0.01,\n",
    "                              word_masking_proba=0.1,\n",
    "                              internal_dims=512,\n",
    "                              final_layer_builder=fb_1d_loss_builder,\n",
    "                              n_layers=2,\n",
    "                              n_encoders=3,\n",
    "                              n_decoders=0,\n",
    "                              n_tokens_in=96,\n",
    "                              n_tokens_out=48,\n",
    "                              featurizer=\"transformer\",\n",
    "                              model='distilbert-cor-nsp',\n",
    "                              loss=\"focal\",\n",
    "                              classification_head=\"decoder_ensemble\", # head_ensemble\n",
    "                              dice_loss_coef=0.0,\n",
    "                              auc_loss_coef=1.0,\n",
    "                              attention_drop_proba=0.05,\n",
    "                              finetune=False),\n",
    "                         per_param_opts_fn=lr_strategy,\n",
    "                         optimiser_class=optimizer,\n",
    "                         optimiser_params=optimizer_params)\n",
    "\n",
    "kfold = False\n",
    "results, prfs = train_validate_ntimes(\n",
    "    model_fn,\n",
    "    data,\n",
    "    batch_size,\n",
    "    epochs,\n",
    "    kfold=kfold,\n",
    "    scheduler_init_fn=scheduler_init_fn,\n",
    "    model_call_back=reg_sched, # reg_sched\n",
    "    validation_epochs=[4, 7, 9, 11, 14, 17, 19, 23, 27, 31, 34, 37, 41, 44, 47, 51, 54],\n",
    "    show_model_stats=False,\n",
    "    sampling_policy=\"without_replacement\")\n",
    "r2, p2 = results, prfs\n",
    "results\n",
    "prfs\n",
    "\n"
   ]
  },
  {
   "cell_type": "markdown",
   "metadata": {
    "heading_collapsed": true
   },
   "source": [
    "# Predict"
   ]
  },
  {
   "cell_type": "code",
   "execution_count": 7,
   "metadata": {
    "ExecuteTime": {
     "end_time": "2020-07-27T19:11:01.682293Z",
     "start_time": "2020-07-27T19:11:01.673371Z"
    },
    "hidden": true
   },
   "outputs": [],
   "source": [
    "adamw = torch.optim.AdamW\n",
    "adamw_params = dict(lr=5e-5, betas=(0.9, 0.98), eps=1e-08, weight_decay=1e-3)\n",
    "optimizer = adamw\n",
    "optimizer_params = adamw_params\n",
    "\n",
    "lr_strategy = {\n",
    "    \"model\": {\n",
    "        \"lr\": optimizer_params[\"lr\"] / 1000,\n",
    "        \"finetune\": False,\n",
    "        \"encoder\": {\n",
    "            \"layer\": {\n",
    "                \"2\": {\n",
    "                    \"lr\": optimizer_params[\"lr\"],\n",
    "                    \"finetune\": False\n",
    "                },\n",
    "                \"3\": {\n",
    "                    \"lr\": optimizer_params[\"lr\"],\n",
    "                    \"finetune\": True\n",
    "                },\n",
    "                \"4\": {\n",
    "                    \"lr\": optimizer_params[\"lr\"],\n",
    "                    \"finetune\": True\n",
    "                },\n",
    "                \"5\": {\n",
    "                    \"lr\": optimizer_params[\"lr\"],\n",
    "                    \"finetune\": True\n",
    "                }\n",
    "            }\n",
    "        },\n",
    "    }\n",
    "}\n",
    "\n",
    "epochs = 24\n",
    "batch_size = 256\n",
    "model_fn = model_builder(AlbertClassifer,\n",
    "                         dict(classifier_dims=768,\n",
    "                              num_classes=2,\n",
    "                              gaussian_noise=0.1,\n",
    "                              dropout=0.15,\n",
    "                              word_masking_proba=0.2,\n",
    "                              internal_dims=768,\n",
    "                              final_layer_builder=fb_1d_loss_builder,\n",
    "                              n_layers=2,\n",
    "                              n_encoders=0,\n",
    "                              n_decoders=1,\n",
    "                              n_tokens_in=96,\n",
    "                              n_tokens_out=16,\n",
    "                              featurizer=\"transformer\",\n",
    "                              model='distilbert-nsp',\n",
    "                              loss=\"focal\",\n",
    "                              classification_head=\"head_ensemble\", # head_ensemble\n",
    "                              dice_loss_coef=0.0,\n",
    "                              auc_loss_coef=0.5, # 0.1\n",
    "                              attention_drop_proba=0.0,\n",
    "                              finetune=False),\n",
    "                         per_param_opts_fn=lr_strategy,\n",
    "                         optimiser_class=optimizer,\n",
    "                         optimiser_params=optimizer_params)\n"
   ]
  },
  {
   "cell_type": "code",
   "execution_count": 8,
   "metadata": {
    "ExecuteTime": {
     "end_time": "2020-07-27T19:20:49.251191Z",
     "start_time": "2020-07-27T19:11:02.408991Z"
    },
    "hidden": true,
    "scrolled": true
   },
   "outputs": [
    {
     "name": "stdout",
     "output_type": "stream",
     "text": [
      "Pick stored Model /home/ahemf/cache/distilbert-nsp Model Class =  <class 'transformers.modeling_roberta.RobertaModel'> Tokenizer Class =  <class 'transformers.tokenization_roberta.RobertaTokenizer'>\n",
      "Autocast =  True Epochs =  48 Divisor = 2 Examples = 4500 Batch Size =  256\n",
      "Training Samples =  9000 Weighted Sampling =  True Num Batches =  18 Accumulation steps =  1\n"
     ]
    },
    {
     "data": {
      "application/vnd.jupyter.widget-view+json": {
       "model_id": "b10a6453770e48dab681e3f86f0dcdbb",
       "version_major": 2,
       "version_minor": 0
      },
      "text/plain": [
       "HBox(children=(FloatProgress(value=0.0, max=48.0), HTML(value='')))"
      ]
     },
     "metadata": {},
     "output_type": "display_data"
    },
    {
     "data": {
      "application/vnd.jupyter.widget-view+json": {
       "model_id": "f5129346f33a4cf08fe4925fab3e906f",
       "version_major": 2,
       "version_minor": 0
      },
      "text/plain": [
       "HBox(children=(FloatProgress(value=0.0, description='Batches', max=18.0, style=ProgressStyle(description_width…"
      ]
     },
     "metadata": {},
     "output_type": "display_data"
    },
    {
     "name": "stdout",
     "output_type": "stream",
     "text": [
      "\n",
      "Epoch =  1 Loss = 0.663660 LR = 0.00000347\n"
     ]
    },
    {
     "data": {
      "application/vnd.jupyter.widget-view+json": {
       "model_id": "1f35e4de6be449d6a4f0acc50ac52d14",
       "version_major": 2,
       "version_minor": 0
      },
      "text/plain": [
       "HBox(children=(FloatProgress(value=0.0, description='Batches', max=18.0, style=ProgressStyle(description_width…"
      ]
     },
     "metadata": {},
     "output_type": "display_data"
    },
    {
     "name": "stdout",
     "output_type": "stream",
     "text": [
      "\n",
      "Epoch =  2 Loss = 0.634494 LR = 0.00000695\n"
     ]
    },
    {
     "data": {
      "application/vnd.jupyter.widget-view+json": {
       "model_id": "67c2a0846e214a6f8ac27dd940f2fa1f",
       "version_major": 2,
       "version_minor": 0
      },
      "text/plain": [
       "HBox(children=(FloatProgress(value=0.0, description='Batches', max=18.0, style=ProgressStyle(description_width…"
      ]
     },
     "metadata": {},
     "output_type": "display_data"
    },
    {
     "name": "stdout",
     "output_type": "stream",
     "text": [
      "\n",
      "Epoch =  3 Loss = 0.617023 LR = 0.00001042\n"
     ]
    },
    {
     "data": {
      "application/vnd.jupyter.widget-view+json": {
       "model_id": "5da31e3adca44fa1b2c50a7da783bde8",
       "version_major": 2,
       "version_minor": 0
      },
      "text/plain": [
       "HBox(children=(FloatProgress(value=0.0, description='Batches', max=18.0, style=ProgressStyle(description_width…"
      ]
     },
     "metadata": {},
     "output_type": "display_data"
    },
    {
     "name": "stdout",
     "output_type": "stream",
     "text": [
      "\n",
      "Epoch =  4 Loss = 0.600699 LR = 0.00001390\n"
     ]
    },
    {
     "data": {
      "application/vnd.jupyter.widget-view+json": {
       "model_id": "decc235a11824361b1762a469f0bf83b",
       "version_major": 2,
       "version_minor": 0
      },
      "text/plain": [
       "HBox(children=(FloatProgress(value=0.0, description='Batches', max=18.0, style=ProgressStyle(description_width…"
      ]
     },
     "metadata": {},
     "output_type": "display_data"
    },
    {
     "name": "stdout",
     "output_type": "stream",
     "text": [
      "\n",
      "Epoch =  5 Loss = 0.587276 LR = 0.00001737\n"
     ]
    },
    {
     "data": {
      "application/vnd.jupyter.widget-view+json": {
       "model_id": "8ee07b69260e44aea25fcec15937be11",
       "version_major": 2,
       "version_minor": 0
      },
      "text/plain": [
       "HBox(children=(FloatProgress(value=0.0, description='Batches', max=18.0, style=ProgressStyle(description_width…"
      ]
     },
     "metadata": {},
     "output_type": "display_data"
    },
    {
     "name": "stdout",
     "output_type": "stream",
     "text": [
      "\n",
      "Epoch =  6 Loss = 0.569610 LR = 0.00002085\n"
     ]
    },
    {
     "data": {
      "application/vnd.jupyter.widget-view+json": {
       "model_id": "1ad2b516858444d180759b65dd0285df",
       "version_major": 2,
       "version_minor": 0
      },
      "text/plain": [
       "HBox(children=(FloatProgress(value=0.0, description='Batches', max=18.0, style=ProgressStyle(description_width…"
      ]
     },
     "metadata": {},
     "output_type": "display_data"
    },
    {
     "name": "stdout",
     "output_type": "stream",
     "text": [
      "\n",
      "Epoch =  7 Loss = 0.548532 LR = 0.00002432\n"
     ]
    },
    {
     "data": {
      "application/vnd.jupyter.widget-view+json": {
       "model_id": "2fd71562d7fd40e4a0b0a29e24c91382",
       "version_major": 2,
       "version_minor": 0
      },
      "text/plain": [
       "HBox(children=(FloatProgress(value=0.0, description='Batches', max=18.0, style=ProgressStyle(description_width…"
      ]
     },
     "metadata": {},
     "output_type": "display_data"
    },
    {
     "name": "stdout",
     "output_type": "stream",
     "text": [
      "\n",
      "Epoch =  8 Loss = 0.542661 LR = 0.00002780\n"
     ]
    },
    {
     "data": {
      "application/vnd.jupyter.widget-view+json": {
       "model_id": "d82c41a523a746a698ecd24b2796a916",
       "version_major": 2,
       "version_minor": 0
      },
      "text/plain": [
       "HBox(children=(FloatProgress(value=0.0, description='Batches', max=18.0, style=ProgressStyle(description_width…"
      ]
     },
     "metadata": {},
     "output_type": "display_data"
    },
    {
     "name": "stdout",
     "output_type": "stream",
     "text": [
      "\n",
      "Epoch =  9 Loss = 0.517081 LR = 0.00003127\n"
     ]
    },
    {
     "data": {
      "application/vnd.jupyter.widget-view+json": {
       "model_id": "2e13411081f74cdb91ec6c346a6fbf44",
       "version_major": 2,
       "version_minor": 0
      },
      "text/plain": [
       "HBox(children=(FloatProgress(value=0.0, description='Batches', max=18.0, style=ProgressStyle(description_width…"
      ]
     },
     "metadata": {},
     "output_type": "display_data"
    },
    {
     "name": "stdout",
     "output_type": "stream",
     "text": [
      "\n",
      "Epoch =  10 Loss = 0.492819 LR = 0.00003475\n"
     ]
    },
    {
     "data": {
      "application/vnd.jupyter.widget-view+json": {
       "model_id": "f28b49ed04274f17bd92298c116b36bd",
       "version_major": 2,
       "version_minor": 0
      },
      "text/plain": [
       "HBox(children=(FloatProgress(value=0.0, description='Batches', max=18.0, style=ProgressStyle(description_width…"
      ]
     },
     "metadata": {},
     "output_type": "display_data"
    },
    {
     "name": "stdout",
     "output_type": "stream",
     "text": [
      "\n",
      "Epoch =  11 Loss = 0.499571 LR = 0.00003822\n"
     ]
    },
    {
     "data": {
      "application/vnd.jupyter.widget-view+json": {
       "model_id": "19394fcc355042e29b3356a1f823ed50",
       "version_major": 2,
       "version_minor": 0
      },
      "text/plain": [
       "HBox(children=(FloatProgress(value=0.0, description='Batches', max=18.0, style=ProgressStyle(description_width…"
      ]
     },
     "metadata": {},
     "output_type": "display_data"
    },
    {
     "name": "stdout",
     "output_type": "stream",
     "text": [
      "\n",
      "Epoch =  12 Loss = 0.469825 LR = 0.00004170\n"
     ]
    },
    {
     "data": {
      "application/vnd.jupyter.widget-view+json": {
       "model_id": "e8e9cd98abeb43f198ad16bce45dddf9",
       "version_major": 2,
       "version_minor": 0
      },
      "text/plain": [
       "HBox(children=(FloatProgress(value=0.0, description='Batches', max=18.0, style=ProgressStyle(description_width…"
      ]
     },
     "metadata": {},
     "output_type": "display_data"
    },
    {
     "name": "stdout",
     "output_type": "stream",
     "text": [
      "\n",
      "Epoch =  13 Loss = 0.476830 LR = 0.00004517\n"
     ]
    },
    {
     "data": {
      "application/vnd.jupyter.widget-view+json": {
       "model_id": "dbfc665bed4248e294a59a3c418f513b",
       "version_major": 2,
       "version_minor": 0
      },
      "text/plain": [
       "HBox(children=(FloatProgress(value=0.0, description='Batches', max=18.0, style=ProgressStyle(description_width…"
      ]
     },
     "metadata": {},
     "output_type": "display_data"
    },
    {
     "name": "stdout",
     "output_type": "stream",
     "text": [
      "\n",
      "Epoch =  14 Loss = 0.475851 LR = 0.00004865\n"
     ]
    },
    {
     "data": {
      "application/vnd.jupyter.widget-view+json": {
       "model_id": "ff7e3cea721d49a192f07abaff6f5c4e",
       "version_major": 2,
       "version_minor": 0
      },
      "text/plain": [
       "HBox(children=(FloatProgress(value=0.0, description='Batches', max=18.0, style=ProgressStyle(description_width…"
      ]
     },
     "metadata": {},
     "output_type": "display_data"
    },
    {
     "name": "stdout",
     "output_type": "stream",
     "text": [
      "\n",
      "Epoch =  15 Loss = 0.456779 LR = 0.00004996\n"
     ]
    },
    {
     "data": {
      "application/vnd.jupyter.widget-view+json": {
       "model_id": "d136c4d6185e4e92adc6d96f4b9c4b4c",
       "version_major": 2,
       "version_minor": 0
      },
      "text/plain": [
       "HBox(children=(FloatProgress(value=0.0, description='Generate Predictions', max=36.0, style=ProgressStyle(desc…"
      ]
     },
     "metadata": {},
     "output_type": "display_data"
    },
    {
     "name": "stdout",
     "output_type": "stream",
     "text": [
      "\n"
     ]
    },
    {
     "data": {
      "application/vnd.jupyter.widget-view+json": {
       "model_id": "850a0d350e5c4166aaed88803a790c35",
       "version_major": 2,
       "version_minor": 0
      },
      "text/plain": [
       "HBox(children=(FloatProgress(value=0.0, description='Generate Predictions', max=2.0, style=ProgressStyle(descr…"
      ]
     },
     "metadata": {},
     "output_type": "display_data"
    },
    {
     "name": "stdout",
     "output_type": "stream",
     "text": [
      "\n"
     ]
    },
    {
     "data": {
      "text/html": [
       "<div>\n",
       "<style scoped>\n",
       "    .dataframe tbody tr th:only-of-type {\n",
       "        vertical-align: middle;\n",
       "    }\n",
       "\n",
       "    .dataframe tbody tr th {\n",
       "        vertical-align: top;\n",
       "    }\n",
       "\n",
       "    .dataframe thead tr th {\n",
       "        text-align: left;\n",
       "    }\n",
       "\n",
       "    .dataframe thead tr:last-of-type th {\n",
       "        text-align: right;\n",
       "    }\n",
       "</style>\n",
       "<table border=\"1\" class=\"dataframe\">\n",
       "  <thead>\n",
       "    <tr>\n",
       "      <th></th>\n",
       "      <th colspan=\"2\" halign=\"left\">Proba</th>\n",
       "      <th colspan=\"2\" halign=\"left\">Preds</th>\n",
       "    </tr>\n",
       "    <tr>\n",
       "      <th></th>\n",
       "      <th>min</th>\n",
       "      <th>max</th>\n",
       "      <th>min</th>\n",
       "      <th>max</th>\n",
       "    </tr>\n",
       "    <tr>\n",
       "      <th>Labels</th>\n",
       "      <th></th>\n",
       "      <th></th>\n",
       "      <th></th>\n",
       "      <th></th>\n",
       "    </tr>\n",
       "  </thead>\n",
       "  <tbody>\n",
       "    <tr>\n",
       "      <th>0</th>\n",
       "      <td>0.105</td>\n",
       "      <td>0.672</td>\n",
       "      <td>0</td>\n",
       "      <td>1</td>\n",
       "    </tr>\n",
       "    <tr>\n",
       "      <th>1</th>\n",
       "      <td>0.118</td>\n",
       "      <td>0.715</td>\n",
       "      <td>0</td>\n",
       "      <td>1</td>\n",
       "    </tr>\n",
       "  </tbody>\n",
       "</table>\n",
       "</div>"
      ],
      "text/plain": [
       "       Proba       Preds    \n",
       "         min   max   min max\n",
       "Labels                      \n",
       "0      0.105 0.672     0   1\n",
       "1      0.118 0.715     0   1"
      ]
     },
     "metadata": {},
     "output_type": "display_data"
    },
    {
     "data": {
      "text/html": [
       "<div>\n",
       "<style scoped>\n",
       "    .dataframe tbody tr th:only-of-type {\n",
       "        vertical-align: middle;\n",
       "    }\n",
       "\n",
       "    .dataframe tbody tr th {\n",
       "        vertical-align: top;\n",
       "    }\n",
       "\n",
       "    .dataframe thead th {\n",
       "        text-align: right;\n",
       "    }\n",
       "</style>\n",
       "<table border=\"1\" class=\"dataframe\">\n",
       "  <thead>\n",
       "    <tr style=\"text-align: right;\">\n",
       "      <th></th>\n",
       "      <th>Proba</th>\n",
       "      <th>Probas</th>\n",
       "      <th>Preds</th>\n",
       "      <th>Labels</th>\n",
       "      <th>Proba</th>\n",
       "      <th>Probas</th>\n",
       "      <th>Preds</th>\n",
       "      <th>Labels</th>\n",
       "      <th>Proba</th>\n",
       "      <th>Probas</th>\n",
       "      <th>Preds</th>\n",
       "      <th>Labels</th>\n",
       "    </tr>\n",
       "  </thead>\n",
       "  <tbody>\n",
       "    <tr>\n",
       "      <th>0</th>\n",
       "      <td>0.522</td>\n",
       "      <td>[0.4778052568435669, 0.5221947431564331]</td>\n",
       "      <td>1</td>\n",
       "      <td>0</td>\n",
       "      <td>0.287</td>\n",
       "      <td>[0.7131957411766052, 0.2868042588233948]</td>\n",
       "      <td>0</td>\n",
       "      <td>1</td>\n",
       "      <td>0.324</td>\n",
       "      <td>[0.6761518120765686, 0.3238481879234314]</td>\n",
       "      <td>0</td>\n",
       "      <td>0</td>\n",
       "    </tr>\n",
       "    <tr>\n",
       "      <th>1</th>\n",
       "      <td>0.291</td>\n",
       "      <td>[0.7085568904876709, 0.2914431095123291]</td>\n",
       "      <td>0</td>\n",
       "      <td>1</td>\n",
       "      <td>0.438</td>\n",
       "      <td>[0.5624056458473206, 0.43759435415267944]</td>\n",
       "      <td>0</td>\n",
       "      <td>0</td>\n",
       "      <td>0.264</td>\n",
       "      <td>[0.735997200012207, 0.26400279998779297]</td>\n",
       "      <td>0</td>\n",
       "      <td>0</td>\n",
       "    </tr>\n",
       "    <tr>\n",
       "      <th>2</th>\n",
       "      <td>0.293</td>\n",
       "      <td>[0.706984281539917, 0.293015718460083]</td>\n",
       "      <td>0</td>\n",
       "      <td>0</td>\n",
       "      <td>0.271</td>\n",
       "      <td>[0.7287242412567139, 0.2712758183479309]</td>\n",
       "      <td>0</td>\n",
       "      <td>0</td>\n",
       "      <td>0.557</td>\n",
       "      <td>[0.4428960084915161, 0.5571039915084839]</td>\n",
       "      <td>1</td>\n",
       "      <td>0</td>\n",
       "    </tr>\n",
       "    <tr>\n",
       "      <th>3</th>\n",
       "      <td>0.420</td>\n",
       "      <td>[0.5803751349449158, 0.41962483525276184]</td>\n",
       "      <td>0</td>\n",
       "      <td>1</td>\n",
       "      <td>0.310</td>\n",
       "      <td>[0.6900472640991211, 0.3099527359008789]</td>\n",
       "      <td>0</td>\n",
       "      <td>1</td>\n",
       "      <td>0.657</td>\n",
       "      <td>[0.34267985820770264, 0.6573201417922974]</td>\n",
       "      <td>1</td>\n",
       "      <td>0</td>\n",
       "    </tr>\n",
       "    <tr>\n",
       "      <th>4</th>\n",
       "      <td>0.707</td>\n",
       "      <td>[0.2929059863090515, 0.7070940732955933]</td>\n",
       "      <td>1</td>\n",
       "      <td>1</td>\n",
       "      <td>0.360</td>\n",
       "      <td>[0.6397019624710083, 0.3602980375289917]</td>\n",
       "      <td>0</td>\n",
       "      <td>1</td>\n",
       "      <td>0.626</td>\n",
       "      <td>[0.3742077052593231, 0.6257923245429993]</td>\n",
       "      <td>1</td>\n",
       "      <td>0</td>\n",
       "    </tr>\n",
       "  </tbody>\n",
       "</table>\n",
       "</div>"
      ],
      "text/plain": [
       "  Proba                                     Probas Preds Labels Proba  \\\n",
       "0 0.522   [0.4778052568435669, 0.5221947431564331]     1      0 0.287   \n",
       "1 0.291   [0.7085568904876709, 0.2914431095123291]     0      1 0.438   \n",
       "2 0.293     [0.706984281539917, 0.293015718460083]     0      0 0.271   \n",
       "3 0.420  [0.5803751349449158, 0.41962483525276184]     0      1 0.310   \n",
       "4 0.707   [0.2929059863090515, 0.7070940732955933]     1      1 0.360   \n",
       "\n",
       "                                      Probas Preds Labels Proba  \\\n",
       "0   [0.7131957411766052, 0.2868042588233948]     0      1 0.324   \n",
       "1  [0.5624056458473206, 0.43759435415267944]     0      0 0.264   \n",
       "2   [0.7287242412567139, 0.2712758183479309]     0      0 0.557   \n",
       "3   [0.6900472640991211, 0.3099527359008789]     0      1 0.657   \n",
       "4   [0.6397019624710083, 0.3602980375289917]     0      1 0.626   \n",
       "\n",
       "                                      Probas Preds Labels  \n",
       "0   [0.6761518120765686, 0.3238481879234314]     0      0  \n",
       "1   [0.735997200012207, 0.26400279998779297]     0      0  \n",
       "2   [0.4428960084915161, 0.5571039915084839]     1      0  \n",
       "3  [0.34267985820770264, 0.6573201417922974]     1      0  \n",
       "4   [0.3742077052593231, 0.6257923245429993]     1      0  "
      ]
     },
     "metadata": {},
     "output_type": "display_data"
    },
    {
     "name": "stdout",
     "output_type": "stream",
     "text": [
      "scores =  {'map': '0.5954', 'acc': '0.5260', 'auc': '0.6155'}\n",
      "Epoch =  15 Train = 0.717039 Val = 0.615496\n"
     ]
    },
    {
     "data": {
      "application/vnd.jupyter.widget-view+json": {
       "model_id": "1d861d2eaec64cd6abbec9a8e909a78b",
       "version_major": 2,
       "version_minor": 0
      },
      "text/plain": [
       "HBox(children=(FloatProgress(value=0.0, description='Batches', max=18.0, style=ProgressStyle(description_width…"
      ]
     },
     "metadata": {},
     "output_type": "display_data"
    },
    {
     "name": "stdout",
     "output_type": "stream",
     "text": [
      "\n",
      "Epoch =  16 Loss = 0.464869 LR = 0.00004972\n"
     ]
    },
    {
     "data": {
      "application/vnd.jupyter.widget-view+json": {
       "model_id": "2c4dda85a31142a6b83100f4cfcfd03d",
       "version_major": 2,
       "version_minor": 0
      },
      "text/plain": [
       "HBox(children=(FloatProgress(value=0.0, description='Batches', max=18.0, style=ProgressStyle(description_width…"
      ]
     },
     "metadata": {},
     "output_type": "display_data"
    },
    {
     "name": "stdout",
     "output_type": "stream",
     "text": [
      "\n",
      "Epoch =  17 Loss = 0.447786 LR = 0.00004926\n"
     ]
    },
    {
     "data": {
      "application/vnd.jupyter.widget-view+json": {
       "model_id": "07b538085a5a49d8bbc6ac56c7e15e84",
       "version_major": 2,
       "version_minor": 0
      },
      "text/plain": [
       "HBox(children=(FloatProgress(value=0.0, description='Batches', max=18.0, style=ProgressStyle(description_width…"
      ]
     },
     "metadata": {},
     "output_type": "display_data"
    },
    {
     "name": "stdout",
     "output_type": "stream",
     "text": [
      "\n",
      "Epoch =  18 Loss = 0.435984 LR = 0.00004859\n"
     ]
    },
    {
     "data": {
      "application/vnd.jupyter.widget-view+json": {
       "model_id": "241edd4baa504b759bb91385c234a396",
       "version_major": 2,
       "version_minor": 0
      },
      "text/plain": [
       "HBox(children=(FloatProgress(value=0.0, description='Batches', max=18.0, style=ProgressStyle(description_width…"
      ]
     },
     "metadata": {},
     "output_type": "display_data"
    },
    {
     "name": "stdout",
     "output_type": "stream",
     "text": [
      "\n",
      "Epoch =  19 Loss = 0.427589 LR = 0.00004771\n"
     ]
    },
    {
     "data": {
      "application/vnd.jupyter.widget-view+json": {
       "model_id": "84be23b722d1450c911c3d89502592d2",
       "version_major": 2,
       "version_minor": 0
      },
      "text/plain": [
       "HBox(children=(FloatProgress(value=0.0, description='Batches', max=18.0, style=ProgressStyle(description_width…"
      ]
     },
     "metadata": {},
     "output_type": "display_data"
    },
    {
     "name": "stdout",
     "output_type": "stream",
     "text": [
      "\n",
      "Epoch =  20 Loss = 0.431958 LR = 0.00004664\n"
     ]
    },
    {
     "data": {
      "application/vnd.jupyter.widget-view+json": {
       "model_id": "dd8dda2331db4a9fa1a225f8004e248a",
       "version_major": 2,
       "version_minor": 0
      },
      "text/plain": [
       "HBox(children=(FloatProgress(value=0.0, description='Batches', max=18.0, style=ProgressStyle(description_width…"
      ]
     },
     "metadata": {},
     "output_type": "display_data"
    },
    {
     "name": "stdout",
     "output_type": "stream",
     "text": [
      "\n",
      "Epoch =  21 Loss = 0.430429 LR = 0.00004538\n"
     ]
    },
    {
     "data": {
      "application/vnd.jupyter.widget-view+json": {
       "model_id": "ed220218ab394574bab941fb4924b16b",
       "version_major": 2,
       "version_minor": 0
      },
      "text/plain": [
       "HBox(children=(FloatProgress(value=0.0, description='Batches', max=18.0, style=ProgressStyle(description_width…"
      ]
     },
     "metadata": {},
     "output_type": "display_data"
    },
    {
     "name": "stdout",
     "output_type": "stream",
     "text": [
      "\n",
      "Epoch =  22 Loss = 0.419423 LR = 0.00004394\n"
     ]
    },
    {
     "data": {
      "application/vnd.jupyter.widget-view+json": {
       "model_id": "3a737686d90447b6b23cb0bab1f1174e",
       "version_major": 2,
       "version_minor": 0
      },
      "text/plain": [
       "HBox(children=(FloatProgress(value=0.0, description='Batches', max=18.0, style=ProgressStyle(description_width…"
      ]
     },
     "metadata": {},
     "output_type": "display_data"
    },
    {
     "name": "stdout",
     "output_type": "stream",
     "text": [
      "\n",
      "Epoch =  23 Loss = 0.413378 LR = 0.00004233\n"
     ]
    },
    {
     "data": {
      "application/vnd.jupyter.widget-view+json": {
       "model_id": "67e3135da03543e59e2f9ec7f930cd25",
       "version_major": 2,
       "version_minor": 0
      },
      "text/plain": [
       "HBox(children=(FloatProgress(value=0.0, description='Batches', max=18.0, style=ProgressStyle(description_width…"
      ]
     },
     "metadata": {},
     "output_type": "display_data"
    },
    {
     "name": "stdout",
     "output_type": "stream",
     "text": [
      "\n",
      "Epoch =  24 Loss = 0.405465 LR = 0.00004057\n"
     ]
    },
    {
     "data": {
      "application/vnd.jupyter.widget-view+json": {
       "model_id": "f9ae5e38b14e4a1d9e8146e8cef66fc5",
       "version_major": 2,
       "version_minor": 0
      },
      "text/plain": [
       "HBox(children=(FloatProgress(value=0.0, description='Batches', max=18.0, style=ProgressStyle(description_width…"
      ]
     },
     "metadata": {},
     "output_type": "display_data"
    },
    {
     "name": "stdout",
     "output_type": "stream",
     "text": [
      "\n",
      "Epoch =  25 Loss = 0.401952 LR = 0.00003868\n"
     ]
    },
    {
     "data": {
      "application/vnd.jupyter.widget-view+json": {
       "model_id": "10bcbbca38ca4110b55719cdb9fd3431",
       "version_major": 2,
       "version_minor": 0
      },
      "text/plain": [
       "HBox(children=(FloatProgress(value=0.0, description='Batches', max=18.0, style=ProgressStyle(description_width…"
      ]
     },
     "metadata": {},
     "output_type": "display_data"
    },
    {
     "name": "stdout",
     "output_type": "stream",
     "text": [
      "\n",
      "Epoch =  26 Loss = 0.401548 LR = 0.00003667\n"
     ]
    },
    {
     "data": {
      "application/vnd.jupyter.widget-view+json": {
       "model_id": "70ba5de8ec6045228dfbdab865e75973",
       "version_major": 2,
       "version_minor": 0
      },
      "text/plain": [
       "HBox(children=(FloatProgress(value=0.0, description='Batches', max=18.0, style=ProgressStyle(description_width…"
      ]
     },
     "metadata": {},
     "output_type": "display_data"
    },
    {
     "name": "stdout",
     "output_type": "stream",
     "text": [
      "\n",
      "Epoch =  27 Loss = 0.398745 LR = 0.00003455\n"
     ]
    },
    {
     "data": {
      "application/vnd.jupyter.widget-view+json": {
       "model_id": "408f5d9be21840058356de935957ff1d",
       "version_major": 2,
       "version_minor": 0
      },
      "text/plain": [
       "HBox(children=(FloatProgress(value=0.0, description='Batches', max=18.0, style=ProgressStyle(description_width…"
      ]
     },
     "metadata": {},
     "output_type": "display_data"
    },
    {
     "name": "stdout",
     "output_type": "stream",
     "text": [
      "\n",
      "Epoch =  28 Loss = 0.396507 LR = 0.00003235\n"
     ]
    },
    {
     "data": {
      "application/vnd.jupyter.widget-view+json": {
       "model_id": "296e27cce3cd4008a6086d35c01c0985",
       "version_major": 2,
       "version_minor": 0
      },
      "text/plain": [
       "HBox(children=(FloatProgress(value=0.0, description='Batches', max=18.0, style=ProgressStyle(description_width…"
      ]
     },
     "metadata": {},
     "output_type": "display_data"
    },
    {
     "name": "stdout",
     "output_type": "stream",
     "text": [
      "\n",
      "Epoch =  29 Loss = 0.395576 LR = 0.00003009\n"
     ]
    },
    {
     "data": {
      "application/vnd.jupyter.widget-view+json": {
       "model_id": "3c3abe3e8fdb4dfca0ffb45411e3b36d",
       "version_major": 2,
       "version_minor": 0
      },
      "text/plain": [
       "HBox(children=(FloatProgress(value=0.0, description='Batches', max=18.0, style=ProgressStyle(description_width…"
      ]
     },
     "metadata": {},
     "output_type": "display_data"
    },
    {
     "name": "stdout",
     "output_type": "stream",
     "text": [
      "\n",
      "Epoch =  30 Loss = 0.391255 LR = 0.00002779\n"
     ]
    },
    {
     "data": {
      "application/vnd.jupyter.widget-view+json": {
       "model_id": "aafa5ec8e8e64fa3a4412843c3017af4",
       "version_major": 2,
       "version_minor": 0
      },
      "text/plain": [
       "HBox(children=(FloatProgress(value=0.0, description='Batches', max=18.0, style=ProgressStyle(description_width…"
      ]
     },
     "metadata": {},
     "output_type": "display_data"
    },
    {
     "name": "stdout",
     "output_type": "stream",
     "text": [
      "\n",
      "Epoch =  31 Loss = 0.395508 LR = 0.00002545\n"
     ]
    },
    {
     "data": {
      "application/vnd.jupyter.widget-view+json": {
       "model_id": "1c5cf1fc59dc4b5abd4f23116d28316d",
       "version_major": 2,
       "version_minor": 0
      },
      "text/plain": [
       "HBox(children=(FloatProgress(value=0.0, description='Batches', max=18.0, style=ProgressStyle(description_width…"
      ]
     },
     "metadata": {},
     "output_type": "display_data"
    },
    {
     "name": "stdout",
     "output_type": "stream",
     "text": [
      "\n",
      "Epoch =  32 Loss = 0.389334 LR = 0.00002312\n"
     ]
    },
    {
     "data": {
      "application/vnd.jupyter.widget-view+json": {
       "model_id": "ef60d9f9732d405caf8f7f4727d49c4b",
       "version_major": 2,
       "version_minor": 0
      },
      "text/plain": [
       "HBox(children=(FloatProgress(value=0.0, description='Batches', max=18.0, style=ProgressStyle(description_width…"
      ]
     },
     "metadata": {},
     "output_type": "display_data"
    },
    {
     "name": "stdout",
     "output_type": "stream",
     "text": [
      "\n",
      "Epoch =  33 Loss = 0.386287 LR = 0.00002080\n"
     ]
    },
    {
     "data": {
      "application/vnd.jupyter.widget-view+json": {
       "model_id": "3650ca4a21954d01af68231bfcc2a2a3",
       "version_major": 2,
       "version_minor": 0
      },
      "text/plain": [
       "HBox(children=(FloatProgress(value=0.0, description='Batches', max=18.0, style=ProgressStyle(description_width…"
      ]
     },
     "metadata": {},
     "output_type": "display_data"
    },
    {
     "name": "stdout",
     "output_type": "stream",
     "text": [
      "\n",
      "Epoch =  34 Loss = 0.378357 LR = 0.00001852\n"
     ]
    },
    {
     "data": {
      "application/vnd.jupyter.widget-view+json": {
       "model_id": "054cc42b6d7a46df93177a85cbecdb4e",
       "version_major": 2,
       "version_minor": 0
      },
      "text/plain": [
       "HBox(children=(FloatProgress(value=0.0, description='Generate Predictions', max=36.0, style=ProgressStyle(desc…"
      ]
     },
     "metadata": {},
     "output_type": "display_data"
    },
    {
     "name": "stdout",
     "output_type": "stream",
     "text": [
      "\n"
     ]
    },
    {
     "data": {
      "application/vnd.jupyter.widget-view+json": {
       "model_id": "7a072d7c35884567a9fb2e05af9eec59",
       "version_major": 2,
       "version_minor": 0
      },
      "text/plain": [
       "HBox(children=(FloatProgress(value=0.0, description='Generate Predictions', max=2.0, style=ProgressStyle(descr…"
      ]
     },
     "metadata": {},
     "output_type": "display_data"
    },
    {
     "name": "stdout",
     "output_type": "stream",
     "text": [
      "\n"
     ]
    },
    {
     "data": {
      "text/html": [
       "<div>\n",
       "<style scoped>\n",
       "    .dataframe tbody tr th:only-of-type {\n",
       "        vertical-align: middle;\n",
       "    }\n",
       "\n",
       "    .dataframe tbody tr th {\n",
       "        vertical-align: top;\n",
       "    }\n",
       "\n",
       "    .dataframe thead tr th {\n",
       "        text-align: left;\n",
       "    }\n",
       "\n",
       "    .dataframe thead tr:last-of-type th {\n",
       "        text-align: right;\n",
       "    }\n",
       "</style>\n",
       "<table border=\"1\" class=\"dataframe\">\n",
       "  <thead>\n",
       "    <tr>\n",
       "      <th></th>\n",
       "      <th colspan=\"2\" halign=\"left\">Proba</th>\n",
       "      <th colspan=\"2\" halign=\"left\">Preds</th>\n",
       "    </tr>\n",
       "    <tr>\n",
       "      <th></th>\n",
       "      <th>min</th>\n",
       "      <th>max</th>\n",
       "      <th>min</th>\n",
       "      <th>max</th>\n",
       "    </tr>\n",
       "    <tr>\n",
       "      <th>Labels</th>\n",
       "      <th></th>\n",
       "      <th></th>\n",
       "      <th></th>\n",
       "      <th></th>\n",
       "    </tr>\n",
       "  </thead>\n",
       "  <tbody>\n",
       "    <tr>\n",
       "      <th>0</th>\n",
       "      <td>0.185</td>\n",
       "      <td>0.791</td>\n",
       "      <td>0</td>\n",
       "      <td>1</td>\n",
       "    </tr>\n",
       "    <tr>\n",
       "      <th>1</th>\n",
       "      <td>0.241</td>\n",
       "      <td>0.822</td>\n",
       "      <td>0</td>\n",
       "      <td>1</td>\n",
       "    </tr>\n",
       "  </tbody>\n",
       "</table>\n",
       "</div>"
      ],
      "text/plain": [
       "       Proba       Preds    \n",
       "         min   max   min max\n",
       "Labels                      \n",
       "0      0.185 0.791     0   1\n",
       "1      0.241 0.822     0   1"
      ]
     },
     "metadata": {},
     "output_type": "display_data"
    },
    {
     "data": {
      "text/html": [
       "<div>\n",
       "<style scoped>\n",
       "    .dataframe tbody tr th:only-of-type {\n",
       "        vertical-align: middle;\n",
       "    }\n",
       "\n",
       "    .dataframe tbody tr th {\n",
       "        vertical-align: top;\n",
       "    }\n",
       "\n",
       "    .dataframe thead th {\n",
       "        text-align: right;\n",
       "    }\n",
       "</style>\n",
       "<table border=\"1\" class=\"dataframe\">\n",
       "  <thead>\n",
       "    <tr style=\"text-align: right;\">\n",
       "      <th></th>\n",
       "      <th>Proba</th>\n",
       "      <th>Probas</th>\n",
       "      <th>Preds</th>\n",
       "      <th>Labels</th>\n",
       "      <th>Proba</th>\n",
       "      <th>Probas</th>\n",
       "      <th>Preds</th>\n",
       "      <th>Labels</th>\n",
       "      <th>Proba</th>\n",
       "      <th>Probas</th>\n",
       "      <th>Preds</th>\n",
       "      <th>Labels</th>\n",
       "    </tr>\n",
       "  </thead>\n",
       "  <tbody>\n",
       "    <tr>\n",
       "      <th>0</th>\n",
       "      <td>0.780</td>\n",
       "      <td>[0.21951517462730408, 0.7804847955703735]</td>\n",
       "      <td>1</td>\n",
       "      <td>1</td>\n",
       "      <td>0.640</td>\n",
       "      <td>[0.3600619435310364, 0.6399381160736084]</td>\n",
       "      <td>1</td>\n",
       "      <td>1</td>\n",
       "      <td>0.469</td>\n",
       "      <td>[0.5306167602539062, 0.4693832993507385]</td>\n",
       "      <td>0</td>\n",
       "      <td>1</td>\n",
       "    </tr>\n",
       "    <tr>\n",
       "      <th>1</th>\n",
       "      <td>0.628</td>\n",
       "      <td>[0.37200701236724854, 0.6279929876327515]</td>\n",
       "      <td>1</td>\n",
       "      <td>1</td>\n",
       "      <td>0.369</td>\n",
       "      <td>[0.6314842700958252, 0.3685157001018524]</td>\n",
       "      <td>0</td>\n",
       "      <td>0</td>\n",
       "      <td>0.289</td>\n",
       "      <td>[0.7109920382499695, 0.2890079617500305]</td>\n",
       "      <td>0</td>\n",
       "      <td>1</td>\n",
       "    </tr>\n",
       "    <tr>\n",
       "      <th>2</th>\n",
       "      <td>0.371</td>\n",
       "      <td>[0.6290705800056458, 0.37092939019203186]</td>\n",
       "      <td>0</td>\n",
       "      <td>0</td>\n",
       "      <td>0.640</td>\n",
       "      <td>[0.36036717891693115, 0.6396328210830688]</td>\n",
       "      <td>1</td>\n",
       "      <td>1</td>\n",
       "      <td>0.621</td>\n",
       "      <td>[0.37868693470954895, 0.6213130950927734]</td>\n",
       "      <td>1</td>\n",
       "      <td>1</td>\n",
       "    </tr>\n",
       "    <tr>\n",
       "      <th>3</th>\n",
       "      <td>0.577</td>\n",
       "      <td>[0.423419713973999, 0.576580286026001]</td>\n",
       "      <td>1</td>\n",
       "      <td>0</td>\n",
       "      <td>0.568</td>\n",
       "      <td>[0.4324274957180023, 0.5675724744796753]</td>\n",
       "      <td>1</td>\n",
       "      <td>0</td>\n",
       "      <td>0.544</td>\n",
       "      <td>[0.4555475115776062, 0.5444524884223938]</td>\n",
       "      <td>1</td>\n",
       "      <td>1</td>\n",
       "    </tr>\n",
       "    <tr>\n",
       "      <th>4</th>\n",
       "      <td>0.541</td>\n",
       "      <td>[0.45916008949279785, 0.5408399105072021]</td>\n",
       "      <td>1</td>\n",
       "      <td>0</td>\n",
       "      <td>0.185</td>\n",
       "      <td>[0.815021812915802, 0.184978187084198]</td>\n",
       "      <td>0</td>\n",
       "      <td>0</td>\n",
       "      <td>0.426</td>\n",
       "      <td>[0.5735646486282349, 0.42643532156944275]</td>\n",
       "      <td>0</td>\n",
       "      <td>0</td>\n",
       "    </tr>\n",
       "  </tbody>\n",
       "</table>\n",
       "</div>"
      ],
      "text/plain": [
       "  Proba                                     Probas Preds Labels Proba  \\\n",
       "0 0.780  [0.21951517462730408, 0.7804847955703735]     1      1 0.640   \n",
       "1 0.628  [0.37200701236724854, 0.6279929876327515]     1      1 0.369   \n",
       "2 0.371  [0.6290705800056458, 0.37092939019203186]     0      0 0.640   \n",
       "3 0.577     [0.423419713973999, 0.576580286026001]     1      0 0.568   \n",
       "4 0.541  [0.45916008949279785, 0.5408399105072021]     1      0 0.185   \n",
       "\n",
       "                                      Probas Preds Labels Proba  \\\n",
       "0   [0.3600619435310364, 0.6399381160736084]     1      1 0.469   \n",
       "1   [0.6314842700958252, 0.3685157001018524]     0      0 0.289   \n",
       "2  [0.36036717891693115, 0.6396328210830688]     1      1 0.621   \n",
       "3   [0.4324274957180023, 0.5675724744796753]     1      0 0.544   \n",
       "4     [0.815021812915802, 0.184978187084198]     0      0 0.426   \n",
       "\n",
       "                                      Probas Preds Labels  \n",
       "0   [0.5306167602539062, 0.4693832993507385]     0      1  \n",
       "1   [0.7109920382499695, 0.2890079617500305]     0      1  \n",
       "2  [0.37868693470954895, 0.6213130950927734]     1      1  \n",
       "3   [0.4555475115776062, 0.5444524884223938]     1      1  \n",
       "4  [0.5735646486282349, 0.42643532156944275]     0      0  "
      ]
     },
     "metadata": {},
     "output_type": "display_data"
    },
    {
     "name": "stdout",
     "output_type": "stream",
     "text": [
      "scores =  {'map': '0.6494', 'acc': '0.6000', 'auc': '0.6609'}\n",
      "Epoch =  34 Train = 0.768796 Val = 0.660928\n"
     ]
    },
    {
     "data": {
      "application/vnd.jupyter.widget-view+json": {
       "model_id": "6997df50cbff4c1f8eda093350f41126",
       "version_major": 2,
       "version_minor": 0
      },
      "text/plain": [
       "HBox(children=(FloatProgress(value=0.0, description='Batches', max=18.0, style=ProgressStyle(description_width…"
      ]
     },
     "metadata": {},
     "output_type": "display_data"
    },
    {
     "name": "stdout",
     "output_type": "stream",
     "text": [
      "\n",
      "Epoch =  35 Loss = 0.378831 LR = 0.00001629\n"
     ]
    },
    {
     "data": {
      "application/vnd.jupyter.widget-view+json": {
       "model_id": "5df564b7eef84541b91e9fb84d11eb9e",
       "version_major": 2,
       "version_minor": 0
      },
      "text/plain": [
       "HBox(children=(FloatProgress(value=0.0, description='Batches', max=18.0, style=ProgressStyle(description_width…"
      ]
     },
     "metadata": {},
     "output_type": "display_data"
    },
    {
     "name": "stdout",
     "output_type": "stream",
     "text": [
      "\n",
      "Epoch =  36 Loss = 0.380753 LR = 0.00001414\n"
     ]
    },
    {
     "data": {
      "application/vnd.jupyter.widget-view+json": {
       "model_id": "d8a359b965184c3496f9889d393cb6f6",
       "version_major": 2,
       "version_minor": 0
      },
      "text/plain": [
       "HBox(children=(FloatProgress(value=0.0, description='Batches', max=18.0, style=ProgressStyle(description_width…"
      ]
     },
     "metadata": {},
     "output_type": "display_data"
    },
    {
     "name": "stdout",
     "output_type": "stream",
     "text": [
      "\n",
      "Epoch =  37 Loss = 0.385013 LR = 0.00001209\n"
     ]
    },
    {
     "data": {
      "application/vnd.jupyter.widget-view+json": {
       "model_id": "d9b9406fd05942c290ffb7022abca20a",
       "version_major": 2,
       "version_minor": 0
      },
      "text/plain": [
       "HBox(children=(FloatProgress(value=0.0, description='Batches', max=18.0, style=ProgressStyle(description_width…"
      ]
     },
     "metadata": {},
     "output_type": "display_data"
    },
    {
     "name": "stdout",
     "output_type": "stream",
     "text": [
      "\n",
      "Epoch =  38 Loss = 0.372131 LR = 0.00001015\n"
     ]
    },
    {
     "data": {
      "application/vnd.jupyter.widget-view+json": {
       "model_id": "adfd8fb6754c4caca262d66e2e244614",
       "version_major": 2,
       "version_minor": 0
      },
      "text/plain": [
       "HBox(children=(FloatProgress(value=0.0, description='Batches', max=18.0, style=ProgressStyle(description_width…"
      ]
     },
     "metadata": {},
     "output_type": "display_data"
    },
    {
     "name": "stdout",
     "output_type": "stream",
     "text": [
      "\n",
      "Epoch =  39 Loss = 0.381673 LR = 0.00000834\n"
     ]
    },
    {
     "data": {
      "application/vnd.jupyter.widget-view+json": {
       "model_id": "53a2ee91a7bd4272917cc427ca2c4ac4",
       "version_major": 2,
       "version_minor": 0
      },
      "text/plain": [
       "HBox(children=(FloatProgress(value=0.0, description='Batches', max=18.0, style=ProgressStyle(description_width…"
      ]
     },
     "metadata": {},
     "output_type": "display_data"
    },
    {
     "name": "stdout",
     "output_type": "stream",
     "text": [
      "\n",
      "Epoch =  40 Loss = 0.366268 LR = 0.00000667\n"
     ]
    },
    {
     "data": {
      "application/vnd.jupyter.widget-view+json": {
       "model_id": "e983667ebcd14412b085477591af9159",
       "version_major": 2,
       "version_minor": 0
      },
      "text/plain": [
       "HBox(children=(FloatProgress(value=0.0, description='Batches', max=18.0, style=ProgressStyle(description_width…"
      ]
     },
     "metadata": {},
     "output_type": "display_data"
    },
    {
     "name": "stdout",
     "output_type": "stream",
     "text": [
      "\n",
      "Epoch =  41 Loss = 0.385714 LR = 0.00000516\n"
     ]
    },
    {
     "data": {
      "application/vnd.jupyter.widget-view+json": {
       "model_id": "2519146389c6443ba2a5d75303738555",
       "version_major": 2,
       "version_minor": 0
      },
      "text/plain": [
       "HBox(children=(FloatProgress(value=0.0, description='Batches', max=18.0, style=ProgressStyle(description_width…"
      ]
     },
     "metadata": {},
     "output_type": "display_data"
    },
    {
     "name": "stdout",
     "output_type": "stream",
     "text": [
      "\n",
      "Epoch =  42 Loss = 0.377686 LR = 0.00000383\n"
     ]
    },
    {
     "data": {
      "application/vnd.jupyter.widget-view+json": {
       "model_id": "b9d0d4565e484819a1187ba826909ee1",
       "version_major": 2,
       "version_minor": 0
      },
      "text/plain": [
       "HBox(children=(FloatProgress(value=0.0, description='Generate Predictions', max=36.0, style=ProgressStyle(desc…"
      ]
     },
     "metadata": {},
     "output_type": "display_data"
    },
    {
     "name": "stdout",
     "output_type": "stream",
     "text": [
      "\n"
     ]
    },
    {
     "data": {
      "application/vnd.jupyter.widget-view+json": {
       "model_id": "2e935c87bb5b4975b7a6a16cb95a03eb",
       "version_major": 2,
       "version_minor": 0
      },
      "text/plain": [
       "HBox(children=(FloatProgress(value=0.0, description='Generate Predictions', max=2.0, style=ProgressStyle(descr…"
      ]
     },
     "metadata": {},
     "output_type": "display_data"
    },
    {
     "name": "stdout",
     "output_type": "stream",
     "text": [
      "\n"
     ]
    },
    {
     "data": {
      "text/html": [
       "<div>\n",
       "<style scoped>\n",
       "    .dataframe tbody tr th:only-of-type {\n",
       "        vertical-align: middle;\n",
       "    }\n",
       "\n",
       "    .dataframe tbody tr th {\n",
       "        vertical-align: top;\n",
       "    }\n",
       "\n",
       "    .dataframe thead tr th {\n",
       "        text-align: left;\n",
       "    }\n",
       "\n",
       "    .dataframe thead tr:last-of-type th {\n",
       "        text-align: right;\n",
       "    }\n",
       "</style>\n",
       "<table border=\"1\" class=\"dataframe\">\n",
       "  <thead>\n",
       "    <tr>\n",
       "      <th></th>\n",
       "      <th colspan=\"2\" halign=\"left\">Proba</th>\n",
       "      <th colspan=\"2\" halign=\"left\">Preds</th>\n",
       "    </tr>\n",
       "    <tr>\n",
       "      <th></th>\n",
       "      <th>min</th>\n",
       "      <th>max</th>\n",
       "      <th>min</th>\n",
       "      <th>max</th>\n",
       "    </tr>\n",
       "    <tr>\n",
       "      <th>Labels</th>\n",
       "      <th></th>\n",
       "      <th></th>\n",
       "      <th></th>\n",
       "      <th></th>\n",
       "    </tr>\n",
       "  </thead>\n",
       "  <tbody>\n",
       "    <tr>\n",
       "      <th>0</th>\n",
       "      <td>0.045</td>\n",
       "      <td>0.740</td>\n",
       "      <td>0</td>\n",
       "      <td>1</td>\n",
       "    </tr>\n",
       "    <tr>\n",
       "      <th>1</th>\n",
       "      <td>0.125</td>\n",
       "      <td>0.804</td>\n",
       "      <td>0</td>\n",
       "      <td>1</td>\n",
       "    </tr>\n",
       "  </tbody>\n",
       "</table>\n",
       "</div>"
      ],
      "text/plain": [
       "       Proba       Preds    \n",
       "         min   max   min max\n",
       "Labels                      \n",
       "0      0.045 0.740     0   1\n",
       "1      0.125 0.804     0   1"
      ]
     },
     "metadata": {},
     "output_type": "display_data"
    },
    {
     "data": {
      "text/html": [
       "<div>\n",
       "<style scoped>\n",
       "    .dataframe tbody tr th:only-of-type {\n",
       "        vertical-align: middle;\n",
       "    }\n",
       "\n",
       "    .dataframe tbody tr th {\n",
       "        vertical-align: top;\n",
       "    }\n",
       "\n",
       "    .dataframe thead th {\n",
       "        text-align: right;\n",
       "    }\n",
       "</style>\n",
       "<table border=\"1\" class=\"dataframe\">\n",
       "  <thead>\n",
       "    <tr style=\"text-align: right;\">\n",
       "      <th></th>\n",
       "      <th>Proba</th>\n",
       "      <th>Probas</th>\n",
       "      <th>Preds</th>\n",
       "      <th>Labels</th>\n",
       "      <th>Proba</th>\n",
       "      <th>Probas</th>\n",
       "      <th>Preds</th>\n",
       "      <th>Labels</th>\n",
       "      <th>Proba</th>\n",
       "      <th>Probas</th>\n",
       "      <th>Preds</th>\n",
       "      <th>Labels</th>\n",
       "    </tr>\n",
       "  </thead>\n",
       "  <tbody>\n",
       "    <tr>\n",
       "      <th>0</th>\n",
       "      <td>0.366</td>\n",
       "      <td>[0.634419858455658, 0.36558014154434204]</td>\n",
       "      <td>0</td>\n",
       "      <td>0</td>\n",
       "      <td>0.599</td>\n",
       "      <td>[0.40105992555618286, 0.5989401340484619]</td>\n",
       "      <td>1</td>\n",
       "      <td>0</td>\n",
       "      <td>0.415</td>\n",
       "      <td>[0.5845998525619507, 0.41540008783340454]</td>\n",
       "      <td>0</td>\n",
       "      <td>1</td>\n",
       "    </tr>\n",
       "    <tr>\n",
       "      <th>1</th>\n",
       "      <td>0.465</td>\n",
       "      <td>[0.5353122353553772, 0.464687705039978]</td>\n",
       "      <td>0</td>\n",
       "      <td>0</td>\n",
       "      <td>0.414</td>\n",
       "      <td>[0.5864332914352417, 0.4135666489601135]</td>\n",
       "      <td>0</td>\n",
       "      <td>1</td>\n",
       "      <td>0.510</td>\n",
       "      <td>[0.490057110786438, 0.509942889213562]</td>\n",
       "      <td>1</td>\n",
       "      <td>1</td>\n",
       "    </tr>\n",
       "    <tr>\n",
       "      <th>2</th>\n",
       "      <td>0.484</td>\n",
       "      <td>[0.515511155128479, 0.4844888150691986]</td>\n",
       "      <td>0</td>\n",
       "      <td>1</td>\n",
       "      <td>0.468</td>\n",
       "      <td>[0.5316704511642456, 0.4683295786380768]</td>\n",
       "      <td>0</td>\n",
       "      <td>1</td>\n",
       "      <td>0.360</td>\n",
       "      <td>[0.6399023532867432, 0.36009764671325684]</td>\n",
       "      <td>0</td>\n",
       "      <td>0</td>\n",
       "    </tr>\n",
       "    <tr>\n",
       "      <th>3</th>\n",
       "      <td>0.597</td>\n",
       "      <td>[0.40302547812461853, 0.5969744920730591]</td>\n",
       "      <td>1</td>\n",
       "      <td>0</td>\n",
       "      <td>0.288</td>\n",
       "      <td>[0.7116161584854126, 0.2883838415145874]</td>\n",
       "      <td>0</td>\n",
       "      <td>0</td>\n",
       "      <td>0.629</td>\n",
       "      <td>[0.3708760738372803, 0.6291239261627197]</td>\n",
       "      <td>1</td>\n",
       "      <td>1</td>\n",
       "    </tr>\n",
       "    <tr>\n",
       "      <th>4</th>\n",
       "      <td>0.437</td>\n",
       "      <td>[0.5631700754165649, 0.4368298649787903]</td>\n",
       "      <td>0</td>\n",
       "      <td>0</td>\n",
       "      <td>0.246</td>\n",
       "      <td>[0.7536891102790833, 0.24631090462207794]</td>\n",
       "      <td>0</td>\n",
       "      <td>0</td>\n",
       "      <td>0.601</td>\n",
       "      <td>[0.3991946280002594, 0.600805401802063]</td>\n",
       "      <td>1</td>\n",
       "      <td>1</td>\n",
       "    </tr>\n",
       "  </tbody>\n",
       "</table>\n",
       "</div>"
      ],
      "text/plain": [
       "  Proba                                     Probas Preds Labels Proba  \\\n",
       "0 0.366   [0.634419858455658, 0.36558014154434204]     0      0 0.599   \n",
       "1 0.465    [0.5353122353553772, 0.464687705039978]     0      0 0.414   \n",
       "2 0.484    [0.515511155128479, 0.4844888150691986]     0      1 0.468   \n",
       "3 0.597  [0.40302547812461853, 0.5969744920730591]     1      0 0.288   \n",
       "4 0.437   [0.5631700754165649, 0.4368298649787903]     0      0 0.246   \n",
       "\n",
       "                                      Probas Preds Labels Proba  \\\n",
       "0  [0.40105992555618286, 0.5989401340484619]     1      0 0.415   \n",
       "1   [0.5864332914352417, 0.4135666489601135]     0      1 0.510   \n",
       "2   [0.5316704511642456, 0.4683295786380768]     0      1 0.360   \n",
       "3   [0.7116161584854126, 0.2883838415145874]     0      0 0.629   \n",
       "4  [0.7536891102790833, 0.24631090462207794]     0      0 0.601   \n",
       "\n",
       "                                      Probas Preds Labels  \n",
       "0  [0.5845998525619507, 0.41540008783340454]     0      1  \n",
       "1     [0.490057110786438, 0.509942889213562]     1      1  \n",
       "2  [0.6399023532867432, 0.36009764671325684]     0      0  \n",
       "3   [0.3708760738372803, 0.6291239261627197]     1      1  \n",
       "4    [0.3991946280002594, 0.600805401802063]     1      1  "
      ]
     },
     "metadata": {},
     "output_type": "display_data"
    },
    {
     "name": "stdout",
     "output_type": "stream",
     "text": [
      "scores =  {'map': '0.6422', 'acc': '0.5880', 'auc': '0.6615'}\n",
      "Epoch =  42 Train = 0.775946 Val = 0.661544\n"
     ]
    },
    {
     "data": {
      "application/vnd.jupyter.widget-view+json": {
       "model_id": "adba0468ec5f4c14849b653e4477633d",
       "version_major": 2,
       "version_minor": 0
      },
      "text/plain": [
       "HBox(children=(FloatProgress(value=0.0, description='Batches', max=18.0, style=ProgressStyle(description_width…"
      ]
     },
     "metadata": {},
     "output_type": "display_data"
    },
    {
     "name": "stdout",
     "output_type": "stream",
     "text": [
      "\n",
      "Epoch =  43 Loss = 0.378372 LR = 0.00000268\n"
     ]
    },
    {
     "data": {
      "application/vnd.jupyter.widget-view+json": {
       "model_id": "0108cd2640cb468484f978d6a92a7d2a",
       "version_major": 2,
       "version_minor": 0
      },
      "text/plain": [
       "HBox(children=(FloatProgress(value=0.0, description='Batches', max=18.0, style=ProgressStyle(description_width…"
      ]
     },
     "metadata": {},
     "output_type": "display_data"
    },
    {
     "name": "stdout",
     "output_type": "stream",
     "text": [
      "\n",
      "Epoch =  44 Loss = 0.375548 LR = 0.00000173\n"
     ]
    },
    {
     "data": {
      "application/vnd.jupyter.widget-view+json": {
       "model_id": "c49ec8bc43a24a92be3cc592d14cf488",
       "version_major": 2,
       "version_minor": 0
      },
      "text/plain": [
       "HBox(children=(FloatProgress(value=0.0, description='Batches', max=18.0, style=ProgressStyle(description_width…"
      ]
     },
     "metadata": {},
     "output_type": "display_data"
    },
    {
     "name": "stdout",
     "output_type": "stream",
     "text": [
      "\n",
      "Epoch =  45 Loss = 0.371717 LR = 0.00000098\n"
     ]
    },
    {
     "data": {
      "application/vnd.jupyter.widget-view+json": {
       "model_id": "5fe70f560bd849ebbb4c684f6685bbeb",
       "version_major": 2,
       "version_minor": 0
      },
      "text/plain": [
       "HBox(children=(FloatProgress(value=0.0, description='Batches', max=18.0, style=ProgressStyle(description_width…"
      ]
     },
     "metadata": {},
     "output_type": "display_data"
    },
    {
     "name": "stdout",
     "output_type": "stream",
     "text": [
      "\n",
      "Epoch =  46 Loss = 0.374816 LR = 0.00000044\n"
     ]
    },
    {
     "data": {
      "application/vnd.jupyter.widget-view+json": {
       "model_id": "46d7852f47594406a9a6c65790da8d5a",
       "version_major": 2,
       "version_minor": 0
      },
      "text/plain": [
       "HBox(children=(FloatProgress(value=0.0, description='Generate Predictions', max=36.0, style=ProgressStyle(desc…"
      ]
     },
     "metadata": {},
     "output_type": "display_data"
    },
    {
     "name": "stdout",
     "output_type": "stream",
     "text": [
      "\n"
     ]
    },
    {
     "data": {
      "application/vnd.jupyter.widget-view+json": {
       "model_id": "e0ad96dac2284db78d8006dc89896f23",
       "version_major": 2,
       "version_minor": 0
      },
      "text/plain": [
       "HBox(children=(FloatProgress(value=0.0, description='Generate Predictions', max=2.0, style=ProgressStyle(descr…"
      ]
     },
     "metadata": {},
     "output_type": "display_data"
    },
    {
     "name": "stdout",
     "output_type": "stream",
     "text": [
      "\n"
     ]
    },
    {
     "data": {
      "text/html": [
       "<div>\n",
       "<style scoped>\n",
       "    .dataframe tbody tr th:only-of-type {\n",
       "        vertical-align: middle;\n",
       "    }\n",
       "\n",
       "    .dataframe tbody tr th {\n",
       "        vertical-align: top;\n",
       "    }\n",
       "\n",
       "    .dataframe thead tr th {\n",
       "        text-align: left;\n",
       "    }\n",
       "\n",
       "    .dataframe thead tr:last-of-type th {\n",
       "        text-align: right;\n",
       "    }\n",
       "</style>\n",
       "<table border=\"1\" class=\"dataframe\">\n",
       "  <thead>\n",
       "    <tr>\n",
       "      <th></th>\n",
       "      <th colspan=\"2\" halign=\"left\">Proba</th>\n",
       "      <th colspan=\"2\" halign=\"left\">Preds</th>\n",
       "    </tr>\n",
       "    <tr>\n",
       "      <th></th>\n",
       "      <th>min</th>\n",
       "      <th>max</th>\n",
       "      <th>min</th>\n",
       "      <th>max</th>\n",
       "    </tr>\n",
       "    <tr>\n",
       "      <th>Labels</th>\n",
       "      <th></th>\n",
       "      <th></th>\n",
       "      <th></th>\n",
       "      <th></th>\n",
       "    </tr>\n",
       "  </thead>\n",
       "  <tbody>\n",
       "    <tr>\n",
       "      <th>0</th>\n",
       "      <td>0.055</td>\n",
       "      <td>0.718</td>\n",
       "      <td>0</td>\n",
       "      <td>1</td>\n",
       "    </tr>\n",
       "    <tr>\n",
       "      <th>1</th>\n",
       "      <td>0.212</td>\n",
       "      <td>0.809</td>\n",
       "      <td>0</td>\n",
       "      <td>1</td>\n",
       "    </tr>\n",
       "  </tbody>\n",
       "</table>\n",
       "</div>"
      ],
      "text/plain": [
       "       Proba       Preds    \n",
       "         min   max   min max\n",
       "Labels                      \n",
       "0      0.055 0.718     0   1\n",
       "1      0.212 0.809     0   1"
      ]
     },
     "metadata": {},
     "output_type": "display_data"
    },
    {
     "data": {
      "text/html": [
       "<div>\n",
       "<style scoped>\n",
       "    .dataframe tbody tr th:only-of-type {\n",
       "        vertical-align: middle;\n",
       "    }\n",
       "\n",
       "    .dataframe tbody tr th {\n",
       "        vertical-align: top;\n",
       "    }\n",
       "\n",
       "    .dataframe thead th {\n",
       "        text-align: right;\n",
       "    }\n",
       "</style>\n",
       "<table border=\"1\" class=\"dataframe\">\n",
       "  <thead>\n",
       "    <tr style=\"text-align: right;\">\n",
       "      <th></th>\n",
       "      <th>Proba</th>\n",
       "      <th>Probas</th>\n",
       "      <th>Preds</th>\n",
       "      <th>Labels</th>\n",
       "      <th>Proba</th>\n",
       "      <th>Probas</th>\n",
       "      <th>Preds</th>\n",
       "      <th>Labels</th>\n",
       "      <th>Proba</th>\n",
       "      <th>Probas</th>\n",
       "      <th>Preds</th>\n",
       "      <th>Labels</th>\n",
       "    </tr>\n",
       "  </thead>\n",
       "  <tbody>\n",
       "    <tr>\n",
       "      <th>0</th>\n",
       "      <td>0.273</td>\n",
       "      <td>[0.7271482348442078, 0.27285176515579224]</td>\n",
       "      <td>0</td>\n",
       "      <td>0</td>\n",
       "      <td>0.394</td>\n",
       "      <td>[0.6058925986289978, 0.3941074013710022]</td>\n",
       "      <td>0</td>\n",
       "      <td>1</td>\n",
       "      <td>0.387</td>\n",
       "      <td>[0.6128231287002563, 0.38717690110206604]</td>\n",
       "      <td>0</td>\n",
       "      <td>1</td>\n",
       "    </tr>\n",
       "    <tr>\n",
       "      <th>1</th>\n",
       "      <td>0.531</td>\n",
       "      <td>[0.46917659044265747, 0.5308234095573425]</td>\n",
       "      <td>1</td>\n",
       "      <td>1</td>\n",
       "      <td>0.452</td>\n",
       "      <td>[0.5479374527931213, 0.4520624876022339]</td>\n",
       "      <td>0</td>\n",
       "      <td>1</td>\n",
       "      <td>0.654</td>\n",
       "      <td>[0.34582483768463135, 0.6541751623153687]</td>\n",
       "      <td>1</td>\n",
       "      <td>1</td>\n",
       "    </tr>\n",
       "    <tr>\n",
       "      <th>2</th>\n",
       "      <td>0.497</td>\n",
       "      <td>[0.5027844905853271, 0.49721550941467285]</td>\n",
       "      <td>0</td>\n",
       "      <td>1</td>\n",
       "      <td>0.373</td>\n",
       "      <td>[0.626849889755249, 0.373150110244751]</td>\n",
       "      <td>0</td>\n",
       "      <td>0</td>\n",
       "      <td>0.259</td>\n",
       "      <td>[0.7407456636428833, 0.2592542767524719]</td>\n",
       "      <td>0</td>\n",
       "      <td>0</td>\n",
       "    </tr>\n",
       "    <tr>\n",
       "      <th>3</th>\n",
       "      <td>0.212</td>\n",
       "      <td>[0.7879893779754639, 0.21201065182685852]</td>\n",
       "      <td>0</td>\n",
       "      <td>1</td>\n",
       "      <td>0.512</td>\n",
       "      <td>[0.48808547854423523, 0.5119144916534424]</td>\n",
       "      <td>1</td>\n",
       "      <td>0</td>\n",
       "      <td>0.363</td>\n",
       "      <td>[0.6373913288116455, 0.3626086711883545]</td>\n",
       "      <td>0</td>\n",
       "      <td>1</td>\n",
       "    </tr>\n",
       "    <tr>\n",
       "      <th>4</th>\n",
       "      <td>0.302</td>\n",
       "      <td>[0.6977134346961975, 0.3022865653038025]</td>\n",
       "      <td>0</td>\n",
       "      <td>0</td>\n",
       "      <td>0.497</td>\n",
       "      <td>[0.5027844905853271, 0.49721550941467285]</td>\n",
       "      <td>0</td>\n",
       "      <td>1</td>\n",
       "      <td>0.585</td>\n",
       "      <td>[0.41471201181411743, 0.5852879881858826]</td>\n",
       "      <td>1</td>\n",
       "      <td>0</td>\n",
       "    </tr>\n",
       "  </tbody>\n",
       "</table>\n",
       "</div>"
      ],
      "text/plain": [
       "  Proba                                     Probas Preds Labels Proba  \\\n",
       "0 0.273  [0.7271482348442078, 0.27285176515579224]     0      0 0.394   \n",
       "1 0.531  [0.46917659044265747, 0.5308234095573425]     1      1 0.452   \n",
       "2 0.497  [0.5027844905853271, 0.49721550941467285]     0      1 0.373   \n",
       "3 0.212  [0.7879893779754639, 0.21201065182685852]     0      1 0.512   \n",
       "4 0.302   [0.6977134346961975, 0.3022865653038025]     0      0 0.497   \n",
       "\n",
       "                                      Probas Preds Labels Proba  \\\n",
       "0   [0.6058925986289978, 0.3941074013710022]     0      1 0.387   \n",
       "1   [0.5479374527931213, 0.4520624876022339]     0      1 0.654   \n",
       "2     [0.626849889755249, 0.373150110244751]     0      0 0.259   \n",
       "3  [0.48808547854423523, 0.5119144916534424]     1      0 0.363   \n",
       "4  [0.5027844905853271, 0.49721550941467285]     0      1 0.585   \n",
       "\n",
       "                                      Probas Preds Labels  \n",
       "0  [0.6128231287002563, 0.38717690110206604]     0      1  \n",
       "1  [0.34582483768463135, 0.6541751623153687]     1      1  \n",
       "2   [0.7407456636428833, 0.2592542767524719]     0      0  \n",
       "3   [0.6373913288116455, 0.3626086711883545]     0      1  \n",
       "4  [0.41471201181411743, 0.5852879881858826]     1      0  "
      ]
     },
     "metadata": {},
     "output_type": "display_data"
    },
    {
     "name": "stdout",
     "output_type": "stream",
     "text": [
      "scores =  {'map': '0.6523', 'acc': '0.5880', 'auc': '0.6554'}\n",
      "Epoch =  46 Train = 0.777533 Val = 0.655368\n"
     ]
    },
    {
     "data": {
      "application/vnd.jupyter.widget-view+json": {
       "model_id": "16216411320547ae8d43b97dacfb3b89",
       "version_major": 2,
       "version_minor": 0
      },
      "text/plain": [
       "HBox(children=(FloatProgress(value=0.0, description='Batches', max=18.0, style=ProgressStyle(description_width…"
      ]
     },
     "metadata": {},
     "output_type": "display_data"
    },
    {
     "name": "stdout",
     "output_type": "stream",
     "text": [
      "\n",
      "Epoch =  47 Loss = 0.376497 LR = 0.00000011\n"
     ]
    },
    {
     "data": {
      "application/vnd.jupyter.widget-view+json": {
       "model_id": "81e5302c627f469b9a728cef6254387f",
       "version_major": 2,
       "version_minor": 0
      },
      "text/plain": [
       "HBox(children=(FloatProgress(value=0.0, description='Batches', max=18.0, style=ProgressStyle(description_width…"
      ]
     },
     "metadata": {},
     "output_type": "display_data"
    },
    {
     "name": "stdout",
     "output_type": "stream",
     "text": [
      "\n",
      "Epoch =  48 Loss = 0.371543 LR = 0.00000000\n",
      "\n"
     ]
    },
    {
     "data": {
      "image/png": "[encoded data removed]",
      "text/plain": [
       "<Figure size 576x576 with 2 Axes>"
      ]
     },
     "metadata": {
      "image/png": {
       "height": 567,
       "width": 568
      },
      "needs_background": "light"
     },
     "output_type": "display_data"
    },
    {
     "data": {
      "application/vnd.jupyter.widget-view+json": {
       "model_id": "a6f513358155405287eb2a560963b4b0",
       "version_major": 2,
       "version_minor": 0
      },
      "text/plain": [
       "HBox(children=(FloatProgress(value=0.0, description='Generate Predictions', max=4.0, style=ProgressStyle(descr…"
      ]
     },
     "metadata": {},
     "output_type": "display_data"
    },
    {
     "name": "stdout",
     "output_type": "stream",
     "text": [
      "\n"
     ]
    },
    {
     "data": {
      "text/html": [
       "<div>\n",
       "<style scoped>\n",
       "    .dataframe tbody tr th:only-of-type {\n",
       "        vertical-align: middle;\n",
       "    }\n",
       "\n",
       "    .dataframe tbody tr th {\n",
       "        vertical-align: top;\n",
       "    }\n",
       "\n",
       "    .dataframe thead th {\n",
       "        text-align: right;\n",
       "    }\n",
       "</style>\n",
       "<table border=\"1\" class=\"dataframe\">\n",
       "  <thead>\n",
       "    <tr style=\"text-align: right;\">\n",
       "      <th></th>\n",
       "      <th>id</th>\n",
       "      <th>proba</th>\n",
       "      <th>label</th>\n",
       "    </tr>\n",
       "  </thead>\n",
       "  <tbody>\n",
       "    <tr>\n",
       "      <th>666</th>\n",
       "      <td>46503</td>\n",
       "      <td>0.609</td>\n",
       "      <td>1</td>\n",
       "    </tr>\n",
       "    <tr>\n",
       "      <th>438</th>\n",
       "      <td>38401</td>\n",
       "      <td>0.653</td>\n",
       "      <td>1</td>\n",
       "    </tr>\n",
       "    <tr>\n",
       "      <th>628</th>\n",
       "      <td>18462</td>\n",
       "      <td>0.359</td>\n",
       "      <td>0</td>\n",
       "    </tr>\n",
       "    <tr>\n",
       "      <th>493</th>\n",
       "      <td>84325</td>\n",
       "      <td>0.500</td>\n",
       "      <td>1</td>\n",
       "    </tr>\n",
       "    <tr>\n",
       "      <th>142</th>\n",
       "      <td>25893</td>\n",
       "      <td>0.366</td>\n",
       "      <td>0</td>\n",
       "    </tr>\n",
       "  </tbody>\n",
       "</table>\n",
       "</div>"
      ],
      "text/plain": [
       "        id  proba  label\n",
       "666  46503  0.609      1\n",
       "438  38401  0.653      1\n",
       "628  18462  0.359      0\n",
       "493  84325  0.500      1\n",
       "142  25893  0.366      0"
      ]
     },
     "execution_count": 8,
     "metadata": {},
     "output_type": "execute_result"
    }
   ],
   "source": [
    "submission, text_model = train_and_predict(model_fn, data, batch_size, epochs, \n",
    "                                           scheduler_init_fn=scheduler_init_fn, \n",
    "                                           model_call_back=reg_sched,\n",
    "                                           sampling_policy=\"without_replacement\",\n",
    "                                           validation_epochs=[15, 34, 42, 46],\n",
    "                                          )\n",
    "submission.to_csv(\"submission.csv\",index=False)\n",
    "submission.sample(5)\n"
   ]
  },
  {
   "cell_type": "code",
   "execution_count": null,
   "metadata": {
    "hidden": true
   },
   "outputs": [],
   "source": []
  }
 ],
 "metadata": {
  "kernelspec": {
   "display_name": "Python 3",
   "language": "python",
   "name": "python3"
  },
  "language_info": {
   "codemirror_mode": {
    "name": "ipython",
    "version": 3
   },
   "file_extension": ".py",
   "mimetype": "text/x-python",
   "name": "python",
   "nbconvert_exporter": "python",
   "pygments_lexer": "ipython3",
   "version": "3.7.6"
  },
  "toc": {
   "base_numbering": 1,
   "nav_menu": {},
   "number_sections": true,
   "sideBar": true,
   "skip_h1_title": false,
   "title_cell": "Table of Contents",
   "title_sidebar": "Contents",
   "toc_cell": false,
   "toc_position": {
    "height": "822px",
    "left": "0px",
    "top": "111.133px",
    "width": "165px"
   },
   "toc_section_display": true,
   "toc_window_display": true
  }
 },
 "nbformat": 4,
 "nbformat_minor": 4
}
