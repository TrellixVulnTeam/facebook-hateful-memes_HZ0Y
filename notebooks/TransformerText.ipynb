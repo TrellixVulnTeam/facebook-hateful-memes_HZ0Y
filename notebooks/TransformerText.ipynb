{
 "cells": [
  {
   "cell_type": "markdown",
   "metadata": {},
   "source": [
    "# Data and Imports"
   ]
  },
  {
   "cell_type": "code",
   "execution_count": 1,
   "metadata": {
    "ExecuteTime": {
     "end_time": "2020-07-24T17:38:30.425122Z",
     "start_time": "2020-07-24T17:38:27.597769Z"
    }
   },
   "outputs": [],
   "source": [
    "\n",
    "\n",
    "\n",
    "import pandas as pd\n",
    "import numpy as np\n",
    "import jsonlines\n",
    "import seaborn as sns\n",
    "%matplotlib inline\n",
    "%config InlineBackend.figure_format = 'retina'\n",
    "import torch.nn as nn\n",
    "import torch\n",
    "import torch.nn.functional as F\n",
    "from torch.utils.data import Dataset, DataLoader\n",
    "from torchvision import transforms, utils\n",
    "import torch_optimizer as optim\n",
    "\n",
    "\n",
    "from IPython.core.interactiveshell import InteractiveShell\n",
    "InteractiveShell.ast_node_interactivity = \"all\"\n",
    "from importlib import reload\n",
    "pd.set_option('display.max_rows', 500)\n",
    "pd.set_option('display.float_format', '{:0.3f}'.format)\n",
    "pd.set_option('display.max_columns', 500)\n",
    "pd.set_option('display.width', 1000)\n",
    "pd.options.display.width = 0\n",
    "import warnings\n",
    "import torchvision\n",
    "warnings.filterwarnings('ignore')\n",
    "\n",
    "from facebook_hateful_memes_detector.utils.globals import set_global, get_global\n",
    "set_global(\"cache_dir\", \"/home/ahemf/cache/cache\")\n",
    "set_global(\"dataloader_workers\", 4)\n",
    "set_global(\"use_autocast\", True)\n",
    "set_global(\"models_dir\", \"/home/ahemf/cache/\")\n",
    "\n",
    "from facebook_hateful_memes_detector.utils import read_json_lines_into_df, in_notebook, set_device\n",
    "get_global(\"cache_dir\")\n",
    "from facebook_hateful_memes_detector.models import Fasttext1DCNNModel, MultiImageMultiTextAttentionEarlyFusionModel, LangFeaturesModel, AlbertClassifer\n",
    "from facebook_hateful_memes_detector.preprocessing import TextImageDataset, my_collate, get_datasets, get_image2torchvision_transforms, TextAugment\n",
    "from facebook_hateful_memes_detector.preprocessing import DefinedRotation, QuadrantCut, ImageAugment\n",
    "from facebook_hateful_memes_detector.training import *\n",
    "import facebook_hateful_memes_detector\n",
    "reload(facebook_hateful_memes_detector)\n",
    "\n",
    "device = torch.device(\"cuda\" if torch.cuda.is_available() else \"cpu\")\n",
    "set_device(device)\n"
   ]
  },
  {
   "cell_type": "code",
   "execution_count": 2,
   "metadata": {
    "ExecuteTime": {
     "end_time": "2020-07-24T17:38:30.435344Z",
     "start_time": "2020-07-24T17:38:30.426838Z"
    }
   },
   "outputs": [
    {
     "data": {
      "text/plain": [
       "device(type='cuda')"
      ]
     },
     "execution_count": 2,
     "metadata": {},
     "output_type": "execute_result"
    }
   ],
   "source": [
    "device = torch.device(\"cuda\" if torch.cuda.is_available() else \"cpu\")\n",
    "set_device(device)\n",
    "device\n"
   ]
  },
  {
   "cell_type": "code",
   "execution_count": 3,
   "metadata": {
    "ExecuteTime": {
     "end_time": "2020-07-24T17:38:30.441175Z",
     "start_time": "2020-07-24T17:38:30.437003Z"
    }
   },
   "outputs": [],
   "source": [
    "aug_speeds = {\"keyboard\": 117, \"char_substitute\": 109, \"char_insert\": 109, \"char_swap\": 114,\n",
    "              \"ocr\": 114, \"char_delete\": 108,\n",
    "              \"word_insert\": 0.0, \"word_substitute\": 0.0, \"text_rotate\": 32,\n",
    "              \"stopword_insert\": 34, \"word_join\": 32, \"word_cutout\": 36,\n",
    "              \"w2v_insert\": 0.0, \"w2v_substitute\": 0.0, \n",
    "              \"fasttext\": 137, \"glove_twitter\": 88, \"glove_wiki\": 82, \"word2vec\": 137,\n",
    "              \"synonym\": 522, \"split\": 110, \"sentence_shuffle\": 67, \"one_third_cut\": 0.0, \"half_cut\":0.0}\n"
   ]
  },
  {
   "cell_type": "markdown",
   "metadata": {},
   "source": [
    "- What Augs are useful\n",
    "- What Text models perform best"
   ]
  },
  {
   "cell_type": "code",
   "execution_count": 4,
   "metadata": {
    "ExecuteTime": {
     "end_time": "2020-07-24T17:38:30.552682Z",
     "start_time": "2020-07-24T17:38:30.442629Z"
    }
   },
   "outputs": [],
   "source": [
    "\n",
    "\n",
    "choice_probas = {\"keyboard\": 0.1, \"char_substitute\": 0.0, \"char_insert\": 0.1, \"char_swap\": 0.1, \"ocr\": 0.0, \"char_delete\": 0.1,\n",
    "                 \"fasttext\": 0.0, \"glove_twitter\": 0.0, \"glove_wiki\": 0.0, \"word2vec\": 0.0, \"split\": 0.1,\n",
    "                 \"stopword_insert\": 0.3, \"word_join\": 0.1, \"word_cutout\": 0.8,\n",
    "                 \"text_rotate\": 0.5, \"sentence_shuffle\": 0.5, \"one_third_cut\": 0.3, \"half_cut\":0.1}\n",
    "preprocess_text = TextAugment([0.05, 0.05, 0.05, 0.35, 0.3, 0.2], choice_probas, fasttext_file=\"wiki-news-300d-1M-subword.bin\")\n",
    "\n",
    "\n",
    "data = get_datasets(data_dir=\"../data/\", train_text_transform=preprocess_text, train_image_transform=None, \n",
    "                    test_text_transform=None, test_image_transform=None, \n",
    "                    cache_images = True, use_images = False, dev=False, test_dev=True,\n",
    "                    keep_original_text=False, keep_original_image=False, \n",
    "                    keep_processed_image=True, keep_torchvision_image=False,)\n",
    "\n",
    "# images = list(data[\"train\"].img) + list(data[\"test\"].img)\n",
    "# pd.DataFrame({\"img\":images}).to_csv(\"image.csv\", header=None, index=None)\n",
    "\n",
    "# ImageAugment([0.2, 0.5, 0.3])\n"
   ]
  },
  {
   "cell_type": "code",
   "execution_count": 5,
   "metadata": {
    "ExecuteTime": {
     "end_time": "2020-07-24T17:38:30.604621Z",
     "start_time": "2020-07-24T17:38:30.602380Z"
    }
   },
   "outputs": [],
   "source": [
    "# data[\"train\"].label.value_counts()\n",
    "# train = data[\"train\"]\n",
    "\n",
    "# ones = train[train[\"label\"] == 1]\n",
    "# zeros = train[train[\"label\"] == 0].sample(n=len(ones), replace=False)\n",
    "# data[\"train\"] = pd.concat((ones, zeros)).sample(frac=1.0)\n",
    "# data[\"train\"].label.value_counts()\n",
    "\n",
    "# len(set(data[\"train\"][\"id\"])) == data[\"train\"].shape[0]\n"
   ]
  },
  {
   "cell_type": "code",
   "execution_count": null,
   "metadata": {},
   "outputs": [],
   "source": []
  },
  {
   "cell_type": "markdown",
   "metadata": {},
   "source": [
    "https://discuss.pytorch.org/t/how-to-implement-torch-optim-lr-scheduler-cosineannealinglr/28797/11"
   ]
  },
  {
   "cell_type": "markdown",
   "metadata": {},
   "source": [
    "# Params"
   ]
  },
  {
   "cell_type": "code",
   "execution_count": 6,
   "metadata": {
    "ExecuteTime": {
     "end_time": "2020-07-24T17:38:31.976726Z",
     "start_time": "2020-07-24T17:38:31.967371Z"
    }
   },
   "outputs": [],
   "source": [
    "sgd = torch.optim.SGD\n",
    "sgd_params = dict(lr=2e-2, momentum=0.9, dampening=0, weight_decay=0, nesterov=False)\n",
    "\n",
    "rangerQH = optim.RangerQH\n",
    "rangerQHparams = dict(lr=1e-3, betas=(0.9, 0.999), nus=(.7, 1.0),\n",
    "    weight_decay=0.0,\n",
    "    k=6,\n",
    "    alpha=.5,\n",
    "    decouple_weight_decay=True,\n",
    "    eps=1e-8,)\n",
    "\n",
    "adam = torch.optim.Adam\n",
    "adam_params = params=dict(lr=1e-3, weight_decay=1e-7)\n",
    "\n",
    "adamw = torch.optim.AdamW\n",
    "adamw_params = dict(lr=0.001, betas=(0.9, 0.999), eps=1e-08, weight_decay=1e-2)\n",
    "\n",
    "novograd = optim.NovoGrad\n",
    "novograd_params = dict(lr= 1e-3,\n",
    "    betas=(0.9, 0.999),\n",
    "    eps=1e-8,\n",
    "    weight_decay=0,\n",
    "    grad_averaging=False,\n",
    "    amsgrad=False,)\n",
    "\n",
    "qhadam = optim.QHAdam\n",
    "qhadam_params = dict(lr= 1e-3,\n",
    "    betas=(0.9, 0.999),\n",
    "    nus=(1.0, 1.0),\n",
    "    weight_decay=0,\n",
    "    decouple_weight_decay=False,\n",
    "    eps=1e-8,)\n",
    "\n",
    "radam = optim.RAdam\n",
    "radam_params = dict(lr= 1e-3,\n",
    "    betas=(0.9, 0.999),\n",
    "    eps=1e-8,\n",
    "    weight_decay=0,)\n",
    "\n",
    "yogi = optim.Yogi\n",
    "yogi_params = dict(lr= 1e-2,\n",
    "    betas=(0.9, 0.999),\n",
    "    eps=1e-3,\n",
    "    initial_accumulator=1e-6,\n",
    "    weight_decay=0)\n",
    "\n",
    "\n"
   ]
  },
  {
   "cell_type": "code",
   "execution_count": 7,
   "metadata": {
    "ExecuteTime": {
     "end_time": "2020-07-24T17:38:32.577707Z",
     "start_time": "2020-07-24T17:38:32.574208Z"
    }
   },
   "outputs": [],
   "source": [
    "batch_size=256\n",
    "epochs = 10\n",
    "optimizer = adam\n",
    "optimizer_params = adam_params\n",
    "\n",
    "scheduler_init_fn = get_multistep_lr([11, 13], gamma=0.25) # get_cosine_schedule_with_warmup # get_cosine_with_hard_restarts_schedule_with_warmup\n",
    "scheduler_init_fn = get_cosine_schedule_with_warmup()\n",
    "reg_sched = get_regularizer_scheduler()\n",
    "\n"
   ]
  },
  {
   "cell_type": "markdown",
   "metadata": {},
   "source": [
    "# BERT Models"
   ]
  },
  {
   "cell_type": "markdown",
   "metadata": {},
   "source": [
    "## Non Ensemble"
   ]
  },
  {
   "cell_type": "code",
   "execution_count": null,
   "metadata": {},
   "outputs": [],
   "source": []
  },
  {
   "cell_type": "markdown",
   "metadata": {},
   "source": [
    "## Head Ensemble"
   ]
  },
  {
   "cell_type": "code",
   "execution_count": null,
   "metadata": {},
   "outputs": [],
   "source": [
    "adamw = torch.optim.AdamW\n",
    "adamw_params = dict(lr=2e-4, betas=(0.9, 0.98), eps=1e-08, weight_decay=1e-2)\n",
    "optimizer = adamw\n",
    "optimizer_params = adamw_params\n",
    "\n",
    "lr_strategy = {\n",
    "    \"model\": {\n",
    "        \"lr\": optimizer_params[\"lr\"] / 1000,\n",
    "        \"finetune\": False,\n",
    "        \"encoder\": {\n",
    "            \"layer\": {\n",
    "                \"2\": {\n",
    "                    \"lr\": optimizer_params[\"lr\"] / 1e3,\n",
    "                    \"finetune\": False\n",
    "                },\n",
    "                \"3\": {\n",
    "                    \"lr\": optimizer_params[\"lr\"],\n",
    "                    \"finetune\": True\n",
    "                },\n",
    "                \"4\": {\n",
    "                    \"lr\": optimizer_params[\"lr\"],\n",
    "                    \"finetune\": True\n",
    "                },\n",
    "                \"5\": {\n",
    "                    \"lr\": optimizer_params[\"lr\"],\n",
    "                    \"finetune\": True\n",
    "                }\n",
    "            }\n",
    "        },\n",
    "    }\n",
    "}\n",
    "\n",
    "epochs = 24\n",
    "batch_size = 256\n",
    "model_fn = model_builder(AlbertClassifer,\n",
    "                         dict(classifier_dims=256,\n",
    "                              num_classes=2,\n",
    "                              gaussian_noise=0.025,\n",
    "                              dropout=0.05, # 0.15\n",
    "                              word_masking_proba=0.1,\n",
    "                              internal_dims=512,\n",
    "                              final_layer_builder=fb_1d_loss_builder,\n",
    "                              n_layers=2,\n",
    "                              n_encoders=2,\n",
    "                              n_decoders=2,\n",
    "                              n_tokens_in=96,\n",
    "                              n_tokens_out=16,\n",
    "                              featurizer=\"transformer\",\n",
    "                              model='distilbert-nsp',\n",
    "                              loss=\"focal\",\n",
    "                              classification_head=\"head_ensemble\", # head_ensemble\n",
    "                              dice_loss_coef=0.0,\n",
    "                              auc_loss_coef=1.0,\n",
    "                              attention_drop_proba=0.1,\n",
    "                              finetune=False),\n",
    "                         per_param_opts_fn=lr_strategy,\n",
    "                         optimiser_class=optimizer,\n",
    "                         optimiser_params=optimizer_params)\n",
    "\n",
    "kfold = False\n",
    "results, prfs = train_validate_ntimes(\n",
    "    model_fn,\n",
    "    data,\n",
    "    batch_size,\n",
    "    epochs,\n",
    "    kfold=kfold,\n",
    "    scheduler_init_fn=scheduler_init_fn,\n",
    "    model_call_back=reg_sched, # reg_sched\n",
    "    validation_epochs=[4, 7, 9, 11, 14, 17, 19, 23, 27, 31, 34, 37, 41, 44, 47, 51, 54],\n",
    "    show_model_stats=False,\n",
    "    sampling_policy=\"without_replacement\")\n",
    "r2, p2 = results, prfs\n",
    "results\n",
    "prfs\n"
   ]
  },
  {
   "cell_type": "code",
   "execution_count": null,
   "metadata": {},
   "outputs": [],
   "source": []
  },
  {
   "cell_type": "markdown",
   "metadata": {},
   "source": [
    "## Decoder Ensemble"
   ]
  },
  {
   "cell_type": "code",
   "execution_count": 21,
   "metadata": {
    "ExecuteTime": {
     "end_time": "2020-07-25T09:48:49.982646Z",
     "start_time": "2020-07-25T09:21:01.071717Z"
    }
   },
   "outputs": [
    {
     "name": "stdout",
     "output_type": "stream",
     "text": [
      "Pick stored Model ./distilbert-nsp Model Class =  <class 'transformers.modeling_roberta.RobertaModel'> Tokenizer Class =  <class 'transformers.tokenization_roberta.RobertaTokenizer'>\n",
      "Autocast =  True Epochs =  48 Divisor = 2 Examples = 4250 Batch Size =  256\n",
      "Training Samples =  8500 Weighted Sampling =  True Num Batches =  17 Accumulation steps =  1\n"
     ]
    },
    {
     "data": {
      "application/vnd.jupyter.widget-view+json": {
       "model_id": "3848d3d4749f46adba453e2ea4a0597a",
       "version_major": 2,
       "version_minor": 0
      },
      "text/plain": [
       "HBox(children=(FloatProgress(value=0.0, max=48.0), HTML(value='')))"
      ]
     },
     "metadata": {},
     "output_type": "display_data"
    },
    {
     "data": {
      "application/vnd.jupyter.widget-view+json": {
       "model_id": "9bbc761931f04cb1b45208fd3ca30f75",
       "version_major": 2,
       "version_minor": 0
      },
      "text/plain": [
       "HBox(children=(FloatProgress(value=0.0, description='Batches', max=17.0, style=ProgressStyle(description_width…"
      ]
     },
     "metadata": {},
     "output_type": "display_data"
    },
    {
     "name": "stdout",
     "output_type": "stream",
     "text": [
      "\n",
      "Epoch =  1 Loss = 0.825098 LR = 0.00000697\n"
     ]
    },
    {
     "data": {
      "application/vnd.jupyter.widget-view+json": {
       "model_id": "5a406771bf3a43dc86f852bf84b123a1",
       "version_major": 2,
       "version_minor": 0
      },
      "text/plain": [
       "HBox(children=(FloatProgress(value=0.0, description='Batches', max=17.0, style=ProgressStyle(description_width…"
      ]
     },
     "metadata": {},
     "output_type": "display_data"
    },
    {
     "name": "stdout",
     "output_type": "stream",
     "text": [
      "\n",
      "Epoch =  2 Loss = 0.645896 LR = 0.00001393\n"
     ]
    },
    {
     "data": {
      "application/vnd.jupyter.widget-view+json": {
       "model_id": "db8c90b36f094bf98fa5f3337f14e578",
       "version_major": 2,
       "version_minor": 0
      },
      "text/plain": [
       "HBox(children=(FloatProgress(value=0.0, description='Batches', max=17.0, style=ProgressStyle(description_width…"
      ]
     },
     "metadata": {},
     "output_type": "display_data"
    },
    {
     "name": "stdout",
     "output_type": "stream",
     "text": [
      "\n",
      "Epoch =  3 Loss = 0.574671 LR = 0.00002090\n"
     ]
    },
    {
     "data": {
      "application/vnd.jupyter.widget-view+json": {
       "model_id": "aa48b250fabe42ed82931cd51833037b",
       "version_major": 2,
       "version_minor": 0
      },
      "text/plain": [
       "HBox(children=(FloatProgress(value=0.0, description='Batches', max=17.0, style=ProgressStyle(description_width…"
      ]
     },
     "metadata": {},
     "output_type": "display_data"
    },
    {
     "name": "stdout",
     "output_type": "stream",
     "text": [
      "\n",
      "Epoch =  4 Loss = 0.543297 LR = 0.00002787\n"
     ]
    },
    {
     "data": {
      "application/vnd.jupyter.widget-view+json": {
       "model_id": "5ef7259c943a42e69345964579c2dd11",
       "version_major": 2,
       "version_minor": 0
      },
      "text/plain": [
       "HBox(children=(FloatProgress(value=0.0, description='Generate Predictions', max=34.0, style=ProgressStyle(desc…"
      ]
     },
     "metadata": {},
     "output_type": "display_data"
    },
    {
     "name": "stdout",
     "output_type": "stream",
     "text": [
      "\n"
     ]
    },
    {
     "data": {
      "application/vnd.jupyter.widget-view+json": {
       "model_id": "8364b42c3d364733824d06ddff746e3e",
       "version_major": 2,
       "version_minor": 0
      },
      "text/plain": [
       "HBox(children=(FloatProgress(value=0.0, description='Generate Predictions', max=2.0, style=ProgressStyle(descr…"
      ]
     },
     "metadata": {},
     "output_type": "display_data"
    },
    {
     "name": "stdout",
     "output_type": "stream",
     "text": [
      "\n"
     ]
    },
    {
     "data": {
      "text/html": [
       "<div>\n",
       "<style scoped>\n",
       "    .dataframe tbody tr th:only-of-type {\n",
       "        vertical-align: middle;\n",
       "    }\n",
       "\n",
       "    .dataframe tbody tr th {\n",
       "        vertical-align: top;\n",
       "    }\n",
       "\n",
       "    .dataframe thead tr th {\n",
       "        text-align: left;\n",
       "    }\n",
       "\n",
       "    .dataframe thead tr:last-of-type th {\n",
       "        text-align: right;\n",
       "    }\n",
       "</style>\n",
       "<table border=\"1\" class=\"dataframe\">\n",
       "  <thead>\n",
       "    <tr>\n",
       "      <th></th>\n",
       "      <th colspan=\"2\" halign=\"left\">Proba</th>\n",
       "      <th colspan=\"2\" halign=\"left\">Preds</th>\n",
       "    </tr>\n",
       "    <tr>\n",
       "      <th></th>\n",
       "      <th>min</th>\n",
       "      <th>max</th>\n",
       "      <th>min</th>\n",
       "      <th>max</th>\n",
       "    </tr>\n",
       "    <tr>\n",
       "      <th>Labels</th>\n",
       "      <th></th>\n",
       "      <th></th>\n",
       "      <th></th>\n",
       "      <th></th>\n",
       "    </tr>\n",
       "  </thead>\n",
       "  <tbody>\n",
       "    <tr>\n",
       "      <th>0</th>\n",
       "      <td>0.367</td>\n",
       "      <td>0.473</td>\n",
       "      <td>0</td>\n",
       "      <td>0</td>\n",
       "    </tr>\n",
       "    <tr>\n",
       "      <th>1</th>\n",
       "      <td>0.368</td>\n",
       "      <td>0.473</td>\n",
       "      <td>0</td>\n",
       "      <td>0</td>\n",
       "    </tr>\n",
       "  </tbody>\n",
       "</table>\n",
       "</div>"
      ],
      "text/plain": [
       "       Proba       Preds    \n",
       "         min   max   min max\n",
       "Labels                      \n",
       "0      0.367 0.473     0   0\n",
       "1      0.368 0.473     0   0"
      ]
     },
     "metadata": {},
     "output_type": "display_data"
    },
    {
     "data": {
      "text/html": [
       "<div>\n",
       "<style scoped>\n",
       "    .dataframe tbody tr th:only-of-type {\n",
       "        vertical-align: middle;\n",
       "    }\n",
       "\n",
       "    .dataframe tbody tr th {\n",
       "        vertical-align: top;\n",
       "    }\n",
       "\n",
       "    .dataframe thead th {\n",
       "        text-align: right;\n",
       "    }\n",
       "</style>\n",
       "<table border=\"1\" class=\"dataframe\">\n",
       "  <thead>\n",
       "    <tr style=\"text-align: right;\">\n",
       "      <th></th>\n",
       "      <th>Proba</th>\n",
       "      <th>Probas</th>\n",
       "      <th>Preds</th>\n",
       "      <th>Labels</th>\n",
       "      <th>Proba</th>\n",
       "      <th>Probas</th>\n",
       "      <th>Preds</th>\n",
       "      <th>Labels</th>\n",
       "      <th>Proba</th>\n",
       "      <th>Probas</th>\n",
       "      <th>Preds</th>\n",
       "      <th>Labels</th>\n",
       "    </tr>\n",
       "  </thead>\n",
       "  <tbody>\n",
       "    <tr>\n",
       "      <th>0</th>\n",
       "      <td>0.400</td>\n",
       "      <td>[0.6000945568084717, 0.39990541338920593]</td>\n",
       "      <td>0</td>\n",
       "      <td>0</td>\n",
       "      <td>0.385</td>\n",
       "      <td>[0.6153837442398071, 0.38461625576019287]</td>\n",
       "      <td>0</td>\n",
       "      <td>0</td>\n",
       "      <td>0.417</td>\n",
       "      <td>[0.5828951597213745, 0.4171048700809479]</td>\n",
       "      <td>0</td>\n",
       "      <td>1</td>\n",
       "    </tr>\n",
       "    <tr>\n",
       "      <th>1</th>\n",
       "      <td>0.402</td>\n",
       "      <td>[0.5981106758117676, 0.4018893241882324]</td>\n",
       "      <td>0</td>\n",
       "      <td>1</td>\n",
       "      <td>0.402</td>\n",
       "      <td>[0.5980411767959595, 0.40195876359939575]</td>\n",
       "      <td>0</td>\n",
       "      <td>1</td>\n",
       "      <td>0.441</td>\n",
       "      <td>[0.5585863590240479, 0.44141364097595215]</td>\n",
       "      <td>0</td>\n",
       "      <td>1</td>\n",
       "    </tr>\n",
       "    <tr>\n",
       "      <th>2</th>\n",
       "      <td>0.406</td>\n",
       "      <td>[0.5943883657455444, 0.40561163425445557]</td>\n",
       "      <td>0</td>\n",
       "      <td>0</td>\n",
       "      <td>0.381</td>\n",
       "      <td>[0.6185457706451416, 0.381454199552536]</td>\n",
       "      <td>0</td>\n",
       "      <td>0</td>\n",
       "      <td>0.426</td>\n",
       "      <td>[0.5735257863998413, 0.4264742136001587]</td>\n",
       "      <td>0</td>\n",
       "      <td>1</td>\n",
       "    </tr>\n",
       "    <tr>\n",
       "      <th>3</th>\n",
       "      <td>0.405</td>\n",
       "      <td>[0.5945001244544983, 0.4054998457431793]</td>\n",
       "      <td>0</td>\n",
       "      <td>1</td>\n",
       "      <td>0.418</td>\n",
       "      <td>[0.5816152691841125, 0.41838473081588745]</td>\n",
       "      <td>0</td>\n",
       "      <td>1</td>\n",
       "      <td>0.407</td>\n",
       "      <td>[0.5931220650672913, 0.40687787532806396]</td>\n",
       "      <td>0</td>\n",
       "      <td>0</td>\n",
       "    </tr>\n",
       "    <tr>\n",
       "      <th>4</th>\n",
       "      <td>0.426</td>\n",
       "      <td>[0.5740940570831299, 0.4259059727191925]</td>\n",
       "      <td>0</td>\n",
       "      <td>0</td>\n",
       "      <td>0.420</td>\n",
       "      <td>[0.5800891518592834, 0.41991090774536133]</td>\n",
       "      <td>0</td>\n",
       "      <td>1</td>\n",
       "      <td>0.406</td>\n",
       "      <td>[0.5943644046783447, 0.4056355953216553]</td>\n",
       "      <td>0</td>\n",
       "      <td>1</td>\n",
       "    </tr>\n",
       "  </tbody>\n",
       "</table>\n",
       "</div>"
      ],
      "text/plain": [
       "  Proba                                     Probas Preds Labels Proba  \\\n",
       "0 0.400  [0.6000945568084717, 0.39990541338920593]     0      0 0.385   \n",
       "1 0.402   [0.5981106758117676, 0.4018893241882324]     0      1 0.402   \n",
       "2 0.406  [0.5943883657455444, 0.40561163425445557]     0      0 0.381   \n",
       "3 0.405   [0.5945001244544983, 0.4054998457431793]     0      1 0.418   \n",
       "4 0.426   [0.5740940570831299, 0.4259059727191925]     0      0 0.420   \n",
       "\n",
       "                                      Probas Preds Labels Proba  \\\n",
       "0  [0.6153837442398071, 0.38461625576019287]     0      0 0.417   \n",
       "1  [0.5980411767959595, 0.40195876359939575]     0      1 0.441   \n",
       "2    [0.6185457706451416, 0.381454199552536]     0      0 0.426   \n",
       "3  [0.5816152691841125, 0.41838473081588745]     0      1 0.407   \n",
       "4  [0.5800891518592834, 0.41991090774536133]     0      1 0.406   \n",
       "\n",
       "                                      Probas Preds Labels  \n",
       "0   [0.5828951597213745, 0.4171048700809479]     0      1  \n",
       "1  [0.5585863590240479, 0.44141364097595215]     0      1  \n",
       "2   [0.5735257863998413, 0.4264742136001587]     0      1  \n",
       "3  [0.5931220650672913, 0.40687787532806396]     0      0  \n",
       "4   [0.5943644046783447, 0.4056355953216553]     0      1  "
      ]
     },
     "metadata": {},
     "output_type": "display_data"
    },
    {
     "name": "stdout",
     "output_type": "stream",
     "text": [
      "scores =  {'map': '0.5457', 'acc': '0.5000', 'auc': '0.5529'}\n",
      "Epoch =  4 Train = 0.642595 Val = 0.552904\n"
     ]
    },
    {
     "data": {
      "application/vnd.jupyter.widget-view+json": {
       "model_id": "dfd3228de9dd448e8f7cf883a291b408",
       "version_major": 2,
       "version_minor": 0
      },
      "text/plain": [
       "HBox(children=(FloatProgress(value=0.0, description='Batches', max=17.0, style=ProgressStyle(description_width…"
      ]
     },
     "metadata": {},
     "output_type": "display_data"
    },
    {
     "name": "stdout",
     "output_type": "stream",
     "text": [
      "\n",
      "Epoch =  5 Loss = 0.528677 LR = 0.00003484\n"
     ]
    },
    {
     "data": {
      "application/vnd.jupyter.widget-view+json": {
       "model_id": "1a4792769689488eb8708faaec28e7bb",
       "version_major": 2,
       "version_minor": 0
      },
      "text/plain": [
       "HBox(children=(FloatProgress(value=0.0, description='Batches', max=17.0, style=ProgressStyle(description_width…"
      ]
     },
     "metadata": {},
     "output_type": "display_data"
    },
    {
     "name": "stdout",
     "output_type": "stream",
     "text": [
      "\n",
      "Epoch =  6 Loss = 0.518939 LR = 0.00004180\n"
     ]
    },
    {
     "data": {
      "application/vnd.jupyter.widget-view+json": {
       "model_id": "089bebd32ef04d8d9ff8db9252b7c0bc",
       "version_major": 2,
       "version_minor": 0
      },
      "text/plain": [
       "HBox(children=(FloatProgress(value=0.0, description='Batches', max=17.0, style=ProgressStyle(description_width…"
      ]
     },
     "metadata": {},
     "output_type": "display_data"
    },
    {
     "name": "stdout",
     "output_type": "stream",
     "text": [
      "\n",
      "Epoch =  7 Loss = 0.514026 LR = 0.00004877\n"
     ]
    },
    {
     "data": {
      "application/vnd.jupyter.widget-view+json": {
       "model_id": "bedb42b5698a433cb14b77827d3700a3",
       "version_major": 2,
       "version_minor": 0
      },
      "text/plain": [
       "HBox(children=(FloatProgress(value=0.0, description='Generate Predictions', max=34.0, style=ProgressStyle(desc…"
      ]
     },
     "metadata": {},
     "output_type": "display_data"
    },
    {
     "name": "stdout",
     "output_type": "stream",
     "text": [
      "\n"
     ]
    },
    {
     "data": {
      "application/vnd.jupyter.widget-view+json": {
       "model_id": "7a3da819858243d6a7e79bba8e7ad4fe",
       "version_major": 2,
       "version_minor": 0
      },
      "text/plain": [
       "HBox(children=(FloatProgress(value=0.0, description='Generate Predictions', max=2.0, style=ProgressStyle(descr…"
      ]
     },
     "metadata": {},
     "output_type": "display_data"
    },
    {
     "name": "stdout",
     "output_type": "stream",
     "text": [
      "\n"
     ]
    },
    {
     "data": {
      "text/html": [
       "<div>\n",
       "<style scoped>\n",
       "    .dataframe tbody tr th:only-of-type {\n",
       "        vertical-align: middle;\n",
       "    }\n",
       "\n",
       "    .dataframe tbody tr th {\n",
       "        vertical-align: top;\n",
       "    }\n",
       "\n",
       "    .dataframe thead tr th {\n",
       "        text-align: left;\n",
       "    }\n",
       "\n",
       "    .dataframe thead tr:last-of-type th {\n",
       "        text-align: right;\n",
       "    }\n",
       "</style>\n",
       "<table border=\"1\" class=\"dataframe\">\n",
       "  <thead>\n",
       "    <tr>\n",
       "      <th></th>\n",
       "      <th colspan=\"2\" halign=\"left\">Proba</th>\n",
       "      <th colspan=\"2\" halign=\"left\">Preds</th>\n",
       "    </tr>\n",
       "    <tr>\n",
       "      <th></th>\n",
       "      <th>min</th>\n",
       "      <th>max</th>\n",
       "      <th>min</th>\n",
       "      <th>max</th>\n",
       "    </tr>\n",
       "    <tr>\n",
       "      <th>Labels</th>\n",
       "      <th></th>\n",
       "      <th></th>\n",
       "      <th></th>\n",
       "      <th></th>\n",
       "    </tr>\n",
       "  </thead>\n",
       "  <tbody>\n",
       "    <tr>\n",
       "      <th>0</th>\n",
       "      <td>0.298</td>\n",
       "      <td>0.526</td>\n",
       "      <td>0</td>\n",
       "      <td>1</td>\n",
       "    </tr>\n",
       "    <tr>\n",
       "      <th>1</th>\n",
       "      <td>0.342</td>\n",
       "      <td>0.532</td>\n",
       "      <td>0</td>\n",
       "      <td>1</td>\n",
       "    </tr>\n",
       "  </tbody>\n",
       "</table>\n",
       "</div>"
      ],
      "text/plain": [
       "       Proba       Preds    \n",
       "         min   max   min max\n",
       "Labels                      \n",
       "0      0.298 0.526     0   1\n",
       "1      0.342 0.532     0   1"
      ]
     },
     "metadata": {},
     "output_type": "display_data"
    },
    {
     "data": {
      "text/html": [
       "<div>\n",
       "<style scoped>\n",
       "    .dataframe tbody tr th:only-of-type {\n",
       "        vertical-align: middle;\n",
       "    }\n",
       "\n",
       "    .dataframe tbody tr th {\n",
       "        vertical-align: top;\n",
       "    }\n",
       "\n",
       "    .dataframe thead th {\n",
       "        text-align: right;\n",
       "    }\n",
       "</style>\n",
       "<table border=\"1\" class=\"dataframe\">\n",
       "  <thead>\n",
       "    <tr style=\"text-align: right;\">\n",
       "      <th></th>\n",
       "      <th>Proba</th>\n",
       "      <th>Probas</th>\n",
       "      <th>Preds</th>\n",
       "      <th>Labels</th>\n",
       "      <th>Proba</th>\n",
       "      <th>Probas</th>\n",
       "      <th>Preds</th>\n",
       "      <th>Labels</th>\n",
       "      <th>Proba</th>\n",
       "      <th>Probas</th>\n",
       "      <th>Preds</th>\n",
       "      <th>Labels</th>\n",
       "    </tr>\n",
       "  </thead>\n",
       "  <tbody>\n",
       "    <tr>\n",
       "      <th>0</th>\n",
       "      <td>0.420</td>\n",
       "      <td>[0.5802394151687622, 0.4197605550289154]</td>\n",
       "      <td>0</td>\n",
       "      <td>1</td>\n",
       "      <td>0.496</td>\n",
       "      <td>[0.5043643712997437, 0.49563562870025635]</td>\n",
       "      <td>0</td>\n",
       "      <td>1</td>\n",
       "      <td>0.485</td>\n",
       "      <td>[0.5147221088409424, 0.4852779507637024]</td>\n",
       "      <td>0</td>\n",
       "      <td>0</td>\n",
       "    </tr>\n",
       "    <tr>\n",
       "      <th>1</th>\n",
       "      <td>0.375</td>\n",
       "      <td>[0.6249499320983887, 0.37505006790161133]</td>\n",
       "      <td>0</td>\n",
       "      <td>0</td>\n",
       "      <td>0.420</td>\n",
       "      <td>[0.5800890326499939, 0.4199109375476837]</td>\n",
       "      <td>0</td>\n",
       "      <td>0</td>\n",
       "      <td>0.427</td>\n",
       "      <td>[0.5728524327278137, 0.4271475672721863]</td>\n",
       "      <td>0</td>\n",
       "      <td>1</td>\n",
       "    </tr>\n",
       "    <tr>\n",
       "      <th>2</th>\n",
       "      <td>0.412</td>\n",
       "      <td>[0.5878139734268188, 0.41218602657318115]</td>\n",
       "      <td>0</td>\n",
       "      <td>0</td>\n",
       "      <td>0.414</td>\n",
       "      <td>[0.5859416723251343, 0.4140583276748657]</td>\n",
       "      <td>0</td>\n",
       "      <td>0</td>\n",
       "      <td>0.429</td>\n",
       "      <td>[0.5714441537857056, 0.4285558760166168]</td>\n",
       "      <td>0</td>\n",
       "      <td>1</td>\n",
       "    </tr>\n",
       "    <tr>\n",
       "      <th>3</th>\n",
       "      <td>0.421</td>\n",
       "      <td>[0.5787840485572815, 0.4212159514427185]</td>\n",
       "      <td>0</td>\n",
       "      <td>0</td>\n",
       "      <td>0.478</td>\n",
       "      <td>[0.5221962332725525, 0.4778037667274475]</td>\n",
       "      <td>0</td>\n",
       "      <td>1</td>\n",
       "      <td>0.400</td>\n",
       "      <td>[0.6000701189041138, 0.39992988109588623]</td>\n",
       "      <td>0</td>\n",
       "      <td>1</td>\n",
       "    </tr>\n",
       "    <tr>\n",
       "      <th>4</th>\n",
       "      <td>0.442</td>\n",
       "      <td>[0.5578620433807373, 0.4421379566192627]</td>\n",
       "      <td>0</td>\n",
       "      <td>0</td>\n",
       "      <td>0.476</td>\n",
       "      <td>[0.5237613916397095, 0.47623854875564575]</td>\n",
       "      <td>0</td>\n",
       "      <td>0</td>\n",
       "      <td>0.435</td>\n",
       "      <td>[0.564543604850769, 0.43545636534690857]</td>\n",
       "      <td>0</td>\n",
       "      <td>1</td>\n",
       "    </tr>\n",
       "  </tbody>\n",
       "</table>\n",
       "</div>"
      ],
      "text/plain": [
       "  Proba                                     Probas Preds Labels Proba  \\\n",
       "0 0.420   [0.5802394151687622, 0.4197605550289154]     0      1 0.496   \n",
       "1 0.375  [0.6249499320983887, 0.37505006790161133]     0      0 0.420   \n",
       "2 0.412  [0.5878139734268188, 0.41218602657318115]     0      0 0.414   \n",
       "3 0.421   [0.5787840485572815, 0.4212159514427185]     0      0 0.478   \n",
       "4 0.442   [0.5578620433807373, 0.4421379566192627]     0      0 0.476   \n",
       "\n",
       "                                      Probas Preds Labels Proba  \\\n",
       "0  [0.5043643712997437, 0.49563562870025635]     0      1 0.485   \n",
       "1   [0.5800890326499939, 0.4199109375476837]     0      0 0.427   \n",
       "2   [0.5859416723251343, 0.4140583276748657]     0      0 0.429   \n",
       "3   [0.5221962332725525, 0.4778037667274475]     0      1 0.400   \n",
       "4  [0.5237613916397095, 0.47623854875564575]     0      0 0.435   \n",
       "\n",
       "                                      Probas Preds Labels  \n",
       "0   [0.5147221088409424, 0.4852779507637024]     0      0  \n",
       "1   [0.5728524327278137, 0.4271475672721863]     0      1  \n",
       "2   [0.5714441537857056, 0.4285558760166168]     0      1  \n",
       "3  [0.6000701189041138, 0.39992988109588623]     0      1  \n",
       "4   [0.564543604850769, 0.43545636534690857]     0      1  "
      ]
     },
     "metadata": {},
     "output_type": "display_data"
    },
    {
     "name": "stdout",
     "output_type": "stream",
     "text": [
      "scores =  {'map': '0.5839', 'acc': '0.5100', 'auc': '0.6045'}\n",
      "Epoch =  7 Train = 0.713388 Val = 0.604456\n"
     ]
    },
    {
     "data": {
      "application/vnd.jupyter.widget-view+json": {
       "model_id": "1ebe370fd05c488fae007b8b4b5b7371",
       "version_major": 2,
       "version_minor": 0
      },
      "text/plain": [
       "HBox(children=(FloatProgress(value=0.0, description='Batches', max=17.0, style=ProgressStyle(description_width…"
      ]
     },
     "metadata": {},
     "output_type": "display_data"
    },
    {
     "name": "stdout",
     "output_type": "stream",
     "text": [
      "\n",
      "Epoch =  8 Loss = 0.502605 LR = 0.00005574\n"
     ]
    },
    {
     "data": {
      "application/vnd.jupyter.widget-view+json": {
       "model_id": "636dddeab1d34e18b5c59cb9b6b9e1d2",
       "version_major": 2,
       "version_minor": 0
      },
      "text/plain": [
       "HBox(children=(FloatProgress(value=0.0, description='Batches', max=17.0, style=ProgressStyle(description_width…"
      ]
     },
     "metadata": {},
     "output_type": "display_data"
    },
    {
     "name": "stdout",
     "output_type": "stream",
     "text": [
      "\n",
      "Epoch =  9 Loss = 0.495395 LR = 0.00006270\n"
     ]
    },
    {
     "data": {
      "application/vnd.jupyter.widget-view+json": {
       "model_id": "237d5dfd298a44b48decb43448d5cadc",
       "version_major": 2,
       "version_minor": 0
      },
      "text/plain": [
       "HBox(children=(FloatProgress(value=0.0, description='Generate Predictions', max=34.0, style=ProgressStyle(desc…"
      ]
     },
     "metadata": {},
     "output_type": "display_data"
    },
    {
     "name": "stdout",
     "output_type": "stream",
     "text": [
      "\n"
     ]
    },
    {
     "data": {
      "application/vnd.jupyter.widget-view+json": {
       "model_id": "fba79bbbe46e48aa97ab2a29109a70fe",
       "version_major": 2,
       "version_minor": 0
      },
      "text/plain": [
       "HBox(children=(FloatProgress(value=0.0, description='Generate Predictions', max=2.0, style=ProgressStyle(descr…"
      ]
     },
     "metadata": {},
     "output_type": "display_data"
    },
    {
     "name": "stdout",
     "output_type": "stream",
     "text": [
      "\n"
     ]
    },
    {
     "data": {
      "text/html": [
       "<div>\n",
       "<style scoped>\n",
       "    .dataframe tbody tr th:only-of-type {\n",
       "        vertical-align: middle;\n",
       "    }\n",
       "\n",
       "    .dataframe tbody tr th {\n",
       "        vertical-align: top;\n",
       "    }\n",
       "\n",
       "    .dataframe thead tr th {\n",
       "        text-align: left;\n",
       "    }\n",
       "\n",
       "    .dataframe thead tr:last-of-type th {\n",
       "        text-align: right;\n",
       "    }\n",
       "</style>\n",
       "<table border=\"1\" class=\"dataframe\">\n",
       "  <thead>\n",
       "    <tr>\n",
       "      <th></th>\n",
       "      <th colspan=\"2\" halign=\"left\">Proba</th>\n",
       "      <th colspan=\"2\" halign=\"left\">Preds</th>\n",
       "    </tr>\n",
       "    <tr>\n",
       "      <th></th>\n",
       "      <th>min</th>\n",
       "      <th>max</th>\n",
       "      <th>min</th>\n",
       "      <th>max</th>\n",
       "    </tr>\n",
       "    <tr>\n",
       "      <th>Labels</th>\n",
       "      <th></th>\n",
       "      <th></th>\n",
       "      <th></th>\n",
       "      <th></th>\n",
       "    </tr>\n",
       "  </thead>\n",
       "  <tbody>\n",
       "    <tr>\n",
       "      <th>0</th>\n",
       "      <td>0.299</td>\n",
       "      <td>0.536</td>\n",
       "      <td>0</td>\n",
       "      <td>1</td>\n",
       "    </tr>\n",
       "    <tr>\n",
       "      <th>1</th>\n",
       "      <td>0.365</td>\n",
       "      <td>0.536</td>\n",
       "      <td>0</td>\n",
       "      <td>1</td>\n",
       "    </tr>\n",
       "  </tbody>\n",
       "</table>\n",
       "</div>"
      ],
      "text/plain": [
       "       Proba       Preds    \n",
       "         min   max   min max\n",
       "Labels                      \n",
       "0      0.299 0.536     0   1\n",
       "1      0.365 0.536     0   1"
      ]
     },
     "metadata": {},
     "output_type": "display_data"
    },
    {
     "data": {
      "text/html": [
       "<div>\n",
       "<style scoped>\n",
       "    .dataframe tbody tr th:only-of-type {\n",
       "        vertical-align: middle;\n",
       "    }\n",
       "\n",
       "    .dataframe tbody tr th {\n",
       "        vertical-align: top;\n",
       "    }\n",
       "\n",
       "    .dataframe thead th {\n",
       "        text-align: right;\n",
       "    }\n",
       "</style>\n",
       "<table border=\"1\" class=\"dataframe\">\n",
       "  <thead>\n",
       "    <tr style=\"text-align: right;\">\n",
       "      <th></th>\n",
       "      <th>Proba</th>\n",
       "      <th>Probas</th>\n",
       "      <th>Preds</th>\n",
       "      <th>Labels</th>\n",
       "      <th>Proba</th>\n",
       "      <th>Probas</th>\n",
       "      <th>Preds</th>\n",
       "      <th>Labels</th>\n",
       "      <th>Proba</th>\n",
       "      <th>Probas</th>\n",
       "      <th>Preds</th>\n",
       "      <th>Labels</th>\n",
       "    </tr>\n",
       "  </thead>\n",
       "  <tbody>\n",
       "    <tr>\n",
       "      <th>0</th>\n",
       "      <td>0.407</td>\n",
       "      <td>[0.592573881149292, 0.407426118850708]</td>\n",
       "      <td>0</td>\n",
       "      <td>0</td>\n",
       "      <td>0.429</td>\n",
       "      <td>[0.5705748796463013, 0.42942512035369873]</td>\n",
       "      <td>0</td>\n",
       "      <td>1</td>\n",
       "      <td>0.513</td>\n",
       "      <td>[0.48718690872192383, 0.5128130912780762]</td>\n",
       "      <td>1</td>\n",
       "      <td>0</td>\n",
       "    </tr>\n",
       "    <tr>\n",
       "      <th>1</th>\n",
       "      <td>0.412</td>\n",
       "      <td>[0.5884096026420593, 0.4115903973579407]</td>\n",
       "      <td>0</td>\n",
       "      <td>0</td>\n",
       "      <td>0.450</td>\n",
       "      <td>[0.549726665019989, 0.450273334980011]</td>\n",
       "      <td>0</td>\n",
       "      <td>0</td>\n",
       "      <td>0.368</td>\n",
       "      <td>[0.6315464973449707, 0.3684535622596741]</td>\n",
       "      <td>0</td>\n",
       "      <td>0</td>\n",
       "    </tr>\n",
       "    <tr>\n",
       "      <th>2</th>\n",
       "      <td>0.452</td>\n",
       "      <td>[0.5483077764511108, 0.45169225335121155]</td>\n",
       "      <td>0</td>\n",
       "      <td>1</td>\n",
       "      <td>0.463</td>\n",
       "      <td>[0.5365434885025024, 0.46345657110214233]</td>\n",
       "      <td>0</td>\n",
       "      <td>1</td>\n",
       "      <td>0.461</td>\n",
       "      <td>[0.5393917560577393, 0.46060821413993835]</td>\n",
       "      <td>0</td>\n",
       "      <td>0</td>\n",
       "    </tr>\n",
       "    <tr>\n",
       "      <th>3</th>\n",
       "      <td>0.442</td>\n",
       "      <td>[0.557719886302948, 0.442280113697052]</td>\n",
       "      <td>0</td>\n",
       "      <td>1</td>\n",
       "      <td>0.422</td>\n",
       "      <td>[0.5783543586730957, 0.4216456413269043]</td>\n",
       "      <td>0</td>\n",
       "      <td>0</td>\n",
       "      <td>0.423</td>\n",
       "      <td>[0.5769619941711426, 0.4230380058288574]</td>\n",
       "      <td>0</td>\n",
       "      <td>0</td>\n",
       "    </tr>\n",
       "    <tr>\n",
       "      <th>4</th>\n",
       "      <td>0.501</td>\n",
       "      <td>[0.4986051917076111, 0.5013948082923889]</td>\n",
       "      <td>1</td>\n",
       "      <td>0</td>\n",
       "      <td>0.408</td>\n",
       "      <td>[0.591607391834259, 0.40839260816574097]</td>\n",
       "      <td>0</td>\n",
       "      <td>1</td>\n",
       "      <td>0.432</td>\n",
       "      <td>[0.5678102374076843, 0.4321897625923157]</td>\n",
       "      <td>0</td>\n",
       "      <td>0</td>\n",
       "    </tr>\n",
       "  </tbody>\n",
       "</table>\n",
       "</div>"
      ],
      "text/plain": [
       "  Proba                                     Probas Preds Labels Proba  \\\n",
       "0 0.407     [0.592573881149292, 0.407426118850708]     0      0 0.429   \n",
       "1 0.412   [0.5884096026420593, 0.4115903973579407]     0      0 0.450   \n",
       "2 0.452  [0.5483077764511108, 0.45169225335121155]     0      1 0.463   \n",
       "3 0.442     [0.557719886302948, 0.442280113697052]     0      1 0.422   \n",
       "4 0.501   [0.4986051917076111, 0.5013948082923889]     1      0 0.408   \n",
       "\n",
       "                                      Probas Preds Labels Proba  \\\n",
       "0  [0.5705748796463013, 0.42942512035369873]     0      1 0.513   \n",
       "1     [0.549726665019989, 0.450273334980011]     0      0 0.368   \n",
       "2  [0.5365434885025024, 0.46345657110214233]     0      1 0.461   \n",
       "3   [0.5783543586730957, 0.4216456413269043]     0      0 0.423   \n",
       "4   [0.591607391834259, 0.40839260816574097]     0      1 0.432   \n",
       "\n",
       "                                      Probas Preds Labels  \n",
       "0  [0.48718690872192383, 0.5128130912780762]     1      0  \n",
       "1   [0.6315464973449707, 0.3684535622596741]     0      0  \n",
       "2  [0.5393917560577393, 0.46060821413993835]     0      0  \n",
       "3   [0.5769619941711426, 0.4230380058288574]     0      0  \n",
       "4   [0.5678102374076843, 0.4321897625923157]     0      0  "
      ]
     },
     "metadata": {},
     "output_type": "display_data"
    },
    {
     "name": "stdout",
     "output_type": "stream",
     "text": [
      "scores =  {'map': '0.5948', 'acc': '0.5080', 'auc': '0.6160'}\n",
      "Epoch =  9 Train = 0.739943 Val = 0.615976\n"
     ]
    },
    {
     "data": {
      "application/vnd.jupyter.widget-view+json": {
       "model_id": "50b20235226e40a59280deab409e0755",
       "version_major": 2,
       "version_minor": 0
      },
      "text/plain": [
       "HBox(children=(FloatProgress(value=0.0, description='Batches', max=17.0, style=ProgressStyle(description_width…"
      ]
     },
     "metadata": {},
     "output_type": "display_data"
    },
    {
     "name": "stdout",
     "output_type": "stream",
     "text": [
      "\n",
      "Epoch =  10 Loss = 0.496655 LR = 0.00006967\n"
     ]
    },
    {
     "data": {
      "application/vnd.jupyter.widget-view+json": {
       "model_id": "1834e1c266414bc3bf49fe31df301ff0",
       "version_major": 2,
       "version_minor": 0
      },
      "text/plain": [
       "HBox(children=(FloatProgress(value=0.0, description='Batches', max=17.0, style=ProgressStyle(description_width…"
      ]
     },
     "metadata": {},
     "output_type": "display_data"
    },
    {
     "name": "stdout",
     "output_type": "stream",
     "text": [
      "\n",
      "Epoch =  11 Loss = 0.487136 LR = 0.00007664\n"
     ]
    },
    {
     "data": {
      "application/vnd.jupyter.widget-view+json": {
       "model_id": "fc3acf6a13614a49bd9b6b4c49f4786f",
       "version_major": 2,
       "version_minor": 0
      },
      "text/plain": [
       "HBox(children=(FloatProgress(value=0.0, description='Generate Predictions', max=34.0, style=ProgressStyle(desc…"
      ]
     },
     "metadata": {},
     "output_type": "display_data"
    },
    {
     "name": "stdout",
     "output_type": "stream",
     "text": [
      "\n"
     ]
    },
    {
     "data": {
      "application/vnd.jupyter.widget-view+json": {
       "model_id": "904c449b174f4696a8268689e89933b0",
       "version_major": 2,
       "version_minor": 0
      },
      "text/plain": [
       "HBox(children=(FloatProgress(value=0.0, description='Generate Predictions', max=2.0, style=ProgressStyle(descr…"
      ]
     },
     "metadata": {},
     "output_type": "display_data"
    },
    {
     "name": "stdout",
     "output_type": "stream",
     "text": [
      "\n"
     ]
    },
    {
     "data": {
      "text/html": [
       "<div>\n",
       "<style scoped>\n",
       "    .dataframe tbody tr th:only-of-type {\n",
       "        vertical-align: middle;\n",
       "    }\n",
       "\n",
       "    .dataframe tbody tr th {\n",
       "        vertical-align: top;\n",
       "    }\n",
       "\n",
       "    .dataframe thead tr th {\n",
       "        text-align: left;\n",
       "    }\n",
       "\n",
       "    .dataframe thead tr:last-of-type th {\n",
       "        text-align: right;\n",
       "    }\n",
       "</style>\n",
       "<table border=\"1\" class=\"dataframe\">\n",
       "  <thead>\n",
       "    <tr>\n",
       "      <th></th>\n",
       "      <th colspan=\"2\" halign=\"left\">Proba</th>\n",
       "      <th colspan=\"2\" halign=\"left\">Preds</th>\n",
       "    </tr>\n",
       "    <tr>\n",
       "      <th></th>\n",
       "      <th>min</th>\n",
       "      <th>max</th>\n",
       "      <th>min</th>\n",
       "      <th>max</th>\n",
       "    </tr>\n",
       "    <tr>\n",
       "      <th>Labels</th>\n",
       "      <th></th>\n",
       "      <th></th>\n",
       "      <th></th>\n",
       "      <th></th>\n",
       "    </tr>\n",
       "  </thead>\n",
       "  <tbody>\n",
       "    <tr>\n",
       "      <th>0</th>\n",
       "      <td>0.280</td>\n",
       "      <td>0.470</td>\n",
       "      <td>0</td>\n",
       "      <td>0</td>\n",
       "    </tr>\n",
       "    <tr>\n",
       "      <th>1</th>\n",
       "      <td>0.330</td>\n",
       "      <td>0.476</td>\n",
       "      <td>0</td>\n",
       "      <td>0</td>\n",
       "    </tr>\n",
       "  </tbody>\n",
       "</table>\n",
       "</div>"
      ],
      "text/plain": [
       "       Proba       Preds    \n",
       "         min   max   min max\n",
       "Labels                      \n",
       "0      0.280 0.470     0   0\n",
       "1      0.330 0.476     0   0"
      ]
     },
     "metadata": {},
     "output_type": "display_data"
    },
    {
     "data": {
      "text/html": [
       "<div>\n",
       "<style scoped>\n",
       "    .dataframe tbody tr th:only-of-type {\n",
       "        vertical-align: middle;\n",
       "    }\n",
       "\n",
       "    .dataframe tbody tr th {\n",
       "        vertical-align: top;\n",
       "    }\n",
       "\n",
       "    .dataframe thead th {\n",
       "        text-align: right;\n",
       "    }\n",
       "</style>\n",
       "<table border=\"1\" class=\"dataframe\">\n",
       "  <thead>\n",
       "    <tr style=\"text-align: right;\">\n",
       "      <th></th>\n",
       "      <th>Proba</th>\n",
       "      <th>Probas</th>\n",
       "      <th>Preds</th>\n",
       "      <th>Labels</th>\n",
       "      <th>Proba</th>\n",
       "      <th>Probas</th>\n",
       "      <th>Preds</th>\n",
       "      <th>Labels</th>\n",
       "      <th>Proba</th>\n",
       "      <th>Probas</th>\n",
       "      <th>Preds</th>\n",
       "      <th>Labels</th>\n",
       "    </tr>\n",
       "  </thead>\n",
       "  <tbody>\n",
       "    <tr>\n",
       "      <th>0</th>\n",
       "      <td>0.390</td>\n",
       "      <td>[0.6095772981643677, 0.3904227018356323]</td>\n",
       "      <td>0</td>\n",
       "      <td>1</td>\n",
       "      <td>0.416</td>\n",
       "      <td>[0.5835922360420227, 0.4164077341556549]</td>\n",
       "      <td>0</td>\n",
       "      <td>0</td>\n",
       "      <td>0.369</td>\n",
       "      <td>[0.6305584907531738, 0.36944150924682617]</td>\n",
       "      <td>0</td>\n",
       "      <td>0</td>\n",
       "    </tr>\n",
       "    <tr>\n",
       "      <th>1</th>\n",
       "      <td>0.395</td>\n",
       "      <td>[0.6054102182388306, 0.39458978176116943]</td>\n",
       "      <td>0</td>\n",
       "      <td>0</td>\n",
       "      <td>0.410</td>\n",
       "      <td>[0.5897958874702454, 0.41020408272743225]</td>\n",
       "      <td>0</td>\n",
       "      <td>1</td>\n",
       "      <td>0.454</td>\n",
       "      <td>[0.545806348323822, 0.454193651676178]</td>\n",
       "      <td>0</td>\n",
       "      <td>0</td>\n",
       "    </tr>\n",
       "    <tr>\n",
       "      <th>2</th>\n",
       "      <td>0.430</td>\n",
       "      <td>[0.5702168941497803, 0.4297831058502197]</td>\n",
       "      <td>0</td>\n",
       "      <td>1</td>\n",
       "      <td>0.404</td>\n",
       "      <td>[0.5958451628684998, 0.40415483713150024]</td>\n",
       "      <td>0</td>\n",
       "      <td>0</td>\n",
       "      <td>0.372</td>\n",
       "      <td>[0.6282511353492737, 0.3717488944530487]</td>\n",
       "      <td>0</td>\n",
       "      <td>0</td>\n",
       "    </tr>\n",
       "    <tr>\n",
       "      <th>3</th>\n",
       "      <td>0.373</td>\n",
       "      <td>[0.6265984773635864, 0.3734014630317688]</td>\n",
       "      <td>0</td>\n",
       "      <td>0</td>\n",
       "      <td>0.390</td>\n",
       "      <td>[0.6101253032684326, 0.3898746967315674]</td>\n",
       "      <td>0</td>\n",
       "      <td>1</td>\n",
       "      <td>0.357</td>\n",
       "      <td>[0.6430834531784058, 0.35691654682159424]</td>\n",
       "      <td>0</td>\n",
       "      <td>0</td>\n",
       "    </tr>\n",
       "    <tr>\n",
       "      <th>4</th>\n",
       "      <td>0.435</td>\n",
       "      <td>[0.564774751663208, 0.4352252185344696]</td>\n",
       "      <td>0</td>\n",
       "      <td>0</td>\n",
       "      <td>0.439</td>\n",
       "      <td>[0.5608832836151123, 0.4391167163848877]</td>\n",
       "      <td>0</td>\n",
       "      <td>1</td>\n",
       "      <td>0.351</td>\n",
       "      <td>[0.6488631963729858, 0.35113683342933655]</td>\n",
       "      <td>0</td>\n",
       "      <td>0</td>\n",
       "    </tr>\n",
       "  </tbody>\n",
       "</table>\n",
       "</div>"
      ],
      "text/plain": [
       "  Proba                                     Probas Preds Labels Proba  \\\n",
       "0 0.390   [0.6095772981643677, 0.3904227018356323]     0      1 0.416   \n",
       "1 0.395  [0.6054102182388306, 0.39458978176116943]     0      0 0.410   \n",
       "2 0.430   [0.5702168941497803, 0.4297831058502197]     0      1 0.404   \n",
       "3 0.373   [0.6265984773635864, 0.3734014630317688]     0      0 0.390   \n",
       "4 0.435    [0.564774751663208, 0.4352252185344696]     0      0 0.439   \n",
       "\n",
       "                                      Probas Preds Labels Proba  \\\n",
       "0   [0.5835922360420227, 0.4164077341556549]     0      0 0.369   \n",
       "1  [0.5897958874702454, 0.41020408272743225]     0      1 0.454   \n",
       "2  [0.5958451628684998, 0.40415483713150024]     0      0 0.372   \n",
       "3   [0.6101253032684326, 0.3898746967315674]     0      1 0.357   \n",
       "4   [0.5608832836151123, 0.4391167163848877]     0      1 0.351   \n",
       "\n",
       "                                      Probas Preds Labels  \n",
       "0  [0.6305584907531738, 0.36944150924682617]     0      0  \n",
       "1     [0.545806348323822, 0.454193651676178]     0      0  \n",
       "2   [0.6282511353492737, 0.3717488944530487]     0      0  \n",
       "3  [0.6430834531784058, 0.35691654682159424]     0      0  \n",
       "4  [0.6488631963729858, 0.35113683342933655]     0      0  "
      ]
     },
     "metadata": {},
     "output_type": "display_data"
    },
    {
     "name": "stdout",
     "output_type": "stream",
     "text": [
      "scores =  {'map': '0.5973', 'acc': '0.5000', 'auc': '0.6106'}\n",
      "Epoch =  11 Train = 0.752349 Val = 0.610568\n"
     ]
    },
    {
     "data": {
      "application/vnd.jupyter.widget-view+json": {
       "model_id": "ec164104c984465faa2a11aea90c9530",
       "version_major": 2,
       "version_minor": 0
      },
      "text/plain": [
       "HBox(children=(FloatProgress(value=0.0, description='Batches', max=17.0, style=ProgressStyle(description_width…"
      ]
     },
     "metadata": {},
     "output_type": "display_data"
    },
    {
     "name": "stdout",
     "output_type": "stream",
     "text": [
      "\n",
      "Epoch =  12 Loss = 0.483497 LR = 0.00008361\n"
     ]
    },
    {
     "data": {
      "application/vnd.jupyter.widget-view+json": {
       "model_id": "9771c9414cc14acb8f8ccbdcea4954ea",
       "version_major": 2,
       "version_minor": 0
      },
      "text/plain": [
       "HBox(children=(FloatProgress(value=0.0, description='Batches', max=17.0, style=ProgressStyle(description_width…"
      ]
     },
     "metadata": {},
     "output_type": "display_data"
    },
    {
     "name": "stdout",
     "output_type": "stream",
     "text": [
      "\n",
      "Epoch =  13 Loss = 0.486319 LR = 0.00009057\n"
     ]
    },
    {
     "data": {
      "application/vnd.jupyter.widget-view+json": {
       "model_id": "7d61f3dbeb9643f1b51788e02bd74925",
       "version_major": 2,
       "version_minor": 0
      },
      "text/plain": [
       "HBox(children=(FloatProgress(value=0.0, description='Batches', max=17.0, style=ProgressStyle(description_width…"
      ]
     },
     "metadata": {},
     "output_type": "display_data"
    },
    {
     "name": "stdout",
     "output_type": "stream",
     "text": [
      "\n",
      "Epoch =  14 Loss = 0.492862 LR = 0.00009754\n"
     ]
    },
    {
     "data": {
      "application/vnd.jupyter.widget-view+json": {
       "model_id": "453dcd6330254fe3b20f1fffaefbde5d",
       "version_major": 2,
       "version_minor": 0
      },
      "text/plain": [
       "HBox(children=(FloatProgress(value=0.0, description='Generate Predictions', max=34.0, style=ProgressStyle(desc…"
      ]
     },
     "metadata": {},
     "output_type": "display_data"
    },
    {
     "name": "stdout",
     "output_type": "stream",
     "text": [
      "\n"
     ]
    },
    {
     "data": {
      "application/vnd.jupyter.widget-view+json": {
       "model_id": "dc15753f1de4439b8e957bc93755ce88",
       "version_major": 2,
       "version_minor": 0
      },
      "text/plain": [
       "HBox(children=(FloatProgress(value=0.0, description='Generate Predictions', max=2.0, style=ProgressStyle(descr…"
      ]
     },
     "metadata": {},
     "output_type": "display_data"
    },
    {
     "name": "stdout",
     "output_type": "stream",
     "text": [
      "\n"
     ]
    },
    {
     "data": {
      "text/html": [
       "<div>\n",
       "<style scoped>\n",
       "    .dataframe tbody tr th:only-of-type {\n",
       "        vertical-align: middle;\n",
       "    }\n",
       "\n",
       "    .dataframe tbody tr th {\n",
       "        vertical-align: top;\n",
       "    }\n",
       "\n",
       "    .dataframe thead tr th {\n",
       "        text-align: left;\n",
       "    }\n",
       "\n",
       "    .dataframe thead tr:last-of-type th {\n",
       "        text-align: right;\n",
       "    }\n",
       "</style>\n",
       "<table border=\"1\" class=\"dataframe\">\n",
       "  <thead>\n",
       "    <tr>\n",
       "      <th></th>\n",
       "      <th colspan=\"2\" halign=\"left\">Proba</th>\n",
       "      <th colspan=\"2\" halign=\"left\">Preds</th>\n",
       "    </tr>\n",
       "    <tr>\n",
       "      <th></th>\n",
       "      <th>min</th>\n",
       "      <th>max</th>\n",
       "      <th>min</th>\n",
       "      <th>max</th>\n",
       "    </tr>\n",
       "    <tr>\n",
       "      <th>Labels</th>\n",
       "      <th></th>\n",
       "      <th></th>\n",
       "      <th></th>\n",
       "      <th></th>\n",
       "    </tr>\n",
       "  </thead>\n",
       "  <tbody>\n",
       "    <tr>\n",
       "      <th>0</th>\n",
       "      <td>0.254</td>\n",
       "      <td>0.474</td>\n",
       "      <td>0</td>\n",
       "      <td>0</td>\n",
       "    </tr>\n",
       "    <tr>\n",
       "      <th>1</th>\n",
       "      <td>0.321</td>\n",
       "      <td>0.496</td>\n",
       "      <td>0</td>\n",
       "      <td>0</td>\n",
       "    </tr>\n",
       "  </tbody>\n",
       "</table>\n",
       "</div>"
      ],
      "text/plain": [
       "       Proba       Preds    \n",
       "         min   max   min max\n",
       "Labels                      \n",
       "0      0.254 0.474     0   0\n",
       "1      0.321 0.496     0   0"
      ]
     },
     "metadata": {},
     "output_type": "display_data"
    },
    {
     "data": {
      "text/html": [
       "<div>\n",
       "<style scoped>\n",
       "    .dataframe tbody tr th:only-of-type {\n",
       "        vertical-align: middle;\n",
       "    }\n",
       "\n",
       "    .dataframe tbody tr th {\n",
       "        vertical-align: top;\n",
       "    }\n",
       "\n",
       "    .dataframe thead th {\n",
       "        text-align: right;\n",
       "    }\n",
       "</style>\n",
       "<table border=\"1\" class=\"dataframe\">\n",
       "  <thead>\n",
       "    <tr style=\"text-align: right;\">\n",
       "      <th></th>\n",
       "      <th>Proba</th>\n",
       "      <th>Probas</th>\n",
       "      <th>Preds</th>\n",
       "      <th>Labels</th>\n",
       "      <th>Proba</th>\n",
       "      <th>Probas</th>\n",
       "      <th>Preds</th>\n",
       "      <th>Labels</th>\n",
       "      <th>Proba</th>\n",
       "      <th>Probas</th>\n",
       "      <th>Preds</th>\n",
       "      <th>Labels</th>\n",
       "    </tr>\n",
       "  </thead>\n",
       "  <tbody>\n",
       "    <tr>\n",
       "      <th>0</th>\n",
       "      <td>0.421</td>\n",
       "      <td>[0.5793059468269348, 0.4206939935684204]</td>\n",
       "      <td>0</td>\n",
       "      <td>1</td>\n",
       "      <td>0.439</td>\n",
       "      <td>[0.5614545345306396, 0.4385455250740051]</td>\n",
       "      <td>0</td>\n",
       "      <td>1</td>\n",
       "      <td>0.345</td>\n",
       "      <td>[0.6551902294158936, 0.34480977058410645]</td>\n",
       "      <td>0</td>\n",
       "      <td>0</td>\n",
       "    </tr>\n",
       "    <tr>\n",
       "      <th>1</th>\n",
       "      <td>0.403</td>\n",
       "      <td>[0.5974583625793457, 0.4025416374206543]</td>\n",
       "      <td>0</td>\n",
       "      <td>1</td>\n",
       "      <td>0.410</td>\n",
       "      <td>[0.5900934934616089, 0.4099065065383911]</td>\n",
       "      <td>0</td>\n",
       "      <td>0</td>\n",
       "      <td>0.385</td>\n",
       "      <td>[0.6152442693710327, 0.3847557008266449]</td>\n",
       "      <td>0</td>\n",
       "      <td>1</td>\n",
       "    </tr>\n",
       "    <tr>\n",
       "      <th>2</th>\n",
       "      <td>0.408</td>\n",
       "      <td>[0.5921034812927246, 0.407896488904953]</td>\n",
       "      <td>0</td>\n",
       "      <td>0</td>\n",
       "      <td>0.379</td>\n",
       "      <td>[0.6210393905639648, 0.37896063923835754]</td>\n",
       "      <td>0</td>\n",
       "      <td>1</td>\n",
       "      <td>0.448</td>\n",
       "      <td>[0.5520352125167847, 0.44796478748321533]</td>\n",
       "      <td>0</td>\n",
       "      <td>1</td>\n",
       "    </tr>\n",
       "    <tr>\n",
       "      <th>3</th>\n",
       "      <td>0.391</td>\n",
       "      <td>[0.6093196868896484, 0.39068037271499634]</td>\n",
       "      <td>0</td>\n",
       "      <td>0</td>\n",
       "      <td>0.391</td>\n",
       "      <td>[0.608833909034729, 0.3911661207675934]</td>\n",
       "      <td>0</td>\n",
       "      <td>1</td>\n",
       "      <td>0.369</td>\n",
       "      <td>[0.6308984756469727, 0.36910155415534973]</td>\n",
       "      <td>0</td>\n",
       "      <td>1</td>\n",
       "    </tr>\n",
       "    <tr>\n",
       "      <th>4</th>\n",
       "      <td>0.400</td>\n",
       "      <td>[0.6000285148620605, 0.39997148513793945]</td>\n",
       "      <td>0</td>\n",
       "      <td>1</td>\n",
       "      <td>0.402</td>\n",
       "      <td>[0.5980679988861084, 0.401932030916214]</td>\n",
       "      <td>0</td>\n",
       "      <td>0</td>\n",
       "      <td>0.423</td>\n",
       "      <td>[0.5772815942764282, 0.4227184057235718]</td>\n",
       "      <td>0</td>\n",
       "      <td>1</td>\n",
       "    </tr>\n",
       "  </tbody>\n",
       "</table>\n",
       "</div>"
      ],
      "text/plain": [
       "  Proba                                     Probas Preds Labels Proba  \\\n",
       "0 0.421   [0.5793059468269348, 0.4206939935684204]     0      1 0.439   \n",
       "1 0.403   [0.5974583625793457, 0.4025416374206543]     0      1 0.410   \n",
       "2 0.408    [0.5921034812927246, 0.407896488904953]     0      0 0.379   \n",
       "3 0.391  [0.6093196868896484, 0.39068037271499634]     0      0 0.391   \n",
       "4 0.400  [0.6000285148620605, 0.39997148513793945]     0      1 0.402   \n",
       "\n",
       "                                      Probas Preds Labels Proba  \\\n",
       "0   [0.5614545345306396, 0.4385455250740051]     0      1 0.345   \n",
       "1   [0.5900934934616089, 0.4099065065383911]     0      0 0.385   \n",
       "2  [0.6210393905639648, 0.37896063923835754]     0      1 0.448   \n",
       "3    [0.608833909034729, 0.3911661207675934]     0      1 0.369   \n",
       "4    [0.5980679988861084, 0.401932030916214]     0      0 0.423   \n",
       "\n",
       "                                      Probas Preds Labels  \n",
       "0  [0.6551902294158936, 0.34480977058410645]     0      0  \n",
       "1   [0.6152442693710327, 0.3847557008266449]     0      1  \n",
       "2  [0.5520352125167847, 0.44796478748321533]     0      1  \n",
       "3  [0.6308984756469727, 0.36910155415534973]     0      1  \n",
       "4   [0.5772815942764282, 0.4227184057235718]     0      1  "
      ]
     },
     "metadata": {},
     "output_type": "display_data"
    },
    {
     "name": "stdout",
     "output_type": "stream",
     "text": [
      "scores =  {'map': '0.5819', 'acc': '0.5000', 'auc': '0.6109'}\n",
      "Epoch =  14 Train = 0.752583 Val = 0.610904\n"
     ]
    },
    {
     "data": {
      "application/vnd.jupyter.widget-view+json": {
       "model_id": "e43300e8076c41f9a871789205424535",
       "version_major": 2,
       "version_minor": 0
      },
      "text/plain": [
       "HBox(children=(FloatProgress(value=0.0, description='Batches', max=17.0, style=ProgressStyle(description_width…"
      ]
     },
     "metadata": {},
     "output_type": "display_data"
    },
    {
     "name": "stdout",
     "output_type": "stream",
     "text": [
      "\n",
      "Epoch =  15 Loss = 0.478658 LR = 0.00009991\n"
     ]
    },
    {
     "data": {
      "application/vnd.jupyter.widget-view+json": {
       "model_id": "51729cad5c5344ca8805b8254f02c719",
       "version_major": 2,
       "version_minor": 0
      },
      "text/plain": [
       "HBox(children=(FloatProgress(value=0.0, description='Batches', max=17.0, style=ProgressStyle(description_width…"
      ]
     },
     "metadata": {},
     "output_type": "display_data"
    },
    {
     "name": "stdout",
     "output_type": "stream",
     "text": [
      "\n",
      "Epoch =  16 Loss = 0.483169 LR = 0.00009941\n"
     ]
    },
    {
     "data": {
      "application/vnd.jupyter.widget-view+json": {
       "model_id": "9d2301e05c2f48668b15b5f77c168ab5",
       "version_major": 2,
       "version_minor": 0
      },
      "text/plain": [
       "HBox(children=(FloatProgress(value=0.0, description='Batches', max=17.0, style=ProgressStyle(description_width…"
      ]
     },
     "metadata": {},
     "output_type": "display_data"
    },
    {
     "name": "stdout",
     "output_type": "stream",
     "text": [
      "\n",
      "Epoch =  17 Loss = 0.481298 LR = 0.00009848\n"
     ]
    },
    {
     "data": {
      "application/vnd.jupyter.widget-view+json": {
       "model_id": "51a52233033f4dcc9d1ae34f06bef0ae",
       "version_major": 2,
       "version_minor": 0
      },
      "text/plain": [
       "HBox(children=(FloatProgress(value=0.0, description='Generate Predictions', max=34.0, style=ProgressStyle(desc…"
      ]
     },
     "metadata": {},
     "output_type": "display_data"
    },
    {
     "name": "stdout",
     "output_type": "stream",
     "text": [
      "\n"
     ]
    },
    {
     "data": {
      "application/vnd.jupyter.widget-view+json": {
       "model_id": "83e655dd91c64f5886094f7f1cc3bb03",
       "version_major": 2,
       "version_minor": 0
      },
      "text/plain": [
       "HBox(children=(FloatProgress(value=0.0, description='Generate Predictions', max=2.0, style=ProgressStyle(descr…"
      ]
     },
     "metadata": {},
     "output_type": "display_data"
    },
    {
     "name": "stdout",
     "output_type": "stream",
     "text": [
      "\n"
     ]
    },
    {
     "data": {
      "text/html": [
       "<div>\n",
       "<style scoped>\n",
       "    .dataframe tbody tr th:only-of-type {\n",
       "        vertical-align: middle;\n",
       "    }\n",
       "\n",
       "    .dataframe tbody tr th {\n",
       "        vertical-align: top;\n",
       "    }\n",
       "\n",
       "    .dataframe thead tr th {\n",
       "        text-align: left;\n",
       "    }\n",
       "\n",
       "    .dataframe thead tr:last-of-type th {\n",
       "        text-align: right;\n",
       "    }\n",
       "</style>\n",
       "<table border=\"1\" class=\"dataframe\">\n",
       "  <thead>\n",
       "    <tr>\n",
       "      <th></th>\n",
       "      <th colspan=\"2\" halign=\"left\">Proba</th>\n",
       "      <th colspan=\"2\" halign=\"left\">Preds</th>\n",
       "    </tr>\n",
       "    <tr>\n",
       "      <th></th>\n",
       "      <th>min</th>\n",
       "      <th>max</th>\n",
       "      <th>min</th>\n",
       "      <th>max</th>\n",
       "    </tr>\n",
       "    <tr>\n",
       "      <th>Labels</th>\n",
       "      <th></th>\n",
       "      <th></th>\n",
       "      <th></th>\n",
       "      <th></th>\n",
       "    </tr>\n",
       "  </thead>\n",
       "  <tbody>\n",
       "    <tr>\n",
       "      <th>0</th>\n",
       "      <td>0.242</td>\n",
       "      <td>0.534</td>\n",
       "      <td>0</td>\n",
       "      <td>1</td>\n",
       "    </tr>\n",
       "    <tr>\n",
       "      <th>1</th>\n",
       "      <td>0.310</td>\n",
       "      <td>0.534</td>\n",
       "      <td>0</td>\n",
       "      <td>1</td>\n",
       "    </tr>\n",
       "  </tbody>\n",
       "</table>\n",
       "</div>"
      ],
      "text/plain": [
       "       Proba       Preds    \n",
       "         min   max   min max\n",
       "Labels                      \n",
       "0      0.242 0.534     0   1\n",
       "1      0.310 0.534     0   1"
      ]
     },
     "metadata": {},
     "output_type": "display_data"
    },
    {
     "data": {
      "text/html": [
       "<div>\n",
       "<style scoped>\n",
       "    .dataframe tbody tr th:only-of-type {\n",
       "        vertical-align: middle;\n",
       "    }\n",
       "\n",
       "    .dataframe tbody tr th {\n",
       "        vertical-align: top;\n",
       "    }\n",
       "\n",
       "    .dataframe thead th {\n",
       "        text-align: right;\n",
       "    }\n",
       "</style>\n",
       "<table border=\"1\" class=\"dataframe\">\n",
       "  <thead>\n",
       "    <tr style=\"text-align: right;\">\n",
       "      <th></th>\n",
       "      <th>Proba</th>\n",
       "      <th>Probas</th>\n",
       "      <th>Preds</th>\n",
       "      <th>Labels</th>\n",
       "      <th>Proba</th>\n",
       "      <th>Probas</th>\n",
       "      <th>Preds</th>\n",
       "      <th>Labels</th>\n",
       "      <th>Proba</th>\n",
       "      <th>Probas</th>\n",
       "      <th>Preds</th>\n",
       "      <th>Labels</th>\n",
       "    </tr>\n",
       "  </thead>\n",
       "  <tbody>\n",
       "    <tr>\n",
       "      <th>0</th>\n",
       "      <td>0.426</td>\n",
       "      <td>[0.5744381546974182, 0.4255618453025818]</td>\n",
       "      <td>0</td>\n",
       "      <td>1</td>\n",
       "      <td>0.470</td>\n",
       "      <td>[0.5300424098968506, 0.4699576199054718]</td>\n",
       "      <td>0</td>\n",
       "      <td>1</td>\n",
       "      <td>0.511</td>\n",
       "      <td>[0.4886360168457031, 0.5113639831542969]</td>\n",
       "      <td>1</td>\n",
       "      <td>1</td>\n",
       "    </tr>\n",
       "    <tr>\n",
       "      <th>1</th>\n",
       "      <td>0.438</td>\n",
       "      <td>[0.5620801448822021, 0.43791982531547546]</td>\n",
       "      <td>0</td>\n",
       "      <td>0</td>\n",
       "      <td>0.468</td>\n",
       "      <td>[0.5324897170066833, 0.4675102233886719]</td>\n",
       "      <td>0</td>\n",
       "      <td>1</td>\n",
       "      <td>0.436</td>\n",
       "      <td>[0.5637885928153992, 0.43621140718460083]</td>\n",
       "      <td>0</td>\n",
       "      <td>0</td>\n",
       "    </tr>\n",
       "    <tr>\n",
       "      <th>2</th>\n",
       "      <td>0.426</td>\n",
       "      <td>[0.5736509561538696, 0.42634907364845276]</td>\n",
       "      <td>0</td>\n",
       "      <td>1</td>\n",
       "      <td>0.409</td>\n",
       "      <td>[0.5909866690635681, 0.4090133309364319]</td>\n",
       "      <td>0</td>\n",
       "      <td>0</td>\n",
       "      <td>0.529</td>\n",
       "      <td>[0.47058194875717163, 0.5294180512428284]</td>\n",
       "      <td>1</td>\n",
       "      <td>0</td>\n",
       "    </tr>\n",
       "    <tr>\n",
       "      <th>3</th>\n",
       "      <td>0.416</td>\n",
       "      <td>[0.5841505527496338, 0.415849506855011]</td>\n",
       "      <td>0</td>\n",
       "      <td>1</td>\n",
       "      <td>0.440</td>\n",
       "      <td>[0.5595637559890747, 0.4404362440109253]</td>\n",
       "      <td>0</td>\n",
       "      <td>0</td>\n",
       "      <td>0.528</td>\n",
       "      <td>[0.47241348028182983, 0.5275865197181702]</td>\n",
       "      <td>1</td>\n",
       "      <td>0</td>\n",
       "    </tr>\n",
       "    <tr>\n",
       "      <th>4</th>\n",
       "      <td>0.469</td>\n",
       "      <td>[0.5309200882911682, 0.4690799117088318]</td>\n",
       "      <td>0</td>\n",
       "      <td>1</td>\n",
       "      <td>0.418</td>\n",
       "      <td>[0.5821515321731567, 0.41784852743148804]</td>\n",
       "      <td>0</td>\n",
       "      <td>0</td>\n",
       "      <td>0.452</td>\n",
       "      <td>[0.5479861497879028, 0.4520138204097748]</td>\n",
       "      <td>0</td>\n",
       "      <td>1</td>\n",
       "    </tr>\n",
       "  </tbody>\n",
       "</table>\n",
       "</div>"
      ],
      "text/plain": [
       "  Proba                                     Probas Preds Labels Proba  \\\n",
       "0 0.426   [0.5744381546974182, 0.4255618453025818]     0      1 0.470   \n",
       "1 0.438  [0.5620801448822021, 0.43791982531547546]     0      0 0.468   \n",
       "2 0.426  [0.5736509561538696, 0.42634907364845276]     0      1 0.409   \n",
       "3 0.416    [0.5841505527496338, 0.415849506855011]     0      1 0.440   \n",
       "4 0.469   [0.5309200882911682, 0.4690799117088318]     0      1 0.418   \n",
       "\n",
       "                                      Probas Preds Labels Proba  \\\n",
       "0   [0.5300424098968506, 0.4699576199054718]     0      1 0.511   \n",
       "1   [0.5324897170066833, 0.4675102233886719]     0      1 0.436   \n",
       "2   [0.5909866690635681, 0.4090133309364319]     0      0 0.529   \n",
       "3   [0.5595637559890747, 0.4404362440109253]     0      0 0.528   \n",
       "4  [0.5821515321731567, 0.41784852743148804]     0      0 0.452   \n",
       "\n",
       "                                      Probas Preds Labels  \n",
       "0   [0.4886360168457031, 0.5113639831542969]     1      1  \n",
       "1  [0.5637885928153992, 0.43621140718460083]     0      0  \n",
       "2  [0.47058194875717163, 0.5294180512428284]     1      0  \n",
       "3  [0.47241348028182983, 0.5275865197181702]     1      0  \n",
       "4   [0.5479861497879028, 0.4520138204097748]     0      1  "
      ]
     },
     "metadata": {},
     "output_type": "display_data"
    },
    {
     "name": "stdout",
     "output_type": "stream",
     "text": [
      "scores =  {'map': '0.5987', 'acc': '0.5320', 'auc': '0.6340'}\n",
      "Epoch =  17 Train = 0.782744 Val = 0.633992\n"
     ]
    },
    {
     "data": {
      "application/vnd.jupyter.widget-view+json": {
       "model_id": "c0e5c9b472ab4294bdf3b68d53ee3121",
       "version_major": 2,
       "version_minor": 0
      },
      "text/plain": [
       "HBox(children=(FloatProgress(value=0.0, description='Batches', max=17.0, style=ProgressStyle(description_width…"
      ]
     },
     "metadata": {},
     "output_type": "display_data"
    },
    {
     "name": "stdout",
     "output_type": "stream",
     "text": [
      "\n",
      "Epoch =  18 Loss = 0.472745 LR = 0.00009713\n"
     ]
    },
    {
     "data": {
      "application/vnd.jupyter.widget-view+json": {
       "model_id": "44c0cfd3ab0a48668ed81a954a53316c",
       "version_major": 2,
       "version_minor": 0
      },
      "text/plain": [
       "HBox(children=(FloatProgress(value=0.0, description='Batches', max=17.0, style=ProgressStyle(description_width…"
      ]
     },
     "metadata": {},
     "output_type": "display_data"
    },
    {
     "name": "stdout",
     "output_type": "stream",
     "text": [
      "\n",
      "Epoch =  19 Loss = 0.467528 LR = 0.00009537\n"
     ]
    },
    {
     "data": {
      "application/vnd.jupyter.widget-view+json": {
       "model_id": "ab44c1e7f82d4941acf868fca7c3963d",
       "version_major": 2,
       "version_minor": 0
      },
      "text/plain": [
       "HBox(children=(FloatProgress(value=0.0, description='Generate Predictions', max=34.0, style=ProgressStyle(desc…"
      ]
     },
     "metadata": {},
     "output_type": "display_data"
    },
    {
     "name": "stdout",
     "output_type": "stream",
     "text": [
      "\n"
     ]
    },
    {
     "data": {
      "application/vnd.jupyter.widget-view+json": {
       "model_id": "d0e902ad8410426c97928b47307bc8b1",
       "version_major": 2,
       "version_minor": 0
      },
      "text/plain": [
       "HBox(children=(FloatProgress(value=0.0, description='Generate Predictions', max=2.0, style=ProgressStyle(descr…"
      ]
     },
     "metadata": {},
     "output_type": "display_data"
    },
    {
     "name": "stdout",
     "output_type": "stream",
     "text": [
      "\n"
     ]
    },
    {
     "data": {
      "text/html": [
       "<div>\n",
       "<style scoped>\n",
       "    .dataframe tbody tr th:only-of-type {\n",
       "        vertical-align: middle;\n",
       "    }\n",
       "\n",
       "    .dataframe tbody tr th {\n",
       "        vertical-align: top;\n",
       "    }\n",
       "\n",
       "    .dataframe thead tr th {\n",
       "        text-align: left;\n",
       "    }\n",
       "\n",
       "    .dataframe thead tr:last-of-type th {\n",
       "        text-align: right;\n",
       "    }\n",
       "</style>\n",
       "<table border=\"1\" class=\"dataframe\">\n",
       "  <thead>\n",
       "    <tr>\n",
       "      <th></th>\n",
       "      <th colspan=\"2\" halign=\"left\">Proba</th>\n",
       "      <th colspan=\"2\" halign=\"left\">Preds</th>\n",
       "    </tr>\n",
       "    <tr>\n",
       "      <th></th>\n",
       "      <th>min</th>\n",
       "      <th>max</th>\n",
       "      <th>min</th>\n",
       "      <th>max</th>\n",
       "    </tr>\n",
       "    <tr>\n",
       "      <th>Labels</th>\n",
       "      <th></th>\n",
       "      <th></th>\n",
       "      <th></th>\n",
       "      <th></th>\n",
       "    </tr>\n",
       "  </thead>\n",
       "  <tbody>\n",
       "    <tr>\n",
       "      <th>0</th>\n",
       "      <td>0.112</td>\n",
       "      <td>0.552</td>\n",
       "      <td>0</td>\n",
       "      <td>1</td>\n",
       "    </tr>\n",
       "    <tr>\n",
       "      <th>1</th>\n",
       "      <td>0.205</td>\n",
       "      <td>0.552</td>\n",
       "      <td>0</td>\n",
       "      <td>1</td>\n",
       "    </tr>\n",
       "  </tbody>\n",
       "</table>\n",
       "</div>"
      ],
      "text/plain": [
       "       Proba       Preds    \n",
       "         min   max   min max\n",
       "Labels                      \n",
       "0      0.112 0.552     0   1\n",
       "1      0.205 0.552     0   1"
      ]
     },
     "metadata": {},
     "output_type": "display_data"
    },
    {
     "data": {
      "text/html": [
       "<div>\n",
       "<style scoped>\n",
       "    .dataframe tbody tr th:only-of-type {\n",
       "        vertical-align: middle;\n",
       "    }\n",
       "\n",
       "    .dataframe tbody tr th {\n",
       "        vertical-align: top;\n",
       "    }\n",
       "\n",
       "    .dataframe thead th {\n",
       "        text-align: right;\n",
       "    }\n",
       "</style>\n",
       "<table border=\"1\" class=\"dataframe\">\n",
       "  <thead>\n",
       "    <tr style=\"text-align: right;\">\n",
       "      <th></th>\n",
       "      <th>Proba</th>\n",
       "      <th>Probas</th>\n",
       "      <th>Preds</th>\n",
       "      <th>Labels</th>\n",
       "      <th>Proba</th>\n",
       "      <th>Probas</th>\n",
       "      <th>Preds</th>\n",
       "      <th>Labels</th>\n",
       "      <th>Proba</th>\n",
       "      <th>Probas</th>\n",
       "      <th>Preds</th>\n",
       "      <th>Labels</th>\n",
       "    </tr>\n",
       "  </thead>\n",
       "  <tbody>\n",
       "    <tr>\n",
       "      <th>0</th>\n",
       "      <td>0.386</td>\n",
       "      <td>[0.6144185066223145, 0.38558149337768555]</td>\n",
       "      <td>0</td>\n",
       "      <td>0</td>\n",
       "      <td>0.444</td>\n",
       "      <td>[0.5562803149223328, 0.44371968507766724]</td>\n",
       "      <td>0</td>\n",
       "      <td>0</td>\n",
       "      <td>0.390</td>\n",
       "      <td>[0.610306441783905, 0.3896934986114502]</td>\n",
       "      <td>0</td>\n",
       "      <td>0</td>\n",
       "    </tr>\n",
       "    <tr>\n",
       "      <th>1</th>\n",
       "      <td>0.422</td>\n",
       "      <td>[0.57750403881073, 0.42249593138694763]</td>\n",
       "      <td>0</td>\n",
       "      <td>1</td>\n",
       "      <td>0.371</td>\n",
       "      <td>[0.6285915374755859, 0.37140846252441406]</td>\n",
       "      <td>0</td>\n",
       "      <td>1</td>\n",
       "      <td>0.374</td>\n",
       "      <td>[0.6262048482894897, 0.37379521131515503]</td>\n",
       "      <td>0</td>\n",
       "      <td>0</td>\n",
       "    </tr>\n",
       "    <tr>\n",
       "      <th>2</th>\n",
       "      <td>0.479</td>\n",
       "      <td>[0.5207474231719971, 0.47925254702568054]</td>\n",
       "      <td>0</td>\n",
       "      <td>1</td>\n",
       "      <td>0.479</td>\n",
       "      <td>[0.5206669569015503, 0.4793330430984497]</td>\n",
       "      <td>0</td>\n",
       "      <td>1</td>\n",
       "      <td>0.445</td>\n",
       "      <td>[0.5545477867126465, 0.4454522132873535]</td>\n",
       "      <td>0</td>\n",
       "      <td>1</td>\n",
       "    </tr>\n",
       "    <tr>\n",
       "      <th>3</th>\n",
       "      <td>0.444</td>\n",
       "      <td>[0.5564906001091003, 0.44350939989089966]</td>\n",
       "      <td>0</td>\n",
       "      <td>0</td>\n",
       "      <td>0.505</td>\n",
       "      <td>[0.49465054273605347, 0.5053494572639465]</td>\n",
       "      <td>1</td>\n",
       "      <td>0</td>\n",
       "      <td>0.443</td>\n",
       "      <td>[0.5571738481521606, 0.44282615184783936]</td>\n",
       "      <td>0</td>\n",
       "      <td>1</td>\n",
       "    </tr>\n",
       "    <tr>\n",
       "      <th>4</th>\n",
       "      <td>0.453</td>\n",
       "      <td>[0.5473753213882446, 0.45262467861175537]</td>\n",
       "      <td>0</td>\n",
       "      <td>1</td>\n",
       "      <td>0.368</td>\n",
       "      <td>[0.6317079663276672, 0.36829203367233276]</td>\n",
       "      <td>0</td>\n",
       "      <td>1</td>\n",
       "      <td>0.474</td>\n",
       "      <td>[0.5263757705688477, 0.47362422943115234]</td>\n",
       "      <td>0</td>\n",
       "      <td>1</td>\n",
       "    </tr>\n",
       "  </tbody>\n",
       "</table>\n",
       "</div>"
      ],
      "text/plain": [
       "  Proba                                     Probas Preds Labels Proba  \\\n",
       "0 0.386  [0.6144185066223145, 0.38558149337768555]     0      0 0.444   \n",
       "1 0.422    [0.57750403881073, 0.42249593138694763]     0      1 0.371   \n",
       "2 0.479  [0.5207474231719971, 0.47925254702568054]     0      1 0.479   \n",
       "3 0.444  [0.5564906001091003, 0.44350939989089966]     0      0 0.505   \n",
       "4 0.453  [0.5473753213882446, 0.45262467861175537]     0      1 0.368   \n",
       "\n",
       "                                      Probas Preds Labels Proba  \\\n",
       "0  [0.5562803149223328, 0.44371968507766724]     0      0 0.390   \n",
       "1  [0.6285915374755859, 0.37140846252441406]     0      1 0.374   \n",
       "2   [0.5206669569015503, 0.4793330430984497]     0      1 0.445   \n",
       "3  [0.49465054273605347, 0.5053494572639465]     1      0 0.443   \n",
       "4  [0.6317079663276672, 0.36829203367233276]     0      1 0.474   \n",
       "\n",
       "                                      Probas Preds Labels  \n",
       "0    [0.610306441783905, 0.3896934986114502]     0      0  \n",
       "1  [0.6262048482894897, 0.37379521131515503]     0      0  \n",
       "2   [0.5545477867126465, 0.4454522132873535]     0      1  \n",
       "3  [0.5571738481521606, 0.44282615184783936]     0      1  \n",
       "4  [0.5263757705688477, 0.47362422943115234]     0      1  "
      ]
     },
     "metadata": {},
     "output_type": "display_data"
    },
    {
     "name": "stdout",
     "output_type": "stream",
     "text": [
      "scores =  {'map': '0.5810', 'acc': '0.5100', 'auc': '0.6228'}\n",
      "Epoch =  19 Train = 0.793977 Val = 0.622792\n"
     ]
    },
    {
     "data": {
      "application/vnd.jupyter.widget-view+json": {
       "model_id": "baf39d3fad464a3ab4af8fe97c9a5433",
       "version_major": 2,
       "version_minor": 0
      },
      "text/plain": [
       "HBox(children=(FloatProgress(value=0.0, description='Batches', max=17.0, style=ProgressStyle(description_width…"
      ]
     },
     "metadata": {},
     "output_type": "display_data"
    },
    {
     "name": "stdout",
     "output_type": "stream",
     "text": [
      "\n",
      "Epoch =  20 Loss = 0.469692 LR = 0.00009321\n"
     ]
    },
    {
     "data": {
      "application/vnd.jupyter.widget-view+json": {
       "model_id": "99ec835d55d24ab9a6466124b0d36bd8",
       "version_major": 2,
       "version_minor": 0
      },
      "text/plain": [
       "HBox(children=(FloatProgress(value=0.0, description='Batches', max=17.0, style=ProgressStyle(description_width…"
      ]
     },
     "metadata": {},
     "output_type": "display_data"
    },
    {
     "name": "stdout",
     "output_type": "stream",
     "text": [
      "\n",
      "Epoch =  21 Loss = 0.470404 LR = 0.00009068\n"
     ]
    },
    {
     "data": {
      "application/vnd.jupyter.widget-view+json": {
       "model_id": "b2069aaba50e4fe69192063ab1cb8917",
       "version_major": 2,
       "version_minor": 0
      },
      "text/plain": [
       "HBox(children=(FloatProgress(value=0.0, description='Batches', max=17.0, style=ProgressStyle(description_width…"
      ]
     },
     "metadata": {},
     "output_type": "display_data"
    },
    {
     "name": "stdout",
     "output_type": "stream",
     "text": [
      "\n",
      "Epoch =  22 Loss = 0.467867 LR = 0.00008779\n"
     ]
    },
    {
     "data": {
      "application/vnd.jupyter.widget-view+json": {
       "model_id": "b075923edbec431fb5772a4b9da3b762",
       "version_major": 2,
       "version_minor": 0
      },
      "text/plain": [
       "HBox(children=(FloatProgress(value=0.0, description='Batches', max=17.0, style=ProgressStyle(description_width…"
      ]
     },
     "metadata": {},
     "output_type": "display_data"
    },
    {
     "name": "stdout",
     "output_type": "stream",
     "text": [
      "\n",
      "Epoch =  23 Loss = 0.470881 LR = 0.00008457\n"
     ]
    },
    {
     "data": {
      "application/vnd.jupyter.widget-view+json": {
       "model_id": "4c01ae9343834dce88b4e65ce82db94e",
       "version_major": 2,
       "version_minor": 0
      },
      "text/plain": [
       "HBox(children=(FloatProgress(value=0.0, description='Generate Predictions', max=34.0, style=ProgressStyle(desc…"
      ]
     },
     "metadata": {},
     "output_type": "display_data"
    },
    {
     "name": "stdout",
     "output_type": "stream",
     "text": [
      "\n"
     ]
    },
    {
     "data": {
      "application/vnd.jupyter.widget-view+json": {
       "model_id": "45e96be3dc194c6b9b21540a3b394d46",
       "version_major": 2,
       "version_minor": 0
      },
      "text/plain": [
       "HBox(children=(FloatProgress(value=0.0, description='Generate Predictions', max=2.0, style=ProgressStyle(descr…"
      ]
     },
     "metadata": {},
     "output_type": "display_data"
    },
    {
     "name": "stdout",
     "output_type": "stream",
     "text": [
      "\n"
     ]
    },
    {
     "data": {
      "text/html": [
       "<div>\n",
       "<style scoped>\n",
       "    .dataframe tbody tr th:only-of-type {\n",
       "        vertical-align: middle;\n",
       "    }\n",
       "\n",
       "    .dataframe tbody tr th {\n",
       "        vertical-align: top;\n",
       "    }\n",
       "\n",
       "    .dataframe thead tr th {\n",
       "        text-align: left;\n",
       "    }\n",
       "\n",
       "    .dataframe thead tr:last-of-type th {\n",
       "        text-align: right;\n",
       "    }\n",
       "</style>\n",
       "<table border=\"1\" class=\"dataframe\">\n",
       "  <thead>\n",
       "    <tr>\n",
       "      <th></th>\n",
       "      <th colspan=\"2\" halign=\"left\">Proba</th>\n",
       "      <th colspan=\"2\" halign=\"left\">Preds</th>\n",
       "    </tr>\n",
       "    <tr>\n",
       "      <th></th>\n",
       "      <th>min</th>\n",
       "      <th>max</th>\n",
       "      <th>min</th>\n",
       "      <th>max</th>\n",
       "    </tr>\n",
       "    <tr>\n",
       "      <th>Labels</th>\n",
       "      <th></th>\n",
       "      <th></th>\n",
       "      <th></th>\n",
       "      <th></th>\n",
       "    </tr>\n",
       "  </thead>\n",
       "  <tbody>\n",
       "    <tr>\n",
       "      <th>0</th>\n",
       "      <td>0.190</td>\n",
       "      <td>0.456</td>\n",
       "      <td>0</td>\n",
       "      <td>0</td>\n",
       "    </tr>\n",
       "    <tr>\n",
       "      <th>1</th>\n",
       "      <td>0.239</td>\n",
       "      <td>0.457</td>\n",
       "      <td>0</td>\n",
       "      <td>0</td>\n",
       "    </tr>\n",
       "  </tbody>\n",
       "</table>\n",
       "</div>"
      ],
      "text/plain": [
       "       Proba       Preds    \n",
       "         min   max   min max\n",
       "Labels                      \n",
       "0      0.190 0.456     0   0\n",
       "1      0.239 0.457     0   0"
      ]
     },
     "metadata": {},
     "output_type": "display_data"
    },
    {
     "data": {
      "text/html": [
       "<div>\n",
       "<style scoped>\n",
       "    .dataframe tbody tr th:only-of-type {\n",
       "        vertical-align: middle;\n",
       "    }\n",
       "\n",
       "    .dataframe tbody tr th {\n",
       "        vertical-align: top;\n",
       "    }\n",
       "\n",
       "    .dataframe thead th {\n",
       "        text-align: right;\n",
       "    }\n",
       "</style>\n",
       "<table border=\"1\" class=\"dataframe\">\n",
       "  <thead>\n",
       "    <tr style=\"text-align: right;\">\n",
       "      <th></th>\n",
       "      <th>Proba</th>\n",
       "      <th>Probas</th>\n",
       "      <th>Preds</th>\n",
       "      <th>Labels</th>\n",
       "      <th>Proba</th>\n",
       "      <th>Probas</th>\n",
       "      <th>Preds</th>\n",
       "      <th>Labels</th>\n",
       "      <th>Proba</th>\n",
       "      <th>Probas</th>\n",
       "      <th>Preds</th>\n",
       "      <th>Labels</th>\n",
       "    </tr>\n",
       "  </thead>\n",
       "  <tbody>\n",
       "    <tr>\n",
       "      <th>0</th>\n",
       "      <td>0.379</td>\n",
       "      <td>[0.6212131977081299, 0.3787868022918701]</td>\n",
       "      <td>0</td>\n",
       "      <td>0</td>\n",
       "      <td>0.415</td>\n",
       "      <td>[0.5851757526397705, 0.4148242473602295]</td>\n",
       "      <td>0</td>\n",
       "      <td>1</td>\n",
       "      <td>0.409</td>\n",
       "      <td>[0.5910695195198059, 0.4089304506778717]</td>\n",
       "      <td>0</td>\n",
       "      <td>1</td>\n",
       "    </tr>\n",
       "    <tr>\n",
       "      <th>1</th>\n",
       "      <td>0.401</td>\n",
       "      <td>[0.5989573001861572, 0.4010426998138428]</td>\n",
       "      <td>0</td>\n",
       "      <td>1</td>\n",
       "      <td>0.390</td>\n",
       "      <td>[0.6100329160690308, 0.3899671137332916]</td>\n",
       "      <td>0</td>\n",
       "      <td>0</td>\n",
       "      <td>0.391</td>\n",
       "      <td>[0.6089495420455933, 0.39105042815208435]</td>\n",
       "      <td>0</td>\n",
       "      <td>0</td>\n",
       "    </tr>\n",
       "    <tr>\n",
       "      <th>2</th>\n",
       "      <td>0.407</td>\n",
       "      <td>[0.592668890953064, 0.40733104944229126]</td>\n",
       "      <td>0</td>\n",
       "      <td>0</td>\n",
       "      <td>0.411</td>\n",
       "      <td>[0.5889946222305298, 0.4110053479671478]</td>\n",
       "      <td>0</td>\n",
       "      <td>1</td>\n",
       "      <td>0.403</td>\n",
       "      <td>[0.5965722799301147, 0.40342772006988525]</td>\n",
       "      <td>0</td>\n",
       "      <td>0</td>\n",
       "    </tr>\n",
       "    <tr>\n",
       "      <th>3</th>\n",
       "      <td>0.420</td>\n",
       "      <td>[0.5795732140541077, 0.42042678594589233]</td>\n",
       "      <td>0</td>\n",
       "      <td>1</td>\n",
       "      <td>0.435</td>\n",
       "      <td>[0.5651326179504395, 0.43486741185188293]</td>\n",
       "      <td>0</td>\n",
       "      <td>0</td>\n",
       "      <td>0.415</td>\n",
       "      <td>[0.5851686000823975, 0.41483134031295776]</td>\n",
       "      <td>0</td>\n",
       "      <td>1</td>\n",
       "    </tr>\n",
       "    <tr>\n",
       "      <th>4</th>\n",
       "      <td>0.334</td>\n",
       "      <td>[0.6659610867500305, 0.3340389132499695]</td>\n",
       "      <td>0</td>\n",
       "      <td>0</td>\n",
       "      <td>0.444</td>\n",
       "      <td>[0.5562049746513367, 0.4437950551509857]</td>\n",
       "      <td>0</td>\n",
       "      <td>0</td>\n",
       "      <td>0.396</td>\n",
       "      <td>[0.6043424606323242, 0.3956575095653534]</td>\n",
       "      <td>0</td>\n",
       "      <td>1</td>\n",
       "    </tr>\n",
       "  </tbody>\n",
       "</table>\n",
       "</div>"
      ],
      "text/plain": [
       "  Proba                                     Probas Preds Labels Proba  \\\n",
       "0 0.379   [0.6212131977081299, 0.3787868022918701]     0      0 0.415   \n",
       "1 0.401   [0.5989573001861572, 0.4010426998138428]     0      1 0.390   \n",
       "2 0.407   [0.592668890953064, 0.40733104944229126]     0      0 0.411   \n",
       "3 0.420  [0.5795732140541077, 0.42042678594589233]     0      1 0.435   \n",
       "4 0.334   [0.6659610867500305, 0.3340389132499695]     0      0 0.444   \n",
       "\n",
       "                                      Probas Preds Labels Proba  \\\n",
       "0   [0.5851757526397705, 0.4148242473602295]     0      1 0.409   \n",
       "1   [0.6100329160690308, 0.3899671137332916]     0      0 0.391   \n",
       "2   [0.5889946222305298, 0.4110053479671478]     0      1 0.403   \n",
       "3  [0.5651326179504395, 0.43486741185188293]     0      0 0.415   \n",
       "4   [0.5562049746513367, 0.4437950551509857]     0      0 0.396   \n",
       "\n",
       "                                      Probas Preds Labels  \n",
       "0   [0.5910695195198059, 0.4089304506778717]     0      1  \n",
       "1  [0.6089495420455933, 0.39105042815208435]     0      0  \n",
       "2  [0.5965722799301147, 0.40342772006988525]     0      0  \n",
       "3  [0.5851686000823975, 0.41483134031295776]     0      1  \n",
       "4   [0.6043424606323242, 0.3956575095653534]     0      1  "
      ]
     },
     "metadata": {},
     "output_type": "display_data"
    },
    {
     "name": "stdout",
     "output_type": "stream",
     "text": [
      "scores =  {'map': '0.6066', 'acc': '0.5000', 'auc': '0.6370'}\n",
      "Epoch =  23 Train = 0.807510 Val = 0.637048\n"
     ]
    },
    {
     "data": {
      "application/vnd.jupyter.widget-view+json": {
       "model_id": "fcbec9247456404ba4e4c035ca5d9236",
       "version_major": 2,
       "version_minor": 0
      },
      "text/plain": [
       "HBox(children=(FloatProgress(value=0.0, description='Batches', max=17.0, style=ProgressStyle(description_width…"
      ]
     },
     "metadata": {},
     "output_type": "display_data"
    },
    {
     "name": "stdout",
     "output_type": "stream",
     "text": [
      "\n",
      "Epoch =  24 Loss = 0.462486 LR = 0.00008105\n"
     ]
    },
    {
     "data": {
      "application/vnd.jupyter.widget-view+json": {
       "model_id": "e313c66765d54b9b884e19de1c1d6973",
       "version_major": 2,
       "version_minor": 0
      },
      "text/plain": [
       "HBox(children=(FloatProgress(value=0.0, description='Batches', max=17.0, style=ProgressStyle(description_width…"
      ]
     },
     "metadata": {},
     "output_type": "display_data"
    },
    {
     "name": "stdout",
     "output_type": "stream",
     "text": [
      "\n",
      "Epoch =  25 Loss = 0.463121 LR = 0.00007726\n"
     ]
    },
    {
     "data": {
      "application/vnd.jupyter.widget-view+json": {
       "model_id": "ee699c57413b493b98ad8fc8908997a7",
       "version_major": 2,
       "version_minor": 0
      },
      "text/plain": [
       "HBox(children=(FloatProgress(value=0.0, description='Batches', max=17.0, style=ProgressStyle(description_width…"
      ]
     },
     "metadata": {},
     "output_type": "display_data"
    },
    {
     "name": "stdout",
     "output_type": "stream",
     "text": [
      "\n",
      "Epoch =  26 Loss = 0.463304 LR = 0.00007324\n"
     ]
    },
    {
     "data": {
      "application/vnd.jupyter.widget-view+json": {
       "model_id": "c19b87899bb14c228163c417fdaaa9e5",
       "version_major": 2,
       "version_minor": 0
      },
      "text/plain": [
       "HBox(children=(FloatProgress(value=0.0, description='Batches', max=17.0, style=ProgressStyle(description_width…"
      ]
     },
     "metadata": {},
     "output_type": "display_data"
    },
    {
     "name": "stdout",
     "output_type": "stream",
     "text": [
      "\n",
      "Epoch =  27 Loss = 0.461171 LR = 0.00006901\n"
     ]
    },
    {
     "data": {
      "application/vnd.jupyter.widget-view+json": {
       "model_id": "fbf22358839940ce85e8b22fe23f37b5",
       "version_major": 2,
       "version_minor": 0
      },
      "text/plain": [
       "HBox(children=(FloatProgress(value=0.0, description='Generate Predictions', max=34.0, style=ProgressStyle(desc…"
      ]
     },
     "metadata": {},
     "output_type": "display_data"
    },
    {
     "name": "stdout",
     "output_type": "stream",
     "text": [
      "\n"
     ]
    },
    {
     "data": {
      "application/vnd.jupyter.widget-view+json": {
       "model_id": "bd54d22e7cf3441ea5a7d20de5a3decd",
       "version_major": 2,
       "version_minor": 0
      },
      "text/plain": [
       "HBox(children=(FloatProgress(value=0.0, description='Generate Predictions', max=2.0, style=ProgressStyle(descr…"
      ]
     },
     "metadata": {},
     "output_type": "display_data"
    },
    {
     "name": "stdout",
     "output_type": "stream",
     "text": [
      "\n"
     ]
    },
    {
     "data": {
      "text/html": [
       "<div>\n",
       "<style scoped>\n",
       "    .dataframe tbody tr th:only-of-type {\n",
       "        vertical-align: middle;\n",
       "    }\n",
       "\n",
       "    .dataframe tbody tr th {\n",
       "        vertical-align: top;\n",
       "    }\n",
       "\n",
       "    .dataframe thead tr th {\n",
       "        text-align: left;\n",
       "    }\n",
       "\n",
       "    .dataframe thead tr:last-of-type th {\n",
       "        text-align: right;\n",
       "    }\n",
       "</style>\n",
       "<table border=\"1\" class=\"dataframe\">\n",
       "  <thead>\n",
       "    <tr>\n",
       "      <th></th>\n",
       "      <th colspan=\"2\" halign=\"left\">Proba</th>\n",
       "      <th colspan=\"2\" halign=\"left\">Preds</th>\n",
       "    </tr>\n",
       "    <tr>\n",
       "      <th></th>\n",
       "      <th>min</th>\n",
       "      <th>max</th>\n",
       "      <th>min</th>\n",
       "      <th>max</th>\n",
       "    </tr>\n",
       "    <tr>\n",
       "      <th>Labels</th>\n",
       "      <th></th>\n",
       "      <th></th>\n",
       "      <th></th>\n",
       "      <th></th>\n",
       "    </tr>\n",
       "  </thead>\n",
       "  <tbody>\n",
       "    <tr>\n",
       "      <th>0</th>\n",
       "      <td>0.090</td>\n",
       "      <td>0.448</td>\n",
       "      <td>0</td>\n",
       "      <td>0</td>\n",
       "    </tr>\n",
       "    <tr>\n",
       "      <th>1</th>\n",
       "      <td>0.129</td>\n",
       "      <td>0.449</td>\n",
       "      <td>0</td>\n",
       "      <td>0</td>\n",
       "    </tr>\n",
       "  </tbody>\n",
       "</table>\n",
       "</div>"
      ],
      "text/plain": [
       "       Proba       Preds    \n",
       "         min   max   min max\n",
       "Labels                      \n",
       "0      0.090 0.448     0   0\n",
       "1      0.129 0.449     0   0"
      ]
     },
     "metadata": {},
     "output_type": "display_data"
    },
    {
     "data": {
      "text/html": [
       "<div>\n",
       "<style scoped>\n",
       "    .dataframe tbody tr th:only-of-type {\n",
       "        vertical-align: middle;\n",
       "    }\n",
       "\n",
       "    .dataframe tbody tr th {\n",
       "        vertical-align: top;\n",
       "    }\n",
       "\n",
       "    .dataframe thead th {\n",
       "        text-align: right;\n",
       "    }\n",
       "</style>\n",
       "<table border=\"1\" class=\"dataframe\">\n",
       "  <thead>\n",
       "    <tr style=\"text-align: right;\">\n",
       "      <th></th>\n",
       "      <th>Proba</th>\n",
       "      <th>Probas</th>\n",
       "      <th>Preds</th>\n",
       "      <th>Labels</th>\n",
       "      <th>Proba</th>\n",
       "      <th>Probas</th>\n",
       "      <th>Preds</th>\n",
       "      <th>Labels</th>\n",
       "      <th>Proba</th>\n",
       "      <th>Probas</th>\n",
       "      <th>Preds</th>\n",
       "      <th>Labels</th>\n",
       "    </tr>\n",
       "  </thead>\n",
       "  <tbody>\n",
       "    <tr>\n",
       "      <th>0</th>\n",
       "      <td>0.394</td>\n",
       "      <td>[0.6063394546508789, 0.3936605453491211]</td>\n",
       "      <td>0</td>\n",
       "      <td>1</td>\n",
       "      <td>0.415</td>\n",
       "      <td>[0.5848050713539124, 0.41519492864608765]</td>\n",
       "      <td>0</td>\n",
       "      <td>1</td>\n",
       "      <td>0.174</td>\n",
       "      <td>[0.8259727954864502, 0.1740272045135498]</td>\n",
       "      <td>0</td>\n",
       "      <td>0</td>\n",
       "    </tr>\n",
       "    <tr>\n",
       "      <th>1</th>\n",
       "      <td>0.355</td>\n",
       "      <td>[0.6451596021652222, 0.35484039783477783]</td>\n",
       "      <td>0</td>\n",
       "      <td>0</td>\n",
       "      <td>0.407</td>\n",
       "      <td>[0.5927472710609436, 0.4072527587413788]</td>\n",
       "      <td>0</td>\n",
       "      <td>0</td>\n",
       "      <td>0.237</td>\n",
       "      <td>[0.7629009485244751, 0.2370990663766861]</td>\n",
       "      <td>0</td>\n",
       "      <td>0</td>\n",
       "    </tr>\n",
       "    <tr>\n",
       "      <th>2</th>\n",
       "      <td>0.328</td>\n",
       "      <td>[0.672205924987793, 0.32779404520988464]</td>\n",
       "      <td>0</td>\n",
       "      <td>0</td>\n",
       "      <td>0.285</td>\n",
       "      <td>[0.7150153517723083, 0.28498464822769165]</td>\n",
       "      <td>0</td>\n",
       "      <td>1</td>\n",
       "      <td>0.397</td>\n",
       "      <td>[0.6028529405593872, 0.3971470296382904]</td>\n",
       "      <td>0</td>\n",
       "      <td>1</td>\n",
       "    </tr>\n",
       "    <tr>\n",
       "      <th>3</th>\n",
       "      <td>0.390</td>\n",
       "      <td>[0.6099593043327332, 0.39004066586494446]</td>\n",
       "      <td>0</td>\n",
       "      <td>0</td>\n",
       "      <td>0.363</td>\n",
       "      <td>[0.6372870206832886, 0.3627130091190338]</td>\n",
       "      <td>0</td>\n",
       "      <td>1</td>\n",
       "      <td>0.327</td>\n",
       "      <td>[0.6728334426879883, 0.32716652750968933]</td>\n",
       "      <td>0</td>\n",
       "      <td>0</td>\n",
       "    </tr>\n",
       "    <tr>\n",
       "      <th>4</th>\n",
       "      <td>0.332</td>\n",
       "      <td>[0.6680387854576111, 0.3319612145423889]</td>\n",
       "      <td>0</td>\n",
       "      <td>0</td>\n",
       "      <td>0.425</td>\n",
       "      <td>[0.5745916366577148, 0.42540833353996277]</td>\n",
       "      <td>0</td>\n",
       "      <td>1</td>\n",
       "      <td>0.408</td>\n",
       "      <td>[0.5922638773918152, 0.4077360928058624]</td>\n",
       "      <td>0</td>\n",
       "      <td>1</td>\n",
       "    </tr>\n",
       "  </tbody>\n",
       "</table>\n",
       "</div>"
      ],
      "text/plain": [
       "  Proba                                     Probas Preds Labels Proba  \\\n",
       "0 0.394   [0.6063394546508789, 0.3936605453491211]     0      1 0.415   \n",
       "1 0.355  [0.6451596021652222, 0.35484039783477783]     0      0 0.407   \n",
       "2 0.328   [0.672205924987793, 0.32779404520988464]     0      0 0.285   \n",
       "3 0.390  [0.6099593043327332, 0.39004066586494446]     0      0 0.363   \n",
       "4 0.332   [0.6680387854576111, 0.3319612145423889]     0      0 0.425   \n",
       "\n",
       "                                      Probas Preds Labels Proba  \\\n",
       "0  [0.5848050713539124, 0.41519492864608765]     0      1 0.174   \n",
       "1   [0.5927472710609436, 0.4072527587413788]     0      0 0.237   \n",
       "2  [0.7150153517723083, 0.28498464822769165]     0      1 0.397   \n",
       "3   [0.6372870206832886, 0.3627130091190338]     0      1 0.327   \n",
       "4  [0.5745916366577148, 0.42540833353996277]     0      1 0.408   \n",
       "\n",
       "                                      Probas Preds Labels  \n",
       "0   [0.8259727954864502, 0.1740272045135498]     0      0  \n",
       "1   [0.7629009485244751, 0.2370990663766861]     0      0  \n",
       "2   [0.6028529405593872, 0.3971470296382904]     0      1  \n",
       "3  [0.6728334426879883, 0.32716652750968933]     0      0  \n",
       "4   [0.5922638773918152, 0.4077360928058624]     0      1  "
      ]
     },
     "metadata": {},
     "output_type": "display_data"
    },
    {
     "name": "stdout",
     "output_type": "stream",
     "text": [
      "scores =  {'map': '0.6037', 'acc': '0.5000', 'auc': '0.6393'}\n",
      "Epoch =  27 Train = 0.824353 Val = 0.639304\n"
     ]
    },
    {
     "data": {
      "application/vnd.jupyter.widget-view+json": {
       "model_id": "59140824a139458faa20922e4572c995",
       "version_major": 2,
       "version_minor": 0
      },
      "text/plain": [
       "HBox(children=(FloatProgress(value=0.0, description='Batches', max=17.0, style=ProgressStyle(description_width…"
      ]
     },
     "metadata": {},
     "output_type": "display_data"
    },
    {
     "name": "stdout",
     "output_type": "stream",
     "text": [
      "\n",
      "Epoch =  28 Loss = 0.467099 LR = 0.00006461\n"
     ]
    },
    {
     "data": {
      "application/vnd.jupyter.widget-view+json": {
       "model_id": "25e92cbe3c784f7baac42ee3b2f5d43c",
       "version_major": 2,
       "version_minor": 0
      },
      "text/plain": [
       "HBox(children=(FloatProgress(value=0.0, description='Batches', max=17.0, style=ProgressStyle(description_width…"
      ]
     },
     "metadata": {},
     "output_type": "display_data"
    },
    {
     "name": "stdout",
     "output_type": "stream",
     "text": [
      "\n",
      "Epoch =  29 Loss = 0.459498 LR = 0.00006009\n"
     ]
    },
    {
     "data": {
      "application/vnd.jupyter.widget-view+json": {
       "model_id": "d249c25b38244952b32c33b29e0a8f12",
       "version_major": 2,
       "version_minor": 0
      },
      "text/plain": [
       "HBox(children=(FloatProgress(value=0.0, description='Batches', max=17.0, style=ProgressStyle(description_width…"
      ]
     },
     "metadata": {},
     "output_type": "display_data"
    },
    {
     "name": "stdout",
     "output_type": "stream",
     "text": [
      "\n",
      "Epoch =  30 Loss = 0.458401 LR = 0.00005548\n"
     ]
    },
    {
     "data": {
      "application/vnd.jupyter.widget-view+json": {
       "model_id": "2d8bdc4b81ab40499bb5f0635eb45bd2",
       "version_major": 2,
       "version_minor": 0
      },
      "text/plain": [
       "HBox(children=(FloatProgress(value=0.0, description='Batches', max=17.0, style=ProgressStyle(description_width…"
      ]
     },
     "metadata": {},
     "output_type": "display_data"
    },
    {
     "name": "stdout",
     "output_type": "stream",
     "text": [
      "\n",
      "Epoch =  31 Loss = 0.458091 LR = 0.00005082\n"
     ]
    },
    {
     "data": {
      "application/vnd.jupyter.widget-view+json": {
       "model_id": "19ca39d1775e4e6f853d50d294a6df97",
       "version_major": 2,
       "version_minor": 0
      },
      "text/plain": [
       "HBox(children=(FloatProgress(value=0.0, description='Generate Predictions', max=34.0, style=ProgressStyle(desc…"
      ]
     },
     "metadata": {},
     "output_type": "display_data"
    },
    {
     "name": "stdout",
     "output_type": "stream",
     "text": [
      "\n"
     ]
    },
    {
     "data": {
      "application/vnd.jupyter.widget-view+json": {
       "model_id": "6d919ade5bf94e679330bfb0455fab2a",
       "version_major": 2,
       "version_minor": 0
      },
      "text/plain": [
       "HBox(children=(FloatProgress(value=0.0, description='Generate Predictions', max=2.0, style=ProgressStyle(descr…"
      ]
     },
     "metadata": {},
     "output_type": "display_data"
    },
    {
     "name": "stdout",
     "output_type": "stream",
     "text": [
      "\n"
     ]
    },
    {
     "data": {
      "text/html": [
       "<div>\n",
       "<style scoped>\n",
       "    .dataframe tbody tr th:only-of-type {\n",
       "        vertical-align: middle;\n",
       "    }\n",
       "\n",
       "    .dataframe tbody tr th {\n",
       "        vertical-align: top;\n",
       "    }\n",
       "\n",
       "    .dataframe thead tr th {\n",
       "        text-align: left;\n",
       "    }\n",
       "\n",
       "    .dataframe thead tr:last-of-type th {\n",
       "        text-align: right;\n",
       "    }\n",
       "</style>\n",
       "<table border=\"1\" class=\"dataframe\">\n",
       "  <thead>\n",
       "    <tr>\n",
       "      <th></th>\n",
       "      <th colspan=\"2\" halign=\"left\">Proba</th>\n",
       "      <th colspan=\"2\" halign=\"left\">Preds</th>\n",
       "    </tr>\n",
       "    <tr>\n",
       "      <th></th>\n",
       "      <th>min</th>\n",
       "      <th>max</th>\n",
       "      <th>min</th>\n",
       "      <th>max</th>\n",
       "    </tr>\n",
       "    <tr>\n",
       "      <th>Labels</th>\n",
       "      <th></th>\n",
       "      <th></th>\n",
       "      <th></th>\n",
       "      <th></th>\n",
       "    </tr>\n",
       "  </thead>\n",
       "  <tbody>\n",
       "    <tr>\n",
       "      <th>0</th>\n",
       "      <td>0.037</td>\n",
       "      <td>0.509</td>\n",
       "      <td>0</td>\n",
       "      <td>1</td>\n",
       "    </tr>\n",
       "    <tr>\n",
       "      <th>1</th>\n",
       "      <td>0.062</td>\n",
       "      <td>0.500</td>\n",
       "      <td>0</td>\n",
       "      <td>1</td>\n",
       "    </tr>\n",
       "  </tbody>\n",
       "</table>\n",
       "</div>"
      ],
      "text/plain": [
       "       Proba       Preds    \n",
       "         min   max   min max\n",
       "Labels                      \n",
       "0      0.037 0.509     0   1\n",
       "1      0.062 0.500     0   1"
      ]
     },
     "metadata": {},
     "output_type": "display_data"
    },
    {
     "data": {
      "text/html": [
       "<div>\n",
       "<style scoped>\n",
       "    .dataframe tbody tr th:only-of-type {\n",
       "        vertical-align: middle;\n",
       "    }\n",
       "\n",
       "    .dataframe tbody tr th {\n",
       "        vertical-align: top;\n",
       "    }\n",
       "\n",
       "    .dataframe thead th {\n",
       "        text-align: right;\n",
       "    }\n",
       "</style>\n",
       "<table border=\"1\" class=\"dataframe\">\n",
       "  <thead>\n",
       "    <tr style=\"text-align: right;\">\n",
       "      <th></th>\n",
       "      <th>Proba</th>\n",
       "      <th>Probas</th>\n",
       "      <th>Preds</th>\n",
       "      <th>Labels</th>\n",
       "      <th>Proba</th>\n",
       "      <th>Probas</th>\n",
       "      <th>Preds</th>\n",
       "      <th>Labels</th>\n",
       "      <th>Proba</th>\n",
       "      <th>Probas</th>\n",
       "      <th>Preds</th>\n",
       "      <th>Labels</th>\n",
       "    </tr>\n",
       "  </thead>\n",
       "  <tbody>\n",
       "    <tr>\n",
       "      <th>0</th>\n",
       "      <td>0.168</td>\n",
       "      <td>[0.8319038152694702, 0.16809618473052979]</td>\n",
       "      <td>0</td>\n",
       "      <td>0</td>\n",
       "      <td>0.225</td>\n",
       "      <td>[0.7746517658233643, 0.22534820437431335]</td>\n",
       "      <td>0</td>\n",
       "      <td>1</td>\n",
       "      <td>0.455</td>\n",
       "      <td>[0.5448140501976013, 0.45518597960472107]</td>\n",
       "      <td>0</td>\n",
       "      <td>1</td>\n",
       "    </tr>\n",
       "    <tr>\n",
       "      <th>1</th>\n",
       "      <td>0.457</td>\n",
       "      <td>[0.5434167385101318, 0.4565832316875458]</td>\n",
       "      <td>0</td>\n",
       "      <td>1</td>\n",
       "      <td>0.466</td>\n",
       "      <td>[0.5336859822273254, 0.46631401777267456]</td>\n",
       "      <td>0</td>\n",
       "      <td>0</td>\n",
       "      <td>0.398</td>\n",
       "      <td>[0.6023819446563721, 0.3976180851459503]</td>\n",
       "      <td>0</td>\n",
       "      <td>0</td>\n",
       "    </tr>\n",
       "    <tr>\n",
       "      <th>2</th>\n",
       "      <td>0.449</td>\n",
       "      <td>[0.5509703159332275, 0.44902971386909485]</td>\n",
       "      <td>0</td>\n",
       "      <td>0</td>\n",
       "      <td>0.439</td>\n",
       "      <td>[0.5614856481552124, 0.4385143518447876]</td>\n",
       "      <td>0</td>\n",
       "      <td>1</td>\n",
       "      <td>0.352</td>\n",
       "      <td>[0.6478704810142517, 0.3521295189857483]</td>\n",
       "      <td>0</td>\n",
       "      <td>0</td>\n",
       "    </tr>\n",
       "    <tr>\n",
       "      <th>3</th>\n",
       "      <td>0.461</td>\n",
       "      <td>[0.538793683052063, 0.46120622754096985]</td>\n",
       "      <td>0</td>\n",
       "      <td>0</td>\n",
       "      <td>0.251</td>\n",
       "      <td>[0.7494940757751465, 0.2505059242248535]</td>\n",
       "      <td>0</td>\n",
       "      <td>0</td>\n",
       "      <td>0.451</td>\n",
       "      <td>[0.5492171049118042, 0.4507828652858734]</td>\n",
       "      <td>0</td>\n",
       "      <td>0</td>\n",
       "    </tr>\n",
       "    <tr>\n",
       "      <th>4</th>\n",
       "      <td>0.453</td>\n",
       "      <td>[0.5470227003097534, 0.4529772996902466]</td>\n",
       "      <td>0</td>\n",
       "      <td>1</td>\n",
       "      <td>0.432</td>\n",
       "      <td>[0.5678631067276001, 0.4321368932723999]</td>\n",
       "      <td>0</td>\n",
       "      <td>1</td>\n",
       "      <td>0.433</td>\n",
       "      <td>[0.567065954208374, 0.432934045791626]</td>\n",
       "      <td>0</td>\n",
       "      <td>0</td>\n",
       "    </tr>\n",
       "  </tbody>\n",
       "</table>\n",
       "</div>"
      ],
      "text/plain": [
       "  Proba                                     Probas Preds Labels Proba  \\\n",
       "0 0.168  [0.8319038152694702, 0.16809618473052979]     0      0 0.225   \n",
       "1 0.457   [0.5434167385101318, 0.4565832316875458]     0      1 0.466   \n",
       "2 0.449  [0.5509703159332275, 0.44902971386909485]     0      0 0.439   \n",
       "3 0.461   [0.538793683052063, 0.46120622754096985]     0      0 0.251   \n",
       "4 0.453   [0.5470227003097534, 0.4529772996902466]     0      1 0.432   \n",
       "\n",
       "                                      Probas Preds Labels Proba  \\\n",
       "0  [0.7746517658233643, 0.22534820437431335]     0      1 0.455   \n",
       "1  [0.5336859822273254, 0.46631401777267456]     0      0 0.398   \n",
       "2   [0.5614856481552124, 0.4385143518447876]     0      1 0.352   \n",
       "3   [0.7494940757751465, 0.2505059242248535]     0      0 0.451   \n",
       "4   [0.5678631067276001, 0.4321368932723999]     0      1 0.433   \n",
       "\n",
       "                                      Probas Preds Labels  \n",
       "0  [0.5448140501976013, 0.45518597960472107]     0      1  \n",
       "1   [0.6023819446563721, 0.3976180851459503]     0      0  \n",
       "2   [0.6478704810142517, 0.3521295189857483]     0      0  \n",
       "3   [0.5492171049118042, 0.4507828652858734]     0      0  \n",
       "4     [0.567065954208374, 0.432934045791626]     0      0  "
      ]
     },
     "metadata": {},
     "output_type": "display_data"
    },
    {
     "name": "stdout",
     "output_type": "stream",
     "text": [
      "scores =  {'map': '0.5878', 'acc': '0.5000', 'auc': '0.6369'}\n",
      "Epoch =  31 Train = 0.834604 Val = 0.636936\n"
     ]
    },
    {
     "data": {
      "application/vnd.jupyter.widget-view+json": {
       "model_id": "5df2952eb0ba47039330b5b26e031122",
       "version_major": 2,
       "version_minor": 0
      },
      "text/plain": [
       "HBox(children=(FloatProgress(value=0.0, description='Batches', max=17.0, style=ProgressStyle(description_width…"
      ]
     },
     "metadata": {},
     "output_type": "display_data"
    },
    {
     "name": "stdout",
     "output_type": "stream",
     "text": [
      "\n",
      "Epoch =  32 Loss = 0.454717 LR = 0.00004616\n"
     ]
    },
    {
     "data": {
      "application/vnd.jupyter.widget-view+json": {
       "model_id": "e65ceed3c29548aaa5019a32d559d7e5",
       "version_major": 2,
       "version_minor": 0
      },
      "text/plain": [
       "HBox(children=(FloatProgress(value=0.0, description='Batches', max=17.0, style=ProgressStyle(description_width…"
      ]
     },
     "metadata": {},
     "output_type": "display_data"
    },
    {
     "name": "stdout",
     "output_type": "stream",
     "text": [
      "\n",
      "Epoch =  33 Loss = 0.457907 LR = 0.00004153\n"
     ]
    },
    {
     "data": {
      "application/vnd.jupyter.widget-view+json": {
       "model_id": "0ca8b14bfa34437daa557ce66d373ab4",
       "version_major": 2,
       "version_minor": 0
      },
      "text/plain": [
       "HBox(children=(FloatProgress(value=0.0, description='Batches', max=17.0, style=ProgressStyle(description_width…"
      ]
     },
     "metadata": {},
     "output_type": "display_data"
    },
    {
     "name": "stdout",
     "output_type": "stream",
     "text": [
      "\n",
      "Epoch =  34 Loss = 0.455820 LR = 0.00003697\n"
     ]
    },
    {
     "data": {
      "application/vnd.jupyter.widget-view+json": {
       "model_id": "4eae67cb330b4327b2b8fd6321844d40",
       "version_major": 2,
       "version_minor": 0
      },
      "text/plain": [
       "HBox(children=(FloatProgress(value=0.0, description='Generate Predictions', max=34.0, style=ProgressStyle(desc…"
      ]
     },
     "metadata": {},
     "output_type": "display_data"
    },
    {
     "name": "stdout",
     "output_type": "stream",
     "text": [
      "\n"
     ]
    },
    {
     "data": {
      "application/vnd.jupyter.widget-view+json": {
       "model_id": "260f1e86b3964962971dbf826b64d46b",
       "version_major": 2,
       "version_minor": 0
      },
      "text/plain": [
       "HBox(children=(FloatProgress(value=0.0, description='Generate Predictions', max=2.0, style=ProgressStyle(descr…"
      ]
     },
     "metadata": {},
     "output_type": "display_data"
    },
    {
     "name": "stdout",
     "output_type": "stream",
     "text": [
      "\n"
     ]
    },
    {
     "data": {
      "text/html": [
       "<div>\n",
       "<style scoped>\n",
       "    .dataframe tbody tr th:only-of-type {\n",
       "        vertical-align: middle;\n",
       "    }\n",
       "\n",
       "    .dataframe tbody tr th {\n",
       "        vertical-align: top;\n",
       "    }\n",
       "\n",
       "    .dataframe thead tr th {\n",
       "        text-align: left;\n",
       "    }\n",
       "\n",
       "    .dataframe thead tr:last-of-type th {\n",
       "        text-align: right;\n",
       "    }\n",
       "</style>\n",
       "<table border=\"1\" class=\"dataframe\">\n",
       "  <thead>\n",
       "    <tr>\n",
       "      <th></th>\n",
       "      <th colspan=\"2\" halign=\"left\">Proba</th>\n",
       "      <th colspan=\"2\" halign=\"left\">Preds</th>\n",
       "    </tr>\n",
       "    <tr>\n",
       "      <th></th>\n",
       "      <th>min</th>\n",
       "      <th>max</th>\n",
       "      <th>min</th>\n",
       "      <th>max</th>\n",
       "    </tr>\n",
       "    <tr>\n",
       "      <th>Labels</th>\n",
       "      <th></th>\n",
       "      <th></th>\n",
       "      <th></th>\n",
       "      <th></th>\n",
       "    </tr>\n",
       "  </thead>\n",
       "  <tbody>\n",
       "    <tr>\n",
       "      <th>0</th>\n",
       "      <td>0.149</td>\n",
       "      <td>0.531</td>\n",
       "      <td>0</td>\n",
       "      <td>1</td>\n",
       "    </tr>\n",
       "    <tr>\n",
       "      <th>1</th>\n",
       "      <td>0.181</td>\n",
       "      <td>0.552</td>\n",
       "      <td>0</td>\n",
       "      <td>1</td>\n",
       "    </tr>\n",
       "  </tbody>\n",
       "</table>\n",
       "</div>"
      ],
      "text/plain": [
       "       Proba       Preds    \n",
       "         min   max   min max\n",
       "Labels                      \n",
       "0      0.149 0.531     0   1\n",
       "1      0.181 0.552     0   1"
      ]
     },
     "metadata": {},
     "output_type": "display_data"
    },
    {
     "data": {
      "text/html": [
       "<div>\n",
       "<style scoped>\n",
       "    .dataframe tbody tr th:only-of-type {\n",
       "        vertical-align: middle;\n",
       "    }\n",
       "\n",
       "    .dataframe tbody tr th {\n",
       "        vertical-align: top;\n",
       "    }\n",
       "\n",
       "    .dataframe thead th {\n",
       "        text-align: right;\n",
       "    }\n",
       "</style>\n",
       "<table border=\"1\" class=\"dataframe\">\n",
       "  <thead>\n",
       "    <tr style=\"text-align: right;\">\n",
       "      <th></th>\n",
       "      <th>Proba</th>\n",
       "      <th>Probas</th>\n",
       "      <th>Preds</th>\n",
       "      <th>Labels</th>\n",
       "      <th>Proba</th>\n",
       "      <th>Probas</th>\n",
       "      <th>Preds</th>\n",
       "      <th>Labels</th>\n",
       "      <th>Proba</th>\n",
       "      <th>Probas</th>\n",
       "      <th>Preds</th>\n",
       "      <th>Labels</th>\n",
       "    </tr>\n",
       "  </thead>\n",
       "  <tbody>\n",
       "    <tr>\n",
       "      <th>0</th>\n",
       "      <td>0.466</td>\n",
       "      <td>[0.5344077348709106, 0.46559229493141174]</td>\n",
       "      <td>0</td>\n",
       "      <td>0</td>\n",
       "      <td>0.446</td>\n",
       "      <td>[0.553673267364502, 0.44632673263549805]</td>\n",
       "      <td>0</td>\n",
       "      <td>1</td>\n",
       "      <td>0.449</td>\n",
       "      <td>[0.5513861179351807, 0.44861382246017456]</td>\n",
       "      <td>0</td>\n",
       "      <td>0</td>\n",
       "    </tr>\n",
       "    <tr>\n",
       "      <th>1</th>\n",
       "      <td>0.267</td>\n",
       "      <td>[0.7327166199684143, 0.2672833800315857]</td>\n",
       "      <td>0</td>\n",
       "      <td>0</td>\n",
       "      <td>0.396</td>\n",
       "      <td>[0.6042191982269287, 0.3957808315753937]</td>\n",
       "      <td>0</td>\n",
       "      <td>1</td>\n",
       "      <td>0.503</td>\n",
       "      <td>[0.49652907252311707, 0.5034708976745605]</td>\n",
       "      <td>1</td>\n",
       "      <td>0</td>\n",
       "    </tr>\n",
       "    <tr>\n",
       "      <th>2</th>\n",
       "      <td>0.433</td>\n",
       "      <td>[0.567278265953064, 0.4327217936515808]</td>\n",
       "      <td>0</td>\n",
       "      <td>0</td>\n",
       "      <td>0.334</td>\n",
       "      <td>[0.6660118103027344, 0.3339881896972656]</td>\n",
       "      <td>0</td>\n",
       "      <td>1</td>\n",
       "      <td>0.295</td>\n",
       "      <td>[0.7045407891273499, 0.29545921087265015]</td>\n",
       "      <td>0</td>\n",
       "      <td>0</td>\n",
       "    </tr>\n",
       "    <tr>\n",
       "      <th>3</th>\n",
       "      <td>0.460</td>\n",
       "      <td>[0.540385365486145, 0.45961466431617737]</td>\n",
       "      <td>0</td>\n",
       "      <td>1</td>\n",
       "      <td>0.488</td>\n",
       "      <td>[0.512367308139801, 0.487632691860199]</td>\n",
       "      <td>0</td>\n",
       "      <td>0</td>\n",
       "      <td>0.315</td>\n",
       "      <td>[0.6845744848251343, 0.3154255151748657]</td>\n",
       "      <td>0</td>\n",
       "      <td>1</td>\n",
       "    </tr>\n",
       "    <tr>\n",
       "      <th>4</th>\n",
       "      <td>0.473</td>\n",
       "      <td>[0.5272260904312134, 0.47277384996414185]</td>\n",
       "      <td>0</td>\n",
       "      <td>1</td>\n",
       "      <td>0.516</td>\n",
       "      <td>[0.4836903512477875, 0.5163096785545349]</td>\n",
       "      <td>1</td>\n",
       "      <td>0</td>\n",
       "      <td>0.311</td>\n",
       "      <td>[0.6891961097717285, 0.31080394983291626]</td>\n",
       "      <td>0</td>\n",
       "      <td>1</td>\n",
       "    </tr>\n",
       "  </tbody>\n",
       "</table>\n",
       "</div>"
      ],
      "text/plain": [
       "  Proba                                     Probas Preds Labels Proba  \\\n",
       "0 0.466  [0.5344077348709106, 0.46559229493141174]     0      0 0.446   \n",
       "1 0.267   [0.7327166199684143, 0.2672833800315857]     0      0 0.396   \n",
       "2 0.433    [0.567278265953064, 0.4327217936515808]     0      0 0.334   \n",
       "3 0.460   [0.540385365486145, 0.45961466431617737]     0      1 0.488   \n",
       "4 0.473  [0.5272260904312134, 0.47277384996414185]     0      1 0.516   \n",
       "\n",
       "                                     Probas Preds Labels Proba  \\\n",
       "0  [0.553673267364502, 0.44632673263549805]     0      1 0.449   \n",
       "1  [0.6042191982269287, 0.3957808315753937]     0      1 0.503   \n",
       "2  [0.6660118103027344, 0.3339881896972656]     0      1 0.295   \n",
       "3    [0.512367308139801, 0.487632691860199]     0      0 0.315   \n",
       "4  [0.4836903512477875, 0.5163096785545349]     1      0 0.311   \n",
       "\n",
       "                                      Probas Preds Labels  \n",
       "0  [0.5513861179351807, 0.44861382246017456]     0      0  \n",
       "1  [0.49652907252311707, 0.5034708976745605]     1      0  \n",
       "2  [0.7045407891273499, 0.29545921087265015]     0      0  \n",
       "3   [0.6845744848251343, 0.3154255151748657]     0      1  \n",
       "4  [0.6891961097717285, 0.31080394983291626]     0      1  "
      ]
     },
     "metadata": {},
     "output_type": "display_data"
    },
    {
     "name": "stdout",
     "output_type": "stream",
     "text": [
      "scores =  {'map': '0.6021', 'acc': '0.5320', 'auc': '0.6435'}\n",
      "Epoch =  34 Train = 0.840172 Val = 0.643544\n"
     ]
    },
    {
     "data": {
      "application/vnd.jupyter.widget-view+json": {
       "model_id": "9ae6dfba939e4150be7aaa9eeca82cec",
       "version_major": 2,
       "version_minor": 0
      },
      "text/plain": [
       "HBox(children=(FloatProgress(value=0.0, description='Batches', max=17.0, style=ProgressStyle(description_width…"
      ]
     },
     "metadata": {},
     "output_type": "display_data"
    },
    {
     "name": "stdout",
     "output_type": "stream",
     "text": [
      "\n",
      "Epoch =  35 Loss = 0.448771 LR = 0.00003253\n"
     ]
    },
    {
     "data": {
      "application/vnd.jupyter.widget-view+json": {
       "model_id": "25956bc6c91a4d4e88374a627cdaa064",
       "version_major": 2,
       "version_minor": 0
      },
      "text/plain": [
       "HBox(children=(FloatProgress(value=0.0, description='Batches', max=17.0, style=ProgressStyle(description_width…"
      ]
     },
     "metadata": {},
     "output_type": "display_data"
    },
    {
     "name": "stdout",
     "output_type": "stream",
     "text": [
      "\n",
      "Epoch =  36 Loss = 0.451330 LR = 0.00002824\n"
     ]
    },
    {
     "data": {
      "application/vnd.jupyter.widget-view+json": {
       "model_id": "786c3930d75c4d028c4734144b5ae29b",
       "version_major": 2,
       "version_minor": 0
      },
      "text/plain": [
       "HBox(children=(FloatProgress(value=0.0, description='Batches', max=17.0, style=ProgressStyle(description_width…"
      ]
     },
     "metadata": {},
     "output_type": "display_data"
    },
    {
     "name": "stdout",
     "output_type": "stream",
     "text": [
      "\n",
      "Epoch =  37 Loss = 0.448327 LR = 0.00002413\n"
     ]
    },
    {
     "data": {
      "application/vnd.jupyter.widget-view+json": {
       "model_id": "ee0547a2aacd4ce1acab5dfbb42dda3a",
       "version_major": 2,
       "version_minor": 0
      },
      "text/plain": [
       "HBox(children=(FloatProgress(value=0.0, description='Generate Predictions', max=34.0, style=ProgressStyle(desc…"
      ]
     },
     "metadata": {},
     "output_type": "display_data"
    },
    {
     "name": "stdout",
     "output_type": "stream",
     "text": [
      "\n"
     ]
    },
    {
     "data": {
      "application/vnd.jupyter.widget-view+json": {
       "model_id": "321520bb82844a369e77e6e9cadf0503",
       "version_major": 2,
       "version_minor": 0
      },
      "text/plain": [
       "HBox(children=(FloatProgress(value=0.0, description='Generate Predictions', max=2.0, style=ProgressStyle(descr…"
      ]
     },
     "metadata": {},
     "output_type": "display_data"
    },
    {
     "name": "stdout",
     "output_type": "stream",
     "text": [
      "\n"
     ]
    },
    {
     "data": {
      "text/html": [
       "<div>\n",
       "<style scoped>\n",
       "    .dataframe tbody tr th:only-of-type {\n",
       "        vertical-align: middle;\n",
       "    }\n",
       "\n",
       "    .dataframe tbody tr th {\n",
       "        vertical-align: top;\n",
       "    }\n",
       "\n",
       "    .dataframe thead tr th {\n",
       "        text-align: left;\n",
       "    }\n",
       "\n",
       "    .dataframe thead tr:last-of-type th {\n",
       "        text-align: right;\n",
       "    }\n",
       "</style>\n",
       "<table border=\"1\" class=\"dataframe\">\n",
       "  <thead>\n",
       "    <tr>\n",
       "      <th></th>\n",
       "      <th colspan=\"2\" halign=\"left\">Proba</th>\n",
       "      <th colspan=\"2\" halign=\"left\">Preds</th>\n",
       "    </tr>\n",
       "    <tr>\n",
       "      <th></th>\n",
       "      <th>min</th>\n",
       "      <th>max</th>\n",
       "      <th>min</th>\n",
       "      <th>max</th>\n",
       "    </tr>\n",
       "    <tr>\n",
       "      <th>Labels</th>\n",
       "      <th></th>\n",
       "      <th></th>\n",
       "      <th></th>\n",
       "      <th></th>\n",
       "    </tr>\n",
       "  </thead>\n",
       "  <tbody>\n",
       "    <tr>\n",
       "      <th>0</th>\n",
       "      <td>0.033</td>\n",
       "      <td>0.492</td>\n",
       "      <td>0</td>\n",
       "      <td>0</td>\n",
       "    </tr>\n",
       "    <tr>\n",
       "      <th>1</th>\n",
       "      <td>0.042</td>\n",
       "      <td>0.494</td>\n",
       "      <td>0</td>\n",
       "      <td>0</td>\n",
       "    </tr>\n",
       "  </tbody>\n",
       "</table>\n",
       "</div>"
      ],
      "text/plain": [
       "       Proba       Preds    \n",
       "         min   max   min max\n",
       "Labels                      \n",
       "0      0.033 0.492     0   0\n",
       "1      0.042 0.494     0   0"
      ]
     },
     "metadata": {},
     "output_type": "display_data"
    },
    {
     "data": {
      "text/html": [
       "<div>\n",
       "<style scoped>\n",
       "    .dataframe tbody tr th:only-of-type {\n",
       "        vertical-align: middle;\n",
       "    }\n",
       "\n",
       "    .dataframe tbody tr th {\n",
       "        vertical-align: top;\n",
       "    }\n",
       "\n",
       "    .dataframe thead th {\n",
       "        text-align: right;\n",
       "    }\n",
       "</style>\n",
       "<table border=\"1\" class=\"dataframe\">\n",
       "  <thead>\n",
       "    <tr style=\"text-align: right;\">\n",
       "      <th></th>\n",
       "      <th>Proba</th>\n",
       "      <th>Probas</th>\n",
       "      <th>Preds</th>\n",
       "      <th>Labels</th>\n",
       "      <th>Proba</th>\n",
       "      <th>Probas</th>\n",
       "      <th>Preds</th>\n",
       "      <th>Labels</th>\n",
       "      <th>Proba</th>\n",
       "      <th>Probas</th>\n",
       "      <th>Preds</th>\n",
       "      <th>Labels</th>\n",
       "    </tr>\n",
       "  </thead>\n",
       "  <tbody>\n",
       "    <tr>\n",
       "      <th>0</th>\n",
       "      <td>0.141</td>\n",
       "      <td>[0.8594110012054443, 0.1405889391899109]</td>\n",
       "      <td>0</td>\n",
       "      <td>0</td>\n",
       "      <td>0.369</td>\n",
       "      <td>[0.6314874887466431, 0.3685125410556793]</td>\n",
       "      <td>0</td>\n",
       "      <td>0</td>\n",
       "      <td>0.248</td>\n",
       "      <td>[0.751669704914093, 0.24833029508590698]</td>\n",
       "      <td>0</td>\n",
       "      <td>0</td>\n",
       "    </tr>\n",
       "    <tr>\n",
       "      <th>1</th>\n",
       "      <td>0.414</td>\n",
       "      <td>[0.5857557654380798, 0.41424426436424255]</td>\n",
       "      <td>0</td>\n",
       "      <td>1</td>\n",
       "      <td>0.471</td>\n",
       "      <td>[0.5292710065841675, 0.4707289934158325]</td>\n",
       "      <td>0</td>\n",
       "      <td>1</td>\n",
       "      <td>0.448</td>\n",
       "      <td>[0.5518244504928589, 0.44817548990249634]</td>\n",
       "      <td>0</td>\n",
       "      <td>1</td>\n",
       "    </tr>\n",
       "    <tr>\n",
       "      <th>2</th>\n",
       "      <td>0.424</td>\n",
       "      <td>[0.5755685567855835, 0.4244315028190613]</td>\n",
       "      <td>0</td>\n",
       "      <td>0</td>\n",
       "      <td>0.458</td>\n",
       "      <td>[0.5415646433830261, 0.4584353566169739]</td>\n",
       "      <td>0</td>\n",
       "      <td>1</td>\n",
       "      <td>0.390</td>\n",
       "      <td>[0.609891414642334, 0.390108585357666]</td>\n",
       "      <td>0</td>\n",
       "      <td>1</td>\n",
       "    </tr>\n",
       "    <tr>\n",
       "      <th>3</th>\n",
       "      <td>0.413</td>\n",
       "      <td>[0.5866910219192505, 0.4133089482784271]</td>\n",
       "      <td>0</td>\n",
       "      <td>1</td>\n",
       "      <td>0.330</td>\n",
       "      <td>[0.6695516109466553, 0.3304484188556671]</td>\n",
       "      <td>0</td>\n",
       "      <td>0</td>\n",
       "      <td>0.428</td>\n",
       "      <td>[0.5723395347595215, 0.4276605248451233]</td>\n",
       "      <td>0</td>\n",
       "      <td>1</td>\n",
       "    </tr>\n",
       "    <tr>\n",
       "      <th>4</th>\n",
       "      <td>0.269</td>\n",
       "      <td>[0.7305426597595215, 0.2694573700428009]</td>\n",
       "      <td>0</td>\n",
       "      <td>0</td>\n",
       "      <td>0.351</td>\n",
       "      <td>[0.6490057706832886, 0.3509942293167114]</td>\n",
       "      <td>0</td>\n",
       "      <td>1</td>\n",
       "      <td>0.471</td>\n",
       "      <td>[0.5292710065841675, 0.4707289934158325]</td>\n",
       "      <td>0</td>\n",
       "      <td>1</td>\n",
       "    </tr>\n",
       "  </tbody>\n",
       "</table>\n",
       "</div>"
      ],
      "text/plain": [
       "  Proba                                     Probas Preds Labels Proba  \\\n",
       "0 0.141   [0.8594110012054443, 0.1405889391899109]     0      0 0.369   \n",
       "1 0.414  [0.5857557654380798, 0.41424426436424255]     0      1 0.471   \n",
       "2 0.424   [0.5755685567855835, 0.4244315028190613]     0      0 0.458   \n",
       "3 0.413   [0.5866910219192505, 0.4133089482784271]     0      1 0.330   \n",
       "4 0.269   [0.7305426597595215, 0.2694573700428009]     0      0 0.351   \n",
       "\n",
       "                                     Probas Preds Labels Proba  \\\n",
       "0  [0.6314874887466431, 0.3685125410556793]     0      0 0.248   \n",
       "1  [0.5292710065841675, 0.4707289934158325]     0      1 0.448   \n",
       "2  [0.5415646433830261, 0.4584353566169739]     0      1 0.390   \n",
       "3  [0.6695516109466553, 0.3304484188556671]     0      0 0.428   \n",
       "4  [0.6490057706832886, 0.3509942293167114]     0      1 0.471   \n",
       "\n",
       "                                      Probas Preds Labels  \n",
       "0   [0.751669704914093, 0.24833029508590698]     0      0  \n",
       "1  [0.5518244504928589, 0.44817548990249634]     0      1  \n",
       "2     [0.609891414642334, 0.390108585357666]     0      1  \n",
       "3   [0.5723395347595215, 0.4276605248451233]     0      1  \n",
       "4   [0.5292710065841675, 0.4707289934158325]     0      1  "
      ]
     },
     "metadata": {},
     "output_type": "display_data"
    },
    {
     "name": "stdout",
     "output_type": "stream",
     "text": [
      "scores =  {'map': '0.6072', 'acc': '0.5000', 'auc': '0.6489'}\n",
      "Epoch =  37 Train = 0.846040 Val = 0.648888\n"
     ]
    },
    {
     "data": {
      "application/vnd.jupyter.widget-view+json": {
       "model_id": "1ed1fec90e874c1cbb11b93f91e77e43",
       "version_major": 2,
       "version_minor": 0
      },
      "text/plain": [
       "HBox(children=(FloatProgress(value=0.0, description='Batches', max=17.0, style=ProgressStyle(description_width…"
      ]
     },
     "metadata": {},
     "output_type": "display_data"
    },
    {
     "name": "stdout",
     "output_type": "stream",
     "text": [
      "\n",
      "Epoch =  38 Loss = 0.452470 LR = 0.00002026\n"
     ]
    },
    {
     "data": {
      "application/vnd.jupyter.widget-view+json": {
       "model_id": "51525400a0124385bf30bcb736f423b9",
       "version_major": 2,
       "version_minor": 0
      },
      "text/plain": [
       "HBox(children=(FloatProgress(value=0.0, description='Batches', max=17.0, style=ProgressStyle(description_width…"
      ]
     },
     "metadata": {},
     "output_type": "display_data"
    },
    {
     "name": "stdout",
     "output_type": "stream",
     "text": [
      "\n",
      "Epoch =  39 Loss = 0.450696 LR = 0.00001664\n"
     ]
    },
    {
     "data": {
      "application/vnd.jupyter.widget-view+json": {
       "model_id": "cd1fe1efd9ce4e84848b77a4b007c983",
       "version_major": 2,
       "version_minor": 0
      },
      "text/plain": [
       "HBox(children=(FloatProgress(value=0.0, description='Batches', max=17.0, style=ProgressStyle(description_width…"
      ]
     },
     "metadata": {},
     "output_type": "display_data"
    },
    {
     "name": "stdout",
     "output_type": "stream",
     "text": [
      "\n",
      "Epoch =  40 Loss = 0.450273 LR = 0.00001331\n"
     ]
    },
    {
     "data": {
      "application/vnd.jupyter.widget-view+json": {
       "model_id": "a902c503dd34475ca3b777fe3b77aaaf",
       "version_major": 2,
       "version_minor": 0
      },
      "text/plain": [
       "HBox(children=(FloatProgress(value=0.0, description='Batches', max=17.0, style=ProgressStyle(description_width…"
      ]
     },
     "metadata": {},
     "output_type": "display_data"
    },
    {
     "name": "stdout",
     "output_type": "stream",
     "text": [
      "\n",
      "Epoch =  41 Loss = 0.449442 LR = 0.00001030\n"
     ]
    },
    {
     "data": {
      "application/vnd.jupyter.widget-view+json": {
       "model_id": "978ef0814a0c4de28258c275cc75d85a",
       "version_major": 2,
       "version_minor": 0
      },
      "text/plain": [
       "HBox(children=(FloatProgress(value=0.0, description='Generate Predictions', max=34.0, style=ProgressStyle(desc…"
      ]
     },
     "metadata": {},
     "output_type": "display_data"
    },
    {
     "name": "stdout",
     "output_type": "stream",
     "text": [
      "\n"
     ]
    },
    {
     "data": {
      "application/vnd.jupyter.widget-view+json": {
       "model_id": "74d8e003068543298ce76cf8405a49d3",
       "version_major": 2,
       "version_minor": 0
      },
      "text/plain": [
       "HBox(children=(FloatProgress(value=0.0, description='Generate Predictions', max=2.0, style=ProgressStyle(descr…"
      ]
     },
     "metadata": {},
     "output_type": "display_data"
    },
    {
     "name": "stdout",
     "output_type": "stream",
     "text": [
      "\n"
     ]
    },
    {
     "data": {
      "text/html": [
       "<div>\n",
       "<style scoped>\n",
       "    .dataframe tbody tr th:only-of-type {\n",
       "        vertical-align: middle;\n",
       "    }\n",
       "\n",
       "    .dataframe tbody tr th {\n",
       "        vertical-align: top;\n",
       "    }\n",
       "\n",
       "    .dataframe thead tr th {\n",
       "        text-align: left;\n",
       "    }\n",
       "\n",
       "    .dataframe thead tr:last-of-type th {\n",
       "        text-align: right;\n",
       "    }\n",
       "</style>\n",
       "<table border=\"1\" class=\"dataframe\">\n",
       "  <thead>\n",
       "    <tr>\n",
       "      <th></th>\n",
       "      <th colspan=\"2\" halign=\"left\">Proba</th>\n",
       "      <th colspan=\"2\" halign=\"left\">Preds</th>\n",
       "    </tr>\n",
       "    <tr>\n",
       "      <th></th>\n",
       "      <th>min</th>\n",
       "      <th>max</th>\n",
       "      <th>min</th>\n",
       "      <th>max</th>\n",
       "    </tr>\n",
       "    <tr>\n",
       "      <th>Labels</th>\n",
       "      <th></th>\n",
       "      <th></th>\n",
       "      <th></th>\n",
       "      <th></th>\n",
       "    </tr>\n",
       "  </thead>\n",
       "  <tbody>\n",
       "    <tr>\n",
       "      <th>0</th>\n",
       "      <td>0.007</td>\n",
       "      <td>0.536</td>\n",
       "      <td>0</td>\n",
       "      <td>1</td>\n",
       "    </tr>\n",
       "    <tr>\n",
       "      <th>1</th>\n",
       "      <td>0.008</td>\n",
       "      <td>0.538</td>\n",
       "      <td>0</td>\n",
       "      <td>1</td>\n",
       "    </tr>\n",
       "  </tbody>\n",
       "</table>\n",
       "</div>"
      ],
      "text/plain": [
       "       Proba       Preds    \n",
       "         min   max   min max\n",
       "Labels                      \n",
       "0      0.007 0.536     0   1\n",
       "1      0.008 0.538     0   1"
      ]
     },
     "metadata": {},
     "output_type": "display_data"
    },
    {
     "data": {
      "text/html": [
       "<div>\n",
       "<style scoped>\n",
       "    .dataframe tbody tr th:only-of-type {\n",
       "        vertical-align: middle;\n",
       "    }\n",
       "\n",
       "    .dataframe tbody tr th {\n",
       "        vertical-align: top;\n",
       "    }\n",
       "\n",
       "    .dataframe thead th {\n",
       "        text-align: right;\n",
       "    }\n",
       "</style>\n",
       "<table border=\"1\" class=\"dataframe\">\n",
       "  <thead>\n",
       "    <tr style=\"text-align: right;\">\n",
       "      <th></th>\n",
       "      <th>Proba</th>\n",
       "      <th>Probas</th>\n",
       "      <th>Preds</th>\n",
       "      <th>Labels</th>\n",
       "      <th>Proba</th>\n",
       "      <th>Probas</th>\n",
       "      <th>Preds</th>\n",
       "      <th>Labels</th>\n",
       "      <th>Proba</th>\n",
       "      <th>Probas</th>\n",
       "      <th>Preds</th>\n",
       "      <th>Labels</th>\n",
       "    </tr>\n",
       "  </thead>\n",
       "  <tbody>\n",
       "    <tr>\n",
       "      <th>0</th>\n",
       "      <td>0.516</td>\n",
       "      <td>[0.48431938886642456, 0.5156805515289307]</td>\n",
       "      <td>1</td>\n",
       "      <td>0</td>\n",
       "      <td>0.447</td>\n",
       "      <td>[0.5534967184066772, 0.44650328159332275]</td>\n",
       "      <td>0</td>\n",
       "      <td>1</td>\n",
       "      <td>0.476</td>\n",
       "      <td>[0.5240148901939392, 0.4759851098060608]</td>\n",
       "      <td>0</td>\n",
       "      <td>1</td>\n",
       "    </tr>\n",
       "    <tr>\n",
       "      <th>1</th>\n",
       "      <td>0.473</td>\n",
       "      <td>[0.5267197489738464, 0.4732802212238312]</td>\n",
       "      <td>0</td>\n",
       "      <td>1</td>\n",
       "      <td>0.421</td>\n",
       "      <td>[0.5787713527679443, 0.42122864723205566]</td>\n",
       "      <td>0</td>\n",
       "      <td>1</td>\n",
       "      <td>0.220</td>\n",
       "      <td>[0.7799796462059021, 0.2200203686952591]</td>\n",
       "      <td>0</td>\n",
       "      <td>0</td>\n",
       "    </tr>\n",
       "    <tr>\n",
       "      <th>2</th>\n",
       "      <td>0.351</td>\n",
       "      <td>[0.6487204432487488, 0.3512795865535736]</td>\n",
       "      <td>0</td>\n",
       "      <td>0</td>\n",
       "      <td>0.039</td>\n",
       "      <td>[0.961204469203949, 0.03879553824663162]</td>\n",
       "      <td>0</td>\n",
       "      <td>0</td>\n",
       "      <td>0.507</td>\n",
       "      <td>[0.49277347326278687, 0.5072265267372131]</td>\n",
       "      <td>1</td>\n",
       "      <td>1</td>\n",
       "    </tr>\n",
       "    <tr>\n",
       "      <th>3</th>\n",
       "      <td>0.215</td>\n",
       "      <td>[0.7851301431655884, 0.21486985683441162]</td>\n",
       "      <td>0</td>\n",
       "      <td>0</td>\n",
       "      <td>0.352</td>\n",
       "      <td>[0.6479186415672302, 0.3520813584327698]</td>\n",
       "      <td>0</td>\n",
       "      <td>1</td>\n",
       "      <td>0.261</td>\n",
       "      <td>[0.7386264801025391, 0.2613735795021057]</td>\n",
       "      <td>0</td>\n",
       "      <td>0</td>\n",
       "    </tr>\n",
       "    <tr>\n",
       "      <th>4</th>\n",
       "      <td>0.305</td>\n",
       "      <td>[0.6951888799667358, 0.30481114983558655]</td>\n",
       "      <td>0</td>\n",
       "      <td>0</td>\n",
       "      <td>0.493</td>\n",
       "      <td>[0.5070685148239136, 0.4929314851760864]</td>\n",
       "      <td>0</td>\n",
       "      <td>0</td>\n",
       "      <td>0.508</td>\n",
       "      <td>[0.49165356159210205, 0.508346438407898]</td>\n",
       "      <td>1</td>\n",
       "      <td>0</td>\n",
       "    </tr>\n",
       "  </tbody>\n",
       "</table>\n",
       "</div>"
      ],
      "text/plain": [
       "  Proba                                     Probas Preds Labels Proba  \\\n",
       "0 0.516  [0.48431938886642456, 0.5156805515289307]     1      0 0.447   \n",
       "1 0.473   [0.5267197489738464, 0.4732802212238312]     0      1 0.421   \n",
       "2 0.351   [0.6487204432487488, 0.3512795865535736]     0      0 0.039   \n",
       "3 0.215  [0.7851301431655884, 0.21486985683441162]     0      0 0.352   \n",
       "4 0.305  [0.6951888799667358, 0.30481114983558655]     0      0 0.493   \n",
       "\n",
       "                                      Probas Preds Labels Proba  \\\n",
       "0  [0.5534967184066772, 0.44650328159332275]     0      1 0.476   \n",
       "1  [0.5787713527679443, 0.42122864723205566]     0      1 0.220   \n",
       "2   [0.961204469203949, 0.03879553824663162]     0      0 0.507   \n",
       "3   [0.6479186415672302, 0.3520813584327698]     0      1 0.261   \n",
       "4   [0.5070685148239136, 0.4929314851760864]     0      0 0.508   \n",
       "\n",
       "                                      Probas Preds Labels  \n",
       "0   [0.5240148901939392, 0.4759851098060608]     0      1  \n",
       "1   [0.7799796462059021, 0.2200203686952591]     0      0  \n",
       "2  [0.49277347326278687, 0.5072265267372131]     1      1  \n",
       "3   [0.7386264801025391, 0.2613735795021057]     0      0  \n",
       "4   [0.49165356159210205, 0.508346438407898]     1      0  "
      ]
     },
     "metadata": {},
     "output_type": "display_data"
    },
    {
     "name": "stdout",
     "output_type": "stream",
     "text": [
      "scores =  {'map': '0.6055', 'acc': '0.5220', 'auc': '0.6468'}\n",
      "Epoch =  41 Train = 0.852030 Val = 0.646776\n"
     ]
    },
    {
     "data": {
      "application/vnd.jupyter.widget-view+json": {
       "model_id": "2fb58bba44104d19b1f1a4fabe5e8af6",
       "version_major": 2,
       "version_minor": 0
      },
      "text/plain": [
       "HBox(children=(FloatProgress(value=0.0, description='Batches', max=17.0, style=ProgressStyle(description_width…"
      ]
     },
     "metadata": {},
     "output_type": "display_data"
    },
    {
     "name": "stdout",
     "output_type": "stream",
     "text": [
      "\n",
      "Epoch =  42 Loss = 0.442624 LR = 0.00000764\n"
     ]
    },
    {
     "data": {
      "application/vnd.jupyter.widget-view+json": {
       "model_id": "b3a9847cf7954f709aacd867e9d7e2b6",
       "version_major": 2,
       "version_minor": 0
      },
      "text/plain": [
       "HBox(children=(FloatProgress(value=0.0, description='Batches', max=17.0, style=ProgressStyle(description_width…"
      ]
     },
     "metadata": {},
     "output_type": "display_data"
    },
    {
     "name": "stdout",
     "output_type": "stream",
     "text": [
      "\n",
      "Epoch =  43 Loss = 0.449945 LR = 0.00000535\n"
     ]
    },
    {
     "data": {
      "application/vnd.jupyter.widget-view+json": {
       "model_id": "058a205ef9bd418eb3b79a9b5cfe7df8",
       "version_major": 2,
       "version_minor": 0
      },
      "text/plain": [
       "HBox(children=(FloatProgress(value=0.0, description='Batches', max=17.0, style=ProgressStyle(description_width…"
      ]
     },
     "metadata": {},
     "output_type": "display_data"
    },
    {
     "name": "stdout",
     "output_type": "stream",
     "text": [
      "\n",
      "Epoch =  44 Loss = 0.444062 LR = 0.00000345\n"
     ]
    },
    {
     "data": {
      "application/vnd.jupyter.widget-view+json": {
       "model_id": "944ada60b3b042e183754480b21e4ba3",
       "version_major": 2,
       "version_minor": 0
      },
      "text/plain": [
       "HBox(children=(FloatProgress(value=0.0, description='Generate Predictions', max=34.0, style=ProgressStyle(desc…"
      ]
     },
     "metadata": {},
     "output_type": "display_data"
    },
    {
     "name": "stdout",
     "output_type": "stream",
     "text": [
      "\n"
     ]
    },
    {
     "data": {
      "application/vnd.jupyter.widget-view+json": {
       "model_id": "ac3015a13b334f31ae1de3a07cc68106",
       "version_major": 2,
       "version_minor": 0
      },
      "text/plain": [
       "HBox(children=(FloatProgress(value=0.0, description='Generate Predictions', max=2.0, style=ProgressStyle(descr…"
      ]
     },
     "metadata": {},
     "output_type": "display_data"
    },
    {
     "name": "stdout",
     "output_type": "stream",
     "text": [
      "\n"
     ]
    },
    {
     "data": {
      "text/html": [
       "<div>\n",
       "<style scoped>\n",
       "    .dataframe tbody tr th:only-of-type {\n",
       "        vertical-align: middle;\n",
       "    }\n",
       "\n",
       "    .dataframe tbody tr th {\n",
       "        vertical-align: top;\n",
       "    }\n",
       "\n",
       "    .dataframe thead tr th {\n",
       "        text-align: left;\n",
       "    }\n",
       "\n",
       "    .dataframe thead tr:last-of-type th {\n",
       "        text-align: right;\n",
       "    }\n",
       "</style>\n",
       "<table border=\"1\" class=\"dataframe\">\n",
       "  <thead>\n",
       "    <tr>\n",
       "      <th></th>\n",
       "      <th colspan=\"2\" halign=\"left\">Proba</th>\n",
       "      <th colspan=\"2\" halign=\"left\">Preds</th>\n",
       "    </tr>\n",
       "    <tr>\n",
       "      <th></th>\n",
       "      <th>min</th>\n",
       "      <th>max</th>\n",
       "      <th>min</th>\n",
       "      <th>max</th>\n",
       "    </tr>\n",
       "    <tr>\n",
       "      <th>Labels</th>\n",
       "      <th></th>\n",
       "      <th></th>\n",
       "      <th></th>\n",
       "      <th></th>\n",
       "    </tr>\n",
       "  </thead>\n",
       "  <tbody>\n",
       "    <tr>\n",
       "      <th>0</th>\n",
       "      <td>0.005</td>\n",
       "      <td>0.544</td>\n",
       "      <td>0</td>\n",
       "      <td>1</td>\n",
       "    </tr>\n",
       "    <tr>\n",
       "      <th>1</th>\n",
       "      <td>0.005</td>\n",
       "      <td>0.546</td>\n",
       "      <td>0</td>\n",
       "      <td>1</td>\n",
       "    </tr>\n",
       "  </tbody>\n",
       "</table>\n",
       "</div>"
      ],
      "text/plain": [
       "       Proba       Preds    \n",
       "         min   max   min max\n",
       "Labels                      \n",
       "0      0.005 0.544     0   1\n",
       "1      0.005 0.546     0   1"
      ]
     },
     "metadata": {},
     "output_type": "display_data"
    },
    {
     "data": {
      "text/html": [
       "<div>\n",
       "<style scoped>\n",
       "    .dataframe tbody tr th:only-of-type {\n",
       "        vertical-align: middle;\n",
       "    }\n",
       "\n",
       "    .dataframe tbody tr th {\n",
       "        vertical-align: top;\n",
       "    }\n",
       "\n",
       "    .dataframe thead th {\n",
       "        text-align: right;\n",
       "    }\n",
       "</style>\n",
       "<table border=\"1\" class=\"dataframe\">\n",
       "  <thead>\n",
       "    <tr style=\"text-align: right;\">\n",
       "      <th></th>\n",
       "      <th>Proba</th>\n",
       "      <th>Probas</th>\n",
       "      <th>Preds</th>\n",
       "      <th>Labels</th>\n",
       "      <th>Proba</th>\n",
       "      <th>Probas</th>\n",
       "      <th>Preds</th>\n",
       "      <th>Labels</th>\n",
       "      <th>Proba</th>\n",
       "      <th>Probas</th>\n",
       "      <th>Preds</th>\n",
       "      <th>Labels</th>\n",
       "    </tr>\n",
       "  </thead>\n",
       "  <tbody>\n",
       "    <tr>\n",
       "      <th>0</th>\n",
       "      <td>0.467</td>\n",
       "      <td>[0.5332367420196533, 0.4667632579803467]</td>\n",
       "      <td>0</td>\n",
       "      <td>0</td>\n",
       "      <td>0.473</td>\n",
       "      <td>[0.527170717716217, 0.47282928228378296]</td>\n",
       "      <td>0</td>\n",
       "      <td>0</td>\n",
       "      <td>0.499</td>\n",
       "      <td>[0.5009151697158813, 0.49908480048179626]</td>\n",
       "      <td>0</td>\n",
       "      <td>0</td>\n",
       "    </tr>\n",
       "    <tr>\n",
       "      <th>1</th>\n",
       "      <td>0.488</td>\n",
       "      <td>[0.5117480158805847, 0.4882519543170929]</td>\n",
       "      <td>0</td>\n",
       "      <td>1</td>\n",
       "      <td>0.498</td>\n",
       "      <td>[0.5023871660232544, 0.4976128339767456]</td>\n",
       "      <td>0</td>\n",
       "      <td>1</td>\n",
       "      <td>0.507</td>\n",
       "      <td>[0.49266737699508667, 0.5073326230049133]</td>\n",
       "      <td>1</td>\n",
       "      <td>0</td>\n",
       "    </tr>\n",
       "    <tr>\n",
       "      <th>2</th>\n",
       "      <td>0.458</td>\n",
       "      <td>[0.5424860715866089, 0.4575139582157135]</td>\n",
       "      <td>0</td>\n",
       "      <td>0</td>\n",
       "      <td>0.494</td>\n",
       "      <td>[0.5059670209884644, 0.49403297901153564]</td>\n",
       "      <td>0</td>\n",
       "      <td>1</td>\n",
       "      <td>0.525</td>\n",
       "      <td>[0.4754680097103119, 0.5245320200920105]</td>\n",
       "      <td>1</td>\n",
       "      <td>0</td>\n",
       "    </tr>\n",
       "    <tr>\n",
       "      <th>3</th>\n",
       "      <td>0.475</td>\n",
       "      <td>[0.5253366231918335, 0.4746634364128113]</td>\n",
       "      <td>0</td>\n",
       "      <td>1</td>\n",
       "      <td>0.529</td>\n",
       "      <td>[0.4709714651107788, 0.5290285348892212]</td>\n",
       "      <td>1</td>\n",
       "      <td>1</td>\n",
       "      <td>0.198</td>\n",
       "      <td>[0.8019843101501465, 0.19801566004753113]</td>\n",
       "      <td>0</td>\n",
       "      <td>0</td>\n",
       "    </tr>\n",
       "    <tr>\n",
       "      <th>4</th>\n",
       "      <td>0.505</td>\n",
       "      <td>[0.4950425326824188, 0.5049574375152588]</td>\n",
       "      <td>1</td>\n",
       "      <td>1</td>\n",
       "      <td>0.376</td>\n",
       "      <td>[0.6236120462417603, 0.37638789415359497]</td>\n",
       "      <td>0</td>\n",
       "      <td>0</td>\n",
       "      <td>0.493</td>\n",
       "      <td>[0.506958544254303, 0.493041455745697]</td>\n",
       "      <td>0</td>\n",
       "      <td>1</td>\n",
       "    </tr>\n",
       "  </tbody>\n",
       "</table>\n",
       "</div>"
      ],
      "text/plain": [
       "  Proba                                    Probas Preds Labels Proba  \\\n",
       "0 0.467  [0.5332367420196533, 0.4667632579803467]     0      0 0.473   \n",
       "1 0.488  [0.5117480158805847, 0.4882519543170929]     0      1 0.498   \n",
       "2 0.458  [0.5424860715866089, 0.4575139582157135]     0      0 0.494   \n",
       "3 0.475  [0.5253366231918335, 0.4746634364128113]     0      1 0.529   \n",
       "4 0.505  [0.4950425326824188, 0.5049574375152588]     1      1 0.376   \n",
       "\n",
       "                                      Probas Preds Labels Proba  \\\n",
       "0   [0.527170717716217, 0.47282928228378296]     0      0 0.499   \n",
       "1   [0.5023871660232544, 0.4976128339767456]     0      1 0.507   \n",
       "2  [0.5059670209884644, 0.49403297901153564]     0      1 0.525   \n",
       "3   [0.4709714651107788, 0.5290285348892212]     1      1 0.198   \n",
       "4  [0.6236120462417603, 0.37638789415359497]     0      0 0.493   \n",
       "\n",
       "                                      Probas Preds Labels  \n",
       "0  [0.5009151697158813, 0.49908480048179626]     0      0  \n",
       "1  [0.49266737699508667, 0.5073326230049133]     1      0  \n",
       "2   [0.4754680097103119, 0.5245320200920105]     1      0  \n",
       "3  [0.8019843101501465, 0.19801566004753113]     0      0  \n",
       "4     [0.506958544254303, 0.493041455745697]     0      1  "
      ]
     },
     "metadata": {},
     "output_type": "display_data"
    },
    {
     "name": "stdout",
     "output_type": "stream",
     "text": [
      "scores =  {'map': '0.6056', 'acc': '0.5520', 'auc': '0.6470'}\n",
      "Epoch =  44 Train = 0.853793 Val = 0.647048\n"
     ]
    },
    {
     "data": {
      "application/vnd.jupyter.widget-view+json": {
       "model_id": "713ab7bb2e254dbc85260259a7c2f282",
       "version_major": 2,
       "version_minor": 0
      },
      "text/plain": [
       "HBox(children=(FloatProgress(value=0.0, description='Batches', max=17.0, style=ProgressStyle(description_width…"
      ]
     },
     "metadata": {},
     "output_type": "display_data"
    },
    {
     "name": "stdout",
     "output_type": "stream",
     "text": [
      "\n",
      "Epoch =  45 Loss = 0.444019 LR = 0.00000195\n"
     ]
    },
    {
     "data": {
      "application/vnd.jupyter.widget-view+json": {
       "model_id": "9497bce55d534ba1b5dbb6e421a2fd10",
       "version_major": 2,
       "version_minor": 0
      },
      "text/plain": [
       "HBox(children=(FloatProgress(value=0.0, description='Batches', max=17.0, style=ProgressStyle(description_width…"
      ]
     },
     "metadata": {},
     "output_type": "display_data"
    },
    {
     "name": "stdout",
     "output_type": "stream",
     "text": [
      "\n",
      "Epoch =  46 Loss = 0.446247 LR = 0.00000087\n"
     ]
    },
    {
     "data": {
      "application/vnd.jupyter.widget-view+json": {
       "model_id": "5659412a47a34a8b911d090ebf76ea1f",
       "version_major": 2,
       "version_minor": 0
      },
      "text/plain": [
       "HBox(children=(FloatProgress(value=0.0, description='Batches', max=17.0, style=ProgressStyle(description_width…"
      ]
     },
     "metadata": {},
     "output_type": "display_data"
    },
    {
     "name": "stdout",
     "output_type": "stream",
     "text": [
      "\n",
      "Epoch =  47 Loss = 0.446875 LR = 0.00000022\n"
     ]
    },
    {
     "data": {
      "application/vnd.jupyter.widget-view+json": {
       "model_id": "63f78588952745be814d46111531e1d2",
       "version_major": 2,
       "version_minor": 0
      },
      "text/plain": [
       "HBox(children=(FloatProgress(value=0.0, description='Generate Predictions', max=34.0, style=ProgressStyle(desc…"
      ]
     },
     "metadata": {},
     "output_type": "display_data"
    },
    {
     "name": "stdout",
     "output_type": "stream",
     "text": [
      "\n"
     ]
    },
    {
     "data": {
      "application/vnd.jupyter.widget-view+json": {
       "model_id": "20297f7e4e8c42e6bd84b6fea3408425",
       "version_major": 2,
       "version_minor": 0
      },
      "text/plain": [
       "HBox(children=(FloatProgress(value=0.0, description='Generate Predictions', max=2.0, style=ProgressStyle(descr…"
      ]
     },
     "metadata": {},
     "output_type": "display_data"
    },
    {
     "name": "stdout",
     "output_type": "stream",
     "text": [
      "\n"
     ]
    },
    {
     "data": {
      "text/html": [
       "<div>\n",
       "<style scoped>\n",
       "    .dataframe tbody tr th:only-of-type {\n",
       "        vertical-align: middle;\n",
       "    }\n",
       "\n",
       "    .dataframe tbody tr th {\n",
       "        vertical-align: top;\n",
       "    }\n",
       "\n",
       "    .dataframe thead tr th {\n",
       "        text-align: left;\n",
       "    }\n",
       "\n",
       "    .dataframe thead tr:last-of-type th {\n",
       "        text-align: right;\n",
       "    }\n",
       "</style>\n",
       "<table border=\"1\" class=\"dataframe\">\n",
       "  <thead>\n",
       "    <tr>\n",
       "      <th></th>\n",
       "      <th colspan=\"2\" halign=\"left\">Proba</th>\n",
       "      <th colspan=\"2\" halign=\"left\">Preds</th>\n",
       "    </tr>\n",
       "    <tr>\n",
       "      <th></th>\n",
       "      <th>min</th>\n",
       "      <th>max</th>\n",
       "      <th>min</th>\n",
       "      <th>max</th>\n",
       "    </tr>\n",
       "    <tr>\n",
       "      <th>Labels</th>\n",
       "      <th></th>\n",
       "      <th></th>\n",
       "      <th></th>\n",
       "      <th></th>\n",
       "    </tr>\n",
       "  </thead>\n",
       "  <tbody>\n",
       "    <tr>\n",
       "      <th>0</th>\n",
       "      <td>0.005</td>\n",
       "      <td>0.544</td>\n",
       "      <td>0</td>\n",
       "      <td>1</td>\n",
       "    </tr>\n",
       "    <tr>\n",
       "      <th>1</th>\n",
       "      <td>0.005</td>\n",
       "      <td>0.546</td>\n",
       "      <td>0</td>\n",
       "      <td>1</td>\n",
       "    </tr>\n",
       "  </tbody>\n",
       "</table>\n",
       "</div>"
      ],
      "text/plain": [
       "       Proba       Preds    \n",
       "         min   max   min max\n",
       "Labels                      \n",
       "0      0.005 0.544     0   1\n",
       "1      0.005 0.546     0   1"
      ]
     },
     "metadata": {},
     "output_type": "display_data"
    },
    {
     "data": {
      "text/html": [
       "<div>\n",
       "<style scoped>\n",
       "    .dataframe tbody tr th:only-of-type {\n",
       "        vertical-align: middle;\n",
       "    }\n",
       "\n",
       "    .dataframe tbody tr th {\n",
       "        vertical-align: top;\n",
       "    }\n",
       "\n",
       "    .dataframe thead th {\n",
       "        text-align: right;\n",
       "    }\n",
       "</style>\n",
       "<table border=\"1\" class=\"dataframe\">\n",
       "  <thead>\n",
       "    <tr style=\"text-align: right;\">\n",
       "      <th></th>\n",
       "      <th>Proba</th>\n",
       "      <th>Probas</th>\n",
       "      <th>Preds</th>\n",
       "      <th>Labels</th>\n",
       "      <th>Proba</th>\n",
       "      <th>Probas</th>\n",
       "      <th>Preds</th>\n",
       "      <th>Labels</th>\n",
       "      <th>Proba</th>\n",
       "      <th>Probas</th>\n",
       "      <th>Preds</th>\n",
       "      <th>Labels</th>\n",
       "    </tr>\n",
       "  </thead>\n",
       "  <tbody>\n",
       "    <tr>\n",
       "      <th>0</th>\n",
       "      <td>0.063</td>\n",
       "      <td>[0.9371981024742126, 0.06280190497636795]</td>\n",
       "      <td>0</td>\n",
       "      <td>0</td>\n",
       "      <td>0.192</td>\n",
       "      <td>[0.8081372380256653, 0.19186276197433472]</td>\n",
       "      <td>0</td>\n",
       "      <td>0</td>\n",
       "      <td>0.229</td>\n",
       "      <td>[0.7705118656158447, 0.22948819398880005]</td>\n",
       "      <td>0</td>\n",
       "      <td>0</td>\n",
       "    </tr>\n",
       "    <tr>\n",
       "      <th>1</th>\n",
       "      <td>0.410</td>\n",
       "      <td>[0.5902296304702759, 0.4097703695297241]</td>\n",
       "      <td>0</td>\n",
       "      <td>0</td>\n",
       "      <td>0.127</td>\n",
       "      <td>[0.873375415802002, 0.12662461400032043]</td>\n",
       "      <td>0</td>\n",
       "      <td>0</td>\n",
       "      <td>0.125</td>\n",
       "      <td>[0.8751279711723328, 0.12487202137708664]</td>\n",
       "      <td>0</td>\n",
       "      <td>0</td>\n",
       "    </tr>\n",
       "    <tr>\n",
       "      <th>2</th>\n",
       "      <td>0.345</td>\n",
       "      <td>[0.6551599502563477, 0.34484007954597473]</td>\n",
       "      <td>0</td>\n",
       "      <td>0</td>\n",
       "      <td>0.494</td>\n",
       "      <td>[0.506129264831543, 0.49387067556381226]</td>\n",
       "      <td>0</td>\n",
       "      <td>0</td>\n",
       "      <td>0.463</td>\n",
       "      <td>[0.5374051928520203, 0.46259480714797974]</td>\n",
       "      <td>0</td>\n",
       "      <td>1</td>\n",
       "    </tr>\n",
       "    <tr>\n",
       "      <th>3</th>\n",
       "      <td>0.491</td>\n",
       "      <td>[0.5086734294891357, 0.49132657051086426]</td>\n",
       "      <td>0</td>\n",
       "      <td>0</td>\n",
       "      <td>0.414</td>\n",
       "      <td>[0.5861639976501465, 0.4138360023498535]</td>\n",
       "      <td>0</td>\n",
       "      <td>0</td>\n",
       "      <td>0.457</td>\n",
       "      <td>[0.5432940125465393, 0.4567059874534607]</td>\n",
       "      <td>0</td>\n",
       "      <td>1</td>\n",
       "    </tr>\n",
       "    <tr>\n",
       "      <th>4</th>\n",
       "      <td>0.517</td>\n",
       "      <td>[0.4828543961048126, 0.5171456336975098]</td>\n",
       "      <td>1</td>\n",
       "      <td>1</td>\n",
       "      <td>0.507</td>\n",
       "      <td>[0.49255114793777466, 0.5074488520622253]</td>\n",
       "      <td>1</td>\n",
       "      <td>1</td>\n",
       "      <td>0.418</td>\n",
       "      <td>[0.5823034048080444, 0.41769659519195557]</td>\n",
       "      <td>0</td>\n",
       "      <td>1</td>\n",
       "    </tr>\n",
       "  </tbody>\n",
       "</table>\n",
       "</div>"
      ],
      "text/plain": [
       "  Proba                                     Probas Preds Labels Proba  \\\n",
       "0 0.063  [0.9371981024742126, 0.06280190497636795]     0      0 0.192   \n",
       "1 0.410   [0.5902296304702759, 0.4097703695297241]     0      0 0.127   \n",
       "2 0.345  [0.6551599502563477, 0.34484007954597473]     0      0 0.494   \n",
       "3 0.491  [0.5086734294891357, 0.49132657051086426]     0      0 0.414   \n",
       "4 0.517   [0.4828543961048126, 0.5171456336975098]     1      1 0.507   \n",
       "\n",
       "                                      Probas Preds Labels Proba  \\\n",
       "0  [0.8081372380256653, 0.19186276197433472]     0      0 0.229   \n",
       "1   [0.873375415802002, 0.12662461400032043]     0      0 0.125   \n",
       "2   [0.506129264831543, 0.49387067556381226]     0      0 0.463   \n",
       "3   [0.5861639976501465, 0.4138360023498535]     0      0 0.457   \n",
       "4  [0.49255114793777466, 0.5074488520622253]     1      1 0.418   \n",
       "\n",
       "                                      Probas Preds Labels  \n",
       "0  [0.7705118656158447, 0.22948819398880005]     0      0  \n",
       "1  [0.8751279711723328, 0.12487202137708664]     0      0  \n",
       "2  [0.5374051928520203, 0.46259480714797974]     0      1  \n",
       "3   [0.5432940125465393, 0.4567059874534607]     0      1  \n",
       "4  [0.5823034048080444, 0.41769659519195557]     0      1  "
      ]
     },
     "metadata": {},
     "output_type": "display_data"
    },
    {
     "name": "stdout",
     "output_type": "stream",
     "text": [
      "scores =  {'map': '0.6050', 'acc': '0.5340', 'auc': '0.6464'}\n",
      "Epoch =  47 Train = 0.854135 Val = 0.646408\n"
     ]
    },
    {
     "data": {
      "application/vnd.jupyter.widget-view+json": {
       "model_id": "2eee47ce3f5c434596b3b1bce6fc1754",
       "version_major": 2,
       "version_minor": 0
      },
      "text/plain": [
       "HBox(children=(FloatProgress(value=0.0, description='Batches', max=17.0, style=ProgressStyle(description_width…"
      ]
     },
     "metadata": {},
     "output_type": "display_data"
    },
    {
     "name": "stdout",
     "output_type": "stream",
     "text": [
      "\n",
      "Epoch =  48 Loss = 0.449241 LR = 0.00000000\n",
      "\n"
     ]
    },
    {
     "data": {
      "image/png": "[encoded data removed]",
      "text/plain": [
       "<Figure size 576x576 with 2 Axes>"
      ]
     },
     "metadata": {
      "image/png": {
       "height": 567,
       "width": 568
      },
      "needs_background": "light"
     },
     "output_type": "display_data"
    },
    {
     "data": {
      "application/vnd.jupyter.widget-view+json": {
       "model_id": "aae9b0be2734457c916b5506483cac2a",
       "version_major": 2,
       "version_minor": 0
      },
      "text/plain": [
       "HBox(children=(FloatProgress(value=0.0, description='Generate Predictions', max=2.0, style=ProgressStyle(descr…"
      ]
     },
     "metadata": {},
     "output_type": "display_data"
    },
    {
     "name": "stdout",
     "output_type": "stream",
     "text": [
      "\n"
     ]
    },
    {
     "data": {
      "text/html": [
       "<div>\n",
       "<style scoped>\n",
       "    .dataframe tbody tr th:only-of-type {\n",
       "        vertical-align: middle;\n",
       "    }\n",
       "\n",
       "    .dataframe tbody tr th {\n",
       "        vertical-align: top;\n",
       "    }\n",
       "\n",
       "    .dataframe thead tr th {\n",
       "        text-align: left;\n",
       "    }\n",
       "\n",
       "    .dataframe thead tr:last-of-type th {\n",
       "        text-align: right;\n",
       "    }\n",
       "</style>\n",
       "<table border=\"1\" class=\"dataframe\">\n",
       "  <thead>\n",
       "    <tr>\n",
       "      <th></th>\n",
       "      <th colspan=\"2\" halign=\"left\">Proba</th>\n",
       "      <th colspan=\"2\" halign=\"left\">Preds</th>\n",
       "    </tr>\n",
       "    <tr>\n",
       "      <th></th>\n",
       "      <th>min</th>\n",
       "      <th>max</th>\n",
       "      <th>min</th>\n",
       "      <th>max</th>\n",
       "    </tr>\n",
       "    <tr>\n",
       "      <th>Labels</th>\n",
       "      <th></th>\n",
       "      <th></th>\n",
       "      <th></th>\n",
       "      <th></th>\n",
       "    </tr>\n",
       "  </thead>\n",
       "  <tbody>\n",
       "    <tr>\n",
       "      <th>0</th>\n",
       "      <td>0.005</td>\n",
       "      <td>0.544</td>\n",
       "      <td>0</td>\n",
       "      <td>1</td>\n",
       "    </tr>\n",
       "    <tr>\n",
       "      <th>1</th>\n",
       "      <td>0.005</td>\n",
       "      <td>0.546</td>\n",
       "      <td>0</td>\n",
       "      <td>1</td>\n",
       "    </tr>\n",
       "  </tbody>\n",
       "</table>\n",
       "</div>"
      ],
      "text/plain": [
       "       Proba       Preds    \n",
       "         min   max   min max\n",
       "Labels                      \n",
       "0      0.005 0.544     0   1\n",
       "1      0.005 0.546     0   1"
      ]
     },
     "metadata": {},
     "output_type": "display_data"
    },
    {
     "data": {
      "text/html": [
       "<div>\n",
       "<style scoped>\n",
       "    .dataframe tbody tr th:only-of-type {\n",
       "        vertical-align: middle;\n",
       "    }\n",
       "\n",
       "    .dataframe tbody tr th {\n",
       "        vertical-align: top;\n",
       "    }\n",
       "\n",
       "    .dataframe thead th {\n",
       "        text-align: right;\n",
       "    }\n",
       "</style>\n",
       "<table border=\"1\" class=\"dataframe\">\n",
       "  <thead>\n",
       "    <tr style=\"text-align: right;\">\n",
       "      <th></th>\n",
       "      <th>Proba</th>\n",
       "      <th>Probas</th>\n",
       "      <th>Preds</th>\n",
       "      <th>Labels</th>\n",
       "      <th>Proba</th>\n",
       "      <th>Probas</th>\n",
       "      <th>Preds</th>\n",
       "      <th>Labels</th>\n",
       "      <th>Proba</th>\n",
       "      <th>Probas</th>\n",
       "      <th>Preds</th>\n",
       "      <th>Labels</th>\n",
       "    </tr>\n",
       "  </thead>\n",
       "  <tbody>\n",
       "    <tr>\n",
       "      <th>0</th>\n",
       "      <td>0.495</td>\n",
       "      <td>[0.5046037435531616, 0.49539628624916077]</td>\n",
       "      <td>0</td>\n",
       "      <td>1</td>\n",
       "      <td>0.463</td>\n",
       "      <td>[0.5367630124092102, 0.4632369875907898]</td>\n",
       "      <td>0</td>\n",
       "      <td>0</td>\n",
       "      <td>0.484</td>\n",
       "      <td>[0.5156912207603455, 0.48430877923965454]</td>\n",
       "      <td>0</td>\n",
       "      <td>0</td>\n",
       "    </tr>\n",
       "    <tr>\n",
       "      <th>1</th>\n",
       "      <td>0.467</td>\n",
       "      <td>[0.5331155061721802, 0.4668845236301422]</td>\n",
       "      <td>0</td>\n",
       "      <td>1</td>\n",
       "      <td>0.058</td>\n",
       "      <td>[0.9424941539764404, 0.05750580132007599]</td>\n",
       "      <td>0</td>\n",
       "      <td>0</td>\n",
       "      <td>0.479</td>\n",
       "      <td>[0.5214051008224487, 0.47859495878219604]</td>\n",
       "      <td>0</td>\n",
       "      <td>1</td>\n",
       "    </tr>\n",
       "    <tr>\n",
       "      <th>2</th>\n",
       "      <td>0.478</td>\n",
       "      <td>[0.5215041041374207, 0.47849589586257935]</td>\n",
       "      <td>0</td>\n",
       "      <td>1</td>\n",
       "      <td>0.464</td>\n",
       "      <td>[0.5359055995941162, 0.4640944004058838]</td>\n",
       "      <td>0</td>\n",
       "      <td>1</td>\n",
       "      <td>0.498</td>\n",
       "      <td>[0.501842200756073, 0.498157799243927]</td>\n",
       "      <td>0</td>\n",
       "      <td>1</td>\n",
       "    </tr>\n",
       "    <tr>\n",
       "      <th>3</th>\n",
       "      <td>0.504</td>\n",
       "      <td>[0.49577391147613525, 0.5042260885238647]</td>\n",
       "      <td>1</td>\n",
       "      <td>0</td>\n",
       "      <td>0.478</td>\n",
       "      <td>[0.5221670269966125, 0.47783297300338745]</td>\n",
       "      <td>0</td>\n",
       "      <td>0</td>\n",
       "      <td>0.462</td>\n",
       "      <td>[0.5375398993492126, 0.46246013045310974]</td>\n",
       "      <td>0</td>\n",
       "      <td>1</td>\n",
       "    </tr>\n",
       "    <tr>\n",
       "      <th>4</th>\n",
       "      <td>0.449</td>\n",
       "      <td>[0.5512950420379639, 0.4487049877643585]</td>\n",
       "      <td>0</td>\n",
       "      <td>0</td>\n",
       "      <td>0.436</td>\n",
       "      <td>[0.5644972324371338, 0.4355027675628662]</td>\n",
       "      <td>0</td>\n",
       "      <td>0</td>\n",
       "      <td>0.203</td>\n",
       "      <td>[0.7974177598953247, 0.20258229970932007]</td>\n",
       "      <td>0</td>\n",
       "      <td>0</td>\n",
       "    </tr>\n",
       "  </tbody>\n",
       "</table>\n",
       "</div>"
      ],
      "text/plain": [
       "  Proba                                     Probas Preds Labels Proba  \\\n",
       "0 0.495  [0.5046037435531616, 0.49539628624916077]     0      1 0.463   \n",
       "1 0.467   [0.5331155061721802, 0.4668845236301422]     0      1 0.058   \n",
       "2 0.478  [0.5215041041374207, 0.47849589586257935]     0      1 0.464   \n",
       "3 0.504  [0.49577391147613525, 0.5042260885238647]     1      0 0.478   \n",
       "4 0.449   [0.5512950420379639, 0.4487049877643585]     0      0 0.436   \n",
       "\n",
       "                                      Probas Preds Labels Proba  \\\n",
       "0   [0.5367630124092102, 0.4632369875907898]     0      0 0.484   \n",
       "1  [0.9424941539764404, 0.05750580132007599]     0      0 0.479   \n",
       "2   [0.5359055995941162, 0.4640944004058838]     0      1 0.498   \n",
       "3  [0.5221670269966125, 0.47783297300338745]     0      0 0.462   \n",
       "4   [0.5644972324371338, 0.4355027675628662]     0      0 0.203   \n",
       "\n",
       "                                      Probas Preds Labels  \n",
       "0  [0.5156912207603455, 0.48430877923965454]     0      0  \n",
       "1  [0.5214051008224487, 0.47859495878219604]     0      1  \n",
       "2     [0.501842200756073, 0.498157799243927]     0      1  \n",
       "3  [0.5375398993492126, 0.46246013045310974]     0      1  \n",
       "4  [0.7974177598953247, 0.20258229970932007]     0      0  "
      ]
     },
     "metadata": {},
     "output_type": "display_data"
    },
    {
     "name": "stdout",
     "output_type": "stream",
     "text": [
      "scores =  {'map': '0.6052', 'acc': '0.5340', 'auc': '0.6466'}\n"
     ]
    },
    {
     "data": {
      "application/vnd.jupyter.widget-view+json": {
       "model_id": "fa81156aeb1a4767b6ad9fd47a898a2f",
       "version_major": 2,
       "version_minor": 0
      },
      "text/plain": [
       "HBox(children=(FloatProgress(value=0.0, description='Generate Predictions', max=34.0, style=ProgressStyle(desc…"
      ]
     },
     "metadata": {},
     "output_type": "display_data"
    },
    {
     "name": "stdout",
     "output_type": "stream",
     "text": [
      "\n"
     ]
    },
    {
     "data": {
      "text/html": [
       "<div>\n",
       "<style scoped>\n",
       "    .dataframe tbody tr th:only-of-type {\n",
       "        vertical-align: middle;\n",
       "    }\n",
       "\n",
       "    .dataframe tbody tr th {\n",
       "        vertical-align: top;\n",
       "    }\n",
       "\n",
       "    .dataframe thead th {\n",
       "        text-align: right;\n",
       "    }\n",
       "</style>\n",
       "<table border=\"1\" class=\"dataframe\">\n",
       "  <thead>\n",
       "    <tr style=\"text-align: right;\">\n",
       "      <th></th>\n",
       "      <th></th>\n",
       "      <th>train</th>\n",
       "      <th>val</th>\n",
       "    </tr>\n",
       "    <tr>\n",
       "      <th>mean_or_std</th>\n",
       "      <th>metric</th>\n",
       "      <th></th>\n",
       "      <th></th>\n",
       "    </tr>\n",
       "  </thead>\n",
       "  <tbody>\n",
       "    <tr>\n",
       "      <th rowspan=\"3\" valign=\"top\">mean</th>\n",
       "      <th>map</th>\n",
       "      <td>0.764</td>\n",
       "      <td>0.605</td>\n",
       "    </tr>\n",
       "    <tr>\n",
       "      <th>accuracy</th>\n",
       "      <td>0.772</td>\n",
       "      <td>0.534</td>\n",
       "    </tr>\n",
       "    <tr>\n",
       "      <th>auc</th>\n",
       "      <td>0.854</td>\n",
       "      <td>0.647</td>\n",
       "    </tr>\n",
       "    <tr>\n",
       "      <th rowspan=\"3\" valign=\"top\">std</th>\n",
       "      <th>map</th>\n",
       "      <td>0.000</td>\n",
       "      <td>0.000</td>\n",
       "    </tr>\n",
       "    <tr>\n",
       "      <th>accuracy</th>\n",
       "      <td>0.000</td>\n",
       "      <td>0.000</td>\n",
       "    </tr>\n",
       "    <tr>\n",
       "      <th>auc</th>\n",
       "      <td>0.000</td>\n",
       "      <td>0.000</td>\n",
       "    </tr>\n",
       "  </tbody>\n",
       "</table>\n",
       "</div>"
      ],
      "text/plain": [
       "                      train   val\n",
       "mean_or_std metric               \n",
       "mean        map       0.764 0.605\n",
       "            accuracy  0.772 0.534\n",
       "            auc       0.854 0.647\n",
       "std         map       0.000 0.000\n",
       "            accuracy  0.000 0.000\n",
       "            auc       0.000 0.000"
      ]
     },
     "execution_count": 21,
     "metadata": {},
     "output_type": "execute_result"
    },
    {
     "data": {
      "text/html": [
       "<div>\n",
       "<style scoped>\n",
       "    .dataframe tbody tr th:only-of-type {\n",
       "        vertical-align: middle;\n",
       "    }\n",
       "\n",
       "    .dataframe tbody tr th {\n",
       "        vertical-align: top;\n",
       "    }\n",
       "\n",
       "    .dataframe thead tr th {\n",
       "        text-align: left;\n",
       "    }\n",
       "</style>\n",
       "<table border=\"1\" class=\"dataframe\">\n",
       "  <thead>\n",
       "    <tr>\n",
       "      <th></th>\n",
       "      <th colspan=\"4\" halign=\"left\">train</th>\n",
       "      <th colspan=\"4\" halign=\"left\">val</th>\n",
       "    </tr>\n",
       "    <tr>\n",
       "      <th></th>\n",
       "      <th>precision</th>\n",
       "      <th>recall</th>\n",
       "      <th>f1</th>\n",
       "      <th>supoort</th>\n",
       "      <th>precision</th>\n",
       "      <th>recall</th>\n",
       "      <th>f1</th>\n",
       "      <th>supoort</th>\n",
       "    </tr>\n",
       "  </thead>\n",
       "  <tbody>\n",
       "    <tr>\n",
       "      <th>neg</th>\n",
       "      <td>0.773</td>\n",
       "      <td>0.912</td>\n",
       "      <td>0.837</td>\n",
       "      <td>5450.000</td>\n",
       "      <td>0.520</td>\n",
       "      <td>0.884</td>\n",
       "      <td>0.655</td>\n",
       "      <td>250.000</td>\n",
       "    </tr>\n",
       "    <tr>\n",
       "      <th>pos</th>\n",
       "      <td>0.769</td>\n",
       "      <td>0.520</td>\n",
       "      <td>0.620</td>\n",
       "      <td>3050.000</td>\n",
       "      <td>0.613</td>\n",
       "      <td>0.184</td>\n",
       "      <td>0.283</td>\n",
       "      <td>250.000</td>\n",
       "    </tr>\n",
       "  </tbody>\n",
       "</table>\n",
       "</div>"
      ],
      "text/plain": [
       "        train                             val                     \n",
       "    precision recall    f1  supoort precision recall    f1 supoort\n",
       "neg     0.773  0.912 0.837 5450.000     0.520  0.884 0.655 250.000\n",
       "pos     0.769  0.520 0.620 3050.000     0.613  0.184 0.283 250.000"
      ]
     },
     "execution_count": 21,
     "metadata": {},
     "output_type": "execute_result"
    }
   ],
   "source": [
    "adamw = torch.optim.AdamW\n",
    "adamw_params = dict(lr=1e-4, betas=(0.9, 0.98), eps=1e-08, weight_decay=1e-2)\n",
    "optimizer = adamw\n",
    "optimizer_params = adamw_params\n",
    "\n",
    "lr_strategy = {\n",
    "    \"model\": {\n",
    "        \"lr\": optimizer_params[\"lr\"] / 1000,\n",
    "        \"finetune\": False,\n",
    "        \"encoder\": {\n",
    "            \"layer\": {\n",
    "                \"2\": {\n",
    "                    \"lr\": optimizer_params[\"lr\"] / 1e3,\n",
    "                    \"finetune\": False\n",
    "                },\n",
    "                \"3\": {\n",
    "                    \"lr\": optimizer_params[\"lr\"],\n",
    "                    \"finetune\": True\n",
    "                },\n",
    "                \"4\": {\n",
    "                    \"lr\": optimizer_params[\"lr\"],\n",
    "                    \"finetune\": True\n",
    "                },\n",
    "                \"5\": {\n",
    "                    \"lr\": optimizer_params[\"lr\"],\n",
    "                    \"finetune\": True\n",
    "                }\n",
    "            }\n",
    "        },\n",
    "    }\n",
    "}\n",
    "\n",
    "epochs = 24\n",
    "batch_size = 256\n",
    "model_fn = model_builder(AlbertClassifer,\n",
    "                         dict(classifier_dims=256,\n",
    "                              num_classes=2,\n",
    "                              gaussian_noise=0.02,\n",
    "                              dropout=0.02,\n",
    "                              word_masking_proba=0.1,\n",
    "                              internal_dims=512,\n",
    "                              final_layer_builder=fb_1d_loss_builder,\n",
    "                              n_layers=2,\n",
    "                              n_encoders=3,\n",
    "                              n_decoders=0,\n",
    "                              n_tokens_in=96,\n",
    "                              n_tokens_out=48,\n",
    "                              featurizer=\"transformer\",\n",
    "                              model='./distilbert-nsp',\n",
    "                              loss=\"focal\",\n",
    "                              classification_head=\"decoder_ensemble\", # head_ensemble\n",
    "                              dice_loss_coef=0.0,\n",
    "                              auc_loss_coef=1.0,\n",
    "                              attention_drop_proba=0.1,\n",
    "                              finetune=False),\n",
    "                         per_param_opts_fn=lr_strategy,\n",
    "                         optimiser_class=optimizer,\n",
    "                         optimiser_params=optimizer_params)\n",
    "\n",
    "kfold = False\n",
    "results, prfs = train_validate_ntimes(\n",
    "    model_fn,\n",
    "    data,\n",
    "    batch_size,\n",
    "    epochs,\n",
    "    kfold=kfold,\n",
    "    scheduler_init_fn=scheduler_init_fn,\n",
    "    model_call_back=reg_sched, # reg_sched\n",
    "    validation_epochs=[4, 7, 9, 11, 14, 17, 19, 23, 27, 31, 34, 37, 41, 44, 47, 51, 54],\n",
    "    show_model_stats=False,\n",
    "    sampling_policy=\"without_replacement\")\n",
    "r2, p2 = results, prfs\n",
    "results\n",
    "prfs\n",
    "\n",
    "# auc_loss_coef=0.5\n",
    "# 0.853 0.661 (0.757 0.596) gaussian_noise=0.1, dropout=0.2, word_masking_proba=0.2,\n",
    "# 0.852\t0.658 (0.748\t0.604) gaussian_noise=0.1, dropout=0.15, word_masking_proba=0.2,\n",
    "# 0.857\t0.661 (0.761\t0.590) gaussian_noise=0.1, dropout=0.15, word_masking_proba=0.15,\n",
    "# 0.845\t0.657 (0.757\t0.592) gaussian_noise=0.1, dropout=0.25, word_masking_proba=0.25,\n",
    "# 0.841\t0.644 (0.753\t0.578) gaussian_noise=0.1, dropout=0.25, word_masking_proba=0.2,\n",
    "# 0.861\t0.647 (0.759\t0.594) gaussian_noise=0.1, dropout=0.15, word_masking_proba=0.15,\n",
    "# 0.857\t0.652 (0.756\t0.576) gaussian_noise=0.1, dropout=0.15, word_masking_proba=0.15,\n",
    "# 0.848\t0.661 (0.751\t0.592) gaussian_noise=0.1, dropout=0.15, word_masking_proba=0.15,\n",
    "# 0.853\t0.657 (0.755\t0.588) gaussian_noise=0.1, dropout=0.2, word_masking_proba=0.2,\n",
    "# 0.853\t0.661 (0.750\t0.602) gaussian_noise=0.1, dropout=0.2, word_masking_proba=0.2,\n",
    "# 0.852\t0.649 (0.757\t0.578) gaussian_noise=0.1, dropout=0.2, word_masking_proba=0.2,\n",
    "\n",
    "# No reg_sched testing\n",
    "# 0.848\t0.652 (0.754\t0.590) gaussian_noise=0.1, dropout=0.2, word_masking_proba=0.2,\n",
    "\n",
    "# Cnn1D head\n"
   ]
  },
  {
   "cell_type": "code",
   "execution_count": null,
   "metadata": {},
   "outputs": [],
   "source": [
    "adamw = torch.optim.AdamW\n",
    "adamw_params = dict(lr=1e-4, betas=(0.9, 0.98), eps=1e-08, weight_decay=1e-2)\n",
    "optimizer = adamw\n",
    "optimizer_params = adamw_params\n",
    "\n",
    "lr_strategy = {\n",
    "    \"model\": {\n",
    "        \"lr\": optimizer_params[\"lr\"] / 1000,\n",
    "        \"finetune\": False,\n",
    "        \"encoder\": {\n",
    "            \"layer\": {\n",
    "                \"2\": {\n",
    "                    \"lr\": optimizer_params[\"lr\"] / 1e3,\n",
    "                    \"finetune\": False\n",
    "                },\n",
    "                \"3\": {\n",
    "                    \"lr\": optimizer_params[\"lr\"],\n",
    "                    \"finetune\": True\n",
    "                },\n",
    "                \"4\": {\n",
    "                    \"lr\": optimizer_params[\"lr\"],\n",
    "                    \"finetune\": True\n",
    "                },\n",
    "                \"5\": {\n",
    "                    \"lr\": optimizer_params[\"lr\"],\n",
    "                    \"finetune\": True\n",
    "                }\n",
    "            }\n",
    "        },\n",
    "    }\n",
    "}\n",
    "\n",
    "epochs = 24\n",
    "batch_size = 256\n",
    "model_fn = model_builder(AlbertClassifer,\n",
    "                         dict(classifier_dims=256,\n",
    "                              num_classes=2,\n",
    "                              gaussian_noise=0.1,\n",
    "                              dropout=0.01,\n",
    "                              word_masking_proba=0.1,\n",
    "                              internal_dims=512,\n",
    "                              final_layer_builder=fb_1d_loss_builder,\n",
    "                              n_layers=2,\n",
    "                              n_encoders=3,\n",
    "                              n_decoders=0,\n",
    "                              n_tokens_in=96,\n",
    "                              n_tokens_out=48,\n",
    "                              featurizer=\"transformer\",\n",
    "                              model='distilbert-cor-nsp',\n",
    "                              loss=\"focal\",\n",
    "                              classification_head=\"decoder_ensemble\", # head_ensemble\n",
    "                              dice_loss_coef=0.0,\n",
    "                              auc_loss_coef=1.0,\n",
    "                              attention_drop_proba=0.05,\n",
    "                              finetune=False),\n",
    "                         per_param_opts_fn=lr_strategy,\n",
    "                         optimiser_class=optimizer,\n",
    "                         optimiser_params=optimizer_params)\n",
    "\n",
    "kfold = False\n",
    "results, prfs = train_validate_ntimes(\n",
    "    model_fn,\n",
    "    data,\n",
    "    batch_size,\n",
    "    epochs,\n",
    "    kfold=kfold,\n",
    "    scheduler_init_fn=scheduler_init_fn,\n",
    "    model_call_back=reg_sched, # reg_sched\n",
    "    validation_epochs=[4, 7, 9, 11, 14, 17, 19, 23, 27, 31, 34, 37, 41, 44, 47, 51, 54],\n",
    "    show_model_stats=False,\n",
    "    sampling_policy=\"without_replacement\")\n",
    "r2, p2 = results, prfs\n",
    "results\n",
    "prfs\n",
    "\n",
    "# auc_loss_coef=0.5\n",
    "# 0.853 0.661 (0.757 0.596) gaussian_noise=0.1, dropout=0.2, word_masking_proba=0.2,\n",
    "# 0.852\t0.658 (0.748\t0.604) gaussian_noise=0.1, dropout=0.15, word_masking_proba=0.2,\n",
    "# 0.857\t0.661 (0.761\t0.590) gaussian_noise=0.1, dropout=0.15, word_masking_proba=0.15,\n",
    "# 0.845\t0.657 (0.757\t0.592) gaussian_noise=0.1, dropout=0.25, word_masking_proba=0.25,\n",
    "# 0.841\t0.644 (0.753\t0.578) gaussian_noise=0.1, dropout=0.25, word_masking_proba=0.2,\n",
    "# 0.861\t0.647 (0.759\t0.594) gaussian_noise=0.1, dropout=0.15, word_masking_proba=0.15,\n",
    "# 0.857\t0.652 (0.756\t0.576) gaussian_noise=0.1, dropout=0.15, word_masking_proba=0.15,\n",
    "# 0.848\t0.661 (0.751\t0.592) gaussian_noise=0.1, dropout=0.15, word_masking_proba=0.15,\n",
    "# 0.853\t0.657 (0.755\t0.588) gaussian_noise=0.1, dropout=0.2, word_masking_proba=0.2,\n",
    "# 0.853\t0.661 (0.750\t0.602) gaussian_noise=0.1, dropout=0.2, word_masking_proba=0.2,\n",
    "# 0.852\t0.649 (0.757\t0.578) gaussian_noise=0.1, dropout=0.2, word_masking_proba=0.2,\n",
    "\n",
    "# No reg_sched testing\n",
    "# 0.848\t0.652 (0.754\t0.590) gaussian_noise=0.1, dropout=0.2, word_masking_proba=0.2,\n",
    "\n",
    "# Cnn1D head\n"
   ]
  },
  {
   "cell_type": "markdown",
   "metadata": {},
   "source": [
    "# Predict"
   ]
  },
  {
   "cell_type": "code",
   "execution_count": 12,
   "metadata": {
    "ExecuteTime": {
     "end_time": "2020-07-21T18:25:47.199884Z",
     "start_time": "2020-07-21T18:25:47.191403Z"
    }
   },
   "outputs": [],
   "source": [
    "adamw = torch.optim.AdamW\n",
    "adamw_params = dict(lr=1e-4, betas=(0.9, 0.98), eps=1e-08, weight_decay=1e-2)\n",
    "optimizer = adamw\n",
    "optimizer_params = adamw_params\n",
    "\n",
    "lr_strategy = {\n",
    "    \"model\": {\n",
    "        \"lr\": optimizer_params[\"lr\"] / 1000,\n",
    "        \"finetune\": False,\n",
    "        \"encoder\": {\n",
    "            \"layer\": {\n",
    "                \"2\": {\n",
    "                    \"lr\": optimizer_params[\"lr\"] / 1e3,\n",
    "                    \"finetune\": False\n",
    "                },\n",
    "                \"3\": {\n",
    "                    \"lr\": optimizer_params[\"lr\"] / 1e1,\n",
    "                    \"finetune\": True\n",
    "                },\n",
    "                \"4\": {\n",
    "                    \"lr\": optimizer_params[\"lr\"],\n",
    "                    \"finetune\": True\n",
    "                },\n",
    "                \"5\": {\n",
    "                    \"lr\": optimizer_params[\"lr\"],\n",
    "                    \"finetune\": True\n",
    "                }\n",
    "            }\n",
    "        },\n",
    "    }\n",
    "}\n",
    "\n",
    "epochs = 24\n",
    "batch_size = 256\n",
    "model_fn = model_builder(AlbertClassifer,\n",
    "                         dict(classifier_dims=256,\n",
    "                              num_classes=2,\n",
    "                              gaussian_noise=0.1,\n",
    "                              dropout=0.2,\n",
    "                              word_masking_proba=0.2,\n",
    "                              internal_dims=512,\n",
    "                              final_layer_builder=fb_1d_loss_builder,\n",
    "                              n_layers=2,\n",
    "                              n_encoders=3,\n",
    "                              n_decoders=3,\n",
    "                              n_tokens_in=96,\n",
    "                              n_tokens_out=32,\n",
    "                              featurizer=\"transformer\",\n",
    "                              model='./distilbert-nsp',\n",
    "                              loss=\"focal\",\n",
    "                              classification_head=\"decoder_ensemble\", # decoder_ensemble\n",
    "                              dice_loss_coef=0.0,\n",
    "                              auc_loss_coef=0.5,\n",
    "                              attention_drop_proba=0.2,\n",
    "                              finetune=False),\n",
    "                         per_param_opts_fn=lr_strategy,\n",
    "                         optimiser_class=optimizer,\n",
    "                         optimiser_params=optimizer_params)\n"
   ]
  },
  {
   "cell_type": "code",
   "execution_count": 13,
   "metadata": {
    "ExecuteTime": {
     "end_time": "2020-07-21T18:35:26.531494Z",
     "start_time": "2020-07-21T18:25:56.486297Z"
    },
    "scrolled": true
   },
   "outputs": [
    {
     "name": "stdout",
     "output_type": "stream",
     "text": [
      "Autocast =  True Epochs =  48 Divisor = 2 Examples = 3050 Batch Size =  256\n",
      "Training Samples =  6100 Weighted Sampling =  True Num Batches =  12 Accumulation steps =  1\n"
     ]
    },
    {
     "data": {
      "application/vnd.jupyter.widget-view+json": {
       "model_id": "d7d7d8a054ed43cca85751fab4716e66",
       "version_major": 2,
       "version_minor": 0
      },
      "text/plain": [
       "HBox(children=(FloatProgress(value=0.0, max=48.0), HTML(value='')))"
      ]
     },
     "metadata": {},
     "output_type": "display_data"
    },
    {
     "data": {
      "application/vnd.jupyter.widget-view+json": {
       "model_id": "67efac1c03ae4569a698058eb076bf8c",
       "version_major": 2,
       "version_minor": 0
      },
      "text/plain": [
       "HBox(children=(FloatProgress(value=0.0, description='Batches', max=12.0, style=ProgressStyle(description_width…"
      ]
     },
     "metadata": {},
     "output_type": "display_data"
    },
    {
     "name": "stdout",
     "output_type": "stream",
     "text": [
      "\n",
      "Epoch =  1 Loss = 0.979856 LR = 0.00000001\n"
     ]
    },
    {
     "data": {
      "application/vnd.jupyter.widget-view+json": {
       "model_id": "31b179ed51464e94ac7d7348f6b0fae8",
       "version_major": 2,
       "version_minor": 0
      },
      "text/plain": [
       "HBox(children=(FloatProgress(value=0.0, description='Batches', max=12.0, style=ProgressStyle(description_width…"
      ]
     },
     "metadata": {},
     "output_type": "display_data"
    },
    {
     "name": "stdout",
     "output_type": "stream",
     "text": [
      "\n",
      "Epoch =  2 Loss = 0.758919 LR = 0.00000001\n"
     ]
    },
    {
     "data": {
      "application/vnd.jupyter.widget-view+json": {
       "model_id": "672790a108bd4693a26a4f87e43f8812",
       "version_major": 2,
       "version_minor": 0
      },
      "text/plain": [
       "HBox(children=(FloatProgress(value=0.0, description='Batches', max=12.0, style=ProgressStyle(description_width…"
      ]
     },
     "metadata": {},
     "output_type": "display_data"
    },
    {
     "name": "stdout",
     "output_type": "stream",
     "text": [
      "\n",
      "Epoch =  3 Loss = 0.645848 LR = 0.00000002\n"
     ]
    },
    {
     "data": {
      "application/vnd.jupyter.widget-view+json": {
       "model_id": "2023f40e400f4026b8f5792286c390f9",
       "version_major": 2,
       "version_minor": 0
      },
      "text/plain": [
       "HBox(children=(FloatProgress(value=0.0, description='Batches', max=12.0, style=ProgressStyle(description_width…"
      ]
     },
     "metadata": {},
     "output_type": "display_data"
    },
    {
     "name": "stdout",
     "output_type": "stream",
     "text": [
      "\n",
      "Epoch =  4 Loss = 0.561513 LR = 0.00000003\n"
     ]
    },
    {
     "data": {
      "application/vnd.jupyter.widget-view+json": {
       "model_id": "e86d7f9317134c168807f259a16c9e0a",
       "version_major": 2,
       "version_minor": 0
      },
      "text/plain": [
       "HBox(children=(FloatProgress(value=0.0, description='Batches', max=12.0, style=ProgressStyle(description_width…"
      ]
     },
     "metadata": {},
     "output_type": "display_data"
    },
    {
     "name": "stdout",
     "output_type": "stream",
     "text": [
      "\n",
      "Epoch =  5 Loss = 0.514693 LR = 0.00000003\n"
     ]
    },
    {
     "data": {
      "application/vnd.jupyter.widget-view+json": {
       "model_id": "fe54e2fb577b492393bb6a119e4a2107",
       "version_major": 2,
       "version_minor": 0
      },
      "text/plain": [
       "HBox(children=(FloatProgress(value=0.0, description='Batches', max=12.0, style=ProgressStyle(description_width…"
      ]
     },
     "metadata": {},
     "output_type": "display_data"
    },
    {
     "name": "stdout",
     "output_type": "stream",
     "text": [
      "\n",
      "Epoch =  6 Loss = 0.484570 LR = 0.00000004\n"
     ]
    },
    {
     "data": {
      "application/vnd.jupyter.widget-view+json": {
       "model_id": "ea24b788cfe14e1d82e2829ee68bf847",
       "version_major": 2,
       "version_minor": 0
      },
      "text/plain": [
       "HBox(children=(FloatProgress(value=0.0, description='Batches', max=12.0, style=ProgressStyle(description_width…"
      ]
     },
     "metadata": {},
     "output_type": "display_data"
    },
    {
     "name": "stdout",
     "output_type": "stream",
     "text": [
      "\n",
      "Epoch =  7 Loss = 0.457672 LR = 0.00000005\n"
     ]
    },
    {
     "data": {
      "application/vnd.jupyter.widget-view+json": {
       "model_id": "83bab4ca88714896a42d4c25d9256af0",
       "version_major": 2,
       "version_minor": 0
      },
      "text/plain": [
       "HBox(children=(FloatProgress(value=0.0, description='Batches', max=12.0, style=ProgressStyle(description_width…"
      ]
     },
     "metadata": {},
     "output_type": "display_data"
    },
    {
     "name": "stdout",
     "output_type": "stream",
     "text": [
      "\n",
      "Epoch =  8 Loss = 0.445202 LR = 0.00000006\n"
     ]
    },
    {
     "data": {
      "application/vnd.jupyter.widget-view+json": {
       "model_id": "f0b40f306bc7439e8552ed6311447835",
       "version_major": 2,
       "version_minor": 0
      },
      "text/plain": [
       "HBox(children=(FloatProgress(value=0.0, description='Batches', max=12.0, style=ProgressStyle(description_width…"
      ]
     },
     "metadata": {},
     "output_type": "display_data"
    },
    {
     "name": "stdout",
     "output_type": "stream",
     "text": [
      "\n",
      "Epoch =  9 Loss = 0.429538 LR = 0.00000006\n"
     ]
    },
    {
     "data": {
      "application/vnd.jupyter.widget-view+json": {
       "model_id": "39e8bcd8b59f45e19b4e703afdbf7af4",
       "version_major": 2,
       "version_minor": 0
      },
      "text/plain": [
       "HBox(children=(FloatProgress(value=0.0, description='Batches', max=12.0, style=ProgressStyle(description_width…"
      ]
     },
     "metadata": {},
     "output_type": "display_data"
    },
    {
     "name": "stdout",
     "output_type": "stream",
     "text": [
      "\n",
      "Epoch =  10 Loss = 0.417026 LR = 0.00000007\n"
     ]
    },
    {
     "data": {
      "application/vnd.jupyter.widget-view+json": {
       "model_id": "9cc6ed0ccf3a40ea9d253a66797bf628",
       "version_major": 2,
       "version_minor": 0
      },
      "text/plain": [
       "HBox(children=(FloatProgress(value=0.0, description='Batches', max=12.0, style=ProgressStyle(description_width…"
      ]
     },
     "metadata": {},
     "output_type": "display_data"
    },
    {
     "name": "stdout",
     "output_type": "stream",
     "text": [
      "\n",
      "Epoch =  11 Loss = 0.405561 LR = 0.00000008\n"
     ]
    },
    {
     "data": {
      "application/vnd.jupyter.widget-view+json": {
       "model_id": "e2dd98de871747ddabe9727e03e246df",
       "version_major": 2,
       "version_minor": 0
      },
      "text/plain": [
       "HBox(children=(FloatProgress(value=0.0, description='Batches', max=12.0, style=ProgressStyle(description_width…"
      ]
     },
     "metadata": {},
     "output_type": "display_data"
    },
    {
     "name": "stdout",
     "output_type": "stream",
     "text": [
      "\n",
      "Epoch =  12 Loss = 0.400622 LR = 0.00000008\n"
     ]
    },
    {
     "data": {
      "application/vnd.jupyter.widget-view+json": {
       "model_id": "1f29ff4420cd42adbcbc66090ad929ab",
       "version_major": 2,
       "version_minor": 0
      },
      "text/plain": [
       "HBox(children=(FloatProgress(value=0.0, description='Batches', max=12.0, style=ProgressStyle(description_width…"
      ]
     },
     "metadata": {},
     "output_type": "display_data"
    },
    {
     "name": "stdout",
     "output_type": "stream",
     "text": [
      "\n",
      "Epoch =  13 Loss = 0.393892 LR = 0.00000009\n"
     ]
    },
    {
     "data": {
      "application/vnd.jupyter.widget-view+json": {
       "model_id": "273ca92d696a4911bf54253247a8c03a",
       "version_major": 2,
       "version_minor": 0
      },
      "text/plain": [
       "HBox(children=(FloatProgress(value=0.0, description='Batches', max=12.0, style=ProgressStyle(description_width…"
      ]
     },
     "metadata": {},
     "output_type": "display_data"
    },
    {
     "name": "stdout",
     "output_type": "stream",
     "text": [
      "\n",
      "Epoch =  14 Loss = 0.385446 LR = 0.00000010\n"
     ]
    },
    {
     "data": {
      "application/vnd.jupyter.widget-view+json": {
       "model_id": "0c35bd7f438a4c6da0412071b41b7b9a",
       "version_major": 2,
       "version_minor": 0
      },
      "text/plain": [
       "HBox(children=(FloatProgress(value=0.0, description='Batches', max=12.0, style=ProgressStyle(description_width…"
      ]
     },
     "metadata": {},
     "output_type": "display_data"
    },
    {
     "name": "stdout",
     "output_type": "stream",
     "text": [
      "\n",
      "Epoch =  15 Loss = 0.374409 LR = 0.00000010\n"
     ]
    },
    {
     "data": {
      "application/vnd.jupyter.widget-view+json": {
       "model_id": "62cba6b6c54a43e895070da41b1eeecd",
       "version_major": 2,
       "version_minor": 0
      },
      "text/plain": [
       "HBox(children=(FloatProgress(value=0.0, description='Generate Predictions', max=24.0, style=ProgressStyle(desc…"
      ]
     },
     "metadata": {},
     "output_type": "display_data"
    },
    {
     "name": "stdout",
     "output_type": "stream",
     "text": [
      "\n"
     ]
    },
    {
     "data": {
      "application/vnd.jupyter.widget-view+json": {
       "model_id": "a7752c91662b40a0a1f4bb572a56062b",
       "version_major": 2,
       "version_minor": 0
      },
      "text/plain": [
       "HBox(children=(FloatProgress(value=0.0, description='Generate Predictions', max=2.0, style=ProgressStyle(descr…"
      ]
     },
     "metadata": {},
     "output_type": "display_data"
    },
    {
     "name": "stdout",
     "output_type": "stream",
     "text": [
      "\n"
     ]
    },
    {
     "data": {
      "text/html": [
       "<div>\n",
       "<style scoped>\n",
       "    .dataframe tbody tr th:only-of-type {\n",
       "        vertical-align: middle;\n",
       "    }\n",
       "\n",
       "    .dataframe tbody tr th {\n",
       "        vertical-align: top;\n",
       "    }\n",
       "\n",
       "    .dataframe thead tr th {\n",
       "        text-align: left;\n",
       "    }\n",
       "\n",
       "    .dataframe thead tr:last-of-type th {\n",
       "        text-align: right;\n",
       "    }\n",
       "</style>\n",
       "<table border=\"1\" class=\"dataframe\">\n",
       "  <thead>\n",
       "    <tr>\n",
       "      <th></th>\n",
       "      <th colspan=\"2\" halign=\"left\">Proba</th>\n",
       "      <th colspan=\"2\" halign=\"left\">Preds</th>\n",
       "    </tr>\n",
       "    <tr>\n",
       "      <th></th>\n",
       "      <th>min</th>\n",
       "      <th>max</th>\n",
       "      <th>min</th>\n",
       "      <th>max</th>\n",
       "    </tr>\n",
       "    <tr>\n",
       "      <th>Labels</th>\n",
       "      <th></th>\n",
       "      <th></th>\n",
       "      <th></th>\n",
       "      <th></th>\n",
       "    </tr>\n",
       "  </thead>\n",
       "  <tbody>\n",
       "    <tr>\n",
       "      <th>0</th>\n",
       "      <td>0.270</td>\n",
       "      <td>0.674</td>\n",
       "      <td>0</td>\n",
       "      <td>1</td>\n",
       "    </tr>\n",
       "    <tr>\n",
       "      <th>1</th>\n",
       "      <td>0.271</td>\n",
       "      <td>0.665</td>\n",
       "      <td>0</td>\n",
       "      <td>1</td>\n",
       "    </tr>\n",
       "  </tbody>\n",
       "</table>\n",
       "</div>"
      ],
      "text/plain": [
       "       Proba       Preds    \n",
       "         min   max   min max\n",
       "Labels                      \n",
       "0      0.270 0.674     0   1\n",
       "1      0.271 0.665     0   1"
      ]
     },
     "metadata": {},
     "output_type": "display_data"
    },
    {
     "data": {
      "text/html": [
       "<div>\n",
       "<style scoped>\n",
       "    .dataframe tbody tr th:only-of-type {\n",
       "        vertical-align: middle;\n",
       "    }\n",
       "\n",
       "    .dataframe tbody tr th {\n",
       "        vertical-align: top;\n",
       "    }\n",
       "\n",
       "    .dataframe thead th {\n",
       "        text-align: right;\n",
       "    }\n",
       "</style>\n",
       "<table border=\"1\" class=\"dataframe\">\n",
       "  <thead>\n",
       "    <tr style=\"text-align: right;\">\n",
       "      <th></th>\n",
       "      <th>Proba</th>\n",
       "      <th>Probas</th>\n",
       "      <th>Preds</th>\n",
       "      <th>Labels</th>\n",
       "      <th>Proba</th>\n",
       "      <th>Probas</th>\n",
       "      <th>Preds</th>\n",
       "      <th>Labels</th>\n",
       "      <th>Proba</th>\n",
       "      <th>Probas</th>\n",
       "      <th>Preds</th>\n",
       "      <th>Labels</th>\n",
       "    </tr>\n",
       "  </thead>\n",
       "  <tbody>\n",
       "    <tr>\n",
       "      <th>0</th>\n",
       "      <td>0.357</td>\n",
       "      <td>[0.6433148384094238, 0.35668516159057617]</td>\n",
       "      <td>0</td>\n",
       "      <td>1</td>\n",
       "      <td>0.374</td>\n",
       "      <td>[0.6262749433517456, 0.3737250864505768]</td>\n",
       "      <td>0</td>\n",
       "      <td>1</td>\n",
       "      <td>0.464</td>\n",
       "      <td>[0.5364686846733093, 0.4635312855243683]</td>\n",
       "      <td>0</td>\n",
       "      <td>0</td>\n",
       "    </tr>\n",
       "    <tr>\n",
       "      <th>1</th>\n",
       "      <td>0.561</td>\n",
       "      <td>[0.4388529658317566, 0.5611470937728882]</td>\n",
       "      <td>1</td>\n",
       "      <td>1</td>\n",
       "      <td>0.674</td>\n",
       "      <td>[0.32643285393714905, 0.6735672354698181]</td>\n",
       "      <td>1</td>\n",
       "      <td>0</td>\n",
       "      <td>0.424</td>\n",
       "      <td>[0.5763609409332275, 0.42363908886909485]</td>\n",
       "      <td>0</td>\n",
       "      <td>1</td>\n",
       "    </tr>\n",
       "    <tr>\n",
       "      <th>2</th>\n",
       "      <td>0.461</td>\n",
       "      <td>[0.5391199588775635, 0.4608800709247589]</td>\n",
       "      <td>0</td>\n",
       "      <td>0</td>\n",
       "      <td>0.369</td>\n",
       "      <td>[0.6311071515083313, 0.3688928484916687]</td>\n",
       "      <td>0</td>\n",
       "      <td>1</td>\n",
       "      <td>0.516</td>\n",
       "      <td>[0.4844038486480713, 0.5155961513519287]</td>\n",
       "      <td>1</td>\n",
       "      <td>1</td>\n",
       "    </tr>\n",
       "    <tr>\n",
       "      <th>3</th>\n",
       "      <td>0.575</td>\n",
       "      <td>[0.42491117119789124, 0.5750888586044312]</td>\n",
       "      <td>1</td>\n",
       "      <td>1</td>\n",
       "      <td>0.329</td>\n",
       "      <td>[0.6708016991615295, 0.32919833064079285]</td>\n",
       "      <td>0</td>\n",
       "      <td>0</td>\n",
       "      <td>0.271</td>\n",
       "      <td>[0.7285424470901489, 0.27145761251449585]</td>\n",
       "      <td>0</td>\n",
       "      <td>1</td>\n",
       "    </tr>\n",
       "    <tr>\n",
       "      <th>4</th>\n",
       "      <td>0.329</td>\n",
       "      <td>[0.6708016991615295, 0.32919833064079285]</td>\n",
       "      <td>0</td>\n",
       "      <td>0</td>\n",
       "      <td>0.298</td>\n",
       "      <td>[0.7019307017326355, 0.2980693578720093]</td>\n",
       "      <td>0</td>\n",
       "      <td>0</td>\n",
       "      <td>0.423</td>\n",
       "      <td>[0.5770429372787476, 0.4229571521282196]</td>\n",
       "      <td>0</td>\n",
       "      <td>0</td>\n",
       "    </tr>\n",
       "  </tbody>\n",
       "</table>\n",
       "</div>"
      ],
      "text/plain": [
       "  Proba                                     Probas Preds Labels Proba  \\\n",
       "0 0.357  [0.6433148384094238, 0.35668516159057617]     0      1 0.374   \n",
       "1 0.561   [0.4388529658317566, 0.5611470937728882]     1      1 0.674   \n",
       "2 0.461   [0.5391199588775635, 0.4608800709247589]     0      0 0.369   \n",
       "3 0.575  [0.42491117119789124, 0.5750888586044312]     1      1 0.329   \n",
       "4 0.329  [0.6708016991615295, 0.32919833064079285]     0      0 0.298   \n",
       "\n",
       "                                      Probas Preds Labels Proba  \\\n",
       "0   [0.6262749433517456, 0.3737250864505768]     0      1 0.464   \n",
       "1  [0.32643285393714905, 0.6735672354698181]     1      0 0.424   \n",
       "2   [0.6311071515083313, 0.3688928484916687]     0      1 0.516   \n",
       "3  [0.6708016991615295, 0.32919833064079285]     0      0 0.271   \n",
       "4   [0.7019307017326355, 0.2980693578720093]     0      0 0.423   \n",
       "\n",
       "                                      Probas Preds Labels  \n",
       "0   [0.5364686846733093, 0.4635312855243683]     0      0  \n",
       "1  [0.5763609409332275, 0.42363908886909485]     0      1  \n",
       "2   [0.4844038486480713, 0.5155961513519287]     1      1  \n",
       "3  [0.7285424470901489, 0.27145761251449585]     0      1  \n",
       "4   [0.5770429372787476, 0.4229571521282196]     0      0  "
      ]
     },
     "metadata": {},
     "output_type": "display_data"
    },
    {
     "name": "stdout",
     "output_type": "stream",
     "text": [
      "scores =  {'map': '0.5668', 'acc': '0.5540', 'auc': '0.5940'}\n",
      "Epoch =  15 Train = 0.721553 Val = 0.594048\n"
     ]
    },
    {
     "data": {
      "application/vnd.jupyter.widget-view+json": {
       "model_id": "7d512f62c28842c49c920e3414a660ed",
       "version_major": 2,
       "version_minor": 0
      },
      "text/plain": [
       "HBox(children=(FloatProgress(value=0.0, description='Batches', max=12.0, style=ProgressStyle(description_width…"
      ]
     },
     "metadata": {},
     "output_type": "display_data"
    },
    {
     "name": "stdout",
     "output_type": "stream",
     "text": [
      "\n",
      "Epoch =  16 Loss = 0.366131 LR = 0.00000010\n"
     ]
    },
    {
     "data": {
      "application/vnd.jupyter.widget-view+json": {
       "model_id": "9782bf556fa9484885aa87b1309f3208",
       "version_major": 2,
       "version_minor": 0
      },
      "text/plain": [
       "HBox(children=(FloatProgress(value=0.0, description='Batches', max=12.0, style=ProgressStyle(description_width…"
      ]
     },
     "metadata": {},
     "output_type": "display_data"
    },
    {
     "name": "stdout",
     "output_type": "stream",
     "text": [
      "\n",
      "Epoch =  17 Loss = 0.361651 LR = 0.00000010\n"
     ]
    },
    {
     "data": {
      "application/vnd.jupyter.widget-view+json": {
       "model_id": "e25cb722ae4b4370a9487f27f5d726a5",
       "version_major": 2,
       "version_minor": 0
      },
      "text/plain": [
       "HBox(children=(FloatProgress(value=0.0, description='Batches', max=12.0, style=ProgressStyle(description_width…"
      ]
     },
     "metadata": {},
     "output_type": "display_data"
    },
    {
     "name": "stdout",
     "output_type": "stream",
     "text": [
      "\n",
      "Epoch =  18 Loss = 0.356667 LR = 0.00000010\n"
     ]
    },
    {
     "data": {
      "application/vnd.jupyter.widget-view+json": {
       "model_id": "96a2134e057e4a548731540ce1566348",
       "version_major": 2,
       "version_minor": 0
      },
      "text/plain": [
       "HBox(children=(FloatProgress(value=0.0, description='Batches', max=12.0, style=ProgressStyle(description_width…"
      ]
     },
     "metadata": {},
     "output_type": "display_data"
    },
    {
     "name": "stdout",
     "output_type": "stream",
     "text": [
      "\n",
      "Epoch =  19 Loss = 0.357514 LR = 0.00000010\n"
     ]
    },
    {
     "data": {
      "application/vnd.jupyter.widget-view+json": {
       "model_id": "56db1eb089e74ccdb990236750adb61e",
       "version_major": 2,
       "version_minor": 0
      },
      "text/plain": [
       "HBox(children=(FloatProgress(value=0.0, description='Batches', max=12.0, style=ProgressStyle(description_width…"
      ]
     },
     "metadata": {},
     "output_type": "display_data"
    },
    {
     "name": "stdout",
     "output_type": "stream",
     "text": [
      "\n",
      "Epoch =  20 Loss = 0.348290 LR = 0.00000009\n"
     ]
    },
    {
     "data": {
      "application/vnd.jupyter.widget-view+json": {
       "model_id": "653b155985f44cc7b262aabd7cafe130",
       "version_major": 2,
       "version_minor": 0
      },
      "text/plain": [
       "HBox(children=(FloatProgress(value=0.0, description='Batches', max=12.0, style=ProgressStyle(description_width…"
      ]
     },
     "metadata": {},
     "output_type": "display_data"
    },
    {
     "name": "stdout",
     "output_type": "stream",
     "text": [
      "\n",
      "Epoch =  21 Loss = 0.346723 LR = 0.00000009\n"
     ]
    },
    {
     "data": {
      "application/vnd.jupyter.widget-view+json": {
       "model_id": "adeff8a5a1ca4b3a83f1910a3cdfec46",
       "version_major": 2,
       "version_minor": 0
      },
      "text/plain": [
       "HBox(children=(FloatProgress(value=0.0, description='Batches', max=12.0, style=ProgressStyle(description_width…"
      ]
     },
     "metadata": {},
     "output_type": "display_data"
    },
    {
     "name": "stdout",
     "output_type": "stream",
     "text": [
      "\n",
      "Epoch =  22 Loss = 0.341159 LR = 0.00000009\n"
     ]
    },
    {
     "data": {
      "application/vnd.jupyter.widget-view+json": {
       "model_id": "8769475b4aca45c586e25f234c91fe33",
       "version_major": 2,
       "version_minor": 0
      },
      "text/plain": [
       "HBox(children=(FloatProgress(value=0.0, description='Batches', max=12.0, style=ProgressStyle(description_width…"
      ]
     },
     "metadata": {},
     "output_type": "display_data"
    },
    {
     "name": "stdout",
     "output_type": "stream",
     "text": [
      "\n",
      "Epoch =  23 Loss = 0.337749 LR = 0.00000008\n"
     ]
    },
    {
     "data": {
      "application/vnd.jupyter.widget-view+json": {
       "model_id": "4ecbb30c66fd47bfa1df2879312809ba",
       "version_major": 2,
       "version_minor": 0
      },
      "text/plain": [
       "HBox(children=(FloatProgress(value=0.0, description='Batches', max=12.0, style=ProgressStyle(description_width…"
      ]
     },
     "metadata": {},
     "output_type": "display_data"
    },
    {
     "name": "stdout",
     "output_type": "stream",
     "text": [
      "\n",
      "Epoch =  24 Loss = 0.334492 LR = 0.00000008\n"
     ]
    },
    {
     "data": {
      "application/vnd.jupyter.widget-view+json": {
       "model_id": "3f3c4e0c5d464019ac7a8bedae0a52b0",
       "version_major": 2,
       "version_minor": 0
      },
      "text/plain": [
       "HBox(children=(FloatProgress(value=0.0, description='Batches', max=12.0, style=ProgressStyle(description_width…"
      ]
     },
     "metadata": {},
     "output_type": "display_data"
    },
    {
     "name": "stdout",
     "output_type": "stream",
     "text": [
      "\n",
      "Epoch =  25 Loss = 0.332854 LR = 0.00000008\n"
     ]
    },
    {
     "data": {
      "application/vnd.jupyter.widget-view+json": {
       "model_id": "3770427048f646e6a53f3e488d4a131f",
       "version_major": 2,
       "version_minor": 0
      },
      "text/plain": [
       "HBox(children=(FloatProgress(value=0.0, description='Batches', max=12.0, style=ProgressStyle(description_width…"
      ]
     },
     "metadata": {},
     "output_type": "display_data"
    },
    {
     "name": "stdout",
     "output_type": "stream",
     "text": [
      "\n",
      "Epoch =  26 Loss = 0.339877 LR = 0.00000007\n"
     ]
    },
    {
     "data": {
      "application/vnd.jupyter.widget-view+json": {
       "model_id": "8579bd97793944bca5c379f1a7af09df",
       "version_major": 2,
       "version_minor": 0
      },
      "text/plain": [
       "HBox(children=(FloatProgress(value=0.0, description='Batches', max=12.0, style=ProgressStyle(description_width…"
      ]
     },
     "metadata": {},
     "output_type": "display_data"
    },
    {
     "name": "stdout",
     "output_type": "stream",
     "text": [
      "\n",
      "Epoch =  27 Loss = 0.334182 LR = 0.00000007\n"
     ]
    },
    {
     "data": {
      "application/vnd.jupyter.widget-view+json": {
       "model_id": "35149ec8ebd54335a2c660adc27a3320",
       "version_major": 2,
       "version_minor": 0
      },
      "text/plain": [
       "HBox(children=(FloatProgress(value=0.0, description='Batches', max=12.0, style=ProgressStyle(description_width…"
      ]
     },
     "metadata": {},
     "output_type": "display_data"
    },
    {
     "name": "stdout",
     "output_type": "stream",
     "text": [
      "\n",
      "Epoch =  28 Loss = 0.327006 LR = 0.00000006\n"
     ]
    },
    {
     "data": {
      "application/vnd.jupyter.widget-view+json": {
       "model_id": "62a2f2c4fbf0479991032df704407633",
       "version_major": 2,
       "version_minor": 0
      },
      "text/plain": [
       "HBox(children=(FloatProgress(value=0.0, description='Batches', max=12.0, style=ProgressStyle(description_width…"
      ]
     },
     "metadata": {},
     "output_type": "display_data"
    },
    {
     "name": "stdout",
     "output_type": "stream",
     "text": [
      "\n",
      "Epoch =  29 Loss = 0.325177 LR = 0.00000006\n"
     ]
    },
    {
     "data": {
      "application/vnd.jupyter.widget-view+json": {
       "model_id": "c7dad2f2f82845a694a55e6bf9c9dc60",
       "version_major": 2,
       "version_minor": 0
      },
      "text/plain": [
       "HBox(children=(FloatProgress(value=0.0, description='Batches', max=12.0, style=ProgressStyle(description_width…"
      ]
     },
     "metadata": {},
     "output_type": "display_data"
    },
    {
     "name": "stdout",
     "output_type": "stream",
     "text": [
      "\n",
      "Epoch =  30 Loss = 0.329125 LR = 0.00000006\n"
     ]
    },
    {
     "data": {
      "application/vnd.jupyter.widget-view+json": {
       "model_id": "37c54f60da69482c8d3aa77cdd3882b5",
       "version_major": 2,
       "version_minor": 0
      },
      "text/plain": [
       "HBox(children=(FloatProgress(value=0.0, description='Batches', max=12.0, style=ProgressStyle(description_width…"
      ]
     },
     "metadata": {},
     "output_type": "display_data"
    },
    {
     "name": "stdout",
     "output_type": "stream",
     "text": [
      "\n",
      "Epoch =  31 Loss = 0.326187 LR = 0.00000005\n"
     ]
    },
    {
     "data": {
      "application/vnd.jupyter.widget-view+json": {
       "model_id": "1ce5895c6e994e56ae5c3ee2461c585a",
       "version_major": 2,
       "version_minor": 0
      },
      "text/plain": [
       "HBox(children=(FloatProgress(value=0.0, description='Generate Predictions', max=24.0, style=ProgressStyle(desc…"
      ]
     },
     "metadata": {},
     "output_type": "display_data"
    },
    {
     "name": "stdout",
     "output_type": "stream",
     "text": [
      "\n"
     ]
    },
    {
     "data": {
      "application/vnd.jupyter.widget-view+json": {
       "model_id": "3a4ab6e75df646208fc497ba9ef224b7",
       "version_major": 2,
       "version_minor": 0
      },
      "text/plain": [
       "HBox(children=(FloatProgress(value=0.0, description='Generate Predictions', max=2.0, style=ProgressStyle(descr…"
      ]
     },
     "metadata": {},
     "output_type": "display_data"
    },
    {
     "name": "stdout",
     "output_type": "stream",
     "text": [
      "\n"
     ]
    },
    {
     "data": {
      "text/html": [
       "<div>\n",
       "<style scoped>\n",
       "    .dataframe tbody tr th:only-of-type {\n",
       "        vertical-align: middle;\n",
       "    }\n",
       "\n",
       "    .dataframe tbody tr th {\n",
       "        vertical-align: top;\n",
       "    }\n",
       "\n",
       "    .dataframe thead tr th {\n",
       "        text-align: left;\n",
       "    }\n",
       "\n",
       "    .dataframe thead tr:last-of-type th {\n",
       "        text-align: right;\n",
       "    }\n",
       "</style>\n",
       "<table border=\"1\" class=\"dataframe\">\n",
       "  <thead>\n",
       "    <tr>\n",
       "      <th></th>\n",
       "      <th colspan=\"2\" halign=\"left\">Proba</th>\n",
       "      <th colspan=\"2\" halign=\"left\">Preds</th>\n",
       "    </tr>\n",
       "    <tr>\n",
       "      <th></th>\n",
       "      <th>min</th>\n",
       "      <th>max</th>\n",
       "      <th>min</th>\n",
       "      <th>max</th>\n",
       "    </tr>\n",
       "    <tr>\n",
       "      <th>Labels</th>\n",
       "      <th></th>\n",
       "      <th></th>\n",
       "      <th></th>\n",
       "      <th></th>\n",
       "    </tr>\n",
       "  </thead>\n",
       "  <tbody>\n",
       "    <tr>\n",
       "      <th>0</th>\n",
       "      <td>0.072</td>\n",
       "      <td>0.570</td>\n",
       "      <td>0</td>\n",
       "      <td>1</td>\n",
       "    </tr>\n",
       "    <tr>\n",
       "      <th>1</th>\n",
       "      <td>0.141</td>\n",
       "      <td>0.580</td>\n",
       "      <td>0</td>\n",
       "      <td>1</td>\n",
       "    </tr>\n",
       "  </tbody>\n",
       "</table>\n",
       "</div>"
      ],
      "text/plain": [
       "       Proba       Preds    \n",
       "         min   max   min max\n",
       "Labels                      \n",
       "0      0.072 0.570     0   1\n",
       "1      0.141 0.580     0   1"
      ]
     },
     "metadata": {},
     "output_type": "display_data"
    },
    {
     "data": {
      "text/html": [
       "<div>\n",
       "<style scoped>\n",
       "    .dataframe tbody tr th:only-of-type {\n",
       "        vertical-align: middle;\n",
       "    }\n",
       "\n",
       "    .dataframe tbody tr th {\n",
       "        vertical-align: top;\n",
       "    }\n",
       "\n",
       "    .dataframe thead th {\n",
       "        text-align: right;\n",
       "    }\n",
       "</style>\n",
       "<table border=\"1\" class=\"dataframe\">\n",
       "  <thead>\n",
       "    <tr style=\"text-align: right;\">\n",
       "      <th></th>\n",
       "      <th>Proba</th>\n",
       "      <th>Probas</th>\n",
       "      <th>Preds</th>\n",
       "      <th>Labels</th>\n",
       "      <th>Proba</th>\n",
       "      <th>Probas</th>\n",
       "      <th>Preds</th>\n",
       "      <th>Labels</th>\n",
       "      <th>Proba</th>\n",
       "      <th>Probas</th>\n",
       "      <th>Preds</th>\n",
       "      <th>Labels</th>\n",
       "    </tr>\n",
       "  </thead>\n",
       "  <tbody>\n",
       "    <tr>\n",
       "      <th>0</th>\n",
       "      <td>0.213</td>\n",
       "      <td>[0.7872404456138611, 0.2127595841884613]</td>\n",
       "      <td>0</td>\n",
       "      <td>0</td>\n",
       "      <td>0.422</td>\n",
       "      <td>[0.5778605341911316, 0.4221394658088684]</td>\n",
       "      <td>0</td>\n",
       "      <td>0</td>\n",
       "      <td>0.415</td>\n",
       "      <td>[0.5851396322250366, 0.41486039757728577]</td>\n",
       "      <td>0</td>\n",
       "      <td>0</td>\n",
       "    </tr>\n",
       "    <tr>\n",
       "      <th>1</th>\n",
       "      <td>0.494</td>\n",
       "      <td>[0.5056682229042053, 0.49433183670043945]</td>\n",
       "      <td>0</td>\n",
       "      <td>1</td>\n",
       "      <td>0.481</td>\n",
       "      <td>[0.5189900398254395, 0.48100998997688293]</td>\n",
       "      <td>0</td>\n",
       "      <td>1</td>\n",
       "      <td>0.420</td>\n",
       "      <td>[0.5797954201698303, 0.42020466923713684]</td>\n",
       "      <td>0</td>\n",
       "      <td>0</td>\n",
       "    </tr>\n",
       "    <tr>\n",
       "      <th>2</th>\n",
       "      <td>0.475</td>\n",
       "      <td>[0.5254788994789124, 0.47452113032341003]</td>\n",
       "      <td>0</td>\n",
       "      <td>0</td>\n",
       "      <td>0.354</td>\n",
       "      <td>[0.6461704969406128, 0.353829562664032]</td>\n",
       "      <td>0</td>\n",
       "      <td>1</td>\n",
       "      <td>0.526</td>\n",
       "      <td>[0.47382619976997375, 0.5261738896369934]</td>\n",
       "      <td>1</td>\n",
       "      <td>0</td>\n",
       "    </tr>\n",
       "    <tr>\n",
       "      <th>3</th>\n",
       "      <td>0.479</td>\n",
       "      <td>[0.5214900970458984, 0.47850990295410156]</td>\n",
       "      <td>0</td>\n",
       "      <td>1</td>\n",
       "      <td>0.494</td>\n",
       "      <td>[0.5063291192054749, 0.49367091059684753]</td>\n",
       "      <td>0</td>\n",
       "      <td>0</td>\n",
       "      <td>0.460</td>\n",
       "      <td>[0.5399042367935181, 0.4600957930088043]</td>\n",
       "      <td>0</td>\n",
       "      <td>1</td>\n",
       "    </tr>\n",
       "    <tr>\n",
       "      <th>4</th>\n",
       "      <td>0.451</td>\n",
       "      <td>[0.5491696000099182, 0.4508303701877594]</td>\n",
       "      <td>0</td>\n",
       "      <td>1</td>\n",
       "      <td>0.504</td>\n",
       "      <td>[0.4956133961677551, 0.5043866038322449]</td>\n",
       "      <td>1</td>\n",
       "      <td>0</td>\n",
       "      <td>0.467</td>\n",
       "      <td>[0.5325141549110413, 0.4674859046936035]</td>\n",
       "      <td>0</td>\n",
       "      <td>0</td>\n",
       "    </tr>\n",
       "  </tbody>\n",
       "</table>\n",
       "</div>"
      ],
      "text/plain": [
       "  Proba                                     Probas Preds Labels Proba  \\\n",
       "0 0.213   [0.7872404456138611, 0.2127595841884613]     0      0 0.422   \n",
       "1 0.494  [0.5056682229042053, 0.49433183670043945]     0      1 0.481   \n",
       "2 0.475  [0.5254788994789124, 0.47452113032341003]     0      0 0.354   \n",
       "3 0.479  [0.5214900970458984, 0.47850990295410156]     0      1 0.494   \n",
       "4 0.451   [0.5491696000099182, 0.4508303701877594]     0      1 0.504   \n",
       "\n",
       "                                      Probas Preds Labels Proba  \\\n",
       "0   [0.5778605341911316, 0.4221394658088684]     0      0 0.415   \n",
       "1  [0.5189900398254395, 0.48100998997688293]     0      1 0.420   \n",
       "2    [0.6461704969406128, 0.353829562664032]     0      1 0.526   \n",
       "3  [0.5063291192054749, 0.49367091059684753]     0      0 0.460   \n",
       "4   [0.4956133961677551, 0.5043866038322449]     1      0 0.467   \n",
       "\n",
       "                                      Probas Preds Labels  \n",
       "0  [0.5851396322250366, 0.41486039757728577]     0      0  \n",
       "1  [0.5797954201698303, 0.42020466923713684]     0      0  \n",
       "2  [0.47382619976997375, 0.5261738896369934]     1      0  \n",
       "3   [0.5399042367935181, 0.4600957930088043]     0      1  \n",
       "4   [0.5325141549110413, 0.4674859046936035]     0      0  "
      ]
     },
     "metadata": {},
     "output_type": "display_data"
    },
    {
     "name": "stdout",
     "output_type": "stream",
     "text": [
      "scores =  {'map': '0.6089', 'acc': '0.5460', 'auc': '0.6251'}\n",
      "Epoch =  31 Train = 0.779935 Val = 0.625056\n"
     ]
    },
    {
     "data": {
      "application/vnd.jupyter.widget-view+json": {
       "model_id": "49060b864d844b2cb93dccea43ffac2b",
       "version_major": 2,
       "version_minor": 0
      },
      "text/plain": [
       "HBox(children=(FloatProgress(value=0.0, description='Batches', max=12.0, style=ProgressStyle(description_width…"
      ]
     },
     "metadata": {},
     "output_type": "display_data"
    },
    {
     "name": "stdout",
     "output_type": "stream",
     "text": [
      "\n",
      "Epoch =  32 Loss = 0.325384 LR = 0.00000005\n"
     ]
    },
    {
     "data": {
      "application/vnd.jupyter.widget-view+json": {
       "model_id": "98710c87a8364e94937f1ef578edf606",
       "version_major": 2,
       "version_minor": 0
      },
      "text/plain": [
       "HBox(children=(FloatProgress(value=0.0, description='Batches', max=12.0, style=ProgressStyle(description_width…"
      ]
     },
     "metadata": {},
     "output_type": "display_data"
    },
    {
     "name": "stdout",
     "output_type": "stream",
     "text": [
      "\n",
      "Epoch =  33 Loss = 0.318821 LR = 0.00000004\n"
     ]
    },
    {
     "data": {
      "application/vnd.jupyter.widget-view+json": {
       "model_id": "55aea73156824f559590dc179b86d5e8",
       "version_major": 2,
       "version_minor": 0
      },
      "text/plain": [
       "HBox(children=(FloatProgress(value=0.0, description='Batches', max=12.0, style=ProgressStyle(description_width…"
      ]
     },
     "metadata": {},
     "output_type": "display_data"
    },
    {
     "name": "stdout",
     "output_type": "stream",
     "text": [
      "\n",
      "Epoch =  34 Loss = 0.322382 LR = 0.00000004\n"
     ]
    },
    {
     "data": {
      "application/vnd.jupyter.widget-view+json": {
       "model_id": "5cd3bd09be9f4cf89de2099f8301a37d",
       "version_major": 2,
       "version_minor": 0
      },
      "text/plain": [
       "HBox(children=(FloatProgress(value=0.0, description='Generate Predictions', max=24.0, style=ProgressStyle(desc…"
      ]
     },
     "metadata": {},
     "output_type": "display_data"
    },
    {
     "name": "stdout",
     "output_type": "stream",
     "text": [
      "\n"
     ]
    },
    {
     "data": {
      "application/vnd.jupyter.widget-view+json": {
       "model_id": "01aa1f777c0f45e9b026616e0bc63746",
       "version_major": 2,
       "version_minor": 0
      },
      "text/plain": [
       "HBox(children=(FloatProgress(value=0.0, description='Generate Predictions', max=2.0, style=ProgressStyle(descr…"
      ]
     },
     "metadata": {},
     "output_type": "display_data"
    },
    {
     "name": "stdout",
     "output_type": "stream",
     "text": [
      "\n"
     ]
    },
    {
     "data": {
      "text/html": [
       "<div>\n",
       "<style scoped>\n",
       "    .dataframe tbody tr th:only-of-type {\n",
       "        vertical-align: middle;\n",
       "    }\n",
       "\n",
       "    .dataframe tbody tr th {\n",
       "        vertical-align: top;\n",
       "    }\n",
       "\n",
       "    .dataframe thead tr th {\n",
       "        text-align: left;\n",
       "    }\n",
       "\n",
       "    .dataframe thead tr:last-of-type th {\n",
       "        text-align: right;\n",
       "    }\n",
       "</style>\n",
       "<table border=\"1\" class=\"dataframe\">\n",
       "  <thead>\n",
       "    <tr>\n",
       "      <th></th>\n",
       "      <th colspan=\"2\" halign=\"left\">Proba</th>\n",
       "      <th colspan=\"2\" halign=\"left\">Preds</th>\n",
       "    </tr>\n",
       "    <tr>\n",
       "      <th></th>\n",
       "      <th>min</th>\n",
       "      <th>max</th>\n",
       "      <th>min</th>\n",
       "      <th>max</th>\n",
       "    </tr>\n",
       "    <tr>\n",
       "      <th>Labels</th>\n",
       "      <th></th>\n",
       "      <th></th>\n",
       "      <th></th>\n",
       "      <th></th>\n",
       "    </tr>\n",
       "  </thead>\n",
       "  <tbody>\n",
       "    <tr>\n",
       "      <th>0</th>\n",
       "      <td>0.095</td>\n",
       "      <td>0.609</td>\n",
       "      <td>0</td>\n",
       "      <td>1</td>\n",
       "    </tr>\n",
       "    <tr>\n",
       "      <th>1</th>\n",
       "      <td>0.157</td>\n",
       "      <td>0.626</td>\n",
       "      <td>0</td>\n",
       "      <td>1</td>\n",
       "    </tr>\n",
       "  </tbody>\n",
       "</table>\n",
       "</div>"
      ],
      "text/plain": [
       "       Proba       Preds    \n",
       "         min   max   min max\n",
       "Labels                      \n",
       "0      0.095 0.609     0   1\n",
       "1      0.157 0.626     0   1"
      ]
     },
     "metadata": {},
     "output_type": "display_data"
    },
    {
     "data": {
      "text/html": [
       "<div>\n",
       "<style scoped>\n",
       "    .dataframe tbody tr th:only-of-type {\n",
       "        vertical-align: middle;\n",
       "    }\n",
       "\n",
       "    .dataframe tbody tr th {\n",
       "        vertical-align: top;\n",
       "    }\n",
       "\n",
       "    .dataframe thead th {\n",
       "        text-align: right;\n",
       "    }\n",
       "</style>\n",
       "<table border=\"1\" class=\"dataframe\">\n",
       "  <thead>\n",
       "    <tr style=\"text-align: right;\">\n",
       "      <th></th>\n",
       "      <th>Proba</th>\n",
       "      <th>Probas</th>\n",
       "      <th>Preds</th>\n",
       "      <th>Labels</th>\n",
       "      <th>Proba</th>\n",
       "      <th>Probas</th>\n",
       "      <th>Preds</th>\n",
       "      <th>Labels</th>\n",
       "      <th>Proba</th>\n",
       "      <th>Probas</th>\n",
       "      <th>Preds</th>\n",
       "      <th>Labels</th>\n",
       "    </tr>\n",
       "  </thead>\n",
       "  <tbody>\n",
       "    <tr>\n",
       "      <th>0</th>\n",
       "      <td>0.508</td>\n",
       "      <td>[0.4923440217971802, 0.5076559782028198]</td>\n",
       "      <td>1</td>\n",
       "      <td>1</td>\n",
       "      <td>0.329</td>\n",
       "      <td>[0.6707705855369568, 0.3292294442653656]</td>\n",
       "      <td>0</td>\n",
       "      <td>1</td>\n",
       "      <td>0.517</td>\n",
       "      <td>[0.4828476309776306, 0.5171523690223694]</td>\n",
       "      <td>1</td>\n",
       "      <td>1</td>\n",
       "    </tr>\n",
       "    <tr>\n",
       "      <th>1</th>\n",
       "      <td>0.487</td>\n",
       "      <td>[0.5126412510871887, 0.48735880851745605]</td>\n",
       "      <td>0</td>\n",
       "      <td>1</td>\n",
       "      <td>0.530</td>\n",
       "      <td>[0.4699740707874298, 0.5300258994102478]</td>\n",
       "      <td>1</td>\n",
       "      <td>0</td>\n",
       "      <td>0.378</td>\n",
       "      <td>[0.6218031644821167, 0.3781968057155609]</td>\n",
       "      <td>0</td>\n",
       "      <td>0</td>\n",
       "    </tr>\n",
       "    <tr>\n",
       "      <th>2</th>\n",
       "      <td>0.506</td>\n",
       "      <td>[0.49389776587486267, 0.5061022639274597]</td>\n",
       "      <td>1</td>\n",
       "      <td>0</td>\n",
       "      <td>0.455</td>\n",
       "      <td>[0.5452865958213806, 0.45471349358558655]</td>\n",
       "      <td>0</td>\n",
       "      <td>0</td>\n",
       "      <td>0.285</td>\n",
       "      <td>[0.7152751684188843, 0.2847249209880829]</td>\n",
       "      <td>0</td>\n",
       "      <td>0</td>\n",
       "    </tr>\n",
       "    <tr>\n",
       "      <th>3</th>\n",
       "      <td>0.384</td>\n",
       "      <td>[0.6159346103668213, 0.3840654194355011]</td>\n",
       "      <td>0</td>\n",
       "      <td>0</td>\n",
       "      <td>0.600</td>\n",
       "      <td>[0.4002881944179535, 0.5997118949890137]</td>\n",
       "      <td>1</td>\n",
       "      <td>0</td>\n",
       "      <td>0.439</td>\n",
       "      <td>[0.5606936812400818, 0.4393063187599182]</td>\n",
       "      <td>0</td>\n",
       "      <td>0</td>\n",
       "    </tr>\n",
       "    <tr>\n",
       "      <th>4</th>\n",
       "      <td>0.115</td>\n",
       "      <td>[0.8845508098602295, 0.1154492050409317]</td>\n",
       "      <td>0</td>\n",
       "      <td>0</td>\n",
       "      <td>0.503</td>\n",
       "      <td>[0.49714961647987366, 0.5028504133224487]</td>\n",
       "      <td>1</td>\n",
       "      <td>0</td>\n",
       "      <td>0.381</td>\n",
       "      <td>[0.6193755269050598, 0.3806244730949402]</td>\n",
       "      <td>0</td>\n",
       "      <td>1</td>\n",
       "    </tr>\n",
       "  </tbody>\n",
       "</table>\n",
       "</div>"
      ],
      "text/plain": [
       "  Proba                                     Probas Preds Labels Proba  \\\n",
       "0 0.508   [0.4923440217971802, 0.5076559782028198]     1      1 0.329   \n",
       "1 0.487  [0.5126412510871887, 0.48735880851745605]     0      1 0.530   \n",
       "2 0.506  [0.49389776587486267, 0.5061022639274597]     1      0 0.455   \n",
       "3 0.384   [0.6159346103668213, 0.3840654194355011]     0      0 0.600   \n",
       "4 0.115   [0.8845508098602295, 0.1154492050409317]     0      0 0.503   \n",
       "\n",
       "                                      Probas Preds Labels Proba  \\\n",
       "0   [0.6707705855369568, 0.3292294442653656]     0      1 0.517   \n",
       "1   [0.4699740707874298, 0.5300258994102478]     1      0 0.378   \n",
       "2  [0.5452865958213806, 0.45471349358558655]     0      0 0.285   \n",
       "3   [0.4002881944179535, 0.5997118949890137]     1      0 0.439   \n",
       "4  [0.49714961647987366, 0.5028504133224487]     1      0 0.381   \n",
       "\n",
       "                                     Probas Preds Labels  \n",
       "0  [0.4828476309776306, 0.5171523690223694]     1      1  \n",
       "1  [0.6218031644821167, 0.3781968057155609]     0      0  \n",
       "2  [0.7152751684188843, 0.2847249209880829]     0      0  \n",
       "3  [0.5606936812400818, 0.4393063187599182]     0      0  \n",
       "4  [0.6193755269050598, 0.3806244730949402]     0      1  "
      ]
     },
     "metadata": {},
     "output_type": "display_data"
    },
    {
     "name": "stdout",
     "output_type": "stream",
     "text": [
      "scores =  {'map': '0.5891', 'acc': '0.5560', 'auc': '0.6111'}\n",
      "Epoch =  34 Train = 0.780952 Val = 0.611096\n"
     ]
    },
    {
     "data": {
      "application/vnd.jupyter.widget-view+json": {
       "model_id": "a588a5a419254c04b245ed240f37182a",
       "version_major": 2,
       "version_minor": 0
      },
      "text/plain": [
       "HBox(children=(FloatProgress(value=0.0, description='Batches', max=12.0, style=ProgressStyle(description_width…"
      ]
     },
     "metadata": {},
     "output_type": "display_data"
    },
    {
     "name": "stdout",
     "output_type": "stream",
     "text": [
      "\n",
      "Epoch =  35 Loss = 0.319285 LR = 0.00000003\n"
     ]
    },
    {
     "data": {
      "application/vnd.jupyter.widget-view+json": {
       "model_id": "000c52cd20da43d79e728f1bcfca289d",
       "version_major": 2,
       "version_minor": 0
      },
      "text/plain": [
       "HBox(children=(FloatProgress(value=0.0, description='Batches', max=12.0, style=ProgressStyle(description_width…"
      ]
     },
     "metadata": {},
     "output_type": "display_data"
    },
    {
     "name": "stdout",
     "output_type": "stream",
     "text": [
      "\n",
      "Epoch =  36 Loss = 0.316662 LR = 0.00000003\n"
     ]
    },
    {
     "data": {
      "application/vnd.jupyter.widget-view+json": {
       "model_id": "89e32d76bca94b60b44a55661d292051",
       "version_major": 2,
       "version_minor": 0
      },
      "text/plain": [
       "HBox(children=(FloatProgress(value=0.0, description='Batches', max=12.0, style=ProgressStyle(description_width…"
      ]
     },
     "metadata": {},
     "output_type": "display_data"
    },
    {
     "name": "stdout",
     "output_type": "stream",
     "text": [
      "\n",
      "Epoch =  37 Loss = 0.313579 LR = 0.00000002\n"
     ]
    },
    {
     "data": {
      "application/vnd.jupyter.widget-view+json": {
       "model_id": "f509732acd6a4dcba5cb08cc8161f199",
       "version_major": 2,
       "version_minor": 0
      },
      "text/plain": [
       "HBox(children=(FloatProgress(value=0.0, description='Batches', max=12.0, style=ProgressStyle(description_width…"
      ]
     },
     "metadata": {},
     "output_type": "display_data"
    },
    {
     "name": "stdout",
     "output_type": "stream",
     "text": [
      "\n",
      "Epoch =  38 Loss = 0.313909 LR = 0.00000002\n"
     ]
    },
    {
     "data": {
      "application/vnd.jupyter.widget-view+json": {
       "model_id": "841a86693960447d8c04ec44171cf4c4",
       "version_major": 2,
       "version_minor": 0
      },
      "text/plain": [
       "HBox(children=(FloatProgress(value=0.0, description='Batches', max=12.0, style=ProgressStyle(description_width…"
      ]
     },
     "metadata": {},
     "output_type": "display_data"
    },
    {
     "name": "stdout",
     "output_type": "stream",
     "text": [
      "\n",
      "Epoch =  39 Loss = 0.311739 LR = 0.00000002\n"
     ]
    },
    {
     "data": {
      "application/vnd.jupyter.widget-view+json": {
       "model_id": "a713176e39ba41a196d72a2ad4413516",
       "version_major": 2,
       "version_minor": 0
      },
      "text/plain": [
       "HBox(children=(FloatProgress(value=0.0, description='Batches', max=12.0, style=ProgressStyle(description_width…"
      ]
     },
     "metadata": {},
     "output_type": "display_data"
    },
    {
     "name": "stdout",
     "output_type": "stream",
     "text": [
      "\n",
      "Epoch =  40 Loss = 0.311923 LR = 0.00000001\n"
     ]
    },
    {
     "data": {
      "application/vnd.jupyter.widget-view+json": {
       "model_id": "664b398258f7423b84e7e378e8e19556",
       "version_major": 2,
       "version_minor": 0
      },
      "text/plain": [
       "HBox(children=(FloatProgress(value=0.0, description='Batches', max=12.0, style=ProgressStyle(description_width…"
      ]
     },
     "metadata": {},
     "output_type": "display_data"
    },
    {
     "name": "stdout",
     "output_type": "stream",
     "text": [
      "\n",
      "Epoch =  41 Loss = 0.313768 LR = 0.00000001\n"
     ]
    },
    {
     "data": {
      "application/vnd.jupyter.widget-view+json": {
       "model_id": "140dd2ddffe24fd8ba6796f95996f934",
       "version_major": 2,
       "version_minor": 0
      },
      "text/plain": [
       "HBox(children=(FloatProgress(value=0.0, description='Batches', max=12.0, style=ProgressStyle(description_width…"
      ]
     },
     "metadata": {},
     "output_type": "display_data"
    },
    {
     "name": "stdout",
     "output_type": "stream",
     "text": [
      "\n",
      "Epoch =  42 Loss = 0.310999 LR = 0.00000001\n"
     ]
    },
    {
     "data": {
      "application/vnd.jupyter.widget-view+json": {
       "model_id": "ad0ceee110b7415791059afeddaaa285",
       "version_major": 2,
       "version_minor": 0
      },
      "text/plain": [
       "HBox(children=(FloatProgress(value=0.0, description='Generate Predictions', max=24.0, style=ProgressStyle(desc…"
      ]
     },
     "metadata": {},
     "output_type": "display_data"
    },
    {
     "name": "stdout",
     "output_type": "stream",
     "text": [
      "\n"
     ]
    },
    {
     "data": {
      "application/vnd.jupyter.widget-view+json": {
       "model_id": "ec79ffdf8d894291870c9eeba863d6dc",
       "version_major": 2,
       "version_minor": 0
      },
      "text/plain": [
       "HBox(children=(FloatProgress(value=0.0, description='Generate Predictions', max=2.0, style=ProgressStyle(descr…"
      ]
     },
     "metadata": {},
     "output_type": "display_data"
    },
    {
     "name": "stdout",
     "output_type": "stream",
     "text": [
      "\n"
     ]
    },
    {
     "data": {
      "text/html": [
       "<div>\n",
       "<style scoped>\n",
       "    .dataframe tbody tr th:only-of-type {\n",
       "        vertical-align: middle;\n",
       "    }\n",
       "\n",
       "    .dataframe tbody tr th {\n",
       "        vertical-align: top;\n",
       "    }\n",
       "\n",
       "    .dataframe thead tr th {\n",
       "        text-align: left;\n",
       "    }\n",
       "\n",
       "    .dataframe thead tr:last-of-type th {\n",
       "        text-align: right;\n",
       "    }\n",
       "</style>\n",
       "<table border=\"1\" class=\"dataframe\">\n",
       "  <thead>\n",
       "    <tr>\n",
       "      <th></th>\n",
       "      <th colspan=\"2\" halign=\"left\">Proba</th>\n",
       "      <th colspan=\"2\" halign=\"left\">Preds</th>\n",
       "    </tr>\n",
       "    <tr>\n",
       "      <th></th>\n",
       "      <th>min</th>\n",
       "      <th>max</th>\n",
       "      <th>min</th>\n",
       "      <th>max</th>\n",
       "    </tr>\n",
       "    <tr>\n",
       "      <th>Labels</th>\n",
       "      <th></th>\n",
       "      <th></th>\n",
       "      <th></th>\n",
       "      <th></th>\n",
       "    </tr>\n",
       "  </thead>\n",
       "  <tbody>\n",
       "    <tr>\n",
       "      <th>0</th>\n",
       "      <td>0.115</td>\n",
       "      <td>0.649</td>\n",
       "      <td>0</td>\n",
       "      <td>1</td>\n",
       "    </tr>\n",
       "    <tr>\n",
       "      <th>1</th>\n",
       "      <td>0.170</td>\n",
       "      <td>0.661</td>\n",
       "      <td>0</td>\n",
       "      <td>1</td>\n",
       "    </tr>\n",
       "  </tbody>\n",
       "</table>\n",
       "</div>"
      ],
      "text/plain": [
       "       Proba       Preds    \n",
       "         min   max   min max\n",
       "Labels                      \n",
       "0      0.115 0.649     0   1\n",
       "1      0.170 0.661     0   1"
      ]
     },
     "metadata": {},
     "output_type": "display_data"
    },
    {
     "data": {
      "text/html": [
       "<div>\n",
       "<style scoped>\n",
       "    .dataframe tbody tr th:only-of-type {\n",
       "        vertical-align: middle;\n",
       "    }\n",
       "\n",
       "    .dataframe tbody tr th {\n",
       "        vertical-align: top;\n",
       "    }\n",
       "\n",
       "    .dataframe thead th {\n",
       "        text-align: right;\n",
       "    }\n",
       "</style>\n",
       "<table border=\"1\" class=\"dataframe\">\n",
       "  <thead>\n",
       "    <tr style=\"text-align: right;\">\n",
       "      <th></th>\n",
       "      <th>Proba</th>\n",
       "      <th>Probas</th>\n",
       "      <th>Preds</th>\n",
       "      <th>Labels</th>\n",
       "      <th>Proba</th>\n",
       "      <th>Probas</th>\n",
       "      <th>Preds</th>\n",
       "      <th>Labels</th>\n",
       "      <th>Proba</th>\n",
       "      <th>Probas</th>\n",
       "      <th>Preds</th>\n",
       "      <th>Labels</th>\n",
       "    </tr>\n",
       "  </thead>\n",
       "  <tbody>\n",
       "    <tr>\n",
       "      <th>0</th>\n",
       "      <td>0.466</td>\n",
       "      <td>[0.5343939065933228, 0.46560612320899963]</td>\n",
       "      <td>0</td>\n",
       "      <td>0</td>\n",
       "      <td>0.295</td>\n",
       "      <td>[0.704501748085022, 0.2954983115196228]</td>\n",
       "      <td>0</td>\n",
       "      <td>1</td>\n",
       "      <td>0.461</td>\n",
       "      <td>[0.5392455458641052, 0.4607544541358948]</td>\n",
       "      <td>0</td>\n",
       "      <td>1</td>\n",
       "    </tr>\n",
       "    <tr>\n",
       "      <th>1</th>\n",
       "      <td>0.505</td>\n",
       "      <td>[0.49506014585494995, 0.5049399137496948]</td>\n",
       "      <td>1</td>\n",
       "      <td>1</td>\n",
       "      <td>0.543</td>\n",
       "      <td>[0.4572490453720093, 0.5427509546279907]</td>\n",
       "      <td>1</td>\n",
       "      <td>0</td>\n",
       "      <td>0.519</td>\n",
       "      <td>[0.4810548722743988, 0.5189451575279236]</td>\n",
       "      <td>1</td>\n",
       "      <td>0</td>\n",
       "    </tr>\n",
       "    <tr>\n",
       "      <th>2</th>\n",
       "      <td>0.515</td>\n",
       "      <td>[0.4845357835292816, 0.5154642462730408]</td>\n",
       "      <td>1</td>\n",
       "      <td>1</td>\n",
       "      <td>0.356</td>\n",
       "      <td>[0.6441943645477295, 0.35580572485923767]</td>\n",
       "      <td>0</td>\n",
       "      <td>0</td>\n",
       "      <td>0.324</td>\n",
       "      <td>[0.675918459892273, 0.32408156991004944]</td>\n",
       "      <td>0</td>\n",
       "      <td>0</td>\n",
       "    </tr>\n",
       "    <tr>\n",
       "      <th>3</th>\n",
       "      <td>0.569</td>\n",
       "      <td>[0.4310528337955475, 0.5689471960067749]</td>\n",
       "      <td>1</td>\n",
       "      <td>0</td>\n",
       "      <td>0.584</td>\n",
       "      <td>[0.415558397769928, 0.5844416618347168]</td>\n",
       "      <td>1</td>\n",
       "      <td>0</td>\n",
       "      <td>0.520</td>\n",
       "      <td>[0.47958993911743164, 0.5204100608825684]</td>\n",
       "      <td>1</td>\n",
       "      <td>0</td>\n",
       "    </tr>\n",
       "    <tr>\n",
       "      <th>4</th>\n",
       "      <td>0.506</td>\n",
       "      <td>[0.4940480589866638, 0.505952000617981]</td>\n",
       "      <td>1</td>\n",
       "      <td>1</td>\n",
       "      <td>0.568</td>\n",
       "      <td>[0.43249645829200745, 0.5675035119056702]</td>\n",
       "      <td>1</td>\n",
       "      <td>1</td>\n",
       "      <td>0.440</td>\n",
       "      <td>[0.5595294237136841, 0.4404706060886383]</td>\n",
       "      <td>0</td>\n",
       "      <td>0</td>\n",
       "    </tr>\n",
       "  </tbody>\n",
       "</table>\n",
       "</div>"
      ],
      "text/plain": [
       "  Proba                                     Probas Preds Labels Proba  \\\n",
       "0 0.466  [0.5343939065933228, 0.46560612320899963]     0      0 0.295   \n",
       "1 0.505  [0.49506014585494995, 0.5049399137496948]     1      1 0.543   \n",
       "2 0.515   [0.4845357835292816, 0.5154642462730408]     1      1 0.356   \n",
       "3 0.569   [0.4310528337955475, 0.5689471960067749]     1      0 0.584   \n",
       "4 0.506    [0.4940480589866638, 0.505952000617981]     1      1 0.568   \n",
       "\n",
       "                                      Probas Preds Labels Proba  \\\n",
       "0    [0.704501748085022, 0.2954983115196228]     0      1 0.461   \n",
       "1   [0.4572490453720093, 0.5427509546279907]     1      0 0.519   \n",
       "2  [0.6441943645477295, 0.35580572485923767]     0      0 0.324   \n",
       "3    [0.415558397769928, 0.5844416618347168]     1      0 0.520   \n",
       "4  [0.43249645829200745, 0.5675035119056702]     1      1 0.440   \n",
       "\n",
       "                                      Probas Preds Labels  \n",
       "0   [0.5392455458641052, 0.4607544541358948]     0      1  \n",
       "1   [0.4810548722743988, 0.5189451575279236]     1      0  \n",
       "2   [0.675918459892273, 0.32408156991004944]     0      0  \n",
       "3  [0.47958993911743164, 0.5204100608825684]     1      0  \n",
       "4   [0.5595294237136841, 0.4404706060886383]     0      0  "
      ]
     },
     "metadata": {},
     "output_type": "display_data"
    },
    {
     "name": "stdout",
     "output_type": "stream",
     "text": [
      "scores =  {'map': '0.5890', 'acc': '0.5800', 'auc': '0.6182'}\n",
      "Epoch =  42 Train = 0.789715 Val = 0.618168\n"
     ]
    },
    {
     "data": {
      "application/vnd.jupyter.widget-view+json": {
       "model_id": "3f21e7bc10f84c9eb2d4954c6736bb8c",
       "version_major": 2,
       "version_minor": 0
      },
      "text/plain": [
       "HBox(children=(FloatProgress(value=0.0, description='Batches', max=12.0, style=ProgressStyle(description_width…"
      ]
     },
     "metadata": {},
     "output_type": "display_data"
    },
    {
     "name": "stdout",
     "output_type": "stream",
     "text": [
      "\n",
      "Epoch =  43 Loss = 0.310799 LR = 0.00000001\n"
     ]
    },
    {
     "data": {
      "application/vnd.jupyter.widget-view+json": {
       "model_id": "e242db362ab948baa42369b9d8f31145",
       "version_major": 2,
       "version_minor": 0
      },
      "text/plain": [
       "HBox(children=(FloatProgress(value=0.0, description='Batches', max=12.0, style=ProgressStyle(description_width…"
      ]
     },
     "metadata": {},
     "output_type": "display_data"
    },
    {
     "name": "stdout",
     "output_type": "stream",
     "text": [
      "\n",
      "Epoch =  44 Loss = 0.312568 LR = 0.00000000\n"
     ]
    },
    {
     "data": {
      "application/vnd.jupyter.widget-view+json": {
       "model_id": "12cffbafd5824d0b87b3ec0307f1dfe6",
       "version_major": 2,
       "version_minor": 0
      },
      "text/plain": [
       "HBox(children=(FloatProgress(value=0.0, description='Batches', max=12.0, style=ProgressStyle(description_width…"
      ]
     },
     "metadata": {},
     "output_type": "display_data"
    },
    {
     "name": "stdout",
     "output_type": "stream",
     "text": [
      "\n",
      "Epoch =  45 Loss = 0.305018 LR = 0.00000000\n"
     ]
    },
    {
     "data": {
      "application/vnd.jupyter.widget-view+json": {
       "model_id": "49786885416f4530bdbd20465c2cb825",
       "version_major": 2,
       "version_minor": 0
      },
      "text/plain": [
       "HBox(children=(FloatProgress(value=0.0, description='Batches', max=12.0, style=ProgressStyle(description_width…"
      ]
     },
     "metadata": {},
     "output_type": "display_data"
    },
    {
     "name": "stdout",
     "output_type": "stream",
     "text": [
      "\n",
      "Epoch =  46 Loss = 0.307765 LR = 0.00000000\n"
     ]
    },
    {
     "data": {
      "application/vnd.jupyter.widget-view+json": {
       "model_id": "32143479cac94e1891178cd7d54ae400",
       "version_major": 2,
       "version_minor": 0
      },
      "text/plain": [
       "HBox(children=(FloatProgress(value=0.0, description='Batches', max=12.0, style=ProgressStyle(description_width…"
      ]
     },
     "metadata": {},
     "output_type": "display_data"
    },
    {
     "name": "stdout",
     "output_type": "stream",
     "text": [
      "\n",
      "Epoch =  47 Loss = 0.312203 LR = 0.00000000\n"
     ]
    },
    {
     "data": {
      "application/vnd.jupyter.widget-view+json": {
       "model_id": "166c2ae8a0f04f0598f46ed26b6e063f",
       "version_major": 2,
       "version_minor": 0
      },
      "text/plain": [
       "HBox(children=(FloatProgress(value=0.0, description='Batches', max=12.0, style=ProgressStyle(description_width…"
      ]
     },
     "metadata": {},
     "output_type": "display_data"
    },
    {
     "name": "stdout",
     "output_type": "stream",
     "text": [
      "\n",
      "Epoch =  48 Loss = 0.307219 LR = 0.00000000\n",
      "\n"
     ]
    },
    {
     "data": {
      "image/png": "[encoded data removed]",
      "text/plain": [
       "<Figure size 576x576 with 2 Axes>"
      ]
     },
     "metadata": {
      "image/png": {
       "height": 567,
       "width": 567
      },
      "needs_background": "light"
     },
     "output_type": "display_data"
    },
    {
     "data": {
      "application/vnd.jupyter.widget-view+json": {
       "model_id": "c311dd12b9424c22a3d48c5780f6b296",
       "version_major": 2,
       "version_minor": 0
      },
      "text/plain": [
       "HBox(children=(FloatProgress(value=0.0, description='Generate Predictions', max=4.0, style=ProgressStyle(descr…"
      ]
     },
     "metadata": {},
     "output_type": "display_data"
    },
    {
     "name": "stdout",
     "output_type": "stream",
     "text": [
      "\n"
     ]
    },
    {
     "data": {
      "text/html": [
       "<div>\n",
       "<style scoped>\n",
       "    .dataframe tbody tr th:only-of-type {\n",
       "        vertical-align: middle;\n",
       "    }\n",
       "\n",
       "    .dataframe tbody tr th {\n",
       "        vertical-align: top;\n",
       "    }\n",
       "\n",
       "    .dataframe thead th {\n",
       "        text-align: right;\n",
       "    }\n",
       "</style>\n",
       "<table border=\"1\" class=\"dataframe\">\n",
       "  <thead>\n",
       "    <tr style=\"text-align: right;\">\n",
       "      <th></th>\n",
       "      <th>id</th>\n",
       "      <th>proba</th>\n",
       "      <th>label</th>\n",
       "    </tr>\n",
       "  </thead>\n",
       "  <tbody>\n",
       "    <tr>\n",
       "      <th>522</th>\n",
       "      <td>78956</td>\n",
       "      <td>0.548</td>\n",
       "      <td>1</td>\n",
       "    </tr>\n",
       "    <tr>\n",
       "      <th>357</th>\n",
       "      <td>91637</td>\n",
       "      <td>0.578</td>\n",
       "      <td>1</td>\n",
       "    </tr>\n",
       "    <tr>\n",
       "      <th>604</th>\n",
       "      <td>68172</td>\n",
       "      <td>0.571</td>\n",
       "      <td>1</td>\n",
       "    </tr>\n",
       "    <tr>\n",
       "      <th>100</th>\n",
       "      <td>49267</td>\n",
       "      <td>0.522</td>\n",
       "      <td>1</td>\n",
       "    </tr>\n",
       "    <tr>\n",
       "      <th>776</th>\n",
       "      <td>63097</td>\n",
       "      <td>0.193</td>\n",
       "      <td>0</td>\n",
       "    </tr>\n",
       "  </tbody>\n",
       "</table>\n",
       "</div>"
      ],
      "text/plain": [
       "        id  proba  label\n",
       "522  78956  0.548      1\n",
       "357  91637  0.578      1\n",
       "604  68172  0.571      1\n",
       "100  49267  0.522      1\n",
       "776  63097  0.193      0"
      ]
     },
     "execution_count": 13,
     "metadata": {},
     "output_type": "execute_result"
    }
   ],
   "source": [
    "submission, text_model = train_and_predict(model_fn, data, batch_size, epochs, \n",
    "                                           scheduler_init_fn=scheduler_init_fn, \n",
    "                                           model_call_back=reg_sched,\n",
    "                                           sampling_policy=\"without_replacement\",\n",
    "                                           validation_epochs=[15, 31, 34, 42],\n",
    "                                          )\n",
    "submission.to_csv(\"submission.csv\",index=False)\n",
    "submission.sample(5)\n"
   ]
  },
  {
   "cell_type": "code",
   "execution_count": null,
   "metadata": {},
   "outputs": [],
   "source": []
  }
 ],
 "metadata": {
  "kernelspec": {
   "display_name": "Python 3",
   "language": "python",
   "name": "python3"
  },
  "language_info": {
   "codemirror_mode": {
    "name": "ipython",
    "version": 3
   },
   "file_extension": ".py",
   "mimetype": "text/x-python",
   "name": "python",
   "nbconvert_exporter": "python",
   "pygments_lexer": "ipython3",
   "version": "3.7.6"
  },
  "toc": {
   "base_numbering": 1,
   "nav_menu": {},
   "number_sections": true,
   "sideBar": true,
   "skip_h1_title": false,
   "title_cell": "Table of Contents",
   "title_sidebar": "Contents",
   "toc_cell": false,
   "toc_position": {
    "height": "822px",
    "left": "0px",
    "top": "111.133px",
    "width": "165px"
   },
   "toc_section_display": true,
   "toc_window_display": true
  }
 },
 "nbformat": 4,
 "nbformat_minor": 4
}
