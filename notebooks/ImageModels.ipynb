{
 "cells": [
  {
   "cell_type": "code",
   "execution_count": 1,
   "metadata": {
    "ExecuteTime": {
     "end_time": "2020-07-17T15:04:16.973976Z",
     "start_time": "2020-07-17T15:04:14.083293Z"
    }
   },
   "outputs": [],
   "source": [
    "\n",
    "\n",
    "\n",
    "import pandas as pd\n",
    "import numpy as np\n",
    "import jsonlines\n",
    "import seaborn as sns\n",
    "%matplotlib inline\n",
    "%config InlineBackend.figure_format = 'retina'\n",
    "import torch.nn as nn\n",
    "import torch\n",
    "import torch.nn.functional as F\n",
    "from torch.utils.data import Dataset, DataLoader\n",
    "from torchvision import transforms, utils\n",
    "import torch_optimizer as optim\n",
    "\n",
    "\n",
    "from IPython.core.interactiveshell import InteractiveShell\n",
    "InteractiveShell.ast_node_interactivity = \"all\"\n",
    "from importlib import reload\n",
    "pd.set_option('display.max_rows', 500)\n",
    "pd.set_option('display.float_format', '{:0.3f}'.format)\n",
    "pd.set_option('display.max_columns', 500)\n",
    "pd.set_option('display.width', 1000)\n",
    "pd.options.display.width = 0\n",
    "import warnings\n",
    "import torchvision\n",
    "warnings.filterwarnings('ignore')\n",
    "\n",
    "from facebook_hateful_memes_detector.utils.globals import set_global, get_global\n",
    "set_global(\"cache_dir\", \"/home/ahemf/cache/cache\")\n",
    "set_global(\"dataloader_workers\", 4)\n",
    "set_global(\"use_autocast\", True)\n",
    "set_global(\"models_dir\", \"/home/ahemf/cache/\")\n",
    "\n",
    "from facebook_hateful_memes_detector.utils import read_json_lines_into_df, in_notebook, set_device\n",
    "get_global(\"cache_dir\")\n",
    "from facebook_hateful_memes_detector.models import Fasttext1DCNNModel, MultiImageMultiTextAttentionEarlyFusionModel, LangFeaturesModel, AlbertClassifer\n",
    "from facebook_hateful_memes_detector.preprocessing import TextImageDataset, my_collate, get_datasets, get_image2torchvision_transforms, TextAugment\n",
    "from facebook_hateful_memes_detector.preprocessing import DefinedRotation, QuadrantCut, ImageAugment, DefinedAffine\n",
    "from facebook_hateful_memes_detector.training import *\n",
    "import facebook_hateful_memes_detector\n",
    "reload(facebook_hateful_memes_detector)\n",
    "\n",
    "device = torch.device(\"cuda\" if torch.cuda.is_available() else \"cpu\")\n",
    "set_device(device)\n"
   ]
  },
  {
   "cell_type": "markdown",
   "metadata": {},
   "source": [
    "https://discuss.pytorch.org/t/how-to-implement-torch-optim-lr-scheduler-cosineannealinglr/28797/11"
   ]
  },
  {
   "cell_type": "markdown",
   "metadata": {},
   "source": [
    "# Params"
   ]
  },
  {
   "cell_type": "code",
   "execution_count": 2,
   "metadata": {
    "ExecuteTime": {
     "end_time": "2020-07-17T15:04:17.096202Z",
     "start_time": "2020-07-17T15:04:16.975605Z"
    }
   },
   "outputs": [],
   "source": [
    "device = torch.device(\"cuda\" if torch.cuda.is_available() else \"cpu\")\n",
    "set_device(device)\n",
    "\n",
    "\n",
    "choice_probas = {\"keyboard\": 0.1, \"char_substitute\": 0.0, \"char_insert\": 0.1, \n",
    "                 \"char_swap\": 0.0, \"ocr\": 0.0, \"char_delete\": 0.1,\n",
    "                 \"fasttext\": 0.0, \"glove_twitter\": 0.0, \"glove_wiki\": 0.0, \"word2vec\": 0.0, \"split\": 0.1,\n",
    "                 \"stopword_insert\": 0.4, \"word_join\": 0.1, \"word_cutout\": 0.8,\n",
    "                 \"text_rotate\": 0.1, \"sentence_shuffle\": 0.5, \"one_third_cut\": 0.4, \"half_cut\":0.1}\n",
    "preprocess_text = TextAugment([0.0, 0.1, 0.05, 0.35, 0.3, 0.2], choice_probas, fasttext_file=\"wiki-news-300d-1M-subword.bin\")\n",
    "\n",
    "augs_dict = dict(\n",
    "    grayscale=transforms.Grayscale(num_output_channels=3),\n",
    "    hflip=transforms.RandomHorizontalFlip(p=1.0),\n",
    "    rc2=transforms.Compose(\n",
    "        [transforms.Resize(480),\n",
    "         transforms.CenterCrop(400)]),\n",
    "    rotate=DefinedRotation(15),\n",
    "    affine=DefinedAffine(0, scale=(0.6, 0.6)),\n",
    "    translate1=DefinedAffine(0, translate=(0.25, 0.25)),\n",
    ")\n",
    "im_transform = ImageAugment(count_proba=[0.0, 1.0], augs_dict=augs_dict, choice_probas=\"uniform\")\n",
    "\n",
    "\n",
    "\n",
    "data = get_datasets(data_dir=\"../data/\", train_text_transform=preprocess_text, train_image_transform=im_transform, \n",
    "                    test_text_transform=None, test_image_transform=None, \n",
    "                    train_torchvision_image_transform=transforms.RandomErasing(p=0.5, scale=(0.05, 0.2), ratio=(0.3, 3.3), value=0, inplace=False), \n",
    "                    test_torchvision_image_transform=None,\n",
    "                    cache_images = True, use_images = True, dev=False, test_dev=True,\n",
    "                    keep_original_text=False, keep_original_image=False, \n",
    "                    keep_processed_image=True, keep_torchvision_image=True,)\n",
    "\n"
   ]
  },
  {
   "cell_type": "code",
   "execution_count": 3,
   "metadata": {
    "ExecuteTime": {
     "end_time": "2020-07-17T15:04:17.163151Z",
     "start_time": "2020-07-17T15:04:17.153519Z"
    }
   },
   "outputs": [],
   "source": [
    "sgd = torch.optim.SGD\n",
    "sgd_params = dict(lr=2e-2, momentum=0.9, dampening=0, weight_decay=0, nesterov=False)\n",
    "\n",
    "rangerQH = optim.RangerQH\n",
    "rangerQHparams = dict(lr=1e-3, betas=(0.9, 0.999), nus=(.7, 1.0),\n",
    "    weight_decay=0.0,\n",
    "    k=6,\n",
    "    alpha=.5,\n",
    "    decouple_weight_decay=True,\n",
    "    eps=1e-8,)\n",
    "\n",
    "adam = torch.optim.Adam\n",
    "adam_params = params=dict(lr=1e-4, weight_decay=1e-6)\n",
    "\n",
    "adamw = torch.optim.AdamW\n",
    "adamw_params = dict(lr=1e-4, betas=(0.9, 0.999), eps=1e-08, weight_decay=1e-2)\n",
    "\n",
    "novograd = optim.NovoGrad\n",
    "novograd_params = dict(lr= 1e-3,\n",
    "    betas=(0.9, 0.999),\n",
    "    eps=1e-8,\n",
    "    weight_decay=0,\n",
    "    grad_averaging=False,\n",
    "    amsgrad=False,)\n",
    "\n",
    "qhadam = optim.QHAdam\n",
    "qhadam_params = dict(lr= 1e-3,\n",
    "    betas=(0.9, 0.999),\n",
    "    nus=(1.0, 1.0),\n",
    "    weight_decay=0,\n",
    "    decouple_weight_decay=False,\n",
    "    eps=1e-8,)\n",
    "\n",
    "radam = optim.RAdam\n",
    "radam_params = dict(lr= 1e-3,\n",
    "    betas=(0.9, 0.999),\n",
    "    eps=1e-8,\n",
    "    weight_decay=0,)\n",
    "\n",
    "yogi = optim.Yogi\n",
    "yogi_params = dict(lr= 1e-2,\n",
    "    betas=(0.9, 0.999),\n",
    "    eps=1e-3,\n",
    "    initial_accumulator=1e-6,\n",
    "    weight_decay=0)\n",
    "\n",
    "\n"
   ]
  },
  {
   "cell_type": "code",
   "execution_count": 4,
   "metadata": {
    "ExecuteTime": {
     "end_time": "2020-07-17T15:04:18.070236Z",
     "start_time": "2020-07-17T15:04:18.064296Z"
    }
   },
   "outputs": [],
   "source": [
    "batch_size=256\n",
    "epochs = 25\n",
    "optimizer = adam\n",
    "optimizer_params = adam_params\n",
    "\n",
    "scheduler_init_fn = get_multistep_lr([5, 7, 10, 17], gamma=0.1) # get_cosine_schedule_with_warmup # get_cosine_with_hard_restarts_schedule_with_warmup\n",
    "scheduler_init_fn = get_cosine_schedule_with_warmup()\n",
    "reg_sched = get_regularizer_scheduler()\n",
    "\n",
    "lr_strategy = {\"im_models\": {\"torchvision_resnet18\": {\"7\": {\"lr\": optimizer_params[\"lr\"]/750},\n",
    "                                                      \"8\": {\"lr\": optimizer_params[\"lr\"]/250},\n",
    "                                                      \"lr\": optimizer_params[\"lr\"]/2000},\n",
    "                             \"torchvision_resnet50_swsl\": {\"7\": {\"lr\": optimizer_params[\"lr\"]/1000},\n",
    "                                                           \"8\": {\"lr\": optimizer_params[\"lr\"]/500},\n",
    "                                                           \"lr\": optimizer_params[\"lr\"]/4000},\n",
    "                            \"lr\": optimizer_params[\"lr\"]/4000},\n",
    "              }\n",
    "\n",
    "# {\"lr\": optimizer_params[\"lr\"]/500}\n",
    "\n"
   ]
  },
  {
   "cell_type": "markdown",
   "metadata": {
    "heading_collapsed": true
   },
   "source": [
    "# Image Only"
   ]
  },
  {
   "cell_type": "code",
   "execution_count": null,
   "metadata": {
    "ExecuteTime": {
     "end_time": "2020-07-05T09:19:59.001282Z",
     "start_time": "2020-07-05T08:17:28.781151Z"
    },
    "hidden": true
   },
   "outputs": [],
   "source": [
    "# {\"model\": \"torchvision_resnet18\", \"large_rf\": True, \"finetune\": True}\n",
    "\n",
    "lr_strategy = {\n",
    "    \"im_models\": {\n",
    "        \"torchvision_resnet18_ssl\": {\n",
    "            \"7\": {\n",
    "                \"lr\": optimizer_params[\"lr\"] / 200\n",
    "            },\n",
    "            \"8\": {\n",
    "                \"lr\": optimizer_params[\"lr\"] / 100\n",
    "            },\n",
    "            \"lr\": optimizer_params[\"lr\"] / 1000\n",
    "        },\n",
    "        \"lr\": optimizer_params[\"lr\"] / 1000\n",
    "    },\n",
    "}\n",
    "model_fn = model_builder(MultiImageMultiTextAttentionEarlyFusionModel,\n",
    "                         dict(\n",
    "                             image_models=[{\n",
    "                                 \"model\": \"torchvision_resnet18_ssl\",\n",
    "                                 \"large_rf\": True,\n",
    "                                 \"finetune\": True\n",
    "                             }],\n",
    "                             num_classes=2,\n",
    "                             text_models=[],\n",
    "                             internal_dims=256,\n",
    "                             classifier_dims=256,\n",
    "                             n_tokens_out=16,\n",
    "                             n_layers=2,\n",
    "                             final_layer_builder=fb_1d_loss_builder,\n",
    "                             gaussian_noise=0.2,\n",
    "                             dropout=0.2,\n",
    "                         ),\n",
    "                         per_param_opts_fn=lr_strategy,\n",
    "                         optimiser_class=optimizer,\n",
    "                         optimiser_params=optimizer_params)\n",
    "\n",
    "data[\"metadata\"][\"use_images\"] = True\n",
    "\n",
    "multi_eval = False\n",
    "kfold = False\n",
    "results, prfs = train_validate_ntimes(\n",
    "    model_fn,\n",
    "    data,\n",
    "    batch_size,\n",
    "    epochs,\n",
    "    augmentation_weights=augmentation_weights,\n",
    "    kfold=kfold,\n",
    "    multi_eval=multi_eval,\n",
    "    scheduler_init_fn=scheduler_init_fn,\n",
    "    validation_epochs=[2, 4, 7, 9, 11, 14, 17, 20, 23])\n",
    "r1, p1 = results, prfs\n",
    "results\n",
    "prfs"
   ]
  },
  {
   "cell_type": "markdown",
   "metadata": {
    "heading_collapsed": true
   },
   "source": [
    "# Detr Model"
   ]
  },
  {
   "cell_type": "code",
   "execution_count": null,
   "metadata": {
    "ExecuteTime": {
     "end_time": "2020-07-04T19:01:51.576590Z",
     "start_time": "2020-07-04T17:42:41.236714Z"
    },
    "hidden": true
   },
   "outputs": [],
   "source": [
    "# {\"model\": \"torchvision_resnet18\", \"large_rf\": True, \"finetune\": True}\n",
    "\n",
    "model_fn = model_builder(\n",
    "    MultiImageMultiTextAttentionEarlyFusionModel,\n",
    "    dict(\n",
    "        image_models=['detr_resnet50'],\n",
    "        num_classes=2,\n",
    "        text_models=[\n",
    "            dict(cls=Fasttext1DCNNModel,\n",
    "                 params=dict(\n",
    "                     classifier_dims=256,\n",
    "                     num_classes=2,\n",
    "                     n_tokens_out=16,\n",
    "                     n_layers=2,\n",
    "                     final_layer_builder=lambda *args: None,\n",
    "                     gaussian_noise=0.2,\n",
    "                     dropout=0.2,\n",
    "                     embedding_dims=256,\n",
    "                     internal_dims=256,\n",
    "                     featurizer=\"cnn\",\n",
    "                 ),\n",
    "                 in_channels=256,\n",
    "                 in_tokens=64,\n",
    "                 forward=\"get_word_vectors\")\n",
    "        ],\n",
    "        internal_dims=256,\n",
    "        classifier_dims=256,\n",
    "        n_tokens_out=16,\n",
    "        n_layers=2,\n",
    "        final_layer_builder=fb_1d_loss_builder,\n",
    "        gaussian_noise=0.3,\n",
    "        dropout=0.3,\n",
    "    ),\n",
    "    per_param_opts_fn=None,\n",
    "    optimiser_class=optimizer,\n",
    "    optimiser_params=optimizer_params)\n",
    "\n",
    "data[\"metadata\"][\"use_images\"] = True\n",
    "\n",
    "batch_size=128\n",
    "epochs = 10\n",
    "multi_eval = False\n",
    "kfold = False\n",
    "results, prfs = train_validate_ntimes(\n",
    "    model_fn,\n",
    "    data,\n",
    "    batch_size,\n",
    "    epochs,\n",
    "    augmentation_weights=augmentation_weights,\n",
    "    kfold=kfold,\n",
    "    multi_eval=multi_eval,\n",
    "    scheduler_init_fn=scheduler_init_fn,\n",
    "    validation_epochs=[2, 4, 7, 9, 11, 14, 17, 20, 23])\n",
    "r1, p1 = results, prfs\n",
    "results\n",
    "prfs\n",
    "\n",
    "# \"detr_demo\", 'detr_resnet50', 'detr_resnet50_panoptic', 'detr_resnet101', 'detr_resnet101_panoptic', \"caption_features\""
   ]
  },
  {
   "cell_type": "code",
   "execution_count": null,
   "metadata": {
    "hidden": true
   },
   "outputs": [],
   "source": []
  },
  {
   "cell_type": "markdown",
   "metadata": {
    "heading_collapsed": true
   },
   "source": [
    "# Caption Features"
   ]
  },
  {
   "cell_type": "code",
   "execution_count": null,
   "metadata": {
    "hidden": true
   },
   "outputs": [],
   "source": [
    "# {\"model\": \"torchvision_resnet18\", \"large_rf\": True, \"finetune\": True}\n",
    "\n",
    "model_fn = model_builder(MultiImageMultiTextAttentionEarlyFusionModel, \n",
    "                         dict(image_models=['caption_features'], \n",
    "                              num_classes=2, \n",
    "                              text_models=[dict(cls=Fasttext1DCNNModel, params=dict(classifier_dims=256, \n",
    "                                                                                    num_classes=2, n_tokens_out=16,\n",
    "                                                                                    n_layers=2, final_layer_builder=lambda *args: None,\n",
    "                                                                                    gaussian_noise=0.2, dropout=0.2, \n",
    "                                                                                    embedding_dims=256, internal_dims=256, featurizer=\"cnn\",),\n",
    "                                               in_channels=256, in_tokens=64, forward=\"get_word_vectors\")],\n",
    "                              internal_dims=256, classifier_dims=256,\n",
    "                              n_tokens_out=16, n_layers=2,\n",
    "                              final_layer_builder=fb_1d_loss_builder,\n",
    "                              gaussian_noise=0.2, dropout=0.2, ),\n",
    "                         per_param_opts_fn=None,\n",
    "                         optimiser_class=optimizer, optimiser_params=optimizer_params)\n",
    "\n",
    "\n",
    "data[\"metadata\"][\"use_images\"] = True\n",
    "\n",
    "multi_eval=False \n",
    "kfold=False\n",
    "results, prfs = train_validate_ntimes(model_fn, data, batch_size, epochs, \n",
    "                                      augmentation_weights=augmentation_weights, \n",
    "                                      kfold=kfold, multi_eval=multi_eval,\n",
    "                                      scheduler_init_fn=scheduler_init_fn, \n",
    "                                      validation_epochs=[2, 4, 7, 9, 11, 14, 17, 20, 23])\n",
    "r1, p1 = results, prfs\n",
    "results\n",
    "prfs\n",
    "\n",
    "# \"detr_demo\", 'detr_resnet50', 'detr_resnet50_panoptic', 'detr_resnet101', 'detr_resnet101_panoptic', \"caption_features\"\n",
    "\n"
   ]
  },
  {
   "cell_type": "markdown",
   "metadata": {},
   "source": [
    "# Multi-Text Multi Image"
   ]
  },
  {
   "cell_type": "code",
   "execution_count": 5,
   "metadata": {
    "ExecuteTime": {
     "end_time": "2020-07-17T15:40:35.935075Z",
     "start_time": "2020-07-17T15:04:20.987724Z"
    },
    "scrolled": false
   },
   "outputs": [
    {
     "name": "stdout",
     "output_type": "stream",
     "text": [
      "Doing Special split for FB \n",
      " Train Labels = 0    5040\n",
      "1    2640\n",
      "Name: label, dtype: int64 Test Labels = 1    660\n",
      "0    660\n",
      "Name: label, dtype: int64\n"
     ]
    },
    {
     "data": {
      "application/vnd.jupyter.widget-view+json": {
       "model_id": "8fd1af774dcb424b9784999e3f9d1b85",
       "version_major": 2,
       "version_minor": 0
      },
      "text/plain": [
       "HBox(children=(FloatProgress(value=0.0, description='Caching Images in Dataset', max=7680.0, style=ProgressSty…"
      ]
     },
     "metadata": {},
     "output_type": "display_data"
    },
    {
     "name": "stdout",
     "output_type": "stream",
     "text": [
      "\n"
     ]
    },
    {
     "data": {
      "application/vnd.jupyter.widget-view+json": {
       "model_id": "0e8583399b57425db66fd279fd4fbdb3",
       "version_major": 2,
       "version_minor": 0
      },
      "text/plain": [
       "HBox(children=(FloatProgress(value=0.0, description='Caching Images in Dataset', max=1320.0, style=ProgressSty…"
      ]
     },
     "metadata": {},
     "output_type": "display_data"
    },
    {
     "name": "stdout",
     "output_type": "stream",
     "text": [
      "\n",
      "Loading saved model:  resnet18_ssl-contrastive.pth\n"
     ]
    },
    {
     "name": "stderr",
     "output_type": "stream",
     "text": [
      "Warning : `load_model` does not return WordVectorModel or SupervisedModel any more, but a `FastText` object which is very similar.\n"
     ]
    },
    {
     "name": "stdout",
     "output_type": "stream",
     "text": [
      "Autocast =  True Epochs =  10 Divisor = 2 Examples = 3840 Batch Size =  64\n",
      "Training Samples =  7680 Weighted Sampling =  True Num Batches =  60 Accumulation steps =  4\n"
     ]
    },
    {
     "data": {
      "application/vnd.jupyter.widget-view+json": {
       "model_id": "5059352d015d4bf79548856e9c9ba4ab",
       "version_major": 2,
       "version_minor": 0
      },
      "text/plain": [
       "HBox(children=(FloatProgress(value=0.0, max=10.0), HTML(value='')))"
      ]
     },
     "metadata": {},
     "output_type": "display_data"
    },
    {
     "data": {
      "application/vnd.jupyter.widget-view+json": {
       "model_id": "da31fe32ec95498bb135a25eb288d4f1",
       "version_major": 2,
       "version_minor": 0
      },
      "text/plain": [
       "HBox(children=(FloatProgress(value=0.0, description='Batches', max=60.0, style=ProgressStyle(description_width…"
      ]
     },
     "metadata": {},
     "output_type": "display_data"
    },
    {
     "name": "stdout",
     "output_type": "stream",
     "text": [
      "\n",
      "Epoch =  1 Loss = 0.192216 LR = 0.00003333\n"
     ]
    },
    {
     "data": {
      "application/vnd.jupyter.widget-view+json": {
       "model_id": "c1cf346ab8764dc2b24add8840f09a28",
       "version_major": 2,
       "version_minor": 0
      },
      "text/plain": [
       "HBox(children=(FloatProgress(value=0.0, description='Batches', max=60.0, style=ProgressStyle(description_width…"
      ]
     },
     "metadata": {},
     "output_type": "display_data"
    },
    {
     "name": "stdout",
     "output_type": "stream",
     "text": [
      "\n",
      "Epoch =  2 Loss = 0.167037 LR = 0.00006667\n"
     ]
    },
    {
     "data": {
      "application/vnd.jupyter.widget-view+json": {
       "model_id": "02ee35fe396c42fe80ba1fba64fdd084",
       "version_major": 2,
       "version_minor": 0
      },
      "text/plain": [
       "HBox(children=(FloatProgress(value=0.0, description='Batches', max=60.0, style=ProgressStyle(description_width…"
      ]
     },
     "metadata": {},
     "output_type": "display_data"
    },
    {
     "name": "stdout",
     "output_type": "stream",
     "text": [
      "\n",
      "Epoch =  3 Loss = 0.156234 LR = 0.00010000\n"
     ]
    },
    {
     "data": {
      "application/vnd.jupyter.widget-view+json": {
       "model_id": "1f8457c90d044a369d669631d4318a7e",
       "version_major": 2,
       "version_minor": 0
      },
      "text/plain": [
       "HBox(children=(FloatProgress(value=0.0, description='Batches', max=60.0, style=ProgressStyle(description_width…"
      ]
     },
     "metadata": {},
     "output_type": "display_data"
    },
    {
     "name": "stdout",
     "output_type": "stream",
     "text": [
      "\n",
      "Epoch =  4 Loss = 0.145396 LR = 0.00009505\n"
     ]
    },
    {
     "data": {
      "application/vnd.jupyter.widget-view+json": {
       "model_id": "b37f43d3aed44046bf77b3e76faed560",
       "version_major": 2,
       "version_minor": 0
      },
      "text/plain": [
       "HBox(children=(FloatProgress(value=0.0, description='Batches', max=60.0, style=ProgressStyle(description_width…"
      ]
     },
     "metadata": {},
     "output_type": "display_data"
    },
    {
     "name": "stdout",
     "output_type": "stream",
     "text": [
      "\n",
      "Epoch =  5 Loss = 0.129822 LR = 0.00008117\n"
     ]
    },
    {
     "data": {
      "application/vnd.jupyter.widget-view+json": {
       "model_id": "684a43305d334361a15c5ff46da9ba1e",
       "version_major": 2,
       "version_minor": 0
      },
      "text/plain": [
       "HBox(children=(FloatProgress(value=0.0, description='Batches', max=60.0, style=ProgressStyle(description_width…"
      ]
     },
     "metadata": {},
     "output_type": "display_data"
    },
    {
     "name": "stdout",
     "output_type": "stream",
     "text": [
      "\n",
      "Epoch =  6 Loss = 0.127426 LR = 0.00006113\n"
     ]
    },
    {
     "data": {
      "application/vnd.jupyter.widget-view+json": {
       "model_id": "4c1d319a67564537a98bd5aaa1a37d6e",
       "version_major": 2,
       "version_minor": 0
      },
      "text/plain": [
       "HBox(children=(FloatProgress(value=0.0, description='Batches', max=60.0, style=ProgressStyle(description_width…"
      ]
     },
     "metadata": {},
     "output_type": "display_data"
    },
    {
     "name": "stdout",
     "output_type": "stream",
     "text": [
      "\n",
      "Epoch =  7 Loss = 0.117785 LR = 0.00003887\n"
     ]
    },
    {
     "data": {
      "application/vnd.jupyter.widget-view+json": {
       "model_id": "364e1e9387e843a490e15fd31de14d23",
       "version_major": 2,
       "version_minor": 0
      },
      "text/plain": [
       "HBox(children=(FloatProgress(value=0.0, description='Generate Predictions', max=120.0, style=ProgressStyle(des…"
      ]
     },
     "metadata": {},
     "output_type": "display_data"
    },
    {
     "name": "stdout",
     "output_type": "stream",
     "text": [
      "\n"
     ]
    },
    {
     "data": {
      "application/vnd.jupyter.widget-view+json": {
       "model_id": "c2b78b3a15b8423f876b268bbbb8ca37",
       "version_major": 2,
       "version_minor": 0
      },
      "text/plain": [
       "HBox(children=(FloatProgress(value=0.0, description='Generate Predictions', max=21.0, style=ProgressStyle(desc…"
      ]
     },
     "metadata": {},
     "output_type": "display_data"
    },
    {
     "name": "stdout",
     "output_type": "stream",
     "text": [
      "\n"
     ]
    },
    {
     "data": {
      "text/html": [
       "<div>\n",
       "<style scoped>\n",
       "    .dataframe tbody tr th:only-of-type {\n",
       "        vertical-align: middle;\n",
       "    }\n",
       "\n",
       "    .dataframe tbody tr th {\n",
       "        vertical-align: top;\n",
       "    }\n",
       "\n",
       "    .dataframe thead tr th {\n",
       "        text-align: left;\n",
       "    }\n",
       "\n",
       "    .dataframe thead tr:last-of-type th {\n",
       "        text-align: right;\n",
       "    }\n",
       "</style>\n",
       "<table border=\"1\" class=\"dataframe\">\n",
       "  <thead>\n",
       "    <tr>\n",
       "      <th></th>\n",
       "      <th colspan=\"4\" halign=\"left\">Proba</th>\n",
       "      <th colspan=\"4\" halign=\"left\">Preds</th>\n",
       "    </tr>\n",
       "    <tr>\n",
       "      <th></th>\n",
       "      <th>mean</th>\n",
       "      <th>median</th>\n",
       "      <th>min</th>\n",
       "      <th>max</th>\n",
       "      <th>mean</th>\n",
       "      <th>median</th>\n",
       "      <th>min</th>\n",
       "      <th>max</th>\n",
       "    </tr>\n",
       "    <tr>\n",
       "      <th>Labels</th>\n",
       "      <th></th>\n",
       "      <th></th>\n",
       "      <th></th>\n",
       "      <th></th>\n",
       "      <th></th>\n",
       "      <th></th>\n",
       "      <th></th>\n",
       "      <th></th>\n",
       "    </tr>\n",
       "  </thead>\n",
       "  <tbody>\n",
       "    <tr>\n",
       "      <th>0.000</th>\n",
       "      <td>0.329</td>\n",
       "      <td>0.252</td>\n",
       "      <td>0.024</td>\n",
       "      <td>0.965</td>\n",
       "      <td>0.226</td>\n",
       "      <td>0.000</td>\n",
       "      <td>0.000</td>\n",
       "      <td>1.000</td>\n",
       "    </tr>\n",
       "    <tr>\n",
       "      <th>1.000</th>\n",
       "      <td>0.552</td>\n",
       "      <td>0.581</td>\n",
       "      <td>0.023</td>\n",
       "      <td>0.975</td>\n",
       "      <td>0.573</td>\n",
       "      <td>1.000</td>\n",
       "      <td>0.000</td>\n",
       "      <td>1.000</td>\n",
       "    </tr>\n",
       "  </tbody>\n",
       "</table>\n",
       "</div>"
      ],
      "text/plain": [
       "       Proba                    Preds                   \n",
       "        mean median   min   max  mean median   min   max\n",
       "Labels                                                  \n",
       "0.000  0.329  0.252 0.024 0.965 0.226  0.000 0.000 1.000\n",
       "1.000  0.552  0.581 0.023 0.975 0.573  1.000 0.000 1.000"
      ]
     },
     "metadata": {},
     "output_type": "display_data"
    },
    {
     "data": {
      "text/html": [
       "<div>\n",
       "<style scoped>\n",
       "    .dataframe tbody tr th:only-of-type {\n",
       "        vertical-align: middle;\n",
       "    }\n",
       "\n",
       "    .dataframe tbody tr th {\n",
       "        vertical-align: top;\n",
       "    }\n",
       "\n",
       "    .dataframe thead th {\n",
       "        text-align: right;\n",
       "    }\n",
       "</style>\n",
       "<table border=\"1\" class=\"dataframe\">\n",
       "  <thead>\n",
       "    <tr style=\"text-align: right;\">\n",
       "      <th></th>\n",
       "      <th>index</th>\n",
       "      <th>Proba</th>\n",
       "      <th>Preds</th>\n",
       "      <th>Labels</th>\n",
       "      <th>index</th>\n",
       "      <th>Proba</th>\n",
       "      <th>Preds</th>\n",
       "      <th>Labels</th>\n",
       "      <th>index</th>\n",
       "      <th>Proba</th>\n",
       "      <th>Preds</th>\n",
       "      <th>Labels</th>\n",
       "    </tr>\n",
       "  </thead>\n",
       "  <tbody>\n",
       "    <tr>\n",
       "      <th>0</th>\n",
       "      <td>519</td>\n",
       "      <td>0.406</td>\n",
       "      <td>0.000</td>\n",
       "      <td>1.000</td>\n",
       "      <td>270</td>\n",
       "      <td>0.358</td>\n",
       "      <td>0.000</td>\n",
       "      <td>0.000</td>\n",
       "      <td>1262</td>\n",
       "      <td>0.215</td>\n",
       "      <td>0.000</td>\n",
       "      <td>0.000</td>\n",
       "    </tr>\n",
       "    <tr>\n",
       "      <th>1</th>\n",
       "      <td>1142</td>\n",
       "      <td>0.627</td>\n",
       "      <td>1.000</td>\n",
       "      <td>1.000</td>\n",
       "      <td>883</td>\n",
       "      <td>0.257</td>\n",
       "      <td>0.000</td>\n",
       "      <td>0.000</td>\n",
       "      <td>429</td>\n",
       "      <td>0.043</td>\n",
       "      <td>0.000</td>\n",
       "      <td>0.000</td>\n",
       "    </tr>\n",
       "    <tr>\n",
       "      <th>2</th>\n",
       "      <td>886</td>\n",
       "      <td>0.134</td>\n",
       "      <td>0.000</td>\n",
       "      <td>1.000</td>\n",
       "      <td>220</td>\n",
       "      <td>0.935</td>\n",
       "      <td>1.000</td>\n",
       "      <td>0.000</td>\n",
       "      <td>88</td>\n",
       "      <td>0.278</td>\n",
       "      <td>0.000</td>\n",
       "      <td>1.000</td>\n",
       "    </tr>\n",
       "    <tr>\n",
       "      <th>3</th>\n",
       "      <td>821</td>\n",
       "      <td>0.810</td>\n",
       "      <td>1.000</td>\n",
       "      <td>1.000</td>\n",
       "      <td>1246</td>\n",
       "      <td>0.186</td>\n",
       "      <td>0.000</td>\n",
       "      <td>0.000</td>\n",
       "      <td>1085</td>\n",
       "      <td>0.095</td>\n",
       "      <td>0.000</td>\n",
       "      <td>0.000</td>\n",
       "    </tr>\n",
       "  </tbody>\n",
       "</table>\n",
       "</div>"
      ],
      "text/plain": [
       "   index  Proba  Preds  Labels  index  Proba  Preds  Labels  index  Proba  \\\n",
       "0    519  0.406  0.000   1.000    270  0.358  0.000   0.000   1262  0.215   \n",
       "1   1142  0.627  1.000   1.000    883  0.257  0.000   0.000    429  0.043   \n",
       "2    886  0.134  0.000   1.000    220  0.935  1.000   0.000     88  0.278   \n",
       "3    821  0.810  1.000   1.000   1246  0.186  0.000   0.000   1085  0.095   \n",
       "\n",
       "   Preds  Labels  \n",
       "0  0.000   0.000  \n",
       "1  0.000   0.000  \n",
       "2  0.000   1.000  \n",
       "3  0.000   0.000  "
      ]
     },
     "metadata": {},
     "output_type": "display_data"
    },
    {
     "name": "stdout",
     "output_type": "stream",
     "text": [
      "scores =  {'map': '0.7154', 'acc': '0.6735', 'auc': '0.7322'}\n",
      "Epoch =  7 Train = 0.802937 Val = 0.732230\n"
     ]
    },
    {
     "data": {
      "application/vnd.jupyter.widget-view+json": {
       "model_id": "d7b0409c16b64c5ca5c4481d8d21ecef",
       "version_major": 2,
       "version_minor": 0
      },
      "text/plain": [
       "HBox(children=(FloatProgress(value=0.0, description='Batches', max=60.0, style=ProgressStyle(description_width…"
      ]
     },
     "metadata": {},
     "output_type": "display_data"
    },
    {
     "name": "stdout",
     "output_type": "stream",
     "text": [
      "\n",
      "Epoch =  8 Loss = 0.122900 LR = 0.00001883\n"
     ]
    },
    {
     "data": {
      "application/vnd.jupyter.widget-view+json": {
       "model_id": "d7970cf7798e4171a6f0118f155b4cd3",
       "version_major": 2,
       "version_minor": 0
      },
      "text/plain": [
       "HBox(children=(FloatProgress(value=0.0, description='Batches', max=60.0, style=ProgressStyle(description_width…"
      ]
     },
     "metadata": {},
     "output_type": "display_data"
    },
    {
     "name": "stdout",
     "output_type": "stream",
     "text": [
      "\n",
      "Epoch =  9 Loss = 0.115112 LR = 0.00000495\n"
     ]
    },
    {
     "data": {
      "application/vnd.jupyter.widget-view+json": {
       "model_id": "264dcc8c5ec14e208fd333c6e4064a46",
       "version_major": 2,
       "version_minor": 0
      },
      "text/plain": [
       "HBox(children=(FloatProgress(value=0.0, description='Batches', max=60.0, style=ProgressStyle(description_width…"
      ]
     },
     "metadata": {},
     "output_type": "display_data"
    },
    {
     "name": "stdout",
     "output_type": "stream",
     "text": [
      "\n",
      "Epoch =  10 Loss = 0.111704 LR = 0.00000000\n",
      "\n"
     ]
    },
    {
     "data": {
      "image/png": "[encoded data removed]",
      "text/plain": [
       "<Figure size 576x576 with 2 Axes>"
      ]
     },
     "metadata": {
      "image/png": {
       "height": 567,
       "width": 568
      },
      "needs_background": "light"
     },
     "output_type": "display_data"
    },
    {
     "data": {
      "application/vnd.jupyter.widget-view+json": {
       "model_id": "764c14996bf44e80b7945931b2a482e0",
       "version_major": 2,
       "version_minor": 0
      },
      "text/plain": [
       "HBox(children=(FloatProgress(value=0.0, description='Generate Predictions', max=21.0, style=ProgressStyle(desc…"
      ]
     },
     "metadata": {},
     "output_type": "display_data"
    },
    {
     "name": "stdout",
     "output_type": "stream",
     "text": [
      "\n"
     ]
    },
    {
     "data": {
      "text/html": [
       "<div>\n",
       "<style scoped>\n",
       "    .dataframe tbody tr th:only-of-type {\n",
       "        vertical-align: middle;\n",
       "    }\n",
       "\n",
       "    .dataframe tbody tr th {\n",
       "        vertical-align: top;\n",
       "    }\n",
       "\n",
       "    .dataframe thead tr th {\n",
       "        text-align: left;\n",
       "    }\n",
       "\n",
       "    .dataframe thead tr:last-of-type th {\n",
       "        text-align: right;\n",
       "    }\n",
       "</style>\n",
       "<table border=\"1\" class=\"dataframe\">\n",
       "  <thead>\n",
       "    <tr>\n",
       "      <th></th>\n",
       "      <th colspan=\"4\" halign=\"left\">Proba</th>\n",
       "      <th colspan=\"4\" halign=\"left\">Preds</th>\n",
       "    </tr>\n",
       "    <tr>\n",
       "      <th></th>\n",
       "      <th>mean</th>\n",
       "      <th>median</th>\n",
       "      <th>min</th>\n",
       "      <th>max</th>\n",
       "      <th>mean</th>\n",
       "      <th>median</th>\n",
       "      <th>min</th>\n",
       "      <th>max</th>\n",
       "    </tr>\n",
       "    <tr>\n",
       "      <th>Labels</th>\n",
       "      <th></th>\n",
       "      <th></th>\n",
       "      <th></th>\n",
       "      <th></th>\n",
       "      <th></th>\n",
       "      <th></th>\n",
       "      <th></th>\n",
       "      <th></th>\n",
       "    </tr>\n",
       "  </thead>\n",
       "  <tbody>\n",
       "    <tr>\n",
       "      <th>0.000</th>\n",
       "      <td>0.330</td>\n",
       "      <td>0.256</td>\n",
       "      <td>0.024</td>\n",
       "      <td>0.973</td>\n",
       "      <td>0.239</td>\n",
       "      <td>0.000</td>\n",
       "      <td>0.000</td>\n",
       "      <td>1.000</td>\n",
       "    </tr>\n",
       "    <tr>\n",
       "      <th>1.000</th>\n",
       "      <td>0.565</td>\n",
       "      <td>0.595</td>\n",
       "      <td>0.024</td>\n",
       "      <td>0.979</td>\n",
       "      <td>0.583</td>\n",
       "      <td>1.000</td>\n",
       "      <td>0.000</td>\n",
       "      <td>1.000</td>\n",
       "    </tr>\n",
       "  </tbody>\n",
       "</table>\n",
       "</div>"
      ],
      "text/plain": [
       "       Proba                    Preds                   \n",
       "        mean median   min   max  mean median   min   max\n",
       "Labels                                                  \n",
       "0.000  0.330  0.256 0.024 0.973 0.239  0.000 0.000 1.000\n",
       "1.000  0.565  0.595 0.024 0.979 0.583  1.000 0.000 1.000"
      ]
     },
     "metadata": {},
     "output_type": "display_data"
    },
    {
     "data": {
      "text/html": [
       "<div>\n",
       "<style scoped>\n",
       "    .dataframe tbody tr th:only-of-type {\n",
       "        vertical-align: middle;\n",
       "    }\n",
       "\n",
       "    .dataframe tbody tr th {\n",
       "        vertical-align: top;\n",
       "    }\n",
       "\n",
       "    .dataframe thead th {\n",
       "        text-align: right;\n",
       "    }\n",
       "</style>\n",
       "<table border=\"1\" class=\"dataframe\">\n",
       "  <thead>\n",
       "    <tr style=\"text-align: right;\">\n",
       "      <th></th>\n",
       "      <th>index</th>\n",
       "      <th>Proba</th>\n",
       "      <th>Preds</th>\n",
       "      <th>Labels</th>\n",
       "      <th>index</th>\n",
       "      <th>Proba</th>\n",
       "      <th>Preds</th>\n",
       "      <th>Labels</th>\n",
       "      <th>index</th>\n",
       "      <th>Proba</th>\n",
       "      <th>Preds</th>\n",
       "      <th>Labels</th>\n",
       "    </tr>\n",
       "  </thead>\n",
       "  <tbody>\n",
       "    <tr>\n",
       "      <th>0</th>\n",
       "      <td>1018</td>\n",
       "      <td>0.120</td>\n",
       "      <td>0.000</td>\n",
       "      <td>0.000</td>\n",
       "      <td>162</td>\n",
       "      <td>0.841</td>\n",
       "      <td>1.000</td>\n",
       "      <td>1.000</td>\n",
       "      <td>291</td>\n",
       "      <td>0.890</td>\n",
       "      <td>1.000</td>\n",
       "      <td>1.000</td>\n",
       "    </tr>\n",
       "    <tr>\n",
       "      <th>1</th>\n",
       "      <td>630</td>\n",
       "      <td>0.185</td>\n",
       "      <td>0.000</td>\n",
       "      <td>0.000</td>\n",
       "      <td>780</td>\n",
       "      <td>0.774</td>\n",
       "      <td>1.000</td>\n",
       "      <td>1.000</td>\n",
       "      <td>62</td>\n",
       "      <td>0.358</td>\n",
       "      <td>0.000</td>\n",
       "      <td>1.000</td>\n",
       "    </tr>\n",
       "    <tr>\n",
       "      <th>2</th>\n",
       "      <td>904</td>\n",
       "      <td>0.901</td>\n",
       "      <td>1.000</td>\n",
       "      <td>1.000</td>\n",
       "      <td>589</td>\n",
       "      <td>0.415</td>\n",
       "      <td>0.000</td>\n",
       "      <td>1.000</td>\n",
       "      <td>477</td>\n",
       "      <td>0.487</td>\n",
       "      <td>0.000</td>\n",
       "      <td>1.000</td>\n",
       "    </tr>\n",
       "    <tr>\n",
       "      <th>3</th>\n",
       "      <td>447</td>\n",
       "      <td>0.376</td>\n",
       "      <td>0.000</td>\n",
       "      <td>1.000</td>\n",
       "      <td>198</td>\n",
       "      <td>0.519</td>\n",
       "      <td>1.000</td>\n",
       "      <td>1.000</td>\n",
       "      <td>354</td>\n",
       "      <td>0.046</td>\n",
       "      <td>0.000</td>\n",
       "      <td>0.000</td>\n",
       "    </tr>\n",
       "  </tbody>\n",
       "</table>\n",
       "</div>"
      ],
      "text/plain": [
       "   index  Proba  Preds  Labels  index  Proba  Preds  Labels  index  Proba  \\\n",
       "0   1018  0.120  0.000   0.000    162  0.841  1.000   1.000    291  0.890   \n",
       "1    630  0.185  0.000   0.000    780  0.774  1.000   1.000     62  0.358   \n",
       "2    904  0.901  1.000   1.000    589  0.415  0.000   1.000    477  0.487   \n",
       "3    447  0.376  0.000   1.000    198  0.519  1.000   1.000    354  0.046   \n",
       "\n",
       "   Preds  Labels  \n",
       "0  1.000   1.000  \n",
       "1  0.000   1.000  \n",
       "2  0.000   1.000  \n",
       "3  0.000   0.000  "
      ]
     },
     "metadata": {},
     "output_type": "display_data"
    },
    {
     "name": "stdout",
     "output_type": "stream",
     "text": [
      "scores =  {'map': '0.7215', 'acc': '0.6720', 'auc': '0.7365'}\n"
     ]
    },
    {
     "data": {
      "application/vnd.jupyter.widget-view+json": {
       "model_id": "9740d227edd84903b22eec72ccceed22",
       "version_major": 2,
       "version_minor": 0
      },
      "text/plain": [
       "HBox(children=(FloatProgress(value=0.0, description='Generate Predictions', max=120.0, style=ProgressStyle(des…"
      ]
     },
     "metadata": {},
     "output_type": "display_data"
    },
    {
     "name": "stdout",
     "output_type": "stream",
     "text": [
      "\n"
     ]
    },
    {
     "data": {
      "text/html": [
       "<div>\n",
       "<style scoped>\n",
       "    .dataframe tbody tr th:only-of-type {\n",
       "        vertical-align: middle;\n",
       "    }\n",
       "\n",
       "    .dataframe tbody tr th {\n",
       "        vertical-align: top;\n",
       "    }\n",
       "\n",
       "    .dataframe thead th {\n",
       "        text-align: right;\n",
       "    }\n",
       "</style>\n",
       "<table border=\"1\" class=\"dataframe\">\n",
       "  <thead>\n",
       "    <tr style=\"text-align: right;\">\n",
       "      <th></th>\n",
       "      <th></th>\n",
       "      <th>train</th>\n",
       "      <th>val</th>\n",
       "    </tr>\n",
       "    <tr>\n",
       "      <th>mean_or_std</th>\n",
       "      <th>metric</th>\n",
       "      <th></th>\n",
       "      <th></th>\n",
       "    </tr>\n",
       "  </thead>\n",
       "  <tbody>\n",
       "    <tr>\n",
       "      <th rowspan=\"3\" valign=\"top\">mean</th>\n",
       "      <th>map</th>\n",
       "      <td>0.693</td>\n",
       "      <td>0.722</td>\n",
       "    </tr>\n",
       "    <tr>\n",
       "      <th>accuracy</th>\n",
       "      <td>0.757</td>\n",
       "      <td>0.672</td>\n",
       "    </tr>\n",
       "    <tr>\n",
       "      <th>auc</th>\n",
       "      <td>0.815</td>\n",
       "      <td>0.736</td>\n",
       "    </tr>\n",
       "    <tr>\n",
       "      <th rowspan=\"3\" valign=\"top\">std</th>\n",
       "      <th>map</th>\n",
       "      <td>0.000</td>\n",
       "      <td>0.000</td>\n",
       "    </tr>\n",
       "    <tr>\n",
       "      <th>accuracy</th>\n",
       "      <td>0.000</td>\n",
       "      <td>0.000</td>\n",
       "    </tr>\n",
       "    <tr>\n",
       "      <th>auc</th>\n",
       "      <td>0.000</td>\n",
       "      <td>0.000</td>\n",
       "    </tr>\n",
       "  </tbody>\n",
       "</table>\n",
       "</div>"
      ],
      "text/plain": [
       "                      train   val\n",
       "mean_or_std metric               \n",
       "mean        map       0.693 0.722\n",
       "            accuracy  0.757 0.672\n",
       "            auc       0.815 0.736\n",
       "std         map       0.000 0.000\n",
       "            accuracy  0.000 0.000\n",
       "            auc       0.000 0.000"
      ]
     },
     "execution_count": 5,
     "metadata": {},
     "output_type": "execute_result"
    },
    {
     "data": {
      "text/html": [
       "<div>\n",
       "<style scoped>\n",
       "    .dataframe tbody tr th:only-of-type {\n",
       "        vertical-align: middle;\n",
       "    }\n",
       "\n",
       "    .dataframe tbody tr th {\n",
       "        vertical-align: top;\n",
       "    }\n",
       "\n",
       "    .dataframe thead tr th {\n",
       "        text-align: left;\n",
       "    }\n",
       "</style>\n",
       "<table border=\"1\" class=\"dataframe\">\n",
       "  <thead>\n",
       "    <tr>\n",
       "      <th></th>\n",
       "      <th colspan=\"4\" halign=\"left\">train</th>\n",
       "      <th colspan=\"4\" halign=\"left\">val</th>\n",
       "    </tr>\n",
       "    <tr>\n",
       "      <th></th>\n",
       "      <th>precision</th>\n",
       "      <th>recall</th>\n",
       "      <th>f1</th>\n",
       "      <th>supoort</th>\n",
       "      <th>precision</th>\n",
       "      <th>recall</th>\n",
       "      <th>f1</th>\n",
       "      <th>supoort</th>\n",
       "    </tr>\n",
       "  </thead>\n",
       "  <tbody>\n",
       "    <tr>\n",
       "      <th>neg</th>\n",
       "      <td>0.823</td>\n",
       "      <td>0.803</td>\n",
       "      <td>0.813</td>\n",
       "      <td>5040.000</td>\n",
       "      <td>0.646</td>\n",
       "      <td>0.761</td>\n",
       "      <td>0.699</td>\n",
       "      <td>660.000</td>\n",
       "    </tr>\n",
       "    <tr>\n",
       "      <th>pos</th>\n",
       "      <td>0.640</td>\n",
       "      <td>0.669</td>\n",
       "      <td>0.654</td>\n",
       "      <td>2640.000</td>\n",
       "      <td>0.709</td>\n",
       "      <td>0.583</td>\n",
       "      <td>0.640</td>\n",
       "      <td>660.000</td>\n",
       "    </tr>\n",
       "  </tbody>\n",
       "</table>\n",
       "</div>"
      ],
      "text/plain": [
       "        train                             val                     \n",
       "    precision recall    f1  supoort precision recall    f1 supoort\n",
       "neg     0.823  0.803 0.813 5040.000     0.646  0.761 0.699 660.000\n",
       "pos     0.640  0.669 0.654 2640.000     0.709  0.583 0.640 660.000"
      ]
     },
     "execution_count": 5,
     "metadata": {},
     "output_type": "execute_result"
    }
   ],
   "source": [
    "lr_strategy = {\n",
    "    \"im_models\": {\n",
    "        \"lr\": optimizer_params[\"lr\"] / 10,\n",
    "        \"torchvision_resnet18_ssl-contrastive\": {\n",
    "            \"lambd\": {\n",
    "                \"8\": {\n",
    "                    \"finetune\": True\n",
    "                }\n",
    "            },\n",
    "            \"lr\": optimizer_params[\"lr\"] / 10,\n",
    "            \"finetune\": False,\n",
    "        },\n",
    "        \"vgg_face\": {\n",
    "            \"lr\": optimizer_params[\"lr\"] / 10,\n",
    "            \"lambd\": {\n",
    "                \"0\": {\n",
    "                    \"feat_extract\": {\n",
    "                        \"finetune\": True\n",
    "                    }\n",
    "                }\n",
    "            },\n",
    "            \"finetune\": False,\n",
    "        }\n",
    "    }\n",
    "}\n",
    "\n",
    "model_fn = model_builder(\n",
    "    MultiImageMultiTextAttentionEarlyFusionModel,\n",
    "    dict(\n",
    "        image_models=[\n",
    "            #             {\n",
    "            #                 \"model\": 'caption_features',\n",
    "            #                 \"gaussian_noise\": 0.0,\n",
    "            #                 \"dropout\": 0.0\n",
    "            #             },\n",
    "            {\n",
    "                \"model\": 'vgg_face',\n",
    "                \"gaussian_noise\": 0.0,\n",
    "                \"dropout\": 0.0,\n",
    "            },\n",
    "            #             {\n",
    "            #                 \"model\": 'detr_resnet50',\n",
    "            #                 \"gaussian_noise\": 0.0,\n",
    "            #                 \"dropout\": 0.0\n",
    "            #             },\n",
    "            #             {\n",
    "            #                 \"model\": 'detr_resnet50_panoptic',\n",
    "            #                 \"gaussian_noise\": 0.0,\n",
    "            #                 \"dropout\": 0.0\n",
    "            #             },\n",
    "            {\n",
    "                \"model\": \"torchvision_resnet18_ssl-contrastive\",\n",
    "                \"large_rf\": True,\n",
    "                \"dropout\": 0.0,\n",
    "                \"gaussian_noise\": 0.0,\n",
    "            },\n",
    "        ],\n",
    "        num_classes=2,\n",
    "        text_models=[\n",
    "            dict(\n",
    "                cls=Fasttext1DCNNModel,\n",
    "                params=dict(\n",
    "                    classifier_dims=256,\n",
    "                    num_classes=2,\n",
    "                    n_tokens_in=64,\n",
    "                    n_tokens_out=16,\n",
    "                    n_layers=2,\n",
    "                    final_layer_builder=lambda *args: None,\n",
    "                    gaussian_noise=0.0,\n",
    "                    dropout=0.0,\n",
    "                    embedding_dims=256,\n",
    "                    internal_dims=256,\n",
    "                    featurizer=\"gru\",\n",
    "                ),\n",
    "                in_channels=256,\n",
    "                in_tokens=64,\n",
    "                forward=\"get_word_vectors\",\n",
    "                dropout=0.2,\n",
    "                gaussian_noise=0.25,\n",
    "            ),\n",
    "            dict(\n",
    "                cls=AlbertClassifer,\n",
    "                params=dict(classifier_dims=256,\n",
    "                            num_classes=2,\n",
    "                            embedding_dims=768,\n",
    "                            gaussian_noise=0.0,\n",
    "                            dropout=0.0,\n",
    "                            word_masking_proba=0.25,\n",
    "                            internal_dims=512,\n",
    "                            final_layer_builder=fb_1d_loss_builder,\n",
    "                            n_layers=2,\n",
    "                            n_encoders=2,\n",
    "                            n_decoders=2,\n",
    "                            n_tokens_in=96,\n",
    "                            n_tokens_out=16,\n",
    "                            featurizer=\"transformer\",\n",
    "                            model='./distilbert-nsp',\n",
    "                            finetune=False),\n",
    "                in_channels=768,\n",
    "                in_tokens=96,\n",
    "                forward=\"get_word_vectors\",\n",
    "                dropout=0.2,\n",
    "                gaussian_noise=0.25,\n",
    "            )\n",
    "        ],\n",
    "        internal_dims=256,\n",
    "        classifier_dims=256,\n",
    "        n_tokens_out=32,\n",
    "        n_layers=2,\n",
    "        n_encoders=2,\n",
    "        n_decoders=2,\n",
    "        final_layer_builder=fb_1d_loss_builder,\n",
    "        gaussian_noise=0.75,\n",
    "        dropout=0.3,  # 0.3\n",
    "        loss=\"focal\",\n",
    "        dice_loss_coef=0.0,\n",
    "        auc_loss_coef=0.0,\n",
    "    ),\n",
    "    per_param_opts_fn=lr_strategy,\n",
    "    optimiser_class=optimizer,\n",
    "    optimiser_params=optimizer_params)\n",
    "\n",
    "data[\"metadata\"][\"use_images\"] = True\n",
    "batch_size = 64\n",
    "epochs = 5\n",
    "kfold = False\n",
    "results, prfs = train_validate_ntimes(\n",
    "    model_fn,\n",
    "    data,\n",
    "    batch_size,\n",
    "    epochs,\n",
    "    kfold=kfold,\n",
    "    scheduler_init_fn=scheduler_init_fn,\n",
    "    validation_epochs=[7, 11, 14, 17, 20, 23, 27],\n",
    "    show_model_stats=False,\n",
    "    sampling_policy=\"without_replacement\",\n",
    "    accumulation_steps=4,\n",
    "    model_call_back=reg_sched,\n",
    ")\n",
    "r1, p1 = results, prfs\n",
    "results\n",
    "prfs\n",
    "\n",
    "# 0.824\t0.750 (0.761\t0.711)\n",
    "\n",
    "# \"detr_demo\", 'detr_resnet50', 'detr_resnet50_panoptic', 'detr_resnet101', 'detr_resnet101_panoptic', \"caption_features\""
   ]
  },
  {
   "cell_type": "markdown",
   "metadata": {},
   "source": [
    "# Predict"
   ]
  },
  {
   "cell_type": "code",
   "execution_count": null,
   "metadata": {
    "ExecuteTime": {
     "end_time": "2020-06-18T08:58:43.187026Z",
     "start_time": "2020-06-18T08:58:40.596Z"
    }
   },
   "outputs": [],
   "source": [
    "batch_size=512\n",
    "epochs = 1\n",
    "\n",
    "submission, text_model = train_and_predict(model_fn, data, batch_size, epochs, scheduler_init_fn=scheduler_init_fn)\n",
    "submission.to_csv(\"submission.csv\",index=False)\n",
    "submission.sample(3)\n"
   ]
  },
  {
   "cell_type": "code",
   "execution_count": null,
   "metadata": {
    "ExecuteTime": {
     "end_time": "2020-06-18T08:58:43.187634Z",
     "start_time": "2020-06-18T08:58:40.600Z"
    }
   },
   "outputs": [],
   "source": [
    "submission.sample(10)"
   ]
  }
 ],
 "metadata": {
  "kernelspec": {
   "display_name": "Python 3",
   "language": "python",
   "name": "python3"
  },
  "language_info": {
   "codemirror_mode": {
    "name": "ipython",
    "version": 3
   },
   "file_extension": ".py",
   "mimetype": "text/x-python",
   "name": "python",
   "nbconvert_exporter": "python",
   "pygments_lexer": "ipython3",
   "version": "3.7.6"
  },
  "toc": {
   "base_numbering": 1,
   "nav_menu": {},
   "number_sections": true,
   "sideBar": true,
   "skip_h1_title": false,
   "title_cell": "Table of Contents",
   "title_sidebar": "Contents",
   "toc_cell": false,
   "toc_position": {
    "height": "calc(100% - 180px)",
    "left": "10px",
    "top": "150px",
    "width": "165px"
   },
   "toc_section_display": true,
   "toc_window_display": true
  }
 },
 "nbformat": 4,
 "nbformat_minor": 4
}
