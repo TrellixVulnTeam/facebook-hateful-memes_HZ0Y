{
 "cells": [
  {
   "cell_type": "markdown",
   "metadata": {},
   "source": [
    "# Setup"
   ]
  },
  {
   "cell_type": "code",
   "execution_count": 1,
   "metadata": {
    "ExecuteTime": {
     "end_time": "2020-10-15T04:46:18.002902Z",
     "start_time": "2020-10-15T04:46:15.062612Z"
    }
   },
   "outputs": [],
   "source": [
    "import pandas as pd\n",
    "import numpy as np\n",
    "import jsonlines\n",
    "import seaborn as sns\n",
    "%matplotlib inline\n",
    "%config InlineBackend.figure_format = 'retina'\n",
    "import torch.nn as nn\n",
    "import torch\n",
    "import torch.nn.functional as F\n",
    "from torch.utils.data import Dataset, DataLoader\n",
    "from torchvision import transforms, utils\n",
    "import torch_optimizer as optim\n",
    "import os\n",
    "\n",
    "from IPython.core.interactiveshell import InteractiveShell\n",
    "InteractiveShell.ast_node_interactivity = \"all\"\n",
    "from importlib import reload\n",
    "pd.set_option('display.max_rows', 500)\n",
    "pd.set_option('display.float_format', '{:0.3f}'.format)\n",
    "pd.set_option('display.max_columns', 500)\n",
    "pd.set_option('display.width', 1000)\n",
    "pd.options.display.width = 0\n",
    "import warnings\n",
    "import torchvision\n",
    "warnings.filterwarnings('ignore')\n",
    "\n",
    "from facebook_hateful_memes_detector.utils.globals import set_global, get_global\n",
    "set_global(\"cache_dir\", \"/home/ahemf/cache/cache\")\n",
    "set_global(\"dataloader_workers\", 4)\n",
    "set_global(\"use_autocast\", True)\n",
    "set_global(\"models_dir\", \"/home/ahemf/cache/\")\n",
    "\n",
    "from facebook_hateful_memes_detector.utils import read_json_lines_into_df, in_notebook, set_device, my_collate, clean_memory\n",
    "get_global(\"cache_dir\")\n",
    "from facebook_hateful_memes_detector.models import Fasttext1DCNNModel, MultiImageMultiTextAttentionEarlyFusionModel, LangFeaturesModel, AlbertClassifer\n",
    "from facebook_hateful_memes_detector.preprocessing import TextImageDataset, get_datasets, get_image2torchvision_transforms, TextAugment\n",
    "from facebook_hateful_memes_detector.preprocessing import DefinedRotation, QuadrantCut, ImageAugment\n",
    "from facebook_hateful_memes_detector.training import *\n",
    "import facebook_hateful_memes_detector\n",
    "reload(facebook_hateful_memes_detector)\n",
    "\n",
    "device = torch.device(\"cuda\" if torch.cuda.is_available() else \"cpu\")\n",
    "set_device(device)\n",
    "device\n",
    "\n",
    "from transformers import pipeline\n",
    "from transformers import AutoTokenizer, AutoModelForQuestionAnswering\n",
    "import torch\n",
    "from transformers import AutoModelWithLMHead, AutoTokenizer\n",
    "from transformers import pipeline\n",
    "from transformers import AutoModelWithLMHead, AutoTokenizer\n",
    "from transformers import MarianMTModel, MarianTokenizer\n",
    "from tqdm.auto import tqdm, trange\n",
    "from transformers import MarianMTModel, MarianTokenizer\n"
   ]
  },
  {
   "cell_type": "code",
   "execution_count": 3,
   "metadata": {
    "ExecuteTime": {
     "end_time": "2020-10-15T04:57:22.860423Z",
     "start_time": "2020-10-15T04:57:22.731585Z"
    }
   },
   "outputs": [],
   "source": [
    "data = get_datasets(data_dir=\"/home/ahemf/cache/data/\",\n",
    "                    train_text_transform=None,\n",
    "                    train_image_transform=None,\n",
    "                    test_text_transform=None,\n",
    "                    test_image_transform=None,\n",
    "                    train_torchvision_pre_image_transform=None,\n",
    "                    test_torchvision_pre_image_transform=None,\n",
    "                    cache_images=False,\n",
    "                    use_images=True,\n",
    "                    dev=False,\n",
    "                    test_dev=True,\n",
    "                    keep_original_text=True,\n",
    "                    keep_original_image=True,\n",
    "                    keep_processed_image=True,\n",
    "                    keep_torchvision_image=False,\n",
    "                    train_mixup_config=None)\n",
    "\n",
    "\n",
    "data[\"test\"][\"label\"] = -1\n",
    "data['test_unseen'][\"label\"] = -1\n",
    "dev_unseen = data['dev_unseen'].copy()\n",
    "data['dev_unseen'][\"label\"] = -1\n",
    "\n",
    "df = pd.concat((data[\"train\"],\n",
    "                data['dev_unseen'],\n",
    "                data[\"test\"], data['test_unseen']))\n"
   ]
  },
  {
   "cell_type": "code",
   "execution_count": 2,
   "metadata": {
    "ExecuteTime": {
     "end_time": "2020-10-13T18:21:08.195555Z",
     "start_time": "2020-10-13T18:21:08.186988Z"
    }
   },
   "outputs": [],
   "source": [
    "df = pd.read_csv(\"/home/ahemf/cache/new_items.csv\")"
   ]
  },
  {
   "cell_type": "code",
   "execution_count": 3,
   "metadata": {
    "ExecuteTime": {
     "end_time": "2020-10-13T18:21:08.216932Z",
     "start_time": "2020-10-13T18:21:08.197470Z"
    }
   },
   "outputs": [],
   "source": [
    "def build_translator(lang_models, model_type=\"huggingface\"):\n",
    "    \n",
    "    if model_type==\"huggingface\":\n",
    "        forward_model, backward_model = lang_models[\"fwd\"], lang_models[\"inv\"]\n",
    "        tokenizer = MarianTokenizer.from_pretrained(forward_model)\n",
    "        model = MarianMTModel.from_pretrained(forward_model)\n",
    "        model = model.to(get_device())\n",
    "        model = model.eval()\n",
    "        state = dict(fwd=(tokenizer, model))\n",
    "        tokenizer = MarianTokenizer.from_pretrained(backward_model)\n",
    "        model = MarianMTModel.from_pretrained(backward_model)\n",
    "        model = model.to(get_device())\n",
    "        model = model.eval()\n",
    "        state[\"inv\"] = (tokenizer, model)\n",
    "    elif model_type==\"pytorch\":\n",
    "        forward_model, backward_model = lang_models[\"fwd\"], lang_models[\"inv\"]\n",
    "        if \"fwd_checkpoint_file\" in lang_models:\n",
    "            model = torch.hub.load('pytorch/fairseq', forward_model, \n",
    "                                   tokenizer='moses', bpe='fastbpe', checkpoint_file=lang_models[\"fwd_checkpoint_file\"])\n",
    "            \n",
    "        else:\n",
    "            model = torch.hub.load('pytorch/fairseq', forward_model, tokenizer='moses', bpe='fastbpe')\n",
    "            \n",
    "            \n",
    "        if \"inv_checkpoint_file\" in lang_models:\n",
    "            backward_model = torch.hub.load('pytorch/fairseq', backward_model, \n",
    "                                            tokenizer='moses', bpe='fastbpe', checkpoint_file=lang_models[\"inv_checkpoint_file\"])\n",
    "        else:\n",
    "            backward_model = torch.hub.load('pytorch/fairseq', backward_model, tokenizer='moses', bpe='fastbpe')\n",
    "        model = model.to(get_device())\n",
    "        model = model.eval()\n",
    "        backward_model = backward_model.to(get_device())\n",
    "        backward_model = backward_model.eval()\n",
    "        state = dict(fwd=model, inv=backward_model)\n",
    "        \n",
    "    def translate(text):\n",
    "        texts = [text]\n",
    "        if model_type==\"huggingface\":\n",
    "            fwd_tokenizer, fwd_model = state[\"fwd\"]\n",
    "            inv_tokenizer, inv_model = state[\"inv\"]\n",
    "            lang_codes = fwd_tokenizer.supported_language_codes\n",
    "            if \"ROMANCE\" in forward_model:\n",
    "                lang_codes = ['>>fr<<', '>>es<<', '>>it<<', '>>pt<<', '>>ro<<', '>>ca<<', '>>gl<<', '>>la<<', '>>wa<<', '>>fur<<', '>>oc<<', '>>sc<<', '>>an<<', '>>frp<<',]\n",
    "                better_lang_codes = ['>>fr<<', '>>es<<', '>>it<<', '>>pt<<', '>>ca<<', '>>fur<<', '>>oc<<', '>>sc<<', '>>an<<', '>>frp<<']\n",
    "                lang_codes = better_lang_codes\n",
    "            if \"CELTIC\" in forward_model:\n",
    "                lang_codes = ['>>ga<<']\n",
    "            if len(lang_codes) > 0:\n",
    "                texts = [t for text in texts for t in [lang+\" \"+text for lang in lang_codes]]\n",
    "            batch = fwd_tokenizer.prepare_translation_batch(texts)\n",
    "            for k, v in batch.items():\n",
    "                if isinstance(v, torch.Tensor):\n",
    "                    v = v.to(get_device())\n",
    "                    batch[k] = v\n",
    "            translated = fwd_model.generate(**batch)\n",
    "            fwd_translations = [fwd_tokenizer.decode(t, skip_special_tokens=True) for t in translated]\n",
    "            inv_batch = inv_tokenizer.prepare_translation_batch(fwd_translations)\n",
    "            for k, v in inv_batch.items():\n",
    "                if isinstance(v, torch.Tensor):\n",
    "                    v = v.to(get_device())\n",
    "                    inv_batch[k] = v\n",
    "            translated = inv_model.generate(**inv_batch)\n",
    "            tgt_text = [inv_tokenizer.decode(t, skip_special_tokens=True) for t in translated]\n",
    "            clean_memory()\n",
    "            return tgt_text\n",
    "        elif model_type==\"pytorch\":\n",
    "            intermediate = state[\"fwd\"].translate(text)\n",
    "            res = state[\"inv\"].translate(intermediate)\n",
    "            clean_memory()\n",
    "            return [res]\n",
    "    return translate\n"
   ]
  },
  {
   "cell_type": "code",
   "execution_count": 4,
   "metadata": {
    "ExecuteTime": {
     "end_time": "2020-10-13T18:21:09.225788Z",
     "start_time": "2020-10-13T18:21:09.222895Z"
    }
   },
   "outputs": [],
   "source": [
    "fox = \"The quick brown fox jumps over the lazy dog.\"\n",
    "cats = \"The cat sat on the front porch sipping a pint of milk.\"\n",
    "text = 'have you ever studied the history of the jews? did you know that they have always banded together as a tribe, infiltrated governments.'\n",
    "text_long = 'have you ever studied the history of the jews? did you know that they have always banded together as a tribe, infiltrated governments, monopolized the financial systems of nations instigated wars and intentionally created chaos in societies? the jews have mass murdered millions of non- jews over the centuries they have seized control of the media so you will never find out study the history of the jews!'\n"
   ]
  },
  {
   "cell_type": "code",
   "execution_count": 5,
   "metadata": {
    "ExecuteTime": {
     "end_time": "2020-10-13T18:21:09.666059Z",
     "start_time": "2020-10-13T18:21:09.662419Z"
    }
   },
   "outputs": [],
   "source": [
    "hg_en_ru = dict(fwd='Helsinki-NLP/opus-mt-en-ru', inv='Helsinki-NLP/opus-mt-ru-en')\n",
    "hg_en_de = dict(fwd='Helsinki-NLP/opus-mt-en-de', inv='Helsinki-NLP/opus-mt-de-en')\n",
    "hg_en_celtic = dict(fwd='Helsinki-NLP/opus-mt-en-CELTIC', inv='sshleifer/opus-mt-CELTIC-en')\n",
    "hg_en_romance = dict(fwd='Helsinki-NLP/opus-mt-en-ROMANCE', inv='Helsinki-NLP/opus-mt-ROMANCE-en')\n",
    "\n"
   ]
  },
  {
   "cell_type": "code",
   "execution_count": null,
   "metadata": {
    "ExecuteTime": {
     "end_time": "2020-08-23T19:38:56.169097Z",
     "start_time": "2020-08-23T19:38:34.285610Z"
    }
   },
   "outputs": [],
   "source": [
    "fox = \"The quick brown fox jumps over the lazy dog.\"\n",
    "cats = \"The cat sat on the front porch sipping a pint of milk.\"\n",
    "text = 'have you ever studied the history of the jews? did you know that they have always banded together as a tribe, infiltrated governments.'\n",
    "text_long = 'have you ever studied the history of the jews? did you know that they have always banded together as a tribe, infiltrated governments, monopolized the financial systems of nations instigated wars and intentionally created chaos in societies? the jews have mass murdered millions of non- jews over the centuries they have seized control of the media so you will never find out study the history of the jews!'\n",
    "translate = build_translator(hg_en_ru)\n",
    "translate(fox)\n",
    "translate(cats)\n",
    "translate(text)\n"
   ]
  },
  {
   "cell_type": "code",
   "execution_count": 6,
   "metadata": {
    "ExecuteTime": {
     "end_time": "2020-10-13T18:21:12.248132Z",
     "start_time": "2020-10-13T18:21:12.242505Z"
    }
   },
   "outputs": [],
   "source": [
    "\n",
    "pt_en_de_1 = dict(fwd='transformer.wmt19.en-de.single_model', inv='transformer.wmt19.de-en.single_model')\n",
    "pt_en_de_2 = dict(fwd='transformer.wmt19.en-de.single_model', inv='transformer.wmt19.de-en', inv_checkpoint_file='model1.pt:model2.pt:model3.pt:model4.pt')\n",
    "\n",
    "pt_en_de_3 = dict(fwd='transformer.wmt19.en-de', fwd_checkpoint_file='model1.pt:model2.pt:model3.pt:model4.pt', \n",
    "                  inv='transformer.wmt19.de-en.single_model')\n",
    "pt_en_de_4 = dict(fwd='transformer.wmt19.en-de', fwd_checkpoint_file='model1.pt:model2.pt:model3.pt:model4.pt', \n",
    "                  inv='transformer.wmt19.de-en', inv_checkpoint_file='model1.pt:model2.pt:model3.pt:model4.pt')\n",
    "\n",
    "pt_en_de_5 = dict(fwd='transformer.wmt16.en-de', inv='transformer.wmt19.de-en.single_model')\n",
    "pt_en_de_6 = dict(fwd='transformer.wmt16.en-de', inv='transformer.wmt19.de-en', inv_checkpoint_file='model1.pt:model2.pt:model3.pt:model4.pt')\n",
    "\n",
    "pt_en_de_7 = dict(fwd='conv.wmt17.en-de', inv='transformer.wmt19.de-en.single_model')\n",
    "pt_en_de_8 = dict(fwd='conv.wmt17.en-de', inv='transformer.wmt19.de-en', inv_checkpoint_file='model1.pt:model2.pt:model3.pt:model4.pt')\n",
    "\n",
    "pt_en_ru = dict(fwd='transformer.wmt19.en-ru.single_model', inv='transformer.wmt19.ru-en.single_model')\n",
    "\n"
   ]
  },
  {
   "cell_type": "code",
   "execution_count": 17,
   "metadata": {
    "ExecuteTime": {
     "end_time": "2020-08-23T19:34:06.842224Z",
     "start_time": "2020-08-23T19:23:38.633974Z"
    },
    "scrolled": true
   },
   "outputs": [
    {
     "name": "stderr",
     "output_type": "stream",
     "text": [
      "Using cache found in /home/ahemf/.cache/torch/hub/pytorch_fairseq_master\n",
      "100%|██████████| 2193287384/2193287384 [00:43<00:00, 50676906.93B/s]\n",
      "Using cache found in /home/ahemf/.cache/torch/hub/pytorch_fairseq_master\n"
     ]
    },
    {
     "data": {
      "text/plain": [
       "['The speedy brown fox skips over the lazy dog.']"
      ]
     },
     "execution_count": 17,
     "metadata": {},
     "output_type": "execute_result"
    },
    {
     "data": {
      "text/plain": [
       "['The cat sat on the front pork and drank a pint of milk.']"
      ]
     },
     "execution_count": 17,
     "metadata": {},
     "output_type": "execute_result"
    },
    {
     "data": {
      "text/plain": [
       "['have you ever studied the history of the jews? did you know that as a tribe, they have always gagged infiltrated governments.']"
      ]
     },
     "execution_count": 17,
     "metadata": {},
     "output_type": "execute_result"
    }
   ],
   "source": [
    "\n",
    "translate = build_translator(pt_en_de_5, model_type=\"pytorch\")\n",
    "translate(fox)\n",
    "translate(cats)\n",
    "translate(text)"
   ]
  },
  {
   "cell_type": "markdown",
   "metadata": {
    "heading_collapsed": true
   },
   "source": [
    "# DAB"
   ]
  },
  {
   "cell_type": "code",
   "execution_count": 7,
   "metadata": {
    "ExecuteTime": {
     "end_time": "2020-10-13T18:21:15.694351Z",
     "start_time": "2020-10-13T18:21:15.691772Z"
    },
    "hidden": true
   },
   "outputs": [],
   "source": [
    "results = []"
   ]
  },
  {
   "cell_type": "code",
   "execution_count": 8,
   "metadata": {
    "ExecuteTime": {
     "end_time": "2020-10-13T19:28:44.848875Z",
     "start_time": "2020-10-13T18:21:19.314981Z"
    },
    "hidden": true
   },
   "outputs": [
    {
     "name": "stderr",
     "output_type": "stream",
     "text": [
      "Using cache found in /home/ahemf/.cache/torch/hub/pytorch_fairseq_master\n",
      "100%|██████████| 2193287384/2193287384 [00:59<00:00, 36697088.26B/s]\n",
      "Using cache found in /home/ahemf/.cache/torch/hub/pytorch_fairseq_master\n"
     ]
    },
    {
     "data": {
      "application/vnd.jupyter.widget-view+json": {
       "model_id": "12e2ff1f17c64c0b9a27d91b84a3c52d",
       "version_major": 2,
       "version_minor": 0
      },
      "text/plain": [
       "HBox(children=(FloatProgress(value=0.0, max=2540.0), HTML(value='')))"
      ]
     },
     "metadata": {},
     "output_type": "display_data"
    },
    {
     "name": "stdout",
     "output_type": "stream",
     "text": [
      "\n"
     ]
    }
   ],
   "source": [
    "translate = build_translator(pt_en_de_6, model_type=\"pytorch\")\n",
    "\n",
    "for row in tqdm(df.iterrows(), total=df.shape[0]):\n",
    "    keys = row[1].index.values\n",
    "    values = row[1].values\n",
    "    d = dict(zip(keys, values))\n",
    "    t = translate(d[\"text\"])\n",
    "    if isinstance(t, (list, tuple)):\n",
    "        r = [(d[\"id\"],ts) for ts in t]\n",
    "        results.extend(r)\n",
    "    else:\n",
    "        results.append((d[\"id\"], t))\n",
    "        "
   ]
  },
  {
   "cell_type": "code",
   "execution_count": 9,
   "metadata": {
    "ExecuteTime": {
     "end_time": "2020-10-13T19:29:12.354912Z",
     "start_time": "2020-10-13T19:29:12.349983Z"
    },
    "hidden": true
   },
   "outputs": [
    {
     "data": {
      "text/plain": [
       "(38794, \"when they say white people don't know how to cook\")"
      ]
     },
     "execution_count": 9,
     "metadata": {},
     "output_type": "execute_result"
    }
   ],
   "source": [
    "results[1]"
   ]
  },
  {
   "cell_type": "code",
   "execution_count": 35,
   "metadata": {
    "ExecuteTime": {
     "end_time": "2020-08-25T06:14:03.737042Z",
     "start_time": "2020-08-25T06:14:03.682691Z"
    },
    "hidden": true
   },
   "outputs": [],
   "source": [
    "# flattened = []\n",
    "# for identifier, translations in results:\n",
    "#     flattened.extend([(identifier, t) for t in translations])\n"
   ]
  },
  {
   "cell_type": "code",
   "execution_count": 12,
   "metadata": {
    "ExecuteTime": {
     "end_time": "2020-10-13T18:20:26.386023Z",
     "start_time": "2020-10-13T18:20:26.381687Z"
    },
    "hidden": true
   },
   "outputs": [
    {
     "data": {
      "text/plain": [
       "2540"
      ]
     },
     "execution_count": 12,
     "metadata": {},
     "output_type": "execute_result"
    }
   ],
   "source": [
    "len(results)"
   ]
  },
  {
   "cell_type": "code",
   "execution_count": 11,
   "metadata": {
    "ExecuteTime": {
     "end_time": "2020-10-13T19:29:46.924354Z",
     "start_time": "2020-10-13T19:29:46.904584Z"
    },
    "hidden": true
   },
   "outputs": [],
   "source": [
    "pd.DataFrame(results, columns=[\"id\", \"text\"]).to_csv(os.path.join(get_global(\"models_dir\"),\"new_items_10.csv\"), index=False)\n"
   ]
  },
  {
   "cell_type": "markdown",
   "metadata": {},
   "source": [
    "# Combine"
   ]
  },
  {
   "cell_type": "code",
   "execution_count": 21,
   "metadata": {
    "ExecuteTime": {
     "end_time": "2020-10-13T20:12:15.803868Z",
     "start_time": "2020-10-13T20:12:15.716838Z"
    }
   },
   "outputs": [],
   "source": [
    "df = pd.read_csv(\"/home/ahemf/cache/new_items.csv\", engine=\"python\")\n",
    "translated_cols = list(set(df.columns) - {'text'})\n",
    "df_translated = df[translated_cols]\n",
    "df = df[[\"id\", \"text\"]]\n",
    "\n",
    "dabs = []\n",
    "for c in translated_cols:\n",
    "    if c!=\"id\":\n",
    "        dabs.append(df_translated[[\"id\", c]].rename(columns={c:\"text\"}))\n"
   ]
  },
  {
   "cell_type": "code",
   "execution_count": 22,
   "metadata": {
    "ExecuteTime": {
     "end_time": "2020-10-13T20:12:17.179896Z",
     "start_time": "2020-10-13T20:12:17.091691Z"
    }
   },
   "outputs": [],
   "source": [
    "# dabs = []\n",
    "for i in range(1, 14):\n",
    "    db = pd.read_csv(os.path.join(get_global(\"models_dir\"),\"new_items_%s.csv\"%i))\n",
    "    dabs.append(db)\n",
    "    "
   ]
  },
  {
   "cell_type": "code",
   "execution_count": 23,
   "metadata": {
    "ExecuteTime": {
     "end_time": "2020-10-13T20:12:17.591216Z",
     "start_time": "2020-10-13T20:12:17.576789Z"
    }
   },
   "outputs": [],
   "source": [
    "dabs = pd.concat((dabs))"
   ]
  },
  {
   "cell_type": "code",
   "execution_count": 24,
   "metadata": {
    "ExecuteTime": {
     "end_time": "2020-10-13T20:12:18.598198Z",
     "start_time": "2020-10-13T20:12:18.571673Z"
    }
   },
   "outputs": [
    {
     "data": {
      "text/plain": [
       "(93980, 2)"
      ]
     },
     "execution_count": 24,
     "metadata": {},
     "output_type": "execute_result"
    },
    {
     "data": {
      "text/plain": [
       "(2540, 2)"
      ]
     },
     "execution_count": 24,
     "metadata": {},
     "output_type": "execute_result"
    }
   ],
   "source": [
    "dabs.shape\n",
    "dabs.text = dabs.text.astype(str)\n",
    "df.shape"
   ]
  },
  {
   "cell_type": "code",
   "execution_count": 25,
   "metadata": {
    "ExecuteTime": {
     "end_time": "2020-10-13T20:12:19.688113Z",
     "start_time": "2020-10-13T20:12:19.507975Z"
    }
   },
   "outputs": [
    {
     "data": {
      "text/plain": [
       "40963"
      ]
     },
     "execution_count": 25,
     "metadata": {},
     "output_type": "execute_result"
    },
    {
     "data": {
      "text/plain": [
       "40963"
      ]
     },
     "execution_count": 25,
     "metadata": {},
     "output_type": "execute_result"
    },
    {
     "data": {
      "text/plain": [
       "(2540, 2)"
      ]
     },
     "execution_count": 25,
     "metadata": {},
     "output_type": "execute_result"
    },
    {
     "data": {
      "text/plain": [
       "1818"
      ]
     },
     "execution_count": 25,
     "metadata": {},
     "output_type": "execute_result"
    },
    {
     "data": {
      "text/plain": [
       "1818"
      ]
     },
     "execution_count": 25,
     "metadata": {},
     "output_type": "execute_result"
    }
   ],
   "source": [
    "len(set(list(dabs.text.apply(lambda x: x.strip().lower()))))\n",
    "len(set(list(dabs.text.apply(lambda x: x.lower().strip()))))\n",
    "\n",
    "df.shape\n",
    "len(set(list(df.text.apply(lambda x: x.strip().lower()))))\n",
    "len(set(list(df.text.apply(lambda x: x.lower().strip()))))\n"
   ]
  },
  {
   "cell_type": "code",
   "execution_count": 26,
   "metadata": {
    "ExecuteTime": {
     "end_time": "2020-10-13T20:12:21.695826Z",
     "start_time": "2020-10-13T20:12:21.686890Z"
    }
   },
   "outputs": [
    {
     "data": {
      "text/html": [
       "<div>\n",
       "<style scoped>\n",
       "    .dataframe tbody tr th:only-of-type {\n",
       "        vertical-align: middle;\n",
       "    }\n",
       "\n",
       "    .dataframe tbody tr th {\n",
       "        vertical-align: top;\n",
       "    }\n",
       "\n",
       "    .dataframe thead th {\n",
       "        text-align: right;\n",
       "    }\n",
       "</style>\n",
       "<table border=\"1\" class=\"dataframe\">\n",
       "  <thead>\n",
       "    <tr style=\"text-align: right;\">\n",
       "      <th></th>\n",
       "      <th>id</th>\n",
       "      <th>text</th>\n",
       "    </tr>\n",
       "  </thead>\n",
       "  <tbody>\n",
       "    <tr>\n",
       "      <th>0</th>\n",
       "      <td>15740</td>\n",
       "      <td>when someone tells you how to grill</td>\n",
       "    </tr>\n",
       "    <tr>\n",
       "      <th>1</th>\n",
       "      <td>38794</td>\n",
       "      <td>if they know that people say, do not know how ...</td>\n",
       "    </tr>\n",
       "    <tr>\n",
       "      <th>2</th>\n",
       "      <td>60792</td>\n",
       "      <td>the original face DERP</td>\n",
       "    </tr>\n",
       "    <tr>\n",
       "      <th>3</th>\n",
       "      <td>71824</td>\n",
       "      <td>OK, here you go! piece of shit!</td>\n",
       "    </tr>\n",
       "    <tr>\n",
       "      <th>4</th>\n",
       "      <td>4796</td>\n",
       "      <td>xboxone Agriculture Simulator 1619</td>\n",
       "    </tr>\n",
       "  </tbody>\n",
       "</table>\n",
       "</div>"
      ],
      "text/plain": [
       "      id                                               text\n",
       "0  15740                when someone tells you how to grill\n",
       "1  38794  if they know that people say, do not know how ...\n",
       "2  60792                             the original face DERP\n",
       "3  71824                    OK, here you go! piece of shit!\n",
       "4   4796                 xboxone Agriculture Simulator 1619"
      ]
     },
     "execution_count": 26,
     "metadata": {},
     "output_type": "execute_result"
    }
   ],
   "source": [
    "dabs.head()"
   ]
  },
  {
   "cell_type": "code",
   "execution_count": 27,
   "metadata": {
    "ExecuteTime": {
     "end_time": "2020-10-13T20:12:38.380197Z",
     "start_time": "2020-10-13T20:12:29.046717Z"
    }
   },
   "outputs": [
    {
     "data": {
      "text/plain": [
       "56532"
      ]
     },
     "execution_count": 27,
     "metadata": {},
     "output_type": "execute_result"
    }
   ],
   "source": [
    "from collections import defaultdict\n",
    "id2textset = defaultdict(set)\n",
    "original_pairs = []\n",
    "\n",
    "for row in df.iterrows():\n",
    "    idx = row[0]\n",
    "    identifier, text = row[1]\n",
    "    if text.lower().strip() in id2textset[identifier]:\n",
    "        continue\n",
    "    else:\n",
    "        id2textset[identifier].add(text.lower().strip())\n",
    "\n",
    "for row in dabs.iterrows():\n",
    "    idx = row[0]\n",
    "    identifier, text = row[1]\n",
    "    if text.lower().strip() in id2textset[identifier]:\n",
    "        continue\n",
    "    else:\n",
    "        id2textset[identifier].add(text.lower().strip())\n",
    "        original_pairs.append((identifier, text))\n",
    "\n",
    "len(original_pairs)\n"
   ]
  },
  {
   "cell_type": "code",
   "execution_count": 28,
   "metadata": {
    "ExecuteTime": {
     "end_time": "2020-10-13T20:12:42.970987Z",
     "start_time": "2020-10-13T20:12:42.781800Z"
    }
   },
   "outputs": [],
   "source": [
    "dab = pd.DataFrame(original_pairs, columns=[\"id\", \"text\"])\n",
    "dab.to_csv(os.path.join(get_global(\"models_dir\"),\"new_dab.csv\"), index=False)\n"
   ]
  },
  {
   "cell_type": "code",
   "execution_count": 37,
   "metadata": {
    "ExecuteTime": {
     "end_time": "2020-10-13T20:17:07.373514Z",
     "start_time": "2020-10-13T20:17:04.291813Z"
    }
   },
   "outputs": [
    {
     "data": {
      "text/plain": [
       "(294135, 2)"
      ]
     },
     "execution_count": 37,
     "metadata": {},
     "output_type": "execute_result"
    },
    {
     "data": {
      "text/html": [
       "<div>\n",
       "<style scoped>\n",
       "    .dataframe tbody tr th:only-of-type {\n",
       "        vertical-align: middle;\n",
       "    }\n",
       "\n",
       "    .dataframe tbody tr th {\n",
       "        vertical-align: top;\n",
       "    }\n",
       "\n",
       "    .dataframe thead th {\n",
       "        text-align: right;\n",
       "    }\n",
       "</style>\n",
       "<table border=\"1\" class=\"dataframe\">\n",
       "  <thead>\n",
       "    <tr style=\"text-align: right;\">\n",
       "      <th></th>\n",
       "      <th>id</th>\n",
       "      <th>text</th>\n",
       "    </tr>\n",
       "  </thead>\n",
       "  <tbody>\n",
       "    <tr>\n",
       "      <th>0</th>\n",
       "      <td>42953</td>\n",
       "      <td>his character not the color that matters</td>\n",
       "    </tr>\n",
       "    <tr>\n",
       "      <th>1</th>\n",
       "      <td>23058</td>\n",
       "      <td>do not be afraid to love again everyone is not...</td>\n",
       "    </tr>\n",
       "    <tr>\n",
       "      <th>2</th>\n",
       "      <td>13894</td>\n",
       "      <td>put bows on your pet</td>\n",
       "    </tr>\n",
       "    <tr>\n",
       "      <th>3</th>\n",
       "      <td>37408</td>\n",
       "      <td>I like everything and everyone! except I hate ...</td>\n",
       "    </tr>\n",
       "    <tr>\n",
       "      <th>4</th>\n",
       "      <td>82403</td>\n",
       "      <td>everyone loves cookies with chocolate chips, e...</td>\n",
       "    </tr>\n",
       "  </tbody>\n",
       "</table>\n",
       "</div>"
      ],
      "text/plain": [
       "      id                                               text\n",
       "0  42953           his character not the color that matters\n",
       "1  23058  do not be afraid to love again everyone is not...\n",
       "2  13894                               put bows on your pet\n",
       "3  37408  I like everything and everyone! except I hate ...\n",
       "4  82403  everyone loves cookies with chocolate chips, e..."
      ]
     },
     "execution_count": 37,
     "metadata": {},
     "output_type": "execute_result"
    },
    {
     "data": {
      "text/plain": [
       "(350667, 2)"
      ]
     },
     "execution_count": 37,
     "metadata": {},
     "output_type": "execute_result"
    }
   ],
   "source": [
    "fdab = pd.read_csv(\"/home/ahemf/cache/fdab.csv\", engine=\"python\")\n",
    "fdab.shape\n",
    "fdab = pd.concat((fdab, dab))\n",
    "fdab.head()\n",
    "fdab.shape\n",
    "fdab.to_csv(\"/home/ahemf/cache/fdab.csv\", index=False)\n"
   ]
  },
  {
   "cell_type": "code",
   "execution_count": 63,
   "metadata": {
    "ExecuteTime": {
     "end_time": "2020-08-25T07:16:17.828794Z",
     "start_time": "2020-08-25T07:16:17.798644Z"
    }
   },
   "outputs": [
    {
     "data": {
      "text/plain": [
       "text    1\n",
       "dtype: int64"
      ]
     },
     "execution_count": 63,
     "metadata": {},
     "output_type": "execute_result"
    }
   ],
   "source": [
    "dab.groupby([\"id\"]).count().min()"
   ]
  },
  {
   "cell_type": "code",
   "execution_count": 64,
   "metadata": {
    "ExecuteTime": {
     "end_time": "2020-08-25T07:16:26.319112Z",
     "start_time": "2020-08-25T07:16:26.312659Z"
    }
   },
   "outputs": [
    {
     "data": {
      "text/plain": [
       "9996"
      ]
     },
     "execution_count": 64,
     "metadata": {},
     "output_type": "execute_result"
    }
   ],
   "source": [
    "dab.id.nunique()"
   ]
  },
  {
   "cell_type": "code",
   "execution_count": 29,
   "metadata": {
    "ExecuteTime": {
     "end_time": "2020-10-13T20:12:51.201957Z",
     "start_time": "2020-10-13T20:12:51.196771Z"
    }
   },
   "outputs": [
    {
     "data": {
      "text/plain": [
       "array([[15740, 'when someone tells you how to grill'],\n",
       "       [38794, 'if they know that people say, do not know how to cook'],\n",
       "       [60792, 'the original face DERP'],\n",
       "       [71824, 'OK, here you go! piece of shit!'],\n",
       "       [4796, 'xboxone Agriculture Simulator 1619']], dtype=object)"
      ]
     },
     "execution_count": 29,
     "metadata": {},
     "output_type": "execute_result"
    }
   ],
   "source": [
    "dab.head().values"
   ]
  },
  {
   "cell_type": "code",
   "execution_count": 67,
   "metadata": {
    "ExecuteTime": {
     "end_time": "2020-08-25T17:28:42.647450Z",
     "start_time": "2020-08-25T17:28:42.639029Z"
    }
   },
   "outputs": [
    {
     "data": {
      "text/html": [
       "<div>\n",
       "<style scoped>\n",
       "    .dataframe tbody tr th:only-of-type {\n",
       "        vertical-align: middle;\n",
       "    }\n",
       "\n",
       "    .dataframe tbody tr th {\n",
       "        vertical-align: top;\n",
       "    }\n",
       "\n",
       "    .dataframe thead th {\n",
       "        text-align: right;\n",
       "    }\n",
       "</style>\n",
       "<table border=\"1\" class=\"dataframe\">\n",
       "  <thead>\n",
       "    <tr style=\"text-align: right;\">\n",
       "      <th></th>\n",
       "      <th>id</th>\n",
       "      <th>text</th>\n",
       "    </tr>\n",
       "  </thead>\n",
       "  <tbody>\n",
       "    <tr>\n",
       "      <th>0</th>\n",
       "      <td>42953</td>\n",
       "      <td>its their character not their color that matters</td>\n",
       "    </tr>\n",
       "    <tr>\n",
       "      <th>1</th>\n",
       "      <td>23058</td>\n",
       "      <td>don't be afraid to love again everyone is not ...</td>\n",
       "    </tr>\n",
       "    <tr>\n",
       "      <th>2</th>\n",
       "      <td>13894</td>\n",
       "      <td>putting bows on your pet</td>\n",
       "    </tr>\n",
       "    <tr>\n",
       "      <th>3</th>\n",
       "      <td>37408</td>\n",
       "      <td>i love everything and everybody! except for sq...</td>\n",
       "    </tr>\n",
       "    <tr>\n",
       "      <th>4</th>\n",
       "      <td>82403</td>\n",
       "      <td>everybody loves chocolate chip cookies, even h...</td>\n",
       "    </tr>\n",
       "  </tbody>\n",
       "</table>\n",
       "</div>"
      ],
      "text/plain": [
       "      id                                               text\n",
       "0  42953   its their character not their color that matters\n",
       "1  23058  don't be afraid to love again everyone is not ...\n",
       "2  13894                           putting bows on your pet\n",
       "3  37408  i love everything and everybody! except for sq...\n",
       "4  82403  everybody loves chocolate chip cookies, even h..."
      ]
     },
     "execution_count": 67,
     "metadata": {},
     "output_type": "execute_result"
    }
   ],
   "source": [
    "df.head()"
   ]
  },
  {
   "cell_type": "code",
   "execution_count": 68,
   "metadata": {
    "ExecuteTime": {
     "end_time": "2020-08-25T18:14:22.897115Z",
     "start_time": "2020-08-25T18:14:22.864890Z"
    }
   },
   "outputs": [],
   "source": [
    "df.to_csv(\"id2text.csv\", index=False)\n"
   ]
  },
  {
   "cell_type": "code",
   "execution_count": 70,
   "metadata": {
    "ExecuteTime": {
     "end_time": "2020-08-25T18:15:08.929735Z",
     "start_time": "2020-08-25T18:15:08.668035Z"
    }
   },
   "outputs": [
    {
     "name": "stdout",
     "output_type": "stream",
     "text": [
      "/home/ahemf/mygit/facebook-hateful-memes/notebooks\r\n"
     ]
    }
   ],
   "source": [
    "!pwd"
   ]
  },
  {
   "cell_type": "code",
   "execution_count": 71,
   "metadata": {
    "ExecuteTime": {
     "end_time": "2020-08-26T07:54:45.580617Z",
     "start_time": "2020-08-26T07:54:45.318715Z"
    }
   },
   "outputs": [
    {
     "name": "stdout",
     "output_type": "stream",
     "text": [
      "its their character not their color that matters\r\n",
      "don't be afraid to love again everyone is not like your ex\r\n",
      "putting bows on your pet\r\n",
      "i love everything and everybody! except for squirrels i hate squirrels\r\n",
      "\"everybody loves chocolate chip cookies, even hitler\"\r\n"
     ]
    }
   ],
   "source": [
    "!head -n5 text.csv"
   ]
  },
  {
   "cell_type": "markdown",
   "metadata": {},
   "source": [
    "# Dedup"
   ]
  },
  {
   "cell_type": "code",
   "execution_count": 4,
   "metadata": {
    "ExecuteTime": {
     "end_time": "2020-10-15T04:59:22.329850Z",
     "start_time": "2020-10-15T04:59:20.789619Z"
    }
   },
   "outputs": [
    {
     "data": {
      "text/plain": [
       "(350667, 2)"
      ]
     },
     "execution_count": 4,
     "metadata": {},
     "output_type": "execute_result"
    },
    {
     "data": {
      "text/plain": [
       "(12540, 4)"
      ]
     },
     "execution_count": 4,
     "metadata": {},
     "output_type": "execute_result"
    }
   ],
   "source": [
    "dab = pd.read_csv(\"/home/ahemf/cache/fdab.csv\", engine=\"python\")\n",
    "dab.shape\n",
    "df.shape\n"
   ]
  },
  {
   "cell_type": "code",
   "execution_count": 9,
   "metadata": {
    "ExecuteTime": {
     "end_time": "2020-10-15T05:37:40.992484Z",
     "start_time": "2020-10-15T05:37:08.616709Z"
    }
   },
   "outputs": [
    {
     "data": {
      "text/plain": [
       "338223"
      ]
     },
     "execution_count": 9,
     "metadata": {},
     "output_type": "execute_result"
    }
   ],
   "source": [
    "from collections import defaultdict\n",
    "id2textset = defaultdict(set)\n",
    "original_pairs = []\n",
    "\n",
    "for row in df[[\"id\", \"text\"]].iterrows():\n",
    "    idx = row[0]\n",
    "    identifier, text = row[1]\n",
    "    if text.lower().strip() in id2textset[identifier]:\n",
    "        continue\n",
    "    else:\n",
    "        id2textset[identifier].add(text.lower().strip())\n",
    "\n",
    "for row in dab.iterrows():\n",
    "    idx = row[0]\n",
    "    identifier, text = row[1]\n",
    "    if text.lower().strip() in id2textset[identifier]:\n",
    "        continue\n",
    "    else:\n",
    "        id2textset[identifier].add(text.lower().strip())\n",
    "        original_pairs.append((identifier, text))\n",
    "\n",
    "len(original_pairs)\n"
   ]
  },
  {
   "cell_type": "code",
   "execution_count": 10,
   "metadata": {
    "ExecuteTime": {
     "end_time": "2020-10-15T05:56:24.888669Z",
     "start_time": "2020-10-15T05:55:50.034745Z"
    }
   },
   "outputs": [
    {
     "data": {
      "text/plain": [
       "214507"
      ]
     },
     "execution_count": 10,
     "metadata": {},
     "output_type": "execute_result"
    }
   ],
   "source": [
    "from collections import defaultdict\n",
    "id2wordset = defaultdict(set)\n",
    "original_pairs = []\n",
    "\n",
    "for row in df[[\"id\", \"text\"]].iterrows():\n",
    "    idx = row[0]\n",
    "    identifier, text = row[1]\n",
    "    id2wordset[identifier].update(set(text.lower().strip().split()))\n",
    "\n",
    "for row in dab.iterrows():\n",
    "    idx = row[0]\n",
    "    identifier, text = row[1]\n",
    "    wsset = id2wordset[identifier]\n",
    "    csset = set(text.lower().strip().split())\n",
    "    if len(csset - wsset)<1:\n",
    "        continue\n",
    "    else:\n",
    "        id2wordset[identifier].update(csset)\n",
    "        original_pairs.append((identifier, text))\n",
    "\n",
    "len(original_pairs)\n"
   ]
  },
  {
   "cell_type": "code",
   "execution_count": 15,
   "metadata": {
    "ExecuteTime": {
     "end_time": "2020-10-15T05:58:40.026033Z",
     "start_time": "2020-10-15T05:58:39.361361Z"
    }
   },
   "outputs": [],
   "source": [
    "dab = pd.DataFrame(original_pairs, columns=[\"id\", \"text\"])\n",
    "dab.to_csv(\"/home/ahemf/cache/hard_dab.csv\", index=False)\n"
   ]
  },
  {
   "cell_type": "code",
   "execution_count": 17,
   "metadata": {
    "ExecuteTime": {
     "end_time": "2020-10-15T05:59:33.255700Z",
     "start_time": "2020-10-15T05:59:33.209358Z"
    }
   },
   "outputs": [],
   "source": [
    "dab = dab.sort_values([\"id\"])\n",
    "df = df.sort_values([\"id\"])\n"
   ]
  },
  {
   "cell_type": "code",
   "execution_count": 19,
   "metadata": {
    "ExecuteTime": {
     "end_time": "2020-10-15T06:00:23.659710Z",
     "start_time": "2020-10-15T06:00:23.651049Z"
    }
   },
   "outputs": [
    {
     "data": {
      "text/plain": [
       "array([\"When you're excited, but you've had it in times, we're working on a goat.\",\n",
       "       'when you feel excited asf, but your habibi is in menstruation, to experience a goat',\n",
       "       \"If you feel like a horny ace but your fabby is in a period, let's try the goat\",\n",
       "       'When you feel horny asf, but your Habibi is over periods try a goat',\n",
       "       \"when you feel horny APS, but your habibi periods, let's try the goat\"],\n",
       "      dtype=object)"
      ]
     },
     "execution_count": 19,
     "metadata": {},
     "output_type": "execute_result"
    },
    {
     "data": {
      "text/plain": [
       "array([\"when you're feeling horny asf but your habibi is on periods let's try a goat\"],\n",
       "      dtype=object)"
      ]
     },
     "execution_count": 19,
     "metadata": {},
     "output_type": "execute_result"
    }
   ],
   "source": [
    "dab.head()['text'].values\n",
    "df.head(1)['text'].values"
   ]
  },
  {
   "cell_type": "code",
   "execution_count": null,
   "metadata": {},
   "outputs": [],
   "source": []
  }
 ],
 "metadata": {
  "kernelspec": {
   "display_name": "Python 3",
   "language": "python",
   "name": "python3"
  },
  "language_info": {
   "codemirror_mode": {
    "name": "ipython",
    "version": 3
   },
   "file_extension": ".py",
   "mimetype": "text/x-python",
   "name": "python",
   "nbconvert_exporter": "python",
   "pygments_lexer": "ipython3",
   "version": "3.7.6"
  },
  "toc": {
   "base_numbering": 1,
   "nav_menu": {},
   "number_sections": true,
   "sideBar": true,
   "skip_h1_title": false,
   "title_cell": "Table of Contents",
   "title_sidebar": "Contents",
   "toc_cell": false,
   "toc_position": {},
   "toc_section_display": true,
   "toc_window_display": false
  }
 },
 "nbformat": 4,
 "nbformat_minor": 4
}
