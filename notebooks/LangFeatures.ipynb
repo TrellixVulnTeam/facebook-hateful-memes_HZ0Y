{
 "cells": [
  {
   "cell_type": "code",
   "execution_count": 17,
   "metadata": {
    "ExecuteTime": {
     "end_time": "2020-06-12T11:37:23.363680Z",
     "start_time": "2020-06-12T11:36:47.440568Z"
    }
   },
   "outputs": [
    {
     "name": "stderr",
     "output_type": "stream",
     "text": [
      "Warning : `load_model` does not return WordVectorModel or SupervisedModel any more, but a `FastText` object which is very similar.\n"
     ]
    },
    {
     "data": {
      "text/plain": [
       "(300,)"
      ]
     },
     "execution_count": 17,
     "metadata": {},
     "output_type": "execute_result"
    }
   ],
   "source": [
    "# !wget https://dl.fbaipublicfiles.com/fasttext/vectors-english/wiki-news-300d-1M-subword.bin.zip\n",
    "# !unzip wiki-news-300d-1M-subword.bin.zip\n",
    "# import fasttext\n",
    "# text_model = fasttext.load_model(\"wiki-news-300d-1M-subword.bin\")\n",
    "# vector = text_model.get_sentence_vector(\"This is a long sentence and its vector length = 300\")\n",
    "# vector.shape\n",
    "\n",
    "# %load_ext autoreload\n",
    "# %autoreload 2\n",
    "# !wget https://dl.fbaipublicfiles.com/fasttext/vectors-english/wiki-news-300d-1M-subword.bin.zip\n",
    "# !unzip wiki-news-300d-1M-subword.bin.zip\n",
    "# # https://github.com/facebookresearch/fastText/issues/656\n"
   ]
  },
  {
   "cell_type": "code",
   "execution_count": 1,
   "metadata": {
    "ExecuteTime": {
     "end_time": "2020-06-13T10:55:24.946517Z",
     "start_time": "2020-06-13T10:55:24.943916Z"
    }
   },
   "outputs": [],
   "source": [
    "import sys\n",
    "import os\n",
    "sys.path.append(os.path.abspath('../'))\n",
    "sys.path.append(os.path.abspath(''))"
   ]
  },
  {
   "cell_type": "code",
   "execution_count": 2,
   "metadata": {
    "ExecuteTime": {
     "end_time": "2020-06-13T10:55:27.345311Z",
     "start_time": "2020-06-13T10:55:25.101624Z"
    }
   },
   "outputs": [
    {
     "name": "stdout",
     "output_type": "stream",
     "text": [
      "Better speed can be achieved with apex installed from https://www.github.com/nvidia/apex.\n"
     ]
    }
   ],
   "source": [
    "\n",
    "\n",
    "\n",
    "import pandas as pd\n",
    "import numpy as np\n",
    "import jsonlines\n",
    "import seaborn as sns\n",
    "%matplotlib inline\n",
    "%config InlineBackend.figure_format = 'retina'\n",
    "import torch.nn as nn\n",
    "import torch\n",
    "import torch.nn.functional as F\n",
    "from torch.utils.data import Dataset, DataLoader\n",
    "from torchvision import transforms, utils\n",
    "import torch_optimizer as optim\n",
    "\n",
    "\n",
    "from IPython.core.interactiveshell import InteractiveShell\n",
    "InteractiveShell.ast_node_interactivity = \"all\"\n",
    "from importlib import reload\n",
    "pd.set_option('display.max_rows', 500)\n",
    "pd.set_option('display.float_format', '{:0.3f}'.format)\n",
    "pd.set_option('display.max_columns', 500)\n",
    "pd.set_option('display.width', 1000)\n",
    "pd.options.display.width = 0\n",
    "import warnings\n",
    "warnings.filterwarnings('ignore')\n",
    "import facebook_hateful_memes_detector\n",
    "reload(facebook_hateful_memes_detector)\n",
    "\n",
    "\n",
    "from facebook_hateful_memes_detector.utils import read_json_lines_into_df, in_notebook\n",
    "from facebook_hateful_memes_detector.models import LangFeaturesModel\n",
    "from facebook_hateful_memes_detector.preprocessing import TextImageDataset, my_collate, get_datasets, get_basic_image_transforms, TextAugment\n",
    "from facebook_hateful_memes_detector.training import *\n",
    "\n"
   ]
  },
  {
   "cell_type": "code",
   "execution_count": 3,
   "metadata": {
    "ExecuteTime": {
     "end_time": "2020-06-13T10:55:27.351523Z",
     "start_time": "2020-06-13T10:55:27.346433Z"
    }
   },
   "outputs": [],
   "source": [
    "device = torch.device(\"cuda\" if torch.cuda.is_available() else \"cpu\")"
   ]
  },
  {
   "cell_type": "code",
   "execution_count": 4,
   "metadata": {
    "ExecuteTime": {
     "end_time": "2020-06-13T10:55:27.367561Z",
     "start_time": "2020-06-13T10:55:27.352605Z"
    }
   },
   "outputs": [],
   "source": [
    "preprocess = get_basic_image_transforms()\n",
    "\n",
    "choice_probas = {\"keyboard\": 0.1, \"char_substitute\": 0.0, \"char_insert\": 0.2, \"char_swap\": 0.1, \"ocr\": 0.1, \"char_delete\": 0.1,\n",
    "                 \"fasttext\": 0.0, \"glove_twitter\": 0.0, \"glove_wiki\": 0.0, \"word2vec\": 0.0, \"split\": 0.2,\n",
    "                 \"stopword_insert\": 0.2, \"word_join\": 0.1, \"word_cutout\": 0.8,\n",
    "                 \"text_rotate\": 0.5, \"sentence_shuffle\": 0.4, \"one_third_cut\": 0.5, \"half_cut\":0.8,\n",
    "                 \"synonym\": 0.0,}\n",
    "preprocess_text = TextAugment([0.05, 0.05, 0.1, 0.3, 0.3, 0.2], choice_probas, fasttext_file=\"wiki-news-300d-1M-subword.bin\")\n",
    "\n",
    "\n"
   ]
  },
  {
   "cell_type": "code",
   "execution_count": 5,
   "metadata": {
    "ExecuteTime": {
     "end_time": "2020-06-13T10:55:27.421918Z",
     "start_time": "2020-06-13T10:55:27.368609Z"
    }
   },
   "outputs": [],
   "source": [
    "data = get_datasets(data_dir=\"../data/\", train_text_transform=preprocess_text, train_image_transform=preprocess, \n",
    "                 test_text_transform=None, test_image_transform=preprocess, \n",
    "                 cache_images = True, use_images = False, dev=False)\n"
   ]
  },
  {
   "cell_type": "markdown",
   "metadata": {},
   "source": [
    "https://discuss.pytorch.org/t/how-to-implement-torch-optim-lr-scheduler-cosineannealinglr/28797/11"
   ]
  },
  {
   "cell_type": "markdown",
   "metadata": {},
   "source": [
    "## Params"
   ]
  },
  {
   "cell_type": "code",
   "execution_count": 6,
   "metadata": {
    "ExecuteTime": {
     "end_time": "2020-06-13T10:55:27.429447Z",
     "start_time": "2020-06-13T10:55:27.422863Z"
    }
   },
   "outputs": [],
   "source": [
    "sgd = torch.optim.SGD\n",
    "sgd_params = dict(lr=5e-2, momentum=0.9, dampening=0, weight_decay=0, nesterov=False)\n",
    "\n",
    "rangerQH = optim.RangerQH\n",
    "rangerQHparams = dict(lr=1e-3, betas=(0.9, 0.999), nus=(.7, 1.0),\n",
    "    weight_decay=0.0,\n",
    "    k=6,\n",
    "    alpha=.5,\n",
    "    decouple_weight_decay=True,\n",
    "    eps=1e-8,)\n",
    "\n",
    "adam = torch.optim.Adam\n",
    "adam_params = params=dict(lr=0.001, weight_decay=1e-6)\n",
    "\n",
    "adamw = torch.optim.AdamW\n",
    "adamw_params = dict(lr=0.001, betas=(0.9, 0.999), eps=1e-08, weight_decay=1e-2)\n",
    "\n",
    "novograd = optim.NovoGrad\n",
    "novograd_params = dict(lr= 1e-3,\n",
    "    betas=(0.9, 0.999),\n",
    "    eps=1e-8,\n",
    "    weight_decay=0,\n",
    "    grad_averaging=False,\n",
    "    amsgrad=False,)\n",
    "\n",
    "qhadam = optim.QHAdam\n",
    "qhadam_params = dict(lr= 1e-3,\n",
    "    betas=(0.9, 0.999),\n",
    "    nus=(1.0, 1.0),\n",
    "    weight_decay=0,\n",
    "    decouple_weight_decay=False,\n",
    "    eps=1e-8,)\n",
    "\n",
    "radam = optim.RAdam\n",
    "radam_params = dict(lr= 1e-3,\n",
    "    betas=(0.9, 0.999),\n",
    "    eps=1e-8,\n",
    "    weight_decay=0,)\n",
    "\n",
    "yogi = optim.Yogi\n",
    "yogi_params = dict(lr= 1e-2,\n",
    "    betas=(0.9, 0.999),\n",
    "    eps=1e-3,\n",
    "    initial_accumulator=1e-6,\n",
    "    weight_decay=0)\n",
    "\n",
    "\n"
   ]
  },
  {
   "cell_type": "code",
   "execution_count": 12,
   "metadata": {
    "ExecuteTime": {
     "end_time": "2020-06-13T13:39:06.867577Z",
     "start_time": "2020-06-13T13:39:06.863986Z"
    }
   },
   "outputs": [],
   "source": [
    "batch_size=512\n",
    "epochs = 10\n",
    "optimizer = adam\n",
    "optimizer_params = adam_params\n",
    "\n",
    "scheduler_init_fn = get_multistep_lr([11, 13], gamma=0.25) # get_cosine_schedule_with_warmup # get_cosine_with_hard_restarts_schedule_with_warmup\n",
    "augmentation_weights = {\"None\": 1.0}\n"
   ]
  },
  {
   "cell_type": "markdown",
   "metadata": {},
   "source": [
    "## LangFeatures GRU"
   ]
  },
  {
   "cell_type": "code",
   "execution_count": 13,
   "metadata": {
    "ExecuteTime": {
     "end_time": "2020-06-13T13:39:10.800326Z",
     "start_time": "2020-06-13T13:39:10.796213Z"
    }
   },
   "outputs": [],
   "source": [
    "all_caps = [\"full_view\", \"nltk\",\"fasttext_crawl\", \"spacy\", \"key_phrases\", ] # \"snlp\", \"ibm_max\", \"tmoji\", \"key_phrases\", \"full_view\", \"spacy\", \"nltk\", \"fasttext_crawl\"\n",
    "model_fn = model_builder(LangFeaturesModel, \n",
    "                         dict(classifer_dims=256, num_classes=2, \n",
    "                              gaussian_noise=0.0, dropout=0.0, embedding_dims=128, internal_dims=512,\n",
    "                              capabilities=all_caps, classifier=\"cnn\"),\n",
    "                         optimiser_class=optimizer, optimiser_params=optimizer_params)\n",
    "\n",
    "\n",
    "\n",
    "n_tests = 1\n",
    "multi_eval=False\n",
    "kfold=False\n",
    "\n",
    "# gaussian_noise=0.9, dropout=0.55, -> adam\n",
    "\n",
    "# fasttext_crawl 3m 47s 0.710\t0.691\n",
    "\n",
    "# spacy 4m 30s 0.635\t0.606\n",
    "\n",
    "# \"key_phrases\", \"spacy\" 7m 9s 0.682\t0.660\n",
    "\n",
    "# \"full_view\", \"nltk\" 5m 15s 0.665\t0.631\n",
    "\n",
    "# \"snlp\" 1h 52m 0.596\t0.589\n",
    "\n",
    "# \"fasttext_crawl\", \"ibm_max\", \"tmoji\" 14m 42s 0.638\t0.642\n",
    "\n",
    "# \"gensim\" 16m 20s 0.736\t0.712\n"
   ]
  },
  {
   "cell_type": "code",
   "execution_count": 14,
   "metadata": {
    "ExecuteTime": {
     "end_time": "2020-06-13T14:00:15.419335Z",
     "start_time": "2020-06-13T13:39:12.706286Z"
    }
   },
   "outputs": [
    {
     "data": {
      "application/vnd.jupyter.widget-view+json": {
       "model_id": "7bb24da5033a4e8fbb4a9e5f041594b9",
       "version_major": 2,
       "version_minor": 0
      },
      "text/plain": [
       "HBox(children=(FloatProgress(value=0.0, max=1.0), HTML(value='')))"
      ]
     },
     "metadata": {},
     "output_type": "display_data"
    },
    {
     "name": "stderr",
     "output_type": "stream",
     "text": [
      "Warning : `load_model` does not return WordVectorModel or SupervisedModel any more, but a `FastText` object which is very similar.\n",
      "Warning : `load_model` does not return WordVectorModel or SupervisedModel any more, but a `FastText` object which is very similar.\n"
     ]
    },
    {
     "name": "stdout",
     "output_type": "stream",
     "text": [
      "Model Params = 2195056 \n",
      " LangFeaturesModel(\n",
      "  (loss): CrossEntropyLoss()\n",
      "  (crawl_nn): ExpandContract(\n",
      "    (nn): Sequential(\n",
      "      (0): Transpose()\n",
      "      (1): Dropout(p=0.0, inplace=False)\n",
      "      (2): Conv1d(600, 384, kernel_size=(1,), stride=(1,), groups=4, bias=False)\n",
      "      (3): LeakyReLU(negative_slope=0.01)\n",
      "      (4): Dropout(p=0.0, inplace=False)\n",
      "      (5): Conv1d(384, 192, kernel_size=(1,), stride=(1,), groups=4, bias=False)\n",
      "      (6): Transpose()\n",
      "      (7): LayerNorm((192,), eps=1e-05, elementwise_affine=True)\n",
      "    )\n",
      "  )\n",
      "  (spacy_nn): ExpandContract(\n",
      "    (nn): Sequential(\n",
      "      (0): Transpose()\n",
      "      (1): Dropout(p=0.0, inplace=False)\n",
      "      (2): Conv1d(282, 256, kernel_size=(1,), stride=(1,), groups=2, bias=False)\n",
      "      (3): LeakyReLU(negative_slope=0.01)\n",
      "      (4): Dropout(p=0.0, inplace=False)\n",
      "      (5): Conv1d(256, 128, kernel_size=(1,), stride=(1,), groups=4, bias=False)\n",
      "      (6): Transpose()\n",
      "      (7): LayerNorm((128,), eps=1e-05, elementwise_affine=True)\n",
      "    )\n",
      "  )\n",
      "  (full_sent_nn): ExpandContract(\n",
      "    (nn): Sequential(\n",
      "      (0): Transpose()\n",
      "      (1): Dropout(p=0.0, inplace=False)\n",
      "      (2): Conv1d(300, 128, kernel_size=(1,), stride=(1,), groups=4, bias=False)\n",
      "      (3): LeakyReLU(negative_slope=0.01)\n",
      "      (4): Dropout(p=0.0, inplace=False)\n",
      "      (5): Conv1d(128, 64, kernel_size=(1,), stride=(1,), groups=4, bias=False)\n",
      "      (6): Transpose()\n",
      "      (7): LayerNorm((64,), eps=1e-05, elementwise_affine=True)\n",
      "    )\n",
      "  )\n",
      "  (key_occ_cnt_pytextrank): Embedding(8, 8)\n",
      "  (key_wc_pytextrank): Embedding(4, 8)\n",
      "  (yake_nn): ExpandContract(\n",
      "    (nn): Sequential(\n",
      "      (0): Transpose()\n",
      "      (1): Dropout(p=0.0, inplace=False)\n",
      "      (2): Conv1d(300, 64, kernel_size=(1,), stride=(1,), groups=2, bias=False)\n",
      "      (3): LeakyReLU(negative_slope=0.01)\n",
      "      (4): Dropout(p=0.0, inplace=False)\n",
      "      (5): Conv1d(64, 32, kernel_size=(1,), stride=(1,), groups=2, bias=False)\n",
      "      (6): Transpose()\n",
      "      (7): LayerNorm((32,), eps=1e-05, elementwise_affine=True)\n",
      "    )\n",
      "  )\n",
      "  (rake_nn): ExpandContract(\n",
      "    (nn): Sequential(\n",
      "      (0): Transpose()\n",
      "      (1): Dropout(p=0.0, inplace=False)\n",
      "      (2): Conv1d(300, 64, kernel_size=(1,), stride=(1,), groups=2, bias=False)\n",
      "      (3): LeakyReLU(negative_slope=0.01)\n",
      "      (4): Dropout(p=0.0, inplace=False)\n",
      "      (5): Conv1d(64, 32, kernel_size=(1,), stride=(1,), groups=2, bias=False)\n",
      "      (6): Transpose()\n",
      "      (7): LayerNorm((32,), eps=1e-05, elementwise_affine=True)\n",
      "    )\n",
      "  )\n",
      "  (keyphrase_nn): ExpandContract(\n",
      "    (nn): Sequential(\n",
      "      (0): Transpose()\n",
      "      (1): Dropout(p=0.0, inplace=False)\n",
      "      (2): Conv1d(80, 128, kernel_size=(1,), stride=(1,), groups=4, bias=False)\n",
      "      (3): LeakyReLU(negative_slope=0.01)\n",
      "      (4): Dropout(p=0.0, inplace=False)\n",
      "      (5): Conv1d(128, 64, kernel_size=(1,), stride=(1,), groups=4, bias=False)\n",
      "      (6): Transpose()\n",
      "      (7): LayerNorm((64,), eps=1e-05, elementwise_affine=True)\n",
      "    )\n",
      "  )\n",
      "  (tag_em): Embedding(292, 8)\n",
      "  (sw_em): Embedding(2, 8)\n",
      "  (sent_start_em): Embedding(2, 8)\n",
      "  (is_oov_em): Embedding(2, 8)\n",
      "  (has_digit_em): Embedding(2, 8)\n",
      "  (is_mask_em): Embedding(2, 8)\n",
      "  (w_len): Embedding(16, 8)\n",
      "  (wc_emb): Embedding(16, 8)\n",
      "  (key_wc_rake_nltk): Embedding(4, 8)\n",
      "  (nltk_nn): ExpandContract(\n",
      "    (nn): Sequential(\n",
      "      (0): Transpose()\n",
      "      (1): Dropout(p=0.0, inplace=False)\n",
      "      (2): Conv1d(350, 384, kernel_size=(1,), stride=(1,), groups=2, bias=False)\n",
      "      (3): LeakyReLU(negative_slope=0.01)\n",
      "      (4): Dropout(p=0.0, inplace=False)\n",
      "      (5): Conv1d(384, 192, kernel_size=(1,), stride=(1,), groups=4, bias=False)\n",
      "      (6): Transpose()\n",
      "      (7): LayerNorm((192,), eps=1e-05, elementwise_affine=True)\n",
      "    )\n",
      "  )\n",
      "  (contract_nn): ExpandContract(\n",
      "    (nn): Sequential(\n",
      "      (0): Transpose()\n",
      "      (1): Dropout(p=0.0, inplace=False)\n",
      "      (2): Conv1d(640, 256, kernel_size=(1,), stride=(1,), groups=4, bias=False)\n",
      "      (3): LeakyReLU(negative_slope=0.01)\n",
      "      (4): Dropout(p=0.0, inplace=False)\n",
      "      (5): Conv1d(256, 128, kernel_size=(1,), stride=(1,), groups=4, bias=False)\n",
      "      (6): Transpose()\n",
      "      (7): LayerNorm((128,), eps=1e-05, elementwise_affine=True)\n",
      "    )\n",
      "  )\n",
      "  (classifier): CNN1DClassifier(\n",
      "    (featurizer): Sequential(\n",
      "      (0): Dropout(p=0.0, inplace=False)\n",
      "      (1): Conv1d(128, 128, kernel_size=(5,), stride=(1,), padding=(2,), groups=4, bias=False)\n",
      "      (2): LeakyReLU(negative_slope=0.01)\n",
      "      (3): GaussianNoise()\n",
      "      (4): Conv1d(128, 256, kernel_size=(3,), stride=(1,), padding=(1,), groups=4, bias=False)\n",
      "      (5): Dropout(p=0.0, inplace=False)\n",
      "      (6): LeakyReLU(negative_slope=0.01)\n",
      "      (7): Conv1d(256, 128, kernel_size=(1,), stride=(1,), bias=False)\n",
      "      (8): GaussianNoise()\n",
      "      (9): Residual1DConv(\n",
      "        (r1): Sequential(\n",
      "          (0): Dropout(p=0.0, inplace=False)\n",
      "          (1): Conv1d(128, 256, kernel_size=(3,), stride=(1,), padding=(1,), groups=4, bias=False)\n",
      "          (2): LeakyReLU(negative_slope=0.01)\n",
      "          (3): GaussianNoise()\n",
      "        )\n",
      "        (r2): Conv1d(256, 128, kernel_size=(3,), stride=(1,), padding=(1,), groups=4, bias=False)\n",
      "        (channel_sizer): Sequential(\n",
      "          (0): Dropout(p=0.0, inplace=False)\n",
      "          (1): Conv1d(128, 512, kernel_size=(1,), stride=(1,), bias=False)\n",
      "        )\n",
      "        (pooling): MaxPool1d(kernel_size=2, stride=2, padding=0, dilation=1, ceil_mode=False)\n",
      "      )\n",
      "      (10): GaussianNoise()\n",
      "      (11): Residual1DConv(\n",
      "        (r1): Sequential(\n",
      "          (0): Dropout(p=0.0, inplace=False)\n",
      "          (1): Conv1d(512, 1024, kernel_size=(3,), stride=(1,), padding=(1,), groups=4, bias=False)\n",
      "          (2): LeakyReLU(negative_slope=0.01)\n",
      "          (3): GaussianNoise()\n",
      "        )\n",
      "        (r2): Conv1d(1024, 512, kernel_size=(3,), stride=(1,), padding=(1,), groups=4, bias=False)\n",
      "        (pooling): MaxPool1d(kernel_size=2, stride=2, padding=0, dilation=1, ceil_mode=False)\n",
      "      )\n",
      "      (12): GaussianNoise()\n",
      "      (13): Residual1DConv(\n",
      "        (r1): Sequential(\n",
      "          (0): Dropout(p=0.0, inplace=False)\n",
      "          (1): Conv1d(512, 1024, kernel_size=(3,), stride=(1,), padding=(1,), groups=4, bias=False)\n",
      "          (2): LeakyReLU(negative_slope=0.01)\n",
      "          (3): GaussianNoise()\n",
      "        )\n",
      "        (r2): Conv1d(1024, 512, kernel_size=(3,), stride=(1,), padding=(1,), groups=4, bias=False)\n",
      "        (channel_sizer): Sequential(\n",
      "          (0): Dropout(p=0.0, inplace=False)\n",
      "          (1): Conv1d(512, 256, kernel_size=(1,), stride=(1,), bias=False)\n",
      "        )\n",
      "        (pooling): MaxPool1d(kernel_size=2, stride=2, padding=0, dilation=1, ceil_mode=False)\n",
      "      )\n",
      "    )\n",
      "    (classifier): Sequential(\n",
      "      (0): Dropout(p=0.0, inplace=False)\n",
      "      (1): Conv1d(256, 2, kernel_size=(3,), stride=(1,), bias=False)\n",
      "      (2): AdaptiveAvgPool1d(output_size=1)\n",
      "    )\n",
      "  )\n",
      ")\n"
     ]
    },
    {
     "data": {
      "application/vnd.jupyter.widget-view+json": {
       "model_id": "492248d7f62847079f99aef4afefa92f",
       "version_major": 2,
       "version_minor": 0
      },
      "text/plain": [
       "HBox(children=(FloatProgress(value=0.0, max=10.0), HTML(value='')))"
      ]
     },
     "metadata": {},
     "output_type": "display_data"
    },
    {
     "data": {
      "application/vnd.jupyter.widget-view+json": {
       "model_id": "047d69d67a9e46a69d2b0d28c5ec7bbd",
       "version_major": 2,
       "version_minor": 0
      },
      "text/plain": [
       "HBox(children=(FloatProgress(value=0.0, max=15.0), HTML(value='')))"
      ]
     },
     "metadata": {},
     "output_type": "display_data"
    },
    {
     "name": "stdout",
     "output_type": "stream",
     "text": [
      "\n",
      "Epoch Loss =  1.1822296142578126\n"
     ]
    },
    {
     "data": {
      "application/vnd.jupyter.widget-view+json": {
       "model_id": "a49ffe40151b474ba4c8a6bf0f6db698",
       "version_major": 2,
       "version_minor": 0
      },
      "text/plain": [
       "HBox(children=(FloatProgress(value=0.0, max=15.0), HTML(value='')))"
      ]
     },
     "metadata": {},
     "output_type": "display_data"
    },
    {
     "name": "stdout",
     "output_type": "stream",
     "text": [
      "\n",
      "Epoch Loss =  0.6917476971944173\n"
     ]
    },
    {
     "data": {
      "application/vnd.jupyter.widget-view+json": {
       "model_id": "bed57bdd550f4082a3fd24ee7fe50d52",
       "version_major": 2,
       "version_minor": 0
      },
      "text/plain": [
       "HBox(children=(FloatProgress(value=0.0, max=15.0), HTML(value='')))"
      ]
     },
     "metadata": {},
     "output_type": "display_data"
    },
    {
     "name": "stdout",
     "output_type": "stream",
     "text": [
      "\n",
      "Epoch Loss =  0.6866591056187947\n"
     ]
    },
    {
     "data": {
      "application/vnd.jupyter.widget-view+json": {
       "model_id": "286cbb1293ba40868f014433cc57a212",
       "version_major": 2,
       "version_minor": 0
      },
      "text/plain": [
       "HBox(children=(FloatProgress(value=0.0, max=15.0), HTML(value='')))"
      ]
     },
     "metadata": {},
     "output_type": "display_data"
    },
    {
     "name": "stdout",
     "output_type": "stream",
     "text": [
      "\n",
      "Epoch Loss =  0.6865187605222066\n"
     ]
    },
    {
     "data": {
      "application/vnd.jupyter.widget-view+json": {
       "model_id": "7c2e073e4874423b838131190a0f5aa0",
       "version_major": 2,
       "version_minor": 0
      },
      "text/plain": [
       "HBox(children=(FloatProgress(value=0.0, max=15.0), HTML(value='')))"
      ]
     },
     "metadata": {},
     "output_type": "display_data"
    },
    {
     "name": "stdout",
     "output_type": "stream",
     "text": [
      "\n",
      "Epoch Loss =  0.6731414516766866\n"
     ]
    },
    {
     "data": {
      "application/vnd.jupyter.widget-view+json": {
       "model_id": "5a65f5bb25324b67911f59ae21702371",
       "version_major": 2,
       "version_minor": 0
      },
      "text/plain": [
       "HBox(children=(FloatProgress(value=0.0, max=15.0), HTML(value='')))"
      ]
     },
     "metadata": {},
     "output_type": "display_data"
    },
    {
     "name": "stdout",
     "output_type": "stream",
     "text": [
      "\n",
      "Epoch Loss =  0.6623409032821655\n"
     ]
    },
    {
     "data": {
      "application/vnd.jupyter.widget-view+json": {
       "model_id": "1df2a5fb46b245c4a2a2a5edb5fa2eb8",
       "version_major": 2,
       "version_minor": 0
      },
      "text/plain": [
       "HBox(children=(FloatProgress(value=0.0, max=15.0), HTML(value='')))"
      ]
     },
     "metadata": {},
     "output_type": "display_data"
    },
    {
     "name": "stdout",
     "output_type": "stream",
     "text": [
      "\n",
      "Epoch Loss =  0.6637622992197673\n"
     ]
    },
    {
     "data": {
      "application/vnd.jupyter.widget-view+json": {
       "model_id": "9b3a30e0f6f94dd59c768d375b712f85",
       "version_major": 2,
       "version_minor": 0
      },
      "text/plain": [
       "HBox(children=(FloatProgress(value=0.0, max=15.0), HTML(value='')))"
      ]
     },
     "metadata": {},
     "output_type": "display_data"
    },
    {
     "name": "stdout",
     "output_type": "stream",
     "text": [
      "Exception for:  keyboard | ! ! | ['half_cut' 'word_join' 'keyboard'] argument of type 'NoneType' is not iterable\n",
      "\n",
      "Epoch Loss =  0.648258916536967\n"
     ]
    },
    {
     "data": {
      "application/vnd.jupyter.widget-view+json": {
       "model_id": "bcf80010c12a443aa60b14f0bcce7287",
       "version_major": 2,
       "version_minor": 0
      },
      "text/plain": [
       "HBox(children=(FloatProgress(value=0.0, max=15.0), HTML(value='')))"
      ]
     },
     "metadata": {},
     "output_type": "display_data"
    },
    {
     "name": "stdout",
     "output_type": "stream",
     "text": [
      "\n",
      "Epoch Loss =  0.6469460407892863\n"
     ]
    },
    {
     "data": {
      "application/vnd.jupyter.widget-view+json": {
       "model_id": "d980c2a910024d9e9805d9a1d1ee4070",
       "version_major": 2,
       "version_minor": 0
      },
      "text/plain": [
       "HBox(children=(FloatProgress(value=0.0, max=15.0), HTML(value='')))"
      ]
     },
     "metadata": {},
     "output_type": "display_data"
    },
    {
     "name": "stdout",
     "output_type": "stream",
     "text": [
      "\n",
      "Epoch Loss =  0.6408494909604391\n",
      "\n",
      "\n"
     ]
    },
    {
     "data": {
      "text/html": [
       "<div>\n",
       "<style scoped>\n",
       "    .dataframe tbody tr th:only-of-type {\n",
       "        vertical-align: middle;\n",
       "    }\n",
       "\n",
       "    .dataframe tbody tr th {\n",
       "        vertical-align: top;\n",
       "    }\n",
       "\n",
       "    .dataframe thead th {\n",
       "        text-align: right;\n",
       "    }\n",
       "</style>\n",
       "<table border=\"1\" class=\"dataframe\">\n",
       "  <thead>\n",
       "    <tr style=\"text-align: right;\">\n",
       "      <th></th>\n",
       "      <th></th>\n",
       "      <th>train</th>\n",
       "      <th>val</th>\n",
       "    </tr>\n",
       "    <tr>\n",
       "      <th>mean_or_std</th>\n",
       "      <th>metric</th>\n",
       "      <th></th>\n",
       "      <th></th>\n",
       "    </tr>\n",
       "  </thead>\n",
       "  <tbody>\n",
       "    <tr>\n",
       "      <th rowspan=\"3\" valign=\"top\">mean</th>\n",
       "      <th>map</th>\n",
       "      <td>0.656</td>\n",
       "      <td>0.601</td>\n",
       "    </tr>\n",
       "    <tr>\n",
       "      <th>accuracy</th>\n",
       "      <td>0.660</td>\n",
       "      <td>0.621</td>\n",
       "    </tr>\n",
       "    <tr>\n",
       "      <th>auc</th>\n",
       "      <td>0.763</td>\n",
       "      <td>0.712</td>\n",
       "    </tr>\n",
       "    <tr>\n",
       "      <th rowspan=\"3\" valign=\"top\">std</th>\n",
       "      <th>map</th>\n",
       "      <td>0.000</td>\n",
       "      <td>0.000</td>\n",
       "    </tr>\n",
       "    <tr>\n",
       "      <th>accuracy</th>\n",
       "      <td>0.000</td>\n",
       "      <td>0.000</td>\n",
       "    </tr>\n",
       "    <tr>\n",
       "      <th>auc</th>\n",
       "      <td>0.000</td>\n",
       "      <td>0.000</td>\n",
       "    </tr>\n",
       "  </tbody>\n",
       "</table>\n",
       "</div>"
      ],
      "text/plain": [
       "                      train   val\n",
       "mean_or_std metric               \n",
       "mean        map       0.656 0.601\n",
       "            accuracy  0.660 0.621\n",
       "            auc       0.763 0.712\n",
       "std         map       0.000 0.000\n",
       "            accuracy  0.000 0.000\n",
       "            auc       0.000 0.000"
      ]
     },
     "execution_count": 14,
     "metadata": {},
     "output_type": "execute_result"
    },
    {
     "data": {
      "text/html": [
       "<div>\n",
       "<style scoped>\n",
       "    .dataframe tbody tr th:only-of-type {\n",
       "        vertical-align: middle;\n",
       "    }\n",
       "\n",
       "    .dataframe tbody tr th {\n",
       "        vertical-align: top;\n",
       "    }\n",
       "\n",
       "    .dataframe thead tr th {\n",
       "        text-align: left;\n",
       "    }\n",
       "</style>\n",
       "<table border=\"1\" class=\"dataframe\">\n",
       "  <thead>\n",
       "    <tr>\n",
       "      <th></th>\n",
       "      <th colspan=\"4\" halign=\"left\">train</th>\n",
       "      <th colspan=\"4\" halign=\"left\">val</th>\n",
       "    </tr>\n",
       "    <tr>\n",
       "      <th></th>\n",
       "      <th>precision</th>\n",
       "      <th>recall</th>\n",
       "      <th>f1</th>\n",
       "      <th>supoort</th>\n",
       "      <th>precision</th>\n",
       "      <th>recall</th>\n",
       "      <th>f1</th>\n",
       "      <th>supoort</th>\n",
       "    </tr>\n",
       "  </thead>\n",
       "  <tbody>\n",
       "    <tr>\n",
       "      <th>neg</th>\n",
       "      <td>0.829</td>\n",
       "      <td>0.584</td>\n",
       "      <td>0.685</td>\n",
       "      <td>4560.000</td>\n",
       "      <td>0.795</td>\n",
       "      <td>0.540</td>\n",
       "      <td>0.643</td>\n",
       "      <td>1140.000</td>\n",
       "    </tr>\n",
       "    <tr>\n",
       "      <th>pos</th>\n",
       "      <td>0.524</td>\n",
       "      <td>0.792</td>\n",
       "      <td>0.631</td>\n",
       "      <td>2640.000</td>\n",
       "      <td>0.489</td>\n",
       "      <td>0.759</td>\n",
       "      <td>0.595</td>\n",
       "      <td>660.000</td>\n",
       "    </tr>\n",
       "  </tbody>\n",
       "</table>\n",
       "</div>"
      ],
      "text/plain": [
       "        train                             val                      \n",
       "    precision recall    f1  supoort precision recall    f1  supoort\n",
       "neg     0.829  0.584 0.685 4560.000     0.795  0.540 0.643 1140.000\n",
       "pos     0.524  0.792 0.631 2640.000     0.489  0.759 0.595  660.000"
      ]
     },
     "execution_count": 14,
     "metadata": {},
     "output_type": "execute_result"
    }
   ],
   "source": [
    "\n",
    "results, prfs = train_validate_ntimes(model_fn, data, n_tests, batch_size, epochs,augmentation_weights, multi_eval=multi_eval, kfold=kfold, scheduler_init_fn=scheduler_init_fn)\n",
    "r1, p1 = results, prfs\n",
    "results\n",
    "prfs\n"
   ]
  },
  {
   "cell_type": "markdown",
   "metadata": {},
   "source": [
    "## Predict"
   ]
  },
  {
   "cell_type": "code",
   "execution_count": 9,
   "metadata": {
    "ExecuteTime": {
     "end_time": "2020-06-09T20:14:14.694654Z",
     "start_time": "2020-06-09T19:38:41.208270Z"
    }
   },
   "outputs": [
    {
     "name": "stderr",
     "output_type": "stream",
     "text": [
      "Warning : `load_model` does not return WordVectorModel or SupervisedModel any more, but a `FastText` object which is very similar.\n",
      "Warning : `load_model` does not return WordVectorModel or SupervisedModel any more, but a `FastText` object which is very similar.\n",
      "Warning : `load_model` does not return WordVectorModel or SupervisedModel any more, but a `FastText` object which is very similar.\n"
     ]
    },
    {
     "data": {
      "application/vnd.jupyter.widget-view+json": {
       "model_id": "b51cde13624a4b5980bb2e455a185b32",
       "version_major": 2,
       "version_minor": 0
      },
      "text/plain": [
       "HBox(children=(FloatProgress(value=0.0, max=10.0), HTML(value='')))"
      ]
     },
     "metadata": {},
     "output_type": "display_data"
    },
    {
     "data": {
      "application/vnd.jupyter.widget-view+json": {
       "model_id": "3beb807cab60418db217b4fc76f5d53c",
       "version_major": 2,
       "version_minor": 0
      },
      "text/plain": [
       "HBox(children=(FloatProgress(value=0.0, max=17.0), HTML(value='')))"
      ]
     },
     "metadata": {},
     "output_type": "display_data"
    },
    {
     "name": "stdout",
     "output_type": "stream",
     "text": [
      "\n"
     ]
    },
    {
     "data": {
      "application/vnd.jupyter.widget-view+json": {
       "model_id": "82c63d112308446fa8bbc76001973eba",
       "version_major": 2,
       "version_minor": 0
      },
      "text/plain": [
       "HBox(children=(FloatProgress(value=0.0, max=17.0), HTML(value='')))"
      ]
     },
     "metadata": {},
     "output_type": "display_data"
    },
    {
     "name": "stdout",
     "output_type": "stream",
     "text": [
      "\n"
     ]
    },
    {
     "data": {
      "application/vnd.jupyter.widget-view+json": {
       "model_id": "909211ea6006498e9281ebde2cdad9b0",
       "version_major": 2,
       "version_minor": 0
      },
      "text/plain": [
       "HBox(children=(FloatProgress(value=0.0, max=17.0), HTML(value='')))"
      ]
     },
     "metadata": {},
     "output_type": "display_data"
    },
    {
     "name": "stdout",
     "output_type": "stream",
     "text": [
      "\n"
     ]
    },
    {
     "data": {
      "application/vnd.jupyter.widget-view+json": {
       "model_id": "b5f7b30f82144f01a4c5f0de4955be89",
       "version_major": 2,
       "version_minor": 0
      },
      "text/plain": [
       "HBox(children=(FloatProgress(value=0.0, max=17.0), HTML(value='')))"
      ]
     },
     "metadata": {},
     "output_type": "display_data"
    },
    {
     "name": "stdout",
     "output_type": "stream",
     "text": [
      "\n"
     ]
    },
    {
     "data": {
      "application/vnd.jupyter.widget-view+json": {
       "model_id": "6e0143e3b76b4cdfa599f7b4d0464cf3",
       "version_major": 2,
       "version_minor": 0
      },
      "text/plain": [
       "HBox(children=(FloatProgress(value=0.0, max=17.0), HTML(value='')))"
      ]
     },
     "metadata": {},
     "output_type": "display_data"
    },
    {
     "name": "stdout",
     "output_type": "stream",
     "text": [
      "\n"
     ]
    },
    {
     "data": {
      "application/vnd.jupyter.widget-view+json": {
       "model_id": "beda501cef9648e0b3c2f8218a76b81f",
       "version_major": 2,
       "version_minor": 0
      },
      "text/plain": [
       "HBox(children=(FloatProgress(value=0.0, max=17.0), HTML(value='')))"
      ]
     },
     "metadata": {},
     "output_type": "display_data"
    },
    {
     "name": "stdout",
     "output_type": "stream",
     "text": [
      "\n"
     ]
    },
    {
     "data": {
      "application/vnd.jupyter.widget-view+json": {
       "model_id": "1a907dcadc5941b1af69070607d725da",
       "version_major": 2,
       "version_minor": 0
      },
      "text/plain": [
       "HBox(children=(FloatProgress(value=0.0, max=17.0), HTML(value='')))"
      ]
     },
     "metadata": {},
     "output_type": "display_data"
    },
    {
     "name": "stdout",
     "output_type": "stream",
     "text": [
      "\n"
     ]
    },
    {
     "data": {
      "application/vnd.jupyter.widget-view+json": {
       "model_id": "48aee1b534f84a1abe67bf6bed5747b0",
       "version_major": 2,
       "version_minor": 0
      },
      "text/plain": [
       "HBox(children=(FloatProgress(value=0.0, max=17.0), HTML(value='')))"
      ]
     },
     "metadata": {},
     "output_type": "display_data"
    },
    {
     "name": "stdout",
     "output_type": "stream",
     "text": [
      "\n"
     ]
    },
    {
     "data": {
      "application/vnd.jupyter.widget-view+json": {
       "model_id": "14d036337e5c44a987d52e405b81eceb",
       "version_major": 2,
       "version_minor": 0
      },
      "text/plain": [
       "HBox(children=(FloatProgress(value=0.0, max=17.0), HTML(value='')))"
      ]
     },
     "metadata": {},
     "output_type": "display_data"
    },
    {
     "name": "stdout",
     "output_type": "stream",
     "text": [
      "\n"
     ]
    },
    {
     "data": {
      "application/vnd.jupyter.widget-view+json": {
       "model_id": "4f25afda32354bc9a99fed4d4badf0fe",
       "version_major": 2,
       "version_minor": 0
      },
      "text/plain": [
       "HBox(children=(FloatProgress(value=0.0, max=17.0), HTML(value='')))"
      ]
     },
     "metadata": {},
     "output_type": "display_data"
    },
    {
     "name": "stdout",
     "output_type": "stream",
     "text": [
      "\n",
      "\n",
      "LangFeaturesModel(\n",
      "  (loss): CrossEntropyLoss()\n",
      "  (crawl_nn): ExpandContract(\n",
      "    (nn): Sequential(\n",
      "      (0): Dropout(p=0.35, inplace=False)\n",
      "      (1): Linear(in_features=600, out_features=1200, bias=True)\n",
      "      (2): LeakyReLU(negative_slope=0.01)\n",
      "      (3): Dropout(p=0.35, inplace=False)\n",
      "      (4): Linear(in_features=1200, out_features=256, bias=True)\n",
      "      (5): LayerNorm((256,), eps=1e-05, elementwise_affine=True)\n",
      "    )\n",
      "  )\n",
      "  (spacy_nn): ExpandContract(\n",
      "    (nn): Sequential(\n",
      "      (0): Dropout(p=0.35, inplace=False)\n",
      "      (1): Linear(in_features=282, out_features=564, bias=True)\n",
      "      (2): LeakyReLU(negative_slope=0.01)\n",
      "      (3): Dropout(p=0.35, inplace=False)\n",
      "      (4): Linear(in_features=564, out_features=160, bias=True)\n",
      "      (5): LayerNorm((160,), eps=1e-05, elementwise_affine=True)\n",
      "    )\n",
      "  )\n",
      "  (key_occ_cnt_pytextrank): Embedding(8, 8)\n",
      "  (key_wc_pytextrank): Embedding(4, 8)\n",
      "  (yake_nn): ExpandContract(\n",
      "    (nn): Sequential(\n",
      "      (0): Dropout(p=0.35, inplace=False)\n",
      "      (1): Linear(in_features=300, out_features=600, bias=True)\n",
      "      (2): LeakyReLU(negative_slope=0.01)\n",
      "      (3): Dropout(p=0.35, inplace=False)\n",
      "      (4): Linear(in_features=600, out_features=32, bias=True)\n",
      "      (5): LayerNorm((32,), eps=1e-05, elementwise_affine=True)\n",
      "    )\n",
      "  )\n",
      "  (rake_nn): ExpandContract(\n",
      "    (nn): Sequential(\n",
      "      (0): Dropout(p=0.35, inplace=False)\n",
      "      (1): Linear(in_features=300, out_features=600, bias=True)\n",
      "      (2): LeakyReLU(negative_slope=0.01)\n",
      "      (3): Dropout(p=0.35, inplace=False)\n",
      "      (4): Linear(in_features=600, out_features=32, bias=True)\n",
      "      (5): LayerNorm((32,), eps=1e-05, elementwise_affine=True)\n",
      "    )\n",
      "  )\n",
      "  (keyphrase_nn): ExpandContract(\n",
      "    (nn): Sequential(\n",
      "      (0): Dropout(p=0.35, inplace=False)\n",
      "      (1): Linear(in_features=80, out_features=160, bias=True)\n",
      "      (2): LeakyReLU(negative_slope=0.01)\n",
      "      (3): Dropout(p=0.35, inplace=False)\n",
      "      (4): Linear(in_features=160, out_features=64, bias=True)\n",
      "      (5): LayerNorm((64,), eps=1e-05, elementwise_affine=True)\n",
      "    )\n",
      "  )\n",
      "  (tag_em): Embedding(292, 8)\n",
      "  (sw_em): Embedding(2, 8)\n",
      "  (sent_start_em): Embedding(2, 8)\n",
      "  (is_oov_em): Embedding(2, 8)\n",
      "  (has_digit_em): Embedding(2, 8)\n",
      "  (is_mask_em): Embedding(2, 8)\n",
      "  (w_len): Embedding(16, 8)\n",
      "  (wc_emb): Embedding(16, 8)\n",
      "  (key_wc_rake_nltk): Embedding(4, 8)\n",
      "  (nltk_nn): ExpandContract(\n",
      "    (nn): Sequential(\n",
      "      (0): Dropout(p=0.35, inplace=False)\n",
      "      (1): Linear(in_features=346, out_features=692, bias=True)\n",
      "      (2): LeakyReLU(negative_slope=0.01)\n",
      "      (3): Dropout(p=0.35, inplace=False)\n",
      "      (4): Linear(in_features=692, out_features=192, bias=True)\n",
      "      (5): LayerNorm((192,), eps=1e-05, elementwise_affine=True)\n",
      "    )\n",
      "  )\n",
      "  (classifier): GRUClassifier(\n",
      "    (featurizer): Sequential(\n",
      "      (0): GRU(672, 512, num_layers=2, batch_first=True, dropout=0.35, bidirectional=True)\n",
      "    )\n",
      "    (projection): Sequential(\n",
      "      (0): GaussianNoise()\n",
      "      (1): WordChannelReducer(\n",
      "        (layers): Sequential(\n",
      "          (0): Transpose()\n",
      "          (1): Conv1d(1024, 4096, kernel_size=(1,), stride=(1,), groups=4, bias=False)\n",
      "          (2): LeakyReLU(negative_slope=0.01)\n",
      "          (3): AvgPool1d(kernel_size=(4,), stride=(4,), padding=(0,))\n",
      "          (4): Conv1d(4096, 256, kernel_size=(1,), stride=(1,), groups=2, bias=False)\n",
      "          (5): Transpose()\n",
      "        )\n",
      "      )\n",
      "    )\n",
      "    (c1): Conv1d(256, 2, kernel_size=(16,), stride=(1,), bias=False)\n",
      "    (avp): AdaptiveAvgPool1d(output_size=1)\n",
      "  )\n",
      ")\n"
     ]
    },
    {
     "data": {
      "image/png": "[encoded data removed]",
      "text/plain": [
       "<Figure size 432x288 with 2 Axes>"
      ]
     },
     "metadata": {
      "image/png": {
       "height": 279,
       "width": 424
      },
      "needs_background": "light"
     },
     "output_type": "display_data"
    },
    {
     "data": {
      "text/html": [
       "<div>\n",
       "<style scoped>\n",
       "    .dataframe tbody tr th:only-of-type {\n",
       "        vertical-align: middle;\n",
       "    }\n",
       "\n",
       "    .dataframe tbody tr th {\n",
       "        vertical-align: top;\n",
       "    }\n",
       "\n",
       "    .dataframe thead th {\n",
       "        text-align: right;\n",
       "    }\n",
       "</style>\n",
       "<table border=\"1\" class=\"dataframe\">\n",
       "  <thead>\n",
       "    <tr style=\"text-align: right;\">\n",
       "      <th></th>\n",
       "      <th>id</th>\n",
       "      <th>proba</th>\n",
       "      <th>label</th>\n",
       "    </tr>\n",
       "  </thead>\n",
       "  <tbody>\n",
       "    <tr>\n",
       "      <th>0</th>\n",
       "      <td>1284</td>\n",
       "      <td>0.615</td>\n",
       "      <td>1</td>\n",
       "    </tr>\n",
       "    <tr>\n",
       "      <th>1</th>\n",
       "      <td>1324</td>\n",
       "      <td>0.383</td>\n",
       "      <td>0</td>\n",
       "    </tr>\n",
       "    <tr>\n",
       "      <th>2</th>\n",
       "      <td>1325</td>\n",
       "      <td>0.395</td>\n",
       "      <td>0</td>\n",
       "    </tr>\n",
       "  </tbody>\n",
       "</table>\n",
       "</div>"
      ],
      "text/plain": [
       "     id  proba  label\n",
       "0  1284  0.615      1\n",
       "1  1324  0.383      0\n",
       "2  1325  0.395      0"
      ]
     },
     "execution_count": 9,
     "metadata": {},
     "output_type": "execute_result"
    }
   ],
   "source": [
    "\n",
    "submission, model = train_and_predict(model_fn, data, batch_size, epochs, augmentation_weights, scheduler_init_fn=scheduler_init_fn)\n",
    "submission.to_csv(\"submission.csv\",index=False)\n",
    "submission.head(3)\n"
   ]
  },
  {
   "cell_type": "code",
   "execution_count": null,
   "metadata": {},
   "outputs": [],
   "source": []
  }
 ],
 "metadata": {
  "kernelspec": {
   "display_name": "Python 3",
   "language": "python",
   "name": "python3"
  },
  "language_info": {
   "codemirror_mode": {
    "name": "ipython",
    "version": 3
   },
   "file_extension": ".py",
   "mimetype": "text/x-python",
   "name": "python",
   "nbconvert_exporter": "python",
   "pygments_lexer": "ipython3",
   "version": "3.7.6"
  },
  "toc": {
   "base_numbering": 1,
   "nav_menu": {},
   "number_sections": true,
   "sideBar": true,
   "skip_h1_title": false,
   "title_cell": "Table of Contents",
   "title_sidebar": "Contents",
   "toc_cell": false,
   "toc_position": {},
   "toc_section_display": true,
   "toc_window_display": false
  }
 },
 "nbformat": 4,
 "nbformat_minor": 4
}
