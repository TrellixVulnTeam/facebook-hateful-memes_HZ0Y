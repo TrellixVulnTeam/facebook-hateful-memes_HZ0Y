{
 "cells": [
  {
   "cell_type": "markdown",
   "metadata": {},
   "source": [
    "# Imports"
   ]
  },
  {
   "cell_type": "code",
   "execution_count": 1,
   "metadata": {
    "ExecuteTime": {
     "end_time": "2020-07-26T09:27:52.725100Z",
     "start_time": "2020-07-26T09:27:49.689337Z"
    }
   },
   "outputs": [],
   "source": [
    "\n",
    "\n",
    "\n",
    "import pandas as pd\n",
    "import numpy as np\n",
    "import jsonlines\n",
    "import seaborn as sns\n",
    "%matplotlib inline\n",
    "%config InlineBackend.figure_format = 'retina'\n",
    "import torch.nn as nn\n",
    "import torch\n",
    "import torch.nn.functional as F\n",
    "from torch.utils.data import Dataset, DataLoader\n",
    "from torchvision import transforms, utils\n",
    "import torch_optimizer as optim\n",
    "\n",
    "\n",
    "from IPython.core.interactiveshell import InteractiveShell\n",
    "InteractiveShell.ast_node_interactivity = \"all\"\n",
    "from importlib import reload\n",
    "pd.set_option('display.max_rows', 500)\n",
    "pd.set_option('display.float_format', '{:0.3f}'.format)\n",
    "pd.set_option('display.max_columns', 500)\n",
    "pd.set_option('display.width', 1000)\n",
    "pd.options.display.width = 0\n",
    "import warnings\n",
    "import torchvision\n",
    "warnings.filterwarnings('ignore')\n",
    "\n",
    "from facebook_hateful_memes_detector.utils.globals import set_global, get_global\n",
    "set_global(\"cache_dir\", \"/home/ahemf/cache/cache\")\n",
    "set_global(\"dataloader_workers\", 4)\n",
    "set_global(\"use_autocast\", True)\n",
    "set_global(\"models_dir\", \"/home/ahemf/cache/\")\n",
    "\n",
    "from facebook_hateful_memes_detector.utils import read_json_lines_into_df, in_notebook, set_device, print_code\n",
    "get_global(\"cache_dir\")\n",
    "from facebook_hateful_memes_detector.models import Fasttext1DCNNModel, MultiImageMultiTextAttentionEarlyFusionModel, VilBertVisualBertModel\n",
    "from facebook_hateful_memes_detector.preprocessing import TextImageDataset, my_collate, get_datasets, get_image2torchvision_transforms, TextAugment\n",
    "from facebook_hateful_memes_detector.preprocessing import DefinedRotation, QuadrantCut, ImageAugment, DefinedAffine, DefinedColorJitter, DefinedRandomPerspective\n",
    "from facebook_hateful_memes_detector.training import *\n",
    "import facebook_hateful_memes_detector\n",
    "reload(facebook_hateful_memes_detector)\n",
    "\n",
    "device = torch.device(\"cuda\" if torch.cuda.is_available() else \"cpu\")\n",
    "set_device(device)\n"
   ]
  },
  {
   "cell_type": "code",
   "execution_count": 2,
   "metadata": {
    "ExecuteTime": {
     "end_time": "2020-07-26T09:27:52.848635Z",
     "start_time": "2020-07-26T09:27:52.726990Z"
    }
   },
   "outputs": [],
   "source": [
    "\n",
    "\n",
    "choice_probas = {\"keyboard\": 0.1, \"char_substitute\": 0.0, \"char_insert\": 0.1, \"char_swap\": 0.0, \"ocr\": 0.0, \"char_delete\": 0.1,\n",
    "                 \"fasttext\": 0.0, \"glove_twitter\": 0.0, \"glove_wiki\": 0.0, \"word2vec\": 0.0, \"split\": 0.1,\n",
    "                 \"stopword_insert\": 0.3, \"word_join\": 0.1, \"word_cutout\": 0.8,\n",
    "                 \"text_rotate\": 0.5, \"sentence_shuffle\": 0.5, \"one_third_cut\": 0.4, \"half_cut\":0.1}\n",
    "preprocess_text = TextAugment([0.0, 0.1, 0.05, 0.35, 0.3, 0.2], choice_probas, fasttext_file=\"wiki-news-300d-1M-subword.bin\")\n",
    "\n",
    "im_transform = ImageAugment(count_proba=[0.1, 0.9], \n",
    "                            augs_dict=dict(grayscale=transforms.Grayscale(num_output_channels=3), \n",
    "                                           hflip=transforms.RandomHorizontalFlip(p=1.0),\n",
    "                                           rc2=transforms.Compose([transforms.Resize(480), transforms.CenterCrop(400)]),\n",
    "                                           rotate=DefinedRotation(15), \n",
    "                                           # qcut=QuadrantCut(),\n",
    "                                           affine=DefinedAffine(0, scale=(0.6, 0.6)),\n",
    "                                           translate1=DefinedAffine(0, translate=(0.25, 0.25)),\n",
    "                                          ),\n",
    "                            choice_probas=\"uniform\"\n",
    "                           )\n",
    "\n",
    "\n",
    "data = get_datasets(data_dir=\"../data/\", train_text_transform=preprocess_text, train_image_transform=im_transform, \n",
    "                    test_text_transform=None, test_image_transform=None, \n",
    "                    cache_images = True, use_images = True, dev=False, test_dev=True,\n",
    "                    keep_original_text=False, keep_original_image=False, \n",
    "                    keep_processed_image=True, keep_torchvision_image=False,)\n",
    "\n",
    "# ImageAugment([0.2, 0.5, 0.3])\n"
   ]
  },
  {
   "cell_type": "code",
   "execution_count": 3,
   "metadata": {
    "ExecuteTime": {
     "end_time": "2020-07-26T09:27:52.861009Z",
     "start_time": "2020-07-26T09:27:52.850636Z"
    }
   },
   "outputs": [],
   "source": [
    "sgd = torch.optim.SGD\n",
    "sgd_params = dict(lr=2e-2,\n",
    "                  momentum=0.9,\n",
    "                  dampening=0,\n",
    "                  weight_decay=0,\n",
    "                  nesterov=False)\n",
    "\n",
    "rangerQH = optim.RangerQH\n",
    "rangerQHparams = dict(\n",
    "    lr=1e-3,\n",
    "    betas=(0.9, 0.999),\n",
    "    nus=(.7, 1.0),\n",
    "    weight_decay=0.0,\n",
    "    k=6,\n",
    "    alpha=.5,\n",
    "    decouple_weight_decay=True,\n",
    "    eps=1e-8,\n",
    ")\n",
    "\n",
    "adam = torch.optim.Adam\n",
    "adam_params = params = dict(lr=1e-3, weight_decay=1e-7)\n",
    "\n",
    "adamw = torch.optim.AdamW\n",
    "adamw_params = dict(lr=1e-4, betas=(0.9, 0.999), eps=1e-08, weight_decay=1e-2)\n",
    "\n",
    "novograd = optim.NovoGrad\n",
    "novograd_params = dict(\n",
    "    lr=1e-3,\n",
    "    betas=(0.9, 0.999),\n",
    "    eps=1e-8,\n",
    "    weight_decay=0,\n",
    "    grad_averaging=False,\n",
    "    amsgrad=False,\n",
    ")\n",
    "\n",
    "qhadam = optim.QHAdam\n",
    "qhadam_params = dict(\n",
    "    lr=1e-3,\n",
    "    betas=(0.9, 0.999),\n",
    "    nus=(1.0, 1.0),\n",
    "    weight_decay=0,\n",
    "    decouple_weight_decay=False,\n",
    "    eps=1e-8,\n",
    ")\n",
    "\n",
    "radam = optim.RAdam\n",
    "radam_params = dict(\n",
    "    lr=1e-3,\n",
    "    betas=(0.9, 0.999),\n",
    "    eps=1e-8,\n",
    "    weight_decay=0,\n",
    ")\n",
    "\n",
    "yogi = optim.Yogi\n",
    "yogi_params = dict(lr=1e-2,\n",
    "                   betas=(0.9, 0.999),\n",
    "                   eps=1e-3,\n",
    "                   initial_accumulator=1e-6,\n",
    "                   weight_decay=0)"
   ]
  },
  {
   "cell_type": "code",
   "execution_count": 4,
   "metadata": {
    "ExecuteTime": {
     "end_time": "2020-07-26T09:27:52.866931Z",
     "start_time": "2020-07-26T09:27:52.863061Z"
    }
   },
   "outputs": [],
   "source": [
    "batch_size=96\n",
    "epochs = 10\n",
    "optimizer = adam\n",
    "optimizer_params = adam_params\n",
    "\n",
    "\n",
    "scheduler_init_fn = get_cosine_schedule_with_warmup()\n",
    "reg_sched = get_regularizer_scheduler()\n",
    "\n",
    "\n"
   ]
  },
  {
   "cell_type": "markdown",
   "metadata": {},
   "source": [
    "# Finetune Configs"
   ]
  },
  {
   "cell_type": "code",
   "execution_count": 5,
   "metadata": {
    "ExecuteTime": {
     "end_time": "2020-07-26T09:27:52.873202Z",
     "start_time": "2020-07-26T09:27:52.868594Z"
    }
   },
   "outputs": [],
   "source": [
    "lxmert_strategy = {\n",
    "    \"lxmert\": {\n",
    "        \"model\": {\n",
    "            \"bert\": {\n",
    "                \"encoder\": {\n",
    "                    \"x_layers\": {\n",
    "                        \"lr\": optimizer_params[\"lr\"],\n",
    "                        \"finetune\": True\n",
    "                    },\n",
    "                    \"lr\": optimizer_params[\"lr\"],\n",
    "                    \"finetune\": False\n",
    "                },\n",
    "                \"pooler\": {\n",
    "                    \"lr\": optimizer_params[\"lr\"],\n",
    "                    \"finetune\": True\n",
    "                },\n",
    "            },\n",
    "            \"finetune\": False\n",
    "        }\n",
    "    }\n",
    "}\n",
    "\n",
    "lxmert_strategy = {\n",
    "    \"finetune\": True\n",
    "}\n",
    "\n",
    "\n"
   ]
  },
  {
   "cell_type": "markdown",
   "metadata": {},
   "source": [
    "## LXMERT"
   ]
  },
  {
   "cell_type": "code",
   "execution_count": 13,
   "metadata": {
    "ExecuteTime": {
     "end_time": "2020-07-26T17:51:04.990553Z",
     "start_time": "2020-07-26T17:51:04.978362Z"
    }
   },
   "outputs": [],
   "source": [
    "adam = torch.optim.Adam\n",
    "adam_params = params = dict(lr=1e-4, weight_decay=1e-4)\n",
    "optimizer = adam\n",
    "optimizer_params = adam_params\n",
    "\n",
    "from facebook_hateful_memes_detector.models.MultiModal.VilBertVisualBert import VilBertVisualBertModel\n",
    "\n",
    "\n",
    "model_fn = model_builder(VilBertVisualBertModel,\n",
    "                         dict(model_name={\"lxmert\": dict(dropout=0.1, gaussian_noise=0.0)},\n",
    "                              num_classes=2,\n",
    "                              gaussian_noise=0.1,\n",
    "                              dropout=0.15,\n",
    "                              word_masking_proba=0.15,\n",
    "                              featurizer=\"pass\",\n",
    "                              final_layer_builder=fb_1d_loss_builder,\n",
    "                              internal_dims=512,\n",
    "                              classifier_dims=256,\n",
    "                              n_tokens_in=96,\n",
    "                              n_tokens_out=16,\n",
    "                              n_layers=2,\n",
    "                              attention_drop_proba=0.1,\n",
    "                              loss=\"focal\",\n",
    "                              dice_loss_coef=0.0,\n",
    "                              auc_loss_coef=0.0,\n",
    "                              bbox_swaps=1,\n",
    "                              bbox_copies=1,\n",
    "                              bbox_gaussian_noise=0.1,\n",
    "                              finetune=False),\n",
    "                         per_param_opts_fn=lxmert_strategy,\n",
    "                         optimiser_class=optimizer,\n",
    "                         optimiser_params=optimizer_params)\n"
   ]
  },
  {
   "cell_type": "code",
   "execution_count": 14,
   "metadata": {
    "ExecuteTime": {
     "end_time": "2020-07-26T19:55:42.105635Z",
     "start_time": "2020-07-26T17:51:11.930479Z"
    },
    "scrolled": true
   },
   "outputs": [
    {
     "data": {
      "application/vnd.jupyter.widget-view+json": {
       "model_id": "5efaf91930964158bc20536e80852e0e",
       "version_major": 2,
       "version_minor": 0
      },
      "text/plain": [
       "HBox(children=(FloatProgress(value=0.0, description='Caching Images in Dataset', max=8500.0, style=ProgressSty…"
      ]
     },
     "metadata": {},
     "output_type": "display_data"
    },
    {
     "name": "stdout",
     "output_type": "stream",
     "text": [
      "\n"
     ]
    },
    {
     "data": {
      "application/vnd.jupyter.widget-view+json": {
       "model_id": "2ba03c2fd37c4aeeb86171e706d2927e",
       "version_major": 2,
       "version_minor": 0
      },
      "text/plain": [
       "HBox(children=(FloatProgress(value=0.0, description='Caching Images in Dataset', max=500.0, style=ProgressStyl…"
      ]
     },
     "metadata": {},
     "output_type": "display_data"
    },
    {
     "name": "stdout",
     "output_type": "stream",
     "text": [
      "\n",
      "LXRT encoder with 9 l_layers, 5 x_layers, and 5 r_layers.\n",
      "Load LXMERT pre-trained model from /home/ahemf/.pytorch_pretrained_bert/acfabf2c6d3708e226675d880fed09a14878ef2aee577eeefa8e27a6a22d5b3e.5392626539fa4619737ae314ee55e15de3097750e782865c604a83312ea77251\n",
      "\n",
      "Weights in loaded but not in model:\n",
      "answer_head.logit_fc.0.bias\n",
      "answer_head.logit_fc.0.weight\n",
      "answer_head.logit_fc.2.bias\n",
      "answer_head.logit_fc.2.weight\n",
      "answer_head.logit_fc.3.bias\n",
      "answer_head.logit_fc.3.weight\n",
      "cls.predictions.bias\n",
      "cls.predictions.decoder.weight\n",
      "cls.predictions.transform.LayerNorm.bias\n",
      "cls.predictions.transform.LayerNorm.weight\n",
      "cls.predictions.transform.dense.bias\n",
      "cls.predictions.transform.dense.weight\n",
      "cls.seq_relationship.bias\n",
      "cls.seq_relationship.weight\n",
      "obj_predict_head.decoder_dict.attr.bias\n",
      "obj_predict_head.decoder_dict.attr.weight\n",
      "obj_predict_head.decoder_dict.feat.bias\n",
      "obj_predict_head.decoder_dict.feat.weight\n",
      "obj_predict_head.decoder_dict.obj.bias\n",
      "obj_predict_head.decoder_dict.obj.weight\n",
      "obj_predict_head.transform.LayerNorm.bias\n",
      "obj_predict_head.transform.LayerNorm.weight\n",
      "obj_predict_head.transform.dense.bias\n",
      "obj_predict_head.transform.dense.weight\n",
      "\n",
      "Weights in model but not in loaded:\n",
      "\n"
     ]
    },
    {
     "name": "stderr",
     "output_type": "stream",
     "text": [
      "Config '/local/home/ahemf/mygit/facebook-hateful-memes/facebook_hateful_memes_detector/utils/faster_rcnn_R_101_C4_attr_caffemaxpool.yaml' has no VERSION. Assuming it to be compatible with latest v2.\n"
     ]
    },
    {
     "name": "stdout",
     "output_type": "stream",
     "text": [
      "N tokens Out =  132 Classifier Dims =  256 Matches embedding_dims:  False\n",
      "Autocast =  True Epochs =  20 Divisor = 2 Examples = 4250 Batch Size =  64\n",
      "Training Samples =  8500 Weighted Sampling =  True Num Batches =  67 Accumulation steps =  4\n",
      "[WARN]: Number of training batches not divisible by accumulation steps, some training batches will be wasted due to this.\n"
     ]
    },
    {
     "data": {
      "application/vnd.jupyter.widget-view+json": {
       "model_id": "b8d2b390cdfe4092bac28f3d03a1b89a",
       "version_major": 2,
       "version_minor": 0
      },
      "text/plain": [
       "HBox(children=(FloatProgress(value=0.0, max=20.0), HTML(value='')))"
      ]
     },
     "metadata": {},
     "output_type": "display_data"
    },
    {
     "data": {
      "application/vnd.jupyter.widget-view+json": {
       "model_id": "83d916225bfb4346ab2b9a531f1922fe",
       "version_major": 2,
       "version_minor": 0
      },
      "text/plain": [
       "HBox(children=(FloatProgress(value=0.0, description='Batches', max=67.0, style=ProgressStyle(description_width…"
      ]
     },
     "metadata": {},
     "output_type": "display_data"
    },
    {
     "name": "stdout",
     "output_type": "stream",
     "text": [
      "\n",
      "Epoch =  1 Loss = 0.252648 LR = 0.00001667\n"
     ]
    },
    {
     "data": {
      "application/vnd.jupyter.widget-view+json": {
       "model_id": "3a8aaa88898c4917b36266ed2e20fb53",
       "version_major": 2,
       "version_minor": 0
      },
      "text/plain": [
       "HBox(children=(FloatProgress(value=0.0, description='Batches', max=67.0, style=ProgressStyle(description_width…"
      ]
     },
     "metadata": {},
     "output_type": "display_data"
    },
    {
     "name": "stdout",
     "output_type": "stream",
     "text": [
      "\n",
      "Epoch =  2 Loss = 0.215264 LR = 0.00003333\n"
     ]
    },
    {
     "data": {
      "application/vnd.jupyter.widget-view+json": {
       "model_id": "fc995285ffd34a209413ee84b1076bed",
       "version_major": 2,
       "version_minor": 0
      },
      "text/plain": [
       "HBox(children=(FloatProgress(value=0.0, description='Generate Predictions', max=133.0, style=ProgressStyle(des…"
      ]
     },
     "metadata": {},
     "output_type": "display_data"
    },
    {
     "name": "stdout",
     "output_type": "stream",
     "text": [
      "\n"
     ]
    },
    {
     "data": {
      "application/vnd.jupyter.widget-view+json": {
       "model_id": "6678cfee70d34f8b975ac7606e469eb0",
       "version_major": 2,
       "version_minor": 0
      },
      "text/plain": [
       "HBox(children=(FloatProgress(value=0.0, description='Generate Predictions', max=8.0, style=ProgressStyle(descr…"
      ]
     },
     "metadata": {},
     "output_type": "display_data"
    },
    {
     "name": "stdout",
     "output_type": "stream",
     "text": [
      "\n"
     ]
    },
    {
     "data": {
      "text/html": [
       "<div>\n",
       "<style scoped>\n",
       "    .dataframe tbody tr th:only-of-type {\n",
       "        vertical-align: middle;\n",
       "    }\n",
       "\n",
       "    .dataframe tbody tr th {\n",
       "        vertical-align: top;\n",
       "    }\n",
       "\n",
       "    .dataframe thead tr th {\n",
       "        text-align: left;\n",
       "    }\n",
       "\n",
       "    .dataframe thead tr:last-of-type th {\n",
       "        text-align: right;\n",
       "    }\n",
       "</style>\n",
       "<table border=\"1\" class=\"dataframe\">\n",
       "  <thead>\n",
       "    <tr>\n",
       "      <th></th>\n",
       "      <th colspan=\"2\" halign=\"left\">Proba</th>\n",
       "      <th colspan=\"2\" halign=\"left\">Preds</th>\n",
       "    </tr>\n",
       "    <tr>\n",
       "      <th></th>\n",
       "      <th>min</th>\n",
       "      <th>max</th>\n",
       "      <th>min</th>\n",
       "      <th>max</th>\n",
       "    </tr>\n",
       "    <tr>\n",
       "      <th>Labels</th>\n",
       "      <th></th>\n",
       "      <th></th>\n",
       "      <th></th>\n",
       "      <th></th>\n",
       "    </tr>\n",
       "  </thead>\n",
       "  <tbody>\n",
       "    <tr>\n",
       "      <th>0</th>\n",
       "      <td>0.420</td>\n",
       "      <td>0.567</td>\n",
       "      <td>0</td>\n",
       "      <td>1</td>\n",
       "    </tr>\n",
       "    <tr>\n",
       "      <th>1</th>\n",
       "      <td>0.422</td>\n",
       "      <td>0.565</td>\n",
       "      <td>0</td>\n",
       "      <td>1</td>\n",
       "    </tr>\n",
       "  </tbody>\n",
       "</table>\n",
       "</div>"
      ],
      "text/plain": [
       "       Proba       Preds    \n",
       "         min   max   min max\n",
       "Labels                      \n",
       "0      0.420 0.567     0   1\n",
       "1      0.422 0.565     0   1"
      ]
     },
     "metadata": {},
     "output_type": "display_data"
    },
    {
     "data": {
      "text/html": [
       "<div>\n",
       "<style scoped>\n",
       "    .dataframe tbody tr th:only-of-type {\n",
       "        vertical-align: middle;\n",
       "    }\n",
       "\n",
       "    .dataframe tbody tr th {\n",
       "        vertical-align: top;\n",
       "    }\n",
       "\n",
       "    .dataframe thead th {\n",
       "        text-align: right;\n",
       "    }\n",
       "</style>\n",
       "<table border=\"1\" class=\"dataframe\">\n",
       "  <thead>\n",
       "    <tr style=\"text-align: right;\">\n",
       "      <th></th>\n",
       "      <th>Proba</th>\n",
       "      <th>Probas</th>\n",
       "      <th>Preds</th>\n",
       "      <th>Labels</th>\n",
       "      <th>Proba</th>\n",
       "      <th>Probas</th>\n",
       "      <th>Preds</th>\n",
       "      <th>Labels</th>\n",
       "      <th>Proba</th>\n",
       "      <th>Probas</th>\n",
       "      <th>Preds</th>\n",
       "      <th>Labels</th>\n",
       "    </tr>\n",
       "  </thead>\n",
       "  <tbody>\n",
       "    <tr>\n",
       "      <th>0</th>\n",
       "      <td>0.516</td>\n",
       "      <td>[0.4841368496417999, 0.5158631801605225]</td>\n",
       "      <td>1</td>\n",
       "      <td>1</td>\n",
       "      <td>0.488</td>\n",
       "      <td>[0.511688232421875, 0.4883118271827698]</td>\n",
       "      <td>0</td>\n",
       "      <td>0</td>\n",
       "      <td>0.434</td>\n",
       "      <td>[0.5655827522277832, 0.4344172775745392]</td>\n",
       "      <td>0</td>\n",
       "      <td>1</td>\n",
       "    </tr>\n",
       "    <tr>\n",
       "      <th>1</th>\n",
       "      <td>0.467</td>\n",
       "      <td>[0.5328827500343323, 0.4671172499656677]</td>\n",
       "      <td>0</td>\n",
       "      <td>0</td>\n",
       "      <td>0.485</td>\n",
       "      <td>[0.5151809453964233, 0.48481905460357666]</td>\n",
       "      <td>0</td>\n",
       "      <td>1</td>\n",
       "      <td>0.502</td>\n",
       "      <td>[0.4978834092617035, 0.5021166205406189]</td>\n",
       "      <td>1</td>\n",
       "      <td>1</td>\n",
       "    </tr>\n",
       "    <tr>\n",
       "      <th>2</th>\n",
       "      <td>0.482</td>\n",
       "      <td>[0.5175417065620422, 0.48245835304260254]</td>\n",
       "      <td>0</td>\n",
       "      <td>1</td>\n",
       "      <td>0.509</td>\n",
       "      <td>[0.49112290143966675, 0.5088770985603333]</td>\n",
       "      <td>1</td>\n",
       "      <td>1</td>\n",
       "      <td>0.487</td>\n",
       "      <td>[0.5128020644187927, 0.4871978759765625]</td>\n",
       "      <td>0</td>\n",
       "      <td>0</td>\n",
       "    </tr>\n",
       "    <tr>\n",
       "      <th>3</th>\n",
       "      <td>0.468</td>\n",
       "      <td>[0.5316379070281982, 0.46836209297180176]</td>\n",
       "      <td>0</td>\n",
       "      <td>0</td>\n",
       "      <td>0.486</td>\n",
       "      <td>[0.5142463445663452, 0.4857536256313324]</td>\n",
       "      <td>0</td>\n",
       "      <td>0</td>\n",
       "      <td>0.468</td>\n",
       "      <td>[0.5321529507637024, 0.4678470194339752]</td>\n",
       "      <td>0</td>\n",
       "      <td>0</td>\n",
       "    </tr>\n",
       "    <tr>\n",
       "      <th>4</th>\n",
       "      <td>0.529</td>\n",
       "      <td>[0.4713274836540222, 0.5286725759506226]</td>\n",
       "      <td>1</td>\n",
       "      <td>0</td>\n",
       "      <td>0.492</td>\n",
       "      <td>[0.5078390836715698, 0.4921608567237854]</td>\n",
       "      <td>0</td>\n",
       "      <td>1</td>\n",
       "      <td>0.503</td>\n",
       "      <td>[0.4972534477710724, 0.50274658203125]</td>\n",
       "      <td>1</td>\n",
       "      <td>0</td>\n",
       "    </tr>\n",
       "  </tbody>\n",
       "</table>\n",
       "</div>"
      ],
      "text/plain": [
       "  Proba                                     Probas Preds Labels Proba  \\\n",
       "0 0.516   [0.4841368496417999, 0.5158631801605225]     1      1 0.488   \n",
       "1 0.467   [0.5328827500343323, 0.4671172499656677]     0      0 0.485   \n",
       "2 0.482  [0.5175417065620422, 0.48245835304260254]     0      1 0.509   \n",
       "3 0.468  [0.5316379070281982, 0.46836209297180176]     0      0 0.486   \n",
       "4 0.529   [0.4713274836540222, 0.5286725759506226]     1      0 0.492   \n",
       "\n",
       "                                      Probas Preds Labels Proba  \\\n",
       "0    [0.511688232421875, 0.4883118271827698]     0      0 0.434   \n",
       "1  [0.5151809453964233, 0.48481905460357666]     0      1 0.502   \n",
       "2  [0.49112290143966675, 0.5088770985603333]     1      1 0.487   \n",
       "3   [0.5142463445663452, 0.4857536256313324]     0      0 0.468   \n",
       "4   [0.5078390836715698, 0.4921608567237854]     0      1 0.503   \n",
       "\n",
       "                                     Probas Preds Labels  \n",
       "0  [0.5655827522277832, 0.4344172775745392]     0      1  \n",
       "1  [0.4978834092617035, 0.5021166205406189]     1      1  \n",
       "2  [0.5128020644187927, 0.4871978759765625]     0      0  \n",
       "3  [0.5321529507637024, 0.4678470194339752]     0      0  \n",
       "4    [0.4972534477710724, 0.50274658203125]     1      0  "
      ]
     },
     "metadata": {},
     "output_type": "display_data"
    },
    {
     "name": "stdout",
     "output_type": "stream",
     "text": [
      "scores =  {'map': '0.5371', 'acc': '0.5340', 'auc': '0.5651'}\n",
      "Epoch =  2 Train = 0.615317 Val = 0.565096\n"
     ]
    },
    {
     "data": {
      "application/vnd.jupyter.widget-view+json": {
       "model_id": "eefdc660046343dead573fa5477c71c7",
       "version_major": 2,
       "version_minor": 0
      },
      "text/plain": [
       "HBox(children=(FloatProgress(value=0.0, description='Batches', max=67.0, style=ProgressStyle(description_width…"
      ]
     },
     "metadata": {},
     "output_type": "display_data"
    },
    {
     "name": "stdout",
     "output_type": "stream",
     "text": [
      "\n",
      "Epoch =  3 Loss = 0.198471 LR = 0.00005000\n"
     ]
    },
    {
     "data": {
      "application/vnd.jupyter.widget-view+json": {
       "model_id": "9f03ca67fd9342a99a1260803c8b41a8",
       "version_major": 2,
       "version_minor": 0
      },
      "text/plain": [
       "HBox(children=(FloatProgress(value=0.0, description='Batches', max=67.0, style=ProgressStyle(description_width…"
      ]
     },
     "metadata": {},
     "output_type": "display_data"
    },
    {
     "name": "stdout",
     "output_type": "stream",
     "text": [
      "\n",
      "Epoch =  4 Loss = 0.193621 LR = 0.00006667\n"
     ]
    },
    {
     "data": {
      "application/vnd.jupyter.widget-view+json": {
       "model_id": "d8aff82312624e7784de401c33a6ed28",
       "version_major": 2,
       "version_minor": 0
      },
      "text/plain": [
       "HBox(children=(FloatProgress(value=0.0, description='Batches', max=67.0, style=ProgressStyle(description_width…"
      ]
     },
     "metadata": {},
     "output_type": "display_data"
    },
    {
     "name": "stdout",
     "output_type": "stream",
     "text": [
      "\n",
      "Epoch =  5 Loss = 0.191283 LR = 0.00008333\n"
     ]
    },
    {
     "data": {
      "application/vnd.jupyter.widget-view+json": {
       "model_id": "8132d8abbd7b41e285b343c36449f23e",
       "version_major": 2,
       "version_minor": 0
      },
      "text/plain": [
       "HBox(children=(FloatProgress(value=0.0, description='Batches', max=67.0, style=ProgressStyle(description_width…"
      ]
     },
     "metadata": {},
     "output_type": "display_data"
    },
    {
     "name": "stdout",
     "output_type": "stream",
     "text": [
      "\n",
      "Epoch =  6 Loss = 0.185550 LR = 0.00010000\n"
     ]
    },
    {
     "data": {
      "application/vnd.jupyter.widget-view+json": {
       "model_id": "82c112819cfa4824b8b3a3fb162c6959",
       "version_major": 2,
       "version_minor": 0
      },
      "text/plain": [
       "HBox(children=(FloatProgress(value=0.0, description='Batches', max=67.0, style=ProgressStyle(description_width…"
      ]
     },
     "metadata": {},
     "output_type": "display_data"
    },
    {
     "name": "stdout",
     "output_type": "stream",
     "text": [
      "\n",
      "Epoch =  7 Loss = 0.183043 LR = 0.00009875\n"
     ]
    },
    {
     "data": {
      "application/vnd.jupyter.widget-view+json": {
       "model_id": "643c6b4567384e2fb41f894fafff9e3b",
       "version_major": 2,
       "version_minor": 0
      },
      "text/plain": [
       "HBox(children=(FloatProgress(value=0.0, description='Generate Predictions', max=133.0, style=ProgressStyle(des…"
      ]
     },
     "metadata": {},
     "output_type": "display_data"
    },
    {
     "name": "stdout",
     "output_type": "stream",
     "text": [
      "\n"
     ]
    },
    {
     "data": {
      "application/vnd.jupyter.widget-view+json": {
       "model_id": "3185575352e44aea965508a08034c93e",
       "version_major": 2,
       "version_minor": 0
      },
      "text/plain": [
       "HBox(children=(FloatProgress(value=0.0, description='Generate Predictions', max=8.0, style=ProgressStyle(descr…"
      ]
     },
     "metadata": {},
     "output_type": "display_data"
    },
    {
     "name": "stdout",
     "output_type": "stream",
     "text": [
      "\n"
     ]
    },
    {
     "data": {
      "text/html": [
       "<div>\n",
       "<style scoped>\n",
       "    .dataframe tbody tr th:only-of-type {\n",
       "        vertical-align: middle;\n",
       "    }\n",
       "\n",
       "    .dataframe tbody tr th {\n",
       "        vertical-align: top;\n",
       "    }\n",
       "\n",
       "    .dataframe thead tr th {\n",
       "        text-align: left;\n",
       "    }\n",
       "\n",
       "    .dataframe thead tr:last-of-type th {\n",
       "        text-align: right;\n",
       "    }\n",
       "</style>\n",
       "<table border=\"1\" class=\"dataframe\">\n",
       "  <thead>\n",
       "    <tr>\n",
       "      <th></th>\n",
       "      <th colspan=\"2\" halign=\"left\">Proba</th>\n",
       "      <th colspan=\"2\" halign=\"left\">Preds</th>\n",
       "    </tr>\n",
       "    <tr>\n",
       "      <th></th>\n",
       "      <th>min</th>\n",
       "      <th>max</th>\n",
       "      <th>min</th>\n",
       "      <th>max</th>\n",
       "    </tr>\n",
       "    <tr>\n",
       "      <th>Labels</th>\n",
       "      <th></th>\n",
       "      <th></th>\n",
       "      <th></th>\n",
       "      <th></th>\n",
       "    </tr>\n",
       "  </thead>\n",
       "  <tbody>\n",
       "    <tr>\n",
       "      <th>0</th>\n",
       "      <td>0.390</td>\n",
       "      <td>0.584</td>\n",
       "      <td>0</td>\n",
       "      <td>1</td>\n",
       "    </tr>\n",
       "    <tr>\n",
       "      <th>1</th>\n",
       "      <td>0.389</td>\n",
       "      <td>0.571</td>\n",
       "      <td>0</td>\n",
       "      <td>1</td>\n",
       "    </tr>\n",
       "  </tbody>\n",
       "</table>\n",
       "</div>"
      ],
      "text/plain": [
       "       Proba       Preds    \n",
       "         min   max   min max\n",
       "Labels                      \n",
       "0      0.390 0.584     0   1\n",
       "1      0.389 0.571     0   1"
      ]
     },
     "metadata": {},
     "output_type": "display_data"
    },
    {
     "data": {
      "text/html": [
       "<div>\n",
       "<style scoped>\n",
       "    .dataframe tbody tr th:only-of-type {\n",
       "        vertical-align: middle;\n",
       "    }\n",
       "\n",
       "    .dataframe tbody tr th {\n",
       "        vertical-align: top;\n",
       "    }\n",
       "\n",
       "    .dataframe thead th {\n",
       "        text-align: right;\n",
       "    }\n",
       "</style>\n",
       "<table border=\"1\" class=\"dataframe\">\n",
       "  <thead>\n",
       "    <tr style=\"text-align: right;\">\n",
       "      <th></th>\n",
       "      <th>Proba</th>\n",
       "      <th>Probas</th>\n",
       "      <th>Preds</th>\n",
       "      <th>Labels</th>\n",
       "      <th>Proba</th>\n",
       "      <th>Probas</th>\n",
       "      <th>Preds</th>\n",
       "      <th>Labels</th>\n",
       "      <th>Proba</th>\n",
       "      <th>Probas</th>\n",
       "      <th>Preds</th>\n",
       "      <th>Labels</th>\n",
       "    </tr>\n",
       "  </thead>\n",
       "  <tbody>\n",
       "    <tr>\n",
       "      <th>0</th>\n",
       "      <td>0.492</td>\n",
       "      <td>[0.5079448223114014, 0.4920552372932434]</td>\n",
       "      <td>0</td>\n",
       "      <td>1</td>\n",
       "      <td>0.543</td>\n",
       "      <td>[0.45702213048934937, 0.5429778695106506]</td>\n",
       "      <td>1</td>\n",
       "      <td>0</td>\n",
       "      <td>0.513</td>\n",
       "      <td>[0.48698440194129944, 0.513015627861023]</td>\n",
       "      <td>1</td>\n",
       "      <td>0</td>\n",
       "    </tr>\n",
       "    <tr>\n",
       "      <th>1</th>\n",
       "      <td>0.402</td>\n",
       "      <td>[0.5977303981781006, 0.40226951241493225]</td>\n",
       "      <td>0</td>\n",
       "      <td>0</td>\n",
       "      <td>0.443</td>\n",
       "      <td>[0.5573089122772217, 0.4426911473274231]</td>\n",
       "      <td>0</td>\n",
       "      <td>0</td>\n",
       "      <td>0.485</td>\n",
       "      <td>[0.5148851871490479, 0.48511481285095215]</td>\n",
       "      <td>0</td>\n",
       "      <td>1</td>\n",
       "    </tr>\n",
       "    <tr>\n",
       "      <th>2</th>\n",
       "      <td>0.495</td>\n",
       "      <td>[0.5052984952926636, 0.4947015047073364]</td>\n",
       "      <td>0</td>\n",
       "      <td>0</td>\n",
       "      <td>0.481</td>\n",
       "      <td>[0.5188642740249634, 0.48113569617271423]</td>\n",
       "      <td>0</td>\n",
       "      <td>1</td>\n",
       "      <td>0.479</td>\n",
       "      <td>[0.5214340686798096, 0.47856590151786804]</td>\n",
       "      <td>0</td>\n",
       "      <td>1</td>\n",
       "    </tr>\n",
       "    <tr>\n",
       "      <th>3</th>\n",
       "      <td>0.448</td>\n",
       "      <td>[0.5516356229782104, 0.44836437702178955]</td>\n",
       "      <td>0</td>\n",
       "      <td>0</td>\n",
       "      <td>0.437</td>\n",
       "      <td>[0.563484787940979, 0.43651527166366577]</td>\n",
       "      <td>0</td>\n",
       "      <td>1</td>\n",
       "      <td>0.450</td>\n",
       "      <td>[0.5501224398612976, 0.4498775899410248]</td>\n",
       "      <td>0</td>\n",
       "      <td>1</td>\n",
       "    </tr>\n",
       "    <tr>\n",
       "      <th>4</th>\n",
       "      <td>0.421</td>\n",
       "      <td>[0.5794835686683655, 0.42051640152931213]</td>\n",
       "      <td>0</td>\n",
       "      <td>0</td>\n",
       "      <td>0.442</td>\n",
       "      <td>[0.5582596659660339, 0.44174033403396606]</td>\n",
       "      <td>0</td>\n",
       "      <td>0</td>\n",
       "      <td>0.464</td>\n",
       "      <td>[0.5358313322067261, 0.4641686677932739]</td>\n",
       "      <td>0</td>\n",
       "      <td>0</td>\n",
       "    </tr>\n",
       "  </tbody>\n",
       "</table>\n",
       "</div>"
      ],
      "text/plain": [
       "  Proba                                     Probas Preds Labels Proba  \\\n",
       "0 0.492   [0.5079448223114014, 0.4920552372932434]     0      1 0.543   \n",
       "1 0.402  [0.5977303981781006, 0.40226951241493225]     0      0 0.443   \n",
       "2 0.495   [0.5052984952926636, 0.4947015047073364]     0      0 0.481   \n",
       "3 0.448  [0.5516356229782104, 0.44836437702178955]     0      0 0.437   \n",
       "4 0.421  [0.5794835686683655, 0.42051640152931213]     0      0 0.442   \n",
       "\n",
       "                                      Probas Preds Labels Proba  \\\n",
       "0  [0.45702213048934937, 0.5429778695106506]     1      0 0.513   \n",
       "1   [0.5573089122772217, 0.4426911473274231]     0      0 0.485   \n",
       "2  [0.5188642740249634, 0.48113569617271423]     0      1 0.479   \n",
       "3   [0.563484787940979, 0.43651527166366577]     0      1 0.450   \n",
       "4  [0.5582596659660339, 0.44174033403396606]     0      0 0.464   \n",
       "\n",
       "                                      Probas Preds Labels  \n",
       "0   [0.48698440194129944, 0.513015627861023]     1      0  \n",
       "1  [0.5148851871490479, 0.48511481285095215]     0      1  \n",
       "2  [0.5214340686798096, 0.47856590151786804]     0      1  \n",
       "3   [0.5501224398612976, 0.4498775899410248]     0      1  \n",
       "4   [0.5358313322067261, 0.4641686677932739]     0      0  "
      ]
     },
     "metadata": {},
     "output_type": "display_data"
    },
    {
     "name": "stdout",
     "output_type": "stream",
     "text": [
      "scores =  {'map': '0.5505', 'acc': '0.5520', 'auc': '0.5590'}\n",
      "Epoch =  7 Train = 0.696568 Val = 0.559040\n"
     ]
    },
    {
     "data": {
      "application/vnd.jupyter.widget-view+json": {
       "model_id": "6c78b5b1be904b8886e5638b4a89d0ba",
       "version_major": 2,
       "version_minor": 0
      },
      "text/plain": [
       "HBox(children=(FloatProgress(value=0.0, description='Batches', max=67.0, style=ProgressStyle(description_width…"
      ]
     },
     "metadata": {},
     "output_type": "display_data"
    },
    {
     "name": "stdout",
     "output_type": "stream",
     "text": [
      "\n",
      "Epoch =  8 Loss = 0.179864 LR = 0.00009505\n"
     ]
    },
    {
     "data": {
      "application/vnd.jupyter.widget-view+json": {
       "model_id": "2fcfd045be0542569131a88976954a54",
       "version_major": 2,
       "version_minor": 0
      },
      "text/plain": [
       "HBox(children=(FloatProgress(value=0.0, description='Batches', max=67.0, style=ProgressStyle(description_width…"
      ]
     },
     "metadata": {},
     "output_type": "display_data"
    },
    {
     "name": "stdout",
     "output_type": "stream",
     "text": [
      "\n",
      "Epoch =  9 Loss = 0.180012 LR = 0.00008909\n"
     ]
    },
    {
     "data": {
      "application/vnd.jupyter.widget-view+json": {
       "model_id": "9a590e326b674188a17ab891b83d5c1a",
       "version_major": 2,
       "version_minor": 0
      },
      "text/plain": [
       "HBox(children=(FloatProgress(value=0.0, description='Generate Predictions', max=133.0, style=ProgressStyle(des…"
      ]
     },
     "metadata": {},
     "output_type": "display_data"
    },
    {
     "name": "stdout",
     "output_type": "stream",
     "text": [
      "\n"
     ]
    },
    {
     "data": {
      "application/vnd.jupyter.widget-view+json": {
       "model_id": "57d60391d716484596e6fba0d6810fe8",
       "version_major": 2,
       "version_minor": 0
      },
      "text/plain": [
       "HBox(children=(FloatProgress(value=0.0, description='Generate Predictions', max=8.0, style=ProgressStyle(descr…"
      ]
     },
     "metadata": {},
     "output_type": "display_data"
    },
    {
     "name": "stdout",
     "output_type": "stream",
     "text": [
      "\n"
     ]
    },
    {
     "data": {
      "text/html": [
       "<div>\n",
       "<style scoped>\n",
       "    .dataframe tbody tr th:only-of-type {\n",
       "        vertical-align: middle;\n",
       "    }\n",
       "\n",
       "    .dataframe tbody tr th {\n",
       "        vertical-align: top;\n",
       "    }\n",
       "\n",
       "    .dataframe thead tr th {\n",
       "        text-align: left;\n",
       "    }\n",
       "\n",
       "    .dataframe thead tr:last-of-type th {\n",
       "        text-align: right;\n",
       "    }\n",
       "</style>\n",
       "<table border=\"1\" class=\"dataframe\">\n",
       "  <thead>\n",
       "    <tr>\n",
       "      <th></th>\n",
       "      <th colspan=\"2\" halign=\"left\">Proba</th>\n",
       "      <th colspan=\"2\" halign=\"left\">Preds</th>\n",
       "    </tr>\n",
       "    <tr>\n",
       "      <th></th>\n",
       "      <th>min</th>\n",
       "      <th>max</th>\n",
       "      <th>min</th>\n",
       "      <th>max</th>\n",
       "    </tr>\n",
       "    <tr>\n",
       "      <th>Labels</th>\n",
       "      <th></th>\n",
       "      <th></th>\n",
       "      <th></th>\n",
       "      <th></th>\n",
       "    </tr>\n",
       "  </thead>\n",
       "  <tbody>\n",
       "    <tr>\n",
       "      <th>0</th>\n",
       "      <td>0.279</td>\n",
       "      <td>0.562</td>\n",
       "      <td>0</td>\n",
       "      <td>1</td>\n",
       "    </tr>\n",
       "    <tr>\n",
       "      <th>1</th>\n",
       "      <td>0.308</td>\n",
       "      <td>0.557</td>\n",
       "      <td>0</td>\n",
       "      <td>1</td>\n",
       "    </tr>\n",
       "  </tbody>\n",
       "</table>\n",
       "</div>"
      ],
      "text/plain": [
       "       Proba       Preds    \n",
       "         min   max   min max\n",
       "Labels                      \n",
       "0      0.279 0.562     0   1\n",
       "1      0.308 0.557     0   1"
      ]
     },
     "metadata": {},
     "output_type": "display_data"
    },
    {
     "data": {
      "text/html": [
       "<div>\n",
       "<style scoped>\n",
       "    .dataframe tbody tr th:only-of-type {\n",
       "        vertical-align: middle;\n",
       "    }\n",
       "\n",
       "    .dataframe tbody tr th {\n",
       "        vertical-align: top;\n",
       "    }\n",
       "\n",
       "    .dataframe thead th {\n",
       "        text-align: right;\n",
       "    }\n",
       "</style>\n",
       "<table border=\"1\" class=\"dataframe\">\n",
       "  <thead>\n",
       "    <tr style=\"text-align: right;\">\n",
       "      <th></th>\n",
       "      <th>Proba</th>\n",
       "      <th>Probas</th>\n",
       "      <th>Preds</th>\n",
       "      <th>Labels</th>\n",
       "      <th>Proba</th>\n",
       "      <th>Probas</th>\n",
       "      <th>Preds</th>\n",
       "      <th>Labels</th>\n",
       "      <th>Proba</th>\n",
       "      <th>Probas</th>\n",
       "      <th>Preds</th>\n",
       "      <th>Labels</th>\n",
       "    </tr>\n",
       "  </thead>\n",
       "  <tbody>\n",
       "    <tr>\n",
       "      <th>0</th>\n",
       "      <td>0.496</td>\n",
       "      <td>[0.5038124918937683, 0.4961875081062317]</td>\n",
       "      <td>0</td>\n",
       "      <td>0</td>\n",
       "      <td>0.306</td>\n",
       "      <td>[0.6940550208091736, 0.3059449791908264]</td>\n",
       "      <td>0</td>\n",
       "      <td>0</td>\n",
       "      <td>0.437</td>\n",
       "      <td>[0.5633090138435364, 0.436691015958786]</td>\n",
       "      <td>0</td>\n",
       "      <td>1</td>\n",
       "    </tr>\n",
       "    <tr>\n",
       "      <th>1</th>\n",
       "      <td>0.389</td>\n",
       "      <td>[0.6108778715133667, 0.3891220986843109]</td>\n",
       "      <td>0</td>\n",
       "      <td>0</td>\n",
       "      <td>0.431</td>\n",
       "      <td>[0.5687307715415955, 0.43126925826072693]</td>\n",
       "      <td>0</td>\n",
       "      <td>1</td>\n",
       "      <td>0.497</td>\n",
       "      <td>[0.5032393932342529, 0.49676063656806946]</td>\n",
       "      <td>0</td>\n",
       "      <td>0</td>\n",
       "    </tr>\n",
       "    <tr>\n",
       "      <th>2</th>\n",
       "      <td>0.431</td>\n",
       "      <td>[0.5688667297363281, 0.43113330006599426]</td>\n",
       "      <td>0</td>\n",
       "      <td>1</td>\n",
       "      <td>0.383</td>\n",
       "      <td>[0.617092490196228, 0.38290756940841675]</td>\n",
       "      <td>0</td>\n",
       "      <td>1</td>\n",
       "      <td>0.446</td>\n",
       "      <td>[0.5542706847190857, 0.4457293152809143]</td>\n",
       "      <td>0</td>\n",
       "      <td>1</td>\n",
       "    </tr>\n",
       "    <tr>\n",
       "      <th>3</th>\n",
       "      <td>0.414</td>\n",
       "      <td>[0.5864608883857727, 0.4135391116142273]</td>\n",
       "      <td>0</td>\n",
       "      <td>0</td>\n",
       "      <td>0.426</td>\n",
       "      <td>[0.5742289423942566, 0.4257710576057434]</td>\n",
       "      <td>0</td>\n",
       "      <td>0</td>\n",
       "      <td>0.420</td>\n",
       "      <td>[0.580385684967041, 0.4196142852306366]</td>\n",
       "      <td>0</td>\n",
       "      <td>0</td>\n",
       "    </tr>\n",
       "    <tr>\n",
       "      <th>4</th>\n",
       "      <td>0.425</td>\n",
       "      <td>[0.5748385787010193, 0.4251614212989807]</td>\n",
       "      <td>0</td>\n",
       "      <td>1</td>\n",
       "      <td>0.427</td>\n",
       "      <td>[0.5733556747436523, 0.4266442358493805]</td>\n",
       "      <td>0</td>\n",
       "      <td>0</td>\n",
       "      <td>0.370</td>\n",
       "      <td>[0.63001948595047, 0.36998048424720764]</td>\n",
       "      <td>0</td>\n",
       "      <td>0</td>\n",
       "    </tr>\n",
       "  </tbody>\n",
       "</table>\n",
       "</div>"
      ],
      "text/plain": [
       "  Proba                                     Probas Preds Labels Proba  \\\n",
       "0 0.496   [0.5038124918937683, 0.4961875081062317]     0      0 0.306   \n",
       "1 0.389   [0.6108778715133667, 0.3891220986843109]     0      0 0.431   \n",
       "2 0.431  [0.5688667297363281, 0.43113330006599426]     0      1 0.383   \n",
       "3 0.414   [0.5864608883857727, 0.4135391116142273]     0      0 0.426   \n",
       "4 0.425   [0.5748385787010193, 0.4251614212989807]     0      1 0.427   \n",
       "\n",
       "                                      Probas Preds Labels Proba  \\\n",
       "0   [0.6940550208091736, 0.3059449791908264]     0      0 0.437   \n",
       "1  [0.5687307715415955, 0.43126925826072693]     0      1 0.497   \n",
       "2   [0.617092490196228, 0.38290756940841675]     0      1 0.446   \n",
       "3   [0.5742289423942566, 0.4257710576057434]     0      0 0.420   \n",
       "4   [0.5733556747436523, 0.4266442358493805]     0      0 0.370   \n",
       "\n",
       "                                      Probas Preds Labels  \n",
       "0    [0.5633090138435364, 0.436691015958786]     0      1  \n",
       "1  [0.5032393932342529, 0.49676063656806946]     0      0  \n",
       "2   [0.5542706847190857, 0.4457293152809143]     0      1  \n",
       "3    [0.580385684967041, 0.4196142852306366]     0      0  \n",
       "4    [0.63001948595047, 0.36998048424720764]     0      0  "
      ]
     },
     "metadata": {},
     "output_type": "display_data"
    },
    {
     "name": "stdout",
     "output_type": "stream",
     "text": [
      "scores =  {'map': '0.5694', 'acc': '0.5200', 'auc': '0.5832'}\n",
      "Epoch =  9 Train = 0.728220 Val = 0.583184\n"
     ]
    },
    {
     "data": {
      "application/vnd.jupyter.widget-view+json": {
       "model_id": "fbb5342c80274cd18fd7b64f62bcf1d1",
       "version_major": 2,
       "version_minor": 0
      },
      "text/plain": [
       "HBox(children=(FloatProgress(value=0.0, description='Batches', max=67.0, style=ProgressStyle(description_width…"
      ]
     },
     "metadata": {},
     "output_type": "display_data"
    },
    {
     "name": "stdout",
     "output_type": "stream",
     "text": [
      "\n",
      "Epoch =  10 Loss = 0.173598 LR = 0.00008117\n"
     ]
    },
    {
     "data": {
      "application/vnd.jupyter.widget-view+json": {
       "model_id": "058c7e1829f749dd9168b7b32a9efa2d",
       "version_major": 2,
       "version_minor": 0
      },
      "text/plain": [
       "HBox(children=(FloatProgress(value=0.0, description='Batches', max=67.0, style=ProgressStyle(description_width…"
      ]
     },
     "metadata": {},
     "output_type": "display_data"
    },
    {
     "name": "stdout",
     "output_type": "stream",
     "text": [
      "\n",
      "Epoch =  11 Loss = 0.171691 LR = 0.00007169\n"
     ]
    },
    {
     "data": {
      "application/vnd.jupyter.widget-view+json": {
       "model_id": "1b33a2445ca1447e9f471fb240357bb7",
       "version_major": 2,
       "version_minor": 0
      },
      "text/plain": [
       "HBox(children=(FloatProgress(value=0.0, description='Generate Predictions', max=133.0, style=ProgressStyle(des…"
      ]
     },
     "metadata": {},
     "output_type": "display_data"
    },
    {
     "name": "stdout",
     "output_type": "stream",
     "text": [
      "\n"
     ]
    },
    {
     "data": {
      "application/vnd.jupyter.widget-view+json": {
       "model_id": "b47bb1cd58ac43de8913433c1bb0257e",
       "version_major": 2,
       "version_minor": 0
      },
      "text/plain": [
       "HBox(children=(FloatProgress(value=0.0, description='Generate Predictions', max=8.0, style=ProgressStyle(descr…"
      ]
     },
     "metadata": {},
     "output_type": "display_data"
    },
    {
     "name": "stdout",
     "output_type": "stream",
     "text": [
      "\n"
     ]
    },
    {
     "data": {
      "text/html": [
       "<div>\n",
       "<style scoped>\n",
       "    .dataframe tbody tr th:only-of-type {\n",
       "        vertical-align: middle;\n",
       "    }\n",
       "\n",
       "    .dataframe tbody tr th {\n",
       "        vertical-align: top;\n",
       "    }\n",
       "\n",
       "    .dataframe thead tr th {\n",
       "        text-align: left;\n",
       "    }\n",
       "\n",
       "    .dataframe thead tr:last-of-type th {\n",
       "        text-align: right;\n",
       "    }\n",
       "</style>\n",
       "<table border=\"1\" class=\"dataframe\">\n",
       "  <thead>\n",
       "    <tr>\n",
       "      <th></th>\n",
       "      <th colspan=\"2\" halign=\"left\">Proba</th>\n",
       "      <th colspan=\"2\" halign=\"left\">Preds</th>\n",
       "    </tr>\n",
       "    <tr>\n",
       "      <th></th>\n",
       "      <th>min</th>\n",
       "      <th>max</th>\n",
       "      <th>min</th>\n",
       "      <th>max</th>\n",
       "    </tr>\n",
       "    <tr>\n",
       "      <th>Labels</th>\n",
       "      <th></th>\n",
       "      <th></th>\n",
       "      <th></th>\n",
       "      <th></th>\n",
       "    </tr>\n",
       "  </thead>\n",
       "  <tbody>\n",
       "    <tr>\n",
       "      <th>0</th>\n",
       "      <td>0.303</td>\n",
       "      <td>0.561</td>\n",
       "      <td>0</td>\n",
       "      <td>1</td>\n",
       "    </tr>\n",
       "    <tr>\n",
       "      <th>1</th>\n",
       "      <td>0.310</td>\n",
       "      <td>0.580</td>\n",
       "      <td>0</td>\n",
       "      <td>1</td>\n",
       "    </tr>\n",
       "  </tbody>\n",
       "</table>\n",
       "</div>"
      ],
      "text/plain": [
       "       Proba       Preds    \n",
       "         min   max   min max\n",
       "Labels                      \n",
       "0      0.303 0.561     0   1\n",
       "1      0.310 0.580     0   1"
      ]
     },
     "metadata": {},
     "output_type": "display_data"
    },
    {
     "data": {
      "text/html": [
       "<div>\n",
       "<style scoped>\n",
       "    .dataframe tbody tr th:only-of-type {\n",
       "        vertical-align: middle;\n",
       "    }\n",
       "\n",
       "    .dataframe tbody tr th {\n",
       "        vertical-align: top;\n",
       "    }\n",
       "\n",
       "    .dataframe thead th {\n",
       "        text-align: right;\n",
       "    }\n",
       "</style>\n",
       "<table border=\"1\" class=\"dataframe\">\n",
       "  <thead>\n",
       "    <tr style=\"text-align: right;\">\n",
       "      <th></th>\n",
       "      <th>Proba</th>\n",
       "      <th>Probas</th>\n",
       "      <th>Preds</th>\n",
       "      <th>Labels</th>\n",
       "      <th>Proba</th>\n",
       "      <th>Probas</th>\n",
       "      <th>Preds</th>\n",
       "      <th>Labels</th>\n",
       "      <th>Proba</th>\n",
       "      <th>Probas</th>\n",
       "      <th>Preds</th>\n",
       "      <th>Labels</th>\n",
       "    </tr>\n",
       "  </thead>\n",
       "  <tbody>\n",
       "    <tr>\n",
       "      <th>0</th>\n",
       "      <td>0.359</td>\n",
       "      <td>[0.6405986547470093, 0.35940131545066833]</td>\n",
       "      <td>0</td>\n",
       "      <td>1</td>\n",
       "      <td>0.465</td>\n",
       "      <td>[0.5353806614875793, 0.46461933851242065]</td>\n",
       "      <td>0</td>\n",
       "      <td>0</td>\n",
       "      <td>0.484</td>\n",
       "      <td>[0.5157910585403442, 0.48420894145965576]</td>\n",
       "      <td>0</td>\n",
       "      <td>1</td>\n",
       "    </tr>\n",
       "    <tr>\n",
       "      <th>1</th>\n",
       "      <td>0.441</td>\n",
       "      <td>[0.5588085055351257, 0.44119149446487427]</td>\n",
       "      <td>0</td>\n",
       "      <td>1</td>\n",
       "      <td>0.440</td>\n",
       "      <td>[0.5600125789642334, 0.439987450838089]</td>\n",
       "      <td>0</td>\n",
       "      <td>1</td>\n",
       "      <td>0.386</td>\n",
       "      <td>[0.6137442588806152, 0.38625583052635193]</td>\n",
       "      <td>0</td>\n",
       "      <td>1</td>\n",
       "    </tr>\n",
       "    <tr>\n",
       "      <th>2</th>\n",
       "      <td>0.408</td>\n",
       "      <td>[0.5921822190284729, 0.4078177809715271]</td>\n",
       "      <td>0</td>\n",
       "      <td>0</td>\n",
       "      <td>0.339</td>\n",
       "      <td>[0.6607705950737, 0.33922940492630005]</td>\n",
       "      <td>0</td>\n",
       "      <td>1</td>\n",
       "      <td>0.465</td>\n",
       "      <td>[0.535235583782196, 0.46476438641548157]</td>\n",
       "      <td>0</td>\n",
       "      <td>1</td>\n",
       "    </tr>\n",
       "    <tr>\n",
       "      <th>3</th>\n",
       "      <td>0.424</td>\n",
       "      <td>[0.5756029486656189, 0.4243970513343811]</td>\n",
       "      <td>0</td>\n",
       "      <td>1</td>\n",
       "      <td>0.348</td>\n",
       "      <td>[0.6516944766044617, 0.3483055830001831]</td>\n",
       "      <td>0</td>\n",
       "      <td>0</td>\n",
       "      <td>0.457</td>\n",
       "      <td>[0.5431466698646545, 0.45685333013534546]</td>\n",
       "      <td>0</td>\n",
       "      <td>0</td>\n",
       "    </tr>\n",
       "    <tr>\n",
       "      <th>4</th>\n",
       "      <td>0.443</td>\n",
       "      <td>[0.5565153360366821, 0.4434846043586731]</td>\n",
       "      <td>0</td>\n",
       "      <td>0</td>\n",
       "      <td>0.354</td>\n",
       "      <td>[0.6459436416625977, 0.3540564179420471]</td>\n",
       "      <td>0</td>\n",
       "      <td>1</td>\n",
       "      <td>0.475</td>\n",
       "      <td>[0.5249657034873962, 0.47503429651260376]</td>\n",
       "      <td>0</td>\n",
       "      <td>1</td>\n",
       "    </tr>\n",
       "  </tbody>\n",
       "</table>\n",
       "</div>"
      ],
      "text/plain": [
       "  Proba                                     Probas Preds Labels Proba  \\\n",
       "0 0.359  [0.6405986547470093, 0.35940131545066833]     0      1 0.465   \n",
       "1 0.441  [0.5588085055351257, 0.44119149446487427]     0      1 0.440   \n",
       "2 0.408   [0.5921822190284729, 0.4078177809715271]     0      0 0.339   \n",
       "3 0.424   [0.5756029486656189, 0.4243970513343811]     0      1 0.348   \n",
       "4 0.443   [0.5565153360366821, 0.4434846043586731]     0      0 0.354   \n",
       "\n",
       "                                      Probas Preds Labels Proba  \\\n",
       "0  [0.5353806614875793, 0.46461933851242065]     0      0 0.484   \n",
       "1    [0.5600125789642334, 0.439987450838089]     0      1 0.386   \n",
       "2     [0.6607705950737, 0.33922940492630005]     0      1 0.465   \n",
       "3   [0.6516944766044617, 0.3483055830001831]     0      0 0.457   \n",
       "4   [0.6459436416625977, 0.3540564179420471]     0      1 0.475   \n",
       "\n",
       "                                      Probas Preds Labels  \n",
       "0  [0.5157910585403442, 0.48420894145965576]     0      1  \n",
       "1  [0.6137442588806152, 0.38625583052635193]     0      1  \n",
       "2   [0.535235583782196, 0.46476438641548157]     0      1  \n",
       "3  [0.5431466698646545, 0.45685333013534546]     0      0  \n",
       "4  [0.5249657034873962, 0.47503429651260376]     0      1  "
      ]
     },
     "metadata": {},
     "output_type": "display_data"
    },
    {
     "name": "stdout",
     "output_type": "stream",
     "text": [
      "scores =  {'map': '0.5385', 'acc': '0.5020', 'auc': '0.5570'}\n",
      "Epoch =  11 Train = 0.762982 Val = 0.557040\n"
     ]
    },
    {
     "data": {
      "application/vnd.jupyter.widget-view+json": {
       "model_id": "171757be60414b3b9db4129f325a3489",
       "version_major": 2,
       "version_minor": 0
      },
      "text/plain": [
       "HBox(children=(FloatProgress(value=0.0, description='Batches', max=67.0, style=ProgressStyle(description_width…"
      ]
     },
     "metadata": {},
     "output_type": "display_data"
    },
    {
     "name": "stdout",
     "output_type": "stream",
     "text": [
      "\n",
      "Epoch =  12 Loss = 0.167919 LR = 0.00006113\n"
     ]
    },
    {
     "data": {
      "application/vnd.jupyter.widget-view+json": {
       "model_id": "f623d2555b454537a774cf1f8a0cf18e",
       "version_major": 2,
       "version_minor": 0
      },
      "text/plain": [
       "HBox(children=(FloatProgress(value=0.0, description='Batches', max=67.0, style=ProgressStyle(description_width…"
      ]
     },
     "metadata": {},
     "output_type": "display_data"
    },
    {
     "name": "stdout",
     "output_type": "stream",
     "text": [
      "\n",
      "Epoch =  13 Loss = 0.157746 LR = 0.00005000\n"
     ]
    },
    {
     "data": {
      "application/vnd.jupyter.widget-view+json": {
       "model_id": "33c19c05cac641db8c2603bcda57b415",
       "version_major": 2,
       "version_minor": 0
      },
      "text/plain": [
       "HBox(children=(FloatProgress(value=0.0, description='Batches', max=67.0, style=ProgressStyle(description_width…"
      ]
     },
     "metadata": {},
     "output_type": "display_data"
    },
    {
     "name": "stdout",
     "output_type": "stream",
     "text": [
      "\n",
      "Epoch =  14 Loss = 0.155457 LR = 0.00003887\n"
     ]
    },
    {
     "data": {
      "application/vnd.jupyter.widget-view+json": {
       "model_id": "d8d57aac4d10462c88cfc3ef1179f0ad",
       "version_major": 2,
       "version_minor": 0
      },
      "text/plain": [
       "HBox(children=(FloatProgress(value=0.0, description='Generate Predictions', max=133.0, style=ProgressStyle(des…"
      ]
     },
     "metadata": {},
     "output_type": "display_data"
    },
    {
     "name": "stdout",
     "output_type": "stream",
     "text": [
      "\n"
     ]
    },
    {
     "data": {
      "application/vnd.jupyter.widget-view+json": {
       "model_id": "dc1163e7ef474687b30a1b6564369e72",
       "version_major": 2,
       "version_minor": 0
      },
      "text/plain": [
       "HBox(children=(FloatProgress(value=0.0, description='Generate Predictions', max=8.0, style=ProgressStyle(descr…"
      ]
     },
     "metadata": {},
     "output_type": "display_data"
    },
    {
     "name": "stdout",
     "output_type": "stream",
     "text": [
      "\n"
     ]
    },
    {
     "data": {
      "text/html": [
       "<div>\n",
       "<style scoped>\n",
       "    .dataframe tbody tr th:only-of-type {\n",
       "        vertical-align: middle;\n",
       "    }\n",
       "\n",
       "    .dataframe tbody tr th {\n",
       "        vertical-align: top;\n",
       "    }\n",
       "\n",
       "    .dataframe thead tr th {\n",
       "        text-align: left;\n",
       "    }\n",
       "\n",
       "    .dataframe thead tr:last-of-type th {\n",
       "        text-align: right;\n",
       "    }\n",
       "</style>\n",
       "<table border=\"1\" class=\"dataframe\">\n",
       "  <thead>\n",
       "    <tr>\n",
       "      <th></th>\n",
       "      <th colspan=\"2\" halign=\"left\">Proba</th>\n",
       "      <th colspan=\"2\" halign=\"left\">Preds</th>\n",
       "    </tr>\n",
       "    <tr>\n",
       "      <th></th>\n",
       "      <th>min</th>\n",
       "      <th>max</th>\n",
       "      <th>min</th>\n",
       "      <th>max</th>\n",
       "    </tr>\n",
       "    <tr>\n",
       "      <th>Labels</th>\n",
       "      <th></th>\n",
       "      <th></th>\n",
       "      <th></th>\n",
       "      <th></th>\n",
       "    </tr>\n",
       "  </thead>\n",
       "  <tbody>\n",
       "    <tr>\n",
       "      <th>0</th>\n",
       "      <td>0.252</td>\n",
       "      <td>0.746</td>\n",
       "      <td>0</td>\n",
       "      <td>1</td>\n",
       "    </tr>\n",
       "    <tr>\n",
       "      <th>1</th>\n",
       "      <td>0.305</td>\n",
       "      <td>0.688</td>\n",
       "      <td>0</td>\n",
       "      <td>1</td>\n",
       "    </tr>\n",
       "  </tbody>\n",
       "</table>\n",
       "</div>"
      ],
      "text/plain": [
       "       Proba       Preds    \n",
       "         min   max   min max\n",
       "Labels                      \n",
       "0      0.252 0.746     0   1\n",
       "1      0.305 0.688     0   1"
      ]
     },
     "metadata": {},
     "output_type": "display_data"
    },
    {
     "data": {
      "text/html": [
       "<div>\n",
       "<style scoped>\n",
       "    .dataframe tbody tr th:only-of-type {\n",
       "        vertical-align: middle;\n",
       "    }\n",
       "\n",
       "    .dataframe tbody tr th {\n",
       "        vertical-align: top;\n",
       "    }\n",
       "\n",
       "    .dataframe thead th {\n",
       "        text-align: right;\n",
       "    }\n",
       "</style>\n",
       "<table border=\"1\" class=\"dataframe\">\n",
       "  <thead>\n",
       "    <tr style=\"text-align: right;\">\n",
       "      <th></th>\n",
       "      <th>Proba</th>\n",
       "      <th>Probas</th>\n",
       "      <th>Preds</th>\n",
       "      <th>Labels</th>\n",
       "      <th>Proba</th>\n",
       "      <th>Probas</th>\n",
       "      <th>Preds</th>\n",
       "      <th>Labels</th>\n",
       "      <th>Proba</th>\n",
       "      <th>Probas</th>\n",
       "      <th>Preds</th>\n",
       "      <th>Labels</th>\n",
       "    </tr>\n",
       "  </thead>\n",
       "  <tbody>\n",
       "    <tr>\n",
       "      <th>0</th>\n",
       "      <td>0.528</td>\n",
       "      <td>[0.47166213393211365, 0.528337836265564]</td>\n",
       "      <td>1</td>\n",
       "      <td>0</td>\n",
       "      <td>0.496</td>\n",
       "      <td>[0.5042806267738342, 0.4957193434238434]</td>\n",
       "      <td>0</td>\n",
       "      <td>1</td>\n",
       "      <td>0.488</td>\n",
       "      <td>[0.512001097202301, 0.48799893260002136]</td>\n",
       "      <td>0</td>\n",
       "      <td>0</td>\n",
       "    </tr>\n",
       "    <tr>\n",
       "      <th>1</th>\n",
       "      <td>0.407</td>\n",
       "      <td>[0.5926842093467712, 0.40731576085090637]</td>\n",
       "      <td>0</td>\n",
       "      <td>1</td>\n",
       "      <td>0.673</td>\n",
       "      <td>[0.3268616199493408, 0.6731383204460144]</td>\n",
       "      <td>1</td>\n",
       "      <td>0</td>\n",
       "      <td>0.427</td>\n",
       "      <td>[0.5733611583709717, 0.4266388714313507]</td>\n",
       "      <td>0</td>\n",
       "      <td>0</td>\n",
       "    </tr>\n",
       "    <tr>\n",
       "      <th>2</th>\n",
       "      <td>0.597</td>\n",
       "      <td>[0.40335220098495483, 0.5966477394104004]</td>\n",
       "      <td>1</td>\n",
       "      <td>0</td>\n",
       "      <td>0.514</td>\n",
       "      <td>[0.4860421121120453, 0.5139579176902771]</td>\n",
       "      <td>1</td>\n",
       "      <td>1</td>\n",
       "      <td>0.536</td>\n",
       "      <td>[0.4644649624824524, 0.5355350375175476]</td>\n",
       "      <td>1</td>\n",
       "      <td>1</td>\n",
       "    </tr>\n",
       "    <tr>\n",
       "      <th>3</th>\n",
       "      <td>0.668</td>\n",
       "      <td>[0.33153676986694336, 0.6684632301330566]</td>\n",
       "      <td>1</td>\n",
       "      <td>0</td>\n",
       "      <td>0.640</td>\n",
       "      <td>[0.3595592975616455, 0.6404407024383545]</td>\n",
       "      <td>1</td>\n",
       "      <td>1</td>\n",
       "      <td>0.423</td>\n",
       "      <td>[0.5774127840995789, 0.42258715629577637]</td>\n",
       "      <td>0</td>\n",
       "      <td>0</td>\n",
       "    </tr>\n",
       "    <tr>\n",
       "      <th>4</th>\n",
       "      <td>0.455</td>\n",
       "      <td>[0.5453535318374634, 0.45464643836021423]</td>\n",
       "      <td>0</td>\n",
       "      <td>1</td>\n",
       "      <td>0.596</td>\n",
       "      <td>[0.40362733602523804, 0.5963727235794067]</td>\n",
       "      <td>1</td>\n",
       "      <td>1</td>\n",
       "      <td>0.558</td>\n",
       "      <td>[0.4420563280582428, 0.5579436421394348]</td>\n",
       "      <td>1</td>\n",
       "      <td>0</td>\n",
       "    </tr>\n",
       "  </tbody>\n",
       "</table>\n",
       "</div>"
      ],
      "text/plain": [
       "  Proba                                     Probas Preds Labels Proba  \\\n",
       "0 0.528   [0.47166213393211365, 0.528337836265564]     1      0 0.496   \n",
       "1 0.407  [0.5926842093467712, 0.40731576085090637]     0      1 0.673   \n",
       "2 0.597  [0.40335220098495483, 0.5966477394104004]     1      0 0.514   \n",
       "3 0.668  [0.33153676986694336, 0.6684632301330566]     1      0 0.640   \n",
       "4 0.455  [0.5453535318374634, 0.45464643836021423]     0      1 0.596   \n",
       "\n",
       "                                      Probas Preds Labels Proba  \\\n",
       "0   [0.5042806267738342, 0.4957193434238434]     0      1 0.488   \n",
       "1   [0.3268616199493408, 0.6731383204460144]     1      0 0.427   \n",
       "2   [0.4860421121120453, 0.5139579176902771]     1      1 0.536   \n",
       "3   [0.3595592975616455, 0.6404407024383545]     1      1 0.423   \n",
       "4  [0.40362733602523804, 0.5963727235794067]     1      1 0.558   \n",
       "\n",
       "                                      Probas Preds Labels  \n",
       "0   [0.512001097202301, 0.48799893260002136]     0      0  \n",
       "1   [0.5733611583709717, 0.4266388714313507]     0      0  \n",
       "2   [0.4644649624824524, 0.5355350375175476]     1      1  \n",
       "3  [0.5774127840995789, 0.42258715629577637]     0      0  \n",
       "4   [0.4420563280582428, 0.5579436421394348]     1      0  "
      ]
     },
     "metadata": {},
     "output_type": "display_data"
    },
    {
     "name": "stdout",
     "output_type": "stream",
     "text": [
      "scores =  {'map': '0.5820', 'acc': '0.5660', 'auc': '0.6077'}\n",
      "Epoch =  14 Train = 0.827816 Val = 0.607728\n"
     ]
    },
    {
     "data": {
      "application/vnd.jupyter.widget-view+json": {
       "model_id": "8204d6f06c1e4cd3b211e01b316fc2fc",
       "version_major": 2,
       "version_minor": 0
      },
      "text/plain": [
       "HBox(children=(FloatProgress(value=0.0, description='Batches', max=67.0, style=ProgressStyle(description_width…"
      ]
     },
     "metadata": {},
     "output_type": "display_data"
    },
    {
     "name": "stdout",
     "output_type": "stream",
     "text": [
      "\n",
      "Epoch =  16 Loss = 0.153505 LR = 0.00001883\n"
     ]
    },
    {
     "data": {
      "application/vnd.jupyter.widget-view+json": {
       "model_id": "0e44297eb0594a4b9eb36c801865f7f7",
       "version_major": 2,
       "version_minor": 0
      },
      "text/plain": [
       "HBox(children=(FloatProgress(value=0.0, description='Batches', max=67.0, style=ProgressStyle(description_width…"
      ]
     },
     "metadata": {},
     "output_type": "display_data"
    },
    {
     "name": "stdout",
     "output_type": "stream",
     "text": [
      "\n",
      "Epoch =  17 Loss = 0.149810 LR = 0.00001091\n"
     ]
    },
    {
     "data": {
      "application/vnd.jupyter.widget-view+json": {
       "model_id": "4e5d07faeca446ba96e6a73bf849daf5",
       "version_major": 2,
       "version_minor": 0
      },
      "text/plain": [
       "HBox(children=(FloatProgress(value=0.0, description='Generate Predictions', max=133.0, style=ProgressStyle(des…"
      ]
     },
     "metadata": {},
     "output_type": "display_data"
    },
    {
     "name": "stdout",
     "output_type": "stream",
     "text": [
      "\n"
     ]
    },
    {
     "data": {
      "application/vnd.jupyter.widget-view+json": {
       "model_id": "345b48fb833f43d88032ae0d68e6c7fe",
       "version_major": 2,
       "version_minor": 0
      },
      "text/plain": [
       "HBox(children=(FloatProgress(value=0.0, description='Generate Predictions', max=8.0, style=ProgressStyle(descr…"
      ]
     },
     "metadata": {},
     "output_type": "display_data"
    },
    {
     "name": "stdout",
     "output_type": "stream",
     "text": [
      "\n"
     ]
    },
    {
     "data": {
      "text/html": [
       "<div>\n",
       "<style scoped>\n",
       "    .dataframe tbody tr th:only-of-type {\n",
       "        vertical-align: middle;\n",
       "    }\n",
       "\n",
       "    .dataframe tbody tr th {\n",
       "        vertical-align: top;\n",
       "    }\n",
       "\n",
       "    .dataframe thead tr th {\n",
       "        text-align: left;\n",
       "    }\n",
       "\n",
       "    .dataframe thead tr:last-of-type th {\n",
       "        text-align: right;\n",
       "    }\n",
       "</style>\n",
       "<table border=\"1\" class=\"dataframe\">\n",
       "  <thead>\n",
       "    <tr>\n",
       "      <th></th>\n",
       "      <th colspan=\"2\" halign=\"left\">Proba</th>\n",
       "      <th colspan=\"2\" halign=\"left\">Preds</th>\n",
       "    </tr>\n",
       "    <tr>\n",
       "      <th></th>\n",
       "      <th>min</th>\n",
       "      <th>max</th>\n",
       "      <th>min</th>\n",
       "      <th>max</th>\n",
       "    </tr>\n",
       "    <tr>\n",
       "      <th>Labels</th>\n",
       "      <th></th>\n",
       "      <th></th>\n",
       "      <th></th>\n",
       "      <th></th>\n",
       "    </tr>\n",
       "  </thead>\n",
       "  <tbody>\n",
       "    <tr>\n",
       "      <th>0</th>\n",
       "      <td>0.192</td>\n",
       "      <td>0.766</td>\n",
       "      <td>0</td>\n",
       "      <td>1</td>\n",
       "    </tr>\n",
       "    <tr>\n",
       "      <th>1</th>\n",
       "      <td>0.272</td>\n",
       "      <td>0.687</td>\n",
       "      <td>0</td>\n",
       "      <td>1</td>\n",
       "    </tr>\n",
       "  </tbody>\n",
       "</table>\n",
       "</div>"
      ],
      "text/plain": [
       "       Proba       Preds    \n",
       "         min   max   min max\n",
       "Labels                      \n",
       "0      0.192 0.766     0   1\n",
       "1      0.272 0.687     0   1"
      ]
     },
     "metadata": {},
     "output_type": "display_data"
    },
    {
     "data": {
      "text/html": [
       "<div>\n",
       "<style scoped>\n",
       "    .dataframe tbody tr th:only-of-type {\n",
       "        vertical-align: middle;\n",
       "    }\n",
       "\n",
       "    .dataframe tbody tr th {\n",
       "        vertical-align: top;\n",
       "    }\n",
       "\n",
       "    .dataframe thead th {\n",
       "        text-align: right;\n",
       "    }\n",
       "</style>\n",
       "<table border=\"1\" class=\"dataframe\">\n",
       "  <thead>\n",
       "    <tr style=\"text-align: right;\">\n",
       "      <th></th>\n",
       "      <th>Proba</th>\n",
       "      <th>Probas</th>\n",
       "      <th>Preds</th>\n",
       "      <th>Labels</th>\n",
       "      <th>Proba</th>\n",
       "      <th>Probas</th>\n",
       "      <th>Preds</th>\n",
       "      <th>Labels</th>\n",
       "      <th>Proba</th>\n",
       "      <th>Probas</th>\n",
       "      <th>Preds</th>\n",
       "      <th>Labels</th>\n",
       "    </tr>\n",
       "  </thead>\n",
       "  <tbody>\n",
       "    <tr>\n",
       "      <th>0</th>\n",
       "      <td>0.582</td>\n",
       "      <td>[0.41764456033706665, 0.5823554992675781]</td>\n",
       "      <td>1</td>\n",
       "      <td>0</td>\n",
       "      <td>0.441</td>\n",
       "      <td>[0.5594714879989624, 0.4405285716056824]</td>\n",
       "      <td>0</td>\n",
       "      <td>1</td>\n",
       "      <td>0.553</td>\n",
       "      <td>[0.4471808969974518, 0.5528191328048706]</td>\n",
       "      <td>1</td>\n",
       "      <td>1</td>\n",
       "    </tr>\n",
       "    <tr>\n",
       "      <th>1</th>\n",
       "      <td>0.569</td>\n",
       "      <td>[0.4311293661594391, 0.5688706636428833]</td>\n",
       "      <td>1</td>\n",
       "      <td>0</td>\n",
       "      <td>0.286</td>\n",
       "      <td>[0.7138761281967163, 0.28612393140792847]</td>\n",
       "      <td>0</td>\n",
       "      <td>1</td>\n",
       "      <td>0.565</td>\n",
       "      <td>[0.4351339638233185, 0.5648660659790039]</td>\n",
       "      <td>1</td>\n",
       "      <td>0</td>\n",
       "    </tr>\n",
       "    <tr>\n",
       "      <th>2</th>\n",
       "      <td>0.467</td>\n",
       "      <td>[0.5333238840103149, 0.46667617559432983]</td>\n",
       "      <td>0</td>\n",
       "      <td>1</td>\n",
       "      <td>0.450</td>\n",
       "      <td>[0.5503807663917542, 0.4496192932128906]</td>\n",
       "      <td>0</td>\n",
       "      <td>0</td>\n",
       "      <td>0.458</td>\n",
       "      <td>[0.5418953895568848, 0.4581046402454376]</td>\n",
       "      <td>0</td>\n",
       "      <td>0</td>\n",
       "    </tr>\n",
       "    <tr>\n",
       "      <th>3</th>\n",
       "      <td>0.542</td>\n",
       "      <td>[0.4579553008079529, 0.5420446991920471]</td>\n",
       "      <td>1</td>\n",
       "      <td>1</td>\n",
       "      <td>0.437</td>\n",
       "      <td>[0.5633378028869629, 0.4366622865200043]</td>\n",
       "      <td>0</td>\n",
       "      <td>0</td>\n",
       "      <td>0.488</td>\n",
       "      <td>[0.5117838978767395, 0.4882161021232605]</td>\n",
       "      <td>0</td>\n",
       "      <td>0</td>\n",
       "    </tr>\n",
       "    <tr>\n",
       "      <th>4</th>\n",
       "      <td>0.416</td>\n",
       "      <td>[0.5839833617210388, 0.4160166084766388]</td>\n",
       "      <td>0</td>\n",
       "      <td>0</td>\n",
       "      <td>0.502</td>\n",
       "      <td>[0.4981670081615448, 0.5018330216407776]</td>\n",
       "      <td>1</td>\n",
       "      <td>0</td>\n",
       "      <td>0.403</td>\n",
       "      <td>[0.5967537760734558, 0.4032462239265442]</td>\n",
       "      <td>0</td>\n",
       "      <td>0</td>\n",
       "    </tr>\n",
       "  </tbody>\n",
       "</table>\n",
       "</div>"
      ],
      "text/plain": [
       "  Proba                                     Probas Preds Labels Proba  \\\n",
       "0 0.582  [0.41764456033706665, 0.5823554992675781]     1      0 0.441   \n",
       "1 0.569   [0.4311293661594391, 0.5688706636428833]     1      0 0.286   \n",
       "2 0.467  [0.5333238840103149, 0.46667617559432983]     0      1 0.450   \n",
       "3 0.542   [0.4579553008079529, 0.5420446991920471]     1      1 0.437   \n",
       "4 0.416   [0.5839833617210388, 0.4160166084766388]     0      0 0.502   \n",
       "\n",
       "                                      Probas Preds Labels Proba  \\\n",
       "0   [0.5594714879989624, 0.4405285716056824]     0      1 0.553   \n",
       "1  [0.7138761281967163, 0.28612393140792847]     0      1 0.565   \n",
       "2   [0.5503807663917542, 0.4496192932128906]     0      0 0.458   \n",
       "3   [0.5633378028869629, 0.4366622865200043]     0      0 0.488   \n",
       "4   [0.4981670081615448, 0.5018330216407776]     1      0 0.403   \n",
       "\n",
       "                                     Probas Preds Labels  \n",
       "0  [0.4471808969974518, 0.5528191328048706]     1      1  \n",
       "1  [0.4351339638233185, 0.5648660659790039]     1      0  \n",
       "2  [0.5418953895568848, 0.4581046402454376]     0      0  \n",
       "3  [0.5117838978767395, 0.4882161021232605]     0      0  \n",
       "4  [0.5967537760734558, 0.4032462239265442]     0      0  "
      ]
     },
     "metadata": {},
     "output_type": "display_data"
    },
    {
     "name": "stdout",
     "output_type": "stream",
     "text": [
      "scores =  {'map': '0.5913', 'acc': '0.5540', 'auc': '0.6133'}\n",
      "Epoch =  17 Train = 0.849840 Val = 0.613312\n"
     ]
    },
    {
     "data": {
      "application/vnd.jupyter.widget-view+json": {
       "model_id": "018a23aab5624d7a917d4c0fd2213096",
       "version_major": 2,
       "version_minor": 0
      },
      "text/plain": [
       "HBox(children=(FloatProgress(value=0.0, description='Batches', max=67.0, style=ProgressStyle(description_width…"
      ]
     },
     "metadata": {},
     "output_type": "display_data"
    },
    {
     "name": "stdout",
     "output_type": "stream",
     "text": [
      "\n",
      "Epoch =  18 Loss = 0.144986 LR = 0.00000495\n"
     ]
    },
    {
     "data": {
      "application/vnd.jupyter.widget-view+json": {
       "model_id": "302da56175a846618b0eb1553e5d4e21",
       "version_major": 2,
       "version_minor": 0
      },
      "text/plain": [
       "HBox(children=(FloatProgress(value=0.0, description='Batches', max=67.0, style=ProgressStyle(description_width…"
      ]
     },
     "metadata": {},
     "output_type": "display_data"
    },
    {
     "name": "stdout",
     "output_type": "stream",
     "text": [
      "\n",
      "Epoch =  19 Loss = 0.145521 LR = 0.00000125\n"
     ]
    },
    {
     "data": {
      "application/vnd.jupyter.widget-view+json": {
       "model_id": "391984c2ee9d4a579ac05c7c67516b34",
       "version_major": 2,
       "version_minor": 0
      },
      "text/plain": [
       "HBox(children=(FloatProgress(value=0.0, description='Generate Predictions', max=133.0, style=ProgressStyle(des…"
      ]
     },
     "metadata": {},
     "output_type": "display_data"
    },
    {
     "name": "stdout",
     "output_type": "stream",
     "text": [
      "\n"
     ]
    },
    {
     "data": {
      "application/vnd.jupyter.widget-view+json": {
       "model_id": "4dd18242b2eb4227b2c6f45285c252a0",
       "version_major": 2,
       "version_minor": 0
      },
      "text/plain": [
       "HBox(children=(FloatProgress(value=0.0, description='Generate Predictions', max=8.0, style=ProgressStyle(descr…"
      ]
     },
     "metadata": {},
     "output_type": "display_data"
    },
    {
     "name": "stdout",
     "output_type": "stream",
     "text": [
      "\n"
     ]
    },
    {
     "data": {
      "text/html": [
       "<div>\n",
       "<style scoped>\n",
       "    .dataframe tbody tr th:only-of-type {\n",
       "        vertical-align: middle;\n",
       "    }\n",
       "\n",
       "    .dataframe tbody tr th {\n",
       "        vertical-align: top;\n",
       "    }\n",
       "\n",
       "    .dataframe thead tr th {\n",
       "        text-align: left;\n",
       "    }\n",
       "\n",
       "    .dataframe thead tr:last-of-type th {\n",
       "        text-align: right;\n",
       "    }\n",
       "</style>\n",
       "<table border=\"1\" class=\"dataframe\">\n",
       "  <thead>\n",
       "    <tr>\n",
       "      <th></th>\n",
       "      <th colspan=\"2\" halign=\"left\">Proba</th>\n",
       "      <th colspan=\"2\" halign=\"left\">Preds</th>\n",
       "    </tr>\n",
       "    <tr>\n",
       "      <th></th>\n",
       "      <th>min</th>\n",
       "      <th>max</th>\n",
       "      <th>min</th>\n",
       "      <th>max</th>\n",
       "    </tr>\n",
       "    <tr>\n",
       "      <th>Labels</th>\n",
       "      <th></th>\n",
       "      <th></th>\n",
       "      <th></th>\n",
       "      <th></th>\n",
       "    </tr>\n",
       "  </thead>\n",
       "  <tbody>\n",
       "    <tr>\n",
       "      <th>0</th>\n",
       "      <td>0.170</td>\n",
       "      <td>0.784</td>\n",
       "      <td>0</td>\n",
       "      <td>1</td>\n",
       "    </tr>\n",
       "    <tr>\n",
       "      <th>1</th>\n",
       "      <td>0.259</td>\n",
       "      <td>0.711</td>\n",
       "      <td>0</td>\n",
       "      <td>1</td>\n",
       "    </tr>\n",
       "  </tbody>\n",
       "</table>\n",
       "</div>"
      ],
      "text/plain": [
       "       Proba       Preds    \n",
       "         min   max   min max\n",
       "Labels                      \n",
       "0      0.170 0.784     0   1\n",
       "1      0.259 0.711     0   1"
      ]
     },
     "metadata": {},
     "output_type": "display_data"
    },
    {
     "data": {
      "text/html": [
       "<div>\n",
       "<style scoped>\n",
       "    .dataframe tbody tr th:only-of-type {\n",
       "        vertical-align: middle;\n",
       "    }\n",
       "\n",
       "    .dataframe tbody tr th {\n",
       "        vertical-align: top;\n",
       "    }\n",
       "\n",
       "    .dataframe thead th {\n",
       "        text-align: right;\n",
       "    }\n",
       "</style>\n",
       "<table border=\"1\" class=\"dataframe\">\n",
       "  <thead>\n",
       "    <tr style=\"text-align: right;\">\n",
       "      <th></th>\n",
       "      <th>Proba</th>\n",
       "      <th>Probas</th>\n",
       "      <th>Preds</th>\n",
       "      <th>Labels</th>\n",
       "      <th>Proba</th>\n",
       "      <th>Probas</th>\n",
       "      <th>Preds</th>\n",
       "      <th>Labels</th>\n",
       "      <th>Proba</th>\n",
       "      <th>Probas</th>\n",
       "      <th>Preds</th>\n",
       "      <th>Labels</th>\n",
       "    </tr>\n",
       "  </thead>\n",
       "  <tbody>\n",
       "    <tr>\n",
       "      <th>0</th>\n",
       "      <td>0.425</td>\n",
       "      <td>[0.5749717354774475, 0.4250282645225525]</td>\n",
       "      <td>0</td>\n",
       "      <td>1</td>\n",
       "      <td>0.515</td>\n",
       "      <td>[0.4854915142059326, 0.5145084857940674]</td>\n",
       "      <td>1</td>\n",
       "      <td>1</td>\n",
       "      <td>0.353</td>\n",
       "      <td>[0.6471288800239563, 0.3528711199760437]</td>\n",
       "      <td>0</td>\n",
       "      <td>1</td>\n",
       "    </tr>\n",
       "    <tr>\n",
       "      <th>1</th>\n",
       "      <td>0.387</td>\n",
       "      <td>[0.6133939027786255, 0.38660603761672974]</td>\n",
       "      <td>0</td>\n",
       "      <td>0</td>\n",
       "      <td>0.501</td>\n",
       "      <td>[0.4992218017578125, 0.5007781982421875]</td>\n",
       "      <td>1</td>\n",
       "      <td>1</td>\n",
       "      <td>0.455</td>\n",
       "      <td>[0.5448354482650757, 0.4551645815372467]</td>\n",
       "      <td>0</td>\n",
       "      <td>0</td>\n",
       "    </tr>\n",
       "    <tr>\n",
       "      <th>2</th>\n",
       "      <td>0.641</td>\n",
       "      <td>[0.3593224883079529, 0.6406774520874023]</td>\n",
       "      <td>1</td>\n",
       "      <td>0</td>\n",
       "      <td>0.647</td>\n",
       "      <td>[0.3527626395225525, 0.6472373604774475]</td>\n",
       "      <td>1</td>\n",
       "      <td>0</td>\n",
       "      <td>0.205</td>\n",
       "      <td>[0.7950778603553772, 0.20492210984230042]</td>\n",
       "      <td>0</td>\n",
       "      <td>0</td>\n",
       "    </tr>\n",
       "    <tr>\n",
       "      <th>3</th>\n",
       "      <td>0.556</td>\n",
       "      <td>[0.44423919916152954, 0.5557608008384705]</td>\n",
       "      <td>1</td>\n",
       "      <td>1</td>\n",
       "      <td>0.480</td>\n",
       "      <td>[0.5197005867958069, 0.4802994728088379]</td>\n",
       "      <td>0</td>\n",
       "      <td>1</td>\n",
       "      <td>0.468</td>\n",
       "      <td>[0.532130241394043, 0.4678698182106018]</td>\n",
       "      <td>0</td>\n",
       "      <td>1</td>\n",
       "    </tr>\n",
       "    <tr>\n",
       "      <th>4</th>\n",
       "      <td>0.304</td>\n",
       "      <td>[0.6958330869674683, 0.30416685342788696]</td>\n",
       "      <td>0</td>\n",
       "      <td>0</td>\n",
       "      <td>0.382</td>\n",
       "      <td>[0.6175069808959961, 0.38249292969703674]</td>\n",
       "      <td>0</td>\n",
       "      <td>0</td>\n",
       "      <td>0.313</td>\n",
       "      <td>[0.6874490976333618, 0.31255093216896057]</td>\n",
       "      <td>0</td>\n",
       "      <td>0</td>\n",
       "    </tr>\n",
       "  </tbody>\n",
       "</table>\n",
       "</div>"
      ],
      "text/plain": [
       "  Proba                                     Probas Preds Labels Proba  \\\n",
       "0 0.425   [0.5749717354774475, 0.4250282645225525]     0      1 0.515   \n",
       "1 0.387  [0.6133939027786255, 0.38660603761672974]     0      0 0.501   \n",
       "2 0.641   [0.3593224883079529, 0.6406774520874023]     1      0 0.647   \n",
       "3 0.556  [0.44423919916152954, 0.5557608008384705]     1      1 0.480   \n",
       "4 0.304  [0.6958330869674683, 0.30416685342788696]     0      0 0.382   \n",
       "\n",
       "                                      Probas Preds Labels Proba  \\\n",
       "0   [0.4854915142059326, 0.5145084857940674]     1      1 0.353   \n",
       "1   [0.4992218017578125, 0.5007781982421875]     1      1 0.455   \n",
       "2   [0.3527626395225525, 0.6472373604774475]     1      0 0.205   \n",
       "3   [0.5197005867958069, 0.4802994728088379]     0      1 0.468   \n",
       "4  [0.6175069808959961, 0.38249292969703674]     0      0 0.313   \n",
       "\n",
       "                                      Probas Preds Labels  \n",
       "0   [0.6471288800239563, 0.3528711199760437]     0      1  \n",
       "1   [0.5448354482650757, 0.4551645815372467]     0      0  \n",
       "2  [0.7950778603553772, 0.20492210984230042]     0      0  \n",
       "3    [0.532130241394043, 0.4678698182106018]     0      1  \n",
       "4  [0.6874490976333618, 0.31255093216896057]     0      0  "
      ]
     },
     "metadata": {},
     "output_type": "display_data"
    },
    {
     "name": "stdout",
     "output_type": "stream",
     "text": [
      "scores =  {'map': '0.5932', 'acc': '0.5520', 'auc': '0.6182'}\n",
      "Epoch =  19 Train = 0.853886 Val = 0.618224\n"
     ]
    },
    {
     "data": {
      "application/vnd.jupyter.widget-view+json": {
       "model_id": "748a08e9c0a84f8787c2037b948c5f53",
       "version_major": 2,
       "version_minor": 0
      },
      "text/plain": [
       "HBox(children=(FloatProgress(value=0.0, description='Batches', max=67.0, style=ProgressStyle(description_width…"
      ]
     },
     "metadata": {},
     "output_type": "display_data"
    },
    {
     "name": "stdout",
     "output_type": "stream",
     "text": [
      "\n",
      "Epoch =  20 Loss = 0.145239 LR = 0.00000000\n",
      "\n"
     ]
    },
    {
     "data": {
      "image/png": "[encoded data removed]",
      "text/plain": [
       "<Figure size 576x576 with 2 Axes>"
      ]
     },
     "metadata": {
      "image/png": {
       "height": 567,
       "width": 568
      },
      "needs_background": "light"
     },
     "output_type": "display_data"
    },
    {
     "data": {
      "application/vnd.jupyter.widget-view+json": {
       "model_id": "240e00adecf34fa8990b0170469473d4",
       "version_major": 2,
       "version_minor": 0
      },
      "text/plain": [
       "HBox(children=(FloatProgress(value=0.0, description='Generate Predictions', max=8.0, style=ProgressStyle(descr…"
      ]
     },
     "metadata": {},
     "output_type": "display_data"
    },
    {
     "name": "stdout",
     "output_type": "stream",
     "text": [
      "\n"
     ]
    },
    {
     "data": {
      "text/html": [
       "<div>\n",
       "<style scoped>\n",
       "    .dataframe tbody tr th:only-of-type {\n",
       "        vertical-align: middle;\n",
       "    }\n",
       "\n",
       "    .dataframe tbody tr th {\n",
       "        vertical-align: top;\n",
       "    }\n",
       "\n",
       "    .dataframe thead tr th {\n",
       "        text-align: left;\n",
       "    }\n",
       "\n",
       "    .dataframe thead tr:last-of-type th {\n",
       "        text-align: right;\n",
       "    }\n",
       "</style>\n",
       "<table border=\"1\" class=\"dataframe\">\n",
       "  <thead>\n",
       "    <tr>\n",
       "      <th></th>\n",
       "      <th colspan=\"2\" halign=\"left\">Proba</th>\n",
       "      <th colspan=\"2\" halign=\"left\">Preds</th>\n",
       "    </tr>\n",
       "    <tr>\n",
       "      <th></th>\n",
       "      <th>min</th>\n",
       "      <th>max</th>\n",
       "      <th>min</th>\n",
       "      <th>max</th>\n",
       "    </tr>\n",
       "    <tr>\n",
       "      <th>Labels</th>\n",
       "      <th></th>\n",
       "      <th></th>\n",
       "      <th></th>\n",
       "      <th></th>\n",
       "    </tr>\n",
       "  </thead>\n",
       "  <tbody>\n",
       "    <tr>\n",
       "      <th>0</th>\n",
       "      <td>0.167</td>\n",
       "      <td>0.779</td>\n",
       "      <td>0</td>\n",
       "      <td>1</td>\n",
       "    </tr>\n",
       "    <tr>\n",
       "      <th>1</th>\n",
       "      <td>0.252</td>\n",
       "      <td>0.706</td>\n",
       "      <td>0</td>\n",
       "      <td>1</td>\n",
       "    </tr>\n",
       "  </tbody>\n",
       "</table>\n",
       "</div>"
      ],
      "text/plain": [
       "       Proba       Preds    \n",
       "         min   max   min max\n",
       "Labels                      \n",
       "0      0.167 0.779     0   1\n",
       "1      0.252 0.706     0   1"
      ]
     },
     "metadata": {},
     "output_type": "display_data"
    },
    {
     "data": {
      "text/html": [
       "<div>\n",
       "<style scoped>\n",
       "    .dataframe tbody tr th:only-of-type {\n",
       "        vertical-align: middle;\n",
       "    }\n",
       "\n",
       "    .dataframe tbody tr th {\n",
       "        vertical-align: top;\n",
       "    }\n",
       "\n",
       "    .dataframe thead th {\n",
       "        text-align: right;\n",
       "    }\n",
       "</style>\n",
       "<table border=\"1\" class=\"dataframe\">\n",
       "  <thead>\n",
       "    <tr style=\"text-align: right;\">\n",
       "      <th></th>\n",
       "      <th>Proba</th>\n",
       "      <th>Probas</th>\n",
       "      <th>Preds</th>\n",
       "      <th>Labels</th>\n",
       "      <th>Proba</th>\n",
       "      <th>Probas</th>\n",
       "      <th>Preds</th>\n",
       "      <th>Labels</th>\n",
       "      <th>Proba</th>\n",
       "      <th>Probas</th>\n",
       "      <th>Preds</th>\n",
       "      <th>Labels</th>\n",
       "    </tr>\n",
       "  </thead>\n",
       "  <tbody>\n",
       "    <tr>\n",
       "      <th>0</th>\n",
       "      <td>0.573</td>\n",
       "      <td>[0.4265304505825043, 0.5734695196151733]</td>\n",
       "      <td>1</td>\n",
       "      <td>1</td>\n",
       "      <td>0.361</td>\n",
       "      <td>[0.6392946243286133, 0.3607054352760315]</td>\n",
       "      <td>0</td>\n",
       "      <td>0</td>\n",
       "      <td>0.355</td>\n",
       "      <td>[0.6445128321647644, 0.3554871082305908]</td>\n",
       "      <td>0</td>\n",
       "      <td>1</td>\n",
       "    </tr>\n",
       "    <tr>\n",
       "      <th>1</th>\n",
       "      <td>0.290</td>\n",
       "      <td>[0.7104015350341797, 0.2895985245704651]</td>\n",
       "      <td>0</td>\n",
       "      <td>0</td>\n",
       "      <td>0.351</td>\n",
       "      <td>[0.6488524675369263, 0.3511475622653961]</td>\n",
       "      <td>0</td>\n",
       "      <td>1</td>\n",
       "      <td>0.427</td>\n",
       "      <td>[0.5733388662338257, 0.4266611635684967]</td>\n",
       "      <td>0</td>\n",
       "      <td>0</td>\n",
       "    </tr>\n",
       "    <tr>\n",
       "      <th>2</th>\n",
       "      <td>0.623</td>\n",
       "      <td>[0.37689676880836487, 0.6231032609939575]</td>\n",
       "      <td>1</td>\n",
       "      <td>1</td>\n",
       "      <td>0.328</td>\n",
       "      <td>[0.6722395420074463, 0.3277604281902313]</td>\n",
       "      <td>0</td>\n",
       "      <td>0</td>\n",
       "      <td>0.500</td>\n",
       "      <td>[0.500424325466156, 0.4995756447315216]</td>\n",
       "      <td>0</td>\n",
       "      <td>1</td>\n",
       "    </tr>\n",
       "    <tr>\n",
       "      <th>3</th>\n",
       "      <td>0.447</td>\n",
       "      <td>[0.5530675649642944, 0.44693246483802795]</td>\n",
       "      <td>0</td>\n",
       "      <td>1</td>\n",
       "      <td>0.318</td>\n",
       "      <td>[0.6824303865432739, 0.31756964325904846]</td>\n",
       "      <td>0</td>\n",
       "      <td>0</td>\n",
       "      <td>0.577</td>\n",
       "      <td>[0.42318975925445557, 0.5768102407455444]</td>\n",
       "      <td>1</td>\n",
       "      <td>0</td>\n",
       "    </tr>\n",
       "    <tr>\n",
       "      <th>4</th>\n",
       "      <td>0.647</td>\n",
       "      <td>[0.35307562351226807, 0.6469243764877319]</td>\n",
       "      <td>1</td>\n",
       "      <td>0</td>\n",
       "      <td>0.572</td>\n",
       "      <td>[0.4283226728439331, 0.5716773271560669]</td>\n",
       "      <td>1</td>\n",
       "      <td>1</td>\n",
       "      <td>0.469</td>\n",
       "      <td>[0.5310060977935791, 0.4689939022064209]</td>\n",
       "      <td>0</td>\n",
       "      <td>0</td>\n",
       "    </tr>\n",
       "  </tbody>\n",
       "</table>\n",
       "</div>"
      ],
      "text/plain": [
       "  Proba                                     Probas Preds Labels Proba  \\\n",
       "0 0.573   [0.4265304505825043, 0.5734695196151733]     1      1 0.361   \n",
       "1 0.290   [0.7104015350341797, 0.2895985245704651]     0      0 0.351   \n",
       "2 0.623  [0.37689676880836487, 0.6231032609939575]     1      1 0.328   \n",
       "3 0.447  [0.5530675649642944, 0.44693246483802795]     0      1 0.318   \n",
       "4 0.647  [0.35307562351226807, 0.6469243764877319]     1      0 0.572   \n",
       "\n",
       "                                      Probas Preds Labels Proba  \\\n",
       "0   [0.6392946243286133, 0.3607054352760315]     0      0 0.355   \n",
       "1   [0.6488524675369263, 0.3511475622653961]     0      1 0.427   \n",
       "2   [0.6722395420074463, 0.3277604281902313]     0      0 0.500   \n",
       "3  [0.6824303865432739, 0.31756964325904846]     0      0 0.577   \n",
       "4   [0.4283226728439331, 0.5716773271560669]     1      1 0.469   \n",
       "\n",
       "                                      Probas Preds Labels  \n",
       "0   [0.6445128321647644, 0.3554871082305908]     0      1  \n",
       "1   [0.5733388662338257, 0.4266611635684967]     0      0  \n",
       "2    [0.500424325466156, 0.4995756447315216]     0      1  \n",
       "3  [0.42318975925445557, 0.5768102407455444]     1      0  \n",
       "4   [0.5310060977935791, 0.4689939022064209]     0      0  "
      ]
     },
     "metadata": {},
     "output_type": "display_data"
    },
    {
     "name": "stdout",
     "output_type": "stream",
     "text": [
      "scores =  {'map': '0.5929', 'acc': '0.5520', 'auc': '0.6182'}\n"
     ]
    },
    {
     "data": {
      "application/vnd.jupyter.widget-view+json": {
       "model_id": "7503c029abd848aab892c92b359eb98e",
       "version_major": 2,
       "version_minor": 0
      },
      "text/plain": [
       "HBox(children=(FloatProgress(value=0.0, description='Generate Predictions', max=133.0, style=ProgressStyle(des…"
      ]
     },
     "metadata": {},
     "output_type": "display_data"
    },
    {
     "name": "stdout",
     "output_type": "stream",
     "text": [
      "\n"
     ]
    },
    {
     "data": {
      "text/html": [
       "<div>\n",
       "<style scoped>\n",
       "    .dataframe tbody tr th:only-of-type {\n",
       "        vertical-align: middle;\n",
       "    }\n",
       "\n",
       "    .dataframe tbody tr th {\n",
       "        vertical-align: top;\n",
       "    }\n",
       "\n",
       "    .dataframe thead th {\n",
       "        text-align: right;\n",
       "    }\n",
       "</style>\n",
       "<table border=\"1\" class=\"dataframe\">\n",
       "  <thead>\n",
       "    <tr style=\"text-align: right;\">\n",
       "      <th></th>\n",
       "      <th></th>\n",
       "      <th>train</th>\n",
       "      <th>val</th>\n",
       "    </tr>\n",
       "    <tr>\n",
       "      <th>mean_or_std</th>\n",
       "      <th>metric</th>\n",
       "      <th></th>\n",
       "      <th></th>\n",
       "    </tr>\n",
       "  </thead>\n",
       "  <tbody>\n",
       "    <tr>\n",
       "      <th rowspan=\"3\" valign=\"top\">mean</th>\n",
       "      <th>map</th>\n",
       "      <td>0.766</td>\n",
       "      <td>0.593</td>\n",
       "    </tr>\n",
       "    <tr>\n",
       "      <th>accuracy</th>\n",
       "      <td>0.774</td>\n",
       "      <td>0.552</td>\n",
       "    </tr>\n",
       "    <tr>\n",
       "      <th>auc</th>\n",
       "      <td>0.854</td>\n",
       "      <td>0.618</td>\n",
       "    </tr>\n",
       "    <tr>\n",
       "      <th rowspan=\"3\" valign=\"top\">std</th>\n",
       "      <th>map</th>\n",
       "      <td>0.000</td>\n",
       "      <td>0.000</td>\n",
       "    </tr>\n",
       "    <tr>\n",
       "      <th>accuracy</th>\n",
       "      <td>0.000</td>\n",
       "      <td>0.000</td>\n",
       "    </tr>\n",
       "    <tr>\n",
       "      <th>auc</th>\n",
       "      <td>0.000</td>\n",
       "      <td>0.000</td>\n",
       "    </tr>\n",
       "  </tbody>\n",
       "</table>\n",
       "</div>"
      ],
      "text/plain": [
       "                      train   val\n",
       "mean_or_std metric               \n",
       "mean        map       0.766 0.593\n",
       "            accuracy  0.774 0.552\n",
       "            auc       0.854 0.618\n",
       "std         map       0.000 0.000\n",
       "            accuracy  0.000 0.000\n",
       "            auc       0.000 0.000"
      ]
     },
     "execution_count": 14,
     "metadata": {},
     "output_type": "execute_result"
    },
    {
     "data": {
      "text/html": [
       "<div>\n",
       "<style scoped>\n",
       "    .dataframe tbody tr th:only-of-type {\n",
       "        vertical-align: middle;\n",
       "    }\n",
       "\n",
       "    .dataframe tbody tr th {\n",
       "        vertical-align: top;\n",
       "    }\n",
       "\n",
       "    .dataframe thead tr th {\n",
       "        text-align: left;\n",
       "    }\n",
       "</style>\n",
       "<table border=\"1\" class=\"dataframe\">\n",
       "  <thead>\n",
       "    <tr>\n",
       "      <th></th>\n",
       "      <th colspan=\"4\" halign=\"left\">train</th>\n",
       "      <th colspan=\"4\" halign=\"left\">val</th>\n",
       "    </tr>\n",
       "    <tr>\n",
       "      <th></th>\n",
       "      <th>precision</th>\n",
       "      <th>recall</th>\n",
       "      <th>f1</th>\n",
       "      <th>supoort</th>\n",
       "      <th>precision</th>\n",
       "      <th>recall</th>\n",
       "      <th>f1</th>\n",
       "      <th>supoort</th>\n",
       "    </tr>\n",
       "  </thead>\n",
       "  <tbody>\n",
       "    <tr>\n",
       "      <th>neg</th>\n",
       "      <td>0.852</td>\n",
       "      <td>0.783</td>\n",
       "      <td>0.816</td>\n",
       "      <td>5450.000</td>\n",
       "      <td>0.542</td>\n",
       "      <td>0.676</td>\n",
       "      <td>0.601</td>\n",
       "      <td>250.000</td>\n",
       "    </tr>\n",
       "    <tr>\n",
       "      <th>pos</th>\n",
       "      <td>0.661</td>\n",
       "      <td>0.758</td>\n",
       "      <td>0.706</td>\n",
       "      <td>3050.000</td>\n",
       "      <td>0.569</td>\n",
       "      <td>0.428</td>\n",
       "      <td>0.489</td>\n",
       "      <td>250.000</td>\n",
       "    </tr>\n",
       "  </tbody>\n",
       "</table>\n",
       "</div>"
      ],
      "text/plain": [
       "        train                             val                     \n",
       "    precision recall    f1  supoort precision recall    f1 supoort\n",
       "neg     0.852  0.783 0.816 5450.000     0.542  0.676 0.601 250.000\n",
       "pos     0.661  0.758 0.706 3050.000     0.569  0.428 0.489 250.000"
      ]
     },
     "execution_count": 14,
     "metadata": {},
     "output_type": "execute_result"
    }
   ],
   "source": [
    "batch_size=64\n",
    "epochs = 10\n",
    "\n",
    "kfold = False\n",
    "results, prfs = train_validate_ntimes(\n",
    "    model_fn,\n",
    "    data,\n",
    "    batch_size,\n",
    "    epochs,\n",
    "    kfold=kfold,\n",
    "    scheduler_init_fn=scheduler_init_fn,\n",
    "    model_call_back=reg_sched,\n",
    "    validation_epochs=[2, 7, 9, 11, 14, 17, 19, 24, 28],\n",
    "    show_model_stats=False,\n",
    "    sampling_policy=\"without_replacement\",\n",
    "    accumulation_steps=4,\n",
    ")\n",
    "r1, p1 = results, prfs\n",
    "results\n",
    "prfs\n"
   ]
  },
  {
   "cell_type": "code",
   "execution_count": 15,
   "metadata": {
    "ExecuteTime": {
     "end_time": "2020-07-26T23:01:41.436550Z",
     "start_time": "2020-07-26T19:55:42.473215Z"
    }
   },
   "outputs": [
    {
     "data": {
      "application/vnd.jupyter.widget-view+json": {
       "model_id": "03422b586d8f4f1d839477868450ae89",
       "version_major": 2,
       "version_minor": 0
      },
      "text/plain": [
       "HBox(children=(FloatProgress(value=0.0, description='Caching Images in Dataset', max=8500.0, style=ProgressSty…"
      ]
     },
     "metadata": {},
     "output_type": "display_data"
    },
    {
     "name": "stdout",
     "output_type": "stream",
     "text": [
      "\n"
     ]
    },
    {
     "data": {
      "application/vnd.jupyter.widget-view+json": {
       "model_id": "874c56672f32472ba00150e272240eb3",
       "version_major": 2,
       "version_minor": 0
      },
      "text/plain": [
       "HBox(children=(FloatProgress(value=0.0, description='Caching Images in Dataset', max=500.0, style=ProgressStyl…"
      ]
     },
     "metadata": {},
     "output_type": "display_data"
    },
    {
     "name": "stdout",
     "output_type": "stream",
     "text": [
      "\n",
      "LXRT encoder with 9 l_layers, 5 x_layers, and 5 r_layers.\n",
      "Load LXMERT pre-trained model from /home/ahemf/.pytorch_pretrained_bert/acfabf2c6d3708e226675d880fed09a14878ef2aee577eeefa8e27a6a22d5b3e.5392626539fa4619737ae314ee55e15de3097750e782865c604a83312ea77251\n",
      "\n",
      "Weights in loaded but not in model:\n",
      "answer_head.logit_fc.0.bias\n",
      "answer_head.logit_fc.0.weight\n",
      "answer_head.logit_fc.2.bias\n",
      "answer_head.logit_fc.2.weight\n",
      "answer_head.logit_fc.3.bias\n",
      "answer_head.logit_fc.3.weight\n",
      "cls.predictions.bias\n",
      "cls.predictions.decoder.weight\n",
      "cls.predictions.transform.LayerNorm.bias\n",
      "cls.predictions.transform.LayerNorm.weight\n",
      "cls.predictions.transform.dense.bias\n",
      "cls.predictions.transform.dense.weight\n",
      "cls.seq_relationship.bias\n",
      "cls.seq_relationship.weight\n",
      "obj_predict_head.decoder_dict.attr.bias\n",
      "obj_predict_head.decoder_dict.attr.weight\n",
      "obj_predict_head.decoder_dict.feat.bias\n",
      "obj_predict_head.decoder_dict.feat.weight\n",
      "obj_predict_head.decoder_dict.obj.bias\n",
      "obj_predict_head.decoder_dict.obj.weight\n",
      "obj_predict_head.transform.LayerNorm.bias\n",
      "obj_predict_head.transform.LayerNorm.weight\n",
      "obj_predict_head.transform.dense.bias\n",
      "obj_predict_head.transform.dense.weight\n",
      "\n",
      "Weights in model but not in loaded:\n",
      "\n"
     ]
    },
    {
     "name": "stderr",
     "output_type": "stream",
     "text": [
      "Config '/local/home/ahemf/mygit/facebook-hateful-memes/facebook_hateful_memes_detector/utils/faster_rcnn_R_101_C4_attr_caffemaxpool.yaml' has no VERSION. Assuming it to be compatible with latest v2.\n"
     ]
    },
    {
     "name": "stdout",
     "output_type": "stream",
     "text": [
      "N tokens Out =  132 Classifier Dims =  256 Matches embedding_dims:  False\n",
      "Autocast =  True Epochs =  30 Divisor = 2 Examples = 4250 Batch Size =  64\n",
      "Training Samples =  8500 Weighted Sampling =  True Num Batches =  67 Accumulation steps =  4\n",
      "[WARN]: Number of training batches not divisible by accumulation steps, some training batches will be wasted due to this.\n"
     ]
    },
    {
     "data": {
      "application/vnd.jupyter.widget-view+json": {
       "model_id": "d2170485862d462cb0d7cc5827a2739c",
       "version_major": 2,
       "version_minor": 0
      },
      "text/plain": [
       "HBox(children=(FloatProgress(value=0.0, max=30.0), HTML(value='')))"
      ]
     },
     "metadata": {},
     "output_type": "display_data"
    },
    {
     "data": {
      "application/vnd.jupyter.widget-view+json": {
       "model_id": "132d9fd753584ea89e2c9f3d6b7d2754",
       "version_major": 2,
       "version_minor": 0
      },
      "text/plain": [
       "HBox(children=(FloatProgress(value=0.0, description='Batches', max=67.0, style=ProgressStyle(description_width…"
      ]
     },
     "metadata": {},
     "output_type": "display_data"
    },
    {
     "name": "stdout",
     "output_type": "stream",
     "text": [
      "\n",
      "Epoch =  1 Loss = 0.287965 LR = 0.00001111\n"
     ]
    },
    {
     "data": {
      "application/vnd.jupyter.widget-view+json": {
       "model_id": "e60989e157f143e7b7299d68fb920636",
       "version_major": 2,
       "version_minor": 0
      },
      "text/plain": [
       "HBox(children=(FloatProgress(value=0.0, description='Batches', max=67.0, style=ProgressStyle(description_width…"
      ]
     },
     "metadata": {},
     "output_type": "display_data"
    },
    {
     "name": "stdout",
     "output_type": "stream",
     "text": [
      "\n",
      "Epoch =  2 Loss = 0.242440 LR = 0.00002222\n"
     ]
    },
    {
     "data": {
      "application/vnd.jupyter.widget-view+json": {
       "model_id": "d3ef5323cee848c39d8d4de808e8e32f",
       "version_major": 2,
       "version_minor": 0
      },
      "text/plain": [
       "HBox(children=(FloatProgress(value=0.0, description='Generate Predictions', max=133.0, style=ProgressStyle(des…"
      ]
     },
     "metadata": {},
     "output_type": "display_data"
    },
    {
     "name": "stderr",
     "output_type": "stream",
     "text": [
      "IOPub message rate exceeded.\n",
      "The notebook server will temporarily stop sending output\n",
      "to the client in order to avoid crashing it.\n",
      "To change this limit, set the config variable\n",
      "`--NotebookApp.iopub_msg_rate_limit`.\n",
      "\n",
      "Current values:\n",
      "NotebookApp.iopub_msg_rate_limit=1000.0 (msgs/sec)\n",
      "NotebookApp.rate_limit_window=3.0 (secs)\n",
      "\n"
     ]
    },
    {
     "data": {
      "application/vnd.jupyter.widget-view+json": {
       "model_id": "5a172a0fb0fe457fba5a63fe8b47b8ea",
       "version_major": 2,
       "version_minor": 0
      },
      "text/plain": [
       "HBox(children=(FloatProgress(value=0.0, description='Batches', max=67.0, style=ProgressStyle(description_width…"
      ]
     },
     "metadata": {},
     "output_type": "display_data"
    },
    {
     "name": "stdout",
     "output_type": "stream",
     "text": [
      "\n",
      "Epoch =  15 Loss = 0.166423 LR = 0.00008117\n"
     ]
    },
    {
     "data": {
      "application/vnd.jupyter.widget-view+json": {
       "model_id": "e4a2143671ca4431951d95cc57470f21",
       "version_major": 2,
       "version_minor": 0
      },
      "text/plain": [
       "HBox(children=(FloatProgress(value=0.0, description='Batches', max=67.0, style=ProgressStyle(description_width…"
      ]
     },
     "metadata": {},
     "output_type": "display_data"
    },
    {
     "name": "stdout",
     "output_type": "stream",
     "text": [
      "\n",
      "Epoch =  16 Loss = 0.163380 LR = 0.00007500\n"
     ]
    },
    {
     "data": {
      "application/vnd.jupyter.widget-view+json": {
       "model_id": "b8719d83410244bfa4093cd268f9f037",
       "version_major": 2,
       "version_minor": 0
      },
      "text/plain": [
       "HBox(children=(FloatProgress(value=0.0, description='Batches', max=67.0, style=ProgressStyle(description_width…"
      ]
     },
     "metadata": {},
     "output_type": "display_data"
    },
    {
     "name": "stdout",
     "output_type": "stream",
     "text": [
      "\n",
      "Epoch =  17 Loss = 0.153666 LR = 0.00006827\n"
     ]
    },
    {
     "data": {
      "application/vnd.jupyter.widget-view+json": {
       "model_id": "29ca109f34fc4cee8df19b9f37eb18c9",
       "version_major": 2,
       "version_minor": 0
      },
      "text/plain": [
       "HBox(children=(FloatProgress(value=0.0, description='Generate Predictions', max=133.0, style=ProgressStyle(des…"
      ]
     },
     "metadata": {},
     "output_type": "display_data"
    },
    {
     "name": "stdout",
     "output_type": "stream",
     "text": [
      "\n"
     ]
    },
    {
     "data": {
      "application/vnd.jupyter.widget-view+json": {
       "model_id": "a6dff788e0fc4bf391fac5985fe4b411",
       "version_major": 2,
       "version_minor": 0
      },
      "text/plain": [
       "HBox(children=(FloatProgress(value=0.0, description='Generate Predictions', max=8.0, style=ProgressStyle(descr…"
      ]
     },
     "metadata": {},
     "output_type": "display_data"
    },
    {
     "name": "stdout",
     "output_type": "stream",
     "text": [
      "\n"
     ]
    },
    {
     "data": {
      "text/html": [
       "<div>\n",
       "<style scoped>\n",
       "    .dataframe tbody tr th:only-of-type {\n",
       "        vertical-align: middle;\n",
       "    }\n",
       "\n",
       "    .dataframe tbody tr th {\n",
       "        vertical-align: top;\n",
       "    }\n",
       "\n",
       "    .dataframe thead tr th {\n",
       "        text-align: left;\n",
       "    }\n",
       "\n",
       "    .dataframe thead tr:last-of-type th {\n",
       "        text-align: right;\n",
       "    }\n",
       "</style>\n",
       "<table border=\"1\" class=\"dataframe\">\n",
       "  <thead>\n",
       "    <tr>\n",
       "      <th></th>\n",
       "      <th colspan=\"2\" halign=\"left\">Proba</th>\n",
       "      <th colspan=\"2\" halign=\"left\">Preds</th>\n",
       "    </tr>\n",
       "    <tr>\n",
       "      <th></th>\n",
       "      <th>min</th>\n",
       "      <th>max</th>\n",
       "      <th>min</th>\n",
       "      <th>max</th>\n",
       "    </tr>\n",
       "    <tr>\n",
       "      <th>Labels</th>\n",
       "      <th></th>\n",
       "      <th></th>\n",
       "      <th></th>\n",
       "      <th></th>\n",
       "    </tr>\n",
       "  </thead>\n",
       "  <tbody>\n",
       "    <tr>\n",
       "      <th>0</th>\n",
       "      <td>0.254</td>\n",
       "      <td>0.715</td>\n",
       "      <td>0</td>\n",
       "      <td>1</td>\n",
       "    </tr>\n",
       "    <tr>\n",
       "      <th>1</th>\n",
       "      <td>0.293</td>\n",
       "      <td>0.670</td>\n",
       "      <td>0</td>\n",
       "      <td>1</td>\n",
       "    </tr>\n",
       "  </tbody>\n",
       "</table>\n",
       "</div>"
      ],
      "text/plain": [
       "       Proba       Preds    \n",
       "         min   max   min max\n",
       "Labels                      \n",
       "0      0.254 0.715     0   1\n",
       "1      0.293 0.670     0   1"
      ]
     },
     "metadata": {},
     "output_type": "display_data"
    },
    {
     "data": {
      "text/html": [
       "<div>\n",
       "<style scoped>\n",
       "    .dataframe tbody tr th:only-of-type {\n",
       "        vertical-align: middle;\n",
       "    }\n",
       "\n",
       "    .dataframe tbody tr th {\n",
       "        vertical-align: top;\n",
       "    }\n",
       "\n",
       "    .dataframe thead th {\n",
       "        text-align: right;\n",
       "    }\n",
       "</style>\n",
       "<table border=\"1\" class=\"dataframe\">\n",
       "  <thead>\n",
       "    <tr style=\"text-align: right;\">\n",
       "      <th></th>\n",
       "      <th>Proba</th>\n",
       "      <th>Probas</th>\n",
       "      <th>Preds</th>\n",
       "      <th>Labels</th>\n",
       "      <th>Proba</th>\n",
       "      <th>Probas</th>\n",
       "      <th>Preds</th>\n",
       "      <th>Labels</th>\n",
       "      <th>Proba</th>\n",
       "      <th>Probas</th>\n",
       "      <th>Preds</th>\n",
       "      <th>Labels</th>\n",
       "    </tr>\n",
       "  </thead>\n",
       "  <tbody>\n",
       "    <tr>\n",
       "      <th>0</th>\n",
       "      <td>0.506</td>\n",
       "      <td>[0.4942636489868164, 0.5057363510131836]</td>\n",
       "      <td>1</td>\n",
       "      <td>1</td>\n",
       "      <td>0.547</td>\n",
       "      <td>[0.45323070883750916, 0.5467692613601685]</td>\n",
       "      <td>1</td>\n",
       "      <td>1</td>\n",
       "      <td>0.556</td>\n",
       "      <td>[0.444079726934433, 0.5559202432632446]</td>\n",
       "      <td>1</td>\n",
       "      <td>1</td>\n",
       "    </tr>\n",
       "    <tr>\n",
       "      <th>1</th>\n",
       "      <td>0.445</td>\n",
       "      <td>[0.5554651021957397, 0.44453492760658264]</td>\n",
       "      <td>0</td>\n",
       "      <td>0</td>\n",
       "      <td>0.588</td>\n",
       "      <td>[0.41242650151252747, 0.5875735282897949]</td>\n",
       "      <td>1</td>\n",
       "      <td>0</td>\n",
       "      <td>0.492</td>\n",
       "      <td>[0.5079047679901123, 0.4920952618122101]</td>\n",
       "      <td>0</td>\n",
       "      <td>1</td>\n",
       "    </tr>\n",
       "    <tr>\n",
       "      <th>2</th>\n",
       "      <td>0.448</td>\n",
       "      <td>[0.5516527891159058, 0.44834715127944946]</td>\n",
       "      <td>0</td>\n",
       "      <td>1</td>\n",
       "      <td>0.535</td>\n",
       "      <td>[0.46505171060562134, 0.5349482893943787]</td>\n",
       "      <td>1</td>\n",
       "      <td>1</td>\n",
       "      <td>0.464</td>\n",
       "      <td>[0.5357080698013306, 0.46429190039634705]</td>\n",
       "      <td>0</td>\n",
       "      <td>1</td>\n",
       "    </tr>\n",
       "    <tr>\n",
       "      <th>3</th>\n",
       "      <td>0.621</td>\n",
       "      <td>[0.3788388669490814, 0.6211611032485962]</td>\n",
       "      <td>1</td>\n",
       "      <td>0</td>\n",
       "      <td>0.357</td>\n",
       "      <td>[0.6431190371513367, 0.35688093304634094]</td>\n",
       "      <td>0</td>\n",
       "      <td>0</td>\n",
       "      <td>0.463</td>\n",
       "      <td>[0.5369923114776611, 0.4630076587200165]</td>\n",
       "      <td>0</td>\n",
       "      <td>0</td>\n",
       "    </tr>\n",
       "    <tr>\n",
       "      <th>4</th>\n",
       "      <td>0.471</td>\n",
       "      <td>[0.5292916297912598, 0.47070831060409546]</td>\n",
       "      <td>0</td>\n",
       "      <td>1</td>\n",
       "      <td>0.321</td>\n",
       "      <td>[0.6793841123580933, 0.3206159174442291]</td>\n",
       "      <td>0</td>\n",
       "      <td>1</td>\n",
       "      <td>0.378</td>\n",
       "      <td>[0.6219660639762878, 0.3780338764190674]</td>\n",
       "      <td>0</td>\n",
       "      <td>1</td>\n",
       "    </tr>\n",
       "  </tbody>\n",
       "</table>\n",
       "</div>"
      ],
      "text/plain": [
       "  Proba                                     Probas Preds Labels Proba  \\\n",
       "0 0.506   [0.4942636489868164, 0.5057363510131836]     1      1 0.547   \n",
       "1 0.445  [0.5554651021957397, 0.44453492760658264]     0      0 0.588   \n",
       "2 0.448  [0.5516527891159058, 0.44834715127944946]     0      1 0.535   \n",
       "3 0.621   [0.3788388669490814, 0.6211611032485962]     1      0 0.357   \n",
       "4 0.471  [0.5292916297912598, 0.47070831060409546]     0      1 0.321   \n",
       "\n",
       "                                      Probas Preds Labels Proba  \\\n",
       "0  [0.45323070883750916, 0.5467692613601685]     1      1 0.556   \n",
       "1  [0.41242650151252747, 0.5875735282897949]     1      0 0.492   \n",
       "2  [0.46505171060562134, 0.5349482893943787]     1      1 0.464   \n",
       "3  [0.6431190371513367, 0.35688093304634094]     0      0 0.463   \n",
       "4   [0.6793841123580933, 0.3206159174442291]     0      1 0.378   \n",
       "\n",
       "                                      Probas Preds Labels  \n",
       "0    [0.444079726934433, 0.5559202432632446]     1      1  \n",
       "1   [0.5079047679901123, 0.4920952618122101]     0      1  \n",
       "2  [0.5357080698013306, 0.46429190039634705]     0      1  \n",
       "3   [0.5369923114776611, 0.4630076587200165]     0      0  \n",
       "4   [0.6219660639762878, 0.3780338764190674]     0      1  "
      ]
     },
     "metadata": {},
     "output_type": "display_data"
    },
    {
     "name": "stdout",
     "output_type": "stream",
     "text": [
      "scores =  {'map': '0.5932', 'acc': '0.5620', 'auc': '0.6050'}\n",
      "Epoch =  17 Train = 0.850991 Val = 0.605040\n"
     ]
    },
    {
     "data": {
      "application/vnd.jupyter.widget-view+json": {
       "model_id": "60e275764ea44a8db740841b5c9c134e",
       "version_major": 2,
       "version_minor": 0
      },
      "text/plain": [
       "HBox(children=(FloatProgress(value=0.0, description='Batches', max=67.0, style=ProgressStyle(description_width…"
      ]
     },
     "metadata": {},
     "output_type": "display_data"
    },
    {
     "name": "stdout",
     "output_type": "stream",
     "text": [
      "\n",
      "Epoch =  18 Loss = 0.146578 LR = 0.00006113\n"
     ]
    },
    {
     "data": {
      "application/vnd.jupyter.widget-view+json": {
       "model_id": "eeaf677df40744b28ded4cacc6b00741",
       "version_major": 2,
       "version_minor": 0
      },
      "text/plain": [
       "HBox(children=(FloatProgress(value=0.0, description='Batches', max=67.0, style=ProgressStyle(description_width…"
      ]
     },
     "metadata": {},
     "output_type": "display_data"
    },
    {
     "name": "stdout",
     "output_type": "stream",
     "text": [
      "\n",
      "Epoch =  19 Loss = 0.145620 LR = 0.00005374\n"
     ]
    },
    {
     "data": {
      "application/vnd.jupyter.widget-view+json": {
       "model_id": "9820f6e4bef846bfa7b3ef353ec69690",
       "version_major": 2,
       "version_minor": 0
      },
      "text/plain": [
       "HBox(children=(FloatProgress(value=0.0, description='Generate Predictions', max=133.0, style=ProgressStyle(des…"
      ]
     },
     "metadata": {},
     "output_type": "display_data"
    },
    {
     "name": "stdout",
     "output_type": "stream",
     "text": [
      "\n"
     ]
    },
    {
     "data": {
      "application/vnd.jupyter.widget-view+json": {
       "model_id": "6c7eddd05b884b7e9c0122411caa3614",
       "version_major": 2,
       "version_minor": 0
      },
      "text/plain": [
       "HBox(children=(FloatProgress(value=0.0, description='Generate Predictions', max=8.0, style=ProgressStyle(descr…"
      ]
     },
     "metadata": {},
     "output_type": "display_data"
    },
    {
     "name": "stdout",
     "output_type": "stream",
     "text": [
      "\n"
     ]
    },
    {
     "data": {
      "text/html": [
       "<div>\n",
       "<style scoped>\n",
       "    .dataframe tbody tr th:only-of-type {\n",
       "        vertical-align: middle;\n",
       "    }\n",
       "\n",
       "    .dataframe tbody tr th {\n",
       "        vertical-align: top;\n",
       "    }\n",
       "\n",
       "    .dataframe thead tr th {\n",
       "        text-align: left;\n",
       "    }\n",
       "\n",
       "    .dataframe thead tr:last-of-type th {\n",
       "        text-align: right;\n",
       "    }\n",
       "</style>\n",
       "<table border=\"1\" class=\"dataframe\">\n",
       "  <thead>\n",
       "    <tr>\n",
       "      <th></th>\n",
       "      <th colspan=\"2\" halign=\"left\">Proba</th>\n",
       "      <th colspan=\"2\" halign=\"left\">Preds</th>\n",
       "    </tr>\n",
       "    <tr>\n",
       "      <th></th>\n",
       "      <th>min</th>\n",
       "      <th>max</th>\n",
       "      <th>min</th>\n",
       "      <th>max</th>\n",
       "    </tr>\n",
       "    <tr>\n",
       "      <th>Labels</th>\n",
       "      <th></th>\n",
       "      <th></th>\n",
       "      <th></th>\n",
       "      <th></th>\n",
       "    </tr>\n",
       "  </thead>\n",
       "  <tbody>\n",
       "    <tr>\n",
       "      <th>0</th>\n",
       "      <td>0.195</td>\n",
       "      <td>0.754</td>\n",
       "      <td>0</td>\n",
       "      <td>1</td>\n",
       "    </tr>\n",
       "    <tr>\n",
       "      <th>1</th>\n",
       "      <td>0.274</td>\n",
       "      <td>0.703</td>\n",
       "      <td>0</td>\n",
       "      <td>1</td>\n",
       "    </tr>\n",
       "  </tbody>\n",
       "</table>\n",
       "</div>"
      ],
      "text/plain": [
       "       Proba       Preds    \n",
       "         min   max   min max\n",
       "Labels                      \n",
       "0      0.195 0.754     0   1\n",
       "1      0.274 0.703     0   1"
      ]
     },
     "metadata": {},
     "output_type": "display_data"
    },
    {
     "data": {
      "text/html": [
       "<div>\n",
       "<style scoped>\n",
       "    .dataframe tbody tr th:only-of-type {\n",
       "        vertical-align: middle;\n",
       "    }\n",
       "\n",
       "    .dataframe tbody tr th {\n",
       "        vertical-align: top;\n",
       "    }\n",
       "\n",
       "    .dataframe thead th {\n",
       "        text-align: right;\n",
       "    }\n",
       "</style>\n",
       "<table border=\"1\" class=\"dataframe\">\n",
       "  <thead>\n",
       "    <tr style=\"text-align: right;\">\n",
       "      <th></th>\n",
       "      <th>Proba</th>\n",
       "      <th>Probas</th>\n",
       "      <th>Preds</th>\n",
       "      <th>Labels</th>\n",
       "      <th>Proba</th>\n",
       "      <th>Probas</th>\n",
       "      <th>Preds</th>\n",
       "      <th>Labels</th>\n",
       "      <th>Proba</th>\n",
       "      <th>Probas</th>\n",
       "      <th>Preds</th>\n",
       "      <th>Labels</th>\n",
       "    </tr>\n",
       "  </thead>\n",
       "  <tbody>\n",
       "    <tr>\n",
       "      <th>0</th>\n",
       "      <td>0.602</td>\n",
       "      <td>[0.39847663044929504, 0.6015233397483826]</td>\n",
       "      <td>1</td>\n",
       "      <td>0</td>\n",
       "      <td>0.418</td>\n",
       "      <td>[0.581577718257904, 0.4184223413467407]</td>\n",
       "      <td>0</td>\n",
       "      <td>0</td>\n",
       "      <td>0.439</td>\n",
       "      <td>[0.5609560012817383, 0.4390439987182617]</td>\n",
       "      <td>0</td>\n",
       "      <td>1</td>\n",
       "    </tr>\n",
       "    <tr>\n",
       "      <th>1</th>\n",
       "      <td>0.601</td>\n",
       "      <td>[0.39876899123191833, 0.6012309789657593]</td>\n",
       "      <td>1</td>\n",
       "      <td>1</td>\n",
       "      <td>0.448</td>\n",
       "      <td>[0.5522605180740356, 0.44773954153060913]</td>\n",
       "      <td>0</td>\n",
       "      <td>0</td>\n",
       "      <td>0.623</td>\n",
       "      <td>[0.37726902961730957, 0.6227309703826904]</td>\n",
       "      <td>1</td>\n",
       "      <td>1</td>\n",
       "    </tr>\n",
       "    <tr>\n",
       "      <th>2</th>\n",
       "      <td>0.543</td>\n",
       "      <td>[0.45687395334243774, 0.543126106262207]</td>\n",
       "      <td>1</td>\n",
       "      <td>1</td>\n",
       "      <td>0.556</td>\n",
       "      <td>[0.44418618083000183, 0.5558137893676758]</td>\n",
       "      <td>1</td>\n",
       "      <td>1</td>\n",
       "      <td>0.483</td>\n",
       "      <td>[0.5171107649803162, 0.4828892648220062]</td>\n",
       "      <td>0</td>\n",
       "      <td>0</td>\n",
       "    </tr>\n",
       "    <tr>\n",
       "      <th>3</th>\n",
       "      <td>0.629</td>\n",
       "      <td>[0.37103071808815, 0.6289693117141724]</td>\n",
       "      <td>1</td>\n",
       "      <td>1</td>\n",
       "      <td>0.637</td>\n",
       "      <td>[0.3629057705402374, 0.637094259262085]</td>\n",
       "      <td>1</td>\n",
       "      <td>1</td>\n",
       "      <td>0.310</td>\n",
       "      <td>[0.6899725198745728, 0.31002748012542725]</td>\n",
       "      <td>0</td>\n",
       "      <td>1</td>\n",
       "    </tr>\n",
       "    <tr>\n",
       "      <th>4</th>\n",
       "      <td>0.356</td>\n",
       "      <td>[0.6437317132949829, 0.3562682867050171]</td>\n",
       "      <td>0</td>\n",
       "      <td>0</td>\n",
       "      <td>0.492</td>\n",
       "      <td>[0.507634699344635, 0.49236536026000977]</td>\n",
       "      <td>0</td>\n",
       "      <td>1</td>\n",
       "      <td>0.597</td>\n",
       "      <td>[0.40340980887413025, 0.5965901613235474]</td>\n",
       "      <td>1</td>\n",
       "      <td>1</td>\n",
       "    </tr>\n",
       "  </tbody>\n",
       "</table>\n",
       "</div>"
      ],
      "text/plain": [
       "  Proba                                     Probas Preds Labels Proba  \\\n",
       "0 0.602  [0.39847663044929504, 0.6015233397483826]     1      0 0.418   \n",
       "1 0.601  [0.39876899123191833, 0.6012309789657593]     1      1 0.448   \n",
       "2 0.543   [0.45687395334243774, 0.543126106262207]     1      1 0.556   \n",
       "3 0.629     [0.37103071808815, 0.6289693117141724]     1      1 0.637   \n",
       "4 0.356   [0.6437317132949829, 0.3562682867050171]     0      0 0.492   \n",
       "\n",
       "                                      Probas Preds Labels Proba  \\\n",
       "0    [0.581577718257904, 0.4184223413467407]     0      0 0.439   \n",
       "1  [0.5522605180740356, 0.44773954153060913]     0      0 0.623   \n",
       "2  [0.44418618083000183, 0.5558137893676758]     1      1 0.483   \n",
       "3    [0.3629057705402374, 0.637094259262085]     1      1 0.310   \n",
       "4   [0.507634699344635, 0.49236536026000977]     0      1 0.597   \n",
       "\n",
       "                                      Probas Preds Labels  \n",
       "0   [0.5609560012817383, 0.4390439987182617]     0      1  \n",
       "1  [0.37726902961730957, 0.6227309703826904]     1      1  \n",
       "2   [0.5171107649803162, 0.4828892648220062]     0      0  \n",
       "3  [0.6899725198745728, 0.31002748012542725]     0      1  \n",
       "4  [0.40340980887413025, 0.5965901613235474]     1      1  "
      ]
     },
     "metadata": {},
     "output_type": "display_data"
    },
    {
     "name": "stdout",
     "output_type": "stream",
     "text": [
      "scores =  {'map': '0.6070', 'acc': '0.5760', 'auc': '0.6228'}\n",
      "Epoch =  19 Train = 0.868995 Val = 0.622784\n"
     ]
    },
    {
     "data": {
      "application/vnd.jupyter.widget-view+json": {
       "model_id": "f1140462995b450aa87e5d4176b738e3",
       "version_major": 2,
       "version_minor": 0
      },
      "text/plain": [
       "HBox(children=(FloatProgress(value=0.0, description='Batches', max=67.0, style=ProgressStyle(description_width…"
      ]
     },
     "metadata": {},
     "output_type": "display_data"
    },
    {
     "name": "stdout",
     "output_type": "stream",
     "text": [
      "\n",
      "Epoch =  20 Loss = 0.142240 LR = 0.00004626\n"
     ]
    },
    {
     "data": {
      "application/vnd.jupyter.widget-view+json": {
       "model_id": "efbfcc589ba64a0a8839e3c05cb651dd",
       "version_major": 2,
       "version_minor": 0
      },
      "text/plain": [
       "HBox(children=(FloatProgress(value=0.0, description='Batches', max=67.0, style=ProgressStyle(description_width…"
      ]
     },
     "metadata": {},
     "output_type": "display_data"
    },
    {
     "name": "stdout",
     "output_type": "stream",
     "text": [
      "\n",
      "Epoch =  21 Loss = 0.141257 LR = 0.00003887\n"
     ]
    },
    {
     "data": {
      "application/vnd.jupyter.widget-view+json": {
       "model_id": "c1beb1c4389345bca4beba8c5b0a5f0b",
       "version_major": 2,
       "version_minor": 0
      },
      "text/plain": [
       "HBox(children=(FloatProgress(value=0.0, description='Batches', max=67.0, style=ProgressStyle(description_width…"
      ]
     },
     "metadata": {},
     "output_type": "display_data"
    },
    {
     "name": "stdout",
     "output_type": "stream",
     "text": [
      "\n",
      "Epoch =  22 Loss = 0.136900 LR = 0.00003173\n"
     ]
    },
    {
     "data": {
      "application/vnd.jupyter.widget-view+json": {
       "model_id": "3565500e25c747d289de8a53874769b8",
       "version_major": 2,
       "version_minor": 0
      },
      "text/plain": [
       "HBox(children=(FloatProgress(value=0.0, description='Batches', max=67.0, style=ProgressStyle(description_width…"
      ]
     },
     "metadata": {},
     "output_type": "display_data"
    },
    {
     "name": "stdout",
     "output_type": "stream",
     "text": [
      "\n",
      "Epoch =  23 Loss = 0.139276 LR = 0.00002500\n"
     ]
    },
    {
     "data": {
      "application/vnd.jupyter.widget-view+json": {
       "model_id": "b8620dd15d44402589cc0172c6791f01",
       "version_major": 2,
       "version_minor": 0
      },
      "text/plain": [
       "HBox(children=(FloatProgress(value=0.0, description='Batches', max=67.0, style=ProgressStyle(description_width…"
      ]
     },
     "metadata": {},
     "output_type": "display_data"
    },
    {
     "name": "stdout",
     "output_type": "stream",
     "text": [
      "\n",
      "Epoch =  24 Loss = 0.135749 LR = 0.00001883\n"
     ]
    },
    {
     "data": {
      "application/vnd.jupyter.widget-view+json": {
       "model_id": "926907e1657d40bfbf44a5fb1537b62b",
       "version_major": 2,
       "version_minor": 0
      },
      "text/plain": [
       "HBox(children=(FloatProgress(value=0.0, description='Generate Predictions', max=133.0, style=ProgressStyle(des…"
      ]
     },
     "metadata": {},
     "output_type": "display_data"
    },
    {
     "name": "stderr",
     "output_type": "stream",
     "text": [
      "IOPub message rate exceeded.\n",
      "The notebook server will temporarily stop sending output\n",
      "to the client in order to avoid crashing it.\n",
      "To change this limit, set the config variable\n",
      "`--NotebookApp.iopub_msg_rate_limit`.\n",
      "\n",
      "Current values:\n",
      "NotebookApp.iopub_msg_rate_limit=1000.0 (msgs/sec)\n",
      "NotebookApp.rate_limit_window=3.0 (secs)\n",
      "\n"
     ]
    }
   ],
   "source": [
    "batch_size=64\n",
    "epochs = 15\n",
    "\n",
    "kfold = False\n",
    "results, prfs = train_validate_ntimes(\n",
    "    model_fn,\n",
    "    data,\n",
    "    batch_size,\n",
    "    epochs,\n",
    "    kfold=kfold,\n",
    "    scheduler_init_fn=scheduler_init_fn,\n",
    "    model_call_back=reg_sched,\n",
    "    validation_epochs=[2, 7, 9, 11, 14, 17, 19, 24, 28],\n",
    "    show_model_stats=False,\n",
    "    sampling_policy=\"without_replacement\",\n",
    "    accumulation_steps=4,\n",
    ")\n",
    "r2, p2 = results, prfs\n",
    "results\n",
    "prfs\n"
   ]
  },
  {
   "cell_type": "markdown",
   "metadata": {},
   "source": [
    "# Predict"
   ]
  },
  {
   "cell_type": "code",
   "execution_count": 6,
   "metadata": {
    "ExecuteTime": {
     "end_time": "2020-07-19T17:29:34.088204Z",
     "start_time": "2020-07-19T17:29:34.080393Z"
    }
   },
   "outputs": [],
   "source": [
    "adam = torch.optim.Adam\n",
    "adam_params = params = dict(lr=1e-4, weight_decay=1e-2)\n",
    "optimizer = adam\n",
    "optimizer_params = adam_params\n",
    "\n",
    "model_fn = model_builder(VilBertVisualBertModel,\n",
    "                         dict(model_name={\n",
    "                             \"lxmert\":\n",
    "                             dict(finetune=True,\n",
    "                                  dropout=0.1,\n",
    "                                  gaussian_noise=0.2),\n",
    "                            },\n",
    "                              num_classes=2,\n",
    "                              gaussian_noise=0.2,\n",
    "                              dropout=0.25,\n",
    "                              featurizer=\"pass\",\n",
    "                              final_layer_builder=fb_1d_loss_builder,\n",
    "                              internal_dims=768,\n",
    "                              classifier_dims=768,\n",
    "                              n_tokens_in=96,\n",
    "                              n_tokens_out=96,\n",
    "                              n_layers=2,\n",
    "                              loss=\"focal\",\n",
    "                              dice_loss_coef=0.0,\n",
    "                              auc_loss_coef=0.0,\n",
    "                              word_masking_proba=0.2),\n",
    "                         per_param_opts_fn=combo_strategy,\n",
    "                         optimiser_class=optimizer,\n",
    "                         optimiser_params=optimizer_params)\n",
    "\n",
    "# model, opt = model_fn()\n",
    "# model\n",
    "\n",
    "##\n",
    "## MMBT Region, Per module regularization, word_masking_proba, reg_scheduling\n",
    "\n",
    "## Next accumulation_steps"
   ]
  },
  {
   "cell_type": "code",
   "execution_count": 7,
   "metadata": {
    "ExecuteTime": {
     "end_time": "2020-07-20T20:30:33.609035Z",
     "start_time": "2020-07-19T17:29:37.174068Z"
    }
   },
   "outputs": [
    {
     "data": {
      "application/vnd.jupyter.widget-view+json": {
       "model_id": "dab7015bf14441cdbf995210facd704e",
       "version_major": 2,
       "version_minor": 0
      },
      "text/plain": [
       "HBox(children=(FloatProgress(value=0.0, description='Caching Images in Dataset', max=9000.0, style=ProgressSty…"
      ]
     },
     "metadata": {},
     "output_type": "display_data"
    },
    {
     "name": "stdout",
     "output_type": "stream",
     "text": [
      "\n",
      "Overriding option config to projects/hateful_memes/configs/vilbert/from_cc.yaml\n",
      "Overriding option model to vilbert\n",
      "Overriding option datasets to hateful_memes\n",
      "Overriding option run_type to val\n",
      "Overriding option checkpoint.resume_zoo to vilbert.finetuned.hateful_memes.from_cc_original\n",
      "Overriding option evaluation.predict to true\n"
     ]
    },
    {
     "name": "stderr",
     "output_type": "stream",
     "text": [
      "Some weights of the model checkpoint at bert-base-uncased were not used when initializing ViLBERTBase: ['bert.pooler.dense.weight', 'bert.pooler.dense.bias']\n",
      "- This IS expected if you are initializing ViLBERTBase from the checkpoint of a model trained on another task or with another architecture (e.g. initializing a BertForSequenceClassification model from a BertForPretraining model).\n",
      "- This IS NOT expected if you are initializing ViLBERTBase from the checkpoint of a model that you expect to be exactly identical (initializing a BertForSequenceClassification model from a BertForSequenceClassification model).\n",
      "Some weights of ViLBERTBase were not initialized from the model checkpoint at bert-base-uncased and are newly initialized: ['bert.v_embeddings.image_embeddings.weight', 'bert.v_embeddings.image_embeddings.bias', 'bert.v_embeddings.image_location_embeddings.weight', 'bert.v_embeddings.image_location_embeddings.bias', 'bert.v_embeddings.LayerNorm.weight', 'bert.v_embeddings.LayerNorm.bias', 'bert.encoder.v_layer.0.attention.self.query.weight', 'bert.encoder.v_layer.0.attention.self.query.bias', 'bert.encoder.v_layer.0.attention.self.key.weight', 'bert.encoder.v_layer.0.attention.self.key.bias', 'bert.encoder.v_layer.0.attention.self.value.weight', 'bert.encoder.v_layer.0.attention.self.value.bias', 'bert.encoder.v_layer.0.attention.output.dense.weight', 'bert.encoder.v_layer.0.attention.output.dense.bias', 'bert.encoder.v_layer.0.attention.output.LayerNorm.weight', 'bert.encoder.v_layer.0.attention.output.LayerNorm.bias', 'bert.encoder.v_layer.0.intermediate.dense.weight', 'bert.encoder.v_layer.0.intermediate.dense.bias', 'bert.encoder.v_layer.0.output.dense.weight', 'bert.encoder.v_layer.0.output.dense.bias', 'bert.encoder.v_layer.0.output.LayerNorm.weight', 'bert.encoder.v_layer.0.output.LayerNorm.bias', 'bert.encoder.v_layer.1.attention.self.query.weight', 'bert.encoder.v_layer.1.attention.self.query.bias', 'bert.encoder.v_layer.1.attention.self.key.weight', 'bert.encoder.v_layer.1.attention.self.key.bias', 'bert.encoder.v_layer.1.attention.self.value.weight', 'bert.encoder.v_layer.1.attention.self.value.bias', 'bert.encoder.v_layer.1.attention.output.dense.weight', 'bert.encoder.v_layer.1.attention.output.dense.bias', 'bert.encoder.v_layer.1.attention.output.LayerNorm.weight', 'bert.encoder.v_layer.1.attention.output.LayerNorm.bias', 'bert.encoder.v_layer.1.intermediate.dense.weight', 'bert.encoder.v_layer.1.intermediate.dense.bias', 'bert.encoder.v_layer.1.output.dense.weight', 'bert.encoder.v_layer.1.output.dense.bias', 'bert.encoder.v_layer.1.output.LayerNorm.weight', 'bert.encoder.v_layer.1.output.LayerNorm.bias', 'bert.encoder.v_layer.2.attention.self.query.weight', 'bert.encoder.v_layer.2.attention.self.query.bias', 'bert.encoder.v_layer.2.attention.self.key.weight', 'bert.encoder.v_layer.2.attention.self.key.bias', 'bert.encoder.v_layer.2.attention.self.value.weight', 'bert.encoder.v_layer.2.attention.self.value.bias', 'bert.encoder.v_layer.2.attention.output.dense.weight', 'bert.encoder.v_layer.2.attention.output.dense.bias', 'bert.encoder.v_layer.2.attention.output.LayerNorm.weight', 'bert.encoder.v_layer.2.attention.output.LayerNorm.bias', 'bert.encoder.v_layer.2.intermediate.dense.weight', 'bert.encoder.v_layer.2.intermediate.dense.bias', 'bert.encoder.v_layer.2.output.dense.weight', 'bert.encoder.v_layer.2.output.dense.bias', 'bert.encoder.v_layer.2.output.LayerNorm.weight', 'bert.encoder.v_layer.2.output.LayerNorm.bias', 'bert.encoder.v_layer.3.attention.self.query.weight', 'bert.encoder.v_layer.3.attention.self.query.bias', 'bert.encoder.v_layer.3.attention.self.key.weight', 'bert.encoder.v_layer.3.attention.self.key.bias', 'bert.encoder.v_layer.3.attention.self.value.weight', 'bert.encoder.v_layer.3.attention.self.value.bias', 'bert.encoder.v_layer.3.attention.output.dense.weight', 'bert.encoder.v_layer.3.attention.output.dense.bias', 'bert.encoder.v_layer.3.attention.output.LayerNorm.weight', 'bert.encoder.v_layer.3.attention.output.LayerNorm.bias', 'bert.encoder.v_layer.3.intermediate.dense.weight', 'bert.encoder.v_layer.3.intermediate.dense.bias', 'bert.encoder.v_layer.3.output.dense.weight', 'bert.encoder.v_layer.3.output.dense.bias', 'bert.encoder.v_layer.3.output.LayerNorm.weight', 'bert.encoder.v_layer.3.output.LayerNorm.bias', 'bert.encoder.v_layer.4.attention.self.query.weight', 'bert.encoder.v_layer.4.attention.self.query.bias', 'bert.encoder.v_layer.4.attention.self.key.weight', 'bert.encoder.v_layer.4.attention.self.key.bias', 'bert.encoder.v_layer.4.attention.self.value.weight', 'bert.encoder.v_layer.4.attention.self.value.bias', 'bert.encoder.v_layer.4.attention.output.dense.weight', 'bert.encoder.v_layer.4.attention.output.dense.bias', 'bert.encoder.v_layer.4.attention.output.LayerNorm.weight', 'bert.encoder.v_layer.4.attention.output.LayerNorm.bias', 'bert.encoder.v_layer.4.intermediate.dense.weight', 'bert.encoder.v_layer.4.intermediate.dense.bias', 'bert.encoder.v_layer.4.output.dense.weight', 'bert.encoder.v_layer.4.output.dense.bias', 'bert.encoder.v_layer.4.output.LayerNorm.weight', 'bert.encoder.v_layer.4.output.LayerNorm.bias', 'bert.encoder.v_layer.5.attention.self.query.weight', 'bert.encoder.v_layer.5.attention.self.query.bias', 'bert.encoder.v_layer.5.attention.self.key.weight', 'bert.encoder.v_layer.5.attention.self.key.bias', 'bert.encoder.v_layer.5.attention.self.value.weight', 'bert.encoder.v_layer.5.attention.self.value.bias', 'bert.encoder.v_layer.5.attention.output.dense.weight', 'bert.encoder.v_layer.5.attention.output.dense.bias', 'bert.encoder.v_layer.5.attention.output.LayerNorm.weight', 'bert.encoder.v_layer.5.attention.output.LayerNorm.bias', 'bert.encoder.v_layer.5.intermediate.dense.weight', 'bert.encoder.v_layer.5.intermediate.dense.bias', 'bert.encoder.v_layer.5.output.dense.weight', 'bert.encoder.v_layer.5.output.dense.bias', 'bert.encoder.v_layer.5.output.LayerNorm.weight', 'bert.encoder.v_layer.5.output.LayerNorm.bias', 'bert.encoder.c_layer.0.biattention.query1.weight', 'bert.encoder.c_layer.0.biattention.query1.bias', 'bert.encoder.c_layer.0.biattention.key1.weight', 'bert.encoder.c_layer.0.biattention.key1.bias', 'bert.encoder.c_layer.0.biattention.value1.weight', 'bert.encoder.c_layer.0.biattention.value1.bias', 'bert.encoder.c_layer.0.biattention.query2.weight', 'bert.encoder.c_layer.0.biattention.query2.bias', 'bert.encoder.c_layer.0.biattention.key2.weight', 'bert.encoder.c_layer.0.biattention.key2.bias', 'bert.encoder.c_layer.0.biattention.value2.weight', 'bert.encoder.c_layer.0.biattention.value2.bias', 'bert.encoder.c_layer.0.biOutput.dense1.weight', 'bert.encoder.c_layer.0.biOutput.dense1.bias', 'bert.encoder.c_layer.0.biOutput.LayerNorm1.weight', 'bert.encoder.c_layer.0.biOutput.LayerNorm1.bias', 'bert.encoder.c_layer.0.biOutput.q_dense1.weight', 'bert.encoder.c_layer.0.biOutput.q_dense1.bias', 'bert.encoder.c_layer.0.biOutput.dense2.weight', 'bert.encoder.c_layer.0.biOutput.dense2.bias', 'bert.encoder.c_layer.0.biOutput.LayerNorm2.weight', 'bert.encoder.c_layer.0.biOutput.LayerNorm2.bias', 'bert.encoder.c_layer.0.biOutput.q_dense2.weight', 'bert.encoder.c_layer.0.biOutput.q_dense2.bias', 'bert.encoder.c_layer.0.v_intermediate.dense.weight', 'bert.encoder.c_layer.0.v_intermediate.dense.bias', 'bert.encoder.c_layer.0.v_output.dense.weight', 'bert.encoder.c_layer.0.v_output.dense.bias', 'bert.encoder.c_layer.0.v_output.LayerNorm.weight', 'bert.encoder.c_layer.0.v_output.LayerNorm.bias', 'bert.encoder.c_layer.0.t_intermediate.dense.weight', 'bert.encoder.c_layer.0.t_intermediate.dense.bias', 'bert.encoder.c_layer.0.t_output.dense.weight', 'bert.encoder.c_layer.0.t_output.dense.bias', 'bert.encoder.c_layer.0.t_output.LayerNorm.weight', 'bert.encoder.c_layer.0.t_output.LayerNorm.bias', 'bert.encoder.c_layer.1.biattention.query1.weight', 'bert.encoder.c_layer.1.biattention.query1.bias', 'bert.encoder.c_layer.1.biattention.key1.weight', 'bert.encoder.c_layer.1.biattention.key1.bias', 'bert.encoder.c_layer.1.biattention.value1.weight', 'bert.encoder.c_layer.1.biattention.value1.bias', 'bert.encoder.c_layer.1.biattention.query2.weight', 'bert.encoder.c_layer.1.biattention.query2.bias', 'bert.encoder.c_layer.1.biattention.key2.weight', 'bert.encoder.c_layer.1.biattention.key2.bias', 'bert.encoder.c_layer.1.biattention.value2.weight', 'bert.encoder.c_layer.1.biattention.value2.bias', 'bert.encoder.c_layer.1.biOutput.dense1.weight', 'bert.encoder.c_layer.1.biOutput.dense1.bias', 'bert.encoder.c_layer.1.biOutput.LayerNorm1.weight', 'bert.encoder.c_layer.1.biOutput.LayerNorm1.bias', 'bert.encoder.c_layer.1.biOutput.q_dense1.weight', 'bert.encoder.c_layer.1.biOutput.q_dense1.bias', 'bert.encoder.c_layer.1.biOutput.dense2.weight', 'bert.encoder.c_layer.1.biOutput.dense2.bias', 'bert.encoder.c_layer.1.biOutput.LayerNorm2.weight', 'bert.encoder.c_layer.1.biOutput.LayerNorm2.bias', 'bert.encoder.c_layer.1.biOutput.q_dense2.weight', 'bert.encoder.c_layer.1.biOutput.q_dense2.bias', 'bert.encoder.c_layer.1.v_intermediate.dense.weight', 'bert.encoder.c_layer.1.v_intermediate.dense.bias', 'bert.encoder.c_layer.1.v_output.dense.weight', 'bert.encoder.c_layer.1.v_output.dense.bias', 'bert.encoder.c_layer.1.v_output.LayerNorm.weight', 'bert.encoder.c_layer.1.v_output.LayerNorm.bias', 'bert.encoder.c_layer.1.t_intermediate.dense.weight', 'bert.encoder.c_layer.1.t_intermediate.dense.bias', 'bert.encoder.c_layer.1.t_output.dense.weight', 'bert.encoder.c_layer.1.t_output.dense.bias', 'bert.encoder.c_layer.1.t_output.LayerNorm.weight', 'bert.encoder.c_layer.1.t_output.LayerNorm.bias', 'bert.encoder.c_layer.2.biattention.query1.weight', 'bert.encoder.c_layer.2.biattention.query1.bias', 'bert.encoder.c_layer.2.biattention.key1.weight', 'bert.encoder.c_layer.2.biattention.key1.bias', 'bert.encoder.c_layer.2.biattention.value1.weight', 'bert.encoder.c_layer.2.biattention.value1.bias', 'bert.encoder.c_layer.2.biattention.query2.weight', 'bert.encoder.c_layer.2.biattention.query2.bias', 'bert.encoder.c_layer.2.biattention.key2.weight', 'bert.encoder.c_layer.2.biattention.key2.bias', 'bert.encoder.c_layer.2.biattention.value2.weight', 'bert.encoder.c_layer.2.biattention.value2.bias', 'bert.encoder.c_layer.2.biOutput.dense1.weight', 'bert.encoder.c_layer.2.biOutput.dense1.bias', 'bert.encoder.c_layer.2.biOutput.LayerNorm1.weight', 'bert.encoder.c_layer.2.biOutput.LayerNorm1.bias', 'bert.encoder.c_layer.2.biOutput.q_dense1.weight', 'bert.encoder.c_layer.2.biOutput.q_dense1.bias', 'bert.encoder.c_layer.2.biOutput.dense2.weight', 'bert.encoder.c_layer.2.biOutput.dense2.bias', 'bert.encoder.c_layer.2.biOutput.LayerNorm2.weight', 'bert.encoder.c_layer.2.biOutput.LayerNorm2.bias', 'bert.encoder.c_layer.2.biOutput.q_dense2.weight', 'bert.encoder.c_layer.2.biOutput.q_dense2.bias', 'bert.encoder.c_layer.2.v_intermediate.dense.weight', 'bert.encoder.c_layer.2.v_intermediate.dense.bias', 'bert.encoder.c_layer.2.v_output.dense.weight', 'bert.encoder.c_layer.2.v_output.dense.bias', 'bert.encoder.c_layer.2.v_output.LayerNorm.weight', 'bert.encoder.c_layer.2.v_output.LayerNorm.bias', 'bert.encoder.c_layer.2.t_intermediate.dense.weight', 'bert.encoder.c_layer.2.t_intermediate.dense.bias', 'bert.encoder.c_layer.2.t_output.dense.weight', 'bert.encoder.c_layer.2.t_output.dense.bias', 'bert.encoder.c_layer.2.t_output.LayerNorm.weight', 'bert.encoder.c_layer.2.t_output.LayerNorm.bias', 'bert.encoder.c_layer.3.biattention.query1.weight', 'bert.encoder.c_layer.3.biattention.query1.bias', 'bert.encoder.c_layer.3.biattention.key1.weight', 'bert.encoder.c_layer.3.biattention.key1.bias', 'bert.encoder.c_layer.3.biattention.value1.weight', 'bert.encoder.c_layer.3.biattention.value1.bias', 'bert.encoder.c_layer.3.biattention.query2.weight', 'bert.encoder.c_layer.3.biattention.query2.bias', 'bert.encoder.c_layer.3.biattention.key2.weight', 'bert.encoder.c_layer.3.biattention.key2.bias', 'bert.encoder.c_layer.3.biattention.value2.weight', 'bert.encoder.c_layer.3.biattention.value2.bias', 'bert.encoder.c_layer.3.biOutput.dense1.weight', 'bert.encoder.c_layer.3.biOutput.dense1.bias', 'bert.encoder.c_layer.3.biOutput.LayerNorm1.weight', 'bert.encoder.c_layer.3.biOutput.LayerNorm1.bias', 'bert.encoder.c_layer.3.biOutput.q_dense1.weight', 'bert.encoder.c_layer.3.biOutput.q_dense1.bias', 'bert.encoder.c_layer.3.biOutput.dense2.weight', 'bert.encoder.c_layer.3.biOutput.dense2.bias', 'bert.encoder.c_layer.3.biOutput.LayerNorm2.weight', 'bert.encoder.c_layer.3.biOutput.LayerNorm2.bias', 'bert.encoder.c_layer.3.biOutput.q_dense2.weight', 'bert.encoder.c_layer.3.biOutput.q_dense2.bias', 'bert.encoder.c_layer.3.v_intermediate.dense.weight', 'bert.encoder.c_layer.3.v_intermediate.dense.bias', 'bert.encoder.c_layer.3.v_output.dense.weight', 'bert.encoder.c_layer.3.v_output.dense.bias', 'bert.encoder.c_layer.3.v_output.LayerNorm.weight', 'bert.encoder.c_layer.3.v_output.LayerNorm.bias', 'bert.encoder.c_layer.3.t_intermediate.dense.weight', 'bert.encoder.c_layer.3.t_intermediate.dense.bias', 'bert.encoder.c_layer.3.t_output.dense.weight', 'bert.encoder.c_layer.3.t_output.dense.bias', 'bert.encoder.c_layer.3.t_output.LayerNorm.weight', 'bert.encoder.c_layer.3.t_output.LayerNorm.bias', 'bert.encoder.c_layer.4.biattention.query1.weight', 'bert.encoder.c_layer.4.biattention.query1.bias', 'bert.encoder.c_layer.4.biattention.key1.weight', 'bert.encoder.c_layer.4.biattention.key1.bias', 'bert.encoder.c_layer.4.biattention.value1.weight', 'bert.encoder.c_layer.4.biattention.value1.bias', 'bert.encoder.c_layer.4.biattention.query2.weight', 'bert.encoder.c_layer.4.biattention.query2.bias', 'bert.encoder.c_layer.4.biattention.key2.weight', 'bert.encoder.c_layer.4.biattention.key2.bias', 'bert.encoder.c_layer.4.biattention.value2.weight', 'bert.encoder.c_layer.4.biattention.value2.bias', 'bert.encoder.c_layer.4.biOutput.dense1.weight', 'bert.encoder.c_layer.4.biOutput.dense1.bias', 'bert.encoder.c_layer.4.biOutput.LayerNorm1.weight', 'bert.encoder.c_layer.4.biOutput.LayerNorm1.bias', 'bert.encoder.c_layer.4.biOutput.q_dense1.weight', 'bert.encoder.c_layer.4.biOutput.q_dense1.bias', 'bert.encoder.c_layer.4.biOutput.dense2.weight', 'bert.encoder.c_layer.4.biOutput.dense2.bias', 'bert.encoder.c_layer.4.biOutput.LayerNorm2.weight', 'bert.encoder.c_layer.4.biOutput.LayerNorm2.bias', 'bert.encoder.c_layer.4.biOutput.q_dense2.weight', 'bert.encoder.c_layer.4.biOutput.q_dense2.bias', 'bert.encoder.c_layer.4.v_intermediate.dense.weight', 'bert.encoder.c_layer.4.v_intermediate.dense.bias', 'bert.encoder.c_layer.4.v_output.dense.weight', 'bert.encoder.c_layer.4.v_output.dense.bias', 'bert.encoder.c_layer.4.v_output.LayerNorm.weight', 'bert.encoder.c_layer.4.v_output.LayerNorm.bias', 'bert.encoder.c_layer.4.t_intermediate.dense.weight', 'bert.encoder.c_layer.4.t_intermediate.dense.bias', 'bert.encoder.c_layer.4.t_output.dense.weight', 'bert.encoder.c_layer.4.t_output.dense.bias', 'bert.encoder.c_layer.4.t_output.LayerNorm.weight', 'bert.encoder.c_layer.4.t_output.LayerNorm.bias', 'bert.encoder.c_layer.5.biattention.query1.weight', 'bert.encoder.c_layer.5.biattention.query1.bias', 'bert.encoder.c_layer.5.biattention.key1.weight', 'bert.encoder.c_layer.5.biattention.key1.bias', 'bert.encoder.c_layer.5.biattention.value1.weight', 'bert.encoder.c_layer.5.biattention.value1.bias', 'bert.encoder.c_layer.5.biattention.query2.weight', 'bert.encoder.c_layer.5.biattention.query2.bias', 'bert.encoder.c_layer.5.biattention.key2.weight', 'bert.encoder.c_layer.5.biattention.key2.bias', 'bert.encoder.c_layer.5.biattention.value2.weight', 'bert.encoder.c_layer.5.biattention.value2.bias', 'bert.encoder.c_layer.5.biOutput.dense1.weight', 'bert.encoder.c_layer.5.biOutput.dense1.bias', 'bert.encoder.c_layer.5.biOutput.LayerNorm1.weight', 'bert.encoder.c_layer.5.biOutput.LayerNorm1.bias', 'bert.encoder.c_layer.5.biOutput.q_dense1.weight', 'bert.encoder.c_layer.5.biOutput.q_dense1.bias', 'bert.encoder.c_layer.5.biOutput.dense2.weight', 'bert.encoder.c_layer.5.biOutput.dense2.bias', 'bert.encoder.c_layer.5.biOutput.LayerNorm2.weight', 'bert.encoder.c_layer.5.biOutput.LayerNorm2.bias', 'bert.encoder.c_layer.5.biOutput.q_dense2.weight', 'bert.encoder.c_layer.5.biOutput.q_dense2.bias', 'bert.encoder.c_layer.5.v_intermediate.dense.weight', 'bert.encoder.c_layer.5.v_intermediate.dense.bias', 'bert.encoder.c_layer.5.v_output.dense.weight', 'bert.encoder.c_layer.5.v_output.dense.bias', 'bert.encoder.c_layer.5.v_output.LayerNorm.weight', 'bert.encoder.c_layer.5.v_output.LayerNorm.bias', 'bert.encoder.c_layer.5.t_intermediate.dense.weight', 'bert.encoder.c_layer.5.t_intermediate.dense.bias', 'bert.encoder.c_layer.5.t_output.dense.weight', 'bert.encoder.c_layer.5.t_output.dense.bias', 'bert.encoder.c_layer.5.t_output.LayerNorm.weight', 'bert.encoder.c_layer.5.t_output.LayerNorm.bias', 'bert.t_pooler.dense.weight', 'bert.t_pooler.dense.bias', 'bert.v_pooler.dense.weight', 'bert.v_pooler.dense.bias']\n",
      "You should probably TRAIN this model on a down-stream task to be able to use it for predictions and inference.\n"
     ]
    },
    {
     "name": "stdout",
     "output_type": "stream",
     "text": [
      "Overriding option config to projects/hateful_memes/configs/visual_bert/from_coco.yaml\n",
      "Overriding option model to visual_bert\n",
      "Overriding option datasets to hateful_memes\n",
      "Overriding option run_type to val\n",
      "Overriding option checkpoint.resume_zoo to visual_bert.finetuned.hateful_memes.from_coco\n",
      "Overriding option evaluation.predict to true\n"
     ]
    },
    {
     "name": "stderr",
     "output_type": "stream",
     "text": [
      "Some weights of VisualBERTBase were not initialized from the model checkpoint at bert-base-uncased and are newly initialized: ['bert.embeddings.token_type_embeddings_visual.weight', 'bert.embeddings.position_embeddings_visual.weight', 'bert.embeddings.projection.weight', 'bert.embeddings.projection.bias']\n",
      "You should probably TRAIN this model on a down-stream task to be able to use it for predictions and inference.\n"
     ]
    },
    {
     "name": "stdout",
     "output_type": "stream",
     "text": [
      "LXRT encoder with 9 l_layers, 5 x_layers, and 5 r_layers.\n",
      "Load LXMERT pre-trained model from /home/ahemf/.pytorch_pretrained_bert/acfabf2c6d3708e226675d880fed09a14878ef2aee577eeefa8e27a6a22d5b3e.5392626539fa4619737ae314ee55e15de3097750e782865c604a83312ea77251\n",
      "\n",
      "Weights in loaded but not in model:\n",
      "answer_head.logit_fc.0.bias\n",
      "answer_head.logit_fc.0.weight\n",
      "answer_head.logit_fc.2.bias\n",
      "answer_head.logit_fc.2.weight\n",
      "answer_head.logit_fc.3.bias\n",
      "answer_head.logit_fc.3.weight\n",
      "cls.predictions.bias\n",
      "cls.predictions.decoder.weight\n",
      "cls.predictions.transform.LayerNorm.bias\n",
      "cls.predictions.transform.LayerNorm.weight\n",
      "cls.predictions.transform.dense.bias\n",
      "cls.predictions.transform.dense.weight\n",
      "cls.seq_relationship.bias\n",
      "cls.seq_relationship.weight\n",
      "obj_predict_head.decoder_dict.attr.bias\n",
      "obj_predict_head.decoder_dict.attr.weight\n",
      "obj_predict_head.decoder_dict.feat.bias\n",
      "obj_predict_head.decoder_dict.feat.weight\n",
      "obj_predict_head.decoder_dict.obj.bias\n",
      "obj_predict_head.decoder_dict.obj.weight\n",
      "obj_predict_head.transform.LayerNorm.bias\n",
      "obj_predict_head.transform.LayerNorm.weight\n",
      "obj_predict_head.transform.dense.bias\n",
      "obj_predict_head.transform.dense.weight\n",
      "\n",
      "Weights in model but not in loaded:\n",
      "\n",
      "Overriding option config to projects/hateful_memes/configs/mmbt/with_features.yaml\n",
      "Overriding option model to mmbt\n",
      "Overriding option datasets to hateful_memes\n",
      "Overriding option run_type to val\n",
      "Overriding option checkpoint.resume_zoo to mmbt.hateful_memes.features\n",
      "Overriding option evaluation.predict to true\n"
     ]
    },
    {
     "name": "stderr",
     "output_type": "stream",
     "text": [
      "Config '/local/home/ahemf/mygit/facebook-hateful-memes/facebook_hateful_memes_detector/utils/faster_rcnn_R_101_C4_attr_caffemaxpool.yaml' has no VERSION. Assuming it to be compatible with latest v2.\n",
      "Config '/local/home/ahemf/mygit/facebook-hateful-memes/facebook_hateful_memes_detector/utils/faster_rcnn_R_101_C4_attr_caffemaxpool.yaml' has no VERSION. Assuming it to be compatible with latest v2.\n"
     ]
    },
    {
     "name": "stdout",
     "output_type": "stream",
     "text": [
      "N tokens Out =  722\n",
      "Autocast =  True Epochs =  14 Divisor = 2 Examples = 4500 Batch Size =  4\n",
      "Training Samples =  9000 Weighted Sampling =  True Num Batches =  1125 Accumulation steps =  16\n",
      "[WARN]: Number of training batches not divisible by accumulation steps, some training batches will be wasted due to this.\n"
     ]
    },
    {
     "data": {
      "application/vnd.jupyter.widget-view+json": {
       "model_id": "4c481b5fdc884020b002813c20260ae0",
       "version_major": 2,
       "version_minor": 0
      },
      "text/plain": [
       "HBox(children=(FloatProgress(value=0.0, max=14.0), HTML(value='')))"
      ]
     },
     "metadata": {},
     "output_type": "display_data"
    },
    {
     "data": {
      "application/vnd.jupyter.widget-view+json": {
       "model_id": "b09fc4d8c58543128b1c3c8ed8d4c8d9",
       "version_major": 2,
       "version_minor": 0
      },
      "text/plain": [
       "HBox(children=(FloatProgress(value=0.0, description='Batches', max=1125.0, style=ProgressStyle(description_wid…"
      ]
     },
     "metadata": {},
     "output_type": "display_data"
    },
    {
     "name": "stdout",
     "output_type": "stream",
     "text": [
      "FeatureExtractor : Loaded Model...\n",
      "LXMERTFeatureExtractor : Loaded Model...\n",
      "\n",
      "Epoch =  1 Loss = 0.229189 LR = 0.00023810\n"
     ]
    },
    {
     "data": {
      "application/vnd.jupyter.widget-view+json": {
       "model_id": "30fb20d12d614021a06fd984d048e0a2",
       "version_major": 2,
       "version_minor": 0
      },
      "text/plain": [
       "HBox(children=(FloatProgress(value=0.0, description='Batches', max=1125.0, style=ProgressStyle(description_wid…"
      ]
     },
     "metadata": {},
     "output_type": "display_data"
    },
    {
     "name": "stderr",
     "output_type": "stream",
     "text": [
      "IOPub message rate exceeded.\n",
      "The notebook server will temporarily stop sending output\n",
      "to the client in order to avoid crashing it.\n",
      "To change this limit, set the config variable\n",
      "`--NotebookApp.iopub_msg_rate_limit`.\n",
      "\n",
      "Current values:\n",
      "NotebookApp.iopub_msg_rate_limit=1000.0 (msgs/sec)\n",
      "NotebookApp.rate_limit_window=3.0 (secs)\n",
      "\n"
     ]
    },
    {
     "name": "stdout",
     "output_type": "stream",
     "text": [
      "\n",
      "Epoch =  4 Loss = 0.140130 LR = 0.00095238\n"
     ]
    },
    {
     "data": {
      "application/vnd.jupyter.widget-view+json": {
       "model_id": "c96574c1d7e84899921c9d343b47ec90",
       "version_major": 2,
       "version_minor": 0
      },
      "text/plain": [
       "HBox(children=(FloatProgress(value=0.0, description='Batches', max=1125.0, style=ProgressStyle(description_wid…"
      ]
     },
     "metadata": {},
     "output_type": "display_data"
    },
    {
     "name": "stderr",
     "output_type": "stream",
     "text": [
      "IOPub message rate exceeded.\n",
      "The notebook server will temporarily stop sending output\n",
      "to the client in order to avoid crashing it.\n",
      "To change this limit, set the config variable\n",
      "`--NotebookApp.iopub_msg_rate_limit`.\n",
      "\n",
      "Current values:\n",
      "NotebookApp.iopub_msg_rate_limit=1000.0 (msgs/sec)\n",
      "NotebookApp.rate_limit_window=3.0 (secs)\n",
      "\n"
     ]
    },
    {
     "name": "stdout",
     "output_type": "stream",
     "text": [
      "\n",
      "Epoch =  7 Loss = 0.154248 LR = 0.00081174\n"
     ]
    },
    {
     "data": {
      "application/vnd.jupyter.widget-view+json": {
       "model_id": "b8fc1a956ef34f529582a3dc94baba5b",
       "version_major": 2,
       "version_minor": 0
      },
      "text/plain": [
       "HBox(children=(FloatProgress(value=0.0, description='Batches', max=1125.0, style=ProgressStyle(description_wid…"
      ]
     },
     "metadata": {},
     "output_type": "display_data"
    },
    {
     "name": "stdout",
     "output_type": "stream",
     "text": [
      "\n",
      "Epoch =  8 Loss = 0.157731 LR = 0.00067268\n"
     ]
    },
    {
     "data": {
      "application/vnd.jupyter.widget-view+json": {
       "model_id": "8d7ea9bd50664a0d9e99da3782e47864",
       "version_major": 2,
       "version_minor": 0
      },
      "text/plain": [
       "HBox(children=(FloatProgress(value=0.0, description='Batches', max=1125.0, style=ProgressStyle(description_wid…"
      ]
     },
     "metadata": {},
     "output_type": "display_data"
    },
    {
     "name": "stdout",
     "output_type": "stream",
     "text": [
      "\n",
      "Epoch =  9 Loss = 0.158405 LR = 0.00051603\n"
     ]
    },
    {
     "data": {
      "application/vnd.jupyter.widget-view+json": {
       "model_id": "6149a065195e4572bbc5573ace34741c",
       "version_major": 2,
       "version_minor": 0
      },
      "text/plain": [
       "HBox(children=(FloatProgress(value=0.0, description='Batches', max=1125.0, style=ProgressStyle(description_wid…"
      ]
     },
     "metadata": {},
     "output_type": "display_data"
    },
    {
     "name": "stdout",
     "output_type": "stream",
     "text": [
      "\n",
      "Epoch =  10 Loss = 0.153493 LR = 0.00035774\n"
     ]
    },
    {
     "data": {
      "application/vnd.jupyter.widget-view+json": {
       "model_id": "ed266abe455844bfaebc1dc926337afa",
       "version_major": 2,
       "version_minor": 0
      },
      "text/plain": [
       "HBox(children=(FloatProgress(value=0.0, description='Batches', max=1125.0, style=ProgressStyle(description_wid…"
      ]
     },
     "metadata": {},
     "output_type": "display_data"
    },
    {
     "name": "stdout",
     "output_type": "stream",
     "text": [
      "\n",
      "Epoch =  11 Loss = 0.152576 LR = 0.00021394\n"
     ]
    },
    {
     "data": {
      "application/vnd.jupyter.widget-view+json": {
       "model_id": "2ac815e276304cd782386a6e98b8e5c4",
       "version_major": 2,
       "version_minor": 0
      },
      "text/plain": [
       "HBox(children=(FloatProgress(value=0.0, description='Batches', max=1125.0, style=ProgressStyle(description_wid…"
      ]
     },
     "metadata": {},
     "output_type": "display_data"
    },
    {
     "name": "stdout",
     "output_type": "stream",
     "text": [
      "\n",
      "Epoch =  12 Loss = 0.153589 LR = 0.00009929\n"
     ]
    },
    {
     "data": {
      "application/vnd.jupyter.widget-view+json": {
       "model_id": "2e67e606291c43088c8237281e8539ef",
       "version_major": 2,
       "version_minor": 0
      },
      "text/plain": [
       "HBox(children=(FloatProgress(value=0.0, description='Batches', max=1125.0, style=ProgressStyle(description_wid…"
      ]
     },
     "metadata": {},
     "output_type": "display_data"
    },
    {
     "name": "stdout",
     "output_type": "stream",
     "text": [
      "\n",
      "Epoch =  13 Loss = 0.147211 LR = 0.00002547\n"
     ]
    },
    {
     "data": {
      "application/vnd.jupyter.widget-view+json": {
       "model_id": "6e6af33087ca41d082e0c2649042b4e2",
       "version_major": 2,
       "version_minor": 0
      },
      "text/plain": [
       "HBox(children=(FloatProgress(value=0.0, description='Batches', max=1125.0, style=ProgressStyle(description_wid…"
      ]
     },
     "metadata": {},
     "output_type": "display_data"
    },
    {
     "name": "stdout",
     "output_type": "stream",
     "text": [
      "\n",
      "Epoch =  14 Loss = 0.145344 LR = 0.00000000\n",
      "\n"
     ]
    },
    {
     "data": {
      "image/png": "[encoded data removed]",
      "text/plain": [
       "<Figure size 576x576 with 2 Axes>"
      ]
     },
     "metadata": {
      "image/png": {
       "height": 567,
       "width": 568
      },
      "needs_background": "light"
     },
     "output_type": "display_data"
    },
    {
     "data": {
      "application/vnd.jupyter.widget-view+json": {
       "model_id": "0abc8e5f32d241378184d8b26ab1e46b",
       "version_major": 2,
       "version_minor": 0
      },
      "text/plain": [
       "HBox(children=(FloatProgress(value=0.0, description='Caching Images in Dataset', max=1000.0, style=ProgressSty…"
      ]
     },
     "metadata": {},
     "output_type": "display_data"
    },
    {
     "name": "stdout",
     "output_type": "stream",
     "text": [
      "\n"
     ]
    },
    {
     "data": {
      "application/vnd.jupyter.widget-view+json": {
       "model_id": "c4cdb75c7f52491d8f38559fab5c7411",
       "version_major": 2,
       "version_minor": 0
      },
      "text/plain": [
       "HBox(children=(FloatProgress(value=0.0, description='Generate Predictions', max=250.0, style=ProgressStyle(des…"
      ]
     },
     "metadata": {},
     "output_type": "display_data"
    },
    {
     "name": "stdout",
     "output_type": "stream",
     "text": [
      "\n"
     ]
    },
    {
     "data": {
      "text/html": [
       "<div>\n",
       "<style scoped>\n",
       "    .dataframe tbody tr th:only-of-type {\n",
       "        vertical-align: middle;\n",
       "    }\n",
       "\n",
       "    .dataframe tbody tr th {\n",
       "        vertical-align: top;\n",
       "    }\n",
       "\n",
       "    .dataframe thead th {\n",
       "        text-align: right;\n",
       "    }\n",
       "</style>\n",
       "<table border=\"1\" class=\"dataframe\">\n",
       "  <thead>\n",
       "    <tr style=\"text-align: right;\">\n",
       "      <th></th>\n",
       "      <th>id</th>\n",
       "      <th>proba</th>\n",
       "      <th>label</th>\n",
       "    </tr>\n",
       "  </thead>\n",
       "  <tbody>\n",
       "    <tr>\n",
       "      <th>655</th>\n",
       "      <td>84517</td>\n",
       "      <td>0.511</td>\n",
       "      <td>1</td>\n",
       "    </tr>\n",
       "    <tr>\n",
       "      <th>433</th>\n",
       "      <td>71063</td>\n",
       "      <td>0.671</td>\n",
       "      <td>1</td>\n",
       "    </tr>\n",
       "    <tr>\n",
       "      <th>414</th>\n",
       "      <td>85042</td>\n",
       "      <td>0.613</td>\n",
       "      <td>1</td>\n",
       "    </tr>\n",
       "  </tbody>\n",
       "</table>\n",
       "</div>"
      ],
      "text/plain": [
       "        id  proba  label\n",
       "655  84517  0.511      1\n",
       "433  71063  0.671      1\n",
       "414  85042  0.613      1"
      ]
     },
     "execution_count": 7,
     "metadata": {},
     "output_type": "execute_result"
    }
   ],
   "source": [
    "\n",
    "torch.backends.cudnn.enabled = False\n",
    "batch_size = 4\n",
    "epochs = 7\n",
    "\n",
    "submission, text_model = train_and_predict(\n",
    "    model_fn,\n",
    "    data,\n",
    "    batch_size,\n",
    "    epochs,\n",
    "    scheduler_init_fn=scheduler_init_fn,\n",
    "    accumulation_steps=16,\n",
    "    model_call_back=reg_sched,\n",
    "    sampling_policy=\"without_replacement\") # \"without_replacement\"\n",
    "\n",
    "submission.to_csv(\"submission.csv\", index=False)\n",
    "submission.sample(3)\n"
   ]
  },
  {
   "cell_type": "code",
   "execution_count": 8,
   "metadata": {
    "ExecuteTime": {
     "end_time": "2020-07-20T20:39:54.691953Z",
     "start_time": "2020-07-20T20:30:33.610859Z"
    }
   },
   "outputs": [
    {
     "data": {
      "application/vnd.jupyter.widget-view+json": {
       "model_id": "1225fd510c934ff38622cee0fdce8e1e",
       "version_major": 2,
       "version_minor": 0
      },
      "text/plain": [
       "HBox(children=(FloatProgress(value=0.0, description='Caching Images in Dataset', max=500.0, style=ProgressStyl…"
      ]
     },
     "metadata": {},
     "output_type": "display_data"
    },
    {
     "name": "stdout",
     "output_type": "stream",
     "text": [
      "\n"
     ]
    },
    {
     "data": {
      "application/vnd.jupyter.widget-view+json": {
       "model_id": "dcce89949c2345c8be7ad40c001ee444",
       "version_major": 2,
       "version_minor": 0
      },
      "text/plain": [
       "HBox(children=(FloatProgress(value=0.0, description='Generate Predictions', max=125.0, style=ProgressStyle(des…"
      ]
     },
     "metadata": {},
     "output_type": "display_data"
    },
    {
     "name": "stdout",
     "output_type": "stream",
     "text": [
      "\n",
      "      id  proba  label\n",
      "0   8291  0.632      1\n",
      "1  46971  0.350      0\n",
      "2   3745  0.543      1\n",
      "3  83745  0.594      1\n",
      "4  80243  0.617      1\n",
      "scores =  {'map': '0.6912', 'acc': '0.6920', 'auc': '0.7407'}\n"
     ]
    }
   ],
   "source": [
    "data[\"test\"] = data[\"dev\"]\n",
    "sf, _ = predict(text_model, data, batch_size)\n",
    "\n",
    "print(sf.head())\n",
    "\n",
    "from sklearn.metrics import roc_auc_score, average_precision_score, classification_report\n",
    "from sklearn.metrics import precision_recall_fscore_support, accuracy_score\n",
    "\n",
    "labels_list = data[\"test\"].label\n",
    "proba_list = sf.proba\n",
    "predictions_list = sf.label\n",
    "\n",
    "auc = roc_auc_score(labels_list, proba_list)\n",
    "# p_micro, r_micro, f1_micro, _ = precision_recall_fscore_support(labels_list, predictions_list, average=\"micro\")\n",
    "prfs = precision_recall_fscore_support(labels_list, predictions_list, average=None, labels=[0, 1])\n",
    "map = average_precision_score(labels_list, proba_list)\n",
    "acc = accuracy_score(labels_list, predictions_list)\n",
    "validation_scores = [map, acc, auc]\n",
    "print(\"scores = \", dict(zip([\"map\", \"acc\", \"auc\"], [\"%.4f\" % v for v in validation_scores])))\n"
   ]
  },
  {
   "cell_type": "code",
   "execution_count": null,
   "metadata": {
    "ExecuteTime": {
     "end_time": "2020-07-18T18:45:52.939712Z",
     "start_time": "2020-07-18T18:42:25.911Z"
    }
   },
   "outputs": [],
   "source": [
    "submission.sample(10)\n",
    "submission.label.value_counts()"
   ]
  },
  {
   "cell_type": "code",
   "execution_count": null,
   "metadata": {
    "ExecuteTime": {
     "end_time": "2020-07-16T01:18:47.528516Z",
     "start_time": "2020-07-15T21:42:09.784956Z"
    }
   },
   "outputs": [],
   "source": [
    "\n",
    "\n",
    "batch_size = 32\n",
    "epochs = 7\n",
    "\n",
    "submission, text_model = train_and_predict(\n",
    "    model_fn,\n",
    "    data,\n",
    "    batch_size,\n",
    "    epochs,\n",
    "    scheduler_init_fn=scheduler_init_fn,\n",
    "    accumulation_steps=1,\n",
    "    model_call_back=reg_sched,\n",
    "    sampling_policy=None) # \"without_replacement\"\n",
    "\n",
    "submission.to_csv(\"submission2.csv\", index=False)\n",
    "submission.sample(3)\n"
   ]
  },
  {
   "cell_type": "code",
   "execution_count": null,
   "metadata": {},
   "outputs": [],
   "source": []
  }
 ],
 "metadata": {
  "kernelspec": {
   "display_name": "Python 3",
   "language": "python",
   "name": "python3"
  },
  "language_info": {
   "codemirror_mode": {
    "name": "ipython",
    "version": 3
   },
   "file_extension": ".py",
   "mimetype": "text/x-python",
   "name": "python",
   "nbconvert_exporter": "python",
   "pygments_lexer": "ipython3",
   "version": "3.7.6"
  },
  "toc": {
   "base_numbering": 1,
   "nav_menu": {},
   "number_sections": true,
   "sideBar": true,
   "skip_h1_title": false,
   "title_cell": "Table of Contents",
   "title_sidebar": "Contents",
   "toc_cell": false,
   "toc_position": {},
   "toc_section_display": true,
   "toc_window_display": true
  }
 },
 "nbformat": 4,
 "nbformat_minor": 4
}
