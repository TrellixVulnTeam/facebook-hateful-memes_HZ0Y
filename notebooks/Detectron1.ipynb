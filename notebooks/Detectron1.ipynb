{
 "cells": [
  {
   "cell_type": "code",
   "execution_count": 1,
   "metadata": {
    "ExecuteTime": {
     "end_time": "2020-10-18T13:02:27.054525Z",
     "start_time": "2020-10-18T13:02:23.609903Z"
    }
   },
   "outputs": [],
   "source": [
    "import pandas as pd\n",
    "import numpy as np\n",
    "\n",
    "from PIL import Image\n",
    "from IPython.display import display, HTML, clear_output\n",
    "from IPython.core.interactiveshell import InteractiveShell\n",
    "InteractiveShell.ast_node_interactivity = \"all\"\n",
    "\n",
    "import sys\n",
    "import os\n",
    "DIR = os.getcwd()\n",
    "import torch\n",
    "import torchvision\n",
    "\n",
    "from facebook_hateful_memes_detector.utils.globals import set_global, get_global\n",
    "set_global(\"cache_dir\", \"/home/ahemf/cache2/cache\")\n",
    "set_global(\"dataloader_workers\", 8)\n",
    "set_global(\"use_autocast\", True)\n",
    "set_global(\"models_dir\", \"/home/ahemf/cache/\")\n",
    "\n",
    "from facebook_hateful_memes_detector.preprocessing import DefinedRotation, QuadrantCut, DefinedAffine, DefinedColorJitter, DefinedRandomPerspective, ImageAugment\n",
    "from PIL import Image\n",
    "from facebook_hateful_memes_detector.utils import get_image_info_fn, set_device, get_device\n",
    "from torchvision import transforms\n",
    "import joblib\n",
    "from tqdm.auto import tqdm, trange\n",
    "from joblib import Parallel, delayed\n",
    "from facebook_hateful_memes_detector.preprocessing import TextImageDataset, get_datasets, get_image2torchvision_transforms, TextAugment, get_transforms_for_bbox_methods\n",
    "from facebook_hateful_memes_detector.models.external.detr import get_detr_model\n",
    "from facebook_hateful_memes_detector.training import *\n",
    "\n",
    "def hash(x):\n",
    "    return joblib.hashing.hash(x, 'sha1')\n",
    "\n",
    "def print_code(func):\n",
    "    import inspect\n",
    "    from pygments import highlight\n",
    "    from pygments.lexers import PythonLexer\n",
    "    from pygments.formatters import TerminalFormatter\n",
    "\n",
    "    code = \"\".join(inspect.getsourcelines(func)[0])\n",
    "    print(highlight(code, PythonLexer(), TerminalFormatter()))\n",
    "\n",
    "set_device('cuda')\n",
    "\n"
   ]
  },
  {
   "cell_type": "code",
   "execution_count": null,
   "metadata": {
    "ExecuteTime": {
     "end_time": "2020-10-10T07:07:06.195294Z",
     "start_time": "2020-10-10T07:07:05.791667Z"
    }
   },
   "outputs": [],
   "source": [
    "!wget https://raw.githubusercontent.com/airsplay/py-bottom-up-attention/master/demo/data/images/input.jpg\n"
   ]
  },
  {
   "cell_type": "code",
   "execution_count": 2,
   "metadata": {
    "ExecuteTime": {
     "end_time": "2020-10-18T13:02:27.313255Z",
     "start_time": "2020-10-18T13:02:27.187002Z"
    }
   },
   "outputs": [],
   "source": [
    "data = get_datasets(data_dir=\"/home/ahemf/cache/data/\",\n",
    "                    train_text_transform=None,\n",
    "                    train_image_transform=None,\n",
    "                    test_text_transform=None,\n",
    "                    test_image_transform=None,\n",
    "                    train_torchvision_pre_image_transform=None,\n",
    "                    test_torchvision_pre_image_transform=None,\n",
    "                    cache_images=False,\n",
    "                    use_images=True,\n",
    "                    dev=False,\n",
    "                    test_dev=True,\n",
    "                    keep_original_text=True,\n",
    "                    keep_original_image=True,\n",
    "                    keep_processed_image=True,\n",
    "                    keep_torchvision_image=False,\n",
    "                    train_mixup_config=None)\n",
    "\n",
    "\n",
    "\n",
    "df = pd.concat((data[\"train\"],\n",
    "                data['dev_unseen'],\n",
    "                data[\"test\"], data['test_unseen'])).sample(frac=1.0)\n",
    "\n",
    "dataset = convert_dataframe_to_dataset(df, data[\"metadata\"], True)\n"
   ]
  },
  {
   "cell_type": "code",
   "execution_count": null,
   "metadata": {
    "ExecuteTime": {
     "end_time": "2020-10-11T12:28:42.720879Z",
     "start_time": "2020-10-11T12:28:26.348628Z"
    }
   },
   "outputs": [],
   "source": [
    "from time import sleep\n",
    "for transformation in list(get_transforms_for_bbox_methods().transforms + get_transforms_for_multiview()):\n",
    "    display(transformation(dataset[0]['original_image']))\n",
    "    sleep(2)"
   ]
  },
  {
   "cell_type": "code",
   "execution_count": 3,
   "metadata": {
    "ExecuteTime": {
     "end_time": "2020-10-18T13:06:11.986716Z",
     "start_time": "2020-10-18T13:02:34.085021Z"
    }
   },
   "outputs": [
    {
     "name": "stderr",
     "output_type": "stream",
     "text": [
      "Config '/local/home/ahemf/mygit/facebook-hateful-memes/facebook_hateful_memes_detector/utils/faster_rcnn_R_101_C4_attr_caffemaxpool.yaml' has no VERSION. Assuming it to be compatible with latest v2.\n",
      "Config '/local/home/ahemf/mygit/facebook-hateful-memes/facebook_hateful_memes_detector/utils/faster_rcnn_R_101_C4_attr_caffemaxpool.yaml' has no VERSION. Assuming it to be compatible with latest v2.\n"
     ]
    },
    {
     "data": {
      "application/vnd.jupyter.widget-view+json": {
       "model_id": "2d4bd266be4b40bfb4f8c182ab67aeb9",
       "version_major": 2,
       "version_minor": 0
      },
      "text/plain": [
       "HBox(children=(FloatProgress(value=0.0, max=12540.0), HTML(value='')))"
      ]
     },
     "metadata": {},
     "output_type": "display_data"
    },
    {
     "name": "stdout",
     "output_type": "stream",
     "text": [
      "FeatureExtractor : Loaded Model...\n"
     ]
    },
    {
     "name": "stderr",
     "output_type": "stream",
     "text": [
      "/local/home/ahemf/mygit/vqa-maskrcnn-benchmark/maskrcnn_benchmark/structures/boxlist_ops.py:45: UserWarning: This overload of nonzero is deprecated:\n",
      "\tnonzero()\n",
      "Consider using one of the following signatures instead:\n",
      "\tnonzero(*, bool as_tuple) (Triggered internally at  /pytorch/torch/csrc/utils/python_arg_parser.cpp:773.)\n",
      "  keep = ((ws >= min_size) & (hs >= min_size)).nonzero().squeeze(1)\n"
     ]
    },
    {
     "name": "stdout",
     "output_type": "stream",
     "text": [
      "Modifications for VG in RPN (modeling/proposal_generator/rpn.py):\n",
      "\tUse hidden dim 512 instead fo the same dim as Res4 (1024).\n",
      "\n",
      "Modifications for VG in RoI heads (modeling/roi_heads/fast_rcnn.py))\n",
      "\tEmbedding: 1601 --> 256\tLinear: 2304 --> 512\tLinear: 512 --> 401\n",
      "\n",
      "LXMERTFeatureExtractor : Loaded Model...\n"
     ]
    },
    {
     "name": "stderr",
     "output_type": "stream",
     "text": [
      "ERROR:root:Internal Python error in the inspect module.\n",
      "Below is the traceback from this internal error.\n",
      "\n"
     ]
    },
    {
     "name": "stdout",
     "output_type": "stream",
     "text": [
      "Traceback (most recent call last):\n",
      "  File \"/home/ahemf/anaconda3/lib/python3.7/site-packages/IPython/core/interactiveshell.py\", line 3331, in run_code\n",
      "    exec(code_obj, self.user_global_ns, self.user_ns)\n",
      "  File \"<ipython-input-3-7a0362593701>\", line 19, in <module>\n",
      "    lxmert_faster_rcnn_fn(transformation(image.copy()))\n",
      "  File \"<ipython-input-3-7a0362593701>\", line 14, in lxmert_faster_rcnn_fn\n",
      "    sleep(0.1)\n",
      "KeyboardInterrupt\n",
      "\n",
      "During handling of the above exception, another exception occurred:\n",
      "\n",
      "Traceback (most recent call last):\n",
      "  File \"/home/ahemf/anaconda3/lib/python3.7/site-packages/IPython/core/interactiveshell.py\", line 2044, in showtraceback\n",
      "    stb = value._render_traceback_()\n",
      "AttributeError: 'KeyboardInterrupt' object has no attribute '_render_traceback_'\n",
      "\n",
      "During handling of the above exception, another exception occurred:\n",
      "\n",
      "Traceback (most recent call last):\n",
      "  File \"/home/ahemf/anaconda3/lib/python3.7/site-packages/IPython/core/ultratb.py\", line 1151, in get_records\n",
      "    return _fixed_getinnerframes(etb, number_of_lines_of_context, tb_offset)\n",
      "  File \"/home/ahemf/anaconda3/lib/python3.7/site-packages/IPython/core/ultratb.py\", line 319, in wrapped\n",
      "    return f(*args, **kwargs)\n",
      "  File \"/home/ahemf/anaconda3/lib/python3.7/site-packages/IPython/core/ultratb.py\", line 353, in _fixed_getinnerframes\n",
      "    records = fix_frame_records_filenames(inspect.getinnerframes(etb, context))\n",
      "  File \"/home/ahemf/anaconda3/lib/python3.7/inspect.py\", line 1502, in getinnerframes\n",
      "    frameinfo = (tb.tb_frame,) + getframeinfo(tb, context)\n",
      "  File \"/home/ahemf/anaconda3/lib/python3.7/inspect.py\", line 1460, in getframeinfo\n",
      "    filename = getsourcefile(frame) or getfile(frame)\n",
      "  File \"/home/ahemf/anaconda3/lib/python3.7/inspect.py\", line 696, in getsourcefile\n",
      "    if getattr(getmodule(object, filename), '__loader__', None) is not None:\n",
      "  File \"/home/ahemf/anaconda3/lib/python3.7/inspect.py\", line 742, in getmodule\n",
      "    os.path.realpath(f)] = module.__name__\n",
      "  File \"/home/ahemf/anaconda3/lib/python3.7/posixpath.py\", line 395, in realpath\n",
      "    path, ok = _joinrealpath(filename[:0], filename, {})\n",
      "  File \"/home/ahemf/anaconda3/lib/python3.7/posixpath.py\", line 429, in _joinrealpath\n",
      "    if not islink(newpath):\n",
      "  File \"/home/ahemf/anaconda3/lib/python3.7/posixpath.py\", line 171, in islink\n",
      "    st = os.lstat(path)\n",
      "KeyboardInterrupt\n"
     ]
    },
    {
     "ename": "KeyboardInterrupt",
     "evalue": "",
     "output_type": "error",
     "traceback": [
      "\u001b[0;31m---------------------------------------------------------------------------\u001b[0m"
     ]
    }
   ],
   "source": [
    "from facebook_hateful_memes_detector.utils import get_image_info_fn\n",
    "from facebook_hateful_memes_detector.preprocessing import get_transforms_for_bbox_methods\n",
    "from facebook_hateful_memes_detector.preprocessing import get_transforms_for_multiview\n",
    "from time import sleep\n",
    "all_transforms = list(get_transforms_for_bbox_methods().transforms + get_transforms_for_multiview())\n",
    "get_img_details = get_image_info_fn(enable_encoder_feats=False, device=get_device())[\"get_img_details\"]\n",
    "get_lxmert_details = get_image_info_fn(enable_encoder_feats=False, device=get_device())[\"get_lxmert_details\"]\n",
    "\n",
    "def lxmert_faster_rcnn_fn(img):\n",
    "    sleep(0.1)\n",
    "    _ = get_img_details(img)\n",
    "    sleep(0.1)\n",
    "    _ = get_lxmert_details(img)\n",
    "    sleep(0.1)\n",
    "\n",
    "for elem in tqdm(iter(dataset), total=len(dataset)):\n",
    "    image = elem[\"original_image\"]\n",
    "    for idx, transformation in enumerate(all_transforms):\n",
    "        lxmert_faster_rcnn_fn(transformation(image.copy()))\n",
    "        if idx == 0:\n",
    "            for _ in range(3):\n",
    "                lxmert_faster_rcnn_fn(transformation(image.copy()))\n",
    "        \n",
    "        \n"
   ]
  },
  {
   "cell_type": "code",
   "execution_count": null,
   "metadata": {},
   "outputs": [],
   "source": []
  },
  {
   "cell_type": "code",
   "execution_count": 4,
   "metadata": {
    "ExecuteTime": {
     "end_time": "2020-10-18T13:06:15.108756Z",
     "start_time": "2020-10-18T13:06:15.102355Z"
    }
   },
   "outputs": [
    {
     "data": {
      "text/plain": [
       "defaultdict(float,\n",
       "            {'called': 605.0,\n",
       "             'hit': 604.0,\n",
       "             'read_time': 0.005814662523834086,\n",
       "             'key_error': 1.0,\n",
       "             'read-return-none': 1.0,\n",
       "             'compute': 1.0,\n",
       "             'writes': 1.0,\n",
       "             'write_time': 0.0016967296600341798})"
      ]
     },
     "execution_count": 4,
     "metadata": {},
     "output_type": "execute_result"
    },
    {
     "data": {
      "text/plain": [
       "defaultdict(float,\n",
       "            {'called': 605.0,\n",
       "             'hit': 604.0,\n",
       "             'read_time': 0.004617035341738422,\n",
       "             'key_error': 1.0,\n",
       "             'read-return-none': 1.0,\n",
       "             'compute': 1.0,\n",
       "             'writes': 1.0,\n",
       "             'write_time': 0.0009699344635009766})"
      ]
     },
     "execution_count": 4,
     "metadata": {},
     "output_type": "execute_result"
    }
   ],
   "source": [
    "cache_stats = get_global(\"cache_stats\")\n",
    "cache_stats['get_img_details']\n",
    "cache_stats['get_lxmert_details']\n"
   ]
  },
  {
   "cell_type": "code",
   "execution_count": null,
   "metadata": {},
   "outputs": [],
   "source": [
    "%timeit rows = caches[0]._sql('SELECT rowid, expire_time, tag, mode, filename, value from Cache limit 10').fetchall()\n"
   ]
  },
  {
   "cell_type": "code",
   "execution_count": 5,
   "metadata": {
    "ExecuteTime": {
     "end_time": "2020-10-18T09:47:40.642626Z",
     "start_time": "2020-10-18T09:47:40.324834Z"
    }
   },
   "outputs": [],
   "source": [
    "import gc\n",
    "import os\n",
    "import sys\n",
    "from collections import defaultdict, Counter\n",
    "from random import random, shuffle\n",
    "from time import sleep\n",
    "from typing import List, Callable\n",
    "\n",
    "import cv2\n",
    "import numpy as np\n",
    "import requests\n",
    "import torch\n",
    "from PIL import Image\n",
    "\n",
    "cache_dirs = [\"/home/ahemf/cache/cache\", \"/home/ahemf/cache2/cache\"]\n",
    "args = dict(eviction_policy='none', sqlite_cache_size=2 ** 16, sqlite_mmap_size=2 ** 28, disk_min_file_size=2 ** 18)\n",
    "from diskcache import Cache\n",
    "caches = [Cache(cd, **args) for cd in cache_dirs]\n"
   ]
  },
  {
   "cell_type": "code",
   "execution_count": 7,
   "metadata": {
    "ExecuteTime": {
     "end_time": "2020-10-18T10:18:28.066238Z",
     "start_time": "2020-10-18T10:16:03.043504Z"
    }
   },
   "outputs": [
    {
     "name": "stdout",
     "output_type": "stream",
     "text": [
      "(0, 0) 0\n",
      "(0, 1) 12\n",
      "(1, 0) 2774\n",
      "(1, 1) 0\n"
     ]
    },
    {
     "data": {
      "application/vnd.jupyter.widget-view+json": {
       "model_id": "a9c9db3c346a476990373cb185d21465",
       "version_major": 2,
       "version_minor": 0
      },
      "text/plain": [
       "HBox(children=(FloatProgress(value=0.0, max=4.0), HTML(value='')))"
      ]
     },
     "metadata": {},
     "output_type": "display_data"
    },
    {
     "data": {
      "application/vnd.jupyter.widget-view+json": {
       "model_id": "7c937981871146dd8678f0d776a6355b",
       "version_major": 2,
       "version_minor": 0
      },
      "text/plain": [
       "HBox(children=(FloatProgress(value=1.0, bar_style='info', max=1.0), HTML(value='')))"
      ]
     },
     "metadata": {},
     "output_type": "display_data"
    },
    {
     "name": "stdout",
     "output_type": "stream",
     "text": [
      "\n"
     ]
    },
    {
     "data": {
      "application/vnd.jupyter.widget-view+json": {
       "model_id": "360de98579c24c48a4c8b1806bd5167f",
       "version_major": 2,
       "version_minor": 0
      },
      "text/plain": [
       "HBox(children=(FloatProgress(value=0.0, max=12.0), HTML(value='')))"
      ]
     },
     "metadata": {},
     "output_type": "display_data"
    },
    {
     "name": "stdout",
     "output_type": "stream",
     "text": [
      "\n"
     ]
    },
    {
     "data": {
      "application/vnd.jupyter.widget-view+json": {
       "model_id": "146afa1c9d3d4ec48b3a2fa24e64092e",
       "version_major": 2,
       "version_minor": 0
      },
      "text/plain": [
       "HBox(children=(FloatProgress(value=0.0, max=2774.0), HTML(value='')))"
      ]
     },
     "metadata": {},
     "output_type": "display_data"
    },
    {
     "name": "stdout",
     "output_type": "stream",
     "text": [
      "\n"
     ]
    },
    {
     "data": {
      "application/vnd.jupyter.widget-view+json": {
       "model_id": "311fbd00cd4c48b8a3951848ee43a027",
       "version_major": 2,
       "version_minor": 0
      },
      "text/plain": [
       "HBox(children=(FloatProgress(value=1.0, bar_style='info', max=1.0), HTML(value='')))"
      ]
     },
     "metadata": {},
     "output_type": "display_data"
    },
    {
     "name": "stdout",
     "output_type": "stream",
     "text": [
      "\n",
      "\n"
     ]
    }
   ],
   "source": [
    "cache2keys = [set(list(cache.iterkeys())) for cache in caches]\n",
    "\n",
    "write_dict = dict()\n",
    "for cn1, ck1 in enumerate(cache2keys):\n",
    "    for cn2, ck2 in enumerate(cache2keys):\n",
    "        write_dict[(cn1, cn2)] = ck1 - ck2\n",
    "        write_dict[(cn2, cn1)] = ck2 - ck1\n",
    "        \n",
    "for k, v in write_dict.items():\n",
    "    print(k, len(v))\n",
    "    \n",
    "for k, v in tqdm(write_dict.items()):\n",
    "    c1 = caches[k[0]]\n",
    "    c2 = caches[k[1]]\n",
    "    for citem in tqdm(v):\n",
    "        item = c1[citem]\n",
    "        c2[citem] = item\n",
    "\n"
   ]
  },
  {
   "cell_type": "code",
   "execution_count": 5,
   "metadata": {
    "ExecuteTime": {
     "end_time": "2020-10-14T19:24:47.407816Z",
     "start_time": "2020-10-14T14:09:45.265904Z"
    }
   },
   "outputs": [
    {
     "name": "stderr",
     "output_type": "stream",
     "text": [
      "Config '/local/home/ahemf/mygit/facebook-hateful-memes/facebook_hateful_memes_detector/utils/faster_rcnn_R_101_C4_attr_caffemaxpool.yaml' has no VERSION. Assuming it to be compatible with latest v2.\n",
      "Config '/local/home/ahemf/mygit/facebook-hateful-memes/facebook_hateful_memes_detector/utils/faster_rcnn_R_101_C4_attr_caffemaxpool.yaml' has no VERSION. Assuming it to be compatible with latest v2.\n"
     ]
    },
    {
     "data": {
      "application/vnd.jupyter.widget-view+json": {
       "model_id": "c1513210fb3b42a486217427d80d4511",
       "version_major": 2,
       "version_minor": 0
      },
      "text/plain": [
       "HBox(children=(FloatProgress(value=0.0, max=12540.0), HTML(value='')))"
      ]
     },
     "metadata": {},
     "output_type": "display_data"
    },
    {
     "name": "stdout",
     "output_type": "stream",
     "text": [
      "ImageCaptionFeatures : Loaded Model...\n",
      "FeatureExtractor : Loaded Model...\n"
     ]
    },
    {
     "name": "stderr",
     "output_type": "stream",
     "text": [
      "/local/home/ahemf/mygit/vqa-maskrcnn-benchmark/maskrcnn_benchmark/structures/boxlist_ops.py:45: UserWarning: This overload of nonzero is deprecated:\n",
      "\tnonzero()\n",
      "Consider using one of the following signatures instead:\n",
      "\tnonzero(*, bool as_tuple) (Triggered internally at  /pytorch/torch/csrc/utils/python_arg_parser.cpp:773.)\n",
      "  keep = ((ws >= min_size) & (hs >= min_size)).nonzero().squeeze(1)\n"
     ]
    },
    {
     "name": "stdout",
     "output_type": "stream",
     "text": [
      "\n"
     ]
    }
   ],
   "source": [
    "from facebook_hateful_memes_detector.utils import get_image_info_fn\n",
    "from facebook_hateful_memes_detector.preprocessing import get_transforms_for_bbox_methods\n",
    "from facebook_hateful_memes_detector.preprocessing import get_transforms_for_multiview\n",
    "from time import sleep\n",
    "from collections import OrderedDict\n",
    "\n",
    "df = pd.concat((data[\"train\"],\n",
    "                data['dev_unseen'],\n",
    "                data[\"test\"], data['test_unseen']))\n",
    "\n",
    "dataset = convert_dataframe_to_dataset(df, data[\"metadata\"], False)\n",
    "\n",
    "vg_classes = pd.read_csv(\"https://raw.githubusercontent.com/peteanderson80/bottom-up-attention/master/data/genome/1600-400-20/objects_vocab.txt\", engine=\"python\", header=None, sep=\"\\t\", names=[\"classes\"])\n",
    "vg_classes = np.array([\"N/A\"] + list(vg_classes.classes))\n",
    "get_captioning_fn = get_image_info_fn(enable_encoder_feats=True, enable_image_captions=True)[\"get_image_captions\"]\n",
    "get_img_details = get_image_info_fn(enable_encoder_feats=False, device=get_device())[\"get_img_details\"]\n",
    "\n",
    "image_classes = []\n",
    "for elem, row in tqdm(zip(iter(dataset),df.iterrows()), total=len(dataset)):\n",
    "    identifier = row[1][\"id\"]\n",
    "    image = elem[\"original_image\"]\n",
    "    feats, info = get_img_details(image)\n",
    "    cls = info[\"cls_prob\"].argmax(axis=1)\n",
    "    detected_classes = vg_classes[cls]\n",
    "    detected_classes = list(OrderedDict((i, 0) for i in detected_classes).keys())\n",
    "    detected_classes = [d.replace(\",\",' ') for d in detected_classes if d not in [\"N/A\",\"background\"]]\n",
    "    captions = get_captioning_fn(image)\n",
    "    captions = list(sorted(captions, key=lambda x:len(x.split()), reverse=True))[0]\n",
    "    image_classes.append([identifier, \" \".join(detected_classes[:10]), captions])\n",
    "    \n",
    "    \n",
    "    \n",
    "    \n",
    "    \n",
    "    \n",
    "    \n",
    "    "
   ]
  },
  {
   "cell_type": "code",
   "execution_count": 8,
   "metadata": {
    "ExecuteTime": {
     "end_time": "2020-10-14T19:30:27.935615Z",
     "start_time": "2020-10-14T19:30:27.932024Z"
    }
   },
   "outputs": [
    {
     "data": {
      "text/plain": [
       "[16952,\n",
       " 'socks hair sock shoe jersey number shirt man stripe pants',\n",
       " 'a group of men standing next to each other on a field']"
      ]
     },
     "execution_count": 8,
     "metadata": {},
     "output_type": "execute_result"
    }
   ],
   "source": [
    "image_classes[5]"
   ]
  },
  {
   "cell_type": "code",
   "execution_count": 9,
   "metadata": {
    "ExecuteTime": {
     "end_time": "2020-10-14T19:32:46.490029Z",
     "start_time": "2020-10-14T19:32:46.480009Z"
    }
   },
   "outputs": [],
   "source": [
    "imdf = pd.DataFrame(image_classes, columns=[\"id\",\"objects\",\"caption\"])"
   ]
  },
  {
   "cell_type": "code",
   "execution_count": 13,
   "metadata": {
    "ExecuteTime": {
     "end_time": "2020-10-14T19:34:22.043070Z",
     "start_time": "2020-10-14T19:34:21.990055Z"
    }
   },
   "outputs": [],
   "source": [
    "imdf.to_csv(\"/home/ahemf/cache/data/objects_captions.csv\", index=False)"
   ]
  },
  {
   "cell_type": "code",
   "execution_count": 14,
   "metadata": {
    "ExecuteTime": {
     "end_time": "2020-10-14T19:35:23.757874Z",
     "start_time": "2020-10-14T19:35:23.749120Z"
    }
   },
   "outputs": [
    {
     "data": {
      "text/html": [
       "<div>\n",
       "<style scoped>\n",
       "    .dataframe tbody tr th:only-of-type {\n",
       "        vertical-align: middle;\n",
       "    }\n",
       "\n",
       "    .dataframe tbody tr th {\n",
       "        vertical-align: top;\n",
       "    }\n",
       "\n",
       "    .dataframe thead th {\n",
       "        text-align: right;\n",
       "    }\n",
       "</style>\n",
       "<table border=\"1\" class=\"dataframe\">\n",
       "  <thead>\n",
       "    <tr style=\"text-align: right;\">\n",
       "      <th></th>\n",
       "      <th>id</th>\n",
       "      <th>objects</th>\n",
       "      <th>caption</th>\n",
       "    </tr>\n",
       "  </thead>\n",
       "  <tbody>\n",
       "    <tr>\n",
       "      <th>9869</th>\n",
       "      <td>9513</td>\n",
       "      <td>dog hair ear tail hand pants boy grass head nose</td>\n",
       "      <td>a boy holding a white dog with a frisbee in hi...</td>\n",
       "    </tr>\n",
       "    <tr>\n",
       "      <th>5514</th>\n",
       "      <td>34609</td>\n",
       "      <td>hair ear nose face neck eye grass man mouth head</td>\n",
       "      <td>a shirtless man without a shirt in a grassy field</td>\n",
       "    </tr>\n",
       "    <tr>\n",
       "      <th>4933</th>\n",
       "      <td>90468</td>\n",
       "      <td>nose tongue dog eye ear mouth head ears eyes c...</td>\n",
       "      <td>a dog with its tongue out sitting in the grass</td>\n",
       "    </tr>\n",
       "    <tr>\n",
       "      <th>2166</th>\n",
       "      <td>51237</td>\n",
       "      <td>nose hand ear shirt face man plate table mouth...</td>\n",
       "      <td>a man sitting at a table with a plate of food ...</td>\n",
       "    </tr>\n",
       "    <tr>\n",
       "      <th>5439</th>\n",
       "      <td>81942</td>\n",
       "      <td>man beard nose ear eyes face eye scarf mustach...</td>\n",
       "      <td>a man with a beard and a beard with a beard</td>\n",
       "    </tr>\n",
       "  </tbody>\n",
       "</table>\n",
       "</div>"
      ],
      "text/plain": [
       "         id                                            objects  \\\n",
       "9869   9513   dog hair ear tail hand pants boy grass head nose   \n",
       "5514  34609   hair ear nose face neck eye grass man mouth head   \n",
       "4933  90468  nose tongue dog eye ear mouth head ears eyes c...   \n",
       "2166  51237  nose hand ear shirt face man plate table mouth...   \n",
       "5439  81942  man beard nose ear eyes face eye scarf mustach...   \n",
       "\n",
       "                                                caption  \n",
       "9869  a boy holding a white dog with a frisbee in hi...  \n",
       "5514  a shirtless man without a shirt in a grassy field  \n",
       "4933     a dog with its tongue out sitting in the grass  \n",
       "2166  a man sitting at a table with a plate of food ...  \n",
       "5439        a man with a beard and a beard with a beard  "
      ]
     },
     "execution_count": 14,
     "metadata": {},
     "output_type": "execute_result"
    }
   ],
   "source": [
    "imdf.sample(5)"
   ]
  },
  {
   "cell_type": "code",
   "execution_count": null,
   "metadata": {
    "ExecuteTime": {
     "end_time": "2020-10-11T19:41:51.798275Z",
     "start_time": "2020-10-11T19:41:50.020885Z"
    }
   },
   "outputs": [],
   "source": [
    "img = Image.open(\"input.jpg\")\n",
    "im_transform = get_transforms_for_bbox_methods()\n",
    "from facebook_hateful_memes_detector.preprocessing import HalfSwap, QuadrantCut, DefinedRotation, DefinedAffine\n",
    "# im_transform = transforms.RandomAffine(0, scale=(1.25, 1.25))\n",
    "hashes = Parallel(n_jobs=8, backend='threading')(delayed(lambda i: hash(im_transform(i)))(img.copy()) for i in trange(1000))\n",
    "hashes = set(hashes)\n",
    "len(hashes)\n",
    "\n",
    "\n"
   ]
  },
  {
   "cell_type": "code",
   "execution_count": null,
   "metadata": {
    "ExecuteTime": {
     "end_time": "2020-10-11T13:02:23.242781Z",
     "start_time": "2020-10-11T13:02:23.120218Z"
    }
   },
   "outputs": [],
   "source": [
    "im = Image.open(\"input.jpg\")\n",
    "im_transform(im)"
   ]
  },
  {
   "cell_type": "code",
   "execution_count": null,
   "metadata": {
    "ExecuteTime": {
     "end_time": "2020-10-11T11:55:37.734277Z",
     "start_time": "2020-10-11T11:55:29.364624Z"
    }
   },
   "outputs": [],
   "source": [
    "%timeit im_transform(im)"
   ]
  },
  {
   "cell_type": "code",
   "execution_count": null,
   "metadata": {
    "ExecuteTime": {
     "start_time": "2020-07-12T19:31:22.782Z"
    }
   },
   "outputs": [],
   "source": [
    "fns = get_image_info_fn(enable_encoder_feats=True, enable_image_captions=False)\n",
    "cache_fns = [fns[\"get_img_details\"], fns[\"get_encoder_feats\"], \n",
    "             fns[\"get_lxmert_details\"], \n",
    "             get_detr_model(get_device(), \"detr_resnet50\")[\"detr_fn\"], \n",
    "             get_detr_model(get_device(), \"detr_resnet50_panoptic\")[\"detr_fn\"], lambda x: x]\n",
    "\n",
    "images = list(data[\"train\"].img.values) + list(data[\"test\"].img.values)\n",
    "try:\n",
    "    from torch.cuda.amp import GradScaler, autocast\n",
    "    scaler = GradScaler()\n",
    "    use_autocast = \"cuda\" in str(get_device())\n",
    "except:\n",
    "    pass\n",
    "for i in tqdm(images):\n",
    "    img = Image.open(i)\n",
    "    for k, aug in augs_dict.items():\n",
    "        for _ in range(16):\n",
    "            img_copy = aug(img.copy())\n",
    "            for fn in cache_fns:\n",
    "                with autocast():\n",
    "                    _ = fn(img_copy)\n",
    "    \n",
    "\n",
    "\n",
    "\n",
    "# We need Qcut for robustness\n",
    "# We need DefinedAffine translate since in this problem we care about presence of object not position\n",
    "# We need Image models trained on classification which only care about presence not position\n"
   ]
  },
  {
   "cell_type": "code",
   "execution_count": null,
   "metadata": {
    "ExecuteTime": {
     "end_time": "2020-07-11T08:32:19.276925Z",
     "start_time": "2020-07-11T08:32:16.252218Z"
    }
   },
   "outputs": [],
   "source": [
    "from transformers import AutoModelWithLMHead, AutoTokenizer, AutoModel\n",
    "tokenizer = AutoTokenizer.from_pretrained(\"distilroberta-base\")\n",
    "texts = pd.read_csv(\"text.csv\", header=None)[0].values\n",
    "\n",
    "m = lambda x: tokenizer.encode_plus(x, add_special_tokens=True, pad_to_max_length=False, truncation=False)\n",
    "tlens = [len(d['input_ids']) for d in map(m, texts)]\n",
    "\n",
    "np.percentile(tlens, [97, 99, 99.5, 99.9, 100])\n"
   ]
  },
  {
   "cell_type": "code",
   "execution_count": null,
   "metadata": {},
   "outputs": [],
   "source": [
    "device = torch.device(\"cuda\" if torch.cuda.is_available() else \"cpu\")\n",
    "set_device(device)\n",
    "\n",
    "from facebook_hateful_memes_detector.utils import get_image_info_fn\n",
    "\n"
   ]
  },
  {
   "cell_type": "code",
   "execution_count": null,
   "metadata": {
    "ExecuteTime": {
     "end_time": "2020-06-22T18:48:53.053410Z",
     "start_time": "2020-06-22T18:48:52.971861Z"
    }
   },
   "outputs": [],
   "source": [
    "torchvision.transforms.RandomPerspective(p=1.0)(Image.open(\"input.jpg\"))"
   ]
  },
  {
   "cell_type": "code",
   "execution_count": 10,
   "metadata": {
    "ExecuteTime": {
     "end_time": "2020-10-14T10:54:42.161160Z",
     "start_time": "2020-10-14T10:54:42.043579Z"
    }
   },
   "outputs": [
    {
     "name": "stderr",
     "output_type": "stream",
     "text": [
      "Config '/local/home/ahemf/mygit/facebook-hateful-memes/facebook_hateful_memes_detector/utils/faster_rcnn_R_101_C4_attr_caffemaxpool.yaml' has no VERSION. Assuming it to be compatible with latest v2.\n"
     ]
    }
   ],
   "source": [
    "fns = get_image_info_fn(enable_encoder_feats=True, enable_image_captions=True)\n"
   ]
  },
  {
   "cell_type": "code",
   "execution_count": 11,
   "metadata": {
    "ExecuteTime": {
     "end_time": "2020-10-14T10:54:46.834863Z",
     "start_time": "2020-10-14T10:54:43.929569Z"
    },
    "scrolled": false
   },
   "outputs": [
    {
     "name": "stdout",
     "output_type": "stream",
     "text": [
      "ImageCaptionFeatures : Loaded Model...\n"
     ]
    },
    {
     "data": {
      "text/plain": [
       "['a man in a black shirt and tie',\n",
       " 'a man is standing in front of a sign',\n",
       " 'a man in a black shirt and a tie',\n",
       " 'a man in black shirt and tie looking at something',\n",
       " 'a man in a black shirt and tie looking at the camera']"
      ]
     },
     "execution_count": 11,
     "metadata": {},
     "output_type": "execute_result"
    }
   ],
   "source": [
    "fns[\"get_image_captions\"](dataset[0]['original_image'])\n",
    "# fns[\"get_image_captions\"](\"../data/img/08291.png\")"
   ]
  },
  {
   "cell_type": "code",
   "execution_count": null,
   "metadata": {},
   "outputs": [],
   "source": []
  },
  {
   "cell_type": "code",
   "execution_count": null,
   "metadata": {
    "ExecuteTime": {
     "end_time": "2020-07-26T09:20:42.500399Z",
     "start_time": "2020-07-26T09:20:34.811763Z"
    }
   },
   "outputs": [],
   "source": [
    "from facebook_hateful_memes_detector.utils.detectron_v1_object_detector import LXMERTFeatureExtractor, persistent_caching_fn\n",
    "lxmert_feature_extractor = LXMERTFeatureExtractor(get_device(), do_autocast=False)\n",
    "def fn(x):\n",
    "    return x\n",
    "fn = persistent_caching_fn(fn, \"random_2323\", False)\n",
    "fn(2)\n",
    "img = Image.open(\"input.jpg\")\n",
    "from torch.cuda.amp import autocast\n",
    "\n",
    "feats = lxmert_feature_extractor(img)  \n",
    "\n",
    "feats[0].scores.mean()\n",
    "feats[1].mean()\n",
    "feats[0].pred_boxes\n",
    "feats[0].scores\n",
    "\n",
    "\n",
    "\n",
    "\n",
    "\n",
    "\n",
    "\n"
   ]
  },
  {
   "cell_type": "code",
   "execution_count": null,
   "metadata": {
    "ExecuteTime": {
     "end_time": "2020-07-23T10:43:08.075599Z",
     "start_time": "2020-07-23T10:43:07.962756Z"
    },
    "scrolled": true
   },
   "outputs": [],
   "source": [
    "from facebook_hateful_memes_detector.utils.detectron_v1_object_detector import LXMERTFeatureExtractor\n",
    "lxmert_feature_extractor = LXMERTFeatureExtractor(get_device())\n",
    "img = Image.open(\"input.jpg\")\n",
    "from torch.cuda.amp import autocast\n",
    "with autocast():\n",
    "    feats = lxmert_feature_extractor(img)  \n",
    "len(feats)\n",
    "feats[0].scores.mean()\n",
    "feats[1].mean()\n",
    "feats[0].pred_boxes\n",
    "feats[0].scores\n",
    "\n",
    "\n",
    "\n",
    "\n",
    "\n",
    "\n",
    "\n"
   ]
  },
  {
   "cell_type": "code",
   "execution_count": null,
   "metadata": {
    "ExecuteTime": {
     "end_time": "2020-06-23T11:56:48.616651Z",
     "start_time": "2020-06-23T11:56:41.485207Z"
    },
    "scrolled": false
   },
   "outputs": [],
   "source": [
    "res, info = fns[\"feature_extractor\"](Image.open(\"../data/img/08291.png\"))\n",
    "res[:2, :8]\n",
    "info[\"boxes\"][:4]\n",
    "info[\"objects\"]\n"
   ]
  },
  {
   "cell_type": "code",
   "execution_count": null,
   "metadata": {},
   "outputs": [],
   "source": []
  },
  {
   "cell_type": "code",
   "execution_count": null,
   "metadata": {
    "ExecuteTime": {
     "end_time": "2020-06-23T11:56:34.048809Z",
     "start_time": "2020-06-23T11:56:34.003492Z"
    },
    "scrolled": false
   },
   "outputs": [],
   "source": [
    "res, info = fns[\"get_img_details\"](Image.open(\"../data/img/08291.png\"))\n",
    "res[:2, :8]\n",
    "info[\"boxes\"][:4]\n",
    "info[\"objects\"]\n"
   ]
  },
  {
   "cell_type": "code",
   "execution_count": null,
   "metadata": {
    "ExecuteTime": {
     "end_time": "2020-06-23T08:27:05.795956Z",
     "start_time": "2020-06-23T08:27:05.714646Z"
    }
   },
   "outputs": [],
   "source": [
    "im = im_transform(Image.open(\"input.jpg\"))\n",
    "im"
   ]
  },
  {
   "cell_type": "code",
   "execution_count": null,
   "metadata": {
    "ExecuteTime": {
     "end_time": "2020-06-23T08:27:11.730520Z",
     "start_time": "2020-06-23T08:27:11.561639Z"
    }
   },
   "outputs": [],
   "source": [
    "instances, roi_features = fns[\"get_lxmert_details\"](im)\n",
    "instances.pred_boxes.tensor # boxes\n",
    "roi_features # feats\n",
    "# (feats, boxes)"
   ]
  },
  {
   "cell_type": "code",
   "execution_count": null,
   "metadata": {
    "ExecuteTime": {
     "end_time": "2020-06-23T08:32:07.896872Z",
     "start_time": "2020-06-23T08:32:07.885094Z"
    }
   },
   "outputs": [],
   "source": [
    "fns[\"get_encoder_feats\"](\"../data/img/08291.png\")\n"
   ]
  }
 ],
 "metadata": {
  "kernelspec": {
   "display_name": "Python 3",
   "language": "python",
   "name": "python3"
  },
  "language_info": {
   "codemirror_mode": {
    "name": "ipython",
    "version": 3
   },
   "file_extension": ".py",
   "mimetype": "text/x-python",
   "name": "python",
   "nbconvert_exporter": "python",
   "pygments_lexer": "ipython3",
   "version": "3.7.6"
  },
  "toc": {
   "base_numbering": 1,
   "nav_menu": {},
   "number_sections": true,
   "sideBar": true,
   "skip_h1_title": false,
   "title_cell": "Table of Contents",
   "title_sidebar": "Contents",
   "toc_cell": false,
   "toc_position": {},
   "toc_section_display": true,
   "toc_window_display": false
  }
 },
 "nbformat": 4,
 "nbformat_minor": 4
}
