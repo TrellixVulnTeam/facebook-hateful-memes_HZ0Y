{
 "cells": [
  {
   "cell_type": "code",
   "execution_count": null,
   "metadata": {
    "ExecuteTime": {
     "end_time": "2020-06-17T07:18:55.533214Z",
     "start_time": "2020-06-17T07:17:57.526952Z"
    },
    "scrolled": true
   },
   "outputs": [],
   "source": [
    "%cd /local/home/ahemf/mygit/facebook-hateful-memes/notebooks/\n",
    "%pwd\n",
    "!pip uninstall -y maskrcnn_benchmark\n",
    "!rm -rf vqa-maskrcnn-benchmark\n",
    "!git clone https://gitlab.com/vedanuj/vqa-maskrcnn-benchmark.git\n",
    "# !sed -i '/from maskrcnn_benchmark import _C/c\\from ._utils import _C' maskrcnn_benchmark/layers/nms.py\n",
    "!cat maskrcnn_benchmark/layers/nms.py\n",
    "%cd vqa-maskrcnn-benchmark\n",
    "\n",
    "# %sed -i '/from maskrcnn_benchmark import _C/c\\from ._utils import _C' layers/nms.py\n",
    "# %cat layers/nms.py\n",
    "%pwd\n",
    "!python setup.py build\n",
    "!python setup.py develop\n",
    "!wget -O detectron_model.pth wget https://dl.fbaipublicfiles.com/vilbert-multi-task/detectron_model.pth\n",
    "!wget -O detectron_model.yaml wget https://dl.fbaipublicfiles.com/vilbert-multi-task/detectron_config.yaml\n",
    "\n",
    "import sys\n",
    "import os\n",
    "DIR = os.getcwd()\n",
    "sys.path.append(f'{DIR}/vqa-maskrcnn-benchmark')\n"
   ]
  },
  {
   "cell_type": "code",
   "execution_count": null,
   "metadata": {
    "ExecuteTime": {
     "end_time": "2020-06-17T07:23:57.803777Z",
     "start_time": "2020-06-17T07:21:27.367177Z"
    }
   },
   "outputs": [],
   "source": [
    "# %pip install git+https://github.com/faizanahemad/ImageCaptioning.pytorch.git\n",
    "%pip install gdown\n",
    "!gdown --id 1VmUzgu0qlmCMqM1ajoOZxOXP3hiC_qlL\n",
    "!gdown --id 1zQe00W02veVYq-hdq5WsPOS3OPkNdq79\n",
    "!pip install yacs\n",
    "\n",
    "\n",
    "\n",
    "%cd ..\n",
    "%mkdir model_data\n",
    "!pip uninstall -y captioning\n",
    "%pip install git+https://github.com/faizanahemad/ImageCaptioning.pytorch.git\n"
   ]
  },
  {
   "cell_type": "code",
   "execution_count": 1,
   "metadata": {
    "ExecuteTime": {
     "end_time": "2020-06-23T18:36:06.068527Z",
     "start_time": "2020-06-23T18:36:03.326734Z"
    }
   },
   "outputs": [],
   "source": [
    "import pandas as pd\n",
    "import numpy as np\n",
    "\n",
    "from PIL import Image\n",
    "from IPython.display import display, HTML, clear_output\n",
    "from IPython.core.interactiveshell import InteractiveShell\n",
    "InteractiveShell.ast_node_interactivity = \"all\"\n",
    "\n",
    "import sys\n",
    "import os\n",
    "DIR = os.getcwd()\n",
    "import torch\n",
    "import torchvision\n",
    "from facebook_hateful_memes_detector.preprocessing import DefinedRotation, QuadrantCut\n",
    "from PIL import Image\n",
    "from facebook_hateful_memes_detector.utils import get_image_info_fn, set_device, get_device\n",
    "\n",
    "\n",
    "def print_code(func):\n",
    "    import inspect\n",
    "    from pygments import highlight\n",
    "    from pygments.lexers import PythonLexer\n",
    "    from pygments.formatters import TerminalFormatter\n",
    "\n",
    "    code = \"\".join(inspect.getsourcelines(func)[0])\n",
    "    print(highlight(code, PythonLexer(), TerminalFormatter()))\n",
    "\n",
    "set_device('cpu')\n"
   ]
  },
  {
   "cell_type": "code",
   "execution_count": 2,
   "metadata": {
    "ExecuteTime": {
     "end_time": "2020-06-23T18:36:08.214562Z",
     "start_time": "2020-06-23T18:36:07.092741Z"
    }
   },
   "outputs": [
    {
     "ename": "ModuleNotFoundError",
     "evalue": "No module named 'util'",
     "output_type": "error",
     "traceback": [
      "\u001b[0;31m---------------------------------------------------------------------------\u001b[0m",
      "\u001b[0;31mModuleNotFoundError\u001b[0m                       Traceback (most recent call last)",
      "\u001b[0;32m<ipython-input-2-b356f2f8559e>\u001b[0m in \u001b[0;36m<module>\u001b[0;34m\u001b[0m\n\u001b[1;32m      1\u001b[0m \u001b[0;32mfrom\u001b[0m \u001b[0mfacebook_hateful_memes_detector\u001b[0m\u001b[0;34m.\u001b[0m\u001b[0mmodels\u001b[0m\u001b[0;34m.\u001b[0m\u001b[0mexternal\u001b[0m\u001b[0;34m.\u001b[0m\u001b[0mdetr\u001b[0m \u001b[0;32mimport\u001b[0m \u001b[0mDETR\u001b[0m\u001b[0;34m\u001b[0m\u001b[0;34m\u001b[0m\u001b[0m\n\u001b[0;32m----> 2\u001b[0;31m \u001b[0mdetr\u001b[0m \u001b[0;34m=\u001b[0m \u001b[0mDETR\u001b[0m\u001b[0;34m(\u001b[0m\u001b[0mget_device\u001b[0m\u001b[0;34m(\u001b[0m\u001b[0;34m)\u001b[0m\u001b[0;34m)\u001b[0m\u001b[0;34m\u001b[0m\u001b[0;34m\u001b[0m\u001b[0m\n\u001b[0m",
      "\u001b[0;32m/local/home/ahemf/mygit/facebook-hateful-memes/facebook_hateful_memes_detector/models/external/detr/__init__.py\u001b[0m in \u001b[0;36m__init__\u001b[0;34m(self, device, im_size, num_tokens_out)\u001b[0m\n\u001b[1;32m    209\u001b[0m                                resume=\"https://dl.fbaipublicfiles.com/detr/detr-r50-e632da11.pth\", eval=True, num_workers=1)\n\u001b[1;32m    210\u001b[0m \u001b[0;34m\u001b[0m\u001b[0m\n\u001b[0;32m--> 211\u001b[0;31m         \u001b[0;32mfrom\u001b[0m \u001b[0;34m.\u001b[0m\u001b[0mdetr\u001b[0m\u001b[0;34m.\u001b[0m\u001b[0mmodels\u001b[0m \u001b[0;32mimport\u001b[0m \u001b[0mbuild_model\u001b[0m\u001b[0;34m\u001b[0m\u001b[0;34m\u001b[0m\u001b[0m\n\u001b[0m\u001b[1;32m    212\u001b[0m         \u001b[0mmodel\u001b[0m\u001b[0;34m,\u001b[0m \u001b[0m_\u001b[0m\u001b[0;34m,\u001b[0m \u001b[0mpostprocessors\u001b[0m \u001b[0;34m=\u001b[0m \u001b[0mbuild_model\u001b[0m\u001b[0;34m(\u001b[0m\u001b[0margs\u001b[0m\u001b[0;34m)\u001b[0m\u001b[0;34m\u001b[0m\u001b[0;34m\u001b[0m\u001b[0m\n\u001b[1;32m    213\u001b[0m         \u001b[0mmodel\u001b[0m\u001b[0;34m.\u001b[0m\u001b[0mto\u001b[0m\u001b[0;34m(\u001b[0m\u001b[0mself\u001b[0m\u001b[0;34m.\u001b[0m\u001b[0mdevice\u001b[0m\u001b[0;34m)\u001b[0m\u001b[0;34m\u001b[0m\u001b[0;34m\u001b[0m\u001b[0m\n",
      "\u001b[0;32m/local/home/ahemf/mygit/facebook-hateful-memes/facebook_hateful_memes_detector/models/external/detr/detr/models/__init__.py\u001b[0m in \u001b[0;36m<module>\u001b[0;34m\u001b[0m\n\u001b[1;32m      1\u001b[0m \u001b[0;31m# Copyright (c) Facebook, Inc. and its affiliates. All Rights Reserved\u001b[0m\u001b[0;34m\u001b[0m\u001b[0;34m\u001b[0m\u001b[0;34m\u001b[0m\u001b[0m\n\u001b[0;32m----> 2\u001b[0;31m \u001b[0;32mfrom\u001b[0m \u001b[0;34m.\u001b[0m\u001b[0mdetr\u001b[0m \u001b[0;32mimport\u001b[0m \u001b[0mbuild\u001b[0m\u001b[0;34m\u001b[0m\u001b[0;34m\u001b[0m\u001b[0m\n\u001b[0m\u001b[1;32m      3\u001b[0m \u001b[0;34m\u001b[0m\u001b[0m\n\u001b[1;32m      4\u001b[0m \u001b[0;34m\u001b[0m\u001b[0m\n\u001b[1;32m      5\u001b[0m \u001b[0;32mdef\u001b[0m \u001b[0mbuild_model\u001b[0m\u001b[0;34m(\u001b[0m\u001b[0margs\u001b[0m\u001b[0;34m)\u001b[0m\u001b[0;34m:\u001b[0m\u001b[0;34m\u001b[0m\u001b[0;34m\u001b[0m\u001b[0m\n",
      "\u001b[0;32m/local/home/ahemf/mygit/facebook-hateful-memes/facebook_hateful_memes_detector/models/external/detr/detr/models/detr.py\u001b[0m in \u001b[0;36m<module>\u001b[0;34m\u001b[0m\n\u001b[1;32m      7\u001b[0m \u001b[0;32mfrom\u001b[0m \u001b[0mtorch\u001b[0m \u001b[0;32mimport\u001b[0m \u001b[0mnn\u001b[0m\u001b[0;34m\u001b[0m\u001b[0;34m\u001b[0m\u001b[0m\n\u001b[1;32m      8\u001b[0m \u001b[0;34m\u001b[0m\u001b[0m\n\u001b[0;32m----> 9\u001b[0;31m \u001b[0;32mfrom\u001b[0m \u001b[0mutil\u001b[0m \u001b[0;32mimport\u001b[0m \u001b[0mbox_ops\u001b[0m\u001b[0;34m\u001b[0m\u001b[0;34m\u001b[0m\u001b[0m\n\u001b[0m\u001b[1;32m     10\u001b[0m from util.misc import (NestedTensor, nested_tensor_from_tensor_list,\n\u001b[1;32m     11\u001b[0m                        \u001b[0maccuracy\u001b[0m\u001b[0;34m,\u001b[0m \u001b[0mget_world_size\u001b[0m\u001b[0;34m,\u001b[0m \u001b[0minterpolate\u001b[0m\u001b[0;34m,\u001b[0m\u001b[0;34m\u001b[0m\u001b[0;34m\u001b[0m\u001b[0m\n",
      "\u001b[0;31mModuleNotFoundError\u001b[0m: No module named 'util'"
     ]
    }
   ],
   "source": [
    "from facebook_hateful_memes_detector.models.external.detr import DETR\n",
    "detr = DETR(get_device())\n"
   ]
  },
  {
   "cell_type": "code",
   "execution_count": null,
   "metadata": {},
   "outputs": [],
   "source": []
  },
  {
   "cell_type": "code",
   "execution_count": null,
   "metadata": {
    "ExecuteTime": {
     "end_time": "2020-06-21T20:32:49.596237Z",
     "start_time": "2020-06-21T20:32:49.333835Z"
    }
   },
   "outputs": [],
   "source": [
    "!wget https://raw.githubusercontent.com/airsplay/py-bottom-up-attention/master/demo/data/images/input.jpg\n"
   ]
  },
  {
   "cell_type": "code",
   "execution_count": 2,
   "metadata": {
    "ExecuteTime": {
     "end_time": "2020-06-23T11:51:39.227205Z",
     "start_time": "2020-06-23T11:51:39.216433Z"
    }
   },
   "outputs": [],
   "source": [
    "im_transform = torchvision.transforms.RandomChoice([torchvision.transforms.Grayscale(num_output_channels=3), torchvision.transforms.RandomHorizontalFlip(p=1.0), \n",
    "                                    DefinedRotation(15), QuadrantCut(), lambda x: x])"
   ]
  },
  {
   "cell_type": "code",
   "execution_count": null,
   "metadata": {
    "ExecuteTime": {
     "end_time": "2020-06-23T08:24:09.543310Z",
     "start_time": "2020-06-23T08:24:09.383693Z"
    }
   },
   "outputs": [],
   "source": [
    "im_transform(Image.open(\"input.jpg\"))"
   ]
  },
  {
   "cell_type": "code",
   "execution_count": null,
   "metadata": {
    "ExecuteTime": {
     "end_time": "2020-06-22T18:48:53.053410Z",
     "start_time": "2020-06-22T18:48:52.971861Z"
    }
   },
   "outputs": [],
   "source": [
    "torchvision.transforms.RandomPerspective(p=1.0)(Image.open(\"input.jpg\"))"
   ]
  },
  {
   "cell_type": "code",
   "execution_count": 4,
   "metadata": {
    "ExecuteTime": {
     "end_time": "2020-06-23T11:51:46.985990Z",
     "start_time": "2020-06-23T11:51:46.940292Z"
    }
   },
   "outputs": [
    {
     "name": "stderr",
     "output_type": "stream",
     "text": [
      "Config '/local/home/ahemf/mygit/facebook-hateful-memes/facebook_hateful_memes_detector/utils/faster_rcnn_R_101_C4_attr_caffemaxpool.yaml' has no VERSION. Assuming it to be compatible with latest v2.\n"
     ]
    }
   ],
   "source": [
    "fns = get_image_info_fn(enable_encoder_feats=True, enable_image_captions=True)\n"
   ]
  },
  {
   "cell_type": "code",
   "execution_count": 9,
   "metadata": {
    "ExecuteTime": {
     "end_time": "2020-06-23T11:56:48.616651Z",
     "start_time": "2020-06-23T11:56:41.485207Z"
    },
    "scrolled": false
   },
   "outputs": [
    {
     "data": {
      "text/plain": [
       "tensor([[ 0.0000,  4.0681,  0.0000,  0.0000,  6.1578,  9.3466,  0.0000,  0.0000],\n",
       "        [ 0.0000,  0.0000,  0.0000,  0.0000, 19.3470,  0.0000,  0.0000,  0.0000]])"
      ]
     },
     "execution_count": 9,
     "metadata": {},
     "output_type": "execute_result"
    },
    {
     "data": {
      "text/plain": [
       "array([[274.356  , 245.17194, 482.75903, 478.62283],\n",
       "       [464.95288, 242.99124, 814.4191 , 507.37842],\n",
       "       [446.2343 ,  72.23443, 833.1075 , 569.58746],\n",
       "       [245.07552,  51.55629, 429.297  , 233.34947]], dtype=float32)"
      ]
     },
     "execution_count": 9,
     "metadata": {},
     "output_type": "execute_result"
    },
    {
     "data": {
      "text/plain": [
       "array([ 52, 227, 120,  52, 227,  52,  52,   0, 365, 120, 227,   0,   0,\n",
       "         0, 227,   0,   0,   0,   0,   0,   0,   0,   0, 120,   0,   0,\n",
       "         0,   0,   0,   0,   0, 510,   0,   0, 227,   0,   0, 227,   0,\n",
       "         0,   0, 227,   0,   0, 227,   0,   0, 227,   0,   0,   0,   0,\n",
       "         0,   0,   0,   0,   0,   0,   0, 227,   0,   0,   0,   0,   0,\n",
       "         0,   0,   0,  52,   0,   0,   0,   0,   0,   0,   0,   0,   0,\n",
       "         0,   0, 227,   0,   0,   0,   0,   0,   0,   0,   0,   0,   0,\n",
       "         0,   0,   0,  52,   0,   0,   0,   0])"
      ]
     },
     "execution_count": 9,
     "metadata": {},
     "output_type": "execute_result"
    }
   ],
   "source": [
    "res, info = fns[\"feature_extractor\"](Image.open(\"../data/img/08291.png\"))\n",
    "res[:2, :8]\n",
    "info[\"boxes\"][:4]\n",
    "info[\"objects\"]\n"
   ]
  },
  {
   "cell_type": "code",
   "execution_count": null,
   "metadata": {},
   "outputs": [],
   "source": []
  },
  {
   "cell_type": "code",
   "execution_count": 8,
   "metadata": {
    "ExecuteTime": {
     "end_time": "2020-06-23T11:56:34.048809Z",
     "start_time": "2020-06-23T11:56:34.003492Z"
    },
    "scrolled": false
   },
   "outputs": [
    {
     "data": {
      "text/plain": [
       "tensor([[0.0000, 3.1754, 0.0000, 0.0000, 2.3690, 8.6731, 0.0000, 0.0000],\n",
       "        [0.0000, 0.0000, 0.0000, 0.0000, 4.1627, 2.1554, 0.0000, 0.0000]])"
      ]
     },
     "execution_count": 8,
     "metadata": {},
     "output_type": "execute_result"
    },
    {
     "data": {
      "text/plain": [
       "array([[271.8734 , 242.58258, 477.367  , 483.0695 ],\n",
       "       [515.4416 , 480.6227 , 707.6861 , 548.3137 ],\n",
       "       [207.75957, 285.3643 , 452.54108, 548.3137 ],\n",
       "       [610.19604,  86.59137, 752.1002 , 217.54742]], dtype=float32)"
      ]
     },
     "execution_count": 8,
     "metadata": {},
     "output_type": "execute_result"
    },
    {
     "data": {
      "text/plain": [
       "array([  48,   52,  120,  120,  120,  662,  227,  224,  120,   52,   52,\n",
       "        227,  120, 1322,   52,   52,   91,  441,   52,  227,  373,  243,\n",
       "        373,  227,  227,  243,  771,   99,    0,  243,  227,  662,    0,\n",
       "          0,  120,    0,  585,    0,  192,   52,    0,  243,    0,  227,\n",
       "          0,  227,  208,    0,    0,    0,    0,  441,    0,   99,    0,\n",
       "          0,    0,    0,    0,    0,    0,    0,    0,    0,    0,    0,\n",
       "          0,    0,    0,    0,    0,    0,    0,  771,    0,    0,    0,\n",
       "          0,    0,    0,    0,    0,    0,    0,    0,    0,    0,   91,\n",
       "        510,    0,    0,    0,  224,    0,    0,   91,    0,    0,  243])"
      ]
     },
     "execution_count": 8,
     "metadata": {},
     "output_type": "execute_result"
    }
   ],
   "source": [
    "res, info = fns[\"get_img_details\"](Image.open(\"../data/img/08291.png\"))\n",
    "res[:2, :8]\n",
    "info[\"boxes\"][:4]\n",
    "info[\"objects\"]\n"
   ]
  },
  {
   "cell_type": "code",
   "execution_count": 11,
   "metadata": {
    "ExecuteTime": {
     "end_time": "2020-06-23T11:58:59.505064Z",
     "start_time": "2020-06-23T11:58:57.659942Z"
    },
    "scrolled": false
   },
   "outputs": [
    {
     "data": {
      "text/plain": [
       "['two young boys are smiling for the camera',\n",
       " 'two young boys are smiling at the camera',\n",
       " 'two young boys standing next to each other',\n",
       " 'two little boys standing next to each other',\n",
       " 'two young boys standing next to each other with food']"
      ]
     },
     "execution_count": 11,
     "metadata": {},
     "output_type": "execute_result"
    }
   ],
   "source": [
    "fns[\"get_image_captions\"](\"../data/img/08291.png\")"
   ]
  },
  {
   "cell_type": "code",
   "execution_count": null,
   "metadata": {
    "ExecuteTime": {
     "end_time": "2020-06-23T08:27:05.795956Z",
     "start_time": "2020-06-23T08:27:05.714646Z"
    }
   },
   "outputs": [],
   "source": [
    "im = im_transform(Image.open(\"input.jpg\"))\n",
    "im"
   ]
  },
  {
   "cell_type": "code",
   "execution_count": 20,
   "metadata": {
    "ExecuteTime": {
     "end_time": "2020-06-23T08:27:11.730520Z",
     "start_time": "2020-06-23T08:27:11.561639Z"
    }
   },
   "outputs": [
    {
     "data": {
      "text/plain": [
       "tensor([[1.4383e+02, 2.1078e+02, 4.6714e+02, 4.7354e+02],\n",
       "        [1.7428e+02, 3.1377e+02, 5.1336e+02, 4.8000e+02],\n",
       "        [2.8904e+02, 2.0981e+02, 5.1901e+02, 4.8000e+02],\n",
       "        [2.1644e+02, 1.8520e+02, 6.2635e+02, 4.6370e+02],\n",
       "        [3.3843e-02, 0.0000e+00, 4.1693e+01, 3.7946e+02],\n",
       "        [3.1173e+02, 1.5900e+02, 3.5625e+02, 1.9688e+02],\n",
       "        [2.2946e+02, 2.2712e+02, 3.0838e+02, 2.9746e+02],\n",
       "        [4.6132e+00, 2.6840e+02, 1.9707e+02, 3.8635e+02],\n",
       "        [2.4226e+00, 3.0217e+02, 2.7723e+02, 4.0444e+02],\n",
       "        [4.5615e+02, 7.9694e+00, 6.1806e+02, 4.5733e+02],\n",
       "        [2.9042e+02, 1.7090e+02, 3.9177e+02, 4.1011e+02],\n",
       "        [1.2967e+00, 1.8283e+00, 1.8816e+02, 3.6328e+02],\n",
       "        [5.0785e+02, 6.4634e+01, 5.8013e+02, 4.4548e+02],\n",
       "        [3.3803e+02, 0.0000e+00, 4.3406e+02, 2.7469e+02],\n",
       "        [1.9479e+02, 1.2730e+02, 4.9682e+02, 4.1328e+02],\n",
       "        [5.9692e+01, 2.7249e+02, 3.9423e+02, 4.8000e+02],\n",
       "        [1.1351e+02, 3.3084e+02, 6.4000e+02, 4.7781e+02],\n",
       "        [1.4813e+01, 3.6586e+02, 5.3852e+02, 4.7822e+02],\n",
       "        [0.0000e+00, 0.0000e+00, 4.9537e+02, 1.7242e+02],\n",
       "        [2.8377e+02, 1.2432e+00, 4.8639e+02, 3.0670e+02],\n",
       "        [1.1693e+01, 0.0000e+00, 4.9948e+02, 2.8778e+02],\n",
       "        [3.8943e+01, 2.7027e+02, 8.5034e+01, 3.7369e+02],\n",
       "        [3.9194e+01, 2.7051e+02, 8.4787e+01, 3.7436e+02],\n",
       "        [2.4506e+02, 1.3358e-02, 6.4000e+02, 2.9610e+02],\n",
       "        [6.0299e+01, 1.4282e+01, 5.8615e+02, 2.5446e+02],\n",
       "        [3.3844e+00, 0.0000e+00, 2.4346e+02, 2.0490e+02],\n",
       "        [4.1499e+02, 0.0000e+00, 6.3453e+02, 2.8725e+02],\n",
       "        [3.0245e+02, 2.0979e+02, 3.6276e+02, 3.1772e+02],\n",
       "        [2.3011e+01, 1.5155e+02, 4.9102e+02, 4.1661e+02],\n",
       "        [0.0000e+00, 4.1102e+02, 4.6209e+02, 4.7989e+02],\n",
       "        [2.0291e+02, 3.9582e+02, 5.4225e+02, 4.7897e+02],\n",
       "        [2.2074e+02, 0.0000e+00, 6.4000e+02, 2.0599e+02],\n",
       "        [7.9615e+01, 0.0000e+00, 4.0895e+02, 2.9829e+02],\n",
       "        [7.2018e+00, 2.2913e+02, 3.8373e+02, 4.5115e+02],\n",
       "        [9.1381e+01, 0.0000e+00, 6.3853e+02, 1.6956e+02],\n",
       "        [3.1869e+01, 2.7821e+02, 1.8951e+02, 4.1884e+02]], device='cuda:0')"
      ]
     },
     "execution_count": 20,
     "metadata": {},
     "output_type": "execute_result"
    },
    {
     "data": {
      "text/plain": [
       "tensor([[0.0000, 0.0099, 0.0090,  ..., 6.5851, 0.0370, 7.3452],\n",
       "        [0.0000, 0.0963, 0.4266,  ..., 2.0185, 0.0253, 5.7607],\n",
       "        [0.0000, 0.0968, 0.1323,  ..., 5.3939, 0.0000, 7.1907],\n",
       "        ...,\n",
       "        [0.0000, 0.5091, 0.3767,  ..., 5.4250, 0.1418, 0.0369],\n",
       "        [0.2100, 0.2867, 0.2244,  ..., 0.0330, 2.4388, 0.1414],\n",
       "        [0.0000, 0.6733, 0.3991,  ..., 1.3741, 0.6837, 0.0531]],\n",
       "       device='cuda:0')"
      ]
     },
     "execution_count": 20,
     "metadata": {},
     "output_type": "execute_result"
    }
   ],
   "source": [
    "instances, roi_features = fns[\"get_lxmert_details\"](im)\n",
    "instances.pred_boxes.tensor # boxes\n",
    "roi_features # feats\n",
    "# (feats, boxes)"
   ]
  },
  {
   "cell_type": "code",
   "execution_count": 7,
   "metadata": {
    "ExecuteTime": {
     "end_time": "2020-06-23T08:32:07.896872Z",
     "start_time": "2020-06-23T08:32:07.885094Z"
    }
   },
   "outputs": [
    {
     "data": {
      "text/plain": [
       "tensor([[[ 0.5593, -0.0353, -0.8734,  ..., -0.0888, -0.3785, -0.5709],\n",
       "         [-0.0509,  0.1510, -0.1381,  ...,  0.3084,  0.2411,  0.0265],\n",
       "         [ 0.3100,  0.0862, -0.9152,  ...,  0.1054, -0.4900, -0.5777],\n",
       "         ...,\n",
       "         [-0.3711,  0.1200,  0.0026,  ...,  0.0058,  0.0990,  0.0793],\n",
       "         [ 0.1025, -0.6312, -0.0860,  ..., -0.4207, -0.8504, -0.5901],\n",
       "         [-0.3204,  0.0824, -0.0489,  ..., -0.0487,  0.0735,  0.0672]]])"
      ]
     },
     "execution_count": 7,
     "metadata": {},
     "output_type": "execute_result"
    }
   ],
   "source": [
    "fns[\"get_encoder_feats\"](\"../data/img/08291.png\")\n"
   ]
  }
 ],
 "metadata": {
  "kernelspec": {
   "display_name": "Python 3",
   "language": "python",
   "name": "python3"
  },
  "language_info": {
   "codemirror_mode": {
    "name": "ipython",
    "version": 3
   },
   "file_extension": ".py",
   "mimetype": "text/x-python",
   "name": "python",
   "nbconvert_exporter": "python",
   "pygments_lexer": "ipython3",
   "version": "3.7.6"
  },
  "toc": {
   "base_numbering": 1,
   "nav_menu": {},
   "number_sections": true,
   "sideBar": true,
   "skip_h1_title": false,
   "title_cell": "Table of Contents",
   "title_sidebar": "Contents",
   "toc_cell": false,
   "toc_position": {},
   "toc_section_display": true,
   "toc_window_display": false
  }
 },
 "nbformat": 4,
 "nbformat_minor": 4
}
