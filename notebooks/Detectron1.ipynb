{
 "cells": [
  {
   "cell_type": "code",
   "execution_count": null,
   "metadata": {
    "ExecuteTime": {
     "end_time": "2020-06-17T07:18:55.533214Z",
     "start_time": "2020-06-17T07:17:57.526952Z"
    },
    "scrolled": true
   },
   "outputs": [],
   "source": [
    "%cd /local/home/ahemf/mygit/facebook-hateful-memes/notebooks/\n",
    "%pwd\n",
    "!pip uninstall -y maskrcnn_benchmark\n",
    "!rm -rf vqa-maskrcnn-benchmark\n",
    "!git clone https://gitlab.com/vedanuj/vqa-maskrcnn-benchmark.git\n",
    "# !sed -i '/from maskrcnn_benchmark import _C/c\\from ._utils import _C' maskrcnn_benchmark/layers/nms.py\n",
    "!cat maskrcnn_benchmark/layers/nms.py\n",
    "%cd vqa-maskrcnn-benchmark\n",
    "\n",
    "# %sed -i '/from maskrcnn_benchmark import _C/c\\from ._utils import _C' layers/nms.py\n",
    "# %cat layers/nms.py\n",
    "%pwd\n",
    "!python setup.py build\n",
    "!python setup.py develop\n",
    "!wget -O detectron_model.pth wget https://dl.fbaipublicfiles.com/vilbert-multi-task/detectron_model.pth\n",
    "!wget -O detectron_model.yaml wget https://dl.fbaipublicfiles.com/vilbert-multi-task/detectron_config.yaml\n",
    "\n",
    "import sys\n",
    "import os\n",
    "DIR = os.getcwd()\n",
    "sys.path.append(f'{DIR}/vqa-maskrcnn-benchmark')\n"
   ]
  },
  {
   "cell_type": "code",
   "execution_count": null,
   "metadata": {
    "ExecuteTime": {
     "end_time": "2020-06-17T07:23:57.803777Z",
     "start_time": "2020-06-17T07:21:27.367177Z"
    }
   },
   "outputs": [],
   "source": [
    "# %pip install git+https://github.com/faizanahemad/ImageCaptioning.pytorch.git\n",
    "%pip install gdown\n",
    "!gdown --id 1VmUzgu0qlmCMqM1ajoOZxOXP3hiC_qlL\n",
    "!gdown --id 1zQe00W02veVYq-hdq5WsPOS3OPkNdq79\n",
    "!pip install yacs\n",
    "\n",
    "\n",
    "\n",
    "%cd ..\n",
    "%mkdir model_data\n",
    "!pip uninstall -y captioning\n",
    "%pip install git+https://github.com/faizanahemad/ImageCaptioning.pytorch.git\n"
   ]
  },
  {
   "cell_type": "code",
   "execution_count": null,
   "metadata": {
    "ExecuteTime": {
     "end_time": "2020-07-11T07:43:18.922030Z",
     "start_time": "2020-07-11T07:43:16.230318Z"
    }
   },
   "outputs": [],
   "source": [
    "import pandas as pd\n",
    "import numpy as np\n",
    "\n",
    "from PIL import Image\n",
    "from IPython.display import display, HTML, clear_output\n",
    "from IPython.core.interactiveshell import InteractiveShell\n",
    "InteractiveShell.ast_node_interactivity = \"all\"\n",
    "\n",
    "import sys\n",
    "import os\n",
    "DIR = os.getcwd()\n",
    "import torch\n",
    "import torchvision\n",
    "from facebook_hateful_memes_detector.utils.globals import set_global, get_global\n",
    "set_global(\"cache_dir\", \"/home/ahemf/cache/cache\")\n",
    "set_global(\"dataloader_workers\", 4)\n",
    "from facebook_hateful_memes_detector.preprocessing import DefinedRotation, QuadrantCut, DefinedAffine, DefinedColorJitter, DefinedRandomPerspective, ImageAugment\n",
    "from PIL import Image\n",
    "from facebook_hateful_memes_detector.utils import get_image_info_fn, set_device, get_device\n",
    "from torchvision import transforms\n",
    "import joblib\n",
    "from tqdm.auto import tqdm, trange\n",
    "from joblib import Parallel, delayed\n",
    "from facebook_hateful_memes_detector.preprocessing import TextImageDataset, my_collate, get_datasets, get_image2torchvision_transforms, TextAugment\n",
    "from facebook_hateful_memes_detector.models.external.detr import get_detr_model\n",
    "\n",
    "def hash(x):\n",
    "    return joblib.hashing.hash(x, 'sha1')\n",
    "\n",
    "def print_code(func):\n",
    "    import inspect\n",
    "    from pygments import highlight\n",
    "    from pygments.lexers import PythonLexer\n",
    "    from pygments.formatters import TerminalFormatter\n",
    "\n",
    "    code = \"\".join(inspect.getsourcelines(func)[0])\n",
    "    print(highlight(code, PythonLexer(), TerminalFormatter()))\n",
    "\n",
    "set_device('cuda')\n",
    "\n"
   ]
  },
  {
   "cell_type": "code",
   "execution_count": null,
   "metadata": {
    "ExecuteTime": {
     "end_time": "2020-07-08T06:53:18.329594Z",
     "start_time": "2020-07-08T06:53:17.819076Z"
    }
   },
   "outputs": [],
   "source": [
    "!wget https://raw.githubusercontent.com/airsplay/py-bottom-up-attention/master/demo/data/images/input.jpg\n"
   ]
  },
  {
   "cell_type": "code",
   "execution_count": null,
   "metadata": {
    "ExecuteTime": {
     "end_time": "2020-07-11T08:24:17.883360Z",
     "start_time": "2020-07-11T08:24:17.787654Z"
    }
   },
   "outputs": [],
   "source": [
    "data = get_datasets(\n",
    "    data_dir=\"../data/\",\n",
    "    train_text_transform=None,\n",
    "    train_image_transform=None,\n",
    "    test_text_transform=None,\n",
    "    test_image_transform=None,\n",
    "    cache_images=True,\n",
    "    use_images=True,\n",
    "    dev=False,\n",
    "    keep_original_text=False,\n",
    "    keep_original_image=True,\n",
    "    keep_processed_image=False,\n",
    "    keep_torchvision_image=False,\n",
    ")\n",
    "augs_dict = dict(\n",
    "    grayscale=transforms.Grayscale(num_output_channels=3),\n",
    "    hflip=transforms.RandomHorizontalFlip(p=1.0),\n",
    "    rc2=transforms.Compose(\n",
    "        [transforms.Resize(480),\n",
    "         transforms.CenterCrop(400)]),\n",
    "    rotate=DefinedRotation(15),\n",
    "    affine=DefinedAffine(0, scale=(0.6, 0.6)),\n",
    "    translate1=DefinedAffine(0, translate=(0.25, 0.25)),\n",
    "#     translate2=DefinedAffine(0, translate=(0.1, 0.1)),\n",
    "#     color1=DefinedColorJitter(brightness=(0.9, 1.1), contrast=0, saturation=0, hue=0),\n",
    "#     color2=DefinedColorJitter(contrast=0.1),\n",
    "#     color3=DefinedColorJitter(saturation=0.1),\n",
    "#     qcut=QuadrantCut(),\n",
    "    identity=lambda x: x,\n",
    ")\n",
    "im_transform = ImageAugment(count_proba=[0.0, 1.0], augs_dict=augs_dict, choice_probas=\"uniform\")\n",
    "\n"
   ]
  },
  {
   "cell_type": "code",
   "execution_count": null,
   "metadata": {
    "ExecuteTime": {
     "end_time": "2020-07-11T08:24:40.634189Z",
     "start_time": "2020-07-11T08:24:18.442762Z"
    }
   },
   "outputs": [],
   "source": [
    "img = Image.open(\"input.jpg\")\n",
    "\n",
    "hashes = Parallel(n_jobs=8, backend='threading')(delayed(lambda i: hash(im_transform(i)))(img.copy()) for i in trange(10000))\n",
    "hashes = set(hashes)\n",
    "len(hashes)\n",
    "\n",
    "\n"
   ]
  },
  {
   "cell_type": "code",
   "execution_count": null,
   "metadata": {
    "ExecuteTime": {
     "end_time": "2020-07-09T13:30:56.461234Z",
     "start_time": "2020-07-09T12:07:41.371452Z"
    }
   },
   "outputs": [],
   "source": [
    "fns = get_image_info_fn(enable_encoder_feats=True, enable_image_captions=False)\n",
    "cache_fns = [fns[\"get_img_details\"], fns[\"get_encoder_feats\"], \n",
    "             fns[\"get_lxmert_details\"], \n",
    "             get_detr_model(get_device(), \"detr_resnet50\")[\"detr_fn\"], \n",
    "             get_detr_model(get_device(), \"detr_resnet50_panoptic\")[\"detr_fn\"], lambda x: x]\n",
    "\n",
    "images = list(data[\"train\"].img.values) + list(data[\"test\"].img.values)\n",
    "try:\n",
    "    from torch.cuda.amp import GradScaler, autocast\n",
    "    scaler = GradScaler()\n",
    "    use_autocast = \"cuda\" in str(get_device())\n",
    "except:\n",
    "    pass\n",
    "for i in tqdm(images):\n",
    "    img = Image.open(i)\n",
    "    for k, aug in augs_dict.items():\n",
    "        img_copy = aug(img.copy())\n",
    "        for fn in cache_fns:\n",
    "            with autocast():\n",
    "                _ = fn(img_copy)\n",
    "    \n",
    "\n",
    "\n",
    "\n",
    "# We need Qcut for robustness\n",
    "# We need DefinedAffine translate since in this problem we care about presence of object not position\n",
    "# We need Image models trained on classification which only care about presence not position\n"
   ]
  },
  {
   "cell_type": "code",
   "execution_count": null,
   "metadata": {
    "ExecuteTime": {
     "end_time": "2020-07-11T08:32:19.276925Z",
     "start_time": "2020-07-11T08:32:16.252218Z"
    }
   },
   "outputs": [],
   "source": [
    "from transformers import AutoModelWithLMHead, AutoTokenizer, AutoModel\n",
    "tokenizer = AutoTokenizer.from_pretrained(\"distilroberta-base\")\n",
    "texts = pd.read_csv(\"text.csv\", header=None)[0].values\n",
    "\n",
    "m = lambda x: tokenizer.encode_plus(x, add_special_tokens=True, pad_to_max_length=False, truncation=False)\n",
    "tlens = [len(d['input_ids']) for d in map(m, texts)]\n",
    "\n",
    "np.percentile(tlens, [97, 99, 99.5, 99.9, 100])\n"
   ]
  },
  {
   "cell_type": "code",
   "execution_count": null,
   "metadata": {},
   "outputs": [],
   "source": [
    "device = torch.device(\"cuda\" if torch.cuda.is_available() else \"cpu\")\n",
    "set_device(device)\n",
    "\n",
    "from facebook_hateful_memes_detector.utils import get_image_info_fn\n",
    "\n"
   ]
  },
  {
   "cell_type": "code",
   "execution_count": null,
   "metadata": {
    "ExecuteTime": {
     "end_time": "2020-07-08T06:57:04.620448Z",
     "start_time": "2020-07-08T06:57:04.537229Z"
    }
   },
   "outputs": [],
   "source": [
    "im_transform(Image.open(\"input.jpg\"))"
   ]
  },
  {
   "cell_type": "code",
   "execution_count": null,
   "metadata": {
    "ExecuteTime": {
     "end_time": "2020-06-22T18:48:53.053410Z",
     "start_time": "2020-06-22T18:48:52.971861Z"
    }
   },
   "outputs": [],
   "source": [
    "torchvision.transforms.RandomPerspective(p=1.0)(Image.open(\"input.jpg\"))"
   ]
  },
  {
   "cell_type": "code",
   "execution_count": null,
   "metadata": {
    "ExecuteTime": {
     "end_time": "2020-06-23T11:51:46.985990Z",
     "start_time": "2020-06-23T11:51:46.940292Z"
    }
   },
   "outputs": [],
   "source": [
    "fns = get_image_info_fn(enable_encoder_feats=True, enable_image_captions=True)\n"
   ]
  },
  {
   "cell_type": "code",
   "execution_count": null,
   "metadata": {
    "ExecuteTime": {
     "end_time": "2020-06-23T11:56:48.616651Z",
     "start_time": "2020-06-23T11:56:41.485207Z"
    },
    "scrolled": false
   },
   "outputs": [],
   "source": [
    "res, info = fns[\"feature_extractor\"](Image.open(\"../data/img/08291.png\"))\n",
    "res[:2, :8]\n",
    "info[\"boxes\"][:4]\n",
    "info[\"objects\"]\n"
   ]
  },
  {
   "cell_type": "code",
   "execution_count": null,
   "metadata": {},
   "outputs": [],
   "source": []
  },
  {
   "cell_type": "code",
   "execution_count": null,
   "metadata": {
    "ExecuteTime": {
     "end_time": "2020-06-23T11:56:34.048809Z",
     "start_time": "2020-06-23T11:56:34.003492Z"
    },
    "scrolled": false
   },
   "outputs": [],
   "source": [
    "res, info = fns[\"get_img_details\"](Image.open(\"../data/img/08291.png\"))\n",
    "res[:2, :8]\n",
    "info[\"boxes\"][:4]\n",
    "info[\"objects\"]\n"
   ]
  },
  {
   "cell_type": "code",
   "execution_count": null,
   "metadata": {
    "ExecuteTime": {
     "end_time": "2020-06-23T11:58:59.505064Z",
     "start_time": "2020-06-23T11:58:57.659942Z"
    },
    "scrolled": false
   },
   "outputs": [],
   "source": [
    "fns[\"get_image_captions\"](\"../data/img/08291.png\")"
   ]
  },
  {
   "cell_type": "code",
   "execution_count": null,
   "metadata": {
    "ExecuteTime": {
     "end_time": "2020-06-23T08:27:05.795956Z",
     "start_time": "2020-06-23T08:27:05.714646Z"
    }
   },
   "outputs": [],
   "source": [
    "im = im_transform(Image.open(\"input.jpg\"))\n",
    "im"
   ]
  },
  {
   "cell_type": "code",
   "execution_count": null,
   "metadata": {
    "ExecuteTime": {
     "end_time": "2020-06-23T08:27:11.730520Z",
     "start_time": "2020-06-23T08:27:11.561639Z"
    }
   },
   "outputs": [],
   "source": [
    "instances, roi_features = fns[\"get_lxmert_details\"](im)\n",
    "instances.pred_boxes.tensor # boxes\n",
    "roi_features # feats\n",
    "# (feats, boxes)"
   ]
  },
  {
   "cell_type": "code",
   "execution_count": null,
   "metadata": {
    "ExecuteTime": {
     "end_time": "2020-06-23T08:32:07.896872Z",
     "start_time": "2020-06-23T08:32:07.885094Z"
    }
   },
   "outputs": [],
   "source": [
    "fns[\"get_encoder_feats\"](\"../data/img/08291.png\")\n"
   ]
  }
 ],
 "metadata": {
  "kernelspec": {
   "display_name": "Python 3",
   "language": "python",
   "name": "python3"
  },
  "language_info": {
   "codemirror_mode": {
    "name": "ipython",
    "version": 3
   },
   "file_extension": ".py",
   "mimetype": "text/x-python",
   "name": "python",
   "nbconvert_exporter": "python",
   "pygments_lexer": "ipython3",
   "version": "3.7.6"
  },
  "toc": {
   "base_numbering": 1,
   "nav_menu": {},
   "number_sections": true,
   "sideBar": true,
   "skip_h1_title": false,
   "title_cell": "Table of Contents",
   "title_sidebar": "Contents",
   "toc_cell": false,
   "toc_position": {},
   "toc_section_display": true,
   "toc_window_display": false
  }
 },
 "nbformat": 4,
 "nbformat_minor": 4
}
