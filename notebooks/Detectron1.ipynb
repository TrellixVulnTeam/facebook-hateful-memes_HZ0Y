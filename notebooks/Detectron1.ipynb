{
 "cells": [
  {
   "cell_type": "code",
   "execution_count": null,
   "metadata": {
    "ExecuteTime": {
     "end_time": "2020-10-20T11:12:44.601286Z",
     "start_time": "2020-10-20T11:12:40.413551Z"
    }
   },
   "outputs": [],
   "source": [
    "import pandas as pd\n",
    "import numpy as np\n",
    "\n",
    "from PIL import Image\n",
    "from IPython.display import display, HTML, clear_output\n",
    "from IPython.core.interactiveshell import InteractiveShell\n",
    "InteractiveShell.ast_node_interactivity = \"all\"\n",
    "\n",
    "import sys\n",
    "import os\n",
    "DIR = os.getcwd()\n",
    "import torch\n",
    "import torchvision\n",
    "\n",
    "from facebook_hateful_memes_detector.utils.globals import set_global, get_global\n",
    "set_global(\"cache_dir\", \"/home/ahemf/cache2/cache\")\n",
    "set_global(\"dataloader_workers\", 8)\n",
    "set_global(\"use_autocast\", True)\n",
    "set_global(\"models_dir\", \"/home/ahemf/cache/\")\n",
    "\n",
    "from facebook_hateful_memes_detector.preprocessing import DefinedRotation, QuadrantCut, DefinedAffine, DefinedColorJitter, DefinedRandomPerspective, ImageAugment\n",
    "from PIL import Image\n",
    "from facebook_hateful_memes_detector.utils import get_image_info_fn, set_device, get_device\n",
    "from torchvision import transforms\n",
    "import joblib\n",
    "from tqdm.auto import tqdm, trange\n",
    "from joblib import Parallel, delayed\n",
    "from facebook_hateful_memes_detector.preprocessing import TextImageDataset, get_datasets, get_image2torchvision_transforms, TextAugment, get_transforms_for_bbox_methods\n",
    "from facebook_hateful_memes_detector.models.external.detr import get_detr_model\n",
    "from facebook_hateful_memes_detector.training import *\n",
    "\n",
    "def hash(x):\n",
    "    return joblib.hashing.hash(x, 'sha1')\n",
    "\n",
    "def print_code(func):\n",
    "    import inspect\n",
    "    from pygments import highlight\n",
    "    from pygments.lexers import PythonLexer\n",
    "    from pygments.formatters import TerminalFormatter\n",
    "\n",
    "    code = \"\".join(inspect.getsourcelines(func)[0])\n",
    "    print(highlight(code, PythonLexer(), TerminalFormatter()))\n",
    "\n",
    "set_device('cuda')\n",
    "\n"
   ]
  },
  {
   "cell_type": "code",
   "execution_count": null,
   "metadata": {
    "ExecuteTime": {
     "end_time": "2020-10-10T07:07:06.195294Z",
     "start_time": "2020-10-10T07:07:05.791667Z"
    }
   },
   "outputs": [],
   "source": [
    "!wget https://raw.githubusercontent.com/airsplay/py-bottom-up-attention/master/demo/data/images/input.jpg\n"
   ]
  },
  {
   "cell_type": "code",
   "execution_count": null,
   "metadata": {
    "ExecuteTime": {
     "end_time": "2020-10-18T13:02:27.313255Z",
     "start_time": "2020-10-18T13:02:27.187002Z"
    }
   },
   "outputs": [],
   "source": [
    "data = get_datasets(data_dir=\"/home/ahemf/cache/data/\",\n",
    "                    train_text_transform=None,\n",
    "                    train_image_transform=None,\n",
    "                    test_text_transform=None,\n",
    "                    test_image_transform=None,\n",
    "                    train_torchvision_pre_image_transform=None,\n",
    "                    test_torchvision_pre_image_transform=None,\n",
    "                    cache_images=False,\n",
    "                    use_images=True,\n",
    "                    dev=False,\n",
    "                    test_dev=True,\n",
    "                    keep_original_text=True,\n",
    "                    keep_original_image=True,\n",
    "                    keep_processed_image=True,\n",
    "                    keep_torchvision_image=False,\n",
    "                    train_mixup_config=None)\n",
    "\n",
    "\n",
    "\n",
    "df = pd.concat((data[\"train\"],\n",
    "                data['dev_unseen'],\n",
    "                data[\"test\"], data['test_unseen'])).sample(frac=1.0)\n",
    "\n",
    "dataset = convert_dataframe_to_dataset(df, data[\"metadata\"], True)\n"
   ]
  },
  {
   "cell_type": "code",
   "execution_count": null,
   "metadata": {
    "ExecuteTime": {
     "end_time": "2020-10-11T12:28:42.720879Z",
     "start_time": "2020-10-11T12:28:26.348628Z"
    }
   },
   "outputs": [],
   "source": [
    "from time import sleep\n",
    "for transformation in list(get_transforms_for_bbox_methods().transforms + get_transforms_for_multiview()):\n",
    "    display(transformation(dataset[0]['original_image']))\n",
    "    sleep(2)"
   ]
  },
  {
   "cell_type": "markdown",
   "metadata": {},
   "source": [
    "# Cache Warmup"
   ]
  },
  {
   "cell_type": "code",
   "execution_count": null,
   "metadata": {
    "ExecuteTime": {
     "end_time": "2020-10-18T13:06:11.986716Z",
     "start_time": "2020-10-18T13:02:34.085021Z"
    }
   },
   "outputs": [],
   "source": [
    "from facebook_hateful_memes_detector.utils import get_image_info_fn\n",
    "from facebook_hateful_memes_detector.preprocessing import get_transforms_for_bbox_methods\n",
    "from facebook_hateful_memes_detector.preprocessing import get_transforms_for_multiview\n",
    "from time import sleep\n",
    "all_transforms = list(get_transforms_for_bbox_methods().transforms + get_transforms_for_multiview())\n",
    "get_img_details = get_image_info_fn(enable_encoder_feats=False, device=get_device())[\"get_img_details\"]\n",
    "get_lxmert_details = get_image_info_fn(enable_encoder_feats=False, device=get_device())[\"get_lxmert_details\"]\n",
    "\n",
    "def lxmert_faster_rcnn_fn(img):\n",
    "    sleep(0.1)\n",
    "    _ = get_img_details(img)\n",
    "    sleep(0.1)\n",
    "    _ = get_lxmert_details(img)\n",
    "    sleep(0.1)\n",
    "\n",
    "for elem in tqdm(iter(dataset), total=len(dataset)):\n",
    "    image = elem[\"original_image\"]\n",
    "    for idx, transformation in enumerate(all_transforms):\n",
    "        lxmert_faster_rcnn_fn(transformation(image.copy()))\n",
    "        if idx == 0:\n",
    "            for _ in range(3):\n",
    "                lxmert_faster_rcnn_fn(transformation(image.copy()))\n",
    "        \n",
    "        \n"
   ]
  },
  {
   "cell_type": "code",
   "execution_count": null,
   "metadata": {},
   "outputs": [],
   "source": []
  },
  {
   "cell_type": "code",
   "execution_count": null,
   "metadata": {
    "ExecuteTime": {
     "end_time": "2020-10-18T13:06:15.108756Z",
     "start_time": "2020-10-18T13:06:15.102355Z"
    }
   },
   "outputs": [],
   "source": [
    "cache_stats = get_global(\"cache_stats\")\n",
    "cache_stats['get_img_details']\n",
    "cache_stats['get_lxmert_details']\n"
   ]
  },
  {
   "cell_type": "code",
   "execution_count": null,
   "metadata": {},
   "outputs": [],
   "source": [
    "%timeit rows = caches[0]._sql('SELECT rowid, expire_time, tag, mode, filename, value from Cache limit 10').fetchall()\n"
   ]
  },
  {
   "cell_type": "markdown",
   "metadata": {},
   "source": [
    "# Cache Sync"
   ]
  },
  {
   "cell_type": "code",
   "execution_count": null,
   "metadata": {
    "ExecuteTime": {
     "end_time": "2020-10-21T15:51:40.258539Z",
     "start_time": "2020-10-21T15:49:09.150686Z"
    }
   },
   "outputs": [],
   "source": [
    "import gc\n",
    "import os\n",
    "import sys\n",
    "from collections import defaultdict, Counter\n",
    "from random import random, shuffle\n",
    "from time import sleep\n",
    "from typing import List, Callable\n",
    "from tqdm.auto import tqdm, trange\n",
    "\n",
    "import cv2\n",
    "import numpy as np\n",
    "import requests\n",
    "import torch\n",
    "from PIL import Image\n",
    "\n",
    "cache_dirs = [\"/home/ahemf/cache/cache\", \"/home/ahemf/cache/cache2\",\n",
    "              #\"/home/ahemf/cache2/cache\",\n",
    "              \"/home/ahemf/cache3/cache\", \n",
    "              \"/home/ahemf/cache4/cache\"\n",
    "             ] # \"/home/ahemf/cache3/cache\"\n",
    "args = dict(eviction_policy='none', sqlite_cache_size=2 ** 16, sqlite_mmap_size=2 ** 28, disk_min_file_size=2 ** 18)\n",
    "from diskcache import Cache\n",
    "caches = [Cache(cd, **args) for cd in cache_dirs]\n",
    "\n",
    "for cache in caches:\n",
    "    cache.check(True)\n"
   ]
  },
  {
   "cell_type": "code",
   "execution_count": null,
   "metadata": {
    "ExecuteTime": {
     "end_time": "2020-10-21T15:51:40.260082Z",
     "start_time": "2020-10-21T15:49:14.905Z"
    }
   },
   "outputs": [],
   "source": [
    "cache2keys = [set(list(cache.iterkeys())) for cache in caches]\n",
    "\n",
    "\n",
    "for cn1, ck1 in enumerate(cache2keys):\n",
    "    c1 = caches[cn1]\n",
    "    for cn2, ck2 in enumerate(cache2keys):\n",
    "        if cn1==cn2:\n",
    "            continue\n",
    "        c2 = caches[cn2]\n",
    "        cn1_cn2 = ck1 - ck2\n",
    "        print((cn1, cn2), len(cn1_cn2))\n",
    "        for citem in tqdm(cn1_cn2):\n",
    "            item = c1[citem]\n",
    "            c2[citem] = item\n",
    "        \n",
    "            \n",
    "for cc in caches:\n",
    "    cc.close()\n",
    "        \n",
    "        \n",
    "\n"
   ]
  },
  {
   "cell_type": "code",
   "execution_count": null,
   "metadata": {
    "ExecuteTime": {
     "end_time": "2020-10-21T10:29:34.620709Z",
     "start_time": "2020-10-21T07:25:10.096578Z"
    }
   },
   "outputs": [],
   "source": [
    "# Broadcast from 1 to all others\n",
    "cache2keys = [set(list(cache.iterkeys())) for cache in caches]\n",
    "\n",
    "c1 = caches[0]\n",
    "for citem in tqdm(cache2keys[0]):\n",
    "    item = c1[citem]\n",
    "    for cc in caches[1:]:\n",
    "        cc[citem] = item\n",
    "\n",
    "        \n",
    "            \n",
    "for cc in caches:\n",
    "    cc.close()\n",
    "        \n",
    "        \n",
    "\n"
   ]
  },
  {
   "cell_type": "markdown",
   "metadata": {},
   "source": [
    "# Get image Captions and BBoxes"
   ]
  },
  {
   "cell_type": "code",
   "execution_count": null,
   "metadata": {
    "ExecuteTime": {
     "end_time": "2020-10-14T19:24:47.407816Z",
     "start_time": "2020-10-14T14:09:45.265904Z"
    }
   },
   "outputs": [],
   "source": [
    "from facebook_hateful_memes_detector.utils import get_image_info_fn\n",
    "from facebook_hateful_memes_detector.preprocessing import get_transforms_for_bbox_methods\n",
    "from facebook_hateful_memes_detector.preprocessing import get_transforms_for_multiview\n",
    "from time import sleep\n",
    "from collections import OrderedDict\n",
    "\n",
    "df = pd.concat((data[\"train\"],\n",
    "                data['dev_unseen'],\n",
    "                data[\"test\"], data['test_unseen']))\n",
    "\n",
    "dataset = convert_dataframe_to_dataset(df, data[\"metadata\"], False)\n",
    "\n",
    "vg_classes = pd.read_csv(\"https://raw.githubusercontent.com/peteanderson80/bottom-up-attention/master/data/genome/1600-400-20/objects_vocab.txt\", engine=\"python\", header=None, sep=\"\\t\", names=[\"classes\"])\n",
    "vg_classes = np.array([\"N/A\"] + list(vg_classes.classes))\n",
    "get_captioning_fn = get_image_info_fn(enable_encoder_feats=True, enable_image_captions=True)[\"get_image_captions\"]\n",
    "get_img_details = get_image_info_fn(enable_encoder_feats=False, device=get_device())[\"get_img_details\"]\n",
    "\n",
    "image_classes = []\n",
    "for elem, row in tqdm(zip(iter(dataset),df.iterrows()), total=len(dataset)):\n",
    "    identifier = row[1][\"id\"]\n",
    "    image = elem[\"original_image\"]\n",
    "    feats, info = get_img_details(image)\n",
    "    cls = info[\"cls_prob\"].argmax(axis=1)\n",
    "    detected_classes = vg_classes[cls]\n",
    "    detected_classes = list(OrderedDict((i, 0) for i in detected_classes).keys())\n",
    "    detected_classes = [d.replace(\",\",' ') for d in detected_classes if d not in [\"N/A\",\"background\"]]\n",
    "    captions = get_captioning_fn(image)\n",
    "    captions = list(sorted(captions, key=lambda x:len(x.split()), reverse=True))[0]\n",
    "    image_classes.append([identifier, \" \".join(detected_classes[:10]), captions])\n",
    "    \n",
    "    \n",
    "    \n",
    "    \n",
    "    \n",
    "    \n",
    "    \n",
    "    "
   ]
  },
  {
   "cell_type": "code",
   "execution_count": null,
   "metadata": {
    "ExecuteTime": {
     "end_time": "2020-10-14T19:30:27.935615Z",
     "start_time": "2020-10-14T19:30:27.932024Z"
    }
   },
   "outputs": [],
   "source": [
    "image_classes[5]"
   ]
  },
  {
   "cell_type": "code",
   "execution_count": null,
   "metadata": {
    "ExecuteTime": {
     "end_time": "2020-10-14T19:32:46.490029Z",
     "start_time": "2020-10-14T19:32:46.480009Z"
    }
   },
   "outputs": [],
   "source": [
    "imdf = pd.DataFrame(image_classes, columns=[\"id\",\"objects\",\"caption\"])"
   ]
  },
  {
   "cell_type": "code",
   "execution_count": null,
   "metadata": {
    "ExecuteTime": {
     "end_time": "2020-10-14T19:34:22.043070Z",
     "start_time": "2020-10-14T19:34:21.990055Z"
    }
   },
   "outputs": [],
   "source": [
    "imdf.to_csv(\"/home/ahemf/cache/data/objects_captions.csv\", index=False)"
   ]
  },
  {
   "cell_type": "code",
   "execution_count": null,
   "metadata": {
    "ExecuteTime": {
     "end_time": "2020-10-14T19:35:23.757874Z",
     "start_time": "2020-10-14T19:35:23.749120Z"
    }
   },
   "outputs": [],
   "source": [
    "imdf.sample(5)"
   ]
  },
  {
   "cell_type": "markdown",
   "metadata": {},
   "source": [
    "# Other"
   ]
  },
  {
   "cell_type": "code",
   "execution_count": null,
   "metadata": {
    "ExecuteTime": {
     "end_time": "2020-10-20T11:13:03.320466Z",
     "start_time": "2020-10-20T11:12:44.602913Z"
    }
   },
   "outputs": [],
   "source": [
    "img = Image.open(\"input.jpg\")\n",
    "im_transform = get_transforms_for_bbox_methods()\n",
    "from facebook_hateful_memes_detector.preprocessing import HalfSwap, QuadrantCut, DefinedRotation, DefinedAffine\n",
    "# im_transform = transforms.RandomAffine(0, scale=(1.25, 1.25))\n",
    "hashes = Parallel(n_jobs=8, backend='threading')(delayed(lambda i: hash(im_transform(i)))(img.copy()) for i in trange(10000))\n",
    "hashes = set(hashes)\n",
    "len(hashes)\n",
    "\n",
    "\n"
   ]
  },
  {
   "cell_type": "code",
   "execution_count": null,
   "metadata": {
    "ExecuteTime": {
     "end_time": "2020-10-11T13:02:23.242781Z",
     "start_time": "2020-10-11T13:02:23.120218Z"
    }
   },
   "outputs": [],
   "source": [
    "im = Image.open(\"input.jpg\")\n",
    "im_transform(im)"
   ]
  },
  {
   "cell_type": "code",
   "execution_count": null,
   "metadata": {
    "ExecuteTime": {
     "end_time": "2020-10-11T11:55:37.734277Z",
     "start_time": "2020-10-11T11:55:29.364624Z"
    }
   },
   "outputs": [],
   "source": [
    "%timeit im_transform(im)"
   ]
  },
  {
   "cell_type": "code",
   "execution_count": null,
   "metadata": {
    "ExecuteTime": {
     "start_time": "2020-07-12T19:31:22.782Z"
    }
   },
   "outputs": [],
   "source": [
    "fns = get_image_info_fn(enable_encoder_feats=True, enable_image_captions=False)\n",
    "cache_fns = [fns[\"get_img_details\"], fns[\"get_encoder_feats\"], \n",
    "             fns[\"get_lxmert_details\"], \n",
    "             get_detr_model(get_device(), \"detr_resnet50\")[\"detr_fn\"], \n",
    "             get_detr_model(get_device(), \"detr_resnet50_panoptic\")[\"detr_fn\"], lambda x: x]\n",
    "\n",
    "images = list(data[\"train\"].img.values) + list(data[\"test\"].img.values)\n",
    "try:\n",
    "    from torch.cuda.amp import GradScaler, autocast\n",
    "    scaler = GradScaler()\n",
    "    use_autocast = \"cuda\" in str(get_device())\n",
    "except:\n",
    "    pass\n",
    "for i in tqdm(images):\n",
    "    img = Image.open(i)\n",
    "    for k, aug in augs_dict.items():\n",
    "        for _ in range(16):\n",
    "            img_copy = aug(img.copy())\n",
    "            for fn in cache_fns:\n",
    "                with autocast():\n",
    "                    _ = fn(img_copy)\n",
    "    \n",
    "\n",
    "\n",
    "\n",
    "# We need Qcut for robustness\n",
    "# We need DefinedAffine translate since in this problem we care about presence of object not position\n",
    "# We need Image models trained on classification which only care about presence not position\n"
   ]
  },
  {
   "cell_type": "code",
   "execution_count": null,
   "metadata": {
    "ExecuteTime": {
     "end_time": "2020-07-11T08:32:19.276925Z",
     "start_time": "2020-07-11T08:32:16.252218Z"
    }
   },
   "outputs": [],
   "source": [
    "from transformers import AutoModelWithLMHead, AutoTokenizer, AutoModel\n",
    "tokenizer = AutoTokenizer.from_pretrained(\"distilroberta-base\")\n",
    "texts = pd.read_csv(\"text.csv\", header=None)[0].values\n",
    "\n",
    "m = lambda x: tokenizer.encode_plus(x, add_special_tokens=True, pad_to_max_length=False, truncation=False)\n",
    "tlens = [len(d['input_ids']) for d in map(m, texts)]\n",
    "\n",
    "np.percentile(tlens, [97, 99, 99.5, 99.9, 100])\n"
   ]
  },
  {
   "cell_type": "code",
   "execution_count": null,
   "metadata": {},
   "outputs": [],
   "source": [
    "device = torch.device(\"cuda\" if torch.cuda.is_available() else \"cpu\")\n",
    "set_device(device)\n",
    "\n",
    "from facebook_hateful_memes_detector.utils import get_image_info_fn\n",
    "\n"
   ]
  },
  {
   "cell_type": "code",
   "execution_count": null,
   "metadata": {
    "ExecuteTime": {
     "end_time": "2020-06-22T18:48:53.053410Z",
     "start_time": "2020-06-22T18:48:52.971861Z"
    }
   },
   "outputs": [],
   "source": [
    "torchvision.transforms.RandomPerspective(p=1.0)(Image.open(\"input.jpg\"))"
   ]
  },
  {
   "cell_type": "code",
   "execution_count": null,
   "metadata": {
    "ExecuteTime": {
     "end_time": "2020-10-14T10:54:42.161160Z",
     "start_time": "2020-10-14T10:54:42.043579Z"
    }
   },
   "outputs": [],
   "source": [
    "fns = get_image_info_fn(enable_encoder_feats=True, enable_image_captions=True)\n"
   ]
  },
  {
   "cell_type": "code",
   "execution_count": null,
   "metadata": {
    "ExecuteTime": {
     "end_time": "2020-10-14T10:54:46.834863Z",
     "start_time": "2020-10-14T10:54:43.929569Z"
    },
    "scrolled": false
   },
   "outputs": [],
   "source": [
    "fns[\"get_image_captions\"](dataset[0]['original_image'])\n",
    "# fns[\"get_image_captions\"](\"../data/img/08291.png\")"
   ]
  },
  {
   "cell_type": "code",
   "execution_count": null,
   "metadata": {},
   "outputs": [],
   "source": []
  },
  {
   "cell_type": "code",
   "execution_count": null,
   "metadata": {
    "ExecuteTime": {
     "end_time": "2020-07-26T09:20:42.500399Z",
     "start_time": "2020-07-26T09:20:34.811763Z"
    }
   },
   "outputs": [],
   "source": [
    "from facebook_hateful_memes_detector.utils.detectron_v1_object_detector import LXMERTFeatureExtractor, persistent_caching_fn\n",
    "lxmert_feature_extractor = LXMERTFeatureExtractor(get_device(), do_autocast=False)\n",
    "def fn(x):\n",
    "    return x\n",
    "fn = persistent_caching_fn(fn, \"random_2323\", False)\n",
    "fn(2)\n",
    "img = Image.open(\"input.jpg\")\n",
    "from torch.cuda.amp import autocast\n",
    "\n",
    "feats = lxmert_feature_extractor(img)  \n",
    "\n",
    "feats[0].scores.mean()\n",
    "feats[1].mean()\n",
    "feats[0].pred_boxes\n",
    "feats[0].scores\n",
    "\n",
    "\n",
    "\n",
    "\n",
    "\n",
    "\n",
    "\n"
   ]
  },
  {
   "cell_type": "code",
   "execution_count": null,
   "metadata": {
    "ExecuteTime": {
     "end_time": "2020-07-23T10:43:08.075599Z",
     "start_time": "2020-07-23T10:43:07.962756Z"
    },
    "scrolled": true
   },
   "outputs": [],
   "source": [
    "from facebook_hateful_memes_detector.utils.detectron_v1_object_detector import LXMERTFeatureExtractor\n",
    "lxmert_feature_extractor = LXMERTFeatureExtractor(get_device())\n",
    "img = Image.open(\"input.jpg\")\n",
    "from torch.cuda.amp import autocast\n",
    "with autocast():\n",
    "    feats = lxmert_feature_extractor(img)  \n",
    "len(feats)\n",
    "feats[0].scores.mean()\n",
    "feats[1].mean()\n",
    "feats[0].pred_boxes\n",
    "feats[0].scores\n",
    "\n",
    "\n",
    "\n",
    "\n",
    "\n",
    "\n",
    "\n"
   ]
  },
  {
   "cell_type": "code",
   "execution_count": null,
   "metadata": {
    "ExecuteTime": {
     "end_time": "2020-06-23T11:56:48.616651Z",
     "start_time": "2020-06-23T11:56:41.485207Z"
    },
    "scrolled": false
   },
   "outputs": [],
   "source": [
    "res, info = fns[\"feature_extractor\"](Image.open(\"../data/img/08291.png\"))\n",
    "res[:2, :8]\n",
    "info[\"boxes\"][:4]\n",
    "info[\"objects\"]\n"
   ]
  },
  {
   "cell_type": "code",
   "execution_count": null,
   "metadata": {},
   "outputs": [],
   "source": []
  },
  {
   "cell_type": "code",
   "execution_count": null,
   "metadata": {
    "ExecuteTime": {
     "end_time": "2020-06-23T11:56:34.048809Z",
     "start_time": "2020-06-23T11:56:34.003492Z"
    },
    "scrolled": false
   },
   "outputs": [],
   "source": [
    "res, info = fns[\"get_img_details\"](Image.open(\"../data/img/08291.png\"))\n",
    "res[:2, :8]\n",
    "info[\"boxes\"][:4]\n",
    "info[\"objects\"]\n"
   ]
  },
  {
   "cell_type": "code",
   "execution_count": null,
   "metadata": {
    "ExecuteTime": {
     "end_time": "2020-06-23T08:27:05.795956Z",
     "start_time": "2020-06-23T08:27:05.714646Z"
    }
   },
   "outputs": [],
   "source": [
    "im = im_transform(Image.open(\"input.jpg\"))\n",
    "im"
   ]
  },
  {
   "cell_type": "code",
   "execution_count": null,
   "metadata": {
    "ExecuteTime": {
     "end_time": "2020-06-23T08:27:11.730520Z",
     "start_time": "2020-06-23T08:27:11.561639Z"
    }
   },
   "outputs": [],
   "source": [
    "instances, roi_features = fns[\"get_lxmert_details\"](im)\n",
    "instances.pred_boxes.tensor # boxes\n",
    "roi_features # feats\n",
    "# (feats, boxes)"
   ]
  },
  {
   "cell_type": "code",
   "execution_count": null,
   "metadata": {
    "ExecuteTime": {
     "end_time": "2020-06-23T08:32:07.896872Z",
     "start_time": "2020-06-23T08:32:07.885094Z"
    }
   },
   "outputs": [],
   "source": [
    "fns[\"get_encoder_feats\"](\"../data/img/08291.png\")\n"
   ]
  }
 ],
 "metadata": {
  "kernelspec": {
   "display_name": "Python 3",
   "language": "python",
   "name": "python3"
  },
  "language_info": {
   "codemirror_mode": {
    "name": "ipython",
    "version": 3
   },
   "file_extension": ".py",
   "mimetype": "text/x-python",
   "name": "python",
   "nbconvert_exporter": "python",
   "pygments_lexer": "ipython3",
   "version": "3.7.6"
  },
  "toc": {
   "base_numbering": 1,
   "nav_menu": {},
   "number_sections": true,
   "sideBar": true,
   "skip_h1_title": false,
   "title_cell": "Table of Contents",
   "title_sidebar": "Contents",
   "toc_cell": false,
   "toc_position": {},
   "toc_section_display": true,
   "toc_window_display": false
  }
 },
 "nbformat": 4,
 "nbformat_minor": 4
}
