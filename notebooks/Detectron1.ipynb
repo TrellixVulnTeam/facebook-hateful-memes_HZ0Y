{
 "cells": [
  {
   "cell_type": "code",
   "execution_count": null,
   "metadata": {
    "ExecuteTime": {
     "end_time": "2020-06-17T07:18:55.533214Z",
     "start_time": "2020-06-17T07:17:57.526952Z"
    },
    "scrolled": true
   },
   "outputs": [],
   "source": [
    "%cd /local/home/ahemf/mygit/facebook-hateful-memes/notebooks/\n",
    "%pwd\n",
    "!pip uninstall -y maskrcnn_benchmark\n",
    "!rm -rf vqa-maskrcnn-benchmark\n",
    "!git clone https://gitlab.com/vedanuj/vqa-maskrcnn-benchmark.git\n",
    "# !sed -i '/from maskrcnn_benchmark import _C/c\\from ._utils import _C' maskrcnn_benchmark/layers/nms.py\n",
    "!cat maskrcnn_benchmark/layers/nms.py\n",
    "%cd vqa-maskrcnn-benchmark\n",
    "\n",
    "# %sed -i '/from maskrcnn_benchmark import _C/c\\from ._utils import _C' layers/nms.py\n",
    "# %cat layers/nms.py\n",
    "%pwd\n",
    "!python setup.py build\n",
    "!python setup.py develop\n",
    "!wget -O detectron_model.pth wget https://dl.fbaipublicfiles.com/vilbert-multi-task/detectron_model.pth\n",
    "!wget -O detectron_model.yaml wget https://dl.fbaipublicfiles.com/vilbert-multi-task/detectron_config.yaml\n",
    "\n",
    "import sys\n",
    "import os\n",
    "DIR = os.getcwd()\n",
    "sys.path.append(f'{DIR}/vqa-maskrcnn-benchmark')\n"
   ]
  },
  {
   "cell_type": "code",
   "execution_count": null,
   "metadata": {
    "ExecuteTime": {
     "end_time": "2020-06-17T07:23:57.803777Z",
     "start_time": "2020-06-17T07:21:27.367177Z"
    }
   },
   "outputs": [],
   "source": [
    "# %pip install git+https://github.com/faizanahemad/ImageCaptioning.pytorch.git\n",
    "%pip install gdown\n",
    "!gdown --id 1VmUzgu0qlmCMqM1ajoOZxOXP3hiC_qlL\n",
    "!gdown --id 1zQe00W02veVYq-hdq5WsPOS3OPkNdq79\n",
    "!pip install yacs\n",
    "\n",
    "\n",
    "\n",
    "%cd ..\n",
    "%mkdir model_data\n",
    "!pip uninstall -y captioning\n",
    "%pip install git+https://github.com/faizanahemad/ImageCaptioning.pytorch.git\n"
   ]
  },
  {
   "cell_type": "code",
   "execution_count": 1,
   "metadata": {
    "ExecuteTime": {
     "end_time": "2020-06-18T18:47:56.964100Z",
     "start_time": "2020-06-18T18:47:56.355670Z"
    }
   },
   "outputs": [],
   "source": [
    "import pandas as pd\n",
    "import numpy as np\n",
    "\n",
    "from PIL import Image\n",
    "from IPython.display import display, HTML, clear_output\n",
    "from IPython.core.interactiveshell import InteractiveShell\n",
    "InteractiveShell.ast_node_interactivity = \"all\"\n",
    "\n",
    "import sys\n",
    "import os\n",
    "DIR = os.getcwd()\n",
    "import torch\n",
    "\n",
    "def print_code(func):\n",
    "    import inspect\n",
    "    from pygments import highlight\n",
    "    from pygments.lexers import PythonLexer\n",
    "    from pygments.formatters import TerminalFormatter\n",
    "\n",
    "    code = \"\".join(inspect.getsourcelines(func)[0])\n",
    "    print(highlight(code, PythonLexer(), TerminalFormatter()))\n",
    "\n"
   ]
  },
  {
   "cell_type": "code",
   "execution_count": 2,
   "metadata": {
    "ExecuteTime": {
     "end_time": "2020-06-18T18:47:58.587393Z",
     "start_time": "2020-06-18T18:47:57.082632Z"
    }
   },
   "outputs": [
    {
     "name": "stdout",
     "output_type": "stream",
     "text": [
      "Better speed can be achieved with apex installed from https://www.github.com/nvidia/apex.\n"
     ]
    }
   ],
   "source": [
    "\n",
    "from PIL import Image\n",
    "from facebook_hateful_memes_detector.utils import get_image_info_fn, set_device, get_device\n"
   ]
  },
  {
   "cell_type": "code",
   "execution_count": 3,
   "metadata": {
    "ExecuteTime": {
     "end_time": "2020-06-18T18:47:58.591947Z",
     "start_time": "2020-06-18T18:47:58.589550Z"
    }
   },
   "outputs": [],
   "source": [
    "set_device('cpu')\n"
   ]
  },
  {
   "cell_type": "code",
   "execution_count": null,
   "metadata": {
    "ExecuteTime": {
     "end_time": "2020-06-18T18:34:17.749751Z",
     "start_time": "2020-06-18T18:34:13.882145Z"
    }
   },
   "outputs": [],
   "source": [
    "fns = get_image_info_fn(enable_encoder_feats=True, enable_image_captions=True)\n"
   ]
  },
  {
   "cell_type": "code",
   "execution_count": null,
   "metadata": {
    "ExecuteTime": {
     "end_time": "2020-06-18T18:34:27.436272Z",
     "start_time": "2020-06-18T18:34:27.414362Z"
    }
   },
   "outputs": [],
   "source": [
    "res, info = fns[\"get_img_details\"](Image.open(\"../data/img/08291.png\"))\n"
   ]
  },
  {
   "cell_type": "code",
   "execution_count": null,
   "metadata": {
    "ExecuteTime": {
     "end_time": "2020-06-18T18:34:28.502271Z",
     "start_time": "2020-06-18T18:34:28.497603Z"
    }
   },
   "outputs": [],
   "source": [
    "res"
   ]
  },
  {
   "cell_type": "code",
   "execution_count": null,
   "metadata": {
    "ExecuteTime": {
     "end_time": "2020-06-18T18:34:41.674261Z",
     "start_time": "2020-06-18T18:34:41.670702Z"
    }
   },
   "outputs": [],
   "source": [
    "fns[\"get_image_captions\"](\"../data/img/08291.png\")"
   ]
  },
  {
   "cell_type": "code",
   "execution_count": null,
   "metadata": {
    "ExecuteTime": {
     "end_time": "2020-06-18T18:34:54.338588Z",
     "start_time": "2020-06-18T18:34:54.332904Z"
    }
   },
   "outputs": [],
   "source": [
    "fns[\"get_encoder_feats\"](\"../data/img/08291.png\")\n"
   ]
  },
  {
   "cell_type": "code",
   "execution_count": null,
   "metadata": {
    "ExecuteTime": {
     "end_time": "2020-06-18T13:12:42.101347Z",
     "start_time": "2020-06-18T13:12:42.098333Z"
    }
   },
   "outputs": [],
   "source": [
    "type(fns[\"get_encoder_feats\"])"
   ]
  },
  {
   "cell_type": "code",
   "execution_count": 4,
   "metadata": {
    "ExecuteTime": {
     "end_time": "2020-06-18T18:48:05.225675Z",
     "start_time": "2020-06-18T18:48:00.795666Z"
    }
   },
   "outputs": [
    {
     "name": "stderr",
     "output_type": "stream",
     "text": [
      "/local/home/ahemf/mygit/mmf/mmf/utils/configuration.py:527: UserWarning: Device specified is 'cuda' but cuda is not present. Switching to CPU version.\n",
      "  \"Device specified is 'cuda' but cuda is not present. \"\n",
      "/home/ahemf/anaconda3/lib/python3.7/site-packages/omegaconf/dictconfig.py:252: UserWarning: Keys with dot (model.bert) are deprecated and will have different semantic meaning the next major version of OmegaConf (2.1)\n",
      "See the compact keys issue for more details: https://github.com/omry/omegaconf/issues/152\n",
      "You can disable this warning by setting the environment variable OC_DISABLE_DOT_ACCESS_WARNING=1\n",
      "  warnings.warn(message=msg, category=UserWarning)\n"
     ]
    },
    {
     "name": "stdout",
     "output_type": "stream",
     "text": [
      "Overriding option config to projects/hateful_memes/configs/visual_bert/from_coco.yaml\n",
      "Overriding option model to visual_bert\n",
      "Overriding option datasets to hateful_memes\n",
      "Overriding option run_type to val\n",
      "Overriding option checkpoint.resume_zoo to visual_bert.finetuned.hateful_memes.from_coco\n",
      "Overriding option evaluation.predict to true\n",
      "Logging to: ./save/logs/train_2020-06-18T18:48:01.log\n"
     ]
    }
   ],
   "source": [
    "from facebook_hateful_memes_detector.models.external.mmf import get_visual_bert\n",
    "vb = get_visual_bert(get_device())\n",
    "\n"
   ]
  },
  {
   "cell_type": "code",
   "execution_count": 7,
   "metadata": {
    "ExecuteTime": {
     "end_time": "2020-06-19T04:52:24.871736Z",
     "start_time": "2020-06-19T04:52:24.704686Z"
    }
   },
   "outputs": [],
   "source": [
    "!free -g"
   ]
  },
  {
   "cell_type": "code",
   "execution_count": 12,
   "metadata": {
    "ExecuteTime": {
     "end_time": "2020-06-19T05:31:09.067312Z",
     "start_time": "2020-06-19T05:31:09.062034Z"
    },
    "scrolled": false
   },
   "outputs": [
    {
     "data": {
      "text/plain": [
       "[BertVisioLinguisticEmbeddings(\n",
       "   (word_embeddings): Embedding(30522, 768, padding_idx=0)\n",
       "   (position_embeddings): Embedding(512, 768)\n",
       "   (token_type_embeddings): Embedding(2, 768)\n",
       "   (LayerNorm): LayerNorm((768,), eps=1e-12, elementwise_affine=True)\n",
       "   (dropout): Dropout(p=0.1, inplace=False)\n",
       "   (token_type_embeddings_visual): Embedding(2, 768)\n",
       "   (position_embeddings_visual): Embedding(512, 768)\n",
       "   (projection): Linear(in_features=2048, out_features=768, bias=True)\n",
       " ),\n",
       " BertEncoder(\n",
       "   (layer): ModuleList(\n",
       "     (0): BertLayer(\n",
       "       (attention): BertAttention(\n",
       "         (self): BertSelfAttention(\n",
       "           (query): Linear(in_features=768, out_features=768, bias=True)\n",
       "           (key): Linear(in_features=768, out_features=768, bias=True)\n",
       "           (value): Linear(in_features=768, out_features=768, bias=True)\n",
       "           (dropout): Dropout(p=0.1, inplace=False)\n",
       "         )\n",
       "         (output): BertSelfOutput(\n",
       "           (dense): Linear(in_features=768, out_features=768, bias=True)\n",
       "           (LayerNorm): LayerNorm((768,), eps=1e-12, elementwise_affine=True)\n",
       "           (dropout): Dropout(p=0.1, inplace=False)\n",
       "         )\n",
       "       )\n",
       "       (intermediate): BertIntermediate(\n",
       "         (dense): Linear(in_features=768, out_features=3072, bias=True)\n",
       "       )\n",
       "       (output): BertOutput(\n",
       "         (dense): Linear(in_features=3072, out_features=768, bias=True)\n",
       "         (LayerNorm): LayerNorm((768,), eps=1e-12, elementwise_affine=True)\n",
       "         (dropout): Dropout(p=0.1, inplace=False)\n",
       "       )\n",
       "     )\n",
       "     (1): BertLayer(\n",
       "       (attention): BertAttention(\n",
       "         (self): BertSelfAttention(\n",
       "           (query): Linear(in_features=768, out_features=768, bias=True)\n",
       "           (key): Linear(in_features=768, out_features=768, bias=True)\n",
       "           (value): Linear(in_features=768, out_features=768, bias=True)\n",
       "           (dropout): Dropout(p=0.1, inplace=False)\n",
       "         )\n",
       "         (output): BertSelfOutput(\n",
       "           (dense): Linear(in_features=768, out_features=768, bias=True)\n",
       "           (LayerNorm): LayerNorm((768,), eps=1e-12, elementwise_affine=True)\n",
       "           (dropout): Dropout(p=0.1, inplace=False)\n",
       "         )\n",
       "       )\n",
       "       (intermediate): BertIntermediate(\n",
       "         (dense): Linear(in_features=768, out_features=3072, bias=True)\n",
       "       )\n",
       "       (output): BertOutput(\n",
       "         (dense): Linear(in_features=3072, out_features=768, bias=True)\n",
       "         (LayerNorm): LayerNorm((768,), eps=1e-12, elementwise_affine=True)\n",
       "         (dropout): Dropout(p=0.1, inplace=False)\n",
       "       )\n",
       "     )\n",
       "     (2): BertLayer(\n",
       "       (attention): BertAttention(\n",
       "         (self): BertSelfAttention(\n",
       "           (query): Linear(in_features=768, out_features=768, bias=True)\n",
       "           (key): Linear(in_features=768, out_features=768, bias=True)\n",
       "           (value): Linear(in_features=768, out_features=768, bias=True)\n",
       "           (dropout): Dropout(p=0.1, inplace=False)\n",
       "         )\n",
       "         (output): BertSelfOutput(\n",
       "           (dense): Linear(in_features=768, out_features=768, bias=True)\n",
       "           (LayerNorm): LayerNorm((768,), eps=1e-12, elementwise_affine=True)\n",
       "           (dropout): Dropout(p=0.1, inplace=False)\n",
       "         )\n",
       "       )\n",
       "       (intermediate): BertIntermediate(\n",
       "         (dense): Linear(in_features=768, out_features=3072, bias=True)\n",
       "       )\n",
       "       (output): BertOutput(\n",
       "         (dense): Linear(in_features=3072, out_features=768, bias=True)\n",
       "         (LayerNorm): LayerNorm((768,), eps=1e-12, elementwise_affine=True)\n",
       "         (dropout): Dropout(p=0.1, inplace=False)\n",
       "       )\n",
       "     )\n",
       "     (3): BertLayer(\n",
       "       (attention): BertAttention(\n",
       "         (self): BertSelfAttention(\n",
       "           (query): Linear(in_features=768, out_features=768, bias=True)\n",
       "           (key): Linear(in_features=768, out_features=768, bias=True)\n",
       "           (value): Linear(in_features=768, out_features=768, bias=True)\n",
       "           (dropout): Dropout(p=0.1, inplace=False)\n",
       "         )\n",
       "         (output): BertSelfOutput(\n",
       "           (dense): Linear(in_features=768, out_features=768, bias=True)\n",
       "           (LayerNorm): LayerNorm((768,), eps=1e-12, elementwise_affine=True)\n",
       "           (dropout): Dropout(p=0.1, inplace=False)\n",
       "         )\n",
       "       )\n",
       "       (intermediate): BertIntermediate(\n",
       "         (dense): Linear(in_features=768, out_features=3072, bias=True)\n",
       "       )\n",
       "       (output): BertOutput(\n",
       "         (dense): Linear(in_features=3072, out_features=768, bias=True)\n",
       "         (LayerNorm): LayerNorm((768,), eps=1e-12, elementwise_affine=True)\n",
       "         (dropout): Dropout(p=0.1, inplace=False)\n",
       "       )\n",
       "     )\n",
       "     (4): BertLayer(\n",
       "       (attention): BertAttention(\n",
       "         (self): BertSelfAttention(\n",
       "           (query): Linear(in_features=768, out_features=768, bias=True)\n",
       "           (key): Linear(in_features=768, out_features=768, bias=True)\n",
       "           (value): Linear(in_features=768, out_features=768, bias=True)\n",
       "           (dropout): Dropout(p=0.1, inplace=False)\n",
       "         )\n",
       "         (output): BertSelfOutput(\n",
       "           (dense): Linear(in_features=768, out_features=768, bias=True)\n",
       "           (LayerNorm): LayerNorm((768,), eps=1e-12, elementwise_affine=True)\n",
       "           (dropout): Dropout(p=0.1, inplace=False)\n",
       "         )\n",
       "       )\n",
       "       (intermediate): BertIntermediate(\n",
       "         (dense): Linear(in_features=768, out_features=3072, bias=True)\n",
       "       )\n",
       "       (output): BertOutput(\n",
       "         (dense): Linear(in_features=3072, out_features=768, bias=True)\n",
       "         (LayerNorm): LayerNorm((768,), eps=1e-12, elementwise_affine=True)\n",
       "         (dropout): Dropout(p=0.1, inplace=False)\n",
       "       )\n",
       "     )\n",
       "     (5): BertLayer(\n",
       "       (attention): BertAttention(\n",
       "         (self): BertSelfAttention(\n",
       "           (query): Linear(in_features=768, out_features=768, bias=True)\n",
       "           (key): Linear(in_features=768, out_features=768, bias=True)\n",
       "           (value): Linear(in_features=768, out_features=768, bias=True)\n",
       "           (dropout): Dropout(p=0.1, inplace=False)\n",
       "         )\n",
       "         (output): BertSelfOutput(\n",
       "           (dense): Linear(in_features=768, out_features=768, bias=True)\n",
       "           (LayerNorm): LayerNorm((768,), eps=1e-12, elementwise_affine=True)\n",
       "           (dropout): Dropout(p=0.1, inplace=False)\n",
       "         )\n",
       "       )\n",
       "       (intermediate): BertIntermediate(\n",
       "         (dense): Linear(in_features=768, out_features=3072, bias=True)\n",
       "       )\n",
       "       (output): BertOutput(\n",
       "         (dense): Linear(in_features=3072, out_features=768, bias=True)\n",
       "         (LayerNorm): LayerNorm((768,), eps=1e-12, elementwise_affine=True)\n",
       "         (dropout): Dropout(p=0.1, inplace=False)\n",
       "       )\n",
       "     )\n",
       "     (6): BertLayer(\n",
       "       (attention): BertAttention(\n",
       "         (self): BertSelfAttention(\n",
       "           (query): Linear(in_features=768, out_features=768, bias=True)\n",
       "           (key): Linear(in_features=768, out_features=768, bias=True)\n",
       "           (value): Linear(in_features=768, out_features=768, bias=True)\n",
       "           (dropout): Dropout(p=0.1, inplace=False)\n",
       "         )\n",
       "         (output): BertSelfOutput(\n",
       "           (dense): Linear(in_features=768, out_features=768, bias=True)\n",
       "           (LayerNorm): LayerNorm((768,), eps=1e-12, elementwise_affine=True)\n",
       "           (dropout): Dropout(p=0.1, inplace=False)\n",
       "         )\n",
       "       )\n",
       "       (intermediate): BertIntermediate(\n",
       "         (dense): Linear(in_features=768, out_features=3072, bias=True)\n",
       "       )\n",
       "       (output): BertOutput(\n",
       "         (dense): Linear(in_features=3072, out_features=768, bias=True)\n",
       "         (LayerNorm): LayerNorm((768,), eps=1e-12, elementwise_affine=True)\n",
       "         (dropout): Dropout(p=0.1, inplace=False)\n",
       "       )\n",
       "     )\n",
       "     (7): BertLayer(\n",
       "       (attention): BertAttention(\n",
       "         (self): BertSelfAttention(\n",
       "           (query): Linear(in_features=768, out_features=768, bias=True)\n",
       "           (key): Linear(in_features=768, out_features=768, bias=True)\n",
       "           (value): Linear(in_features=768, out_features=768, bias=True)\n",
       "           (dropout): Dropout(p=0.1, inplace=False)\n",
       "         )\n",
       "         (output): BertSelfOutput(\n",
       "           (dense): Linear(in_features=768, out_features=768, bias=True)\n",
       "           (LayerNorm): LayerNorm((768,), eps=1e-12, elementwise_affine=True)\n",
       "           (dropout): Dropout(p=0.1, inplace=False)\n",
       "         )\n",
       "       )\n",
       "       (intermediate): BertIntermediate(\n",
       "         (dense): Linear(in_features=768, out_features=3072, bias=True)\n",
       "       )\n",
       "       (output): BertOutput(\n",
       "         (dense): Linear(in_features=3072, out_features=768, bias=True)\n",
       "         (LayerNorm): LayerNorm((768,), eps=1e-12, elementwise_affine=True)\n",
       "         (dropout): Dropout(p=0.1, inplace=False)\n",
       "       )\n",
       "     )\n",
       "     (8): BertLayer(\n",
       "       (attention): BertAttention(\n",
       "         (self): BertSelfAttention(\n",
       "           (query): Linear(in_features=768, out_features=768, bias=True)\n",
       "           (key): Linear(in_features=768, out_features=768, bias=True)\n",
       "           (value): Linear(in_features=768, out_features=768, bias=True)\n",
       "           (dropout): Dropout(p=0.1, inplace=False)\n",
       "         )\n",
       "         (output): BertSelfOutput(\n",
       "           (dense): Linear(in_features=768, out_features=768, bias=True)\n",
       "           (LayerNorm): LayerNorm((768,), eps=1e-12, elementwise_affine=True)\n",
       "           (dropout): Dropout(p=0.1, inplace=False)\n",
       "         )\n",
       "       )\n",
       "       (intermediate): BertIntermediate(\n",
       "         (dense): Linear(in_features=768, out_features=3072, bias=True)\n",
       "       )\n",
       "       (output): BertOutput(\n",
       "         (dense): Linear(in_features=3072, out_features=768, bias=True)\n",
       "         (LayerNorm): LayerNorm((768,), eps=1e-12, elementwise_affine=True)\n",
       "         (dropout): Dropout(p=0.1, inplace=False)\n",
       "       )\n",
       "     )\n",
       "     (9): BertLayer(\n",
       "       (attention): BertAttention(\n",
       "         (self): BertSelfAttention(\n",
       "           (query): Linear(in_features=768, out_features=768, bias=True)\n",
       "           (key): Linear(in_features=768, out_features=768, bias=True)\n",
       "           (value): Linear(in_features=768, out_features=768, bias=True)\n",
       "           (dropout): Dropout(p=0.1, inplace=False)\n",
       "         )\n",
       "         (output): BertSelfOutput(\n",
       "           (dense): Linear(in_features=768, out_features=768, bias=True)\n",
       "           (LayerNorm): LayerNorm((768,), eps=1e-12, elementwise_affine=True)\n",
       "           (dropout): Dropout(p=0.1, inplace=False)\n",
       "         )\n",
       "       )\n",
       "       (intermediate): BertIntermediate(\n",
       "         (dense): Linear(in_features=768, out_features=3072, bias=True)\n",
       "       )\n",
       "       (output): BertOutput(\n",
       "         (dense): Linear(in_features=3072, out_features=768, bias=True)\n",
       "         (LayerNorm): LayerNorm((768,), eps=1e-12, elementwise_affine=True)\n",
       "         (dropout): Dropout(p=0.1, inplace=False)\n",
       "       )\n",
       "     )\n",
       "     (10): BertLayer(\n",
       "       (attention): BertAttention(\n",
       "         (self): BertSelfAttention(\n",
       "           (query): Linear(in_features=768, out_features=768, bias=True)\n",
       "           (key): Linear(in_features=768, out_features=768, bias=True)\n",
       "           (value): Linear(in_features=768, out_features=768, bias=True)\n",
       "           (dropout): Dropout(p=0.1, inplace=False)\n",
       "         )\n",
       "         (output): BertSelfOutput(\n",
       "           (dense): Linear(in_features=768, out_features=768, bias=True)\n",
       "           (LayerNorm): LayerNorm((768,), eps=1e-12, elementwise_affine=True)\n",
       "           (dropout): Dropout(p=0.1, inplace=False)\n",
       "         )\n",
       "       )\n",
       "       (intermediate): BertIntermediate(\n",
       "         (dense): Linear(in_features=768, out_features=3072, bias=True)\n",
       "       )\n",
       "       (output): BertOutput(\n",
       "         (dense): Linear(in_features=3072, out_features=768, bias=True)\n",
       "         (LayerNorm): LayerNorm((768,), eps=1e-12, elementwise_affine=True)\n",
       "         (dropout): Dropout(p=0.1, inplace=False)\n",
       "       )\n",
       "     )\n",
       "     (11): BertLayer(\n",
       "       (attention): BertAttention(\n",
       "         (self): BertSelfAttention(\n",
       "           (query): Linear(in_features=768, out_features=768, bias=True)\n",
       "           (key): Linear(in_features=768, out_features=768, bias=True)\n",
       "           (value): Linear(in_features=768, out_features=768, bias=True)\n",
       "           (dropout): Dropout(p=0.1, inplace=False)\n",
       "         )\n",
       "         (output): BertSelfOutput(\n",
       "           (dense): Linear(in_features=768, out_features=768, bias=True)\n",
       "           (LayerNorm): LayerNorm((768,), eps=1e-12, elementwise_affine=True)\n",
       "           (dropout): Dropout(p=0.1, inplace=False)\n",
       "         )\n",
       "       )\n",
       "       (intermediate): BertIntermediate(\n",
       "         (dense): Linear(in_features=768, out_features=3072, bias=True)\n",
       "       )\n",
       "       (output): BertOutput(\n",
       "         (dense): Linear(in_features=3072, out_features=768, bias=True)\n",
       "         (LayerNorm): LayerNorm((768,), eps=1e-12, elementwise_affine=True)\n",
       "         (dropout): Dropout(p=0.1, inplace=False)\n",
       "       )\n",
       "     )\n",
       "   )\n",
       " )]"
      ]
     },
     "execution_count": 12,
     "metadata": {},
     "output_type": "execute_result"
    }
   ],
   "source": [
    "list(vb[\"model\"].model.bert.children())[:-1]"
   ]
  },
  {
   "cell_type": "code",
   "execution_count": null,
   "metadata": {},
   "outputs": [],
   "source": []
  }
 ],
 "metadata": {
  "kernelspec": {
   "display_name": "Python 3",
   "language": "python",
   "name": "python3"
  },
  "language_info": {
   "codemirror_mode": {
    "name": "ipython",
    "version": 3
   },
   "file_extension": ".py",
   "mimetype": "text/x-python",
   "name": "python",
   "nbconvert_exporter": "python",
   "pygments_lexer": "ipython3",
   "version": "3.7.6"
  },
  "toc": {
   "base_numbering": 1,
   "nav_menu": {},
   "number_sections": true,
   "sideBar": true,
   "skip_h1_title": false,
   "title_cell": "Table of Contents",
   "title_sidebar": "Contents",
   "toc_cell": false,
   "toc_position": {},
   "toc_section_display": true,
   "toc_window_display": false
  }
 },
 "nbformat": 4,
 "nbformat_minor": 4
}
